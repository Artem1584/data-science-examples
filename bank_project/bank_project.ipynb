{
 "cells": [
  {
   "cell_type": "markdown",
   "metadata": {},
   "source": [
    "# Исследование надёжности заёмщиков\n",
    "\n",
    "Заказчик — кредитный отдел банка. Нужно разобраться, влияет ли семейное положение и количество детей клиента на факт погашения кредита в срок. Входные данные от банка — статистика о платёжеспособности клиентов.\n",
    "\n",
    "Результаты исследования будут учтены при построении модели **кредитного скоринга** — специальной системы, которая оценивает способность потенциального заёмщика вернуть кредит банку."
   ]
  },
  {
   "cell_type": "markdown",
   "metadata": {},
   "source": [
    "## Шаг 1. Откройте файл с данными и изучите общую информацию"
   ]
  },
  {
   "cell_type": "code",
   "execution_count": null,
   "metadata": {},
   "outputs": [],
   "source": [
    "import pandas as pd\n",
    "from pymystem3 import Mystem"
   ]
  },
  {
   "cell_type": "code",
   "execution_count": 1,
   "metadata": {},
   "outputs": [
    {
     "name": "stdout",
     "output_type": "stream",
     "text": [
      "<class 'pandas.core.frame.DataFrame'>\n",
      "RangeIndex: 21525 entries, 0 to 21524\n",
      "Data columns (total 12 columns):\n",
      " #   Column            Non-Null Count  Dtype  \n",
      "---  ------            --------------  -----  \n",
      " 0   children          21525 non-null  int64  \n",
      " 1   days_employed     19351 non-null  float64\n",
      " 2   dob_years         21525 non-null  int64  \n",
      " 3   education         21525 non-null  object \n",
      " 4   education_id      21525 non-null  int64  \n",
      " 5   family_status     21525 non-null  object \n",
      " 6   family_status_id  21525 non-null  int64  \n",
      " 7   gender            21525 non-null  object \n",
      " 8   income_type       21525 non-null  object \n",
      " 9   debt              21525 non-null  int64  \n",
      " 10  total_income      19351 non-null  float64\n",
      " 11  purpose           21525 non-null  object \n",
      "dtypes: float64(2), int64(5), object(5)\n",
      "memory usage: 2.0+ MB\n"
     ]
    }
   ],
   "source": [
    "data = pd.read_csv('/datasets/data.csv')\n",
    "data.info()"
   ]
  },
  {
   "cell_type": "code",
   "execution_count": 2,
   "metadata": {
    "scrolled": true
   },
   "outputs": [
    {
     "data": {
      "text/html": [
       "<div>\n",
       "<style scoped>\n",
       "    .dataframe tbody tr th:only-of-type {\n",
       "        vertical-align: middle;\n",
       "    }\n",
       "\n",
       "    .dataframe tbody tr th {\n",
       "        vertical-align: top;\n",
       "    }\n",
       "\n",
       "    .dataframe thead th {\n",
       "        text-align: right;\n",
       "    }\n",
       "</style>\n",
       "<table border=\"1\" class=\"dataframe\">\n",
       "  <thead>\n",
       "    <tr style=\"text-align: right;\">\n",
       "      <th></th>\n",
       "      <th>children</th>\n",
       "      <th>days_employed</th>\n",
       "      <th>dob_years</th>\n",
       "      <th>education</th>\n",
       "      <th>education_id</th>\n",
       "      <th>family_status</th>\n",
       "      <th>family_status_id</th>\n",
       "      <th>gender</th>\n",
       "      <th>income_type</th>\n",
       "      <th>debt</th>\n",
       "      <th>total_income</th>\n",
       "      <th>purpose</th>\n",
       "    </tr>\n",
       "  </thead>\n",
       "  <tbody>\n",
       "    <tr>\n",
       "      <th>0</th>\n",
       "      <td>1</td>\n",
       "      <td>-8437.673028</td>\n",
       "      <td>42</td>\n",
       "      <td>высшее</td>\n",
       "      <td>0</td>\n",
       "      <td>женат / замужем</td>\n",
       "      <td>0</td>\n",
       "      <td>F</td>\n",
       "      <td>сотрудник</td>\n",
       "      <td>0</td>\n",
       "      <td>253875.639453</td>\n",
       "      <td>покупка жилья</td>\n",
       "    </tr>\n",
       "    <tr>\n",
       "      <th>1</th>\n",
       "      <td>1</td>\n",
       "      <td>-4024.803754</td>\n",
       "      <td>36</td>\n",
       "      <td>среднее</td>\n",
       "      <td>1</td>\n",
       "      <td>женат / замужем</td>\n",
       "      <td>0</td>\n",
       "      <td>F</td>\n",
       "      <td>сотрудник</td>\n",
       "      <td>0</td>\n",
       "      <td>112080.014102</td>\n",
       "      <td>приобретение автомобиля</td>\n",
       "    </tr>\n",
       "    <tr>\n",
       "      <th>2</th>\n",
       "      <td>0</td>\n",
       "      <td>-5623.422610</td>\n",
       "      <td>33</td>\n",
       "      <td>Среднее</td>\n",
       "      <td>1</td>\n",
       "      <td>женат / замужем</td>\n",
       "      <td>0</td>\n",
       "      <td>M</td>\n",
       "      <td>сотрудник</td>\n",
       "      <td>0</td>\n",
       "      <td>145885.952297</td>\n",
       "      <td>покупка жилья</td>\n",
       "    </tr>\n",
       "    <tr>\n",
       "      <th>3</th>\n",
       "      <td>3</td>\n",
       "      <td>-4124.747207</td>\n",
       "      <td>32</td>\n",
       "      <td>среднее</td>\n",
       "      <td>1</td>\n",
       "      <td>женат / замужем</td>\n",
       "      <td>0</td>\n",
       "      <td>M</td>\n",
       "      <td>сотрудник</td>\n",
       "      <td>0</td>\n",
       "      <td>267628.550329</td>\n",
       "      <td>дополнительное образование</td>\n",
       "    </tr>\n",
       "    <tr>\n",
       "      <th>4</th>\n",
       "      <td>0</td>\n",
       "      <td>340266.072047</td>\n",
       "      <td>53</td>\n",
       "      <td>среднее</td>\n",
       "      <td>1</td>\n",
       "      <td>гражданский брак</td>\n",
       "      <td>1</td>\n",
       "      <td>F</td>\n",
       "      <td>пенсионер</td>\n",
       "      <td>0</td>\n",
       "      <td>158616.077870</td>\n",
       "      <td>сыграть свадьбу</td>\n",
       "    </tr>\n",
       "    <tr>\n",
       "      <th>5</th>\n",
       "      <td>0</td>\n",
       "      <td>-926.185831</td>\n",
       "      <td>27</td>\n",
       "      <td>высшее</td>\n",
       "      <td>0</td>\n",
       "      <td>гражданский брак</td>\n",
       "      <td>1</td>\n",
       "      <td>M</td>\n",
       "      <td>компаньон</td>\n",
       "      <td>0</td>\n",
       "      <td>255763.565419</td>\n",
       "      <td>покупка жилья</td>\n",
       "    </tr>\n",
       "    <tr>\n",
       "      <th>6</th>\n",
       "      <td>0</td>\n",
       "      <td>-2879.202052</td>\n",
       "      <td>43</td>\n",
       "      <td>высшее</td>\n",
       "      <td>0</td>\n",
       "      <td>женат / замужем</td>\n",
       "      <td>0</td>\n",
       "      <td>F</td>\n",
       "      <td>компаньон</td>\n",
       "      <td>0</td>\n",
       "      <td>240525.971920</td>\n",
       "      <td>операции с жильем</td>\n",
       "    </tr>\n",
       "    <tr>\n",
       "      <th>7</th>\n",
       "      <td>0</td>\n",
       "      <td>-152.779569</td>\n",
       "      <td>50</td>\n",
       "      <td>СРЕДНЕЕ</td>\n",
       "      <td>1</td>\n",
       "      <td>женат / замужем</td>\n",
       "      <td>0</td>\n",
       "      <td>M</td>\n",
       "      <td>сотрудник</td>\n",
       "      <td>0</td>\n",
       "      <td>135823.934197</td>\n",
       "      <td>образование</td>\n",
       "    </tr>\n",
       "    <tr>\n",
       "      <th>8</th>\n",
       "      <td>2</td>\n",
       "      <td>-6929.865299</td>\n",
       "      <td>35</td>\n",
       "      <td>ВЫСШЕЕ</td>\n",
       "      <td>0</td>\n",
       "      <td>гражданский брак</td>\n",
       "      <td>1</td>\n",
       "      <td>F</td>\n",
       "      <td>сотрудник</td>\n",
       "      <td>0</td>\n",
       "      <td>95856.832424</td>\n",
       "      <td>на проведение свадьбы</td>\n",
       "    </tr>\n",
       "    <tr>\n",
       "      <th>9</th>\n",
       "      <td>0</td>\n",
       "      <td>-2188.756445</td>\n",
       "      <td>41</td>\n",
       "      <td>среднее</td>\n",
       "      <td>1</td>\n",
       "      <td>женат / замужем</td>\n",
       "      <td>0</td>\n",
       "      <td>M</td>\n",
       "      <td>сотрудник</td>\n",
       "      <td>0</td>\n",
       "      <td>144425.938277</td>\n",
       "      <td>покупка жилья для семьи</td>\n",
       "    </tr>\n",
       "  </tbody>\n",
       "</table>\n",
       "</div>"
      ],
      "text/plain": [
       "   children  days_employed  dob_years education  education_id  \\\n",
       "0         1   -8437.673028         42    высшее             0   \n",
       "1         1   -4024.803754         36   среднее             1   \n",
       "2         0   -5623.422610         33   Среднее             1   \n",
       "3         3   -4124.747207         32   среднее             1   \n",
       "4         0  340266.072047         53   среднее             1   \n",
       "5         0    -926.185831         27    высшее             0   \n",
       "6         0   -2879.202052         43    высшее             0   \n",
       "7         0    -152.779569         50   СРЕДНЕЕ             1   \n",
       "8         2   -6929.865299         35    ВЫСШЕЕ             0   \n",
       "9         0   -2188.756445         41   среднее             1   \n",
       "\n",
       "      family_status  family_status_id gender income_type  debt   total_income  \\\n",
       "0   женат / замужем                 0      F   сотрудник     0  253875.639453   \n",
       "1   женат / замужем                 0      F   сотрудник     0  112080.014102   \n",
       "2   женат / замужем                 0      M   сотрудник     0  145885.952297   \n",
       "3   женат / замужем                 0      M   сотрудник     0  267628.550329   \n",
       "4  гражданский брак                 1      F   пенсионер     0  158616.077870   \n",
       "5  гражданский брак                 1      M   компаньон     0  255763.565419   \n",
       "6   женат / замужем                 0      F   компаньон     0  240525.971920   \n",
       "7   женат / замужем                 0      M   сотрудник     0  135823.934197   \n",
       "8  гражданский брак                 1      F   сотрудник     0   95856.832424   \n",
       "9   женат / замужем                 0      M   сотрудник     0  144425.938277   \n",
       "\n",
       "                      purpose  \n",
       "0               покупка жилья  \n",
       "1     приобретение автомобиля  \n",
       "2               покупка жилья  \n",
       "3  дополнительное образование  \n",
       "4             сыграть свадьбу  \n",
       "5               покупка жилья  \n",
       "6           операции с жильем  \n",
       "7                 образование  \n",
       "8       на проведение свадьбы  \n",
       "9     покупка жилья для семьи  "
      ]
     },
     "execution_count": 2,
     "metadata": {},
     "output_type": "execute_result"
    }
   ],
   "source": [
    "data.head(10)"
   ]
  },
  {
   "cell_type": "markdown",
   "metadata": {},
   "source": [
    "**Вывод**"
   ]
  },
  {
   "cell_type": "markdown",
   "metadata": {},
   "source": [
    "Название столбцов записаны в правильном виде. В столбцах 'days_employed' и 'total_income' одинаковое количество пропусков. В столбце 'days_employed' опыт в днях записан непонятным образом, изменять его не буду, для будущих вычислений он не потребуется.   В столбце 'education' записи разного регистра, изменять тоже не буду, думаю тоже не понадобятся"
   ]
  },
  {
   "cell_type": "code",
   "execution_count": 3,
   "metadata": {},
   "outputs": [
    {
     "data": {
      "text/html": [
       "<div>\n",
       "<style scoped>\n",
       "    .dataframe tbody tr th:only-of-type {\n",
       "        vertical-align: middle;\n",
       "    }\n",
       "\n",
       "    .dataframe tbody tr th {\n",
       "        vertical-align: top;\n",
       "    }\n",
       "\n",
       "    .dataframe thead th {\n",
       "        text-align: right;\n",
       "    }\n",
       "</style>\n",
       "<table border=\"1\" class=\"dataframe\">\n",
       "  <thead>\n",
       "    <tr style=\"text-align: right;\">\n",
       "      <th></th>\n",
       "      <th>children</th>\n",
       "      <th>days_employed</th>\n",
       "      <th>dob_years</th>\n",
       "      <th>education_id</th>\n",
       "      <th>family_status_id</th>\n",
       "      <th>debt</th>\n",
       "      <th>total_income</th>\n",
       "    </tr>\n",
       "  </thead>\n",
       "  <tbody>\n",
       "    <tr>\n",
       "      <th>count</th>\n",
       "      <td>21525.000000</td>\n",
       "      <td>19351.000000</td>\n",
       "      <td>21525.000000</td>\n",
       "      <td>21525.000000</td>\n",
       "      <td>21525.000000</td>\n",
       "      <td>21525.000000</td>\n",
       "      <td>1.935100e+04</td>\n",
       "    </tr>\n",
       "    <tr>\n",
       "      <th>mean</th>\n",
       "      <td>0.538908</td>\n",
       "      <td>63046.497661</td>\n",
       "      <td>43.293380</td>\n",
       "      <td>0.817236</td>\n",
       "      <td>0.972544</td>\n",
       "      <td>0.080883</td>\n",
       "      <td>1.674223e+05</td>\n",
       "    </tr>\n",
       "    <tr>\n",
       "      <th>std</th>\n",
       "      <td>1.381587</td>\n",
       "      <td>140827.311974</td>\n",
       "      <td>12.574584</td>\n",
       "      <td>0.548138</td>\n",
       "      <td>1.420324</td>\n",
       "      <td>0.272661</td>\n",
       "      <td>1.029716e+05</td>\n",
       "    </tr>\n",
       "    <tr>\n",
       "      <th>min</th>\n",
       "      <td>-1.000000</td>\n",
       "      <td>-18388.949901</td>\n",
       "      <td>0.000000</td>\n",
       "      <td>0.000000</td>\n",
       "      <td>0.000000</td>\n",
       "      <td>0.000000</td>\n",
       "      <td>2.066726e+04</td>\n",
       "    </tr>\n",
       "    <tr>\n",
       "      <th>25%</th>\n",
       "      <td>0.000000</td>\n",
       "      <td>-2747.423625</td>\n",
       "      <td>33.000000</td>\n",
       "      <td>1.000000</td>\n",
       "      <td>0.000000</td>\n",
       "      <td>0.000000</td>\n",
       "      <td>1.030532e+05</td>\n",
       "    </tr>\n",
       "    <tr>\n",
       "      <th>50%</th>\n",
       "      <td>0.000000</td>\n",
       "      <td>-1203.369529</td>\n",
       "      <td>42.000000</td>\n",
       "      <td>1.000000</td>\n",
       "      <td>0.000000</td>\n",
       "      <td>0.000000</td>\n",
       "      <td>1.450179e+05</td>\n",
       "    </tr>\n",
       "    <tr>\n",
       "      <th>75%</th>\n",
       "      <td>1.000000</td>\n",
       "      <td>-291.095954</td>\n",
       "      <td>53.000000</td>\n",
       "      <td>1.000000</td>\n",
       "      <td>1.000000</td>\n",
       "      <td>0.000000</td>\n",
       "      <td>2.034351e+05</td>\n",
       "    </tr>\n",
       "    <tr>\n",
       "      <th>max</th>\n",
       "      <td>20.000000</td>\n",
       "      <td>401755.400475</td>\n",
       "      <td>75.000000</td>\n",
       "      <td>4.000000</td>\n",
       "      <td>4.000000</td>\n",
       "      <td>1.000000</td>\n",
       "      <td>2.265604e+06</td>\n",
       "    </tr>\n",
       "  </tbody>\n",
       "</table>\n",
       "</div>"
      ],
      "text/plain": [
       "           children  days_employed     dob_years  education_id  \\\n",
       "count  21525.000000   19351.000000  21525.000000  21525.000000   \n",
       "mean       0.538908   63046.497661     43.293380      0.817236   \n",
       "std        1.381587  140827.311974     12.574584      0.548138   \n",
       "min       -1.000000  -18388.949901      0.000000      0.000000   \n",
       "25%        0.000000   -2747.423625     33.000000      1.000000   \n",
       "50%        0.000000   -1203.369529     42.000000      1.000000   \n",
       "75%        1.000000    -291.095954     53.000000      1.000000   \n",
       "max       20.000000  401755.400475     75.000000      4.000000   \n",
       "\n",
       "       family_status_id          debt  total_income  \n",
       "count      21525.000000  21525.000000  1.935100e+04  \n",
       "mean           0.972544      0.080883  1.674223e+05  \n",
       "std            1.420324      0.272661  1.029716e+05  \n",
       "min            0.000000      0.000000  2.066726e+04  \n",
       "25%            0.000000      0.000000  1.030532e+05  \n",
       "50%            0.000000      0.000000  1.450179e+05  \n",
       "75%            1.000000      0.000000  2.034351e+05  \n",
       "max            4.000000      1.000000  2.265604e+06  "
      ]
     },
     "execution_count": 3,
     "metadata": {},
     "output_type": "execute_result"
    }
   ],
   "source": [
    "data.describe()"
   ]
  },
  {
   "cell_type": "markdown",
   "metadata": {},
   "source": [
    "## Шаг 2. Предобработка данных"
   ]
  },
  {
   "cell_type": "markdown",
   "metadata": {},
   "source": [
    "### Обработка пропусков"
   ]
  },
  {
   "cell_type": "code",
   "execution_count": 4,
   "metadata": {},
   "outputs": [
    {
     "data": {
      "text/plain": [
       "income_type\n",
       "безработный        131339.751676\n",
       "в декрете           53829.130729\n",
       "госслужащий        150447.935283\n",
       "компаньон          172357.950966\n",
       "пенсионер          118514.486412\n",
       "предприниматель    499163.144947\n",
       "сотрудник          142594.396847\n",
       "студент             98201.625314\n",
       "Name: total_income, dtype: float64"
      ]
     },
     "execution_count": 4,
     "metadata": {},
     "output_type": "execute_result"
    }
   ],
   "source": [
    "#Заполнил пропуски согласно медианной зарплаты для разных групп занятости\n",
    "data_group = data.groupby('income_type')['total_income'].median()\n",
    "data_group\n"
   ]
  },
  {
   "cell_type": "code",
   "execution_count": 5,
   "metadata": {},
   "outputs": [],
   "source": [
    "data.loc[(data['income_type'] == 'безработный') & (data['total_income'].isna()),'total_income'] = 131339.751676\n",
    "data.loc[(data['income_type'] == 'в декрете') & (data['total_income'].isna()),'total_income'] = 53829.130729\n",
    "data.loc[(data['income_type'] == 'госслужащий') & (data['total_income'].isna()),'total_income'] = 150447.935283\n",
    "data.loc[(data['income_type'] == 'компаньон') & (data['total_income'].isna()),'total_income'] = 172357.950966\n",
    "data.loc[(data['income_type'] == 'пенсионер') & (data['total_income'].isna()),'total_income'] = 118514.486412\n",
    "data.loc[(data['income_type'] == 'предприниматель') & (data['total_income'].isna()),'total_income'] = 499163.144947\n",
    "data.loc[(data['income_type'] == 'сотрудник') & (data['total_income'].isna()),'total_income'] = 142594.396847\n",
    "data.loc[(data['income_type'] == 'студент') & (data['total_income'].isna()),'total_income'] = 98201.625314"
   ]
  },
  {
   "cell_type": "code",
   "execution_count": 6,
   "metadata": {},
   "outputs": [
    {
     "data": {
      "text/plain": [
       "0"
      ]
     },
     "execution_count": 6,
     "metadata": {},
     "output_type": "execute_result"
    }
   ],
   "source": [
    "data['total_income'].isna().sum()"
   ]
  },
  {
   "cell_type": "code",
   "execution_count": 8,
   "metadata": {},
   "outputs": [
    {
     "data": {
      "text/plain": [
       " 0     14149\n",
       " 1      4818\n",
       " 2      2055\n",
       " 3       330\n",
       " 20       76\n",
       "-1        47\n",
       " 4        41\n",
       " 5         9\n",
       "Name: children, dtype: int64"
      ]
     },
     "execution_count": 8,
     "metadata": {},
     "output_type": "execute_result"
    }
   ],
   "source": [
    "data['children'].value_counts()#не понятны данные по -1 и 20 детей. "
   ]
  },
  {
   "cell_type": "code",
   "execution_count": 9,
   "metadata": {},
   "outputs": [
    {
     "data": {
      "text/plain": [
       "женат / замужем          12380\n",
       "гражданский брак          4177\n",
       "Не женат / не замужем     2813\n",
       "в разводе                 1195\n",
       "вдовец / вдова             960\n",
       "Name: family_status, dtype: int64"
      ]
     },
     "execution_count": 9,
     "metadata": {},
     "output_type": "execute_result"
    }
   ],
   "source": [
    "data['family_status'].value_counts() #все в норме"
   ]
  },
  {
   "cell_type": "code",
   "execution_count": 10,
   "metadata": {},
   "outputs": [
    {
     "data": {
      "text/plain": [
       "0    19784\n",
       "1     1741\n",
       "Name: debt, dtype: int64"
      ]
     },
     "execution_count": 10,
     "metadata": {},
     "output_type": "execute_result"
    }
   ],
   "source": [
    "data['debt'].value_counts() #все в норме"
   ]
  },
  {
   "cell_type": "code",
   "execution_count": 11,
   "metadata": {},
   "outputs": [
    {
     "data": {
      "text/plain": [
       "свадьба                                   797\n",
       "на проведение свадьбы                     777\n",
       "сыграть свадьбу                           774\n",
       "операции с недвижимостью                  676\n",
       "покупка коммерческой недвижимости         664\n",
       "операции с жильем                         653\n",
       "покупка жилья для сдачи                   653\n",
       "операции с коммерческой недвижимостью     651\n",
       "жилье                                     647\n",
       "покупка жилья                             647\n",
       "покупка жилья для семьи                   641\n",
       "строительство собственной недвижимости    635\n",
       "недвижимость                              634\n",
       "операции со своей недвижимостью           630\n",
       "строительство жилой недвижимости          626\n",
       "покупка недвижимости                      624\n",
       "строительство недвижимости                620\n",
       "покупка своего жилья                      620\n",
       "ремонт жилью                              612\n",
       "покупка жилой недвижимости                607\n",
       "на покупку своего автомобиля              505\n",
       "заняться высшим образованием              496\n",
       "автомобиль                                495\n",
       "сделка с подержанным автомобилем          489\n",
       "свой автомобиль                           480\n",
       "на покупку подержанного автомобиля        479\n",
       "автомобили                                478\n",
       "на покупку автомобиля                     472\n",
       "приобретение автомобиля                   462\n",
       "дополнительное образование                462\n",
       "сделка с автомобилем                      455\n",
       "высшее образование                        453\n",
       "образование                               447\n",
       "получение дополнительного образования     447\n",
       "получение образования                     443\n",
       "профильное образование                    436\n",
       "получение высшего образования             426\n",
       "заняться образованием                     412\n",
       "Name: purpose, dtype: int64"
      ]
     },
     "execution_count": 11,
     "metadata": {},
     "output_type": "execute_result"
    }
   ],
   "source": [
    "data['purpose'].value_counts() #все в норме"
   ]
  },
  {
   "cell_type": "markdown",
   "metadata": {},
   "source": [
    "**Вывод**"
   ]
  },
  {
   "cell_type": "markdown",
   "metadata": {},
   "source": [
    "Пропущенные значения в зарплате заменены на медиану для разных групп занятости"
   ]
  },
  {
   "cell_type": "markdown",
   "metadata": {},
   "source": [
    "### Замена типа данных"
   ]
  },
  {
   "cell_type": "code",
   "execution_count": 12,
   "metadata": {},
   "outputs": [
    {
     "data": {
      "text/plain": [
       "142594    1105\n",
       "172357     509\n",
       "118514     414\n",
       "150447     147\n",
       "144533       3\n",
       "          ... \n",
       "179138       1\n",
       "61724        1\n",
       "99269        1\n",
       "151371       1\n",
       "126820       1\n",
       "Name: total_income, Length: 18608, dtype: int64"
      ]
     },
     "execution_count": 12,
     "metadata": {},
     "output_type": "execute_result"
    }
   ],
   "source": [
    "# Данные в доходе приведу к типу int для удобства\n",
    "data['total_income'] = data['total_income'].astype('int')\n",
    "data['total_income'].value_counts()"
   ]
  },
  {
   "cell_type": "markdown",
   "metadata": {},
   "source": [
    "**Вывод**"
   ]
  },
  {
   "cell_type": "markdown",
   "metadata": {},
   "source": [
    "Изменил тип данных в доходе на int для удобства работы с ними"
   ]
  },
  {
   "cell_type": "markdown",
   "metadata": {},
   "source": [
    "### Обработка дубликатов"
   ]
  },
  {
   "cell_type": "code",
   "execution_count": 13,
   "metadata": {},
   "outputs": [],
   "source": [
    "#Привел столбец образование к нижнему регистру\n",
    "data['education'] = data['education'].str.lower()"
   ]
  },
  {
   "cell_type": "code",
   "execution_count": 14,
   "metadata": {},
   "outputs": [
    {
     "data": {
      "text/plain": [
       "71"
      ]
     },
     "execution_count": 14,
     "metadata": {},
     "output_type": "execute_result"
    }
   ],
   "source": [
    "data.duplicated().sum() "
   ]
  },
  {
   "cell_type": "code",
   "execution_count": 15,
   "metadata": {},
   "outputs": [
    {
     "data": {
      "text/html": [
       "<div>\n",
       "<style scoped>\n",
       "    .dataframe tbody tr th:only-of-type {\n",
       "        vertical-align: middle;\n",
       "    }\n",
       "\n",
       "    .dataframe tbody tr th {\n",
       "        vertical-align: top;\n",
       "    }\n",
       "\n",
       "    .dataframe thead th {\n",
       "        text-align: right;\n",
       "    }\n",
       "</style>\n",
       "<table border=\"1\" class=\"dataframe\">\n",
       "  <thead>\n",
       "    <tr style=\"text-align: right;\">\n",
       "      <th></th>\n",
       "      <th>children</th>\n",
       "      <th>days_employed</th>\n",
       "      <th>dob_years</th>\n",
       "      <th>education</th>\n",
       "      <th>education_id</th>\n",
       "      <th>family_status</th>\n",
       "      <th>family_status_id</th>\n",
       "      <th>gender</th>\n",
       "      <th>income_type</th>\n",
       "      <th>debt</th>\n",
       "      <th>total_income</th>\n",
       "      <th>purpose</th>\n",
       "    </tr>\n",
       "  </thead>\n",
       "  <tbody>\n",
       "    <tr>\n",
       "      <th>0</th>\n",
       "      <td>1</td>\n",
       "      <td>-8437.673028</td>\n",
       "      <td>42</td>\n",
       "      <td>высшее</td>\n",
       "      <td>0</td>\n",
       "      <td>женат / замужем</td>\n",
       "      <td>0</td>\n",
       "      <td>F</td>\n",
       "      <td>сотрудник</td>\n",
       "      <td>0</td>\n",
       "      <td>253875</td>\n",
       "      <td>покупка жилья</td>\n",
       "    </tr>\n",
       "    <tr>\n",
       "      <th>1</th>\n",
       "      <td>1</td>\n",
       "      <td>-4024.803754</td>\n",
       "      <td>36</td>\n",
       "      <td>среднее</td>\n",
       "      <td>1</td>\n",
       "      <td>женат / замужем</td>\n",
       "      <td>0</td>\n",
       "      <td>F</td>\n",
       "      <td>сотрудник</td>\n",
       "      <td>0</td>\n",
       "      <td>112080</td>\n",
       "      <td>приобретение автомобиля</td>\n",
       "    </tr>\n",
       "    <tr>\n",
       "      <th>2</th>\n",
       "      <td>0</td>\n",
       "      <td>-5623.422610</td>\n",
       "      <td>33</td>\n",
       "      <td>среднее</td>\n",
       "      <td>1</td>\n",
       "      <td>женат / замужем</td>\n",
       "      <td>0</td>\n",
       "      <td>M</td>\n",
       "      <td>сотрудник</td>\n",
       "      <td>0</td>\n",
       "      <td>145885</td>\n",
       "      <td>покупка жилья</td>\n",
       "    </tr>\n",
       "    <tr>\n",
       "      <th>3</th>\n",
       "      <td>3</td>\n",
       "      <td>-4124.747207</td>\n",
       "      <td>32</td>\n",
       "      <td>среднее</td>\n",
       "      <td>1</td>\n",
       "      <td>женат / замужем</td>\n",
       "      <td>0</td>\n",
       "      <td>M</td>\n",
       "      <td>сотрудник</td>\n",
       "      <td>0</td>\n",
       "      <td>267628</td>\n",
       "      <td>дополнительное образование</td>\n",
       "    </tr>\n",
       "    <tr>\n",
       "      <th>4</th>\n",
       "      <td>0</td>\n",
       "      <td>340266.072047</td>\n",
       "      <td>53</td>\n",
       "      <td>среднее</td>\n",
       "      <td>1</td>\n",
       "      <td>гражданский брак</td>\n",
       "      <td>1</td>\n",
       "      <td>F</td>\n",
       "      <td>пенсионер</td>\n",
       "      <td>0</td>\n",
       "      <td>158616</td>\n",
       "      <td>сыграть свадьбу</td>\n",
       "    </tr>\n",
       "    <tr>\n",
       "      <th>...</th>\n",
       "      <td>...</td>\n",
       "      <td>...</td>\n",
       "      <td>...</td>\n",
       "      <td>...</td>\n",
       "      <td>...</td>\n",
       "      <td>...</td>\n",
       "      <td>...</td>\n",
       "      <td>...</td>\n",
       "      <td>...</td>\n",
       "      <td>...</td>\n",
       "      <td>...</td>\n",
       "      <td>...</td>\n",
       "    </tr>\n",
       "    <tr>\n",
       "      <th>21449</th>\n",
       "      <td>1</td>\n",
       "      <td>-4529.316663</td>\n",
       "      <td>43</td>\n",
       "      <td>среднее</td>\n",
       "      <td>1</td>\n",
       "      <td>гражданский брак</td>\n",
       "      <td>1</td>\n",
       "      <td>F</td>\n",
       "      <td>компаньон</td>\n",
       "      <td>0</td>\n",
       "      <td>224791</td>\n",
       "      <td>операции с жильем</td>\n",
       "    </tr>\n",
       "    <tr>\n",
       "      <th>21450</th>\n",
       "      <td>0</td>\n",
       "      <td>343937.404131</td>\n",
       "      <td>67</td>\n",
       "      <td>среднее</td>\n",
       "      <td>1</td>\n",
       "      <td>женат / замужем</td>\n",
       "      <td>0</td>\n",
       "      <td>F</td>\n",
       "      <td>пенсионер</td>\n",
       "      <td>0</td>\n",
       "      <td>155999</td>\n",
       "      <td>сделка с автомобилем</td>\n",
       "    </tr>\n",
       "    <tr>\n",
       "      <th>21451</th>\n",
       "      <td>1</td>\n",
       "      <td>-2113.346888</td>\n",
       "      <td>38</td>\n",
       "      <td>среднее</td>\n",
       "      <td>1</td>\n",
       "      <td>гражданский брак</td>\n",
       "      <td>1</td>\n",
       "      <td>M</td>\n",
       "      <td>сотрудник</td>\n",
       "      <td>1</td>\n",
       "      <td>89672</td>\n",
       "      <td>недвижимость</td>\n",
       "    </tr>\n",
       "    <tr>\n",
       "      <th>21452</th>\n",
       "      <td>3</td>\n",
       "      <td>-3112.481705</td>\n",
       "      <td>38</td>\n",
       "      <td>среднее</td>\n",
       "      <td>1</td>\n",
       "      <td>женат / замужем</td>\n",
       "      <td>0</td>\n",
       "      <td>M</td>\n",
       "      <td>сотрудник</td>\n",
       "      <td>1</td>\n",
       "      <td>244093</td>\n",
       "      <td>на покупку своего автомобиля</td>\n",
       "    </tr>\n",
       "    <tr>\n",
       "      <th>21453</th>\n",
       "      <td>2</td>\n",
       "      <td>-1984.507589</td>\n",
       "      <td>40</td>\n",
       "      <td>среднее</td>\n",
       "      <td>1</td>\n",
       "      <td>женат / замужем</td>\n",
       "      <td>0</td>\n",
       "      <td>F</td>\n",
       "      <td>сотрудник</td>\n",
       "      <td>0</td>\n",
       "      <td>82047</td>\n",
       "      <td>на покупку автомобиля</td>\n",
       "    </tr>\n",
       "  </tbody>\n",
       "</table>\n",
       "<p>21454 rows × 12 columns</p>\n",
       "</div>"
      ],
      "text/plain": [
       "       children  days_employed  dob_years education  education_id  \\\n",
       "0             1   -8437.673028         42    высшее             0   \n",
       "1             1   -4024.803754         36   среднее             1   \n",
       "2             0   -5623.422610         33   среднее             1   \n",
       "3             3   -4124.747207         32   среднее             1   \n",
       "4             0  340266.072047         53   среднее             1   \n",
       "...         ...            ...        ...       ...           ...   \n",
       "21449         1   -4529.316663         43   среднее             1   \n",
       "21450         0  343937.404131         67   среднее             1   \n",
       "21451         1   -2113.346888         38   среднее             1   \n",
       "21452         3   -3112.481705         38   среднее             1   \n",
       "21453         2   -1984.507589         40   среднее             1   \n",
       "\n",
       "          family_status  family_status_id gender income_type  debt  \\\n",
       "0       женат / замужем                 0      F   сотрудник     0   \n",
       "1       женат / замужем                 0      F   сотрудник     0   \n",
       "2       женат / замужем                 0      M   сотрудник     0   \n",
       "3       женат / замужем                 0      M   сотрудник     0   \n",
       "4      гражданский брак                 1      F   пенсионер     0   \n",
       "...                 ...               ...    ...         ...   ...   \n",
       "21449  гражданский брак                 1      F   компаньон     0   \n",
       "21450   женат / замужем                 0      F   пенсионер     0   \n",
       "21451  гражданский брак                 1      M   сотрудник     1   \n",
       "21452   женат / замужем                 0      M   сотрудник     1   \n",
       "21453   женат / замужем                 0      F   сотрудник     0   \n",
       "\n",
       "       total_income                       purpose  \n",
       "0            253875                 покупка жилья  \n",
       "1            112080       приобретение автомобиля  \n",
       "2            145885                 покупка жилья  \n",
       "3            267628    дополнительное образование  \n",
       "4            158616               сыграть свадьбу  \n",
       "...             ...                           ...  \n",
       "21449        224791             операции с жильем  \n",
       "21450        155999          сделка с автомобилем  \n",
       "21451         89672                  недвижимость  \n",
       "21452        244093  на покупку своего автомобиля  \n",
       "21453         82047         на покупку автомобиля  \n",
       "\n",
       "[21454 rows x 12 columns]"
      ]
     },
     "execution_count": 15,
     "metadata": {},
     "output_type": "execute_result"
    }
   ],
   "source": [
    "data.drop_duplicates().reset_index(drop=True)\n"
   ]
  },
  {
   "cell_type": "markdown",
   "metadata": {},
   "source": [
    "**Вывод**"
   ]
  },
  {
   "cell_type": "markdown",
   "metadata": {},
   "source": [
    "Дубликатов меньше 1%, удаление на статистиу не должно повлиять. Удалил 71 дубликата методом drop"
   ]
  },
  {
   "cell_type": "markdown",
   "metadata": {},
   "source": [
    "### Лемматизация"
   ]
  },
  {
   "cell_type": "code",
   "execution_count": 16,
   "metadata": {},
   "outputs": [
    {
     "data": {
      "text/plain": [
       "[['покупка', ' ', 'жилье', '\\n'],\n",
       " ['приобретение', ' ', 'автомобиль', '\\n'],\n",
       " ['дополнительный', ' ', 'образование', '\\n'],\n",
       " ['сыграть', ' ', 'свадьба', '\\n'],\n",
       " ['операция', ' ', 'с', ' ', 'жилье', '\\n'],\n",
       " ['образование', '\\n'],\n",
       " ['на', ' ', 'проведение', ' ', 'свадьба', '\\n'],\n",
       " ['покупка', ' ', 'жилье', ' ', 'для', ' ', 'семья', '\\n'],\n",
       " ['покупка', ' ', 'недвижимость', '\\n'],\n",
       " ['покупка', ' ', 'коммерческий', ' ', 'недвижимость', '\\n'],\n",
       " ['покупка', ' ', 'жилой', ' ', 'недвижимость', '\\n'],\n",
       " ['строительство', ' ', 'собственный', ' ', 'недвижимость', '\\n'],\n",
       " ['недвижимость', '\\n'],\n",
       " ['строительство', ' ', 'недвижимость', '\\n'],\n",
       " ['на', ' ', 'покупка', ' ', 'подержать', ' ', 'автомобиль', '\\n'],\n",
       " ['на', ' ', 'покупка', ' ', 'свой', ' ', 'автомобиль', '\\n'],\n",
       " ['операция', ' ', 'с', ' ', 'коммерческий', ' ', 'недвижимость', '\\n'],\n",
       " ['строительство', ' ', 'жилой', ' ', 'недвижимость', '\\n'],\n",
       " ['жилье', '\\n'],\n",
       " ['операция', ' ', 'со', ' ', 'свой', ' ', 'недвижимость', '\\n'],\n",
       " ['автомобиль', '\\n'],\n",
       " ['заниматься', ' ', 'образование', '\\n'],\n",
       " ['сделка', ' ', 'с', ' ', 'подержанный', ' ', 'автомобиль', '\\n'],\n",
       " ['получение', ' ', 'образование', '\\n'],\n",
       " ['автомобиль', '\\n'],\n",
       " ['свадьба', '\\n'],\n",
       " ['получение', ' ', 'дополнительный', ' ', 'образование', '\\n'],\n",
       " ['покупка', ' ', 'свой', ' ', 'жилье', '\\n'],\n",
       " ['операция', ' ', 'с', ' ', 'недвижимость', '\\n'],\n",
       " ['получение', ' ', 'высокий', ' ', 'образование', '\\n'],\n",
       " ['свой', ' ', 'автомобиль', '\\n'],\n",
       " ['сделка', ' ', 'с', ' ', 'автомобиль', '\\n'],\n",
       " ['профильный', ' ', 'образование', '\\n'],\n",
       " ['высокий', ' ', 'образование', '\\n'],\n",
       " ['покупка', ' ', 'жилье', ' ', 'для', ' ', 'сдача', '\\n'],\n",
       " ['на', ' ', 'покупка', ' ', 'автомобиль', '\\n'],\n",
       " ['ремонт', ' ', 'жилье', '\\n'],\n",
       " ['заниматься', ' ', 'высокий', ' ', 'образование', '\\n']]"
      ]
     },
     "execution_count": 16,
     "metadata": {},
     "output_type": "execute_result"
    }
   ],
   "source": [
    "m = Mystem()\n",
    "lem = []\n",
    "for i in data['purpose'].unique():\n",
    "    lemmas =m.lemmatize(i)\n",
    "    lem.append(lemmas)\n",
    "lem"
   ]
  },
  {
   "cell_type": "markdown",
   "metadata": {},
   "source": [
    "**Вывод**"
   ]
  },
  {
   "cell_type": "markdown",
   "metadata": {},
   "source": [
    "Провел леммитизацию данных столбца \"цель получения кредита\". На этой основе буду добавлять общий столбец цели кредита."
   ]
  },
  {
   "cell_type": "markdown",
   "metadata": {},
   "source": [
    "### Категоризация данных"
   ]
  },
  {
   "cell_type": "code",
   "execution_count": 17,
   "metadata": {},
   "outputs": [
    {
     "data": {
      "text/html": [
       "<div>\n",
       "<style scoped>\n",
       "    .dataframe tbody tr th:only-of-type {\n",
       "        vertical-align: middle;\n",
       "    }\n",
       "\n",
       "    .dataframe tbody tr th {\n",
       "        vertical-align: top;\n",
       "    }\n",
       "\n",
       "    .dataframe thead th {\n",
       "        text-align: right;\n",
       "    }\n",
       "</style>\n",
       "<table border=\"1\" class=\"dataframe\">\n",
       "  <thead>\n",
       "    <tr style=\"text-align: right;\">\n",
       "      <th></th>\n",
       "      <th>children</th>\n",
       "      <th>days_employed</th>\n",
       "      <th>dob_years</th>\n",
       "      <th>education</th>\n",
       "      <th>education_id</th>\n",
       "      <th>family_status</th>\n",
       "      <th>family_status_id</th>\n",
       "      <th>gender</th>\n",
       "      <th>income_type</th>\n",
       "      <th>debt</th>\n",
       "      <th>total_income</th>\n",
       "      <th>purpose</th>\n",
       "      <th>group_purpose</th>\n",
       "    </tr>\n",
       "  </thead>\n",
       "  <tbody>\n",
       "    <tr>\n",
       "      <th>0</th>\n",
       "      <td>1</td>\n",
       "      <td>-8437.673028</td>\n",
       "      <td>42</td>\n",
       "      <td>высшее</td>\n",
       "      <td>0</td>\n",
       "      <td>женат / замужем</td>\n",
       "      <td>0</td>\n",
       "      <td>F</td>\n",
       "      <td>сотрудник</td>\n",
       "      <td>0</td>\n",
       "      <td>253875</td>\n",
       "      <td>покупка жилья</td>\n",
       "      <td>недвижимость</td>\n",
       "    </tr>\n",
       "    <tr>\n",
       "      <th>1</th>\n",
       "      <td>1</td>\n",
       "      <td>-4024.803754</td>\n",
       "      <td>36</td>\n",
       "      <td>среднее</td>\n",
       "      <td>1</td>\n",
       "      <td>женат / замужем</td>\n",
       "      <td>0</td>\n",
       "      <td>F</td>\n",
       "      <td>сотрудник</td>\n",
       "      <td>0</td>\n",
       "      <td>112080</td>\n",
       "      <td>приобретение автомобиля</td>\n",
       "      <td>автомобиль</td>\n",
       "    </tr>\n",
       "    <tr>\n",
       "      <th>2</th>\n",
       "      <td>0</td>\n",
       "      <td>-5623.422610</td>\n",
       "      <td>33</td>\n",
       "      <td>среднее</td>\n",
       "      <td>1</td>\n",
       "      <td>женат / замужем</td>\n",
       "      <td>0</td>\n",
       "      <td>M</td>\n",
       "      <td>сотрудник</td>\n",
       "      <td>0</td>\n",
       "      <td>145885</td>\n",
       "      <td>покупка жилья</td>\n",
       "      <td>недвижимость</td>\n",
       "    </tr>\n",
       "    <tr>\n",
       "      <th>3</th>\n",
       "      <td>3</td>\n",
       "      <td>-4124.747207</td>\n",
       "      <td>32</td>\n",
       "      <td>среднее</td>\n",
       "      <td>1</td>\n",
       "      <td>женат / замужем</td>\n",
       "      <td>0</td>\n",
       "      <td>M</td>\n",
       "      <td>сотрудник</td>\n",
       "      <td>0</td>\n",
       "      <td>267628</td>\n",
       "      <td>дополнительное образование</td>\n",
       "      <td>образование</td>\n",
       "    </tr>\n",
       "    <tr>\n",
       "      <th>4</th>\n",
       "      <td>0</td>\n",
       "      <td>340266.072047</td>\n",
       "      <td>53</td>\n",
       "      <td>среднее</td>\n",
       "      <td>1</td>\n",
       "      <td>гражданский брак</td>\n",
       "      <td>1</td>\n",
       "      <td>F</td>\n",
       "      <td>пенсионер</td>\n",
       "      <td>0</td>\n",
       "      <td>158616</td>\n",
       "      <td>сыграть свадьбу</td>\n",
       "      <td>свадьба</td>\n",
       "    </tr>\n",
       "  </tbody>\n",
       "</table>\n",
       "</div>"
      ],
      "text/plain": [
       "   children  days_employed  dob_years education  education_id  \\\n",
       "0         1   -8437.673028         42    высшее             0   \n",
       "1         1   -4024.803754         36   среднее             1   \n",
       "2         0   -5623.422610         33   среднее             1   \n",
       "3         3   -4124.747207         32   среднее             1   \n",
       "4         0  340266.072047         53   среднее             1   \n",
       "\n",
       "      family_status  family_status_id gender income_type  debt  total_income  \\\n",
       "0   женат / замужем                 0      F   сотрудник     0        253875   \n",
       "1   женат / замужем                 0      F   сотрудник     0        112080   \n",
       "2   женат / замужем                 0      M   сотрудник     0        145885   \n",
       "3   женат / замужем                 0      M   сотрудник     0        267628   \n",
       "4  гражданский брак                 1      F   пенсионер     0        158616   \n",
       "\n",
       "                      purpose group_purpose  \n",
       "0               покупка жилья  недвижимость  \n",
       "1     приобретение автомобиля    автомобиль  \n",
       "2               покупка жилья  недвижимость  \n",
       "3  дополнительное образование   образование  \n",
       "4             сыграть свадьбу       свадьба  "
      ]
     },
     "execution_count": 17,
     "metadata": {},
     "output_type": "execute_result"
    }
   ],
   "source": [
    "# добавлю столбец с обобщенными целями кредита\n",
    "m = Mystem()\n",
    "def group_purpose(purpose):\n",
    "    purpose = m.lemmatize(purpose) \n",
    "    if 'свадьба' in purpose:\n",
    "        return 'свадьба'\n",
    "    elif 'недвижимость' in purpose or 'жилье' in purpose:\n",
    "        return 'недвижимость'\n",
    "    elif 'автомобиль' in purpose:\n",
    "        return 'автомобиль'\n",
    "    elif 'образование' in purpose:\n",
    "        return 'образование'\n",
    "\n",
    "data['group_purpose'] = data['purpose'].apply(group_purpose)\n",
    "\n",
    "data.head(5)"
   ]
  },
  {
   "cell_type": "code",
   "execution_count": 18,
   "metadata": {},
   "outputs": [
    {
     "data": {
      "text/plain": [
       "0"
      ]
     },
     "execution_count": 18,
     "metadata": {},
     "output_type": "execute_result"
    }
   ],
   "source": [
    "data['group_purpose'].isna().sum() # пропусков нет"
   ]
  },
  {
   "cell_type": "code",
   "execution_count": 19,
   "metadata": {},
   "outputs": [
    {
     "data": {
      "text/plain": [
       "нет детей    14149\n",
       "есть дети     7376\n",
       "Name: children_group, dtype: int64"
      ]
     },
     "execution_count": 19,
     "metadata": {},
     "output_type": "execute_result"
    }
   ],
   "source": [
    "# добавлю столбец по количеству детей\n",
    "data['children_group'] = data['children']\n",
    "\n",
    "def children_group(children):\n",
    "    if children == 0:\n",
    "        return 'нет детей'\n",
    "    else:\n",
    "        return 'есть дети'\n",
    "data['children_group'] = data['children_group'].apply(children_group)\n",
    "data['children_group'].value_counts()"
   ]
  },
  {
   "cell_type": "code",
   "execution_count": 20,
   "metadata": {},
   "outputs": [
    {
     "data": {
      "text/html": [
       "<div>\n",
       "<style scoped>\n",
       "    .dataframe tbody tr th:only-of-type {\n",
       "        vertical-align: middle;\n",
       "    }\n",
       "\n",
       "    .dataframe tbody tr th {\n",
       "        vertical-align: top;\n",
       "    }\n",
       "\n",
       "    .dataframe thead th {\n",
       "        text-align: right;\n",
       "    }\n",
       "</style>\n",
       "<table border=\"1\" class=\"dataframe\">\n",
       "  <thead>\n",
       "    <tr style=\"text-align: right;\">\n",
       "      <th></th>\n",
       "      <th>children</th>\n",
       "      <th>days_employed</th>\n",
       "      <th>dob_years</th>\n",
       "      <th>education</th>\n",
       "      <th>education_id</th>\n",
       "      <th>family_status</th>\n",
       "      <th>family_status_id</th>\n",
       "      <th>gender</th>\n",
       "      <th>income_type</th>\n",
       "      <th>debt</th>\n",
       "      <th>total_income</th>\n",
       "      <th>purpose</th>\n",
       "      <th>group_purpose</th>\n",
       "      <th>children_group</th>\n",
       "      <th>debt_status</th>\n",
       "    </tr>\n",
       "  </thead>\n",
       "  <tbody>\n",
       "    <tr>\n",
       "      <th>0</th>\n",
       "      <td>1</td>\n",
       "      <td>-8437.673028</td>\n",
       "      <td>42</td>\n",
       "      <td>высшее</td>\n",
       "      <td>0</td>\n",
       "      <td>женат / замужем</td>\n",
       "      <td>0</td>\n",
       "      <td>F</td>\n",
       "      <td>сотрудник</td>\n",
       "      <td>0</td>\n",
       "      <td>253875</td>\n",
       "      <td>покупка жилья</td>\n",
       "      <td>недвижимость</td>\n",
       "      <td>есть дети</td>\n",
       "      <td>нет задолженности</td>\n",
       "    </tr>\n",
       "    <tr>\n",
       "      <th>1</th>\n",
       "      <td>1</td>\n",
       "      <td>-4024.803754</td>\n",
       "      <td>36</td>\n",
       "      <td>среднее</td>\n",
       "      <td>1</td>\n",
       "      <td>женат / замужем</td>\n",
       "      <td>0</td>\n",
       "      <td>F</td>\n",
       "      <td>сотрудник</td>\n",
       "      <td>0</td>\n",
       "      <td>112080</td>\n",
       "      <td>приобретение автомобиля</td>\n",
       "      <td>автомобиль</td>\n",
       "      <td>есть дети</td>\n",
       "      <td>нет задолженности</td>\n",
       "    </tr>\n",
       "    <tr>\n",
       "      <th>2</th>\n",
       "      <td>0</td>\n",
       "      <td>-5623.422610</td>\n",
       "      <td>33</td>\n",
       "      <td>среднее</td>\n",
       "      <td>1</td>\n",
       "      <td>женат / замужем</td>\n",
       "      <td>0</td>\n",
       "      <td>M</td>\n",
       "      <td>сотрудник</td>\n",
       "      <td>0</td>\n",
       "      <td>145885</td>\n",
       "      <td>покупка жилья</td>\n",
       "      <td>недвижимость</td>\n",
       "      <td>нет детей</td>\n",
       "      <td>нет задолженности</td>\n",
       "    </tr>\n",
       "    <tr>\n",
       "      <th>3</th>\n",
       "      <td>3</td>\n",
       "      <td>-4124.747207</td>\n",
       "      <td>32</td>\n",
       "      <td>среднее</td>\n",
       "      <td>1</td>\n",
       "      <td>женат / замужем</td>\n",
       "      <td>0</td>\n",
       "      <td>M</td>\n",
       "      <td>сотрудник</td>\n",
       "      <td>0</td>\n",
       "      <td>267628</td>\n",
       "      <td>дополнительное образование</td>\n",
       "      <td>образование</td>\n",
       "      <td>есть дети</td>\n",
       "      <td>нет задолженности</td>\n",
       "    </tr>\n",
       "    <tr>\n",
       "      <th>4</th>\n",
       "      <td>0</td>\n",
       "      <td>340266.072047</td>\n",
       "      <td>53</td>\n",
       "      <td>среднее</td>\n",
       "      <td>1</td>\n",
       "      <td>гражданский брак</td>\n",
       "      <td>1</td>\n",
       "      <td>F</td>\n",
       "      <td>пенсионер</td>\n",
       "      <td>0</td>\n",
       "      <td>158616</td>\n",
       "      <td>сыграть свадьбу</td>\n",
       "      <td>свадьба</td>\n",
       "      <td>нет детей</td>\n",
       "      <td>нет задолженности</td>\n",
       "    </tr>\n",
       "  </tbody>\n",
       "</table>\n",
       "</div>"
      ],
      "text/plain": [
       "   children  days_employed  dob_years education  education_id  \\\n",
       "0         1   -8437.673028         42    высшее             0   \n",
       "1         1   -4024.803754         36   среднее             1   \n",
       "2         0   -5623.422610         33   среднее             1   \n",
       "3         3   -4124.747207         32   среднее             1   \n",
       "4         0  340266.072047         53   среднее             1   \n",
       "\n",
       "      family_status  family_status_id gender income_type  debt  total_income  \\\n",
       "0   женат / замужем                 0      F   сотрудник     0        253875   \n",
       "1   женат / замужем                 0      F   сотрудник     0        112080   \n",
       "2   женат / замужем                 0      M   сотрудник     0        145885   \n",
       "3   женат / замужем                 0      M   сотрудник     0        267628   \n",
       "4  гражданский брак                 1      F   пенсионер     0        158616   \n",
       "\n",
       "                      purpose group_purpose children_group        debt_status  \n",
       "0               покупка жилья  недвижимость      есть дети  нет задолженности  \n",
       "1     приобретение автомобиля    автомобиль      есть дети  нет задолженности  \n",
       "2               покупка жилья  недвижимость      нет детей  нет задолженности  \n",
       "3  дополнительное образование   образование      есть дети  нет задолженности  \n",
       "4             сыграть свадьбу       свадьба      нет детей  нет задолженности  "
      ]
     },
     "execution_count": 20,
     "metadata": {},
     "output_type": "execute_result"
    }
   ],
   "source": [
    "# добавил столбец'debt_status' со строковым значение по задолженности\n",
    "data['debt_status'] = data['debt']\n",
    "def debt_status(debt):\n",
    "    if debt == 0:\n",
    "        return 'нет задолженности'\n",
    "    elif debt == 1:\n",
    "        return 'есть задолженность'\n",
    "data['debt_status'] = data['debt_status'].apply(debt_status)\n",
    "data.head(5)"
   ]
  },
  {
   "cell_type": "code",
   "execution_count": 21,
   "metadata": {},
   "outputs": [
    {
     "data": {
      "text/plain": [
       "0"
      ]
     },
     "execution_count": 21,
     "metadata": {},
     "output_type": "execute_result"
    }
   ],
   "source": [
    "data['debt_status'].isna().sum() # пропусков нет"
   ]
  },
  {
   "cell_type": "code",
   "execution_count": 22,
   "metadata": {},
   "outputs": [
    {
     "data": {
      "text/plain": [
       "2265604"
      ]
     },
     "metadata": {},
     "output_type": "display_data"
    },
    {
     "data": {
      "text/plain": [
       "165224.81602787456"
      ]
     },
     "metadata": {},
     "output_type": "display_data"
    },
    {
     "data": {
      "text/plain": [
       "142594.0"
      ]
     },
     "metadata": {},
     "output_type": "display_data"
    },
    {
     "data": {
      "text/plain": [
       "20667"
      ]
     },
     "execution_count": 22,
     "metadata": {},
     "output_type": "execute_result"
    }
   ],
   "source": [
    "# найду мин, макс, медиану и средний доход и на основе их сделаю обобщенный столбец по доходам\n",
    "display(data['total_income'].max())\n",
    "display(data['total_income'].mean())\n",
    "display(data['total_income'].median())\n",
    "data['total_income'].min()"
   ]
  },
  {
   "cell_type": "code",
   "execution_count": 23,
   "metadata": {},
   "outputs": [
    {
     "data": {
      "text/plain": [
       "ниже среднего    12953\n",
       "выше среднего     7978\n",
       "низкий доход       372\n",
       "высокий доход      222\n",
       "Name: group_income, dtype: int64"
      ]
     },
     "execution_count": 23,
     "metadata": {},
     "output_type": "execute_result"
    }
   ],
   "source": [
    "data['group_income'] = data['total_income']\n",
    "\n",
    "def group_income(total):\n",
    "    if total <= 50000:\n",
    "        return 'низкий доход'\n",
    "    elif total <= 165158:\n",
    "        return 'ниже среднего'\n",
    "    elif total <= 500000:\n",
    "        return 'выше среднего'\n",
    "    elif total > 500000:\n",
    "        return 'высокий доход'\n",
    "\n",
    "data['group_income'] = data['group_income'].apply(group_income)    \n",
    "data['group_income'].value_counts()"
   ]
  },
  {
   "cell_type": "code",
   "execution_count": 24,
   "metadata": {},
   "outputs": [
    {
     "data": {
      "text/html": [
       "<div>\n",
       "<style scoped>\n",
       "    .dataframe tbody tr th:only-of-type {\n",
       "        vertical-align: middle;\n",
       "    }\n",
       "\n",
       "    .dataframe tbody tr th {\n",
       "        vertical-align: top;\n",
       "    }\n",
       "\n",
       "    .dataframe thead th {\n",
       "        text-align: right;\n",
       "    }\n",
       "</style>\n",
       "<table border=\"1\" class=\"dataframe\">\n",
       "  <thead>\n",
       "    <tr style=\"text-align: right;\">\n",
       "      <th></th>\n",
       "      <th>children</th>\n",
       "      <th>days_employed</th>\n",
       "      <th>dob_years</th>\n",
       "      <th>education</th>\n",
       "      <th>education_id</th>\n",
       "      <th>family_status</th>\n",
       "      <th>family_status_id</th>\n",
       "      <th>gender</th>\n",
       "      <th>income_type</th>\n",
       "      <th>debt</th>\n",
       "      <th>total_income</th>\n",
       "      <th>purpose</th>\n",
       "      <th>group_purpose</th>\n",
       "      <th>children_group</th>\n",
       "      <th>debt_status</th>\n",
       "      <th>group_income</th>\n",
       "    </tr>\n",
       "  </thead>\n",
       "  <tbody>\n",
       "    <tr>\n",
       "      <th>0</th>\n",
       "      <td>1</td>\n",
       "      <td>-8437.673028</td>\n",
       "      <td>42</td>\n",
       "      <td>высшее</td>\n",
       "      <td>0</td>\n",
       "      <td>женат / замужем</td>\n",
       "      <td>0</td>\n",
       "      <td>F</td>\n",
       "      <td>сотрудник</td>\n",
       "      <td>0</td>\n",
       "      <td>253875</td>\n",
       "      <td>покупка жилья</td>\n",
       "      <td>недвижимость</td>\n",
       "      <td>есть дети</td>\n",
       "      <td>нет задолженности</td>\n",
       "      <td>выше среднего</td>\n",
       "    </tr>\n",
       "    <tr>\n",
       "      <th>1</th>\n",
       "      <td>1</td>\n",
       "      <td>-4024.803754</td>\n",
       "      <td>36</td>\n",
       "      <td>среднее</td>\n",
       "      <td>1</td>\n",
       "      <td>женат / замужем</td>\n",
       "      <td>0</td>\n",
       "      <td>F</td>\n",
       "      <td>сотрудник</td>\n",
       "      <td>0</td>\n",
       "      <td>112080</td>\n",
       "      <td>приобретение автомобиля</td>\n",
       "      <td>автомобиль</td>\n",
       "      <td>есть дети</td>\n",
       "      <td>нет задолженности</td>\n",
       "      <td>ниже среднего</td>\n",
       "    </tr>\n",
       "    <tr>\n",
       "      <th>2</th>\n",
       "      <td>0</td>\n",
       "      <td>-5623.422610</td>\n",
       "      <td>33</td>\n",
       "      <td>среднее</td>\n",
       "      <td>1</td>\n",
       "      <td>женат / замужем</td>\n",
       "      <td>0</td>\n",
       "      <td>M</td>\n",
       "      <td>сотрудник</td>\n",
       "      <td>0</td>\n",
       "      <td>145885</td>\n",
       "      <td>покупка жилья</td>\n",
       "      <td>недвижимость</td>\n",
       "      <td>нет детей</td>\n",
       "      <td>нет задолженности</td>\n",
       "      <td>ниже среднего</td>\n",
       "    </tr>\n",
       "    <tr>\n",
       "      <th>3</th>\n",
       "      <td>3</td>\n",
       "      <td>-4124.747207</td>\n",
       "      <td>32</td>\n",
       "      <td>среднее</td>\n",
       "      <td>1</td>\n",
       "      <td>женат / замужем</td>\n",
       "      <td>0</td>\n",
       "      <td>M</td>\n",
       "      <td>сотрудник</td>\n",
       "      <td>0</td>\n",
       "      <td>267628</td>\n",
       "      <td>дополнительное образование</td>\n",
       "      <td>образование</td>\n",
       "      <td>есть дети</td>\n",
       "      <td>нет задолженности</td>\n",
       "      <td>выше среднего</td>\n",
       "    </tr>\n",
       "    <tr>\n",
       "      <th>4</th>\n",
       "      <td>0</td>\n",
       "      <td>340266.072047</td>\n",
       "      <td>53</td>\n",
       "      <td>среднее</td>\n",
       "      <td>1</td>\n",
       "      <td>гражданский брак</td>\n",
       "      <td>1</td>\n",
       "      <td>F</td>\n",
       "      <td>пенсионер</td>\n",
       "      <td>0</td>\n",
       "      <td>158616</td>\n",
       "      <td>сыграть свадьбу</td>\n",
       "      <td>свадьба</td>\n",
       "      <td>нет детей</td>\n",
       "      <td>нет задолженности</td>\n",
       "      <td>ниже среднего</td>\n",
       "    </tr>\n",
       "  </tbody>\n",
       "</table>\n",
       "</div>"
      ],
      "text/plain": [
       "   children  days_employed  dob_years education  education_id  \\\n",
       "0         1   -8437.673028         42    высшее             0   \n",
       "1         1   -4024.803754         36   среднее             1   \n",
       "2         0   -5623.422610         33   среднее             1   \n",
       "3         3   -4124.747207         32   среднее             1   \n",
       "4         0  340266.072047         53   среднее             1   \n",
       "\n",
       "      family_status  family_status_id gender income_type  debt  total_income  \\\n",
       "0   женат / замужем                 0      F   сотрудник     0        253875   \n",
       "1   женат / замужем                 0      F   сотрудник     0        112080   \n",
       "2   женат / замужем                 0      M   сотрудник     0        145885   \n",
       "3   женат / замужем                 0      M   сотрудник     0        267628   \n",
       "4  гражданский брак                 1      F   пенсионер     0        158616   \n",
       "\n",
       "                      purpose group_purpose children_group        debt_status  \\\n",
       "0               покупка жилья  недвижимость      есть дети  нет задолженности   \n",
       "1     приобретение автомобиля    автомобиль      есть дети  нет задолженности   \n",
       "2               покупка жилья  недвижимость      нет детей  нет задолженности   \n",
       "3  дополнительное образование   образование      есть дети  нет задолженности   \n",
       "4             сыграть свадьбу       свадьба      нет детей  нет задолженности   \n",
       "\n",
       "    group_income  \n",
       "0  выше среднего  \n",
       "1  ниже среднего  \n",
       "2  ниже среднего  \n",
       "3  выше среднего  \n",
       "4  ниже среднего  "
      ]
     },
     "execution_count": 24,
     "metadata": {},
     "output_type": "execute_result"
    }
   ],
   "source": [
    "data.head(5)"
   ]
  },
  {
   "cell_type": "code",
   "execution_count": 25,
   "metadata": {},
   "outputs": [
    {
     "data": {
      "text/html": [
       "<div>\n",
       "<style scoped>\n",
       "    .dataframe tbody tr th:only-of-type {\n",
       "        vertical-align: middle;\n",
       "    }\n",
       "\n",
       "    .dataframe tbody tr th {\n",
       "        vertical-align: top;\n",
       "    }\n",
       "\n",
       "    .dataframe thead th {\n",
       "        text-align: right;\n",
       "    }\n",
       "</style>\n",
       "<table border=\"1\" class=\"dataframe\">\n",
       "  <thead>\n",
       "    <tr style=\"text-align: right;\">\n",
       "      <th></th>\n",
       "      <th>family_status</th>\n",
       "      <th>group_purpose</th>\n",
       "      <th>children_group</th>\n",
       "      <th>group_income</th>\n",
       "      <th>debt_status</th>\n",
       "      <th>debt</th>\n",
       "    </tr>\n",
       "  </thead>\n",
       "  <tbody>\n",
       "    <tr>\n",
       "      <th>0</th>\n",
       "      <td>женат / замужем</td>\n",
       "      <td>недвижимость</td>\n",
       "      <td>есть дети</td>\n",
       "      <td>выше среднего</td>\n",
       "      <td>нет задолженности</td>\n",
       "      <td>0</td>\n",
       "    </tr>\n",
       "    <tr>\n",
       "      <th>1</th>\n",
       "      <td>женат / замужем</td>\n",
       "      <td>автомобиль</td>\n",
       "      <td>есть дети</td>\n",
       "      <td>ниже среднего</td>\n",
       "      <td>нет задолженности</td>\n",
       "      <td>0</td>\n",
       "    </tr>\n",
       "    <tr>\n",
       "      <th>2</th>\n",
       "      <td>женат / замужем</td>\n",
       "      <td>недвижимость</td>\n",
       "      <td>нет детей</td>\n",
       "      <td>ниже среднего</td>\n",
       "      <td>нет задолженности</td>\n",
       "      <td>0</td>\n",
       "    </tr>\n",
       "    <tr>\n",
       "      <th>3</th>\n",
       "      <td>женат / замужем</td>\n",
       "      <td>образование</td>\n",
       "      <td>есть дети</td>\n",
       "      <td>выше среднего</td>\n",
       "      <td>нет задолженности</td>\n",
       "      <td>0</td>\n",
       "    </tr>\n",
       "    <tr>\n",
       "      <th>4</th>\n",
       "      <td>гражданский брак</td>\n",
       "      <td>свадьба</td>\n",
       "      <td>нет детей</td>\n",
       "      <td>ниже среднего</td>\n",
       "      <td>нет задолженности</td>\n",
       "      <td>0</td>\n",
       "    </tr>\n",
       "  </tbody>\n",
       "</table>\n",
       "</div>"
      ],
      "text/plain": [
       "      family_status group_purpose children_group   group_income  \\\n",
       "0   женат / замужем  недвижимость      есть дети  выше среднего   \n",
       "1   женат / замужем    автомобиль      есть дети  ниже среднего   \n",
       "2   женат / замужем  недвижимость      нет детей  ниже среднего   \n",
       "3   женат / замужем   образование      есть дети  выше среднего   \n",
       "4  гражданский брак       свадьба      нет детей  ниже среднего   \n",
       "\n",
       "         debt_status  debt  \n",
       "0  нет задолженности     0  \n",
       "1  нет задолженности     0  \n",
       "2  нет задолженности     0  \n",
       "3  нет задолженности     0  \n",
       "4  нет задолженности     0  "
      ]
     },
     "execution_count": 25,
     "metadata": {},
     "output_type": "execute_result"
    }
   ],
   "source": [
    "# для удобства работы дальше создам таблицу только с нужными мне столбцами\n",
    "data_filter = data.loc[:, ['family_status', 'group_purpose', 'children_group', 'group_income', 'debt_status', 'debt']]\n",
    "data_filter.head(5)"
   ]
  },
  {
   "cell_type": "markdown",
   "metadata": {},
   "source": [
    "**Вывод**"
   ]
  },
  {
   "cell_type": "markdown",
   "metadata": {},
   "source": [
    "Провел классификацию по цели приоберетения кредита, уровню дохода, количества детей. Добавил столбец 'debt_status' о задолженности. "
   ]
  },
  {
   "cell_type": "markdown",
   "metadata": {},
   "source": [
    "## Шаг 3. Ответьте на вопросы"
   ]
  },
  {
   "cell_type": "markdown",
   "metadata": {},
   "source": [
    "- Есть ли зависимость между наличием детей и возвратом кредита в срок?"
   ]
  },
  {
   "cell_type": "code",
   "execution_count": 26,
   "metadata": {},
   "outputs": [
    {
     "data": {
      "text/html": [
       "<div>\n",
       "<style scoped>\n",
       "    .dataframe tbody tr th:only-of-type {\n",
       "        vertical-align: middle;\n",
       "    }\n",
       "\n",
       "    .dataframe tbody tr th {\n",
       "        vertical-align: top;\n",
       "    }\n",
       "\n",
       "    .dataframe thead th {\n",
       "        text-align: right;\n",
       "    }\n",
       "</style>\n",
       "<table border=\"1\" class=\"dataframe\">\n",
       "  <thead>\n",
       "    <tr style=\"text-align: right;\">\n",
       "      <th>debt_status</th>\n",
       "      <th>есть задолженность</th>\n",
       "      <th>нет задолженности</th>\n",
       "      <th>процент не возврата</th>\n",
       "    </tr>\n",
       "    <tr>\n",
       "      <th>children_group</th>\n",
       "      <th></th>\n",
       "      <th></th>\n",
       "      <th></th>\n",
       "    </tr>\n",
       "  </thead>\n",
       "  <tbody>\n",
       "    <tr>\n",
       "      <th>есть дети</th>\n",
       "      <td>678</td>\n",
       "      <td>6698</td>\n",
       "      <td>10</td>\n",
       "    </tr>\n",
       "    <tr>\n",
       "      <th>нет детей</th>\n",
       "      <td>1063</td>\n",
       "      <td>13086</td>\n",
       "      <td>8</td>\n",
       "    </tr>\n",
       "  </tbody>\n",
       "</table>\n",
       "</div>"
      ],
      "text/plain": [
       "debt_status     есть задолженность  нет задолженности  процент не возврата\n",
       "children_group                                                            \n",
       "есть дети                      678               6698                   10\n",
       "нет детей                     1063              13086                    8"
      ]
     },
     "execution_count": 26,
     "metadata": {},
     "output_type": "execute_result"
    }
   ],
   "source": [
    "pivot_children = data_filter.pivot_table(index='children_group', columns='debt_status',values='debt', aggfunc='count')\n",
    "pivot_children['процент не возврата'] = pivot_children['есть задолженность'] / pivot_children['нет задолженности'] * 100\n",
    "pivot_children['процент не возврата'] = pivot_children['процент не возврата'].astype('int')\n",
    "pivot_children.sort_values(by='процент не возврата', ascending=False)"
   ]
  },
  {
   "cell_type": "markdown",
   "metadata": {},
   "source": [
    "**Вывод**"
   ]
  },
  {
   "cell_type": "markdown",
   "metadata": {},
   "source": [
    "Клиенты без детей самые надежные"
   ]
  },
  {
   "cell_type": "markdown",
   "metadata": {},
   "source": [
    "- Есть ли зависимость между семейным положением и возвратом кредита в срок?"
   ]
  },
  {
   "cell_type": "code",
   "execution_count": 27,
   "metadata": {},
   "outputs": [
    {
     "data": {
      "text/html": [
       "<div>\n",
       "<style scoped>\n",
       "    .dataframe tbody tr th:only-of-type {\n",
       "        vertical-align: middle;\n",
       "    }\n",
       "\n",
       "    .dataframe tbody tr th {\n",
       "        vertical-align: top;\n",
       "    }\n",
       "\n",
       "    .dataframe thead th {\n",
       "        text-align: right;\n",
       "    }\n",
       "</style>\n",
       "<table border=\"1\" class=\"dataframe\">\n",
       "  <thead>\n",
       "    <tr style=\"text-align: right;\">\n",
       "      <th>debt_status</th>\n",
       "      <th>есть задолженность</th>\n",
       "      <th>нет задолженности</th>\n",
       "      <th>процент не возврата</th>\n",
       "    </tr>\n",
       "    <tr>\n",
       "      <th>family_status</th>\n",
       "      <th></th>\n",
       "      <th></th>\n",
       "      <th></th>\n",
       "    </tr>\n",
       "  </thead>\n",
       "  <tbody>\n",
       "    <tr>\n",
       "      <th>Не женат / не замужем</th>\n",
       "      <td>274</td>\n",
       "      <td>2539</td>\n",
       "      <td>10</td>\n",
       "    </tr>\n",
       "    <tr>\n",
       "      <th>гражданский брак</th>\n",
       "      <td>388</td>\n",
       "      <td>3789</td>\n",
       "      <td>10</td>\n",
       "    </tr>\n",
       "    <tr>\n",
       "      <th>женат / замужем</th>\n",
       "      <td>931</td>\n",
       "      <td>11449</td>\n",
       "      <td>8</td>\n",
       "    </tr>\n",
       "    <tr>\n",
       "      <th>в разводе</th>\n",
       "      <td>85</td>\n",
       "      <td>1110</td>\n",
       "      <td>7</td>\n",
       "    </tr>\n",
       "    <tr>\n",
       "      <th>вдовец / вдова</th>\n",
       "      <td>63</td>\n",
       "      <td>897</td>\n",
       "      <td>7</td>\n",
       "    </tr>\n",
       "  </tbody>\n",
       "</table>\n",
       "</div>"
      ],
      "text/plain": [
       "debt_status            есть задолженность  нет задолженности  \\\n",
       "family_status                                                  \n",
       "Не женат / не замужем                 274               2539   \n",
       "гражданский брак                      388               3789   \n",
       "женат / замужем                       931              11449   \n",
       "в разводе                              85               1110   \n",
       "вдовец / вдова                         63                897   \n",
       "\n",
       "debt_status            процент не возврата  \n",
       "family_status                               \n",
       "Не женат / не замужем                   10  \n",
       "гражданский брак                        10  \n",
       "женат / замужем                          8  \n",
       "в разводе                                7  \n",
       "вдовец / вдова                           7  "
      ]
     },
     "execution_count": 27,
     "metadata": {},
     "output_type": "execute_result"
    }
   ],
   "source": [
    "pivot_family = data_filter.pivot_table(index='family_status', columns='debt_status',values='debt', aggfunc='count')\n",
    "pivot_family['процент не возврата'] = pivot_family['есть задолженность'] / pivot_family['нет задолженности'] * 100\n",
    "pivot_family['процент не возврата'] = pivot_family['процент не возврата'].astype('int')\n",
    "pivot_family.sort_values(by='процент не возврата', ascending=False)"
   ]
  },
  {
   "cell_type": "markdown",
   "metadata": {},
   "source": [
    "**Вывод**"
   ]
  },
  {
   "cell_type": "markdown",
   "metadata": {},
   "source": [
    "Клиенты со статусом \"не женат/не замужем\" и \"гражданский брак\" чаще становятся должниками"
   ]
  },
  {
   "cell_type": "markdown",
   "metadata": {},
   "source": [
    "- Есть ли зависимость между уровнем дохода и возвратом кредита в срок?"
   ]
  },
  {
   "cell_type": "code",
   "execution_count": 28,
   "metadata": {},
   "outputs": [
    {
     "data": {
      "text/html": [
       "<div>\n",
       "<style scoped>\n",
       "    .dataframe tbody tr th:only-of-type {\n",
       "        vertical-align: middle;\n",
       "    }\n",
       "\n",
       "    .dataframe tbody tr th {\n",
       "        vertical-align: top;\n",
       "    }\n",
       "\n",
       "    .dataframe thead th {\n",
       "        text-align: right;\n",
       "    }\n",
       "</style>\n",
       "<table border=\"1\" class=\"dataframe\">\n",
       "  <thead>\n",
       "    <tr style=\"text-align: right;\">\n",
       "      <th>debt_status</th>\n",
       "      <th>есть задолженность</th>\n",
       "      <th>нет задолженности</th>\n",
       "      <th>процент не возврата</th>\n",
       "    </tr>\n",
       "    <tr>\n",
       "      <th>group_income</th>\n",
       "      <th></th>\n",
       "      <th></th>\n",
       "      <th></th>\n",
       "    </tr>\n",
       "  </thead>\n",
       "  <tbody>\n",
       "    <tr>\n",
       "      <th>ниже среднего</th>\n",
       "      <td>1091</td>\n",
       "      <td>11862</td>\n",
       "      <td>9</td>\n",
       "    </tr>\n",
       "    <tr>\n",
       "      <th>выше среднего</th>\n",
       "      <td>613</td>\n",
       "      <td>7365</td>\n",
       "      <td>8</td>\n",
       "    </tr>\n",
       "    <tr>\n",
       "      <th>высокий доход</th>\n",
       "      <td>14</td>\n",
       "      <td>208</td>\n",
       "      <td>6</td>\n",
       "    </tr>\n",
       "    <tr>\n",
       "      <th>низкий доход</th>\n",
       "      <td>23</td>\n",
       "      <td>349</td>\n",
       "      <td>6</td>\n",
       "    </tr>\n",
       "  </tbody>\n",
       "</table>\n",
       "</div>"
      ],
      "text/plain": [
       "debt_status    есть задолженность  нет задолженности  процент не возврата\n",
       "group_income                                                             \n",
       "ниже среднего                1091              11862                    9\n",
       "выше среднего                 613               7365                    8\n",
       "высокий доход                  14                208                    6\n",
       "низкий доход                   23                349                    6"
      ]
     },
     "execution_count": 28,
     "metadata": {},
     "output_type": "execute_result"
    }
   ],
   "source": [
    "pivot_income = data_filter.pivot_table(index='group_income', columns='debt_status',values='debt', aggfunc='count')\n",
    "pivot_income['процент не возврата'] = pivot_income['есть задолженность'] / pivot_income['нет задолженности'] * 100\n",
    "pivot_income['процент не возврата'] = pivot_income['процент не возврата'].astype('int')\n",
    "pivot_income.sort_values(by='процент не возврата', ascending=False)"
   ]
  },
  {
   "cell_type": "markdown",
   "metadata": {},
   "source": [
    "**Вывод**"
   ]
  },
  {
   "cell_type": "markdown",
   "metadata": {},
   "source": [
    "Клиенты с низким и высоким доходом самые надежные"
   ]
  },
  {
   "cell_type": "markdown",
   "metadata": {},
   "source": [
    "- Как разные цели кредита влияют на его возврат в срок?"
   ]
  },
  {
   "cell_type": "code",
   "execution_count": 29,
   "metadata": {},
   "outputs": [
    {
     "data": {
      "text/html": [
       "<div>\n",
       "<style scoped>\n",
       "    .dataframe tbody tr th:only-of-type {\n",
       "        vertical-align: middle;\n",
       "    }\n",
       "\n",
       "    .dataframe tbody tr th {\n",
       "        vertical-align: top;\n",
       "    }\n",
       "\n",
       "    .dataframe thead th {\n",
       "        text-align: right;\n",
       "    }\n",
       "</style>\n",
       "<table border=\"1\" class=\"dataframe\">\n",
       "  <thead>\n",
       "    <tr style=\"text-align: right;\">\n",
       "      <th>debt_status</th>\n",
       "      <th>есть задолженность</th>\n",
       "      <th>нет задолженности</th>\n",
       "      <th>процент не возврата</th>\n",
       "    </tr>\n",
       "    <tr>\n",
       "      <th>group_purpose</th>\n",
       "      <th></th>\n",
       "      <th></th>\n",
       "      <th></th>\n",
       "    </tr>\n",
       "  </thead>\n",
       "  <tbody>\n",
       "    <tr>\n",
       "      <th>автомобиль</th>\n",
       "      <td>403</td>\n",
       "      <td>3912</td>\n",
       "      <td>10</td>\n",
       "    </tr>\n",
       "    <tr>\n",
       "      <th>образование</th>\n",
       "      <td>370</td>\n",
       "      <td>3652</td>\n",
       "      <td>10</td>\n",
       "    </tr>\n",
       "    <tr>\n",
       "      <th>свадьба</th>\n",
       "      <td>186</td>\n",
       "      <td>2162</td>\n",
       "      <td>8</td>\n",
       "    </tr>\n",
       "    <tr>\n",
       "      <th>недвижимость</th>\n",
       "      <td>782</td>\n",
       "      <td>10058</td>\n",
       "      <td>7</td>\n",
       "    </tr>\n",
       "  </tbody>\n",
       "</table>\n",
       "</div>"
      ],
      "text/plain": [
       "debt_status    есть задолженность  нет задолженности  процент не возврата\n",
       "group_purpose                                                            \n",
       "автомобиль                    403               3912                   10\n",
       "образование                   370               3652                   10\n",
       "свадьба                       186               2162                    8\n",
       "недвижимость                  782              10058                    7"
      ]
     },
     "execution_count": 29,
     "metadata": {},
     "output_type": "execute_result"
    }
   ],
   "source": [
    "pivot_purpose = data_filter.pivot_table(index='group_purpose', columns='debt_status',values='debt', aggfunc='count')\n",
    "pivot_purpose['процент не возврата'] = pivot_purpose['есть задолженность'] / pivot_purpose['нет задолженности'] * 100\n",
    "pivot_purpose['процент не возврата'] = pivot_purpose['процент не возврата'].astype('int')\n",
    "pivot_purpose.sort_values(by='процент не возврата', ascending=False)"
   ]
  },
  {
   "cell_type": "markdown",
   "metadata": {},
   "source": [
    "**Вывод**"
   ]
  },
  {
   "cell_type": "markdown",
   "metadata": {},
   "source": [
    "Клиенты с целью взять кредит на \"автомобиль\" и \"образование\" чаще становятся должниками"
   ]
  },
  {
   "cell_type": "markdown",
   "metadata": {},
   "source": [
    "## Шаг 4. Общий вывод"
   ]
  },
  {
   "cell_type": "markdown",
   "metadata": {},
   "source": [
    "Есть ли зависимость между наличием детей и возвратом кредита в срок?\n",
    "\n",
    "    - Клиенты без детей самые надежные\n",
    "Есть ли зависимость между семейным положением и возвратом кредита в срок?\n",
    "\n",
    "    - Клиенты со статусом \"не женат/не замужем\" и \"гражданский брак\" чаще становятся должниками\n",
    "Есть ли зависимость между уровнем дохода и возвратом кредита в срок?\n",
    "\n",
    "    - Клиенты с низким и высоким доходом самые надежные\n",
    "Как разные цели кредита влияют на его возврат в срок?\n",
    "\n",
    "    - Клиенты с целью взять кредит на \"автомобиль\" и \"образование\" чаще становятся должниками"
   ]
  },
  {
   "cell_type": "code",
   "execution_count": null,
   "metadata": {},
   "outputs": [],
   "source": []
  }
 ],
 "metadata": {
  "ExecuteTimeLog": [
   {
    "duration": 684,
    "start_time": "2021-12-24T08:06:22.408Z"
   },
   {
    "duration": 68,
    "start_time": "2021-12-24T08:08:03.366Z"
   },
   {
    "duration": 512,
    "start_time": "2021-12-24T09:11:52.184Z"
   },
   {
    "duration": 70,
    "start_time": "2021-12-24T09:12:29.184Z"
   },
   {
    "duration": 63,
    "start_time": "2021-12-24T09:13:31.221Z"
   },
   {
    "duration": 8879,
    "start_time": "2021-12-24T09:14:38.973Z"
   },
   {
    "duration": 56,
    "start_time": "2021-12-24T09:15:15.679Z"
   },
   {
    "duration": 57,
    "start_time": "2021-12-24T09:15:47.867Z"
   },
   {
    "duration": 55,
    "start_time": "2021-12-24T09:16:14.083Z"
   },
   {
    "duration": 62,
    "start_time": "2021-12-24T09:16:30.155Z"
   },
   {
    "duration": 66,
    "start_time": "2021-12-24T09:17:29.955Z"
   },
   {
    "duration": 48,
    "start_time": "2021-12-24T09:17:54.307Z"
   },
   {
    "duration": 67,
    "start_time": "2021-12-24T09:18:32.939Z"
   },
   {
    "duration": 61,
    "start_time": "2021-12-24T09:20:43.679Z"
   },
   {
    "duration": 53,
    "start_time": "2021-12-24T09:20:55.539Z"
   },
   {
    "duration": 69,
    "start_time": "2021-12-24T09:21:42.882Z"
   },
   {
    "duration": 373,
    "start_time": "2021-12-24T09:25:18.969Z"
   },
   {
    "duration": 354,
    "start_time": "2021-12-24T09:25:40.967Z"
   },
   {
    "duration": 387,
    "start_time": "2021-12-24T09:25:50.135Z"
   },
   {
    "duration": 65,
    "start_time": "2021-12-24T09:26:06.869Z"
   },
   {
    "duration": 325,
    "start_time": "2021-12-24T09:26:10.686Z"
   },
   {
    "duration": 5,
    "start_time": "2021-12-24T09:26:41.319Z"
   },
   {
    "duration": 5,
    "start_time": "2021-12-24T09:27:27.311Z"
   },
   {
    "duration": 66,
    "start_time": "2021-12-24T09:31:09.757Z"
   },
   {
    "duration": 65,
    "start_time": "2021-12-24T09:32:14.318Z"
   },
   {
    "duration": 66,
    "start_time": "2021-12-24T09:32:32.308Z"
   },
   {
    "duration": 88,
    "start_time": "2021-12-24T09:36:04.207Z"
   },
   {
    "duration": 4,
    "start_time": "2021-12-24T09:37:07.113Z"
   },
   {
    "duration": 6,
    "start_time": "2021-12-24T10:49:10.232Z"
   },
   {
    "duration": 7,
    "start_time": "2021-12-24T10:49:44.386Z"
   },
   {
    "duration": 8,
    "start_time": "2021-12-24T10:49:50.938Z"
   },
   {
    "duration": 58,
    "start_time": "2021-12-24T10:55:46.535Z"
   },
   {
    "duration": -1952,
    "start_time": "2021-12-24T10:56:55.532Z"
   },
   {
    "duration": 9,
    "start_time": "2021-12-24T10:57:01.924Z"
   },
   {
    "duration": 9,
    "start_time": "2021-12-24T10:57:30.620Z"
   },
   {
    "duration": 5,
    "start_time": "2021-12-24T11:00:28.167Z"
   },
   {
    "duration": 64,
    "start_time": "2021-12-24T11:00:41.882Z"
   },
   {
    "duration": 5,
    "start_time": "2021-12-24T11:00:44.919Z"
   },
   {
    "duration": 7,
    "start_time": "2021-12-24T11:00:57.069Z"
   },
   {
    "duration": 8,
    "start_time": "2021-12-24T11:01:43.554Z"
   },
   {
    "duration": 4,
    "start_time": "2021-12-24T11:24:54.223Z"
   },
   {
    "duration": 4,
    "start_time": "2021-12-24T11:24:59.103Z"
   },
   {
    "duration": 410,
    "start_time": "2021-12-24T11:25:30.671Z"
   },
   {
    "duration": 5,
    "start_time": "2021-12-24T11:27:04.877Z"
   },
   {
    "duration": 6,
    "start_time": "2021-12-24T11:27:37.757Z"
   },
   {
    "duration": 6,
    "start_time": "2021-12-24T11:27:42.358Z"
   },
   {
    "duration": 6,
    "start_time": "2021-12-24T11:28:08.415Z"
   },
   {
    "duration": 6,
    "start_time": "2021-12-24T11:28:12.677Z"
   },
   {
    "duration": -1965,
    "start_time": "2021-12-24T11:28:54.687Z"
   },
   {
    "duration": 4374,
    "start_time": "2021-12-24T11:29:05.316Z"
   },
   {
    "duration": 6,
    "start_time": "2021-12-24T11:29:51.620Z"
   },
   {
    "duration": 7,
    "start_time": "2021-12-24T11:31:20.964Z"
   },
   {
    "duration": 5,
    "start_time": "2021-12-24T11:31:44.316Z"
   },
   {
    "duration": 6,
    "start_time": "2021-12-24T11:33:36.802Z"
   },
   {
    "duration": 8,
    "start_time": "2021-12-24T11:34:41.930Z"
   },
   {
    "duration": 8,
    "start_time": "2021-12-24T11:38:11.193Z"
   },
   {
    "duration": 7,
    "start_time": "2021-12-24T11:38:21.720Z"
   },
   {
    "duration": 67,
    "start_time": "2021-12-24T11:38:45.963Z"
   },
   {
    "duration": 5,
    "start_time": "2021-12-24T12:16:00.760Z"
   },
   {
    "duration": 3,
    "start_time": "2021-12-24T12:18:20.615Z"
   },
   {
    "duration": 4,
    "start_time": "2021-12-24T12:18:26.437Z"
   },
   {
    "duration": 6,
    "start_time": "2021-12-24T12:19:09.582Z"
   },
   {
    "duration": 17,
    "start_time": "2021-12-24T12:19:27.543Z"
   },
   {
    "duration": 15,
    "start_time": "2021-12-24T12:20:20.507Z"
   },
   {
    "duration": 3,
    "start_time": "2021-12-24T12:20:38.205Z"
   },
   {
    "duration": 4,
    "start_time": "2021-12-24T12:20:49.581Z"
   },
   {
    "duration": 17,
    "start_time": "2021-12-24T12:20:59.356Z"
   },
   {
    "duration": 7,
    "start_time": "2021-12-24T12:22:20.366Z"
   },
   {
    "duration": 7,
    "start_time": "2021-12-24T12:22:33.487Z"
   },
   {
    "duration": 9,
    "start_time": "2021-12-24T12:23:04.354Z"
   },
   {
    "duration": 65,
    "start_time": "2021-12-24T12:23:18.703Z"
   },
   {
    "duration": 7,
    "start_time": "2021-12-24T12:23:18.770Z"
   },
   {
    "duration": 66,
    "start_time": "2021-12-24T12:23:50.246Z"
   },
   {
    "duration": 9,
    "start_time": "2021-12-24T12:23:53.461Z"
   },
   {
    "duration": 4,
    "start_time": "2021-12-24T12:26:46.523Z"
   },
   {
    "duration": 64,
    "start_time": "2021-12-24T12:27:03.237Z"
   },
   {
    "duration": 453,
    "start_time": "2021-12-24T12:27:34.882Z"
   },
   {
    "duration": 69,
    "start_time": "2021-12-24T12:28:22.360Z"
   },
   {
    "duration": 62,
    "start_time": "2021-12-24T12:28:40.785Z"
   },
   {
    "duration": 52,
    "start_time": "2021-12-24T12:29:05.252Z"
   },
   {
    "duration": 65,
    "start_time": "2021-12-24T12:31:30.207Z"
   },
   {
    "duration": 613,
    "start_time": "2021-12-24T17:12:17.416Z"
   },
   {
    "duration": 4,
    "start_time": "2021-12-24T17:12:18.031Z"
   },
   {
    "duration": 68,
    "start_time": "2021-12-24T17:48:45.380Z"
   },
   {
    "duration": 8,
    "start_time": "2021-12-24T17:59:18.458Z"
   },
   {
    "duration": 12,
    "start_time": "2021-12-24T18:00:19.355Z"
   },
   {
    "duration": 13,
    "start_time": "2021-12-24T18:04:20.812Z"
   },
   {
    "duration": 56,
    "start_time": "2021-12-24T18:04:24.379Z"
   },
   {
    "duration": 59,
    "start_time": "2021-12-24T18:04:30.736Z"
   },
   {
    "duration": 4,
    "start_time": "2021-12-24T18:06:50.680Z"
   },
   {
    "duration": 4,
    "start_time": "2021-12-24T18:06:53.512Z"
   },
   {
    "duration": 7,
    "start_time": "2021-12-24T18:07:11.728Z"
   },
   {
    "duration": 9,
    "start_time": "2021-12-24T18:07:56.953Z"
   },
   {
    "duration": 7,
    "start_time": "2021-12-24T18:08:32.368Z"
   },
   {
    "duration": 9,
    "start_time": "2021-12-24T18:09:37.495Z"
   },
   {
    "duration": 6,
    "start_time": "2021-12-24T18:10:06.526Z"
   },
   {
    "duration": 8,
    "start_time": "2021-12-24T18:10:17.710Z"
   },
   {
    "duration": 8,
    "start_time": "2021-12-24T18:11:39.072Z"
   },
   {
    "duration": 612,
    "start_time": "2021-12-25T15:31:49.804Z"
   },
   {
    "duration": 16,
    "start_time": "2021-12-25T15:31:50.417Z"
   },
   {
    "duration": 9,
    "start_time": "2021-12-25T15:31:50.435Z"
   },
   {
    "duration": 7,
    "start_time": "2021-12-25T15:31:50.446Z"
   },
   {
    "duration": 8,
    "start_time": "2021-12-25T15:31:50.455Z"
   },
   {
    "duration": 9,
    "start_time": "2021-12-25T15:31:50.465Z"
   },
   {
    "duration": 7,
    "start_time": "2021-12-25T15:40:00.302Z"
   },
   {
    "duration": 7,
    "start_time": "2021-12-25T15:40:25.814Z"
   },
   {
    "duration": 7,
    "start_time": "2021-12-25T15:40:31.742Z"
   },
   {
    "duration": 8,
    "start_time": "2021-12-25T15:40:38.406Z"
   },
   {
    "duration": 140,
    "start_time": "2021-12-25T15:42:01.461Z"
   },
   {
    "duration": 10,
    "start_time": "2021-12-25T15:42:28.974Z"
   },
   {
    "duration": 81,
    "start_time": "2021-12-25T15:42:42.765Z"
   },
   {
    "duration": 7,
    "start_time": "2021-12-25T15:42:53.142Z"
   },
   {
    "duration": 114,
    "start_time": "2021-12-25T15:43:03.173Z"
   },
   {
    "duration": 6,
    "start_time": "2021-12-25T15:43:28.054Z"
   },
   {
    "duration": 56,
    "start_time": "2021-12-25T15:44:11.300Z"
   },
   {
    "duration": 12,
    "start_time": "2021-12-25T15:45:18.307Z"
   },
   {
    "duration": 15,
    "start_time": "2021-12-25T15:45:51.421Z"
   },
   {
    "duration": 14,
    "start_time": "2021-12-25T15:46:06.237Z"
   },
   {
    "duration": 13,
    "start_time": "2021-12-25T15:47:06.213Z"
   },
   {
    "duration": 14,
    "start_time": "2021-12-25T15:48:08.330Z"
   },
   {
    "duration": 6,
    "start_time": "2021-12-25T15:48:27.770Z"
   },
   {
    "duration": 54,
    "start_time": "2021-12-25T15:48:38.214Z"
   },
   {
    "duration": 10,
    "start_time": "2021-12-25T15:48:38.270Z"
   },
   {
    "duration": 9,
    "start_time": "2021-12-25T15:48:38.282Z"
   },
   {
    "duration": 5,
    "start_time": "2021-12-25T15:48:38.293Z"
   },
   {
    "duration": 6,
    "start_time": "2021-12-25T15:48:38.299Z"
   },
   {
    "duration": 11,
    "start_time": "2021-12-25T15:48:38.306Z"
   },
   {
    "duration": 314,
    "start_time": "2021-12-25T15:51:56.859Z"
   },
   {
    "duration": 14,
    "start_time": "2021-12-25T15:53:55.313Z"
   },
   {
    "duration": 14,
    "start_time": "2021-12-25T15:54:03.936Z"
   },
   {
    "duration": 253,
    "start_time": "2021-12-25T15:55:22.544Z"
   },
   {
    "duration": 7,
    "start_time": "2021-12-25T15:56:17.584Z"
   },
   {
    "duration": 8,
    "start_time": "2021-12-25T15:57:07.623Z"
   },
   {
    "duration": 6,
    "start_time": "2021-12-25T15:57:25.375Z"
   },
   {
    "duration": 5,
    "start_time": "2021-12-25T15:57:36.144Z"
   },
   {
    "duration": 7,
    "start_time": "2021-12-25T15:58:47.958Z"
   },
   {
    "duration": 16,
    "start_time": "2021-12-25T16:00:29.903Z"
   },
   {
    "duration": 14,
    "start_time": "2021-12-25T16:00:36.669Z"
   },
   {
    "duration": 31,
    "start_time": "2021-12-25T16:01:24.589Z"
   },
   {
    "duration": 305,
    "start_time": "2021-12-25T18:49:58.170Z"
   },
   {
    "duration": 244,
    "start_time": "2021-12-25T18:50:09.194Z"
   },
   {
    "duration": 243,
    "start_time": "2021-12-25T18:50:58.156Z"
   },
   {
    "duration": 658,
    "start_time": "2021-12-25T18:51:14.797Z"
   },
   {
    "duration": 20,
    "start_time": "2021-12-25T18:51:15.458Z"
   },
   {
    "duration": 10,
    "start_time": "2021-12-25T18:51:15.480Z"
   },
   {
    "duration": 6,
    "start_time": "2021-12-25T18:51:15.492Z"
   },
   {
    "duration": 12,
    "start_time": "2021-12-25T18:51:15.500Z"
   },
   {
    "duration": 19,
    "start_time": "2021-12-25T18:51:15.541Z"
   },
   {
    "duration": 4,
    "start_time": "2021-12-25T18:51:22.976Z"
   },
   {
    "duration": 5,
    "start_time": "2021-12-25T18:51:43.576Z"
   },
   {
    "duration": 55,
    "start_time": "2021-12-25T18:52:31.541Z"
   },
   {
    "duration": 12,
    "start_time": "2021-12-25T18:52:31.597Z"
   },
   {
    "duration": 11,
    "start_time": "2021-12-25T18:52:31.610Z"
   },
   {
    "duration": 19,
    "start_time": "2021-12-25T18:52:31.623Z"
   },
   {
    "duration": 7,
    "start_time": "2021-12-25T18:52:31.643Z"
   },
   {
    "duration": 11,
    "start_time": "2021-12-25T18:52:31.651Z"
   },
   {
    "duration": 15,
    "start_time": "2021-12-25T18:52:31.663Z"
   },
   {
    "duration": 17,
    "start_time": "2021-12-25T18:52:31.680Z"
   },
   {
    "duration": 54,
    "start_time": "2021-12-25T18:52:44.123Z"
   },
   {
    "duration": 12,
    "start_time": "2021-12-25T18:52:44.178Z"
   },
   {
    "duration": 13,
    "start_time": "2021-12-25T18:52:44.192Z"
   },
   {
    "duration": 35,
    "start_time": "2021-12-25T18:52:44.207Z"
   },
   {
    "duration": 21,
    "start_time": "2021-12-25T18:52:44.244Z"
   },
   {
    "duration": 24,
    "start_time": "2021-12-25T18:52:44.267Z"
   },
   {
    "duration": 41,
    "start_time": "2021-12-25T18:52:44.292Z"
   },
   {
    "duration": 7,
    "start_time": "2021-12-25T19:07:31.415Z"
   },
   {
    "duration": 7,
    "start_time": "2021-12-25T19:07:47.847Z"
   },
   {
    "duration": 299,
    "start_time": "2021-12-25T19:08:51.750Z"
   },
   {
    "duration": 254,
    "start_time": "2021-12-25T19:14:01.805Z"
   },
   {
    "duration": 8,
    "start_time": "2021-12-25T19:14:22.149Z"
   },
   {
    "duration": 7,
    "start_time": "2021-12-25T19:14:38.196Z"
   },
   {
    "duration": 928,
    "start_time": "2021-12-27T16:37:34.989Z"
   },
   {
    "duration": 49,
    "start_time": "2021-12-27T16:37:35.921Z"
   },
   {
    "duration": 12,
    "start_time": "2021-12-27T16:37:35.974Z"
   },
   {
    "duration": 10,
    "start_time": "2021-12-27T16:37:35.990Z"
   },
   {
    "duration": 56,
    "start_time": "2021-12-27T16:37:36.003Z"
   },
   {
    "duration": 13,
    "start_time": "2021-12-27T16:37:36.063Z"
   },
   {
    "duration": 15,
    "start_time": "2021-12-27T16:37:36.080Z"
   },
   {
    "duration": 10,
    "start_time": "2021-12-27T16:37:36.100Z"
   },
   {
    "duration": 33,
    "start_time": "2021-12-27T16:37:36.160Z"
   },
   {
    "duration": 91,
    "start_time": "2021-12-27T16:37:36.196Z"
   },
   {
    "duration": 1287,
    "start_time": "2021-12-27T16:41:00.219Z"
   },
   {
    "duration": 1046,
    "start_time": "2021-12-27T16:44:27.314Z"
   },
   {
    "duration": 1019,
    "start_time": "2021-12-27T16:44:37.102Z"
   },
   {
    "duration": 1063,
    "start_time": "2021-12-27T16:44:45.423Z"
   },
   {
    "duration": 368,
    "start_time": "2021-12-27T16:45:11.944Z"
   },
   {
    "duration": 875,
    "start_time": "2021-12-27T19:26:29.326Z"
   },
   {
    "duration": 941,
    "start_time": "2021-12-27T19:26:29.334Z"
   },
   {
    "duration": 941,
    "start_time": "2021-12-27T19:26:29.346Z"
   },
   {
    "duration": 940,
    "start_time": "2021-12-27T19:26:29.419Z"
   },
   {
    "duration": 933,
    "start_time": "2021-12-27T19:26:29.437Z"
   },
   {
    "duration": 931,
    "start_time": "2021-12-27T19:26:29.446Z"
   },
   {
    "duration": 926,
    "start_time": "2021-12-27T19:26:29.459Z"
   },
   {
    "duration": 929,
    "start_time": "2021-12-27T19:26:29.463Z"
   },
   {
    "duration": 887,
    "start_time": "2021-12-27T19:26:29.513Z"
   },
   {
    "duration": 944,
    "start_time": "2021-12-27T19:26:29.517Z"
   },
   {
    "duration": 941,
    "start_time": "2021-12-27T19:26:29.528Z"
   },
   {
    "duration": 942,
    "start_time": "2021-12-27T19:26:29.535Z"
   },
   {
    "duration": 77,
    "start_time": "2021-12-27T19:26:33.996Z"
   },
   {
    "duration": 20,
    "start_time": "2021-12-27T19:26:40.636Z"
   },
   {
    "duration": 10,
    "start_time": "2021-12-27T19:26:44.557Z"
   },
   {
    "duration": 56,
    "start_time": "2021-12-27T19:26:59.443Z"
   },
   {
    "duration": 850,
    "start_time": "2021-12-27T19:28:53.791Z"
   },
   {
    "duration": 77,
    "start_time": "2021-12-27T19:28:57.419Z"
   },
   {
    "duration": 22,
    "start_time": "2021-12-27T19:29:00.431Z"
   },
   {
    "duration": 74,
    "start_time": "2021-12-27T19:29:13.200Z"
   },
   {
    "duration": 18,
    "start_time": "2021-12-27T19:29:13.276Z"
   },
   {
    "duration": 10,
    "start_time": "2021-12-27T19:29:13.297Z"
   },
   {
    "duration": 8,
    "start_time": "2021-12-27T19:29:13.311Z"
   },
   {
    "duration": 40,
    "start_time": "2021-12-27T19:29:13.321Z"
   },
   {
    "duration": 10,
    "start_time": "2021-12-27T19:29:13.364Z"
   },
   {
    "duration": 11,
    "start_time": "2021-12-27T19:29:13.376Z"
   },
   {
    "duration": 8,
    "start_time": "2021-12-27T19:29:13.390Z"
   },
   {
    "duration": 68,
    "start_time": "2021-12-27T19:29:13.400Z"
   },
   {
    "duration": 76,
    "start_time": "2021-12-27T19:29:17.762Z"
   },
   {
    "duration": 36471,
    "start_time": "2021-12-27T19:29:22.230Z"
   },
   {
    "duration": 21,
    "start_time": "2021-12-27T19:50:59.387Z"
   },
   {
    "duration": 360,
    "start_time": "2021-12-27T20:02:00.935Z"
   },
   {
    "duration": 362,
    "start_time": "2021-12-27T20:02:09.941Z"
   },
   {
    "duration": 37786,
    "start_time": "2021-12-27T20:02:18.260Z"
   },
   {
    "duration": 877,
    "start_time": "2021-12-27T20:11:42.444Z"
   },
   {
    "duration": 870,
    "start_time": "2021-12-27T20:11:42.452Z"
   },
   {
    "duration": 868,
    "start_time": "2021-12-27T20:11:42.456Z"
   },
   {
    "duration": 36849,
    "start_time": "2021-12-27T20:11:48.294Z"
   },
   {
    "duration": 20,
    "start_time": "2021-12-27T20:12:25.185Z"
   },
   {
    "duration": 82,
    "start_time": "2021-12-27T20:12:26.110Z"
   },
   {
    "duration": 20,
    "start_time": "2021-12-27T20:12:31.191Z"
   },
   {
    "duration": 11,
    "start_time": "2021-12-27T20:12:37.197Z"
   },
   {
    "duration": 9,
    "start_time": "2021-12-27T20:12:41.079Z"
   },
   {
    "duration": 9,
    "start_time": "2021-12-27T20:12:44.017Z"
   },
   {
    "duration": 10,
    "start_time": "2021-12-27T20:12:44.742Z"
   },
   {
    "duration": 12,
    "start_time": "2021-12-27T20:12:45.406Z"
   },
   {
    "duration": 7,
    "start_time": "2021-12-27T20:12:49.098Z"
   },
   {
    "duration": 23,
    "start_time": "2021-12-27T20:12:51.830Z"
   },
   {
    "duration": 51,
    "start_time": "2021-12-27T20:12:54.202Z"
   },
   {
    "duration": 360,
    "start_time": "2021-12-27T20:13:41.970Z"
   },
   {
    "duration": 12,
    "start_time": "2021-12-27T20:14:00.214Z"
   },
   {
    "duration": 7,
    "start_time": "2021-12-27T20:17:41.820Z"
   },
   {
    "duration": 347,
    "start_time": "2021-12-27T20:17:56.712Z"
   },
   {
    "duration": 11,
    "start_time": "2021-12-27T20:18:17.028Z"
   },
   {
    "duration": 11,
    "start_time": "2021-12-27T20:23:43.466Z"
   },
   {
    "duration": 352,
    "start_time": "2021-12-27T20:29:37.874Z"
   },
   {
    "duration": 359,
    "start_time": "2021-12-27T20:30:11.958Z"
   },
   {
    "duration": 578,
    "start_time": "2021-12-27T20:30:54.423Z"
   },
   {
    "duration": 24,
    "start_time": "2021-12-27T20:33:17.550Z"
   },
   {
    "duration": 878,
    "start_time": "2021-12-27T20:33:54.104Z"
   },
   {
    "duration": 75,
    "start_time": "2021-12-27T20:34:11.383Z"
   },
   {
    "duration": 15,
    "start_time": "2021-12-27T20:34:21.142Z"
   },
   {
    "duration": 24,
    "start_time": "2021-12-27T20:34:24.543Z"
   },
   {
    "duration": 84,
    "start_time": "2021-12-27T20:34:45.429Z"
   },
   {
    "duration": 43,
    "start_time": "2021-12-27T20:34:45.516Z"
   },
   {
    "duration": 13,
    "start_time": "2021-12-27T20:34:45.564Z"
   },
   {
    "duration": 8,
    "start_time": "2021-12-27T20:34:45.580Z"
   },
   {
    "duration": 7,
    "start_time": "2021-12-27T20:34:45.590Z"
   },
   {
    "duration": 9,
    "start_time": "2021-12-27T20:34:45.600Z"
   },
   {
    "duration": 12,
    "start_time": "2021-12-27T20:34:45.660Z"
   },
   {
    "duration": 22,
    "start_time": "2021-12-27T20:34:45.675Z"
   },
   {
    "duration": 23,
    "start_time": "2021-12-27T20:34:45.700Z"
   },
   {
    "duration": 51,
    "start_time": "2021-12-27T20:34:45.760Z"
   },
   {
    "duration": 862,
    "start_time": "2021-12-27T20:35:18.484Z"
   },
   {
    "duration": 79,
    "start_time": "2021-12-27T20:35:21.004Z"
   },
   {
    "duration": 78,
    "start_time": "2021-12-27T20:35:30.144Z"
   },
   {
    "duration": 47,
    "start_time": "2021-12-27T20:35:30.225Z"
   },
   {
    "duration": 11,
    "start_time": "2021-12-27T20:35:30.276Z"
   },
   {
    "duration": 8,
    "start_time": "2021-12-27T20:35:30.290Z"
   },
   {
    "duration": 7,
    "start_time": "2021-12-27T20:35:30.301Z"
   },
   {
    "duration": 10,
    "start_time": "2021-12-27T20:35:30.360Z"
   },
   {
    "duration": 21,
    "start_time": "2021-12-27T20:35:30.373Z"
   },
   {
    "duration": 11,
    "start_time": "2021-12-27T20:35:30.398Z"
   },
   {
    "duration": 72,
    "start_time": "2021-12-27T20:35:30.412Z"
   },
   {
    "duration": 83,
    "start_time": "2021-12-27T20:35:30.486Z"
   },
   {
    "duration": 870,
    "start_time": "2021-12-27T20:35:46.127Z"
   },
   {
    "duration": 868,
    "start_time": "2021-12-27T20:35:46.130Z"
   },
   {
    "duration": 879,
    "start_time": "2021-12-27T20:36:22.476Z"
   },
   {
    "duration": 78,
    "start_time": "2021-12-27T20:36:25.067Z"
   },
   {
    "duration": 20,
    "start_time": "2021-12-27T20:36:28.254Z"
   },
   {
    "duration": 11,
    "start_time": "2021-12-27T20:36:31.227Z"
   },
   {
    "duration": 11,
    "start_time": "2021-12-27T20:36:34.387Z"
   },
   {
    "duration": 11,
    "start_time": "2021-12-27T20:36:36.429Z"
   },
   {
    "duration": 10,
    "start_time": "2021-12-27T20:36:38.444Z"
   },
   {
    "duration": 9,
    "start_time": "2021-12-27T20:36:38.473Z"
   },
   {
    "duration": 8,
    "start_time": "2021-12-27T20:36:41.463Z"
   },
   {
    "duration": 24,
    "start_time": "2021-12-27T20:36:48.719Z"
   },
   {
    "duration": 53,
    "start_time": "2021-12-27T20:36:51.082Z"
   },
   {
    "duration": 36841,
    "start_time": "2021-12-27T20:36:54.821Z"
   },
   {
    "duration": 13,
    "start_time": "2021-12-27T20:37:31.665Z"
   },
   {
    "duration": 12,
    "start_time": "2021-12-27T20:37:31.681Z"
   },
   {
    "duration": 24,
    "start_time": "2021-12-27T20:37:40.907Z"
   },
   {
    "duration": 364,
    "start_time": "2021-12-27T20:38:59.807Z"
   },
   {
    "duration": 947,
    "start_time": "2021-12-29T12:15:56.467Z"
   },
   {
    "duration": 34619,
    "start_time": "2021-12-29T12:39:38.914Z"
   },
   {
    "duration": 33978,
    "start_time": "2021-12-29T12:47:08.051Z"
   },
   {
    "duration": 33749,
    "start_time": "2021-12-29T12:57:32.017Z"
   },
   {
    "duration": 8972,
    "start_time": "2021-12-29T13:07:41.778Z"
   },
   {
    "duration": 726984,
    "start_time": "2021-12-29T13:08:48.098Z"
   },
   {
    "duration": -120,
    "start_time": "2021-12-29T13:20:55.205Z"
   },
   {
    "duration": 14,
    "start_time": "2021-12-29T13:21:06.857Z"
   },
   {
    "duration": 5537,
    "start_time": "2021-12-29T13:21:29.933Z"
   },
   {
    "duration": 7474,
    "start_time": "2021-12-29T13:23:59.298Z"
   },
   {
    "duration": 1455,
    "start_time": "2021-12-29T13:25:55.596Z"
   },
   {
    "duration": 12372,
    "start_time": "2021-12-29T13:27:10.849Z"
   },
   {
    "duration": 9858,
    "start_time": "2021-12-29T13:28:24.229Z"
   },
   {
    "duration": -117,
    "start_time": "2021-12-29T13:28:34.209Z"
   },
   {
    "duration": 8706,
    "start_time": "2021-12-29T13:29:27.560Z"
   },
   {
    "duration": 7830,
    "start_time": "2021-12-29T13:30:19.143Z"
   },
   {
    "duration": 12,
    "start_time": "2021-12-29T13:30:34.965Z"
   },
   {
    "duration": 5004,
    "start_time": "2021-12-29T13:32:28.925Z"
   },
   {
    "duration": 4884,
    "start_time": "2021-12-29T13:33:04.312Z"
   },
   {
    "duration": 8,
    "start_time": "2021-12-29T13:33:31.261Z"
   },
   {
    "duration": 1355,
    "start_time": "2021-12-29T13:35:51.263Z"
   },
   {
    "duration": 40,
    "start_time": "2021-12-29T13:37:16.027Z"
   },
   {
    "duration": 22,
    "start_time": "2021-12-29T13:37:23.124Z"
   },
   {
    "duration": 76,
    "start_time": "2021-12-29T13:37:31.960Z"
   },
   {
    "duration": 20,
    "start_time": "2021-12-29T13:37:32.039Z"
   },
   {
    "duration": 32,
    "start_time": "2021-12-29T13:37:32.061Z"
   },
   {
    "duration": 8,
    "start_time": "2021-12-29T13:37:32.096Z"
   },
   {
    "duration": 42,
    "start_time": "2021-12-29T13:37:32.107Z"
   },
   {
    "duration": 28,
    "start_time": "2021-12-29T13:37:32.152Z"
   },
   {
    "duration": 18,
    "start_time": "2021-12-29T13:37:32.183Z"
   },
   {
    "duration": 19,
    "start_time": "2021-12-29T13:37:32.205Z"
   },
   {
    "duration": 34,
    "start_time": "2021-12-29T13:37:32.227Z"
   },
   {
    "duration": 70,
    "start_time": "2021-12-29T13:37:32.263Z"
   },
   {
    "duration": 951,
    "start_time": "2021-12-29T13:37:32.336Z"
   },
   {
    "duration": 5243,
    "start_time": "2021-12-29T13:37:33.290Z"
   },
   {
    "duration": 18,
    "start_time": "2021-12-29T13:37:38.537Z"
   },
   {
    "duration": 14,
    "start_time": "2021-12-29T13:37:43.589Z"
   },
   {
    "duration": 105,
    "start_time": "2021-12-29T13:38:43.602Z"
   },
   {
    "duration": 6,
    "start_time": "2021-12-29T13:38:49.533Z"
   },
   {
    "duration": 6,
    "start_time": "2021-12-29T13:49:14.590Z"
   },
   {
    "duration": 9,
    "start_time": "2021-12-29T13:49:26.669Z"
   },
   {
    "duration": 27,
    "start_time": "2021-12-29T13:49:47.292Z"
   },
   {
    "duration": 9,
    "start_time": "2021-12-29T13:50:53.784Z"
   },
   {
    "duration": 8,
    "start_time": "2021-12-29T13:50:53.820Z"
   },
   {
    "duration": 11,
    "start_time": "2021-12-29T13:51:14.700Z"
   },
   {
    "duration": 301,
    "start_time": "2021-12-29T13:51:27.163Z"
   },
   {
    "duration": 794,
    "start_time": "2021-12-29T15:20:05.015Z"
   },
   {
    "duration": 66,
    "start_time": "2021-12-29T15:20:14.827Z"
   },
   {
    "duration": 34,
    "start_time": "2021-12-29T15:20:14.896Z"
   },
   {
    "duration": 14,
    "start_time": "2021-12-29T15:20:14.933Z"
   },
   {
    "duration": 8,
    "start_time": "2021-12-29T15:20:14.950Z"
   },
   {
    "duration": 18,
    "start_time": "2021-12-29T15:20:14.961Z"
   },
   {
    "duration": 9,
    "start_time": "2021-12-29T15:20:14.981Z"
   },
   {
    "duration": 39,
    "start_time": "2021-12-29T15:20:14.992Z"
   },
   {
    "duration": 19,
    "start_time": "2021-12-29T15:20:15.034Z"
   },
   {
    "duration": 30,
    "start_time": "2021-12-29T15:20:15.055Z"
   },
   {
    "duration": 64,
    "start_time": "2021-12-29T15:20:15.087Z"
   },
   {
    "duration": 902,
    "start_time": "2021-12-29T15:20:15.153Z"
   },
   {
    "duration": 4791,
    "start_time": "2021-12-29T15:20:19.738Z"
   },
   {
    "duration": 555,
    "start_time": "2021-12-29T15:28:39.093Z"
   },
   {
    "duration": 426,
    "start_time": "2021-12-29T15:29:04.469Z"
   },
   {
    "duration": 316,
    "start_time": "2021-12-29T15:29:22.203Z"
   },
   {
    "duration": 319,
    "start_time": "2021-12-29T15:32:50.747Z"
   },
   {
    "duration": 41,
    "start_time": "2021-12-29T15:33:39.418Z"
   },
   {
    "duration": 452,
    "start_time": "2021-12-29T15:33:51.290Z"
   },
   {
    "duration": 304,
    "start_time": "2021-12-29T15:34:07.964Z"
   },
   {
    "duration": 624,
    "start_time": "2021-12-29T17:43:12.994Z"
   },
   {
    "duration": 339,
    "start_time": "2021-12-29T17:43:28.005Z"
   },
   {
    "duration": 770,
    "start_time": "2021-12-29T18:38:08.872Z"
   },
   {
    "duration": 12,
    "start_time": "2021-12-29T18:38:26.262Z"
   },
   {
    "duration": 69,
    "start_time": "2021-12-29T18:39:03.499Z"
   },
   {
    "duration": 18,
    "start_time": "2021-12-29T18:39:03.571Z"
   },
   {
    "duration": 32,
    "start_time": "2021-12-29T18:39:03.592Z"
   },
   {
    "duration": 8,
    "start_time": "2021-12-29T18:39:03.627Z"
   },
   {
    "duration": 8,
    "start_time": "2021-12-29T18:39:03.638Z"
   },
   {
    "duration": 10,
    "start_time": "2021-12-29T18:39:03.648Z"
   },
   {
    "duration": 13,
    "start_time": "2021-12-29T18:39:03.661Z"
   },
   {
    "duration": 9,
    "start_time": "2021-12-29T18:39:03.723Z"
   },
   {
    "duration": 26,
    "start_time": "2021-12-29T18:39:03.735Z"
   },
   {
    "duration": 84,
    "start_time": "2021-12-29T18:39:03.764Z"
   },
   {
    "duration": 1009,
    "start_time": "2021-12-29T18:39:03.851Z"
   },
   {
    "duration": 4728,
    "start_time": "2021-12-29T18:39:04.863Z"
   },
   {
    "duration": 35,
    "start_time": "2021-12-29T18:39:09.594Z"
   },
   {
    "duration": 6,
    "start_time": "2021-12-29T18:39:09.631Z"
   },
   {
    "duration": 12,
    "start_time": "2021-12-29T18:39:09.639Z"
   },
   {
    "duration": 3,
    "start_time": "2021-12-29T18:39:09.653Z"
   },
   {
    "duration": 19,
    "start_time": "2021-12-29T18:39:09.658Z"
   },
   {
    "duration": 301,
    "start_time": "2021-12-29T18:42:24.356Z"
   },
   {
    "duration": 25,
    "start_time": "2021-12-29T18:42:41.471Z"
   },
   {
    "duration": 24,
    "start_time": "2021-12-29T18:43:14.436Z"
   },
   {
    "duration": 23,
    "start_time": "2021-12-29T18:43:49.003Z"
   },
   {
    "duration": 9,
    "start_time": "2021-12-29T18:44:29.995Z"
   },
   {
    "duration": 27,
    "start_time": "2021-12-29T18:54:57.494Z"
   },
   {
    "duration": 14,
    "start_time": "2021-12-29T18:55:05.390Z"
   },
   {
    "duration": 12,
    "start_time": "2021-12-29T18:55:20.046Z"
   },
   {
    "duration": 14,
    "start_time": "2021-12-29T18:55:44.261Z"
   },
   {
    "duration": 20,
    "start_time": "2021-12-29T18:56:06.215Z"
   },
   {
    "duration": 24,
    "start_time": "2021-12-29T18:56:24.934Z"
   },
   {
    "duration": 385,
    "start_time": "2021-12-29T18:57:09.646Z"
   },
   {
    "duration": 370,
    "start_time": "2021-12-29T19:47:51.085Z"
   },
   {
    "duration": 392,
    "start_time": "2021-12-29T19:48:06.637Z"
   },
   {
    "duration": 12443,
    "start_time": "2021-12-29T19:51:23.157Z"
   },
   {
    "duration": 68,
    "start_time": "2021-12-29T19:53:08.824Z"
   },
   {
    "duration": 30,
    "start_time": "2021-12-29T19:53:08.895Z"
   },
   {
    "duration": 3,
    "start_time": "2021-12-29T19:53:08.929Z"
   },
   {
    "duration": 9,
    "start_time": "2021-12-29T19:53:08.935Z"
   },
   {
    "duration": 9,
    "start_time": "2021-12-29T19:53:08.947Z"
   },
   {
    "duration": 23,
    "start_time": "2021-12-29T19:53:08.958Z"
   },
   {
    "duration": 41,
    "start_time": "2021-12-29T19:53:08.983Z"
   },
   {
    "duration": 18,
    "start_time": "2021-12-29T19:53:09.028Z"
   },
   {
    "duration": 12,
    "start_time": "2021-12-29T19:53:09.048Z"
   },
   {
    "duration": 25,
    "start_time": "2021-12-29T19:53:09.062Z"
   },
   {
    "duration": 78,
    "start_time": "2021-12-29T19:53:09.089Z"
   },
   {
    "duration": 960,
    "start_time": "2021-12-29T19:53:09.169Z"
   },
   {
    "duration": 4852,
    "start_time": "2021-12-29T19:53:10.132Z"
   },
   {
    "duration": 37,
    "start_time": "2021-12-29T19:53:14.987Z"
   },
   {
    "duration": 7,
    "start_time": "2021-12-29T19:53:15.027Z"
   },
   {
    "duration": 13,
    "start_time": "2021-12-29T19:53:15.037Z"
   },
   {
    "duration": 3,
    "start_time": "2021-12-29T19:53:15.052Z"
   },
   {
    "duration": 66,
    "start_time": "2021-12-29T19:53:15.057Z"
   },
   {
    "duration": 705,
    "start_time": "2021-12-29T19:53:15.126Z"
   },
   {
    "duration": 13,
    "start_time": "2021-12-29T19:58:25.465Z"
   },
   {
    "duration": 43,
    "start_time": "2021-12-29T19:58:38.136Z"
   },
   {
    "duration": 42,
    "start_time": "2021-12-29T19:58:56.904Z"
   },
   {
    "duration": 27,
    "start_time": "2021-12-29T19:59:43.785Z"
   },
   {
    "duration": 924,
    "start_time": "2021-12-29T20:00:32.719Z"
   },
   {
    "duration": 74,
    "start_time": "2021-12-29T20:04:28.110Z"
   },
   {
    "duration": 48,
    "start_time": "2021-12-29T20:04:28.187Z"
   },
   {
    "duration": 7,
    "start_time": "2021-12-29T20:04:28.238Z"
   },
   {
    "duration": 18,
    "start_time": "2021-12-29T20:04:28.248Z"
   },
   {
    "duration": 8,
    "start_time": "2021-12-29T20:04:28.268Z"
   },
   {
    "duration": 49,
    "start_time": "2021-12-29T20:04:28.279Z"
   },
   {
    "duration": 10,
    "start_time": "2021-12-29T20:04:28.330Z"
   },
   {
    "duration": 11,
    "start_time": "2021-12-29T20:04:28.344Z"
   },
   {
    "duration": 9,
    "start_time": "2021-12-29T20:04:28.358Z"
   },
   {
    "duration": 65,
    "start_time": "2021-12-29T20:04:28.369Z"
   },
   {
    "duration": 49,
    "start_time": "2021-12-29T20:04:28.436Z"
   },
   {
    "duration": 981,
    "start_time": "2021-12-29T20:04:28.488Z"
   },
   {
    "duration": 4807,
    "start_time": "2021-12-29T20:04:29.472Z"
   },
   {
    "duration": 18,
    "start_time": "2021-12-29T20:04:34.282Z"
   },
   {
    "duration": 23,
    "start_time": "2021-12-29T20:04:34.302Z"
   },
   {
    "duration": 13,
    "start_time": "2021-12-29T20:04:34.327Z"
   },
   {
    "duration": 3,
    "start_time": "2021-12-29T20:04:34.342Z"
   },
   {
    "duration": 77,
    "start_time": "2021-12-29T20:04:34.348Z"
   },
   {
    "duration": 32,
    "start_time": "2021-12-29T20:04:34.427Z"
   },
   {
    "duration": 25,
    "start_time": "2021-12-29T20:07:34.774Z"
   },
   {
    "duration": 317,
    "start_time": "2021-12-29T20:10:12.524Z"
   },
   {
    "duration": 25,
    "start_time": "2021-12-29T20:10:22.580Z"
   },
   {
    "duration": 30,
    "start_time": "2021-12-29T20:10:31.442Z"
   },
   {
    "duration": 28,
    "start_time": "2021-12-29T20:10:38.628Z"
   },
   {
    "duration": 324,
    "start_time": "2021-12-29T20:10:55.250Z"
   },
   {
    "duration": 14111,
    "start_time": "2021-12-29T20:12:35.603Z"
   },
   {
    "duration": 32,
    "start_time": "2021-12-29T20:13:01.227Z"
   },
   {
    "duration": 29,
    "start_time": "2021-12-29T20:13:26.194Z"
   },
   {
    "duration": 31,
    "start_time": "2021-12-29T20:14:30.402Z"
   },
   {
    "duration": 299,
    "start_time": "2021-12-29T20:16:31.938Z"
   },
   {
    "duration": 32,
    "start_time": "2021-12-29T20:16:37.234Z"
   },
   {
    "duration": 33,
    "start_time": "2021-12-29T20:17:28.634Z"
   },
   {
    "duration": 5408,
    "start_time": "2021-12-29T20:18:44.850Z"
   },
   {
    "duration": 75,
    "start_time": "2021-12-29T20:25:35.888Z"
   },
   {
    "duration": 19,
    "start_time": "2021-12-29T20:25:35.967Z"
   },
   {
    "duration": 6,
    "start_time": "2021-12-29T20:25:35.990Z"
   },
   {
    "duration": 10,
    "start_time": "2021-12-29T20:25:36.025Z"
   },
   {
    "duration": 9,
    "start_time": "2021-12-29T20:25:36.039Z"
   },
   {
    "duration": 11,
    "start_time": "2021-12-29T20:25:36.051Z"
   },
   {
    "duration": 10,
    "start_time": "2021-12-29T20:25:36.064Z"
   },
   {
    "duration": 50,
    "start_time": "2021-12-29T20:25:36.079Z"
   },
   {
    "duration": 11,
    "start_time": "2021-12-29T20:25:36.132Z"
   },
   {
    "duration": 26,
    "start_time": "2021-12-29T20:25:36.145Z"
   },
   {
    "duration": 80,
    "start_time": "2021-12-29T20:25:36.173Z"
   },
   {
    "duration": 947,
    "start_time": "2021-12-29T20:25:36.256Z"
   },
   {
    "duration": 4884,
    "start_time": "2021-12-29T20:25:37.205Z"
   },
   {
    "duration": 34,
    "start_time": "2021-12-29T20:25:42.092Z"
   },
   {
    "duration": 7,
    "start_time": "2021-12-29T20:25:42.128Z"
   },
   {
    "duration": 11,
    "start_time": "2021-12-29T20:25:42.137Z"
   },
   {
    "duration": 2,
    "start_time": "2021-12-29T20:25:42.151Z"
   },
   {
    "duration": 2338,
    "start_time": "2021-12-29T20:25:42.155Z"
   },
   {
    "duration": -383,
    "start_time": "2021-12-29T20:25:44.878Z"
   },
   {
    "duration": 301,
    "start_time": "2021-12-29T20:26:20.124Z"
   },
   {
    "duration": 49,
    "start_time": "2021-12-29T20:26:37.853Z"
   },
   {
    "duration": 72,
    "start_time": "2021-12-29T20:28:07.731Z"
   },
   {
    "duration": -376,
    "start_time": "2021-12-29T20:29:38.582Z"
   },
   {
    "duration": 8950,
    "start_time": "2021-12-29T20:29:50.281Z"
   },
   {
    "duration": 66,
    "start_time": "2021-12-29T20:29:59.351Z"
   },
   {
    "duration": 18,
    "start_time": "2021-12-29T20:29:59.420Z"
   },
   {
    "duration": 9,
    "start_time": "2021-12-29T20:29:59.441Z"
   },
   {
    "duration": 24,
    "start_time": "2021-12-29T20:29:59.452Z"
   },
   {
    "duration": 34,
    "start_time": "2021-12-29T20:29:59.478Z"
   },
   {
    "duration": 30,
    "start_time": "2021-12-29T20:29:59.515Z"
   },
   {
    "duration": 24,
    "start_time": "2021-12-29T20:29:59.548Z"
   },
   {
    "duration": 20,
    "start_time": "2021-12-29T20:29:59.576Z"
   },
   {
    "duration": 11,
    "start_time": "2021-12-29T20:29:59.598Z"
   },
   {
    "duration": 33,
    "start_time": "2021-12-29T20:29:59.612Z"
   },
   {
    "duration": 57,
    "start_time": "2021-12-29T20:29:59.647Z"
   },
   {
    "duration": 910,
    "start_time": "2021-12-29T20:29:59.706Z"
   },
   {
    "duration": 4771,
    "start_time": "2021-12-29T20:30:00.618Z"
   },
   {
    "duration": 34,
    "start_time": "2021-12-29T20:30:05.392Z"
   },
   {
    "duration": 6,
    "start_time": "2021-12-29T20:30:05.429Z"
   },
   {
    "duration": 14,
    "start_time": "2021-12-29T20:30:05.438Z"
   },
   {
    "duration": 3,
    "start_time": "2021-12-29T20:30:05.454Z"
   },
   {
    "duration": 69,
    "start_time": "2021-12-29T20:31:01.746Z"
   },
   {
    "duration": 64,
    "start_time": "2021-12-29T20:31:18.515Z"
   },
   {
    "duration": 69,
    "start_time": "2021-12-29T20:31:27.792Z"
   },
   {
    "duration": 19,
    "start_time": "2021-12-29T20:31:27.864Z"
   },
   {
    "duration": 3,
    "start_time": "2021-12-29T20:31:27.886Z"
   },
   {
    "duration": 32,
    "start_time": "2021-12-29T20:31:27.892Z"
   },
   {
    "duration": 10,
    "start_time": "2021-12-29T20:31:27.927Z"
   },
   {
    "duration": 18,
    "start_time": "2021-12-29T20:31:27.939Z"
   },
   {
    "duration": 18,
    "start_time": "2021-12-29T20:31:27.960Z"
   },
   {
    "duration": 11,
    "start_time": "2021-12-29T20:31:27.980Z"
   },
   {
    "duration": 33,
    "start_time": "2021-12-29T20:31:27.995Z"
   },
   {
    "duration": 23,
    "start_time": "2021-12-29T20:31:28.030Z"
   },
   {
    "duration": 73,
    "start_time": "2021-12-29T20:31:28.055Z"
   },
   {
    "duration": 1045,
    "start_time": "2021-12-29T20:31:28.131Z"
   },
   {
    "duration": 4860,
    "start_time": "2021-12-29T20:31:29.178Z"
   },
   {
    "duration": 18,
    "start_time": "2021-12-29T20:31:34.041Z"
   },
   {
    "duration": 6,
    "start_time": "2021-12-29T20:31:34.062Z"
   },
   {
    "duration": 12,
    "start_time": "2021-12-29T20:31:34.070Z"
   },
   {
    "duration": 3,
    "start_time": "2021-12-29T20:31:34.084Z"
   },
   {
    "duration": 91,
    "start_time": "2021-12-29T20:31:34.089Z"
   },
   {
    "duration": 64,
    "start_time": "2021-12-29T20:31:34.182Z"
   },
   {
    "duration": 51,
    "start_time": "2021-12-29T20:32:47.065Z"
   },
   {
    "duration": 70,
    "start_time": "2021-12-29T20:33:30.547Z"
   },
   {
    "duration": 22,
    "start_time": "2021-12-29T20:33:30.621Z"
   },
   {
    "duration": 4,
    "start_time": "2021-12-29T20:33:30.647Z"
   },
   {
    "duration": 13,
    "start_time": "2021-12-29T20:33:30.655Z"
   },
   {
    "duration": 13,
    "start_time": "2021-12-29T20:33:30.671Z"
   },
   {
    "duration": 11,
    "start_time": "2021-12-29T20:33:30.722Z"
   },
   {
    "duration": 17,
    "start_time": "2021-12-29T20:33:30.735Z"
   },
   {
    "duration": 10,
    "start_time": "2021-12-29T20:33:30.756Z"
   },
   {
    "duration": 13,
    "start_time": "2021-12-29T20:33:30.768Z"
   },
   {
    "duration": 53,
    "start_time": "2021-12-29T20:33:30.784Z"
   },
   {
    "duration": 53,
    "start_time": "2021-12-29T20:33:30.840Z"
   },
   {
    "duration": 980,
    "start_time": "2021-12-29T20:33:30.896Z"
   },
   {
    "duration": 4817,
    "start_time": "2021-12-29T20:33:31.880Z"
   },
   {
    "duration": 31,
    "start_time": "2021-12-29T20:33:36.700Z"
   },
   {
    "duration": 6,
    "start_time": "2021-12-29T20:33:36.734Z"
   },
   {
    "duration": 14,
    "start_time": "2021-12-29T20:33:36.742Z"
   },
   {
    "duration": 3,
    "start_time": "2021-12-29T20:33:36.759Z"
   },
   {
    "duration": 84,
    "start_time": "2021-12-29T20:33:36.765Z"
   },
   {
    "duration": 36,
    "start_time": "2021-12-29T20:33:36.852Z"
   },
   {
    "duration": 15,
    "start_time": "2021-12-29T20:33:53.904Z"
   },
   {
    "duration": 21,
    "start_time": "2021-12-29T20:34:44.352Z"
   },
   {
    "duration": 26,
    "start_time": "2021-12-29T20:35:47.960Z"
   },
   {
    "duration": 21,
    "start_time": "2021-12-29T20:36:10.951Z"
   },
   {
    "duration": 7744,
    "start_time": "2021-12-29T20:37:21.801Z"
   },
   {
    "duration": 26,
    "start_time": "2021-12-29T20:37:55.424Z"
   },
   {
    "duration": 25,
    "start_time": "2021-12-29T20:38:11.568Z"
   },
   {
    "duration": 324,
    "start_time": "2021-12-29T20:38:48.526Z"
   },
   {
    "duration": 44,
    "start_time": "2021-12-29T20:39:26.102Z"
   },
   {
    "duration": 68,
    "start_time": "2021-12-29T20:39:55.105Z"
   },
   {
    "duration": 17,
    "start_time": "2021-12-29T20:39:55.176Z"
   },
   {
    "duration": 27,
    "start_time": "2021-12-29T20:39:55.196Z"
   },
   {
    "duration": 10,
    "start_time": "2021-12-29T20:39:55.226Z"
   },
   {
    "duration": 7,
    "start_time": "2021-12-29T20:39:55.239Z"
   },
   {
    "duration": 10,
    "start_time": "2021-12-29T20:39:55.248Z"
   },
   {
    "duration": 9,
    "start_time": "2021-12-29T20:39:55.260Z"
   },
   {
    "duration": 51,
    "start_time": "2021-12-29T20:39:55.274Z"
   },
   {
    "duration": 10,
    "start_time": "2021-12-29T20:39:55.329Z"
   },
   {
    "duration": 26,
    "start_time": "2021-12-29T20:39:55.341Z"
   },
   {
    "duration": 85,
    "start_time": "2021-12-29T20:39:55.370Z"
   },
   {
    "duration": 957,
    "start_time": "2021-12-29T20:39:55.458Z"
   },
   {
    "duration": 4850,
    "start_time": "2021-12-29T20:39:56.423Z"
   },
   {
    "duration": 20,
    "start_time": "2021-12-29T20:40:01.277Z"
   },
   {
    "duration": 25,
    "start_time": "2021-12-29T20:40:01.299Z"
   },
   {
    "duration": 27,
    "start_time": "2021-12-29T20:40:01.327Z"
   },
   {
    "duration": 24,
    "start_time": "2021-12-29T20:40:01.356Z"
   },
   {
    "duration": 61,
    "start_time": "2021-12-29T20:40:01.382Z"
   },
   {
    "duration": 46,
    "start_time": "2021-12-29T20:40:01.445Z"
   },
   {
    "duration": 71,
    "start_time": "2021-12-29T20:40:20.856Z"
   },
   {
    "duration": 19,
    "start_time": "2021-12-29T20:40:20.930Z"
   },
   {
    "duration": 8,
    "start_time": "2021-12-29T20:40:20.951Z"
   },
   {
    "duration": 10,
    "start_time": "2021-12-29T20:40:20.962Z"
   },
   {
    "duration": 7,
    "start_time": "2021-12-29T20:40:20.974Z"
   },
   {
    "duration": 44,
    "start_time": "2021-12-29T20:40:20.983Z"
   },
   {
    "duration": 10,
    "start_time": "2021-12-29T20:40:21.030Z"
   },
   {
    "duration": 13,
    "start_time": "2021-12-29T20:40:21.043Z"
   },
   {
    "duration": 12,
    "start_time": "2021-12-29T20:40:21.059Z"
   },
   {
    "duration": 65,
    "start_time": "2021-12-29T20:40:21.074Z"
   },
   {
    "duration": 51,
    "start_time": "2021-12-29T20:40:21.142Z"
   },
   {
    "duration": 1043,
    "start_time": "2021-12-29T20:40:21.196Z"
   },
   {
    "duration": 4523,
    "start_time": "2021-12-29T20:40:22.242Z"
   },
   {
    "duration": 20,
    "start_time": "2021-12-29T20:40:26.768Z"
   },
   {
    "duration": 7,
    "start_time": "2021-12-29T20:40:26.790Z"
   },
   {
    "duration": 13,
    "start_time": "2021-12-29T20:40:26.823Z"
   },
   {
    "duration": 6,
    "start_time": "2021-12-29T20:40:26.838Z"
   },
   {
    "duration": 49,
    "start_time": "2021-12-29T20:40:26.846Z"
   },
   {
    "duration": 58,
    "start_time": "2021-12-29T20:40:26.898Z"
   },
   {
    "duration": 42,
    "start_time": "2021-12-29T20:40:26.959Z"
   },
   {
    "duration": 9,
    "start_time": "2021-12-29T20:41:18.973Z"
   },
   {
    "duration": 33,
    "start_time": "2021-12-29T20:45:08.299Z"
   },
   {
    "duration": 33,
    "start_time": "2021-12-29T20:46:47.850Z"
   },
   {
    "duration": 339,
    "start_time": "2021-12-29T20:48:25.146Z"
   },
   {
    "duration": 494,
    "start_time": "2021-12-29T20:50:58.985Z"
   },
   {
    "duration": 74,
    "start_time": "2021-12-29T20:51:25.060Z"
   },
   {
    "duration": 19,
    "start_time": "2021-12-29T20:51:25.137Z"
   },
   {
    "duration": 4,
    "start_time": "2021-12-29T20:51:25.160Z"
   },
   {
    "duration": 10,
    "start_time": "2021-12-29T20:51:25.167Z"
   },
   {
    "duration": 45,
    "start_time": "2021-12-29T20:51:25.179Z"
   },
   {
    "duration": 10,
    "start_time": "2021-12-29T20:51:25.227Z"
   },
   {
    "duration": 7,
    "start_time": "2021-12-29T20:51:25.239Z"
   },
   {
    "duration": 9,
    "start_time": "2021-12-29T20:51:25.250Z"
   },
   {
    "duration": 8,
    "start_time": "2021-12-29T20:51:25.261Z"
   },
   {
    "duration": 68,
    "start_time": "2021-12-29T20:51:25.274Z"
   },
   {
    "duration": 51,
    "start_time": "2021-12-29T20:51:25.344Z"
   },
   {
    "duration": 980,
    "start_time": "2021-12-29T20:51:25.398Z"
   },
   {
    "duration": 5104,
    "start_time": "2021-12-29T20:51:26.382Z"
   },
   {
    "duration": 7,
    "start_time": "2021-12-29T20:51:31.488Z"
   },
   {
    "duration": 28,
    "start_time": "2021-12-29T20:51:31.497Z"
   },
   {
    "duration": 338,
    "start_time": "2021-12-29T20:51:31.527Z"
   },
   {
    "duration": -393,
    "start_time": "2021-12-29T20:51:32.261Z"
   },
   {
    "duration": -402,
    "start_time": "2021-12-29T20:51:32.272Z"
   },
   {
    "duration": -404,
    "start_time": "2021-12-29T20:51:32.275Z"
   },
   {
    "duration": -405,
    "start_time": "2021-12-29T20:51:32.278Z"
   },
   {
    "duration": 9,
    "start_time": "2021-12-29T20:53:18.173Z"
   },
   {
    "duration": 29,
    "start_time": "2021-12-29T20:53:44.706Z"
   },
   {
    "duration": 322,
    "start_time": "2021-12-29T20:54:01.042Z"
   },
   {
    "duration": 335,
    "start_time": "2021-12-29T20:55:11.910Z"
   },
   {
    "duration": 75,
    "start_time": "2021-12-29T20:55:49.366Z"
   },
   {
    "duration": 20,
    "start_time": "2021-12-29T20:55:49.444Z"
   },
   {
    "duration": 12,
    "start_time": "2021-12-29T20:55:49.468Z"
   },
   {
    "duration": 26,
    "start_time": "2021-12-29T20:55:49.484Z"
   },
   {
    "duration": 17,
    "start_time": "2021-12-29T20:55:49.513Z"
   },
   {
    "duration": 11,
    "start_time": "2021-12-29T20:55:49.533Z"
   },
   {
    "duration": 9,
    "start_time": "2021-12-29T20:55:49.546Z"
   },
   {
    "duration": 10,
    "start_time": "2021-12-29T20:55:49.558Z"
   },
   {
    "duration": 57,
    "start_time": "2021-12-29T20:55:49.572Z"
   },
   {
    "duration": 30,
    "start_time": "2021-12-29T20:55:49.632Z"
   },
   {
    "duration": 69,
    "start_time": "2021-12-29T20:55:49.664Z"
   },
   {
    "duration": 938,
    "start_time": "2021-12-29T20:55:49.736Z"
   },
   {
    "duration": 5092,
    "start_time": "2021-12-29T20:55:50.677Z"
   },
   {
    "duration": 9,
    "start_time": "2021-12-29T20:55:55.772Z"
   },
   {
    "duration": 11,
    "start_time": "2021-12-29T20:55:55.784Z"
   },
   {
    "duration": 62,
    "start_time": "2021-12-29T20:55:55.797Z"
   },
   {
    "duration": 21,
    "start_time": "2021-12-29T20:56:00.286Z"
   },
   {
    "duration": 322,
    "start_time": "2021-12-29T20:56:11.968Z"
   },
   {
    "duration": 42,
    "start_time": "2021-12-29T20:56:39.180Z"
   },
   {
    "duration": 336,
    "start_time": "2021-12-29T20:56:47.663Z"
   },
   {
    "duration": 358,
    "start_time": "2021-12-29T20:57:49.285Z"
   },
   {
    "duration": 32,
    "start_time": "2021-12-29T20:57:59.550Z"
   },
   {
    "duration": 33,
    "start_time": "2021-12-29T20:58:08.260Z"
   },
   {
    "duration": 45,
    "start_time": "2021-12-29T20:58:12.093Z"
   },
   {
    "duration": 381,
    "start_time": "2021-12-29T20:58:28.102Z"
   },
   {
    "duration": 21,
    "start_time": "2021-12-29T20:58:43.588Z"
   },
   {
    "duration": 415,
    "start_time": "2021-12-29T20:58:46.541Z"
   },
   {
    "duration": 17,
    "start_time": "2021-12-29T20:59:30.860Z"
   },
   {
    "duration": 71,
    "start_time": "2021-12-29T20:59:43.972Z"
   },
   {
    "duration": 19,
    "start_time": "2021-12-29T20:59:44.045Z"
   },
   {
    "duration": 4,
    "start_time": "2021-12-29T20:59:44.067Z"
   },
   {
    "duration": 13,
    "start_time": "2021-12-29T20:59:44.074Z"
   },
   {
    "duration": 38,
    "start_time": "2021-12-29T20:59:44.089Z"
   },
   {
    "duration": 9,
    "start_time": "2021-12-29T20:59:44.130Z"
   },
   {
    "duration": 8,
    "start_time": "2021-12-29T20:59:44.142Z"
   },
   {
    "duration": 10,
    "start_time": "2021-12-29T20:59:44.153Z"
   },
   {
    "duration": 8,
    "start_time": "2021-12-29T20:59:44.166Z"
   },
   {
    "duration": 67,
    "start_time": "2021-12-29T20:59:44.176Z"
   },
   {
    "duration": 87,
    "start_time": "2021-12-29T20:59:44.245Z"
   },
   {
    "duration": 993,
    "start_time": "2021-12-29T20:59:44.334Z"
   },
   {
    "duration": 5339,
    "start_time": "2021-12-29T20:59:45.329Z"
   },
   {
    "duration": 7,
    "start_time": "2021-12-29T20:59:50.670Z"
   },
   {
    "duration": 10,
    "start_time": "2021-12-29T20:59:50.680Z"
   },
   {
    "duration": 20,
    "start_time": "2021-12-29T20:59:54.148Z"
   },
   {
    "duration": 317,
    "start_time": "2021-12-29T21:00:00.459Z"
   },
   {
    "duration": 44,
    "start_time": "2021-12-29T21:00:14.028Z"
   },
   {
    "duration": 332,
    "start_time": "2021-12-29T21:00:20.373Z"
   },
   {
    "duration": 38,
    "start_time": "2021-12-29T21:00:48.888Z"
   },
   {
    "duration": 52,
    "start_time": "2021-12-29T21:01:04.251Z"
   },
   {
    "duration": 25,
    "start_time": "2021-12-29T21:01:30.916Z"
   },
   {
    "duration": 336,
    "start_time": "2021-12-29T21:01:59.971Z"
   },
   {
    "duration": 338,
    "start_time": "2021-12-30T07:08:22.797Z"
   },
   {
    "duration": 857,
    "start_time": "2021-12-30T07:08:36.591Z"
   },
   {
    "duration": 28,
    "start_time": "2021-12-30T07:08:37.450Z"
   },
   {
    "duration": 8,
    "start_time": "2021-12-30T07:08:37.482Z"
   },
   {
    "duration": 26,
    "start_time": "2021-12-30T07:08:37.493Z"
   },
   {
    "duration": 10,
    "start_time": "2021-12-30T07:08:37.521Z"
   },
   {
    "duration": 9,
    "start_time": "2021-12-30T07:08:37.533Z"
   },
   {
    "duration": 10,
    "start_time": "2021-12-30T07:08:37.544Z"
   },
   {
    "duration": 7,
    "start_time": "2021-12-30T07:08:37.557Z"
   },
   {
    "duration": 69,
    "start_time": "2021-12-30T07:08:37.567Z"
   },
   {
    "duration": 51,
    "start_time": "2021-12-30T07:08:37.638Z"
   },
   {
    "duration": 957,
    "start_time": "2021-12-30T07:08:37.691Z"
   },
   {
    "duration": 4507,
    "start_time": "2021-12-30T07:08:38.650Z"
   },
   {
    "duration": 7,
    "start_time": "2021-12-30T07:08:43.159Z"
   },
   {
    "duration": 13,
    "start_time": "2021-12-30T07:08:43.169Z"
   },
   {
    "duration": 51,
    "start_time": "2021-12-30T07:09:23.519Z"
   },
   {
    "duration": 395,
    "start_time": "2021-12-30T07:56:37.483Z"
   },
   {
    "duration": 72,
    "start_time": "2021-12-30T07:56:44.014Z"
   },
   {
    "duration": 29,
    "start_time": "2021-12-30T07:56:44.089Z"
   },
   {
    "duration": 10,
    "start_time": "2021-12-30T07:56:44.122Z"
   },
   {
    "duration": 9,
    "start_time": "2021-12-30T07:56:44.136Z"
   },
   {
    "duration": 9,
    "start_time": "2021-12-30T07:56:44.147Z"
   },
   {
    "duration": 10,
    "start_time": "2021-12-30T07:56:44.158Z"
   },
   {
    "duration": 10,
    "start_time": "2021-12-30T07:56:44.218Z"
   },
   {
    "duration": 9,
    "start_time": "2021-12-30T07:56:44.231Z"
   },
   {
    "duration": 24,
    "start_time": "2021-12-30T07:56:44.242Z"
   },
   {
    "duration": 83,
    "start_time": "2021-12-30T07:56:44.268Z"
   },
   {
    "duration": 1177,
    "start_time": "2021-12-30T07:56:44.353Z"
   },
   {
    "duration": 4446,
    "start_time": "2021-12-30T07:56:45.532Z"
   },
   {
    "duration": 8,
    "start_time": "2021-12-30T07:56:49.980Z"
   },
   {
    "duration": 29,
    "start_time": "2021-12-30T07:56:49.990Z"
   },
   {
    "duration": 90,
    "start_time": "2021-12-30T07:56:50.022Z"
   },
   {
    "duration": 300,
    "start_time": "2021-12-30T07:56:50.115Z"
   },
   {
    "duration": -606,
    "start_time": "2021-12-30T07:56:51.025Z"
   },
   {
    "duration": -608,
    "start_time": "2021-12-30T07:56:51.028Z"
   },
   {
    "duration": -609,
    "start_time": "2021-12-30T07:56:51.031Z"
   },
   {
    "duration": -610,
    "start_time": "2021-12-30T07:56:51.033Z"
   },
   {
    "duration": 73,
    "start_time": "2021-12-30T07:57:09.600Z"
   },
   {
    "duration": 43,
    "start_time": "2021-12-30T07:57:09.676Z"
   },
   {
    "duration": 9,
    "start_time": "2021-12-30T07:57:09.723Z"
   },
   {
    "duration": 9,
    "start_time": "2021-12-30T07:57:09.735Z"
   },
   {
    "duration": 10,
    "start_time": "2021-12-30T07:57:09.747Z"
   },
   {
    "duration": 10,
    "start_time": "2021-12-30T07:57:09.760Z"
   },
   {
    "duration": 10,
    "start_time": "2021-12-30T07:57:09.818Z"
   },
   {
    "duration": 8,
    "start_time": "2021-12-30T07:57:09.830Z"
   },
   {
    "duration": 24,
    "start_time": "2021-12-30T07:57:09.842Z"
   },
   {
    "duration": 87,
    "start_time": "2021-12-30T07:57:09.868Z"
   },
   {
    "duration": 980,
    "start_time": "2021-12-30T07:57:09.958Z"
   },
   {
    "duration": 4987,
    "start_time": "2021-12-30T07:57:10.941Z"
   },
   {
    "duration": 10,
    "start_time": "2021-12-30T07:57:15.932Z"
   },
   {
    "duration": 17,
    "start_time": "2021-12-30T07:57:15.945Z"
   },
   {
    "duration": 111,
    "start_time": "2021-12-30T07:57:15.965Z"
   },
   {
    "duration": 289,
    "start_time": "2021-12-30T07:57:16.078Z"
   },
   {
    "duration": -607,
    "start_time": "2021-12-30T07:57:16.977Z"
   },
   {
    "duration": -609,
    "start_time": "2021-12-30T07:57:16.980Z"
   },
   {
    "duration": -610,
    "start_time": "2021-12-30T07:57:16.983Z"
   },
   {
    "duration": 45,
    "start_time": "2021-12-30T08:38:35.813Z"
   },
   {
    "duration": 78,
    "start_time": "2021-12-30T08:38:51.142Z"
   },
   {
    "duration": 21,
    "start_time": "2021-12-30T08:38:51.223Z"
   },
   {
    "duration": 11,
    "start_time": "2021-12-30T08:38:51.248Z"
   },
   {
    "duration": 9,
    "start_time": "2021-12-30T08:38:51.262Z"
   },
   {
    "duration": 52,
    "start_time": "2021-12-30T08:38:51.273Z"
   },
   {
    "duration": 10,
    "start_time": "2021-12-30T08:38:51.327Z"
   },
   {
    "duration": 11,
    "start_time": "2021-12-30T08:38:51.339Z"
   },
   {
    "duration": 9,
    "start_time": "2021-12-30T08:38:51.355Z"
   },
   {
    "duration": 71,
    "start_time": "2021-12-30T08:38:51.367Z"
   },
   {
    "duration": 53,
    "start_time": "2021-12-30T08:38:51.440Z"
   },
   {
    "duration": 1007,
    "start_time": "2021-12-30T08:38:51.495Z"
   },
   {
    "duration": 4561,
    "start_time": "2021-12-30T08:38:52.505Z"
   },
   {
    "duration": 7,
    "start_time": "2021-12-30T08:38:57.069Z"
   },
   {
    "duration": 66,
    "start_time": "2021-12-30T08:38:57.078Z"
   },
   {
    "duration": 51,
    "start_time": "2021-12-30T08:38:57.147Z"
   },
   {
    "duration": 42,
    "start_time": "2021-12-30T08:38:57.218Z"
   },
   {
    "duration": 65,
    "start_time": "2021-12-30T08:38:57.262Z"
   },
   {
    "duration": 39,
    "start_time": "2021-12-30T08:38:57.330Z"
   },
   {
    "duration": 74,
    "start_time": "2021-12-30T08:38:57.371Z"
   },
   {
    "duration": 29,
    "start_time": "2021-12-30T08:40:28.978Z"
   },
   {
    "duration": 8,
    "start_time": "2021-12-30T08:40:57.223Z"
   },
   {
    "duration": 37,
    "start_time": "2021-12-30T08:41:57.801Z"
   },
   {
    "duration": 33,
    "start_time": "2021-12-30T08:43:18.560Z"
   },
   {
    "duration": 10,
    "start_time": "2021-12-30T09:08:06.723Z"
   },
   {
    "duration": 15,
    "start_time": "2021-12-30T09:10:45.546Z"
   },
   {
    "duration": 31,
    "start_time": "2021-12-30T09:10:51.908Z"
   },
   {
    "duration": 72,
    "start_time": "2021-12-30T09:11:26.358Z"
   },
   {
    "duration": 19,
    "start_time": "2021-12-30T09:11:26.433Z"
   },
   {
    "duration": 11,
    "start_time": "2021-12-30T09:11:26.455Z"
   },
   {
    "duration": 11,
    "start_time": "2021-12-30T09:11:26.469Z"
   },
   {
    "duration": 38,
    "start_time": "2021-12-30T09:11:26.483Z"
   },
   {
    "duration": 8,
    "start_time": "2021-12-30T09:11:26.523Z"
   },
   {
    "duration": 12,
    "start_time": "2021-12-30T09:11:26.533Z"
   },
   {
    "duration": 9,
    "start_time": "2021-12-30T09:11:26.549Z"
   },
   {
    "duration": 67,
    "start_time": "2021-12-30T09:11:26.561Z"
   },
   {
    "duration": 52,
    "start_time": "2021-12-30T09:11:26.631Z"
   },
   {
    "duration": 1027,
    "start_time": "2021-12-30T09:11:26.686Z"
   },
   {
    "duration": 4524,
    "start_time": "2021-12-30T09:11:27.717Z"
   },
   {
    "duration": 7,
    "start_time": "2021-12-30T09:11:32.244Z"
   },
   {
    "duration": 8,
    "start_time": "2021-12-30T09:11:32.253Z"
   },
   {
    "duration": 12,
    "start_time": "2021-12-30T09:11:32.264Z"
   },
   {
    "duration": 61,
    "start_time": "2021-12-30T09:11:32.279Z"
   },
   {
    "duration": 20,
    "start_time": "2021-12-30T09:12:19.041Z"
   },
   {
    "duration": 39,
    "start_time": "2021-12-30T09:16:55.374Z"
   },
   {
    "duration": 32,
    "start_time": "2021-12-30T09:29:49.692Z"
   },
   {
    "duration": 70,
    "start_time": "2021-12-30T09:49:45.962Z"
   },
   {
    "duration": 18,
    "start_time": "2021-12-30T09:49:46.034Z"
   },
   {
    "duration": 13,
    "start_time": "2021-12-30T09:49:46.055Z"
   },
   {
    "duration": 15,
    "start_time": "2021-12-30T09:49:46.071Z"
   },
   {
    "duration": 32,
    "start_time": "2021-12-30T09:49:46.089Z"
   },
   {
    "duration": 10,
    "start_time": "2021-12-30T09:49:46.124Z"
   },
   {
    "duration": 19,
    "start_time": "2021-12-30T09:49:46.137Z"
   },
   {
    "duration": 14,
    "start_time": "2021-12-30T09:49:46.160Z"
   },
   {
    "duration": 48,
    "start_time": "2021-12-30T09:49:46.177Z"
   },
   {
    "duration": 50,
    "start_time": "2021-12-30T09:49:46.227Z"
   },
   {
    "duration": 1002,
    "start_time": "2021-12-30T09:49:46.280Z"
   },
   {
    "duration": 4604,
    "start_time": "2021-12-30T09:49:47.285Z"
   },
   {
    "duration": 8,
    "start_time": "2021-12-30T09:49:51.891Z"
   },
   {
    "duration": 20,
    "start_time": "2021-12-30T09:49:51.917Z"
   },
   {
    "duration": 29,
    "start_time": "2021-12-30T09:49:51.939Z"
   },
   {
    "duration": 20,
    "start_time": "2021-12-30T09:49:51.970Z"
   },
   {
    "duration": 77,
    "start_time": "2021-12-30T09:49:51.993Z"
   },
   {
    "duration": 59,
    "start_time": "2021-12-30T09:49:52.073Z"
   },
   {
    "duration": 33,
    "start_time": "2021-12-30T09:49:52.134Z"
   },
   {
    "duration": 66,
    "start_time": "2021-12-30T09:49:52.169Z"
   },
   {
    "duration": 6,
    "start_time": "2021-12-30T10:07:16.439Z"
   },
   {
    "duration": 10,
    "start_time": "2021-12-30T10:08:05.982Z"
   },
   {
    "duration": 13,
    "start_time": "2021-12-30T10:08:33.781Z"
   },
   {
    "duration": 13,
    "start_time": "2021-12-30T10:22:12.258Z"
   },
   {
    "duration": 310,
    "start_time": "2021-12-30T10:22:25.714Z"
   },
   {
    "duration": 19,
    "start_time": "2021-12-30T10:22:34.304Z"
   },
   {
    "duration": 20,
    "start_time": "2021-12-30T10:22:57.231Z"
   },
   {
    "duration": 21,
    "start_time": "2021-12-30T10:23:09.439Z"
   },
   {
    "duration": 41,
    "start_time": "2021-12-30T10:25:21.945Z"
   },
   {
    "duration": 33,
    "start_time": "2021-12-30T10:26:26.145Z"
   },
   {
    "duration": 33,
    "start_time": "2021-12-30T10:26:26.181Z"
   },
   {
    "duration": 46,
    "start_time": "2021-12-30T10:26:26.216Z"
   },
   {
    "duration": 34,
    "start_time": "2021-12-30T10:26:49.437Z"
   },
   {
    "duration": 21,
    "start_time": "2021-12-30T10:29:29.463Z"
   },
   {
    "duration": 18,
    "start_time": "2021-12-30T10:30:38.419Z"
   },
   {
    "duration": 18,
    "start_time": "2021-12-30T10:32:08.507Z"
   },
   {
    "duration": 20,
    "start_time": "2021-12-30T10:32:57.095Z"
   },
   {
    "duration": 50,
    "start_time": "2021-12-30T10:33:27.163Z"
   },
   {
    "duration": 30,
    "start_time": "2021-12-30T10:34:03.500Z"
   },
   {
    "duration": 32,
    "start_time": "2021-12-30T10:34:40.208Z"
   },
   {
    "duration": 31,
    "start_time": "2021-12-30T10:34:53.730Z"
   },
   {
    "duration": 38,
    "start_time": "2021-12-30T10:35:00.954Z"
   },
   {
    "duration": 40,
    "start_time": "2021-12-30T10:36:10.626Z"
   },
   {
    "duration": 71,
    "start_time": "2021-12-30T10:38:32.844Z"
   },
   {
    "duration": 20,
    "start_time": "2021-12-30T10:38:32.918Z"
   },
   {
    "duration": 9,
    "start_time": "2021-12-30T10:38:32.943Z"
   },
   {
    "duration": 9,
    "start_time": "2021-12-30T10:38:32.956Z"
   },
   {
    "duration": 53,
    "start_time": "2021-12-30T10:38:32.968Z"
   },
   {
    "duration": 11,
    "start_time": "2021-12-30T10:38:33.023Z"
   },
   {
    "duration": 12,
    "start_time": "2021-12-30T10:38:33.037Z"
   },
   {
    "duration": 9,
    "start_time": "2021-12-30T10:38:33.054Z"
   },
   {
    "duration": 72,
    "start_time": "2021-12-30T10:38:33.066Z"
   },
   {
    "duration": 51,
    "start_time": "2021-12-30T10:38:33.140Z"
   },
   {
    "duration": 999,
    "start_time": "2021-12-30T10:38:33.193Z"
   },
   {
    "duration": 4430,
    "start_time": "2021-12-30T10:38:34.194Z"
   },
   {
    "duration": 8,
    "start_time": "2021-12-30T10:38:38.626Z"
   },
   {
    "duration": 20,
    "start_time": "2021-12-30T10:38:38.636Z"
   },
   {
    "duration": 28,
    "start_time": "2021-12-30T10:38:38.658Z"
   },
   {
    "duration": 35,
    "start_time": "2021-12-30T10:38:38.688Z"
   },
   {
    "duration": 13,
    "start_time": "2021-12-30T10:38:38.725Z"
   },
   {
    "duration": 20,
    "start_time": "2021-12-30T10:38:38.741Z"
   },
   {
    "duration": 65,
    "start_time": "2021-12-30T10:38:38.763Z"
   },
   {
    "duration": 26,
    "start_time": "2021-12-30T10:38:38.830Z"
   },
   {
    "duration": 32,
    "start_time": "2021-12-30T10:38:38.858Z"
   },
   {
    "duration": 55,
    "start_time": "2021-12-30T10:38:38.892Z"
   },
   {
    "duration": 31,
    "start_time": "2021-12-30T10:38:38.951Z"
   },
   {
    "duration": 63,
    "start_time": "2021-12-30T10:38:38.985Z"
   },
   {
    "duration": 12,
    "start_time": "2021-12-30T10:48:05.080Z"
   },
   {
    "duration": 13,
    "start_time": "2021-12-30T10:48:14.563Z"
   },
   {
    "duration": 11,
    "start_time": "2021-12-30T10:48:23.894Z"
   },
   {
    "duration": 23,
    "start_time": "2021-12-30T10:52:30.924Z"
   },
   {
    "duration": 74,
    "start_time": "2021-12-30T10:54:48.679Z"
   },
   {
    "duration": 20,
    "start_time": "2021-12-30T10:54:48.755Z"
   },
   {
    "duration": 10,
    "start_time": "2021-12-30T10:54:48.778Z"
   },
   {
    "duration": 9,
    "start_time": "2021-12-30T10:54:48.818Z"
   },
   {
    "duration": 18,
    "start_time": "2021-12-30T10:54:48.830Z"
   },
   {
    "duration": 14,
    "start_time": "2021-12-30T10:54:48.850Z"
   },
   {
    "duration": 11,
    "start_time": "2021-12-30T10:54:48.866Z"
   },
   {
    "duration": 12,
    "start_time": "2021-12-30T10:54:48.917Z"
   },
   {
    "duration": 33,
    "start_time": "2021-12-30T10:54:48.931Z"
   },
   {
    "duration": 81,
    "start_time": "2021-12-30T10:54:48.966Z"
   },
   {
    "duration": 984,
    "start_time": "2021-12-30T10:54:49.050Z"
   },
   {
    "duration": 4480,
    "start_time": "2021-12-30T10:54:50.036Z"
   },
   {
    "duration": 7,
    "start_time": "2021-12-30T10:54:54.519Z"
   },
   {
    "duration": 25,
    "start_time": "2021-12-30T10:54:54.528Z"
   },
   {
    "duration": 31,
    "start_time": "2021-12-30T10:54:54.555Z"
   },
   {
    "duration": 30,
    "start_time": "2021-12-30T10:54:54.589Z"
   },
   {
    "duration": 21,
    "start_time": "2021-12-30T10:54:54.621Z"
   },
   {
    "duration": 34,
    "start_time": "2021-12-30T10:54:54.644Z"
   },
   {
    "duration": 36,
    "start_time": "2021-12-30T10:54:54.680Z"
   },
   {
    "duration": 26,
    "start_time": "2021-12-30T10:54:54.718Z"
   },
   {
    "duration": 32,
    "start_time": "2021-12-30T10:54:54.746Z"
   },
   {
    "duration": 55,
    "start_time": "2021-12-30T10:54:54.780Z"
   },
   {
    "duration": 31,
    "start_time": "2021-12-30T10:54:54.839Z"
   },
   {
    "duration": 56,
    "start_time": "2021-12-30T10:54:54.872Z"
   },
   {
    "duration": 72,
    "start_time": "2021-12-30T10:57:39.580Z"
   },
   {
    "duration": 20,
    "start_time": "2021-12-30T10:57:39.654Z"
   },
   {
    "duration": 9,
    "start_time": "2021-12-30T10:57:39.677Z"
   },
   {
    "duration": 9,
    "start_time": "2021-12-30T10:57:39.718Z"
   },
   {
    "duration": 13,
    "start_time": "2021-12-30T10:57:39.729Z"
   },
   {
    "duration": 9,
    "start_time": "2021-12-30T10:57:39.745Z"
   },
   {
    "duration": 12,
    "start_time": "2021-12-30T10:57:39.757Z"
   },
   {
    "duration": 13,
    "start_time": "2021-12-30T10:57:39.820Z"
   },
   {
    "duration": 24,
    "start_time": "2021-12-30T10:57:39.837Z"
   },
   {
    "duration": 85,
    "start_time": "2021-12-30T10:57:39.864Z"
   },
   {
    "duration": 995,
    "start_time": "2021-12-30T10:57:39.952Z"
   },
   {
    "duration": 4654,
    "start_time": "2021-12-30T10:57:40.951Z"
   },
   {
    "duration": 7,
    "start_time": "2021-12-30T10:57:45.617Z"
   },
   {
    "duration": 22,
    "start_time": "2021-12-30T10:57:45.627Z"
   },
   {
    "duration": 67,
    "start_time": "2021-12-30T10:57:45.652Z"
   },
   {
    "duration": 9,
    "start_time": "2021-12-30T10:57:45.721Z"
   },
   {
    "duration": 13,
    "start_time": "2021-12-30T10:57:45.733Z"
   },
   {
    "duration": 20,
    "start_time": "2021-12-30T10:57:45.749Z"
   },
   {
    "duration": 64,
    "start_time": "2021-12-30T10:57:45.771Z"
   },
   {
    "duration": 24,
    "start_time": "2021-12-30T10:57:45.838Z"
   },
   {
    "duration": 71,
    "start_time": "2021-12-30T10:57:45.865Z"
   },
   {
    "duration": 35,
    "start_time": "2021-12-30T10:57:45.939Z"
   },
   {
    "duration": 59,
    "start_time": "2021-12-30T10:57:45.978Z"
   },
   {
    "duration": 31,
    "start_time": "2021-12-30T10:57:46.039Z"
   },
   {
    "duration": 831,
    "start_time": "2021-12-30T17:56:13.789Z"
   },
   {
    "duration": 30,
    "start_time": "2021-12-30T17:56:14.623Z"
   },
   {
    "duration": 12,
    "start_time": "2021-12-30T17:56:14.669Z"
   },
   {
    "duration": 13,
    "start_time": "2021-12-30T17:56:14.684Z"
   },
   {
    "duration": 15,
    "start_time": "2021-12-30T17:56:14.701Z"
   },
   {
    "duration": 50,
    "start_time": "2021-12-30T17:56:14.719Z"
   },
   {
    "duration": 10,
    "start_time": "2021-12-30T17:56:14.772Z"
   },
   {
    "duration": 12,
    "start_time": "2021-12-30T17:56:14.786Z"
   },
   {
    "duration": 25,
    "start_time": "2021-12-30T17:56:14.801Z"
   },
   {
    "duration": 82,
    "start_time": "2021-12-30T17:56:14.828Z"
   },
   {
    "duration": 965,
    "start_time": "2021-12-30T17:56:14.913Z"
   },
   {
    "duration": 4593,
    "start_time": "2021-12-30T17:56:15.881Z"
   },
   {
    "duration": 7,
    "start_time": "2021-12-30T17:56:20.477Z"
   },
   {
    "duration": 20,
    "start_time": "2021-12-30T17:56:20.486Z"
   },
   {
    "duration": 62,
    "start_time": "2021-12-30T17:56:20.509Z"
   },
   {
    "duration": 8,
    "start_time": "2021-12-30T17:56:20.573Z"
   },
   {
    "duration": 15,
    "start_time": "2021-12-30T17:56:20.583Z"
   },
   {
    "duration": 21,
    "start_time": "2021-12-30T17:56:20.601Z"
   },
   {
    "duration": 66,
    "start_time": "2021-12-30T17:56:20.624Z"
   },
   {
    "duration": 27,
    "start_time": "2021-12-30T17:56:20.692Z"
   },
   {
    "duration": 65,
    "start_time": "2021-12-30T17:56:20.721Z"
   },
   {
    "duration": 34,
    "start_time": "2021-12-30T17:56:20.788Z"
   },
   {
    "duration": 57,
    "start_time": "2021-12-30T17:56:20.826Z"
   },
   {
    "duration": 34,
    "start_time": "2021-12-30T17:56:20.886Z"
   },
   {
    "duration": 624,
    "start_time": "2022-01-01T13:43:33.218Z"
   },
   {
    "duration": 18,
    "start_time": "2022-01-01T13:43:33.843Z"
   },
   {
    "duration": 17,
    "start_time": "2022-01-01T13:43:33.863Z"
   },
   {
    "duration": 28,
    "start_time": "2022-01-01T13:43:33.882Z"
   },
   {
    "duration": 24,
    "start_time": "2022-01-01T13:43:33.912Z"
   },
   {
    "duration": 19,
    "start_time": "2022-01-01T13:43:33.938Z"
   },
   {
    "duration": 36,
    "start_time": "2022-01-01T13:43:33.959Z"
   },
   {
    "duration": 34,
    "start_time": "2022-01-01T13:43:33.997Z"
   },
   {
    "duration": 25,
    "start_time": "2022-01-01T13:43:34.033Z"
   },
   {
    "duration": 37,
    "start_time": "2022-01-01T13:43:34.060Z"
   },
   {
    "duration": 706,
    "start_time": "2022-01-01T13:43:34.100Z"
   },
   {
    "duration": 3669,
    "start_time": "2022-01-01T13:43:34.809Z"
   },
   {
    "duration": 16,
    "start_time": "2022-01-01T13:43:38.481Z"
   },
   {
    "duration": 30,
    "start_time": "2022-01-01T13:43:38.499Z"
   },
   {
    "duration": 20,
    "start_time": "2022-01-01T13:43:38.530Z"
   },
   {
    "duration": 5,
    "start_time": "2022-01-01T13:43:38.551Z"
   },
   {
    "duration": 16,
    "start_time": "2022-01-01T13:43:38.558Z"
   },
   {
    "duration": 26,
    "start_time": "2022-01-01T13:43:38.592Z"
   },
   {
    "duration": 23,
    "start_time": "2022-01-01T13:43:38.620Z"
   },
   {
    "duration": 20,
    "start_time": "2022-01-01T13:43:38.644Z"
   },
   {
    "duration": 34,
    "start_time": "2022-01-01T13:43:38.666Z"
   },
   {
    "duration": 25,
    "start_time": "2022-01-01T13:43:38.701Z"
   },
   {
    "duration": 20,
    "start_time": "2022-01-01T13:43:38.727Z"
   },
   {
    "duration": 46,
    "start_time": "2022-01-01T13:43:38.749Z"
   },
   {
    "duration": 333,
    "start_time": "2022-01-03T08:00:12.659Z"
   },
   {
    "duration": 812,
    "start_time": "2022-01-03T08:00:35.768Z"
   },
   {
    "duration": 33,
    "start_time": "2022-01-03T08:00:36.583Z"
   },
   {
    "duration": 52,
    "start_time": "2022-01-03T08:00:41.606Z"
   },
   {
    "duration": 308,
    "start_time": "2022-01-03T09:45:21.582Z"
   },
   {
    "duration": 13,
    "start_time": "2022-01-03T09:45:28.735Z"
   },
   {
    "duration": 11,
    "start_time": "2022-01-03T09:47:29.061Z"
   },
   {
    "duration": 10,
    "start_time": "2022-01-03T09:47:36.046Z"
   },
   {
    "duration": 94,
    "start_time": "2022-01-03T09:47:51.762Z"
   },
   {
    "duration": 20,
    "start_time": "2022-01-03T09:47:51.859Z"
   },
   {
    "duration": 83,
    "start_time": "2022-01-03T09:47:51.883Z"
   },
   {
    "duration": 10,
    "start_time": "2022-01-03T09:47:55.340Z"
   },
   {
    "duration": 11,
    "start_time": "2022-01-03T09:48:03.271Z"
   },
   {
    "duration": 8,
    "start_time": "2022-01-03T09:48:08.886Z"
   },
   {
    "duration": 9,
    "start_time": "2022-01-03T09:48:12.493Z"
   },
   {
    "duration": 75,
    "start_time": "2022-01-03T09:48:25.460Z"
   },
   {
    "duration": 20,
    "start_time": "2022-01-03T09:48:28.541Z"
   },
   {
    "duration": 46,
    "start_time": "2022-01-03T09:48:32.956Z"
   },
   {
    "duration": 13,
    "start_time": "2022-01-03T09:48:39.107Z"
   },
   {
    "duration": 11,
    "start_time": "2022-01-03T09:49:00.667Z"
   },
   {
    "duration": 11,
    "start_time": "2022-01-03T09:49:21.140Z"
   },
   {
    "duration": 8,
    "start_time": "2022-01-03T09:49:25.157Z"
   },
   {
    "duration": 10,
    "start_time": "2022-01-03T09:49:28.964Z"
   },
   {
    "duration": 12,
    "start_time": "2022-01-03T09:49:35.622Z"
   },
   {
    "duration": 10,
    "start_time": "2022-01-03T09:55:19.345Z"
   },
   {
    "duration": 10,
    "start_time": "2022-01-03T09:55:35.385Z"
   },
   {
    "duration": 73,
    "start_time": "2022-01-03T09:55:54.319Z"
   },
   {
    "duration": 23,
    "start_time": "2022-01-03T09:55:54.394Z"
   },
   {
    "duration": 45,
    "start_time": "2022-01-03T09:55:54.420Z"
   },
   {
    "duration": 10,
    "start_time": "2022-01-03T09:55:57.889Z"
   },
   {
    "duration": 10,
    "start_time": "2022-01-03T09:56:03.698Z"
   },
   {
    "duration": 21,
    "start_time": "2022-01-03T09:56:49.200Z"
   },
   {
    "duration": 10,
    "start_time": "2022-01-03T09:57:01.153Z"
   },
   {
    "duration": 12,
    "start_time": "2022-01-03T09:57:16.427Z"
   },
   {
    "duration": 24,
    "start_time": "2022-01-03T09:57:28.776Z"
   },
   {
    "duration": 330,
    "start_time": "2022-01-03T09:57:59.528Z"
   },
   {
    "duration": 73,
    "start_time": "2022-01-03T09:58:13.838Z"
   },
   {
    "duration": 21,
    "start_time": "2022-01-03T09:58:13.913Z"
   },
   {
    "duration": 44,
    "start_time": "2022-01-03T09:58:13.937Z"
   },
   {
    "duration": 10,
    "start_time": "2022-01-03T09:58:16.560Z"
   },
   {
    "duration": 10,
    "start_time": "2022-01-03T09:59:00.464Z"
   },
   {
    "duration": 74,
    "start_time": "2022-01-03T09:59:11.661Z"
   },
   {
    "duration": 24,
    "start_time": "2022-01-03T09:59:11.739Z"
   },
   {
    "duration": 69,
    "start_time": "2022-01-03T09:59:11.765Z"
   },
   {
    "duration": 13,
    "start_time": "2022-01-03T09:59:14.535Z"
   },
   {
    "duration": 12,
    "start_time": "2022-01-03T09:59:31.535Z"
   },
   {
    "duration": 9,
    "start_time": "2022-01-03T09:59:39.934Z"
   },
   {
    "duration": 10,
    "start_time": "2022-01-03T09:59:51.407Z"
   },
   {
    "duration": 207,
    "start_time": "2022-01-03T10:02:36.664Z"
   },
   {
    "duration": 291,
    "start_time": "2022-01-03T10:02:43.375Z"
   },
   {
    "duration": 306,
    "start_time": "2022-01-03T10:03:26.935Z"
   },
   {
    "duration": 80,
    "start_time": "2022-01-03T10:03:33.078Z"
   },
   {
    "duration": 18,
    "start_time": "2022-01-03T10:03:33.160Z"
   },
   {
    "duration": 66,
    "start_time": "2022-01-03T10:03:33.181Z"
   },
   {
    "duration": 8,
    "start_time": "2022-01-03T10:03:34.996Z"
   },
   {
    "duration": 11,
    "start_time": "2022-01-03T10:03:47.720Z"
   },
   {
    "duration": 10,
    "start_time": "2022-01-03T10:04:17.686Z"
   },
   {
    "duration": 78,
    "start_time": "2022-01-03T10:04:35.498Z"
   },
   {
    "duration": 18,
    "start_time": "2022-01-03T10:04:35.578Z"
   },
   {
    "duration": 59,
    "start_time": "2022-01-03T10:04:35.599Z"
   },
   {
    "duration": 10,
    "start_time": "2022-01-03T10:04:37.189Z"
   },
   {
    "duration": 212,
    "start_time": "2022-01-03T10:04:45.373Z"
   },
   {
    "duration": 310,
    "start_time": "2022-01-03T10:04:51.566Z"
   },
   {
    "duration": 10,
    "start_time": "2022-01-03T10:05:07.709Z"
   },
   {
    "duration": 78,
    "start_time": "2022-01-03T10:06:36.389Z"
   },
   {
    "duration": 17,
    "start_time": "2022-01-03T10:06:36.469Z"
   },
   {
    "duration": 63,
    "start_time": "2022-01-03T10:06:36.489Z"
   },
   {
    "duration": 13,
    "start_time": "2022-01-03T10:06:38.612Z"
   },
   {
    "duration": 198,
    "start_time": "2022-01-03T10:06:54.445Z"
   },
   {
    "duration": 297,
    "start_time": "2022-01-03T10:06:57.558Z"
   },
   {
    "duration": 18,
    "start_time": "2022-01-03T10:08:40.531Z"
   },
   {
    "duration": 183,
    "start_time": "2022-01-03T10:45:04.890Z"
   },
   {
    "duration": 15,
    "start_time": "2022-01-03T10:45:07.762Z"
   },
   {
    "duration": 43,
    "start_time": "2022-01-03T10:50:37.790Z"
   },
   {
    "duration": 16,
    "start_time": "2022-01-03T10:50:42.687Z"
   },
   {
    "duration": 73,
    "start_time": "2022-01-03T10:51:03.989Z"
   },
   {
    "duration": 20,
    "start_time": "2022-01-03T10:51:04.065Z"
   },
   {
    "duration": 72,
    "start_time": "2022-01-03T10:51:04.088Z"
   },
   {
    "duration": 12,
    "start_time": "2022-01-03T10:51:04.163Z"
   },
   {
    "duration": 40,
    "start_time": "2022-01-03T10:51:11.007Z"
   },
   {
    "duration": 17,
    "start_time": "2022-01-03T10:51:13.526Z"
   },
   {
    "duration": 40,
    "start_time": "2022-01-03T10:55:10.805Z"
   },
   {
    "duration": 270,
    "start_time": "2022-01-03T10:55:27.381Z"
   },
   {
    "duration": 77,
    "start_time": "2022-01-03T10:55:41.595Z"
   },
   {
    "duration": 21,
    "start_time": "2022-01-03T10:55:41.675Z"
   },
   {
    "duration": 58,
    "start_time": "2022-01-03T10:55:41.699Z"
   },
   {
    "duration": 9,
    "start_time": "2022-01-03T10:55:41.760Z"
   },
   {
    "duration": 66,
    "start_time": "2022-01-03T10:55:41.772Z"
   },
   {
    "duration": 264,
    "start_time": "2022-01-03T10:55:43.714Z"
   },
   {
    "duration": 8,
    "start_time": "2022-01-03T10:56:02.037Z"
   },
   {
    "duration": 36,
    "start_time": "2022-01-03T10:56:47.460Z"
   },
   {
    "duration": 71,
    "start_time": "2022-01-03T10:57:08.030Z"
   },
   {
    "duration": 20,
    "start_time": "2022-01-03T10:57:08.104Z"
   },
   {
    "duration": 47,
    "start_time": "2022-01-03T10:57:08.128Z"
   },
   {
    "duration": 39,
    "start_time": "2022-01-03T10:57:08.178Z"
   },
   {
    "duration": 45,
    "start_time": "2022-01-03T10:57:14.590Z"
   },
   {
    "duration": 11,
    "start_time": "2022-01-03T10:57:18.108Z"
   },
   {
    "duration": 10,
    "start_time": "2022-01-03T10:59:32.619Z"
   },
   {
    "duration": 10,
    "start_time": "2022-01-03T11:00:05.419Z"
   },
   {
    "duration": 10,
    "start_time": "2022-01-03T11:00:05.464Z"
   },
   {
    "duration": 76,
    "start_time": "2022-01-03T11:00:18.649Z"
   },
   {
    "duration": 20,
    "start_time": "2022-01-03T11:00:18.727Z"
   },
   {
    "duration": 55,
    "start_time": "2022-01-03T11:00:18.750Z"
   },
   {
    "duration": 19,
    "start_time": "2022-01-03T11:00:18.807Z"
   },
   {
    "duration": 40,
    "start_time": "2022-01-03T11:00:18.828Z"
   },
   {
    "duration": 11,
    "start_time": "2022-01-03T11:00:18.871Z"
   },
   {
    "duration": 9,
    "start_time": "2022-01-03T11:00:25.478Z"
   },
   {
    "duration": 9,
    "start_time": "2022-01-03T11:00:25.518Z"
   },
   {
    "duration": 28,
    "start_time": "2022-01-03T11:06:46.896Z"
   },
   {
    "duration": 14,
    "start_time": "2022-01-03T11:07:00.457Z"
   },
   {
    "duration": 11,
    "start_time": "2022-01-03T11:09:12.859Z"
   },
   {
    "duration": 3,
    "start_time": "2022-01-03T11:09:40.167Z"
   },
   {
    "duration": 74,
    "start_time": "2022-01-03T11:09:53.973Z"
   },
   {
    "duration": 19,
    "start_time": "2022-01-03T11:09:54.050Z"
   },
   {
    "duration": 65,
    "start_time": "2022-01-03T11:09:54.072Z"
   },
   {
    "duration": 10,
    "start_time": "2022-01-03T11:09:54.140Z"
   },
   {
    "duration": 38,
    "start_time": "2022-01-03T11:09:54.153Z"
   },
   {
    "duration": 11,
    "start_time": "2022-01-03T11:09:54.218Z"
   },
   {
    "duration": 9,
    "start_time": "2022-01-03T11:09:54.232Z"
   },
   {
    "duration": 3,
    "start_time": "2022-01-03T11:09:54.245Z"
   },
   {
    "duration": 11,
    "start_time": "2022-01-03T11:09:54.251Z"
   },
   {
    "duration": 9,
    "start_time": "2022-01-03T11:09:54.265Z"
   },
   {
    "duration": 10,
    "start_time": "2022-01-03T11:09:54.317Z"
   },
   {
    "duration": 13,
    "start_time": "2022-01-03T11:09:54.329Z"
   },
   {
    "duration": 357,
    "start_time": "2022-01-03T11:09:54.345Z"
   },
   {
    "duration": -210,
    "start_time": "2022-01-03T11:09:54.915Z"
   },
   {
    "duration": -226,
    "start_time": "2022-01-03T11:09:54.932Z"
   },
   {
    "duration": -229,
    "start_time": "2022-01-03T11:09:54.936Z"
   },
   {
    "duration": -232,
    "start_time": "2022-01-03T11:09:54.941Z"
   },
   {
    "duration": -237,
    "start_time": "2022-01-03T11:09:54.947Z"
   },
   {
    "duration": -240,
    "start_time": "2022-01-03T11:09:54.952Z"
   },
   {
    "duration": -244,
    "start_time": "2022-01-03T11:09:54.957Z"
   },
   {
    "duration": -245,
    "start_time": "2022-01-03T11:09:54.960Z"
   },
   {
    "duration": 72,
    "start_time": "2022-01-03T11:10:27.637Z"
   },
   {
    "duration": 18,
    "start_time": "2022-01-03T11:10:27.712Z"
   },
   {
    "duration": 48,
    "start_time": "2022-01-03T11:10:27.733Z"
   },
   {
    "duration": 34,
    "start_time": "2022-01-03T11:10:27.783Z"
   },
   {
    "duration": 35,
    "start_time": "2022-01-03T11:10:27.819Z"
   },
   {
    "duration": 9,
    "start_time": "2022-01-03T11:10:27.856Z"
   },
   {
    "duration": 8,
    "start_time": "2022-01-03T11:10:27.868Z"
   },
   {
    "duration": 40,
    "start_time": "2022-01-03T11:10:27.879Z"
   },
   {
    "duration": 12,
    "start_time": "2022-01-03T11:10:27.922Z"
   },
   {
    "duration": 9,
    "start_time": "2022-01-03T11:10:27.936Z"
   },
   {
    "duration": 9,
    "start_time": "2022-01-03T11:10:27.947Z"
   },
   {
    "duration": 10,
    "start_time": "2022-01-03T11:10:27.958Z"
   },
   {
    "duration": 300,
    "start_time": "2022-01-03T11:10:27.970Z"
   },
   {
    "duration": -147,
    "start_time": "2022-01-03T11:10:28.420Z"
   },
   {
    "duration": -156,
    "start_time": "2022-01-03T11:10:28.430Z"
   },
   {
    "duration": -158,
    "start_time": "2022-01-03T11:10:28.434Z"
   },
   {
    "duration": -160,
    "start_time": "2022-01-03T11:10:28.437Z"
   },
   {
    "duration": -163,
    "start_time": "2022-01-03T11:10:28.442Z"
   },
   {
    "duration": -166,
    "start_time": "2022-01-03T11:10:28.446Z"
   },
   {
    "duration": -169,
    "start_time": "2022-01-03T11:10:28.450Z"
   },
   {
    "duration": -172,
    "start_time": "2022-01-03T11:10:28.455Z"
   },
   {
    "duration": -180,
    "start_time": "2022-01-03T11:10:28.464Z"
   },
   {
    "duration": -182,
    "start_time": "2022-01-03T11:10:28.467Z"
   },
   {
    "duration": -184,
    "start_time": "2022-01-03T11:10:28.470Z"
   },
   {
    "duration": -186,
    "start_time": "2022-01-03T11:10:28.474Z"
   },
   {
    "duration": -188,
    "start_time": "2022-01-03T11:10:28.477Z"
   },
   {
    "duration": -189,
    "start_time": "2022-01-03T11:10:28.480Z"
   },
   {
    "duration": -191,
    "start_time": "2022-01-03T11:10:28.483Z"
   },
   {
    "duration": -192,
    "start_time": "2022-01-03T11:10:28.486Z"
   },
   {
    "duration": 286,
    "start_time": "2022-01-03T11:10:52.092Z"
   },
   {
    "duration": 299,
    "start_time": "2022-01-03T11:11:30.286Z"
   },
   {
    "duration": 34,
    "start_time": "2022-01-03T11:12:35.629Z"
   },
   {
    "duration": 17,
    "start_time": "2022-01-03T11:12:52.372Z"
   },
   {
    "duration": 65,
    "start_time": "2022-01-03T11:21:21.281Z"
   },
   {
    "duration": 11,
    "start_time": "2022-01-03T11:22:32.961Z"
   },
   {
    "duration": 7,
    "start_time": "2022-01-03T11:22:52.785Z"
   },
   {
    "duration": 401,
    "start_time": "2022-01-03T11:23:01.601Z"
   },
   {
    "duration": 31,
    "start_time": "2022-01-03T11:25:57.294Z"
   },
   {
    "duration": 10,
    "start_time": "2022-01-03T11:27:23.014Z"
   },
   {
    "duration": 32,
    "start_time": "2022-01-03T11:27:42.532Z"
   },
   {
    "duration": 17,
    "start_time": "2022-01-03T11:27:51.183Z"
   },
   {
    "duration": 12,
    "start_time": "2022-01-03T11:33:58.389Z"
   },
   {
    "duration": 36,
    "start_time": "2022-01-03T11:35:33.876Z"
   },
   {
    "duration": 13,
    "start_time": "2022-01-03T11:35:37.147Z"
   },
   {
    "duration": 287,
    "start_time": "2022-01-03T11:38:44.105Z"
   },
   {
    "duration": 134,
    "start_time": "2022-01-03T11:39:04.561Z"
   },
   {
    "duration": 335,
    "start_time": "2022-01-03T11:40:01.170Z"
   },
   {
    "duration": 312,
    "start_time": "2022-01-03T11:40:37.677Z"
   },
   {
    "duration": 39,
    "start_time": "2022-01-03T11:41:13.823Z"
   },
   {
    "duration": 12,
    "start_time": "2022-01-03T11:41:17.151Z"
   },
   {
    "duration": 10,
    "start_time": "2022-01-03T11:57:07.081Z"
   },
   {
    "duration": 8,
    "start_time": "2022-01-03T11:57:27.809Z"
   },
   {
    "duration": 10,
    "start_time": "2022-01-03T11:57:50.899Z"
   },
   {
    "duration": 9,
    "start_time": "2022-01-03T11:58:13.430Z"
   },
   {
    "duration": 10,
    "start_time": "2022-01-03T11:58:22.856Z"
   },
   {
    "duration": 9,
    "start_time": "2022-01-03T11:58:33.328Z"
   },
   {
    "duration": 9,
    "start_time": "2022-01-03T11:58:46.359Z"
   },
   {
    "duration": 74,
    "start_time": "2022-01-03T11:59:00.309Z"
   },
   {
    "duration": 32,
    "start_time": "2022-01-03T11:59:00.385Z"
   },
   {
    "duration": 48,
    "start_time": "2022-01-03T11:59:00.420Z"
   },
   {
    "duration": 10,
    "start_time": "2022-01-03T11:59:00.470Z"
   },
   {
    "duration": 37,
    "start_time": "2022-01-03T11:59:00.482Z"
   },
   {
    "duration": 9,
    "start_time": "2022-01-03T11:59:05.865Z"
   },
   {
    "duration": 9,
    "start_time": "2022-01-03T11:59:24.296Z"
   },
   {
    "duration": 10,
    "start_time": "2022-01-03T11:59:47.303Z"
   },
   {
    "duration": 10,
    "start_time": "2022-01-03T11:59:59.695Z"
   },
   {
    "duration": 89,
    "start_time": "2022-01-03T12:00:12.767Z"
   },
   {
    "duration": 12,
    "start_time": "2022-01-03T12:00:24.142Z"
   },
   {
    "duration": 13,
    "start_time": "2022-01-03T12:00:42.753Z"
   },
   {
    "duration": 86,
    "start_time": "2022-01-03T12:08:07.804Z"
   },
   {
    "duration": 1080,
    "start_time": "2022-01-03T12:08:12.731Z"
   },
   {
    "duration": 1134,
    "start_time": "2022-01-03T12:08:35.508Z"
   },
   {
    "duration": 97,
    "start_time": "2022-01-03T12:09:12.947Z"
   },
   {
    "duration": 1069,
    "start_time": "2022-01-03T12:09:24.667Z"
   },
   {
    "duration": 99,
    "start_time": "2022-01-03T12:10:18.034Z"
   },
   {
    "duration": 1190,
    "start_time": "2022-01-03T12:10:53.748Z"
   },
   {
    "duration": 142,
    "start_time": "2022-01-03T12:13:16.995Z"
   },
   {
    "duration": 98,
    "start_time": "2022-01-03T12:13:35.691Z"
   },
   {
    "duration": 99,
    "start_time": "2022-01-03T12:14:01.568Z"
   },
   {
    "duration": 102,
    "start_time": "2022-01-03T12:14:06.718Z"
   },
   {
    "duration": 90,
    "start_time": "2022-01-03T12:14:56.712Z"
   },
   {
    "duration": 92,
    "start_time": "2022-01-03T12:15:45.439Z"
   },
   {
    "duration": 87,
    "start_time": "2022-01-03T12:16:07.563Z"
   },
   {
    "duration": 8,
    "start_time": "2022-01-03T12:20:11.711Z"
   },
   {
    "duration": 17,
    "start_time": "2022-01-03T12:20:32.015Z"
   },
   {
    "duration": 11,
    "start_time": "2022-01-03T12:21:08.798Z"
   },
   {
    "duration": 12,
    "start_time": "2022-01-03T12:21:12.134Z"
   },
   {
    "duration": 46,
    "start_time": "2022-01-03T12:25:02.900Z"
   },
   {
    "duration": 14,
    "start_time": "2022-01-03T12:25:05.643Z"
   },
   {
    "duration": 17,
    "start_time": "2022-01-03T12:25:23.283Z"
   },
   {
    "duration": 12,
    "start_time": "2022-01-03T12:25:39.267Z"
   },
   {
    "duration": 11,
    "start_time": "2022-01-03T12:26:01.034Z"
   },
   {
    "duration": 71,
    "start_time": "2022-01-03T12:26:12.049Z"
   },
   {
    "duration": 25,
    "start_time": "2022-01-03T12:26:12.124Z"
   },
   {
    "duration": 64,
    "start_time": "2022-01-03T12:26:12.152Z"
   },
   {
    "duration": 9,
    "start_time": "2022-01-03T12:26:12.218Z"
   },
   {
    "duration": 44,
    "start_time": "2022-01-03T12:26:15.195Z"
   },
   {
    "duration": 12,
    "start_time": "2022-01-03T12:26:24.250Z"
   },
   {
    "duration": 10,
    "start_time": "2022-01-03T12:27:12.371Z"
   },
   {
    "duration": 73,
    "start_time": "2022-01-03T12:27:29.989Z"
   },
   {
    "duration": 18,
    "start_time": "2022-01-03T12:27:30.064Z"
   },
   {
    "duration": 61,
    "start_time": "2022-01-03T12:27:30.085Z"
   },
   {
    "duration": 9,
    "start_time": "2022-01-03T12:27:30.149Z"
   },
   {
    "duration": 65,
    "start_time": "2022-01-03T12:27:30.160Z"
   },
   {
    "duration": 10,
    "start_time": "2022-01-03T12:27:33.407Z"
   },
   {
    "duration": 289,
    "start_time": "2022-01-03T12:31:26.904Z"
   },
   {
    "duration": 24,
    "start_time": "2022-01-03T12:31:51.168Z"
   },
   {
    "duration": 277,
    "start_time": "2022-01-03T12:32:17.961Z"
   },
   {
    "duration": 273,
    "start_time": "2022-01-03T12:34:02.896Z"
   },
   {
    "duration": 280,
    "start_time": "2022-01-03T12:34:22.309Z"
   },
   {
    "duration": 297,
    "start_time": "2022-01-03T12:34:37.702Z"
   },
   {
    "duration": 7,
    "start_time": "2022-01-03T12:35:13.727Z"
   },
   {
    "duration": 71,
    "start_time": "2022-01-03T12:35:19.246Z"
   },
   {
    "duration": 20,
    "start_time": "2022-01-03T12:35:19.319Z"
   },
   {
    "duration": 49,
    "start_time": "2022-01-03T12:35:19.341Z"
   },
   {
    "duration": 30,
    "start_time": "2022-01-03T12:35:19.393Z"
   },
   {
    "duration": 267,
    "start_time": "2022-01-03T12:35:36.270Z"
   },
   {
    "duration": 9,
    "start_time": "2022-01-03T12:36:10.941Z"
   },
   {
    "duration": 10,
    "start_time": "2022-01-03T12:36:22.072Z"
   },
   {
    "duration": 10,
    "start_time": "2022-01-03T12:36:34.373Z"
   },
   {
    "duration": 9,
    "start_time": "2022-01-03T12:37:29.371Z"
   },
   {
    "duration": 427,
    "start_time": "2022-01-03T12:40:30.224Z"
   },
   {
    "duration": 281,
    "start_time": "2022-01-03T12:40:42.780Z"
   },
   {
    "duration": 71,
    "start_time": "2022-01-03T12:41:13.533Z"
   },
   {
    "duration": 18,
    "start_time": "2022-01-03T12:41:13.607Z"
   },
   {
    "duration": 46,
    "start_time": "2022-01-03T12:41:13.628Z"
   },
   {
    "duration": 10,
    "start_time": "2022-01-03T12:41:13.676Z"
   },
   {
    "duration": 71,
    "start_time": "2022-01-03T12:41:13.688Z"
   },
   {
    "duration": 11,
    "start_time": "2022-01-03T12:41:20.243Z"
   },
   {
    "duration": 95,
    "start_time": "2022-01-03T12:42:16.533Z"
   },
   {
    "duration": 269,
    "start_time": "2022-01-03T12:42:23.244Z"
   },
   {
    "duration": 12,
    "start_time": "2022-01-03T12:42:53.820Z"
   },
   {
    "duration": 71,
    "start_time": "2022-01-03T12:42:59.224Z"
   },
   {
    "duration": 18,
    "start_time": "2022-01-03T12:42:59.298Z"
   },
   {
    "duration": 62,
    "start_time": "2022-01-03T12:42:59.319Z"
   },
   {
    "duration": 13,
    "start_time": "2022-01-03T12:43:01.530Z"
   },
   {
    "duration": 47,
    "start_time": "2022-01-03T12:43:04.084Z"
   },
   {
    "duration": 9,
    "start_time": "2022-01-03T12:43:06.490Z"
   },
   {
    "duration": 12,
    "start_time": "2022-01-03T12:43:08.635Z"
   },
   {
    "duration": 269,
    "start_time": "2022-01-03T12:43:24.629Z"
   },
   {
    "duration": 10,
    "start_time": "2022-01-03T12:43:32.939Z"
   },
   {
    "duration": 6,
    "start_time": "2022-01-03T12:44:04.571Z"
   },
   {
    "duration": 3,
    "start_time": "2022-01-03T12:44:25.275Z"
   },
   {
    "duration": 6,
    "start_time": "2022-01-03T12:44:28.782Z"
   },
   {
    "duration": 71,
    "start_time": "2022-01-03T12:44:40.619Z"
   },
   {
    "duration": 36,
    "start_time": "2022-01-03T12:44:40.693Z"
   },
   {
    "duration": 51,
    "start_time": "2022-01-03T12:44:40.732Z"
   },
   {
    "duration": 35,
    "start_time": "2022-01-03T12:44:40.785Z"
   },
   {
    "duration": 44,
    "start_time": "2022-01-03T12:44:40.823Z"
   },
   {
    "duration": 9,
    "start_time": "2022-01-03T12:44:40.869Z"
   },
   {
    "duration": 6,
    "start_time": "2022-01-03T12:44:40.881Z"
   },
   {
    "duration": 3,
    "start_time": "2022-01-03T12:44:40.919Z"
   },
   {
    "duration": 9,
    "start_time": "2022-01-03T12:44:40.925Z"
   },
   {
    "duration": 9,
    "start_time": "2022-01-03T12:44:40.936Z"
   },
   {
    "duration": 8,
    "start_time": "2022-01-03T12:44:40.948Z"
   },
   {
    "duration": 10,
    "start_time": "2022-01-03T12:44:40.958Z"
   },
   {
    "duration": 11,
    "start_time": "2022-01-03T12:44:41.017Z"
   },
   {
    "duration": 22,
    "start_time": "2022-01-03T12:44:41.031Z"
   },
   {
    "duration": 79,
    "start_time": "2022-01-03T12:44:41.056Z"
   },
   {
    "duration": 1045,
    "start_time": "2022-01-03T12:44:41.137Z"
   },
   {
    "duration": 4562,
    "start_time": "2022-01-03T12:44:42.184Z"
   },
   {
    "duration": 7,
    "start_time": "2022-01-03T12:44:46.748Z"
   },
   {
    "duration": 19,
    "start_time": "2022-01-03T12:44:46.757Z"
   },
   {
    "duration": 57,
    "start_time": "2022-01-03T12:44:46.778Z"
   },
   {
    "duration": 8,
    "start_time": "2022-01-03T12:44:46.837Z"
   },
   {
    "duration": 16,
    "start_time": "2022-01-03T12:44:46.848Z"
   },
   {
    "duration": 57,
    "start_time": "2022-01-03T12:44:46.869Z"
   },
   {
    "duration": 22,
    "start_time": "2022-01-03T12:44:46.929Z"
   },
   {
    "duration": 26,
    "start_time": "2022-01-03T12:44:46.953Z"
   },
   {
    "duration": 68,
    "start_time": "2022-01-03T12:44:46.982Z"
   },
   {
    "duration": 40,
    "start_time": "2022-01-03T12:44:47.052Z"
   },
   {
    "duration": 48,
    "start_time": "2022-01-03T12:44:47.094Z"
   },
   {
    "duration": 31,
    "start_time": "2022-01-03T12:44:47.144Z"
   },
   {
    "duration": 10,
    "start_time": "2022-01-03T12:47:20.481Z"
   },
   {
    "duration": 19,
    "start_time": "2022-01-03T13:14:31.804Z"
   },
   {
    "duration": 22,
    "start_time": "2022-01-03T13:14:46.519Z"
   },
   {
    "duration": 19,
    "start_time": "2022-01-03T13:15:02.245Z"
   },
   {
    "duration": 20,
    "start_time": "2022-01-03T13:15:16.379Z"
   },
   {
    "duration": 34,
    "start_time": "2022-01-03T13:15:25.013Z"
   },
   {
    "duration": 77,
    "start_time": "2022-01-03T13:15:56.410Z"
   },
   {
    "duration": 36,
    "start_time": "2022-01-03T13:15:56.490Z"
   },
   {
    "duration": 49,
    "start_time": "2022-01-03T13:15:56.530Z"
   },
   {
    "duration": 44,
    "start_time": "2022-01-03T13:15:56.582Z"
   },
   {
    "duration": 46,
    "start_time": "2022-01-03T13:15:56.629Z"
   },
   {
    "duration": 40,
    "start_time": "2022-01-03T13:15:56.678Z"
   },
   {
    "duration": 4,
    "start_time": "2022-01-03T13:15:56.720Z"
   },
   {
    "duration": 10,
    "start_time": "2022-01-03T13:15:56.730Z"
   },
   {
    "duration": 11,
    "start_time": "2022-01-03T13:15:56.744Z"
   },
   {
    "duration": 10,
    "start_time": "2022-01-03T13:15:56.757Z"
   },
   {
    "duration": 53,
    "start_time": "2022-01-03T13:15:56.770Z"
   },
   {
    "duration": 14,
    "start_time": "2022-01-03T13:15:56.826Z"
   },
   {
    "duration": 39,
    "start_time": "2022-01-03T13:15:56.843Z"
   },
   {
    "duration": 88,
    "start_time": "2022-01-03T13:15:56.885Z"
   },
   {
    "duration": 1019,
    "start_time": "2022-01-03T13:15:56.975Z"
   },
   {
    "duration": 4677,
    "start_time": "2022-01-03T13:15:57.997Z"
   },
   {
    "duration": 8,
    "start_time": "2022-01-03T13:16:02.676Z"
   },
   {
    "duration": 36,
    "start_time": "2022-01-03T13:16:02.686Z"
   },
   {
    "duration": 30,
    "start_time": "2022-01-03T13:16:02.724Z"
   },
   {
    "duration": 7,
    "start_time": "2022-01-03T13:16:02.756Z"
   },
   {
    "duration": 53,
    "start_time": "2022-01-03T13:16:02.765Z"
   },
   {
    "duration": 20,
    "start_time": "2022-01-03T13:16:02.821Z"
   },
   {
    "duration": 22,
    "start_time": "2022-01-03T13:16:02.845Z"
   },
   {
    "duration": 54,
    "start_time": "2022-01-03T13:16:02.869Z"
   },
   {
    "duration": 33,
    "start_time": "2022-01-03T13:16:02.925Z"
   },
   {
    "duration": 58,
    "start_time": "2022-01-03T13:16:02.960Z"
   },
   {
    "duration": 31,
    "start_time": "2022-01-03T13:16:03.020Z"
   },
   {
    "duration": 31,
    "start_time": "2022-01-03T13:16:03.053Z"
   },
   {
    "duration": 17,
    "start_time": "2022-01-03T13:20:52.601Z"
   },
   {
    "duration": 36,
    "start_time": "2022-01-03T13:20:55.297Z"
   },
   {
    "duration": 72,
    "start_time": "2022-01-03T13:21:56.470Z"
   },
   {
    "duration": 20,
    "start_time": "2022-01-03T13:21:56.545Z"
   },
   {
    "duration": 70,
    "start_time": "2022-01-03T13:21:56.567Z"
   },
   {
    "duration": 10,
    "start_time": "2022-01-03T13:21:56.640Z"
   },
   {
    "duration": 77,
    "start_time": "2022-01-03T13:21:56.652Z"
   },
   {
    "duration": 7,
    "start_time": "2022-01-03T13:21:56.731Z"
   },
   {
    "duration": 4,
    "start_time": "2022-01-03T13:21:56.741Z"
   },
   {
    "duration": 13,
    "start_time": "2022-01-03T13:21:56.749Z"
   },
   {
    "duration": 11,
    "start_time": "2022-01-03T13:21:56.765Z"
   },
   {
    "duration": 44,
    "start_time": "2022-01-03T13:21:56.779Z"
   },
   {
    "duration": 13,
    "start_time": "2022-01-03T13:21:56.826Z"
   },
   {
    "duration": 16,
    "start_time": "2022-01-03T13:21:56.841Z"
   },
   {
    "duration": 57,
    "start_time": "2022-01-03T13:21:56.860Z"
   },
   {
    "duration": 25,
    "start_time": "2022-01-03T13:21:56.919Z"
   },
   {
    "duration": 52,
    "start_time": "2022-01-03T13:21:56.947Z"
   },
   {
    "duration": 997,
    "start_time": "2022-01-03T13:21:57.018Z"
   },
   {
    "duration": 4546,
    "start_time": "2022-01-03T13:21:58.018Z"
   },
   {
    "duration": 7,
    "start_time": "2022-01-03T13:22:02.567Z"
   },
   {
    "duration": 43,
    "start_time": "2022-01-03T13:22:02.577Z"
   },
   {
    "duration": 31,
    "start_time": "2022-01-03T13:22:02.623Z"
   },
   {
    "duration": 11,
    "start_time": "2022-01-03T13:22:02.657Z"
   },
   {
    "duration": 51,
    "start_time": "2022-01-03T13:22:02.670Z"
   },
   {
    "duration": 22,
    "start_time": "2022-01-03T13:22:02.725Z"
   },
   {
    "duration": 21,
    "start_time": "2022-01-03T13:22:02.750Z"
   },
   {
    "duration": 55,
    "start_time": "2022-01-03T13:22:02.774Z"
   },
   {
    "duration": 32,
    "start_time": "2022-01-03T13:22:02.832Z"
   },
   {
    "duration": 56,
    "start_time": "2022-01-03T13:22:02.866Z"
   },
   {
    "duration": 33,
    "start_time": "2022-01-03T13:22:02.924Z"
   },
   {
    "duration": 31,
    "start_time": "2022-01-03T13:22:02.959Z"
   },
   {
    "duration": 74,
    "start_time": "2022-01-03T13:24:03.221Z"
   },
   {
    "duration": 20,
    "start_time": "2022-01-03T13:24:03.318Z"
   },
   {
    "duration": 54,
    "start_time": "2022-01-03T13:24:03.341Z"
   },
   {
    "duration": 16,
    "start_time": "2022-01-03T13:24:03.418Z"
   },
   {
    "duration": 44,
    "start_time": "2022-01-03T13:24:03.437Z"
   },
   {
    "duration": 37,
    "start_time": "2022-01-03T13:24:03.484Z"
   },
   {
    "duration": 4,
    "start_time": "2022-01-03T13:24:03.524Z"
   },
   {
    "duration": 10,
    "start_time": "2022-01-03T13:24:03.534Z"
   },
   {
    "duration": 11,
    "start_time": "2022-01-03T13:24:03.547Z"
   },
   {
    "duration": 8,
    "start_time": "2022-01-03T13:24:03.560Z"
   },
   {
    "duration": 55,
    "start_time": "2022-01-03T13:24:03.571Z"
   },
   {
    "duration": 12,
    "start_time": "2022-01-03T13:24:03.629Z"
   },
   {
    "duration": 17,
    "start_time": "2022-01-03T13:24:03.644Z"
   },
   {
    "duration": 62,
    "start_time": "2022-01-03T13:24:03.665Z"
   },
   {
    "duration": 54,
    "start_time": "2022-01-03T13:24:03.730Z"
   },
   {
    "duration": 1196,
    "start_time": "2022-01-03T13:24:03.787Z"
   },
   {
    "duration": 4555,
    "start_time": "2022-01-03T13:24:04.986Z"
   },
   {
    "duration": 8,
    "start_time": "2022-01-03T13:24:09.545Z"
   },
   {
    "duration": 21,
    "start_time": "2022-01-03T13:24:09.556Z"
   },
   {
    "duration": 64,
    "start_time": "2022-01-03T13:24:09.580Z"
   },
   {
    "duration": 7,
    "start_time": "2022-01-03T13:24:09.647Z"
   },
   {
    "duration": 60,
    "start_time": "2022-01-03T13:24:09.657Z"
   },
   {
    "duration": 26,
    "start_time": "2022-01-03T13:24:09.721Z"
   },
   {
    "duration": 25,
    "start_time": "2022-01-03T13:24:09.751Z"
   },
   {
    "duration": 57,
    "start_time": "2022-01-03T13:24:09.779Z"
   },
   {
    "duration": 33,
    "start_time": "2022-01-03T13:24:09.838Z"
   },
   {
    "duration": 52,
    "start_time": "2022-01-03T13:24:09.873Z"
   },
   {
    "duration": 34,
    "start_time": "2022-01-03T13:24:09.927Z"
   },
   {
    "duration": 60,
    "start_time": "2022-01-03T13:24:09.964Z"
   },
   {
    "duration": 77,
    "start_time": "2022-01-03T13:26:04.948Z"
   },
   {
    "duration": 20,
    "start_time": "2022-01-03T13:26:05.027Z"
   },
   {
    "duration": 72,
    "start_time": "2022-01-03T13:26:05.050Z"
   },
   {
    "duration": 10,
    "start_time": "2022-01-03T13:26:05.125Z"
   },
   {
    "duration": 79,
    "start_time": "2022-01-03T13:26:05.138Z"
   },
   {
    "duration": 7,
    "start_time": "2022-01-03T13:26:05.219Z"
   },
   {
    "duration": 6,
    "start_time": "2022-01-03T13:26:05.228Z"
   },
   {
    "duration": 12,
    "start_time": "2022-01-03T13:26:05.237Z"
   },
   {
    "duration": 13,
    "start_time": "2022-01-03T13:26:05.252Z"
   },
   {
    "duration": 22,
    "start_time": "2022-01-03T13:26:05.267Z"
   },
   {
    "duration": 32,
    "start_time": "2022-01-03T13:26:05.291Z"
   },
   {
    "duration": 17,
    "start_time": "2022-01-03T13:26:05.326Z"
   },
   {
    "duration": 24,
    "start_time": "2022-01-03T13:26:05.345Z"
   },
   {
    "duration": 57,
    "start_time": "2022-01-03T13:26:05.371Z"
   },
   {
    "duration": 61,
    "start_time": "2022-01-03T13:26:05.430Z"
   },
   {
    "duration": 1010,
    "start_time": "2022-01-03T13:26:05.493Z"
   },
   {
    "duration": 4667,
    "start_time": "2022-01-03T13:26:06.507Z"
   },
   {
    "duration": 7,
    "start_time": "2022-01-03T13:26:11.177Z"
   },
   {
    "duration": 36,
    "start_time": "2022-01-03T13:26:11.187Z"
   },
   {
    "duration": 29,
    "start_time": "2022-01-03T13:26:11.225Z"
   },
   {
    "duration": 7,
    "start_time": "2022-01-03T13:26:11.257Z"
   },
   {
    "duration": 54,
    "start_time": "2022-01-03T13:26:11.267Z"
   },
   {
    "duration": 22,
    "start_time": "2022-01-03T13:26:11.325Z"
   },
   {
    "duration": 27,
    "start_time": "2022-01-03T13:26:11.350Z"
   },
   {
    "duration": 57,
    "start_time": "2022-01-03T13:26:11.379Z"
   },
   {
    "duration": 35,
    "start_time": "2022-01-03T13:26:11.439Z"
   },
   {
    "duration": 58,
    "start_time": "2022-01-03T13:26:11.476Z"
   },
   {
    "duration": 31,
    "start_time": "2022-01-03T13:26:11.537Z"
   },
   {
    "duration": 56,
    "start_time": "2022-01-03T13:26:11.571Z"
   },
   {
    "duration": 615,
    "start_time": "2022-01-04T09:40:07.642Z"
   },
   {
    "duration": 22,
    "start_time": "2022-01-04T09:40:08.259Z"
   },
   {
    "duration": 34,
    "start_time": "2022-01-04T09:40:08.285Z"
   },
   {
    "duration": 8,
    "start_time": "2022-01-04T09:40:08.321Z"
   },
   {
    "duration": 33,
    "start_time": "2022-01-04T09:40:08.331Z"
   },
   {
    "duration": 26,
    "start_time": "2022-01-04T09:40:08.366Z"
   },
   {
    "duration": 11,
    "start_time": "2022-01-04T09:40:08.393Z"
   },
   {
    "duration": 23,
    "start_time": "2022-01-04T09:40:08.406Z"
   },
   {
    "duration": 35,
    "start_time": "2022-01-04T09:40:08.431Z"
   },
   {
    "duration": 23,
    "start_time": "2022-01-04T09:40:08.469Z"
   },
   {
    "duration": 27,
    "start_time": "2022-01-04T09:40:08.493Z"
   },
   {
    "duration": 10,
    "start_time": "2022-01-04T09:40:08.522Z"
   },
   {
    "duration": 29,
    "start_time": "2022-01-04T09:40:08.534Z"
   },
   {
    "duration": 40,
    "start_time": "2022-01-04T09:40:08.565Z"
   },
   {
    "duration": 37,
    "start_time": "2022-01-04T09:40:08.607Z"
   },
   {
    "duration": 690,
    "start_time": "2022-01-04T09:40:08.646Z"
   },
   {
    "duration": 3931,
    "start_time": "2022-01-04T09:40:09.338Z"
   },
   {
    "duration": 22,
    "start_time": "2022-01-04T09:40:13.272Z"
   },
   {
    "duration": 15,
    "start_time": "2022-01-04T09:40:13.296Z"
   },
   {
    "duration": 22,
    "start_time": "2022-01-04T09:40:13.313Z"
   },
   {
    "duration": 5,
    "start_time": "2022-01-04T09:40:13.337Z"
   },
   {
    "duration": 48,
    "start_time": "2022-01-04T09:40:13.344Z"
   },
   {
    "duration": 17,
    "start_time": "2022-01-04T09:40:13.394Z"
   },
   {
    "duration": 22,
    "start_time": "2022-01-04T09:40:13.413Z"
   },
   {
    "duration": 24,
    "start_time": "2022-01-04T09:40:13.438Z"
   },
   {
    "duration": 57,
    "start_time": "2022-01-04T09:40:13.465Z"
   },
   {
    "duration": 24,
    "start_time": "2022-01-04T09:40:13.527Z"
   },
   {
    "duration": 46,
    "start_time": "2022-01-04T09:40:13.553Z"
   },
   {
    "duration": 22,
    "start_time": "2022-01-04T09:40:13.600Z"
   },
   {
    "duration": 747,
    "start_time": "2022-06-10T12:34:45.312Z"
   },
   {
    "duration": 44,
    "start_time": "2022-06-10T12:34:46.063Z"
   },
   {
    "duration": 34,
    "start_time": "2022-06-10T12:34:46.109Z"
   },
   {
    "duration": 7,
    "start_time": "2022-06-10T12:34:46.145Z"
   },
   {
    "duration": 34,
    "start_time": "2022-06-10T12:34:46.153Z"
   },
   {
    "duration": 25,
    "start_time": "2022-06-10T12:34:46.189Z"
   },
   {
    "duration": 6,
    "start_time": "2022-06-10T12:34:46.215Z"
   },
   {
    "duration": 7,
    "start_time": "2022-06-10T12:34:46.222Z"
   },
   {
    "duration": 9,
    "start_time": "2022-06-10T12:34:46.230Z"
   },
   {
    "duration": 7,
    "start_time": "2022-06-10T12:34:46.242Z"
   },
   {
    "duration": 15,
    "start_time": "2022-06-10T12:34:46.251Z"
   },
   {
    "duration": 41,
    "start_time": "2022-06-10T12:34:46.268Z"
   },
   {
    "duration": 19,
    "start_time": "2022-06-10T12:34:46.310Z"
   },
   {
    "duration": 21,
    "start_time": "2022-06-10T12:34:46.330Z"
   },
   {
    "duration": 57,
    "start_time": "2022-06-10T12:34:46.352Z"
   },
   {
    "duration": 953,
    "start_time": "2022-06-10T12:34:46.410Z"
   },
   {
    "duration": 3743,
    "start_time": "2022-06-10T12:34:47.365Z"
   },
   {
    "duration": 5,
    "start_time": "2022-06-10T12:34:51.109Z"
   },
   {
    "duration": 30,
    "start_time": "2022-06-10T12:34:51.116Z"
   },
   {
    "duration": 27,
    "start_time": "2022-06-10T12:34:51.147Z"
   },
   {
    "duration": 38,
    "start_time": "2022-06-10T12:34:51.175Z"
   },
   {
    "duration": 24,
    "start_time": "2022-06-10T12:34:51.215Z"
   },
   {
    "duration": 68,
    "start_time": "2022-06-10T12:34:51.240Z"
   },
   {
    "duration": 29,
    "start_time": "2022-06-10T12:34:51.310Z"
   },
   {
    "duration": 39,
    "start_time": "2022-06-10T12:34:51.341Z"
   },
   {
    "duration": 46,
    "start_time": "2022-06-10T12:34:51.382Z"
   },
   {
    "duration": 22,
    "start_time": "2022-06-10T12:34:51.429Z"
   },
   {
    "duration": 48,
    "start_time": "2022-06-10T12:34:51.454Z"
   },
   {
    "duration": 23,
    "start_time": "2022-06-10T12:34:51.505Z"
   }
  ],
  "kernelspec": {
   "display_name": "Python 3 (ipykernel)",
   "language": "python",
   "name": "python3"
  },
  "language_info": {
   "codemirror_mode": {
    "name": "ipython",
    "version": 3
   },
   "file_extension": ".py",
   "mimetype": "text/x-python",
   "name": "python",
   "nbconvert_exporter": "python",
   "pygments_lexer": "ipython3",
   "version": "3.7.8"
  },
  "toc": {
   "base_numbering": 1,
   "nav_menu": {},
   "number_sections": true,
   "sideBar": true,
   "skip_h1_title": true,
   "title_cell": "Table of Contents",
   "title_sidebar": "Contents",
   "toc_cell": false,
   "toc_position": {},
   "toc_section_display": true,
   "toc_window_display": true
  }
 },
 "nbformat": 4,
 "nbformat_minor": 2
}
