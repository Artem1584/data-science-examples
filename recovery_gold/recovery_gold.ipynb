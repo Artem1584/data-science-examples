{
 "cells": [
  {
   "cell_type": "markdown",
   "metadata": {},
   "source": [
    "# Восстановление золота из руды"
   ]
  },
  {
   "cell_type": "markdown",
   "metadata": {},
   "source": [
    "Подготовьте прототип модели машинного обучения для «Цифры». Компания разрабатывает решения для эффективной работы промышленных предприятий.\n",
    "\n",
    "Модель должна предсказать коэффициент восстановления золота из золотосодержащей руды. Используйте данные с параметрами добычи и очистки. \n",
    "\n",
    "Модель поможет оптимизировать производство, чтобы не запускать предприятие с убыточными характеристиками.\n",
    "\n",
    "Вам нужно:\n",
    "\n",
    "1. Подготовить данные;\n",
    "2. Провести исследовательский анализ данных;\n",
    "3. Построить и обучить модель.\n",
    "\n",
    "Чтобы выполнить проект, обращайтесь к библиотекам *pandas*, *matplotlib* и *sklearn.* Вам поможет их документация."
   ]
  },
  {
   "cell_type": "markdown",
   "metadata": {},
   "source": [
    "## Подготовка данных"
   ]
  },
  {
   "cell_type": "code",
   "execution_count": 91,
   "metadata": {},
   "outputs": [],
   "source": [
    "import pandas as pd\n",
    "from sklearn.metrics import mean_absolute_error\n",
    "import matplotlib.pyplot as plt\n",
    "from sklearn.model_selection import cross_val_score\n",
    "import numpy as np\n",
    "from sklearn.metrics import make_scorer\n",
    "from sklearn.linear_model import LinearRegression\n",
    "from sklearn.tree import DecisionTreeRegressor\n",
    "from sklearn.model_selection import GridSearchCV\n",
    "from sklearn.ensemble import RandomForestRegressor"
   ]
  },
  {
   "cell_type": "code",
   "execution_count": 92,
   "metadata": {},
   "outputs": [
    {
     "data": {
      "text/plain": [
       "(14149, 86)"
      ]
     },
     "execution_count": 92,
     "metadata": {},
     "output_type": "execute_result"
    }
   ],
   "source": [
    "train_df = pd.read_csv('/datasets/gold_recovery_train_new.csv', index_col='date',parse_dates=True)\n",
    "#display(train_df.info())\n",
    "#display(train_df.head(5))\n",
    "train_df.shape"
   ]
  },
  {
   "cell_type": "code",
   "execution_count": 93,
   "metadata": {
    "scrolled": true
   },
   "outputs": [
    {
     "data": {
      "text/plain": [
       "(5290, 52)"
      ]
     },
     "execution_count": 93,
     "metadata": {},
     "output_type": "execute_result"
    }
   ],
   "source": [
    "test_df = pd.read_csv('/datasets/gold_recovery_test_new.csv', index_col='date',parse_dates=True)\n",
    "#display(test_df.info())\n",
    "#display(test_df.head(5))\n",
    "test_df.shape"
   ]
  },
  {
   "cell_type": "code",
   "execution_count": 94,
   "metadata": {
    "scrolled": false
   },
   "outputs": [
    {
     "data": {
      "text/plain": [
       "(19439, 86)"
      ]
     },
     "execution_count": 94,
     "metadata": {},
     "output_type": "execute_result"
    }
   ],
   "source": [
    "full_df =pd.read_csv('/datasets/gold_recovery_full_new.csv', index_col='date',parse_dates=True)\n",
    "#display(full_df.info())\n",
    "#display(full_df.head())\n",
    "full_df.shape"
   ]
  },
  {
   "cell_type": "markdown",
   "metadata": {},
   "source": [
    "Вывод: данные записаны в верном формате. есть пропуски в данных."
   ]
  },
  {
   "cell_type": "markdown",
   "metadata": {},
   "source": [
    "### Проверьте, что эффективность обогащения рассчитана правильно. Вычислите её на обучающей выборке для признака rougher.output.recovery. Найдите MAE между вашими расчётами и значением признака. Опишите выводы."
   ]
  },
  {
   "cell_type": "code",
   "execution_count": 95,
   "metadata": {},
   "outputs": [],
   "source": [
    "def recovery(row):\n",
    "    \"\"\"эффективность обогащения\"\"\"\n",
    "    reco = (row['rougher.output.concentrate_au']*(row['rougher.input.feed_au']-row['rougher.output.tail_au']) ) / (\n",
    "        row['rougher.input.feed_au']*(row['rougher.output.concentrate_au']-row['rougher.output.tail_au']) * 0.01)\n",
    "    return reco\n",
    "       "
   ]
  },
  {
   "cell_type": "code",
   "execution_count": 96,
   "metadata": {},
   "outputs": [
    {
     "data": {
      "text/plain": [
       "82.70450164550293"
      ]
     },
     "execution_count": 96,
     "metadata": {},
     "output_type": "execute_result"
    }
   ],
   "source": [
    "train_df['recovery'] = train_df.apply(recovery, axis=1)\n",
    "train_df['recovery'].mean()"
   ]
  },
  {
   "cell_type": "code",
   "execution_count": 97,
   "metadata": {},
   "outputs": [
    {
     "data": {
      "text/plain": [
       "1.1159322498192853e-14"
      ]
     },
     "execution_count": 97,
     "metadata": {},
     "output_type": "execute_result"
    }
   ],
   "source": [
    "mean_absolute_error(train_df['rougher.output.recovery'], train_df['recovery'])"
   ]
  },
  {
   "cell_type": "markdown",
   "metadata": {},
   "source": [
    "Вывод: эффективность обогащения рассчитана правильно. MAE между расчётами и значением признака не большое."
   ]
  },
  {
   "cell_type": "code",
   "execution_count": 98,
   "metadata": {},
   "outputs": [
    {
     "name": "stdout",
     "output_type": "stream",
     "text": [
      "<class 'pandas.core.frame.DataFrame'>\n",
      "DatetimeIndex: 14149 entries, 2016-01-15 00:00:00 to 2018-08-18 10:59:59\n",
      "Data columns (total 87 columns):\n",
      " #   Column                                              Non-Null Count  Dtype  \n",
      "---  ------                                              --------------  -----  \n",
      " 0   final.output.concentrate_ag                         14148 non-null  float64\n",
      " 1   final.output.concentrate_pb                         14148 non-null  float64\n",
      " 2   final.output.concentrate_sol                        13938 non-null  float64\n",
      " 3   final.output.concentrate_au                         14149 non-null  float64\n",
      " 4   final.output.recovery                               14149 non-null  float64\n",
      " 5   final.output.tail_ag                                14149 non-null  float64\n",
      " 6   final.output.tail_pb                                14049 non-null  float64\n",
      " 7   final.output.tail_sol                               14144 non-null  float64\n",
      " 8   final.output.tail_au                                14149 non-null  float64\n",
      " 9   primary_cleaner.input.sulfate                       14129 non-null  float64\n",
      " 10  primary_cleaner.input.depressant                    14117 non-null  float64\n",
      " 11  primary_cleaner.input.feed_size                     14149 non-null  float64\n",
      " 12  primary_cleaner.input.xanthate                      14049 non-null  float64\n",
      " 13  primary_cleaner.output.concentrate_ag               14149 non-null  float64\n",
      " 14  primary_cleaner.output.concentrate_pb               14063 non-null  float64\n",
      " 15  primary_cleaner.output.concentrate_sol              13863 non-null  float64\n",
      " 16  primary_cleaner.output.concentrate_au               14149 non-null  float64\n",
      " 17  primary_cleaner.output.tail_ag                      14148 non-null  float64\n",
      " 18  primary_cleaner.output.tail_pb                      14134 non-null  float64\n",
      " 19  primary_cleaner.output.tail_sol                     14103 non-null  float64\n",
      " 20  primary_cleaner.output.tail_au                      14149 non-null  float64\n",
      " 21  primary_cleaner.state.floatbank8_a_air              14145 non-null  float64\n",
      " 22  primary_cleaner.state.floatbank8_a_level            14148 non-null  float64\n",
      " 23  primary_cleaner.state.floatbank8_b_air              14145 non-null  float64\n",
      " 24  primary_cleaner.state.floatbank8_b_level            14148 non-null  float64\n",
      " 25  primary_cleaner.state.floatbank8_c_air              14147 non-null  float64\n",
      " 26  primary_cleaner.state.floatbank8_c_level            14148 non-null  float64\n",
      " 27  primary_cleaner.state.floatbank8_d_air              14146 non-null  float64\n",
      " 28  primary_cleaner.state.floatbank8_d_level            14148 non-null  float64\n",
      " 29  rougher.calculation.sulfate_to_au_concentrate       14148 non-null  float64\n",
      " 30  rougher.calculation.floatbank10_sulfate_to_au_feed  14148 non-null  float64\n",
      " 31  rougher.calculation.floatbank11_sulfate_to_au_feed  14148 non-null  float64\n",
      " 32  rougher.calculation.au_pb_ratio                     14149 non-null  float64\n",
      " 33  rougher.input.feed_ag                               14149 non-null  float64\n",
      " 34  rougher.input.feed_pb                               14049 non-null  float64\n",
      " 35  rougher.input.feed_rate                             14141 non-null  float64\n",
      " 36  rougher.input.feed_size                             14005 non-null  float64\n",
      " 37  rougher.input.feed_sol                              14071 non-null  float64\n",
      " 38  rougher.input.feed_au                               14149 non-null  float64\n",
      " 39  rougher.input.floatbank10_sulfate                   14120 non-null  float64\n",
      " 40  rougher.input.floatbank10_xanthate                  14141 non-null  float64\n",
      " 41  rougher.input.floatbank11_sulfate                   14113 non-null  float64\n",
      " 42  rougher.input.floatbank11_xanthate                  13721 non-null  float64\n",
      " 43  rougher.output.concentrate_ag                       14149 non-null  float64\n",
      " 44  rougher.output.concentrate_pb                       14149 non-null  float64\n",
      " 45  rougher.output.concentrate_sol                      14127 non-null  float64\n",
      " 46  rougher.output.concentrate_au                       14149 non-null  float64\n",
      " 47  rougher.output.recovery                             14149 non-null  float64\n",
      " 48  rougher.output.tail_ag                              14148 non-null  float64\n",
      " 49  rougher.output.tail_pb                              14149 non-null  float64\n",
      " 50  rougher.output.tail_sol                             14149 non-null  float64\n",
      " 51  rougher.output.tail_au                              14149 non-null  float64\n",
      " 52  rougher.state.floatbank10_a_air                     14148 non-null  float64\n",
      " 53  rougher.state.floatbank10_a_level                   14148 non-null  float64\n",
      " 54  rougher.state.floatbank10_b_air                     14148 non-null  float64\n",
      " 55  rougher.state.floatbank10_b_level                   14148 non-null  float64\n",
      " 56  rougher.state.floatbank10_c_air                     14148 non-null  float64\n",
      " 57  rougher.state.floatbank10_c_level                   14148 non-null  float64\n",
      " 58  rougher.state.floatbank10_d_air                     14149 non-null  float64\n",
      " 59  rougher.state.floatbank10_d_level                   14149 non-null  float64\n",
      " 60  rougher.state.floatbank10_e_air                     13713 non-null  float64\n",
      " 61  rougher.state.floatbank10_e_level                   14149 non-null  float64\n",
      " 62  rougher.state.floatbank10_f_air                     14149 non-null  float64\n",
      " 63  rougher.state.floatbank10_f_level                   14149 non-null  float64\n",
      " 64  secondary_cleaner.output.tail_ag                    14147 non-null  float64\n",
      " 65  secondary_cleaner.output.tail_pb                    14139 non-null  float64\n",
      " 66  secondary_cleaner.output.tail_sol                   12544 non-null  float64\n",
      " 67  secondary_cleaner.output.tail_au                    14149 non-null  float64\n",
      " 68  secondary_cleaner.state.floatbank2_a_air            13932 non-null  float64\n",
      " 69  secondary_cleaner.state.floatbank2_a_level          14148 non-null  float64\n",
      " 70  secondary_cleaner.state.floatbank2_b_air            14128 non-null  float64\n",
      " 71  secondary_cleaner.state.floatbank2_b_level          14148 non-null  float64\n",
      " 72  secondary_cleaner.state.floatbank3_a_air            14145 non-null  float64\n",
      " 73  secondary_cleaner.state.floatbank3_a_level          14148 non-null  float64\n",
      " 74  secondary_cleaner.state.floatbank3_b_air            14148 non-null  float64\n",
      " 75  secondary_cleaner.state.floatbank3_b_level          14148 non-null  float64\n",
      " 76  secondary_cleaner.state.floatbank4_a_air            14143 non-null  float64\n",
      " 77  secondary_cleaner.state.floatbank4_a_level          14148 non-null  float64\n",
      " 78  secondary_cleaner.state.floatbank4_b_air            14148 non-null  float64\n",
      " 79  secondary_cleaner.state.floatbank4_b_level          14148 non-null  float64\n",
      " 80  secondary_cleaner.state.floatbank5_a_air            14148 non-null  float64\n",
      " 81  secondary_cleaner.state.floatbank5_a_level          14148 non-null  float64\n",
      " 82  secondary_cleaner.state.floatbank5_b_air            14148 non-null  float64\n",
      " 83  secondary_cleaner.state.floatbank5_b_level          14148 non-null  float64\n",
      " 84  secondary_cleaner.state.floatbank6_a_air            14147 non-null  float64\n",
      " 85  secondary_cleaner.state.floatbank6_a_level          14148 non-null  float64\n",
      " 86  recovery                                            14149 non-null  float64\n",
      "dtypes: float64(87)\n",
      "memory usage: 9.5 MB\n"
     ]
    }
   ],
   "source": [
    "train_df.info()"
   ]
  },
  {
   "cell_type": "markdown",
   "metadata": {},
   "source": [
    "### Проанализируйте признаки, недоступные в тестовой выборке. Что это за параметры? К какому типу относятся?"
   ]
  },
  {
   "cell_type": "code",
   "execution_count": 99,
   "metadata": {},
   "outputs": [
    {
     "data": {
      "text/plain": [
       "['final.output.concentrate_ag',\n",
       " 'final.output.concentrate_pb',\n",
       " 'final.output.concentrate_sol',\n",
       " 'final.output.concentrate_au',\n",
       " 'final.output.recovery',\n",
       " 'final.output.tail_ag',\n",
       " 'final.output.tail_pb',\n",
       " 'final.output.tail_sol',\n",
       " 'final.output.tail_au',\n",
       " 'primary_cleaner.output.concentrate_ag',\n",
       " 'primary_cleaner.output.concentrate_pb',\n",
       " 'primary_cleaner.output.concentrate_sol',\n",
       " 'primary_cleaner.output.concentrate_au',\n",
       " 'primary_cleaner.output.tail_ag',\n",
       " 'primary_cleaner.output.tail_pb',\n",
       " 'primary_cleaner.output.tail_sol',\n",
       " 'primary_cleaner.output.tail_au',\n",
       " 'rougher.calculation.sulfate_to_au_concentrate',\n",
       " 'rougher.calculation.floatbank10_sulfate_to_au_feed',\n",
       " 'rougher.calculation.floatbank11_sulfate_to_au_feed',\n",
       " 'rougher.calculation.au_pb_ratio',\n",
       " 'rougher.output.concentrate_ag',\n",
       " 'rougher.output.concentrate_pb',\n",
       " 'rougher.output.concentrate_sol',\n",
       " 'rougher.output.concentrate_au',\n",
       " 'rougher.output.recovery',\n",
       " 'rougher.output.tail_ag',\n",
       " 'rougher.output.tail_pb',\n",
       " 'rougher.output.tail_sol',\n",
       " 'rougher.output.tail_au',\n",
       " 'secondary_cleaner.output.tail_ag',\n",
       " 'secondary_cleaner.output.tail_pb',\n",
       " 'secondary_cleaner.output.tail_sol',\n",
       " 'secondary_cleaner.output.tail_au',\n",
       " 'recovery']"
      ]
     },
     "execution_count": 99,
     "metadata": {},
     "output_type": "execute_result"
    }
   ],
   "source": [
    "a = []\n",
    "for i in train_df.columns:\n",
    "    if i not in test_df.columns:\n",
    "        a.append(i)\n",
    "\n",
    "a"
   ]
  },
  {
   "cell_type": "markdown",
   "metadata": {},
   "source": [
    "В тестовой выборке не хватает данных:\n",
    "\n",
    "rougher — флотация\n",
    "\n",
    "primary_cleaner — первичная очистка\n",
    "\n",
    "secondary_cleaner — вторичная очистка\n",
    "\n",
    "final — финальные характеристики\n",
    "\n",
    "Тип данных float64"
   ]
  },
  {
   "cell_type": "markdown",
   "metadata": {},
   "source": [
    "### Проведите предобработку данных.\n"
   ]
  },
  {
   "cell_type": "code",
   "execution_count": 100,
   "metadata": {},
   "outputs": [],
   "source": [
    "# так как данные связаны между собой, использую метод interpolate для заполнения пропусков средним из соседних значений.\n",
    "train_df = train_df.interpolate()\n",
    "test_df = test_df.interpolate()\n",
    "full_df = full_df.interpolate()\n",
    "#test_df.info()\n",
    "#train_df"
   ]
  },
  {
   "cell_type": "code",
   "execution_count": 101,
   "metadata": {},
   "outputs": [],
   "source": [
    "#  добавил недостающие столбцы в тестовую выборку\n",
    "full_df_merged = full_df[[\"rougher.output.recovery\", \"final.output.recovery\"]]\n",
    "test_df = test_df.merge(full_df_merged, on=\"date\", how=\"left\")"
   ]
  },
  {
   "cell_type": "code",
   "execution_count": 102,
   "metadata": {},
   "outputs": [
    {
     "data": {
      "text/plain": [
       "(5290, 54)"
      ]
     },
     "execution_count": 102,
     "metadata": {},
     "output_type": "execute_result"
    }
   ],
   "source": [
    "test_df.shape"
   ]
  },
  {
   "cell_type": "markdown",
   "metadata": {},
   "source": [
    "Вывод: Заполнил пропуски средним между соседними значениями, добавил недостающие столбцы в тестовую выборку"
   ]
  },
  {
   "cell_type": "markdown",
   "metadata": {},
   "source": [
    "### Вывод\n",
    "\n",
    "Загрузил данные для исследования. Проверил, что эффективность обогащения рассчитана правильно. Нашел признаки недоступные в тестовой выборке. Заполнил пропуски средним между соседними значениями."
   ]
  },
  {
   "cell_type": "markdown",
   "metadata": {},
   "source": [
    "## Анализ данных"
   ]
  },
  {
   "cell_type": "markdown",
   "metadata": {},
   "source": [
    "### Посмотрите, как меняется концентрация металлов (Au, Ag, Pb) на различных этапах очистки. Опишите выводы."
   ]
  },
  {
   "cell_type": "code",
   "execution_count": 103,
   "metadata": {},
   "outputs": [],
   "source": [
    "def hist_metall(final, primary, rougher, raw, name):\n",
    "    plt.hist(final, bins=100, alpha=0.5, label='Final')\n",
    "    plt.hist(primary, bins=100, alpha=0.5, label='Primary cleaner')\n",
    "    plt.hist(rougher, bins=100, alpha=0.5, label='Rougher')\n",
    "    plt.hist(raw, bins=100, alpha=0.5, label='Raw')\n",
    "    plt.title(name)\n",
    "    plt.legend()\n",
    "    plt.show()"
   ]
  },
  {
   "cell_type": "code",
   "execution_count": 104,
   "metadata": {},
   "outputs": [
    {
     "data": {
      "image/png": "[encoded data removed]",
      "text/plain": [
       "<Figure size 432x288 with 1 Axes>"
      ]
     },
     "metadata": {
      "needs_background": "light"
     },
     "output_type": "display_data"
    }
   ],
   "source": [
    "hist_metall(full_df['rougher.input.feed_au'],\n",
    "           full_df['rougher.output.concentrate_au'],\n",
    "           full_df['primary_cleaner.output.concentrate_au'],\n",
    "           full_df['final.output.concentrate_au'],\n",
    "           'Золото')"
   ]
  },
  {
   "cell_type": "code",
   "execution_count": 105,
   "metadata": {},
   "outputs": [
    {
     "data": {
      "image/png": "[encoded data removed]",
      "text/plain": [
       "<Figure size 432x288 with 1 Axes>"
      ]
     },
     "metadata": {
      "needs_background": "light"
     },
     "output_type": "display_data"
    }
   ],
   "source": [
    "hist_metall(full_df['rougher.input.feed_ag'],\n",
    "           full_df['rougher.output.concentrate_ag'],\n",
    "           full_df['primary_cleaner.output.concentrate_ag'],\n",
    "           full_df['final.output.concentrate_ag'],\n",
    "           'Серебро')"
   ]
  },
  {
   "cell_type": "code",
   "execution_count": 106,
   "metadata": {},
   "outputs": [
    {
     "data": {
      "image/png": "[encoded data removed]",
      "text/plain": [
       "<Figure size 432x288 with 1 Axes>"
      ]
     },
     "metadata": {
      "needs_background": "light"
     },
     "output_type": "display_data"
    }
   ],
   "source": [
    "hist_metall(full_df['rougher.input.feed_pb'],\n",
    "           full_df['rougher.output.concentrate_pb'],\n",
    "           full_df['primary_cleaner.output.concentrate_pb'],\n",
    "           full_df['final.output.concentrate_pb'],\n",
    "           'Свинец')"
   ]
  },
  {
   "cell_type": "markdown",
   "metadata": {},
   "source": [
    "Вывод: Меньше всего после этапов очистки остается золота. С каждым этапом очистки, концентрация уменьшается."
   ]
  },
  {
   "cell_type": "markdown",
   "metadata": {},
   "source": [
    "### Сравните распределения размеров гранул сырья на обучающей и тестовой выборках. Если распределения сильно отличаются друг от друга, оценка модели будет неправильной."
   ]
  },
  {
   "cell_type": "code",
   "execution_count": 107,
   "metadata": {},
   "outputs": [
    {
     "data": {
      "text/plain": [
       "7.322309906901314"
      ]
     },
     "execution_count": 107,
     "metadata": {},
     "output_type": "execute_result"
    }
   ],
   "source": [
    "train_df['primary_cleaner.input.feed_size'].mean()"
   ]
  },
  {
   "cell_type": "code",
   "execution_count": 108,
   "metadata": {},
   "outputs": [
    {
     "data": {
      "text/plain": [
       "7.266339191270906"
      ]
     },
     "execution_count": 108,
     "metadata": {},
     "output_type": "execute_result"
    }
   ],
   "source": [
    "test_df['primary_cleaner.input.feed_size'].mean()"
   ]
  },
  {
   "cell_type": "code",
   "execution_count": 109,
   "metadata": {},
   "outputs": [
    {
     "data": {
      "image/png": "[encoded data removed]",
      "text/plain": [
       "<Figure size 432x288 with 1 Axes>"
      ]
     },
     "metadata": {
      "needs_background": "light"
     },
     "output_type": "display_data"
    }
   ],
   "source": [
    "train_df['primary_cleaner.input.feed_size'].plot(kind='hist', bins=50, density=True, label='train')\n",
    "test_df['primary_cleaner.input.feed_size'].plot(kind='hist', bins=50, density=True, label='test')\n",
    "\n",
    "plt.legend(loc='upper right')\n",
    "plt.title('гистограмма распределения размеров гранул сырья на обучающей и тестовой выборках')\n",
    "plt.show()"
   ]
  },
  {
   "cell_type": "markdown",
   "metadata": {},
   "source": [
    "Вывод: Распределения размеров гранул сырья на обучающей и тестовой выборках практически не отличается."
   ]
  },
  {
   "cell_type": "markdown",
   "metadata": {},
   "source": [
    "### Исследуйте суммарную концентрацию всех веществ на разных стадиях: в сырье, в черновом и финальном концентратах."
   ]
  },
  {
   "cell_type": "code",
   "execution_count": 110,
   "metadata": {},
   "outputs": [
    {
     "data": {
      "text/plain": [
       "(5290, 54)"
      ]
     },
     "metadata": {},
     "output_type": "display_data"
    },
    {
     "data": {
      "text/plain": [
       "(14149, 87)"
      ]
     },
     "metadata": {},
     "output_type": "display_data"
    },
    {
     "name": "stderr",
     "output_type": "stream",
     "text": [
      "/tmp/ipykernel_37/4233236035.py:31: UserWarning: Boolean Series key will be reindexed to match DataFrame index.\n",
      "  test_df = test_df[full_df[features_final_concentrate].sum(1) > 0]\n"
     ]
    },
    {
     "data": {
      "text/plain": [
       "(5154, 54)"
      ]
     },
     "metadata": {},
     "output_type": "display_data"
    },
    {
     "data": {
      "text/plain": [
       "(13795, 87)"
      ]
     },
     "metadata": {},
     "output_type": "display_data"
    }
   ],
   "source": [
    "features_rough_concentrate = [\n",
    "    'rougher.output.concentrate_au',\n",
    "    'rougher.output.concentrate_ag',\n",
    "    'rougher.output.concentrate_pb',\n",
    "    'rougher.output.concentrate_sol',\n",
    "]\n",
    "\n",
    "features_input_concentrate = [\n",
    "    'rougher.input.feed_au',\n",
    "    'rougher.input.feed_ag',\n",
    "    'rougher.input.feed_pb',\n",
    "    'rougher.input.feed_sol',\n",
    "]\n",
    "features_final_concentrate = [\n",
    "    'final.output.concentrate_au',\n",
    "    'final.output.concentrate_ag',\n",
    "    'final.output.concentrate_pb',\n",
    "    'final.output.concentrate_sol',\n",
    "]\n",
    "\n",
    "display(test_df.shape)\n",
    "display(train_df.shape)\n",
    "\n",
    "train_df = train_df[train_df[features_input_concentrate].sum(1) > 0]\n",
    "train_df = train_df[train_df[features_rough_concentrate].sum(1) > 0]\n",
    "train_df = train_df[train_df[features_final_concentrate].sum(1) > 0]\n",
    "\n",
    "full_df = full_df.loc[test_df.index]\n",
    "test_df = test_df[full_df[features_input_concentrate].sum(1) > 0]\n",
    "test_df = test_df[full_df[features_rough_concentrate].sum(1) > 0]\n",
    "test_df = test_df[full_df[features_final_concentrate].sum(1) > 0]\n",
    "display(test_df.shape)\n",
    "display(train_df.shape)"
   ]
  },
  {
   "cell_type": "markdown",
   "metadata": {},
   "source": [
    "Вывод: все нулевые значения на всех этапах удалил из выборок."
   ]
  },
  {
   "cell_type": "markdown",
   "metadata": {},
   "source": [
    "## Модель"
   ]
  },
  {
   "cell_type": "markdown",
   "metadata": {},
   "source": [
    "### Напишите функцию для вычисления итоговой sMAPE."
   ]
  },
  {
   "cell_type": "code",
   "execution_count": 111,
   "metadata": {},
   "outputs": [],
   "source": [
    "def calculate_smape(target_actual, target_predictions):\n",
    "    numerator = np.abs(target_actual - target_predictions)\n",
    "    denominator = (np.abs(target_actual) + np.abs(target_predictions)) / 2 \n",
    "    return 1 / len(target_actual) * np.sum(numerator / denominator) * 100 \n",
    "  \n",
    "def calculate_final_smape(target_actual, target_predictions):\n",
    "    target_actual_rougher = target_actual['rougher.output.recovery']\n",
    "    target_actual_final = target_actual['final.output.recovery']\n",
    "    target_predictions_rougher = target_predictions[:, 0]\n",
    "    target_predictions_final = target_predictions[:, 1]\n",
    "    return 0.25 * calculate_smape(target_actual_rougher, target_predictions_rougher) + 0.75 * calculate_smape(target_actual_rougher, target_predictions_rougher)\n",
    "\n",
    "smape_scorer = make_scorer(calculate_final_smape, greater_is_better=False)\n"
   ]
  },
  {
   "cell_type": "markdown",
   "metadata": {},
   "source": [
    "Вывод: написал функцию для вычисления итоговой sMAPE"
   ]
  },
  {
   "cell_type": "markdown",
   "metadata": {},
   "source": [
    "### Обучите разные модели и оцените их качество кросс-валидацией. Выберите лучшую модель и проверьте её на тестовой выборке. Опишите выводы."
   ]
  },
  {
   "cell_type": "code",
   "execution_count": 112,
   "metadata": {},
   "outputs": [],
   "source": [
    "# удалил столбец recovery из обучающей выборки, подсчитанный ранее.\n",
    "train_df = train_df.drop(\"recovery\", axis=1)"
   ]
  },
  {
   "cell_type": "code",
   "execution_count": 113,
   "metadata": {},
   "outputs": [],
   "source": [
    "# в трейн выборке взял столбцы как и в тестовой\n",
    "train_df = train_df[test_df.columns]"
   ]
  },
  {
   "cell_type": "code",
   "execution_count": 114,
   "metadata": {},
   "outputs": [],
   "source": [
    "features_train = train_df.drop(columns=[\"rougher.output.recovery\", \"final.output.recovery\"], axis=1)\n",
    "target_train = train_df[[\"rougher.output.recovery\", \"final.output.recovery\"]]\n",
    "\n",
    "features_test = test_df.drop(columns=[\"rougher.output.recovery\", \"final.output.recovery\"], axis=1)\n",
    "target_test = test_df[[\"rougher.output.recovery\", \"final.output.recovery\"]]"
   ]
  },
  {
   "cell_type": "code",
   "execution_count": 115,
   "metadata": {},
   "outputs": [
    {
     "name": "stdout",
     "output_type": "stream",
     "text": [
      "Средняя оценка качества модели: -7.2338152959280135\n"
     ]
    }
   ],
   "source": [
    "model = LinearRegression()\n",
    "scores = cross_val_score(model, features_train, target_train, cv=5, scoring=smape_scorer)\n",
    "final_score = scores.mean()\n",
    "print(f'Средняя оценка качества модели: {final_score}')"
   ]
  },
  {
   "cell_type": "code",
   "execution_count": 116,
   "metadata": {},
   "outputs": [
    {
     "name": "stdout",
     "output_type": "stream",
     "text": [
      "Лучшее значение smape для дерева решений: -7.0494106334199245 при значениях гиперпараметров: {'max_depth': 1}\n"
     ]
    }
   ],
   "source": [
    "param_grid = {'max_depth': range(1, 100, 10)}\n",
    "model = DecisionTreeRegressor(random_state=12345)\n",
    "search = GridSearchCV(model, param_grid, cv=5, scoring=smape_scorer)\n",
    "search.fit(features_train, target_train)\n",
    "print(f'Лучшее значение smape для дерева решений: {search.best_score_} при значениях гиперпараметров: {search.best_params_}')"
   ]
  },
  {
   "cell_type": "markdown",
   "metadata": {},
   "source": [
    "Лучший показатель у модели DecisionTreeRegressor(), ее и буду проверять на тестововй выборке"
   ]
  },
  {
   "cell_type": "code",
   "execution_count": 117,
   "metadata": {},
   "outputs": [
    {
     "data": {
      "text/plain": [
       "4.778059208506637"
      ]
     },
     "execution_count": 117,
     "metadata": {},
     "output_type": "execute_result"
    }
   ],
   "source": [
    "model = DecisionTreeRegressor(random_state=12345, max_depth=1)\n",
    "model.fit(features_train, target_train)\n",
    "predicted_valid = model.predict(features_test)\n",
    "calculate_final_smape(target_test, predicted_valid)"
   ]
  },
  {
   "cell_type": "markdown",
   "metadata": {},
   "source": [
    "## Общий вывод\n",
    "\n",
    "Загрузил и проанализировал данные. Заполнил пропуски средним между соседними значениями и добавил недостающие столбцы в тестовую выборку.\n",
    "\n",
    "Проверил как меняется концентрация металлов (Au, Ag, Pb) на различных этапах очистки. С каждым этапом очистки, концентрация уменьшается. Распределения размеров гранул сырья на обучающей и тестовой выборках практически не отличается.\n",
    "\n",
    "Суммарную концентрацию всех веществ на разных стадиях равную нулю, удалил.\n",
    "\n",
    "Написал функцию для вычисления итоговой sMAPE. Обучил разные модели и оценил их качество кросс-валидацией. Лучший показатель у модели DecisionTreeRegressor(), sMAPE = -7.04. Проверил на тестовой выборке, sMAPE = 4.77."
   ]
  },
  {
   "cell_type": "code",
   "execution_count": null,
   "metadata": {},
   "outputs": [],
   "source": []
  }
 ],
 "metadata": {
  "ExecuteTimeLog": [
   {
    "duration": 53,
    "start_time": "2022-04-11T19:38:10.235Z"
   },
   {
    "duration": 438,
    "start_time": "2022-04-11T19:38:17.234Z"
   },
   {
    "duration": 1159,
    "start_time": "2022-04-11T19:38:17.674Z"
   },
   {
    "duration": 282,
    "start_time": "2022-04-11T19:38:25.322Z"
   },
   {
    "duration": 37,
    "start_time": "2022-04-11T19:38:52.261Z"
   },
   {
    "duration": 271,
    "start_time": "2022-04-11T19:38:56.363Z"
   },
   {
    "duration": 253,
    "start_time": "2022-04-11T19:39:03.266Z"
   },
   {
    "duration": 247,
    "start_time": "2022-04-11T19:39:09.369Z"
   },
   {
    "duration": 179,
    "start_time": "2022-04-11T19:40:08.017Z"
   },
   {
    "duration": 78,
    "start_time": "2022-04-11T19:40:14.729Z"
   },
   {
    "duration": 99,
    "start_time": "2022-04-11T19:40:34.767Z"
   },
   {
    "duration": 626,
    "start_time": "2022-04-11T19:41:30.632Z"
   },
   {
    "duration": 533,
    "start_time": "2022-04-11T19:41:44.722Z"
   },
   {
    "duration": 659,
    "start_time": "2022-04-12T07:46:07.437Z"
   },
   {
    "duration": 515,
    "start_time": "2022-04-12T07:46:08.099Z"
   },
   {
    "duration": 198,
    "start_time": "2022-04-12T07:46:08.617Z"
   },
   {
    "duration": 457,
    "start_time": "2022-04-12T07:46:08.818Z"
   },
   {
    "duration": 519,
    "start_time": "2022-04-12T07:46:35.594Z"
   },
   {
    "duration": 426,
    "start_time": "2022-04-12T07:47:50.392Z"
   },
   {
    "duration": 487,
    "start_time": "2022-04-12T07:48:27.472Z"
   },
   {
    "duration": 142,
    "start_time": "2022-04-12T07:49:10.483Z"
   },
   {
    "duration": 392,
    "start_time": "2022-04-12T07:49:59.802Z"
   },
   {
    "duration": 4,
    "start_time": "2022-04-12T08:27:06.878Z"
   },
   {
    "duration": 382,
    "start_time": "2022-04-12T08:27:06.885Z"
   },
   {
    "duration": 148,
    "start_time": "2022-04-12T08:27:07.270Z"
   },
   {
    "duration": 485,
    "start_time": "2022-04-12T08:27:07.420Z"
   },
   {
    "duration": 41,
    "start_time": "2022-04-12T08:33:49.338Z"
   },
   {
    "duration": 33,
    "start_time": "2022-04-12T08:34:11.898Z"
   },
   {
    "duration": 21,
    "start_time": "2022-04-12T08:34:25.898Z"
   },
   {
    "duration": 10,
    "start_time": "2022-04-12T08:37:25.259Z"
   },
   {
    "duration": 4,
    "start_time": "2022-04-12T08:49:25.510Z"
   },
   {
    "duration": 4,
    "start_time": "2022-04-12T08:49:30.719Z"
   },
   {
    "duration": 6,
    "start_time": "2022-04-12T09:13:15.699Z"
   },
   {
    "duration": 3009,
    "start_time": "2022-04-12T09:17:07.112Z"
   },
   {
    "duration": 88,
    "start_time": "2022-04-12T09:19:42.584Z"
   },
   {
    "duration": 5,
    "start_time": "2022-04-12T09:20:14.343Z"
   },
   {
    "duration": 546,
    "start_time": "2022-04-12T09:20:16.933Z"
   },
   {
    "duration": 599,
    "start_time": "2022-04-12T09:20:30.584Z"
   },
   {
    "duration": 898,
    "start_time": "2022-04-12T09:21:08.764Z"
   },
   {
    "duration": 10,
    "start_time": "2022-04-12T09:22:40.364Z"
   },
   {
    "duration": 550,
    "start_time": "2022-04-12T12:23:15.291Z"
   },
   {
    "duration": 393,
    "start_time": "2022-04-12T12:23:15.844Z"
   },
   {
    "duration": 136,
    "start_time": "2022-04-12T12:23:16.239Z"
   },
   {
    "duration": 483,
    "start_time": "2022-04-12T12:23:16.378Z"
   },
   {
    "duration": 4,
    "start_time": "2022-04-12T12:23:16.863Z"
   },
   {
    "duration": 7,
    "start_time": "2022-04-12T12:23:16.869Z"
   },
   {
    "duration": 8,
    "start_time": "2022-04-12T12:23:16.878Z"
   },
   {
    "duration": 599,
    "start_time": "2022-04-12T12:23:16.888Z"
   },
   {
    "duration": 110,
    "start_time": "2022-04-12T12:23:17.489Z"
   },
   {
    "duration": 152,
    "start_time": "2022-04-12T12:28:59.929Z"
   },
   {
    "duration": 120,
    "start_time": "2022-04-12T12:29:05.224Z"
   },
   {
    "duration": 4,
    "start_time": "2022-04-12T12:29:11.928Z"
   },
   {
    "duration": 553,
    "start_time": "2022-04-12T12:29:13.969Z"
   },
   {
    "duration": 31,
    "start_time": "2022-04-12T12:31:47.304Z"
   },
   {
    "duration": 3,
    "start_time": "2022-04-12T12:32:03.713Z"
   },
   {
    "duration": 1643,
    "start_time": "2022-04-12T12:33:29.174Z"
   },
   {
    "duration": 5,
    "start_time": "2022-04-12T12:33:43.784Z"
   },
   {
    "duration": 8,
    "start_time": "2022-04-12T12:37:41.491Z"
   },
   {
    "duration": 3,
    "start_time": "2022-04-12T12:37:44.989Z"
   },
   {
    "duration": 389,
    "start_time": "2022-04-12T12:37:44.996Z"
   },
   {
    "duration": 188,
    "start_time": "2022-04-12T12:37:45.387Z"
   },
   {
    "duration": 709,
    "start_time": "2022-04-12T12:37:45.577Z"
   },
   {
    "duration": 3,
    "start_time": "2022-04-12T12:37:46.290Z"
   },
   {
    "duration": 29,
    "start_time": "2022-04-12T12:37:46.296Z"
   },
   {
    "duration": 9,
    "start_time": "2022-04-12T12:37:46.327Z"
   },
   {
    "duration": 567,
    "start_time": "2022-04-12T12:37:46.339Z"
   },
   {
    "duration": 7,
    "start_time": "2022-04-12T12:37:46.908Z"
   },
   {
    "duration": 6,
    "start_time": "2022-04-12T12:39:31.597Z"
   },
   {
    "duration": 826,
    "start_time": "2022-04-12T12:39:32.466Z"
   },
   {
    "duration": 7,
    "start_time": "2022-04-12T12:39:34.136Z"
   },
   {
    "duration": 4,
    "start_time": "2022-04-12T12:53:55.680Z"
   },
   {
    "duration": 458,
    "start_time": "2022-04-12T12:53:55.687Z"
   },
   {
    "duration": 149,
    "start_time": "2022-04-12T12:53:56.148Z"
   },
   {
    "duration": 542,
    "start_time": "2022-04-12T12:53:56.300Z"
   },
   {
    "duration": 5,
    "start_time": "2022-04-12T12:53:56.845Z"
   },
   {
    "duration": 8,
    "start_time": "2022-04-12T12:53:56.852Z"
   },
   {
    "duration": 591,
    "start_time": "2022-04-12T12:53:56.862Z"
   },
   {
    "duration": 7,
    "start_time": "2022-04-12T12:53:57.454Z"
   },
   {
    "duration": 8,
    "start_time": "2022-04-12T13:03:17.387Z"
   },
   {
    "duration": 2300,
    "start_time": "2022-04-12T13:03:33.603Z"
   },
   {
    "duration": 19,
    "start_time": "2022-04-12T13:03:40.908Z"
   },
   {
    "duration": 4,
    "start_time": "2022-04-12T13:04:41.090Z"
   },
   {
    "duration": 3,
    "start_time": "2022-04-12T13:04:42.817Z"
   },
   {
    "duration": 557,
    "start_time": "2022-04-12T13:04:43.249Z"
   },
   {
    "duration": 5,
    "start_time": "2022-04-12T13:04:53.362Z"
   },
   {
    "duration": 3,
    "start_time": "2022-04-12T13:04:53.640Z"
   },
   {
    "duration": 539,
    "start_time": "2022-04-12T13:04:53.969Z"
   },
   {
    "duration": 7,
    "start_time": "2022-04-12T13:04:56.129Z"
   },
   {
    "duration": 13,
    "start_time": "2022-04-12T13:04:58.510Z"
   },
   {
    "duration": 84,
    "start_time": "2022-04-12T13:08:43.252Z"
   },
   {
    "duration": 426,
    "start_time": "2022-04-12T13:08:48.624Z"
   },
   {
    "duration": 331,
    "start_time": "2022-04-12T13:08:54.119Z"
   },
   {
    "duration": 1128,
    "start_time": "2022-04-13T08:41:01.597Z"
   },
   {
    "duration": 230,
    "start_time": "2022-04-13T08:41:02.728Z"
   },
   {
    "duration": 61,
    "start_time": "2022-04-13T08:41:02.960Z"
   },
   {
    "duration": 288,
    "start_time": "2022-04-13T08:41:03.022Z"
   },
   {
    "duration": 3,
    "start_time": "2022-04-13T08:41:03.312Z"
   },
   {
    "duration": 11,
    "start_time": "2022-04-13T08:41:03.317Z"
   },
   {
    "duration": 313,
    "start_time": "2022-04-13T08:41:03.330Z"
   },
   {
    "duration": 5,
    "start_time": "2022-04-13T08:41:03.645Z"
   },
   {
    "duration": 4,
    "start_time": "2022-04-13T08:41:54.339Z"
   },
   {
    "duration": 4,
    "start_time": "2022-04-13T08:42:50.536Z"
   },
   {
    "duration": 92,
    "start_time": "2022-04-13T08:43:28.626Z"
   },
   {
    "duration": 8,
    "start_time": "2022-04-13T08:45:04.945Z"
   },
   {
    "duration": 9,
    "start_time": "2022-04-13T08:45:24.163Z"
   },
   {
    "duration": 7,
    "start_time": "2022-04-13T08:45:35.403Z"
   },
   {
    "duration": 13,
    "start_time": "2022-04-13T08:55:27.971Z"
   },
   {
    "duration": 9,
    "start_time": "2022-04-13T08:55:44.514Z"
   },
   {
    "duration": 14,
    "start_time": "2022-04-13T08:56:03.371Z"
   },
   {
    "duration": 34,
    "start_time": "2022-04-13T08:56:24.652Z"
   },
   {
    "duration": 14,
    "start_time": "2022-04-13T08:57:04.302Z"
   },
   {
    "duration": 233,
    "start_time": "2022-04-13T09:15:44.522Z"
   },
   {
    "duration": 300,
    "start_time": "2022-04-13T09:15:55.524Z"
   },
   {
    "duration": 52,
    "start_time": "2022-04-13T09:21:47.664Z"
   },
   {
    "duration": 13,
    "start_time": "2022-04-13T09:22:10.824Z"
   },
   {
    "duration": 32,
    "start_time": "2022-04-13T09:22:31.672Z"
   },
   {
    "duration": 16,
    "start_time": "2022-04-13T09:22:33.511Z"
   },
   {
    "duration": 14,
    "start_time": "2022-04-13T09:24:46.624Z"
   },
   {
    "duration": 11,
    "start_time": "2022-04-13T09:24:52.354Z"
   },
   {
    "duration": 12,
    "start_time": "2022-04-13T09:25:15.924Z"
   },
   {
    "duration": 220,
    "start_time": "2022-04-13T09:26:53.024Z"
   },
   {
    "duration": 3,
    "start_time": "2022-04-13T09:26:55.905Z"
   },
   {
    "duration": 220,
    "start_time": "2022-04-13T09:26:55.910Z"
   },
   {
    "duration": 55,
    "start_time": "2022-04-13T09:26:56.132Z"
   },
   {
    "duration": 284,
    "start_time": "2022-04-13T09:26:56.189Z"
   },
   {
    "duration": 3,
    "start_time": "2022-04-13T09:26:56.476Z"
   },
   {
    "duration": 4,
    "start_time": "2022-04-13T09:26:56.481Z"
   },
   {
    "duration": 287,
    "start_time": "2022-04-13T09:26:56.487Z"
   },
   {
    "duration": 4,
    "start_time": "2022-04-13T09:26:56.776Z"
   },
   {
    "duration": 18,
    "start_time": "2022-04-13T09:26:56.782Z"
   },
   {
    "duration": 49,
    "start_time": "2022-04-13T09:26:56.802Z"
   },
   {
    "duration": 3,
    "start_time": "2022-04-13T09:27:04.064Z"
   },
   {
    "duration": 2,
    "start_time": "2022-04-13T09:28:36.466Z"
   },
   {
    "duration": 233,
    "start_time": "2022-04-13T09:28:36.471Z"
   },
   {
    "duration": 55,
    "start_time": "2022-04-13T09:28:36.706Z"
   },
   {
    "duration": 272,
    "start_time": "2022-04-13T09:28:36.762Z"
   },
   {
    "duration": 3,
    "start_time": "2022-04-13T09:28:37.036Z"
   },
   {
    "duration": 5,
    "start_time": "2022-04-13T09:28:37.041Z"
   },
   {
    "duration": 291,
    "start_time": "2022-04-13T09:28:37.047Z"
   },
   {
    "duration": 4,
    "start_time": "2022-04-13T09:28:37.339Z"
   },
   {
    "duration": 5,
    "start_time": "2022-04-13T09:28:37.345Z"
   },
   {
    "duration": 32,
    "start_time": "2022-04-13T09:28:37.351Z"
   },
   {
    "duration": 48,
    "start_time": "2022-04-13T09:46:33.491Z"
   },
   {
    "duration": 225,
    "start_time": "2022-04-13T09:48:50.335Z"
   },
   {
    "duration": 2,
    "start_time": "2022-04-13T09:56:21.522Z"
   },
   {
    "duration": 231,
    "start_time": "2022-04-13T09:56:21.526Z"
   },
   {
    "duration": 53,
    "start_time": "2022-04-13T09:56:21.759Z"
   },
   {
    "duration": 287,
    "start_time": "2022-04-13T09:56:21.814Z"
   },
   {
    "duration": 3,
    "start_time": "2022-04-13T09:56:22.103Z"
   },
   {
    "duration": 4,
    "start_time": "2022-04-13T09:56:22.108Z"
   },
   {
    "duration": 295,
    "start_time": "2022-04-13T09:56:22.113Z"
   },
   {
    "duration": 5,
    "start_time": "2022-04-13T09:56:22.410Z"
   },
   {
    "duration": 2,
    "start_time": "2022-04-13T09:56:22.423Z"
   },
   {
    "duration": 69,
    "start_time": "2022-04-13T09:56:22.427Z"
   },
   {
    "duration": 1360,
    "start_time": "2022-04-13T13:25:46.140Z"
   },
   {
    "duration": 303,
    "start_time": "2022-04-13T13:25:47.502Z"
   },
   {
    "duration": 84,
    "start_time": "2022-04-13T13:25:47.807Z"
   },
   {
    "duration": 370,
    "start_time": "2022-04-13T13:25:47.893Z"
   },
   {
    "duration": 4,
    "start_time": "2022-04-13T13:25:48.264Z"
   },
   {
    "duration": 17,
    "start_time": "2022-04-13T13:25:48.270Z"
   },
   {
    "duration": 383,
    "start_time": "2022-04-13T13:25:48.289Z"
   },
   {
    "duration": 5,
    "start_time": "2022-04-13T13:25:48.674Z"
   },
   {
    "duration": 16,
    "start_time": "2022-04-13T13:25:48.681Z"
   },
   {
    "duration": 104,
    "start_time": "2022-04-13T13:25:48.700Z"
   },
   {
    "duration": 6,
    "start_time": "2022-04-13T13:29:52.771Z"
   },
   {
    "duration": 298,
    "start_time": "2022-04-13T13:29:52.779Z"
   },
   {
    "duration": 83,
    "start_time": "2022-04-13T13:29:53.078Z"
   },
   {
    "duration": 334,
    "start_time": "2022-04-13T13:29:53.163Z"
   },
   {
    "duration": 4,
    "start_time": "2022-04-13T13:29:53.499Z"
   },
   {
    "duration": 25,
    "start_time": "2022-04-13T13:29:53.505Z"
   },
   {
    "duration": 559,
    "start_time": "2022-04-13T13:29:53.532Z"
   },
   {
    "duration": 8,
    "start_time": "2022-04-13T13:29:54.093Z"
   },
   {
    "duration": 23,
    "start_time": "2022-04-13T13:29:54.103Z"
   },
   {
    "duration": 132,
    "start_time": "2022-04-13T13:29:54.128Z"
   },
   {
    "duration": 115,
    "start_time": "2022-04-13T13:32:41.374Z"
   },
   {
    "duration": 502,
    "start_time": "2022-04-13T13:35:49.804Z"
   },
   {
    "duration": 601,
    "start_time": "2022-04-13T13:35:55.532Z"
   },
   {
    "duration": 657,
    "start_time": "2022-04-13T13:36:37.196Z"
   },
   {
    "duration": 488,
    "start_time": "2022-04-13T13:36:47.811Z"
   },
   {
    "duration": 868,
    "start_time": "2022-04-13T13:37:03.162Z"
   },
   {
    "duration": 4,
    "start_time": "2022-04-13T13:37:25.691Z"
   },
   {
    "duration": 787,
    "start_time": "2022-04-13T13:37:26.203Z"
   },
   {
    "duration": 874,
    "start_time": "2022-04-13T13:38:27.794Z"
   },
   {
    "duration": 19,
    "start_time": "2022-04-13T13:39:25.098Z"
   },
   {
    "duration": 693,
    "start_time": "2022-04-13T13:39:55.194Z"
   },
   {
    "duration": 2293,
    "start_time": "2022-04-14T19:24:58.073Z"
   },
   {
    "duration": 370,
    "start_time": "2022-04-14T19:25:00.369Z"
   },
   {
    "duration": 107,
    "start_time": "2022-04-14T19:25:00.741Z"
   },
   {
    "duration": 454,
    "start_time": "2022-04-14T19:25:00.852Z"
   },
   {
    "duration": 6,
    "start_time": "2022-04-14T19:25:01.308Z"
   },
   {
    "duration": 5,
    "start_time": "2022-04-14T19:25:01.326Z"
   },
   {
    "duration": 719,
    "start_time": "2022-04-14T19:25:01.334Z"
   },
   {
    "duration": 7,
    "start_time": "2022-04-14T19:25:02.055Z"
   },
   {
    "duration": 6,
    "start_time": "2022-04-14T19:25:02.065Z"
   },
   {
    "duration": 149,
    "start_time": "2022-04-14T19:25:02.076Z"
   },
   {
    "duration": 7,
    "start_time": "2022-04-14T19:25:02.227Z"
   },
   {
    "duration": 1226,
    "start_time": "2022-04-14T19:25:02.236Z"
   },
   {
    "duration": 1379,
    "start_time": "2022-04-14T19:25:03.464Z"
   },
   {
    "duration": 1313,
    "start_time": "2022-04-14T19:25:04.846Z"
   },
   {
    "duration": 3,
    "start_time": "2022-04-14T19:27:05.598Z"
   },
   {
    "duration": 349,
    "start_time": "2022-04-14T19:27:05.604Z"
   },
   {
    "duration": 98,
    "start_time": "2022-04-14T19:27:05.956Z"
   },
   {
    "duration": 418,
    "start_time": "2022-04-14T19:27:06.056Z"
   },
   {
    "duration": 5,
    "start_time": "2022-04-14T19:27:06.479Z"
   },
   {
    "duration": 9,
    "start_time": "2022-04-14T19:27:06.487Z"
   },
   {
    "duration": 564,
    "start_time": "2022-04-14T19:27:06.499Z"
   },
   {
    "duration": 9,
    "start_time": "2022-04-14T19:27:07.066Z"
   },
   {
    "duration": 17,
    "start_time": "2022-04-14T19:27:07.078Z"
   },
   {
    "duration": 126,
    "start_time": "2022-04-14T19:27:07.098Z"
   },
   {
    "duration": 8,
    "start_time": "2022-04-14T19:27:07.228Z"
   },
   {
    "duration": 1291,
    "start_time": "2022-04-14T19:27:07.238Z"
   },
   {
    "duration": 1427,
    "start_time": "2022-04-14T19:27:08.531Z"
   },
   {
    "duration": 1168,
    "start_time": "2022-04-14T19:27:09.961Z"
   },
   {
    "duration": 1850,
    "start_time": "2022-04-14T19:51:02.666Z"
   },
   {
    "duration": 8,
    "start_time": "2022-04-14T19:51:15.748Z"
   },
   {
    "duration": 5,
    "start_time": "2022-04-14T19:51:24.210Z"
   },
   {
    "duration": 6,
    "start_time": "2022-04-14T19:51:46.249Z"
   },
   {
    "duration": 221,
    "start_time": "2022-04-14T19:53:12.041Z"
   },
   {
    "duration": 208,
    "start_time": "2022-04-14T19:53:43.545Z"
   },
   {
    "duration": 298,
    "start_time": "2022-04-14T19:54:00.368Z"
   },
   {
    "duration": 378,
    "start_time": "2022-04-14T19:54:13.576Z"
   },
   {
    "duration": 218,
    "start_time": "2022-04-14T19:55:07.072Z"
   },
   {
    "duration": 200,
    "start_time": "2022-04-14T19:55:13.824Z"
   },
   {
    "duration": 343,
    "start_time": "2022-04-14T19:55:48.224Z"
   },
   {
    "duration": 375,
    "start_time": "2022-04-14T19:56:16.040Z"
   },
   {
    "duration": 243,
    "start_time": "2022-04-14T19:57:26.215Z"
   },
   {
    "duration": 253,
    "start_time": "2022-04-14T19:57:44.631Z"
   },
   {
    "duration": 221,
    "start_time": "2022-04-14T19:57:52.854Z"
   },
   {
    "duration": 420,
    "start_time": "2022-04-14T19:58:01.093Z"
   },
   {
    "duration": 1177,
    "start_time": "2022-04-14T19:58:05.278Z"
   },
   {
    "duration": 374,
    "start_time": "2022-04-14T19:58:18.429Z"
   },
   {
    "duration": 348,
    "start_time": "2022-04-14T19:58:52.398Z"
   },
   {
    "duration": 451,
    "start_time": "2022-04-14T20:00:15.839Z"
   },
   {
    "duration": 365,
    "start_time": "2022-04-14T20:01:23.421Z"
   },
   {
    "duration": 372,
    "start_time": "2022-04-14T20:01:31.792Z"
   },
   {
    "duration": 585,
    "start_time": "2022-04-14T20:01:47.961Z"
   },
   {
    "duration": 470,
    "start_time": "2022-04-14T20:02:13.454Z"
   },
   {
    "duration": 5,
    "start_time": "2022-04-14T20:03:55.486Z"
   },
   {
    "duration": 370,
    "start_time": "2022-04-14T20:03:55.493Z"
   },
   {
    "duration": 105,
    "start_time": "2022-04-14T20:03:55.865Z"
   },
   {
    "duration": 430,
    "start_time": "2022-04-14T20:03:55.973Z"
   },
   {
    "duration": 5,
    "start_time": "2022-04-14T20:03:56.405Z"
   },
   {
    "duration": 9,
    "start_time": "2022-04-14T20:03:56.425Z"
   },
   {
    "duration": 576,
    "start_time": "2022-04-14T20:03:56.437Z"
   },
   {
    "duration": 13,
    "start_time": "2022-04-14T20:03:57.015Z"
   },
   {
    "duration": 6,
    "start_time": "2022-04-14T20:03:57.032Z"
   },
   {
    "duration": 130,
    "start_time": "2022-04-14T20:03:57.040Z"
   },
   {
    "duration": 6,
    "start_time": "2022-04-14T20:03:57.172Z"
   },
   {
    "duration": 1226,
    "start_time": "2022-04-14T20:03:57.180Z"
   },
   {
    "duration": 1336,
    "start_time": "2022-04-14T20:03:58.408Z"
   },
   {
    "duration": 1224,
    "start_time": "2022-04-14T20:03:59.746Z"
   },
   {
    "duration": 8,
    "start_time": "2022-04-14T20:04:00.972Z"
   },
   {
    "duration": 25,
    "start_time": "2022-04-14T20:04:00.982Z"
   },
   {
    "duration": 614,
    "start_time": "2022-04-14T20:04:01.010Z"
   },
   {
    "duration": 2188,
    "start_time": "2022-04-15T16:11:20.738Z"
   },
   {
    "duration": 354,
    "start_time": "2022-04-15T16:11:22.929Z"
   },
   {
    "duration": 87,
    "start_time": "2022-04-15T16:11:23.285Z"
   },
   {
    "duration": 427,
    "start_time": "2022-04-15T16:11:23.383Z"
   },
   {
    "duration": 5,
    "start_time": "2022-04-15T16:11:23.813Z"
   },
   {
    "duration": 12,
    "start_time": "2022-04-15T16:11:23.821Z"
   },
   {
    "duration": 584,
    "start_time": "2022-04-15T16:11:23.836Z"
   },
   {
    "duration": 8,
    "start_time": "2022-04-15T16:11:24.422Z"
   },
   {
    "duration": 6,
    "start_time": "2022-04-15T16:11:24.432Z"
   },
   {
    "duration": 150,
    "start_time": "2022-04-15T16:11:24.441Z"
   },
   {
    "duration": 6,
    "start_time": "2022-04-15T16:11:24.593Z"
   },
   {
    "duration": 1336,
    "start_time": "2022-04-15T16:11:24.601Z"
   },
   {
    "duration": 1269,
    "start_time": "2022-04-15T16:11:25.939Z"
   },
   {
    "duration": 1327,
    "start_time": "2022-04-15T16:11:27.210Z"
   },
   {
    "duration": 6,
    "start_time": "2022-04-15T16:11:28.539Z"
   },
   {
    "duration": 7,
    "start_time": "2022-04-15T16:11:28.547Z"
   },
   {
    "duration": 495,
    "start_time": "2022-04-15T16:11:28.556Z"
   },
   {
    "duration": 3,
    "start_time": "2022-04-15T16:14:24.808Z"
   },
   {
    "duration": 347,
    "start_time": "2022-04-15T16:14:24.814Z"
   },
   {
    "duration": 87,
    "start_time": "2022-04-15T16:14:25.163Z"
   },
   {
    "duration": 429,
    "start_time": "2022-04-15T16:14:25.252Z"
   },
   {
    "duration": 4,
    "start_time": "2022-04-15T16:14:25.685Z"
   },
   {
    "duration": 15,
    "start_time": "2022-04-15T16:14:25.691Z"
   },
   {
    "duration": 669,
    "start_time": "2022-04-15T16:14:25.708Z"
   },
   {
    "duration": 6,
    "start_time": "2022-04-15T16:14:26.382Z"
   },
   {
    "duration": 5,
    "start_time": "2022-04-15T16:14:26.390Z"
   },
   {
    "duration": 126,
    "start_time": "2022-04-15T16:14:26.397Z"
   },
   {
    "duration": 6,
    "start_time": "2022-04-15T16:14:26.526Z"
   },
   {
    "duration": 1229,
    "start_time": "2022-04-15T16:14:26.534Z"
   },
   {
    "duration": 1320,
    "start_time": "2022-04-15T16:14:27.765Z"
   },
   {
    "duration": 1207,
    "start_time": "2022-04-15T16:14:29.089Z"
   },
   {
    "duration": 6,
    "start_time": "2022-04-15T16:14:30.298Z"
   },
   {
    "duration": 21,
    "start_time": "2022-04-15T16:14:30.306Z"
   },
   {
    "duration": 577,
    "start_time": "2022-04-15T16:14:30.329Z"
   },
   {
    "duration": 5,
    "start_time": "2022-04-15T16:37:51.952Z"
   },
   {
    "duration": 6,
    "start_time": "2022-04-15T16:37:59.830Z"
   },
   {
    "duration": 346,
    "start_time": "2022-04-15T16:42:20.750Z"
   },
   {
    "duration": 153,
    "start_time": "2022-04-15T16:43:38.334Z"
   },
   {
    "duration": 7280,
    "start_time": "2022-04-15T16:43:45.413Z"
   },
   {
    "duration": 26,
    "start_time": "2022-04-15T16:44:26.037Z"
   },
   {
    "duration": 15,
    "start_time": "2022-04-15T16:44:49.603Z"
   },
   {
    "duration": 347885,
    "start_time": "2022-04-15T16:44:55.443Z"
   },
   {
    "duration": 58,
    "start_time": "2022-04-15T17:06:20.686Z"
   },
   {
    "duration": 353707,
    "start_time": "2022-04-15T17:06:41.081Z"
   },
   {
    "duration": 19,
    "start_time": "2022-04-15T17:14:35.038Z"
   },
   {
    "duration": 36,
    "start_time": "2022-04-15T17:14:42.078Z"
   },
   {
    "duration": 13,
    "start_time": "2022-04-15T17:16:09.765Z"
   },
   {
    "duration": 16,
    "start_time": "2022-04-15T17:16:46.082Z"
   },
   {
    "duration": 8,
    "start_time": "2022-04-15T17:17:12.477Z"
   },
   {
    "duration": 6574,
    "start_time": "2022-04-15T17:17:38.156Z"
   },
   {
    "duration": 21,
    "start_time": "2022-04-15T17:18:12.116Z"
   },
   {
    "duration": 20,
    "start_time": "2022-04-15T17:18:19.941Z"
   },
   {
    "duration": 26,
    "start_time": "2022-04-15T17:18:23.708Z"
   },
   {
    "duration": 351380,
    "start_time": "2022-04-15T17:18:32.310Z"
   },
   {
    "duration": 5,
    "start_time": "2022-04-15T17:30:19.737Z"
   },
   {
    "duration": 372,
    "start_time": "2022-04-15T17:30:19.745Z"
   },
   {
    "duration": 91,
    "start_time": "2022-04-15T17:30:20.119Z"
   },
   {
    "duration": 460,
    "start_time": "2022-04-15T17:30:20.214Z"
   },
   {
    "duration": 10,
    "start_time": "2022-04-15T17:30:20.676Z"
   },
   {
    "duration": 7,
    "start_time": "2022-04-15T17:30:20.688Z"
   },
   {
    "duration": 649,
    "start_time": "2022-04-15T17:30:20.698Z"
   },
   {
    "duration": 6,
    "start_time": "2022-04-15T17:30:21.350Z"
   },
   {
    "duration": 22,
    "start_time": "2022-04-15T17:30:21.360Z"
   },
   {
    "duration": 121,
    "start_time": "2022-04-15T17:30:21.385Z"
   },
   {
    "duration": 5,
    "start_time": "2022-04-15T17:30:21.509Z"
   },
   {
    "duration": 1745,
    "start_time": "2022-04-15T17:30:21.516Z"
   },
   {
    "duration": 2182,
    "start_time": "2022-04-15T17:30:23.264Z"
   },
   {
    "duration": 1538,
    "start_time": "2022-04-15T17:30:25.449Z"
   },
   {
    "duration": 10,
    "start_time": "2022-04-15T17:30:26.989Z"
   },
   {
    "duration": 14,
    "start_time": "2022-04-15T17:30:27.001Z"
   },
   {
    "duration": 485,
    "start_time": "2022-04-15T17:30:27.017Z"
   },
   {
    "duration": 77,
    "start_time": "2022-04-15T17:30:27.505Z"
   },
   {
    "duration": 4,
    "start_time": "2022-04-15T19:40:53.107Z"
   },
   {
    "duration": 344,
    "start_time": "2022-04-15T19:40:53.114Z"
   },
   {
    "duration": 83,
    "start_time": "2022-04-15T19:40:53.460Z"
   },
   {
    "duration": 417,
    "start_time": "2022-04-15T19:40:53.546Z"
   },
   {
    "duration": 17,
    "start_time": "2022-04-15T19:40:53.968Z"
   },
   {
    "duration": 7,
    "start_time": "2022-04-15T19:40:53.988Z"
   },
   {
    "duration": 559,
    "start_time": "2022-04-15T19:40:53.997Z"
   },
   {
    "duration": 8,
    "start_time": "2022-04-15T19:40:54.559Z"
   },
   {
    "duration": 19,
    "start_time": "2022-04-15T19:40:54.569Z"
   },
   {
    "duration": 131,
    "start_time": "2022-04-15T19:40:54.590Z"
   },
   {
    "duration": 7,
    "start_time": "2022-04-15T19:40:54.723Z"
   },
   {
    "duration": 1349,
    "start_time": "2022-04-15T19:40:54.733Z"
   },
   {
    "duration": 1621,
    "start_time": "2022-04-15T19:40:56.087Z"
   },
   {
    "duration": 1435,
    "start_time": "2022-04-15T19:40:57.711Z"
   },
   {
    "duration": 7,
    "start_time": "2022-04-15T19:40:59.149Z"
   },
   {
    "duration": 25,
    "start_time": "2022-04-15T19:40:59.158Z"
   },
   {
    "duration": 476,
    "start_time": "2022-04-15T19:40:59.185Z"
   },
   {
    "duration": 68,
    "start_time": "2022-04-15T19:40:59.663Z"
   },
   {
    "duration": 63,
    "start_time": "2022-04-15T19:41:06.836Z"
   },
   {
    "duration": 33,
    "start_time": "2022-04-15T19:44:43.263Z"
   },
   {
    "duration": 46,
    "start_time": "2022-04-15T19:45:24.308Z"
   },
   {
    "duration": 25,
    "start_time": "2022-04-15T19:45:32.430Z"
   },
   {
    "duration": 25,
    "start_time": "2022-04-15T19:45:35.379Z"
   },
   {
    "duration": 1718,
    "start_time": "2022-04-16T19:27:05.344Z"
   },
   {
    "duration": 291,
    "start_time": "2022-04-16T19:27:07.064Z"
   },
   {
    "duration": 79,
    "start_time": "2022-04-16T19:27:07.356Z"
   },
   {
    "duration": 351,
    "start_time": "2022-04-16T19:27:07.436Z"
   },
   {
    "duration": 3,
    "start_time": "2022-04-16T19:27:07.792Z"
   },
   {
    "duration": 4,
    "start_time": "2022-04-16T19:27:07.797Z"
   },
   {
    "duration": 358,
    "start_time": "2022-04-16T19:27:07.803Z"
   },
   {
    "duration": 6,
    "start_time": "2022-04-16T19:27:08.162Z"
   },
   {
    "duration": 6,
    "start_time": "2022-04-16T19:27:08.169Z"
   },
   {
    "duration": 102,
    "start_time": "2022-04-16T19:27:08.177Z"
   },
   {
    "duration": 13,
    "start_time": "2022-04-16T19:27:08.281Z"
   },
   {
    "duration": 811,
    "start_time": "2022-04-16T19:27:08.295Z"
   },
   {
    "duration": 715,
    "start_time": "2022-04-16T19:27:09.108Z"
   },
   {
    "duration": 832,
    "start_time": "2022-04-16T19:27:09.826Z"
   },
   {
    "duration": 5,
    "start_time": "2022-04-16T19:27:10.660Z"
   },
   {
    "duration": 6,
    "start_time": "2022-04-16T19:27:10.667Z"
   },
   {
    "duration": 301,
    "start_time": "2022-04-16T19:27:10.675Z"
   },
   {
    "duration": 49,
    "start_time": "2022-04-16T19:27:10.978Z"
   },
   {
    "duration": 17,
    "start_time": "2022-04-16T19:27:11.029Z"
   },
   {
    "duration": 146,
    "start_time": "2022-04-16T19:27:11.048Z"
   },
   {
    "duration": 3,
    "start_time": "2022-04-16T19:27:35.511Z"
   },
   {
    "duration": 23,
    "start_time": "2022-04-16T19:44:19.121Z"
   },
   {
    "duration": 14,
    "start_time": "2022-04-16T19:47:37.649Z"
   },
   {
    "duration": 15,
    "start_time": "2022-04-16T19:48:14.120Z"
   },
   {
    "duration": 2197,
    "start_time": "2022-04-16T19:49:21.680Z"
   },
   {
    "duration": 2349,
    "start_time": "2022-04-16T19:50:10.686Z"
   },
   {
    "duration": 3,
    "start_time": "2022-04-16T19:50:28.369Z"
   },
   {
    "duration": 285,
    "start_time": "2022-04-16T19:50:28.375Z"
   },
   {
    "duration": 79,
    "start_time": "2022-04-16T19:50:28.661Z"
   },
   {
    "duration": 407,
    "start_time": "2022-04-16T19:50:28.742Z"
   },
   {
    "duration": 4,
    "start_time": "2022-04-16T19:50:29.151Z"
   },
   {
    "duration": 19,
    "start_time": "2022-04-16T19:50:29.157Z"
   },
   {
    "duration": 369,
    "start_time": "2022-04-16T19:50:29.177Z"
   },
   {
    "duration": 6,
    "start_time": "2022-04-16T19:50:29.548Z"
   },
   {
    "duration": 8,
    "start_time": "2022-04-16T19:50:29.556Z"
   },
   {
    "duration": 101,
    "start_time": "2022-04-16T19:50:29.566Z"
   },
   {
    "duration": 4,
    "start_time": "2022-04-16T19:50:29.669Z"
   },
   {
    "duration": 831,
    "start_time": "2022-04-16T19:50:29.674Z"
   },
   {
    "duration": 944,
    "start_time": "2022-04-16T19:50:30.508Z"
   },
   {
    "duration": 760,
    "start_time": "2022-04-16T19:50:31.455Z"
   },
   {
    "duration": 5,
    "start_time": "2022-04-16T19:50:32.217Z"
   },
   {
    "duration": 10,
    "start_time": "2022-04-16T19:50:32.224Z"
   },
   {
    "duration": 401,
    "start_time": "2022-04-16T19:50:32.236Z"
   },
   {
    "duration": 39,
    "start_time": "2022-04-16T19:50:32.638Z"
   },
   {
    "duration": 18,
    "start_time": "2022-04-16T19:50:32.692Z"
   },
   {
    "duration": 15,
    "start_time": "2022-04-16T19:50:36.119Z"
   },
   {
    "duration": 2285,
    "start_time": "2022-04-16T19:50:38.422Z"
   },
   {
    "duration": 3,
    "start_time": "2022-04-16T19:51:01.162Z"
   },
   {
    "duration": 271,
    "start_time": "2022-04-16T19:51:01.167Z"
   },
   {
    "duration": 78,
    "start_time": "2022-04-16T19:51:01.440Z"
   },
   {
    "duration": 359,
    "start_time": "2022-04-16T19:51:01.519Z"
   },
   {
    "duration": 4,
    "start_time": "2022-04-16T19:51:01.880Z"
   },
   {
    "duration": 23,
    "start_time": "2022-04-16T19:51:01.886Z"
   },
   {
    "duration": 348,
    "start_time": "2022-04-16T19:51:01.911Z"
   },
   {
    "duration": 5,
    "start_time": "2022-04-16T19:51:02.261Z"
   },
   {
    "duration": 9,
    "start_time": "2022-04-16T19:51:02.268Z"
   },
   {
    "duration": 90,
    "start_time": "2022-04-16T19:51:02.279Z"
   },
   {
    "duration": 4,
    "start_time": "2022-04-16T19:51:02.372Z"
   },
   {
    "duration": 737,
    "start_time": "2022-04-16T19:51:02.377Z"
   },
   {
    "duration": 868,
    "start_time": "2022-04-16T19:51:03.115Z"
   },
   {
    "duration": 717,
    "start_time": "2022-04-16T19:51:03.992Z"
   },
   {
    "duration": 5,
    "start_time": "2022-04-16T19:51:04.711Z"
   },
   {
    "duration": 8,
    "start_time": "2022-04-16T19:51:04.717Z"
   },
   {
    "duration": 295,
    "start_time": "2022-04-16T19:51:04.727Z"
   },
   {
    "duration": 2274,
    "start_time": "2022-04-16T19:51:07.227Z"
   },
   {
    "duration": 7,
    "start_time": "2022-04-16T19:51:43.340Z"
   },
   {
    "duration": 2159,
    "start_time": "2022-04-16T19:52:25.580Z"
   },
   {
    "duration": 7,
    "start_time": "2022-04-16T19:52:46.213Z"
   },
   {
    "duration": 2337,
    "start_time": "2022-04-16T19:52:55.780Z"
   },
   {
    "duration": 6,
    "start_time": "2022-04-16T19:53:10.140Z"
   },
   {
    "duration": 5,
    "start_time": "2022-04-16T19:53:13.411Z"
   },
   {
    "duration": 10,
    "start_time": "2022-04-16T19:53:26.059Z"
   },
   {
    "duration": 6,
    "start_time": "2022-04-16T19:53:46.179Z"
   },
   {
    "duration": 2364,
    "start_time": "2022-04-16T19:53:57.939Z"
   },
   {
    "duration": 16,
    "start_time": "2022-04-16T19:54:14.531Z"
   },
   {
    "duration": 135,
    "start_time": "2022-04-16T19:54:43.162Z"
   },
   {
    "duration": 20,
    "start_time": "2022-04-16T20:20:24.737Z"
   },
   {
    "duration": 14,
    "start_time": "2022-04-16T20:22:12.824Z"
   },
   {
    "duration": 29,
    "start_time": "2022-04-16T20:22:30.968Z"
   },
   {
    "duration": 3,
    "start_time": "2022-04-16T20:27:49.349Z"
   },
   {
    "duration": 12,
    "start_time": "2022-04-16T20:28:16.284Z"
   },
   {
    "duration": 3,
    "start_time": "2022-04-16T20:29:16.151Z"
   },
   {
    "duration": 5,
    "start_time": "2022-04-16T20:29:28.550Z"
   },
   {
    "duration": 3,
    "start_time": "2022-04-16T20:30:04.859Z"
   },
   {
    "duration": 10,
    "start_time": "2022-04-16T20:30:07.453Z"
   },
   {
    "duration": 14,
    "start_time": "2022-04-16T20:30:42.708Z"
   },
   {
    "duration": 4,
    "start_time": "2022-04-16T20:31:42.869Z"
   },
   {
    "duration": 23,
    "start_time": "2022-04-16T20:32:13.771Z"
   },
   {
    "duration": 5,
    "start_time": "2022-04-16T20:32:26.011Z"
   },
   {
    "duration": 13,
    "start_time": "2022-04-16T20:32:46.530Z"
   },
   {
    "duration": 15,
    "start_time": "2022-04-16T20:32:56.012Z"
   },
   {
    "duration": 3,
    "start_time": "2022-04-16T20:33:18.493Z"
   },
   {
    "duration": 23,
    "start_time": "2022-04-16T20:33:31.939Z"
   },
   {
    "duration": 13,
    "start_time": "2022-04-16T20:36:36.434Z"
   },
   {
    "duration": 24,
    "start_time": "2022-04-16T20:36:47.458Z"
   },
   {
    "duration": 245,
    "start_time": "2022-04-16T20:38:09.234Z"
   },
   {
    "duration": 68,
    "start_time": "2022-04-16T20:38:20.640Z"
   },
   {
    "duration": 332,
    "start_time": "2022-04-16T20:38:21.127Z"
   },
   {
    "duration": 3,
    "start_time": "2022-04-16T20:38:28.212Z"
   },
   {
    "duration": 278,
    "start_time": "2022-04-16T20:38:28.217Z"
   },
   {
    "duration": 68,
    "start_time": "2022-04-16T20:38:28.496Z"
   },
   {
    "duration": 343,
    "start_time": "2022-04-16T20:38:28.566Z"
   },
   {
    "duration": 3,
    "start_time": "2022-04-16T20:38:28.910Z"
   },
   {
    "duration": 6,
    "start_time": "2022-04-16T20:38:28.915Z"
   },
   {
    "duration": 325,
    "start_time": "2022-04-16T20:38:28.922Z"
   },
   {
    "duration": 5,
    "start_time": "2022-04-16T20:38:29.249Z"
   },
   {
    "duration": 3,
    "start_time": "2022-04-16T20:38:29.257Z"
   },
   {
    "duration": 94,
    "start_time": "2022-04-16T20:38:29.261Z"
   },
   {
    "duration": 20,
    "start_time": "2022-04-16T20:38:44.424Z"
   },
   {
    "duration": 4,
    "start_time": "2022-04-16T20:38:58.113Z"
   },
   {
    "duration": 5,
    "start_time": "2022-04-16T20:39:02.433Z"
   },
   {
    "duration": 13,
    "start_time": "2022-04-16T20:39:15.316Z"
   },
   {
    "duration": 4,
    "start_time": "2022-04-16T20:40:29.908Z"
   },
   {
    "duration": 259,
    "start_time": "2022-04-16T20:40:29.914Z"
   },
   {
    "duration": 73,
    "start_time": "2022-04-16T20:40:30.176Z"
   },
   {
    "duration": 321,
    "start_time": "2022-04-16T20:40:30.251Z"
   },
   {
    "duration": 4,
    "start_time": "2022-04-16T20:40:30.574Z"
   },
   {
    "duration": 14,
    "start_time": "2022-04-16T20:40:30.579Z"
   },
   {
    "duration": 303,
    "start_time": "2022-04-16T20:40:30.595Z"
   },
   {
    "duration": 5,
    "start_time": "2022-04-16T20:40:30.900Z"
   },
   {
    "duration": 8,
    "start_time": "2022-04-16T20:40:30.906Z"
   },
   {
    "duration": 95,
    "start_time": "2022-04-16T20:40:30.915Z"
   },
   {
    "duration": 11,
    "start_time": "2022-04-16T20:40:31.013Z"
   },
   {
    "duration": 16,
    "start_time": "2022-04-16T20:40:31.026Z"
   },
   {
    "duration": 738,
    "start_time": "2022-04-16T20:40:31.044Z"
   },
   {
    "duration": 909,
    "start_time": "2022-04-16T20:40:31.783Z"
   },
   {
    "duration": 715,
    "start_time": "2022-04-16T20:40:32.694Z"
   },
   {
    "duration": 6,
    "start_time": "2022-04-16T20:40:33.411Z"
   },
   {
    "duration": 6,
    "start_time": "2022-04-16T20:40:33.419Z"
   },
   {
    "duration": 516,
    "start_time": "2022-04-16T20:40:33.427Z"
   },
   {
    "duration": 56,
    "start_time": "2022-04-16T20:40:33.945Z"
   },
   {
    "duration": 4,
    "start_time": "2022-04-16T20:40:38.466Z"
   },
   {
    "duration": 22,
    "start_time": "2022-04-16T20:40:40.747Z"
   },
   {
    "duration": 22,
    "start_time": "2022-04-16T20:40:47.065Z"
   },
   {
    "duration": 4,
    "start_time": "2022-04-16T20:41:00.023Z"
   },
   {
    "duration": 5,
    "start_time": "2022-04-16T20:41:08.806Z"
   },
   {
    "duration": 11,
    "start_time": "2022-04-16T20:41:18.056Z"
   },
   {
    "duration": 10,
    "start_time": "2022-04-16T20:41:27.264Z"
   },
   {
    "duration": 10,
    "start_time": "2022-04-16T20:41:35.143Z"
   },
   {
    "duration": 4,
    "start_time": "2022-04-16T20:41:52.651Z"
   },
   {
    "duration": 267,
    "start_time": "2022-04-16T20:41:52.656Z"
   },
   {
    "duration": 72,
    "start_time": "2022-04-16T20:41:52.925Z"
   },
   {
    "duration": 341,
    "start_time": "2022-04-16T20:41:52.999Z"
   },
   {
    "duration": 3,
    "start_time": "2022-04-16T20:41:53.343Z"
   },
   {
    "duration": 8,
    "start_time": "2022-04-16T20:41:53.348Z"
   },
   {
    "duration": 310,
    "start_time": "2022-04-16T20:41:53.357Z"
   },
   {
    "duration": 5,
    "start_time": "2022-04-16T20:41:53.669Z"
   },
   {
    "duration": 18,
    "start_time": "2022-04-16T20:41:53.676Z"
   },
   {
    "duration": 80,
    "start_time": "2022-04-16T20:41:53.696Z"
   },
   {
    "duration": 22,
    "start_time": "2022-04-16T20:41:53.777Z"
   },
   {
    "duration": 4,
    "start_time": "2022-04-16T20:41:53.801Z"
   },
   {
    "duration": 726,
    "start_time": "2022-04-16T20:41:53.807Z"
   },
   {
    "duration": 909,
    "start_time": "2022-04-16T20:41:54.536Z"
   },
   {
    "duration": 721,
    "start_time": "2022-04-16T20:41:55.446Z"
   },
   {
    "duration": 5,
    "start_time": "2022-04-16T20:41:56.169Z"
   },
   {
    "duration": 18,
    "start_time": "2022-04-16T20:41:56.176Z"
   },
   {
    "duration": 513,
    "start_time": "2022-04-16T20:41:56.195Z"
   },
   {
    "duration": 41,
    "start_time": "2022-04-16T20:41:56.710Z"
   },
   {
    "duration": 4,
    "start_time": "2022-04-16T20:41:56.753Z"
   },
   {
    "duration": 35,
    "start_time": "2022-04-16T20:41:56.759Z"
   },
   {
    "duration": 84,
    "start_time": "2022-04-16T20:57:15.208Z"
   },
   {
    "duration": 67,
    "start_time": "2022-04-16T20:57:52.321Z"
   },
   {
    "duration": 62,
    "start_time": "2022-04-16T20:59:20.437Z"
   },
   {
    "duration": 3,
    "start_time": "2022-04-16T21:11:07.275Z"
   },
   {
    "duration": 11,
    "start_time": "2022-04-16T21:11:18.011Z"
   },
   {
    "duration": 1820,
    "start_time": "2022-04-16T21:11:28.779Z"
   },
   {
    "duration": 2187,
    "start_time": "2022-04-16T21:12:16.909Z"
   },
   {
    "duration": 1625,
    "start_time": "2022-04-16T21:12:55.571Z"
   },
   {
    "duration": 2909,
    "start_time": "2022-04-16T21:13:04.690Z"
   },
   {
    "duration": 2977,
    "start_time": "2022-04-16T21:13:20.915Z"
   },
   {
    "duration": 4,
    "start_time": "2022-04-16T21:14:06.757Z"
   },
   {
    "duration": 3,
    "start_time": "2022-04-16T21:17:08.405Z"
   },
   {
    "duration": 3,
    "start_time": "2022-04-16T21:17:52.674Z"
   },
   {
    "duration": 21947,
    "start_time": "2022-04-16T21:18:23.164Z"
   },
   {
    "duration": 2886,
    "start_time": "2022-04-16T21:25:28.714Z"
   },
   {
    "duration": 7125,
    "start_time": "2022-04-16T21:25:38.334Z"
   },
   {
    "duration": 7095,
    "start_time": "2022-04-16T21:26:12.375Z"
   },
   {
    "duration": 1446,
    "start_time": "2022-04-16T21:30:50.582Z"
   },
   {
    "duration": 1456,
    "start_time": "2022-04-16T21:31:19.277Z"
   },
   {
    "duration": 1454,
    "start_time": "2022-04-16T21:31:41.013Z"
   },
   {
    "duration": 1457,
    "start_time": "2022-04-16T21:32:09.964Z"
   },
   {
    "duration": 1551,
    "start_time": "2022-04-16T21:35:07.058Z"
   },
   {
    "duration": 25580,
    "start_time": "2022-04-16T21:35:25.045Z"
   },
   {
    "duration": 24,
    "start_time": "2022-04-16T21:39:58.796Z"
   },
   {
    "duration": 23,
    "start_time": "2022-04-16T21:40:03.213Z"
   },
   {
    "duration": 26194,
    "start_time": "2022-04-16T21:40:26.066Z"
   },
   {
    "duration": 6095,
    "start_time": "2022-04-16T21:45:30.898Z"
   },
   {
    "duration": 2842,
    "start_time": "2022-04-16T21:46:51.862Z"
   },
   {
    "duration": 2223,
    "start_time": "2022-04-17T08:41:47.662Z"
   },
   {
    "duration": 320,
    "start_time": "2022-04-17T08:41:49.887Z"
   },
   {
    "duration": 89,
    "start_time": "2022-04-17T08:41:50.209Z"
   },
   {
    "duration": 390,
    "start_time": "2022-04-17T08:41:50.301Z"
   },
   {
    "duration": 5,
    "start_time": "2022-04-17T08:41:50.693Z"
   },
   {
    "duration": 6,
    "start_time": "2022-04-17T08:41:50.700Z"
   },
   {
    "duration": 475,
    "start_time": "2022-04-17T08:41:50.708Z"
   },
   {
    "duration": 10,
    "start_time": "2022-04-17T08:41:51.185Z"
   },
   {
    "duration": 8,
    "start_time": "2022-04-17T08:41:51.197Z"
   },
   {
    "duration": 131,
    "start_time": "2022-04-17T08:41:51.209Z"
   },
   {
    "duration": 17,
    "start_time": "2022-04-17T08:41:51.342Z"
   },
   {
    "duration": 5,
    "start_time": "2022-04-17T08:41:51.362Z"
   },
   {
    "duration": 1216,
    "start_time": "2022-04-17T08:41:51.369Z"
   },
   {
    "duration": 1210,
    "start_time": "2022-04-17T08:41:52.587Z"
   },
   {
    "duration": 1240,
    "start_time": "2022-04-17T08:41:53.799Z"
   },
   {
    "duration": 7,
    "start_time": "2022-04-17T08:41:55.041Z"
   },
   {
    "duration": 8,
    "start_time": "2022-04-17T08:41:55.050Z"
   },
   {
    "duration": 459,
    "start_time": "2022-04-17T08:41:55.060Z"
   },
   {
    "duration": 79,
    "start_time": "2022-04-17T08:41:55.521Z"
   },
   {
    "duration": 7,
    "start_time": "2022-04-17T08:41:55.602Z"
   },
   {
    "duration": 18,
    "start_time": "2022-04-17T08:41:55.611Z"
   },
   {
    "duration": 3967,
    "start_time": "2022-04-17T08:41:55.631Z"
   },
   {
    "duration": 8144,
    "start_time": "2022-04-17T08:41:59.601Z"
   },
   {
    "duration": 27491,
    "start_time": "2022-04-17T08:42:07.747Z"
   },
   {
    "duration": 4073,
    "start_time": "2022-04-17T08:42:41.120Z"
   },
   {
    "duration": 27350,
    "start_time": "2022-04-17T08:44:16.879Z"
   },
   {
    "duration": 3847,
    "start_time": "2022-04-17T08:46:27.654Z"
   },
   {
    "duration": 2200,
    "start_time": "2022-04-17T08:46:37.093Z"
   },
   {
    "duration": 2420,
    "start_time": "2022-04-17T08:46:59.872Z"
   },
   {
    "duration": 28581,
    "start_time": "2022-04-17T08:57:14.465Z"
   },
   {
    "duration": 15,
    "start_time": "2022-04-17T08:58:54.531Z"
   },
   {
    "duration": 4,
    "start_time": "2022-04-17T09:00:12.567Z"
   },
   {
    "duration": 7,
    "start_time": "2022-04-17T09:28:28.410Z"
   },
   {
    "duration": 311,
    "start_time": "2022-04-17T09:28:28.424Z"
   },
   {
    "duration": 96,
    "start_time": "2022-04-17T09:28:28.737Z"
   },
   {
    "duration": 467,
    "start_time": "2022-04-17T09:28:28.836Z"
   },
   {
    "duration": 5,
    "start_time": "2022-04-17T09:28:29.305Z"
   },
   {
    "duration": 13,
    "start_time": "2022-04-17T09:28:29.313Z"
   },
   {
    "duration": 603,
    "start_time": "2022-04-17T09:28:29.328Z"
   },
   {
    "duration": 7,
    "start_time": "2022-04-17T09:28:29.933Z"
   },
   {
    "duration": 10,
    "start_time": "2022-04-17T09:28:29.942Z"
   },
   {
    "duration": 171,
    "start_time": "2022-04-17T09:28:29.954Z"
   },
   {
    "duration": 17,
    "start_time": "2022-04-17T09:28:30.127Z"
   },
   {
    "duration": 7,
    "start_time": "2022-04-17T09:28:30.146Z"
   },
   {
    "duration": 1347,
    "start_time": "2022-04-17T09:28:30.154Z"
   },
   {
    "duration": 1780,
    "start_time": "2022-04-17T09:28:31.503Z"
   },
   {
    "duration": 1516,
    "start_time": "2022-04-17T09:28:33.293Z"
   },
   {
    "duration": 7,
    "start_time": "2022-04-17T09:28:34.811Z"
   },
   {
    "duration": 11,
    "start_time": "2022-04-17T09:28:34.820Z"
   },
   {
    "duration": 465,
    "start_time": "2022-04-17T09:28:34.833Z"
   },
   {
    "duration": 58,
    "start_time": "2022-04-17T09:28:35.300Z"
   },
   {
    "duration": 33,
    "start_time": "2022-04-17T09:28:35.360Z"
   },
   {
    "duration": 12,
    "start_time": "2022-04-17T09:28:35.395Z"
   },
   {
    "duration": 2893,
    "start_time": "2022-04-17T09:28:35.409Z"
   },
   {
    "duration": 28592,
    "start_time": "2022-04-17T09:28:38.392Z"
   },
   {
    "duration": 561,
    "start_time": "2022-04-17T09:33:42.194Z"
   },
   {
    "duration": 4,
    "start_time": "2022-04-17T09:36:34.987Z"
   },
   {
    "duration": 350,
    "start_time": "2022-04-17T09:36:39.246Z"
   },
   {
    "duration": 237,
    "start_time": "2022-04-17T09:37:17.158Z"
   },
   {
    "duration": 122,
    "start_time": "2022-04-17T09:38:01.677Z"
   },
   {
    "duration": 198,
    "start_time": "2022-04-17T09:38:07.701Z"
   },
   {
    "duration": 2797,
    "start_time": "2022-04-17T09:38:43.198Z"
   },
   {
    "duration": 870,
    "start_time": "2022-04-17T09:39:06.725Z"
   },
   {
    "duration": 2076,
    "start_time": "2022-04-17T09:39:52.827Z"
   },
   {
    "duration": 27013,
    "start_time": "2022-04-17T09:39:54.995Z"
   },
   {
    "duration": 73593,
    "start_time": "2022-04-17T09:40:31.700Z"
   },
   {
    "duration": 2098,
    "start_time": "2022-04-17T09:45:48.875Z"
   },
   {
    "duration": 2216,
    "start_time": "2022-04-17T09:47:30.589Z"
   },
   {
    "duration": 17,
    "start_time": "2022-04-17T09:51:36.711Z"
   },
   {
    "duration": 18,
    "start_time": "2022-04-17T09:51:53.215Z"
   },
   {
    "duration": 17,
    "start_time": "2022-04-17T09:52:43.758Z"
   },
   {
    "duration": 9967,
    "start_time": "2022-04-17T09:52:57.383Z"
   },
   {
    "duration": 10025,
    "start_time": "2022-04-17T09:53:15.690Z"
   },
   {
    "duration": 2682,
    "start_time": "2022-04-17T09:53:47.312Z"
   },
   {
    "duration": 1529,
    "start_time": "2022-04-17T09:54:15.457Z"
   },
   {
    "duration": 2841,
    "start_time": "2022-04-17T10:28:22.334Z"
   },
   {
    "duration": 2708,
    "start_time": "2022-04-17T10:28:49.106Z"
   },
   {
    "duration": 5459,
    "start_time": "2022-04-17T10:29:05.695Z"
   },
   {
    "duration": 5,
    "start_time": "2022-04-17T10:32:08.696Z"
   },
   {
    "duration": 338,
    "start_time": "2022-04-17T10:32:09.085Z"
   },
   {
    "duration": 94,
    "start_time": "2022-04-17T10:32:09.434Z"
   },
   {
    "duration": 528,
    "start_time": "2022-04-17T10:32:09.536Z"
   },
   {
    "duration": 4,
    "start_time": "2022-04-17T10:32:10.542Z"
   },
   {
    "duration": 3,
    "start_time": "2022-04-17T10:32:10.563Z"
   },
   {
    "duration": 578,
    "start_time": "2022-04-17T10:32:10.596Z"
   },
   {
    "duration": 21,
    "start_time": "2022-04-17T10:32:11.273Z"
   },
   {
    "duration": 7,
    "start_time": "2022-04-17T10:32:11.316Z"
   },
   {
    "duration": 79,
    "start_time": "2022-04-17T10:32:11.336Z"
   },
   {
    "duration": 29,
    "start_time": "2022-04-17T10:32:12.672Z"
   },
   {
    "duration": 6,
    "start_time": "2022-04-17T10:32:13.895Z"
   },
   {
    "duration": 1244,
    "start_time": "2022-04-17T10:32:15.011Z"
   },
   {
    "duration": 1136,
    "start_time": "2022-04-17T10:32:16.266Z"
   },
   {
    "duration": 1240,
    "start_time": "2022-04-17T10:32:17.412Z"
   },
   {
    "duration": 6,
    "start_time": "2022-04-17T10:32:19.093Z"
   },
   {
    "duration": 6,
    "start_time": "2022-04-17T10:32:19.157Z"
   },
   {
    "duration": 445,
    "start_time": "2022-04-17T10:32:19.203Z"
   },
   {
    "duration": 0,
    "start_time": "2022-04-17T10:32:19.694Z"
   },
   {
    "duration": 0,
    "start_time": "2022-04-17T10:32:19.697Z"
   },
   {
    "duration": 0,
    "start_time": "2022-04-17T10:32:19.700Z"
   },
   {
    "duration": 0,
    "start_time": "2022-04-17T10:32:19.703Z"
   },
   {
    "duration": 0,
    "start_time": "2022-04-17T10:32:19.705Z"
   },
   {
    "duration": 0,
    "start_time": "2022-04-17T10:32:19.706Z"
   },
   {
    "duration": 5,
    "start_time": "2022-04-17T10:32:49.901Z"
   },
   {
    "duration": 337,
    "start_time": "2022-04-17T10:32:49.909Z"
   },
   {
    "duration": 90,
    "start_time": "2022-04-17T10:32:50.249Z"
   },
   {
    "duration": 397,
    "start_time": "2022-04-17T10:32:50.341Z"
   },
   {
    "duration": 5,
    "start_time": "2022-04-17T10:32:50.741Z"
   },
   {
    "duration": 13,
    "start_time": "2022-04-17T10:32:50.748Z"
   },
   {
    "duration": 492,
    "start_time": "2022-04-17T10:32:50.763Z"
   },
   {
    "duration": 7,
    "start_time": "2022-04-17T10:32:51.257Z"
   },
   {
    "duration": 28,
    "start_time": "2022-04-17T10:32:51.266Z"
   },
   {
    "duration": 114,
    "start_time": "2022-04-17T10:32:51.296Z"
   },
   {
    "duration": 15,
    "start_time": "2022-04-17T10:32:51.414Z"
   },
   {
    "duration": 7,
    "start_time": "2022-04-17T10:32:51.431Z"
   },
   {
    "duration": 1394,
    "start_time": "2022-04-17T10:32:51.440Z"
   },
   {
    "duration": 1173,
    "start_time": "2022-04-17T10:32:52.836Z"
   },
   {
    "duration": 1228,
    "start_time": "2022-04-17T10:32:54.012Z"
   },
   {
    "duration": 8,
    "start_time": "2022-04-17T10:32:55.242Z"
   },
   {
    "duration": 8,
    "start_time": "2022-04-17T10:32:55.253Z"
   },
   {
    "duration": 465,
    "start_time": "2022-04-17T10:32:55.263Z"
   },
   {
    "duration": 83,
    "start_time": "2022-04-17T10:32:55.731Z"
   },
   {
    "duration": 8,
    "start_time": "2022-04-17T10:32:55.817Z"
   },
   {
    "duration": 18,
    "start_time": "2022-04-17T10:32:55.827Z"
   },
   {
    "duration": 2652,
    "start_time": "2022-04-17T10:32:55.848Z"
   },
   {
    "duration": 166048,
    "start_time": "2022-04-17T10:32:58.593Z"
   },
   {
    "duration": 5553,
    "start_time": "2022-04-17T10:35:44.643Z"
   },
   {
    "duration": 5739,
    "start_time": "2022-04-17T10:41:11.200Z"
   },
   {
    "duration": 5,
    "start_time": "2022-04-17T10:41:59.279Z"
   },
   {
    "duration": 290,
    "start_time": "2022-04-17T10:41:59.286Z"
   },
   {
    "duration": 84,
    "start_time": "2022-04-17T10:41:59.579Z"
   },
   {
    "duration": 400,
    "start_time": "2022-04-17T10:41:59.666Z"
   },
   {
    "duration": 5,
    "start_time": "2022-04-17T10:42:00.069Z"
   },
   {
    "duration": 7,
    "start_time": "2022-04-17T10:42:00.076Z"
   },
   {
    "duration": 514,
    "start_time": "2022-04-17T10:42:00.085Z"
   },
   {
    "duration": 8,
    "start_time": "2022-04-17T10:42:00.601Z"
   },
   {
    "duration": 16,
    "start_time": "2022-04-17T10:42:00.610Z"
   },
   {
    "duration": 114,
    "start_time": "2022-04-17T10:42:00.628Z"
   },
   {
    "duration": 18,
    "start_time": "2022-04-17T10:42:00.746Z"
   },
   {
    "duration": 22,
    "start_time": "2022-04-17T10:42:00.766Z"
   },
   {
    "duration": 1441,
    "start_time": "2022-04-17T10:42:00.791Z"
   },
   {
    "duration": 1198,
    "start_time": "2022-04-17T10:42:02.234Z"
   },
   {
    "duration": 1237,
    "start_time": "2022-04-17T10:42:03.434Z"
   },
   {
    "duration": 6,
    "start_time": "2022-04-17T10:42:04.673Z"
   },
   {
    "duration": 15,
    "start_time": "2022-04-17T10:42:04.681Z"
   },
   {
    "duration": 460,
    "start_time": "2022-04-17T10:42:04.698Z"
   },
   {
    "duration": 76,
    "start_time": "2022-04-17T10:42:05.160Z"
   },
   {
    "duration": 7,
    "start_time": "2022-04-17T10:42:05.238Z"
   },
   {
    "duration": 21,
    "start_time": "2022-04-17T10:42:05.248Z"
   },
   {
    "duration": 238,
    "start_time": "2022-04-17T10:42:05.271Z"
   },
   {
    "duration": 0,
    "start_time": "2022-04-17T10:42:05.511Z"
   },
   {
    "duration": 0,
    "start_time": "2022-04-17T10:42:05.513Z"
   },
   {
    "duration": 2052,
    "start_time": "2022-04-17T10:42:29.650Z"
   },
   {
    "duration": 4004,
    "start_time": "2022-04-17T10:42:41.089Z"
   },
   {
    "duration": 5,
    "start_time": "2022-04-17T10:45:43.797Z"
   },
   {
    "duration": 278,
    "start_time": "2022-04-17T10:45:43.893Z"
   },
   {
    "duration": 85,
    "start_time": "2022-04-17T10:45:44.554Z"
   },
   {
    "duration": 394,
    "start_time": "2022-04-17T10:45:44.647Z"
   },
   {
    "duration": 8,
    "start_time": "2022-04-17T10:45:45.048Z"
   },
   {
    "duration": 3,
    "start_time": "2022-04-17T10:45:45.538Z"
   },
   {
    "duration": 584,
    "start_time": "2022-04-17T10:45:45.554Z"
   },
   {
    "duration": 9,
    "start_time": "2022-04-17T10:45:46.149Z"
   },
   {
    "duration": 14,
    "start_time": "2022-04-17T10:45:46.280Z"
   },
   {
    "duration": 35,
    "start_time": "2022-04-17T10:45:46.317Z"
   },
   {
    "duration": 17,
    "start_time": "2022-04-17T10:45:46.396Z"
   },
   {
    "duration": 6,
    "start_time": "2022-04-17T10:45:47.560Z"
   },
   {
    "duration": 1168,
    "start_time": "2022-04-17T10:45:48.779Z"
   },
   {
    "duration": 1098,
    "start_time": "2022-04-17T10:45:51.300Z"
   },
   {
    "duration": 1242,
    "start_time": "2022-04-17T10:45:52.409Z"
   },
   {
    "duration": 8,
    "start_time": "2022-04-17T10:45:53.661Z"
   },
   {
    "duration": 5,
    "start_time": "2022-04-17T10:45:54.132Z"
   },
   {
    "duration": 468,
    "start_time": "2022-04-17T10:45:54.217Z"
   },
   {
    "duration": 59,
    "start_time": "2022-04-17T10:45:54.696Z"
   },
   {
    "duration": 0,
    "start_time": "2022-04-17T10:45:54.812Z"
   },
   {
    "duration": 0,
    "start_time": "2022-04-17T10:45:54.816Z"
   },
   {
    "duration": 0,
    "start_time": "2022-04-17T10:45:54.820Z"
   },
   {
    "duration": 0,
    "start_time": "2022-04-17T10:45:54.824Z"
   },
   {
    "duration": 0,
    "start_time": "2022-04-17T10:45:54.827Z"
   },
   {
    "duration": 5,
    "start_time": "2022-04-17T10:46:15.774Z"
   },
   {
    "duration": 319,
    "start_time": "2022-04-17T10:46:15.782Z"
   },
   {
    "duration": 81,
    "start_time": "2022-04-17T10:46:16.103Z"
   },
   {
    "duration": 390,
    "start_time": "2022-04-17T10:46:16.187Z"
   },
   {
    "duration": 4,
    "start_time": "2022-04-17T10:46:16.579Z"
   },
   {
    "duration": 4,
    "start_time": "2022-04-17T10:46:16.592Z"
   },
   {
    "duration": 485,
    "start_time": "2022-04-17T10:46:16.598Z"
   },
   {
    "duration": 12,
    "start_time": "2022-04-17T10:46:17.085Z"
   },
   {
    "duration": 6,
    "start_time": "2022-04-17T10:46:17.101Z"
   },
   {
    "duration": 129,
    "start_time": "2022-04-17T10:46:17.109Z"
   },
   {
    "duration": 17,
    "start_time": "2022-04-17T10:46:17.240Z"
   },
   {
    "duration": 5,
    "start_time": "2022-04-17T10:46:17.259Z"
   },
   {
    "duration": 1240,
    "start_time": "2022-04-17T10:46:17.266Z"
   },
   {
    "duration": 1095,
    "start_time": "2022-04-17T10:46:18.508Z"
   },
   {
    "duration": 1230,
    "start_time": "2022-04-17T10:46:19.605Z"
   },
   {
    "duration": 7,
    "start_time": "2022-04-17T10:46:20.837Z"
   },
   {
    "duration": 13,
    "start_time": "2022-04-17T10:46:20.846Z"
   },
   {
    "duration": 455,
    "start_time": "2022-04-17T10:46:20.861Z"
   },
   {
    "duration": 57,
    "start_time": "2022-04-17T10:46:21.318Z"
   },
   {
    "duration": 7,
    "start_time": "2022-04-17T10:46:21.392Z"
   },
   {
    "duration": 16,
    "start_time": "2022-04-17T10:46:21.401Z"
   },
   {
    "duration": 2383,
    "start_time": "2022-04-17T10:46:21.419Z"
   },
   {
    "duration": 73170,
    "start_time": "2022-04-17T10:46:23.894Z"
   },
   {
    "duration": 2825,
    "start_time": "2022-04-17T10:47:37.068Z"
   },
   {
    "duration": 2365,
    "start_time": "2022-04-18T06:50:10.911Z"
   },
   {
    "duration": 419,
    "start_time": "2022-04-18T06:50:13.280Z"
   },
   {
    "duration": 96,
    "start_time": "2022-04-18T06:50:13.701Z"
   },
   {
    "duration": 512,
    "start_time": "2022-04-18T06:50:13.800Z"
   },
   {
    "duration": 6,
    "start_time": "2022-04-18T06:50:14.314Z"
   },
   {
    "duration": 5,
    "start_time": "2022-04-18T06:50:24.511Z"
   },
   {
    "duration": 3,
    "start_time": "2022-04-18T06:50:28.042Z"
   },
   {
    "duration": 567,
    "start_time": "2022-04-18T06:50:31.523Z"
   },
   {
    "duration": 7,
    "start_time": "2022-04-18T06:50:34.401Z"
   },
   {
    "duration": 6,
    "start_time": "2022-04-18T06:50:45.122Z"
   },
   {
    "duration": 28,
    "start_time": "2022-04-18T06:51:25.481Z"
   },
   {
    "duration": 20,
    "start_time": "2022-04-18T06:51:56.322Z"
   },
   {
    "duration": 5,
    "start_time": "2022-04-18T06:52:21.722Z"
   },
   {
    "duration": 322,
    "start_time": "2022-04-18T06:52:21.730Z"
   },
   {
    "duration": 94,
    "start_time": "2022-04-18T06:52:22.054Z"
   },
   {
    "duration": 411,
    "start_time": "2022-04-18T06:52:22.150Z"
   },
   {
    "duration": 4,
    "start_time": "2022-04-18T06:52:22.564Z"
   },
   {
    "duration": 4,
    "start_time": "2022-04-18T06:52:28.682Z"
   },
   {
    "duration": 23,
    "start_time": "2022-04-18T06:52:29.951Z"
   },
   {
    "duration": 564,
    "start_time": "2022-04-18T06:52:58.082Z"
   },
   {
    "duration": 7,
    "start_time": "2022-04-18T06:53:13.122Z"
   },
   {
    "duration": 19,
    "start_time": "2022-04-18T06:53:16.922Z"
   },
   {
    "duration": 21,
    "start_time": "2022-04-18T06:53:28.481Z"
   },
   {
    "duration": 4,
    "start_time": "2022-04-18T06:54:48.092Z"
   },
   {
    "duration": 326,
    "start_time": "2022-04-18T06:54:48.099Z"
   },
   {
    "duration": 90,
    "start_time": "2022-04-18T06:54:48.427Z"
   },
   {
    "duration": 444,
    "start_time": "2022-04-18T06:54:48.519Z"
   },
   {
    "duration": 4,
    "start_time": "2022-04-18T06:54:48.966Z"
   },
   {
    "duration": 41,
    "start_time": "2022-04-18T06:54:48.973Z"
   },
   {
    "duration": 19,
    "start_time": "2022-04-18T06:54:57.002Z"
   },
   {
    "duration": 4,
    "start_time": "2022-04-18T06:55:03.962Z"
   },
   {
    "duration": 568,
    "start_time": "2022-04-18T06:55:09.722Z"
   },
   {
    "duration": 6,
    "start_time": "2022-04-18T06:55:13.802Z"
   },
   {
    "duration": 19,
    "start_time": "2022-04-18T06:55:14.751Z"
   },
   {
    "duration": 5,
    "start_time": "2022-04-18T06:55:53.731Z"
   },
   {
    "duration": 317,
    "start_time": "2022-04-18T06:55:53.739Z"
   },
   {
    "duration": 92,
    "start_time": "2022-04-18T06:55:54.058Z"
   },
   {
    "duration": 405,
    "start_time": "2022-04-18T06:55:54.152Z"
   },
   {
    "duration": 5,
    "start_time": "2022-04-18T06:55:54.559Z"
   },
   {
    "duration": 522,
    "start_time": "2022-04-18T06:55:54.565Z"
   },
   {
    "duration": 507,
    "start_time": "2022-04-18T06:56:10.064Z"
   },
   {
    "duration": 13,
    "start_time": "2022-04-18T06:56:10.573Z"
   },
   {
    "duration": 6,
    "start_time": "2022-04-18T06:56:12.649Z"
   },
   {
    "duration": 5,
    "start_time": "2022-04-18T06:56:35.259Z"
   },
   {
    "duration": 315,
    "start_time": "2022-04-18T06:56:35.266Z"
   },
   {
    "duration": 84,
    "start_time": "2022-04-18T06:56:35.584Z"
   },
   {
    "duration": 396,
    "start_time": "2022-04-18T06:56:35.670Z"
   },
   {
    "duration": 12,
    "start_time": "2022-04-18T06:56:36.070Z"
   },
   {
    "duration": 558,
    "start_time": "2022-04-18T06:56:36.085Z"
   },
   {
    "duration": 7,
    "start_time": "2022-04-18T06:56:36.645Z"
   },
   {
    "duration": 29,
    "start_time": "2022-04-18T06:56:36.655Z"
   },
   {
    "duration": 127,
    "start_time": "2022-04-18T06:56:36.687Z"
   },
   {
    "duration": 16,
    "start_time": "2022-04-18T06:56:36.817Z"
   },
   {
    "duration": 6,
    "start_time": "2022-04-18T06:56:36.834Z"
   },
   {
    "duration": 1481,
    "start_time": "2022-04-18T06:56:36.842Z"
   },
   {
    "duration": 1305,
    "start_time": "2022-04-18T06:56:38.326Z"
   },
   {
    "duration": 1440,
    "start_time": "2022-04-18T06:56:39.635Z"
   },
   {
    "duration": 8,
    "start_time": "2022-04-18T06:56:41.082Z"
   },
   {
    "duration": 8,
    "start_time": "2022-04-18T06:56:41.093Z"
   },
   {
    "duration": 609,
    "start_time": "2022-04-18T06:56:41.103Z"
   },
   {
    "duration": 84,
    "start_time": "2022-04-18T06:56:41.715Z"
   },
   {
    "duration": 7,
    "start_time": "2022-04-18T06:56:48.735Z"
   },
   {
    "duration": 7,
    "start_time": "2022-04-18T06:58:06.097Z"
   },
   {
    "duration": 180,
    "start_time": "2022-04-18T06:58:20.496Z"
   },
   {
    "duration": 25,
    "start_time": "2022-04-18T07:01:30.495Z"
   },
   {
    "duration": 34,
    "start_time": "2022-04-18T07:01:53.496Z"
   },
   {
    "duration": 13,
    "start_time": "2022-04-18T07:02:54.095Z"
   },
   {
    "duration": 19,
    "start_time": "2022-04-18T07:03:03.695Z"
   },
   {
    "duration": 6,
    "start_time": "2022-04-18T07:03:19.336Z"
   },
   {
    "duration": 426,
    "start_time": "2022-04-18T07:03:19.346Z"
   },
   {
    "duration": 83,
    "start_time": "2022-04-18T07:03:19.782Z"
   },
   {
    "duration": 409,
    "start_time": "2022-04-18T07:03:19.867Z"
   },
   {
    "duration": 5,
    "start_time": "2022-04-18T07:03:20.279Z"
   },
   {
    "duration": 521,
    "start_time": "2022-04-18T07:03:20.286Z"
   },
   {
    "duration": 7,
    "start_time": "2022-04-18T07:03:20.809Z"
   },
   {
    "duration": 24,
    "start_time": "2022-04-18T07:03:26.375Z"
   },
   {
    "duration": 5,
    "start_time": "2022-04-18T07:03:50.455Z"
   },
   {
    "duration": 346,
    "start_time": "2022-04-18T07:03:50.463Z"
   },
   {
    "duration": 92,
    "start_time": "2022-04-18T07:03:50.811Z"
   },
   {
    "duration": 441,
    "start_time": "2022-04-18T07:03:50.906Z"
   },
   {
    "duration": 4,
    "start_time": "2022-04-18T07:03:51.349Z"
   },
   {
    "duration": 570,
    "start_time": "2022-04-18T07:03:51.355Z"
   },
   {
    "duration": 7,
    "start_time": "2022-04-18T07:03:51.927Z"
   },
   {
    "duration": 46,
    "start_time": "2022-04-18T07:03:51.936Z"
   },
   {
    "duration": 14,
    "start_time": "2022-04-18T07:03:51.990Z"
   },
   {
    "duration": 133,
    "start_time": "2022-04-18T07:03:52.006Z"
   },
   {
    "duration": 17,
    "start_time": "2022-04-18T07:03:52.141Z"
   },
   {
    "duration": 6,
    "start_time": "2022-04-18T07:03:52.161Z"
   },
   {
    "duration": 1374,
    "start_time": "2022-04-18T07:03:52.184Z"
   },
   {
    "duration": 1292,
    "start_time": "2022-04-18T07:03:53.561Z"
   },
   {
    "duration": 1480,
    "start_time": "2022-04-18T07:03:54.856Z"
   },
   {
    "duration": 7,
    "start_time": "2022-04-18T07:03:56.339Z"
   },
   {
    "duration": 10,
    "start_time": "2022-04-18T07:03:56.348Z"
   },
   {
    "duration": 517,
    "start_time": "2022-04-18T07:03:56.383Z"
   },
   {
    "duration": 79,
    "start_time": "2022-04-18T07:03:56.902Z"
   },
   {
    "duration": 11,
    "start_time": "2022-04-18T07:03:56.985Z"
   },
   {
    "duration": 30,
    "start_time": "2022-04-18T07:03:59.663Z"
   },
   {
    "duration": 35,
    "start_time": "2022-04-18T07:04:13.376Z"
   },
   {
    "duration": 18,
    "start_time": "2022-04-18T07:04:41.616Z"
   },
   {
    "duration": 4,
    "start_time": "2022-04-18T07:05:01.216Z"
   },
   {
    "duration": 376,
    "start_time": "2022-04-18T07:05:01.223Z"
   },
   {
    "duration": 88,
    "start_time": "2022-04-18T07:05:01.601Z"
   },
   {
    "duration": 433,
    "start_time": "2022-04-18T07:05:01.693Z"
   },
   {
    "duration": 6,
    "start_time": "2022-04-18T07:05:02.128Z"
   },
   {
    "duration": 579,
    "start_time": "2022-04-18T07:05:02.136Z"
   },
   {
    "duration": 6,
    "start_time": "2022-04-18T07:05:02.718Z"
   },
   {
    "duration": 28,
    "start_time": "2022-04-18T07:05:02.726Z"
   },
   {
    "duration": 6,
    "start_time": "2022-04-18T07:05:02.756Z"
   },
   {
    "duration": 142,
    "start_time": "2022-04-18T07:05:02.785Z"
   },
   {
    "duration": 17,
    "start_time": "2022-04-18T07:05:02.929Z"
   },
   {
    "duration": 6,
    "start_time": "2022-04-18T07:05:02.948Z"
   },
   {
    "duration": 1452,
    "start_time": "2022-04-18T07:05:02.956Z"
   },
   {
    "duration": 1299,
    "start_time": "2022-04-18T07:05:04.410Z"
   },
   {
    "duration": 1558,
    "start_time": "2022-04-18T07:05:05.712Z"
   },
   {
    "duration": 10,
    "start_time": "2022-04-18T07:05:07.273Z"
   },
   {
    "duration": 25,
    "start_time": "2022-04-18T07:05:07.286Z"
   },
   {
    "duration": 503,
    "start_time": "2022-04-18T07:05:07.313Z"
   },
   {
    "duration": 82,
    "start_time": "2022-04-18T07:05:07.818Z"
   },
   {
    "duration": 6,
    "start_time": "2022-04-18T07:05:07.903Z"
   },
   {
    "duration": 20,
    "start_time": "2022-04-18T07:05:07.911Z"
   },
   {
    "duration": 20,
    "start_time": "2022-04-18T07:05:11.016Z"
   },
   {
    "duration": 5,
    "start_time": "2022-04-18T07:05:29.617Z"
   },
   {
    "duration": 330,
    "start_time": "2022-04-18T07:05:29.625Z"
   },
   {
    "duration": 94,
    "start_time": "2022-04-18T07:05:29.957Z"
   },
   {
    "duration": 418,
    "start_time": "2022-04-18T07:05:30.053Z"
   },
   {
    "duration": 16,
    "start_time": "2022-04-18T07:05:30.474Z"
   },
   {
    "duration": 578,
    "start_time": "2022-04-18T07:05:30.493Z"
   },
   {
    "duration": 14,
    "start_time": "2022-04-18T07:05:31.074Z"
   },
   {
    "duration": 40,
    "start_time": "2022-04-18T07:05:31.091Z"
   },
   {
    "duration": 7,
    "start_time": "2022-04-18T07:05:31.133Z"
   },
   {
    "duration": 130,
    "start_time": "2022-04-18T07:05:31.142Z"
   },
   {
    "duration": 23,
    "start_time": "2022-04-18T07:05:31.275Z"
   },
   {
    "duration": 31,
    "start_time": "2022-04-18T07:05:31.301Z"
   },
   {
    "duration": 1446,
    "start_time": "2022-04-18T07:05:31.334Z"
   },
   {
    "duration": 1312,
    "start_time": "2022-04-18T07:05:32.786Z"
   },
   {
    "duration": 1550,
    "start_time": "2022-04-18T07:05:34.100Z"
   },
   {
    "duration": 7,
    "start_time": "2022-04-18T07:05:35.652Z"
   },
   {
    "duration": 24,
    "start_time": "2022-04-18T07:05:35.661Z"
   },
   {
    "duration": 570,
    "start_time": "2022-04-18T07:05:35.689Z"
   },
   {
    "duration": 78,
    "start_time": "2022-04-18T07:05:36.262Z"
   },
   {
    "duration": 8,
    "start_time": "2022-04-18T07:05:36.342Z"
   },
   {
    "duration": 35,
    "start_time": "2022-04-18T07:05:36.352Z"
   },
   {
    "duration": 13,
    "start_time": "2022-04-18T07:05:39.936Z"
   },
   {
    "duration": 2967,
    "start_time": "2022-04-18T07:05:44.617Z"
   },
   {
    "duration": 69729,
    "start_time": "2022-04-18T07:05:57.063Z"
   },
   {
    "duration": 5,
    "start_time": "2022-04-18T07:09:16.137Z"
   },
   {
    "duration": 340,
    "start_time": "2022-04-18T07:09:16.145Z"
   },
   {
    "duration": 97,
    "start_time": "2022-04-18T07:09:16.487Z"
   },
   {
    "duration": 414,
    "start_time": "2022-04-18T07:09:16.587Z"
   },
   {
    "duration": 5,
    "start_time": "2022-04-18T07:09:17.003Z"
   },
   {
    "duration": 515,
    "start_time": "2022-04-18T07:09:17.010Z"
   },
   {
    "duration": 8,
    "start_time": "2022-04-18T07:09:17.528Z"
   },
   {
    "duration": 50,
    "start_time": "2022-04-18T07:09:17.539Z"
   },
   {
    "duration": 7,
    "start_time": "2022-04-18T07:09:17.591Z"
   },
   {
    "duration": 141,
    "start_time": "2022-04-18T07:09:17.604Z"
   },
   {
    "duration": 18,
    "start_time": "2022-04-18T07:09:17.748Z"
   },
   {
    "duration": 15,
    "start_time": "2022-04-18T07:09:17.768Z"
   },
   {
    "duration": 1624,
    "start_time": "2022-04-18T07:09:17.787Z"
   },
   {
    "duration": 1338,
    "start_time": "2022-04-18T07:09:19.414Z"
   },
   {
    "duration": 1341,
    "start_time": "2022-04-18T07:09:20.754Z"
   },
   {
    "duration": 7,
    "start_time": "2022-04-18T07:09:22.098Z"
   },
   {
    "duration": 8,
    "start_time": "2022-04-18T07:09:22.107Z"
   },
   {
    "duration": 668,
    "start_time": "2022-04-18T07:09:22.119Z"
   },
   {
    "duration": 63,
    "start_time": "2022-04-18T07:09:22.789Z"
   },
   {
    "duration": 8,
    "start_time": "2022-04-18T07:09:22.881Z"
   },
   {
    "duration": 13,
    "start_time": "2022-04-18T07:09:22.891Z"
   },
   {
    "duration": 20,
    "start_time": "2022-04-18T07:09:22.906Z"
   },
   {
    "duration": 2756,
    "start_time": "2022-04-18T07:09:22.929Z"
   },
   {
    "duration": 73538,
    "start_time": "2022-04-18T07:09:25.687Z"
   },
   {
    "duration": 3148,
    "start_time": "2022-04-18T07:10:39.227Z"
   },
   {
    "duration": 3084,
    "start_time": "2022-04-18T07:11:30.779Z"
   },
   {
    "duration": 5,
    "start_time": "2022-04-18T07:58:22.994Z"
   },
   {
    "duration": 330,
    "start_time": "2022-04-18T07:58:23.002Z"
   },
   {
    "duration": 98,
    "start_time": "2022-04-18T07:58:23.334Z"
   },
   {
    "duration": 439,
    "start_time": "2022-04-18T07:58:23.435Z"
   },
   {
    "duration": 5,
    "start_time": "2022-04-18T07:58:23.877Z"
   },
   {
    "duration": 562,
    "start_time": "2022-04-18T07:58:23.885Z"
   },
   {
    "duration": 6,
    "start_time": "2022-04-18T07:58:24.449Z"
   },
   {
    "duration": 38,
    "start_time": "2022-04-18T07:58:24.457Z"
   },
   {
    "duration": 6,
    "start_time": "2022-04-18T07:58:24.499Z"
   },
   {
    "duration": 133,
    "start_time": "2022-04-18T07:58:24.507Z"
   },
   {
    "duration": 17,
    "start_time": "2022-04-18T07:58:24.642Z"
   },
   {
    "duration": 22,
    "start_time": "2022-04-18T07:58:24.661Z"
   },
   {
    "duration": 1540,
    "start_time": "2022-04-18T07:58:24.687Z"
   },
   {
    "duration": 1383,
    "start_time": "2022-04-18T07:58:26.230Z"
   },
   {
    "duration": 1524,
    "start_time": "2022-04-18T07:58:27.616Z"
   },
   {
    "duration": 7,
    "start_time": "2022-04-18T07:58:29.143Z"
   },
   {
    "duration": 13,
    "start_time": "2022-04-18T07:58:29.153Z"
   },
   {
    "duration": 518,
    "start_time": "2022-04-18T07:58:29.168Z"
   },
   {
    "duration": 66,
    "start_time": "2022-04-18T07:58:29.690Z"
   },
   {
    "duration": 32,
    "start_time": "2022-04-18T07:58:29.759Z"
   },
   {
    "duration": 27,
    "start_time": "2022-04-18T07:58:29.794Z"
   },
   {
    "duration": 18,
    "start_time": "2022-04-18T07:58:29.825Z"
   },
   {
    "duration": 2557,
    "start_time": "2022-04-18T07:58:29.845Z"
   },
   {
    "duration": 71291,
    "start_time": "2022-04-18T07:58:32.407Z"
   },
   {
    "duration": 3013,
    "start_time": "2022-04-18T07:59:43.701Z"
   },
   {
    "duration": 247,
    "start_time": "2022-04-18T08:00:25.337Z"
   },
   {
    "duration": 373,
    "start_time": "2022-04-18T08:01:40.015Z"
   },
   {
    "duration": 444,
    "start_time": "2022-04-18T08:04:13.056Z"
   },
   {
    "duration": 383,
    "start_time": "2022-04-18T08:04:19.902Z"
   },
   {
    "duration": 1102,
    "start_time": "2022-04-18T08:05:06.580Z"
   },
   {
    "duration": 2446,
    "start_time": "2022-04-18T08:05:16.338Z"
   },
   {
    "duration": 21,
    "start_time": "2022-04-18T08:11:19.495Z"
   },
   {
    "duration": 460,
    "start_time": "2022-04-18T08:11:38.629Z"
   },
   {
    "duration": 1897,
    "start_time": "2022-04-18T08:12:58.901Z"
   },
   {
    "duration": 1893,
    "start_time": "2022-04-18T08:13:10.421Z"
   },
   {
    "duration": 7,
    "start_time": "2022-04-18T08:21:01.863Z"
   },
   {
    "duration": 351,
    "start_time": "2022-04-18T08:21:01.874Z"
   },
   {
    "duration": 94,
    "start_time": "2022-04-18T08:21:02.228Z"
   },
   {
    "duration": 427,
    "start_time": "2022-04-18T08:21:02.324Z"
   },
   {
    "duration": 5,
    "start_time": "2022-04-18T08:21:02.754Z"
   },
   {
    "duration": 513,
    "start_time": "2022-04-18T08:21:02.761Z"
   },
   {
    "duration": 11,
    "start_time": "2022-04-18T08:21:03.276Z"
   },
   {
    "duration": 28,
    "start_time": "2022-04-18T08:21:03.289Z"
   },
   {
    "duration": 7,
    "start_time": "2022-04-18T08:21:03.319Z"
   },
   {
    "duration": 158,
    "start_time": "2022-04-18T08:21:03.329Z"
   },
   {
    "duration": 17,
    "start_time": "2022-04-18T08:21:03.490Z"
   },
   {
    "duration": 6,
    "start_time": "2022-04-18T08:21:03.509Z"
   },
   {
    "duration": 1346,
    "start_time": "2022-04-18T08:21:03.517Z"
   },
   {
    "duration": 1227,
    "start_time": "2022-04-18T08:21:04.867Z"
   },
   {
    "duration": 1348,
    "start_time": "2022-04-18T08:21:06.097Z"
   },
   {
    "duration": 6,
    "start_time": "2022-04-18T08:21:07.447Z"
   },
   {
    "duration": 29,
    "start_time": "2022-04-18T08:21:07.455Z"
   },
   {
    "duration": 474,
    "start_time": "2022-04-18T08:21:07.486Z"
   },
   {
    "duration": 75,
    "start_time": "2022-04-18T08:21:07.962Z"
   },
   {
    "duration": 7,
    "start_time": "2022-04-18T08:21:08.039Z"
   },
   {
    "duration": 47,
    "start_time": "2022-04-18T08:21:08.049Z"
   },
   {
    "duration": 17,
    "start_time": "2022-04-18T08:21:08.100Z"
   },
   {
    "duration": 3005,
    "start_time": "2022-04-18T08:21:12.781Z"
   },
   {
    "duration": 12,
    "start_time": "2022-04-18T08:21:29.305Z"
   },
   {
    "duration": 12,
    "start_time": "2022-04-18T08:21:52.702Z"
   },
   {
    "duration": 14,
    "start_time": "2022-04-18T08:22:04.999Z"
   },
   {
    "duration": 19,
    "start_time": "2022-04-18T08:22:17.485Z"
   },
   {
    "duration": 14,
    "start_time": "2022-04-18T08:32:53.177Z"
   },
   {
    "duration": 534,
    "start_time": "2022-04-18T08:33:11.258Z"
   },
   {
    "duration": 517,
    "start_time": "2022-04-18T08:33:19.966Z"
   },
   {
    "duration": 12,
    "start_time": "2022-04-18T08:36:08.202Z"
   },
   {
    "duration": 25,
    "start_time": "2022-04-18T08:36:22.834Z"
   },
   {
    "duration": 31,
    "start_time": "2022-04-18T08:36:49.453Z"
   },
   {
    "duration": 7,
    "start_time": "2022-04-18T08:39:50.958Z"
   },
   {
    "duration": 518,
    "start_time": "2022-04-18T08:39:50.969Z"
   },
   {
    "duration": 138,
    "start_time": "2022-04-18T08:39:51.491Z"
   },
   {
    "duration": 390,
    "start_time": "2022-04-18T08:39:51.632Z"
   },
   {
    "duration": 5,
    "start_time": "2022-04-18T08:39:52.025Z"
   },
   {
    "duration": 511,
    "start_time": "2022-04-18T08:39:52.033Z"
   },
   {
    "duration": 7,
    "start_time": "2022-04-18T08:39:52.547Z"
   },
   {
    "duration": 45,
    "start_time": "2022-04-18T08:39:52.557Z"
   },
   {
    "duration": 7,
    "start_time": "2022-04-18T08:39:52.605Z"
   },
   {
    "duration": 128,
    "start_time": "2022-04-18T08:39:52.615Z"
   },
   {
    "duration": 18,
    "start_time": "2022-04-18T08:40:17.199Z"
   },
   {
    "duration": 5,
    "start_time": "2022-04-18T08:40:37.387Z"
   },
   {
    "duration": 6,
    "start_time": "2022-04-18T08:40:48.977Z"
   },
   {
    "duration": 16,
    "start_time": "2022-04-18T08:41:01.787Z"
   },
   {
    "duration": 5,
    "start_time": "2022-04-18T08:41:02.788Z"
   },
   {
    "duration": 23,
    "start_time": "2022-04-18T08:44:11.373Z"
   },
   {
    "duration": 24,
    "start_time": "2022-04-18T08:45:00.844Z"
   },
   {
    "duration": 9,
    "start_time": "2022-04-18T08:45:02.246Z"
   },
   {
    "duration": 8,
    "start_time": "2022-04-18T08:45:14.384Z"
   },
   {
    "duration": 312,
    "start_time": "2022-04-18T08:45:14.395Z"
   },
   {
    "duration": 85,
    "start_time": "2022-04-18T08:45:14.710Z"
   },
   {
    "duration": 405,
    "start_time": "2022-04-18T08:45:14.798Z"
   },
   {
    "duration": 5,
    "start_time": "2022-04-18T08:45:15.205Z"
   },
   {
    "duration": 508,
    "start_time": "2022-04-18T08:45:15.213Z"
   },
   {
    "duration": 8,
    "start_time": "2022-04-18T08:45:15.723Z"
   },
   {
    "duration": 49,
    "start_time": "2022-04-18T08:45:15.734Z"
   },
   {
    "duration": 7,
    "start_time": "2022-04-18T08:45:15.786Z"
   },
   {
    "duration": 121,
    "start_time": "2022-04-18T08:45:15.795Z"
   },
   {
    "duration": 7,
    "start_time": "2022-04-18T08:45:15.918Z"
   },
   {
    "duration": 25,
    "start_time": "2022-04-18T08:45:15.927Z"
   },
   {
    "duration": 6,
    "start_time": "2022-04-18T08:45:20.276Z"
   },
   {
    "duration": 6,
    "start_time": "2022-04-18T08:45:51.764Z"
   },
   {
    "duration": 6,
    "start_time": "2022-04-18T08:46:01.043Z"
   },
   {
    "duration": 6,
    "start_time": "2022-04-18T08:46:47.044Z"
   },
   {
    "duration": 7,
    "start_time": "2022-04-18T08:46:53.206Z"
   },
   {
    "duration": 5,
    "start_time": "2022-04-18T08:47:06.566Z"
   },
   {
    "duration": 314,
    "start_time": "2022-04-18T08:47:06.575Z"
   },
   {
    "duration": 94,
    "start_time": "2022-04-18T08:47:06.892Z"
   },
   {
    "duration": 646,
    "start_time": "2022-04-18T08:47:06.990Z"
   },
   {
    "duration": 6,
    "start_time": "2022-04-18T08:47:07.641Z"
   },
   {
    "duration": 997,
    "start_time": "2022-04-18T08:47:07.649Z"
   },
   {
    "duration": 9,
    "start_time": "2022-04-18T08:47:08.649Z"
   },
   {
    "duration": 54,
    "start_time": "2022-04-18T08:47:08.661Z"
   },
   {
    "duration": 9,
    "start_time": "2022-04-18T08:47:08.717Z"
   },
   {
    "duration": 127,
    "start_time": "2022-04-18T08:47:08.728Z"
   },
   {
    "duration": 36,
    "start_time": "2022-04-18T08:47:08.857Z"
   },
   {
    "duration": 6,
    "start_time": "2022-04-18T08:47:08.895Z"
   },
   {
    "duration": 27,
    "start_time": "2022-04-18T08:47:08.903Z"
   },
   {
    "duration": 1919,
    "start_time": "2022-04-18T08:47:08.939Z"
   },
   {
    "duration": 1194,
    "start_time": "2022-04-18T08:47:10.862Z"
   },
   {
    "duration": 1400,
    "start_time": "2022-04-18T08:47:12.059Z"
   },
   {
    "duration": 21,
    "start_time": "2022-04-18T08:47:13.461Z"
   },
   {
    "duration": 9,
    "start_time": "2022-04-18T08:47:13.485Z"
   },
   {
    "duration": 677,
    "start_time": "2022-04-18T08:47:13.497Z"
   },
   {
    "duration": 113,
    "start_time": "2022-04-18T08:47:14.181Z"
   },
   {
    "duration": 11,
    "start_time": "2022-04-18T08:47:14.297Z"
   },
   {
    "duration": 11,
    "start_time": "2022-04-18T08:47:14.311Z"
   },
   {
    "duration": 18,
    "start_time": "2022-04-18T08:47:14.325Z"
   },
   {
    "duration": 2846,
    "start_time": "2022-04-18T08:47:29.336Z"
   },
   {
    "duration": 71889,
    "start_time": "2022-04-18T08:47:34.213Z"
   },
   {
    "duration": 530,
    "start_time": "2022-04-18T08:48:57.167Z"
   },
   {
    "duration": 420,
    "start_time": "2022-04-18T08:49:10.066Z"
   },
   {
    "duration": 565,
    "start_time": "2022-04-18T08:49:18.117Z"
   },
   {
    "duration": 1130,
    "start_time": "2022-04-18T08:50:36.563Z"
   },
   {
    "duration": 1905,
    "start_time": "2022-04-18T08:51:17.504Z"
   },
   {
    "duration": 1878,
    "start_time": "2022-04-18T08:51:34.693Z"
   },
   {
    "duration": 787,
    "start_time": "2022-04-18T08:51:49.402Z"
   },
   {
    "duration": 484,
    "start_time": "2022-04-18T08:52:52.813Z"
   },
   {
    "duration": 593,
    "start_time": "2022-04-18T08:55:03.798Z"
   },
   {
    "duration": 14,
    "start_time": "2022-04-18T08:55:31.864Z"
   },
   {
    "duration": 12,
    "start_time": "2022-04-18T09:05:13.228Z"
   },
   {
    "duration": 267,
    "start_time": "2022-04-18T09:05:19.618Z"
   },
   {
    "duration": 482,
    "start_time": "2022-04-18T09:05:35.912Z"
   },
   {
    "duration": 825,
    "start_time": "2022-04-18T09:05:40.266Z"
   },
   {
    "duration": 2188,
    "start_time": "2022-04-18T09:07:47.585Z"
   },
   {
    "duration": 1888,
    "start_time": "2022-04-18T09:08:12.066Z"
   },
   {
    "duration": 6,
    "start_time": "2022-04-18T09:10:24.940Z"
   },
   {
    "duration": 470,
    "start_time": "2022-04-18T09:10:24.949Z"
   },
   {
    "duration": 86,
    "start_time": "2022-04-18T09:10:25.422Z"
   },
   {
    "duration": 388,
    "start_time": "2022-04-18T09:10:25.511Z"
   },
   {
    "duration": 4,
    "start_time": "2022-04-18T09:10:25.901Z"
   },
   {
    "duration": 537,
    "start_time": "2022-04-18T09:10:25.908Z"
   },
   {
    "duration": 8,
    "start_time": "2022-04-18T09:10:26.447Z"
   },
   {
    "duration": 43,
    "start_time": "2022-04-18T09:10:26.457Z"
   },
   {
    "duration": 6,
    "start_time": "2022-04-18T09:10:26.504Z"
   },
   {
    "duration": 116,
    "start_time": "2022-04-18T09:10:26.513Z"
   },
   {
    "duration": 21,
    "start_time": "2022-04-18T09:10:26.631Z"
   },
   {
    "duration": 30,
    "start_time": "2022-04-18T09:10:26.654Z"
   },
   {
    "duration": 6,
    "start_time": "2022-04-18T09:10:26.686Z"
   },
   {
    "duration": 1332,
    "start_time": "2022-04-18T09:10:26.695Z"
   },
   {
    "duration": 1188,
    "start_time": "2022-04-18T09:10:28.030Z"
   },
   {
    "duration": 1661,
    "start_time": "2022-04-18T09:10:29.220Z"
   },
   {
    "duration": 9,
    "start_time": "2022-04-18T09:10:30.884Z"
   },
   {
    "duration": 12,
    "start_time": "2022-04-18T09:10:30.896Z"
   },
   {
    "duration": 772,
    "start_time": "2022-04-18T09:10:30.911Z"
   },
   {
    "duration": 97,
    "start_time": "2022-04-18T09:10:31.686Z"
   },
   {
    "duration": 10,
    "start_time": "2022-04-18T09:10:31.786Z"
   },
   {
    "duration": 24,
    "start_time": "2022-04-18T09:10:31.799Z"
   },
   {
    "duration": 35,
    "start_time": "2022-04-18T09:10:31.826Z"
   },
   {
    "duration": 2416,
    "start_time": "2022-04-18T09:10:31.866Z"
   },
   {
    "duration": 72412,
    "start_time": "2022-04-18T09:10:34.285Z"
   },
   {
    "duration": 382,
    "start_time": "2022-04-18T09:11:46.700Z"
   },
   {
    "duration": 2177,
    "start_time": "2022-04-18T09:11:47.087Z"
   },
   {
    "duration": 350,
    "start_time": "2022-04-18T09:13:06.946Z"
   },
   {
    "duration": 375,
    "start_time": "2022-04-18T09:13:15.907Z"
   },
   {
    "duration": 663,
    "start_time": "2022-04-18T09:13:31.226Z"
   },
   {
    "duration": 1300,
    "start_time": "2022-04-18T09:20:21.684Z"
   },
   {
    "duration": 5,
    "start_time": "2022-04-18T09:42:31.708Z"
   },
   {
    "duration": 329,
    "start_time": "2022-04-18T09:42:31.716Z"
   },
   {
    "duration": 84,
    "start_time": "2022-04-18T09:42:32.047Z"
   },
   {
    "duration": 387,
    "start_time": "2022-04-18T09:42:32.133Z"
   },
   {
    "duration": 5,
    "start_time": "2022-04-18T09:42:32.523Z"
   },
   {
    "duration": 516,
    "start_time": "2022-04-18T09:42:32.529Z"
   },
   {
    "duration": 7,
    "start_time": "2022-04-18T09:42:33.047Z"
   },
   {
    "duration": 43,
    "start_time": "2022-04-18T09:42:33.057Z"
   },
   {
    "duration": 8,
    "start_time": "2022-04-18T09:42:33.102Z"
   },
   {
    "duration": 123,
    "start_time": "2022-04-18T09:42:33.112Z"
   },
   {
    "duration": 21,
    "start_time": "2022-04-18T09:42:33.237Z"
   },
   {
    "duration": 22,
    "start_time": "2022-04-18T09:42:33.260Z"
   },
   {
    "duration": 6,
    "start_time": "2022-04-18T09:42:33.284Z"
   },
   {
    "duration": 1353,
    "start_time": "2022-04-18T09:42:33.294Z"
   },
   {
    "duration": 1183,
    "start_time": "2022-04-18T09:42:34.650Z"
   },
   {
    "duration": 1562,
    "start_time": "2022-04-18T09:42:35.835Z"
   },
   {
    "duration": 6,
    "start_time": "2022-04-18T09:42:37.400Z"
   },
   {
    "duration": 8,
    "start_time": "2022-04-18T09:42:37.409Z"
   },
   {
    "duration": 515,
    "start_time": "2022-04-18T09:42:37.419Z"
   },
   {
    "duration": 87,
    "start_time": "2022-04-18T09:42:37.936Z"
   },
   {
    "duration": 9,
    "start_time": "2022-04-18T09:42:38.026Z"
   },
   {
    "duration": 26,
    "start_time": "2022-04-18T09:42:38.037Z"
   },
   {
    "duration": 40,
    "start_time": "2022-04-18T09:42:38.065Z"
   },
   {
    "duration": 3084,
    "start_time": "2022-04-18T09:42:38.107Z"
   },
   {
    "duration": 94045,
    "start_time": "2022-04-18T09:42:41.194Z"
   },
   {
    "duration": 844,
    "start_time": "2022-04-18T09:44:15.243Z"
   },
   {
    "duration": 2703,
    "start_time": "2022-04-18T09:44:16.090Z"
   },
   {
    "duration": 1786,
    "start_time": "2022-04-19T07:55:38.087Z"
   },
   {
    "duration": 274,
    "start_time": "2022-04-19T07:55:39.875Z"
   },
   {
    "duration": 77,
    "start_time": "2022-04-19T07:55:40.151Z"
   },
   {
    "duration": 329,
    "start_time": "2022-04-19T07:55:40.231Z"
   },
   {
    "duration": 4,
    "start_time": "2022-04-19T07:55:40.561Z"
   },
   {
    "duration": 273,
    "start_time": "2022-04-19T07:55:40.567Z"
   },
   {
    "duration": 5,
    "start_time": "2022-04-19T07:55:40.842Z"
   },
   {
    "duration": 17,
    "start_time": "2022-04-19T07:55:40.849Z"
   },
   {
    "duration": 5,
    "start_time": "2022-04-19T07:55:40.868Z"
   },
   {
    "duration": 104,
    "start_time": "2022-04-19T07:55:40.876Z"
   },
   {
    "duration": 10,
    "start_time": "2022-04-19T07:55:44.880Z"
   },
   {
    "duration": 4,
    "start_time": "2022-04-19T07:55:44.958Z"
   },
   {
    "duration": 3,
    "start_time": "2022-04-19T08:01:18.613Z"
   },
   {
    "duration": 276,
    "start_time": "2022-04-19T08:01:18.618Z"
   },
   {
    "duration": 77,
    "start_time": "2022-04-19T08:01:18.896Z"
   },
   {
    "duration": 337,
    "start_time": "2022-04-19T08:01:18.975Z"
   },
   {
    "duration": 8,
    "start_time": "2022-04-19T08:01:19.315Z"
   },
   {
    "duration": 281,
    "start_time": "2022-04-19T08:01:19.325Z"
   },
   {
    "duration": 5,
    "start_time": "2022-04-19T08:01:19.607Z"
   },
   {
    "duration": 15,
    "start_time": "2022-04-19T08:01:19.623Z"
   },
   {
    "duration": 4,
    "start_time": "2022-04-19T08:01:19.640Z"
   },
   {
    "duration": 97,
    "start_time": "2022-04-19T08:01:19.646Z"
   },
   {
    "duration": 11,
    "start_time": "2022-04-19T08:01:19.745Z"
   },
   {
    "duration": 4,
    "start_time": "2022-04-19T08:01:19.757Z"
   },
   {
    "duration": 3,
    "start_time": "2022-04-19T08:01:19.763Z"
   },
   {
    "duration": 760,
    "start_time": "2022-04-19T08:01:19.769Z"
   },
   {
    "duration": 655,
    "start_time": "2022-04-19T08:01:20.531Z"
   },
   {
    "duration": 763,
    "start_time": "2022-04-19T08:01:21.187Z"
   },
   {
    "duration": 5,
    "start_time": "2022-04-19T08:01:21.952Z"
   },
   {
    "duration": 8,
    "start_time": "2022-04-19T08:01:21.959Z"
   },
   {
    "duration": 271,
    "start_time": "2022-04-19T08:01:21.969Z"
   },
   {
    "duration": 40,
    "start_time": "2022-04-19T08:01:22.242Z"
   },
   {
    "duration": 5,
    "start_time": "2022-04-19T08:01:22.283Z"
   },
   {
    "duration": 9,
    "start_time": "2022-04-19T08:01:22.290Z"
   },
   {
    "duration": 10,
    "start_time": "2022-04-19T08:01:22.323Z"
   },
   {
    "duration": 1393,
    "start_time": "2022-04-19T08:01:22.335Z"
   },
   {
    "duration": 51786,
    "start_time": "2022-04-19T08:01:23.730Z"
   },
   {
    "duration": 608,
    "start_time": "2022-04-19T08:02:15.522Z"
   },
   {
    "duration": 0,
    "start_time": "2022-04-19T08:02:16.132Z"
   },
   {
    "duration": 173,
    "start_time": "2022-04-19T08:03:23.309Z"
   },
   {
    "duration": 85,
    "start_time": "2022-04-19T08:03:58.548Z"
   },
   {
    "duration": 147,
    "start_time": "2022-04-19T08:04:09.677Z"
   },
   {
    "duration": 82,
    "start_time": "2022-04-19T08:04:28.380Z"
   },
   {
    "duration": 9,
    "start_time": "2022-04-19T08:10:12.900Z"
   },
   {
    "duration": 3,
    "start_time": "2022-04-19T08:10:13.874Z"
   },
   {
    "duration": 4,
    "start_time": "2022-04-19T08:10:19.043Z"
   },
   {
    "duration": 269,
    "start_time": "2022-04-19T08:10:19.057Z"
   },
   {
    "duration": 72,
    "start_time": "2022-04-19T08:10:19.328Z"
   },
   {
    "duration": 325,
    "start_time": "2022-04-19T08:10:19.401Z"
   },
   {
    "duration": 3,
    "start_time": "2022-04-19T08:10:19.728Z"
   },
   {
    "duration": 358,
    "start_time": "2022-04-19T08:10:19.732Z"
   },
   {
    "duration": 6,
    "start_time": "2022-04-19T08:10:20.092Z"
   },
   {
    "duration": 34,
    "start_time": "2022-04-19T08:10:20.100Z"
   },
   {
    "duration": 5,
    "start_time": "2022-04-19T08:10:20.136Z"
   },
   {
    "duration": 89,
    "start_time": "2022-04-19T08:10:20.143Z"
   },
   {
    "duration": 11,
    "start_time": "2022-04-19T08:10:20.234Z"
   },
   {
    "duration": 4,
    "start_time": "2022-04-19T08:10:20.247Z"
   },
   {
    "duration": 3,
    "start_time": "2022-04-19T08:10:36.543Z"
   },
   {
    "duration": 626,
    "start_time": "2022-04-19T08:10:37.681Z"
   },
   {
    "duration": 712,
    "start_time": "2022-04-19T08:10:41.313Z"
   },
   {
    "duration": 634,
    "start_time": "2022-04-19T08:10:48.305Z"
   },
   {
    "duration": 5,
    "start_time": "2022-04-19T08:11:03.312Z"
   },
   {
    "duration": 4,
    "start_time": "2022-04-19T08:11:04.308Z"
   },
   {
    "duration": 251,
    "start_time": "2022-04-19T08:11:05.693Z"
   },
   {
    "duration": 39,
    "start_time": "2022-04-19T08:11:09.902Z"
   },
   {
    "duration": 4,
    "start_time": "2022-04-19T08:11:24.555Z"
   },
   {
    "duration": 6,
    "start_time": "2022-04-19T08:11:31.376Z"
   },
   {
    "duration": 2,
    "start_time": "2022-04-19T08:11:36.106Z"
   },
   {
    "duration": 9,
    "start_time": "2022-04-19T08:11:37.337Z"
   },
   {
    "duration": 1666,
    "start_time": "2022-04-19T08:11:41.857Z"
   },
   {
    "duration": 188,
    "start_time": "2022-04-19T08:12:00.720Z"
   },
   {
    "duration": 5,
    "start_time": "2022-04-19T08:14:43.896Z"
   },
   {
    "duration": 5,
    "start_time": "2022-04-19T08:15:16.776Z"
   },
   {
    "duration": 9,
    "start_time": "2022-04-19T08:15:16.786Z"
   },
   {
    "duration": 79,
    "start_time": "2022-04-19T08:15:41.032Z"
   },
   {
    "duration": 0,
    "start_time": "2022-04-19T08:15:41.113Z"
   },
   {
    "duration": 6,
    "start_time": "2022-04-19T08:16:17.416Z"
   },
   {
    "duration": 13,
    "start_time": "2022-04-19T08:16:37.256Z"
   },
   {
    "duration": 14,
    "start_time": "2022-04-19T08:16:53.240Z"
   },
   {
    "duration": 32,
    "start_time": "2022-04-19T08:17:04.296Z"
   },
   {
    "duration": 26,
    "start_time": "2022-04-19T08:17:39.776Z"
   },
   {
    "duration": 8,
    "start_time": "2022-04-19T08:18:21.052Z"
   },
   {
    "duration": 31,
    "start_time": "2022-04-19T08:18:28.332Z"
   },
   {
    "duration": 5,
    "start_time": "2022-04-19T08:18:36.038Z"
   },
   {
    "duration": 9,
    "start_time": "2022-04-19T08:18:44.973Z"
   },
   {
    "duration": 2768,
    "start_time": "2022-04-19T08:18:48.869Z"
   },
   {
    "duration": 38313,
    "start_time": "2022-04-19T08:18:57.390Z"
   },
   {
    "duration": 120,
    "start_time": "2022-04-19T08:20:02.510Z"
   },
   {
    "duration": 1104,
    "start_time": "2022-04-19T08:20:10.453Z"
   },
   {
    "duration": 36632,
    "start_time": "2022-04-19T08:22:39.692Z"
   },
   {
    "duration": 37465,
    "start_time": "2022-04-19T08:23:29.710Z"
   },
   {
    "duration": 95,
    "start_time": "2022-04-19T08:24:28.869Z"
   },
   {
    "duration": 4,
    "start_time": "2022-04-19T08:26:22.869Z"
   },
   {
    "duration": 272,
    "start_time": "2022-04-19T08:26:22.875Z"
   },
   {
    "duration": 73,
    "start_time": "2022-04-19T08:26:23.149Z"
   },
   {
    "duration": 312,
    "start_time": "2022-04-19T08:26:23.225Z"
   },
   {
    "duration": 3,
    "start_time": "2022-04-19T08:26:23.539Z"
   },
   {
    "duration": 284,
    "start_time": "2022-04-19T08:26:23.543Z"
   },
   {
    "duration": 5,
    "start_time": "2022-04-19T08:26:23.828Z"
   },
   {
    "duration": 16,
    "start_time": "2022-04-19T08:26:23.835Z"
   },
   {
    "duration": 4,
    "start_time": "2022-04-19T08:26:23.853Z"
   },
   {
    "duration": 113,
    "start_time": "2022-04-19T08:26:23.860Z"
   },
   {
    "duration": 11,
    "start_time": "2022-04-19T08:26:23.975Z"
   },
   {
    "duration": 4,
    "start_time": "2022-04-19T08:26:23.988Z"
   },
   {
    "duration": 5,
    "start_time": "2022-04-19T08:26:23.994Z"
   },
   {
    "duration": 785,
    "start_time": "2022-04-19T08:26:24.001Z"
   },
   {
    "duration": 634,
    "start_time": "2022-04-19T08:26:24.788Z"
   },
   {
    "duration": 883,
    "start_time": "2022-04-19T08:26:25.424Z"
   },
   {
    "duration": 14,
    "start_time": "2022-04-19T08:26:26.309Z"
   },
   {
    "duration": 5,
    "start_time": "2022-04-19T08:26:26.324Z"
   },
   {
    "duration": 297,
    "start_time": "2022-04-19T08:26:26.331Z"
   },
   {
    "duration": 38,
    "start_time": "2022-04-19T08:26:26.630Z"
   },
   {
    "duration": 4,
    "start_time": "2022-04-19T08:26:26.670Z"
   },
   {
    "duration": 12,
    "start_time": "2022-04-19T08:26:26.676Z"
   },
   {
    "duration": 33,
    "start_time": "2022-04-19T08:26:26.690Z"
   },
   {
    "duration": 9,
    "start_time": "2022-04-19T08:26:26.725Z"
   },
   {
    "duration": 1496,
    "start_time": "2022-04-19T08:26:26.736Z"
   },
   {
    "duration": 39988,
    "start_time": "2022-04-19T08:26:28.235Z"
   },
   {
    "duration": 102,
    "start_time": "2022-04-19T08:27:08.225Z"
   }
  ],
  "kernelspec": {
   "display_name": "Python 3 (ipykernel)",
   "language": "python",
   "name": "python3"
  },
  "language_info": {
   "codemirror_mode": {
    "name": "ipython",
    "version": 3
   },
   "file_extension": ".py",
   "mimetype": "text/x-python",
   "name": "python",
   "nbconvert_exporter": "python",
   "pygments_lexer": "ipython3",
   "version": "3.9.7"
  },
  "toc": {
   "base_numbering": 1,
   "nav_menu": {
    "height": "176px",
    "width": "291px"
   },
   "number_sections": true,
   "sideBar": true,
   "skip_h1_title": true,
   "title_cell": "Содержание",
   "title_sidebar": "Contents",
   "toc_cell": true,
   "toc_position": {
    "height": "calc(100% - 180px)",
    "left": "10px",
    "top": "150px",
    "width": "290.075px"
   },
   "toc_section_display": true,
   "toc_window_display": true
  }
 },
 "nbformat": 4,
 "nbformat_minor": 2
}
