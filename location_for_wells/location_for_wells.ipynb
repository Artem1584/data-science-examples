{
 "cells": [
  {
   "cell_type": "markdown",
   "metadata": {},
   "source": [
    "# Выбор локации для скважины"
   ]
  },
  {
   "cell_type": "markdown",
   "metadata": {},
   "source": [
    "Допустим, вы работаете в добывающей компании «ГлавРосГосНефть». Нужно решить, где бурить новую скважину.\n",
    "\n",
    "Вам предоставлены пробы нефти в трёх регионах: в каждом 10 000 месторождений, где измерили качество нефти и объём её запасов. Постройте модель машинного обучения, которая поможет определить регион, где добыча принесёт наибольшую прибыль. Проанализируйте возможную прибыль и риски техникой *Bootstrap.*\n",
    "\n",
    "Шаги для выбора локации:\n",
    "\n",
    "- В избранном регионе ищут месторождения, для каждого определяют значения признаков;\n",
    "- Строят модель и оценивают объём запасов;\n",
    "- Выбирают месторождения с самым высокими оценками значений. Количество месторождений зависит от бюджета компании и стоимости разработки одной скважины;\n",
    "- Прибыль равна суммарной прибыли отобранных месторождений."
   ]
  },
  {
   "cell_type": "markdown",
   "metadata": {},
   "source": [
    "## Загрузка и подготовка данных"
   ]
  },
  {
   "cell_type": "code",
   "execution_count": 240,
   "metadata": {},
   "outputs": [],
   "source": [
    "import pandas as pd\n",
    "from sklearn.model_selection import train_test_split\n",
    "from sklearn.linear_model import LinearRegression\n",
    "from sklearn.metrics import mean_squared_error\n",
    "import math\n",
    "import numpy as np\n"
   ]
  },
  {
   "cell_type": "code",
   "execution_count": 241,
   "metadata": {},
   "outputs": [
    {
     "name": "stdout",
     "output_type": "stream",
     "text": [
      "<class 'pandas.core.frame.DataFrame'>\n",
      "RangeIndex: 100000 entries, 0 to 99999\n",
      "Data columns (total 5 columns):\n",
      " #   Column   Non-Null Count   Dtype  \n",
      "---  ------   --------------   -----  \n",
      " 0   id       100000 non-null  object \n",
      " 1   f0       100000 non-null  float64\n",
      " 2   f1       100000 non-null  float64\n",
      " 3   f2       100000 non-null  float64\n",
      " 4   product  100000 non-null  float64\n",
      "dtypes: float64(4), object(1)\n",
      "memory usage: 3.8+ MB\n"
     ]
    },
    {
     "data": {
      "text/plain": [
       "None"
      ]
     },
     "metadata": {},
     "output_type": "display_data"
    },
    {
     "data": {
      "text/html": [
       "<div>\n",
       "<style scoped>\n",
       "    .dataframe tbody tr th:only-of-type {\n",
       "        vertical-align: middle;\n",
       "    }\n",
       "\n",
       "    .dataframe tbody tr th {\n",
       "        vertical-align: top;\n",
       "    }\n",
       "\n",
       "    .dataframe thead th {\n",
       "        text-align: right;\n",
       "    }\n",
       "</style>\n",
       "<table border=\"1\" class=\"dataframe\">\n",
       "  <thead>\n",
       "    <tr style=\"text-align: right;\">\n",
       "      <th></th>\n",
       "      <th>id</th>\n",
       "      <th>f0</th>\n",
       "      <th>f1</th>\n",
       "      <th>f2</th>\n",
       "      <th>product</th>\n",
       "    </tr>\n",
       "  </thead>\n",
       "  <tbody>\n",
       "    <tr>\n",
       "      <th>0</th>\n",
       "      <td>txEyH</td>\n",
       "      <td>0.705745</td>\n",
       "      <td>-0.497823</td>\n",
       "      <td>1.221170</td>\n",
       "      <td>105.280062</td>\n",
       "    </tr>\n",
       "    <tr>\n",
       "      <th>1</th>\n",
       "      <td>2acmU</td>\n",
       "      <td>1.334711</td>\n",
       "      <td>-0.340164</td>\n",
       "      <td>4.365080</td>\n",
       "      <td>73.037750</td>\n",
       "    </tr>\n",
       "    <tr>\n",
       "      <th>2</th>\n",
       "      <td>409Wp</td>\n",
       "      <td>1.022732</td>\n",
       "      <td>0.151990</td>\n",
       "      <td>1.419926</td>\n",
       "      <td>85.265647</td>\n",
       "    </tr>\n",
       "    <tr>\n",
       "      <th>3</th>\n",
       "      <td>iJLyR</td>\n",
       "      <td>-0.032172</td>\n",
       "      <td>0.139033</td>\n",
       "      <td>2.978566</td>\n",
       "      <td>168.620776</td>\n",
       "    </tr>\n",
       "    <tr>\n",
       "      <th>4</th>\n",
       "      <td>Xdl7t</td>\n",
       "      <td>1.988431</td>\n",
       "      <td>0.155413</td>\n",
       "      <td>4.751769</td>\n",
       "      <td>154.036647</td>\n",
       "    </tr>\n",
       "  </tbody>\n",
       "</table>\n",
       "</div>"
      ],
      "text/plain": [
       "      id        f0        f1        f2     product\n",
       "0  txEyH  0.705745 -0.497823  1.221170  105.280062\n",
       "1  2acmU  1.334711 -0.340164  4.365080   73.037750\n",
       "2  409Wp  1.022732  0.151990  1.419926   85.265647\n",
       "3  iJLyR -0.032172  0.139033  2.978566  168.620776\n",
       "4  Xdl7t  1.988431  0.155413  4.751769  154.036647"
      ]
     },
     "execution_count": 241,
     "metadata": {},
     "output_type": "execute_result"
    }
   ],
   "source": [
    "df_1 = pd.read_csv('/datasets/geo_data_0.csv')\n",
    "display(df_1.info())\n",
    "df_1.head(5)"
   ]
  },
  {
   "cell_type": "code",
   "execution_count": 242,
   "metadata": {},
   "outputs": [
    {
     "name": "stdout",
     "output_type": "stream",
     "text": [
      "<class 'pandas.core.frame.DataFrame'>\n",
      "RangeIndex: 100000 entries, 0 to 99999\n",
      "Data columns (total 5 columns):\n",
      " #   Column   Non-Null Count   Dtype  \n",
      "---  ------   --------------   -----  \n",
      " 0   id       100000 non-null  object \n",
      " 1   f0       100000 non-null  float64\n",
      " 2   f1       100000 non-null  float64\n",
      " 3   f2       100000 non-null  float64\n",
      " 4   product  100000 non-null  float64\n",
      "dtypes: float64(4), object(1)\n",
      "memory usage: 3.8+ MB\n"
     ]
    },
    {
     "data": {
      "text/plain": [
       "None"
      ]
     },
     "metadata": {},
     "output_type": "display_data"
    },
    {
     "data": {
      "text/html": [
       "<div>\n",
       "<style scoped>\n",
       "    .dataframe tbody tr th:only-of-type {\n",
       "        vertical-align: middle;\n",
       "    }\n",
       "\n",
       "    .dataframe tbody tr th {\n",
       "        vertical-align: top;\n",
       "    }\n",
       "\n",
       "    .dataframe thead th {\n",
       "        text-align: right;\n",
       "    }\n",
       "</style>\n",
       "<table border=\"1\" class=\"dataframe\">\n",
       "  <thead>\n",
       "    <tr style=\"text-align: right;\">\n",
       "      <th></th>\n",
       "      <th>id</th>\n",
       "      <th>f0</th>\n",
       "      <th>f1</th>\n",
       "      <th>f2</th>\n",
       "      <th>product</th>\n",
       "    </tr>\n",
       "  </thead>\n",
       "  <tbody>\n",
       "    <tr>\n",
       "      <th>0</th>\n",
       "      <td>kBEdx</td>\n",
       "      <td>-15.001348</td>\n",
       "      <td>-8.276000</td>\n",
       "      <td>-0.005876</td>\n",
       "      <td>3.179103</td>\n",
       "    </tr>\n",
       "    <tr>\n",
       "      <th>1</th>\n",
       "      <td>62mP7</td>\n",
       "      <td>14.272088</td>\n",
       "      <td>-3.475083</td>\n",
       "      <td>0.999183</td>\n",
       "      <td>26.953261</td>\n",
       "    </tr>\n",
       "    <tr>\n",
       "      <th>2</th>\n",
       "      <td>vyE1P</td>\n",
       "      <td>6.263187</td>\n",
       "      <td>-5.948386</td>\n",
       "      <td>5.001160</td>\n",
       "      <td>134.766305</td>\n",
       "    </tr>\n",
       "    <tr>\n",
       "      <th>3</th>\n",
       "      <td>KcrkZ</td>\n",
       "      <td>-13.081196</td>\n",
       "      <td>-11.506057</td>\n",
       "      <td>4.999415</td>\n",
       "      <td>137.945408</td>\n",
       "    </tr>\n",
       "    <tr>\n",
       "      <th>4</th>\n",
       "      <td>AHL4O</td>\n",
       "      <td>12.702195</td>\n",
       "      <td>-8.147433</td>\n",
       "      <td>5.004363</td>\n",
       "      <td>134.766305</td>\n",
       "    </tr>\n",
       "  </tbody>\n",
       "</table>\n",
       "</div>"
      ],
      "text/plain": [
       "      id         f0         f1        f2     product\n",
       "0  kBEdx -15.001348  -8.276000 -0.005876    3.179103\n",
       "1  62mP7  14.272088  -3.475083  0.999183   26.953261\n",
       "2  vyE1P   6.263187  -5.948386  5.001160  134.766305\n",
       "3  KcrkZ -13.081196 -11.506057  4.999415  137.945408\n",
       "4  AHL4O  12.702195  -8.147433  5.004363  134.766305"
      ]
     },
     "execution_count": 242,
     "metadata": {},
     "output_type": "execute_result"
    }
   ],
   "source": [
    "df_2 = pd.read_csv('/datasets/geo_data_1.csv')\n",
    "display(df_2.info())\n",
    "df_2.head(5)"
   ]
  },
  {
   "cell_type": "code",
   "execution_count": 243,
   "metadata": {},
   "outputs": [
    {
     "name": "stdout",
     "output_type": "stream",
     "text": [
      "<class 'pandas.core.frame.DataFrame'>\n",
      "RangeIndex: 100000 entries, 0 to 99999\n",
      "Data columns (total 5 columns):\n",
      " #   Column   Non-Null Count   Dtype  \n",
      "---  ------   --------------   -----  \n",
      " 0   id       100000 non-null  object \n",
      " 1   f0       100000 non-null  float64\n",
      " 2   f1       100000 non-null  float64\n",
      " 3   f2       100000 non-null  float64\n",
      " 4   product  100000 non-null  float64\n",
      "dtypes: float64(4), object(1)\n",
      "memory usage: 3.8+ MB\n"
     ]
    },
    {
     "data": {
      "text/plain": [
       "None"
      ]
     },
     "metadata": {},
     "output_type": "display_data"
    },
    {
     "data": {
      "text/html": [
       "<div>\n",
       "<style scoped>\n",
       "    .dataframe tbody tr th:only-of-type {\n",
       "        vertical-align: middle;\n",
       "    }\n",
       "\n",
       "    .dataframe tbody tr th {\n",
       "        vertical-align: top;\n",
       "    }\n",
       "\n",
       "    .dataframe thead th {\n",
       "        text-align: right;\n",
       "    }\n",
       "</style>\n",
       "<table border=\"1\" class=\"dataframe\">\n",
       "  <thead>\n",
       "    <tr style=\"text-align: right;\">\n",
       "      <th></th>\n",
       "      <th>id</th>\n",
       "      <th>f0</th>\n",
       "      <th>f1</th>\n",
       "      <th>f2</th>\n",
       "      <th>product</th>\n",
       "    </tr>\n",
       "  </thead>\n",
       "  <tbody>\n",
       "    <tr>\n",
       "      <th>0</th>\n",
       "      <td>fwXo0</td>\n",
       "      <td>-1.146987</td>\n",
       "      <td>0.963328</td>\n",
       "      <td>-0.828965</td>\n",
       "      <td>27.758673</td>\n",
       "    </tr>\n",
       "    <tr>\n",
       "      <th>1</th>\n",
       "      <td>WJtFt</td>\n",
       "      <td>0.262778</td>\n",
       "      <td>0.269839</td>\n",
       "      <td>-2.530187</td>\n",
       "      <td>56.069697</td>\n",
       "    </tr>\n",
       "    <tr>\n",
       "      <th>2</th>\n",
       "      <td>ovLUW</td>\n",
       "      <td>0.194587</td>\n",
       "      <td>0.289035</td>\n",
       "      <td>-5.586433</td>\n",
       "      <td>62.871910</td>\n",
       "    </tr>\n",
       "    <tr>\n",
       "      <th>3</th>\n",
       "      <td>q6cA6</td>\n",
       "      <td>2.236060</td>\n",
       "      <td>-0.553760</td>\n",
       "      <td>0.930038</td>\n",
       "      <td>114.572842</td>\n",
       "    </tr>\n",
       "    <tr>\n",
       "      <th>4</th>\n",
       "      <td>WPMUX</td>\n",
       "      <td>-0.515993</td>\n",
       "      <td>1.716266</td>\n",
       "      <td>5.899011</td>\n",
       "      <td>149.600746</td>\n",
       "    </tr>\n",
       "  </tbody>\n",
       "</table>\n",
       "</div>"
      ],
      "text/plain": [
       "      id        f0        f1        f2     product\n",
       "0  fwXo0 -1.146987  0.963328 -0.828965   27.758673\n",
       "1  WJtFt  0.262778  0.269839 -2.530187   56.069697\n",
       "2  ovLUW  0.194587  0.289035 -5.586433   62.871910\n",
       "3  q6cA6  2.236060 -0.553760  0.930038  114.572842\n",
       "4  WPMUX -0.515993  1.716266  5.899011  149.600746"
      ]
     },
     "execution_count": 243,
     "metadata": {},
     "output_type": "execute_result"
    }
   ],
   "source": [
    "df_3 = pd.read_csv('/datasets/geo_data_2.csv')\n",
    "display(df_2.info())\n",
    "df_3.head(5)"
   ]
  },
  {
   "cell_type": "markdown",
   "metadata": {},
   "source": [
    "##### Вывод\n",
    "\n",
    "В данных пропусков нет и записаны в верном типе данных"
   ]
  },
  {
   "cell_type": "markdown",
   "metadata": {},
   "source": [
    "## Обучение и проверка модели"
   ]
  },
  {
   "cell_type": "code",
   "execution_count": 244,
   "metadata": {},
   "outputs": [],
   "source": [
    "df = [df_1, df_2, df_3]"
   ]
  },
  {
   "cell_type": "code",
   "execution_count": 245,
   "metadata": {},
   "outputs": [
    {
     "name": "stdout",
     "output_type": "stream",
     "text": [
      "Средний запас предсказанного сырья в 1 регионе = 92.59256778438035\n",
      "RMSE = 37.5794217150813\n",
      "Средний запас предсказанного сырья в 2 регионе = 68.728546895446\n",
      "RMSE = 0.893099286775617\n",
      "Средний запас предсказанного сырья в 3 регионе = 94.96504596800489\n",
      "RMSE = 40.02970873393434\n"
     ]
    }
   ],
   "source": [
    "predicted_valid_list = []\n",
    "predicted_valid_mean = []\n",
    "target_valid_list = []\n",
    "def rmse(df):\n",
    "    count = 1\n",
    "    for i in df:\n",
    "        target = i['product']\n",
    "        features = i.drop(['product', 'id'], axis=1)\n",
    "        features_train, features_valid, target_train, target_valid = train_test_split(features, target, test_size=0.25, random_state=12345)\n",
    "        model = LinearRegression()\n",
    "        model.fit(features_train, target_train)\n",
    "        predicted_valid = model.predict(features_valid)\n",
    "        predicted_valid_list.append(predicted_valid)\n",
    "        predicted_valid_mean.append(predicted_valid.mean())\n",
    "        target_valid_list.append(target_valid)\n",
    "        mse = mean_squared_error(target_valid, predicted_valid)\n",
    "        print(f'Средний запас предсказанного сырья в {count} регионе = {predicted_valid.mean()}')\n",
    "        print(\"RMSE =\", mse ** 0.5)\n",
    "        count += 1\n",
    "\n",
    "        \n",
    "rmse(df)"
   ]
  },
  {
   "cell_type": "code",
   "execution_count": 246,
   "metadata": {},
   "outputs": [
    {
     "data": {
      "text/plain": [
       "[array([ 95.89495185,  77.57258261,  77.89263965, ...,  61.50983303,\n",
       "        118.18039721, 118.16939229]),\n",
       " array([ 82.66331365,  54.43178616,  29.74875995, ..., 137.87934053,\n",
       "         83.76196568,  53.95846638]),\n",
       " array([ 93.59963303,  75.10515854,  90.06680936, ...,  99.40728116,\n",
       "         77.77991248, 129.03241718])]"
      ]
     },
     "execution_count": 246,
     "metadata": {},
     "output_type": "execute_result"
    }
   ],
   "source": [
    "predicted_valid_list"
   ]
  },
  {
   "cell_type": "code",
   "execution_count": 247,
   "metadata": {},
   "outputs": [
    {
     "data": {
      "text/plain": [
       "[92.59256778438035, 68.728546895446, 94.96504596800489]"
      ]
     },
     "execution_count": 247,
     "metadata": {},
     "output_type": "execute_result"
    }
   ],
   "source": [
    "predicted_valid_mean"
   ]
  },
  {
   "cell_type": "code",
   "execution_count": 248,
   "metadata": {},
   "outputs": [
    {
     "data": {
      "text/plain": [
       "[71751     10.038645\n",
       " 80493    114.551489\n",
       " 2655     132.603635\n",
       " 53233    169.072125\n",
       " 91141    122.325180\n",
       "             ...    \n",
       " 12581    170.116726\n",
       " 18456     93.632175\n",
       " 73035    127.352259\n",
       " 63834     99.782700\n",
       " 43558    177.821022\n",
       " Name: product, Length: 25000, dtype: float64,\n",
       " 71751     80.859783\n",
       " 80493     53.906522\n",
       " 2655      30.132364\n",
       " 53233     53.906522\n",
       " 91141      0.000000\n",
       "             ...    \n",
       " 12581    137.945408\n",
       " 18456    110.992147\n",
       " 73035    137.945408\n",
       " 63834     84.038886\n",
       " 43558     53.906522\n",
       " Name: product, Length: 25000, dtype: float64,\n",
       " 71751     61.212375\n",
       " 80493     41.850118\n",
       " 2655      57.776581\n",
       " 53233    100.053761\n",
       " 91141    109.897122\n",
       "             ...    \n",
       " 12581     28.492402\n",
       " 18456     21.431303\n",
       " 73035    125.487229\n",
       " 63834     99.422903\n",
       " 43558    127.445075\n",
       " Name: product, Length: 25000, dtype: float64]"
      ]
     },
     "execution_count": 248,
     "metadata": {},
     "output_type": "execute_result"
    }
   ],
   "source": [
    "target_valid_list"
   ]
  },
  {
   "cell_type": "markdown",
   "metadata": {},
   "source": [
    "##### Вывод\n",
    "\n",
    "Средние запасы в первом и третьем регионе самые большие.\n",
    "Средняя ошибка во втором регионе минимальная."
   ]
  },
  {
   "cell_type": "markdown",
   "metadata": {},
   "source": [
    "## Подготовка к расчёту прибыли"
   ]
  },
  {
   "cell_type": "code",
   "execution_count": 249,
   "metadata": {},
   "outputs": [
    {
     "name": "stdout",
     "output_type": "stream",
     "text": [
      "Минимальная прибыль одной скважины 50000000.0 руб.\n",
      "Минимальная объём сырья для безубыточной разработки новой скважины 112 тыс. баррелей\n"
     ]
    }
   ],
   "source": [
    "budget = 10000000000  # бюджет на разработку 200 скважин\n",
    "best_wells = 200 # количество скважин\n",
    "unit_income = 450000 # доход с каждой единицы продукта\n",
    "min_profit = budget / best_wells # минимальная прибыль одной скважины\n",
    "print('Минимальная прибыль одной скважины', min_profit, 'руб.')\n",
    "minimum_volume = math.ceil(min_profit / unit_income)\n",
    "print('Минимальная объём сырья для безубыточной разработки новой скважины', minimum_volume, 'тыс. баррелей')"
   ]
  },
  {
   "cell_type": "markdown",
   "metadata": {},
   "source": [
    "#### Вывод\n",
    "\n",
    "Средние запасы нефти по трем регионам меньше, чем требуется для безубыточной разработки скважин"
   ]
  },
  {
   "cell_type": "markdown",
   "metadata": {},
   "source": [
    "## Расчёт прибыли и рисков "
   ]
  },
  {
   "cell_type": "code",
   "execution_count": 250,
   "metadata": {},
   "outputs": [],
   "source": [
    "# функция расчета прибыли\n",
    "def revenue(target, predicted, count):\n",
    "    predict_sorted = pd.Series(predicted).sort_values(ascending=False)\n",
    "    volume = target.reset_index(drop=True)[predict_sorted.index][:count]\n",
    "    return unit_income * volume.sum() - budget"
   ]
  },
  {
   "cell_type": "code",
   "execution_count": 251,
   "metadata": {},
   "outputs": [
    {
     "name": "stdout",
     "output_type": "stream",
     "text": [
      "3320826043.1398506\n",
      "2415086696.681511\n",
      "2710349963.5998325\n"
     ]
    }
   ],
   "source": [
    "print(revenue(target_valid_list[0], predicted_valid_list[0], 200))\n",
    "print(revenue(target_valid_list[1], predicted_valid_list[1], 200))\n",
    "print(revenue(target_valid_list[2], predicted_valid_list[2], 200))"
   ]
  },
  {
   "cell_type": "code",
   "execution_count": 252,
   "metadata": {
    "scrolled": true
   },
   "outputs": [
    {
     "name": "stdout",
     "output_type": "stream",
     "text": [
      "1 регион\n",
      "\tС вероятностью 95% прибыль составит от -111.22 до 909.77 млн. руб.\n",
      "\tСредняя прибыль равняется 396.16 млн. руб. \n",
      "\tРиск убытков состовляет 6.9%\n",
      "\n",
      "2 регион\n",
      "\tС вероятностью 95% прибыль составит от 33.82 до 852.29 млн. руб.\n",
      "\tСредняя прибыль равняется 456.05 млн. руб. \n",
      "\tРиск убытков состовляет 1.5%\n",
      "\n",
      "3 регион\n",
      "\tС вероятностью 95% прибыль составит от -163.35 до 950.36 млн. руб.\n",
      "\tСредняя прибыль равняется 404.40 млн. руб. \n",
      "\tРиск убытков состовляет 7.6%\n",
      "\n"
     ]
    }
   ],
   "source": [
    "count = 0\n",
    "\n",
    "for index in range(len(target_valid_list)):    \n",
    "    target = target_valid_list[index].reset_index(drop=True)\n",
    "    probabilities = predicted_valid_list[index]\n",
    "\n",
    "    state = np.random.RandomState(12345)\n",
    "\n",
    "    values = []\n",
    "    for i in range(1000):\n",
    "        target_subsample = target.sample(n=500, replace=True, random_state=state)\n",
    "        probs_subsample = probabilities[target_subsample.index] \n",
    "        result = revenue(target_subsample, probs_subsample, 200)\n",
    "        values.append(result)\n",
    "    values = pd.Series(values)\n",
    "\n",
    "    lower = values.quantile(0.025) / 1000000\n",
    "    upper = values.quantile(0.975) / 1000000\n",
    "    profit = values.mean()\n",
    "    negative = (values[values<0].count() / len(values)) * 100\n",
    "    count += 1\n",
    "    print(f'{count} регион')\n",
    "    print(f'\\tС вероятностью 95% прибыль составит от {lower:,.2f} до {upper:,.2f} млн. руб.')\n",
    "    print(f'\\tСредняя прибыль равняется {profit/ 1000000:,.2f} млн. руб. ')\n",
    "    print(f'\\tРиск убытков состовляет {negative}%\\n')"
   ]
  },
  {
   "cell_type": "markdown",
   "metadata": {},
   "source": [
    "#### Вывод \n",
    "\n",
    "Написал функцию расчета прибыли и применил технику Bootstrap с 1000 выборок, чтобы найти распределение прибыли.\n",
    "\n",
    "Лучшие показатели показывает второй регион."
   ]
  },
  {
   "cell_type": "markdown",
   "metadata": {},
   "source": [
    "## Общий вывод\n",
    "\n",
    "Провел исследования в трех регионах. В исследовании использовал модель линейной регрессии. Сохранил все предсказания в списке. \n",
    "\n",
    "Рассчитал достаточный объем сырья для безубыточной разработки новой скважины, он равен 112 тыс. баррелей. Средние запасы в каждом регионе ниже минимального объема сырья для безубыточной разработки. \n",
    "\n",
    "Выбрал 200 скважин с максимальными объемами и по ним провел расчет прибыли и применил технику Bootstrap с 1000 выборок, чтобы найти распределение прибыли. Наилучшим оказался второй регион со средней прибылью 456.05 млн. руб, риск убытка составляет 1,5%."
   ]
  },
  {
   "cell_type": "code",
   "execution_count": null,
   "metadata": {},
   "outputs": [],
   "source": []
  }
 ],
 "metadata": {
  "ExecuteTimeLog": [
   {
    "duration": 71,
    "start_time": "2022-03-29T12:26:30.624Z"
   },
   {
    "duration": 442,
    "start_time": "2022-03-29T12:26:36.723Z"
   },
   {
    "duration": 160,
    "start_time": "2022-03-29T12:26:38.085Z"
   },
   {
    "duration": 146,
    "start_time": "2022-03-29T12:27:07.356Z"
   },
   {
    "duration": 146,
    "start_time": "2022-03-29T12:27:29.595Z"
   },
   {
    "duration": 60,
    "start_time": "2022-03-29T12:27:47.345Z"
   },
   {
    "duration": 149,
    "start_time": "2022-03-29T12:27:53.545Z"
   },
   {
    "duration": 154,
    "start_time": "2022-03-29T12:28:32.123Z"
   },
   {
    "duration": 163,
    "start_time": "2022-03-29T12:28:43.448Z"
   },
   {
    "duration": 166,
    "start_time": "2022-03-29T12:29:04.224Z"
   },
   {
    "duration": 166,
    "start_time": "2022-03-29T12:29:07.296Z"
   },
   {
    "duration": 3,
    "start_time": "2022-03-29T13:16:27.890Z"
   },
   {
    "duration": 165,
    "start_time": "2022-03-29T13:16:27.896Z"
   },
   {
    "duration": 179,
    "start_time": "2022-03-29T13:16:28.063Z"
   },
   {
    "duration": 180,
    "start_time": "2022-03-29T13:16:28.246Z"
   },
   {
    "duration": 956,
    "start_time": "2022-03-29T13:36:00.523Z"
   },
   {
    "duration": 9,
    "start_time": "2022-03-29T13:40:35.761Z"
   },
   {
    "duration": 8,
    "start_time": "2022-03-29T13:40:41.471Z"
   },
   {
    "duration": 16,
    "start_time": "2022-03-29T13:40:47.952Z"
   },
   {
    "duration": 11,
    "start_time": "2022-03-29T13:41:09.893Z"
   },
   {
    "duration": 9,
    "start_time": "2022-03-29T13:41:31.928Z"
   },
   {
    "duration": 10,
    "start_time": "2022-03-29T13:41:32.311Z"
   },
   {
    "duration": 17,
    "start_time": "2022-03-29T13:42:01.431Z"
   },
   {
    "duration": 16,
    "start_time": "2022-03-29T13:42:13.847Z"
   },
   {
    "duration": 147,
    "start_time": "2022-03-29T13:43:40.670Z"
   },
   {
    "duration": 137,
    "start_time": "2022-03-29T13:43:52.479Z"
   },
   {
    "duration": 23,
    "start_time": "2022-03-29T13:44:02.078Z"
   },
   {
    "duration": 16,
    "start_time": "2022-03-29T13:44:08.558Z"
   },
   {
    "duration": 11,
    "start_time": "2022-03-29T13:44:14.718Z"
   },
   {
    "duration": 6,
    "start_time": "2022-03-29T13:44:40.736Z"
   },
   {
    "duration": 55,
    "start_time": "2022-03-29T13:46:12.957Z"
   },
   {
    "duration": 7,
    "start_time": "2022-03-29T13:46:25.348Z"
   },
   {
    "duration": 1470,
    "start_time": "2022-03-29T15:44:47.567Z"
   },
   {
    "duration": 3,
    "start_time": "2022-03-29T15:44:56.907Z"
   },
   {
    "duration": 186,
    "start_time": "2022-03-29T15:44:56.913Z"
   },
   {
    "duration": 174,
    "start_time": "2022-03-29T15:44:57.101Z"
   },
   {
    "duration": 170,
    "start_time": "2022-03-29T15:44:57.277Z"
   },
   {
    "duration": 18,
    "start_time": "2022-03-29T15:44:57.449Z"
   },
   {
    "duration": 10,
    "start_time": "2022-03-29T15:44:57.470Z"
   },
   {
    "duration": 11,
    "start_time": "2022-03-29T15:44:57.483Z"
   },
   {
    "duration": 94,
    "start_time": "2022-03-29T15:44:57.496Z"
   },
   {
    "duration": 32,
    "start_time": "2022-03-29T15:44:57.594Z"
   },
   {
    "duration": 4,
    "start_time": "2022-03-29T15:46:12.678Z"
   },
   {
    "duration": 172,
    "start_time": "2022-03-29T15:46:18.346Z"
   },
   {
    "duration": 46,
    "start_time": "2022-03-29T15:47:03.607Z"
   },
   {
    "duration": 8,
    "start_time": "2022-03-29T15:47:47.952Z"
   },
   {
    "duration": 8,
    "start_time": "2022-03-29T15:47:49.568Z"
   },
   {
    "duration": 8,
    "start_time": "2022-03-29T15:47:49.968Z"
   },
   {
    "duration": 47,
    "start_time": "2022-03-29T15:47:50.247Z"
   },
   {
    "duration": 24,
    "start_time": "2022-03-29T15:47:50.479Z"
   },
   {
    "duration": 17,
    "start_time": "2022-03-29T15:47:51.495Z"
   },
   {
    "duration": 17,
    "start_time": "2022-03-29T15:47:59.839Z"
   },
   {
    "duration": 18,
    "start_time": "2022-03-29T15:48:15.032Z"
   },
   {
    "duration": 19,
    "start_time": "2022-03-29T15:48:38.775Z"
   },
   {
    "duration": 18,
    "start_time": "2022-03-29T15:48:56.537Z"
   },
   {
    "duration": 20,
    "start_time": "2022-03-29T15:49:35.982Z"
   },
   {
    "duration": 11,
    "start_time": "2022-03-29T15:49:53.806Z"
   },
   {
    "duration": 18,
    "start_time": "2022-03-29T15:50:09.323Z"
   },
   {
    "duration": 1551,
    "start_time": "2022-03-31T08:06:32.902Z"
   },
   {
    "duration": 205,
    "start_time": "2022-03-31T08:06:34.456Z"
   },
   {
    "duration": 199,
    "start_time": "2022-03-31T08:06:34.663Z"
   },
   {
    "duration": 198,
    "start_time": "2022-03-31T08:06:34.866Z"
   },
   {
    "duration": 19,
    "start_time": "2022-03-31T08:06:35.067Z"
   },
   {
    "duration": 38,
    "start_time": "2022-03-31T08:06:35.089Z"
   },
   {
    "duration": 26,
    "start_time": "2022-03-31T08:06:35.129Z"
   },
   {
    "duration": 71,
    "start_time": "2022-03-31T08:06:35.158Z"
   },
   {
    "duration": 22,
    "start_time": "2022-03-31T08:06:35.231Z"
   },
   {
    "duration": 195,
    "start_time": "2022-03-31T08:06:35.256Z"
   },
   {
    "duration": 4,
    "start_time": "2022-03-31T08:17:20.088Z"
   },
   {
    "duration": 197,
    "start_time": "2022-03-31T08:17:20.097Z"
   },
   {
    "duration": 191,
    "start_time": "2022-03-31T08:17:20.297Z"
   },
   {
    "duration": 198,
    "start_time": "2022-03-31T08:17:20.490Z"
   },
   {
    "duration": 6,
    "start_time": "2022-03-31T08:17:20.691Z"
   },
   {
    "duration": 14,
    "start_time": "2022-03-31T08:17:20.698Z"
   },
   {
    "duration": 15,
    "start_time": "2022-03-31T08:17:20.714Z"
   },
   {
    "duration": 61,
    "start_time": "2022-03-31T08:17:20.731Z"
   },
   {
    "duration": 23,
    "start_time": "2022-03-31T08:17:20.794Z"
   },
   {
    "duration": 18,
    "start_time": "2022-03-31T08:17:20.819Z"
   },
   {
    "duration": 18,
    "start_time": "2022-03-31T08:27:31.514Z"
   },
   {
    "duration": 25,
    "start_time": "2022-03-31T08:28:00.747Z"
   },
   {
    "duration": 4,
    "start_time": "2022-03-31T08:28:05.807Z"
   },
   {
    "duration": 15,
    "start_time": "2022-03-31T08:29:56.190Z"
   },
   {
    "duration": 18,
    "start_time": "2022-03-31T08:30:16.862Z"
   },
   {
    "duration": 18,
    "start_time": "2022-03-31T08:30:23.893Z"
   },
   {
    "duration": 18,
    "start_time": "2022-03-31T08:30:44.546Z"
   },
   {
    "duration": 4,
    "start_time": "2022-03-31T08:35:09.387Z"
   },
   {
    "duration": 28,
    "start_time": "2022-03-31T08:35:45.541Z"
   },
   {
    "duration": 24,
    "start_time": "2022-03-31T08:35:59.667Z"
   },
   {
    "duration": 16,
    "start_time": "2022-03-31T08:36:05.691Z"
   },
   {
    "duration": 29,
    "start_time": "2022-03-31T08:36:25.429Z"
   },
   {
    "duration": 24,
    "start_time": "2022-03-31T08:37:13.811Z"
   },
   {
    "duration": 23,
    "start_time": "2022-03-31T08:51:19.150Z"
   },
   {
    "duration": 6,
    "start_time": "2022-03-31T08:57:04.064Z"
   },
   {
    "duration": 6,
    "start_time": "2022-03-31T09:04:21.744Z"
   },
   {
    "duration": 14,
    "start_time": "2022-03-31T09:04:22.550Z"
   },
   {
    "duration": 19,
    "start_time": "2022-03-31T09:04:23.766Z"
   },
   {
    "duration": 20,
    "start_time": "2022-03-31T09:04:39.351Z"
   },
   {
    "duration": 21,
    "start_time": "2022-03-31T09:05:23.903Z"
   },
   {
    "duration": 22,
    "start_time": "2022-03-31T09:05:30.367Z"
   },
   {
    "duration": 65,
    "start_time": "2022-03-31T09:05:34.518Z"
   },
   {
    "duration": 6,
    "start_time": "2022-03-31T09:10:10.870Z"
   },
   {
    "duration": 16,
    "start_time": "2022-03-31T09:10:11.413Z"
   },
   {
    "duration": 20,
    "start_time": "2022-03-31T09:10:11.999Z"
   },
   {
    "duration": 6,
    "start_time": "2022-03-31T09:10:22.467Z"
   },
   {
    "duration": 13,
    "start_time": "2022-03-31T09:10:23.029Z"
   },
   {
    "duration": 18,
    "start_time": "2022-03-31T09:10:23.518Z"
   },
   {
    "duration": 5,
    "start_time": "2022-03-31T09:48:49.820Z"
   },
   {
    "duration": 23,
    "start_time": "2022-03-31T09:48:49.845Z"
   },
   {
    "duration": 24,
    "start_time": "2022-03-31T09:48:50.533Z"
   },
   {
    "duration": 113,
    "start_time": "2022-03-31T09:48:50.586Z"
   },
   {
    "duration": 7,
    "start_time": "2022-03-31T09:49:38.076Z"
   },
   {
    "duration": 19,
    "start_time": "2022-03-31T09:49:38.100Z"
   },
   {
    "duration": 44,
    "start_time": "2022-03-31T09:49:38.516Z"
   },
   {
    "duration": 7,
    "start_time": "2022-03-31T09:49:54.347Z"
   },
   {
    "duration": 15,
    "start_time": "2022-03-31T09:49:54.385Z"
   },
   {
    "duration": 1181,
    "start_time": "2022-03-31T10:22:41.559Z"
   },
   {
    "duration": 597,
    "start_time": "2022-03-31T10:22:42.741Z"
   },
   {
    "duration": 191,
    "start_time": "2022-03-31T10:22:43.340Z"
   },
   {
    "duration": 196,
    "start_time": "2022-03-31T10:22:43.533Z"
   },
   {
    "duration": 4,
    "start_time": "2022-03-31T10:22:49.541Z"
   },
   {
    "duration": 3,
    "start_time": "2022-03-31T10:23:13.729Z"
   },
   {
    "duration": 6,
    "start_time": "2022-03-31T10:23:32.229Z"
   },
   {
    "duration": 152,
    "start_time": "2022-03-31T10:24:08.702Z"
   },
   {
    "duration": 3,
    "start_time": "2022-03-31T10:24:28.134Z"
   },
   {
    "duration": 12,
    "start_time": "2022-03-31T10:24:28.703Z"
   },
   {
    "duration": 4,
    "start_time": "2022-03-31T10:26:09.724Z"
   },
   {
    "duration": 13,
    "start_time": "2022-03-31T10:26:10.295Z"
   },
   {
    "duration": 16,
    "start_time": "2022-03-31T10:26:14.076Z"
   },
   {
    "duration": 268,
    "start_time": "2022-03-31T10:28:50.102Z"
   },
   {
    "duration": 300,
    "start_time": "2022-03-31T10:29:10.176Z"
   },
   {
    "duration": 252,
    "start_time": "2022-03-31T10:29:59.819Z"
   },
   {
    "duration": 340,
    "start_time": "2022-03-31T10:31:22.038Z"
   },
   {
    "duration": 529,
    "start_time": "2022-03-31T10:32:24.738Z"
   },
   {
    "duration": 226,
    "start_time": "2022-03-31T10:33:07.760Z"
   },
   {
    "duration": 437,
    "start_time": "2022-03-31T10:33:16.631Z"
   },
   {
    "duration": 124,
    "start_time": "2022-03-31T10:35:09.149Z"
   },
   {
    "duration": 124,
    "start_time": "2022-03-31T10:36:46.344Z"
   },
   {
    "duration": 366,
    "start_time": "2022-03-31T10:36:57.298Z"
   },
   {
    "duration": 257,
    "start_time": "2022-03-31T10:37:38.111Z"
   },
   {
    "duration": 3,
    "start_time": "2022-03-31T11:06:29.996Z"
   },
   {
    "duration": 387,
    "start_time": "2022-03-31T11:06:46.980Z"
   },
   {
    "duration": 4,
    "start_time": "2022-03-31T11:07:03.491Z"
   },
   {
    "duration": 462,
    "start_time": "2022-03-31T11:08:01.702Z"
   },
   {
    "duration": 4,
    "start_time": "2022-03-31T11:08:06.732Z"
   },
   {
    "duration": 299,
    "start_time": "2022-03-31T11:08:28.682Z"
   },
   {
    "duration": 7,
    "start_time": "2022-03-31T11:08:29.784Z"
   },
   {
    "duration": 318,
    "start_time": "2022-03-31T11:08:34.955Z"
   },
   {
    "duration": 8,
    "start_time": "2022-03-31T11:08:35.673Z"
   },
   {
    "duration": 3,
    "start_time": "2022-03-31T11:08:43.613Z"
   },
   {
    "duration": 131,
    "start_time": "2022-03-31T11:08:43.617Z"
   },
   {
    "duration": 131,
    "start_time": "2022-03-31T11:08:43.749Z"
   },
   {
    "duration": 141,
    "start_time": "2022-03-31T11:08:43.882Z"
   },
   {
    "duration": 3,
    "start_time": "2022-03-31T11:08:44.024Z"
   },
   {
    "duration": 436,
    "start_time": "2022-03-31T11:08:44.028Z"
   },
   {
    "duration": 96,
    "start_time": "2022-03-31T11:08:44.467Z"
   },
   {
    "duration": 433,
    "start_time": "2022-03-31T11:09:11.530Z"
   },
   {
    "duration": 3,
    "start_time": "2022-03-31T11:09:26.857Z"
   },
   {
    "duration": 350,
    "start_time": "2022-03-31T11:09:27.820Z"
   },
   {
    "duration": 5,
    "start_time": "2022-03-31T11:09:30.673Z"
   },
   {
    "duration": 376,
    "start_time": "2022-03-31T11:09:33.091Z"
   },
   {
    "duration": 12,
    "start_time": "2022-03-31T11:09:33.565Z"
   },
   {
    "duration": 260,
    "start_time": "2022-03-31T11:11:05.810Z"
   },
   {
    "duration": 4,
    "start_time": "2022-03-31T11:11:18.457Z"
   },
   {
    "duration": 4,
    "start_time": "2022-03-31T11:39:00.580Z"
   },
   {
    "duration": 5,
    "start_time": "2022-03-31T11:39:06.756Z"
   },
   {
    "duration": 257,
    "start_time": "2022-03-31T13:29:39.814Z"
   },
   {
    "duration": 301,
    "start_time": "2022-03-31T13:30:05.472Z"
   },
   {
    "duration": 328,
    "start_time": "2022-03-31T13:30:23.036Z"
   },
   {
    "duration": 5,
    "start_time": "2022-03-31T13:42:33.064Z"
   },
   {
    "duration": 4,
    "start_time": "2022-03-31T13:42:33.678Z"
   },
   {
    "duration": 3,
    "start_time": "2022-03-31T13:45:00.541Z"
   },
   {
    "duration": 136,
    "start_time": "2022-03-31T13:45:00.546Z"
   },
   {
    "duration": 128,
    "start_time": "2022-03-31T13:45:00.683Z"
   },
   {
    "duration": 132,
    "start_time": "2022-03-31T13:45:00.812Z"
   },
   {
    "duration": 2,
    "start_time": "2022-03-31T13:45:00.946Z"
   },
   {
    "duration": 414,
    "start_time": "2022-03-31T13:45:00.950Z"
   },
   {
    "duration": 97,
    "start_time": "2022-03-31T13:45:01.366Z"
   },
   {
    "duration": 8,
    "start_time": "2022-03-31T13:45:01.465Z"
   },
   {
    "duration": 364,
    "start_time": "2022-03-31T13:54:00.402Z"
   },
   {
    "duration": 284,
    "start_time": "2022-03-31T13:54:14.188Z"
   },
   {
    "duration": 1301,
    "start_time": "2022-03-31T16:51:59.176Z"
   },
   {
    "duration": 138,
    "start_time": "2022-03-31T16:52:00.479Z"
   },
   {
    "duration": 126,
    "start_time": "2022-03-31T16:52:00.618Z"
   },
   {
    "duration": 129,
    "start_time": "2022-03-31T16:52:00.746Z"
   },
   {
    "duration": 2,
    "start_time": "2022-03-31T16:52:00.881Z"
   },
   {
    "duration": 397,
    "start_time": "2022-03-31T16:52:00.885Z"
   },
   {
    "duration": 5,
    "start_time": "2022-03-31T16:52:01.284Z"
   },
   {
    "duration": 92,
    "start_time": "2022-03-31T16:52:01.291Z"
   },
   {
    "duration": 3,
    "start_time": "2022-03-31T16:52:55.576Z"
   },
   {
    "duration": 125,
    "start_time": "2022-03-31T16:52:55.581Z"
   },
   {
    "duration": 127,
    "start_time": "2022-03-31T16:52:55.708Z"
   },
   {
    "duration": 126,
    "start_time": "2022-03-31T16:52:55.837Z"
   },
   {
    "duration": 2,
    "start_time": "2022-03-31T16:52:55.965Z"
   },
   {
    "duration": 312,
    "start_time": "2022-03-31T16:52:55.969Z"
   },
   {
    "duration": 5,
    "start_time": "2022-03-31T16:52:56.284Z"
   },
   {
    "duration": 92,
    "start_time": "2022-03-31T16:52:56.291Z"
   },
   {
    "duration": 195,
    "start_time": "2022-03-31T16:58:28.469Z"
   },
   {
    "duration": 2,
    "start_time": "2022-03-31T16:58:36.858Z"
   },
   {
    "duration": 388,
    "start_time": "2022-03-31T17:49:17.704Z"
   },
   {
    "duration": 4,
    "start_time": "2022-03-31T17:49:18.646Z"
   },
   {
    "duration": 4,
    "start_time": "2022-03-31T17:49:19.525Z"
   },
   {
    "duration": 6,
    "start_time": "2022-03-31T17:49:20.374Z"
   },
   {
    "duration": 5,
    "start_time": "2022-03-31T17:49:54.629Z"
   },
   {
    "duration": 5,
    "start_time": "2022-03-31T17:50:19.041Z"
   },
   {
    "duration": 4,
    "start_time": "2022-03-31T17:50:32.541Z"
   },
   {
    "duration": 5,
    "start_time": "2022-03-31T17:50:38.241Z"
   },
   {
    "duration": 83,
    "start_time": "2022-03-31T17:50:42.464Z"
   },
   {
    "duration": 6,
    "start_time": "2022-03-31T17:50:58.517Z"
   },
   {
    "duration": 3,
    "start_time": "2022-03-31T18:57:29.178Z"
   },
   {
    "duration": 138,
    "start_time": "2022-03-31T18:57:29.184Z"
   },
   {
    "duration": 125,
    "start_time": "2022-03-31T18:57:29.324Z"
   },
   {
    "duration": 134,
    "start_time": "2022-03-31T18:57:29.451Z"
   },
   {
    "duration": 2,
    "start_time": "2022-03-31T18:57:29.587Z"
   },
   {
    "duration": 299,
    "start_time": "2022-03-31T18:57:29.591Z"
   },
   {
    "duration": 97,
    "start_time": "2022-03-31T18:57:29.891Z"
   },
   {
    "duration": 101,
    "start_time": "2022-03-31T18:57:29.990Z"
   },
   {
    "duration": 16,
    "start_time": "2022-03-31T18:57:30.093Z"
   },
   {
    "duration": 8,
    "start_time": "2022-03-31T18:57:30.111Z"
   },
   {
    "duration": 7,
    "start_time": "2022-03-31T18:57:38.075Z"
   },
   {
    "duration": 1445,
    "start_time": "2022-04-04T08:28:24.313Z"
   },
   {
    "duration": 179,
    "start_time": "2022-04-04T08:28:25.761Z"
   },
   {
    "duration": 167,
    "start_time": "2022-04-04T08:28:25.943Z"
   },
   {
    "duration": 170,
    "start_time": "2022-04-04T08:28:26.113Z"
   },
   {
    "duration": 4,
    "start_time": "2022-04-04T08:28:26.286Z"
   },
   {
    "duration": 398,
    "start_time": "2022-04-04T08:28:26.292Z"
   },
   {
    "duration": 93,
    "start_time": "2022-04-04T08:28:26.693Z"
   },
   {
    "duration": 100,
    "start_time": "2022-04-04T08:28:26.790Z"
   },
   {
    "duration": 11,
    "start_time": "2022-04-04T08:28:26.892Z"
   },
   {
    "duration": 5,
    "start_time": "2022-04-04T08:28:26.906Z"
   },
   {
    "duration": 1088,
    "start_time": "2022-04-04T16:08:49.017Z"
   },
   {
    "duration": 147,
    "start_time": "2022-04-04T16:08:50.107Z"
   },
   {
    "duration": 144,
    "start_time": "2022-04-04T16:08:50.255Z"
   },
   {
    "duration": 139,
    "start_time": "2022-04-04T16:08:50.401Z"
   },
   {
    "duration": 3,
    "start_time": "2022-04-04T16:08:50.541Z"
   },
   {
    "duration": 443,
    "start_time": "2022-04-04T16:08:50.545Z"
   },
   {
    "duration": 92,
    "start_time": "2022-04-04T16:08:50.990Z"
   },
   {
    "duration": 99,
    "start_time": "2022-04-04T16:08:51.084Z"
   },
   {
    "duration": 9,
    "start_time": "2022-04-04T16:08:51.184Z"
   },
   {
    "duration": 4,
    "start_time": "2022-04-04T16:08:51.195Z"
   },
   {
    "duration": 3,
    "start_time": "2022-04-04T17:17:56.751Z"
   },
   {
    "duration": 184,
    "start_time": "2022-04-04T17:17:56.756Z"
   },
   {
    "duration": 130,
    "start_time": "2022-04-04T17:17:56.941Z"
   },
   {
    "duration": 178,
    "start_time": "2022-04-04T17:17:57.080Z"
   },
   {
    "duration": 3,
    "start_time": "2022-04-04T17:17:57.260Z"
   },
   {
    "duration": 328,
    "start_time": "2022-04-04T17:17:57.264Z"
   },
   {
    "duration": 92,
    "start_time": "2022-04-04T17:17:57.594Z"
   },
   {
    "duration": 95,
    "start_time": "2022-04-04T17:17:57.688Z"
   },
   {
    "duration": 10,
    "start_time": "2022-04-04T17:17:57.785Z"
   },
   {
    "duration": 4,
    "start_time": "2022-04-04T17:17:57.796Z"
   },
   {
    "duration": 88,
    "start_time": "2022-04-04T17:19:47.069Z"
   },
   {
    "duration": 5,
    "start_time": "2022-04-04T17:19:54.695Z"
   },
   {
    "duration": 4,
    "start_time": "2022-04-04T17:19:59.581Z"
   },
   {
    "duration": 4,
    "start_time": "2022-04-04T17:20:04.327Z"
   },
   {
    "duration": 4,
    "start_time": "2022-04-04T17:20:08.900Z"
   },
   {
    "duration": 4,
    "start_time": "2022-04-04T18:24:27.864Z"
   },
   {
    "duration": 4,
    "start_time": "2022-04-04T18:24:40.543Z"
   },
   {
    "duration": 3,
    "start_time": "2022-04-04T18:26:36.905Z"
   },
   {
    "duration": 4,
    "start_time": "2022-04-04T18:26:40.534Z"
   },
   {
    "duration": 4,
    "start_time": "2022-04-04T18:26:52.462Z"
   },
   {
    "duration": 189,
    "start_time": "2022-04-04T18:31:23.295Z"
   },
   {
    "duration": 3,
    "start_time": "2022-04-04T18:31:45.460Z"
   },
   {
    "duration": 4,
    "start_time": "2022-04-04T18:42:24.286Z"
   },
   {
    "duration": 6,
    "start_time": "2022-04-04T19:10:50.322Z"
   },
   {
    "duration": 3,
    "start_time": "2022-04-04T19:14:19.856Z"
   },
   {
    "duration": 6,
    "start_time": "2022-04-04T19:15:01.321Z"
   },
   {
    "duration": 4,
    "start_time": "2022-04-04T19:15:44.831Z"
   },
   {
    "duration": 5,
    "start_time": "2022-04-04T19:16:08.455Z"
   },
   {
    "duration": 4,
    "start_time": "2022-04-04T19:16:14.422Z"
   },
   {
    "duration": 6,
    "start_time": "2022-04-04T19:17:06.737Z"
   },
   {
    "duration": 4,
    "start_time": "2022-04-04T20:12:25.744Z"
   },
   {
    "duration": 2,
    "start_time": "2022-04-04T20:12:44.280Z"
   },
   {
    "duration": 4,
    "start_time": "2022-04-04T20:12:48.127Z"
   },
   {
    "duration": 181,
    "start_time": "2022-04-04T20:12:48.133Z"
   },
   {
    "duration": 162,
    "start_time": "2022-04-04T20:12:48.316Z"
   },
   {
    "duration": 154,
    "start_time": "2022-04-04T20:12:48.481Z"
   },
   {
    "duration": 3,
    "start_time": "2022-04-04T20:12:48.637Z"
   },
   {
    "duration": 246,
    "start_time": "2022-04-04T20:12:48.642Z"
   },
   {
    "duration": 5,
    "start_time": "2022-04-04T20:12:48.891Z"
   },
   {
    "duration": 10,
    "start_time": "2022-04-04T20:12:48.982Z"
   },
   {
    "duration": 7,
    "start_time": "2022-04-04T20:12:49.081Z"
   },
   {
    "duration": 7,
    "start_time": "2022-04-04T20:12:49.089Z"
   },
   {
    "duration": 4,
    "start_time": "2022-04-04T20:12:51.455Z"
   },
   {
    "duration": 3,
    "start_time": "2022-04-04T20:12:52.062Z"
   },
   {
    "duration": 3,
    "start_time": "2022-04-04T20:13:43.669Z"
   },
   {
    "duration": 3,
    "start_time": "2022-04-04T20:14:07.500Z"
   },
   {
    "duration": 4,
    "start_time": "2022-04-04T20:14:19.044Z"
   },
   {
    "duration": 4,
    "start_time": "2022-04-04T20:16:58.206Z"
   },
   {
    "duration": 5,
    "start_time": "2022-04-04T20:17:25.388Z"
   },
   {
    "duration": 4,
    "start_time": "2022-04-04T20:17:38.517Z"
   },
   {
    "duration": 140,
    "start_time": "2022-04-04T20:17:38.523Z"
   },
   {
    "duration": 125,
    "start_time": "2022-04-04T20:17:38.664Z"
   },
   {
    "duration": 127,
    "start_time": "2022-04-04T20:17:38.790Z"
   },
   {
    "duration": 3,
    "start_time": "2022-04-04T20:17:38.918Z"
   },
   {
    "duration": 376,
    "start_time": "2022-04-04T20:17:38.922Z"
   },
   {
    "duration": 9,
    "start_time": "2022-04-04T20:17:39.381Z"
   },
   {
    "duration": 95,
    "start_time": "2022-04-04T20:17:39.393Z"
   },
   {
    "duration": 8,
    "start_time": "2022-04-04T20:17:39.490Z"
   },
   {
    "duration": 14,
    "start_time": "2022-04-04T20:17:39.500Z"
   },
   {
    "duration": 4,
    "start_time": "2022-04-04T20:17:41.971Z"
   },
   {
    "duration": 5,
    "start_time": "2022-04-04T20:17:43.347Z"
   },
   {
    "duration": 242,
    "start_time": "2022-04-04T20:18:01.674Z"
   },
   {
    "duration": 4,
    "start_time": "2022-04-04T20:18:22.379Z"
   },
   {
    "duration": 4,
    "start_time": "2022-04-04T20:21:40.673Z"
   },
   {
    "duration": 5,
    "start_time": "2022-04-04T20:21:45.514Z"
   },
   {
    "duration": 4,
    "start_time": "2022-04-04T20:21:49.352Z"
   },
   {
    "duration": 3,
    "start_time": "2022-04-04T20:22:23.345Z"
   },
   {
    "duration": 4,
    "start_time": "2022-04-04T20:22:29.848Z"
   },
   {
    "duration": 4,
    "start_time": "2022-04-04T20:22:37.119Z"
   },
   {
    "duration": 6,
    "start_time": "2022-04-04T20:22:49.376Z"
   },
   {
    "duration": 9,
    "start_time": "2022-04-04T20:22:59.319Z"
   },
   {
    "duration": 7,
    "start_time": "2022-04-04T20:23:07.154Z"
   },
   {
    "duration": 1115,
    "start_time": "2022-04-06T17:33:41.458Z"
   },
   {
    "duration": 133,
    "start_time": "2022-04-06T17:33:42.574Z"
   },
   {
    "duration": 120,
    "start_time": "2022-04-06T17:33:42.709Z"
   },
   {
    "duration": 128,
    "start_time": "2022-04-06T17:33:42.831Z"
   },
   {
    "duration": 2,
    "start_time": "2022-04-06T17:33:42.961Z"
   },
   {
    "duration": 321,
    "start_time": "2022-04-06T17:33:42.965Z"
   },
   {
    "duration": 5,
    "start_time": "2022-04-06T17:33:43.288Z"
   },
   {
    "duration": 101,
    "start_time": "2022-04-06T17:33:43.382Z"
   },
   {
    "duration": 23,
    "start_time": "2022-04-06T17:33:43.484Z"
   },
   {
    "duration": 11,
    "start_time": "2022-04-06T17:33:43.509Z"
   },
   {
    "duration": 1126,
    "start_time": "2022-04-06T18:43:58.825Z"
   },
   {
    "duration": 149,
    "start_time": "2022-04-06T18:43:59.953Z"
   },
   {
    "duration": 129,
    "start_time": "2022-04-06T18:44:00.104Z"
   },
   {
    "duration": 119,
    "start_time": "2022-04-06T18:44:00.235Z"
   },
   {
    "duration": 3,
    "start_time": "2022-04-06T18:44:00.356Z"
   },
   {
    "duration": 374,
    "start_time": "2022-04-06T18:44:00.361Z"
   },
   {
    "duration": 5,
    "start_time": "2022-04-06T18:44:00.737Z"
   },
   {
    "duration": 204,
    "start_time": "2022-04-06T18:44:00.743Z"
   },
   {
    "duration": 35,
    "start_time": "2022-04-06T18:44:00.949Z"
   },
   {
    "duration": 18,
    "start_time": "2022-04-06T18:44:00.986Z"
   },
   {
    "duration": 91,
    "start_time": "2022-04-06T19:40:14.568Z"
   },
   {
    "duration": 9,
    "start_time": "2022-04-06T19:42:32.903Z"
   },
   {
    "duration": 7,
    "start_time": "2022-04-06T19:42:45.853Z"
   },
   {
    "duration": 8,
    "start_time": "2022-04-06T19:42:55.555Z"
   },
   {
    "duration": 4,
    "start_time": "2022-04-06T19:43:55.217Z"
   },
   {
    "duration": 3,
    "start_time": "2022-04-06T19:44:40.427Z"
   },
   {
    "duration": 8,
    "start_time": "2022-04-06T19:45:45.695Z"
   },
   {
    "duration": 8,
    "start_time": "2022-04-06T19:46:28.770Z"
   },
   {
    "duration": 7,
    "start_time": "2022-04-06T19:47:35.193Z"
   },
   {
    "duration": 10,
    "start_time": "2022-04-06T19:47:50.690Z"
   },
   {
    "duration": 9,
    "start_time": "2022-04-06T19:48:35.114Z"
   },
   {
    "duration": 9,
    "start_time": "2022-04-06T19:48:38.322Z"
   },
   {
    "duration": 3,
    "start_time": "2022-04-06T19:52:17.209Z"
   },
   {
    "duration": 3,
    "start_time": "2022-04-06T19:52:41.925Z"
   },
   {
    "duration": 21,
    "start_time": "2022-04-06T19:52:59.233Z"
   },
   {
    "duration": 18,
    "start_time": "2022-04-06T19:55:39.407Z"
   },
   {
    "duration": 10,
    "start_time": "2022-04-06T19:56:52.304Z"
   },
   {
    "duration": 9,
    "start_time": "2022-04-06T20:00:14.862Z"
   },
   {
    "duration": 10,
    "start_time": "2022-04-06T20:07:38.546Z"
   },
   {
    "duration": 16,
    "start_time": "2022-04-06T20:08:18.317Z"
   },
   {
    "duration": 16,
    "start_time": "2022-04-06T20:08:44.213Z"
   },
   {
    "duration": 9,
    "start_time": "2022-04-06T20:08:55.250Z"
   },
   {
    "duration": 9,
    "start_time": "2022-04-06T20:09:06.873Z"
   },
   {
    "duration": 9,
    "start_time": "2022-04-06T20:09:13.930Z"
   },
   {
    "duration": 9,
    "start_time": "2022-04-06T20:10:07.699Z"
   },
   {
    "duration": 9,
    "start_time": "2022-04-06T20:10:19.666Z"
   },
   {
    "duration": 7,
    "start_time": "2022-04-06T20:10:32.761Z"
   },
   {
    "duration": 16,
    "start_time": "2022-04-06T20:11:22.891Z"
   },
   {
    "duration": 9,
    "start_time": "2022-04-06T20:11:42.818Z"
   },
   {
    "duration": 10,
    "start_time": "2022-04-06T20:12:07.361Z"
   },
   {
    "duration": 8,
    "start_time": "2022-04-06T20:12:32.080Z"
   },
   {
    "duration": 8,
    "start_time": "2022-04-06T20:13:28.697Z"
   },
   {
    "duration": 9,
    "start_time": "2022-04-06T20:13:41.863Z"
   },
   {
    "duration": 10,
    "start_time": "2022-04-06T20:14:22.253Z"
   },
   {
    "duration": 11,
    "start_time": "2022-04-06T20:14:43.038Z"
   },
   {
    "duration": 11,
    "start_time": "2022-04-06T20:15:03.007Z"
   },
   {
    "duration": 8,
    "start_time": "2022-04-06T20:15:30.068Z"
   },
   {
    "duration": 8,
    "start_time": "2022-04-06T20:16:06.851Z"
   },
   {
    "duration": 10,
    "start_time": "2022-04-06T20:16:16.139Z"
   },
   {
    "duration": 8,
    "start_time": "2022-04-06T20:16:27.443Z"
   },
   {
    "duration": 10,
    "start_time": "2022-04-06T20:16:32.820Z"
   },
   {
    "duration": 20,
    "start_time": "2022-04-06T20:17:57.474Z"
   },
   {
    "duration": 9,
    "start_time": "2022-04-06T20:18:40.848Z"
   },
   {
    "duration": 9,
    "start_time": "2022-04-06T20:19:06.088Z"
   },
   {
    "duration": 8,
    "start_time": "2022-04-06T20:19:19.489Z"
   },
   {
    "duration": 9,
    "start_time": "2022-04-06T20:19:32.639Z"
   },
   {
    "duration": 9,
    "start_time": "2022-04-06T20:19:39.231Z"
   },
   {
    "duration": 11,
    "start_time": "2022-04-06T20:20:04.945Z"
   },
   {
    "duration": 13,
    "start_time": "2022-04-06T20:20:49.760Z"
   },
   {
    "duration": 17,
    "start_time": "2022-04-06T20:21:01.401Z"
   },
   {
    "duration": 1143,
    "start_time": "2022-04-07T06:49:50.851Z"
   },
   {
    "duration": 151,
    "start_time": "2022-04-07T06:49:51.996Z"
   },
   {
    "duration": 127,
    "start_time": "2022-04-07T06:49:52.148Z"
   },
   {
    "duration": 124,
    "start_time": "2022-04-07T06:49:52.276Z"
   },
   {
    "duration": 2,
    "start_time": "2022-04-07T06:49:52.402Z"
   },
   {
    "duration": 379,
    "start_time": "2022-04-07T06:49:52.406Z"
   },
   {
    "duration": 96,
    "start_time": "2022-04-07T06:49:52.786Z"
   },
   {
    "duration": 3,
    "start_time": "2022-04-07T06:49:52.884Z"
   },
   {
    "duration": 10,
    "start_time": "2022-04-07T06:49:52.888Z"
   },
   {
    "duration": 8,
    "start_time": "2022-04-07T06:49:52.899Z"
   },
   {
    "duration": 148,
    "start_time": "2022-04-07T06:49:52.908Z"
   },
   {
    "duration": 0,
    "start_time": "2022-04-07T06:49:53.058Z"
   },
   {
    "duration": 3,
    "start_time": "2022-04-07T06:56:33.809Z"
   },
   {
    "duration": 3,
    "start_time": "2022-04-07T06:57:15.110Z"
   },
   {
    "duration": 12,
    "start_time": "2022-04-07T06:57:56.943Z"
   },
   {
    "duration": 19,
    "start_time": "2022-04-07T06:58:23.422Z"
   },
   {
    "duration": 4,
    "start_time": "2022-04-07T06:58:57.170Z"
   },
   {
    "duration": 5,
    "start_time": "2022-04-07T06:59:07.249Z"
   },
   {
    "duration": 21,
    "start_time": "2022-04-07T06:59:11.942Z"
   },
   {
    "duration": 20,
    "start_time": "2022-04-07T07:13:08.833Z"
   },
   {
    "duration": 21,
    "start_time": "2022-04-07T07:19:39.330Z"
   },
   {
    "duration": 30,
    "start_time": "2022-04-07T07:20:17.385Z"
   },
   {
    "duration": 10,
    "start_time": "2022-04-07T07:20:48.786Z"
   },
   {
    "duration": 8,
    "start_time": "2022-04-07T07:20:53.376Z"
   },
   {
    "duration": 13,
    "start_time": "2022-04-07T07:22:25.128Z"
   },
   {
    "duration": 16,
    "start_time": "2022-04-07T07:22:37.957Z"
   },
   {
    "duration": 18,
    "start_time": "2022-04-07T07:22:45.188Z"
   },
   {
    "duration": 28,
    "start_time": "2022-04-07T07:23:46.246Z"
   },
   {
    "duration": 9,
    "start_time": "2022-04-07T07:24:44.856Z"
   },
   {
    "duration": 8,
    "start_time": "2022-04-07T07:26:23.823Z"
   },
   {
    "duration": 8,
    "start_time": "2022-04-07T07:26:35.959Z"
   },
   {
    "duration": 7,
    "start_time": "2022-04-07T07:27:43.152Z"
   },
   {
    "duration": 8,
    "start_time": "2022-04-07T07:28:24.004Z"
   },
   {
    "duration": 7,
    "start_time": "2022-04-07T07:28:42.152Z"
   },
   {
    "duration": 7,
    "start_time": "2022-04-07T07:28:59.863Z"
   },
   {
    "duration": 22,
    "start_time": "2022-04-07T07:29:12.886Z"
   },
   {
    "duration": 8,
    "start_time": "2022-04-07T07:29:13.991Z"
   },
   {
    "duration": 19,
    "start_time": "2022-04-07T07:29:25.572Z"
   },
   {
    "duration": 8,
    "start_time": "2022-04-07T07:29:26.822Z"
   },
   {
    "duration": 1147,
    "start_time": "2022-04-07T12:27:48.570Z"
   },
   {
    "duration": 121,
    "start_time": "2022-04-07T12:27:49.719Z"
   },
   {
    "duration": 119,
    "start_time": "2022-04-07T12:27:49.842Z"
   },
   {
    "duration": 116,
    "start_time": "2022-04-07T12:27:49.963Z"
   },
   {
    "duration": 2,
    "start_time": "2022-04-07T12:27:50.080Z"
   },
   {
    "duration": 252,
    "start_time": "2022-04-07T12:27:50.084Z"
   },
   {
    "duration": 94,
    "start_time": "2022-04-07T12:27:50.338Z"
   },
   {
    "duration": 104,
    "start_time": "2022-04-07T12:27:50.434Z"
   },
   {
    "duration": 13,
    "start_time": "2022-04-07T12:27:50.539Z"
   },
   {
    "duration": 15,
    "start_time": "2022-04-07T12:27:50.554Z"
   },
   {
    "duration": 87,
    "start_time": "2022-04-07T12:27:50.571Z"
   },
   {
    "duration": 0,
    "start_time": "2022-04-07T12:27:50.659Z"
   },
   {
    "duration": 0,
    "start_time": "2022-04-07T12:27:50.660Z"
   },
   {
    "duration": 0,
    "start_time": "2022-04-07T12:27:50.661Z"
   },
   {
    "duration": 0,
    "start_time": "2022-04-07T12:27:50.662Z"
   },
   {
    "duration": 19,
    "start_time": "2022-04-07T12:28:03.994Z"
   },
   {
    "duration": 10,
    "start_time": "2022-04-07T12:28:09.180Z"
   },
   {
    "duration": 10,
    "start_time": "2022-04-07T12:28:52.330Z"
   },
   {
    "duration": 23,
    "start_time": "2022-04-07T12:30:21.471Z"
   },
   {
    "duration": 11,
    "start_time": "2022-04-07T12:30:40.303Z"
   },
   {
    "duration": 11,
    "start_time": "2022-04-07T12:31:24.223Z"
   },
   {
    "duration": 1556,
    "start_time": "2022-04-07T15:25:00.294Z"
   },
   {
    "duration": 234,
    "start_time": "2022-04-07T15:25:01.853Z"
   },
   {
    "duration": 190,
    "start_time": "2022-04-07T15:25:02.089Z"
   },
   {
    "duration": 187,
    "start_time": "2022-04-07T15:25:02.282Z"
   },
   {
    "duration": 6,
    "start_time": "2022-04-07T15:25:02.474Z"
   },
   {
    "duration": 300,
    "start_time": "2022-04-07T15:25:02.482Z"
   },
   {
    "duration": 89,
    "start_time": "2022-04-07T15:25:02.785Z"
   },
   {
    "duration": 115,
    "start_time": "2022-04-07T15:25:02.877Z"
   },
   {
    "duration": 19,
    "start_time": "2022-04-07T15:25:02.994Z"
   },
   {
    "duration": 11,
    "start_time": "2022-04-07T15:25:03.018Z"
   },
   {
    "duration": 63,
    "start_time": "2022-04-07T15:25:03.032Z"
   },
   {
    "duration": 256,
    "start_time": "2022-04-07T15:25:03.173Z"
   },
   {
    "duration": 0,
    "start_time": "2022-04-07T15:25:03.431Z"
   },
   {
    "duration": 0,
    "start_time": "2022-04-07T15:25:03.433Z"
   },
   {
    "duration": 25,
    "start_time": "2022-04-07T15:25:56.687Z"
   },
   {
    "duration": 4,
    "start_time": "2022-04-07T17:01:38.844Z"
   },
   {
    "duration": 169,
    "start_time": "2022-04-07T17:01:38.851Z"
   },
   {
    "duration": 179,
    "start_time": "2022-04-07T17:01:39.022Z"
   },
   {
    "duration": 189,
    "start_time": "2022-04-07T17:01:39.204Z"
   },
   {
    "duration": 4,
    "start_time": "2022-04-07T17:01:39.395Z"
   },
   {
    "duration": 390,
    "start_time": "2022-04-07T17:01:39.402Z"
   },
   {
    "duration": 9,
    "start_time": "2022-04-07T17:01:39.875Z"
   },
   {
    "duration": 97,
    "start_time": "2022-04-07T17:01:39.887Z"
   },
   {
    "duration": 11,
    "start_time": "2022-04-07T17:01:39.988Z"
   },
   {
    "duration": 6,
    "start_time": "2022-04-07T17:01:40.001Z"
   },
   {
    "duration": 67,
    "start_time": "2022-04-07T17:01:40.009Z"
   },
   {
    "duration": 104,
    "start_time": "2022-04-07T17:01:40.081Z"
   },
   {
    "duration": 0,
    "start_time": "2022-04-07T17:01:40.188Z"
   },
   {
    "duration": 0,
    "start_time": "2022-04-07T17:01:40.189Z"
   },
   {
    "duration": 15,
    "start_time": "2022-04-07T17:03:12.069Z"
   },
   {
    "duration": 47,
    "start_time": "2022-04-07T17:03:56.650Z"
   },
   {
    "duration": 31,
    "start_time": "2022-04-07T17:04:19.706Z"
   },
   {
    "duration": 33,
    "start_time": "2022-04-07T17:12:30.327Z"
   },
   {
    "duration": 40,
    "start_time": "2022-04-07T17:13:05.414Z"
   },
   {
    "duration": 11,
    "start_time": "2022-04-07T17:13:15.790Z"
   },
   {
    "duration": 15,
    "start_time": "2022-04-07T17:13:36.966Z"
   },
   {
    "duration": 17,
    "start_time": "2022-04-07T17:14:07.278Z"
   },
   {
    "duration": 24,
    "start_time": "2022-04-07T17:14:20.472Z"
   },
   {
    "duration": 17,
    "start_time": "2022-04-07T17:14:25.861Z"
   },
   {
    "duration": 17,
    "start_time": "2022-04-07T17:14:37.710Z"
   },
   {
    "duration": 16,
    "start_time": "2022-04-07T17:15:01.222Z"
   },
   {
    "duration": 14,
    "start_time": "2022-04-07T17:16:49.742Z"
   },
   {
    "duration": 15,
    "start_time": "2022-04-07T17:17:30.191Z"
   },
   {
    "duration": 13,
    "start_time": "2022-04-07T17:17:36.885Z"
   },
   {
    "duration": 13,
    "start_time": "2022-04-07T17:17:42.079Z"
   },
   {
    "duration": 125,
    "start_time": "2022-04-07T17:17:53.851Z"
   },
   {
    "duration": 13,
    "start_time": "2022-04-07T17:17:54.397Z"
   },
   {
    "duration": 10,
    "start_time": "2022-04-07T17:19:16.492Z"
   },
   {
    "duration": 8,
    "start_time": "2022-04-07T17:19:31.114Z"
   },
   {
    "duration": 12,
    "start_time": "2022-04-07T17:58:50.722Z"
   },
   {
    "duration": 13,
    "start_time": "2022-04-07T17:59:08.089Z"
   },
   {
    "duration": 30,
    "start_time": "2022-04-07T17:59:28.105Z"
   },
   {
    "duration": 12,
    "start_time": "2022-04-07T18:00:13.849Z"
   },
   {
    "duration": 12,
    "start_time": "2022-04-07T18:00:21.167Z"
   },
   {
    "duration": 12,
    "start_time": "2022-04-07T18:00:33.770Z"
   },
   {
    "duration": 12,
    "start_time": "2022-04-07T18:00:42.679Z"
   },
   {
    "duration": 12,
    "start_time": "2022-04-07T18:00:53.116Z"
   },
   {
    "duration": 131,
    "start_time": "2022-04-07T18:01:12.055Z"
   },
   {
    "duration": 4,
    "start_time": "2022-04-07T18:01:18.864Z"
   },
   {
    "duration": 16,
    "start_time": "2022-04-07T18:01:22.232Z"
   },
   {
    "duration": 4,
    "start_time": "2022-04-07T18:26:11.376Z"
   },
   {
    "duration": 167,
    "start_time": "2022-04-07T18:26:11.413Z"
   },
   {
    "duration": 175,
    "start_time": "2022-04-07T18:26:11.582Z"
   },
   {
    "duration": 182,
    "start_time": "2022-04-07T18:26:11.759Z"
   },
   {
    "duration": 3,
    "start_time": "2022-04-07T18:26:11.945Z"
   },
   {
    "duration": 436,
    "start_time": "2022-04-07T18:26:11.950Z"
   },
   {
    "duration": 88,
    "start_time": "2022-04-07T18:26:12.390Z"
   },
   {
    "duration": 102,
    "start_time": "2022-04-07T18:26:12.481Z"
   },
   {
    "duration": 9,
    "start_time": "2022-04-07T18:26:12.585Z"
   },
   {
    "duration": 11,
    "start_time": "2022-04-07T18:26:12.596Z"
   },
   {
    "duration": 5,
    "start_time": "2022-04-07T18:30:35.787Z"
   },
   {
    "duration": 14,
    "start_time": "2022-04-07T18:33:54.827Z"
   },
   {
    "duration": 14,
    "start_time": "2022-04-07T18:34:37.570Z"
   },
   {
    "duration": 14,
    "start_time": "2022-04-07T18:34:38.907Z"
   },
   {
    "duration": 6,
    "start_time": "2022-04-07T18:35:17.907Z"
   },
   {
    "duration": 14,
    "start_time": "2022-04-07T18:35:18.686Z"
   },
   {
    "duration": 13,
    "start_time": "2022-04-07T18:35:30.505Z"
   },
   {
    "duration": 12,
    "start_time": "2022-04-07T18:35:40.618Z"
   },
   {
    "duration": 14,
    "start_time": "2022-04-07T18:35:52.226Z"
   },
   {
    "duration": 15,
    "start_time": "2022-04-07T18:35:58.863Z"
   },
   {
    "duration": 6,
    "start_time": "2022-04-07T18:37:57.416Z"
   },
   {
    "duration": 13,
    "start_time": "2022-04-07T18:37:58.369Z"
   },
   {
    "duration": 13,
    "start_time": "2022-04-07T18:38:02.665Z"
   },
   {
    "duration": 12,
    "start_time": "2022-04-07T18:38:03.761Z"
   },
   {
    "duration": 10,
    "start_time": "2022-04-07T18:38:09.569Z"
   },
   {
    "duration": 7,
    "start_time": "2022-04-07T18:40:15.684Z"
   },
   {
    "duration": 31,
    "start_time": "2022-04-07T18:40:16.376Z"
   },
   {
    "duration": 4,
    "start_time": "2022-04-07T18:50:24.640Z"
   },
   {
    "duration": 263,
    "start_time": "2022-04-07T18:50:24.647Z"
   },
   {
    "duration": 254,
    "start_time": "2022-04-07T18:50:24.913Z"
   },
   {
    "duration": 180,
    "start_time": "2022-04-07T18:50:25.177Z"
   },
   {
    "duration": 13,
    "start_time": "2022-04-07T18:50:25.362Z"
   },
   {
    "duration": 316,
    "start_time": "2022-04-07T18:50:25.377Z"
   },
   {
    "duration": 9,
    "start_time": "2022-04-07T18:50:25.776Z"
   },
   {
    "duration": 90,
    "start_time": "2022-04-07T18:50:25.788Z"
   },
   {
    "duration": 14,
    "start_time": "2022-04-07T18:50:25.880Z"
   },
   {
    "duration": 6,
    "start_time": "2022-04-07T18:50:25.897Z"
   },
   {
    "duration": 9,
    "start_time": "2022-04-07T18:50:25.907Z"
   },
   {
    "duration": 69,
    "start_time": "2022-04-07T18:50:25.919Z"
   },
   {
    "duration": 5,
    "start_time": "2022-04-07T18:50:37.350Z"
   },
   {
    "duration": 272,
    "start_time": "2022-04-07T18:50:37.358Z"
   },
   {
    "duration": 213,
    "start_time": "2022-04-07T18:50:37.632Z"
   },
   {
    "duration": 186,
    "start_time": "2022-04-07T18:50:37.848Z"
   },
   {
    "duration": 4,
    "start_time": "2022-04-07T18:50:38.037Z"
   },
   {
    "duration": 347,
    "start_time": "2022-04-07T18:50:38.043Z"
   },
   {
    "duration": 85,
    "start_time": "2022-04-07T18:50:38.393Z"
   },
   {
    "duration": 107,
    "start_time": "2022-04-07T18:50:38.482Z"
   },
   {
    "duration": 37,
    "start_time": "2022-04-07T18:50:38.591Z"
   },
   {
    "duration": 43,
    "start_time": "2022-04-07T18:50:38.630Z"
   },
   {
    "duration": 49,
    "start_time": "2022-04-07T18:50:38.676Z"
   },
   {
    "duration": 49,
    "start_time": "2022-04-07T18:50:38.727Z"
   },
   {
    "duration": 4,
    "start_time": "2022-04-07T18:50:43.054Z"
   },
   {
    "duration": 255,
    "start_time": "2022-04-07T18:50:43.062Z"
   },
   {
    "duration": 264,
    "start_time": "2022-04-07T18:50:43.321Z"
   },
   {
    "duration": 194,
    "start_time": "2022-04-07T18:50:43.588Z"
   },
   {
    "duration": 3,
    "start_time": "2022-04-07T18:50:43.785Z"
   },
   {
    "duration": 402,
    "start_time": "2022-04-07T18:50:43.791Z"
   },
   {
    "duration": 83,
    "start_time": "2022-04-07T18:50:44.198Z"
   },
   {
    "duration": 102,
    "start_time": "2022-04-07T18:50:44.284Z"
   },
   {
    "duration": 14,
    "start_time": "2022-04-07T18:50:44.389Z"
   },
   {
    "duration": 12,
    "start_time": "2022-04-07T18:50:44.406Z"
   },
   {
    "duration": 7,
    "start_time": "2022-04-07T18:50:44.422Z"
   },
   {
    "duration": 57,
    "start_time": "2022-04-07T18:50:44.431Z"
   },
   {
    "duration": 4,
    "start_time": "2022-04-07T19:44:59.669Z"
   },
   {
    "duration": 260,
    "start_time": "2022-04-07T19:44:59.676Z"
   },
   {
    "duration": 261,
    "start_time": "2022-04-07T19:44:59.939Z"
   },
   {
    "duration": 273,
    "start_time": "2022-04-07T19:45:00.203Z"
   },
   {
    "duration": 5,
    "start_time": "2022-04-07T19:45:00.480Z"
   },
   {
    "duration": 486,
    "start_time": "2022-04-07T19:45:00.488Z"
   },
   {
    "duration": 8,
    "start_time": "2022-04-07T19:45:00.977Z"
   },
   {
    "duration": 50,
    "start_time": "2022-04-07T19:45:00.988Z"
   },
   {
    "duration": 49,
    "start_time": "2022-04-07T19:45:01.041Z"
   },
   {
    "duration": 32,
    "start_time": "2022-04-07T19:45:01.093Z"
   },
   {
    "duration": 34,
    "start_time": "2022-04-07T19:45:01.128Z"
   },
   {
    "duration": 51,
    "start_time": "2022-04-07T19:45:01.165Z"
   },
   {
    "duration": 4,
    "start_time": "2022-04-07T19:47:35.767Z"
   },
   {
    "duration": 13,
    "start_time": "2022-04-07T19:47:55.120Z"
   },
   {
    "duration": 12,
    "start_time": "2022-04-07T19:48:06.488Z"
   },
   {
    "duration": 13,
    "start_time": "2022-04-07T19:48:13.743Z"
   },
   {
    "duration": 14,
    "start_time": "2022-04-07T19:51:08.910Z"
   },
   {
    "duration": 14,
    "start_time": "2022-04-07T19:52:40.743Z"
   },
   {
    "duration": 18,
    "start_time": "2022-04-07T19:55:48.792Z"
   },
   {
    "duration": 185,
    "start_time": "2022-04-07T19:56:03.547Z"
   },
   {
    "duration": 14,
    "start_time": "2022-04-07T19:56:07.371Z"
   },
   {
    "duration": 18,
    "start_time": "2022-04-07T20:13:20.700Z"
   },
   {
    "duration": 9,
    "start_time": "2022-04-07T20:13:31.826Z"
   },
   {
    "duration": 6,
    "start_time": "2022-04-07T20:13:40.835Z"
   },
   {
    "duration": 7,
    "start_time": "2022-04-07T20:13:50.164Z"
   },
   {
    "duration": 8,
    "start_time": "2022-04-07T20:13:58.754Z"
   },
   {
    "duration": 14,
    "start_time": "2022-04-07T20:14:27.044Z"
   },
   {
    "duration": 6,
    "start_time": "2022-04-07T20:18:03.539Z"
   },
   {
    "duration": 30,
    "start_time": "2022-04-07T20:18:11.689Z"
   },
   {
    "duration": 7,
    "start_time": "2022-04-07T20:19:14.210Z"
   },
   {
    "duration": 6,
    "start_time": "2022-04-07T20:19:47.352Z"
   },
   {
    "duration": 235,
    "start_time": "2022-04-07T20:20:00.680Z"
   },
   {
    "duration": 813,
    "start_time": "2022-04-07T20:20:05.912Z"
   },
   {
    "duration": 43,
    "start_time": "2022-04-07T20:20:14.439Z"
   },
   {
    "duration": 30,
    "start_time": "2022-04-07T20:26:04.800Z"
   },
   {
    "duration": 32,
    "start_time": "2022-04-07T20:26:26.782Z"
   },
   {
    "duration": 31,
    "start_time": "2022-04-07T20:27:01.414Z"
   },
   {
    "duration": 5,
    "start_time": "2022-04-07T20:27:03.621Z"
   },
   {
    "duration": 5,
    "start_time": "2022-04-07T20:27:04.840Z"
   },
   {
    "duration": 30,
    "start_time": "2022-04-07T20:31:21.645Z"
   },
   {
    "duration": 33,
    "start_time": "2022-04-07T20:32:29.509Z"
   },
   {
    "duration": 11,
    "start_time": "2022-04-07T20:32:53.251Z"
   },
   {
    "duration": 7,
    "start_time": "2022-04-07T20:33:30.956Z"
   },
   {
    "duration": 7,
    "start_time": "2022-04-07T20:33:39.523Z"
   },
   {
    "duration": 23,
    "start_time": "2022-04-07T20:33:54.029Z"
   },
   {
    "duration": 14,
    "start_time": "2022-04-07T20:34:09.868Z"
   },
   {
    "duration": 1556,
    "start_time": "2022-04-07T20:34:20.794Z"
   },
   {
    "duration": 1482,
    "start_time": "2022-04-07T20:34:47.010Z"
   },
   {
    "duration": 1296,
    "start_time": "2022-04-07T20:36:10.617Z"
   },
   {
    "duration": 1296,
    "start_time": "2022-04-07T20:36:14.760Z"
   },
   {
    "duration": 1481,
    "start_time": "2022-04-07T20:36:19.417Z"
   },
   {
    "duration": 1538,
    "start_time": "2022-04-07T20:38:09.095Z"
   },
   {
    "duration": 5,
    "start_time": "2022-04-07T20:38:16.353Z"
   },
   {
    "duration": 213,
    "start_time": "2022-04-07T20:38:16.360Z"
   },
   {
    "duration": 204,
    "start_time": "2022-04-07T20:38:16.577Z"
   },
   {
    "duration": 205,
    "start_time": "2022-04-07T20:38:16.785Z"
   },
   {
    "duration": 4,
    "start_time": "2022-04-07T20:38:16.993Z"
   },
   {
    "duration": 401,
    "start_time": "2022-04-07T20:38:16.999Z"
   },
   {
    "duration": 11,
    "start_time": "2022-04-07T20:38:17.476Z"
   },
   {
    "duration": 93,
    "start_time": "2022-04-07T20:38:17.491Z"
   },
   {
    "duration": 17,
    "start_time": "2022-04-07T20:38:17.587Z"
   },
   {
    "duration": 10,
    "start_time": "2022-04-07T20:38:17.609Z"
   },
   {
    "duration": 9,
    "start_time": "2022-04-07T20:38:17.621Z"
   },
   {
    "duration": 58,
    "start_time": "2022-04-07T20:38:17.633Z"
   },
   {
    "duration": 1546,
    "start_time": "2022-04-07T20:38:17.693Z"
   },
   {
    "duration": 1509,
    "start_time": "2022-04-07T20:39:12.010Z"
   },
   {
    "duration": 1354,
    "start_time": "2022-04-07T20:41:40.558Z"
   },
   {
    "duration": 1369,
    "start_time": "2022-04-07T20:44:32.118Z"
   },
   {
    "duration": 1350,
    "start_time": "2022-04-07T20:45:11.125Z"
   },
   {
    "duration": 1345,
    "start_time": "2022-04-07T20:45:20.141Z"
   },
   {
    "duration": 1570,
    "start_time": "2022-04-07T20:47:14.421Z"
   },
   {
    "duration": 1979,
    "start_time": "2022-04-07T20:47:28.964Z"
   },
   {
    "duration": 1947,
    "start_time": "2022-04-07T20:47:34.821Z"
   },
   {
    "duration": 1919,
    "start_time": "2022-04-07T20:47:47.821Z"
   },
   {
    "duration": 1327,
    "start_time": "2022-04-07T20:48:24.051Z"
   },
   {
    "duration": 2123,
    "start_time": "2022-04-07T20:50:14.379Z"
   },
   {
    "duration": 1552,
    "start_time": "2022-04-07T20:51:03.883Z"
   },
   {
    "duration": 1581,
    "start_time": "2022-04-07T20:51:18.123Z"
   },
   {
    "duration": 1974,
    "start_time": "2022-04-07T20:52:54.106Z"
   },
   {
    "duration": 1379,
    "start_time": "2022-04-07T20:53:51.675Z"
   },
   {
    "duration": 1360,
    "start_time": "2022-04-07T20:54:19.826Z"
   },
   {
    "duration": 3984,
    "start_time": "2022-04-07T20:55:59.009Z"
   },
   {
    "duration": 148,
    "start_time": "2022-04-07T20:58:06.856Z"
   },
   {
    "duration": 94,
    "start_time": "2022-04-07T20:58:24.105Z"
   },
   {
    "duration": 4108,
    "start_time": "2022-04-07T20:58:54.446Z"
   },
   {
    "duration": 4031,
    "start_time": "2022-04-07T21:00:32.495Z"
   },
   {
    "duration": 6059,
    "start_time": "2022-04-07T21:00:47.174Z"
   },
   {
    "duration": 3990,
    "start_time": "2022-04-07T21:01:22.541Z"
   },
   {
    "duration": 4046,
    "start_time": "2022-04-07T21:01:33.192Z"
   },
   {
    "duration": 4230,
    "start_time": "2022-04-07T21:02:05.949Z"
   },
   {
    "duration": 4603,
    "start_time": "2022-04-07T21:02:27.517Z"
   },
   {
    "duration": 4720,
    "start_time": "2022-04-07T21:05:19.205Z"
   },
   {
    "duration": 4683,
    "start_time": "2022-04-07T21:05:42.941Z"
   },
   {
    "duration": 5,
    "start_time": "2022-04-07T21:06:06.678Z"
   },
   {
    "duration": 175,
    "start_time": "2022-04-07T21:06:06.686Z"
   },
   {
    "duration": 168,
    "start_time": "2022-04-07T21:06:06.875Z"
   },
   {
    "duration": 175,
    "start_time": "2022-04-07T21:06:07.046Z"
   },
   {
    "duration": 4,
    "start_time": "2022-04-07T21:06:07.223Z"
   },
   {
    "duration": 548,
    "start_time": "2022-04-07T21:06:07.229Z"
   },
   {
    "duration": 91,
    "start_time": "2022-04-07T21:06:07.784Z"
   },
   {
    "duration": 13,
    "start_time": "2022-04-07T21:06:07.878Z"
   },
   {
    "duration": 21,
    "start_time": "2022-04-07T21:06:07.895Z"
   },
   {
    "duration": 15,
    "start_time": "2022-04-07T21:06:07.919Z"
   },
   {
    "duration": 8,
    "start_time": "2022-04-07T21:06:07.936Z"
   },
   {
    "duration": 48,
    "start_time": "2022-04-07T21:06:07.946Z"
   },
   {
    "duration": 4685,
    "start_time": "2022-04-07T21:06:07.997Z"
   },
   {
    "duration": 5210,
    "start_time": "2022-04-07T21:15:35.800Z"
   },
   {
    "duration": 5,
    "start_time": "2022-04-07T21:15:41.817Z"
   },
   {
    "duration": 185,
    "start_time": "2022-04-07T21:15:41.824Z"
   },
   {
    "duration": 182,
    "start_time": "2022-04-07T21:15:42.012Z"
   },
   {
    "duration": 178,
    "start_time": "2022-04-07T21:15:42.197Z"
   },
   {
    "duration": 3,
    "start_time": "2022-04-07T21:15:42.378Z"
   },
   {
    "duration": 395,
    "start_time": "2022-04-07T21:15:42.384Z"
   },
   {
    "duration": 96,
    "start_time": "2022-04-07T21:15:42.784Z"
   },
   {
    "duration": 100,
    "start_time": "2022-04-07T21:15:42.883Z"
   },
   {
    "duration": 11,
    "start_time": "2022-04-07T21:15:42.986Z"
   },
   {
    "duration": 8,
    "start_time": "2022-04-07T21:15:43.001Z"
   },
   {
    "duration": 6,
    "start_time": "2022-04-07T21:15:43.011Z"
   },
   {
    "duration": 55,
    "start_time": "2022-04-07T21:15:43.019Z"
   },
   {
    "duration": 4872,
    "start_time": "2022-04-07T21:15:43.076Z"
   },
   {
    "duration": 4,
    "start_time": "2022-04-07T21:18:19.800Z"
   },
   {
    "duration": 190,
    "start_time": "2022-04-07T21:18:19.807Z"
   },
   {
    "duration": 175,
    "start_time": "2022-04-07T21:18:20.000Z"
   },
   {
    "duration": 176,
    "start_time": "2022-04-07T21:18:20.178Z"
   },
   {
    "duration": 17,
    "start_time": "2022-04-07T21:18:20.356Z"
   },
   {
    "duration": 306,
    "start_time": "2022-04-07T21:18:20.376Z"
   },
   {
    "duration": 91,
    "start_time": "2022-04-07T21:18:20.684Z"
   },
   {
    "duration": 10,
    "start_time": "2022-04-07T21:18:20.778Z"
   },
   {
    "duration": 100,
    "start_time": "2022-04-07T21:18:20.792Z"
   },
   {
    "duration": 11,
    "start_time": "2022-04-07T21:18:20.894Z"
   },
   {
    "duration": 11,
    "start_time": "2022-04-07T21:18:20.908Z"
   },
   {
    "duration": 32,
    "start_time": "2022-04-07T21:18:20.921Z"
   },
   {
    "duration": 5154,
    "start_time": "2022-04-07T21:18:20.955Z"
   }
  ],
  "kernelspec": {
   "display_name": "Python 3 (ipykernel)",
   "language": "python",
   "name": "python3"
  },
  "language_info": {
   "codemirror_mode": {
    "name": "ipython",
    "version": 3
   },
   "file_extension": ".py",
   "mimetype": "text/x-python",
   "name": "python",
   "nbconvert_exporter": "python",
   "pygments_lexer": "ipython3",
   "version": "3.9.7"
  },
  "toc": {
   "base_numbering": 1,
   "nav_menu": {},
   "number_sections": true,
   "sideBar": true,
   "skip_h1_title": true,
   "title_cell": "Table of Contents",
   "title_sidebar": "Contents",
   "toc_cell": false,
   "toc_position": {},
   "toc_section_display": true,
   "toc_window_display": false
  }
 },
 "nbformat": 4,
 "nbformat_minor": 2
}
