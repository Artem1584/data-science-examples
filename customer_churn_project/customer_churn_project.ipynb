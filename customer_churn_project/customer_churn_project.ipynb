{
 "cells": [
  {
   "cell_type": "markdown",
   "metadata": {},
   "source": [
    "# Отток клиентов"
   ]
  },
  {
   "cell_type": "markdown",
   "metadata": {},
   "source": [
    "Из «Бета-Банка» стали уходить клиенты. Каждый месяц. Немного, но заметно. Банковские маркетологи посчитали: сохранять текущих клиентов дешевле, чем привлекать новых.\n",
    "\n",
    "Нужно спрогнозировать, уйдёт клиент из банка в ближайшее время или нет. Вам предоставлены исторические данные о поведении клиентов и расторжении договоров с банком. \n",
    "\n",
    "Постройте модель с предельно большим значением *F1*-меры. Чтобы сдать проект успешно, нужно довести метрику до 0.59. Проверьте *F1*-меру на тестовой выборке самостоятельно.\n",
    "\n",
    "Дополнительно измеряйте *AUC-ROC*, сравнивайте её значение с *F1*-мерой.\n",
    "\n",
    "Источник данных: [https://www.kaggle.com/barelydedicated/bank-customer-churn-modeling](https://www.kaggle.com/barelydedicated/bank-customer-churn-modeling)"
   ]
  },
  {
   "cell_type": "markdown",
   "metadata": {},
   "source": [
    "## Подготовка данных"
   ]
  },
  {
   "cell_type": "code",
   "execution_count": 1,
   "metadata": {},
   "outputs": [],
   "source": [
    "import pandas as pd\n",
    "from sklearn.model_selection import train_test_split\n",
    "from sklearn.preprocessing import StandardScaler\n",
    "from sklearn.tree import DecisionTreeClassifier\n",
    "from sklearn.metrics import accuracy_score\n",
    "from sklearn.metrics import f1_score \n",
    "from sklearn.metrics import confusion_matrix\n",
    "from sklearn.linear_model import LogisticRegression\n",
    "from sklearn.metrics import recall_score\n",
    "from sklearn.metrics import precision_score \n",
    "from sklearn.utils import shuffle\n",
    "import matplotlib.pyplot as plt\n",
    "from sklearn.metrics import roc_auc_score\n",
    "from sklearn.linear_model import LinearRegression\n",
    "from sklearn.tree import DecisionTreeRegressor\n",
    "from sklearn.ensemble import RandomForestRegressor\n",
    "from sklearn.ensemble import RandomForestClassifier\n",
    "from sklearn.preprocessing import OrdinalEncoder\n",
    "from sklearn.metrics import roc_curve\n",
    "import matplotlib.pyplot as plt"
   ]
  },
  {
   "cell_type": "code",
   "execution_count": 2,
   "metadata": {},
   "outputs": [
    {
     "name": "stdout",
     "output_type": "stream",
     "text": [
      "<class 'pandas.core.frame.DataFrame'>\n",
      "RangeIndex: 10000 entries, 0 to 9999\n",
      "Data columns (total 14 columns):\n",
      " #   Column           Non-Null Count  Dtype  \n",
      "---  ------           --------------  -----  \n",
      " 0   RowNumber        10000 non-null  int64  \n",
      " 1   CustomerId       10000 non-null  int64  \n",
      " 2   Surname          10000 non-null  object \n",
      " 3   CreditScore      10000 non-null  int64  \n",
      " 4   Geography        10000 non-null  object \n",
      " 5   Gender           10000 non-null  object \n",
      " 6   Age              10000 non-null  int64  \n",
      " 7   Tenure           9091 non-null   float64\n",
      " 8   Balance          10000 non-null  float64\n",
      " 9   NumOfProducts    10000 non-null  int64  \n",
      " 10  HasCrCard        10000 non-null  int64  \n",
      " 11  IsActiveMember   10000 non-null  int64  \n",
      " 12  EstimatedSalary  10000 non-null  float64\n",
      " 13  Exited           10000 non-null  int64  \n",
      "dtypes: float64(3), int64(8), object(3)\n",
      "memory usage: 1.1+ MB\n"
     ]
    },
    {
     "data": {
      "text/plain": [
       "None"
      ]
     },
     "metadata": {},
     "output_type": "display_data"
    },
    {
     "data": {
      "text/html": [
       "<div>\n",
       "<style scoped>\n",
       "    .dataframe tbody tr th:only-of-type {\n",
       "        vertical-align: middle;\n",
       "    }\n",
       "\n",
       "    .dataframe tbody tr th {\n",
       "        vertical-align: top;\n",
       "    }\n",
       "\n",
       "    .dataframe thead th {\n",
       "        text-align: right;\n",
       "    }\n",
       "</style>\n",
       "<table border=\"1\" class=\"dataframe\">\n",
       "  <thead>\n",
       "    <tr style=\"text-align: right;\">\n",
       "      <th></th>\n",
       "      <th>RowNumber</th>\n",
       "      <th>CustomerId</th>\n",
       "      <th>Surname</th>\n",
       "      <th>CreditScore</th>\n",
       "      <th>Geography</th>\n",
       "      <th>Gender</th>\n",
       "      <th>Age</th>\n",
       "      <th>Tenure</th>\n",
       "      <th>Balance</th>\n",
       "      <th>NumOfProducts</th>\n",
       "      <th>HasCrCard</th>\n",
       "      <th>IsActiveMember</th>\n",
       "      <th>EstimatedSalary</th>\n",
       "      <th>Exited</th>\n",
       "    </tr>\n",
       "  </thead>\n",
       "  <tbody>\n",
       "    <tr>\n",
       "      <th>0</th>\n",
       "      <td>1</td>\n",
       "      <td>15634602</td>\n",
       "      <td>Hargrave</td>\n",
       "      <td>619</td>\n",
       "      <td>France</td>\n",
       "      <td>Female</td>\n",
       "      <td>42</td>\n",
       "      <td>2.0</td>\n",
       "      <td>0.00</td>\n",
       "      <td>1</td>\n",
       "      <td>1</td>\n",
       "      <td>1</td>\n",
       "      <td>101348.88</td>\n",
       "      <td>1</td>\n",
       "    </tr>\n",
       "    <tr>\n",
       "      <th>1</th>\n",
       "      <td>2</td>\n",
       "      <td>15647311</td>\n",
       "      <td>Hill</td>\n",
       "      <td>608</td>\n",
       "      <td>Spain</td>\n",
       "      <td>Female</td>\n",
       "      <td>41</td>\n",
       "      <td>1.0</td>\n",
       "      <td>83807.86</td>\n",
       "      <td>1</td>\n",
       "      <td>0</td>\n",
       "      <td>1</td>\n",
       "      <td>112542.58</td>\n",
       "      <td>0</td>\n",
       "    </tr>\n",
       "    <tr>\n",
       "      <th>2</th>\n",
       "      <td>3</td>\n",
       "      <td>15619304</td>\n",
       "      <td>Onio</td>\n",
       "      <td>502</td>\n",
       "      <td>France</td>\n",
       "      <td>Female</td>\n",
       "      <td>42</td>\n",
       "      <td>8.0</td>\n",
       "      <td>159660.80</td>\n",
       "      <td>3</td>\n",
       "      <td>1</td>\n",
       "      <td>0</td>\n",
       "      <td>113931.57</td>\n",
       "      <td>1</td>\n",
       "    </tr>\n",
       "    <tr>\n",
       "      <th>3</th>\n",
       "      <td>4</td>\n",
       "      <td>15701354</td>\n",
       "      <td>Boni</td>\n",
       "      <td>699</td>\n",
       "      <td>France</td>\n",
       "      <td>Female</td>\n",
       "      <td>39</td>\n",
       "      <td>1.0</td>\n",
       "      <td>0.00</td>\n",
       "      <td>2</td>\n",
       "      <td>0</td>\n",
       "      <td>0</td>\n",
       "      <td>93826.63</td>\n",
       "      <td>0</td>\n",
       "    </tr>\n",
       "    <tr>\n",
       "      <th>4</th>\n",
       "      <td>5</td>\n",
       "      <td>15737888</td>\n",
       "      <td>Mitchell</td>\n",
       "      <td>850</td>\n",
       "      <td>Spain</td>\n",
       "      <td>Female</td>\n",
       "      <td>43</td>\n",
       "      <td>2.0</td>\n",
       "      <td>125510.82</td>\n",
       "      <td>1</td>\n",
       "      <td>1</td>\n",
       "      <td>1</td>\n",
       "      <td>79084.10</td>\n",
       "      <td>0</td>\n",
       "    </tr>\n",
       "    <tr>\n",
       "      <th>5</th>\n",
       "      <td>6</td>\n",
       "      <td>15574012</td>\n",
       "      <td>Chu</td>\n",
       "      <td>645</td>\n",
       "      <td>Spain</td>\n",
       "      <td>Male</td>\n",
       "      <td>44</td>\n",
       "      <td>8.0</td>\n",
       "      <td>113755.78</td>\n",
       "      <td>2</td>\n",
       "      <td>1</td>\n",
       "      <td>0</td>\n",
       "      <td>149756.71</td>\n",
       "      <td>1</td>\n",
       "    </tr>\n",
       "    <tr>\n",
       "      <th>6</th>\n",
       "      <td>7</td>\n",
       "      <td>15592531</td>\n",
       "      <td>Bartlett</td>\n",
       "      <td>822</td>\n",
       "      <td>France</td>\n",
       "      <td>Male</td>\n",
       "      <td>50</td>\n",
       "      <td>7.0</td>\n",
       "      <td>0.00</td>\n",
       "      <td>2</td>\n",
       "      <td>1</td>\n",
       "      <td>1</td>\n",
       "      <td>10062.80</td>\n",
       "      <td>0</td>\n",
       "    </tr>\n",
       "    <tr>\n",
       "      <th>7</th>\n",
       "      <td>8</td>\n",
       "      <td>15656148</td>\n",
       "      <td>Obinna</td>\n",
       "      <td>376</td>\n",
       "      <td>Germany</td>\n",
       "      <td>Female</td>\n",
       "      <td>29</td>\n",
       "      <td>4.0</td>\n",
       "      <td>115046.74</td>\n",
       "      <td>4</td>\n",
       "      <td>1</td>\n",
       "      <td>0</td>\n",
       "      <td>119346.88</td>\n",
       "      <td>1</td>\n",
       "    </tr>\n",
       "    <tr>\n",
       "      <th>8</th>\n",
       "      <td>9</td>\n",
       "      <td>15792365</td>\n",
       "      <td>He</td>\n",
       "      <td>501</td>\n",
       "      <td>France</td>\n",
       "      <td>Male</td>\n",
       "      <td>44</td>\n",
       "      <td>4.0</td>\n",
       "      <td>142051.07</td>\n",
       "      <td>2</td>\n",
       "      <td>0</td>\n",
       "      <td>1</td>\n",
       "      <td>74940.50</td>\n",
       "      <td>0</td>\n",
       "    </tr>\n",
       "    <tr>\n",
       "      <th>9</th>\n",
       "      <td>10</td>\n",
       "      <td>15592389</td>\n",
       "      <td>H?</td>\n",
       "      <td>684</td>\n",
       "      <td>France</td>\n",
       "      <td>Male</td>\n",
       "      <td>27</td>\n",
       "      <td>2.0</td>\n",
       "      <td>134603.88</td>\n",
       "      <td>1</td>\n",
       "      <td>1</td>\n",
       "      <td>1</td>\n",
       "      <td>71725.73</td>\n",
       "      <td>0</td>\n",
       "    </tr>\n",
       "  </tbody>\n",
       "</table>\n",
       "</div>"
      ],
      "text/plain": [
       "   RowNumber  CustomerId   Surname  CreditScore Geography  Gender  Age  \\\n",
       "0          1    15634602  Hargrave          619    France  Female   42   \n",
       "1          2    15647311      Hill          608     Spain  Female   41   \n",
       "2          3    15619304      Onio          502    France  Female   42   \n",
       "3          4    15701354      Boni          699    France  Female   39   \n",
       "4          5    15737888  Mitchell          850     Spain  Female   43   \n",
       "5          6    15574012       Chu          645     Spain    Male   44   \n",
       "6          7    15592531  Bartlett          822    France    Male   50   \n",
       "7          8    15656148    Obinna          376   Germany  Female   29   \n",
       "8          9    15792365        He          501    France    Male   44   \n",
       "9         10    15592389        H?          684    France    Male   27   \n",
       "\n",
       "   Tenure    Balance  NumOfProducts  HasCrCard  IsActiveMember  \\\n",
       "0     2.0       0.00              1          1               1   \n",
       "1     1.0   83807.86              1          0               1   \n",
       "2     8.0  159660.80              3          1               0   \n",
       "3     1.0       0.00              2          0               0   \n",
       "4     2.0  125510.82              1          1               1   \n",
       "5     8.0  113755.78              2          1               0   \n",
       "6     7.0       0.00              2          1               1   \n",
       "7     4.0  115046.74              4          1               0   \n",
       "8     4.0  142051.07              2          0               1   \n",
       "9     2.0  134603.88              1          1               1   \n",
       "\n",
       "   EstimatedSalary  Exited  \n",
       "0        101348.88       1  \n",
       "1        112542.58       0  \n",
       "2        113931.57       1  \n",
       "3         93826.63       0  \n",
       "4         79084.10       0  \n",
       "5        149756.71       1  \n",
       "6         10062.80       0  \n",
       "7        119346.88       1  \n",
       "8         74940.50       0  \n",
       "9         71725.73       0  "
      ]
     },
     "execution_count": 2,
     "metadata": {},
     "output_type": "execute_result"
    }
   ],
   "source": [
    "df = pd.read_csv('/datasets/Churn.csv')\n",
    "display(df.info())\n",
    "df.head(10)"
   ]
  },
  {
   "cell_type": "code",
   "execution_count": 3,
   "metadata": {},
   "outputs": [],
   "source": [
    "# Пропущенные значения в столбце Tenure заменю на ноль. \n",
    "# Думаю пропущенные значения появились так как клиент или недавно открыл счет, или пользуется меньше года.\n",
    "df['Tenure'] = df['Tenure'].fillna(0)"
   ]
  },
  {
   "cell_type": "code",
   "execution_count": 4,
   "metadata": {},
   "outputs": [
    {
     "data": {
      "text/html": [
       "<div>\n",
       "<style scoped>\n",
       "    .dataframe tbody tr th:only-of-type {\n",
       "        vertical-align: middle;\n",
       "    }\n",
       "\n",
       "    .dataframe tbody tr th {\n",
       "        vertical-align: top;\n",
       "    }\n",
       "\n",
       "    .dataframe thead th {\n",
       "        text-align: right;\n",
       "    }\n",
       "</style>\n",
       "<table border=\"1\" class=\"dataframe\">\n",
       "  <thead>\n",
       "    <tr style=\"text-align: right;\">\n",
       "      <th></th>\n",
       "      <th>RowNumber</th>\n",
       "      <th>CustomerId</th>\n",
       "      <th>CreditScore</th>\n",
       "      <th>Age</th>\n",
       "      <th>Tenure</th>\n",
       "      <th>Balance</th>\n",
       "      <th>NumOfProducts</th>\n",
       "      <th>HasCrCard</th>\n",
       "      <th>IsActiveMember</th>\n",
       "      <th>EstimatedSalary</th>\n",
       "      <th>...</th>\n",
       "      <th>Surname_Zotova</th>\n",
       "      <th>Surname_Zox</th>\n",
       "      <th>Surname_Zubarev</th>\n",
       "      <th>Surname_Zubareva</th>\n",
       "      <th>Surname_Zuev</th>\n",
       "      <th>Surname_Zuyev</th>\n",
       "      <th>Surname_Zuyeva</th>\n",
       "      <th>Geography_Germany</th>\n",
       "      <th>Geography_Spain</th>\n",
       "      <th>Gender_Male</th>\n",
       "    </tr>\n",
       "  </thead>\n",
       "  <tbody>\n",
       "    <tr>\n",
       "      <th>0</th>\n",
       "      <td>1</td>\n",
       "      <td>15634602</td>\n",
       "      <td>619</td>\n",
       "      <td>42</td>\n",
       "      <td>2.0</td>\n",
       "      <td>0.00</td>\n",
       "      <td>1</td>\n",
       "      <td>1</td>\n",
       "      <td>1</td>\n",
       "      <td>101348.88</td>\n",
       "      <td>...</td>\n",
       "      <td>0</td>\n",
       "      <td>0</td>\n",
       "      <td>0</td>\n",
       "      <td>0</td>\n",
       "      <td>0</td>\n",
       "      <td>0</td>\n",
       "      <td>0</td>\n",
       "      <td>0</td>\n",
       "      <td>0</td>\n",
       "      <td>0</td>\n",
       "    </tr>\n",
       "    <tr>\n",
       "      <th>1</th>\n",
       "      <td>2</td>\n",
       "      <td>15647311</td>\n",
       "      <td>608</td>\n",
       "      <td>41</td>\n",
       "      <td>1.0</td>\n",
       "      <td>83807.86</td>\n",
       "      <td>1</td>\n",
       "      <td>0</td>\n",
       "      <td>1</td>\n",
       "      <td>112542.58</td>\n",
       "      <td>...</td>\n",
       "      <td>0</td>\n",
       "      <td>0</td>\n",
       "      <td>0</td>\n",
       "      <td>0</td>\n",
       "      <td>0</td>\n",
       "      <td>0</td>\n",
       "      <td>0</td>\n",
       "      <td>0</td>\n",
       "      <td>1</td>\n",
       "      <td>0</td>\n",
       "    </tr>\n",
       "    <tr>\n",
       "      <th>2</th>\n",
       "      <td>3</td>\n",
       "      <td>15619304</td>\n",
       "      <td>502</td>\n",
       "      <td>42</td>\n",
       "      <td>8.0</td>\n",
       "      <td>159660.80</td>\n",
       "      <td>3</td>\n",
       "      <td>1</td>\n",
       "      <td>0</td>\n",
       "      <td>113931.57</td>\n",
       "      <td>...</td>\n",
       "      <td>0</td>\n",
       "      <td>0</td>\n",
       "      <td>0</td>\n",
       "      <td>0</td>\n",
       "      <td>0</td>\n",
       "      <td>0</td>\n",
       "      <td>0</td>\n",
       "      <td>0</td>\n",
       "      <td>0</td>\n",
       "      <td>0</td>\n",
       "    </tr>\n",
       "    <tr>\n",
       "      <th>3</th>\n",
       "      <td>4</td>\n",
       "      <td>15701354</td>\n",
       "      <td>699</td>\n",
       "      <td>39</td>\n",
       "      <td>1.0</td>\n",
       "      <td>0.00</td>\n",
       "      <td>2</td>\n",
       "      <td>0</td>\n",
       "      <td>0</td>\n",
       "      <td>93826.63</td>\n",
       "      <td>...</td>\n",
       "      <td>0</td>\n",
       "      <td>0</td>\n",
       "      <td>0</td>\n",
       "      <td>0</td>\n",
       "      <td>0</td>\n",
       "      <td>0</td>\n",
       "      <td>0</td>\n",
       "      <td>0</td>\n",
       "      <td>0</td>\n",
       "      <td>0</td>\n",
       "    </tr>\n",
       "    <tr>\n",
       "      <th>4</th>\n",
       "      <td>5</td>\n",
       "      <td>15737888</td>\n",
       "      <td>850</td>\n",
       "      <td>43</td>\n",
       "      <td>2.0</td>\n",
       "      <td>125510.82</td>\n",
       "      <td>1</td>\n",
       "      <td>1</td>\n",
       "      <td>1</td>\n",
       "      <td>79084.10</td>\n",
       "      <td>...</td>\n",
       "      <td>0</td>\n",
       "      <td>0</td>\n",
       "      <td>0</td>\n",
       "      <td>0</td>\n",
       "      <td>0</td>\n",
       "      <td>0</td>\n",
       "      <td>0</td>\n",
       "      <td>0</td>\n",
       "      <td>1</td>\n",
       "      <td>0</td>\n",
       "    </tr>\n",
       "    <tr>\n",
       "      <th>...</th>\n",
       "      <td>...</td>\n",
       "      <td>...</td>\n",
       "      <td>...</td>\n",
       "      <td>...</td>\n",
       "      <td>...</td>\n",
       "      <td>...</td>\n",
       "      <td>...</td>\n",
       "      <td>...</td>\n",
       "      <td>...</td>\n",
       "      <td>...</td>\n",
       "      <td>...</td>\n",
       "      <td>...</td>\n",
       "      <td>...</td>\n",
       "      <td>...</td>\n",
       "      <td>...</td>\n",
       "      <td>...</td>\n",
       "      <td>...</td>\n",
       "      <td>...</td>\n",
       "      <td>...</td>\n",
       "      <td>...</td>\n",
       "      <td>...</td>\n",
       "    </tr>\n",
       "    <tr>\n",
       "      <th>9995</th>\n",
       "      <td>9996</td>\n",
       "      <td>15606229</td>\n",
       "      <td>771</td>\n",
       "      <td>39</td>\n",
       "      <td>5.0</td>\n",
       "      <td>0.00</td>\n",
       "      <td>2</td>\n",
       "      <td>1</td>\n",
       "      <td>0</td>\n",
       "      <td>96270.64</td>\n",
       "      <td>...</td>\n",
       "      <td>0</td>\n",
       "      <td>0</td>\n",
       "      <td>0</td>\n",
       "      <td>0</td>\n",
       "      <td>0</td>\n",
       "      <td>0</td>\n",
       "      <td>0</td>\n",
       "      <td>0</td>\n",
       "      <td>0</td>\n",
       "      <td>1</td>\n",
       "    </tr>\n",
       "    <tr>\n",
       "      <th>9996</th>\n",
       "      <td>9997</td>\n",
       "      <td>15569892</td>\n",
       "      <td>516</td>\n",
       "      <td>35</td>\n",
       "      <td>10.0</td>\n",
       "      <td>57369.61</td>\n",
       "      <td>1</td>\n",
       "      <td>1</td>\n",
       "      <td>1</td>\n",
       "      <td>101699.77</td>\n",
       "      <td>...</td>\n",
       "      <td>0</td>\n",
       "      <td>0</td>\n",
       "      <td>0</td>\n",
       "      <td>0</td>\n",
       "      <td>0</td>\n",
       "      <td>0</td>\n",
       "      <td>0</td>\n",
       "      <td>0</td>\n",
       "      <td>0</td>\n",
       "      <td>1</td>\n",
       "    </tr>\n",
       "    <tr>\n",
       "      <th>9997</th>\n",
       "      <td>9998</td>\n",
       "      <td>15584532</td>\n",
       "      <td>709</td>\n",
       "      <td>36</td>\n",
       "      <td>7.0</td>\n",
       "      <td>0.00</td>\n",
       "      <td>1</td>\n",
       "      <td>0</td>\n",
       "      <td>1</td>\n",
       "      <td>42085.58</td>\n",
       "      <td>...</td>\n",
       "      <td>0</td>\n",
       "      <td>0</td>\n",
       "      <td>0</td>\n",
       "      <td>0</td>\n",
       "      <td>0</td>\n",
       "      <td>0</td>\n",
       "      <td>0</td>\n",
       "      <td>0</td>\n",
       "      <td>0</td>\n",
       "      <td>0</td>\n",
       "    </tr>\n",
       "    <tr>\n",
       "      <th>9998</th>\n",
       "      <td>9999</td>\n",
       "      <td>15682355</td>\n",
       "      <td>772</td>\n",
       "      <td>42</td>\n",
       "      <td>3.0</td>\n",
       "      <td>75075.31</td>\n",
       "      <td>2</td>\n",
       "      <td>1</td>\n",
       "      <td>0</td>\n",
       "      <td>92888.52</td>\n",
       "      <td>...</td>\n",
       "      <td>0</td>\n",
       "      <td>0</td>\n",
       "      <td>0</td>\n",
       "      <td>0</td>\n",
       "      <td>0</td>\n",
       "      <td>0</td>\n",
       "      <td>0</td>\n",
       "      <td>1</td>\n",
       "      <td>0</td>\n",
       "      <td>1</td>\n",
       "    </tr>\n",
       "    <tr>\n",
       "      <th>9999</th>\n",
       "      <td>10000</td>\n",
       "      <td>15628319</td>\n",
       "      <td>792</td>\n",
       "      <td>28</td>\n",
       "      <td>0.0</td>\n",
       "      <td>130142.79</td>\n",
       "      <td>1</td>\n",
       "      <td>1</td>\n",
       "      <td>0</td>\n",
       "      <td>38190.78</td>\n",
       "      <td>...</td>\n",
       "      <td>0</td>\n",
       "      <td>0</td>\n",
       "      <td>0</td>\n",
       "      <td>0</td>\n",
       "      <td>0</td>\n",
       "      <td>0</td>\n",
       "      <td>0</td>\n",
       "      <td>0</td>\n",
       "      <td>0</td>\n",
       "      <td>0</td>\n",
       "    </tr>\n",
       "  </tbody>\n",
       "</table>\n",
       "<p>10000 rows × 2944 columns</p>\n",
       "</div>"
      ],
      "text/plain": [
       "      RowNumber  CustomerId  CreditScore  Age  Tenure    Balance  \\\n",
       "0             1    15634602          619   42     2.0       0.00   \n",
       "1             2    15647311          608   41     1.0   83807.86   \n",
       "2             3    15619304          502   42     8.0  159660.80   \n",
       "3             4    15701354          699   39     1.0       0.00   \n",
       "4             5    15737888          850   43     2.0  125510.82   \n",
       "...         ...         ...          ...  ...     ...        ...   \n",
       "9995       9996    15606229          771   39     5.0       0.00   \n",
       "9996       9997    15569892          516   35    10.0   57369.61   \n",
       "9997       9998    15584532          709   36     7.0       0.00   \n",
       "9998       9999    15682355          772   42     3.0   75075.31   \n",
       "9999      10000    15628319          792   28     0.0  130142.79   \n",
       "\n",
       "      NumOfProducts  HasCrCard  IsActiveMember  EstimatedSalary  ...  \\\n",
       "0                 1          1               1        101348.88  ...   \n",
       "1                 1          0               1        112542.58  ...   \n",
       "2                 3          1               0        113931.57  ...   \n",
       "3                 2          0               0         93826.63  ...   \n",
       "4                 1          1               1         79084.10  ...   \n",
       "...             ...        ...             ...              ...  ...   \n",
       "9995              2          1               0         96270.64  ...   \n",
       "9996              1          1               1        101699.77  ...   \n",
       "9997              1          0               1         42085.58  ...   \n",
       "9998              2          1               0         92888.52  ...   \n",
       "9999              1          1               0         38190.78  ...   \n",
       "\n",
       "      Surname_Zotova  Surname_Zox  Surname_Zubarev  Surname_Zubareva  \\\n",
       "0                  0            0                0                 0   \n",
       "1                  0            0                0                 0   \n",
       "2                  0            0                0                 0   \n",
       "3                  0            0                0                 0   \n",
       "4                  0            0                0                 0   \n",
       "...              ...          ...              ...               ...   \n",
       "9995               0            0                0                 0   \n",
       "9996               0            0                0                 0   \n",
       "9997               0            0                0                 0   \n",
       "9998               0            0                0                 0   \n",
       "9999               0            0                0                 0   \n",
       "\n",
       "      Surname_Zuev  Surname_Zuyev  Surname_Zuyeva  Geography_Germany  \\\n",
       "0                0              0               0                  0   \n",
       "1                0              0               0                  0   \n",
       "2                0              0               0                  0   \n",
       "3                0              0               0                  0   \n",
       "4                0              0               0                  0   \n",
       "...            ...            ...             ...                ...   \n",
       "9995             0              0               0                  0   \n",
       "9996             0              0               0                  0   \n",
       "9997             0              0               0                  0   \n",
       "9998             0              0               0                  1   \n",
       "9999             0              0               0                  0   \n",
       "\n",
       "      Geography_Spain  Gender_Male  \n",
       "0                   0            0  \n",
       "1                   1            0  \n",
       "2                   0            0  \n",
       "3                   0            0  \n",
       "4                   1            0  \n",
       "...               ...          ...  \n",
       "9995                0            1  \n",
       "9996                0            1  \n",
       "9997                0            0  \n",
       "9998                0            1  \n",
       "9999                0            0  \n",
       "\n",
       "[10000 rows x 2944 columns]"
      ]
     },
     "execution_count": 4,
     "metadata": {},
     "output_type": "execute_result"
    }
   ],
   "source": [
    "df_ohe = pd.get_dummies(df, drop_first=True) # прямое кодирование признаков с использованием дамми ловушек\n",
    "target = df_ohe['Exited']\n",
    "features = df_ohe.drop('Exited', axis=1)\n",
    "\n",
    "features"
   ]
  },
  {
   "cell_type": "code",
   "execution_count": 5,
   "metadata": {},
   "outputs": [],
   "source": [
    "# отделил обучающаую выборку, взял 75%\n",
    "features_train, features_rest, target_train, target_rest = train_test_split(features, target, test_size=0.25, random_state=12345)\n",
    "\n",
    "# отделил валидационную и тестовую выборки 50/50\n",
    "features_test, features_valid, target_test, target_valid = train_test_split(features_rest, target_rest, test_size=0.5, random_state=12345)"
   ]
  },
  {
   "cell_type": "code",
   "execution_count": 6,
   "metadata": {},
   "outputs": [
    {
     "name": "stderr",
     "output_type": "stream",
     "text": [
      "/tmp/ipykernel_158/771139264.py:6: SettingWithCopyWarning: \n",
      "A value is trying to be set on a copy of a slice from a DataFrame.\n",
      "Try using .loc[row_indexer,col_indexer] = value instead\n",
      "\n",
      "See the caveats in the documentation: https://pandas.pydata.org/pandas-docs/stable/user_guide/indexing.html#returning-a-view-versus-a-copy\n",
      "  features_train[numeric] = scaler.transform(features_train[numeric])\n",
      "/opt/conda/lib/python3.9/site-packages/pandas/core/indexing.py:1738: SettingWithCopyWarning: \n",
      "A value is trying to be set on a copy of a slice from a DataFrame.\n",
      "Try using .loc[row_indexer,col_indexer] = value instead\n",
      "\n",
      "See the caveats in the documentation: https://pandas.pydata.org/pandas-docs/stable/user_guide/indexing.html#returning-a-view-versus-a-copy\n",
      "  self._setitem_single_column(loc, value[:, i].tolist(), pi)\n",
      "/tmp/ipykernel_158/771139264.py:7: SettingWithCopyWarning: \n",
      "A value is trying to be set on a copy of a slice from a DataFrame.\n",
      "Try using .loc[row_indexer,col_indexer] = value instead\n",
      "\n",
      "See the caveats in the documentation: https://pandas.pydata.org/pandas-docs/stable/user_guide/indexing.html#returning-a-view-versus-a-copy\n",
      "  features_valid[numeric] = scaler.transform(features_valid[numeric])\n",
      "/opt/conda/lib/python3.9/site-packages/pandas/core/indexing.py:1738: SettingWithCopyWarning: \n",
      "A value is trying to be set on a copy of a slice from a DataFrame.\n",
      "Try using .loc[row_indexer,col_indexer] = value instead\n",
      "\n",
      "See the caveats in the documentation: https://pandas.pydata.org/pandas-docs/stable/user_guide/indexing.html#returning-a-view-versus-a-copy\n",
      "  self._setitem_single_column(loc, value[:, i].tolist(), pi)\n",
      "/tmp/ipykernel_158/771139264.py:8: SettingWithCopyWarning: \n",
      "A value is trying to be set on a copy of a slice from a DataFrame.\n",
      "Try using .loc[row_indexer,col_indexer] = value instead\n",
      "\n",
      "See the caveats in the documentation: https://pandas.pydata.org/pandas-docs/stable/user_guide/indexing.html#returning-a-view-versus-a-copy\n",
      "  features_test[numeric] = scaler.transform(features_test[numeric])\n",
      "/opt/conda/lib/python3.9/site-packages/pandas/core/indexing.py:1738: SettingWithCopyWarning: \n",
      "A value is trying to be set on a copy of a slice from a DataFrame.\n",
      "Try using .loc[row_indexer,col_indexer] = value instead\n",
      "\n",
      "See the caveats in the documentation: https://pandas.pydata.org/pandas-docs/stable/user_guide/indexing.html#returning-a-view-versus-a-copy\n",
      "  self._setitem_single_column(loc, value[:, i].tolist(), pi)\n"
     ]
    }
   ],
   "source": [
    "# маштабирую количественные признаки\n",
    "numeric = ['RowNumber','CreditScore', 'Age', 'Tenure', 'Balance', 'EstimatedSalary', 'NumOfProducts', 'HasCrCard', 'IsActiveMember', 'CustomerId']\n",
    "\n",
    "scaler = StandardScaler()\n",
    "scaler.fit(features_train[numeric])\n",
    "features_train[numeric] = scaler.transform(features_train[numeric])\n",
    "features_valid[numeric] = scaler.transform(features_valid[numeric])\n",
    "features_test[numeric] = scaler.transform(features_test[numeric])"
   ]
  },
  {
   "cell_type": "code",
   "execution_count": 7,
   "metadata": {},
   "outputs": [
    {
     "data": {
      "text/html": [
       "<div>\n",
       "<style scoped>\n",
       "    .dataframe tbody tr th:only-of-type {\n",
       "        vertical-align: middle;\n",
       "    }\n",
       "\n",
       "    .dataframe tbody tr th {\n",
       "        vertical-align: top;\n",
       "    }\n",
       "\n",
       "    .dataframe thead th {\n",
       "        text-align: right;\n",
       "    }\n",
       "</style>\n",
       "<table border=\"1\" class=\"dataframe\">\n",
       "  <thead>\n",
       "    <tr style=\"text-align: right;\">\n",
       "      <th></th>\n",
       "      <th>RowNumber</th>\n",
       "      <th>CustomerId</th>\n",
       "      <th>CreditScore</th>\n",
       "      <th>Age</th>\n",
       "      <th>Tenure</th>\n",
       "      <th>Balance</th>\n",
       "      <th>NumOfProducts</th>\n",
       "      <th>HasCrCard</th>\n",
       "      <th>IsActiveMember</th>\n",
       "      <th>EstimatedSalary</th>\n",
       "      <th>...</th>\n",
       "      <th>Surname_Zotova</th>\n",
       "      <th>Surname_Zox</th>\n",
       "      <th>Surname_Zubarev</th>\n",
       "      <th>Surname_Zubareva</th>\n",
       "      <th>Surname_Zuev</th>\n",
       "      <th>Surname_Zuyev</th>\n",
       "      <th>Surname_Zuyeva</th>\n",
       "      <th>Geography_Germany</th>\n",
       "      <th>Geography_Spain</th>\n",
       "      <th>Gender_Male</th>\n",
       "    </tr>\n",
       "  </thead>\n",
       "  <tbody>\n",
       "    <tr>\n",
       "      <th>226</th>\n",
       "      <td>-1.642934</td>\n",
       "      <td>1.153912</td>\n",
       "      <td>0.442805</td>\n",
       "      <td>-0.841274</td>\n",
       "      <td>1.426885</td>\n",
       "      <td>-1.224577</td>\n",
       "      <td>0.817772</td>\n",
       "      <td>0.644278</td>\n",
       "      <td>0.959999</td>\n",
       "      <td>-1.269750</td>\n",
       "      <td>...</td>\n",
       "      <td>0</td>\n",
       "      <td>0</td>\n",
       "      <td>0</td>\n",
       "      <td>0</td>\n",
       "      <td>0</td>\n",
       "      <td>0</td>\n",
       "      <td>0</td>\n",
       "      <td>0</td>\n",
       "      <td>0</td>\n",
       "      <td>0</td>\n",
       "    </tr>\n",
       "    <tr>\n",
       "      <th>7756</th>\n",
       "      <td>0.961172</td>\n",
       "      <td>-1.180135</td>\n",
       "      <td>-0.310897</td>\n",
       "      <td>-0.270730</td>\n",
       "      <td>0.784858</td>\n",
       "      <td>0.641783</td>\n",
       "      <td>-0.896874</td>\n",
       "      <td>0.644278</td>\n",
       "      <td>0.959999</td>\n",
       "      <td>0.960396</td>\n",
       "      <td>...</td>\n",
       "      <td>0</td>\n",
       "      <td>0</td>\n",
       "      <td>0</td>\n",
       "      <td>0</td>\n",
       "      <td>0</td>\n",
       "      <td>0</td>\n",
       "      <td>0</td>\n",
       "      <td>0</td>\n",
       "      <td>1</td>\n",
       "      <td>0</td>\n",
       "    </tr>\n",
       "    <tr>\n",
       "      <th>2065</th>\n",
       "      <td>-1.006951</td>\n",
       "      <td>-1.518692</td>\n",
       "      <td>-0.259274</td>\n",
       "      <td>-0.556002</td>\n",
       "      <td>1.105871</td>\n",
       "      <td>-1.224577</td>\n",
       "      <td>0.817772</td>\n",
       "      <td>0.644278</td>\n",
       "      <td>-1.041667</td>\n",
       "      <td>0.661864</td>\n",
       "      <td>...</td>\n",
       "      <td>0</td>\n",
       "      <td>0</td>\n",
       "      <td>0</td>\n",
       "      <td>0</td>\n",
       "      <td>0</td>\n",
       "      <td>0</td>\n",
       "      <td>0</td>\n",
       "      <td>0</td>\n",
       "      <td>0</td>\n",
       "      <td>1</td>\n",
       "    </tr>\n",
       "    <tr>\n",
       "      <th>2800</th>\n",
       "      <td>-0.752766</td>\n",
       "      <td>-0.616822</td>\n",
       "      <td>1.217157</td>\n",
       "      <td>1.155631</td>\n",
       "      <td>1.426885</td>\n",
       "      <td>1.290462</td>\n",
       "      <td>0.817772</td>\n",
       "      <td>0.644278</td>\n",
       "      <td>-1.041667</td>\n",
       "      <td>-1.039476</td>\n",
       "      <td>...</td>\n",
       "      <td>0</td>\n",
       "      <td>0</td>\n",
       "      <td>0</td>\n",
       "      <td>0</td>\n",
       "      <td>0</td>\n",
       "      <td>0</td>\n",
       "      <td>0</td>\n",
       "      <td>0</td>\n",
       "      <td>0</td>\n",
       "      <td>1</td>\n",
       "    </tr>\n",
       "    <tr>\n",
       "      <th>7028</th>\n",
       "      <td>0.709407</td>\n",
       "      <td>-1.011106</td>\n",
       "      <td>0.690598</td>\n",
       "      <td>-1.221637</td>\n",
       "      <td>-1.462240</td>\n",
       "      <td>1.142121</td>\n",
       "      <td>-0.896874</td>\n",
       "      <td>-1.552125</td>\n",
       "      <td>-1.041667</td>\n",
       "      <td>-0.851729</td>\n",
       "      <td>...</td>\n",
       "      <td>0</td>\n",
       "      <td>0</td>\n",
       "      <td>0</td>\n",
       "      <td>0</td>\n",
       "      <td>0</td>\n",
       "      <td>0</td>\n",
       "      <td>0</td>\n",
       "      <td>1</td>\n",
       "      <td>0</td>\n",
       "      <td>1</td>\n",
       "    </tr>\n",
       "    <tr>\n",
       "      <th>6894</th>\n",
       "      <td>0.663066</td>\n",
       "      <td>0.224629</td>\n",
       "      <td>0.401507</td>\n",
       "      <td>-1.221637</td>\n",
       "      <td>1.105871</td>\n",
       "      <td>0.641455</td>\n",
       "      <td>-0.896874</td>\n",
       "      <td>0.644278</td>\n",
       "      <td>0.959999</td>\n",
       "      <td>-0.294925</td>\n",
       "      <td>...</td>\n",
       "      <td>0</td>\n",
       "      <td>0</td>\n",
       "      <td>0</td>\n",
       "      <td>0</td>\n",
       "      <td>0</td>\n",
       "      <td>0</td>\n",
       "      <td>0</td>\n",
       "      <td>0</td>\n",
       "      <td>1</td>\n",
       "      <td>1</td>\n",
       "    </tr>\n",
       "    <tr>\n",
       "      <th>4226</th>\n",
       "      <td>-0.259611</td>\n",
       "      <td>0.859965</td>\n",
       "      <td>-0.001156</td>\n",
       "      <td>-0.270730</td>\n",
       "      <td>1.105871</td>\n",
       "      <td>-1.224577</td>\n",
       "      <td>0.817772</td>\n",
       "      <td>0.644278</td>\n",
       "      <td>-1.041667</td>\n",
       "      <td>-0.149472</td>\n",
       "      <td>...</td>\n",
       "      <td>0</td>\n",
       "      <td>0</td>\n",
       "      <td>0</td>\n",
       "      <td>0</td>\n",
       "      <td>0</td>\n",
       "      <td>0</td>\n",
       "      <td>0</td>\n",
       "      <td>0</td>\n",
       "      <td>1</td>\n",
       "      <td>0</td>\n",
       "    </tr>\n",
       "    <tr>\n",
       "      <th>5857</th>\n",
       "      <td>0.304439</td>\n",
       "      <td>1.698917</td>\n",
       "      <td>-0.589664</td>\n",
       "      <td>1.631085</td>\n",
       "      <td>-1.462240</td>\n",
       "      <td>-1.224577</td>\n",
       "      <td>-0.896874</td>\n",
       "      <td>0.644278</td>\n",
       "      <td>-1.041667</td>\n",
       "      <td>-1.282642</td>\n",
       "      <td>...</td>\n",
       "      <td>0</td>\n",
       "      <td>0</td>\n",
       "      <td>0</td>\n",
       "      <td>0</td>\n",
       "      <td>0</td>\n",
       "      <td>0</td>\n",
       "      <td>0</td>\n",
       "      <td>0</td>\n",
       "      <td>0</td>\n",
       "      <td>0</td>\n",
       "    </tr>\n",
       "    <tr>\n",
       "      <th>142</th>\n",
       "      <td>-1.671984</td>\n",
       "      <td>-0.875986</td>\n",
       "      <td>0.318909</td>\n",
       "      <td>0.394906</td>\n",
       "      <td>0.142830</td>\n",
       "      <td>0.794399</td>\n",
       "      <td>-0.896874</td>\n",
       "      <td>0.644278</td>\n",
       "      <td>0.959999</td>\n",
       "      <td>1.611082</td>\n",
       "      <td>...</td>\n",
       "      <td>0</td>\n",
       "      <td>0</td>\n",
       "      <td>0</td>\n",
       "      <td>0</td>\n",
       "      <td>0</td>\n",
       "      <td>0</td>\n",
       "      <td>0</td>\n",
       "      <td>0</td>\n",
       "      <td>0</td>\n",
       "      <td>0</td>\n",
       "    </tr>\n",
       "    <tr>\n",
       "      <th>7107</th>\n",
       "      <td>0.736727</td>\n",
       "      <td>1.056267</td>\n",
       "      <td>0.618325</td>\n",
       "      <td>0.585087</td>\n",
       "      <td>-1.141226</td>\n",
       "      <td>0.339342</td>\n",
       "      <td>0.817772</td>\n",
       "      <td>0.644278</td>\n",
       "      <td>-1.041667</td>\n",
       "      <td>-0.860196</td>\n",
       "      <td>...</td>\n",
       "      <td>0</td>\n",
       "      <td>0</td>\n",
       "      <td>0</td>\n",
       "      <td>0</td>\n",
       "      <td>0</td>\n",
       "      <td>0</td>\n",
       "      <td>0</td>\n",
       "      <td>1</td>\n",
       "      <td>0</td>\n",
       "      <td>0</td>\n",
       "    </tr>\n",
       "  </tbody>\n",
       "</table>\n",
       "<p>10 rows × 2944 columns</p>\n",
       "</div>"
      ],
      "text/plain": [
       "      RowNumber  CustomerId  CreditScore       Age    Tenure   Balance  \\\n",
       "226   -1.642934    1.153912     0.442805 -0.841274  1.426885 -1.224577   \n",
       "7756   0.961172   -1.180135    -0.310897 -0.270730  0.784858  0.641783   \n",
       "2065  -1.006951   -1.518692    -0.259274 -0.556002  1.105871 -1.224577   \n",
       "2800  -0.752766   -0.616822     1.217157  1.155631  1.426885  1.290462   \n",
       "7028   0.709407   -1.011106     0.690598 -1.221637 -1.462240  1.142121   \n",
       "6894   0.663066    0.224629     0.401507 -1.221637  1.105871  0.641455   \n",
       "4226  -0.259611    0.859965    -0.001156 -0.270730  1.105871 -1.224577   \n",
       "5857   0.304439    1.698917    -0.589664  1.631085 -1.462240 -1.224577   \n",
       "142   -1.671984   -0.875986     0.318909  0.394906  0.142830  0.794399   \n",
       "7107   0.736727    1.056267     0.618325  0.585087 -1.141226  0.339342   \n",
       "\n",
       "      NumOfProducts  HasCrCard  IsActiveMember  EstimatedSalary  ...  \\\n",
       "226        0.817772   0.644278        0.959999        -1.269750  ...   \n",
       "7756      -0.896874   0.644278        0.959999         0.960396  ...   \n",
       "2065       0.817772   0.644278       -1.041667         0.661864  ...   \n",
       "2800       0.817772   0.644278       -1.041667        -1.039476  ...   \n",
       "7028      -0.896874  -1.552125       -1.041667        -0.851729  ...   \n",
       "6894      -0.896874   0.644278        0.959999        -0.294925  ...   \n",
       "4226       0.817772   0.644278       -1.041667        -0.149472  ...   \n",
       "5857      -0.896874   0.644278       -1.041667        -1.282642  ...   \n",
       "142       -0.896874   0.644278        0.959999         1.611082  ...   \n",
       "7107       0.817772   0.644278       -1.041667        -0.860196  ...   \n",
       "\n",
       "      Surname_Zotova  Surname_Zox  Surname_Zubarev  Surname_Zubareva  \\\n",
       "226                0            0                0                 0   \n",
       "7756               0            0                0                 0   \n",
       "2065               0            0                0                 0   \n",
       "2800               0            0                0                 0   \n",
       "7028               0            0                0                 0   \n",
       "6894               0            0                0                 0   \n",
       "4226               0            0                0                 0   \n",
       "5857               0            0                0                 0   \n",
       "142                0            0                0                 0   \n",
       "7107               0            0                0                 0   \n",
       "\n",
       "      Surname_Zuev  Surname_Zuyev  Surname_Zuyeva  Geography_Germany  \\\n",
       "226              0              0               0                  0   \n",
       "7756             0              0               0                  0   \n",
       "2065             0              0               0                  0   \n",
       "2800             0              0               0                  0   \n",
       "7028             0              0               0                  1   \n",
       "6894             0              0               0                  0   \n",
       "4226             0              0               0                  0   \n",
       "5857             0              0               0                  0   \n",
       "142              0              0               0                  0   \n",
       "7107             0              0               0                  1   \n",
       "\n",
       "      Geography_Spain  Gender_Male  \n",
       "226                 0            0  \n",
       "7756                1            0  \n",
       "2065                0            1  \n",
       "2800                0            1  \n",
       "7028                0            1  \n",
       "6894                1            1  \n",
       "4226                1            0  \n",
       "5857                0            0  \n",
       "142                 0            0  \n",
       "7107                0            0  \n",
       "\n",
       "[10 rows x 2944 columns]"
      ]
     },
     "execution_count": 7,
     "metadata": {},
     "output_type": "execute_result"
    }
   ],
   "source": [
    "features_train.head(10)"
   ]
  },
  {
   "cell_type": "markdown",
   "metadata": {},
   "source": [
    "#### Вывод\n",
    "\n",
    "Провел прямое кодирование признаков с использованием дамми ловушек.\n",
    "\n",
    "Разделил данные на три выборки: обучающую, валидационную и тестовую\n",
    "\n",
    "Маштабировал количественные признаки в списке numeric"
   ]
  },
  {
   "cell_type": "markdown",
   "metadata": {},
   "source": [
    "## Исследование задачи"
   ]
  },
  {
   "cell_type": "code",
   "execution_count": 8,
   "metadata": {},
   "outputs": [
    {
     "data": {
      "text/plain": [
       "0.5370741482965932"
      ]
     },
     "execution_count": 8,
     "metadata": {},
     "output_type": "execute_result"
    }
   ],
   "source": [
    "model = DecisionTreeClassifier(random_state=12345)\n",
    "model.fit(features_train, target_train) \n",
    "predictions_valid = model.predict(features_valid) \n",
    "f1_score(target_valid, predictions_valid)\n"
   ]
  },
  {
   "cell_type": "code",
   "execution_count": 9,
   "metadata": {},
   "outputs": [
    {
     "data": {
      "text/plain": [
       "0.4751958224543081"
      ]
     },
     "execution_count": 9,
     "metadata": {},
     "output_type": "execute_result"
    }
   ],
   "source": [
    "model = RandomForestClassifier(random_state=12345)\n",
    "model.fit(features_train, target_train) \n",
    "predictions_valid = model.predict(features_valid) \n",
    "f1_score(target_valid, predictions_valid)"
   ]
  },
  {
   "cell_type": "code",
   "execution_count": 10,
   "metadata": {},
   "outputs": [
    {
     "name": "stdout",
     "output_type": "stream",
     "text": [
      "F1: 0.3210526315789474\n"
     ]
    }
   ],
   "source": [
    "model = LogisticRegression(random_state=12345, solver='liblinear')\n",
    "model.fit(features_train, target_train)\n",
    "predicted_valid = model.predict(features_valid)\n",
    "print(\"F1:\", f1_score(target_valid, predicted_valid))"
   ]
  },
  {
   "cell_type": "markdown",
   "metadata": {},
   "source": [
    "#### Вывод\n",
    "\n",
    "Получил на разных трех моделях показатель f1. Во всех трех моделях показатель меньше 0,59. Буду улучшать модель дальше.\n"
   ]
  },
  {
   "cell_type": "markdown",
   "metadata": {},
   "source": [
    "## Борьба с дисбалансом"
   ]
  },
  {
   "cell_type": "code",
   "execution_count": 11,
   "metadata": {},
   "outputs": [],
   "source": [
    "# увеличим выборку\n",
    "def upsample(features, target, repeat):\n",
    "    features_zeros = features[target == 0]\n",
    "    features_ones = features[target == 1]\n",
    "    target_zeros = target[target == 0]\n",
    "    target_ones = target[target == 1]\n",
    "\n",
    "    features_upsampled = pd.concat([features_zeros] + [features_ones] * repeat)\n",
    "    target_upsampled = pd.concat([target_zeros] + [target_ones] * repeat)\n",
    "    \n",
    "    features_upsampled, target_upsampled = shuffle(\n",
    "        features_upsampled, target_upsampled, random_state=12345)\n",
    "    \n",
    "    return features_upsampled, target_upsampled\n",
    "\n",
    "features_upsampled, target_upsampled = upsample(features_train, target_train, 4)"
   ]
  },
  {
   "cell_type": "code",
   "execution_count": 12,
   "metadata": {},
   "outputs": [
    {
     "data": {
      "text/plain": [
       "1    0.500416\n",
       "0    0.499584\n",
       "Name: Exited, dtype: float64"
      ]
     },
     "execution_count": 12,
     "metadata": {},
     "output_type": "execute_result"
    }
   ],
   "source": [
    "target_upsampled.value_counts(normalize=True)"
   ]
  },
  {
   "cell_type": "markdown",
   "metadata": {},
   "source": [
    "Выравнил баланс"
   ]
  },
  {
   "cell_type": "code",
   "execution_count": 13,
   "metadata": {},
   "outputs": [
    {
     "name": "stdout",
     "output_type": "stream",
     "text": [
      "Лучший f1: 0.6016\n",
      "Лучший max_depth: 5\n"
     ]
    }
   ],
   "source": [
    "# подберем лучшие показатели max_depth\n",
    "best_f1 = 0\n",
    "best_depth = 0\n",
    "for i in range(1, 15):\n",
    "    model = DecisionTreeClassifier(random_state=12345, max_depth=i, class_weight='balanced')\n",
    "    model.fit(features_upsampled, target_upsampled) \n",
    "    predictions_valid = model.predict(features_valid) \n",
    "    f1 = f1_score(target_valid, predictions_valid)\n",
    "    if f1 > best_f1:\n",
    "        best_f1 = f1\n",
    "        best_depth = i\n",
    "print(\"Лучший f1:\", best_f1)\n",
    "print(\"Лучший max_depth:\", best_depth)"
   ]
  },
  {
   "cell_type": "markdown",
   "metadata": {},
   "source": [
    "Модель дерева решений, показала наилучший результат f1 = 0.6 с параметром max_depth= 5"
   ]
  },
  {
   "cell_type": "code",
   "execution_count": 15,
   "metadata": {},
   "outputs": [
    {
     "name": "stdout",
     "output_type": "stream",
     "text": [
      "F1, случайный лес - 0.571\n",
      "AUC-ROC -  0.796\n"
     ]
    }
   ],
   "source": [
    "# подберем лучший параметр для модели случайный лес\n",
    "\n",
    "best_model_forest = None\n",
    "best_f1_forest = 0\n",
    "best_est_forest = 0\n",
    "best_depth_forest = 0\n",
    "for depth in range (1, 16):\n",
    "    for est in range(1,101, 10):\n",
    "        model = RandomForestClassifier(random_state=12345, max_depth=depth, n_estimators=est)\n",
    "        model.fit(features_upsampled, target_upsampled)\n",
    "        predicted_valid = model.predict(features_valid)\n",
    "        f1_predict = f1_score(target_valid, predicted_valid)\n",
    "        if f1_predict > best_f1_forest:\n",
    "            best_model_forest = model\n",
    "            best_f1_forest = f1_predict\n",
    "            best_est_forest = est\n",
    "            best_depth_forest = depth\n",
    "        \n",
    "        \n",
    "        \n",
    "print(\"F1, случайный лес -\", float('{:.3f}'.format(best_f1_forest)))\n",
    "probabilities_valid = best_model_forest.predict_proba(features_valid)\n",
    "probabilities_one_valid = probabilities_valid[:, 1]\n",
    "print(\"AUC-ROC - \", float('{:.3f}'.format(roc_auc_score(target_valid, probabilities_one_valid))))"
   ]
  },
  {
   "cell_type": "markdown",
   "metadata": {},
   "source": [
    "Модель случайного дерева, показала наилучший результат f1 = 0.571 при  n_estimators=49"
   ]
  },
  {
   "cell_type": "code",
   "execution_count": 16,
   "metadata": {},
   "outputs": [
    {
     "name": "stdout",
     "output_type": "stream",
     "text": [
      "F1: 0.4424514200298954\n"
     ]
    }
   ],
   "source": [
    "model = LogisticRegression(random_state=12345, solver='liblinear', class_weight = 'balanced')\n",
    "model.fit(features_upsampled, target_upsampled)\n",
    "predicted_valid = model.predict(features_valid)\n",
    "print(\"F1:\", f1_score(target_valid, predicted_valid))"
   ]
  },
  {
   "cell_type": "markdown",
   "metadata": {},
   "source": [
    "Модель логической регрессии показала худший результат"
   ]
  },
  {
   "cell_type": "code",
   "execution_count": 17,
   "metadata": {},
   "outputs": [
    {
     "name": "stdout",
     "output_type": "stream",
     "text": [
      "F1: 0.595108695652174\n"
     ]
    }
   ],
   "source": [
    "# уменьшим выборку\n",
    "def downsample(features, target, fraction):\n",
    "    features_zeros = features[target == 0]\n",
    "    features_ones = features[target == 1]\n",
    "    target_zeros = target[target == 0]\n",
    "    target_ones = target[target == 1]\n",
    "\n",
    "    features_downsampled = pd.concat(\n",
    "        [features_zeros.sample(frac=fraction, random_state=12345)] + [features_ones])\n",
    "    target_downsampled = pd.concat(\n",
    "        [target_zeros.sample(frac=fraction, random_state=12345)] + [target_ones])\n",
    "    \n",
    "    features_downsampled, target_downsampled = shuffle(\n",
    "        features_downsampled, target_downsampled, random_state=12345)\n",
    "    \n",
    "    return features_downsampled, target_downsampled\n",
    "\n",
    "features_downsampled, target_downsampled = downsample(features_train, target_train, 0.25)\n",
    "1\n",
    "model = DecisionTreeClassifier(random_state=12345, max_depth=5, class_weight='balanced')\n",
    "model.fit(features_downsampled, target_downsampled) \n",
    "predictions_valid = model.predict(features_valid) \n",
    "\n",
    "print(\"F1:\", f1_score(target_valid, predictions_valid))"
   ]
  },
  {
   "cell_type": "code",
   "execution_count": 18,
   "metadata": {},
   "outputs": [
    {
     "data": {
      "text/plain": [
       "1    0.500333\n",
       "0    0.499667\n",
       "Name: Exited, dtype: float64"
      ]
     },
     "execution_count": 18,
     "metadata": {},
     "output_type": "execute_result"
    }
   ],
   "source": [
    "target_downsampled.value_counts(normalize=True)"
   ]
  },
  {
   "cell_type": "markdown",
   "metadata": {},
   "source": [
    "После выравнивания баланса показатель улучшился до 0,59"
   ]
  },
  {
   "cell_type": "markdown",
   "metadata": {},
   "source": [
    "## Вывод\n",
    "\n",
    "Модель дерева решений, показала наилучший результат f1 = 0.6 с параметром max_depth= 5"
   ]
  },
  {
   "cell_type": "markdown",
   "metadata": {},
   "source": [
    "## Тестирование модели"
   ]
  },
  {
   "cell_type": "markdown",
   "metadata": {},
   "source": [
    "Тестирование модели буду проводить на модели дерева решений, с параметром max_depth= 5"
   ]
  },
  {
   "cell_type": "code",
   "execution_count": 19,
   "metadata": {},
   "outputs": [
    {
     "data": {
      "text/plain": [
       "0.5977011494252874"
      ]
     },
     "execution_count": 19,
     "metadata": {},
     "output_type": "execute_result"
    }
   ],
   "source": [
    "model = DecisionTreeClassifier(random_state=12345, max_depth=5, class_weight='balanced')\n",
    "model.fit(features_upsampled, target_upsampled) \n",
    "predictions_test = model.predict(features_test) \n",
    "f1_score(target_test, predictions_test)"
   ]
  },
  {
   "cell_type": "markdown",
   "metadata": {},
   "source": [
    "Показатель выше 0.59"
   ]
  },
  {
   "cell_type": "code",
   "execution_count": 20,
   "metadata": {},
   "outputs": [
    {
     "name": "stdout",
     "output_type": "stream",
     "text": [
      "0.8427350229793399\n"
     ]
    }
   ],
   "source": [
    "model = DecisionTreeClassifier(random_state=12345, max_depth=5, class_weight='balanced')\n",
    "model.fit(features_upsampled, target_upsampled)\n",
    "predicted_valid = model.predict(features_test)\n",
    "probabilities_valid = model.predict_proba(features_test)\n",
    "probabilities_one_valid = probabilities_valid[:, 1]\n",
    "\n",
    "auc_roc = roc_auc_score(target_test, probabilities_one_valid)\n",
    "\n",
    "print(auc_roc)"
   ]
  },
  {
   "cell_type": "code",
   "execution_count": 21,
   "metadata": {},
   "outputs": [
    {
     "data": {
      "image/png": "[encoded data removed]",
      "text/plain": [
       "<Figure size 432x288 with 1 Axes>"
      ]
     },
     "metadata": {
      "needs_background": "light"
     },
     "output_type": "display_data"
    }
   ],
   "source": [
    "fpr, tpr, thresholds = roc_curve(target_test, probabilities_one_valid)\n",
    "\n",
    "plt.figure()\n",
    "\n",
    "plt.plot([0, 1], [0, 1], linestyle='--')\n",
    "plt.plot(fpr, tpr)\n",
    "\n",
    "plt.xlim([0.0, 1.0])\n",
    "plt.ylim([0.0, 1.0])\n",
    "\n",
    "plt.xlabel(\"False Positive Rate\")\n",
    "plt.ylabel(\"True Positive Rate\")\n",
    "plt.title(\"ROC-кривая\")\n",
    "plt.legend(['Случайная модель', 'Исследуемая модель'], loc=0)\n",
    "\n",
    "plt.show()"
   ]
  },
  {
   "cell_type": "markdown",
   "metadata": {},
   "source": [
    "#### вывод:\n",
    "\n",
    "На тестовой выборке модель дерева решений показала результат f1 = 0.6\n",
    "Показатель auc_roc = 0.84, приблизился к 1."
   ]
  },
  {
   "cell_type": "markdown",
   "metadata": {},
   "source": [
    "# Общий вывод\n",
    "\n",
    "Провел исследование оттока клиентов из банка. \n",
    "Построил модели и выбрал наилучшую модель, которая показала лучшиие результаты на валидационной выборке. Проверил на тестовой выборке, результат F1 был 0.6. Показатель auc_roc = 0.84. "
   ]
  }
 ],
 "metadata": {
  "ExecuteTimeLog": [
   {
    "duration": 601,
    "start_time": "2022-03-16T10:01:49.579Z"
   },
   {
    "duration": 48,
    "start_time": "2022-03-16T10:01:50.182Z"
   },
   {
    "duration": 30,
    "start_time": "2022-03-16T10:39:14.350Z"
   },
   {
    "duration": 211,
    "start_time": "2022-03-16T10:39:23.410Z"
   },
   {
    "duration": 2,
    "start_time": "2022-03-16T13:20:47.307Z"
   },
   {
    "duration": 33,
    "start_time": "2022-03-16T13:20:47.311Z"
   },
   {
    "duration": 41,
    "start_time": "2022-03-16T13:30:34.012Z"
   },
   {
    "duration": 605,
    "start_time": "2022-03-16T18:30:06.572Z"
   },
   {
    "duration": 61,
    "start_time": "2022-03-16T18:30:07.179Z"
   },
   {
    "duration": 4,
    "start_time": "2022-03-16T18:30:07.241Z"
   },
   {
    "duration": 7,
    "start_time": "2022-03-16T18:30:26.342Z"
   },
   {
    "duration": 20,
    "start_time": "2022-03-16T18:30:32.823Z"
   },
   {
    "duration": 259,
    "start_time": "2022-03-16T18:31:18.282Z"
   },
   {
    "duration": 1076,
    "start_time": "2022-03-16T18:41:22.437Z"
   },
   {
    "duration": 1044,
    "start_time": "2022-03-16T18:46:37.522Z"
   },
   {
    "duration": 1029,
    "start_time": "2022-03-16T18:46:44.721Z"
   },
   {
    "duration": 997,
    "start_time": "2022-03-16T18:52:02.658Z"
   },
   {
    "duration": 429,
    "start_time": "2022-03-16T18:59:47.946Z"
   },
   {
    "duration": 390,
    "start_time": "2022-03-16T18:59:52.530Z"
   },
   {
    "duration": 388,
    "start_time": "2022-03-16T19:00:08.397Z"
   },
   {
    "duration": 153,
    "start_time": "2022-03-16T19:00:11.938Z"
   },
   {
    "duration": 131,
    "start_time": "2022-03-16T19:00:14.922Z"
   },
   {
    "duration": 225,
    "start_time": "2022-03-16T19:03:01.173Z"
   },
   {
    "duration": 128,
    "start_time": "2022-03-16T19:03:02.212Z"
   },
   {
    "duration": 129,
    "start_time": "2022-03-16T19:03:11.627Z"
   },
   {
    "duration": 181,
    "start_time": "2022-03-16T19:03:17.736Z"
   },
   {
    "duration": 131,
    "start_time": "2022-03-16T19:03:24.281Z"
   },
   {
    "duration": 2,
    "start_time": "2022-03-16T19:25:06.306Z"
   },
   {
    "duration": 65,
    "start_time": "2022-03-16T19:25:06.310Z"
   },
   {
    "duration": 217,
    "start_time": "2022-03-16T19:25:06.377Z"
   },
   {
    "duration": 237,
    "start_time": "2022-03-16T19:25:06.596Z"
   },
   {
    "duration": 216,
    "start_time": "2022-03-16T19:25:09.836Z"
   },
   {
    "duration": 374,
    "start_time": "2022-03-16T19:25:11.523Z"
   },
   {
    "duration": 20,
    "start_time": "2022-03-16T19:25:32.946Z"
   },
   {
    "duration": 37,
    "start_time": "2022-03-16T19:26:18.295Z"
   },
   {
    "duration": 20,
    "start_time": "2022-03-16T19:29:18.534Z"
   },
   {
    "duration": 3,
    "start_time": "2022-03-16T19:31:49.142Z"
   },
   {
    "duration": 491,
    "start_time": "2022-03-16T19:31:49.148Z"
   },
   {
    "duration": 391,
    "start_time": "2022-03-16T19:31:49.640Z"
   },
   {
    "duration": 223,
    "start_time": "2022-03-16T19:31:50.034Z"
   },
   {
    "duration": 20,
    "start_time": "2022-03-16T19:31:50.259Z"
   },
   {
    "duration": 24,
    "start_time": "2022-03-16T19:57:09.070Z"
   },
   {
    "duration": 408,
    "start_time": "2022-03-16T19:57:31.010Z"
   },
   {
    "duration": 398,
    "start_time": "2022-03-16T19:57:45.355Z"
   },
   {
    "duration": 3,
    "start_time": "2022-03-16T19:59:28.934Z"
   },
   {
    "duration": 101,
    "start_time": "2022-03-16T19:59:28.939Z"
   },
   {
    "duration": 206,
    "start_time": "2022-03-16T19:59:29.043Z"
   },
   {
    "duration": 212,
    "start_time": "2022-03-16T19:59:29.251Z"
   },
   {
    "duration": 607,
    "start_time": "2022-03-16T19:59:29.465Z"
   },
   {
    "duration": 20,
    "start_time": "2022-03-16T19:59:41.321Z"
   },
   {
    "duration": 1085,
    "start_time": "2022-03-16T19:59:45.139Z"
   },
   {
    "duration": 2,
    "start_time": "2022-03-16T20:00:02.561Z"
   },
   {
    "duration": 877,
    "start_time": "2022-03-16T20:00:10.912Z"
   },
   {
    "duration": 3,
    "start_time": "2022-03-16T20:00:48.643Z"
   },
   {
    "duration": 382,
    "start_time": "2022-03-16T20:00:48.681Z"
   },
   {
    "duration": 293,
    "start_time": "2022-03-16T20:00:49.065Z"
   },
   {
    "duration": 220,
    "start_time": "2022-03-16T20:00:49.360Z"
   },
   {
    "duration": 89,
    "start_time": "2022-03-16T20:00:49.581Z"
   },
   {
    "duration": 684,
    "start_time": "2022-03-16T20:00:49.672Z"
   },
   {
    "duration": 7,
    "start_time": "2022-03-16T20:01:36.975Z"
   },
   {
    "duration": 7,
    "start_time": "2022-03-16T20:02:07.320Z"
   },
   {
    "duration": 332,
    "start_time": "2022-03-16T20:02:22.471Z"
   },
   {
    "duration": 5,
    "start_time": "2022-03-16T20:05:45.701Z"
   },
   {
    "duration": 19,
    "start_time": "2022-03-16T20:05:59.501Z"
   },
   {
    "duration": 6,
    "start_time": "2022-03-16T20:08:08.276Z"
   },
   {
    "duration": 3,
    "start_time": "2022-03-16T20:08:59.108Z"
   },
   {
    "duration": 8,
    "start_time": "2022-03-16T20:09:01.902Z"
   },
   {
    "duration": 6,
    "start_time": "2022-03-16T20:09:04.971Z"
   },
   {
    "duration": 2,
    "start_time": "2022-03-16T20:09:19.302Z"
   },
   {
    "duration": 75,
    "start_time": "2022-03-16T20:09:19.306Z"
   },
   {
    "duration": 3,
    "start_time": "2022-03-16T20:09:19.383Z"
   },
   {
    "duration": 34,
    "start_time": "2022-03-16T20:09:19.387Z"
   },
   {
    "duration": 10,
    "start_time": "2022-03-16T20:09:19.423Z"
   },
   {
    "duration": 212,
    "start_time": "2022-03-16T20:09:19.435Z"
   },
   {
    "duration": 215,
    "start_time": "2022-03-16T20:09:19.648Z"
   },
   {
    "duration": 20,
    "start_time": "2022-03-16T20:09:19.865Z"
   },
   {
    "duration": 777,
    "start_time": "2022-03-16T20:09:22.688Z"
   },
   {
    "duration": 3,
    "start_time": "2022-03-16T20:10:35.893Z"
   },
   {
    "duration": 2315,
    "start_time": "2022-03-16T20:10:35.898Z"
   },
   {
    "duration": 939,
    "start_time": "2022-03-16T20:10:38.215Z"
   },
   {
    "duration": 775,
    "start_time": "2022-03-16T20:10:39.155Z"
   },
   {
    "duration": 685,
    "start_time": "2022-03-16T20:10:39.932Z"
   },
   {
    "duration": 1565,
    "start_time": "2022-03-16T20:10:40.618Z"
   },
   {
    "duration": 770,
    "start_time": "2022-03-16T20:10:46.547Z"
   },
   {
    "duration": 3,
    "start_time": "2022-03-16T20:11:56.564Z"
   },
   {
    "duration": 3,
    "start_time": "2022-03-16T20:12:10.839Z"
   },
   {
    "duration": 1999,
    "start_time": "2022-03-16T20:12:10.843Z"
   },
   {
    "duration": 2008,
    "start_time": "2022-03-16T20:12:12.844Z"
   },
   {
    "duration": 1155,
    "start_time": "2022-03-16T20:12:14.853Z"
   },
   {
    "duration": 2715,
    "start_time": "2022-03-16T20:12:16.009Z"
   },
   {
    "duration": 551,
    "start_time": "2022-03-16T20:12:18.726Z"
   },
   {
    "duration": 1927,
    "start_time": "2022-03-16T20:12:19.278Z"
   },
   {
    "duration": 3,
    "start_time": "2022-03-16T20:12:34.661Z"
   },
   {
    "duration": 2999,
    "start_time": "2022-03-16T20:12:34.666Z"
   },
   {
    "duration": 1362,
    "start_time": "2022-03-16T20:12:37.667Z"
   },
   {
    "duration": 1370,
    "start_time": "2022-03-16T20:12:39.031Z"
   },
   {
    "duration": 1236,
    "start_time": "2022-03-16T20:12:40.402Z"
   },
   {
    "duration": 817,
    "start_time": "2022-03-16T20:12:41.639Z"
   },
   {
    "duration": 1354,
    "start_time": "2022-03-16T20:12:42.458Z"
   },
   {
    "duration": 3,
    "start_time": "2022-03-16T20:15:02.640Z"
   },
   {
    "duration": 6,
    "start_time": "2022-03-16T20:15:19.393Z"
   },
   {
    "duration": 2,
    "start_time": "2022-03-16T20:18:12.625Z"
   },
   {
    "duration": 5,
    "start_time": "2022-03-16T20:18:27.536Z"
   },
   {
    "duration": 1097,
    "start_time": "2022-03-17T07:29:17.123Z"
   },
   {
    "duration": 57,
    "start_time": "2022-03-17T07:29:18.222Z"
   },
   {
    "duration": 3,
    "start_time": "2022-03-17T07:29:18.282Z"
   },
   {
    "duration": 273,
    "start_time": "2022-03-17T07:29:18.288Z"
   },
   {
    "duration": 184,
    "start_time": "2022-03-17T07:29:18.563Z"
   },
   {
    "duration": 36,
    "start_time": "2022-03-17T07:29:18.749Z"
   },
   {
    "duration": 815,
    "start_time": "2022-03-17T07:29:18.787Z"
   },
   {
    "duration": 7,
    "start_time": "2022-03-17T07:29:19.604Z"
   },
   {
    "duration": 8,
    "start_time": "2022-03-17T07:29:19.613Z"
   },
   {
    "duration": 3,
    "start_time": "2022-03-17T07:36:58.085Z"
   },
   {
    "duration": 42,
    "start_time": "2022-03-17T07:36:58.090Z"
   },
   {
    "duration": 3,
    "start_time": "2022-03-17T07:36:58.134Z"
   },
   {
    "duration": 215,
    "start_time": "2022-03-17T07:36:58.138Z"
   },
   {
    "duration": 181,
    "start_time": "2022-03-17T07:36:58.355Z"
   },
   {
    "duration": 34,
    "start_time": "2022-03-17T07:36:58.538Z"
   },
   {
    "duration": 802,
    "start_time": "2022-03-17T07:36:58.574Z"
   },
   {
    "duration": 6,
    "start_time": "2022-03-17T07:36:59.378Z"
   },
   {
    "duration": 6,
    "start_time": "2022-03-17T07:36:59.385Z"
   },
   {
    "duration": 2,
    "start_time": "2022-03-17T07:41:09.456Z"
   },
   {
    "duration": 44,
    "start_time": "2022-03-17T07:41:09.460Z"
   },
   {
    "duration": 3,
    "start_time": "2022-03-17T07:41:09.506Z"
   },
   {
    "duration": 247,
    "start_time": "2022-03-17T07:41:09.510Z"
   },
   {
    "duration": 185,
    "start_time": "2022-03-17T07:41:09.758Z"
   },
   {
    "duration": 32,
    "start_time": "2022-03-17T07:41:09.944Z"
   },
   {
    "duration": 796,
    "start_time": "2022-03-17T07:41:09.978Z"
   },
   {
    "duration": 6,
    "start_time": "2022-03-17T07:41:10.775Z"
   },
   {
    "duration": 5,
    "start_time": "2022-03-17T07:41:10.783Z"
   },
   {
    "duration": 3,
    "start_time": "2022-03-17T07:48:13.634Z"
   },
   {
    "duration": 1685,
    "start_time": "2022-03-17T07:48:36.395Z"
   },
   {
    "duration": 6,
    "start_time": "2022-03-17T07:48:41.313Z"
   },
   {
    "duration": 6,
    "start_time": "2022-03-17T07:48:45.009Z"
   },
   {
    "duration": 635,
    "start_time": "2022-03-17T07:49:09.924Z"
   },
   {
    "duration": 6,
    "start_time": "2022-03-17T07:49:11.664Z"
   },
   {
    "duration": 775,
    "start_time": "2022-03-17T07:49:32.609Z"
   },
   {
    "duration": 6,
    "start_time": "2022-03-17T07:49:34.178Z"
   },
   {
    "duration": 4,
    "start_time": "2022-03-17T07:54:25.937Z"
   },
   {
    "duration": 6,
    "start_time": "2022-03-17T07:54:40.516Z"
   },
   {
    "duration": 3,
    "start_time": "2022-03-17T07:55:23.196Z"
   },
   {
    "duration": 6,
    "start_time": "2022-03-17T07:55:39.252Z"
   },
   {
    "duration": 7,
    "start_time": "2022-03-17T07:55:42.742Z"
   },
   {
    "duration": 76,
    "start_time": "2022-03-17T07:55:42.752Z"
   },
   {
    "duration": 4,
    "start_time": "2022-03-17T07:55:42.829Z"
   },
   {
    "duration": 226,
    "start_time": "2022-03-17T07:55:42.835Z"
   },
   {
    "duration": 178,
    "start_time": "2022-03-17T07:55:43.063Z"
   },
   {
    "duration": 35,
    "start_time": "2022-03-17T07:55:43.243Z"
   },
   {
    "duration": 783,
    "start_time": "2022-03-17T07:55:43.280Z"
   },
   {
    "duration": 6,
    "start_time": "2022-03-17T07:55:44.064Z"
   },
   {
    "duration": 7,
    "start_time": "2022-03-17T07:55:44.071Z"
   },
   {
    "duration": 5,
    "start_time": "2022-03-17T07:55:44.080Z"
   },
   {
    "duration": 8,
    "start_time": "2022-03-17T07:55:44.086Z"
   },
   {
    "duration": 539,
    "start_time": "2022-03-17T08:02:14.345Z"
   },
   {
    "duration": 526,
    "start_time": "2022-03-17T08:03:16.648Z"
   },
   {
    "duration": 5,
    "start_time": "2022-03-17T08:03:19.032Z"
   },
   {
    "duration": 851,
    "start_time": "2022-03-17T08:03:30.496Z"
   },
   {
    "duration": 10,
    "start_time": "2022-03-17T08:03:31.350Z"
   },
   {
    "duration": 5,
    "start_time": "2022-03-17T08:05:52.583Z"
   },
   {
    "duration": 1521,
    "start_time": "2022-03-17T09:01:46.343Z"
   },
   {
    "duration": 3,
    "start_time": "2022-03-17T09:02:14.525Z"
   },
   {
    "duration": 52,
    "start_time": "2022-03-17T09:02:14.530Z"
   },
   {
    "duration": 3,
    "start_time": "2022-03-17T09:02:14.584Z"
   },
   {
    "duration": 229,
    "start_time": "2022-03-17T09:02:14.588Z"
   },
   {
    "duration": 184,
    "start_time": "2022-03-17T09:02:14.819Z"
   },
   {
    "duration": 28,
    "start_time": "2022-03-17T09:02:15.005Z"
   },
   {
    "duration": 851,
    "start_time": "2022-03-17T09:02:15.035Z"
   },
   {
    "duration": 6,
    "start_time": "2022-03-17T09:02:15.888Z"
   },
   {
    "duration": 6,
    "start_time": "2022-03-17T09:02:15.896Z"
   },
   {
    "duration": 6,
    "start_time": "2022-03-17T09:02:15.903Z"
   },
   {
    "duration": 7,
    "start_time": "2022-03-17T09:02:15.911Z"
   },
   {
    "duration": 547,
    "start_time": "2022-03-17T09:02:15.919Z"
   },
   {
    "duration": 519,
    "start_time": "2022-03-17T09:02:21.749Z"
   },
   {
    "duration": 1362,
    "start_time": "2022-03-17T09:02:24.605Z"
   },
   {
    "duration": 227,
    "start_time": "2022-03-17T09:03:42.389Z"
   },
   {
    "duration": 3,
    "start_time": "2022-03-17T09:04:03.256Z"
   },
   {
    "duration": 48,
    "start_time": "2022-03-17T09:04:03.261Z"
   },
   {
    "duration": 4,
    "start_time": "2022-03-17T09:04:03.311Z"
   },
   {
    "duration": 223,
    "start_time": "2022-03-17T09:04:03.316Z"
   },
   {
    "duration": 197,
    "start_time": "2022-03-17T09:04:03.541Z"
   },
   {
    "duration": 32,
    "start_time": "2022-03-17T09:04:03.739Z"
   },
   {
    "duration": 824,
    "start_time": "2022-03-17T09:04:03.772Z"
   },
   {
    "duration": 6,
    "start_time": "2022-03-17T09:04:04.597Z"
   },
   {
    "duration": 6,
    "start_time": "2022-03-17T09:04:04.604Z"
   },
   {
    "duration": 4,
    "start_time": "2022-03-17T09:04:04.612Z"
   },
   {
    "duration": 5,
    "start_time": "2022-03-17T09:04:04.618Z"
   },
   {
    "duration": 540,
    "start_time": "2022-03-17T09:04:04.624Z"
   },
   {
    "duration": 542,
    "start_time": "2022-03-17T09:04:06.323Z"
   },
   {
    "duration": 218,
    "start_time": "2022-03-17T09:04:09.252Z"
   },
   {
    "duration": 1393,
    "start_time": "2022-03-17T09:04:16.092Z"
   },
   {
    "duration": 419,
    "start_time": "2022-03-17T09:05:58.795Z"
   },
   {
    "duration": 4,
    "start_time": "2022-03-17T09:06:48.040Z"
   },
   {
    "duration": 56,
    "start_time": "2022-03-17T09:06:48.046Z"
   },
   {
    "duration": 3,
    "start_time": "2022-03-17T09:06:48.103Z"
   },
   {
    "duration": 236,
    "start_time": "2022-03-17T09:06:48.108Z"
   },
   {
    "duration": 179,
    "start_time": "2022-03-17T09:06:48.346Z"
   },
   {
    "duration": 34,
    "start_time": "2022-03-17T09:06:48.527Z"
   },
   {
    "duration": 792,
    "start_time": "2022-03-17T09:06:48.563Z"
   },
   {
    "duration": 6,
    "start_time": "2022-03-17T09:06:49.357Z"
   },
   {
    "duration": 5,
    "start_time": "2022-03-17T09:06:49.366Z"
   },
   {
    "duration": 6,
    "start_time": "2022-03-17T09:06:49.372Z"
   },
   {
    "duration": 5,
    "start_time": "2022-03-17T09:06:49.379Z"
   },
   {
    "duration": 576,
    "start_time": "2022-03-17T09:06:49.385Z"
   },
   {
    "duration": 557,
    "start_time": "2022-03-17T09:06:51.202Z"
   },
   {
    "duration": 1398,
    "start_time": "2022-03-17T09:06:53.363Z"
   },
   {
    "duration": 211,
    "start_time": "2022-03-17T09:06:55.954Z"
   },
   {
    "duration": 3,
    "start_time": "2022-03-17T09:07:11.391Z"
   },
   {
    "duration": 43,
    "start_time": "2022-03-17T09:07:11.396Z"
   },
   {
    "duration": 3,
    "start_time": "2022-03-17T09:07:11.441Z"
   },
   {
    "duration": 231,
    "start_time": "2022-03-17T09:07:11.446Z"
   },
   {
    "duration": 181,
    "start_time": "2022-03-17T09:07:11.679Z"
   },
   {
    "duration": 28,
    "start_time": "2022-03-17T09:07:11.862Z"
   },
   {
    "duration": 795,
    "start_time": "2022-03-17T09:07:11.891Z"
   },
   {
    "duration": 6,
    "start_time": "2022-03-17T09:07:12.687Z"
   },
   {
    "duration": 6,
    "start_time": "2022-03-17T09:07:12.695Z"
   },
   {
    "duration": 6,
    "start_time": "2022-03-17T09:07:12.703Z"
   },
   {
    "duration": 8,
    "start_time": "2022-03-17T09:07:12.710Z"
   },
   {
    "duration": 547,
    "start_time": "2022-03-17T09:07:12.719Z"
   },
   {
    "duration": 1693,
    "start_time": "2022-03-17T09:07:13.267Z"
   },
   {
    "duration": 303,
    "start_time": "2022-03-17T09:07:15.058Z"
   },
   {
    "duration": 4,
    "start_time": "2022-03-17T09:08:19.305Z"
   },
   {
    "duration": 66,
    "start_time": "2022-03-17T09:08:42.894Z"
   },
   {
    "duration": 4,
    "start_time": "2022-03-17T09:12:44.032Z"
   },
   {
    "duration": 43,
    "start_time": "2022-03-17T09:12:44.038Z"
   },
   {
    "duration": 3,
    "start_time": "2022-03-17T09:12:44.082Z"
   },
   {
    "duration": 218,
    "start_time": "2022-03-17T09:12:44.087Z"
   },
   {
    "duration": 182,
    "start_time": "2022-03-17T09:12:44.307Z"
   },
   {
    "duration": 28,
    "start_time": "2022-03-17T09:12:44.491Z"
   },
   {
    "duration": 813,
    "start_time": "2022-03-17T09:12:44.520Z"
   },
   {
    "duration": 6,
    "start_time": "2022-03-17T09:12:45.334Z"
   },
   {
    "duration": 17,
    "start_time": "2022-03-17T09:12:45.343Z"
   },
   {
    "duration": 5,
    "start_time": "2022-03-17T09:12:45.362Z"
   },
   {
    "duration": 6,
    "start_time": "2022-03-17T09:12:45.369Z"
   },
   {
    "duration": 585,
    "start_time": "2022-03-17T09:12:45.376Z"
   },
   {
    "duration": 547,
    "start_time": "2022-03-17T09:12:48.215Z"
   },
   {
    "duration": 100,
    "start_time": "2022-03-17T09:12:48.859Z"
   },
   {
    "duration": 1371,
    "start_time": "2022-03-17T09:12:58.088Z"
   },
   {
    "duration": 216,
    "start_time": "2022-03-17T09:13:02.055Z"
   },
   {
    "duration": 567,
    "start_time": "2022-03-17T09:16:34.093Z"
   },
   {
    "duration": 598,
    "start_time": "2022-03-17T09:16:45.061Z"
   },
   {
    "duration": 60,
    "start_time": "2022-03-17T09:18:13.500Z"
   },
   {
    "duration": 4,
    "start_time": "2022-03-17T09:18:17.605Z"
   },
   {
    "duration": 45,
    "start_time": "2022-03-17T09:18:17.611Z"
   },
   {
    "duration": 3,
    "start_time": "2022-03-17T09:18:17.658Z"
   },
   {
    "duration": 230,
    "start_time": "2022-03-17T09:18:17.663Z"
   },
   {
    "duration": 202,
    "start_time": "2022-03-17T09:18:17.895Z"
   },
   {
    "duration": 30,
    "start_time": "2022-03-17T09:18:18.098Z"
   },
   {
    "duration": 843,
    "start_time": "2022-03-17T09:18:18.131Z"
   },
   {
    "duration": 7,
    "start_time": "2022-03-17T09:18:18.976Z"
   },
   {
    "duration": 7,
    "start_time": "2022-03-17T09:18:18.985Z"
   },
   {
    "duration": 6,
    "start_time": "2022-03-17T09:18:18.995Z"
   },
   {
    "duration": 6,
    "start_time": "2022-03-17T09:18:19.003Z"
   },
   {
    "duration": 649,
    "start_time": "2022-03-17T09:18:19.011Z"
   },
   {
    "duration": 198,
    "start_time": "2022-03-17T09:18:19.662Z"
   },
   {
    "duration": 1497,
    "start_time": "2022-03-17T09:18:19.863Z"
   },
   {
    "duration": 398,
    "start_time": "2022-03-17T09:18:21.363Z"
   },
   {
    "duration": 196,
    "start_time": "2022-03-17T09:18:21.766Z"
   },
   {
    "duration": 98,
    "start_time": "2022-03-17T09:18:23.963Z"
   },
   {
    "duration": 531,
    "start_time": "2022-03-17T09:18:26.652Z"
   },
   {
    "duration": 752,
    "start_time": "2022-03-17T09:19:49.332Z"
   },
   {
    "duration": 566,
    "start_time": "2022-03-17T09:19:58.394Z"
   },
   {
    "duration": 535,
    "start_time": "2022-03-17T09:20:17.939Z"
   },
   {
    "duration": 11,
    "start_time": "2022-03-17T09:20:57.755Z"
   },
   {
    "duration": 6,
    "start_time": "2022-03-17T09:22:56.262Z"
   },
   {
    "duration": 51,
    "start_time": "2022-03-17T09:22:56.360Z"
   },
   {
    "duration": 4,
    "start_time": "2022-03-17T09:22:56.412Z"
   },
   {
    "duration": 253,
    "start_time": "2022-03-17T09:22:56.418Z"
   },
   {
    "duration": 181,
    "start_time": "2022-03-17T09:22:56.673Z"
   },
   {
    "duration": 28,
    "start_time": "2022-03-17T09:22:56.858Z"
   },
   {
    "duration": 827,
    "start_time": "2022-03-17T09:22:56.888Z"
   },
   {
    "duration": 6,
    "start_time": "2022-03-17T09:22:57.718Z"
   },
   {
    "duration": 6,
    "start_time": "2022-03-17T09:22:57.726Z"
   },
   {
    "duration": 26,
    "start_time": "2022-03-17T09:22:57.733Z"
   },
   {
    "duration": 6,
    "start_time": "2022-03-17T09:22:57.761Z"
   },
   {
    "duration": 591,
    "start_time": "2022-03-17T09:22:57.768Z"
   },
   {
    "duration": 198,
    "start_time": "2022-03-17T09:22:58.361Z"
   },
   {
    "duration": 1497,
    "start_time": "2022-03-17T09:22:58.562Z"
   },
   {
    "duration": 395,
    "start_time": "2022-03-17T09:23:00.064Z"
   },
   {
    "duration": 898,
    "start_time": "2022-03-17T09:23:00.462Z"
   },
   {
    "duration": 694,
    "start_time": "2022-03-17T09:23:01.364Z"
   },
   {
    "duration": 62321,
    "start_time": "2022-03-17T09:23:02.062Z"
   },
   {
    "duration": 9,
    "start_time": "2022-03-17T12:58:19.962Z"
   },
   {
    "duration": 72,
    "start_time": "2022-03-17T12:58:20.099Z"
   },
   {
    "duration": 4,
    "start_time": "2022-03-17T12:58:20.173Z"
   },
   {
    "duration": 304,
    "start_time": "2022-03-17T12:58:20.178Z"
   },
   {
    "duration": 220,
    "start_time": "2022-03-17T12:58:20.484Z"
   },
   {
    "duration": 30,
    "start_time": "2022-03-17T12:58:20.708Z"
   },
   {
    "duration": 975,
    "start_time": "2022-03-17T12:58:20.740Z"
   },
   {
    "duration": 6,
    "start_time": "2022-03-17T12:58:21.717Z"
   },
   {
    "duration": 7,
    "start_time": "2022-03-17T12:58:21.725Z"
   },
   {
    "duration": 6,
    "start_time": "2022-03-17T12:58:21.733Z"
   },
   {
    "duration": 5,
    "start_time": "2022-03-17T12:58:21.740Z"
   },
   {
    "duration": 664,
    "start_time": "2022-03-17T12:58:21.747Z"
   },
   {
    "duration": 196,
    "start_time": "2022-03-17T12:58:22.414Z"
   },
   {
    "duration": 1698,
    "start_time": "2022-03-17T12:58:22.612Z"
   },
   {
    "duration": 397,
    "start_time": "2022-03-17T12:58:24.313Z"
   },
   {
    "duration": 898,
    "start_time": "2022-03-17T12:58:24.713Z"
   },
   {
    "duration": 623,
    "start_time": "2022-03-17T12:58:25.614Z"
   },
   {
    "duration": 57122,
    "start_time": "2022-03-17T12:59:35.313Z"
   },
   {
    "duration": 56042,
    "start_time": "2022-03-17T13:01:38.697Z"
   },
   {
    "duration": 7,
    "start_time": "2022-03-17T13:07:02.409Z"
   },
   {
    "duration": 132,
    "start_time": "2022-03-17T13:07:02.419Z"
   },
   {
    "duration": 4,
    "start_time": "2022-03-17T13:07:02.553Z"
   },
   {
    "duration": 277,
    "start_time": "2022-03-17T13:07:02.559Z"
   },
   {
    "duration": 198,
    "start_time": "2022-03-17T13:07:02.838Z"
   },
   {
    "duration": 30,
    "start_time": "2022-03-17T13:07:03.038Z"
   },
   {
    "duration": 858,
    "start_time": "2022-03-17T13:07:03.070Z"
   },
   {
    "duration": 7,
    "start_time": "2022-03-17T13:07:03.930Z"
   },
   {
    "duration": 7,
    "start_time": "2022-03-17T13:07:03.941Z"
   },
   {
    "duration": 8,
    "start_time": "2022-03-17T13:07:03.950Z"
   },
   {
    "duration": 5,
    "start_time": "2022-03-17T13:07:03.960Z"
   },
   {
    "duration": 569,
    "start_time": "2022-03-17T13:07:03.967Z"
   },
   {
    "duration": 195,
    "start_time": "2022-03-17T13:07:04.538Z"
   },
   {
    "duration": 1995,
    "start_time": "2022-03-17T13:07:04.814Z"
   },
   {
    "duration": 396,
    "start_time": "2022-03-17T13:07:06.813Z"
   },
   {
    "duration": 819,
    "start_time": "2022-03-17T13:07:07.212Z"
   },
   {
    "duration": 701,
    "start_time": "2022-03-17T13:07:08.111Z"
   },
   {
    "duration": 94,
    "start_time": "2022-03-17T13:07:08.814Z"
   },
   {
    "duration": 4,
    "start_time": "2022-03-17T13:13:33.840Z"
   },
   {
    "duration": 48,
    "start_time": "2022-03-17T13:13:33.846Z"
   },
   {
    "duration": 4,
    "start_time": "2022-03-17T13:13:33.896Z"
   },
   {
    "duration": 233,
    "start_time": "2022-03-17T13:13:33.901Z"
   },
   {
    "duration": 182,
    "start_time": "2022-03-17T13:13:34.137Z"
   },
   {
    "duration": 27,
    "start_time": "2022-03-17T13:13:34.321Z"
   },
   {
    "duration": 818,
    "start_time": "2022-03-17T13:13:34.350Z"
   },
   {
    "duration": 5,
    "start_time": "2022-03-17T13:13:35.170Z"
   },
   {
    "duration": 5,
    "start_time": "2022-03-17T13:13:35.177Z"
   },
   {
    "duration": 25,
    "start_time": "2022-03-17T13:13:35.184Z"
   },
   {
    "duration": 5,
    "start_time": "2022-03-17T13:13:35.212Z"
   },
   {
    "duration": 589,
    "start_time": "2022-03-17T13:13:35.219Z"
   },
   {
    "duration": 198,
    "start_time": "2022-03-17T13:13:35.812Z"
   },
   {
    "duration": 1701,
    "start_time": "2022-03-17T13:13:36.012Z"
   },
   {
    "duration": 236,
    "start_time": "2022-03-17T13:13:37.808Z"
   },
   {
    "duration": 814,
    "start_time": "2022-03-17T13:13:38.110Z"
   },
   {
    "duration": 610,
    "start_time": "2022-03-17T13:13:39.011Z"
   },
   {
    "duration": 817,
    "start_time": "2022-03-17T13:13:41.469Z"
   },
   {
    "duration": 827,
    "start_time": "2022-03-17T13:15:47.531Z"
   },
   {
    "duration": 791,
    "start_time": "2022-03-17T13:23:35.136Z"
   },
   {
    "duration": 522,
    "start_time": "2022-03-17T13:23:56.304Z"
   },
   {
    "duration": 10,
    "start_time": "2022-03-17T13:34:19.789Z"
   },
   {
    "duration": 542,
    "start_time": "2022-03-17T13:34:32.374Z"
   },
   {
    "duration": 1738,
    "start_time": "2022-03-17T17:10:35.718Z"
   },
   {
    "duration": 53,
    "start_time": "2022-03-17T17:10:37.459Z"
   },
   {
    "duration": 4,
    "start_time": "2022-03-17T17:10:37.514Z"
   },
   {
    "duration": 265,
    "start_time": "2022-03-17T17:10:37.520Z"
   },
   {
    "duration": 198,
    "start_time": "2022-03-17T17:10:37.787Z"
   },
   {
    "duration": 31,
    "start_time": "2022-03-17T17:10:37.987Z"
   },
   {
    "duration": 845,
    "start_time": "2022-03-17T17:10:38.019Z"
   },
   {
    "duration": 6,
    "start_time": "2022-03-17T17:10:38.865Z"
   },
   {
    "duration": 5,
    "start_time": "2022-03-17T17:10:38.873Z"
   },
   {
    "duration": 5,
    "start_time": "2022-03-17T17:10:38.880Z"
   },
   {
    "duration": 5,
    "start_time": "2022-03-17T17:10:38.887Z"
   },
   {
    "duration": 571,
    "start_time": "2022-03-17T17:10:38.893Z"
   },
   {
    "duration": 199,
    "start_time": "2022-03-17T17:10:39.466Z"
   },
   {
    "duration": 1403,
    "start_time": "2022-03-17T17:10:39.667Z"
   },
   {
    "duration": 420,
    "start_time": "2022-03-17T17:10:41.073Z"
   },
   {
    "duration": 789,
    "start_time": "2022-03-17T17:10:41.496Z"
   },
   {
    "duration": 598,
    "start_time": "2022-03-17T17:10:42.288Z"
   },
   {
    "duration": 262,
    "start_time": "2022-03-17T17:10:42.888Z"
   },
   {
    "duration": 0,
    "start_time": "2022-03-17T17:10:43.152Z"
   },
   {
    "duration": 0,
    "start_time": "2022-03-17T17:10:43.154Z"
   },
   {
    "duration": 1687,
    "start_time": "2022-03-17T17:11:03.702Z"
   },
   {
    "duration": 3651,
    "start_time": "2022-03-17T17:11:20.445Z"
   },
   {
    "duration": 248,
    "start_time": "2022-03-17T17:12:03.047Z"
   },
   {
    "duration": 1713,
    "start_time": "2022-03-17T17:16:47.805Z"
   },
   {
    "duration": 1745,
    "start_time": "2022-03-17T17:17:05.320Z"
   },
   {
    "duration": 245,
    "start_time": "2022-03-17T17:19:16.169Z"
   },
   {
    "duration": 225,
    "start_time": "2022-03-17T17:19:25.506Z"
   },
   {
    "duration": 6,
    "start_time": "2022-03-17T17:24:48.482Z"
   },
   {
    "duration": 12,
    "start_time": "2022-03-17T17:25:13.448Z"
   },
   {
    "duration": 6,
    "start_time": "2022-03-17T17:27:04.648Z"
   },
   {
    "duration": 5,
    "start_time": "2022-03-17T17:27:20.173Z"
   },
   {
    "duration": 448,
    "start_time": "2022-03-17T17:27:41.017Z"
   },
   {
    "duration": 306,
    "start_time": "2022-03-17T18:09:31.359Z"
   },
   {
    "duration": 245,
    "start_time": "2022-03-17T18:09:47.052Z"
   },
   {
    "duration": 336,
    "start_time": "2022-03-17T18:10:07.266Z"
   },
   {
    "duration": 253,
    "start_time": "2022-03-17T18:10:14.991Z"
   },
   {
    "duration": 2793,
    "start_time": "2022-03-17T18:19:52.821Z"
   },
   {
    "duration": 16,
    "start_time": "2022-03-17T18:20:38.281Z"
   },
   {
    "duration": 226,
    "start_time": "2022-03-17T18:22:37.440Z"
   },
   {
    "duration": 4,
    "start_time": "2022-03-17T18:24:35.501Z"
   },
   {
    "duration": 60,
    "start_time": "2022-03-17T18:24:35.507Z"
   },
   {
    "duration": 4,
    "start_time": "2022-03-17T18:24:35.569Z"
   },
   {
    "duration": 236,
    "start_time": "2022-03-17T18:24:35.575Z"
   },
   {
    "duration": 185,
    "start_time": "2022-03-17T18:24:35.813Z"
   },
   {
    "duration": 187,
    "start_time": "2022-03-17T18:24:39.935Z"
   },
   {
    "duration": 37,
    "start_time": "2022-03-17T18:24:40.999Z"
   },
   {
    "duration": 20,
    "start_time": "2022-03-17T18:24:56.727Z"
   },
   {
    "duration": 802,
    "start_time": "2022-03-17T18:25:06.366Z"
   },
   {
    "duration": 6,
    "start_time": "2022-03-17T18:25:08.950Z"
   },
   {
    "duration": 7,
    "start_time": "2022-03-17T18:25:29.453Z"
   },
   {
    "duration": 7,
    "start_time": "2022-03-17T18:25:30.847Z"
   },
   {
    "duration": 7,
    "start_time": "2022-03-17T18:25:32.094Z"
   },
   {
    "duration": 1266,
    "start_time": "2022-03-17T18:25:46.327Z"
   },
   {
    "duration": 1390,
    "start_time": "2022-03-17T18:25:51.574Z"
   },
   {
    "duration": 321,
    "start_time": "2022-03-17T18:28:42.043Z"
   },
   {
    "duration": 694,
    "start_time": "2022-03-17T18:28:46.292Z"
   },
   {
    "duration": 463,
    "start_time": "2022-03-17T18:28:52.039Z"
   },
   {
    "duration": 18,
    "start_time": "2022-03-17T18:30:05.433Z"
   },
   {
    "duration": 14,
    "start_time": "2022-03-17T18:33:01.100Z"
   },
   {
    "duration": 6,
    "start_time": "2022-03-17T18:33:12.421Z"
   },
   {
    "duration": 61,
    "start_time": "2022-03-17T18:33:12.429Z"
   },
   {
    "duration": 4,
    "start_time": "2022-03-17T18:33:12.493Z"
   },
   {
    "duration": 4,
    "start_time": "2022-03-17T18:33:16.410Z"
   },
   {
    "duration": 15,
    "start_time": "2022-03-17T18:33:19.706Z"
   },
   {
    "duration": 7,
    "start_time": "2022-03-17T18:33:36.876Z"
   },
   {
    "duration": 23,
    "start_time": "2022-03-17T18:33:45.059Z"
   },
   {
    "duration": 204,
    "start_time": "2022-03-17T18:34:14.837Z"
   },
   {
    "duration": 14,
    "start_time": "2022-03-17T18:35:02.173Z"
   },
   {
    "duration": 2432,
    "start_time": "2022-03-17T18:35:13.967Z"
   },
   {
    "duration": 7,
    "start_time": "2022-03-17T18:36:28.635Z"
   },
   {
    "duration": 4,
    "start_time": "2022-03-17T18:37:00.497Z"
   },
   {
    "duration": 59,
    "start_time": "2022-03-17T18:37:00.503Z"
   },
   {
    "duration": 3,
    "start_time": "2022-03-17T18:37:00.564Z"
   },
   {
    "duration": 4,
    "start_time": "2022-03-17T18:37:03.080Z"
   },
   {
    "duration": 10,
    "start_time": "2022-03-17T18:37:04.714Z"
   },
   {
    "duration": 5,
    "start_time": "2022-03-17T18:37:18.183Z"
   },
   {
    "duration": 45,
    "start_time": "2022-03-17T18:37:18.190Z"
   },
   {
    "duration": 3,
    "start_time": "2022-03-17T18:37:18.237Z"
   },
   {
    "duration": 4,
    "start_time": "2022-03-17T18:37:19.796Z"
   },
   {
    "duration": 23,
    "start_time": "2022-03-17T18:37:21.264Z"
   },
   {
    "duration": 21,
    "start_time": "2022-03-17T18:37:54.468Z"
   },
   {
    "duration": 29,
    "start_time": "2022-03-17T18:38:11.947Z"
   },
   {
    "duration": 27,
    "start_time": "2022-03-17T18:38:18.492Z"
   },
   {
    "duration": 22,
    "start_time": "2022-03-17T18:38:45.034Z"
   },
   {
    "duration": 9,
    "start_time": "2022-03-17T18:38:47.435Z"
   },
   {
    "duration": 34,
    "start_time": "2022-03-17T18:38:50.211Z"
   },
   {
    "duration": 21,
    "start_time": "2022-03-17T18:38:51.017Z"
   },
   {
    "duration": 21,
    "start_time": "2022-03-17T18:39:00.355Z"
   },
   {
    "duration": 7,
    "start_time": "2022-03-17T18:39:15.201Z"
   },
   {
    "duration": 21,
    "start_time": "2022-03-17T18:39:27.553Z"
   },
   {
    "duration": 6,
    "start_time": "2022-03-17T18:39:56.665Z"
   },
   {
    "duration": 6,
    "start_time": "2022-03-17T18:39:57.865Z"
   },
   {
    "duration": 8,
    "start_time": "2022-03-17T18:39:59.408Z"
   },
   {
    "duration": 7,
    "start_time": "2022-03-17T18:40:03.161Z"
   },
   {
    "duration": 24,
    "start_time": "2022-03-17T18:40:06.658Z"
   },
   {
    "duration": 12,
    "start_time": "2022-03-17T18:40:57.808Z"
   },
   {
    "duration": 4,
    "start_time": "2022-03-17T18:41:30.812Z"
   },
   {
    "duration": 53,
    "start_time": "2022-03-17T18:41:30.818Z"
   },
   {
    "duration": 4,
    "start_time": "2022-03-17T18:41:30.872Z"
   },
   {
    "duration": 28,
    "start_time": "2022-03-17T18:41:30.878Z"
   },
   {
    "duration": 27,
    "start_time": "2022-03-17T18:41:30.908Z"
   },
   {
    "duration": 38,
    "start_time": "2022-03-17T18:41:30.937Z"
   },
   {
    "duration": 21,
    "start_time": "2022-03-17T18:41:30.977Z"
   },
   {
    "duration": 24,
    "start_time": "2022-03-17T18:41:31.000Z"
   },
   {
    "duration": 0,
    "start_time": "2022-03-17T18:41:31.027Z"
   },
   {
    "duration": 0,
    "start_time": "2022-03-17T18:41:31.028Z"
   },
   {
    "duration": 0,
    "start_time": "2022-03-17T18:41:31.031Z"
   },
   {
    "duration": 0,
    "start_time": "2022-03-17T18:41:31.032Z"
   },
   {
    "duration": 0,
    "start_time": "2022-03-17T18:41:31.034Z"
   },
   {
    "duration": 0,
    "start_time": "2022-03-17T18:41:31.063Z"
   },
   {
    "duration": 0,
    "start_time": "2022-03-17T18:41:31.064Z"
   },
   {
    "duration": 0,
    "start_time": "2022-03-17T18:41:31.065Z"
   },
   {
    "duration": 0,
    "start_time": "2022-03-17T18:41:31.067Z"
   },
   {
    "duration": 0,
    "start_time": "2022-03-17T18:41:31.067Z"
   },
   {
    "duration": 0,
    "start_time": "2022-03-17T18:41:31.068Z"
   },
   {
    "duration": 0,
    "start_time": "2022-03-17T18:41:31.069Z"
   },
   {
    "duration": 0,
    "start_time": "2022-03-17T18:41:31.070Z"
   },
   {
    "duration": 2643,
    "start_time": "2022-03-17T18:43:10.904Z"
   },
   {
    "duration": 24,
    "start_time": "2022-03-17T18:45:11.385Z"
   },
   {
    "duration": 53,
    "start_time": "2022-03-17T18:45:29.969Z"
   },
   {
    "duration": 8,
    "start_time": "2022-03-17T18:45:49.054Z"
   },
   {
    "duration": 32,
    "start_time": "2022-03-17T18:45:49.569Z"
   },
   {
    "duration": 18,
    "start_time": "2022-03-17T18:45:52.911Z"
   },
   {
    "duration": 49,
    "start_time": "2022-03-17T18:46:00.902Z"
   },
   {
    "duration": 7,
    "start_time": "2022-03-17T18:46:03.927Z"
   },
   {
    "duration": 7,
    "start_time": "2022-03-17T18:46:05.400Z"
   },
   {
    "duration": 8,
    "start_time": "2022-03-17T18:46:06.487Z"
   },
   {
    "duration": 6,
    "start_time": "2022-03-17T18:46:07.591Z"
   },
   {
    "duration": 45,
    "start_time": "2022-03-17T18:46:13.021Z"
   },
   {
    "duration": 7,
    "start_time": "2022-03-17T18:46:15.279Z"
   },
   {
    "duration": 134,
    "start_time": "2022-03-17T18:46:20.031Z"
   },
   {
    "duration": 21,
    "start_time": "2022-03-17T18:46:27.175Z"
   },
   {
    "duration": 106,
    "start_time": "2022-03-17T18:46:33.758Z"
   },
   {
    "duration": 53,
    "start_time": "2022-03-17T18:46:38.428Z"
   },
   {
    "duration": 158,
    "start_time": "2022-03-17T18:46:44.013Z"
   },
   {
    "duration": 156,
    "start_time": "2022-03-17T18:52:33.500Z"
   },
   {
    "duration": 157,
    "start_time": "2022-03-17T18:52:38.939Z"
   },
   {
    "duration": 149,
    "start_time": "2022-03-17T18:52:59.907Z"
   },
   {
    "duration": 153,
    "start_time": "2022-03-17T18:55:55.689Z"
   },
   {
    "duration": 146,
    "start_time": "2022-03-17T18:56:59.218Z"
   },
   {
    "duration": 146,
    "start_time": "2022-03-17T18:57:52.585Z"
   },
   {
    "duration": 167,
    "start_time": "2022-03-17T18:58:55.521Z"
   },
   {
    "duration": 2023,
    "start_time": "2022-03-17T19:02:23.530Z"
   },
   {
    "duration": 80,
    "start_time": "2022-03-17T19:05:45.639Z"
   },
   {
    "duration": 26,
    "start_time": "2022-03-17T19:14:12.169Z"
   },
   {
    "duration": 25,
    "start_time": "2022-03-17T19:16:45.818Z"
   },
   {
    "duration": 15,
    "start_time": "2022-03-17T19:18:04.128Z"
   },
   {
    "duration": 4,
    "start_time": "2022-03-17T19:18:11.138Z"
   },
   {
    "duration": 48,
    "start_time": "2022-03-17T19:18:11.144Z"
   },
   {
    "duration": 4,
    "start_time": "2022-03-17T19:18:11.193Z"
   },
   {
    "duration": 70,
    "start_time": "2022-03-17T19:18:11.199Z"
   },
   {
    "duration": 9,
    "start_time": "2022-03-17T19:18:11.272Z"
   },
   {
    "duration": 68,
    "start_time": "2022-03-17T19:18:11.283Z"
   },
   {
    "duration": 19,
    "start_time": "2022-03-17T19:18:11.354Z"
   },
   {
    "duration": 61,
    "start_time": "2022-03-17T19:18:11.375Z"
   },
   {
    "duration": 5,
    "start_time": "2022-03-17T19:18:11.438Z"
   },
   {
    "duration": 22,
    "start_time": "2022-03-17T19:18:11.445Z"
   },
   {
    "duration": 8,
    "start_time": "2022-03-17T19:18:11.469Z"
   },
   {
    "duration": 5,
    "start_time": "2022-03-17T19:18:11.479Z"
   },
   {
    "duration": 14,
    "start_time": "2022-03-17T19:18:21.124Z"
   },
   {
    "duration": 29,
    "start_time": "2022-03-17T19:18:28.750Z"
   },
   {
    "duration": 39,
    "start_time": "2022-03-17T19:18:40.687Z"
   },
   {
    "duration": 224,
    "start_time": "2022-03-17T19:20:24.768Z"
   },
   {
    "duration": 26,
    "start_time": "2022-03-17T19:20:35.977Z"
   },
   {
    "duration": 228,
    "start_time": "2022-03-17T19:20:48.319Z"
   },
   {
    "duration": 225,
    "start_time": "2022-03-17T19:21:09.246Z"
   },
   {
    "duration": 87,
    "start_time": "2022-03-17T19:21:14.338Z"
   },
   {
    "duration": 9,
    "start_time": "2022-03-17T19:21:15.989Z"
   },
   {
    "duration": 89,
    "start_time": "2022-03-17T19:21:20.910Z"
   },
   {
    "duration": 102,
    "start_time": "2022-03-17T19:21:27.365Z"
   },
   {
    "duration": 5,
    "start_time": "2022-03-17T19:21:52.864Z"
   },
   {
    "duration": 49,
    "start_time": "2022-03-17T19:21:52.871Z"
   },
   {
    "duration": 3,
    "start_time": "2022-03-17T19:21:52.922Z"
   },
   {
    "duration": 64,
    "start_time": "2022-03-17T19:21:52.927Z"
   },
   {
    "duration": 8,
    "start_time": "2022-03-17T19:21:52.993Z"
   },
   {
    "duration": 30,
    "start_time": "2022-03-17T19:21:53.002Z"
   },
   {
    "duration": 35,
    "start_time": "2022-03-17T19:21:53.034Z"
   },
   {
    "duration": 55,
    "start_time": "2022-03-17T19:21:53.071Z"
   },
   {
    "duration": 5,
    "start_time": "2022-03-17T19:21:53.127Z"
   },
   {
    "duration": 6,
    "start_time": "2022-03-17T19:21:53.134Z"
   },
   {
    "duration": 24,
    "start_time": "2022-03-17T19:21:53.142Z"
   },
   {
    "duration": 6,
    "start_time": "2022-03-17T19:21:53.168Z"
   },
   {
    "duration": 27,
    "start_time": "2022-03-17T19:21:53.175Z"
   },
   {
    "duration": 28,
    "start_time": "2022-03-17T19:21:55.174Z"
   },
   {
    "duration": 224,
    "start_time": "2022-03-17T19:21:58.462Z"
   },
   {
    "duration": 4,
    "start_time": "2022-03-17T19:22:10.713Z"
   },
   {
    "duration": 49,
    "start_time": "2022-03-17T19:22:10.719Z"
   },
   {
    "duration": 4,
    "start_time": "2022-03-17T19:22:10.770Z"
   },
   {
    "duration": 56,
    "start_time": "2022-03-17T19:22:10.776Z"
   },
   {
    "duration": 9,
    "start_time": "2022-03-17T19:22:10.834Z"
   },
   {
    "duration": 47,
    "start_time": "2022-03-17T19:22:10.844Z"
   },
   {
    "duration": 20,
    "start_time": "2022-03-17T19:22:10.892Z"
   },
   {
    "duration": 73,
    "start_time": "2022-03-17T19:22:10.914Z"
   },
   {
    "duration": 6,
    "start_time": "2022-03-17T19:22:10.990Z"
   },
   {
    "duration": 9,
    "start_time": "2022-03-17T19:22:10.997Z"
   },
   {
    "duration": 9,
    "start_time": "2022-03-17T19:22:11.007Z"
   },
   {
    "duration": 13,
    "start_time": "2022-03-17T19:22:11.017Z"
   },
   {
    "duration": 3,
    "start_time": "2022-03-17T19:22:13.237Z"
   },
   {
    "duration": 229,
    "start_time": "2022-03-17T19:22:15.286Z"
   },
   {
    "duration": 224,
    "start_time": "2022-03-17T19:25:53.821Z"
   },
   {
    "duration": 89,
    "start_time": "2022-03-17T19:26:00.694Z"
   },
   {
    "duration": 449,
    "start_time": "2022-03-17T19:26:05.243Z"
   },
   {
    "duration": 15,
    "start_time": "2022-03-17T19:26:10.947Z"
   },
   {
    "duration": 225,
    "start_time": "2022-03-17T19:26:18.909Z"
   },
   {
    "duration": 4,
    "start_time": "2022-03-17T19:26:53.618Z"
   },
   {
    "duration": 52,
    "start_time": "2022-03-17T19:26:53.624Z"
   },
   {
    "duration": 3,
    "start_time": "2022-03-17T19:26:53.678Z"
   },
   {
    "duration": 52,
    "start_time": "2022-03-17T19:26:53.683Z"
   },
   {
    "duration": 25,
    "start_time": "2022-03-17T19:26:53.738Z"
   },
   {
    "duration": 32,
    "start_time": "2022-03-17T19:26:53.765Z"
   },
   {
    "duration": 20,
    "start_time": "2022-03-17T19:26:53.798Z"
   },
   {
    "duration": 74,
    "start_time": "2022-03-17T19:26:53.819Z"
   },
   {
    "duration": 6,
    "start_time": "2022-03-17T19:26:53.895Z"
   },
   {
    "duration": 6,
    "start_time": "2022-03-17T19:26:53.903Z"
   },
   {
    "duration": 6,
    "start_time": "2022-03-17T19:26:53.910Z"
   },
   {
    "duration": 7,
    "start_time": "2022-03-17T19:26:53.918Z"
   },
   {
    "duration": 5,
    "start_time": "2022-03-17T19:26:53.926Z"
   },
   {
    "duration": 2,
    "start_time": "2022-03-17T19:26:55.939Z"
   },
   {
    "duration": 94,
    "start_time": "2022-03-17T19:26:56.508Z"
   },
   {
    "duration": 28,
    "start_time": "2022-03-17T19:27:21.547Z"
   },
   {
    "duration": 13,
    "start_time": "2022-03-17T19:27:26.411Z"
   },
   {
    "duration": 39,
    "start_time": "2022-03-17T19:27:32.267Z"
   },
   {
    "duration": 29,
    "start_time": "2022-03-17T19:27:36.314Z"
   },
   {
    "duration": 32,
    "start_time": "2022-03-17T19:27:41.476Z"
   },
   {
    "duration": 30,
    "start_time": "2022-03-17T19:27:45.386Z"
   },
   {
    "duration": 13,
    "start_time": "2022-03-17T19:28:07.171Z"
   },
   {
    "duration": 4,
    "start_time": "2022-03-17T19:28:52.340Z"
   },
   {
    "duration": 46,
    "start_time": "2022-03-17T19:28:52.346Z"
   },
   {
    "duration": 4,
    "start_time": "2022-03-17T19:28:52.393Z"
   },
   {
    "duration": 65,
    "start_time": "2022-03-17T19:28:52.399Z"
   },
   {
    "duration": 10,
    "start_time": "2022-03-17T19:28:52.466Z"
   },
   {
    "duration": 33,
    "start_time": "2022-03-17T19:28:52.478Z"
   },
   {
    "duration": 18,
    "start_time": "2022-03-17T19:28:52.513Z"
   },
   {
    "duration": 80,
    "start_time": "2022-03-17T19:28:52.533Z"
   },
   {
    "duration": 6,
    "start_time": "2022-03-17T19:28:52.616Z"
   },
   {
    "duration": 8,
    "start_time": "2022-03-17T19:28:52.624Z"
   },
   {
    "duration": 7,
    "start_time": "2022-03-17T19:28:52.633Z"
   },
   {
    "duration": 6,
    "start_time": "2022-03-17T19:28:52.662Z"
   },
   {
    "duration": 12,
    "start_time": "2022-03-17T19:28:55.156Z"
   },
   {
    "duration": 10,
    "start_time": "2022-03-17T19:29:28.676Z"
   },
   {
    "duration": 30,
    "start_time": "2022-03-17T19:30:05.483Z"
   },
   {
    "duration": 32,
    "start_time": "2022-03-17T19:32:32.034Z"
   },
   {
    "duration": 10,
    "start_time": "2022-03-17T19:32:47.913Z"
   },
   {
    "duration": 3,
    "start_time": "2022-03-17T19:33:11.113Z"
   },
   {
    "duration": 34,
    "start_time": "2022-03-17T19:33:17.353Z"
   },
   {
    "duration": 476,
    "start_time": "2022-03-17T19:33:22.647Z"
   },
   {
    "duration": 796,
    "start_time": "2022-03-17T19:33:29.784Z"
   },
   {
    "duration": 640,
    "start_time": "2022-03-17T19:33:34.976Z"
   },
   {
    "duration": 682,
    "start_time": "2022-03-17T19:33:41.388Z"
   },
   {
    "duration": 47,
    "start_time": "2022-03-17T19:36:40.416Z"
   },
   {
    "duration": 186,
    "start_time": "2022-03-17T19:36:51.577Z"
   },
   {
    "duration": 5,
    "start_time": "2022-03-17T19:37:04.521Z"
   },
   {
    "duration": 43,
    "start_time": "2022-03-17T19:37:04.528Z"
   },
   {
    "duration": 3,
    "start_time": "2022-03-17T19:37:04.573Z"
   },
   {
    "duration": 51,
    "start_time": "2022-03-17T19:37:04.578Z"
   },
   {
    "duration": 7,
    "start_time": "2022-03-17T19:37:04.631Z"
   },
   {
    "duration": 48,
    "start_time": "2022-03-17T19:37:04.640Z"
   },
   {
    "duration": 17,
    "start_time": "2022-03-17T19:37:04.690Z"
   },
   {
    "duration": 65,
    "start_time": "2022-03-17T19:37:04.708Z"
   },
   {
    "duration": 6,
    "start_time": "2022-03-17T19:37:04.775Z"
   },
   {
    "duration": 5,
    "start_time": "2022-03-17T19:37:04.783Z"
   },
   {
    "duration": 5,
    "start_time": "2022-03-17T19:37:04.790Z"
   },
   {
    "duration": 7,
    "start_time": "2022-03-17T19:37:04.797Z"
   },
   {
    "duration": 58,
    "start_time": "2022-03-17T19:37:04.805Z"
   },
   {
    "duration": 730,
    "start_time": "2022-03-17T19:37:04.865Z"
   },
   {
    "duration": 18,
    "start_time": "2022-03-17T19:37:08.135Z"
   },
   {
    "duration": 32,
    "start_time": "2022-03-17T19:40:04.046Z"
   },
   {
    "duration": 19,
    "start_time": "2022-03-17T19:40:07.959Z"
   },
   {
    "duration": 4,
    "start_time": "2022-03-17T19:40:20.635Z"
   },
   {
    "duration": 46,
    "start_time": "2022-03-17T19:40:20.641Z"
   },
   {
    "duration": 3,
    "start_time": "2022-03-17T19:40:20.689Z"
   },
   {
    "duration": 52,
    "start_time": "2022-03-17T19:40:20.694Z"
   },
   {
    "duration": 8,
    "start_time": "2022-03-17T19:40:20.762Z"
   },
   {
    "duration": 35,
    "start_time": "2022-03-17T19:40:20.771Z"
   },
   {
    "duration": 19,
    "start_time": "2022-03-17T19:40:20.808Z"
   },
   {
    "duration": 77,
    "start_time": "2022-03-17T19:40:20.828Z"
   },
   {
    "duration": 5,
    "start_time": "2022-03-17T19:40:20.907Z"
   },
   {
    "duration": 5,
    "start_time": "2022-03-17T19:40:20.914Z"
   },
   {
    "duration": 6,
    "start_time": "2022-03-17T19:40:20.920Z"
   },
   {
    "duration": 7,
    "start_time": "2022-03-17T19:40:20.927Z"
   },
   {
    "duration": 30,
    "start_time": "2022-03-17T19:40:25.366Z"
   },
   {
    "duration": 716,
    "start_time": "2022-03-17T19:40:27.620Z"
   },
   {
    "duration": 89,
    "start_time": "2022-03-17T19:40:35.902Z"
   },
   {
    "duration": 4,
    "start_time": "2022-03-17T19:41:20.217Z"
   },
   {
    "duration": 44,
    "start_time": "2022-03-17T19:41:20.223Z"
   },
   {
    "duration": 4,
    "start_time": "2022-03-17T19:41:20.269Z"
   },
   {
    "duration": 55,
    "start_time": "2022-03-17T19:41:20.274Z"
   },
   {
    "duration": 8,
    "start_time": "2022-03-17T19:41:20.331Z"
   },
   {
    "duration": 50,
    "start_time": "2022-03-17T19:41:20.341Z"
   },
   {
    "duration": 17,
    "start_time": "2022-03-17T19:41:20.393Z"
   },
   {
    "duration": 73,
    "start_time": "2022-03-17T19:41:20.411Z"
   },
   {
    "duration": 7,
    "start_time": "2022-03-17T19:41:20.486Z"
   },
   {
    "duration": 7,
    "start_time": "2022-03-17T19:41:20.494Z"
   },
   {
    "duration": 11,
    "start_time": "2022-03-17T19:41:20.503Z"
   },
   {
    "duration": 9,
    "start_time": "2022-03-17T19:41:20.516Z"
   },
   {
    "duration": 92,
    "start_time": "2022-03-17T19:41:25.397Z"
   },
   {
    "duration": 228,
    "start_time": "2022-03-17T19:41:44.013Z"
   },
   {
    "duration": 4,
    "start_time": "2022-03-17T19:41:48.023Z"
   },
   {
    "duration": 55,
    "start_time": "2022-03-17T19:41:48.029Z"
   },
   {
    "duration": 4,
    "start_time": "2022-03-17T19:41:48.086Z"
   },
   {
    "duration": 52,
    "start_time": "2022-03-17T19:41:48.092Z"
   },
   {
    "duration": 8,
    "start_time": "2022-03-17T19:41:48.162Z"
   },
   {
    "duration": 36,
    "start_time": "2022-03-17T19:41:48.171Z"
   },
   {
    "duration": 19,
    "start_time": "2022-03-17T19:41:48.208Z"
   },
   {
    "duration": 78,
    "start_time": "2022-03-17T19:41:48.229Z"
   },
   {
    "duration": 6,
    "start_time": "2022-03-17T19:41:48.309Z"
   },
   {
    "duration": 8,
    "start_time": "2022-03-17T19:41:48.316Z"
   },
   {
    "duration": 5,
    "start_time": "2022-03-17T19:41:48.326Z"
   },
   {
    "duration": 6,
    "start_time": "2022-03-17T19:41:48.332Z"
   },
   {
    "duration": 228,
    "start_time": "2022-03-17T19:41:50.742Z"
   },
   {
    "duration": 222,
    "start_time": "2022-03-17T19:42:36.891Z"
   },
   {
    "duration": 220,
    "start_time": "2022-03-17T19:43:57.067Z"
   },
   {
    "duration": 176,
    "start_time": "2022-03-17T19:44:35.404Z"
   },
   {
    "duration": 31,
    "start_time": "2022-03-17T19:44:38.900Z"
   },
   {
    "duration": 180,
    "start_time": "2022-03-17T19:44:42.575Z"
   },
   {
    "duration": 42,
    "start_time": "2022-03-17T19:44:52.700Z"
   },
   {
    "duration": 5,
    "start_time": "2022-03-17T19:44:57.070Z"
   },
   {
    "duration": 47,
    "start_time": "2022-03-17T19:44:57.076Z"
   },
   {
    "duration": 4,
    "start_time": "2022-03-17T19:44:57.125Z"
   },
   {
    "duration": 59,
    "start_time": "2022-03-17T19:44:57.130Z"
   },
   {
    "duration": 8,
    "start_time": "2022-03-17T19:44:57.190Z"
   },
   {
    "duration": 30,
    "start_time": "2022-03-17T19:44:57.199Z"
   },
   {
    "duration": 38,
    "start_time": "2022-03-17T19:44:57.231Z"
   },
   {
    "duration": 49,
    "start_time": "2022-03-17T19:44:57.270Z"
   },
   {
    "duration": 7,
    "start_time": "2022-03-17T19:44:57.321Z"
   },
   {
    "duration": 6,
    "start_time": "2022-03-17T19:44:57.331Z"
   },
   {
    "duration": 24,
    "start_time": "2022-03-17T19:44:57.339Z"
   },
   {
    "duration": 6,
    "start_time": "2022-03-17T19:44:57.365Z"
   },
   {
    "duration": 41,
    "start_time": "2022-03-17T19:45:00.212Z"
   },
   {
    "duration": 31,
    "start_time": "2022-03-17T19:45:16.180Z"
   },
   {
    "duration": 42,
    "start_time": "2022-03-17T19:45:19.475Z"
   },
   {
    "duration": 43,
    "start_time": "2022-03-17T19:45:35.675Z"
   },
   {
    "duration": 4,
    "start_time": "2022-03-17T19:45:39.483Z"
   },
   {
    "duration": 43,
    "start_time": "2022-03-17T19:45:39.490Z"
   },
   {
    "duration": 3,
    "start_time": "2022-03-17T19:45:39.535Z"
   },
   {
    "duration": 55,
    "start_time": "2022-03-17T19:45:39.540Z"
   },
   {
    "duration": 8,
    "start_time": "2022-03-17T19:45:39.598Z"
   },
   {
    "duration": 33,
    "start_time": "2022-03-17T19:45:39.608Z"
   },
   {
    "duration": 18,
    "start_time": "2022-03-17T19:45:39.662Z"
   },
   {
    "duration": 50,
    "start_time": "2022-03-17T19:45:39.682Z"
   },
   {
    "duration": 7,
    "start_time": "2022-03-17T19:45:39.734Z"
   },
   {
    "duration": 7,
    "start_time": "2022-03-17T19:45:39.763Z"
   },
   {
    "duration": 7,
    "start_time": "2022-03-17T19:45:39.772Z"
   },
   {
    "duration": 7,
    "start_time": "2022-03-17T19:45:39.780Z"
   },
   {
    "duration": 41,
    "start_time": "2022-03-17T19:45:41.507Z"
   },
   {
    "duration": 5,
    "start_time": "2022-03-17T19:45:49.030Z"
   },
   {
    "duration": 43,
    "start_time": "2022-03-17T19:45:49.037Z"
   },
   {
    "duration": 4,
    "start_time": "2022-03-17T19:45:49.082Z"
   },
   {
    "duration": 54,
    "start_time": "2022-03-17T19:45:49.088Z"
   },
   {
    "duration": 23,
    "start_time": "2022-03-17T19:45:49.144Z"
   },
   {
    "duration": 31,
    "start_time": "2022-03-17T19:45:49.169Z"
   },
   {
    "duration": 18,
    "start_time": "2022-03-17T19:45:49.202Z"
   },
   {
    "duration": 75,
    "start_time": "2022-03-17T19:45:49.221Z"
   },
   {
    "duration": 6,
    "start_time": "2022-03-17T19:45:49.298Z"
   },
   {
    "duration": 6,
    "start_time": "2022-03-17T19:45:49.307Z"
   },
   {
    "duration": 6,
    "start_time": "2022-03-17T19:45:49.314Z"
   },
   {
    "duration": 6,
    "start_time": "2022-03-17T19:45:49.322Z"
   },
   {
    "duration": 330,
    "start_time": "2022-03-17T19:45:51.956Z"
   },
   {
    "duration": 231,
    "start_time": "2022-03-17T19:46:27.051Z"
   },
   {
    "duration": 20,
    "start_time": "2022-03-17T19:47:56.906Z"
   },
   {
    "duration": 708,
    "start_time": "2022-03-17T19:48:13.282Z"
   },
   {
    "duration": 533,
    "start_time": "2022-03-17T19:48:19.354Z"
   },
   {
    "duration": 20,
    "start_time": "2022-03-17T19:48:30.778Z"
   },
   {
    "duration": 1554,
    "start_time": "2022-03-17T19:48:36.641Z"
   },
   {
    "duration": 7781,
    "start_time": "2022-03-17T19:48:43.701Z"
   },
   {
    "duration": 92,
    "start_time": "2022-03-17T19:48:57.970Z"
   },
   {
    "duration": 227,
    "start_time": "2022-03-17T19:49:13.392Z"
   },
   {
    "duration": 173,
    "start_time": "2022-03-17T19:49:22.569Z"
   },
   {
    "duration": 4,
    "start_time": "2022-03-17T19:49:30.396Z"
   },
   {
    "duration": 61,
    "start_time": "2022-03-17T19:49:30.402Z"
   },
   {
    "duration": 3,
    "start_time": "2022-03-17T19:49:30.465Z"
   },
   {
    "duration": 55,
    "start_time": "2022-03-17T19:49:30.470Z"
   },
   {
    "duration": 9,
    "start_time": "2022-03-17T19:49:30.527Z"
   },
   {
    "duration": 42,
    "start_time": "2022-03-17T19:49:30.538Z"
   },
   {
    "duration": 19,
    "start_time": "2022-03-17T19:49:30.582Z"
   },
   {
    "duration": 63,
    "start_time": "2022-03-17T19:49:30.602Z"
   },
   {
    "duration": 6,
    "start_time": "2022-03-17T19:49:30.667Z"
   },
   {
    "duration": 16,
    "start_time": "2022-03-17T19:49:30.675Z"
   },
   {
    "duration": 20,
    "start_time": "2022-03-17T19:49:30.692Z"
   },
   {
    "duration": 26,
    "start_time": "2022-03-17T19:49:30.713Z"
   },
   {
    "duration": 184,
    "start_time": "2022-03-17T19:49:32.864Z"
   },
   {
    "duration": 178,
    "start_time": "2022-03-17T19:49:35.969Z"
   },
   {
    "duration": 181,
    "start_time": "2022-03-17T19:50:50.985Z"
   },
   {
    "duration": 178,
    "start_time": "2022-03-17T19:51:07.169Z"
   },
   {
    "duration": 183,
    "start_time": "2022-03-17T19:51:14.864Z"
   },
   {
    "duration": 181,
    "start_time": "2022-03-17T19:51:31.920Z"
   },
   {
    "duration": 3,
    "start_time": "2022-03-17T19:52:14.000Z"
   },
   {
    "duration": 3,
    "start_time": "2022-03-17T19:52:25.465Z"
   },
   {
    "duration": 173,
    "start_time": "2022-03-17T19:52:43.639Z"
   },
   {
    "duration": 185,
    "start_time": "2022-03-17T19:53:09.550Z"
   },
   {
    "duration": 176,
    "start_time": "2022-03-17T19:53:19.855Z"
   },
   {
    "duration": 182,
    "start_time": "2022-03-17T19:53:38.307Z"
   },
   {
    "duration": 5,
    "start_time": "2022-03-17T19:53:45.059Z"
   },
   {
    "duration": 46,
    "start_time": "2022-03-17T19:53:45.066Z"
   },
   {
    "duration": 3,
    "start_time": "2022-03-17T19:53:45.114Z"
   },
   {
    "duration": 53,
    "start_time": "2022-03-17T19:53:45.119Z"
   },
   {
    "duration": 8,
    "start_time": "2022-03-17T19:53:45.174Z"
   },
   {
    "duration": 35,
    "start_time": "2022-03-17T19:53:45.183Z"
   },
   {
    "duration": 44,
    "start_time": "2022-03-17T19:53:45.219Z"
   },
   {
    "duration": 49,
    "start_time": "2022-03-17T19:53:45.265Z"
   },
   {
    "duration": 6,
    "start_time": "2022-03-17T19:53:45.315Z"
   },
   {
    "duration": 7,
    "start_time": "2022-03-17T19:53:45.323Z"
   },
   {
    "duration": 34,
    "start_time": "2022-03-17T19:53:45.332Z"
   },
   {
    "duration": 6,
    "start_time": "2022-03-17T19:53:45.368Z"
   },
   {
    "duration": 177,
    "start_time": "2022-03-17T19:53:48.847Z"
   },
   {
    "duration": 134,
    "start_time": "2022-03-17T19:55:03.054Z"
   },
   {
    "duration": 4,
    "start_time": "2022-03-17T19:55:07.565Z"
   },
   {
    "duration": 43,
    "start_time": "2022-03-17T19:55:07.571Z"
   },
   {
    "duration": 3,
    "start_time": "2022-03-17T19:55:07.615Z"
   },
   {
    "duration": 55,
    "start_time": "2022-03-17T19:55:07.620Z"
   },
   {
    "duration": 8,
    "start_time": "2022-03-17T19:55:07.678Z"
   },
   {
    "duration": 34,
    "start_time": "2022-03-17T19:55:07.687Z"
   },
   {
    "duration": 45,
    "start_time": "2022-03-17T19:55:07.723Z"
   },
   {
    "duration": 54,
    "start_time": "2022-03-17T19:55:07.769Z"
   },
   {
    "duration": 5,
    "start_time": "2022-03-17T19:55:07.825Z"
   },
   {
    "duration": 6,
    "start_time": "2022-03-17T19:55:07.832Z"
   },
   {
    "duration": 5,
    "start_time": "2022-03-17T19:55:07.864Z"
   },
   {
    "duration": 6,
    "start_time": "2022-03-17T19:55:07.871Z"
   },
   {
    "duration": 143,
    "start_time": "2022-03-17T19:55:09.576Z"
   },
   {
    "duration": 30,
    "start_time": "2022-03-17T19:55:19.246Z"
   },
   {
    "duration": 156,
    "start_time": "2022-03-17T19:55:28.199Z"
   },
   {
    "duration": 269,
    "start_time": "2022-03-17T19:55:53.767Z"
   },
   {
    "duration": 4,
    "start_time": "2022-03-17T19:55:57.982Z"
   },
   {
    "duration": 44,
    "start_time": "2022-03-17T19:55:57.988Z"
   },
   {
    "duration": 4,
    "start_time": "2022-03-17T19:55:58.033Z"
   },
   {
    "duration": 41,
    "start_time": "2022-03-17T19:55:58.039Z"
   },
   {
    "duration": 8,
    "start_time": "2022-03-17T19:55:58.082Z"
   },
   {
    "duration": 33,
    "start_time": "2022-03-17T19:55:58.092Z"
   },
   {
    "duration": 39,
    "start_time": "2022-03-17T19:55:58.127Z"
   },
   {
    "duration": 50,
    "start_time": "2022-03-17T19:55:58.167Z"
   },
   {
    "duration": 5,
    "start_time": "2022-03-17T19:55:58.219Z"
   },
   {
    "duration": 6,
    "start_time": "2022-03-17T19:55:58.226Z"
   },
   {
    "duration": 34,
    "start_time": "2022-03-17T19:55:58.233Z"
   },
   {
    "duration": 6,
    "start_time": "2022-03-17T19:55:58.269Z"
   },
   {
    "duration": 249,
    "start_time": "2022-03-17T19:56:00.486Z"
   },
   {
    "duration": 247,
    "start_time": "2022-03-17T19:56:51.064Z"
   },
   {
    "duration": 271,
    "start_time": "2022-03-17T19:57:00.022Z"
   },
   {
    "duration": 127,
    "start_time": "2022-03-17T19:57:56.270Z"
   },
   {
    "duration": 236,
    "start_time": "2022-03-17T19:58:13.493Z"
   },
   {
    "duration": 4,
    "start_time": "2022-03-17T19:58:18.304Z"
   },
   {
    "duration": 51,
    "start_time": "2022-03-17T19:58:18.310Z"
   },
   {
    "duration": 4,
    "start_time": "2022-03-17T19:58:18.362Z"
   },
   {
    "duration": 45,
    "start_time": "2022-03-17T19:58:18.367Z"
   },
   {
    "duration": 8,
    "start_time": "2022-03-17T19:58:18.414Z"
   },
   {
    "duration": 52,
    "start_time": "2022-03-17T19:58:18.423Z"
   },
   {
    "duration": 17,
    "start_time": "2022-03-17T19:58:18.477Z"
   },
   {
    "duration": 48,
    "start_time": "2022-03-17T19:58:18.496Z"
   },
   {
    "duration": 22,
    "start_time": "2022-03-17T19:58:18.546Z"
   },
   {
    "duration": 8,
    "start_time": "2022-03-17T19:58:18.569Z"
   },
   {
    "duration": 5,
    "start_time": "2022-03-17T19:58:18.580Z"
   },
   {
    "duration": 5,
    "start_time": "2022-03-17T19:58:18.587Z"
   },
   {
    "duration": 236,
    "start_time": "2022-03-17T19:58:21.036Z"
   },
   {
    "duration": 90,
    "start_time": "2022-03-17T19:58:32.181Z"
   },
   {
    "duration": 185,
    "start_time": "2022-03-17T19:58:37.173Z"
   },
   {
    "duration": 5,
    "start_time": "2022-03-17T19:58:41.918Z"
   },
   {
    "duration": 47,
    "start_time": "2022-03-17T19:58:41.925Z"
   },
   {
    "duration": 3,
    "start_time": "2022-03-17T19:58:41.974Z"
   },
   {
    "duration": 47,
    "start_time": "2022-03-17T19:58:41.980Z"
   },
   {
    "duration": 7,
    "start_time": "2022-03-17T19:58:42.029Z"
   },
   {
    "duration": 56,
    "start_time": "2022-03-17T19:58:42.038Z"
   },
   {
    "duration": 19,
    "start_time": "2022-03-17T19:58:42.096Z"
   },
   {
    "duration": 87,
    "start_time": "2022-03-17T19:58:42.117Z"
   },
   {
    "duration": 8,
    "start_time": "2022-03-17T19:58:42.207Z"
   },
   {
    "duration": 10,
    "start_time": "2022-03-17T19:58:42.217Z"
   },
   {
    "duration": 8,
    "start_time": "2022-03-17T19:58:42.228Z"
   },
   {
    "duration": 27,
    "start_time": "2022-03-17T19:58:42.238Z"
   },
   {
    "duration": 155,
    "start_time": "2022-03-17T19:58:42.267Z"
   },
   {
    "duration": 4,
    "start_time": "2022-03-17T19:58:51.377Z"
   },
   {
    "duration": 43,
    "start_time": "2022-03-17T19:58:51.383Z"
   },
   {
    "duration": 3,
    "start_time": "2022-03-17T19:58:51.428Z"
   },
   {
    "duration": 52,
    "start_time": "2022-03-17T19:58:51.432Z"
   },
   {
    "duration": 8,
    "start_time": "2022-03-17T19:58:51.486Z"
   },
   {
    "duration": 40,
    "start_time": "2022-03-17T19:58:51.497Z"
   },
   {
    "duration": 37,
    "start_time": "2022-03-17T19:58:51.539Z"
   },
   {
    "duration": 50,
    "start_time": "2022-03-17T19:58:51.578Z"
   },
   {
    "duration": 6,
    "start_time": "2022-03-17T19:58:51.630Z"
   },
   {
    "duration": 29,
    "start_time": "2022-03-17T19:58:51.637Z"
   },
   {
    "duration": 7,
    "start_time": "2022-03-17T19:58:51.669Z"
   },
   {
    "duration": 11,
    "start_time": "2022-03-17T19:58:51.678Z"
   },
   {
    "duration": 222,
    "start_time": "2022-03-17T19:58:54.277Z"
   },
   {
    "duration": 249,
    "start_time": "2022-03-17T19:59:00.228Z"
   },
   {
    "duration": 4,
    "start_time": "2022-03-17T19:59:31.719Z"
   },
   {
    "duration": 44,
    "start_time": "2022-03-17T19:59:31.725Z"
   },
   {
    "duration": 3,
    "start_time": "2022-03-17T19:59:31.772Z"
   },
   {
    "duration": 53,
    "start_time": "2022-03-17T19:59:31.778Z"
   },
   {
    "duration": 8,
    "start_time": "2022-03-17T19:59:31.833Z"
   },
   {
    "duration": 50,
    "start_time": "2022-03-17T19:59:31.842Z"
   },
   {
    "duration": 17,
    "start_time": "2022-03-17T19:59:31.894Z"
   },
   {
    "duration": 3,
    "start_time": "2022-03-17T19:59:31.913Z"
   },
   {
    "duration": 5,
    "start_time": "2022-03-17T19:59:31.917Z"
   },
   {
    "duration": 4,
    "start_time": "2022-03-17T19:59:31.924Z"
   },
   {
    "duration": 4,
    "start_time": "2022-03-17T19:59:31.930Z"
   },
   {
    "duration": 231,
    "start_time": "2022-03-17T19:59:36.685Z"
   },
   {
    "duration": 33,
    "start_time": "2022-03-17T20:00:12.381Z"
   },
   {
    "duration": 98,
    "start_time": "2022-03-17T20:00:14.731Z"
   },
   {
    "duration": 87,
    "start_time": "2022-03-17T20:00:33.683Z"
   },
   {
    "duration": 85,
    "start_time": "2022-03-17T20:00:36.388Z"
   },
   {
    "duration": 92,
    "start_time": "2022-03-17T20:00:38.580Z"
   },
   {
    "duration": 247,
    "start_time": "2022-03-17T20:00:43.196Z"
   },
   {
    "duration": 254,
    "start_time": "2022-03-17T20:00:45.892Z"
   },
   {
    "duration": 229,
    "start_time": "2022-03-17T20:01:37.336Z"
   },
   {
    "duration": 4,
    "start_time": "2022-03-17T20:01:51.375Z"
   },
   {
    "duration": 45,
    "start_time": "2022-03-17T20:01:51.380Z"
   },
   {
    "duration": 4,
    "start_time": "2022-03-17T20:01:51.426Z"
   },
   {
    "duration": 48,
    "start_time": "2022-03-17T20:01:51.433Z"
   },
   {
    "duration": 9,
    "start_time": "2022-03-17T20:01:51.482Z"
   },
   {
    "duration": 34,
    "start_time": "2022-03-17T20:01:51.493Z"
   },
   {
    "duration": 42,
    "start_time": "2022-03-17T20:01:51.529Z"
   },
   {
    "duration": 2,
    "start_time": "2022-03-17T20:01:51.573Z"
   },
   {
    "duration": 6,
    "start_time": "2022-03-17T20:01:51.577Z"
   },
   {
    "duration": 5,
    "start_time": "2022-03-17T20:01:51.584Z"
   },
   {
    "duration": 6,
    "start_time": "2022-03-17T20:01:51.590Z"
   },
   {
    "duration": 4,
    "start_time": "2022-03-17T20:01:51.598Z"
   },
   {
    "duration": 230,
    "start_time": "2022-03-17T20:01:53.907Z"
   },
   {
    "duration": 93,
    "start_time": "2022-03-17T20:02:07.981Z"
   },
   {
    "duration": 24,
    "start_time": "2022-03-17T20:02:14.916Z"
   },
   {
    "duration": 59,
    "start_time": "2022-03-17T20:02:54.322Z"
   },
   {
    "duration": 4,
    "start_time": "2022-03-17T20:02:59.112Z"
   },
   {
    "duration": 56,
    "start_time": "2022-03-17T20:02:59.118Z"
   },
   {
    "duration": 4,
    "start_time": "2022-03-17T20:02:59.176Z"
   },
   {
    "duration": 60,
    "start_time": "2022-03-17T20:02:59.181Z"
   },
   {
    "duration": 8,
    "start_time": "2022-03-17T20:02:59.243Z"
   },
   {
    "duration": 39,
    "start_time": "2022-03-17T20:02:59.253Z"
   },
   {
    "duration": 18,
    "start_time": "2022-03-17T20:02:59.293Z"
   },
   {
    "duration": 2,
    "start_time": "2022-03-17T20:02:59.313Z"
   },
   {
    "duration": 32,
    "start_time": "2022-03-17T20:02:59.316Z"
   },
   {
    "duration": 36,
    "start_time": "2022-03-17T20:02:59.350Z"
   },
   {
    "duration": 31,
    "start_time": "2022-03-17T20:02:59.389Z"
   },
   {
    "duration": 17,
    "start_time": "2022-03-17T20:02:59.421Z"
   },
   {
    "duration": 240,
    "start_time": "2022-03-17T20:02:59.439Z"
   },
   {
    "duration": 27,
    "start_time": "2022-03-17T20:02:59.681Z"
   },
   {
    "duration": 111,
    "start_time": "2022-03-17T20:02:59.710Z"
   },
   {
    "duration": 263,
    "start_time": "2022-03-17T20:02:59.822Z"
   },
   {
    "duration": 8,
    "start_time": "2022-03-17T20:03:00.087Z"
   },
   {
    "duration": 60,
    "start_time": "2022-03-17T20:03:01.764Z"
   },
   {
    "duration": 106,
    "start_time": "2022-03-17T20:03:08.058Z"
   },
   {
    "duration": 30,
    "start_time": "2022-03-17T20:03:15.099Z"
   },
   {
    "duration": 1592,
    "start_time": "2022-03-18T14:22:33.051Z"
   },
   {
    "duration": 53,
    "start_time": "2022-03-18T14:22:34.644Z"
   },
   {
    "duration": 3,
    "start_time": "2022-03-18T14:22:34.698Z"
   },
   {
    "duration": 60,
    "start_time": "2022-03-18T14:22:34.703Z"
   },
   {
    "duration": 8,
    "start_time": "2022-03-18T14:22:34.765Z"
   },
   {
    "duration": 32,
    "start_time": "2022-03-18T14:22:34.774Z"
   },
   {
    "duration": 39,
    "start_time": "2022-03-18T14:22:34.807Z"
   },
   {
    "duration": 2,
    "start_time": "2022-03-18T14:22:34.848Z"
   },
   {
    "duration": 7,
    "start_time": "2022-03-18T14:22:34.851Z"
   },
   {
    "duration": 6,
    "start_time": "2022-03-18T14:22:34.860Z"
   },
   {
    "duration": 5,
    "start_time": "2022-03-18T14:22:34.867Z"
   },
   {
    "duration": 10,
    "start_time": "2022-03-18T14:22:34.873Z"
   },
   {
    "duration": 118,
    "start_time": "2022-03-18T14:22:34.885Z"
   },
   {
    "duration": 0,
    "start_time": "2022-03-18T14:22:35.005Z"
   },
   {
    "duration": 0,
    "start_time": "2022-03-18T14:22:35.006Z"
   },
   {
    "duration": 0,
    "start_time": "2022-03-18T14:22:35.007Z"
   },
   {
    "duration": 0,
    "start_time": "2022-03-18T14:22:35.009Z"
   },
   {
    "duration": 0,
    "start_time": "2022-03-18T14:22:35.010Z"
   },
   {
    "duration": 0,
    "start_time": "2022-03-18T14:22:35.011Z"
   },
   {
    "duration": 0,
    "start_time": "2022-03-18T14:22:35.012Z"
   },
   {
    "duration": 0,
    "start_time": "2022-03-18T14:22:35.014Z"
   },
   {
    "duration": 0,
    "start_time": "2022-03-18T14:22:35.015Z"
   },
   {
    "duration": 0,
    "start_time": "2022-03-18T14:22:35.016Z"
   },
   {
    "duration": 0,
    "start_time": "2022-03-18T14:22:35.017Z"
   },
   {
    "duration": 228,
    "start_time": "2022-03-18T14:23:04.331Z"
   },
   {
    "duration": 29,
    "start_time": "2022-03-18T14:23:24.857Z"
   },
   {
    "duration": 236,
    "start_time": "2022-03-18T14:23:32.122Z"
   },
   {
    "duration": 29,
    "start_time": "2022-03-18T14:23:39.482Z"
   },
   {
    "duration": 15,
    "start_time": "2022-03-18T14:23:45.050Z"
   },
   {
    "duration": 17,
    "start_time": "2022-03-18T14:23:53.065Z"
   },
   {
    "duration": 90,
    "start_time": "2022-03-18T14:23:57.927Z"
   },
   {
    "duration": 762,
    "start_time": "2022-03-18T14:24:05.360Z"
   },
   {
    "duration": 44,
    "start_time": "2022-03-18T14:24:17.217Z"
   },
   {
    "duration": 228,
    "start_time": "2022-03-18T14:25:23.432Z"
   },
   {
    "duration": 47439,
    "start_time": "2022-03-18T14:26:55.135Z"
   },
   {
    "duration": 47954,
    "start_time": "2022-03-18T14:27:49.425Z"
   },
   {
    "duration": 224,
    "start_time": "2022-03-18T14:29:22.670Z"
   },
   {
    "duration": 419,
    "start_time": "2022-03-18T14:29:44.343Z"
   },
   {
    "duration": 239,
    "start_time": "2022-03-18T14:30:18.990Z"
   },
   {
    "duration": 416,
    "start_time": "2022-03-18T14:30:21.654Z"
   },
   {
    "duration": 39997,
    "start_time": "2022-03-18T14:30:28.909Z"
   },
   {
    "duration": 12,
    "start_time": "2022-03-18T14:31:33.678Z"
   },
   {
    "duration": 9660,
    "start_time": "2022-03-18T14:31:48.189Z"
   },
   {
    "duration": 81,
    "start_time": "2022-03-18T14:34:03.364Z"
   },
   {
    "duration": 219,
    "start_time": "2022-03-18T14:34:39.670Z"
   },
   {
    "duration": 9687,
    "start_time": "2022-03-18T14:34:44.005Z"
   },
   {
    "duration": 60,
    "start_time": "2022-03-18T14:35:18.993Z"
   },
   {
    "duration": 59,
    "start_time": "2022-03-18T14:35:22.467Z"
   },
   {
    "duration": 41,
    "start_time": "2022-03-18T14:35:33.730Z"
   },
   {
    "duration": 65,
    "start_time": "2022-03-18T14:35:33.773Z"
   },
   {
    "duration": 405,
    "start_time": "2022-03-18T14:36:27.372Z"
   },
   {
    "duration": 40,
    "start_time": "2022-03-18T14:36:59.084Z"
   },
   {
    "duration": 403,
    "start_time": "2022-03-18T14:37:03.947Z"
   },
   {
    "duration": 108,
    "start_time": "2022-03-18T14:37:15.195Z"
   },
   {
    "duration": 787,
    "start_time": "2022-03-18T14:37:19.621Z"
   },
   {
    "duration": 469,
    "start_time": "2022-03-18T14:37:25.275Z"
   },
   {
    "duration": 31,
    "start_time": "2022-03-18T14:38:35.978Z"
   },
   {
    "duration": 30,
    "start_time": "2022-03-18T14:38:41.472Z"
   },
   {
    "duration": 145,
    "start_time": "2022-03-18T14:38:46.969Z"
   },
   {
    "duration": 3,
    "start_time": "2022-03-18T14:39:08.499Z"
   },
   {
    "duration": 77,
    "start_time": "2022-03-18T14:39:11.377Z"
   },
   {
    "duration": 1779,
    "start_time": "2022-03-19T12:06:07.173Z"
   },
   {
    "duration": 58,
    "start_time": "2022-03-19T12:06:08.954Z"
   },
   {
    "duration": 3,
    "start_time": "2022-03-19T12:06:09.014Z"
   },
   {
    "duration": 66,
    "start_time": "2022-03-19T12:06:09.019Z"
   },
   {
    "duration": 8,
    "start_time": "2022-03-19T12:06:09.087Z"
   },
   {
    "duration": 34,
    "start_time": "2022-03-19T12:06:09.097Z"
   },
   {
    "duration": 39,
    "start_time": "2022-03-19T12:06:09.133Z"
   },
   {
    "duration": 241,
    "start_time": "2022-03-19T12:06:09.173Z"
   },
   {
    "duration": 10013,
    "start_time": "2022-03-19T12:06:09.416Z"
   },
   {
    "duration": 55,
    "start_time": "2022-03-19T12:06:19.432Z"
   },
   {
    "duration": 486,
    "start_time": "2022-03-19T12:06:19.489Z"
   },
   {
    "duration": 87,
    "start_time": "2022-03-19T12:06:19.977Z"
   },
   {
    "duration": 118,
    "start_time": "2022-03-19T12:06:20.067Z"
   },
   {
    "duration": 3,
    "start_time": "2022-03-19T12:06:20.263Z"
   },
   {
    "duration": 271,
    "start_time": "2022-03-19T12:06:20.270Z"
   },
   {
    "duration": 0,
    "start_time": "2022-03-19T12:06:20.543Z"
   },
   {
    "duration": 38,
    "start_time": "2022-03-19T12:08:15.999Z"
   },
   {
    "duration": 20,
    "start_time": "2022-03-19T12:08:21.598Z"
   },
   {
    "duration": 5,
    "start_time": "2022-03-19T12:08:27.801Z"
   },
   {
    "duration": 52,
    "start_time": "2022-03-19T12:08:27.807Z"
   },
   {
    "duration": 3,
    "start_time": "2022-03-19T12:08:27.861Z"
   },
   {
    "duration": 54,
    "start_time": "2022-03-19T12:08:27.866Z"
   },
   {
    "duration": 7,
    "start_time": "2022-03-19T12:08:27.922Z"
   },
   {
    "duration": 49,
    "start_time": "2022-03-19T12:08:27.930Z"
   },
   {
    "duration": 16,
    "start_time": "2022-03-19T12:08:27.981Z"
   },
   {
    "duration": 230,
    "start_time": "2022-03-19T12:08:29.725Z"
   },
   {
    "duration": 10055,
    "start_time": "2022-03-19T12:08:31.358Z"
   },
   {
    "duration": 42,
    "start_time": "2022-03-19T12:08:47.785Z"
   },
   {
    "duration": 100,
    "start_time": "2022-03-19T12:09:00.991Z"
   },
   {
    "duration": 42,
    "start_time": "2022-03-19T12:09:06.559Z"
   },
   {
    "duration": 39,
    "start_time": "2022-03-19T12:10:03.062Z"
   },
   {
    "duration": 486,
    "start_time": "2022-03-19T12:10:10.806Z"
   },
   {
    "duration": 5748,
    "start_time": "2022-03-19T12:13:48.054Z"
   },
   {
    "duration": 8454,
    "start_time": "2022-03-19T12:14:07.917Z"
   },
   {
    "duration": 392,
    "start_time": "2022-03-19T12:14:43.220Z"
   },
   {
    "duration": 12,
    "start_time": "2022-03-19T12:15:16.715Z"
   },
   {
    "duration": 228,
    "start_time": "2022-03-19T12:15:26.068Z"
   },
   {
    "duration": 1679,
    "start_time": "2022-03-20T14:06:18.073Z"
   },
   {
    "duration": 67,
    "start_time": "2022-03-20T14:06:19.754Z"
   },
   {
    "duration": 3,
    "start_time": "2022-03-20T14:06:19.822Z"
   },
   {
    "duration": 58,
    "start_time": "2022-03-20T14:06:19.827Z"
   },
   {
    "duration": 8,
    "start_time": "2022-03-20T14:06:19.887Z"
   },
   {
    "duration": 38,
    "start_time": "2022-03-20T14:06:19.897Z"
   },
   {
    "duration": 44,
    "start_time": "2022-03-20T14:06:19.937Z"
   },
   {
    "duration": 221,
    "start_time": "2022-03-20T14:06:19.983Z"
   },
   {
    "duration": 7575,
    "start_time": "2022-03-20T14:06:20.206Z"
   },
   {
    "duration": 44,
    "start_time": "2022-03-20T14:06:27.783Z"
   },
   {
    "duration": 468,
    "start_time": "2022-03-20T14:06:27.828Z"
   },
   {
    "duration": 85,
    "start_time": "2022-03-20T14:06:28.297Z"
   },
   {
    "duration": 111,
    "start_time": "2022-03-20T14:06:28.385Z"
   },
   {
    "duration": 84,
    "start_time": "2022-03-20T14:06:28.498Z"
   },
   {
    "duration": 265,
    "start_time": "2022-03-20T14:06:28.585Z"
   },
   {
    "duration": 0,
    "start_time": "2022-03-20T14:06:28.852Z"
   },
   {
    "duration": 3905,
    "start_time": "2022-03-20T14:06:37.856Z"
   },
   {
    "duration": 9358,
    "start_time": "2022-03-20T14:06:55.679Z"
   },
   {
    "duration": 23,
    "start_time": "2022-03-20T14:07:32.591Z"
   },
   {
    "duration": 19,
    "start_time": "2022-03-20T14:08:27.262Z"
   },
   {
    "duration": 19,
    "start_time": "2022-03-20T14:08:39.620Z"
   },
   {
    "duration": 19,
    "start_time": "2022-03-20T14:08:45.262Z"
   },
   {
    "duration": 6,
    "start_time": "2022-03-20T14:28:16.098Z"
   },
   {
    "duration": 57,
    "start_time": "2022-03-20T14:28:16.106Z"
   },
   {
    "duration": 3,
    "start_time": "2022-03-20T14:28:16.165Z"
   },
   {
    "duration": 55,
    "start_time": "2022-03-20T14:28:16.170Z"
   },
   {
    "duration": 7,
    "start_time": "2022-03-20T14:28:16.227Z"
   },
   {
    "duration": 53,
    "start_time": "2022-03-20T14:28:16.236Z"
   },
   {
    "duration": 19,
    "start_time": "2022-03-20T14:28:16.290Z"
   },
   {
    "duration": 4044,
    "start_time": "2022-03-20T14:28:16.311Z"
   },
   {
    "duration": 10074,
    "start_time": "2022-03-20T14:28:20.357Z"
   },
   {
    "duration": 57,
    "start_time": "2022-03-20T14:28:30.432Z"
   },
   {
    "duration": 131,
    "start_time": "2022-03-20T14:28:30.491Z"
   },
   {
    "duration": 503,
    "start_time": "2022-03-20T14:28:30.623Z"
   },
   {
    "duration": 58,
    "start_time": "2022-03-20T14:28:31.127Z"
   },
   {
    "duration": 196,
    "start_time": "2022-03-20T14:28:31.189Z"
   },
   {
    "duration": 46,
    "start_time": "2022-03-20T14:35:32.626Z"
   },
   {
    "duration": 38,
    "start_time": "2022-03-20T14:36:44.546Z"
   },
   {
    "duration": 9,
    "start_time": "2022-03-20T14:43:30.628Z"
   },
   {
    "duration": 21,
    "start_time": "2022-03-20T14:43:34.702Z"
   },
   {
    "duration": 20,
    "start_time": "2022-03-20T14:44:00.565Z"
   },
   {
    "duration": 18,
    "start_time": "2022-03-20T14:44:05.095Z"
   },
   {
    "duration": 4,
    "start_time": "2022-03-20T14:44:08.599Z"
   },
   {
    "duration": 63,
    "start_time": "2022-03-20T14:44:08.605Z"
   },
   {
    "duration": 3,
    "start_time": "2022-03-20T14:44:08.671Z"
   },
   {
    "duration": 3,
    "start_time": "2022-03-20T14:44:17.332Z"
   },
   {
    "duration": 22,
    "start_time": "2022-03-20T14:44:19.668Z"
   },
   {
    "duration": 9,
    "start_time": "2022-03-20T14:44:29.694Z"
   },
   {
    "duration": 34,
    "start_time": "2022-03-20T14:44:35.997Z"
   },
   {
    "duration": 20,
    "start_time": "2022-03-20T14:44:39.084Z"
   },
   {
    "duration": 23,
    "start_time": "2022-03-20T14:44:45.026Z"
   },
   {
    "duration": 21,
    "start_time": "2022-03-20T14:44:51.894Z"
   },
   {
    "duration": 68,
    "start_time": "2022-03-20T14:45:05.239Z"
   },
   {
    "duration": 7,
    "start_time": "2022-03-20T14:45:05.310Z"
   },
   {
    "duration": 4065,
    "start_time": "2022-03-20T14:45:09.854Z"
   },
   {
    "duration": 9943,
    "start_time": "2022-03-20T14:45:15.660Z"
   },
   {
    "duration": 17,
    "start_time": "2022-03-20T14:47:56.235Z"
   },
   {
    "duration": 16,
    "start_time": "2022-03-20T14:48:00.439Z"
   },
   {
    "duration": 4054,
    "start_time": "2022-03-20T14:48:08.594Z"
   },
   {
    "duration": 9597,
    "start_time": "2022-03-20T14:48:20.125Z"
   },
   {
    "duration": 46,
    "start_time": "2022-03-20T14:48:34.852Z"
   },
   {
    "duration": 4,
    "start_time": "2022-03-20T14:49:07.713Z"
   },
   {
    "duration": 49,
    "start_time": "2022-03-20T14:49:07.719Z"
   },
   {
    "duration": 3,
    "start_time": "2022-03-20T14:49:07.769Z"
   },
   {
    "duration": 53,
    "start_time": "2022-03-20T14:49:07.773Z"
   },
   {
    "duration": 7,
    "start_time": "2022-03-20T14:49:07.828Z"
   },
   {
    "duration": 3,
    "start_time": "2022-03-20T14:49:07.836Z"
   },
   {
    "duration": 18,
    "start_time": "2022-03-20T14:49:07.840Z"
   },
   {
    "duration": 4066,
    "start_time": "2022-03-20T14:49:12.077Z"
   },
   {
    "duration": 9389,
    "start_time": "2022-03-20T14:49:23.356Z"
   },
   {
    "duration": 56,
    "start_time": "2022-03-20T14:49:36.429Z"
   },
   {
    "duration": 4,
    "start_time": "2022-03-20T14:52:11.533Z"
   },
   {
    "duration": 49,
    "start_time": "2022-03-20T14:52:11.539Z"
   },
   {
    "duration": 3,
    "start_time": "2022-03-20T14:52:11.590Z"
   },
   {
    "duration": 57,
    "start_time": "2022-03-20T14:52:11.595Z"
   },
   {
    "duration": 7,
    "start_time": "2022-03-20T14:52:11.654Z"
   },
   {
    "duration": 33,
    "start_time": "2022-03-20T14:52:11.662Z"
   },
   {
    "duration": 15,
    "start_time": "2022-03-20T14:52:11.697Z"
   },
   {
    "duration": 3931,
    "start_time": "2022-03-20T14:52:16.483Z"
   },
   {
    "duration": 9598,
    "start_time": "2022-03-20T14:52:26.872Z"
   },
   {
    "duration": 114,
    "start_time": "2022-03-20T14:52:40.572Z"
   },
   {
    "duration": 9,
    "start_time": "2022-03-20T14:55:14.931Z"
   },
   {
    "duration": 4,
    "start_time": "2022-03-20T14:55:21.531Z"
   },
   {
    "duration": 62,
    "start_time": "2022-03-20T14:55:21.537Z"
   },
   {
    "duration": 3,
    "start_time": "2022-03-20T14:55:21.601Z"
   },
   {
    "duration": 3,
    "start_time": "2022-03-20T14:55:24.392Z"
   },
   {
    "duration": 9,
    "start_time": "2022-03-20T14:55:25.272Z"
   },
   {
    "duration": 252,
    "start_time": "2022-03-20T14:55:46.056Z"
   },
   {
    "duration": 245,
    "start_time": "2022-03-20T14:56:31.921Z"
   },
   {
    "duration": 4,
    "start_time": "2022-03-20T14:56:57.713Z"
   },
   {
    "duration": 51,
    "start_time": "2022-03-20T14:56:57.718Z"
   },
   {
    "duration": 3,
    "start_time": "2022-03-20T14:56:57.771Z"
   },
   {
    "duration": 244,
    "start_time": "2022-03-20T14:56:57.775Z"
   },
   {
    "duration": 168,
    "start_time": "2022-03-20T14:56:58.021Z"
   },
   {
    "duration": 20,
    "start_time": "2022-03-20T14:56:58.190Z"
   },
   {
    "duration": 19,
    "start_time": "2022-03-20T14:56:58.211Z"
   },
   {
    "duration": 2755,
    "start_time": "2022-03-20T14:57:01.759Z"
   },
   {
    "duration": 86902,
    "start_time": "2022-03-20T14:57:10.653Z"
   },
   {
    "duration": 428,
    "start_time": "2022-03-20T14:58:37.556Z"
   },
   {
    "duration": 4,
    "start_time": "2022-03-20T15:03:15.132Z"
   },
   {
    "duration": 5,
    "start_time": "2022-03-20T15:04:29.368Z"
   },
   {
    "duration": 62,
    "start_time": "2022-03-20T15:04:29.375Z"
   },
   {
    "duration": 4,
    "start_time": "2022-03-20T15:04:29.438Z"
   },
   {
    "duration": 5,
    "start_time": "2022-03-20T15:04:29.444Z"
   },
   {
    "duration": 3,
    "start_time": "2022-03-20T15:04:42.402Z"
   },
   {
    "duration": 3584,
    "start_time": "2022-03-20T15:04:43.316Z"
   },
   {
    "duration": 53,
    "start_time": "2022-03-20T15:04:58.659Z"
   },
   {
    "duration": 4,
    "start_time": "2022-03-20T15:05:17.853Z"
   },
   {
    "duration": 51,
    "start_time": "2022-03-20T15:05:17.859Z"
   },
   {
    "duration": 4,
    "start_time": "2022-03-20T15:05:17.912Z"
   },
   {
    "duration": 4,
    "start_time": "2022-03-20T15:05:17.918Z"
   },
   {
    "duration": 68,
    "start_time": "2022-03-20T15:05:17.924Z"
   },
   {
    "duration": 8,
    "start_time": "2022-03-20T15:05:17.994Z"
   },
   {
    "duration": 18,
    "start_time": "2022-03-20T15:05:18.004Z"
   },
   {
    "duration": 21,
    "start_time": "2022-03-20T15:05:18.024Z"
   },
   {
    "duration": 210,
    "start_time": "2022-03-20T15:05:22.979Z"
   },
   {
    "duration": 10874,
    "start_time": "2022-03-20T15:05:28.789Z"
   },
   {
    "duration": 115,
    "start_time": "2022-03-20T15:05:39.665Z"
   },
   {
    "duration": 467891,
    "start_time": "2022-03-20T15:07:10.979Z"
   },
   {
    "duration": 51,
    "start_time": "2022-03-20T15:18:27.734Z"
   },
   {
    "duration": 196716,
    "start_time": "2022-03-20T15:18:42.022Z"
   },
   {
    "duration": 4,
    "start_time": "2022-03-20T15:23:01.870Z"
   },
   {
    "duration": 46,
    "start_time": "2022-03-20T15:23:01.901Z"
   },
   {
    "duration": 3,
    "start_time": "2022-03-20T15:23:01.949Z"
   },
   {
    "duration": 4,
    "start_time": "2022-03-20T15:23:04.914Z"
   },
   {
    "duration": 230,
    "start_time": "2022-03-20T15:23:05.805Z"
   },
   {
    "duration": 3,
    "start_time": "2022-03-20T15:23:18.092Z"
   },
   {
    "duration": 164,
    "start_time": "2022-03-20T15:23:19.058Z"
   },
   {
    "duration": 21,
    "start_time": "2022-03-20T15:23:19.836Z"
   },
   {
    "duration": 22,
    "start_time": "2022-03-20T15:23:23.299Z"
   },
   {
    "duration": 17726,
    "start_time": "2022-03-20T15:23:31.875Z"
   },
   {
    "duration": 326868,
    "start_time": "2022-03-20T15:23:58.340Z"
   },
   {
    "duration": 474,
    "start_time": "2022-03-20T15:29:25.210Z"
   },
   {
    "duration": 4,
    "start_time": "2022-03-20T15:44:04.453Z"
   },
   {
    "duration": 61,
    "start_time": "2022-03-20T15:44:04.459Z"
   },
   {
    "duration": 3,
    "start_time": "2022-03-20T15:44:04.522Z"
   },
   {
    "duration": 241,
    "start_time": "2022-03-20T15:44:04.527Z"
   },
   {
    "duration": 2,
    "start_time": "2022-03-20T15:44:04.770Z"
   },
   {
    "duration": 170,
    "start_time": "2022-03-20T15:44:04.781Z"
   },
   {
    "duration": 60,
    "start_time": "2022-03-20T15:44:04.953Z"
   },
   {
    "duration": 34,
    "start_time": "2022-03-20T15:44:07.663Z"
   },
   {
    "duration": 24,
    "start_time": "2022-03-20T15:44:11.634Z"
   },
   {
    "duration": 17775,
    "start_time": "2022-03-20T15:44:25.161Z"
   },
   {
    "duration": 12176,
    "start_time": "2022-03-20T15:44:56.640Z"
   },
   {
    "duration": 462,
    "start_time": "2022-03-20T15:45:08.818Z"
   },
   {
    "duration": 12466,
    "start_time": "2022-03-20T15:45:26.528Z"
   },
   {
    "duration": 92277,
    "start_time": "2022-03-20T15:46:12.019Z"
   },
   {
    "duration": 522,
    "start_time": "2022-03-20T15:49:55.759Z"
   },
   {
    "duration": 340418,
    "start_time": "2022-03-20T15:58:13.236Z"
   },
   {
    "duration": 511,
    "start_time": "2022-03-20T16:17:32.370Z"
   },
   {
    "duration": 4,
    "start_time": "2022-03-20T16:18:14.306Z"
   },
   {
    "duration": 404,
    "start_time": "2022-03-20T16:18:14.800Z"
   },
   {
    "duration": 5,
    "start_time": "2022-03-20T16:19:31.051Z"
   },
   {
    "duration": 56,
    "start_time": "2022-03-20T16:19:31.057Z"
   },
   {
    "duration": 4,
    "start_time": "2022-03-20T16:19:31.114Z"
   },
   {
    "duration": 4,
    "start_time": "2022-03-20T16:19:33.471Z"
   },
   {
    "duration": 43,
    "start_time": "2022-03-20T16:19:37.914Z"
   },
   {
    "duration": 12,
    "start_time": "2022-03-20T16:20:24.769Z"
   },
   {
    "duration": 5,
    "start_time": "2022-03-20T16:20:42.991Z"
   },
   {
    "duration": 5,
    "start_time": "2022-03-20T16:21:26.465Z"
   },
   {
    "duration": 22,
    "start_time": "2022-03-20T16:22:07.426Z"
   },
   {
    "duration": 4,
    "start_time": "2022-03-20T16:22:12.795Z"
   },
   {
    "duration": 79,
    "start_time": "2022-03-20T16:22:12.801Z"
   },
   {
    "duration": 3,
    "start_time": "2022-03-20T16:22:12.882Z"
   },
   {
    "duration": 4,
    "start_time": "2022-03-20T16:22:18.431Z"
   },
   {
    "duration": 230,
    "start_time": "2022-03-20T16:22:19.263Z"
   },
   {
    "duration": 3568,
    "start_time": "2022-03-20T16:22:23.664Z"
   },
   {
    "duration": 4,
    "start_time": "2022-03-20T16:22:56.730Z"
   },
   {
    "duration": 49,
    "start_time": "2022-03-20T16:22:56.735Z"
   },
   {
    "duration": 4,
    "start_time": "2022-03-20T16:22:56.785Z"
   },
   {
    "duration": 3,
    "start_time": "2022-03-20T16:22:58.192Z"
   },
   {
    "duration": 280,
    "start_time": "2022-03-20T16:22:58.856Z"
   },
   {
    "duration": 3415,
    "start_time": "2022-03-20T16:23:01.959Z"
   },
   {
    "duration": 3,
    "start_time": "2022-03-20T16:23:10.718Z"
   },
   {
    "duration": 168,
    "start_time": "2022-03-20T16:23:11.395Z"
   },
   {
    "duration": 50,
    "start_time": "2022-03-20T16:23:12.280Z"
   },
   {
    "duration": 22,
    "start_time": "2022-03-20T16:23:12.989Z"
   },
   {
    "duration": 4,
    "start_time": "2022-03-20T16:23:24.663Z"
   },
   {
    "duration": 222,
    "start_time": "2022-03-20T16:23:25.012Z"
   },
   {
    "duration": 4,
    "start_time": "2022-03-20T16:23:31.337Z"
   },
   {
    "duration": 54,
    "start_time": "2022-03-20T16:23:31.343Z"
   },
   {
    "duration": 4,
    "start_time": "2022-03-20T16:23:31.398Z"
   },
   {
    "duration": 237,
    "start_time": "2022-03-20T16:23:31.403Z"
   },
   {
    "duration": 2,
    "start_time": "2022-03-20T16:23:31.643Z"
   },
   {
    "duration": 178,
    "start_time": "2022-03-20T16:23:31.647Z"
   },
   {
    "duration": 36,
    "start_time": "2022-03-20T16:23:31.827Z"
   },
   {
    "duration": 35,
    "start_time": "2022-03-20T16:23:31.864Z"
   },
   {
    "duration": 17680,
    "start_time": "2022-03-20T16:23:36.150Z"
   },
   {
    "duration": 2602,
    "start_time": "2022-03-20T16:24:02.256Z"
   },
   {
    "duration": 343194,
    "start_time": "2022-03-20T16:24:09.190Z"
   },
   {
    "duration": 3,
    "start_time": "2022-03-20T16:30:24.476Z"
   },
   {
    "duration": 428,
    "start_time": "2022-03-20T16:30:25.060Z"
   },
   {
    "duration": 352,
    "start_time": "2022-03-20T16:30:28.494Z"
   },
   {
    "duration": 348,
    "start_time": "2022-03-20T16:30:42.686Z"
   },
   {
    "duration": 365,
    "start_time": "2022-03-20T16:30:58.789Z"
   },
   {
    "duration": 181,
    "start_time": "2022-03-20T16:31:59.964Z"
   },
   {
    "duration": 6,
    "start_time": "2022-03-20T16:33:29.458Z"
   },
   {
    "duration": 7,
    "start_time": "2022-03-20T16:35:09.815Z"
   },
   {
    "duration": 370,
    "start_time": "2022-03-20T17:03:45.741Z"
   },
   {
    "duration": 376,
    "start_time": "2022-03-20T17:04:01.150Z"
   },
   {
    "duration": 2661,
    "start_time": "2022-03-20T17:04:59.357Z"
   },
   {
    "duration": 88126,
    "start_time": "2022-03-20T17:05:02.019Z"
   },
   {
    "duration": 7,
    "start_time": "2022-03-20T17:07:09.660Z"
   },
   {
    "duration": 312,
    "start_time": "2022-03-20T17:08:44.117Z"
   },
   {
    "duration": 595,
    "start_time": "2022-03-20T17:13:44.786Z"
   },
   {
    "duration": 1056,
    "start_time": "2022-03-20T17:15:11.745Z"
   },
   {
    "duration": 196,
    "start_time": "2022-03-20T17:16:18.585Z"
   },
   {
    "duration": 194,
    "start_time": "2022-03-20T17:16:24.992Z"
   },
   {
    "duration": 192,
    "start_time": "2022-03-20T17:16:54.393Z"
   },
   {
    "duration": 199,
    "start_time": "2022-03-20T17:17:14.048Z"
   },
   {
    "duration": 1075,
    "start_time": "2022-03-20T17:17:38.066Z"
   },
   {
    "duration": 4,
    "start_time": "2022-03-20T17:17:49.626Z"
   },
   {
    "duration": 63,
    "start_time": "2022-03-20T17:17:49.631Z"
   },
   {
    "duration": 4,
    "start_time": "2022-03-20T17:17:49.695Z"
   },
   {
    "duration": 278,
    "start_time": "2022-03-20T17:17:49.700Z"
   },
   {
    "duration": 2,
    "start_time": "2022-03-20T17:17:49.981Z"
   },
   {
    "duration": 172,
    "start_time": "2022-03-20T17:17:49.985Z"
   },
   {
    "duration": 45,
    "start_time": "2022-03-20T17:17:50.159Z"
   },
   {
    "duration": 20,
    "start_time": "2022-03-20T17:17:50.205Z"
   },
   {
    "duration": 2750,
    "start_time": "2022-03-20T17:17:50.227Z"
   },
   {
    "duration": 88139,
    "start_time": "2022-03-20T17:17:52.981Z"
   },
   {
    "duration": 3,
    "start_time": "2022-03-20T17:19:21.122Z"
   },
   {
    "duration": 410,
    "start_time": "2022-03-20T17:19:21.127Z"
   },
   {
    "duration": 478,
    "start_time": "2022-03-20T17:19:21.582Z"
   },
   {
    "duration": 5,
    "start_time": "2022-03-20T17:19:22.062Z"
   },
   {
    "duration": 15,
    "start_time": "2022-03-20T17:19:22.069Z"
   },
   {
    "duration": 322,
    "start_time": "2022-03-20T17:19:22.086Z"
   },
   {
    "duration": 319,
    "start_time": "2022-03-20T17:19:53.431Z"
   },
   {
    "duration": 184,
    "start_time": "2022-03-20T17:19:57.662Z"
   },
   {
    "duration": 1071,
    "start_time": "2022-03-20T17:20:13.230Z"
   },
   {
    "duration": 1037,
    "start_time": "2022-03-20T17:22:42.938Z"
   },
   {
    "duration": 6,
    "start_time": "2022-03-20T17:22:45.211Z"
   },
   {
    "duration": 4,
    "start_time": "2022-03-20T17:23:57.943Z"
   },
   {
    "duration": 68,
    "start_time": "2022-03-20T17:23:57.948Z"
   },
   {
    "duration": 3,
    "start_time": "2022-03-20T17:23:58.017Z"
   },
   {
    "duration": 255,
    "start_time": "2022-03-20T17:23:58.022Z"
   },
   {
    "duration": 2,
    "start_time": "2022-03-20T17:23:58.281Z"
   },
   {
    "duration": 191,
    "start_time": "2022-03-20T17:23:58.285Z"
   },
   {
    "duration": 39,
    "start_time": "2022-03-20T17:23:58.478Z"
   },
   {
    "duration": 21,
    "start_time": "2022-03-20T17:23:58.518Z"
   },
   {
    "duration": 203,
    "start_time": "2022-03-20T17:23:58.541Z"
   },
   {
    "duration": 1223,
    "start_time": "2022-03-20T17:23:58.746Z"
   },
   {
    "duration": 3,
    "start_time": "2022-03-20T17:23:59.970Z"
   },
   {
    "duration": 406,
    "start_time": "2022-03-20T17:23:59.980Z"
   },
   {
    "duration": 567,
    "start_time": "2022-03-20T17:24:00.388Z"
   },
   {
    "duration": 375,
    "start_time": "2022-03-20T17:24:03.909Z"
   },
   {
    "duration": 6,
    "start_time": "2022-03-20T17:24:05.228Z"
   },
   {
    "duration": 1076,
    "start_time": "2022-03-20T17:26:00.044Z"
   },
   {
    "duration": 6,
    "start_time": "2022-03-20T17:26:02.110Z"
   },
   {
    "duration": 6,
    "start_time": "2022-03-20T17:28:38.634Z"
   },
   {
    "duration": 392,
    "start_time": "2022-03-20T17:28:49.339Z"
   },
   {
    "duration": 11527,
    "start_time": "2022-03-20T17:37:12.854Z"
   },
   {
    "duration": 1182259,
    "start_time": "2022-03-20T17:38:24.065Z"
   },
   {
    "duration": 20070,
    "start_time": "2022-03-20T18:10:13.998Z"
   },
   {
    "duration": 179816,
    "start_time": "2022-03-20T18:11:54.085Z"
   },
   {
    "duration": 5,
    "start_time": "2022-03-20T18:15:52.523Z"
   },
   {
    "duration": 16403,
    "start_time": "2022-03-20T18:16:15.131Z"
   },
   {
    "duration": 23559,
    "start_time": "2022-03-20T18:16:40.770Z"
   },
   {
    "duration": 23705,
    "start_time": "2022-03-20T18:18:50.140Z"
   },
   {
    "duration": 1348,
    "start_time": "2022-03-20T18:19:52.643Z"
   },
   {
    "duration": 1224,
    "start_time": "2022-03-20T18:20:00.257Z"
   },
   {
    "duration": 1409,
    "start_time": "2022-03-20T18:20:17.537Z"
   },
   {
    "duration": 7464,
    "start_time": "2022-03-20T18:20:56.961Z"
   },
   {
    "duration": 23761,
    "start_time": "2022-03-20T18:21:09.993Z"
   },
   {
    "duration": 1462,
    "start_time": "2022-03-20T18:21:54.545Z"
   },
   {
    "duration": 23562,
    "start_time": "2022-03-20T18:22:25.641Z"
   },
   {
    "duration": 415,
    "start_time": "2022-03-20T18:23:26.672Z"
   },
   {
    "duration": 5,
    "start_time": "2022-03-20T18:25:24.169Z"
   },
   {
    "duration": 67,
    "start_time": "2022-03-20T18:25:24.175Z"
   },
   {
    "duration": 3,
    "start_time": "2022-03-20T18:25:24.243Z"
   },
   {
    "duration": 240,
    "start_time": "2022-03-20T18:25:24.248Z"
   },
   {
    "duration": 2,
    "start_time": "2022-03-20T18:25:24.490Z"
   },
   {
    "duration": 170,
    "start_time": "2022-03-20T18:25:24.494Z"
   },
   {
    "duration": 40,
    "start_time": "2022-03-20T18:25:24.666Z"
   },
   {
    "duration": 19,
    "start_time": "2022-03-20T18:25:24.708Z"
   },
   {
    "duration": 198,
    "start_time": "2022-03-20T18:25:24.729Z"
   },
   {
    "duration": 1185,
    "start_time": "2022-03-20T18:25:24.929Z"
   },
   {
    "duration": 3,
    "start_time": "2022-03-20T18:25:26.115Z"
   },
   {
    "duration": 462,
    "start_time": "2022-03-20T18:25:26.119Z"
   },
   {
    "duration": 456,
    "start_time": "2022-03-20T18:25:26.583Z"
   },
   {
    "duration": 5,
    "start_time": "2022-03-20T18:25:27.041Z"
   },
   {
    "duration": 7,
    "start_time": "2022-03-20T18:25:27.048Z"
   },
   {
    "duration": 5,
    "start_time": "2022-03-20T18:25:29.399Z"
   },
   {
    "duration": 320,
    "start_time": "2022-03-20T18:25:31.710Z"
   },
   {
    "duration": 1050,
    "start_time": "2022-03-20T18:25:37.398Z"
   },
   {
    "duration": 11810,
    "start_time": "2022-03-20T18:25:57.694Z"
   },
   {
    "duration": 11494,
    "start_time": "2022-03-20T18:26:20.287Z"
   },
   {
    "duration": 11463,
    "start_time": "2022-03-20T18:26:43.781Z"
   },
   {
    "duration": 11323,
    "start_time": "2022-03-20T18:26:58.694Z"
   },
   {
    "duration": 11408,
    "start_time": "2022-03-20T18:27:12.150Z"
   },
   {
    "duration": 24152,
    "start_time": "2022-03-20T18:27:31.873Z"
   },
   {
    "duration": 12111,
    "start_time": "2022-03-20T18:27:59.590Z"
   },
   {
    "duration": 11553,
    "start_time": "2022-03-20T18:28:24.965Z"
   },
   {
    "duration": 4,
    "start_time": "2022-03-20T18:29:05.497Z"
   },
   {
    "duration": 48,
    "start_time": "2022-03-20T18:29:05.503Z"
   },
   {
    "duration": 3,
    "start_time": "2022-03-20T18:29:05.553Z"
   },
   {
    "duration": 259,
    "start_time": "2022-03-20T18:29:05.558Z"
   },
   {
    "duration": 2,
    "start_time": "2022-03-20T18:29:05.819Z"
   },
   {
    "duration": 162,
    "start_time": "2022-03-20T18:29:05.822Z"
   },
   {
    "duration": 34,
    "start_time": "2022-03-20T18:29:05.986Z"
   },
   {
    "duration": 20,
    "start_time": "2022-03-20T18:29:06.022Z"
   },
   {
    "duration": 224,
    "start_time": "2022-03-20T18:29:06.045Z"
   },
   {
    "duration": 1454,
    "start_time": "2022-03-20T18:29:06.270Z"
   },
   {
    "duration": 3,
    "start_time": "2022-03-20T18:29:07.725Z"
   },
   {
    "duration": 468,
    "start_time": "2022-03-20T18:29:07.729Z"
   },
   {
    "duration": 667,
    "start_time": "2022-03-20T18:29:08.199Z"
   },
   {
    "duration": 13,
    "start_time": "2022-03-20T18:29:08.868Z"
   },
   {
    "duration": 5,
    "start_time": "2022-03-20T18:29:08.883Z"
   },
   {
    "duration": 5,
    "start_time": "2022-03-20T18:29:12.542Z"
   },
   {
    "duration": 379,
    "start_time": "2022-03-20T18:29:16.701Z"
   },
   {
    "duration": 1436,
    "start_time": "2022-03-20T18:29:22.573Z"
   },
   {
    "duration": 15252,
    "start_time": "2022-03-20T18:29:29.036Z"
   },
   {
    "duration": 15254,
    "start_time": "2022-03-20T18:29:49.236Z"
   },
   {
    "duration": 33551,
    "start_time": "2022-03-20T18:30:08.555Z"
   },
   {
    "duration": 416960,
    "start_time": "2022-03-20T18:31:16.543Z"
   },
   {
    "duration": 16,
    "start_time": "2022-03-20T18:40:16.280Z"
   },
   {
    "duration": 16422,
    "start_time": "2022-03-20T18:40:41.559Z"
   },
   {
    "duration": 15118,
    "start_time": "2022-03-20T18:40:57.983Z"
   },
   {
    "duration": 219,
    "start_time": "2022-03-20T18:41:40.927Z"
   },
   {
    "duration": 644,
    "start_time": "2022-03-20T18:42:08.548Z"
   },
   {
    "duration": 463,
    "start_time": "2022-03-20T18:42:16.320Z"
   },
   {
    "duration": 152,
    "start_time": "2022-03-20T18:42:44.830Z"
   },
   {
    "duration": 1248,
    "start_time": "2022-03-20T18:43:11.734Z"
   },
   {
    "duration": 1530,
    "start_time": "2022-03-20T18:44:28.015Z"
   },
   {
    "duration": 1501,
    "start_time": "2022-03-20T18:44:45.108Z"
   },
   {
    "duration": 4404,
    "start_time": "2022-03-20T18:45:37.181Z"
   },
   {
    "duration": 4,
    "start_time": "2022-03-20T18:58:50.213Z"
   },
   {
    "duration": 48,
    "start_time": "2022-03-20T18:58:50.219Z"
   },
   {
    "duration": 3,
    "start_time": "2022-03-20T18:58:50.269Z"
   },
   {
    "duration": 260,
    "start_time": "2022-03-20T18:58:50.274Z"
   },
   {
    "duration": 2,
    "start_time": "2022-03-20T18:58:50.537Z"
   },
   {
    "duration": 163,
    "start_time": "2022-03-20T18:58:50.541Z"
   },
   {
    "duration": 38,
    "start_time": "2022-03-20T18:58:50.706Z"
   },
   {
    "duration": 36,
    "start_time": "2022-03-20T18:58:50.746Z"
   },
   {
    "duration": 3253,
    "start_time": "2022-03-20T18:58:59.550Z"
   },
   {
    "duration": 497,
    "start_time": "2022-03-20T18:59:23.390Z"
   },
   {
    "duration": 474,
    "start_time": "2022-03-20T18:59:30.791Z"
   },
   {
    "duration": 6,
    "start_time": "2022-03-20T18:59:34.635Z"
   },
   {
    "duration": 6,
    "start_time": "2022-03-20T18:59:35.596Z"
   },
   {
    "duration": 377,
    "start_time": "2022-03-20T18:59:41.117Z"
   },
   {
    "duration": 1373,
    "start_time": "2022-03-20T18:59:45.304Z"
   },
   {
    "duration": 15039,
    "start_time": "2022-03-20T19:00:17.597Z"
   },
   {
    "duration": 32964,
    "start_time": "2022-03-20T19:00:32.638Z"
   },
   {
    "duration": 212,
    "start_time": "2022-03-20T19:01:16.592Z"
   },
   {
    "duration": 613,
    "start_time": "2022-03-20T19:03:01.780Z"
   },
   {
    "duration": 1259,
    "start_time": "2022-03-20T19:03:03.323Z"
   },
   {
    "duration": 1008,
    "start_time": "2022-03-20T19:03:05.981Z"
   },
   {
    "duration": 4,
    "start_time": "2022-03-20T19:03:13.395Z"
   },
   {
    "duration": 51,
    "start_time": "2022-03-20T19:03:13.400Z"
   },
   {
    "duration": 3,
    "start_time": "2022-03-20T19:03:13.452Z"
   },
   {
    "duration": 266,
    "start_time": "2022-03-20T19:03:13.457Z"
   },
   {
    "duration": 2,
    "start_time": "2022-03-20T19:03:13.724Z"
   },
   {
    "duration": 155,
    "start_time": "2022-03-20T19:03:13.728Z"
   },
   {
    "duration": 36,
    "start_time": "2022-03-20T19:03:13.884Z"
   },
   {
    "duration": 19,
    "start_time": "2022-03-20T19:03:13.921Z"
   },
   {
    "duration": 3253,
    "start_time": "2022-03-20T19:03:13.942Z"
   },
   {
    "duration": 1391,
    "start_time": "2022-03-20T19:03:17.196Z"
   },
   {
    "duration": 2,
    "start_time": "2022-03-20T19:03:18.589Z"
   },
   {
    "duration": 498,
    "start_time": "2022-03-20T19:03:18.592Z"
   },
   {
    "duration": 487,
    "start_time": "2022-03-20T19:03:19.182Z"
   },
   {
    "duration": 11,
    "start_time": "2022-03-20T19:03:19.670Z"
   },
   {
    "duration": 6,
    "start_time": "2022-03-20T19:03:19.683Z"
   },
   {
    "duration": 394,
    "start_time": "2022-03-20T19:03:19.691Z"
   },
   {
    "duration": 1361,
    "start_time": "2022-03-20T19:03:20.087Z"
   },
   {
    "duration": 15292,
    "start_time": "2022-03-20T19:03:21.450Z"
   },
   {
    "duration": 33415,
    "start_time": "2022-03-20T19:03:36.744Z"
   },
   {
    "duration": 16851,
    "start_time": "2022-03-20T19:04:10.161Z"
   },
   {
    "duration": 228,
    "start_time": "2022-03-20T19:04:27.013Z"
   },
   {
    "duration": 644,
    "start_time": "2022-03-20T19:04:27.242Z"
   },
   {
    "duration": 1453,
    "start_time": "2022-03-20T19:04:27.889Z"
   },
   {
    "duration": 1102,
    "start_time": "2022-03-20T19:04:29.386Z"
   },
   {
    "duration": 727,
    "start_time": "2022-03-20T19:18:49.061Z"
   },
   {
    "duration": 4352,
    "start_time": "2022-03-20T19:19:14.221Z"
   },
   {
    "duration": 8945,
    "start_time": "2022-03-20T19:19:26.604Z"
   },
   {
    "duration": 4,
    "start_time": "2022-03-20T19:19:35.551Z"
   },
   {
    "duration": 50,
    "start_time": "2022-03-20T19:19:35.556Z"
   },
   {
    "duration": 3,
    "start_time": "2022-03-20T19:19:35.608Z"
   },
   {
    "duration": 223,
    "start_time": "2022-03-20T19:19:35.612Z"
   },
   {
    "duration": 2,
    "start_time": "2022-03-20T19:19:35.837Z"
   },
   {
    "duration": 159,
    "start_time": "2022-03-20T19:19:35.841Z"
   },
   {
    "duration": 37,
    "start_time": "2022-03-20T19:19:36.002Z"
   },
   {
    "duration": 20,
    "start_time": "2022-03-20T19:19:36.041Z"
   },
   {
    "duration": 771,
    "start_time": "2022-03-20T19:19:36.063Z"
   },
   {
    "duration": 8723,
    "start_time": "2022-03-20T19:19:39.612Z"
   },
   {
    "duration": 481,
    "start_time": "2022-03-20T19:20:02.708Z"
   },
   {
    "duration": 1043,
    "start_time": "2022-03-20T19:23:14.916Z"
   },
   {
    "duration": 475,
    "start_time": "2022-03-20T19:23:25.610Z"
   },
   {
    "duration": 8981,
    "start_time": "2022-03-20T19:23:27.706Z"
   },
   {
    "duration": 461,
    "start_time": "2022-03-20T19:24:29.477Z"
   },
   {
    "duration": 373,
    "start_time": "2022-03-20T19:24:55.414Z"
   },
   {
    "duration": 4,
    "start_time": "2022-03-20T19:25:55.647Z"
   },
   {
    "duration": 52,
    "start_time": "2022-03-20T19:25:55.653Z"
   },
   {
    "duration": 3,
    "start_time": "2022-03-20T19:25:55.706Z"
   },
   {
    "duration": 240,
    "start_time": "2022-03-20T19:25:55.711Z"
   },
   {
    "duration": 2,
    "start_time": "2022-03-20T19:25:55.953Z"
   },
   {
    "duration": 156,
    "start_time": "2022-03-20T19:25:55.957Z"
   },
   {
    "duration": 36,
    "start_time": "2022-03-20T19:25:56.115Z"
   },
   {
    "duration": 32,
    "start_time": "2022-03-20T19:25:56.152Z"
   },
   {
    "duration": 1013,
    "start_time": "2022-03-20T19:25:56.185Z"
   },
   {
    "duration": 9086,
    "start_time": "2022-03-20T19:25:57.201Z"
   },
   {
    "duration": 495,
    "start_time": "2022-03-20T19:26:06.289Z"
   },
   {
    "duration": 1367,
    "start_time": "2022-03-20T19:26:15.217Z"
   },
   {
    "duration": 370,
    "start_time": "2022-03-20T19:26:46.425Z"
   },
   {
    "duration": 1008,
    "start_time": "2022-03-20T19:27:34.936Z"
   },
   {
    "duration": 1508,
    "start_time": "2022-03-20T19:27:52.161Z"
   },
   {
    "duration": 1007,
    "start_time": "2022-03-20T19:28:19.631Z"
   },
   {
    "duration": 1730,
    "start_time": "2022-03-20T19:29:16.984Z"
   },
   {
    "duration": 768,
    "start_time": "2022-03-20T19:29:39.825Z"
   },
   {
    "duration": 1006,
    "start_time": "2022-03-20T19:29:46.567Z"
   },
   {
    "duration": 14880,
    "start_time": "2022-03-20T19:31:17.711Z"
   },
   {
    "duration": 15144,
    "start_time": "2022-03-20T19:35:59.965Z"
   },
   {
    "duration": 2,
    "start_time": "2022-03-20T19:37:37.932Z"
   },
   {
    "duration": 1366744,
    "start_time": "2022-03-20T19:40:10.959Z"
   },
   {
    "duration": 49160,
    "start_time": "2022-03-20T20:15:14.795Z"
   },
   {
    "duration": 350,
    "start_time": "2022-03-20T20:16:15.753Z"
   },
   {
    "duration": 487,
    "start_time": "2022-03-20T20:16:36.113Z"
   },
   {
    "duration": 207,
    "start_time": "2022-03-20T20:16:48.448Z"
   },
   {
    "duration": 2482,
    "start_time": "2022-03-20T20:17:22.921Z"
   },
   {
    "duration": 208,
    "start_time": "2022-03-20T20:18:34.513Z"
   },
   {
    "duration": 1243,
    "start_time": "2022-03-20T20:19:07.343Z"
   },
   {
    "duration": 977,
    "start_time": "2022-03-20T20:21:56.271Z"
   },
   {
    "duration": 5,
    "start_time": "2022-03-20T20:22:01.939Z"
   },
   {
    "duration": 67,
    "start_time": "2022-03-20T20:22:01.946Z"
   },
   {
    "duration": 4,
    "start_time": "2022-03-20T20:22:02.015Z"
   },
   {
    "duration": 237,
    "start_time": "2022-03-20T20:22:02.020Z"
   },
   {
    "duration": 2,
    "start_time": "2022-03-20T20:22:02.260Z"
   },
   {
    "duration": 156,
    "start_time": "2022-03-20T20:22:02.263Z"
   },
   {
    "duration": 35,
    "start_time": "2022-03-20T20:22:02.421Z"
   },
   {
    "duration": 31,
    "start_time": "2022-03-20T20:22:02.457Z"
   },
   {
    "duration": 1042,
    "start_time": "2022-03-20T20:22:02.490Z"
   },
   {
    "duration": 9089,
    "start_time": "2022-03-20T20:22:03.534Z"
   },
   {
    "duration": 462,
    "start_time": "2022-03-20T20:22:12.624Z"
   },
   {
    "duration": 549,
    "start_time": "2022-03-20T20:22:13.088Z"
   },
   {
    "duration": 1534,
    "start_time": "2022-03-20T20:22:13.638Z"
   },
   {
    "duration": 1760,
    "start_time": "2022-03-20T20:22:15.180Z"
   },
   {
    "duration": 15074,
    "start_time": "2022-03-20T20:22:16.941Z"
   },
   {
    "duration": 51050,
    "start_time": "2022-03-20T20:22:32.016Z"
   },
   {
    "duration": 1232,
    "start_time": "2022-03-20T20:23:23.068Z"
   },
   {
    "duration": 403,
    "start_time": "2022-03-20T20:23:24.302Z"
   },
   {
    "duration": 677,
    "start_time": "2022-03-20T20:23:24.707Z"
   },
   {
    "duration": 1088,
    "start_time": "2022-03-20T20:23:25.386Z"
   },
   {
    "duration": 676,
    "start_time": "2022-03-20T20:25:59.204Z"
   },
   {
    "duration": 1086,
    "start_time": "2022-03-20T20:26:30.388Z"
   },
   {
    "duration": 4,
    "start_time": "2022-03-20T20:27:34.868Z"
   },
   {
    "duration": 8,
    "start_time": "2022-03-20T20:30:38.386Z"
   },
   {
    "duration": 5,
    "start_time": "2022-03-20T20:31:05.156Z"
   },
   {
    "duration": 6,
    "start_time": "2022-03-20T20:31:10.466Z"
   },
   {
    "duration": 113,
    "start_time": "2022-03-20T20:32:24.282Z"
   },
   {
    "duration": 97,
    "start_time": "2022-03-20T20:37:50.503Z"
   },
   {
    "duration": 124,
    "start_time": "2022-03-20T20:39:03.719Z"
   },
   {
    "duration": 4,
    "start_time": "2022-03-20T20:44:39.066Z"
   },
   {
    "duration": 50,
    "start_time": "2022-03-20T20:44:39.073Z"
   },
   {
    "duration": 4,
    "start_time": "2022-03-20T20:44:39.125Z"
   },
   {
    "duration": 233,
    "start_time": "2022-03-20T20:44:39.132Z"
   },
   {
    "duration": 158,
    "start_time": "2022-03-20T20:44:39.367Z"
   },
   {
    "duration": 35,
    "start_time": "2022-03-20T20:44:39.527Z"
   },
   {
    "duration": 33,
    "start_time": "2022-03-20T20:44:39.564Z"
   },
   {
    "duration": 1018,
    "start_time": "2022-03-20T20:44:39.599Z"
   },
   {
    "duration": 8882,
    "start_time": "2022-03-20T20:44:40.620Z"
   },
   {
    "duration": 487,
    "start_time": "2022-03-20T20:44:49.503Z"
   },
   {
    "duration": 366,
    "start_time": "2022-03-20T20:44:50.082Z"
   },
   {
    "duration": 1533,
    "start_time": "2022-03-20T20:44:50.450Z"
   },
   {
    "duration": 1763,
    "start_time": "2022-03-20T20:44:51.985Z"
   },
   {
    "duration": 14901,
    "start_time": "2022-03-20T20:44:53.749Z"
   },
   {
    "duration": 48100,
    "start_time": "2022-03-20T20:45:08.651Z"
   },
   {
    "duration": 1234,
    "start_time": "2022-03-20T20:45:56.753Z"
   },
   {
    "duration": 408,
    "start_time": "2022-03-20T20:45:57.989Z"
   },
   {
    "duration": 1015,
    "start_time": "2022-03-20T20:45:58.399Z"
   },
   {
    "duration": 1019,
    "start_time": "2022-03-20T20:45:59.416Z"
   },
   {
    "duration": 132,
    "start_time": "2022-03-20T20:46:00.436Z"
   },
   {
    "duration": 1560,
    "start_time": "2022-03-21T18:19:52.285Z"
   },
   {
    "duration": 54,
    "start_time": "2022-03-21T18:19:53.847Z"
   },
   {
    "duration": 4,
    "start_time": "2022-03-21T18:19:53.903Z"
   },
   {
    "duration": 289,
    "start_time": "2022-03-21T18:19:53.909Z"
   },
   {
    "duration": 160,
    "start_time": "2022-03-21T18:19:54.200Z"
   },
   {
    "duration": 54,
    "start_time": "2022-03-21T18:19:54.362Z"
   },
   {
    "duration": 41,
    "start_time": "2022-03-21T18:19:54.418Z"
   },
   {
    "duration": 1732,
    "start_time": "2022-03-21T18:19:54.461Z"
   },
   {
    "duration": 12894,
    "start_time": "2022-03-21T18:19:56.195Z"
   },
   {
    "duration": 541,
    "start_time": "2022-03-21T18:20:09.091Z"
   },
   {
    "duration": 68289,
    "start_time": "2022-03-21T18:20:09.636Z"
   },
   {
    "duration": 99588,
    "start_time": "2022-03-21T18:25:40.639Z"
   },
   {
    "duration": 4,
    "start_time": "2022-03-21T18:27:36.181Z"
   },
   {
    "duration": 4,
    "start_time": "2022-03-21T18:27:42.212Z"
   },
   {
    "duration": 911088,
    "start_time": "2022-03-21T18:28:22.931Z"
   },
   {
    "duration": 3,
    "start_time": "2022-03-21T18:44:17.562Z"
   },
   {
    "duration": 2645,
    "start_time": "2022-03-21T18:45:01.422Z"
   },
   {
    "duration": 76,
    "start_time": "2022-03-21T18:45:04.069Z"
   },
   {
    "duration": 3,
    "start_time": "2022-03-21T18:45:04.147Z"
   },
   {
    "duration": 301,
    "start_time": "2022-03-21T18:45:04.152Z"
   },
   {
    "duration": 161,
    "start_time": "2022-03-21T18:45:04.456Z"
   },
   {
    "duration": 41,
    "start_time": "2022-03-21T18:45:04.619Z"
   },
   {
    "duration": 19,
    "start_time": "2022-03-21T18:45:04.662Z"
   },
   {
    "duration": 1179,
    "start_time": "2022-03-21T18:45:04.683Z"
   },
   {
    "duration": 9242,
    "start_time": "2022-03-21T18:45:05.864Z"
   },
   {
    "duration": 525,
    "start_time": "2022-03-21T18:45:15.108Z"
   },
   {
    "duration": 479,
    "start_time": "2022-03-21T18:45:15.636Z"
   },
   {
    "duration": 1600,
    "start_time": "2022-03-21T18:45:16.117Z"
   },
   {
    "duration": 1914,
    "start_time": "2022-03-21T18:45:17.719Z"
   },
   {
    "duration": 15898,
    "start_time": "2022-03-21T18:45:19.635Z"
   },
   {
    "duration": 50191,
    "start_time": "2022-03-21T18:45:35.535Z"
   },
   {
    "duration": 166004,
    "start_time": "2022-03-21T18:46:25.732Z"
   },
   {
    "duration": 260,
    "start_time": "2022-03-21T18:50:06.932Z"
   },
   {
    "duration": 100845,
    "start_time": "2022-03-21T18:50:13.635Z"
   },
   {
    "duration": 129696,
    "start_time": "2022-03-21T18:52:41.479Z"
   },
   {
    "duration": 1619,
    "start_time": "2022-03-21T19:24:11.824Z"
   },
   {
    "duration": 49,
    "start_time": "2022-03-21T19:24:13.445Z"
   },
   {
    "duration": 3,
    "start_time": "2022-03-21T19:24:13.496Z"
   },
   {
    "duration": 295,
    "start_time": "2022-03-21T19:24:13.501Z"
   },
   {
    "duration": 168,
    "start_time": "2022-03-21T19:24:13.798Z"
   },
   {
    "duration": 41,
    "start_time": "2022-03-21T19:24:13.968Z"
   },
   {
    "duration": 34,
    "start_time": "2022-03-21T19:24:14.011Z"
   },
   {
    "duration": 1342,
    "start_time": "2022-03-21T19:24:14.047Z"
   },
   {
    "duration": 9363,
    "start_time": "2022-03-21T19:24:15.391Z"
   },
   {
    "duration": 488,
    "start_time": "2022-03-21T19:24:24.756Z"
   },
   {
    "duration": 473,
    "start_time": "2022-03-21T19:24:25.332Z"
   },
   {
    "duration": 1572,
    "start_time": "2022-03-21T19:24:25.807Z"
   },
   {
    "duration": 1828,
    "start_time": "2022-03-21T19:24:27.380Z"
   },
   {
    "duration": 16106,
    "start_time": "2022-03-21T19:24:29.210Z"
   },
   {
    "duration": 61378,
    "start_time": "2022-03-21T19:24:45.318Z"
   },
   {
    "duration": 3,
    "start_time": "2022-03-21T19:25:46.698Z"
   },
   {
    "duration": 1360,
    "start_time": "2022-03-21T19:25:46.704Z"
   },
   {
    "duration": 394,
    "start_time": "2022-03-21T19:25:48.066Z"
   },
   {
    "duration": 1082,
    "start_time": "2022-03-21T19:25:48.462Z"
   },
   {
    "duration": 1095,
    "start_time": "2022-03-21T19:25:49.547Z"
   },
   {
    "duration": 150,
    "start_time": "2022-03-21T19:25:50.644Z"
   },
   {
    "duration": 2951,
    "start_time": "2022-03-21T19:54:42.611Z"
   },
   {
    "duration": 128,
    "start_time": "2022-03-21T19:54:45.566Z"
   },
   {
    "duration": 6,
    "start_time": "2022-03-21T19:54:45.697Z"
   },
   {
    "duration": 448,
    "start_time": "2022-03-21T19:54:45.708Z"
   },
   {
    "duration": 295,
    "start_time": "2022-03-21T19:54:46.159Z"
   },
   {
    "duration": 97,
    "start_time": "2022-03-21T19:54:46.456Z"
   },
   {
    "duration": 43,
    "start_time": "2022-03-21T19:54:46.556Z"
   },
   {
    "duration": 1597,
    "start_time": "2022-03-21T19:54:46.601Z"
   },
   {
    "duration": 13132,
    "start_time": "2022-03-21T19:54:48.200Z"
   },
   {
    "duration": 701,
    "start_time": "2022-03-21T19:55:01.343Z"
   },
   {
    "duration": 780,
    "start_time": "2022-03-21T19:55:02.047Z"
   },
   {
    "duration": 2279,
    "start_time": "2022-03-21T19:55:02.830Z"
   },
   {
    "duration": 2492,
    "start_time": "2022-03-21T19:55:05.111Z"
   },
   {
    "duration": 21244,
    "start_time": "2022-03-21T19:55:07.605Z"
   },
   {
    "duration": 66138,
    "start_time": "2022-03-21T19:55:28.854Z"
   },
   {
    "duration": 4,
    "start_time": "2022-03-21T19:56:34.995Z"
   },
   {
    "duration": 1851,
    "start_time": "2022-03-21T19:56:35.001Z"
   },
   {
    "duration": 442,
    "start_time": "2022-03-21T19:56:36.944Z"
   },
   {
    "duration": 1409,
    "start_time": "2022-03-21T19:56:37.388Z"
   },
   {
    "duration": 1473,
    "start_time": "2022-03-21T19:56:38.800Z"
   },
   {
    "duration": 253,
    "start_time": "2022-03-21T19:56:40.275Z"
   },
   {
    "duration": 5,
    "start_time": "2022-03-21T19:57:35.846Z"
   },
   {
    "duration": 298516,
    "start_time": "2022-03-21T19:57:51.368Z"
   },
   {
    "duration": 2498,
    "start_time": "2022-03-22T08:04:32.763Z"
   },
   {
    "duration": 77,
    "start_time": "2022-03-22T08:04:35.264Z"
   },
   {
    "duration": 5,
    "start_time": "2022-03-22T08:04:35.344Z"
   },
   {
    "duration": 416,
    "start_time": "2022-03-22T08:04:35.353Z"
   },
   {
    "duration": 284,
    "start_time": "2022-03-22T08:04:35.772Z"
   },
   {
    "duration": 68,
    "start_time": "2022-03-22T08:04:36.059Z"
   },
   {
    "duration": 69,
    "start_time": "2022-03-22T08:04:36.130Z"
   },
   {
    "duration": 1697,
    "start_time": "2022-03-22T08:04:36.201Z"
   },
   {
    "duration": 13205,
    "start_time": "2022-03-22T08:04:37.900Z"
   },
   {
    "duration": 675,
    "start_time": "2022-03-22T08:04:51.111Z"
   },
   {
    "duration": 733,
    "start_time": "2022-03-22T08:04:51.791Z"
   },
   {
    "duration": 2298,
    "start_time": "2022-03-22T08:04:52.526Z"
   },
   {
    "duration": 2669,
    "start_time": "2022-03-22T08:04:54.826Z"
   },
   {
    "duration": 21984,
    "start_time": "2022-03-22T08:04:57.497Z"
   },
   {
    "duration": 68977,
    "start_time": "2022-03-22T08:05:19.484Z"
   },
   {
    "duration": 300569,
    "start_time": "2022-03-22T08:06:28.464Z"
   },
   {
    "duration": 1850,
    "start_time": "2022-03-22T08:11:29.035Z"
   },
   {
    "duration": 463,
    "start_time": "2022-03-22T08:11:30.889Z"
   },
   {
    "duration": 1546,
    "start_time": "2022-03-22T08:11:31.353Z"
   },
   {
    "duration": 2219,
    "start_time": "2022-03-22T08:11:32.902Z"
   },
   {
    "duration": 254,
    "start_time": "2022-03-22T08:11:35.123Z"
   },
   {
    "duration": 2809,
    "start_time": "2022-03-23T07:40:34.483Z"
   },
   {
    "duration": 88,
    "start_time": "2022-03-23T07:40:37.297Z"
   },
   {
    "duration": 6,
    "start_time": "2022-03-23T07:40:37.388Z"
   },
   {
    "duration": 418,
    "start_time": "2022-03-23T07:40:37.396Z"
   },
   {
    "duration": 106,
    "start_time": "2022-03-23T07:40:37.818Z"
   },
   {
    "duration": 64,
    "start_time": "2022-03-23T07:40:37.926Z"
   },
   {
    "duration": 50,
    "start_time": "2022-03-23T07:40:37.992Z"
   },
   {
    "duration": 1533,
    "start_time": "2022-03-23T07:40:38.044Z"
   },
   {
    "duration": 12746,
    "start_time": "2022-03-23T07:40:39.579Z"
   },
   {
    "duration": 635,
    "start_time": "2022-03-23T07:40:52.327Z"
   },
   {
    "duration": 345,
    "start_time": "2022-03-23T07:40:53.042Z"
   },
   {
    "duration": 169,
    "start_time": "2022-03-23T07:41:03.590Z"
   },
   {
    "duration": 8,
    "start_time": "2022-03-23T07:41:09.828Z"
   },
   {
    "duration": 161,
    "start_time": "2022-03-23T07:41:19.599Z"
   },
   {
    "duration": 7,
    "start_time": "2022-03-23T07:41:22.400Z"
   },
   {
    "duration": 243,
    "start_time": "2022-03-23T07:41:27.500Z"
   },
   {
    "duration": 8,
    "start_time": "2022-03-23T07:41:29.764Z"
   },
   {
    "duration": 2294,
    "start_time": "2022-03-23T14:05:08.413Z"
   },
   {
    "duration": 81,
    "start_time": "2022-03-23T14:05:10.710Z"
   },
   {
    "duration": 4,
    "start_time": "2022-03-23T14:05:10.794Z"
   },
   {
    "duration": 407,
    "start_time": "2022-03-23T14:05:10.801Z"
   },
   {
    "duration": 105,
    "start_time": "2022-03-23T14:05:11.210Z"
   },
   {
    "duration": 64,
    "start_time": "2022-03-23T14:05:11.318Z"
   },
   {
    "duration": 32,
    "start_time": "2022-03-23T14:05:11.384Z"
   },
   {
    "duration": 1664,
    "start_time": "2022-03-23T14:05:11.418Z"
   },
   {
    "duration": 12803,
    "start_time": "2022-03-23T14:05:13.084Z"
   },
   {
    "duration": 693,
    "start_time": "2022-03-23T14:05:25.891Z"
   },
   {
    "duration": 328,
    "start_time": "2022-03-23T14:05:26.587Z"
   },
   {
    "duration": 9,
    "start_time": "2022-03-23T14:05:26.917Z"
   },
   {
    "duration": 2191,
    "start_time": "2022-03-23T14:05:26.929Z"
   },
   {
    "duration": 2516,
    "start_time": "2022-03-23T14:05:29.122Z"
   },
   {
    "duration": 20992,
    "start_time": "2022-03-23T14:05:31.641Z"
   },
   {
    "duration": 65706,
    "start_time": "2022-03-23T14:05:52.635Z"
   },
   {
    "duration": 293972,
    "start_time": "2022-03-23T14:06:58.343Z"
   },
   {
    "duration": 5067,
    "start_time": "2022-03-23T14:11:52.318Z"
   },
   {
    "duration": 306,
    "start_time": "2022-03-23T14:11:57.388Z"
   },
   {
    "duration": 1412,
    "start_time": "2022-03-23T14:11:57.696Z"
   },
   {
    "duration": 1435,
    "start_time": "2022-03-23T14:11:59.110Z"
   },
   {
    "duration": 273,
    "start_time": "2022-03-23T14:12:00.547Z"
   },
   {
    "duration": 169,
    "start_time": "2022-03-23T14:13:56.562Z"
   },
   {
    "duration": 9,
    "start_time": "2022-03-23T14:13:59.254Z"
   },
   {
    "duration": 157,
    "start_time": "2022-03-23T14:14:08.089Z"
   },
   {
    "duration": 9,
    "start_time": "2022-03-23T14:14:09.146Z"
   },
   {
    "duration": 1474,
    "start_time": "2022-03-23T14:14:15.001Z"
   },
   {
    "duration": 1301,
    "start_time": "2022-03-23T14:14:18.475Z"
   },
   {
    "duration": 13810,
    "start_time": "2022-03-23T14:14:23.562Z"
   },
   {
    "duration": 38480,
    "start_time": "2022-03-23T14:14:40.491Z"
   },
   {
    "duration": 8,
    "start_time": "2022-03-23T14:16:11.841Z"
   },
   {
    "duration": 398,
    "start_time": "2022-03-23T14:22:58.060Z"
   },
   {
    "duration": 8,
    "start_time": "2022-03-23T14:22:58.671Z"
   },
   {
    "duration": 437,
    "start_time": "2022-03-23T14:23:04.886Z"
   },
   {
    "duration": 9,
    "start_time": "2022-03-23T14:23:05.326Z"
   },
   {
    "duration": 572,
    "start_time": "2022-03-23T14:23:20.110Z"
   },
   {
    "duration": 8,
    "start_time": "2022-03-23T14:23:21.615Z"
   },
   {
    "duration": 264,
    "start_time": "2022-03-23T14:23:27.303Z"
   },
   {
    "duration": 9,
    "start_time": "2022-03-23T14:23:27.788Z"
   },
   {
    "duration": 300,
    "start_time": "2022-03-23T14:23:33.736Z"
   },
   {
    "duration": 9,
    "start_time": "2022-03-23T14:23:36.045Z"
   },
   {
    "duration": 189,
    "start_time": "2022-03-23T14:23:50.501Z"
   },
   {
    "duration": 9,
    "start_time": "2022-03-23T14:23:52.461Z"
   },
   {
    "duration": 561,
    "start_time": "2022-03-23T14:23:58.059Z"
   },
   {
    "duration": 9,
    "start_time": "2022-03-23T14:23:59.956Z"
   },
   {
    "duration": 457,
    "start_time": "2022-03-23T14:24:05.669Z"
   },
   {
    "duration": 10,
    "start_time": "2022-03-23T14:24:06.129Z"
   },
   {
    "duration": 263,
    "start_time": "2022-03-23T14:24:11.208Z"
   },
   {
    "duration": 9,
    "start_time": "2022-03-23T14:24:11.581Z"
   },
   {
    "duration": 294,
    "start_time": "2022-03-23T14:24:15.973Z"
   },
   {
    "duration": 9,
    "start_time": "2022-03-23T14:24:17.390Z"
   },
   {
    "duration": 353,
    "start_time": "2022-03-23T14:24:23.684Z"
   },
   {
    "duration": 9,
    "start_time": "2022-03-23T14:24:26.454Z"
   },
   {
    "duration": 444,
    "start_time": "2022-03-23T14:24:31.678Z"
   },
   {
    "duration": 9,
    "start_time": "2022-03-23T14:24:32.733Z"
   },
   {
    "duration": 293,
    "start_time": "2022-03-23T14:24:37.671Z"
   },
   {
    "duration": 8,
    "start_time": "2022-03-23T14:24:41.366Z"
   },
   {
    "duration": 278,
    "start_time": "2022-03-23T14:24:45.817Z"
   },
   {
    "duration": 10,
    "start_time": "2022-03-23T14:24:47.428Z"
   },
   {
    "duration": 8,
    "start_time": "2022-03-23T14:25:04.329Z"
   },
   {
    "duration": 81,
    "start_time": "2022-03-23T14:25:04.339Z"
   },
   {
    "duration": 5,
    "start_time": "2022-03-23T14:25:04.423Z"
   },
   {
    "duration": 387,
    "start_time": "2022-03-23T14:25:04.430Z"
   },
   {
    "duration": 99,
    "start_time": "2022-03-23T14:25:04.819Z"
   },
   {
    "duration": 76,
    "start_time": "2022-03-23T14:25:04.920Z"
   },
   {
    "duration": 33,
    "start_time": "2022-03-23T14:25:04.999Z"
   },
   {
    "duration": 1497,
    "start_time": "2022-03-23T14:25:05.035Z"
   },
   {
    "duration": 13511,
    "start_time": "2022-03-23T14:25:06.535Z"
   },
   {
    "duration": 655,
    "start_time": "2022-03-23T14:25:20.049Z"
   },
   {
    "duration": 256,
    "start_time": "2022-03-23T14:25:20.785Z"
   },
   {
    "duration": 9,
    "start_time": "2022-03-23T14:25:21.043Z"
   },
   {
    "duration": 7,
    "start_time": "2022-03-23T14:25:21.055Z"
   },
   {
    "duration": 21,
    "start_time": "2022-03-23T14:25:21.064Z"
   },
   {
    "duration": 12694,
    "start_time": "2022-03-23T14:25:21.088Z"
   },
   {
    "duration": 37898,
    "start_time": "2022-03-23T14:25:33.785Z"
   },
   {
    "duration": 180778,
    "start_time": "2022-03-23T14:26:11.686Z"
   },
   {
    "duration": 1117,
    "start_time": "2022-03-23T14:29:12.467Z"
   },
   {
    "duration": 468,
    "start_time": "2022-03-23T14:29:13.587Z"
   },
   {
    "duration": 8,
    "start_time": "2022-03-23T14:29:14.058Z"
   },
   {
    "duration": 860,
    "start_time": "2022-03-23T14:29:14.068Z"
   },
   {
    "duration": 897,
    "start_time": "2022-03-23T14:29:14.930Z"
   },
   {
    "duration": 224,
    "start_time": "2022-03-23T14:29:15.830Z"
   },
   {
    "duration": 1592,
    "start_time": "2022-03-24T11:14:30.379Z"
   },
   {
    "duration": 49,
    "start_time": "2022-03-24T11:14:31.973Z"
   },
   {
    "duration": 3,
    "start_time": "2022-03-24T11:14:32.024Z"
   },
   {
    "duration": 293,
    "start_time": "2022-03-24T11:14:32.037Z"
   },
   {
    "duration": 80,
    "start_time": "2022-03-24T11:14:32.332Z"
   },
   {
    "duration": 51,
    "start_time": "2022-03-24T11:14:32.414Z"
   },
   {
    "duration": 23,
    "start_time": "2022-03-24T11:14:32.467Z"
   },
   {
    "duration": 1430,
    "start_time": "2022-03-24T11:14:32.492Z"
   },
   {
    "duration": 11224,
    "start_time": "2022-03-24T11:14:33.924Z"
   },
   {
    "duration": 541,
    "start_time": "2022-03-24T11:14:45.151Z"
   },
   {
    "duration": 302,
    "start_time": "2022-03-24T11:14:45.746Z"
   },
   {
    "duration": 6,
    "start_time": "2022-03-24T11:14:46.050Z"
   },
   {
    "duration": 5,
    "start_time": "2022-03-24T11:14:46.058Z"
   },
   {
    "duration": 9,
    "start_time": "2022-03-24T11:14:46.064Z"
   },
   {
    "duration": 10317,
    "start_time": "2022-03-24T11:14:46.075Z"
   },
   {
    "duration": 34346,
    "start_time": "2022-03-24T11:14:56.393Z"
   },
   {
    "duration": 169488,
    "start_time": "2022-03-24T11:15:30.741Z"
   },
   {
    "duration": 907,
    "start_time": "2022-03-24T11:18:20.231Z"
   },
   {
    "duration": 336,
    "start_time": "2022-03-24T11:18:21.141Z"
   },
   {
    "duration": 5,
    "start_time": "2022-03-24T11:18:21.479Z"
   },
   {
    "duration": 715,
    "start_time": "2022-03-24T11:18:21.486Z"
   },
   {
    "duration": 1372,
    "start_time": "2022-03-24T11:24:35.088Z"
   },
   {
    "duration": 322,
    "start_time": "2022-03-24T11:24:59.844Z"
   },
   {
    "duration": 1317,
    "start_time": "2022-03-24T11:25:43.155Z"
   },
   {
    "duration": 254,
    "start_time": "2022-03-24T11:25:46.219Z"
   },
   {
    "duration": 229,
    "start_time": "2022-03-24T11:25:55.055Z"
   },
   {
    "duration": 1359,
    "start_time": "2022-06-10T15:30:31.812Z"
   },
   {
    "duration": 120,
    "start_time": "2022-06-10T15:30:33.173Z"
   },
   {
    "duration": 3,
    "start_time": "2022-06-10T15:30:33.295Z"
   },
   {
    "duration": 297,
    "start_time": "2022-06-10T15:30:33.300Z"
   },
   {
    "duration": 92,
    "start_time": "2022-06-10T15:30:33.599Z"
   },
   {
    "duration": 38,
    "start_time": "2022-06-10T15:30:33.693Z"
   },
   {
    "duration": 31,
    "start_time": "2022-06-10T15:30:33.733Z"
   },
   {
    "duration": 1224,
    "start_time": "2022-06-10T15:30:33.766Z"
   },
   {
    "duration": 10448,
    "start_time": "2022-06-10T15:30:34.991Z"
   },
   {
    "duration": 544,
    "start_time": "2022-06-10T15:30:45.441Z"
   },
   {
    "duration": 314,
    "start_time": "2022-06-10T15:30:45.987Z"
   },
   {
    "duration": 7,
    "start_time": "2022-06-10T15:30:46.303Z"
   },
   {
    "duration": 10597,
    "start_time": "2022-06-10T15:30:46.311Z"
   },
   {
    "duration": 30986,
    "start_time": "2022-06-10T15:30:56.909Z"
   },
   {
    "duration": 146547,
    "start_time": "2022-06-10T15:31:27.897Z"
   },
   {
    "duration": 937,
    "start_time": "2022-06-10T15:33:54.446Z"
   },
   {
    "duration": 320,
    "start_time": "2022-06-10T15:33:55.387Z"
   },
   {
    "duration": 6,
    "start_time": "2022-06-10T15:33:55.708Z"
   },
   {
    "duration": 682,
    "start_time": "2022-06-10T15:33:55.715Z"
   },
   {
    "duration": 733,
    "start_time": "2022-06-10T15:33:56.399Z"
   },
   {
    "duration": 209,
    "start_time": "2022-06-10T15:33:57.134Z"
   }
  ],
  "kernelspec": {
   "display_name": "Python 3 (ipykernel)",
   "language": "python",
   "name": "python3"
  },
  "language_info": {
   "codemirror_mode": {
    "name": "ipython",
    "version": 3
   },
   "file_extension": ".py",
   "mimetype": "text/x-python",
   "name": "python",
   "nbconvert_exporter": "python",
   "pygments_lexer": "ipython3",
   "version": "3.7.8"
  },
  "toc": {
   "base_numbering": 1,
   "nav_menu": {},
   "number_sections": true,
   "sideBar": true,
   "skip_h1_title": true,
   "title_cell": "Содержание",
   "title_sidebar": "Contents",
   "toc_cell": true,
   "toc_position": {},
   "toc_section_display": true,
   "toc_window_display": true
  }
 },
 "nbformat": 4,
 "nbformat_minor": 2
}
