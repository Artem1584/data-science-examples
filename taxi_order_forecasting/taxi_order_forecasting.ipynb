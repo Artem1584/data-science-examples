{
 "cells": [
  {
   "cell_type": "markdown",
   "metadata": {},
   "source": [
    "#  Прогнозирование заказов такси"
   ]
  },
  {
   "cell_type": "markdown",
   "metadata": {},
   "source": [
    "Компания «Чётенькое такси» собрала исторические данные о заказах такси в аэропортах. Чтобы привлекать больше водителей в период пиковой нагрузки, нужно спрогнозировать количество заказов такси на следующий час. Постройте модель для такого предсказания.\n",
    "\n",
    "Значение метрики *RMSE* на тестовой выборке должно быть не больше 48.\n",
    "\n",
    "Вам нужно:\n",
    "\n",
    "1. Загрузить данные и выполнить их ресемплирование по одному часу.\n",
    "2. Проанализировать данные.\n",
    "3. Обучить разные модели с различными гиперпараметрами. Сделать тестовую выборку размером 10% от исходных данных.\n",
    "4. Проверить данные на тестовой выборке и сделать выводы.\n",
    "\n",
    "\n",
    "Данные лежат в файле `taxi.csv`. Количество заказов находится в столбце `num_orders` (от англ. *number of orders*, «число заказов»)."
   ]
  },
  {
   "cell_type": "markdown",
   "metadata": {},
   "source": [
    "## Подготовка"
   ]
  },
  {
   "cell_type": "code",
   "execution_count": 57,
   "metadata": {},
   "outputs": [],
   "source": [
    "import pandas as pd\n",
    "from statsmodels.tsa.seasonal import seasonal_decompose\n",
    "import matplotlib.pyplot as plt\n",
    "from sklearn.model_selection import train_test_split\n",
    "from sklearn.metrics import mean_squared_error\n",
    "from sklearn.linear_model import LinearRegression\n",
    "from sklearn.tree import DecisionTreeRegressor\n",
    "from sklearn.ensemble import RandomForestRegressor\n",
    "import numpy as np\n",
    "from sklearn.ensemble import RandomForestRegressor"
   ]
  },
  {
   "cell_type": "code",
   "execution_count": 58,
   "metadata": {},
   "outputs": [],
   "source": [
    "df = pd.read_csv('/datasets/taxi.csv', index_col=[0], parse_dates=[0])"
   ]
  },
  {
   "cell_type": "code",
   "execution_count": 59,
   "metadata": {},
   "outputs": [
    {
     "data": {
      "text/html": [
       "<div>\n",
       "<style scoped>\n",
       "    .dataframe tbody tr th:only-of-type {\n",
       "        vertical-align: middle;\n",
       "    }\n",
       "\n",
       "    .dataframe tbody tr th {\n",
       "        vertical-align: top;\n",
       "    }\n",
       "\n",
       "    .dataframe thead th {\n",
       "        text-align: right;\n",
       "    }\n",
       "</style>\n",
       "<table border=\"1\" class=\"dataframe\">\n",
       "  <thead>\n",
       "    <tr style=\"text-align: right;\">\n",
       "      <th></th>\n",
       "      <th>num_orders</th>\n",
       "    </tr>\n",
       "    <tr>\n",
       "      <th>datetime</th>\n",
       "      <th></th>\n",
       "    </tr>\n",
       "  </thead>\n",
       "  <tbody>\n",
       "    <tr>\n",
       "      <th>2018-03-01 00:00:00</th>\n",
       "      <td>9</td>\n",
       "    </tr>\n",
       "    <tr>\n",
       "      <th>2018-03-01 00:10:00</th>\n",
       "      <td>14</td>\n",
       "    </tr>\n",
       "    <tr>\n",
       "      <th>2018-03-01 00:20:00</th>\n",
       "      <td>28</td>\n",
       "    </tr>\n",
       "    <tr>\n",
       "      <th>2018-03-01 00:30:00</th>\n",
       "      <td>20</td>\n",
       "    </tr>\n",
       "    <tr>\n",
       "      <th>2018-03-01 00:40:00</th>\n",
       "      <td>32</td>\n",
       "    </tr>\n",
       "    <tr>\n",
       "      <th>2018-03-01 00:50:00</th>\n",
       "      <td>21</td>\n",
       "    </tr>\n",
       "    <tr>\n",
       "      <th>2018-03-01 01:00:00</th>\n",
       "      <td>7</td>\n",
       "    </tr>\n",
       "    <tr>\n",
       "      <th>2018-03-01 01:10:00</th>\n",
       "      <td>5</td>\n",
       "    </tr>\n",
       "    <tr>\n",
       "      <th>2018-03-01 01:20:00</th>\n",
       "      <td>17</td>\n",
       "    </tr>\n",
       "    <tr>\n",
       "      <th>2018-03-01 01:30:00</th>\n",
       "      <td>12</td>\n",
       "    </tr>\n",
       "  </tbody>\n",
       "</table>\n",
       "</div>"
      ],
      "text/plain": [
       "                     num_orders\n",
       "datetime                       \n",
       "2018-03-01 00:00:00           9\n",
       "2018-03-01 00:10:00          14\n",
       "2018-03-01 00:20:00          28\n",
       "2018-03-01 00:30:00          20\n",
       "2018-03-01 00:40:00          32\n",
       "2018-03-01 00:50:00          21\n",
       "2018-03-01 01:00:00           7\n",
       "2018-03-01 01:10:00           5\n",
       "2018-03-01 01:20:00          17\n",
       "2018-03-01 01:30:00          12"
      ]
     },
     "metadata": {},
     "output_type": "display_data"
    },
    {
     "name": "stdout",
     "output_type": "stream",
     "text": [
      "<class 'pandas.core.frame.DataFrame'>\n",
      "DatetimeIndex: 26496 entries, 2018-03-01 00:00:00 to 2018-08-31 23:50:00\n",
      "Data columns (total 1 columns):\n",
      " #   Column      Non-Null Count  Dtype\n",
      "---  ------      --------------  -----\n",
      " 0   num_orders  26496 non-null  int64\n",
      "dtypes: int64(1)\n",
      "memory usage: 414.0 KB\n"
     ]
    },
    {
     "data": {
      "text/plain": [
       "None"
      ]
     },
     "metadata": {},
     "output_type": "display_data"
    },
    {
     "data": {
      "text/plain": [
       "(26496, 1)"
      ]
     },
     "execution_count": 59,
     "metadata": {},
     "output_type": "execute_result"
    }
   ],
   "source": [
    "display(df.head(10))\n",
    "display(df.info())\n",
    "df.shape"
   ]
  },
  {
   "cell_type": "code",
   "execution_count": 60,
   "metadata": {},
   "outputs": [
    {
     "data": {
      "text/plain": [
       "True"
      ]
     },
     "execution_count": 60,
     "metadata": {},
     "output_type": "execute_result"
    }
   ],
   "source": [
    "# проверим в хронологическом ли порядке расположены даты и время\n",
    "df.index.is_monotonic"
   ]
  },
  {
   "cell_type": "code",
   "execution_count": 61,
   "metadata": {},
   "outputs": [],
   "source": [
    "df = df.resample('1H').sum()\n"
   ]
  },
  {
   "cell_type": "code",
   "execution_count": 62,
   "metadata": {},
   "outputs": [
    {
     "data": {
      "text/html": [
       "<div>\n",
       "<style scoped>\n",
       "    .dataframe tbody tr th:only-of-type {\n",
       "        vertical-align: middle;\n",
       "    }\n",
       "\n",
       "    .dataframe tbody tr th {\n",
       "        vertical-align: top;\n",
       "    }\n",
       "\n",
       "    .dataframe thead th {\n",
       "        text-align: right;\n",
       "    }\n",
       "</style>\n",
       "<table border=\"1\" class=\"dataframe\">\n",
       "  <thead>\n",
       "    <tr style=\"text-align: right;\">\n",
       "      <th></th>\n",
       "      <th>num_orders</th>\n",
       "    </tr>\n",
       "    <tr>\n",
       "      <th>datetime</th>\n",
       "      <th></th>\n",
       "    </tr>\n",
       "  </thead>\n",
       "  <tbody>\n",
       "    <tr>\n",
       "      <th>2018-03-01 00:00:00</th>\n",
       "      <td>124</td>\n",
       "    </tr>\n",
       "    <tr>\n",
       "      <th>2018-03-01 01:00:00</th>\n",
       "      <td>85</td>\n",
       "    </tr>\n",
       "    <tr>\n",
       "      <th>2018-03-01 02:00:00</th>\n",
       "      <td>71</td>\n",
       "    </tr>\n",
       "    <tr>\n",
       "      <th>2018-03-01 03:00:00</th>\n",
       "      <td>66</td>\n",
       "    </tr>\n",
       "    <tr>\n",
       "      <th>2018-03-01 04:00:00</th>\n",
       "      <td>43</td>\n",
       "    </tr>\n",
       "  </tbody>\n",
       "</table>\n",
       "</div>"
      ],
      "text/plain": [
       "                     num_orders\n",
       "datetime                       \n",
       "2018-03-01 00:00:00         124\n",
       "2018-03-01 01:00:00          85\n",
       "2018-03-01 02:00:00          71\n",
       "2018-03-01 03:00:00          66\n",
       "2018-03-01 04:00:00          43"
      ]
     },
     "execution_count": 62,
     "metadata": {},
     "output_type": "execute_result"
    }
   ],
   "source": [
    "df.head(5)"
   ]
  },
  {
   "cell_type": "markdown",
   "metadata": {},
   "source": [
    "### Вывод:\n",
    "\n",
    "Загрузил данные, проверим в хронологическом ли порядке расположены даты и время, провел ресемплирование по 1 часу"
   ]
  },
  {
   "cell_type": "markdown",
   "metadata": {},
   "source": [
    "## Анализ"
   ]
  },
  {
   "cell_type": "code",
   "execution_count": 63,
   "metadata": {},
   "outputs": [
    {
     "data": {
      "image/png": "[encoded data removed]",
      "text/plain": [
       "<Figure size 432x576 with 3 Axes>"
      ]
     },
     "metadata": {
      "needs_background": "light"
     },
     "output_type": "display_data"
    }
   ],
   "source": [
    "# проанализируем весь период\n",
    "decomposed = seasonal_decompose(df)\n",
    "plt.figure(figsize=(6, 8))\n",
    "plt.subplot(311)\n",
    "# Чтобы график корректно отобразился, указываем его\n",
    "# оси ax, равными plt.gca() (англ. get current axis,\n",
    "# получить текущие оси)\n",
    "decomposed.trend.plot(ax=plt.gca())\n",
    "plt.title('Trend')\n",
    "plt.subplot(312)\n",
    "decomposed.seasonal.plot(ax=plt.gca())\n",
    "plt.title('Seasonality')\n",
    "plt.subplot(313)\n",
    "decomposed.resid.plot(ax=plt.gca())\n",
    "plt.title('Residuals')\n",
    "plt.tight_layout()"
   ]
  },
  {
   "cell_type": "code",
   "execution_count": 64,
   "metadata": {},
   "outputs": [
    {
     "data": {
      "image/png": "[encoded data removed]",
      "text/plain": [
       "<Figure size 432x576 with 3 Axes>"
      ]
     },
     "metadata": {
      "needs_background": "light"
     },
     "output_type": "display_data"
    }
   ],
   "source": [
    "# проанализируем период в 1 месяц\n",
    "decomposed = seasonal_decompose(df['2018-06-01':'2018-07-01'])\n",
    "plt.figure(figsize=(6, 8))\n",
    "plt.subplot(311)\n",
    "# Чтобы график корректно отобразился, указываем его\n",
    "# оси ax, равными plt.gca() (англ. get current axis,\n",
    "# получить текущие оси)\n",
    "decomposed.trend.plot(ax=plt.gca())\n",
    "plt.title('Trend')\n",
    "plt.subplot(312)\n",
    "decomposed.seasonal.plot(ax=plt.gca())\n",
    "plt.title('Seasonality')\n",
    "plt.subplot(313)\n",
    "decomposed.resid.plot(ax=plt.gca())\n",
    "plt.title('Residuals')\n",
    "plt.tight_layout()"
   ]
  },
  {
   "cell_type": "code",
   "execution_count": 65,
   "metadata": {},
   "outputs": [
    {
     "data": {
      "image/png": "[encoded data removed]",
      "text/plain": [
       "<Figure size 432x576 with 3 Axes>"
      ]
     },
     "metadata": {
      "needs_background": "light"
     },
     "output_type": "display_data"
    }
   ],
   "source": [
    "# проанализируем период за  2 дня\n",
    "decomposed = seasonal_decompose(df['2018-06-06 00:00:00':'2018-06-08 00:00:00'])\n",
    "plt.figure(figsize=(6, 8))\n",
    "plt.subplot(311)\n",
    "# Чтобы график корректно отобразился, указываем его\n",
    "# оси ax, равными plt.gca() (англ. get current axis,\n",
    "# получить текущие оси)\n",
    "decomposed.trend.plot(ax=plt.gca())\n",
    "plt.title('Trend')\n",
    "plt.subplot(312)\n",
    "decomposed.seasonal.plot(ax=plt.gca())\n",
    "plt.title('Seasonality')\n",
    "plt.subplot(313)\n",
    "decomposed.resid.plot(ax=plt.gca())\n",
    "plt.title('Residuals')\n",
    "plt.tight_layout()"
   ]
  },
  {
   "cell_type": "markdown",
   "metadata": {},
   "source": [
    "### Вывод:\n",
    "\n",
    "После анализа видно общий тренд на постоянное увеличение заказов"
   ]
  },
  {
   "cell_type": "markdown",
   "metadata": {},
   "source": [
    "## Обучение"
   ]
  },
  {
   "cell_type": "code",
   "execution_count": 66,
   "metadata": {},
   "outputs": [],
   "source": [
    "# напишем функцию созданияпризнаки\n",
    "def make_features(df, max_lag, rolling_mean_size):\n",
    "    df['dayofweek'] = df.index.dayofweek\n",
    "    df['hour'] = df.index.hour\n",
    "    \n",
    "    for lag in range(1, max_lag + 1):\n",
    "        df['lag_{}'.format(lag)] = df['num_orders'].shift(lag)\n",
    "\n",
    "    df['rolling_mean'] = df['num_orders'].shift().rolling(rolling_mean_size).mean()\n",
    "\n",
    "\n",
    "#make_features(df, 2, 4)"
   ]
  },
  {
   "cell_type": "code",
   "execution_count": 67,
   "metadata": {},
   "outputs": [
    {
     "name": "stdout",
     "output_type": "stream",
     "text": [
      "Лучший RMSE LinearRegression на обучающей выборки: 30.772393494452967\n",
      "Лучший max_lag: 1\n",
      "Лучший rolling_mean_size: 73\n"
     ]
    }
   ],
   "source": [
    "best_rmse = 1000\n",
    "best_lag = 0\n",
    "best_rol = 0\n",
    "\n",
    "for lag in range(1, 2):\n",
    "    for rol in range(24, 100):\n",
    "        make_features(df, lag, rol)\n",
    "        \n",
    "        train, test = train_test_split(df, shuffle=False, test_size=0.1)\n",
    "        train = train.dropna()\n",
    "        train_futures = train.drop('num_orders', axis=1)\n",
    "        train_target = train['num_orders']\n",
    "               \n",
    "        model = LinearRegression()\n",
    "        model.fit(train_futures, train_target)\n",
    "        predicted_train = model.predict(train_futures)\n",
    "        rmse = mean_squared_error(train_target, predicted_train)**0.5\n",
    "        if rmse < best_rmse:\n",
    "            best_rmse = rmse\n",
    "            best_lag = lag\n",
    "            best_rol = rol\n",
    "\n",
    "print(\"Лучший RMSE LinearRegression на обучающей выборки:\", best_rmse)\n",
    "print(\"Лучший max_lag:\", best_lag)\n",
    "print(\"Лучший rolling_mean_size:\", best_rol)\n",
    "\n"
   ]
  },
  {
   "cell_type": "code",
   "execution_count": 70,
   "metadata": {},
   "outputs": [
    {
     "name": "stdout",
     "output_type": "stream",
     "text": [
      "Лучший RMSE DecisionTreeRegressor на обучающей выборки: 24.79621832248435\n",
      "Лучший max_lag: 1\n",
      "Лучший rolling_mean_size: 66\n"
     ]
    }
   ],
   "source": [
    "best_rmse = 1000\n",
    "best_lag = 0\n",
    "best_rol = 0\n",
    "\n",
    "for lag in range(1, 2):\n",
    "    for rol in range(24, 100):\n",
    "        make_features(df, lag, rol)\n",
    "        \n",
    "        train, test = train_test_split(df, shuffle=False, test_size=0.1)\n",
    "        train = train.dropna()\n",
    "        train_futures = train.drop('num_orders', axis=1)\n",
    "        train_target = train['num_orders']\n",
    "               \n",
    "       # model = DecisionTreeRegressor(random_state=12345, max_depth=i) # ВОТ ТУТ ОПИСКА У ТЕБЯ\n",
    "        model = DecisionTreeRegressor(random_state=12345, max_depth=5)\n",
    "        model.fit(train_futures, train_target)\n",
    "        predicted_train = model.predict(train_futures)\n",
    "      #  rmse = mean_squared_error(train_target, predicted_train)  # ВОТ ТУТ ОПИСКА У ТЕБЯ\n",
    "        rmse = mean_squared_error(train_target, predicted_train)**0.5\n",
    "        if rmse < best_rmse:\n",
    "            best_rmse = rmse\n",
    "            best_lag = lag\n",
    "            best_rol = rol\n",
    "\n",
    "print(\"Лучший RMSE DecisionTreeRegressor на обучающей выборки:\", best_rmse)\n",
    "print(\"Лучший max_lag:\", best_lag)\n",
    "print(\"Лучший rolling_mean_size:\", best_rol)\n",
    "\n"
   ]
  },
  {
   "cell_type": "code",
   "execution_count": 71,
   "metadata": {},
   "outputs": [
    {
     "name": "stdout",
     "output_type": "stream",
     "text": [
      "Лучший RMSE DecisionTreeRegressor на обучающей выборки: 8.350507110519356\n",
      "Лучший max_lag: 1\n",
      "Лучший rolling_mean_size: 93\n"
     ]
    }
   ],
   "source": [
    "best_rmse = 1000\n",
    "best_lag = 0\n",
    "best_rol = 0\n",
    "\n",
    "for lag in range(1, 2):\n",
    "    for rol in range(24, 100):\n",
    "        make_features(df, lag, rol)\n",
    "        \n",
    "        train, test = train_test_split(df, shuffle=False, test_size=0.1)\n",
    "        train = train.dropna()\n",
    "        train_futures = train.drop('num_orders', axis=1)\n",
    "        train_target = train['num_orders']\n",
    "               \n",
    "        model = RandomForestRegressor(random_state=12345)\n",
    "        model.fit(train_futures, train_target)\n",
    "        predicted_train = model.predict(train_futures)\n",
    "        rmse = mean_squared_error(train_target, predicted_train)**0.5\n",
    "        if rmse < best_rmse:\n",
    "            best_rmse = rmse\n",
    "            best_lag = lag\n",
    "            best_rol = rol\n",
    "\n",
    "print(\"Лучший RMSE DecisionTreeRegressor на обучающей выборки:\", best_rmse)\n",
    "print(\"Лучший max_lag:\", best_lag)\n",
    "print(\"Лучший rolling_mean_size:\", best_rol)\n"
   ]
  },
  {
   "cell_type": "markdown",
   "metadata": {},
   "source": [
    "### Вывод:\n",
    "\n",
    "Обучил две модели, подобрал лучшие параметры для DecisionTreeRegressor "
   ]
  },
  {
   "cell_type": "markdown",
   "metadata": {},
   "source": [
    "## Тестирование"
   ]
  },
  {
   "cell_type": "code",
   "execution_count": 72,
   "metadata": {},
   "outputs": [
    {
     "name": "stdout",
     "output_type": "stream",
     "text": [
      "RMSE LinearRegression на тестовой выборки: 50.64625492691861\n"
     ]
    }
   ],
   "source": [
    "# по новому передажим параметры признаков для тестирования\n",
    "make_features(df, 1, 168)\n",
    "# разделим выборку на обучающую и тестовую\n",
    "train, test = train_test_split(df, shuffle=False, test_size=0.1)\n",
    "train = train.dropna()\n",
    "train_futures = train.drop('num_orders', axis=1)\n",
    "train_target = train['num_orders']\n",
    "\n",
    "test_futures = test.drop('num_orders', axis=1)\n",
    "test_target = test['num_orders']\n",
    "\n",
    "\n",
    "model = LinearRegression()\n",
    "model.fit(train_futures, train_target)\n",
    "predicted_test = model.predict(test_futures)\n",
    "print(\"RMSE LinearRegression на тестовой выборки:\", mean_squared_error(test_target, predicted_test)**0.5)"
   ]
  },
  {
   "cell_type": "code",
   "execution_count": 73,
   "metadata": {},
   "outputs": [
    {
     "name": "stdout",
     "output_type": "stream",
     "text": [
      "RMSE DecisionTreeRegressor на тестовой выборки: 56.23650468836824\n"
     ]
    }
   ],
   "source": [
    "make_features(df, 1, 66)\n",
    "# разделим выборку на обучающую и тестовую\n",
    "train, test = train_test_split(df, shuffle=False, test_size=0.1)\n",
    "train = train.dropna()\n",
    "train_futures = train.drop('num_orders', axis=1)\n",
    "train_target = train['num_orders']\n",
    "\n",
    "test_futures = test.drop('num_orders', axis=1)\n",
    "test_target = test['num_orders']\n",
    "\n",
    "\n",
    "model = DecisionTreeRegressor(random_state=12345, max_depth=5)\n",
    "model.fit(train_futures, train_target)\n",
    "predicted_test = model.predict(test_futures)\n",
    "rmse = mean_squared_error(test_target, predicted_test)**0.5\n",
    "print(\"RMSE DecisionTreeRegressor на тестовой выборки:\", mean_squared_error(test_target, predicted_test)**0.5)"
   ]
  },
  {
   "cell_type": "code",
   "execution_count": 74,
   "metadata": {},
   "outputs": [
    {
     "name": "stdout",
     "output_type": "stream",
     "text": [
      "RMSE RandomForestRegressor на тестовой выборки: 44.773462771512726\n"
     ]
    }
   ],
   "source": [
    "make_features(df, 1, 63)\n",
    "# разделим выборку на обучающую и тестовую\n",
    "train, test = train_test_split(df, shuffle=False, test_size=0.1)\n",
    "train = train.dropna()\n",
    "train_futures = train.drop('num_orders', axis=1)\n",
    "train_target = train['num_orders']\n",
    "\n",
    "test_futures = test.drop('num_orders', axis=1)\n",
    "test_target = test['num_orders']\n",
    "\n",
    "model = RandomForestRegressor(random_state=12345)\n",
    "model.fit(train_futures, train_target)\n",
    "predicted_test = model.predict(test_futures)\n",
    "print(\"RMSE RandomForestRegressor на тестовой выборки:\", mean_squared_error(test_target, predicted_test)**0.5)"
   ]
  },
  {
   "cell_type": "markdown",
   "metadata": {},
   "source": [
    "### Общий Вывод:\n",
    "\n",
    "Загрузил данные, провел ресемплирование на 1 час. Подготовил признали.\n",
    "Провел обучение на обучающей выборке. Проверил на тестовой выборке, результат RMSE меньше 48 на RandomForestRegressor."
   ]
  },
  {
   "attachments": {
    "image.png": {
     "image/png": "[encoded data removed]"
    }
   },
   "cell_type": "markdown",
   "metadata": {},
   "source": [
    "![image.png](attachment:image.png)"
   ]
  },
  {
   "cell_type": "code",
   "execution_count": 75,
   "metadata": {},
   "outputs": [],
   "source": [
    "test_target = pd.DataFrame(test_target)\n",
    "test_target['predict'] = predicted_test"
   ]
  },
  {
   "cell_type": "code",
   "execution_count": 76,
   "metadata": {},
   "outputs": [
    {
     "data": {
      "text/html": [
       "<div>\n",
       "<style scoped>\n",
       "    .dataframe tbody tr th:only-of-type {\n",
       "        vertical-align: middle;\n",
       "    }\n",
       "\n",
       "    .dataframe tbody tr th {\n",
       "        vertical-align: top;\n",
       "    }\n",
       "\n",
       "    .dataframe thead th {\n",
       "        text-align: right;\n",
       "    }\n",
       "</style>\n",
       "<table border=\"1\" class=\"dataframe\">\n",
       "  <thead>\n",
       "    <tr style=\"text-align: right;\">\n",
       "      <th></th>\n",
       "      <th>num_orders</th>\n",
       "      <th>predict</th>\n",
       "    </tr>\n",
       "    <tr>\n",
       "      <th>datetime</th>\n",
       "      <th></th>\n",
       "      <th></th>\n",
       "    </tr>\n",
       "  </thead>\n",
       "  <tbody>\n",
       "    <tr>\n",
       "      <th>2018-08-13 14:00:00</th>\n",
       "      <td>102</td>\n",
       "      <td>106.76</td>\n",
       "    </tr>\n",
       "    <tr>\n",
       "      <th>2018-08-13 15:00:00</th>\n",
       "      <td>175</td>\n",
       "      <td>122.55</td>\n",
       "    </tr>\n",
       "    <tr>\n",
       "      <th>2018-08-13 16:00:00</th>\n",
       "      <td>144</td>\n",
       "      <td>142.63</td>\n",
       "    </tr>\n",
       "    <tr>\n",
       "      <th>2018-08-13 17:00:00</th>\n",
       "      <td>152</td>\n",
       "      <td>140.01</td>\n",
       "    </tr>\n",
       "    <tr>\n",
       "      <th>2018-08-13 18:00:00</th>\n",
       "      <td>104</td>\n",
       "      <td>85.87</td>\n",
       "    </tr>\n",
       "    <tr>\n",
       "      <th>...</th>\n",
       "      <td>...</td>\n",
       "      <td>...</td>\n",
       "    </tr>\n",
       "    <tr>\n",
       "      <th>2018-08-31 19:00:00</th>\n",
       "      <td>136</td>\n",
       "      <td>106.01</td>\n",
       "    </tr>\n",
       "    <tr>\n",
       "      <th>2018-08-31 20:00:00</th>\n",
       "      <td>154</td>\n",
       "      <td>107.26</td>\n",
       "    </tr>\n",
       "    <tr>\n",
       "      <th>2018-08-31 21:00:00</th>\n",
       "      <td>159</td>\n",
       "      <td>138.23</td>\n",
       "    </tr>\n",
       "    <tr>\n",
       "      <th>2018-08-31 22:00:00</th>\n",
       "      <td>223</td>\n",
       "      <td>149.18</td>\n",
       "    </tr>\n",
       "    <tr>\n",
       "      <th>2018-08-31 23:00:00</th>\n",
       "      <td>205</td>\n",
       "      <td>157.14</td>\n",
       "    </tr>\n",
       "  </tbody>\n",
       "</table>\n",
       "<p>442 rows × 2 columns</p>\n",
       "</div>"
      ],
      "text/plain": [
       "                     num_orders  predict\n",
       "datetime                                \n",
       "2018-08-13 14:00:00         102   106.76\n",
       "2018-08-13 15:00:00         175   122.55\n",
       "2018-08-13 16:00:00         144   142.63\n",
       "2018-08-13 17:00:00         152   140.01\n",
       "2018-08-13 18:00:00         104    85.87\n",
       "...                         ...      ...\n",
       "2018-08-31 19:00:00         136   106.01\n",
       "2018-08-31 20:00:00         154   107.26\n",
       "2018-08-31 21:00:00         159   138.23\n",
       "2018-08-31 22:00:00         223   149.18\n",
       "2018-08-31 23:00:00         205   157.14\n",
       "\n",
       "[442 rows x 2 columns]"
      ]
     },
     "execution_count": 76,
     "metadata": {},
     "output_type": "execute_result"
    }
   ],
   "source": [
    "test_target"
   ]
  },
  {
   "cell_type": "code",
   "execution_count": 77,
   "metadata": {},
   "outputs": [],
   "source": [
    "test_target = test_target['2018-08-29 23:00:00':'2018-08-31 23:00:00']"
   ]
  },
  {
   "cell_type": "code",
   "execution_count": 78,
   "metadata": {},
   "outputs": [
    {
     "data": {
      "image/png": "[encoded data removed]",
      "text/plain": [
       "<Figure size 1008x432 with 1 Axes>"
      ]
     },
     "metadata": {
      "needs_background": "light"
     },
     "output_type": "display_data"
    }
   ],
   "source": [
    "x = test_target.index\n",
    "y_1 = test_target['num_orders']\n",
    "y_2 = test_target['predict']\n",
    "fig = plt.subplots(figsize=(14,6))\n",
    "plt.plot(x,y_1, label='Реальные')\n",
    "plt.plot(x,y_2, label='Предсказанные')\n",
    "plt.legend(fontsize=14)\n",
    "plt.ylabel('Число заказов', fontsize=16)\n",
    "plt.xlabel('Дата и время', fontsize=16)\n",
    "plt.title('Результаты модели за 2 дня')\n",
    "plt.grid(which='major')\n",
    "plt.show()\n"
   ]
  }
 ],
 "metadata": {
  "ExecuteTimeLog": [
   {
    "duration": 440,
    "start_time": "2022-05-23T09:46:01.319Z"
   },
   {
    "duration": 141,
    "start_time": "2022-05-23T09:46:02.927Z"
   },
   {
    "duration": 32,
    "start_time": "2022-05-23T09:46:28.369Z"
   },
   {
    "duration": 3,
    "start_time": "2022-05-23T09:46:40.277Z"
   },
   {
    "duration": 63,
    "start_time": "2022-05-23T09:46:40.846Z"
   },
   {
    "duration": 48,
    "start_time": "2022-05-23T09:48:01.287Z"
   },
   {
    "duration": 142,
    "start_time": "2022-05-23T09:48:30.535Z"
   },
   {
    "duration": 19,
    "start_time": "2022-05-23T09:48:39.293Z"
   },
   {
    "duration": 19,
    "start_time": "2022-05-23T09:49:21.948Z"
   },
   {
    "duration": 10,
    "start_time": "2022-05-23T09:58:18.729Z"
   },
   {
    "duration": 3,
    "start_time": "2022-05-23T09:58:29.404Z"
   },
   {
    "duration": 52,
    "start_time": "2022-05-23T12:13:57.709Z"
   },
   {
    "duration": 594,
    "start_time": "2022-05-23T12:14:01.183Z"
   },
   {
    "duration": 86,
    "start_time": "2022-05-23T12:14:01.779Z"
   },
   {
    "duration": 27,
    "start_time": "2022-05-23T12:14:01.866Z"
   },
   {
    "duration": 4,
    "start_time": "2022-05-23T12:14:01.894Z"
   },
   {
    "duration": 36,
    "start_time": "2022-05-23T12:24:02.604Z"
   },
   {
    "duration": 35,
    "start_time": "2022-05-23T12:25:20.159Z"
   },
   {
    "duration": 22,
    "start_time": "2022-05-23T12:25:21.522Z"
   },
   {
    "duration": 5,
    "start_time": "2022-05-23T12:25:26.275Z"
   },
   {
    "duration": 4,
    "start_time": "2022-05-23T12:25:27.785Z"
   },
   {
    "duration": 8,
    "start_time": "2022-05-23T12:25:35.234Z"
   },
   {
    "duration": 2,
    "start_time": "2022-05-23T12:25:50.313Z"
   },
   {
    "duration": 3,
    "start_time": "2022-05-23T12:25:52.124Z"
   },
   {
    "duration": 4,
    "start_time": "2022-05-23T12:27:08.953Z"
   },
   {
    "duration": 8,
    "start_time": "2022-05-23T12:27:53.593Z"
   },
   {
    "duration": 3,
    "start_time": "2022-05-23T12:28:21.281Z"
   },
   {
    "duration": 37,
    "start_time": "2022-05-23T12:28:21.286Z"
   },
   {
    "duration": 16,
    "start_time": "2022-05-23T12:28:21.325Z"
   },
   {
    "duration": 4,
    "start_time": "2022-05-23T12:28:21.342Z"
   },
   {
    "duration": 4,
    "start_time": "2022-05-23T12:28:24.416Z"
   },
   {
    "duration": 8,
    "start_time": "2022-05-23T12:28:25.057Z"
   },
   {
    "duration": 12,
    "start_time": "2022-05-23T12:28:26.072Z"
   },
   {
    "duration": 4,
    "start_time": "2022-05-23T12:28:40.338Z"
   },
   {
    "duration": 60,
    "start_time": "2022-05-23T12:28:40.344Z"
   },
   {
    "duration": 20,
    "start_time": "2022-05-23T12:28:40.406Z"
   },
   {
    "duration": 4,
    "start_time": "2022-05-23T12:28:40.428Z"
   },
   {
    "duration": 4,
    "start_time": "2022-05-23T12:28:41.706Z"
   },
   {
    "duration": 3,
    "start_time": "2022-05-23T12:28:42.464Z"
   },
   {
    "duration": 4,
    "start_time": "2022-05-23T12:28:44.080Z"
   },
   {
    "duration": 3,
    "start_time": "2022-05-23T12:28:51.699Z"
   },
   {
    "duration": 50,
    "start_time": "2022-05-23T12:28:51.704Z"
   },
   {
    "duration": 16,
    "start_time": "2022-05-23T12:28:51.755Z"
   },
   {
    "duration": 3,
    "start_time": "2022-05-23T12:28:51.773Z"
   },
   {
    "duration": 19,
    "start_time": "2022-05-23T12:28:51.778Z"
   },
   {
    "duration": 13,
    "start_time": "2022-05-23T12:28:51.799Z"
   },
   {
    "duration": 9,
    "start_time": "2022-05-23T12:29:07.080Z"
   },
   {
    "duration": 3,
    "start_time": "2022-05-23T12:37:21.612Z"
   },
   {
    "duration": 43,
    "start_time": "2022-05-23T12:37:21.617Z"
   },
   {
    "duration": 17,
    "start_time": "2022-05-23T12:37:21.661Z"
   },
   {
    "duration": 12,
    "start_time": "2022-05-23T12:37:21.680Z"
   },
   {
    "duration": 13,
    "start_time": "2022-05-23T12:37:21.695Z"
   },
   {
    "duration": 34,
    "start_time": "2022-05-23T12:37:21.710Z"
   },
   {
    "duration": 951,
    "start_time": "2022-05-23T12:50:38.574Z"
   },
   {
    "duration": 5,
    "start_time": "2022-05-23T12:55:11.572Z"
   },
   {
    "duration": 15,
    "start_time": "2022-05-23T12:55:21.814Z"
   },
   {
    "duration": 226,
    "start_time": "2022-05-23T12:55:31.706Z"
   },
   {
    "duration": 4,
    "start_time": "2022-05-23T12:56:28.084Z"
   },
   {
    "duration": 205,
    "start_time": "2022-05-23T12:56:28.610Z"
   },
   {
    "duration": 4,
    "start_time": "2022-05-23T12:56:37.803Z"
   },
   {
    "duration": 200,
    "start_time": "2022-05-23T12:56:38.643Z"
   },
   {
    "duration": 858,
    "start_time": "2022-05-23T12:57:23.932Z"
   },
   {
    "duration": 3,
    "start_time": "2022-05-23T12:58:36.767Z"
   },
   {
    "duration": 52,
    "start_time": "2022-05-23T12:58:36.779Z"
   },
   {
    "duration": 22,
    "start_time": "2022-05-23T12:58:36.832Z"
   },
   {
    "duration": 5,
    "start_time": "2022-05-23T12:58:36.856Z"
   },
   {
    "duration": 25,
    "start_time": "2022-05-23T12:58:36.863Z"
   },
   {
    "duration": 9,
    "start_time": "2022-05-23T12:58:36.890Z"
   },
   {
    "duration": 12,
    "start_time": "2022-05-23T12:58:36.900Z"
   },
   {
    "duration": 7,
    "start_time": "2022-05-23T12:58:38.722Z"
   },
   {
    "duration": 1118,
    "start_time": "2022-05-23T12:58:39.274Z"
   },
   {
    "duration": 49,
    "start_time": "2022-05-23T13:39:37.695Z"
   },
   {
    "duration": 2,
    "start_time": "2022-05-23T13:39:53.455Z"
   },
   {
    "duration": 791,
    "start_time": "2022-05-23T13:39:57.158Z"
   },
   {
    "duration": 316,
    "start_time": "2022-05-23T13:47:36.914Z"
   },
   {
    "duration": 646,
    "start_time": "2022-05-23T13:48:13.998Z"
   },
   {
    "duration": 589,
    "start_time": "2022-05-23T13:49:36.435Z"
   },
   {
    "duration": 18,
    "start_time": "2022-05-23T13:49:56.632Z"
   },
   {
    "duration": 2,
    "start_time": "2022-05-23T13:50:05.326Z"
   },
   {
    "duration": 43,
    "start_time": "2022-05-23T13:50:05.330Z"
   },
   {
    "duration": 15,
    "start_time": "2022-05-23T13:50:05.375Z"
   },
   {
    "duration": 3,
    "start_time": "2022-05-23T13:50:05.392Z"
   },
   {
    "duration": 8,
    "start_time": "2022-05-23T13:50:05.397Z"
   },
   {
    "duration": 14,
    "start_time": "2022-05-23T13:50:05.406Z"
   },
   {
    "duration": 26,
    "start_time": "2022-05-23T13:50:05.422Z"
   },
   {
    "duration": 792,
    "start_time": "2022-05-23T13:50:05.450Z"
   },
   {
    "duration": 682,
    "start_time": "2022-05-23T13:50:08.951Z"
   },
   {
    "duration": 13,
    "start_time": "2022-05-23T13:50:09.724Z"
   },
   {
    "duration": 13,
    "start_time": "2022-05-23T13:50:19.931Z"
   },
   {
    "duration": 697,
    "start_time": "2022-05-23T13:50:26.569Z"
   },
   {
    "duration": 7,
    "start_time": "2022-05-23T13:51:14.791Z"
   },
   {
    "duration": 8,
    "start_time": "2022-05-23T13:51:30.543Z"
   },
   {
    "duration": 12,
    "start_time": "2022-05-23T13:51:49.648Z"
   },
   {
    "duration": 618,
    "start_time": "2022-05-23T13:52:02.432Z"
   },
   {
    "duration": 605,
    "start_time": "2022-05-23T13:52:29.063Z"
   },
   {
    "duration": 632,
    "start_time": "2022-05-23T13:52:52.783Z"
   },
   {
    "duration": 9,
    "start_time": "2022-05-23T14:09:02.965Z"
   },
   {
    "duration": 450,
    "start_time": "2022-05-23T14:09:09.172Z"
   },
   {
    "duration": 5,
    "start_time": "2022-05-23T14:16:37.880Z"
   },
   {
    "duration": 9,
    "start_time": "2022-05-23T14:16:48.876Z"
   },
   {
    "duration": 13,
    "start_time": "2022-05-23T14:16:56.562Z"
   },
   {
    "duration": 5,
    "start_time": "2022-05-23T14:17:22.944Z"
   },
   {
    "duration": 4,
    "start_time": "2022-05-23T14:18:40.303Z"
   },
   {
    "duration": 11,
    "start_time": "2022-05-23T14:42:30.586Z"
   },
   {
    "duration": 16,
    "start_time": "2022-05-23T14:42:41.737Z"
   },
   {
    "duration": 1355,
    "start_time": "2022-05-23T16:59:49.255Z"
   },
   {
    "duration": 132,
    "start_time": "2022-05-23T16:59:50.613Z"
   },
   {
    "duration": 24,
    "start_time": "2022-05-23T16:59:50.746Z"
   },
   {
    "duration": 4,
    "start_time": "2022-05-23T16:59:50.772Z"
   },
   {
    "duration": 97,
    "start_time": "2022-05-23T16:59:50.777Z"
   },
   {
    "duration": 8,
    "start_time": "2022-05-23T16:59:50.876Z"
   },
   {
    "duration": 14,
    "start_time": "2022-05-23T16:59:50.886Z"
   },
   {
    "duration": 816,
    "start_time": "2022-05-23T16:59:50.902Z"
   },
   {
    "duration": 652,
    "start_time": "2022-05-23T16:59:51.720Z"
   },
   {
    "duration": 11,
    "start_time": "2022-05-23T16:59:52.374Z"
   },
   {
    "duration": 28,
    "start_time": "2022-05-23T16:59:52.387Z"
   },
   {
    "duration": 5,
    "start_time": "2022-05-23T16:59:52.417Z"
   },
   {
    "duration": 9,
    "start_time": "2022-05-23T16:59:52.424Z"
   },
   {
    "duration": 11,
    "start_time": "2022-05-23T17:01:31.955Z"
   },
   {
    "duration": 6,
    "start_time": "2022-05-23T17:01:50.410Z"
   },
   {
    "duration": 6,
    "start_time": "2022-05-23T17:02:11.907Z"
   },
   {
    "duration": 23,
    "start_time": "2022-05-23T17:03:31.292Z"
   },
   {
    "duration": 84,
    "start_time": "2022-05-23T17:04:01.585Z"
   },
   {
    "duration": 12,
    "start_time": "2022-05-23T17:04:30.075Z"
   },
   {
    "duration": 3,
    "start_time": "2022-05-23T17:05:08.123Z"
   },
   {
    "duration": 52,
    "start_time": "2022-05-23T17:05:08.128Z"
   },
   {
    "duration": 16,
    "start_time": "2022-05-23T17:05:08.182Z"
   },
   {
    "duration": 4,
    "start_time": "2022-05-23T17:05:08.200Z"
   },
   {
    "duration": 8,
    "start_time": "2022-05-23T17:05:08.206Z"
   },
   {
    "duration": 7,
    "start_time": "2022-05-23T17:05:08.216Z"
   },
   {
    "duration": 41,
    "start_time": "2022-05-23T17:05:08.224Z"
   },
   {
    "duration": 853,
    "start_time": "2022-05-23T17:05:08.267Z"
   },
   {
    "duration": 646,
    "start_time": "2022-05-23T17:05:09.123Z"
   },
   {
    "duration": 4,
    "start_time": "2022-05-23T17:05:12.808Z"
   },
   {
    "duration": 6,
    "start_time": "2022-05-23T17:05:13.385Z"
   },
   {
    "duration": 132,
    "start_time": "2022-05-23T17:05:14.281Z"
   },
   {
    "duration": 10,
    "start_time": "2022-05-23T17:05:28.392Z"
   },
   {
    "duration": 11,
    "start_time": "2022-05-23T17:05:29.064Z"
   },
   {
    "duration": 5,
    "start_time": "2022-05-23T17:05:29.749Z"
   },
   {
    "duration": 16,
    "start_time": "2022-05-23T17:05:31.088Z"
   },
   {
    "duration": 8,
    "start_time": "2022-05-23T17:05:43.348Z"
   },
   {
    "duration": 7,
    "start_time": "2022-05-23T17:05:43.851Z"
   },
   {
    "duration": 5,
    "start_time": "2022-05-23T17:05:45.455Z"
   },
   {
    "duration": 17,
    "start_time": "2022-05-23T17:05:46.012Z"
   },
   {
    "duration": 13,
    "start_time": "2022-05-23T17:07:33.447Z"
   },
   {
    "duration": 7,
    "start_time": "2022-05-23T17:07:33.857Z"
   },
   {
    "duration": 6,
    "start_time": "2022-05-23T17:07:34.271Z"
   },
   {
    "duration": 17,
    "start_time": "2022-05-23T17:07:35.313Z"
   },
   {
    "duration": 10,
    "start_time": "2022-05-23T17:07:47.578Z"
   },
   {
    "duration": 7,
    "start_time": "2022-05-23T17:07:48.353Z"
   },
   {
    "duration": 6,
    "start_time": "2022-05-23T17:07:49.075Z"
   },
   {
    "duration": 11,
    "start_time": "2022-05-23T17:07:49.508Z"
   },
   {
    "duration": 9,
    "start_time": "2022-05-23T17:07:54.848Z"
   },
   {
    "duration": 8,
    "start_time": "2022-05-23T17:07:55.521Z"
   },
   {
    "duration": 5,
    "start_time": "2022-05-23T17:07:55.848Z"
   },
   {
    "duration": 11,
    "start_time": "2022-05-23T17:07:56.319Z"
   },
   {
    "duration": 9,
    "start_time": "2022-05-23T17:08:00.729Z"
   },
   {
    "duration": 8,
    "start_time": "2022-05-23T17:08:01.128Z"
   },
   {
    "duration": 6,
    "start_time": "2022-05-23T17:08:01.583Z"
   },
   {
    "duration": 13,
    "start_time": "2022-05-23T17:08:02.053Z"
   },
   {
    "duration": 5,
    "start_time": "2022-05-23T17:08:07.779Z"
   },
   {
    "duration": 52,
    "start_time": "2022-05-23T17:08:07.787Z"
   },
   {
    "duration": 16,
    "start_time": "2022-05-23T17:08:07.841Z"
   },
   {
    "duration": 4,
    "start_time": "2022-05-23T17:08:07.859Z"
   },
   {
    "duration": 9,
    "start_time": "2022-05-23T17:08:07.866Z"
   },
   {
    "duration": 10,
    "start_time": "2022-05-23T17:08:07.877Z"
   },
   {
    "duration": 11,
    "start_time": "2022-05-23T17:08:07.889Z"
   },
   {
    "duration": 807,
    "start_time": "2022-05-23T17:08:07.902Z"
   },
   {
    "duration": 878,
    "start_time": "2022-05-23T17:08:08.710Z"
   },
   {
    "duration": 19,
    "start_time": "2022-05-23T17:08:13.519Z"
   },
   {
    "duration": 8,
    "start_time": "2022-05-23T17:08:14.265Z"
   },
   {
    "duration": 6,
    "start_time": "2022-05-23T17:08:14.751Z"
   },
   {
    "duration": 96,
    "start_time": "2022-05-23T17:08:15.871Z"
   },
   {
    "duration": 3,
    "start_time": "2022-05-23T17:10:16.037Z"
   },
   {
    "duration": 57,
    "start_time": "2022-05-23T17:10:16.042Z"
   },
   {
    "duration": 24,
    "start_time": "2022-05-23T17:10:16.101Z"
   },
   {
    "duration": 5,
    "start_time": "2022-05-23T17:10:16.128Z"
   },
   {
    "duration": 11,
    "start_time": "2022-05-23T17:10:16.135Z"
   },
   {
    "duration": 18,
    "start_time": "2022-05-23T17:10:16.148Z"
   },
   {
    "duration": 13,
    "start_time": "2022-05-23T17:10:16.168Z"
   },
   {
    "duration": 756,
    "start_time": "2022-05-23T17:10:16.183Z"
   },
   {
    "duration": 698,
    "start_time": "2022-05-23T17:10:16.942Z"
   },
   {
    "duration": 23,
    "start_time": "2022-05-23T17:10:17.641Z"
   },
   {
    "duration": 6,
    "start_time": "2022-05-23T17:10:17.666Z"
   },
   {
    "duration": 4,
    "start_time": "2022-05-23T17:10:17.674Z"
   },
   {
    "duration": 15,
    "start_time": "2022-05-23T17:10:17.680Z"
   },
   {
    "duration": 3,
    "start_time": "2022-05-23T17:10:23.649Z"
   },
   {
    "duration": 53,
    "start_time": "2022-05-23T17:10:23.654Z"
   },
   {
    "duration": 17,
    "start_time": "2022-05-23T17:10:23.709Z"
   },
   {
    "duration": 4,
    "start_time": "2022-05-23T17:10:23.728Z"
   },
   {
    "duration": 11,
    "start_time": "2022-05-23T17:10:23.734Z"
   },
   {
    "duration": 8,
    "start_time": "2022-05-23T17:10:23.747Z"
   },
   {
    "duration": 13,
    "start_time": "2022-05-23T17:10:23.757Z"
   },
   {
    "duration": 815,
    "start_time": "2022-05-23T17:10:23.771Z"
   },
   {
    "duration": 666,
    "start_time": "2022-05-23T17:10:24.589Z"
   },
   {
    "duration": 15,
    "start_time": "2022-05-23T17:10:25.256Z"
   },
   {
    "duration": 24,
    "start_time": "2022-05-23T17:10:25.273Z"
   },
   {
    "duration": 17,
    "start_time": "2022-05-23T17:10:25.299Z"
   },
   {
    "duration": 35,
    "start_time": "2022-05-23T17:10:25.318Z"
   },
   {
    "duration": 3,
    "start_time": "2022-05-23T17:10:32.394Z"
   },
   {
    "duration": 49,
    "start_time": "2022-05-23T17:10:32.401Z"
   },
   {
    "duration": 16,
    "start_time": "2022-05-23T17:10:32.452Z"
   },
   {
    "duration": 4,
    "start_time": "2022-05-23T17:10:32.470Z"
   },
   {
    "duration": 13,
    "start_time": "2022-05-23T17:10:32.476Z"
   },
   {
    "duration": 11,
    "start_time": "2022-05-23T17:10:32.490Z"
   },
   {
    "duration": 13,
    "start_time": "2022-05-23T17:10:32.503Z"
   },
   {
    "duration": 735,
    "start_time": "2022-05-23T17:10:32.518Z"
   },
   {
    "duration": 678,
    "start_time": "2022-05-23T17:10:33.255Z"
   },
   {
    "duration": 11,
    "start_time": "2022-05-23T17:10:33.934Z"
   },
   {
    "duration": 20,
    "start_time": "2022-05-23T17:10:33.947Z"
   },
   {
    "duration": 17,
    "start_time": "2022-05-23T17:10:33.968Z"
   },
   {
    "duration": 81,
    "start_time": "2022-05-23T17:10:33.987Z"
   },
   {
    "duration": 3,
    "start_time": "2022-05-23T17:10:39.153Z"
   },
   {
    "duration": 85,
    "start_time": "2022-05-23T17:10:39.159Z"
   },
   {
    "duration": 20,
    "start_time": "2022-05-23T17:10:39.246Z"
   },
   {
    "duration": 8,
    "start_time": "2022-05-23T17:10:39.267Z"
   },
   {
    "duration": 29,
    "start_time": "2022-05-23T17:10:39.278Z"
   },
   {
    "duration": 31,
    "start_time": "2022-05-23T17:10:39.308Z"
   },
   {
    "duration": 21,
    "start_time": "2022-05-23T17:10:39.341Z"
   },
   {
    "duration": 826,
    "start_time": "2022-05-23T17:10:39.364Z"
   },
   {
    "duration": 650,
    "start_time": "2022-05-23T17:10:40.192Z"
   },
   {
    "duration": 21,
    "start_time": "2022-05-23T17:10:40.844Z"
   },
   {
    "duration": 7,
    "start_time": "2022-05-23T17:10:40.867Z"
   },
   {
    "duration": 5,
    "start_time": "2022-05-23T17:10:40.876Z"
   },
   {
    "duration": 86,
    "start_time": "2022-05-23T17:10:40.883Z"
   },
   {
    "duration": 6,
    "start_time": "2022-05-23T17:11:43.851Z"
   },
   {
    "duration": 22,
    "start_time": "2022-05-23T18:15:37.490Z"
   },
   {
    "duration": 3,
    "start_time": "2022-05-23T18:15:48.754Z"
   },
   {
    "duration": 56,
    "start_time": "2022-05-23T18:15:48.759Z"
   },
   {
    "duration": 16,
    "start_time": "2022-05-23T18:15:48.817Z"
   },
   {
    "duration": 3,
    "start_time": "2022-05-23T18:15:48.834Z"
   },
   {
    "duration": 11,
    "start_time": "2022-05-23T18:15:48.839Z"
   },
   {
    "duration": 11,
    "start_time": "2022-05-23T18:15:48.851Z"
   },
   {
    "duration": 40,
    "start_time": "2022-05-23T18:15:48.863Z"
   },
   {
    "duration": 792,
    "start_time": "2022-05-23T18:15:48.905Z"
   },
   {
    "duration": 790,
    "start_time": "2022-05-23T18:15:49.699Z"
   },
   {
    "duration": 12,
    "start_time": "2022-05-23T18:15:50.491Z"
   },
   {
    "duration": 7,
    "start_time": "2022-05-23T18:15:50.505Z"
   },
   {
    "duration": 5,
    "start_time": "2022-05-23T18:15:50.513Z"
   },
   {
    "duration": 26,
    "start_time": "2022-05-23T18:15:52.816Z"
   },
   {
    "duration": 10,
    "start_time": "2022-05-23T18:19:05.015Z"
   },
   {
    "duration": 6,
    "start_time": "2022-05-23T18:19:14.229Z"
   },
   {
    "duration": 11,
    "start_time": "2022-05-23T18:19:39.592Z"
   },
   {
    "duration": 6,
    "start_time": "2022-05-23T18:19:41.325Z"
   },
   {
    "duration": 14,
    "start_time": "2022-05-23T18:23:19.101Z"
   },
   {
    "duration": 32,
    "start_time": "2022-05-23T18:23:47.550Z"
   },
   {
    "duration": 21,
    "start_time": "2022-05-23T18:23:52.627Z"
   },
   {
    "duration": 4,
    "start_time": "2022-05-23T18:27:48.010Z"
   },
   {
    "duration": 47,
    "start_time": "2022-05-23T18:28:33.046Z"
   },
   {
    "duration": 145,
    "start_time": "2022-05-23T18:29:06.140Z"
   },
   {
    "duration": 11,
    "start_time": "2022-05-23T18:29:24.828Z"
   },
   {
    "duration": 4,
    "start_time": "2022-05-23T18:29:33.374Z"
   },
   {
    "duration": 19,
    "start_time": "2022-05-23T18:29:49.193Z"
   },
   {
    "duration": 16,
    "start_time": "2022-05-23T18:29:56.797Z"
   },
   {
    "duration": 4,
    "start_time": "2022-05-23T18:30:17.011Z"
   },
   {
    "duration": 71,
    "start_time": "2022-05-23T18:30:17.017Z"
   },
   {
    "duration": 17,
    "start_time": "2022-05-23T18:30:17.090Z"
   },
   {
    "duration": 4,
    "start_time": "2022-05-23T18:30:17.108Z"
   },
   {
    "duration": 7,
    "start_time": "2022-05-23T18:30:17.114Z"
   },
   {
    "duration": 12,
    "start_time": "2022-05-23T18:30:17.123Z"
   },
   {
    "duration": 9,
    "start_time": "2022-05-23T18:30:17.137Z"
   },
   {
    "duration": 708,
    "start_time": "2022-05-23T18:30:17.148Z"
   },
   {
    "duration": 664,
    "start_time": "2022-05-23T18:30:17.866Z"
   },
   {
    "duration": 9,
    "start_time": "2022-05-23T18:30:18.531Z"
   },
   {
    "duration": 6,
    "start_time": "2022-05-23T18:30:18.542Z"
   },
   {
    "duration": 27,
    "start_time": "2022-05-23T18:30:18.550Z"
   },
   {
    "duration": 96,
    "start_time": "2022-05-23T18:30:21.090Z"
   },
   {
    "duration": 5,
    "start_time": "2022-05-23T18:30:38.031Z"
   },
   {
    "duration": 95,
    "start_time": "2022-05-23T18:30:38.594Z"
   },
   {
    "duration": 4,
    "start_time": "2022-05-23T18:31:15.315Z"
   },
   {
    "duration": 57,
    "start_time": "2022-05-23T18:31:15.320Z"
   },
   {
    "duration": 19,
    "start_time": "2022-05-23T18:31:15.379Z"
   },
   {
    "duration": 3,
    "start_time": "2022-05-23T18:31:15.401Z"
   },
   {
    "duration": 7,
    "start_time": "2022-05-23T18:31:15.405Z"
   },
   {
    "duration": 6,
    "start_time": "2022-05-23T18:31:15.414Z"
   },
   {
    "duration": 7,
    "start_time": "2022-05-23T18:31:15.421Z"
   },
   {
    "duration": 863,
    "start_time": "2022-05-23T18:31:15.430Z"
   },
   {
    "duration": 670,
    "start_time": "2022-05-23T18:31:16.296Z"
   },
   {
    "duration": 17,
    "start_time": "2022-05-23T18:31:16.967Z"
   },
   {
    "duration": 16,
    "start_time": "2022-05-23T18:31:16.991Z"
   },
   {
    "duration": 6,
    "start_time": "2022-05-23T18:31:17.008Z"
   },
   {
    "duration": 215,
    "start_time": "2022-05-23T18:31:18.864Z"
   },
   {
    "duration": 3,
    "start_time": "2022-05-23T18:31:27.227Z"
   },
   {
    "duration": 55,
    "start_time": "2022-05-23T18:31:27.249Z"
   },
   {
    "duration": 15,
    "start_time": "2022-05-23T18:31:27.307Z"
   },
   {
    "duration": 4,
    "start_time": "2022-05-23T18:31:27.323Z"
   },
   {
    "duration": 8,
    "start_time": "2022-05-23T18:31:27.328Z"
   },
   {
    "duration": 6,
    "start_time": "2022-05-23T18:31:27.338Z"
   },
   {
    "duration": 25,
    "start_time": "2022-05-23T18:31:27.346Z"
   },
   {
    "duration": 719,
    "start_time": "2022-05-23T18:31:27.374Z"
   },
   {
    "duration": 753,
    "start_time": "2022-05-23T18:31:28.095Z"
   },
   {
    "duration": 13,
    "start_time": "2022-05-23T18:31:32.306Z"
   },
   {
    "duration": 7,
    "start_time": "2022-05-23T18:31:32.892Z"
   },
   {
    "duration": 4,
    "start_time": "2022-05-23T18:31:34.053Z"
   },
   {
    "duration": 10,
    "start_time": "2022-05-23T18:31:34.707Z"
   },
   {
    "duration": 3,
    "start_time": "2022-05-23T18:31:48.131Z"
   },
   {
    "duration": 74,
    "start_time": "2022-05-23T18:31:48.136Z"
   },
   {
    "duration": 15,
    "start_time": "2022-05-23T18:31:48.211Z"
   },
   {
    "duration": 12,
    "start_time": "2022-05-23T18:31:48.228Z"
   },
   {
    "duration": 14,
    "start_time": "2022-05-23T18:31:48.241Z"
   },
   {
    "duration": 38,
    "start_time": "2022-05-23T18:31:48.258Z"
   },
   {
    "duration": 18,
    "start_time": "2022-05-23T18:31:48.297Z"
   },
   {
    "duration": 711,
    "start_time": "2022-05-23T18:31:48.317Z"
   },
   {
    "duration": 704,
    "start_time": "2022-05-23T18:31:49.030Z"
   },
   {
    "duration": 12,
    "start_time": "2022-05-23T18:31:49.736Z"
   },
   {
    "duration": 36,
    "start_time": "2022-05-23T18:31:49.749Z"
   },
   {
    "duration": 28,
    "start_time": "2022-05-23T18:31:49.787Z"
   },
   {
    "duration": 153,
    "start_time": "2022-05-23T18:31:49.817Z"
   },
   {
    "duration": 4,
    "start_time": "2022-05-23T18:32:04.227Z"
   },
   {
    "duration": 60,
    "start_time": "2022-05-23T18:32:04.232Z"
   },
   {
    "duration": 16,
    "start_time": "2022-05-23T18:32:04.294Z"
   },
   {
    "duration": 3,
    "start_time": "2022-05-23T18:32:04.312Z"
   },
   {
    "duration": 8,
    "start_time": "2022-05-23T18:32:04.316Z"
   },
   {
    "duration": 7,
    "start_time": "2022-05-23T18:32:04.325Z"
   },
   {
    "duration": 35,
    "start_time": "2022-05-23T18:32:04.333Z"
   },
   {
    "duration": 849,
    "start_time": "2022-05-23T18:32:04.372Z"
   },
   {
    "duration": 662,
    "start_time": "2022-05-23T18:32:05.224Z"
   },
   {
    "duration": 13,
    "start_time": "2022-05-23T18:32:05.889Z"
   },
   {
    "duration": 7,
    "start_time": "2022-05-23T18:32:05.903Z"
   },
   {
    "duration": 6,
    "start_time": "2022-05-23T18:32:05.912Z"
   },
   {
    "duration": 10,
    "start_time": "2022-05-23T18:32:07.802Z"
   },
   {
    "duration": 16,
    "start_time": "2022-05-23T18:32:18.129Z"
   },
   {
    "duration": 183,
    "start_time": "2022-05-23T18:32:38.267Z"
   },
   {
    "duration": 41,
    "start_time": "2022-05-23T18:33:58.753Z"
   },
   {
    "duration": 34,
    "start_time": "2022-05-23T18:34:12.246Z"
   },
   {
    "duration": 94,
    "start_time": "2022-05-23T18:36:28.789Z"
   },
   {
    "duration": 3,
    "start_time": "2022-05-23T18:36:43.944Z"
   },
   {
    "duration": 71,
    "start_time": "2022-05-23T18:36:43.949Z"
   },
   {
    "duration": 14,
    "start_time": "2022-05-23T18:36:44.022Z"
   },
   {
    "duration": 3,
    "start_time": "2022-05-23T18:36:44.038Z"
   },
   {
    "duration": 6,
    "start_time": "2022-05-23T18:36:44.043Z"
   },
   {
    "duration": 5,
    "start_time": "2022-05-23T18:36:44.051Z"
   },
   {
    "duration": 12,
    "start_time": "2022-05-23T18:36:44.058Z"
   },
   {
    "duration": 703,
    "start_time": "2022-05-23T18:36:44.076Z"
   },
   {
    "duration": 757,
    "start_time": "2022-05-23T18:36:44.780Z"
   },
   {
    "duration": 10,
    "start_time": "2022-05-23T18:36:45.539Z"
   },
   {
    "duration": 16,
    "start_time": "2022-05-23T18:36:45.551Z"
   },
   {
    "duration": 23,
    "start_time": "2022-05-23T18:36:45.570Z"
   },
   {
    "duration": 79,
    "start_time": "2022-05-23T18:36:45.595Z"
   },
   {
    "duration": 191,
    "start_time": "2022-05-23T18:38:53.206Z"
   },
   {
    "duration": 43,
    "start_time": "2022-05-23T18:39:11.326Z"
   },
   {
    "duration": 12,
    "start_time": "2022-05-23T18:39:23.206Z"
   },
   {
    "duration": 191,
    "start_time": "2022-05-23T18:39:27.200Z"
   },
   {
    "duration": 5,
    "start_time": "2022-05-23T18:39:43.986Z"
   },
   {
    "duration": 55,
    "start_time": "2022-05-23T18:39:43.994Z"
   },
   {
    "duration": 20,
    "start_time": "2022-05-23T18:39:44.051Z"
   },
   {
    "duration": 23,
    "start_time": "2022-05-23T18:39:44.073Z"
   },
   {
    "duration": 24,
    "start_time": "2022-05-23T18:39:44.098Z"
   },
   {
    "duration": 18,
    "start_time": "2022-05-23T18:39:44.123Z"
   },
   {
    "duration": 16,
    "start_time": "2022-05-23T18:39:44.143Z"
   },
   {
    "duration": 764,
    "start_time": "2022-05-23T18:39:44.160Z"
   },
   {
    "duration": 764,
    "start_time": "2022-05-23T18:39:44.925Z"
   },
   {
    "duration": 11,
    "start_time": "2022-05-23T18:39:45.691Z"
   },
   {
    "duration": 6,
    "start_time": "2022-05-23T18:39:45.704Z"
   },
   {
    "duration": 5,
    "start_time": "2022-05-23T18:39:45.711Z"
   },
   {
    "duration": 6,
    "start_time": "2022-05-23T18:39:47.709Z"
   },
   {
    "duration": 81,
    "start_time": "2022-05-23T18:39:48.290Z"
   },
   {
    "duration": 186,
    "start_time": "2022-05-23T18:39:51.862Z"
   },
   {
    "duration": 25,
    "start_time": "2022-05-23T18:40:33.287Z"
   },
   {
    "duration": 6,
    "start_time": "2022-05-23T18:40:37.430Z"
   },
   {
    "duration": 11,
    "start_time": "2022-05-23T18:40:57.422Z"
   },
   {
    "duration": 8,
    "start_time": "2022-05-23T18:41:59.454Z"
   },
   {
    "duration": 24,
    "start_time": "2022-05-23T18:42:00.687Z"
   },
   {
    "duration": 3,
    "start_time": "2022-05-23T18:42:06.391Z"
   },
   {
    "duration": 50,
    "start_time": "2022-05-23T18:42:06.395Z"
   },
   {
    "duration": 16,
    "start_time": "2022-05-23T18:42:06.447Z"
   },
   {
    "duration": 7,
    "start_time": "2022-05-23T18:42:06.464Z"
   },
   {
    "duration": 27,
    "start_time": "2022-05-23T18:42:06.473Z"
   },
   {
    "duration": 6,
    "start_time": "2022-05-23T18:42:06.501Z"
   },
   {
    "duration": 9,
    "start_time": "2022-05-23T18:42:06.508Z"
   },
   {
    "duration": 798,
    "start_time": "2022-05-23T18:42:06.518Z"
   },
   {
    "duration": 658,
    "start_time": "2022-05-23T18:42:07.317Z"
   },
   {
    "duration": 14,
    "start_time": "2022-05-23T18:42:07.977Z"
   },
   {
    "duration": 15,
    "start_time": "2022-05-23T18:42:07.992Z"
   },
   {
    "duration": 8,
    "start_time": "2022-05-23T18:42:08.008Z"
   },
   {
    "duration": 150,
    "start_time": "2022-05-23T18:42:08.018Z"
   },
   {
    "duration": 0,
    "start_time": "2022-05-23T18:42:08.170Z"
   },
   {
    "duration": 0,
    "start_time": "2022-05-23T18:42:08.171Z"
   },
   {
    "duration": 0,
    "start_time": "2022-05-23T18:42:08.172Z"
   },
   {
    "duration": 4,
    "start_time": "2022-05-23T18:42:26.273Z"
   },
   {
    "duration": 50,
    "start_time": "2022-05-23T18:42:26.279Z"
   },
   {
    "duration": 16,
    "start_time": "2022-05-23T18:42:26.331Z"
   },
   {
    "duration": 5,
    "start_time": "2022-05-23T18:42:26.348Z"
   },
   {
    "duration": 14,
    "start_time": "2022-05-23T18:42:26.355Z"
   },
   {
    "duration": 21,
    "start_time": "2022-05-23T18:42:26.371Z"
   },
   {
    "duration": 18,
    "start_time": "2022-05-23T18:42:26.393Z"
   },
   {
    "duration": 702,
    "start_time": "2022-05-23T18:42:26.413Z"
   },
   {
    "duration": 738,
    "start_time": "2022-05-23T18:42:27.117Z"
   },
   {
    "duration": 18,
    "start_time": "2022-05-23T18:42:27.857Z"
   },
   {
    "duration": 11,
    "start_time": "2022-05-23T18:42:27.881Z"
   },
   {
    "duration": 9,
    "start_time": "2022-05-23T18:42:27.894Z"
   },
   {
    "duration": 177,
    "start_time": "2022-05-23T18:42:27.904Z"
   },
   {
    "duration": 0,
    "start_time": "2022-05-23T18:42:28.083Z"
   },
   {
    "duration": 0,
    "start_time": "2022-05-23T18:42:28.086Z"
   },
   {
    "duration": 0,
    "start_time": "2022-05-23T18:42:28.087Z"
   },
   {
    "duration": 3,
    "start_time": "2022-05-23T18:46:07.538Z"
   },
   {
    "duration": 82,
    "start_time": "2022-05-23T18:46:07.543Z"
   },
   {
    "duration": 15,
    "start_time": "2022-05-23T18:46:07.627Z"
   },
   {
    "duration": 13,
    "start_time": "2022-05-23T18:46:07.644Z"
   },
   {
    "duration": 28,
    "start_time": "2022-05-23T18:46:07.658Z"
   },
   {
    "duration": 28,
    "start_time": "2022-05-23T18:46:07.693Z"
   },
   {
    "duration": 29,
    "start_time": "2022-05-23T18:46:07.722Z"
   },
   {
    "duration": 754,
    "start_time": "2022-05-23T18:46:07.753Z"
   },
   {
    "duration": 754,
    "start_time": "2022-05-23T18:46:08.508Z"
   },
   {
    "duration": 37,
    "start_time": "2022-05-23T18:46:09.270Z"
   },
   {
    "duration": 23,
    "start_time": "2022-05-23T18:46:09.314Z"
   },
   {
    "duration": 15,
    "start_time": "2022-05-23T18:46:09.339Z"
   },
   {
    "duration": 222,
    "start_time": "2022-05-23T18:46:09.355Z"
   },
   {
    "duration": 0,
    "start_time": "2022-05-23T18:46:09.582Z"
   },
   {
    "duration": 0,
    "start_time": "2022-05-23T18:46:09.583Z"
   },
   {
    "duration": 0,
    "start_time": "2022-05-23T18:46:09.587Z"
   },
   {
    "duration": 4,
    "start_time": "2022-05-23T18:46:23.614Z"
   },
   {
    "duration": 63,
    "start_time": "2022-05-23T18:46:23.620Z"
   },
   {
    "duration": 21,
    "start_time": "2022-05-23T18:46:23.685Z"
   },
   {
    "duration": 17,
    "start_time": "2022-05-23T18:46:23.708Z"
   },
   {
    "duration": 8,
    "start_time": "2022-05-23T18:46:23.731Z"
   },
   {
    "duration": 7,
    "start_time": "2022-05-23T18:46:23.742Z"
   },
   {
    "duration": 30,
    "start_time": "2022-05-23T18:46:23.751Z"
   },
   {
    "duration": 829,
    "start_time": "2022-05-23T18:46:23.794Z"
   },
   {
    "duration": 647,
    "start_time": "2022-05-23T18:46:24.625Z"
   },
   {
    "duration": 13,
    "start_time": "2022-05-23T18:46:25.274Z"
   },
   {
    "duration": 24,
    "start_time": "2022-05-23T18:46:25.289Z"
   },
   {
    "duration": 5,
    "start_time": "2022-05-23T18:46:25.314Z"
   },
   {
    "duration": 147,
    "start_time": "2022-05-23T18:46:25.321Z"
   },
   {
    "duration": 0,
    "start_time": "2022-05-23T18:46:25.470Z"
   },
   {
    "duration": 0,
    "start_time": "2022-05-23T18:46:25.471Z"
   },
   {
    "duration": 0,
    "start_time": "2022-05-23T18:46:25.474Z"
   },
   {
    "duration": 30,
    "start_time": "2022-05-23T18:47:35.452Z"
   },
   {
    "duration": 20,
    "start_time": "2022-05-23T18:48:15.081Z"
   },
   {
    "duration": 216,
    "start_time": "2022-05-23T18:48:18.083Z"
   },
   {
    "duration": 4,
    "start_time": "2022-05-23T18:48:29.653Z"
   },
   {
    "duration": 64,
    "start_time": "2022-05-23T18:48:29.659Z"
   },
   {
    "duration": 15,
    "start_time": "2022-05-23T18:48:29.725Z"
   },
   {
    "duration": 3,
    "start_time": "2022-05-23T18:48:29.742Z"
   },
   {
    "duration": 8,
    "start_time": "2022-05-23T18:48:29.747Z"
   },
   {
    "duration": 6,
    "start_time": "2022-05-23T18:48:29.757Z"
   },
   {
    "duration": 29,
    "start_time": "2022-05-23T18:48:29.769Z"
   },
   {
    "duration": 719,
    "start_time": "2022-05-23T18:48:29.800Z"
   },
   {
    "duration": 682,
    "start_time": "2022-05-23T18:48:30.521Z"
   },
   {
    "duration": 10,
    "start_time": "2022-05-23T18:48:31.206Z"
   },
   {
    "duration": 7,
    "start_time": "2022-05-23T18:48:31.219Z"
   },
   {
    "duration": 10,
    "start_time": "2022-05-23T18:48:31.228Z"
   },
   {
    "duration": 128,
    "start_time": "2022-05-23T18:48:31.240Z"
   },
   {
    "duration": 289,
    "start_time": "2022-05-23T18:48:31.373Z"
   },
   {
    "duration": 19,
    "start_time": "2022-05-23T18:48:31.664Z"
   },
   {
    "duration": 79,
    "start_time": "2022-05-23T18:48:31.686Z"
   },
   {
    "duration": 4,
    "start_time": "2022-05-23T18:48:42.598Z"
   },
   {
    "duration": 50,
    "start_time": "2022-05-23T18:48:42.603Z"
   },
   {
    "duration": 31,
    "start_time": "2022-05-23T18:48:42.654Z"
   },
   {
    "duration": 10,
    "start_time": "2022-05-23T18:48:42.687Z"
   },
   {
    "duration": 9,
    "start_time": "2022-05-23T18:48:42.699Z"
   },
   {
    "duration": 6,
    "start_time": "2022-05-23T18:48:42.709Z"
   },
   {
    "duration": 8,
    "start_time": "2022-05-23T18:48:42.717Z"
   },
   {
    "duration": 843,
    "start_time": "2022-05-23T18:48:42.727Z"
   },
   {
    "duration": 675,
    "start_time": "2022-05-23T18:48:43.572Z"
   },
   {
    "duration": 29,
    "start_time": "2022-05-23T18:48:44.248Z"
   },
   {
    "duration": 12,
    "start_time": "2022-05-23T18:48:44.283Z"
   },
   {
    "duration": 8,
    "start_time": "2022-05-23T18:48:44.297Z"
   },
   {
    "duration": 14,
    "start_time": "2022-05-23T18:48:44.307Z"
   },
   {
    "duration": 358,
    "start_time": "2022-05-23T18:48:44.323Z"
   },
   {
    "duration": 13,
    "start_time": "2022-05-23T18:48:44.682Z"
   },
   {
    "duration": 26,
    "start_time": "2022-05-23T18:48:44.697Z"
   },
   {
    "duration": 10,
    "start_time": "2022-05-23T18:49:17.948Z"
   },
   {
    "duration": 25,
    "start_time": "2022-05-23T18:49:35.032Z"
   },
   {
    "duration": 11,
    "start_time": "2022-05-23T18:50:02.284Z"
   },
   {
    "duration": 26,
    "start_time": "2022-05-23T18:50:03.298Z"
   },
   {
    "duration": 195,
    "start_time": "2022-05-23T18:52:33.449Z"
   },
   {
    "duration": 3,
    "start_time": "2022-05-23T18:52:57.653Z"
   },
   {
    "duration": 57,
    "start_time": "2022-05-23T18:52:57.659Z"
   },
   {
    "duration": 15,
    "start_time": "2022-05-23T18:52:57.717Z"
   },
   {
    "duration": 3,
    "start_time": "2022-05-23T18:52:57.734Z"
   },
   {
    "duration": 10,
    "start_time": "2022-05-23T18:52:57.739Z"
   },
   {
    "duration": 9,
    "start_time": "2022-05-23T18:52:57.751Z"
   },
   {
    "duration": 12,
    "start_time": "2022-05-23T18:52:57.762Z"
   },
   {
    "duration": 728,
    "start_time": "2022-05-23T18:52:57.776Z"
   },
   {
    "duration": 924,
    "start_time": "2022-05-23T18:52:58.506Z"
   },
   {
    "duration": 20,
    "start_time": "2022-05-23T18:52:59.432Z"
   },
   {
    "duration": 71,
    "start_time": "2022-05-23T18:52:59.455Z"
   },
   {
    "duration": 9,
    "start_time": "2022-05-23T18:52:59.528Z"
   },
   {
    "duration": 97,
    "start_time": "2022-05-23T18:52:59.540Z"
   },
   {
    "duration": 377,
    "start_time": "2022-05-23T18:52:59.639Z"
   },
   {
    "duration": 10,
    "start_time": "2022-05-23T18:53:00.018Z"
   },
   {
    "duration": 65,
    "start_time": "2022-05-23T18:53:00.030Z"
   },
   {
    "duration": 4,
    "start_time": "2022-05-23T18:58:36.106Z"
   },
   {
    "duration": 51,
    "start_time": "2022-05-23T18:58:36.112Z"
   },
   {
    "duration": 18,
    "start_time": "2022-05-23T18:58:36.174Z"
   },
   {
    "duration": 9,
    "start_time": "2022-05-23T18:58:36.194Z"
   },
   {
    "duration": 10,
    "start_time": "2022-05-23T18:58:36.204Z"
   },
   {
    "duration": 7,
    "start_time": "2022-05-23T18:58:36.216Z"
   },
   {
    "duration": 11,
    "start_time": "2022-05-23T18:58:36.224Z"
   },
   {
    "duration": 771,
    "start_time": "2022-05-23T18:58:36.236Z"
   },
   {
    "duration": 11,
    "start_time": "2022-05-23T18:58:37.010Z"
   },
   {
    "duration": 8,
    "start_time": "2022-05-23T18:58:37.022Z"
   },
   {
    "duration": 6,
    "start_time": "2022-05-23T18:58:37.031Z"
   },
   {
    "duration": 130,
    "start_time": "2022-05-23T18:58:37.039Z"
   },
   {
    "duration": 301,
    "start_time": "2022-05-23T18:58:37.171Z"
   },
   {
    "duration": 24,
    "start_time": "2022-05-23T18:58:37.476Z"
   },
   {
    "duration": 29,
    "start_time": "2022-05-23T18:58:37.502Z"
   },
   {
    "duration": 5,
    "start_time": "2022-05-23T19:01:09.013Z"
   },
   {
    "duration": 74,
    "start_time": "2022-05-23T19:01:09.020Z"
   },
   {
    "duration": 20,
    "start_time": "2022-05-23T19:01:09.103Z"
   },
   {
    "duration": 4,
    "start_time": "2022-05-23T19:01:09.126Z"
   },
   {
    "duration": 8,
    "start_time": "2022-05-23T19:01:09.133Z"
   },
   {
    "duration": 30,
    "start_time": "2022-05-23T19:01:09.143Z"
   },
   {
    "duration": 31,
    "start_time": "2022-05-23T19:01:09.178Z"
   },
   {
    "duration": 774,
    "start_time": "2022-05-23T19:01:09.211Z"
   },
   {
    "duration": 16,
    "start_time": "2022-05-23T19:01:09.986Z"
   },
   {
    "duration": 7,
    "start_time": "2022-05-23T19:01:10.004Z"
   },
   {
    "duration": 9,
    "start_time": "2022-05-23T19:01:10.013Z"
   },
   {
    "duration": 51,
    "start_time": "2022-05-23T19:01:10.023Z"
   },
   {
    "duration": 308,
    "start_time": "2022-05-23T19:01:10.078Z"
   },
   {
    "duration": 11,
    "start_time": "2022-05-23T19:01:10.394Z"
   },
   {
    "duration": 82,
    "start_time": "2022-05-23T19:01:10.407Z"
   },
   {
    "duration": 4,
    "start_time": "2022-05-23T19:03:45.104Z"
   },
   {
    "duration": 72,
    "start_time": "2022-05-23T19:03:45.160Z"
   },
   {
    "duration": 22,
    "start_time": "2022-05-23T19:03:45.234Z"
   },
   {
    "duration": 6,
    "start_time": "2022-05-23T19:03:45.257Z"
   },
   {
    "duration": 57,
    "start_time": "2022-05-23T19:03:45.266Z"
   },
   {
    "duration": 9,
    "start_time": "2022-05-23T19:03:45.326Z"
   },
   {
    "duration": 14,
    "start_time": "2022-05-23T19:03:45.471Z"
   },
   {
    "duration": 1021,
    "start_time": "2022-05-23T19:03:45.488Z"
   },
   {
    "duration": 12,
    "start_time": "2022-05-23T19:03:46.511Z"
   },
   {
    "duration": 8,
    "start_time": "2022-05-23T19:03:46.526Z"
   },
   {
    "duration": 6,
    "start_time": "2022-05-23T19:03:46.536Z"
   },
   {
    "duration": 85,
    "start_time": "2022-05-23T19:03:46.544Z"
   },
   {
    "duration": 331,
    "start_time": "2022-05-23T19:03:46.667Z"
   },
   {
    "duration": 10,
    "start_time": "2022-05-23T19:03:47.000Z"
   },
   {
    "duration": 66,
    "start_time": "2022-05-23T19:03:47.013Z"
   },
   {
    "duration": 32,
    "start_time": "2022-05-23T19:04:09.287Z"
   },
   {
    "duration": 26,
    "start_time": "2022-05-23T19:04:15.866Z"
   },
   {
    "duration": 26,
    "start_time": "2022-05-23T19:04:20.993Z"
   },
   {
    "duration": 4,
    "start_time": "2022-05-23T19:04:24.899Z"
   },
   {
    "duration": 50,
    "start_time": "2022-05-23T19:04:24.905Z"
   },
   {
    "duration": 16,
    "start_time": "2022-05-23T19:04:24.957Z"
   },
   {
    "duration": 30,
    "start_time": "2022-05-23T19:04:24.976Z"
   },
   {
    "duration": 10,
    "start_time": "2022-05-23T19:04:25.008Z"
   },
   {
    "duration": 9,
    "start_time": "2022-05-23T19:04:25.019Z"
   },
   {
    "duration": 13,
    "start_time": "2022-05-23T19:04:25.029Z"
   },
   {
    "duration": 776,
    "start_time": "2022-05-23T19:04:25.044Z"
   },
   {
    "duration": 10,
    "start_time": "2022-05-23T19:04:25.823Z"
   },
   {
    "duration": 6,
    "start_time": "2022-05-23T19:04:25.834Z"
   },
   {
    "duration": 8,
    "start_time": "2022-05-23T19:04:25.841Z"
   },
   {
    "duration": 36,
    "start_time": "2022-05-23T19:04:25.871Z"
   },
   {
    "duration": 372,
    "start_time": "2022-05-23T19:04:25.911Z"
   },
   {
    "duration": 14,
    "start_time": "2022-05-23T19:04:26.286Z"
   },
   {
    "duration": 69,
    "start_time": "2022-05-23T19:04:26.301Z"
   },
   {
    "duration": 5,
    "start_time": "2022-05-23T19:04:53.890Z"
   },
   {
    "duration": 56,
    "start_time": "2022-05-23T19:04:53.898Z"
   },
   {
    "duration": 33,
    "start_time": "2022-05-23T19:04:53.956Z"
   },
   {
    "duration": 10,
    "start_time": "2022-05-23T19:04:53.990Z"
   },
   {
    "duration": 16,
    "start_time": "2022-05-23T19:04:54.002Z"
   },
   {
    "duration": 18,
    "start_time": "2022-05-23T19:04:54.020Z"
   },
   {
    "duration": 8,
    "start_time": "2022-05-23T19:04:54.040Z"
   },
   {
    "duration": 843,
    "start_time": "2022-05-23T19:04:54.050Z"
   },
   {
    "duration": 15,
    "start_time": "2022-05-23T19:04:54.896Z"
   },
   {
    "duration": 9,
    "start_time": "2022-05-23T19:04:54.913Z"
   },
   {
    "duration": 6,
    "start_time": "2022-05-23T19:04:54.923Z"
   },
   {
    "duration": 43,
    "start_time": "2022-05-23T19:04:54.931Z"
   },
   {
    "duration": 300,
    "start_time": "2022-05-23T19:04:54.976Z"
   },
   {
    "duration": 19,
    "start_time": "2022-05-23T19:04:55.279Z"
   },
   {
    "duration": 66,
    "start_time": "2022-05-23T19:04:55.300Z"
   },
   {
    "duration": 1266,
    "start_time": "2022-05-24T06:20:45.700Z"
   },
   {
    "duration": 44,
    "start_time": "2022-05-24T06:20:46.968Z"
   },
   {
    "duration": 20,
    "start_time": "2022-05-24T06:20:47.713Z"
   },
   {
    "duration": 4,
    "start_time": "2022-05-24T06:20:48.402Z"
   },
   {
    "duration": 9,
    "start_time": "2022-05-24T06:20:49.279Z"
   },
   {
    "duration": 7,
    "start_time": "2022-05-24T06:20:49.644Z"
   },
   {
    "duration": 7,
    "start_time": "2022-05-24T06:21:16.946Z"
   },
   {
    "duration": 1324,
    "start_time": "2022-05-24T06:21:17.505Z"
   },
   {
    "duration": 12,
    "start_time": "2022-05-24T06:29:47.798Z"
   },
   {
    "duration": 10,
    "start_time": "2022-05-24T06:29:57.826Z"
   },
   {
    "duration": 5,
    "start_time": "2022-05-24T06:29:58.488Z"
   },
   {
    "duration": 66,
    "start_time": "2022-05-24T06:29:58.986Z"
   },
   {
    "duration": 179,
    "start_time": "2022-05-24T06:29:59.746Z"
   },
   {
    "duration": 166,
    "start_time": "2022-05-24T06:30:11.825Z"
   },
   {
    "duration": 30,
    "start_time": "2022-05-24T06:30:12.427Z"
   },
   {
    "duration": 3,
    "start_time": "2022-05-24T06:35:08.749Z"
   },
   {
    "duration": 10,
    "start_time": "2022-05-24T06:35:10.019Z"
   },
   {
    "duration": 24,
    "start_time": "2022-05-24T06:35:10.794Z"
   },
   {
    "duration": 22,
    "start_time": "2022-05-24T06:39:25.242Z"
   },
   {
    "duration": 1777,
    "start_time": "2022-05-24T09:15:38.826Z"
   },
   {
    "duration": 192,
    "start_time": "2022-05-24T09:15:40.606Z"
   },
   {
    "duration": 18,
    "start_time": "2022-05-24T09:15:40.800Z"
   },
   {
    "duration": 3,
    "start_time": "2022-05-24T09:15:40.820Z"
   },
   {
    "duration": 19,
    "start_time": "2022-05-24T09:15:40.825Z"
   },
   {
    "duration": 12,
    "start_time": "2022-05-24T09:15:40.846Z"
   },
   {
    "duration": 14,
    "start_time": "2022-05-24T09:15:40.860Z"
   },
   {
    "duration": 692,
    "start_time": "2022-05-24T09:15:40.875Z"
   },
   {
    "duration": 10,
    "start_time": "2022-05-24T09:15:41.569Z"
   },
   {
    "duration": 23,
    "start_time": "2022-05-24T09:15:41.580Z"
   },
   {
    "duration": 14,
    "start_time": "2022-05-24T09:15:41.605Z"
   },
   {
    "duration": 8,
    "start_time": "2022-05-24T09:15:41.620Z"
   },
   {
    "duration": 134,
    "start_time": "2022-05-24T09:15:41.629Z"
   },
   {
    "duration": 274,
    "start_time": "2022-05-24T09:15:41.771Z"
   },
   {
    "duration": 3,
    "start_time": "2022-05-24T09:15:42.046Z"
   },
   {
    "duration": 40,
    "start_time": "2022-05-24T09:15:42.050Z"
   },
   {
    "duration": 79,
    "start_time": "2022-05-24T09:15:42.092Z"
   },
   {
    "duration": 27,
    "start_time": "2022-05-24T09:16:50.643Z"
   },
   {
    "duration": 3,
    "start_time": "2022-05-24T09:22:10.836Z"
   },
   {
    "duration": 70,
    "start_time": "2022-05-24T09:22:10.841Z"
   },
   {
    "duration": 16,
    "start_time": "2022-05-24T09:22:10.912Z"
   },
   {
    "duration": 12,
    "start_time": "2022-05-24T09:22:10.930Z"
   },
   {
    "duration": 26,
    "start_time": "2022-05-24T09:22:10.944Z"
   },
   {
    "duration": 24,
    "start_time": "2022-05-24T09:22:10.971Z"
   },
   {
    "duration": 16,
    "start_time": "2022-05-24T09:22:10.997Z"
   },
   {
    "duration": 644,
    "start_time": "2022-05-24T09:22:11.015Z"
   },
   {
    "duration": 10,
    "start_time": "2022-05-24T09:22:11.660Z"
   },
   {
    "duration": 23,
    "start_time": "2022-05-24T09:22:11.671Z"
   },
   {
    "duration": 13,
    "start_time": "2022-05-24T09:22:11.696Z"
   },
   {
    "duration": 14,
    "start_time": "2022-05-24T09:22:11.711Z"
   },
   {
    "duration": 35,
    "start_time": "2022-05-24T09:22:11.727Z"
   },
   {
    "duration": 390,
    "start_time": "2022-05-24T09:22:11.765Z"
   },
   {
    "duration": 3,
    "start_time": "2022-05-24T09:22:12.159Z"
   },
   {
    "duration": 12,
    "start_time": "2022-05-24T09:22:12.164Z"
   },
   {
    "duration": 24,
    "start_time": "2022-05-24T09:22:12.178Z"
   },
   {
    "duration": 3,
    "start_time": "2022-05-24T09:22:37.376Z"
   },
   {
    "duration": 47,
    "start_time": "2022-05-24T09:22:37.381Z"
   },
   {
    "duration": 17,
    "start_time": "2022-05-24T09:22:37.430Z"
   },
   {
    "duration": 3,
    "start_time": "2022-05-24T09:22:37.449Z"
   },
   {
    "duration": 10,
    "start_time": "2022-05-24T09:22:37.453Z"
   },
   {
    "duration": 6,
    "start_time": "2022-05-24T09:22:37.464Z"
   },
   {
    "duration": 9,
    "start_time": "2022-05-24T09:22:37.471Z"
   },
   {
    "duration": 745,
    "start_time": "2022-05-24T09:22:37.481Z"
   },
   {
    "duration": 10,
    "start_time": "2022-05-24T09:22:38.228Z"
   },
   {
    "duration": 27,
    "start_time": "2022-05-24T09:22:38.240Z"
   },
   {
    "duration": 7,
    "start_time": "2022-05-24T09:22:38.269Z"
   },
   {
    "duration": 6,
    "start_time": "2022-05-24T09:22:38.277Z"
   },
   {
    "duration": 78,
    "start_time": "2022-05-24T09:22:38.284Z"
   },
   {
    "duration": 277,
    "start_time": "2022-05-24T09:22:38.365Z"
   },
   {
    "duration": 2,
    "start_time": "2022-05-24T09:22:38.644Z"
   },
   {
    "duration": 9,
    "start_time": "2022-05-24T09:22:38.658Z"
   },
   {
    "duration": 24,
    "start_time": "2022-05-24T09:22:38.669Z"
   },
   {
    "duration": 1687,
    "start_time": "2022-05-24T18:02:15.958Z"
   },
   {
    "duration": 112,
    "start_time": "2022-05-24T18:02:17.647Z"
   },
   {
    "duration": 26,
    "start_time": "2022-05-24T18:02:17.761Z"
   },
   {
    "duration": 4,
    "start_time": "2022-05-24T18:02:17.790Z"
   },
   {
    "duration": 13,
    "start_time": "2022-05-24T18:02:17.796Z"
   },
   {
    "duration": 15,
    "start_time": "2022-05-24T18:02:17.811Z"
   },
   {
    "duration": 8,
    "start_time": "2022-05-24T18:02:17.828Z"
   },
   {
    "duration": 741,
    "start_time": "2022-05-24T18:02:17.838Z"
   },
   {
    "duration": 13,
    "start_time": "2022-05-24T18:02:18.581Z"
   },
   {
    "duration": 30,
    "start_time": "2022-05-24T18:02:18.597Z"
   },
   {
    "duration": 8,
    "start_time": "2022-05-24T18:02:18.630Z"
   },
   {
    "duration": 5,
    "start_time": "2022-05-24T18:02:18.639Z"
   },
   {
    "duration": 80,
    "start_time": "2022-05-24T18:02:18.646Z"
   },
   {
    "duration": 366,
    "start_time": "2022-05-24T18:02:18.731Z"
   },
   {
    "duration": 3,
    "start_time": "2022-05-24T18:02:19.099Z"
   },
   {
    "duration": 25,
    "start_time": "2022-05-24T18:02:19.104Z"
   },
   {
    "duration": 27,
    "start_time": "2022-05-24T18:02:19.131Z"
   },
   {
    "duration": 122,
    "start_time": "2022-05-24T18:04:15.786Z"
   },
   {
    "duration": 3,
    "start_time": "2022-05-24T18:07:58.424Z"
   },
   {
    "duration": 55,
    "start_time": "2022-05-24T18:07:58.429Z"
   },
   {
    "duration": 15,
    "start_time": "2022-05-24T18:07:58.486Z"
   },
   {
    "duration": 5,
    "start_time": "2022-05-24T18:07:58.503Z"
   },
   {
    "duration": 25,
    "start_time": "2022-05-24T18:07:58.510Z"
   },
   {
    "duration": 11,
    "start_time": "2022-05-24T18:07:58.537Z"
   },
   {
    "duration": 656,
    "start_time": "2022-05-24T18:07:58.549Z"
   },
   {
    "duration": 786,
    "start_time": "2022-05-24T18:08:04.340Z"
   },
   {
    "duration": 676,
    "start_time": "2022-05-24T18:08:05.373Z"
   },
   {
    "duration": 610,
    "start_time": "2022-05-24T18:08:38.789Z"
   },
   {
    "duration": 480,
    "start_time": "2022-05-24T18:09:09.036Z"
   },
   {
    "duration": 606,
    "start_time": "2022-05-24T18:09:29.852Z"
   },
   {
    "duration": 9,
    "start_time": "2022-05-24T18:14:47.569Z"
   },
   {
    "duration": 16,
    "start_time": "2022-05-24T18:14:54.554Z"
   },
   {
    "duration": 10,
    "start_time": "2022-05-24T18:15:02.284Z"
   },
   {
    "duration": 5,
    "start_time": "2022-05-24T18:15:02.993Z"
   },
   {
    "duration": 17,
    "start_time": "2022-05-24T18:15:07.806Z"
   },
   {
    "duration": 166,
    "start_time": "2022-05-24T18:15:16.584Z"
   },
   {
    "duration": 9,
    "start_time": "2022-05-24T18:15:41.025Z"
   },
   {
    "duration": 22,
    "start_time": "2022-05-24T18:15:42.593Z"
   },
   {
    "duration": 3,
    "start_time": "2022-05-24T18:18:19.454Z"
   },
   {
    "duration": 50,
    "start_time": "2022-05-24T18:18:19.459Z"
   },
   {
    "duration": 17,
    "start_time": "2022-05-24T18:18:19.511Z"
   },
   {
    "duration": 4,
    "start_time": "2022-05-24T18:18:19.530Z"
   },
   {
    "duration": 12,
    "start_time": "2022-05-24T18:18:19.536Z"
   },
   {
    "duration": 10,
    "start_time": "2022-05-24T18:18:19.550Z"
   },
   {
    "duration": 728,
    "start_time": "2022-05-24T18:18:19.562Z"
   },
   {
    "duration": 679,
    "start_time": "2022-05-24T18:18:20.293Z"
   },
   {
    "duration": 524,
    "start_time": "2022-05-24T18:18:20.974Z"
   },
   {
    "duration": 12,
    "start_time": "2022-05-24T18:18:21.500Z"
   },
   {
    "duration": 28,
    "start_time": "2022-05-24T18:18:21.514Z"
   },
   {
    "duration": 12,
    "start_time": "2022-05-24T18:18:21.544Z"
   },
   {
    "duration": 6,
    "start_time": "2022-05-24T18:18:21.558Z"
   },
   {
    "duration": 63,
    "start_time": "2022-05-24T18:18:21.567Z"
   },
   {
    "duration": 410,
    "start_time": "2022-05-24T18:18:21.632Z"
   },
   {
    "duration": 10,
    "start_time": "2022-05-24T18:18:22.044Z"
   },
   {
    "duration": 82,
    "start_time": "2022-05-24T18:18:22.056Z"
   },
   {
    "duration": 3,
    "start_time": "2022-05-24T18:19:04.999Z"
   },
   {
    "duration": 77,
    "start_time": "2022-05-24T18:19:05.004Z"
   },
   {
    "duration": 17,
    "start_time": "2022-05-24T18:19:05.082Z"
   },
   {
    "duration": 14,
    "start_time": "2022-05-24T18:19:05.100Z"
   },
   {
    "duration": 23,
    "start_time": "2022-05-24T18:19:05.116Z"
   },
   {
    "duration": 10,
    "start_time": "2022-05-24T18:19:05.141Z"
   },
   {
    "duration": 780,
    "start_time": "2022-05-24T18:19:05.153Z"
   },
   {
    "duration": 645,
    "start_time": "2022-05-24T18:19:05.935Z"
   },
   {
    "duration": 486,
    "start_time": "2022-05-24T18:19:06.581Z"
   },
   {
    "duration": 13,
    "start_time": "2022-05-24T18:19:07.068Z"
   },
   {
    "duration": 25,
    "start_time": "2022-05-24T18:19:07.082Z"
   },
   {
    "duration": 22,
    "start_time": "2022-05-24T18:19:07.108Z"
   },
   {
    "duration": 5,
    "start_time": "2022-05-24T18:19:07.132Z"
   },
   {
    "duration": 15,
    "start_time": "2022-05-24T18:19:07.139Z"
   },
   {
    "duration": 554,
    "start_time": "2022-05-24T18:19:07.156Z"
   },
   {
    "duration": 15,
    "start_time": "2022-05-24T18:19:07.712Z"
   },
   {
    "duration": 123,
    "start_time": "2022-05-24T18:19:07.729Z"
   },
   {
    "duration": 4,
    "start_time": "2022-05-24T18:20:02.181Z"
   },
   {
    "duration": 66,
    "start_time": "2022-05-24T18:20:02.187Z"
   },
   {
    "duration": 16,
    "start_time": "2022-05-24T18:20:02.255Z"
   },
   {
    "duration": 6,
    "start_time": "2022-05-24T18:20:02.273Z"
   },
   {
    "duration": 15,
    "start_time": "2022-05-24T18:20:02.281Z"
   },
   {
    "duration": 7,
    "start_time": "2022-05-24T18:20:02.297Z"
   },
   {
    "duration": 814,
    "start_time": "2022-05-24T18:20:02.306Z"
   },
   {
    "duration": 629,
    "start_time": "2022-05-24T18:20:03.121Z"
   },
   {
    "duration": 501,
    "start_time": "2022-05-24T18:20:03.752Z"
   },
   {
    "duration": 8,
    "start_time": "2022-05-24T18:20:04.256Z"
   },
   {
    "duration": 14,
    "start_time": "2022-05-24T18:20:04.266Z"
   },
   {
    "duration": 15,
    "start_time": "2022-05-24T18:20:04.282Z"
   },
   {
    "duration": 4,
    "start_time": "2022-05-24T18:20:04.299Z"
   },
   {
    "duration": 28,
    "start_time": "2022-05-24T18:20:04.304Z"
   },
   {
    "duration": 357,
    "start_time": "2022-05-24T18:20:04.335Z"
   },
   {
    "duration": 8,
    "start_time": "2022-05-24T18:20:04.694Z"
   },
   {
    "duration": 31,
    "start_time": "2022-05-24T18:20:04.704Z"
   },
   {
    "duration": 3,
    "start_time": "2022-05-24T18:20:17.249Z"
   },
   {
    "duration": 59,
    "start_time": "2022-05-24T18:20:17.254Z"
   },
   {
    "duration": 17,
    "start_time": "2022-05-24T18:20:17.314Z"
   },
   {
    "duration": 4,
    "start_time": "2022-05-24T18:20:17.332Z"
   },
   {
    "duration": 11,
    "start_time": "2022-05-24T18:20:17.338Z"
   },
   {
    "duration": 7,
    "start_time": "2022-05-24T18:20:17.351Z"
   },
   {
    "duration": 652,
    "start_time": "2022-05-24T18:20:17.359Z"
   },
   {
    "duration": 750,
    "start_time": "2022-05-24T18:20:18.013Z"
   },
   {
    "duration": 477,
    "start_time": "2022-05-24T18:20:18.764Z"
   },
   {
    "duration": 8,
    "start_time": "2022-05-24T18:20:19.243Z"
   },
   {
    "duration": 16,
    "start_time": "2022-05-24T18:20:19.253Z"
   },
   {
    "duration": 15,
    "start_time": "2022-05-24T18:20:19.270Z"
   },
   {
    "duration": 5,
    "start_time": "2022-05-24T18:20:19.287Z"
   },
   {
    "duration": 32,
    "start_time": "2022-05-24T18:20:19.295Z"
   },
   {
    "duration": 304,
    "start_time": "2022-05-24T18:20:19.329Z"
   },
   {
    "duration": 9,
    "start_time": "2022-05-24T18:20:19.635Z"
   },
   {
    "duration": 25,
    "start_time": "2022-05-24T18:20:19.646Z"
   },
   {
    "duration": 4,
    "start_time": "2022-05-24T18:21:46.293Z"
   },
   {
    "duration": 47,
    "start_time": "2022-05-24T18:21:46.298Z"
   },
   {
    "duration": 17,
    "start_time": "2022-05-24T18:21:46.346Z"
   },
   {
    "duration": 4,
    "start_time": "2022-05-24T18:21:46.365Z"
   },
   {
    "duration": 16,
    "start_time": "2022-05-24T18:21:46.370Z"
   },
   {
    "duration": 7,
    "start_time": "2022-05-24T18:21:46.388Z"
   },
   {
    "duration": 709,
    "start_time": "2022-05-24T18:21:46.397Z"
   },
   {
    "duration": 772,
    "start_time": "2022-05-24T18:21:47.108Z"
   },
   {
    "duration": 527,
    "start_time": "2022-05-24T18:21:47.882Z"
   },
   {
    "duration": 5,
    "start_time": "2022-05-24T18:21:48.411Z"
   },
   {
    "duration": 35,
    "start_time": "2022-05-24T18:21:48.425Z"
   },
   {
    "duration": 7,
    "start_time": "2022-05-24T18:21:48.461Z"
   },
   {
    "duration": 18,
    "start_time": "2022-05-24T18:21:48.469Z"
   },
   {
    "duration": 60,
    "start_time": "2022-05-24T18:21:48.488Z"
   },
   {
    "duration": 0,
    "start_time": "2022-05-24T18:21:48.550Z"
   },
   {
    "duration": 0,
    "start_time": "2022-05-24T18:21:48.551Z"
   },
   {
    "duration": 0,
    "start_time": "2022-05-24T18:21:48.552Z"
   },
   {
    "duration": 7,
    "start_time": "2022-05-24T18:22:03.002Z"
   },
   {
    "duration": 38,
    "start_time": "2022-05-24T18:22:03.457Z"
   },
   {
    "duration": 4,
    "start_time": "2022-05-24T18:26:02.666Z"
   },
   {
    "duration": 57,
    "start_time": "2022-05-24T18:26:02.672Z"
   },
   {
    "duration": 17,
    "start_time": "2022-05-24T18:26:02.731Z"
   },
   {
    "duration": 17,
    "start_time": "2022-05-24T18:26:02.751Z"
   },
   {
    "duration": 22,
    "start_time": "2022-05-24T18:26:02.770Z"
   },
   {
    "duration": 8,
    "start_time": "2022-05-24T18:26:02.794Z"
   },
   {
    "duration": 715,
    "start_time": "2022-05-24T18:26:02.803Z"
   },
   {
    "duration": 638,
    "start_time": "2022-05-24T18:26:03.520Z"
   },
   {
    "duration": 634,
    "start_time": "2022-05-24T18:26:04.160Z"
   },
   {
    "duration": 4,
    "start_time": "2022-05-24T18:26:04.796Z"
   },
   {
    "duration": 9991,
    "start_time": "2022-05-24T18:26:13.036Z"
   },
   {
    "duration": 14587,
    "start_time": "2022-05-24T18:27:26.853Z"
   },
   {
    "duration": 13839,
    "start_time": "2022-05-24T18:28:08.587Z"
   },
   {
    "duration": 63622,
    "start_time": "2022-05-24T18:29:02.509Z"
   },
   {
    "duration": 114693,
    "start_time": "2022-05-24T18:30:15.139Z"
   },
   {
    "duration": 19,
    "start_time": "2022-05-24T19:09:44.309Z"
   },
   {
    "duration": 659,
    "start_time": "2022-05-24T19:10:00.831Z"
   },
   {
    "duration": 645,
    "start_time": "2022-05-24T19:10:11.232Z"
   },
   {
    "duration": 614,
    "start_time": "2022-05-24T19:10:23.583Z"
   },
   {
    "duration": 77,
    "start_time": "2022-05-24T19:10:29.647Z"
   },
   {
    "duration": 21,
    "start_time": "2022-05-24T19:10:32.515Z"
   },
   {
    "duration": 680,
    "start_time": "2022-05-24T19:11:32.190Z"
   },
   {
    "duration": 121721,
    "start_time": "2022-05-24T19:17:03.012Z"
   },
   {
    "duration": 199,
    "start_time": "2022-05-24T19:19:04.737Z"
   },
   {
    "duration": 656,
    "start_time": "2022-05-24T19:19:05.028Z"
   },
   {
    "duration": 70089,
    "start_time": "2022-05-24T19:33:31.942Z"
   },
   {
    "duration": 8103,
    "start_time": "2022-05-24T19:35:01.428Z"
   },
   {
    "duration": 143,
    "start_time": "2022-05-24T19:37:17.285Z"
   },
   {
    "duration": 75,
    "start_time": "2022-05-24T19:39:09.131Z"
   },
   {
    "duration": 13508,
    "start_time": "2022-05-24T19:41:44.521Z"
   },
   {
    "duration": 5013,
    "start_time": "2022-05-24T19:42:56.930Z"
   },
   {
    "duration": 679,
    "start_time": "2022-05-24T19:43:10.713Z"
   },
   {
    "duration": 636,
    "start_time": "2022-05-24T19:43:36.482Z"
   },
   {
    "duration": 4,
    "start_time": "2022-05-24T19:47:38.518Z"
   },
   {
    "duration": 52,
    "start_time": "2022-05-24T19:47:38.524Z"
   },
   {
    "duration": 21,
    "start_time": "2022-05-24T19:47:38.578Z"
   },
   {
    "duration": 4,
    "start_time": "2022-05-24T19:47:38.601Z"
   },
   {
    "duration": 18,
    "start_time": "2022-05-24T19:47:38.608Z"
   },
   {
    "duration": 7,
    "start_time": "2022-05-24T19:47:38.628Z"
   },
   {
    "duration": 687,
    "start_time": "2022-05-24T19:47:38.637Z"
   },
   {
    "duration": 707,
    "start_time": "2022-05-24T19:47:39.326Z"
   },
   {
    "duration": 516,
    "start_time": "2022-05-24T19:47:40.035Z"
   },
   {
    "duration": 5,
    "start_time": "2022-05-24T19:47:40.553Z"
   },
   {
    "duration": 1873,
    "start_time": "2022-05-24T19:47:40.560Z"
   },
   {
    "duration": 90,
    "start_time": "2022-05-24T19:47:42.436Z"
   },
   {
    "duration": 107,
    "start_time": "2022-05-24T19:47:42.530Z"
   },
   {
    "duration": 17,
    "start_time": "2022-05-24T19:47:42.639Z"
   },
   {
    "duration": 335,
    "start_time": "2022-05-24T19:47:42.659Z"
   },
   {
    "duration": 14,
    "start_time": "2022-05-24T19:47:42.996Z"
   },
   {
    "duration": 29,
    "start_time": "2022-05-24T19:47:43.025Z"
   },
   {
    "duration": 5,
    "start_time": "2022-05-24T19:48:54.597Z"
   },
   {
    "duration": 53,
    "start_time": "2022-05-24T19:48:54.604Z"
   },
   {
    "duration": 20,
    "start_time": "2022-05-24T19:48:54.659Z"
   },
   {
    "duration": 4,
    "start_time": "2022-05-24T19:48:54.681Z"
   },
   {
    "duration": 16,
    "start_time": "2022-05-24T19:48:54.687Z"
   },
   {
    "duration": 36,
    "start_time": "2022-05-24T19:48:54.705Z"
   },
   {
    "duration": 839,
    "start_time": "2022-05-24T19:48:54.742Z"
   },
   {
    "duration": 637,
    "start_time": "2022-05-24T19:48:55.583Z"
   },
   {
    "duration": 514,
    "start_time": "2022-05-24T19:48:56.225Z"
   },
   {
    "duration": 5,
    "start_time": "2022-05-24T19:48:56.740Z"
   },
   {
    "duration": 2189,
    "start_time": "2022-05-24T19:48:56.747Z"
   },
   {
    "duration": 88,
    "start_time": "2022-05-24T19:48:58.938Z"
   },
   {
    "duration": 3,
    "start_time": "2022-05-24T19:48:59.029Z"
   },
   {
    "duration": 105,
    "start_time": "2022-05-24T19:48:59.035Z"
   },
   {
    "duration": 328,
    "start_time": "2022-05-24T19:48:59.146Z"
   },
   {
    "duration": 11,
    "start_time": "2022-05-24T19:48:59.475Z"
   },
   {
    "duration": 43,
    "start_time": "2022-05-24T19:48:59.488Z"
   },
   {
    "duration": 22,
    "start_time": "2022-05-24T19:50:11.586Z"
   },
   {
    "duration": 26,
    "start_time": "2022-05-24T19:50:24.437Z"
   },
   {
    "duration": 23,
    "start_time": "2022-05-24T19:50:29.966Z"
   },
   {
    "duration": 22,
    "start_time": "2022-05-24T19:50:34.871Z"
   },
   {
    "duration": 16,
    "start_time": "2022-05-24T19:50:40.727Z"
   },
   {
    "duration": 17,
    "start_time": "2022-05-24T19:50:44.703Z"
   },
   {
    "duration": 18,
    "start_time": "2022-05-24T19:50:48.565Z"
   },
   {
    "duration": 18,
    "start_time": "2022-05-24T19:50:54.807Z"
   },
   {
    "duration": 16,
    "start_time": "2022-05-24T19:51:01.807Z"
   },
   {
    "duration": 245,
    "start_time": "2022-05-24T19:52:35.942Z"
   },
   {
    "duration": 256,
    "start_time": "2022-05-24T19:52:44.886Z"
   },
   {
    "duration": 5,
    "start_time": "2022-05-24T19:52:52.784Z"
   },
   {
    "duration": 66,
    "start_time": "2022-05-24T19:52:52.799Z"
   },
   {
    "duration": 25,
    "start_time": "2022-05-24T19:52:52.867Z"
   },
   {
    "duration": 5,
    "start_time": "2022-05-24T19:52:52.896Z"
   },
   {
    "duration": 11,
    "start_time": "2022-05-24T19:52:52.927Z"
   },
   {
    "duration": 13,
    "start_time": "2022-05-24T19:52:52.940Z"
   },
   {
    "duration": 908,
    "start_time": "2022-05-24T19:52:52.955Z"
   },
   {
    "duration": 823,
    "start_time": "2022-05-24T19:52:53.865Z"
   },
   {
    "duration": 570,
    "start_time": "2022-05-24T19:52:54.690Z"
   },
   {
    "duration": 5,
    "start_time": "2022-05-24T19:52:55.263Z"
   },
   {
    "duration": 243,
    "start_time": "2022-05-24T19:52:57.125Z"
   },
   {
    "duration": 26,
    "start_time": "2022-05-24T19:53:08.374Z"
   },
   {
    "duration": 319,
    "start_time": "2022-05-24T19:53:51.981Z"
   },
   {
    "duration": 1020,
    "start_time": "2022-05-24T19:53:58.205Z"
   },
   {
    "duration": 4475,
    "start_time": "2022-05-24T19:54:09.651Z"
   },
   {
    "duration": 17,
    "start_time": "2022-05-24T19:55:05.052Z"
   },
   {
    "duration": 36,
    "start_time": "2022-05-24T19:55:06.326Z"
   },
   {
    "duration": 6057,
    "start_time": "2022-05-24T19:55:15.792Z"
   },
   {
    "duration": 6159,
    "start_time": "2022-05-24T19:55:29.972Z"
   },
   {
    "duration": 678,
    "start_time": "2022-05-24T19:55:40.363Z"
   },
   {
    "duration": 12128,
    "start_time": "2022-05-24T19:56:05.598Z"
   },
   {
    "duration": 16,
    "start_time": "2022-05-24T19:56:51.893Z"
   },
   {
    "duration": 18,
    "start_time": "2022-05-24T19:57:02.698Z"
   },
   {
    "duration": 18,
    "start_time": "2022-05-24T19:57:13.695Z"
   },
   {
    "duration": 565,
    "start_time": "2022-05-24T19:57:37.588Z"
   },
   {
    "duration": 2726,
    "start_time": "2022-05-24T19:57:46.829Z"
   },
   {
    "duration": 5464,
    "start_time": "2022-05-24T19:57:54.864Z"
   },
   {
    "duration": 4,
    "start_time": "2022-05-24T19:58:09.336Z"
   },
   {
    "duration": 58,
    "start_time": "2022-05-24T19:58:09.342Z"
   },
   {
    "duration": 16,
    "start_time": "2022-05-24T19:58:09.402Z"
   },
   {
    "duration": 4,
    "start_time": "2022-05-24T19:58:09.420Z"
   },
   {
    "duration": 12,
    "start_time": "2022-05-24T19:58:09.426Z"
   },
   {
    "duration": 8,
    "start_time": "2022-05-24T19:58:09.440Z"
   },
   {
    "duration": 675,
    "start_time": "2022-05-24T19:58:09.449Z"
   },
   {
    "duration": 768,
    "start_time": "2022-05-24T19:58:10.126Z"
   },
   {
    "duration": 520,
    "start_time": "2022-05-24T19:58:10.896Z"
   },
   {
    "duration": 10,
    "start_time": "2022-05-24T19:58:11.417Z"
   },
   {
    "duration": 26,
    "start_time": "2022-05-24T19:58:17.059Z"
   },
   {
    "duration": 1632,
    "start_time": "2022-05-24T19:58:59.584Z"
   },
   {
    "duration": 17,
    "start_time": "2022-05-24T20:02:53.611Z"
   },
   {
    "duration": 5,
    "start_time": "2022-05-24T20:03:11.975Z"
   },
   {
    "duration": 71,
    "start_time": "2022-05-24T20:03:11.983Z"
   },
   {
    "duration": 18,
    "start_time": "2022-05-24T20:03:12.056Z"
   },
   {
    "duration": 5,
    "start_time": "2022-05-24T20:03:12.076Z"
   },
   {
    "duration": 10,
    "start_time": "2022-05-24T20:03:12.083Z"
   },
   {
    "duration": 36,
    "start_time": "2022-05-24T20:03:12.095Z"
   },
   {
    "duration": 838,
    "start_time": "2022-05-24T20:03:12.133Z"
   },
   {
    "duration": 921,
    "start_time": "2022-05-24T20:03:12.973Z"
   },
   {
    "duration": 23,
    "start_time": "2022-05-24T20:03:16.685Z"
   },
   {
    "duration": 17,
    "start_time": "2022-05-24T20:03:31.314Z"
   },
   {
    "duration": 701,
    "start_time": "2022-05-24T20:03:52.076Z"
   },
   {
    "duration": 19,
    "start_time": "2022-05-24T20:06:04.559Z"
   },
   {
    "duration": 21,
    "start_time": "2022-05-24T20:06:14.711Z"
   },
   {
    "duration": 20,
    "start_time": "2022-05-24T20:06:54.966Z"
   },
   {
    "duration": 553,
    "start_time": "2022-05-24T20:07:02.782Z"
   },
   {
    "duration": 30,
    "start_time": "2022-05-24T20:10:31.551Z"
   },
   {
    "duration": 504,
    "start_time": "2022-05-24T20:11:16.477Z"
   },
   {
    "duration": 456,
    "start_time": "2022-05-24T20:12:06.965Z"
   },
   {
    "duration": 522,
    "start_time": "2022-05-24T20:13:02.517Z"
   },
   {
    "duration": 16628,
    "start_time": "2022-05-24T20:18:01.330Z"
   },
   {
    "duration": 33636,
    "start_time": "2022-05-24T20:18:36.218Z"
   },
   {
    "duration": 38364,
    "start_time": "2022-05-24T20:23:19.967Z"
   },
   {
    "duration": 6125,
    "start_time": "2022-05-24T20:24:10.431Z"
   },
   {
    "duration": 6101,
    "start_time": "2022-05-24T20:24:30.038Z"
   },
   {
    "duration": 3,
    "start_time": "2022-05-24T20:24:49.545Z"
   },
   {
    "duration": 53,
    "start_time": "2022-05-24T20:24:49.550Z"
   },
   {
    "duration": 17,
    "start_time": "2022-05-24T20:24:49.604Z"
   },
   {
    "duration": 3,
    "start_time": "2022-05-24T20:24:49.623Z"
   },
   {
    "duration": 9,
    "start_time": "2022-05-24T20:24:49.627Z"
   },
   {
    "duration": 9,
    "start_time": "2022-05-24T20:24:49.637Z"
   },
   {
    "duration": 754,
    "start_time": "2022-05-24T20:24:49.647Z"
   },
   {
    "duration": 671,
    "start_time": "2022-05-24T20:24:50.402Z"
   },
   {
    "duration": 510,
    "start_time": "2022-05-24T20:24:51.076Z"
   },
   {
    "duration": 5,
    "start_time": "2022-05-24T20:24:51.587Z"
   },
   {
    "duration": 1645,
    "start_time": "2022-05-24T20:24:52.775Z"
   },
   {
    "duration": 6,
    "start_time": "2022-05-24T20:25:15.670Z"
   },
   {
    "duration": 975,
    "start_time": "2022-05-24T20:25:25.177Z"
   },
   {
    "duration": 6967,
    "start_time": "2022-05-24T20:26:42.263Z"
   },
   {
    "duration": 19,
    "start_time": "2022-05-24T20:27:27.711Z"
   },
   {
    "duration": 157,
    "start_time": "2022-05-24T20:27:39.717Z"
   },
   {
    "duration": 173,
    "start_time": "2022-05-24T20:28:00.979Z"
   },
   {
    "duration": 185,
    "start_time": "2022-05-24T20:28:07.958Z"
   },
   {
    "duration": 1844,
    "start_time": "2022-05-24T20:30:00.115Z"
   },
   {
    "duration": 35,
    "start_time": "2022-05-24T20:34:41.579Z"
   },
   {
    "duration": 18,
    "start_time": "2022-05-24T20:35:35.322Z"
   },
   {
    "duration": 26,
    "start_time": "2022-05-24T20:35:47.496Z"
   },
   {
    "duration": 662,
    "start_time": "2022-05-24T20:41:56.006Z"
   },
   {
    "duration": 163,
    "start_time": "2022-05-24T20:42:31.590Z"
   },
   {
    "duration": 279,
    "start_time": "2022-05-24T20:42:50.621Z"
   },
   {
    "duration": 12,
    "start_time": "2022-05-24T20:44:35.995Z"
   },
   {
    "duration": 10,
    "start_time": "2022-05-24T20:44:46.267Z"
   },
   {
    "duration": 13,
    "start_time": "2022-05-24T20:49:17.112Z"
   },
   {
    "duration": 30,
    "start_time": "2022-05-24T20:49:43.198Z"
   },
   {
    "duration": 53,
    "start_time": "2022-05-24T20:50:02.849Z"
   },
   {
    "duration": 106,
    "start_time": "2022-05-24T20:50:09.948Z"
   },
   {
    "duration": 121,
    "start_time": "2022-05-24T20:50:19.059Z"
   },
   {
    "duration": 12,
    "start_time": "2022-05-24T20:52:22.107Z"
   },
   {
    "duration": 3,
    "start_time": "2022-05-24T20:52:39.444Z"
   },
   {
    "duration": 10,
    "start_time": "2022-05-24T20:52:44.965Z"
   },
   {
    "duration": 279,
    "start_time": "2022-05-24T20:53:13.520Z"
   },
   {
    "duration": 6,
    "start_time": "2022-05-24T20:55:22.216Z"
   },
   {
    "duration": 5,
    "start_time": "2022-05-24T20:55:47.259Z"
   },
   {
    "duration": 6,
    "start_time": "2022-05-24T20:55:54.801Z"
   },
   {
    "duration": 8,
    "start_time": "2022-05-24T20:56:27.392Z"
   },
   {
    "duration": 4,
    "start_time": "2022-05-24T20:56:42.297Z"
   },
   {
    "duration": 259,
    "start_time": "2022-05-24T20:56:46.183Z"
   },
   {
    "duration": 264,
    "start_time": "2022-05-24T20:57:05.386Z"
   },
   {
    "duration": 258,
    "start_time": "2022-05-24T20:57:14.583Z"
   },
   {
    "duration": 12,
    "start_time": "2022-05-24T20:57:53.859Z"
   },
   {
    "duration": 7,
    "start_time": "2022-05-24T20:58:07.846Z"
   },
   {
    "duration": 189,
    "start_time": "2022-05-24T21:00:37.117Z"
   },
   {
    "duration": 231,
    "start_time": "2022-05-24T21:00:44.478Z"
   },
   {
    "duration": 5,
    "start_time": "2022-05-24T21:07:35.275Z"
   },
   {
    "duration": 7,
    "start_time": "2022-05-24T21:07:57.393Z"
   },
   {
    "duration": 19,
    "start_time": "2022-05-24T21:08:53.207Z"
   },
   {
    "duration": 4,
    "start_time": "2022-05-24T21:09:04.467Z"
   },
   {
    "duration": 51,
    "start_time": "2022-05-24T21:09:04.473Z"
   },
   {
    "duration": 15,
    "start_time": "2022-05-24T21:09:04.526Z"
   },
   {
    "duration": 3,
    "start_time": "2022-05-24T21:09:04.543Z"
   },
   {
    "duration": 11,
    "start_time": "2022-05-24T21:09:04.548Z"
   },
   {
    "duration": 6,
    "start_time": "2022-05-24T21:09:04.561Z"
   },
   {
    "duration": 777,
    "start_time": "2022-05-24T21:09:04.568Z"
   },
   {
    "duration": 650,
    "start_time": "2022-05-24T21:09:05.347Z"
   },
   {
    "duration": 482,
    "start_time": "2022-05-24T21:09:05.999Z"
   },
   {
    "duration": 3,
    "start_time": "2022-05-24T21:09:06.483Z"
   },
   {
    "duration": 7844,
    "start_time": "2022-05-24T21:09:06.489Z"
   },
   {
    "duration": 3,
    "start_time": "2022-05-24T21:09:14.335Z"
   },
   {
    "duration": 120,
    "start_time": "2022-05-24T21:09:14.432Z"
   },
   {
    "duration": 1476,
    "start_time": "2022-05-24T21:09:14.554Z"
   },
   {
    "duration": 16,
    "start_time": "2022-05-24T21:09:16.032Z"
   },
   {
    "duration": 179,
    "start_time": "2022-05-24T21:09:16.049Z"
   },
   {
    "duration": 6,
    "start_time": "2022-05-24T21:09:16.229Z"
   },
   {
    "duration": 5,
    "start_time": "2022-05-24T21:10:07.068Z"
   },
   {
    "duration": 6,
    "start_time": "2022-05-24T21:10:09.510Z"
   },
   {
    "duration": 3,
    "start_time": "2022-05-24T21:11:29.813Z"
   },
   {
    "duration": 58,
    "start_time": "2022-05-24T21:11:29.818Z"
   },
   {
    "duration": 16,
    "start_time": "2022-05-24T21:11:29.878Z"
   },
   {
    "duration": 3,
    "start_time": "2022-05-24T21:11:29.896Z"
   },
   {
    "duration": 9,
    "start_time": "2022-05-24T21:11:29.900Z"
   },
   {
    "duration": 8,
    "start_time": "2022-05-24T21:11:29.910Z"
   },
   {
    "duration": 777,
    "start_time": "2022-05-24T21:11:29.920Z"
   },
   {
    "duration": 617,
    "start_time": "2022-05-24T21:11:30.698Z"
   },
   {
    "duration": 474,
    "start_time": "2022-05-24T21:11:31.317Z"
   },
   {
    "duration": 3,
    "start_time": "2022-05-24T21:11:31.793Z"
   },
   {
    "duration": 8233,
    "start_time": "2022-05-24T21:11:31.798Z"
   },
   {
    "duration": 96,
    "start_time": "2022-05-24T21:11:40.033Z"
   },
   {
    "duration": 100,
    "start_time": "2022-05-24T21:11:40.131Z"
   },
   {
    "duration": 1445,
    "start_time": "2022-05-24T21:11:40.232Z"
   },
   {
    "duration": 15,
    "start_time": "2022-05-24T21:11:41.679Z"
   },
   {
    "duration": 181,
    "start_time": "2022-05-24T21:11:47.309Z"
   },
   {
    "duration": 167,
    "start_time": "2022-05-24T21:13:58.245Z"
   },
   {
    "duration": 4,
    "start_time": "2022-05-24T21:14:08.459Z"
   },
   {
    "duration": 63,
    "start_time": "2022-05-24T21:14:08.465Z"
   },
   {
    "duration": 16,
    "start_time": "2022-05-24T21:14:08.530Z"
   },
   {
    "duration": 4,
    "start_time": "2022-05-24T21:14:08.548Z"
   },
   {
    "duration": 11,
    "start_time": "2022-05-24T21:14:08.553Z"
   },
   {
    "duration": 7,
    "start_time": "2022-05-24T21:14:08.565Z"
   },
   {
    "duration": 827,
    "start_time": "2022-05-24T21:14:08.574Z"
   },
   {
    "duration": 628,
    "start_time": "2022-05-24T21:14:09.403Z"
   },
   {
    "duration": 465,
    "start_time": "2022-05-24T21:14:10.033Z"
   },
   {
    "duration": 3,
    "start_time": "2022-05-24T21:14:10.500Z"
   },
   {
    "duration": 8225,
    "start_time": "2022-05-24T21:14:10.505Z"
   },
   {
    "duration": 93,
    "start_time": "2022-05-24T21:14:18.734Z"
   },
   {
    "duration": 97,
    "start_time": "2022-05-24T21:14:18.830Z"
   },
   {
    "duration": 1510,
    "start_time": "2022-05-24T21:14:18.929Z"
   },
   {
    "duration": 14,
    "start_time": "2022-05-24T21:14:20.441Z"
   },
   {
    "duration": 153,
    "start_time": "2022-05-24T21:14:24.198Z"
   },
   {
    "duration": 10,
    "start_time": "2022-05-24T21:15:04.132Z"
   },
   {
    "duration": 3,
    "start_time": "2022-05-24T21:15:41.622Z"
   },
   {
    "duration": 9,
    "start_time": "2022-05-24T21:15:47.635Z"
   },
   {
    "duration": 4,
    "start_time": "2022-05-24T21:16:37.029Z"
   },
   {
    "duration": 15,
    "start_time": "2022-05-24T21:16:45.413Z"
   },
   {
    "duration": 5,
    "start_time": "2022-05-24T21:17:10.475Z"
   },
   {
    "duration": 10,
    "start_time": "2022-05-24T21:17:12.019Z"
   },
   {
    "duration": 261,
    "start_time": "2022-05-24T21:17:18.924Z"
   },
   {
    "duration": 9,
    "start_time": "2022-05-24T21:17:46.107Z"
   },
   {
    "duration": 224,
    "start_time": "2022-05-24T21:18:32.327Z"
   },
   {
    "duration": 21,
    "start_time": "2022-05-24T21:21:46.309Z"
   },
   {
    "duration": 210,
    "start_time": "2022-05-24T21:22:12.740Z"
   },
   {
    "duration": 300,
    "start_time": "2022-05-24T21:23:10.429Z"
   },
   {
    "duration": 301,
    "start_time": "2022-05-24T21:24:14.205Z"
   },
   {
    "duration": 162,
    "start_time": "2022-05-24T21:24:31.749Z"
   },
   {
    "duration": 106,
    "start_time": "2022-05-24T21:24:41.140Z"
   },
   {
    "duration": 246,
    "start_time": "2022-05-24T21:24:49.820Z"
   },
   {
    "duration": 278,
    "start_time": "2022-05-24T21:25:07.924Z"
   },
   {
    "duration": 14,
    "start_time": "2022-05-24T21:26:25.910Z"
   },
   {
    "duration": 3,
    "start_time": "2022-05-24T21:26:29.616Z"
   },
   {
    "duration": 52,
    "start_time": "2022-05-24T21:26:29.622Z"
   },
   {
    "duration": 16,
    "start_time": "2022-05-24T21:26:29.676Z"
   },
   {
    "duration": 3,
    "start_time": "2022-05-24T21:26:29.694Z"
   },
   {
    "duration": 8,
    "start_time": "2022-05-24T21:26:29.699Z"
   },
   {
    "duration": 9,
    "start_time": "2022-05-24T21:26:29.709Z"
   },
   {
    "duration": 690,
    "start_time": "2022-05-24T21:26:29.720Z"
   },
   {
    "duration": 791,
    "start_time": "2022-05-24T21:26:30.412Z"
   },
   {
    "duration": 495,
    "start_time": "2022-05-24T21:26:31.205Z"
   },
   {
    "duration": 5,
    "start_time": "2022-05-24T21:26:31.702Z"
   },
   {
    "duration": 9028,
    "start_time": "2022-05-24T21:26:31.710Z"
   },
   {
    "duration": 88,
    "start_time": "2022-05-24T21:26:40.740Z"
   },
   {
    "duration": 104,
    "start_time": "2022-05-24T21:26:40.832Z"
   },
   {
    "duration": 1528,
    "start_time": "2022-05-24T21:26:40.937Z"
   },
   {
    "duration": 15,
    "start_time": "2022-05-24T21:26:42.467Z"
   },
   {
    "duration": 4,
    "start_time": "2022-05-24T21:26:49.539Z"
   },
   {
    "duration": 12,
    "start_time": "2022-05-24T21:27:00.774Z"
   },
   {
    "duration": 162,
    "start_time": "2022-05-24T21:27:29.627Z"
   },
   {
    "duration": 9,
    "start_time": "2022-05-24T21:27:32.850Z"
   },
   {
    "duration": 155,
    "start_time": "2022-05-24T21:27:33.817Z"
   },
   {
    "duration": 146,
    "start_time": "2022-05-24T21:27:42.454Z"
   },
   {
    "duration": 155,
    "start_time": "2022-05-24T21:29:05.275Z"
   },
   {
    "duration": 150,
    "start_time": "2022-05-24T21:29:25.210Z"
   },
   {
    "duration": 174,
    "start_time": "2022-05-24T21:29:36.492Z"
   },
   {
    "duration": 152,
    "start_time": "2022-05-24T21:30:09.347Z"
   },
   {
    "duration": 152,
    "start_time": "2022-05-24T21:30:44.158Z"
   },
   {
    "duration": 221,
    "start_time": "2022-05-24T21:32:08.077Z"
   },
   {
    "duration": 321,
    "start_time": "2022-05-24T21:32:27.194Z"
   },
   {
    "duration": 224,
    "start_time": "2022-05-24T21:32:33.939Z"
   },
   {
    "duration": 192,
    "start_time": "2022-05-24T21:32:43.074Z"
   },
   {
    "duration": 200,
    "start_time": "2022-05-24T21:35:04.034Z"
   },
   {
    "duration": 187,
    "start_time": "2022-05-24T21:35:37.388Z"
   },
   {
    "duration": 186,
    "start_time": "2022-05-24T21:35:49.842Z"
   },
   {
    "duration": 220,
    "start_time": "2022-05-24T21:36:11.016Z"
   },
   {
    "duration": 198,
    "start_time": "2022-05-24T21:36:41.328Z"
   },
   {
    "duration": 234,
    "start_time": "2022-05-24T21:38:35.965Z"
   },
   {
    "duration": 213,
    "start_time": "2022-05-24T21:39:26.664Z"
   },
   {
    "duration": 220,
    "start_time": "2022-05-24T21:39:40.052Z"
   },
   {
    "duration": 221,
    "start_time": "2022-05-24T21:40:48.648Z"
   },
   {
    "duration": 237,
    "start_time": "2022-05-24T21:42:14.737Z"
   },
   {
    "duration": 214,
    "start_time": "2022-05-24T21:43:24.694Z"
   },
   {
    "duration": 387,
    "start_time": "2022-05-24T21:44:47.182Z"
   },
   {
    "duration": 227,
    "start_time": "2022-05-24T21:44:59.574Z"
   },
   {
    "duration": 135,
    "start_time": "2022-05-24T21:45:24.077Z"
   },
   {
    "duration": 244,
    "start_time": "2022-05-24T21:45:36.229Z"
   },
   {
    "duration": 4,
    "start_time": "2022-05-24T21:46:50.363Z"
   },
   {
    "duration": 52,
    "start_time": "2022-05-24T21:46:50.368Z"
   },
   {
    "duration": 17,
    "start_time": "2022-05-24T21:46:50.421Z"
   },
   {
    "duration": 5,
    "start_time": "2022-05-24T21:46:50.440Z"
   },
   {
    "duration": 9,
    "start_time": "2022-05-24T21:46:50.447Z"
   },
   {
    "duration": 9,
    "start_time": "2022-05-24T21:46:50.457Z"
   },
   {
    "duration": 668,
    "start_time": "2022-05-24T21:46:50.468Z"
   },
   {
    "duration": 641,
    "start_time": "2022-05-24T21:46:51.138Z"
   },
   {
    "duration": 632,
    "start_time": "2022-05-24T21:46:51.782Z"
   },
   {
    "duration": 11,
    "start_time": "2022-05-24T21:46:52.415Z"
   },
   {
    "duration": 8604,
    "start_time": "2022-05-24T21:46:52.428Z"
   },
   {
    "duration": 3,
    "start_time": "2022-05-24T21:47:01.034Z"
   },
   {
    "duration": 107,
    "start_time": "2022-05-24T21:47:01.039Z"
   },
   {
    "duration": 1633,
    "start_time": "2022-05-24T21:47:01.148Z"
   },
   {
    "duration": 22,
    "start_time": "2022-05-24T21:47:02.783Z"
   },
   {
    "duration": 18,
    "start_time": "2022-05-24T21:47:02.808Z"
   },
   {
    "duration": 19,
    "start_time": "2022-05-24T21:47:02.828Z"
   },
   {
    "duration": 8,
    "start_time": "2022-05-24T21:47:02.849Z"
   },
   {
    "duration": 234,
    "start_time": "2022-05-24T21:47:02.858Z"
   },
   {
    "duration": 2272,
    "start_time": "2022-05-25T04:36:31.675Z"
   },
   {
    "duration": 54,
    "start_time": "2022-05-25T04:36:33.950Z"
   },
   {
    "duration": 27,
    "start_time": "2022-05-25T04:36:34.007Z"
   },
   {
    "duration": 22,
    "start_time": "2022-05-25T04:36:34.036Z"
   },
   {
    "duration": 16,
    "start_time": "2022-05-25T04:36:34.060Z"
   },
   {
    "duration": 11,
    "start_time": "2022-05-25T04:36:34.085Z"
   },
   {
    "duration": 785,
    "start_time": "2022-05-25T04:36:35.986Z"
   },
   {
    "duration": 747,
    "start_time": "2022-05-25T04:36:36.773Z"
   },
   {
    "duration": 528,
    "start_time": "2022-05-25T04:36:37.522Z"
   },
   {
    "duration": 4,
    "start_time": "2022-05-25T04:36:43.592Z"
   },
   {
    "duration": 5927,
    "start_time": "2022-05-25T04:36:50.201Z"
   },
   {
    "duration": 184,
    "start_time": "2022-05-25T04:42:15.821Z"
   },
   {
    "duration": 1291,
    "start_time": "2022-05-25T04:43:19.691Z"
   },
   {
    "duration": 1006,
    "start_time": "2022-05-25T04:43:28.510Z"
   },
   {
    "duration": 958,
    "start_time": "2022-05-25T04:44:16.956Z"
   },
   {
    "duration": 25,
    "start_time": "2022-05-25T04:45:04.024Z"
   },
   {
    "duration": 6,
    "start_time": "2022-05-25T04:45:36.262Z"
   },
   {
    "duration": 21,
    "start_time": "2022-05-25T04:45:42.883Z"
   },
   {
    "duration": 19,
    "start_time": "2022-05-25T04:46:22.270Z"
   },
   {
    "duration": 20,
    "start_time": "2022-05-25T04:46:26.999Z"
   },
   {
    "duration": 24,
    "start_time": "2022-05-25T04:46:33.207Z"
   },
   {
    "duration": 24,
    "start_time": "2022-05-25T04:46:43.690Z"
   },
   {
    "duration": 22,
    "start_time": "2022-05-25T04:46:48.288Z"
   },
   {
    "duration": 25,
    "start_time": "2022-05-25T04:47:00.624Z"
   },
   {
    "duration": 23,
    "start_time": "2022-05-25T04:48:59.708Z"
   },
   {
    "duration": 1457,
    "start_time": "2022-05-25T07:23:05.094Z"
   },
   {
    "duration": 3,
    "start_time": "2022-05-25T07:24:48.586Z"
   },
   {
    "duration": 113,
    "start_time": "2022-05-25T07:24:48.591Z"
   },
   {
    "duration": 23,
    "start_time": "2022-05-25T07:24:48.706Z"
   },
   {
    "duration": 4,
    "start_time": "2022-05-25T07:24:48.730Z"
   },
   {
    "duration": 10,
    "start_time": "2022-05-25T07:24:48.736Z"
   },
   {
    "duration": 7,
    "start_time": "2022-05-25T07:24:48.747Z"
   },
   {
    "duration": 807,
    "start_time": "2022-05-25T07:24:48.755Z"
   },
   {
    "duration": 801,
    "start_time": "2022-05-25T07:24:49.564Z"
   },
   {
    "duration": 546,
    "start_time": "2022-05-25T07:24:50.367Z"
   },
   {
    "duration": 4,
    "start_time": "2022-05-25T07:24:50.915Z"
   },
   {
    "duration": 6783,
    "start_time": "2022-05-25T07:24:50.921Z"
   },
   {
    "duration": 87,
    "start_time": "2022-05-25T07:24:57.707Z"
   },
   {
    "duration": 108,
    "start_time": "2022-05-25T07:24:57.797Z"
   },
   {
    "duration": 1272,
    "start_time": "2022-05-25T07:24:57.908Z"
   },
   {
    "duration": 842,
    "start_time": "2022-05-25T07:25:07.365Z"
   },
   {
    "duration": 893,
    "start_time": "2022-05-25T07:26:32.685Z"
   },
   {
    "duration": 20,
    "start_time": "2022-05-25T07:26:47.794Z"
   },
   {
    "duration": 735,
    "start_time": "2022-05-25T07:26:50.565Z"
   },
   {
    "duration": 69,
    "start_time": "2022-05-25T08:39:34.452Z"
   },
   {
    "duration": 1453,
    "start_time": "2022-05-25T08:39:44.693Z"
   },
   {
    "duration": 127,
    "start_time": "2022-05-25T08:39:46.149Z"
   },
   {
    "duration": 21,
    "start_time": "2022-05-25T08:39:46.278Z"
   },
   {
    "duration": 4,
    "start_time": "2022-05-25T08:39:46.301Z"
   },
   {
    "duration": 10,
    "start_time": "2022-05-25T08:39:46.308Z"
   },
   {
    "duration": 7,
    "start_time": "2022-05-25T08:39:46.320Z"
   },
   {
    "duration": 810,
    "start_time": "2022-05-25T08:39:46.329Z"
   },
   {
    "duration": 773,
    "start_time": "2022-05-25T08:39:47.141Z"
   },
   {
    "duration": 487,
    "start_time": "2022-05-25T08:39:47.916Z"
   },
   {
    "duration": 8,
    "start_time": "2022-05-25T08:39:48.405Z"
   },
   {
    "duration": 5700,
    "start_time": "2022-05-25T08:39:48.415Z"
   },
   {
    "duration": 3,
    "start_time": "2022-05-25T08:39:54.117Z"
   },
   {
    "duration": 94,
    "start_time": "2022-05-25T08:39:54.122Z"
   },
   {
    "duration": 1021,
    "start_time": "2022-05-25T08:39:54.221Z"
   },
   {
    "duration": 66812,
    "start_time": "2022-05-25T08:39:55.243Z"
   },
   {
    "duration": 17,
    "start_time": "2022-05-25T08:41:02.057Z"
   },
   {
    "duration": 769,
    "start_time": "2022-05-25T08:41:02.076Z"
   },
   {
    "duration": 5,
    "start_time": "2022-05-25T08:41:02.847Z"
   },
   {
    "duration": 18,
    "start_time": "2022-05-25T08:41:02.854Z"
   },
   {
    "duration": 7,
    "start_time": "2022-05-25T08:41:02.874Z"
   },
   {
    "duration": 517,
    "start_time": "2022-05-25T08:41:02.883Z"
   },
   {
    "duration": 14,
    "start_time": "2022-05-25T08:42:24.463Z"
   },
   {
    "duration": 1056,
    "start_time": "2022-05-25T08:42:59.961Z"
   },
   {
    "duration": 961,
    "start_time": "2022-05-25T08:43:06.480Z"
   },
   {
    "duration": 17,
    "start_time": "2022-05-25T08:43:18.321Z"
   },
   {
    "duration": 890,
    "start_time": "2022-05-25T08:43:26.499Z"
   },
   {
    "duration": 27,
    "start_time": "2022-05-25T08:43:27.391Z"
   },
   {
    "duration": 923,
    "start_time": "2022-05-25T08:43:36.671Z"
   },
   {
    "duration": 12,
    "start_time": "2022-05-25T08:43:39.328Z"
   },
   {
    "duration": 777,
    "start_time": "2022-05-25T08:43:54.392Z"
   },
   {
    "duration": 18,
    "start_time": "2022-05-25T08:43:57.581Z"
   },
   {
    "duration": 25,
    "start_time": "2022-05-25T08:45:41.457Z"
   },
   {
    "duration": 4,
    "start_time": "2022-05-25T08:47:29.855Z"
   },
   {
    "duration": 46,
    "start_time": "2022-05-25T08:47:29.861Z"
   },
   {
    "duration": 17,
    "start_time": "2022-05-25T08:47:29.909Z"
   },
   {
    "duration": 4,
    "start_time": "2022-05-25T08:47:29.928Z"
   },
   {
    "duration": 10,
    "start_time": "2022-05-25T08:47:29.934Z"
   },
   {
    "duration": 9,
    "start_time": "2022-05-25T08:47:29.945Z"
   },
   {
    "duration": 729,
    "start_time": "2022-05-25T08:47:29.956Z"
   },
   {
    "duration": 657,
    "start_time": "2022-05-25T08:47:30.687Z"
   },
   {
    "duration": 701,
    "start_time": "2022-05-25T08:47:31.347Z"
   },
   {
    "duration": 5,
    "start_time": "2022-05-25T08:47:32.050Z"
   },
   {
    "duration": 7056,
    "start_time": "2022-05-25T08:47:32.057Z"
   },
   {
    "duration": 4,
    "start_time": "2022-05-25T08:47:39.115Z"
   },
   {
    "duration": 97,
    "start_time": "2022-05-25T08:47:39.121Z"
   },
   {
    "duration": 1055,
    "start_time": "2022-05-25T08:47:39.221Z"
   },
   {
    "duration": 64750,
    "start_time": "2022-05-25T08:47:40.278Z"
   },
   {
    "duration": 17,
    "start_time": "2022-05-25T08:48:45.029Z"
   },
   {
    "duration": 19,
    "start_time": "2022-05-25T08:48:45.048Z"
   },
   {
    "duration": 829,
    "start_time": "2022-05-25T08:48:45.069Z"
   },
   {
    "duration": 12,
    "start_time": "2022-05-25T08:48:45.900Z"
   },
   {
    "duration": 15,
    "start_time": "2022-05-25T08:48:45.914Z"
   },
   {
    "duration": 7,
    "start_time": "2022-05-25T08:48:45.931Z"
   },
   {
    "duration": 274,
    "start_time": "2022-05-25T08:48:45.940Z"
   },
   {
    "duration": 19,
    "start_time": "2022-05-25T08:50:17.362Z"
   },
   {
    "duration": 3,
    "start_time": "2022-05-25T08:50:29.302Z"
   },
   {
    "duration": 44,
    "start_time": "2022-05-25T08:50:29.313Z"
   },
   {
    "duration": 17,
    "start_time": "2022-05-25T08:50:29.360Z"
   },
   {
    "duration": 5,
    "start_time": "2022-05-25T08:50:29.378Z"
   },
   {
    "duration": 15,
    "start_time": "2022-05-25T08:50:29.384Z"
   },
   {
    "duration": 15,
    "start_time": "2022-05-25T08:50:29.402Z"
   },
   {
    "duration": 699,
    "start_time": "2022-05-25T08:50:29.419Z"
   },
   {
    "duration": 788,
    "start_time": "2022-05-25T08:50:30.120Z"
   },
   {
    "duration": 497,
    "start_time": "2022-05-25T08:50:30.911Z"
   },
   {
    "duration": 5,
    "start_time": "2022-05-25T08:50:31.411Z"
   },
   {
    "duration": 7720,
    "start_time": "2022-05-25T08:50:31.418Z"
   },
   {
    "duration": 4,
    "start_time": "2022-05-25T08:50:39.213Z"
   },
   {
    "duration": 100,
    "start_time": "2022-05-25T08:50:39.219Z"
   },
   {
    "duration": 1106,
    "start_time": "2022-05-25T08:50:39.321Z"
   },
   {
    "duration": 68608,
    "start_time": "2022-05-25T08:50:40.431Z"
   },
   {
    "duration": 17,
    "start_time": "2022-05-25T08:51:49.041Z"
   },
   {
    "duration": 19,
    "start_time": "2022-05-25T08:51:49.060Z"
   },
   {
    "duration": 813,
    "start_time": "2022-05-25T08:51:49.080Z"
   },
   {
    "duration": 4,
    "start_time": "2022-05-25T08:51:49.894Z"
   },
   {
    "duration": 21,
    "start_time": "2022-05-25T08:51:49.900Z"
   },
   {
    "duration": 10,
    "start_time": "2022-05-25T08:51:49.923Z"
   },
   {
    "duration": 243,
    "start_time": "2022-05-25T08:51:49.935Z"
   }
  ],
  "kernelspec": {
   "display_name": "Python 3 (ipykernel)",
   "language": "python",
   "name": "python3"
  },
  "language_info": {
   "codemirror_mode": {
    "name": "ipython",
    "version": 3
   },
   "file_extension": ".py",
   "mimetype": "text/x-python",
   "name": "python",
   "nbconvert_exporter": "python",
   "pygments_lexer": "ipython3",
   "version": "3.9.7"
  },
  "toc": {
   "base_numbering": 1,
   "nav_menu": {},
   "number_sections": true,
   "sideBar": true,
   "skip_h1_title": true,
   "title_cell": "Содержание",
   "title_sidebar": "Contents",
   "toc_cell": true,
   "toc_position": {
    "height": "calc(100% - 180px)",
    "left": "10px",
    "top": "150px",
    "width": "358.917px"
   },
   "toc_section_display": true,
   "toc_window_display": true
  }
 },
 "nbformat": 4,
 "nbformat_minor": 2
}
