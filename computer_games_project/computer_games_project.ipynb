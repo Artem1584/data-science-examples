{
 "cells": [
  {
   "cell_type": "markdown",
   "id": "6b684408",
   "metadata": {},
   "source": [
    "Вы работаете в интернет-магазине «Стримчик», который продаёт по всему миру компьютерные игры. Из открытых источников доступны исторические данные о продажах игр, оценки пользователей и экспертов, жанры и платформы (например, Xbox или PlayStation). Вам нужно выявить определяющие успешность игры закономерности. Это позволит сделать ставку на потенциально популярный продукт и спланировать рекламные кампании. \n",
    "\n",
    "Перед вами данные до 2016 года. Представим, что сейчас декабрь 2016 г., и вы планируете кампанию на 2017-й. Нужно отработать принцип работы с данными. Неважно, прогнозируете ли вы продажи на 2017 год по данным 2016-го или же 2027-й — по данным 2026 года. \n",
    "\n",
    "В наборе данных попадается аббревиатура ESRB (Entertainment Software Rating Board) — это ассоциация, определяющая возрастной рейтинг компьютерных игр. ESRB оценивает игровой контент и присваивает ему подходящую возрастную категорию, например, «Для взрослых», «Для детей младшего возраста» или «Для подростков». \n",
    "\n",
    "Инструкция по выполнению проекта \n",
    "\n",
    "### Шаг 1. Откройте файл с данными и изучите общую информацию \n",
    "\n",
    "Путь к файлу: /datasets/games.csv. \n",
    "\n",
    "#### Шаг 2. Подготовьте данные \n",
    "\n",
    "Замените названия столбцов (приведите к нижнему регистру); \n",
    "\n",
    "Преобразуйте данные в нужные типы. Опишите, в каких столбцах заменили тип данных и почему; \n",
    "\n",
    "Обработайте пропуски при необходимости: \n",
    "\n",
    "Объясните, почему заполнили пропуски определённым образом или почему не стали это делать; \n",
    "\n",
    "Опишите причины, которые могли привести к пропускам; \n",
    "\n",
    "Обратите внимание на аббревиатуру 'tbd' в столбцах с рейтингом. Отдельно разберите это значение и опишите, как его обработать; \n",
    "\n",
    "Посчитайте суммарные продажи во всех регионах и запишите их в отдельный столбец. \n",
    "\n",
    "### Шаг 3. Проведите исследовательский анализ данных \n",
    "\n",
    "Посмотрите, сколько игр выпускалось в разные годы. Важны ли данные за все периоды? \n",
    "\n",
    "Посмотрите, как менялись продажи по платформам. Выберите платформы с наибольшими суммарными продажами и постройте распределение по годам. За какой характерный срок появляются новые и исчезают старые платформы? \n",
    "\n",
    "Возьмите данные за соответствующий актуальный период. Актуальный период определите самостоятельно в результате исследования предыдущих вопросов. Основной фактор — эти данные помогут построить прогноз на 2017 год. \n",
    "\n",
    "Не учитывайте в работе данные за предыдущие годы. \n",
    "\n",
    "Какие платформы лидируют по продажам, растут или падают? Выберите несколько потенциально прибыльных платформ. \n",
    "\n",
    "Постройте график «ящик с усами» по глобальным продажам игр в разбивке по платформам. Опишите результат. \n",
    "\n",
    "Посмотрите, как влияют на продажи внутри одной популярной платформы отзывы пользователей и критиков. Постройте диаграмму рассеяния и посчитайте корреляцию между отзывами и продажами. Сформулируйте выводы. \n",
    "\n",
    "Соотнесите выводы с продажами игр на других платформах. \n",
    "\n",
    "Посмотрите на общее распределение игр по жанрам. Что можно сказать о самых прибыльных жанрах? Выделяются ли жанры с высокими и низкими продажами? \n",
    "\n",
    "### Шаг 4. Составьте портрет пользователя каждого региона \n",
    "\n",
    "Определите для пользователя каждого региона (NA, EU, JP): \n",
    "\n",
    "Самые популярные платформы (топ-5). Опишите различия в долях продаж. \n",
    "\n",
    "Самые популярные жанры (топ-5). Поясните разницу. \n",
    "\n",
    "Влияет ли рейтинг ESRB на продажи в отдельном регионе? \n",
    "\n",
    "### Шаг 5. Проверьте гипотезы \n",
    "\n",
    "Средние пользовательские рейтинги платформ Xbox One и PC одинаковые; \n",
    "\n",
    "Средние пользовательские рейтинги жанров Action (англ. «действие», экшен-игры) и Sports (англ. «спортивные соревнования») разные. \n",
    "\n",
    "Задайте самостоятельно пороговое значение alpha. \n",
    "\n",
    "Поясните: \n",
    "\n",
    "Как вы сформулировали нулевую и альтернативную гипотезы; \n",
    "\n",
    "Какой критерий применили для проверки гипотез и почему. \n",
    "\n",
    "Шаг 6. Напишите общий вывод \n",
    "\n",
    "Оформление: Выполните задание в Jupyter Notebook. Заполните программный код в ячейках типа code, текстовые пояснения — в ячейках типа markdown. Примените форматирование и заголовки. \n",
    "\n",
    "### Описание данных \n",
    "\n",
    "Name — название игры \n",
    "\n",
    "Platform — платформа \n",
    "\n",
    "Year_of_Release — год выпуска \n",
    "\n",
    "Genre — жанр игры \n",
    "\n",
    "NA_sales — продажи в Северной Америке (миллионы проданных копий) \n",
    "\n",
    "EU_sales — продажи в Европе (миллионы проданных копий) \n",
    "\n",
    "JP_sales — продажи в Японии (миллионы проданных копий) \n",
    "\n",
    "Other_sales — продажи в других странах (миллионы проданных копий) \n",
    "\n",
    "Critic_Score — оценка критиков (максимум 100) \n",
    "\n",
    "User_Score — оценка пользователей (максимум 10) \n",
    "\n",
    "Rating — рейтинг от организации ESRB (англ. Entertainment Software Rating Board). Эта ассоциация определяет рейтинг компьютерных игр и присваивает им подходящую возрастную категорию. \n",
    "\n",
    "Данные за 2016 год могут быть неполными. \n",
    " "
   ]
  },
  {
   "cell_type": "code",
   "execution_count": 35,
   "id": "77b8e33c",
   "metadata": {},
   "outputs": [],
   "source": [
    "import pandas as pd\n",
    "from scipy import stats as st\n",
    "import numpy as np\n",
    "import matplotlib.pyplot as plt"
   ]
  },
  {
   "cell_type": "markdown",
   "id": "37202d2f",
   "metadata": {},
   "source": [
    "## Шаг 1. Откройте файл с данными и изучите общую информацию"
   ]
  },
  {
   "cell_type": "code",
   "execution_count": 36,
   "id": "88a1ab83",
   "metadata": {},
   "outputs": [
    {
     "name": "stdout",
     "output_type": "stream",
     "text": [
      "<class 'pandas.core.frame.DataFrame'>\n",
      "RangeIndex: 16715 entries, 0 to 16714\n",
      "Data columns (total 11 columns):\n",
      " #   Column           Non-Null Count  Dtype  \n",
      "---  ------           --------------  -----  \n",
      " 0   Name             16713 non-null  object \n",
      " 1   Platform         16715 non-null  object \n",
      " 2   Year_of_Release  16446 non-null  float64\n",
      " 3   Genre            16713 non-null  object \n",
      " 4   NA_sales         16715 non-null  float64\n",
      " 5   EU_sales         16715 non-null  float64\n",
      " 6   JP_sales         16715 non-null  float64\n",
      " 7   Other_sales      16715 non-null  float64\n",
      " 8   Critic_Score     8137 non-null   float64\n",
      " 9   User_Score       10014 non-null  object \n",
      " 10  Rating           9949 non-null   object \n",
      "dtypes: float64(6), object(5)\n",
      "memory usage: 1.4+ MB\n"
     ]
    },
    {
     "data": {
      "text/html": [
       "<div>\n",
       "<style scoped>\n",
       "    .dataframe tbody tr th:only-of-type {\n",
       "        vertical-align: middle;\n",
       "    }\n",
       "\n",
       "    .dataframe tbody tr th {\n",
       "        vertical-align: top;\n",
       "    }\n",
       "\n",
       "    .dataframe thead th {\n",
       "        text-align: right;\n",
       "    }\n",
       "</style>\n",
       "<table border=\"1\" class=\"dataframe\">\n",
       "  <thead>\n",
       "    <tr style=\"text-align: right;\">\n",
       "      <th></th>\n",
       "      <th>Name</th>\n",
       "      <th>Platform</th>\n",
       "      <th>Year_of_Release</th>\n",
       "      <th>Genre</th>\n",
       "      <th>NA_sales</th>\n",
       "      <th>EU_sales</th>\n",
       "      <th>JP_sales</th>\n",
       "      <th>Other_sales</th>\n",
       "      <th>Critic_Score</th>\n",
       "      <th>User_Score</th>\n",
       "      <th>Rating</th>\n",
       "    </tr>\n",
       "  </thead>\n",
       "  <tbody>\n",
       "    <tr>\n",
       "      <th>0</th>\n",
       "      <td>Wii Sports</td>\n",
       "      <td>Wii</td>\n",
       "      <td>2006.0</td>\n",
       "      <td>Sports</td>\n",
       "      <td>41.36</td>\n",
       "      <td>28.96</td>\n",
       "      <td>3.77</td>\n",
       "      <td>8.45</td>\n",
       "      <td>76.0</td>\n",
       "      <td>8</td>\n",
       "      <td>E</td>\n",
       "    </tr>\n",
       "    <tr>\n",
       "      <th>1</th>\n",
       "      <td>Super Mario Bros.</td>\n",
       "      <td>NES</td>\n",
       "      <td>1985.0</td>\n",
       "      <td>Platform</td>\n",
       "      <td>29.08</td>\n",
       "      <td>3.58</td>\n",
       "      <td>6.81</td>\n",
       "      <td>0.77</td>\n",
       "      <td>NaN</td>\n",
       "      <td>NaN</td>\n",
       "      <td>NaN</td>\n",
       "    </tr>\n",
       "    <tr>\n",
       "      <th>2</th>\n",
       "      <td>Mario Kart Wii</td>\n",
       "      <td>Wii</td>\n",
       "      <td>2008.0</td>\n",
       "      <td>Racing</td>\n",
       "      <td>15.68</td>\n",
       "      <td>12.76</td>\n",
       "      <td>3.79</td>\n",
       "      <td>3.29</td>\n",
       "      <td>82.0</td>\n",
       "      <td>8.3</td>\n",
       "      <td>E</td>\n",
       "    </tr>\n",
       "    <tr>\n",
       "      <th>3</th>\n",
       "      <td>Wii Sports Resort</td>\n",
       "      <td>Wii</td>\n",
       "      <td>2009.0</td>\n",
       "      <td>Sports</td>\n",
       "      <td>15.61</td>\n",
       "      <td>10.93</td>\n",
       "      <td>3.28</td>\n",
       "      <td>2.95</td>\n",
       "      <td>80.0</td>\n",
       "      <td>8</td>\n",
       "      <td>E</td>\n",
       "    </tr>\n",
       "    <tr>\n",
       "      <th>4</th>\n",
       "      <td>Pokemon Red/Pokemon Blue</td>\n",
       "      <td>GB</td>\n",
       "      <td>1996.0</td>\n",
       "      <td>Role-Playing</td>\n",
       "      <td>11.27</td>\n",
       "      <td>8.89</td>\n",
       "      <td>10.22</td>\n",
       "      <td>1.00</td>\n",
       "      <td>NaN</td>\n",
       "      <td>NaN</td>\n",
       "      <td>NaN</td>\n",
       "    </tr>\n",
       "    <tr>\n",
       "      <th>5</th>\n",
       "      <td>Tetris</td>\n",
       "      <td>GB</td>\n",
       "      <td>1989.0</td>\n",
       "      <td>Puzzle</td>\n",
       "      <td>23.20</td>\n",
       "      <td>2.26</td>\n",
       "      <td>4.22</td>\n",
       "      <td>0.58</td>\n",
       "      <td>NaN</td>\n",
       "      <td>NaN</td>\n",
       "      <td>NaN</td>\n",
       "    </tr>\n",
       "    <tr>\n",
       "      <th>6</th>\n",
       "      <td>New Super Mario Bros.</td>\n",
       "      <td>DS</td>\n",
       "      <td>2006.0</td>\n",
       "      <td>Platform</td>\n",
       "      <td>11.28</td>\n",
       "      <td>9.14</td>\n",
       "      <td>6.50</td>\n",
       "      <td>2.88</td>\n",
       "      <td>89.0</td>\n",
       "      <td>8.5</td>\n",
       "      <td>E</td>\n",
       "    </tr>\n",
       "    <tr>\n",
       "      <th>7</th>\n",
       "      <td>Wii Play</td>\n",
       "      <td>Wii</td>\n",
       "      <td>2006.0</td>\n",
       "      <td>Misc</td>\n",
       "      <td>13.96</td>\n",
       "      <td>9.18</td>\n",
       "      <td>2.93</td>\n",
       "      <td>2.84</td>\n",
       "      <td>58.0</td>\n",
       "      <td>6.6</td>\n",
       "      <td>E</td>\n",
       "    </tr>\n",
       "    <tr>\n",
       "      <th>8</th>\n",
       "      <td>New Super Mario Bros. Wii</td>\n",
       "      <td>Wii</td>\n",
       "      <td>2009.0</td>\n",
       "      <td>Platform</td>\n",
       "      <td>14.44</td>\n",
       "      <td>6.94</td>\n",
       "      <td>4.70</td>\n",
       "      <td>2.24</td>\n",
       "      <td>87.0</td>\n",
       "      <td>8.4</td>\n",
       "      <td>E</td>\n",
       "    </tr>\n",
       "    <tr>\n",
       "      <th>9</th>\n",
       "      <td>Duck Hunt</td>\n",
       "      <td>NES</td>\n",
       "      <td>1984.0</td>\n",
       "      <td>Shooter</td>\n",
       "      <td>26.93</td>\n",
       "      <td>0.63</td>\n",
       "      <td>0.28</td>\n",
       "      <td>0.47</td>\n",
       "      <td>NaN</td>\n",
       "      <td>NaN</td>\n",
       "      <td>NaN</td>\n",
       "    </tr>\n",
       "  </tbody>\n",
       "</table>\n",
       "</div>"
      ],
      "text/plain": [
       "                        Name Platform  Year_of_Release         Genre  \\\n",
       "0                 Wii Sports      Wii           2006.0        Sports   \n",
       "1          Super Mario Bros.      NES           1985.0      Platform   \n",
       "2             Mario Kart Wii      Wii           2008.0        Racing   \n",
       "3          Wii Sports Resort      Wii           2009.0        Sports   \n",
       "4   Pokemon Red/Pokemon Blue       GB           1996.0  Role-Playing   \n",
       "5                     Tetris       GB           1989.0        Puzzle   \n",
       "6      New Super Mario Bros.       DS           2006.0      Platform   \n",
       "7                   Wii Play      Wii           2006.0          Misc   \n",
       "8  New Super Mario Bros. Wii      Wii           2009.0      Platform   \n",
       "9                  Duck Hunt      NES           1984.0       Shooter   \n",
       "\n",
       "   NA_sales  EU_sales  JP_sales  Other_sales  Critic_Score User_Score Rating  \n",
       "0     41.36     28.96      3.77         8.45          76.0          8      E  \n",
       "1     29.08      3.58      6.81         0.77           NaN        NaN    NaN  \n",
       "2     15.68     12.76      3.79         3.29          82.0        8.3      E  \n",
       "3     15.61     10.93      3.28         2.95          80.0          8      E  \n",
       "4     11.27      8.89     10.22         1.00           NaN        NaN    NaN  \n",
       "5     23.20      2.26      4.22         0.58           NaN        NaN    NaN  \n",
       "6     11.28      9.14      6.50         2.88          89.0        8.5      E  \n",
       "7     13.96      9.18      2.93         2.84          58.0        6.6      E  \n",
       "8     14.44      6.94      4.70         2.24          87.0        8.4      E  \n",
       "9     26.93      0.63      0.28         0.47           NaN        NaN    NaN  "
      ]
     },
     "execution_count": 36,
     "metadata": {},
     "output_type": "execute_result"
    }
   ],
   "source": [
    "try:\n",
    "    df = pd.read_csv('games.csv') # для запуска кода локально\n",
    "except:\n",
    "    df = pd.read_csv('/datasets/games.csv') # для запуска кода в jupyter hub\n",
    "    \n",
    "df.info()\n",
    "df.head(10)"
   ]
  },
  {
   "cell_type": "markdown",
   "id": "f935b9aa",
   "metadata": {},
   "source": [
    "### Вывод:\n",
    "\n",
    "Назание столбцов записано в разных регистрах\n",
    "\n",
    "Есть пропущенные значения в разных столбцах\n",
    "\n",
    "\n"
   ]
  },
  {
   "cell_type": "markdown",
   "id": "15dc1833",
   "metadata": {},
   "source": [
    "### Шаг 2. Подготовьте данные \n",
    "\n",
    "Замените названия столбцов (приведите к нижнему регистру); \n",
    "\n",
    "Преобразуйте данные в нужные типы. Опишите, в каких столбцах заменили тип данных и почему; \n",
    "\n",
    "Обработайте пропуски при необходимости: \n",
    "\n",
    "Объясните, почему заполнили пропуски определённым образом или почему не стали это делать; \n",
    "\n",
    "Опишите причины, которые могли привести к пропускам; \n",
    "\n",
    "Обратите внимание на аббревиатуру 'tbd' в столбцах с рейтингом. Отдельно разберите это значение и опишите, как его обработать; \n",
    "\n",
    "Посчитайте суммарные продажи во всех регионах и запишите их в отдельный столбец. "
   ]
  },
  {
   "cell_type": "markdown",
   "id": "d46b40ec",
   "metadata": {},
   "source": [
    "#### Замените названия столбцов (приведите к нижнему регистру)"
   ]
  },
  {
   "cell_type": "code",
   "execution_count": 37,
   "id": "e9fc0621",
   "metadata": {},
   "outputs": [
    {
     "data": {
      "text/plain": [
       "Index(['name', 'platform', 'year_of_release', 'genre', 'na_sales', 'eu_sales',\n",
       "       'jp_sales', 'other_sales', 'critic_score', 'user_score', 'rating'],\n",
       "      dtype='object')"
      ]
     },
     "execution_count": 37,
     "metadata": {},
     "output_type": "execute_result"
    }
   ],
   "source": [
    "df.columns = ['name', 'platform', 'year_of_release', 'genre', 'na_sales', 'eu_sales', \n",
    "              'jp_sales', 'other_sales', 'critic_score', 'user_score', 'rating']\n",
    "df.columns"
   ]
  },
  {
   "cell_type": "markdown",
   "id": "6eb249f9",
   "metadata": {},
   "source": [
    "Изменил регистр в название столбцов"
   ]
  },
  {
   "cell_type": "markdown",
   "id": "2c029266",
   "metadata": {},
   "source": [
    "#### Обработайте пропуски при необходимости:\n",
    "\n",
    "Объясните, почему заполнили пропуски определённым образом или почему не стали это делать;\n",
    "\n",
    "Опишите причины, которые могли привести к пропускам;"
   ]
  },
  {
   "cell_type": "code",
   "execution_count": 38,
   "id": "7d38a058",
   "metadata": {},
   "outputs": [
    {
     "data": {
      "text/plain": [
       "name                  2\n",
       "platform              0\n",
       "year_of_release     269\n",
       "genre                 2\n",
       "na_sales              0\n",
       "eu_sales              0\n",
       "jp_sales              0\n",
       "other_sales           0\n",
       "critic_score       8578\n",
       "user_score         6701\n",
       "rating             6766\n",
       "dtype: int64"
      ]
     },
     "execution_count": 38,
     "metadata": {},
     "output_type": "execute_result"
    }
   ],
   "source": [
    "df.isna().sum()"
   ]
  },
  {
   "cell_type": "code",
   "execution_count": 39,
   "id": "e5e82728",
   "metadata": {},
   "outputs": [
    {
     "data": {
      "text/html": [
       "<div>\n",
       "<style scoped>\n",
       "    .dataframe tbody tr th:only-of-type {\n",
       "        vertical-align: middle;\n",
       "    }\n",
       "\n",
       "    .dataframe tbody tr th {\n",
       "        vertical-align: top;\n",
       "    }\n",
       "\n",
       "    .dataframe thead th {\n",
       "        text-align: right;\n",
       "    }\n",
       "</style>\n",
       "<table border=\"1\" class=\"dataframe\">\n",
       "  <thead>\n",
       "    <tr style=\"text-align: right;\">\n",
       "      <th></th>\n",
       "      <th>name</th>\n",
       "      <th>platform</th>\n",
       "      <th>year_of_release</th>\n",
       "      <th>genre</th>\n",
       "      <th>na_sales</th>\n",
       "      <th>eu_sales</th>\n",
       "      <th>jp_sales</th>\n",
       "      <th>other_sales</th>\n",
       "      <th>critic_score</th>\n",
       "      <th>user_score</th>\n",
       "      <th>rating</th>\n",
       "    </tr>\n",
       "  </thead>\n",
       "  <tbody>\n",
       "    <tr>\n",
       "      <th>659</th>\n",
       "      <td>NaN</td>\n",
       "      <td>GEN</td>\n",
       "      <td>1993.0</td>\n",
       "      <td>NaN</td>\n",
       "      <td>1.78</td>\n",
       "      <td>0.53</td>\n",
       "      <td>0.00</td>\n",
       "      <td>0.08</td>\n",
       "      <td>NaN</td>\n",
       "      <td>NaN</td>\n",
       "      <td>NaN</td>\n",
       "    </tr>\n",
       "    <tr>\n",
       "      <th>14244</th>\n",
       "      <td>NaN</td>\n",
       "      <td>GEN</td>\n",
       "      <td>1993.0</td>\n",
       "      <td>NaN</td>\n",
       "      <td>0.00</td>\n",
       "      <td>0.00</td>\n",
       "      <td>0.03</td>\n",
       "      <td>0.00</td>\n",
       "      <td>NaN</td>\n",
       "      <td>NaN</td>\n",
       "      <td>NaN</td>\n",
       "    </tr>\n",
       "  </tbody>\n",
       "</table>\n",
       "</div>"
      ],
      "text/plain": [
       "      name platform  year_of_release genre  na_sales  eu_sales  jp_sales  \\\n",
       "659    NaN      GEN           1993.0   NaN      1.78      0.53      0.00   \n",
       "14244  NaN      GEN           1993.0   NaN      0.00      0.00      0.03   \n",
       "\n",
       "       other_sales  critic_score user_score rating  \n",
       "659           0.08           NaN        NaN    NaN  \n",
       "14244         0.00           NaN        NaN    NaN  "
      ]
     },
     "execution_count": 39,
     "metadata": {},
     "output_type": "execute_result"
    }
   ],
   "source": [
    "df[df['name'].isna()]"
   ]
  },
  {
   "cell_type": "code",
   "execution_count": 40,
   "id": "0744b52e",
   "metadata": {},
   "outputs": [
    {
     "data": {
      "text/html": [
       "<div>\n",
       "<style scoped>\n",
       "    .dataframe tbody tr th:only-of-type {\n",
       "        vertical-align: middle;\n",
       "    }\n",
       "\n",
       "    .dataframe tbody tr th {\n",
       "        vertical-align: top;\n",
       "    }\n",
       "\n",
       "    .dataframe thead th {\n",
       "        text-align: right;\n",
       "    }\n",
       "</style>\n",
       "<table border=\"1\" class=\"dataframe\">\n",
       "  <thead>\n",
       "    <tr style=\"text-align: right;\">\n",
       "      <th></th>\n",
       "      <th>name</th>\n",
       "      <th>platform</th>\n",
       "      <th>year_of_release</th>\n",
       "      <th>genre</th>\n",
       "      <th>na_sales</th>\n",
       "      <th>eu_sales</th>\n",
       "      <th>jp_sales</th>\n",
       "      <th>other_sales</th>\n",
       "      <th>critic_score</th>\n",
       "      <th>user_score</th>\n",
       "      <th>rating</th>\n",
       "    </tr>\n",
       "  </thead>\n",
       "  <tbody>\n",
       "    <tr>\n",
       "      <th>183</th>\n",
       "      <td>Madden NFL 2004</td>\n",
       "      <td>PS2</td>\n",
       "      <td>NaN</td>\n",
       "      <td>Sports</td>\n",
       "      <td>4.26</td>\n",
       "      <td>0.26</td>\n",
       "      <td>0.01</td>\n",
       "      <td>0.71</td>\n",
       "      <td>94.0</td>\n",
       "      <td>8.5</td>\n",
       "      <td>E</td>\n",
       "    </tr>\n",
       "    <tr>\n",
       "      <th>377</th>\n",
       "      <td>FIFA Soccer 2004</td>\n",
       "      <td>PS2</td>\n",
       "      <td>NaN</td>\n",
       "      <td>Sports</td>\n",
       "      <td>0.59</td>\n",
       "      <td>2.36</td>\n",
       "      <td>0.04</td>\n",
       "      <td>0.51</td>\n",
       "      <td>84.0</td>\n",
       "      <td>6.4</td>\n",
       "      <td>E</td>\n",
       "    </tr>\n",
       "    <tr>\n",
       "      <th>456</th>\n",
       "      <td>LEGO Batman: The Videogame</td>\n",
       "      <td>Wii</td>\n",
       "      <td>NaN</td>\n",
       "      <td>Action</td>\n",
       "      <td>1.80</td>\n",
       "      <td>0.97</td>\n",
       "      <td>0.00</td>\n",
       "      <td>0.29</td>\n",
       "      <td>74.0</td>\n",
       "      <td>7.9</td>\n",
       "      <td>E10+</td>\n",
       "    </tr>\n",
       "    <tr>\n",
       "      <th>475</th>\n",
       "      <td>wwe Smackdown vs. Raw 2006</td>\n",
       "      <td>PS2</td>\n",
       "      <td>NaN</td>\n",
       "      <td>Fighting</td>\n",
       "      <td>1.57</td>\n",
       "      <td>1.02</td>\n",
       "      <td>0.00</td>\n",
       "      <td>0.41</td>\n",
       "      <td>NaN</td>\n",
       "      <td>NaN</td>\n",
       "      <td>NaN</td>\n",
       "    </tr>\n",
       "    <tr>\n",
       "      <th>609</th>\n",
       "      <td>Space Invaders</td>\n",
       "      <td>2600</td>\n",
       "      <td>NaN</td>\n",
       "      <td>Shooter</td>\n",
       "      <td>2.36</td>\n",
       "      <td>0.14</td>\n",
       "      <td>0.00</td>\n",
       "      <td>0.03</td>\n",
       "      <td>NaN</td>\n",
       "      <td>NaN</td>\n",
       "      <td>NaN</td>\n",
       "    </tr>\n",
       "    <tr>\n",
       "      <th>...</th>\n",
       "      <td>...</td>\n",
       "      <td>...</td>\n",
       "      <td>...</td>\n",
       "      <td>...</td>\n",
       "      <td>...</td>\n",
       "      <td>...</td>\n",
       "      <td>...</td>\n",
       "      <td>...</td>\n",
       "      <td>...</td>\n",
       "      <td>...</td>\n",
       "      <td>...</td>\n",
       "    </tr>\n",
       "    <tr>\n",
       "      <th>16373</th>\n",
       "      <td>PDC World Championship Darts 2008</td>\n",
       "      <td>PSP</td>\n",
       "      <td>NaN</td>\n",
       "      <td>Sports</td>\n",
       "      <td>0.01</td>\n",
       "      <td>0.00</td>\n",
       "      <td>0.00</td>\n",
       "      <td>0.00</td>\n",
       "      <td>43.0</td>\n",
       "      <td>tbd</td>\n",
       "      <td>E10+</td>\n",
       "    </tr>\n",
       "    <tr>\n",
       "      <th>16405</th>\n",
       "      <td>Freaky Flyers</td>\n",
       "      <td>GC</td>\n",
       "      <td>NaN</td>\n",
       "      <td>Racing</td>\n",
       "      <td>0.01</td>\n",
       "      <td>0.00</td>\n",
       "      <td>0.00</td>\n",
       "      <td>0.00</td>\n",
       "      <td>69.0</td>\n",
       "      <td>6.5</td>\n",
       "      <td>T</td>\n",
       "    </tr>\n",
       "    <tr>\n",
       "      <th>16448</th>\n",
       "      <td>Inversion</td>\n",
       "      <td>PC</td>\n",
       "      <td>NaN</td>\n",
       "      <td>Shooter</td>\n",
       "      <td>0.01</td>\n",
       "      <td>0.00</td>\n",
       "      <td>0.00</td>\n",
       "      <td>0.00</td>\n",
       "      <td>59.0</td>\n",
       "      <td>6.7</td>\n",
       "      <td>M</td>\n",
       "    </tr>\n",
       "    <tr>\n",
       "      <th>16458</th>\n",
       "      <td>Hakuouki: Shinsengumi Kitan</td>\n",
       "      <td>PS3</td>\n",
       "      <td>NaN</td>\n",
       "      <td>Adventure</td>\n",
       "      <td>0.01</td>\n",
       "      <td>0.00</td>\n",
       "      <td>0.00</td>\n",
       "      <td>0.00</td>\n",
       "      <td>NaN</td>\n",
       "      <td>NaN</td>\n",
       "      <td>NaN</td>\n",
       "    </tr>\n",
       "    <tr>\n",
       "      <th>16522</th>\n",
       "      <td>Virtua Quest</td>\n",
       "      <td>GC</td>\n",
       "      <td>NaN</td>\n",
       "      <td>Role-Playing</td>\n",
       "      <td>0.01</td>\n",
       "      <td>0.00</td>\n",
       "      <td>0.00</td>\n",
       "      <td>0.00</td>\n",
       "      <td>55.0</td>\n",
       "      <td>5.5</td>\n",
       "      <td>T</td>\n",
       "    </tr>\n",
       "  </tbody>\n",
       "</table>\n",
       "<p>269 rows × 11 columns</p>\n",
       "</div>"
      ],
      "text/plain": [
       "                                    name platform  year_of_release  \\\n",
       "183                      Madden NFL 2004      PS2              NaN   \n",
       "377                     FIFA Soccer 2004      PS2              NaN   \n",
       "456           LEGO Batman: The Videogame      Wii              NaN   \n",
       "475           wwe Smackdown vs. Raw 2006      PS2              NaN   \n",
       "609                       Space Invaders     2600              NaN   \n",
       "...                                  ...      ...              ...   \n",
       "16373  PDC World Championship Darts 2008      PSP              NaN   \n",
       "16405                      Freaky Flyers       GC              NaN   \n",
       "16448                          Inversion       PC              NaN   \n",
       "16458        Hakuouki: Shinsengumi Kitan      PS3              NaN   \n",
       "16522                       Virtua Quest       GC              NaN   \n",
       "\n",
       "              genre  na_sales  eu_sales  jp_sales  other_sales  critic_score  \\\n",
       "183          Sports      4.26      0.26      0.01         0.71          94.0   \n",
       "377          Sports      0.59      2.36      0.04         0.51          84.0   \n",
       "456          Action      1.80      0.97      0.00         0.29          74.0   \n",
       "475        Fighting      1.57      1.02      0.00         0.41           NaN   \n",
       "609         Shooter      2.36      0.14      0.00         0.03           NaN   \n",
       "...             ...       ...       ...       ...          ...           ...   \n",
       "16373        Sports      0.01      0.00      0.00         0.00          43.0   \n",
       "16405        Racing      0.01      0.00      0.00         0.00          69.0   \n",
       "16448       Shooter      0.01      0.00      0.00         0.00          59.0   \n",
       "16458     Adventure      0.01      0.00      0.00         0.00           NaN   \n",
       "16522  Role-Playing      0.01      0.00      0.00         0.00          55.0   \n",
       "\n",
       "      user_score rating  \n",
       "183          8.5      E  \n",
       "377          6.4      E  \n",
       "456          7.9   E10+  \n",
       "475          NaN    NaN  \n",
       "609          NaN    NaN  \n",
       "...          ...    ...  \n",
       "16373        tbd   E10+  \n",
       "16405        6.5      T  \n",
       "16448        6.7      M  \n",
       "16458        NaN    NaN  \n",
       "16522        5.5      T  \n",
       "\n",
       "[269 rows x 11 columns]"
      ]
     },
     "execution_count": 40,
     "metadata": {},
     "output_type": "execute_result"
    }
   ],
   "source": [
    "df[df['year_of_release'].isna()]"
   ]
  },
  {
   "cell_type": "code",
   "execution_count": 41,
   "id": "be0bd72b",
   "metadata": {},
   "outputs": [
    {
     "data": {
      "text/plain": [
       "0"
      ]
     },
     "execution_count": 41,
     "metadata": {},
     "output_type": "execute_result"
    }
   ],
   "source": [
    "df.duplicated().sum() \n",
    "# дубликатов нет"
   ]
  },
  {
   "cell_type": "code",
   "execution_count": 42,
   "id": "084ebe5c",
   "metadata": {},
   "outputs": [
    {
     "data": {
      "text/plain": [
       "name                  0\n",
       "platform              0\n",
       "year_of_release       0\n",
       "genre                 0\n",
       "na_sales              0\n",
       "eu_sales              0\n",
       "jp_sales              0\n",
       "other_sales           0\n",
       "critic_score       8461\n",
       "user_score         6605\n",
       "rating             6676\n",
       "dtype: int64"
      ]
     },
     "execution_count": 42,
     "metadata": {},
     "output_type": "execute_result"
    }
   ],
   "source": [
    "df.dropna(subset = ['name', 'year_of_release'],inplace = True)\n",
    "df.isna().sum()"
   ]
  },
  {
   "cell_type": "code",
   "execution_count": 43,
   "id": "fb50fdb0",
   "metadata": {},
   "outputs": [
    {
     "data": {
      "text/plain": [
       "name                  0\n",
       "platform              0\n",
       "year_of_release       0\n",
       "genre                 0\n",
       "na_sales              0\n",
       "eu_sales              0\n",
       "jp_sales              0\n",
       "other_sales           0\n",
       "critic_score       8461\n",
       "user_score         6605\n",
       "rating                0\n",
       "dtype: int64"
      ]
     },
     "execution_count": 43,
     "metadata": {},
     "output_type": "execute_result"
    }
   ],
   "source": [
    "df['rating'] = df['rating'].fillna('no_rating')\n",
    "df.isna().sum()"
   ]
  },
  {
   "cell_type": "markdown",
   "id": "216d8375",
   "metadata": {},
   "source": [
    "#### Преобразуйте данные в нужные типы. Опишите, в каких столбцах заменили тип данных и почему;"
   ]
  },
  {
   "cell_type": "code",
   "execution_count": 44,
   "id": "d5fc94e1",
   "metadata": {},
   "outputs": [
    {
     "data": {
      "text/html": [
       "<div>\n",
       "<style scoped>\n",
       "    .dataframe tbody tr th:only-of-type {\n",
       "        vertical-align: middle;\n",
       "    }\n",
       "\n",
       "    .dataframe tbody tr th {\n",
       "        vertical-align: top;\n",
       "    }\n",
       "\n",
       "    .dataframe thead th {\n",
       "        text-align: right;\n",
       "    }\n",
       "</style>\n",
       "<table border=\"1\" class=\"dataframe\">\n",
       "  <thead>\n",
       "    <tr style=\"text-align: right;\">\n",
       "      <th></th>\n",
       "      <th>name</th>\n",
       "      <th>platform</th>\n",
       "      <th>year_of_release</th>\n",
       "      <th>genre</th>\n",
       "      <th>na_sales</th>\n",
       "      <th>eu_sales</th>\n",
       "      <th>jp_sales</th>\n",
       "      <th>other_sales</th>\n",
       "      <th>critic_score</th>\n",
       "      <th>user_score</th>\n",
       "      <th>rating</th>\n",
       "    </tr>\n",
       "  </thead>\n",
       "  <tbody>\n",
       "    <tr>\n",
       "      <th>0</th>\n",
       "      <td>Wii Sports</td>\n",
       "      <td>Wii</td>\n",
       "      <td>2006</td>\n",
       "      <td>Sports</td>\n",
       "      <td>41.36</td>\n",
       "      <td>28.96</td>\n",
       "      <td>3.77</td>\n",
       "      <td>8.45</td>\n",
       "      <td>76.0</td>\n",
       "      <td>8</td>\n",
       "      <td>E</td>\n",
       "    </tr>\n",
       "    <tr>\n",
       "      <th>1</th>\n",
       "      <td>Super Mario Bros.</td>\n",
       "      <td>NES</td>\n",
       "      <td>1985</td>\n",
       "      <td>Platform</td>\n",
       "      <td>29.08</td>\n",
       "      <td>3.58</td>\n",
       "      <td>6.81</td>\n",
       "      <td>0.77</td>\n",
       "      <td>NaN</td>\n",
       "      <td>NaN</td>\n",
       "      <td>no_rating</td>\n",
       "    </tr>\n",
       "    <tr>\n",
       "      <th>2</th>\n",
       "      <td>Mario Kart Wii</td>\n",
       "      <td>Wii</td>\n",
       "      <td>2008</td>\n",
       "      <td>Racing</td>\n",
       "      <td>15.68</td>\n",
       "      <td>12.76</td>\n",
       "      <td>3.79</td>\n",
       "      <td>3.29</td>\n",
       "      <td>82.0</td>\n",
       "      <td>8.3</td>\n",
       "      <td>E</td>\n",
       "    </tr>\n",
       "    <tr>\n",
       "      <th>3</th>\n",
       "      <td>Wii Sports Resort</td>\n",
       "      <td>Wii</td>\n",
       "      <td>2009</td>\n",
       "      <td>Sports</td>\n",
       "      <td>15.61</td>\n",
       "      <td>10.93</td>\n",
       "      <td>3.28</td>\n",
       "      <td>2.95</td>\n",
       "      <td>80.0</td>\n",
       "      <td>8</td>\n",
       "      <td>E</td>\n",
       "    </tr>\n",
       "    <tr>\n",
       "      <th>4</th>\n",
       "      <td>Pokemon Red/Pokemon Blue</td>\n",
       "      <td>GB</td>\n",
       "      <td>1996</td>\n",
       "      <td>Role-Playing</td>\n",
       "      <td>11.27</td>\n",
       "      <td>8.89</td>\n",
       "      <td>10.22</td>\n",
       "      <td>1.00</td>\n",
       "      <td>NaN</td>\n",
       "      <td>NaN</td>\n",
       "      <td>no_rating</td>\n",
       "    </tr>\n",
       "  </tbody>\n",
       "</table>\n",
       "</div>"
      ],
      "text/plain": [
       "                       name platform  year_of_release         genre  na_sales  \\\n",
       "0                Wii Sports      Wii             2006        Sports     41.36   \n",
       "1         Super Mario Bros.      NES             1985      Platform     29.08   \n",
       "2            Mario Kart Wii      Wii             2008        Racing     15.68   \n",
       "3         Wii Sports Resort      Wii             2009        Sports     15.61   \n",
       "4  Pokemon Red/Pokemon Blue       GB             1996  Role-Playing     11.27   \n",
       "\n",
       "   eu_sales  jp_sales  other_sales  critic_score user_score     rating  \n",
       "0     28.96      3.77         8.45          76.0          8          E  \n",
       "1      3.58      6.81         0.77           NaN        NaN  no_rating  \n",
       "2     12.76      3.79         3.29          82.0        8.3          E  \n",
       "3     10.93      3.28         2.95          80.0          8          E  \n",
       "4      8.89     10.22         1.00           NaN        NaN  no_rating  "
      ]
     },
     "execution_count": 44,
     "metadata": {},
     "output_type": "execute_result"
    }
   ],
   "source": [
    "df['year_of_release'] = df['year_of_release'].astype('int')\n",
    "df.head(5)"
   ]
  },
  {
   "cell_type": "markdown",
   "id": "7c3ff726",
   "metadata": {},
   "source": [
    "Данные в столбце год выпуска привел к типу int"
   ]
  },
  {
   "cell_type": "markdown",
   "id": "4cb39178",
   "metadata": {},
   "source": [
    "#### Обратите внимание на аббревиатуру 'tbd' в столбцах с рейтингом. Отдельно разберите это значение и опишите, как его обработать\n",
    "\n",
    "To Be Determined - нашел в интернете это сокращение. Думаю это что оценка еще не определена или не хватило оценок для расчета оценок пользователя. Исправлю это сокращение на пропущенное значение. "
   ]
  },
  {
   "cell_type": "code",
   "execution_count": 45,
   "id": "91cb5daa",
   "metadata": {},
   "outputs": [
    {
     "data": {
      "text/plain": [
       "0      2376\n",
       "7.8     322\n",
       "8       285\n",
       "8.2     276\n",
       "8.3     252\n",
       "       ... \n",
       "0.5       2\n",
       "0.6       2\n",
       "0.9       2\n",
       "0         1\n",
       "9.7       1\n",
       "Name: user_score, Length: 96, dtype: int64"
      ]
     },
     "execution_count": 45,
     "metadata": {},
     "output_type": "execute_result"
    }
   ],
   "source": [
    "df['user_score'] = df['user_score'].replace('tbd', 0) \n",
    "df['user_score'].value_counts()"
   ]
  },
  {
   "cell_type": "markdown",
   "id": "6a334946",
   "metadata": {},
   "source": [
    "##### Посчитайте суммарные продажи во всех регионах и запишите их в отдельный столбец."
   ]
  },
  {
   "cell_type": "code",
   "execution_count": 46,
   "id": "0cf3691b",
   "metadata": {
    "scrolled": true
   },
   "outputs": [
    {
     "data": {
      "text/html": [
       "<div>\n",
       "<style scoped>\n",
       "    .dataframe tbody tr th:only-of-type {\n",
       "        vertical-align: middle;\n",
       "    }\n",
       "\n",
       "    .dataframe tbody tr th {\n",
       "        vertical-align: top;\n",
       "    }\n",
       "\n",
       "    .dataframe thead th {\n",
       "        text-align: right;\n",
       "    }\n",
       "</style>\n",
       "<table border=\"1\" class=\"dataframe\">\n",
       "  <thead>\n",
       "    <tr style=\"text-align: right;\">\n",
       "      <th></th>\n",
       "      <th>name</th>\n",
       "      <th>platform</th>\n",
       "      <th>year_of_release</th>\n",
       "      <th>genre</th>\n",
       "      <th>na_sales</th>\n",
       "      <th>eu_sales</th>\n",
       "      <th>jp_sales</th>\n",
       "      <th>other_sales</th>\n",
       "      <th>critic_score</th>\n",
       "      <th>user_score</th>\n",
       "      <th>rating</th>\n",
       "      <th>all_sales</th>\n",
       "    </tr>\n",
       "  </thead>\n",
       "  <tbody>\n",
       "    <tr>\n",
       "      <th>0</th>\n",
       "      <td>Wii Sports</td>\n",
       "      <td>Wii</td>\n",
       "      <td>2006</td>\n",
       "      <td>Sports</td>\n",
       "      <td>41.36</td>\n",
       "      <td>28.96</td>\n",
       "      <td>3.77</td>\n",
       "      <td>8.45</td>\n",
       "      <td>76.0</td>\n",
       "      <td>8</td>\n",
       "      <td>E</td>\n",
       "      <td>82.54</td>\n",
       "    </tr>\n",
       "    <tr>\n",
       "      <th>1</th>\n",
       "      <td>Super Mario Bros.</td>\n",
       "      <td>NES</td>\n",
       "      <td>1985</td>\n",
       "      <td>Platform</td>\n",
       "      <td>29.08</td>\n",
       "      <td>3.58</td>\n",
       "      <td>6.81</td>\n",
       "      <td>0.77</td>\n",
       "      <td>NaN</td>\n",
       "      <td>NaN</td>\n",
       "      <td>no_rating</td>\n",
       "      <td>40.24</td>\n",
       "    </tr>\n",
       "    <tr>\n",
       "      <th>2</th>\n",
       "      <td>Mario Kart Wii</td>\n",
       "      <td>Wii</td>\n",
       "      <td>2008</td>\n",
       "      <td>Racing</td>\n",
       "      <td>15.68</td>\n",
       "      <td>12.76</td>\n",
       "      <td>3.79</td>\n",
       "      <td>3.29</td>\n",
       "      <td>82.0</td>\n",
       "      <td>8.3</td>\n",
       "      <td>E</td>\n",
       "      <td>35.52</td>\n",
       "    </tr>\n",
       "    <tr>\n",
       "      <th>3</th>\n",
       "      <td>Wii Sports Resort</td>\n",
       "      <td>Wii</td>\n",
       "      <td>2009</td>\n",
       "      <td>Sports</td>\n",
       "      <td>15.61</td>\n",
       "      <td>10.93</td>\n",
       "      <td>3.28</td>\n",
       "      <td>2.95</td>\n",
       "      <td>80.0</td>\n",
       "      <td>8</td>\n",
       "      <td>E</td>\n",
       "      <td>32.77</td>\n",
       "    </tr>\n",
       "    <tr>\n",
       "      <th>4</th>\n",
       "      <td>Pokemon Red/Pokemon Blue</td>\n",
       "      <td>GB</td>\n",
       "      <td>1996</td>\n",
       "      <td>Role-Playing</td>\n",
       "      <td>11.27</td>\n",
       "      <td>8.89</td>\n",
       "      <td>10.22</td>\n",
       "      <td>1.00</td>\n",
       "      <td>NaN</td>\n",
       "      <td>NaN</td>\n",
       "      <td>no_rating</td>\n",
       "      <td>31.38</td>\n",
       "    </tr>\n",
       "  </tbody>\n",
       "</table>\n",
       "</div>"
      ],
      "text/plain": [
       "                       name platform  year_of_release         genre  na_sales  \\\n",
       "0                Wii Sports      Wii             2006        Sports     41.36   \n",
       "1         Super Mario Bros.      NES             1985      Platform     29.08   \n",
       "2            Mario Kart Wii      Wii             2008        Racing     15.68   \n",
       "3         Wii Sports Resort      Wii             2009        Sports     15.61   \n",
       "4  Pokemon Red/Pokemon Blue       GB             1996  Role-Playing     11.27   \n",
       "\n",
       "   eu_sales  jp_sales  other_sales  critic_score user_score     rating  \\\n",
       "0     28.96      3.77         8.45          76.0          8          E   \n",
       "1      3.58      6.81         0.77           NaN        NaN  no_rating   \n",
       "2     12.76      3.79         3.29          82.0        8.3          E   \n",
       "3     10.93      3.28         2.95          80.0          8          E   \n",
       "4      8.89     10.22         1.00           NaN        NaN  no_rating   \n",
       "\n",
       "   all_sales  \n",
       "0      82.54  \n",
       "1      40.24  \n",
       "2      35.52  \n",
       "3      32.77  \n",
       "4      31.38  "
      ]
     },
     "execution_count": 46,
     "metadata": {},
     "output_type": "execute_result"
    }
   ],
   "source": [
    "df['all_sales'] = df['na_sales'] + df['eu_sales'] + df['jp_sales'] + df['other_sales']\n",
    "df.head(5)"
   ]
  },
  {
   "cell_type": "markdown",
   "id": "17f847ee",
   "metadata": {},
   "source": [
    "Посчитал суммарные продажи по всем регионал и добавил в столбец 'all_sales'"
   ]
  },
  {
   "cell_type": "markdown",
   "id": "1b7f0632",
   "metadata": {},
   "source": [
    "### Вывод:\n",
    "\n",
    "-заменил названия в столбцах \n",
    "\n",
    "-строки с пропущнным значение в годе выпуска, жанре удалил\n",
    "\n",
    "-преобразоват тип данных в годе выпуска к int\n",
    "\n",
    "-посчитал суммарные продажи по всем регионал и доавил в столбец 'all_sales'"
   ]
  },
  {
   "cell_type": "markdown",
   "id": "89e0ae04",
   "metadata": {},
   "source": [
    "### Шаг 3. Проведите исследовательский анализ данных \n",
    "\n",
    "Посмотрите, сколько игр выпускалось в разные годы. Важны ли данные за все периоды? \n",
    "\n",
    "Посмотрите, как менялись продажи по платформам. Выберите платформы с наибольшими суммарными продажами и постройте распределение по годам. За какой характерный срок появляются новые и исчезают старые платформы? \n",
    "\n",
    "Возьмите данные за соответствующий актуальный период. Актуальный период определите самостоятельно в результате исследования предыдущих вопросов. Основной фактор — эти данные помогут построить прогноз на 2017 год. \n",
    "\n",
    "Не учитывайте в работе данные за предыдущие годы. \n",
    "\n",
    "Какие платформы лидируют по продажам, растут или падают? Выберите несколько потенциально прибыльных платформ. \n",
    "\n",
    "Постройте график «ящик с усами» по глобальным продажам игр в разбивке по платформам. Опишите результат. \n",
    "\n",
    "Посмотрите, как влияют на продажи внутри одной популярной платформы отзывы пользователей и критиков. Постройте диаграмму рассеяния и посчитайте корреляцию между отзывами и продажами. Сформулируйте выводы. \n",
    "\n",
    "Соотнесите выводы с продажами игр на других платформах. \n",
    "\n",
    "Посмотрите на общее распределение игр по жанрам. Что можно сказать о самых прибыльных жанрах? Выделяются ли жанры с высокими и низкими продажами? "
   ]
  },
  {
   "cell_type": "code",
   "execution_count": 47,
   "id": "045091d7",
   "metadata": {},
   "outputs": [
    {
     "data": {
      "text/html": [
       "<div>\n",
       "<style scoped>\n",
       "    .dataframe tbody tr th:only-of-type {\n",
       "        vertical-align: middle;\n",
       "    }\n",
       "\n",
       "    .dataframe tbody tr th {\n",
       "        vertical-align: top;\n",
       "    }\n",
       "\n",
       "    .dataframe thead th {\n",
       "        text-align: right;\n",
       "    }\n",
       "</style>\n",
       "<table border=\"1\" class=\"dataframe\">\n",
       "  <thead>\n",
       "    <tr style=\"text-align: right;\">\n",
       "      <th></th>\n",
       "      <th>name</th>\n",
       "      <th>platform</th>\n",
       "      <th>year_of_release</th>\n",
       "      <th>genre</th>\n",
       "      <th>na_sales</th>\n",
       "      <th>eu_sales</th>\n",
       "      <th>jp_sales</th>\n",
       "      <th>other_sales</th>\n",
       "      <th>critic_score</th>\n",
       "      <th>user_score</th>\n",
       "      <th>rating</th>\n",
       "      <th>all_sales</th>\n",
       "    </tr>\n",
       "  </thead>\n",
       "  <tbody>\n",
       "    <tr>\n",
       "      <th>0</th>\n",
       "      <td>Wii Sports</td>\n",
       "      <td>Wii</td>\n",
       "      <td>2006</td>\n",
       "      <td>Sports</td>\n",
       "      <td>41.36</td>\n",
       "      <td>28.96</td>\n",
       "      <td>3.77</td>\n",
       "      <td>8.45</td>\n",
       "      <td>76.0</td>\n",
       "      <td>8</td>\n",
       "      <td>E</td>\n",
       "      <td>82.54</td>\n",
       "    </tr>\n",
       "    <tr>\n",
       "      <th>1</th>\n",
       "      <td>Super Mario Bros.</td>\n",
       "      <td>NES</td>\n",
       "      <td>1985</td>\n",
       "      <td>Platform</td>\n",
       "      <td>29.08</td>\n",
       "      <td>3.58</td>\n",
       "      <td>6.81</td>\n",
       "      <td>0.77</td>\n",
       "      <td>NaN</td>\n",
       "      <td>NaN</td>\n",
       "      <td>no_rating</td>\n",
       "      <td>40.24</td>\n",
       "    </tr>\n",
       "    <tr>\n",
       "      <th>2</th>\n",
       "      <td>Mario Kart Wii</td>\n",
       "      <td>Wii</td>\n",
       "      <td>2008</td>\n",
       "      <td>Racing</td>\n",
       "      <td>15.68</td>\n",
       "      <td>12.76</td>\n",
       "      <td>3.79</td>\n",
       "      <td>3.29</td>\n",
       "      <td>82.0</td>\n",
       "      <td>8.3</td>\n",
       "      <td>E</td>\n",
       "      <td>35.52</td>\n",
       "    </tr>\n",
       "    <tr>\n",
       "      <th>3</th>\n",
       "      <td>Wii Sports Resort</td>\n",
       "      <td>Wii</td>\n",
       "      <td>2009</td>\n",
       "      <td>Sports</td>\n",
       "      <td>15.61</td>\n",
       "      <td>10.93</td>\n",
       "      <td>3.28</td>\n",
       "      <td>2.95</td>\n",
       "      <td>80.0</td>\n",
       "      <td>8</td>\n",
       "      <td>E</td>\n",
       "      <td>32.77</td>\n",
       "    </tr>\n",
       "    <tr>\n",
       "      <th>4</th>\n",
       "      <td>Pokemon Red/Pokemon Blue</td>\n",
       "      <td>GB</td>\n",
       "      <td>1996</td>\n",
       "      <td>Role-Playing</td>\n",
       "      <td>11.27</td>\n",
       "      <td>8.89</td>\n",
       "      <td>10.22</td>\n",
       "      <td>1.00</td>\n",
       "      <td>NaN</td>\n",
       "      <td>NaN</td>\n",
       "      <td>no_rating</td>\n",
       "      <td>31.38</td>\n",
       "    </tr>\n",
       "  </tbody>\n",
       "</table>\n",
       "</div>"
      ],
      "text/plain": [
       "                       name platform  year_of_release         genre  na_sales  \\\n",
       "0                Wii Sports      Wii             2006        Sports     41.36   \n",
       "1         Super Mario Bros.      NES             1985      Platform     29.08   \n",
       "2            Mario Kart Wii      Wii             2008        Racing     15.68   \n",
       "3         Wii Sports Resort      Wii             2009        Sports     15.61   \n",
       "4  Pokemon Red/Pokemon Blue       GB             1996  Role-Playing     11.27   \n",
       "\n",
       "   eu_sales  jp_sales  other_sales  critic_score user_score     rating  \\\n",
       "0     28.96      3.77         8.45          76.0          8          E   \n",
       "1      3.58      6.81         0.77           NaN        NaN  no_rating   \n",
       "2     12.76      3.79         3.29          82.0        8.3          E   \n",
       "3     10.93      3.28         2.95          80.0          8          E   \n",
       "4      8.89     10.22         1.00           NaN        NaN  no_rating   \n",
       "\n",
       "   all_sales  \n",
       "0      82.54  \n",
       "1      40.24  \n",
       "2      35.52  \n",
       "3      32.77  \n",
       "4      31.38  "
      ]
     },
     "execution_count": 47,
     "metadata": {},
     "output_type": "execute_result"
    }
   ],
   "source": [
    "df.head(5)"
   ]
  },
  {
   "cell_type": "markdown",
   "id": "3e8da7c6",
   "metadata": {},
   "source": [
    "#### Посмотрите, сколько игр выпускалось в разные годы. Важны ли данные за все периоды?"
   ]
  },
  {
   "cell_type": "code",
   "execution_count": 48,
   "id": "0310690a",
   "metadata": {},
   "outputs": [
    {
     "data": {
      "text/plain": [
       "year_of_release\n",
       "1980       9\n",
       "1981      46\n",
       "1982      36\n",
       "1983      17\n",
       "1984      14\n",
       "1985      14\n",
       "1986      21\n",
       "1987      16\n",
       "1988      15\n",
       "1989      17\n",
       "1990      16\n",
       "1991      41\n",
       "1992      43\n",
       "1993      60\n",
       "1994     121\n",
       "1995     219\n",
       "1996     263\n",
       "1997     289\n",
       "1998     379\n",
       "1999     338\n",
       "2000     350\n",
       "2001     482\n",
       "2002     829\n",
       "2003     775\n",
       "2004     762\n",
       "2005     939\n",
       "2006    1006\n",
       "2007    1197\n",
       "2008    1427\n",
       "2009    1426\n",
       "2010    1255\n",
       "2011    1136\n",
       "2012     653\n",
       "2013     544\n",
       "2014     581\n",
       "2015     606\n",
       "2016     502\n",
       "Name: year_of_release, dtype: int64"
      ]
     },
     "execution_count": 48,
     "metadata": {},
     "output_type": "execute_result"
    }
   ],
   "source": [
    "df.groupby('year_of_release')['year_of_release'].count()"
   ]
  },
  {
   "cell_type": "markdown",
   "id": "9b618177",
   "metadata": {},
   "source": [
    "До 2009 года шел рост выпусков игр каждый год. Затем выпуск игр стал уменьшаться. "
   ]
  },
  {
   "cell_type": "markdown",
   "id": "e160cbf8",
   "metadata": {},
   "source": [
    "#### Посмотрите, как менялись продажи по платформам. Выберите платформы с наибольшими суммарными продажами и постройте распределение по годам. За какой характерный срок появляются новые и исчезают старые платформы?"
   ]
  },
  {
   "cell_type": "code",
   "execution_count": 49,
   "id": "abb3c58b",
   "metadata": {},
   "outputs": [
    {
     "data": {
      "text/html": [
       "<div>\n",
       "<style scoped>\n",
       "    .dataframe tbody tr th:only-of-type {\n",
       "        vertical-align: middle;\n",
       "    }\n",
       "\n",
       "    .dataframe tbody tr th {\n",
       "        vertical-align: top;\n",
       "    }\n",
       "\n",
       "    .dataframe thead th {\n",
       "        text-align: right;\n",
       "    }\n",
       "</style>\n",
       "<table border=\"1\" class=\"dataframe\">\n",
       "  <thead>\n",
       "    <tr style=\"text-align: right;\">\n",
       "      <th></th>\n",
       "      <th>all_sales</th>\n",
       "    </tr>\n",
       "    <tr>\n",
       "      <th>platform</th>\n",
       "      <th></th>\n",
       "    </tr>\n",
       "  </thead>\n",
       "  <tbody>\n",
       "    <tr>\n",
       "      <th>PS2</th>\n",
       "      <td>1233.56</td>\n",
       "    </tr>\n",
       "    <tr>\n",
       "      <th>X360</th>\n",
       "      <td>961.24</td>\n",
       "    </tr>\n",
       "    <tr>\n",
       "      <th>PS3</th>\n",
       "      <td>931.34</td>\n",
       "    </tr>\n",
       "    <tr>\n",
       "      <th>Wii</th>\n",
       "      <td>891.18</td>\n",
       "    </tr>\n",
       "    <tr>\n",
       "      <th>DS</th>\n",
       "      <td>802.78</td>\n",
       "    </tr>\n",
       "    <tr>\n",
       "      <th>PS</th>\n",
       "      <td>727.58</td>\n",
       "    </tr>\n",
       "    <tr>\n",
       "      <th>PS4</th>\n",
       "      <td>314.14</td>\n",
       "    </tr>\n",
       "    <tr>\n",
       "      <th>GBA</th>\n",
       "      <td>312.88</td>\n",
       "    </tr>\n",
       "    <tr>\n",
       "      <th>PSP</th>\n",
       "      <td>289.53</td>\n",
       "    </tr>\n",
       "    <tr>\n",
       "      <th>3DS</th>\n",
       "      <td>257.81</td>\n",
       "    </tr>\n",
       "    <tr>\n",
       "      <th>PC</th>\n",
       "      <td>255.76</td>\n",
       "    </tr>\n",
       "    <tr>\n",
       "      <th>GB</th>\n",
       "      <td>254.43</td>\n",
       "    </tr>\n",
       "    <tr>\n",
       "      <th>XB</th>\n",
       "      <td>251.57</td>\n",
       "    </tr>\n",
       "    <tr>\n",
       "      <th>NES</th>\n",
       "      <td>251.05</td>\n",
       "    </tr>\n",
       "    <tr>\n",
       "      <th>N64</th>\n",
       "      <td>218.01</td>\n",
       "    </tr>\n",
       "    <tr>\n",
       "      <th>SNES</th>\n",
       "      <td>200.04</td>\n",
       "    </tr>\n",
       "    <tr>\n",
       "      <th>GC</th>\n",
       "      <td>196.73</td>\n",
       "    </tr>\n",
       "    <tr>\n",
       "      <th>XOne</th>\n",
       "      <td>159.32</td>\n",
       "    </tr>\n",
       "    <tr>\n",
       "      <th>2600</th>\n",
       "      <td>86.48</td>\n",
       "    </tr>\n",
       "    <tr>\n",
       "      <th>WiiU</th>\n",
       "      <td>82.19</td>\n",
       "    </tr>\n",
       "    <tr>\n",
       "      <th>PSV</th>\n",
       "      <td>53.81</td>\n",
       "    </tr>\n",
       "    <tr>\n",
       "      <th>SAT</th>\n",
       "      <td>33.59</td>\n",
       "    </tr>\n",
       "    <tr>\n",
       "      <th>GEN</th>\n",
       "      <td>28.35</td>\n",
       "    </tr>\n",
       "    <tr>\n",
       "      <th>DC</th>\n",
       "      <td>15.95</td>\n",
       "    </tr>\n",
       "    <tr>\n",
       "      <th>SCD</th>\n",
       "      <td>1.86</td>\n",
       "    </tr>\n",
       "    <tr>\n",
       "      <th>NG</th>\n",
       "      <td>1.44</td>\n",
       "    </tr>\n",
       "    <tr>\n",
       "      <th>WS</th>\n",
       "      <td>1.42</td>\n",
       "    </tr>\n",
       "    <tr>\n",
       "      <th>TG16</th>\n",
       "      <td>0.16</td>\n",
       "    </tr>\n",
       "    <tr>\n",
       "      <th>3DO</th>\n",
       "      <td>0.10</td>\n",
       "    </tr>\n",
       "    <tr>\n",
       "      <th>GG</th>\n",
       "      <td>0.04</td>\n",
       "    </tr>\n",
       "    <tr>\n",
       "      <th>PCFX</th>\n",
       "      <td>0.03</td>\n",
       "    </tr>\n",
       "  </tbody>\n",
       "</table>\n",
       "</div>"
      ],
      "text/plain": [
       "          all_sales\n",
       "platform           \n",
       "PS2         1233.56\n",
       "X360         961.24\n",
       "PS3          931.34\n",
       "Wii          891.18\n",
       "DS           802.78\n",
       "PS           727.58\n",
       "PS4          314.14\n",
       "GBA          312.88\n",
       "PSP          289.53\n",
       "3DS          257.81\n",
       "PC           255.76\n",
       "GB           254.43\n",
       "XB           251.57\n",
       "NES          251.05\n",
       "N64          218.01\n",
       "SNES         200.04\n",
       "GC           196.73\n",
       "XOne         159.32\n",
       "2600          86.48\n",
       "WiiU          82.19\n",
       "PSV           53.81\n",
       "SAT           33.59\n",
       "GEN           28.35\n",
       "DC            15.95\n",
       "SCD            1.86\n",
       "NG             1.44\n",
       "WS             1.42\n",
       "TG16           0.16\n",
       "3DO            0.10\n",
       "GG             0.04\n",
       "PCFX           0.03"
      ]
     },
     "metadata": {},
     "output_type": "display_data"
    },
    {
     "data": {
      "text/html": [
       "<div>\n",
       "<style scoped>\n",
       "    .dataframe tbody tr th:only-of-type {\n",
       "        vertical-align: middle;\n",
       "    }\n",
       "\n",
       "    .dataframe tbody tr th {\n",
       "        vertical-align: top;\n",
       "    }\n",
       "\n",
       "    .dataframe thead th {\n",
       "        text-align: right;\n",
       "    }\n",
       "</style>\n",
       "<table border=\"1\" class=\"dataframe\">\n",
       "  <thead>\n",
       "    <tr style=\"text-align: right;\">\n",
       "      <th></th>\n",
       "      <th>all_sales</th>\n",
       "    </tr>\n",
       "    <tr>\n",
       "      <th>platform</th>\n",
       "      <th></th>\n",
       "    </tr>\n",
       "  </thead>\n",
       "  <tbody>\n",
       "    <tr>\n",
       "      <th>PS2</th>\n",
       "      <td>1233.56</td>\n",
       "    </tr>\n",
       "    <tr>\n",
       "      <th>X360</th>\n",
       "      <td>961.24</td>\n",
       "    </tr>\n",
       "    <tr>\n",
       "      <th>PS3</th>\n",
       "      <td>931.34</td>\n",
       "    </tr>\n",
       "    <tr>\n",
       "      <th>Wii</th>\n",
       "      <td>891.18</td>\n",
       "    </tr>\n",
       "    <tr>\n",
       "      <th>DS</th>\n",
       "      <td>802.78</td>\n",
       "    </tr>\n",
       "    <tr>\n",
       "      <th>PS</th>\n",
       "      <td>727.58</td>\n",
       "    </tr>\n",
       "    <tr>\n",
       "      <th>PS4</th>\n",
       "      <td>314.14</td>\n",
       "    </tr>\n",
       "    <tr>\n",
       "      <th>GBA</th>\n",
       "      <td>312.88</td>\n",
       "    </tr>\n",
       "    <tr>\n",
       "      <th>PSP</th>\n",
       "      <td>289.53</td>\n",
       "    </tr>\n",
       "    <tr>\n",
       "      <th>3DS</th>\n",
       "      <td>257.81</td>\n",
       "    </tr>\n",
       "  </tbody>\n",
       "</table>\n",
       "</div>"
      ],
      "text/plain": [
       "          all_sales\n",
       "platform           \n",
       "PS2         1233.56\n",
       "X360         961.24\n",
       "PS3          931.34\n",
       "Wii          891.18\n",
       "DS           802.78\n",
       "PS           727.58\n",
       "PS4          314.14\n",
       "GBA          312.88\n",
       "PSP          289.53\n",
       "3DS          257.81"
      ]
     },
     "metadata": {},
     "output_type": "display_data"
    },
    {
     "data": {
      "text/plain": [
       "['PS2', 'X360', 'PS3', 'Wii', 'DS', 'PS', 'PS4', 'GBA', 'PSP', '3DS']"
      ]
     },
     "metadata": {},
     "output_type": "display_data"
    },
    {
     "data": {
      "text/html": [
       "<div>\n",
       "<style scoped>\n",
       "    .dataframe tbody tr th:only-of-type {\n",
       "        vertical-align: middle;\n",
       "    }\n",
       "\n",
       "    .dataframe tbody tr th {\n",
       "        vertical-align: top;\n",
       "    }\n",
       "\n",
       "    .dataframe thead th {\n",
       "        text-align: right;\n",
       "    }\n",
       "</style>\n",
       "<table border=\"1\" class=\"dataframe\">\n",
       "  <thead>\n",
       "    <tr style=\"text-align: right;\">\n",
       "      <th></th>\n",
       "      <th>name</th>\n",
       "      <th>platform</th>\n",
       "      <th>year_of_release</th>\n",
       "      <th>genre</th>\n",
       "      <th>na_sales</th>\n",
       "      <th>eu_sales</th>\n",
       "      <th>jp_sales</th>\n",
       "      <th>other_sales</th>\n",
       "      <th>critic_score</th>\n",
       "      <th>user_score</th>\n",
       "      <th>rating</th>\n",
       "      <th>all_sales</th>\n",
       "    </tr>\n",
       "  </thead>\n",
       "  <tbody>\n",
       "    <tr>\n",
       "      <th>0</th>\n",
       "      <td>Wii Sports</td>\n",
       "      <td>Wii</td>\n",
       "      <td>2006</td>\n",
       "      <td>Sports</td>\n",
       "      <td>41.36</td>\n",
       "      <td>28.96</td>\n",
       "      <td>3.77</td>\n",
       "      <td>8.45</td>\n",
       "      <td>76.0</td>\n",
       "      <td>8</td>\n",
       "      <td>E</td>\n",
       "      <td>82.54</td>\n",
       "    </tr>\n",
       "    <tr>\n",
       "      <th>2</th>\n",
       "      <td>Mario Kart Wii</td>\n",
       "      <td>Wii</td>\n",
       "      <td>2008</td>\n",
       "      <td>Racing</td>\n",
       "      <td>15.68</td>\n",
       "      <td>12.76</td>\n",
       "      <td>3.79</td>\n",
       "      <td>3.29</td>\n",
       "      <td>82.0</td>\n",
       "      <td>8.3</td>\n",
       "      <td>E</td>\n",
       "      <td>35.52</td>\n",
       "    </tr>\n",
       "    <tr>\n",
       "      <th>3</th>\n",
       "      <td>Wii Sports Resort</td>\n",
       "      <td>Wii</td>\n",
       "      <td>2009</td>\n",
       "      <td>Sports</td>\n",
       "      <td>15.61</td>\n",
       "      <td>10.93</td>\n",
       "      <td>3.28</td>\n",
       "      <td>2.95</td>\n",
       "      <td>80.0</td>\n",
       "      <td>8</td>\n",
       "      <td>E</td>\n",
       "      <td>32.77</td>\n",
       "    </tr>\n",
       "    <tr>\n",
       "      <th>6</th>\n",
       "      <td>New Super Mario Bros.</td>\n",
       "      <td>DS</td>\n",
       "      <td>2006</td>\n",
       "      <td>Platform</td>\n",
       "      <td>11.28</td>\n",
       "      <td>9.14</td>\n",
       "      <td>6.50</td>\n",
       "      <td>2.88</td>\n",
       "      <td>89.0</td>\n",
       "      <td>8.5</td>\n",
       "      <td>E</td>\n",
       "      <td>29.80</td>\n",
       "    </tr>\n",
       "    <tr>\n",
       "      <th>7</th>\n",
       "      <td>Wii Play</td>\n",
       "      <td>Wii</td>\n",
       "      <td>2006</td>\n",
       "      <td>Misc</td>\n",
       "      <td>13.96</td>\n",
       "      <td>9.18</td>\n",
       "      <td>2.93</td>\n",
       "      <td>2.84</td>\n",
       "      <td>58.0</td>\n",
       "      <td>6.6</td>\n",
       "      <td>E</td>\n",
       "      <td>28.91</td>\n",
       "    </tr>\n",
       "    <tr>\n",
       "      <th>...</th>\n",
       "      <td>...</td>\n",
       "      <td>...</td>\n",
       "      <td>...</td>\n",
       "      <td>...</td>\n",
       "      <td>...</td>\n",
       "      <td>...</td>\n",
       "      <td>...</td>\n",
       "      <td>...</td>\n",
       "      <td>...</td>\n",
       "      <td>...</td>\n",
       "      <td>...</td>\n",
       "      <td>...</td>\n",
       "    </tr>\n",
       "    <tr>\n",
       "      <th>16708</th>\n",
       "      <td>Woody Woodpecker in Crazy Castle 5</td>\n",
       "      <td>GBA</td>\n",
       "      <td>2002</td>\n",
       "      <td>Platform</td>\n",
       "      <td>0.01</td>\n",
       "      <td>0.00</td>\n",
       "      <td>0.00</td>\n",
       "      <td>0.00</td>\n",
       "      <td>NaN</td>\n",
       "      <td>NaN</td>\n",
       "      <td>no_rating</td>\n",
       "      <td>0.01</td>\n",
       "    </tr>\n",
       "    <tr>\n",
       "      <th>16709</th>\n",
       "      <td>SCORE International Baja 1000: The Official Game</td>\n",
       "      <td>PS2</td>\n",
       "      <td>2008</td>\n",
       "      <td>Racing</td>\n",
       "      <td>0.00</td>\n",
       "      <td>0.00</td>\n",
       "      <td>0.00</td>\n",
       "      <td>0.00</td>\n",
       "      <td>NaN</td>\n",
       "      <td>NaN</td>\n",
       "      <td>no_rating</td>\n",
       "      <td>0.00</td>\n",
       "    </tr>\n",
       "    <tr>\n",
       "      <th>16710</th>\n",
       "      <td>Samurai Warriors: Sanada Maru</td>\n",
       "      <td>PS3</td>\n",
       "      <td>2016</td>\n",
       "      <td>Action</td>\n",
       "      <td>0.00</td>\n",
       "      <td>0.00</td>\n",
       "      <td>0.01</td>\n",
       "      <td>0.00</td>\n",
       "      <td>NaN</td>\n",
       "      <td>NaN</td>\n",
       "      <td>no_rating</td>\n",
       "      <td>0.01</td>\n",
       "    </tr>\n",
       "    <tr>\n",
       "      <th>16711</th>\n",
       "      <td>LMA Manager 2007</td>\n",
       "      <td>X360</td>\n",
       "      <td>2006</td>\n",
       "      <td>Sports</td>\n",
       "      <td>0.00</td>\n",
       "      <td>0.01</td>\n",
       "      <td>0.00</td>\n",
       "      <td>0.00</td>\n",
       "      <td>NaN</td>\n",
       "      <td>NaN</td>\n",
       "      <td>no_rating</td>\n",
       "      <td>0.01</td>\n",
       "    </tr>\n",
       "    <tr>\n",
       "      <th>16713</th>\n",
       "      <td>Spirits &amp; Spells</td>\n",
       "      <td>GBA</td>\n",
       "      <td>2003</td>\n",
       "      <td>Platform</td>\n",
       "      <td>0.01</td>\n",
       "      <td>0.00</td>\n",
       "      <td>0.00</td>\n",
       "      <td>0.00</td>\n",
       "      <td>NaN</td>\n",
       "      <td>NaN</td>\n",
       "      <td>no_rating</td>\n",
       "      <td>0.01</td>\n",
       "    </tr>\n",
       "  </tbody>\n",
       "</table>\n",
       "<p>12170 rows × 12 columns</p>\n",
       "</div>"
      ],
      "text/plain": [
       "                                                   name platform  \\\n",
       "0                                            Wii Sports      Wii   \n",
       "2                                        Mario Kart Wii      Wii   \n",
       "3                                     Wii Sports Resort      Wii   \n",
       "6                                 New Super Mario Bros.       DS   \n",
       "7                                              Wii Play      Wii   \n",
       "...                                                 ...      ...   \n",
       "16708                Woody Woodpecker in Crazy Castle 5      GBA   \n",
       "16709  SCORE International Baja 1000: The Official Game      PS2   \n",
       "16710                     Samurai Warriors: Sanada Maru      PS3   \n",
       "16711                                  LMA Manager 2007     X360   \n",
       "16713                                  Spirits & Spells      GBA   \n",
       "\n",
       "       year_of_release     genre  na_sales  eu_sales  jp_sales  other_sales  \\\n",
       "0                 2006    Sports     41.36     28.96      3.77         8.45   \n",
       "2                 2008    Racing     15.68     12.76      3.79         3.29   \n",
       "3                 2009    Sports     15.61     10.93      3.28         2.95   \n",
       "6                 2006  Platform     11.28      9.14      6.50         2.88   \n",
       "7                 2006      Misc     13.96      9.18      2.93         2.84   \n",
       "...                ...       ...       ...       ...       ...          ...   \n",
       "16708             2002  Platform      0.01      0.00      0.00         0.00   \n",
       "16709             2008    Racing      0.00      0.00      0.00         0.00   \n",
       "16710             2016    Action      0.00      0.00      0.01         0.00   \n",
       "16711             2006    Sports      0.00      0.01      0.00         0.00   \n",
       "16713             2003  Platform      0.01      0.00      0.00         0.00   \n",
       "\n",
       "       critic_score user_score     rating  all_sales  \n",
       "0              76.0          8          E      82.54  \n",
       "2              82.0        8.3          E      35.52  \n",
       "3              80.0          8          E      32.77  \n",
       "6              89.0        8.5          E      29.80  \n",
       "7              58.0        6.6          E      28.91  \n",
       "...             ...        ...        ...        ...  \n",
       "16708           NaN        NaN  no_rating       0.01  \n",
       "16709           NaN        NaN  no_rating       0.00  \n",
       "16710           NaN        NaN  no_rating       0.01  \n",
       "16711           NaN        NaN  no_rating       0.01  \n",
       "16713           NaN        NaN  no_rating       0.01  \n",
       "\n",
       "[12170 rows x 12 columns]"
      ]
     },
     "execution_count": 49,
     "metadata": {},
     "output_type": "execute_result"
    }
   ],
   "source": [
    "top_10 = df.pivot_table(index='platform', values='all_sales', aggfunc='sum').sort_values(by='all_sales', ascending = False)\n",
    "display(top_10)\n",
    "top_10 = top_10.query('all_sales > 256')\n",
    "display(top_10) # отсортировал топ 10 по продажам\n",
    "top = list(top_10.index) # создал список с именами платформ топ 10\n",
    "display(top)\n",
    "df_top = df[df['platform'].isin(top)] # выбрал данные по топ 10 платформам\n",
    "df_top"
   ]
  },
  {
   "cell_type": "code",
   "execution_count": 50,
   "id": "a2c76966",
   "metadata": {},
   "outputs": [
    {
     "data": {
      "image/png": "[encoded data removed]",
      "text/plain": [
       "<Figure size 1152x576 with 1 Axes>"
      ]
     },
     "metadata": {
      "needs_background": "light"
     },
     "output_type": "display_data"
    }
   ],
   "source": [
    "top_10_years = df_top.pivot_table(index='year_of_release', columns='platform', values='name', aggfunc='count')\n",
    "top_10_years.plot(kind='line', figsize=(16,8));"
   ]
  },
  {
   "cell_type": "markdown",
   "id": "0eb2f6ef",
   "metadata": {},
   "source": [
    "Выбрал Топ 10 платформ по продажам и построил график количества выхода игр на данной платформе.\n",
    "\n",
    "Из графика видно что в среднем срок жизни одной платформы 10 лет."
   ]
  },
  {
   "cell_type": "markdown",
   "id": "2ae805de",
   "metadata": {},
   "source": [
    "#### Возьмите данные за соответствующий актуальный период. Актуальный период определите самостоятельно в результате исследования предыдущих вопросов. Основной фактор — эти данные помогут построить прогноз на 2017 год."
   ]
  },
  {
   "cell_type": "code",
   "execution_count": 51,
   "id": "69afb220",
   "metadata": {},
   "outputs": [
    {
     "name": "stdout",
     "output_type": "stream",
     "text": [
      "<class 'pandas.core.frame.DataFrame'>\n",
      "Int64Index: 1689 entries, 31 to 16714\n",
      "Data columns (total 12 columns):\n",
      " #   Column           Non-Null Count  Dtype  \n",
      "---  ------           --------------  -----  \n",
      " 0   name             1689 non-null   object \n",
      " 1   platform         1689 non-null   object \n",
      " 2   year_of_release  1689 non-null   int64  \n",
      " 3   genre            1689 non-null   object \n",
      " 4   na_sales         1689 non-null   float64\n",
      " 5   eu_sales         1689 non-null   float64\n",
      " 6   jp_sales         1689 non-null   float64\n",
      " 7   other_sales      1689 non-null   float64\n",
      " 8   critic_score     718 non-null    float64\n",
      " 9   user_score       981 non-null    object \n",
      " 10  rating           1689 non-null   object \n",
      " 11  all_sales        1689 non-null   float64\n",
      "dtypes: float64(6), int64(1), object(5)\n",
      "memory usage: 171.5+ KB\n"
     ]
    }
   ],
   "source": [
    "df_actual = df.query('year_of_release > 2013')\n",
    "df_actual.info()"
   ]
  },
  {
   "cell_type": "markdown",
   "id": "40d38d28",
   "metadata": {},
   "source": [
    "Актуальный период взял с 2014.\n"
   ]
  },
  {
   "cell_type": "markdown",
   "id": "af580b85",
   "metadata": {},
   "source": [
    "#### Какие платформы лидируют по продажам, растут или падают? Выберите несколько потенциально прибыльных платформ."
   ]
  },
  {
   "cell_type": "code",
   "execution_count": 52,
   "id": "e7f7269f",
   "metadata": {},
   "outputs": [
    {
     "data": {
      "image/png": "[encoded data removed]",
      "text/plain": [
       "<Figure size 1152x576 with 1 Axes>"
      ]
     },
     "metadata": {
      "needs_background": "light"
     },
     "output_type": "display_data"
    }
   ],
   "source": [
    "df_profit = df_actual.pivot_table(index='year_of_release', columns='platform', values='all_sales', aggfunc='sum')\n",
    "df_profit.plot(kind='line', figsize=(16,8));"
   ]
  },
  {
   "cell_type": "markdown",
   "id": "4216325d",
   "metadata": {},
   "source": [
    "PS4 и XOne на данный момент растут и считаю потенциально прибыльными на ближайшие годы.\n"
   ]
  },
  {
   "cell_type": "markdown",
   "id": "301597db",
   "metadata": {},
   "source": [
    "#### Постройте график «ящик с усами» по глобальным продажам игр в разбивке по платформам. Опишите результат."
   ]
  },
  {
   "cell_type": "code",
   "execution_count": 53,
   "id": "2785d7d5",
   "metadata": {},
   "outputs": [
    {
     "data": {
      "text/plain": [
       "(0.0, 1.0)"
      ]
     },
     "execution_count": 53,
     "metadata": {},
     "output_type": "execute_result"
    },
    {
     "data": {
      "image/png": "[encoded data removed]",
      "text/plain": [
       "<Figure size 432x288 with 1 Axes>"
      ]
     },
     "metadata": {
      "needs_background": "light"
     },
     "output_type": "display_data"
    }
   ],
   "source": [
    "df_actual.boxplot(column='all_sales', by='platform');\n",
    "plt.ylim(0, 1)"
   ]
  },
  {
   "cell_type": "markdown",
   "id": "6ac28565",
   "metadata": {},
   "source": [
    "Показатели по перспективным платформам PS4 и XOne практически одинаковые."
   ]
  },
  {
   "cell_type": "markdown",
   "id": "fc8d7b62",
   "metadata": {},
   "source": [
    "#### Посмотрите, как влияют на продажи внутри одной популярной платформы отзывы пользователей и критиков. Постройте диаграмму рассеяния и посчитайте корреляцию между отзывами и продажами. Сформулируйте выводы.\n"
   ]
  },
  {
   "cell_type": "markdown",
   "id": "748d3862",
   "metadata": {},
   "source": [
    "Одна из самых популярных платформ по общим продажам PS3. По ней буду строить диаграмму."
   ]
  },
  {
   "cell_type": "code",
   "execution_count": 54,
   "id": "4e4cb77a",
   "metadata": {},
   "outputs": [
    {
     "data": {
      "image/png": "[encoded data removed]",
      "text/plain": [
       "<Figure size 576x432 with 1 Axes>"
      ]
     },
     "metadata": {
      "needs_background": "light"
     },
     "output_type": "display_data"
    },
    {
     "data": {
      "image/png": "[encoded data removed]",
      "text/plain": [
       "<Figure size 576x432 with 1 Axes>"
      ]
     },
     "metadata": {
      "needs_background": "light"
     },
     "output_type": "display_data"
    }
   ],
   "source": [
    "df_ps3 = df_actual[df_actual['platform'] == 'PS3']\n",
    "# в user_score есть данные tbd, о появление позже отзывов, поэтому при построение диаграмм, строки с этим значение уберу.\n",
    "df_ps3 = df_ps3[df_ps3['user_score'] != 'tbd'] \n",
    "df_ps3['user_score'] = df_ps3['user_score'].astype(float) # тип данных с object исправлю на float\n",
    "\n",
    "df_ps3.plot(x='user_score', y='all_sales', kind='scatter', figsize=(8, 6));\n",
    "df_ps3.plot(x='critic_score', y='all_sales', kind='scatter', figsize=(8, 6));"
   ]
  },
  {
   "cell_type": "code",
   "execution_count": 55,
   "id": "2794db63",
   "metadata": {},
   "outputs": [
    {
     "data": {
      "text/plain": [
       "0.1138376265969687"
      ]
     },
     "metadata": {},
     "output_type": "display_data"
    },
    {
     "data": {
      "text/plain": [
       "0.44657460493190704"
      ]
     },
     "execution_count": 55,
     "metadata": {},
     "output_type": "execute_result"
    }
   ],
   "source": [
    "display(df_ps3['user_score'].corr(df_ps3['all_sales']))\n",
    "df_ps3['critic_score'].corr(df_ps3['all_sales'])"
   ]
  },
  {
   "cell_type": "markdown",
   "id": "e1bae82f",
   "metadata": {},
   "source": [
    "Из диаграммы рассеивания видно, чем больше отзывы и рейтинг платформы, тем больше продажи. \n",
    "\n",
    "Данные по корреляции не показывают такую зависимость."
   ]
  },
  {
   "cell_type": "markdown",
   "id": "82a8b2c3",
   "metadata": {},
   "source": [
    "#### Соотнесите выводы с продажами игр на других платформах."
   ]
  },
  {
   "cell_type": "code",
   "execution_count": 56,
   "id": "195f862c",
   "metadata": {},
   "outputs": [
    {
     "data": {
      "image/png": "[encoded data removed]",
      "text/plain": [
       "<Figure size 576x432 with 1 Axes>"
      ]
     },
     "metadata": {
      "needs_background": "light"
     },
     "output_type": "display_data"
    },
    {
     "data": {
      "image/png": "[encoded data removed]",
      "text/plain": [
       "<Figure size 576x432 with 1 Axes>"
      ]
     },
     "metadata": {
      "needs_background": "light"
     },
     "output_type": "display_data"
    }
   ],
   "source": [
    "df_other = df_actual[df_actual['platform'] != 'PS3']\n",
    "# в user_score есть данные tbd, о появление позже отзывов, поэтому при построение диаграмм, строки с этим значение уберу.\n",
    "df_other = df_other[df_other['user_score'] != 'tbd'] \n",
    "df_other['user_score'] = df_other['user_score'].astype(float) # тип данных с object исправлю на float\n",
    "\n",
    "df_other.plot(x='user_score', y='all_sales', kind='scatter', figsize=(8, 6));\n",
    "df_other.plot(x='critic_score', y='all_sales', kind='scatter', figsize=(8, 6));"
   ]
  },
  {
   "cell_type": "code",
   "execution_count": 57,
   "id": "26d5324c",
   "metadata": {},
   "outputs": [
    {
     "data": {
      "text/plain": [
       "0.0965166197046609"
      ]
     },
     "metadata": {},
     "output_type": "display_data"
    },
    {
     "data": {
      "text/plain": [
       "0.3277754715670541"
      ]
     },
     "execution_count": 57,
     "metadata": {},
     "output_type": "execute_result"
    }
   ],
   "source": [
    "display(df_other['user_score'].corr(df_other['all_sales']))\n",
    "df_other['critic_score'].corr(df_other['all_sales'])"
   ]
  },
  {
   "cell_type": "markdown",
   "id": "9c7f1872",
   "metadata": {},
   "source": [
    "По данным графиков из других платформ, также прямая зависимость увеличения продаж от увеличения оценок пользователей."
   ]
  },
  {
   "cell_type": "markdown",
   "id": "088e2e9a",
   "metadata": {},
   "source": [
    "#### Посмотрите на общее распределение игр по жанрам. Что можно сказать о самых прибыльных жанрах? Выделяются ли жанры с высокими и низкими продажами?"
   ]
  },
  {
   "cell_type": "code",
   "execution_count": 58,
   "id": "80f4c4a3",
   "metadata": {},
   "outputs": [
    {
     "data": {
      "text/plain": [
       "genre\n",
       "Shooter         1.335469\n",
       "Sports          0.680000\n",
       "Platform        0.476053\n",
       "Fighting        0.470333\n",
       "Role-Playing    0.459005\n",
       "Racing          0.398841\n",
       "Misc            0.332301\n",
       "Action          0.322068\n",
       "Simulation      0.298409\n",
       "Puzzle          0.157857\n",
       "Strategy        0.107027\n",
       "Adventure       0.094865\n",
       "Name: all_sales, dtype: float64"
      ]
     },
     "execution_count": 58,
     "metadata": {},
     "output_type": "execute_result"
    }
   ],
   "source": [
    "df_actual.groupby('genre')['all_sales'].mean().sort_values(ascending = False)"
   ]
  },
  {
   "cell_type": "markdown",
   "id": "7fe185f4",
   "metadata": {},
   "source": [
    "### Вывод:\n",
    "\n",
    "Выбрал потенциально прибыльные платформы на ближайшее время это PS4 и XOne.\n",
    "\n",
    "Проверил как влияют на продажи внутри одной самой популярной платформы PS3 и остальных платформ отзывы пользователей и критиков. С помощью диаграмм выявил прямую зависимость лидирующих по продажам платформ от высоких оценок пользователей и критиков. Также много продаж игр с отсутствующими оценками пользователей и критиков.\n",
    "\n",
    "Выделил самые прибыльный жанр игры - это Shooter. Самый не прибыльный жанр игр это Adventure.  "
   ]
  },
  {
   "cell_type": "markdown",
   "id": "16413a84",
   "metadata": {},
   "source": [
    "### Шаг 4. Составьте портрет пользователя каждого региона \n",
    "\n",
    "Определите для пользователя каждого региона (NA, EU, JP): \n",
    "\n",
    "Самые популярные платформы (топ-5). Опишите различия в долях продаж. \n",
    "\n",
    "Самые популярные жанры (топ-5). Поясните разницу. \n",
    "\n",
    "Влияет ли рейтинг ESRB на продажи в отдельном регионе? "
   ]
  },
  {
   "cell_type": "markdown",
   "id": "6f371320",
   "metadata": {},
   "source": [
    "#### Самые популярные платформы (топ-5). Опишите различия в долях продаж."
   ]
  },
  {
   "cell_type": "code",
   "execution_count": 59,
   "id": "f3190bb6",
   "metadata": {},
   "outputs": [
    {
     "data": {
      "text/html": [
       "<div>\n",
       "<style scoped>\n",
       "    .dataframe tbody tr th:only-of-type {\n",
       "        vertical-align: middle;\n",
       "    }\n",
       "\n",
       "    .dataframe tbody tr th {\n",
       "        vertical-align: top;\n",
       "    }\n",
       "\n",
       "    .dataframe thead th {\n",
       "        text-align: right;\n",
       "    }\n",
       "</style>\n",
       "<table border=\"1\" class=\"dataframe\">\n",
       "  <thead>\n",
       "    <tr style=\"text-align: right;\">\n",
       "      <th></th>\n",
       "      <th>name</th>\n",
       "      <th>platform</th>\n",
       "      <th>year_of_release</th>\n",
       "      <th>genre</th>\n",
       "      <th>na_sales</th>\n",
       "      <th>eu_sales</th>\n",
       "      <th>jp_sales</th>\n",
       "      <th>other_sales</th>\n",
       "      <th>critic_score</th>\n",
       "      <th>user_score</th>\n",
       "      <th>rating</th>\n",
       "      <th>all_sales</th>\n",
       "    </tr>\n",
       "  </thead>\n",
       "  <tbody>\n",
       "    <tr>\n",
       "      <th>31</th>\n",
       "      <td>Call of Duty: Black Ops 3</td>\n",
       "      <td>PS4</td>\n",
       "      <td>2015</td>\n",
       "      <td>Shooter</td>\n",
       "      <td>6.03</td>\n",
       "      <td>5.86</td>\n",
       "      <td>0.36</td>\n",
       "      <td>2.38</td>\n",
       "      <td>NaN</td>\n",
       "      <td>NaN</td>\n",
       "      <td>no_rating</td>\n",
       "      <td>14.63</td>\n",
       "    </tr>\n",
       "    <tr>\n",
       "      <th>42</th>\n",
       "      <td>Grand Theft Auto V</td>\n",
       "      <td>PS4</td>\n",
       "      <td>2014</td>\n",
       "      <td>Action</td>\n",
       "      <td>3.96</td>\n",
       "      <td>6.31</td>\n",
       "      <td>0.38</td>\n",
       "      <td>1.97</td>\n",
       "      <td>97.0</td>\n",
       "      <td>8.3</td>\n",
       "      <td>M</td>\n",
       "      <td>12.62</td>\n",
       "    </tr>\n",
       "    <tr>\n",
       "      <th>47</th>\n",
       "      <td>Pokemon Omega Ruby/Pokemon Alpha Sapphire</td>\n",
       "      <td>3DS</td>\n",
       "      <td>2014</td>\n",
       "      <td>Role-Playing</td>\n",
       "      <td>4.35</td>\n",
       "      <td>3.49</td>\n",
       "      <td>3.10</td>\n",
       "      <td>0.74</td>\n",
       "      <td>NaN</td>\n",
       "      <td>NaN</td>\n",
       "      <td>no_rating</td>\n",
       "      <td>11.68</td>\n",
       "    </tr>\n",
       "    <tr>\n",
       "      <th>77</th>\n",
       "      <td>FIFA 16</td>\n",
       "      <td>PS4</td>\n",
       "      <td>2015</td>\n",
       "      <td>Sports</td>\n",
       "      <td>1.12</td>\n",
       "      <td>6.12</td>\n",
       "      <td>0.06</td>\n",
       "      <td>1.28</td>\n",
       "      <td>82.0</td>\n",
       "      <td>4.3</td>\n",
       "      <td>E</td>\n",
       "      <td>8.58</td>\n",
       "    </tr>\n",
       "    <tr>\n",
       "      <th>87</th>\n",
       "      <td>Star Wars Battlefront (2015)</td>\n",
       "      <td>PS4</td>\n",
       "      <td>2015</td>\n",
       "      <td>Shooter</td>\n",
       "      <td>2.99</td>\n",
       "      <td>3.49</td>\n",
       "      <td>0.22</td>\n",
       "      <td>1.28</td>\n",
       "      <td>NaN</td>\n",
       "      <td>NaN</td>\n",
       "      <td>no_rating</td>\n",
       "      <td>7.98</td>\n",
       "    </tr>\n",
       "  </tbody>\n",
       "</table>\n",
       "</div>"
      ],
      "text/plain": [
       "                                         name platform  year_of_release  \\\n",
       "31                  Call of Duty: Black Ops 3      PS4             2015   \n",
       "42                         Grand Theft Auto V      PS4             2014   \n",
       "47  Pokemon Omega Ruby/Pokemon Alpha Sapphire      3DS             2014   \n",
       "77                                    FIFA 16      PS4             2015   \n",
       "87               Star Wars Battlefront (2015)      PS4             2015   \n",
       "\n",
       "           genre  na_sales  eu_sales  jp_sales  other_sales  critic_score  \\\n",
       "31       Shooter      6.03      5.86      0.36         2.38           NaN   \n",
       "42        Action      3.96      6.31      0.38         1.97          97.0   \n",
       "47  Role-Playing      4.35      3.49      3.10         0.74           NaN   \n",
       "77        Sports      1.12      6.12      0.06         1.28          82.0   \n",
       "87       Shooter      2.99      3.49      0.22         1.28           NaN   \n",
       "\n",
       "   user_score     rating  all_sales  \n",
       "31        NaN  no_rating      14.63  \n",
       "42        8.3          M      12.62  \n",
       "47        NaN  no_rating      11.68  \n",
       "77        4.3          E       8.58  \n",
       "87        NaN  no_rating       7.98  "
      ]
     },
     "execution_count": 59,
     "metadata": {},
     "output_type": "execute_result"
    }
   ],
   "source": [
    "df_actual.head(5)"
   ]
  },
  {
   "cell_type": "code",
   "execution_count": 60,
   "id": "68a6a01a",
   "metadata": {},
   "outputs": [
    {
     "data": {
      "text/html": [
       "<div>\n",
       "<style scoped>\n",
       "    .dataframe tbody tr th:only-of-type {\n",
       "        vertical-align: middle;\n",
       "    }\n",
       "\n",
       "    .dataframe tbody tr th {\n",
       "        vertical-align: top;\n",
       "    }\n",
       "\n",
       "    .dataframe thead th {\n",
       "        text-align: right;\n",
       "    }\n",
       "</style>\n",
       "<table border=\"1\" class=\"dataframe\">\n",
       "  <thead>\n",
       "    <tr style=\"text-align: right;\">\n",
       "      <th></th>\n",
       "      <th>na_sales</th>\n",
       "    </tr>\n",
       "    <tr>\n",
       "      <th>platform</th>\n",
       "      <th></th>\n",
       "    </tr>\n",
       "  </thead>\n",
       "  <tbody>\n",
       "    <tr>\n",
       "      <th>XOne</th>\n",
       "      <td>0.356447</td>\n",
       "    </tr>\n",
       "    <tr>\n",
       "      <th>WiiU</th>\n",
       "      <td>0.265205</td>\n",
       "    </tr>\n",
       "    <tr>\n",
       "      <th>PS4</th>\n",
       "      <td>0.262261</td>\n",
       "    </tr>\n",
       "    <tr>\n",
       "      <th>X360</th>\n",
       "      <td>0.254955</td>\n",
       "    </tr>\n",
       "    <tr>\n",
       "      <th>Wii</th>\n",
       "      <td>0.189091</td>\n",
       "    </tr>\n",
       "  </tbody>\n",
       "</table>\n",
       "</div>"
      ],
      "text/plain": [
       "          na_sales\n",
       "platform          \n",
       "XOne      0.356447\n",
       "WiiU      0.265205\n",
       "PS4       0.262261\n",
       "X360      0.254955\n",
       "Wii       0.189091"
      ]
     },
     "metadata": {},
     "output_type": "display_data"
    },
    {
     "data": {
      "text/html": [
       "<div>\n",
       "<style scoped>\n",
       "    .dataframe tbody tr th:only-of-type {\n",
       "        vertical-align: middle;\n",
       "    }\n",
       "\n",
       "    .dataframe tbody tr th {\n",
       "        vertical-align: top;\n",
       "    }\n",
       "\n",
       "    .dataframe thead th {\n",
       "        text-align: right;\n",
       "    }\n",
       "</style>\n",
       "<table border=\"1\" class=\"dataframe\">\n",
       "  <thead>\n",
       "    <tr style=\"text-align: right;\">\n",
       "      <th></th>\n",
       "      <th>eu_sales</th>\n",
       "    </tr>\n",
       "    <tr>\n",
       "      <th>platform</th>\n",
       "      <th></th>\n",
       "    </tr>\n",
       "  </thead>\n",
       "  <tbody>\n",
       "    <tr>\n",
       "      <th>PS4</th>\n",
       "      <td>0.345851</td>\n",
       "    </tr>\n",
       "    <tr>\n",
       "      <th>Wii</th>\n",
       "      <td>0.235455</td>\n",
       "    </tr>\n",
       "    <tr>\n",
       "      <th>XOne</th>\n",
       "      <td>0.202851</td>\n",
       "    </tr>\n",
       "    <tr>\n",
       "      <th>WiiU</th>\n",
       "      <td>0.180137</td>\n",
       "    </tr>\n",
       "    <tr>\n",
       "      <th>X360</th>\n",
       "      <td>0.139550</td>\n",
       "    </tr>\n",
       "  </tbody>\n",
       "</table>\n",
       "</div>"
      ],
      "text/plain": [
       "          eu_sales\n",
       "platform          \n",
       "PS4       0.345851\n",
       "Wii       0.235455\n",
       "XOne      0.202851\n",
       "WiiU      0.180137\n",
       "X360      0.139550"
      ]
     },
     "metadata": {},
     "output_type": "display_data"
    },
    {
     "data": {
      "text/html": [
       "<div>\n",
       "<style scoped>\n",
       "    .dataframe tbody tr th:only-of-type {\n",
       "        vertical-align: middle;\n",
       "    }\n",
       "\n",
       "    .dataframe tbody tr th {\n",
       "        vertical-align: top;\n",
       "    }\n",
       "\n",
       "    .dataframe thead th {\n",
       "        text-align: right;\n",
       "    }\n",
       "</style>\n",
       "<table border=\"1\" class=\"dataframe\">\n",
       "  <thead>\n",
       "    <tr style=\"text-align: right;\">\n",
       "      <th></th>\n",
       "      <th>jp_sales</th>\n",
       "    </tr>\n",
       "    <tr>\n",
       "      <th>platform</th>\n",
       "      <th></th>\n",
       "    </tr>\n",
       "  </thead>\n",
       "  <tbody>\n",
       "    <tr>\n",
       "      <th>3DS</th>\n",
       "      <td>0.208679</td>\n",
       "    </tr>\n",
       "    <tr>\n",
       "      <th>WiiU</th>\n",
       "      <td>0.100137</td>\n",
       "    </tr>\n",
       "    <tr>\n",
       "      <th>PS3</th>\n",
       "      <td>0.051233</td>\n",
       "    </tr>\n",
       "    <tr>\n",
       "      <th>PSV</th>\n",
       "      <td>0.049288</td>\n",
       "    </tr>\n",
       "    <tr>\n",
       "      <th>PS4</th>\n",
       "      <td>0.039947</td>\n",
       "    </tr>\n",
       "  </tbody>\n",
       "</table>\n",
       "</div>"
      ],
      "text/plain": [
       "          jp_sales\n",
       "platform          \n",
       "3DS       0.208679\n",
       "WiiU      0.100137\n",
       "PS3       0.051233\n",
       "PSV       0.049288\n",
       "PS4       0.039947"
      ]
     },
     "metadata": {},
     "output_type": "display_data"
    }
   ],
   "source": [
    "df_na = df_actual.pivot_table(index='platform', values='na_sales', aggfunc='mean').sort_values(by='na_sales', ascending = False)\n",
    "df_eu = df_actual.pivot_table(index='platform', values='eu_sales', aggfunc='mean').sort_values(by='eu_sales', ascending = False)\n",
    "df_jp = df_actual.pivot_table(index='platform', values='jp_sales', aggfunc='mean').sort_values(by='jp_sales', ascending = False)\n",
    "\n",
    "display(df_na.head(5))\n",
    "display(df_eu.head(5))\n",
    "display(df_jp.head(5))"
   ]
  },
  {
   "cell_type": "markdown",
   "id": "64342fba",
   "metadata": {},
   "source": [
    "В разных регионах лидируют различные платформы. В Европе лидирует PS4, в Северной Америке XOne, в Японии свои лидеры."
   ]
  },
  {
   "cell_type": "markdown",
   "id": "1ce3ce7a",
   "metadata": {},
   "source": [
    "#### Самые популярные жанры (топ-5). Поясните разницу."
   ]
  },
  {
   "cell_type": "code",
   "execution_count": 61,
   "id": "066eac1c",
   "metadata": {},
   "outputs": [
    {
     "data": {
      "text/html": [
       "<div>\n",
       "<style scoped>\n",
       "    .dataframe tbody tr th:only-of-type {\n",
       "        vertical-align: middle;\n",
       "    }\n",
       "\n",
       "    .dataframe tbody tr th {\n",
       "        vertical-align: top;\n",
       "    }\n",
       "\n",
       "    .dataframe thead th {\n",
       "        text-align: right;\n",
       "    }\n",
       "</style>\n",
       "<table border=\"1\" class=\"dataframe\">\n",
       "  <thead>\n",
       "    <tr style=\"text-align: right;\">\n",
       "      <th></th>\n",
       "      <th>na_sales</th>\n",
       "    </tr>\n",
       "    <tr>\n",
       "      <th>genre</th>\n",
       "      <th></th>\n",
       "    </tr>\n",
       "  </thead>\n",
       "  <tbody>\n",
       "    <tr>\n",
       "      <th>Shooter</th>\n",
       "      <td>0.617344</td>\n",
       "    </tr>\n",
       "    <tr>\n",
       "      <th>Sports</th>\n",
       "      <td>0.286522</td>\n",
       "    </tr>\n",
       "    <tr>\n",
       "      <th>Fighting</th>\n",
       "      <td>0.207167</td>\n",
       "    </tr>\n",
       "    <tr>\n",
       "      <th>Platform</th>\n",
       "      <td>0.178684</td>\n",
       "    </tr>\n",
       "    <tr>\n",
       "      <th>Role-Playing</th>\n",
       "      <td>0.151448</td>\n",
       "    </tr>\n",
       "  </tbody>\n",
       "</table>\n",
       "</div>"
      ],
      "text/plain": [
       "              na_sales\n",
       "genre                 \n",
       "Shooter       0.617344\n",
       "Sports        0.286522\n",
       "Fighting      0.207167\n",
       "Platform      0.178684\n",
       "Role-Playing  0.151448"
      ]
     },
     "metadata": {},
     "output_type": "display_data"
    },
    {
     "data": {
      "text/html": [
       "<div>\n",
       "<style scoped>\n",
       "    .dataframe tbody tr th:only-of-type {\n",
       "        vertical-align: middle;\n",
       "    }\n",
       "\n",
       "    .dataframe tbody tr th {\n",
       "        vertical-align: top;\n",
       "    }\n",
       "\n",
       "    .dataframe thead th {\n",
       "        text-align: right;\n",
       "    }\n",
       "</style>\n",
       "<table border=\"1\" class=\"dataframe\">\n",
       "  <thead>\n",
       "    <tr style=\"text-align: right;\">\n",
       "      <th></th>\n",
       "      <th>eu_sales</th>\n",
       "    </tr>\n",
       "    <tr>\n",
       "      <th>genre</th>\n",
       "      <th></th>\n",
       "    </tr>\n",
       "  </thead>\n",
       "  <tbody>\n",
       "    <tr>\n",
       "      <th>Shooter</th>\n",
       "      <td>0.511875</td>\n",
       "    </tr>\n",
       "    <tr>\n",
       "      <th>Sports</th>\n",
       "      <td>0.284037</td>\n",
       "    </tr>\n",
       "    <tr>\n",
       "      <th>Racing</th>\n",
       "      <td>0.204783</td>\n",
       "    </tr>\n",
       "    <tr>\n",
       "      <th>Platform</th>\n",
       "      <td>0.178947</td>\n",
       "    </tr>\n",
       "    <tr>\n",
       "      <th>Simulation</th>\n",
       "      <td>0.165909</td>\n",
       "    </tr>\n",
       "  </tbody>\n",
       "</table>\n",
       "</div>"
      ],
      "text/plain": [
       "            eu_sales\n",
       "genre               \n",
       "Shooter     0.511875\n",
       "Sports      0.284037\n",
       "Racing      0.204783\n",
       "Platform    0.178947\n",
       "Simulation  0.165909"
      ]
     },
     "metadata": {},
     "output_type": "display_data"
    },
    {
     "data": {
      "text/html": [
       "<div>\n",
       "<style scoped>\n",
       "    .dataframe tbody tr th:only-of-type {\n",
       "        vertical-align: middle;\n",
       "    }\n",
       "\n",
       "    .dataframe tbody tr th {\n",
       "        vertical-align: top;\n",
       "    }\n",
       "\n",
       "    .dataframe thead th {\n",
       "        text-align: right;\n",
       "    }\n",
       "</style>\n",
       "<table border=\"1\" class=\"dataframe\">\n",
       "  <thead>\n",
       "    <tr style=\"text-align: right;\">\n",
       "      <th></th>\n",
       "      <th>jp_sales</th>\n",
       "    </tr>\n",
       "    <tr>\n",
       "      <th>genre</th>\n",
       "      <th></th>\n",
       "    </tr>\n",
       "  </thead>\n",
       "  <tbody>\n",
       "    <tr>\n",
       "      <th>Role-Playing</th>\n",
       "      <td>0.140995</td>\n",
       "    </tr>\n",
       "    <tr>\n",
       "      <th>Fighting</th>\n",
       "      <td>0.106167</td>\n",
       "    </tr>\n",
       "    <tr>\n",
       "      <th>Platform</th>\n",
       "      <td>0.070789</td>\n",
       "    </tr>\n",
       "    <tr>\n",
       "      <th>Puzzle</th>\n",
       "      <td>0.066429</td>\n",
       "    </tr>\n",
       "    <tr>\n",
       "      <th>Simulation</th>\n",
       "      <td>0.052500</td>\n",
       "    </tr>\n",
       "  </tbody>\n",
       "</table>\n",
       "</div>"
      ],
      "text/plain": [
       "              jp_sales\n",
       "genre                 \n",
       "Role-Playing  0.140995\n",
       "Fighting      0.106167\n",
       "Platform      0.070789\n",
       "Puzzle        0.066429\n",
       "Simulation    0.052500"
      ]
     },
     "metadata": {},
     "output_type": "display_data"
    }
   ],
   "source": [
    "df_na = df_actual.pivot_table(index='genre', values='na_sales', aggfunc='mean').sort_values(by='na_sales', ascending = False)\n",
    "df_eu = df_actual.pivot_table(index='genre', values='eu_sales', aggfunc='mean').sort_values(by='eu_sales', ascending = False)\n",
    "df_jp = df_actual.pivot_table(index='genre', values='jp_sales', aggfunc='mean').sort_values(by='jp_sales', ascending = False)\n",
    "\n",
    "display(df_na.head(5))\n",
    "display(df_eu.head(5))\n",
    "display(df_jp.head(5))"
   ]
  },
  {
   "cell_type": "markdown",
   "id": "cd523de2",
   "metadata": {},
   "source": [
    "В Северной Америке и Европе схожи лидеры по жанрам. В Японии свои лидеры."
   ]
  },
  {
   "cell_type": "markdown",
   "id": "2466ab67",
   "metadata": {},
   "source": [
    "#### Влияет ли рейтинг ESRB на продажи в отдельном регионе?"
   ]
  },
  {
   "cell_type": "code",
   "execution_count": 62,
   "id": "0f282400",
   "metadata": {},
   "outputs": [
    {
     "data": {
      "text/html": [
       "<div>\n",
       "<style scoped>\n",
       "    .dataframe tbody tr th:only-of-type {\n",
       "        vertical-align: middle;\n",
       "    }\n",
       "\n",
       "    .dataframe tbody tr th {\n",
       "        vertical-align: top;\n",
       "    }\n",
       "\n",
       "    .dataframe thead th {\n",
       "        text-align: right;\n",
       "    }\n",
       "</style>\n",
       "<table border=\"1\" class=\"dataframe\">\n",
       "  <thead>\n",
       "    <tr style=\"text-align: right;\">\n",
       "      <th></th>\n",
       "      <th>na_sales</th>\n",
       "    </tr>\n",
       "    <tr>\n",
       "      <th>rating</th>\n",
       "      <th></th>\n",
       "    </tr>\n",
       "  </thead>\n",
       "  <tbody>\n",
       "    <tr>\n",
       "      <th>M</th>\n",
       "      <td>0.363849</td>\n",
       "    </tr>\n",
       "    <tr>\n",
       "      <th>E</th>\n",
       "      <td>0.231689</td>\n",
       "    </tr>\n",
       "    <tr>\n",
       "      <th>E10+</th>\n",
       "      <td>0.179622</td>\n",
       "    </tr>\n",
       "    <tr>\n",
       "      <th>T</th>\n",
       "      <td>0.143727</td>\n",
       "    </tr>\n",
       "    <tr>\n",
       "      <th>no_rating</th>\n",
       "      <td>0.086409</td>\n",
       "    </tr>\n",
       "  </tbody>\n",
       "</table>\n",
       "</div>"
      ],
      "text/plain": [
       "           na_sales\n",
       "rating             \n",
       "M          0.363849\n",
       "E          0.231689\n",
       "E10+       0.179622\n",
       "T          0.143727\n",
       "no_rating  0.086409"
      ]
     },
     "metadata": {},
     "output_type": "display_data"
    },
    {
     "data": {
      "text/html": [
       "<div>\n",
       "<style scoped>\n",
       "    .dataframe tbody tr th:only-of-type {\n",
       "        vertical-align: middle;\n",
       "    }\n",
       "\n",
       "    .dataframe tbody tr th {\n",
       "        vertical-align: top;\n",
       "    }\n",
       "\n",
       "    .dataframe thead th {\n",
       "        text-align: right;\n",
       "    }\n",
       "</style>\n",
       "<table border=\"1\" class=\"dataframe\">\n",
       "  <thead>\n",
       "    <tr style=\"text-align: right;\">\n",
       "      <th></th>\n",
       "      <th>eu_sales</th>\n",
       "    </tr>\n",
       "    <tr>\n",
       "      <th>rating</th>\n",
       "      <th></th>\n",
       "    </tr>\n",
       "  </thead>\n",
       "  <tbody>\n",
       "    <tr>\n",
       "      <th>M</th>\n",
       "      <td>0.352604</td>\n",
       "    </tr>\n",
       "    <tr>\n",
       "      <th>E</th>\n",
       "      <td>0.265114</td>\n",
       "    </tr>\n",
       "    <tr>\n",
       "      <th>E10+</th>\n",
       "      <td>0.141405</td>\n",
       "    </tr>\n",
       "    <tr>\n",
       "      <th>T</th>\n",
       "      <td>0.125720</td>\n",
       "    </tr>\n",
       "    <tr>\n",
       "      <th>no_rating</th>\n",
       "      <td>0.078705</td>\n",
       "    </tr>\n",
       "  </tbody>\n",
       "</table>\n",
       "</div>"
      ],
      "text/plain": [
       "           eu_sales\n",
       "rating             \n",
       "M          0.352604\n",
       "E          0.265114\n",
       "E10+       0.141405\n",
       "T          0.125720\n",
       "no_rating  0.078705"
      ]
     },
     "metadata": {},
     "output_type": "display_data"
    },
    {
     "data": {
      "text/html": [
       "<div>\n",
       "<style scoped>\n",
       "    .dataframe tbody tr th:only-of-type {\n",
       "        vertical-align: middle;\n",
       "    }\n",
       "\n",
       "    .dataframe tbody tr th {\n",
       "        vertical-align: top;\n",
       "    }\n",
       "\n",
       "    .dataframe thead th {\n",
       "        text-align: right;\n",
       "    }\n",
       "</style>\n",
       "<table border=\"1\" class=\"dataframe\">\n",
       "  <thead>\n",
       "    <tr style=\"text-align: right;\">\n",
       "      <th></th>\n",
       "      <th>jp_sales</th>\n",
       "    </tr>\n",
       "    <tr>\n",
       "      <th>rating</th>\n",
       "      <th></th>\n",
       "    </tr>\n",
       "  </thead>\n",
       "  <tbody>\n",
       "    <tr>\n",
       "      <th>no_rating</th>\n",
       "      <td>0.075968</td>\n",
       "    </tr>\n",
       "    <tr>\n",
       "      <th>T</th>\n",
       "      <td>0.054539</td>\n",
       "    </tr>\n",
       "    <tr>\n",
       "      <th>E</th>\n",
       "      <td>0.040822</td>\n",
       "    </tr>\n",
       "    <tr>\n",
       "      <th>M</th>\n",
       "      <td>0.030226</td>\n",
       "    </tr>\n",
       "    <tr>\n",
       "      <th>E10+</th>\n",
       "      <td>0.024108</td>\n",
       "    </tr>\n",
       "  </tbody>\n",
       "</table>\n",
       "</div>"
      ],
      "text/plain": [
       "           jp_sales\n",
       "rating             \n",
       "no_rating  0.075968\n",
       "T          0.054539\n",
       "E          0.040822\n",
       "M          0.030226\n",
       "E10+       0.024108"
      ]
     },
     "metadata": {},
     "output_type": "display_data"
    }
   ],
   "source": [
    "df_na = df_actual.pivot_table(index='rating', values='na_sales', aggfunc='mean').sort_values(by='na_sales', ascending = False)\n",
    "df_eu = df_actual.pivot_table(index='rating', values='eu_sales', aggfunc='mean').sort_values(by='eu_sales', ascending = False)\n",
    "df_jp = df_actual.pivot_table(index='rating', values='jp_sales', aggfunc='mean').sort_values(by='jp_sales', ascending = False)\n",
    "\n",
    "display(df_na.head(5))\n",
    "display(df_eu.head(5))\n",
    "display(df_jp.head(5))"
   ]
  },
  {
   "cell_type": "markdown",
   "id": "94c359b1",
   "metadata": {},
   "source": [
    "Самые большие продажи с рейтингом M и Е в Европе и Америке. В Японии лидируют игры без рейтинга."
   ]
  },
  {
   "cell_type": "markdown",
   "id": "0b585f0a",
   "metadata": {},
   "source": [
    "### Вывод:\n",
    "\n",
    "Исправил вывод:\n",
    "\n",
    "В Северной Америке и Европе схожи лидеры по жанрам. В Японии свои лидеры.\n",
    "\n",
    "Самые большие продажи с рейтингом M и Е в Европе и Америке. В Японии лидируют игры без рейтинга."
   ]
  },
  {
   "cell_type": "markdown",
   "id": "098789d4",
   "metadata": {},
   "source": [
    "### Шаг 5. Проверьте гипотезы \n",
    "\n",
    "Средние пользовательские рейтинги платформ Xbox One и PC одинаковые; \n",
    "\n",
    "Средние пользовательские рейтинги жанров Action (англ. «действие», экшен-игры) и Sports (англ. «спортивные соревнования») разные. \n",
    "\n",
    "Задайте самостоятельно пороговое значение alpha. \n",
    "\n",
    "Поясните: \n",
    "\n",
    "Как вы сформулировали нулевую и альтернативную гипотезы; \n",
    "\n",
    "Какой критерий применили для проверки гипотез и почему. "
   ]
  },
  {
   "cell_type": "markdown",
   "id": "2e240a7f",
   "metadata": {},
   "source": [
    "#### Средние пользовательские рейтинги платформ Xbox One и PC одинаковые;"
   ]
  },
  {
   "cell_type": "markdown",
   "id": "1e0bdffd",
   "metadata": {},
   "source": [
    "Проверим гипотезу\n",
    "\n",
    "Нулевая гипотеза: Средние пользовательские рейтинги платформ Xbox One и PC равны\n",
    "\n",
    "Альтернативная гипотеза: Средние пользовательские рейтинги платформ Xbox One и PC не равны"
   ]
  },
  {
   "cell_type": "code",
   "execution_count": 63,
   "id": "2dae0617",
   "metadata": {},
   "outputs": [
    {
     "name": "stderr",
     "output_type": "stream",
     "text": [
      "/tmp/ipykernel_111/2277037166.py:4: SettingWithCopyWarning: \n",
      "A value is trying to be set on a copy of a slice from a DataFrame\n",
      "\n",
      "See the caveats in the documentation: https://pandas.pydata.org/pandas-docs/stable/user_guide/indexing.html#returning-a-view-versus-a-copy\n",
      "  df_xone.dropna(subset = ['user_score'],inplace = True)\n",
      "/tmp/ipykernel_111/2277037166.py:6: SettingWithCopyWarning: \n",
      "A value is trying to be set on a copy of a slice from a DataFrame\n",
      "\n",
      "See the caveats in the documentation: https://pandas.pydata.org/pandas-docs/stable/user_guide/indexing.html#returning-a-view-versus-a-copy\n",
      "  df_pc.dropna(subset = ['user_score'],inplace = True)\n"
     ]
    }
   ],
   "source": [
    "df_tbd = df_actual[df_actual['user_score'] != 'tbd'] # неподсчитанные отзывы tbd исключу из исследования\n",
    "df_tbd['user_score'] = df_tbd['user_score'].astype(float) # тип данный изменю на float\n",
    "df_xone = df_tbd[df_tbd['platform'] == 'XOne'] # продажи по XOne\n",
    "df_xone.dropna(subset = ['user_score'],inplace = True)\n",
    "df_pc = df_tbd[df_tbd['platform'] == 'PC'] # продажи по PC\n",
    "df_pc.dropna(subset = ['user_score'],inplace = True)"
   ]
  },
  {
   "cell_type": "code",
   "execution_count": 64,
   "id": "e58e2760",
   "metadata": {},
   "outputs": [
    {
     "data": {
      "text/plain": [
       "4.264389608779218"
      ]
     },
     "metadata": {},
     "output_type": "display_data"
    },
    {
     "data": {
      "text/plain": [
       "4.310201123450413"
      ]
     },
     "execution_count": 64,
     "metadata": {},
     "output_type": "execute_result"
    }
   ],
   "source": [
    "# сравним дисперсии выборок\n",
    "display(np.var(df_pc['user_score']))\n",
    "np.var(df_xone['user_score'])"
   ]
  },
  {
   "cell_type": "code",
   "execution_count": 65,
   "id": "8e4de3cb",
   "metadata": {},
   "outputs": [
    {
     "name": "stdout",
     "output_type": "stream",
     "text": [
      "Средние пользовательские рейтинги платформ Xbox One:  6.182386363636363\n",
      "Средние пользовательские рейтинги платформ PC: 6.050393700787401\n",
      "p-значение:  0.585620476179421\n",
      "Не получилось отвергнуть нулевую гипотезу\n"
     ]
    }
   ],
   "source": [
    "print('Средние пользовательские рейтинги платформ Xbox One: ',df_xone['user_score'].mean())\n",
    "print('Средние пользовательские рейтинги платформ PC:',df_pc['user_score'].mean())\n",
    "\n",
    "alpha = 0.05 # критический уровень статистической значимости\n",
    "# если p-value окажется меньше него - отвегнем гипотезу\n",
    "\n",
    "results = st.ttest_ind(\n",
    "    df_xone['user_score'], \n",
    "    df_pc['user_score'], \n",
    "    equal_var = False)\n",
    "# дисперсия разная. Буду использовать equal_var = False\n",
    "print('p-значение: ', results.pvalue)\n",
    "\n",
    "if results.pvalue < alpha:\n",
    "    print(\"Отвергаем нулевую гипотезу\")\n",
    "else:\n",
    "    print(\"Не получилось отвергнуть нулевую гипотезу\") "
   ]
  },
  {
   "cell_type": "markdown",
   "id": "289b2726",
   "metadata": {},
   "source": [
    "Не получилось отвергнуть нулевую гипотезу. Средние пользовательские рейтинги платформ Xbox One и PC практически равны."
   ]
  },
  {
   "cell_type": "markdown",
   "id": "d04e7078",
   "metadata": {},
   "source": [
    "#### Средние пользовательские рейтинги жанров Action (англ. «действие», экшен-игры) и Sports (англ. «спортивные соревнования») разные."
   ]
  },
  {
   "cell_type": "markdown",
   "id": "f1915b6c",
   "metadata": {},
   "source": [
    "Проверим гипотезу\n",
    "\n",
    "Нулевая гипотеза: Средние пользовательские рейтинги жанров Action (англ. «действие», экшен-игры) и Sports (англ. «спортивные соревнования») равны.\n",
    "\n",
    "Альтернативная гипотеза: Средние пользовательские рейтинги жанров Action (англ. «действие», экшен-игры) и Sports (англ. «спортивные соревнования») не равны."
   ]
  },
  {
   "cell_type": "code",
   "execution_count": 66,
   "id": "1678cf0f",
   "metadata": {},
   "outputs": [
    {
     "name": "stderr",
     "output_type": "stream",
     "text": [
      "/tmp/ipykernel_111/3076895450.py:2: SettingWithCopyWarning: \n",
      "A value is trying to be set on a copy of a slice from a DataFrame\n",
      "\n",
      "See the caveats in the documentation: https://pandas.pydata.org/pandas-docs/stable/user_guide/indexing.html#returning-a-view-versus-a-copy\n",
      "  df_action.dropna(subset = ['user_score'],inplace = True)\n",
      "/tmp/ipykernel_111/3076895450.py:4: SettingWithCopyWarning: \n",
      "A value is trying to be set on a copy of a slice from a DataFrame\n",
      "\n",
      "See the caveats in the documentation: https://pandas.pydata.org/pandas-docs/stable/user_guide/indexing.html#returning-a-view-versus-a-copy\n",
      "  df_sports.dropna(subset = ['user_score'],inplace = True)\n"
     ]
    }
   ],
   "source": [
    "df_action = df_tbd[df_tbd['genre'] == 'Action'] # продажи по XOne\n",
    "df_action.dropna(subset = ['user_score'],inplace = True)\n",
    "df_sports = df_tbd[df_tbd['genre'] == 'Sports'] # продажи по PC\n",
    "df_sports.dropna(subset = ['user_score'],inplace = True)"
   ]
  },
  {
   "cell_type": "code",
   "execution_count": 67,
   "id": "0eecd11a",
   "metadata": {},
   "outputs": [
    {
     "data": {
      "text/plain": [
       "6.448605517350686"
      ]
     },
     "metadata": {},
     "output_type": "display_data"
    },
    {
     "data": {
      "text/plain": [
       "5.017643987426074"
      ]
     },
     "execution_count": 67,
     "metadata": {},
     "output_type": "execute_result"
    }
   ],
   "source": [
    "# сравним дисперсии выборок\n",
    "display(np.var(df_action['user_score']))\n",
    "np.var(df_sports['user_score'])"
   ]
  },
  {
   "cell_type": "code",
   "execution_count": 68,
   "id": "c535b390",
   "metadata": {},
   "outputs": [
    {
     "name": "stdout",
     "output_type": "stream",
     "text": [
      "Средние пользовательские рейтинги жанров Action:  5.958160237388724\n",
      "Средние пользовательские рейтинги жанров Sports: 4.843795620437956\n",
      "p-значение:  3.966812188237664e-06\n",
      "Отвергаем нулевую гипотезу\n"
     ]
    }
   ],
   "source": [
    "print('Средние пользовательские рейтинги жанров Action: ',df_action['user_score'].mean())\n",
    "print('Средние пользовательские рейтинги жанров Sports:',df_sports['user_score'].mean())\n",
    "\n",
    "alpha = 0.05 # критический уровень статистической значимости\n",
    "# если p-value окажется меньше него - отвегнем гипотезу\n",
    "\n",
    "results = st.ttest_ind(\n",
    "    df_action['user_score'], \n",
    "    df_sports['user_score'], \n",
    "    equal_var = False)\n",
    "# дисперсия разная. Буду использовать equal_var = False\n",
    "print('p-значение: ', results.pvalue)\n",
    "\n",
    "if results.pvalue < alpha:\n",
    "    print(\"Отвергаем нулевую гипотезу\")\n",
    "else:\n",
    "    print(\"Не получилось отвергнуть нулевую гипотезу\") "
   ]
  },
  {
   "cell_type": "markdown",
   "id": "524195d9",
   "metadata": {},
   "source": [
    "Отвергаем нулевую гипотезу. Средние пользовательские рейтинги жанров Action (англ. «действие», экшен-игры) и Sports (англ. «спортивные соревнования») не равны."
   ]
  },
  {
   "cell_type": "markdown",
   "id": "435645e6",
   "metadata": {},
   "source": [
    "### Вывод:\n",
    "\n",
    "Гипотезы были отвергнуты. \n",
    "\n",
    "Средние пользовательские рейтинги платформ Xbox One и PC не равны.\n",
    "\n",
    "Средние пользовательские рейтинги жанров Action (англ. «действие», экшен-игры) и Sports (англ. «спортивные соревнования») не равны."
   ]
  },
  {
   "cell_type": "markdown",
   "id": "285b7d6a",
   "metadata": {},
   "source": [
    "## Общий вывод"
   ]
  },
  {
   "cell_type": "markdown",
   "id": "578fa6ae",
   "metadata": {},
   "source": [
    "Провел исследовательский анализ данных. Выявил актуальный период жизни платформы, равный 10 годам. \n",
    " \n",
    "Выявил две платформы которые будут потенциально прибыльным, это PS4 и XOne.\n",
    " \n",
    "Выявил зависимость увеличения продаж от положительных оценок пользователей и критиков. Так же большие продажи занимают игры без оценок.\n",
    "\n",
    "Выделил самый прибыльные жанр игры - это Shooter.\n",
    "\n",
    "Проверил гипотезы: \n",
    "\n",
    "Средние пользовательские рейтинги платформ Xbox One и PC равны. Не получилось отвергнуть нулевую гипотезу. Средние пользовательские рейтинги платформ Xbox One и PC практически равны.\n",
    "\n",
    "Средние пользовательские рейтинги жанров Action (англ. «действие», экшен-игры) и Sports (англ. «спортивные соревнования») равны. Гипотеза были отвергнуты."
   ]
  }
 ],
 "metadata": {
  "ExecuteTimeLog": [
   {
    "duration": 944,
    "start_time": "2022-02-20T10:08:57.511Z"
   },
   {
    "duration": 1468,
    "start_time": "2022-02-20T10:08:58.456Z"
   },
   {
    "duration": -1326,
    "start_time": "2022-02-20T10:09:01.253Z"
   },
   {
    "duration": -1327,
    "start_time": "2022-02-20T10:09:01.255Z"
   },
   {
    "duration": -1328,
    "start_time": "2022-02-20T10:09:01.257Z"
   },
   {
    "duration": -1329,
    "start_time": "2022-02-20T10:09:01.259Z"
   },
   {
    "duration": -1336,
    "start_time": "2022-02-20T10:09:01.267Z"
   },
   {
    "duration": -1371,
    "start_time": "2022-02-20T10:09:01.303Z"
   },
   {
    "duration": -1373,
    "start_time": "2022-02-20T10:09:01.306Z"
   },
   {
    "duration": -1374,
    "start_time": "2022-02-20T10:09:01.308Z"
   },
   {
    "duration": -1376,
    "start_time": "2022-02-20T10:09:01.312Z"
   },
   {
    "duration": -1381,
    "start_time": "2022-02-20T10:09:01.318Z"
   },
   {
    "duration": -1385,
    "start_time": "2022-02-20T10:09:01.323Z"
   },
   {
    "duration": -1387,
    "start_time": "2022-02-20T10:09:01.326Z"
   },
   {
    "duration": -1394,
    "start_time": "2022-02-20T10:09:01.334Z"
   },
   {
    "duration": -1421,
    "start_time": "2022-02-20T10:09:01.362Z"
   },
   {
    "duration": -1463,
    "start_time": "2022-02-20T10:09:01.405Z"
   },
   {
    "duration": -1465,
    "start_time": "2022-02-20T10:09:01.408Z"
   },
   {
    "duration": -1468,
    "start_time": "2022-02-20T10:09:01.412Z"
   },
   {
    "duration": -1473,
    "start_time": "2022-02-20T10:09:01.418Z"
   },
   {
    "duration": -1475,
    "start_time": "2022-02-20T10:09:01.421Z"
   },
   {
    "duration": -1476,
    "start_time": "2022-02-20T10:09:01.423Z"
   },
   {
    "duration": -1477,
    "start_time": "2022-02-20T10:09:01.425Z"
   },
   {
    "duration": -1479,
    "start_time": "2022-02-20T10:09:01.428Z"
   },
   {
    "duration": -1486,
    "start_time": "2022-02-20T10:09:01.436Z"
   },
   {
    "duration": -1487,
    "start_time": "2022-02-20T10:09:01.438Z"
   },
   {
    "duration": -1487,
    "start_time": "2022-02-20T10:09:01.440Z"
   },
   {
    "duration": -1501,
    "start_time": "2022-02-20T10:09:01.455Z"
   },
   {
    "duration": -1503,
    "start_time": "2022-02-20T10:09:01.458Z"
   },
   {
    "duration": -1506,
    "start_time": "2022-02-20T10:09:01.462Z"
   },
   {
    "duration": -1512,
    "start_time": "2022-02-20T10:09:01.469Z"
   },
   {
    "duration": -1515,
    "start_time": "2022-02-20T10:09:01.472Z"
   },
   {
    "duration": -1517,
    "start_time": "2022-02-20T10:09:01.475Z"
   },
   {
    "duration": -1518,
    "start_time": "2022-02-20T10:09:01.477Z"
   },
   {
    "duration": 175,
    "start_time": "2022-02-20T10:14:53.541Z"
   },
   {
    "duration": 949,
    "start_time": "2022-02-20T10:15:00.111Z"
   },
   {
    "duration": 180,
    "start_time": "2022-02-20T10:15:01.062Z"
   },
   {
    "duration": 5,
    "start_time": "2022-02-20T10:15:01.244Z"
   },
   {
    "duration": 14,
    "start_time": "2022-02-20T10:15:01.250Z"
   },
   {
    "duration": 12,
    "start_time": "2022-02-20T10:15:01.266Z"
   },
   {
    "duration": 22,
    "start_time": "2022-02-20T10:15:01.280Z"
   },
   {
    "duration": 33,
    "start_time": "2022-02-20T10:15:01.303Z"
   },
   {
    "duration": 14,
    "start_time": "2022-02-20T10:15:01.337Z"
   },
   {
    "duration": 12,
    "start_time": "2022-02-20T10:15:01.353Z"
   },
   {
    "duration": 17,
    "start_time": "2022-02-20T10:15:01.367Z"
   },
   {
    "duration": 47,
    "start_time": "2022-02-20T10:15:01.385Z"
   },
   {
    "duration": 12,
    "start_time": "2022-02-20T10:15:01.435Z"
   },
   {
    "duration": 9,
    "start_time": "2022-02-20T10:15:01.448Z"
   },
   {
    "duration": 36,
    "start_time": "2022-02-20T10:15:01.459Z"
   },
   {
    "duration": 486,
    "start_time": "2022-02-20T10:15:01.497Z"
   },
   {
    "duration": 13,
    "start_time": "2022-02-20T10:15:01.984Z"
   },
   {
    "duration": 404,
    "start_time": "2022-02-20T10:15:01.999Z"
   },
   {
    "duration": 139,
    "start_time": "2022-02-20T10:15:02.405Z"
   },
   {
    "duration": 534,
    "start_time": "2022-02-20T10:15:02.546Z"
   },
   {
    "duration": 6,
    "start_time": "2022-02-20T10:15:03.082Z"
   },
   {
    "duration": 682,
    "start_time": "2022-02-20T10:15:03.090Z"
   },
   {
    "duration": 7,
    "start_time": "2022-02-20T10:15:03.773Z"
   },
   {
    "duration": 8,
    "start_time": "2022-02-20T10:15:03.782Z"
   },
   {
    "duration": 6,
    "start_time": "2022-02-20T10:15:03.792Z"
   },
   {
    "duration": 34,
    "start_time": "2022-02-20T10:15:03.799Z"
   },
   {
    "duration": 33,
    "start_time": "2022-02-20T10:15:03.835Z"
   },
   {
    "duration": 59,
    "start_time": "2022-02-20T10:15:03.872Z"
   },
   {
    "duration": 32,
    "start_time": "2022-02-20T10:15:03.933Z"
   },
   {
    "duration": 16,
    "start_time": "2022-02-20T10:15:03.967Z"
   },
   {
    "duration": 6,
    "start_time": "2022-02-20T10:15:03.985Z"
   },
   {
    "duration": 41,
    "start_time": "2022-02-20T10:15:03.993Z"
   },
   {
    "duration": 12,
    "start_time": "2022-02-20T10:15:04.035Z"
   },
   {
    "duration": 5,
    "start_time": "2022-02-20T10:15:04.049Z"
   },
   {
    "duration": 6,
    "start_time": "2022-02-20T10:15:04.056Z"
   },
   {
    "duration": 459,
    "start_time": "2022-02-21T06:17:55.583Z"
   },
   {
    "duration": 348,
    "start_time": "2022-02-21T06:18:15.425Z"
   },
   {
    "duration": 995,
    "start_time": "2022-02-21T06:18:24.075Z"
   },
   {
    "duration": 295,
    "start_time": "2022-02-21T06:18:25.073Z"
   },
   {
    "duration": 6,
    "start_time": "2022-02-21T06:18:25.370Z"
   },
   {
    "duration": 16,
    "start_time": "2022-02-21T06:18:25.378Z"
   },
   {
    "duration": 29,
    "start_time": "2022-02-21T06:18:25.397Z"
   },
   {
    "duration": 21,
    "start_time": "2022-02-21T06:18:25.427Z"
   },
   {
    "duration": 17,
    "start_time": "2022-02-21T06:18:25.450Z"
   },
   {
    "duration": 15,
    "start_time": "2022-02-21T06:18:25.470Z"
   },
   {
    "duration": 43,
    "start_time": "2022-02-21T06:18:25.487Z"
   },
   {
    "duration": 20,
    "start_time": "2022-02-21T06:18:25.532Z"
   },
   {
    "duration": 15,
    "start_time": "2022-02-21T06:18:25.554Z"
   },
   {
    "duration": 13,
    "start_time": "2022-02-21T06:18:25.571Z"
   },
   {
    "duration": 37,
    "start_time": "2022-02-21T06:18:25.586Z"
   },
   {
    "duration": 41,
    "start_time": "2022-02-21T06:18:25.625Z"
   },
   {
    "duration": 531,
    "start_time": "2022-02-21T06:18:25.668Z"
   },
   {
    "duration": 23,
    "start_time": "2022-02-21T06:18:26.201Z"
   },
   {
    "duration": 434,
    "start_time": "2022-02-21T06:18:26.226Z"
   },
   {
    "duration": 161,
    "start_time": "2022-02-21T06:18:26.662Z"
   },
   {
    "duration": 578,
    "start_time": "2022-02-21T06:18:26.826Z"
   },
   {
    "duration": 13,
    "start_time": "2022-02-21T06:18:27.406Z"
   },
   {
    "duration": 8,
    "start_time": "2022-02-21T06:18:27.421Z"
   },
   {
    "duration": 666,
    "start_time": "2022-02-21T06:18:27.431Z"
   },
   {
    "duration": 17,
    "start_time": "2022-02-21T06:18:28.101Z"
   },
   {
    "duration": 8,
    "start_time": "2022-02-21T06:18:28.120Z"
   },
   {
    "duration": 7,
    "start_time": "2022-02-21T06:18:28.129Z"
   },
   {
    "duration": 14,
    "start_time": "2022-02-21T06:18:28.137Z"
   },
   {
    "duration": 34,
    "start_time": "2022-02-21T06:18:28.153Z"
   },
   {
    "duration": 64,
    "start_time": "2022-02-21T06:18:28.188Z"
   },
   {
    "duration": 35,
    "start_time": "2022-02-21T06:18:28.253Z"
   },
   {
    "duration": 43,
    "start_time": "2022-02-21T06:18:28.289Z"
   },
   {
    "duration": 5,
    "start_time": "2022-02-21T06:18:28.334Z"
   },
   {
    "duration": 12,
    "start_time": "2022-02-21T06:18:28.341Z"
   },
   {
    "duration": 17,
    "start_time": "2022-02-21T06:18:28.354Z"
   },
   {
    "duration": 6,
    "start_time": "2022-02-21T06:18:28.372Z"
   },
   {
    "duration": 39,
    "start_time": "2022-02-21T06:18:28.380Z"
   },
   {
    "duration": 997,
    "start_time": "2022-02-21T08:24:26.950Z"
   },
   {
    "duration": 215,
    "start_time": "2022-02-21T08:24:27.949Z"
   },
   {
    "duration": 11,
    "start_time": "2022-02-21T08:24:28.167Z"
   },
   {
    "duration": 13,
    "start_time": "2022-02-21T08:24:28.184Z"
   },
   {
    "duration": 29,
    "start_time": "2022-02-21T08:24:28.199Z"
   },
   {
    "duration": 24,
    "start_time": "2022-02-21T08:24:28.230Z"
   },
   {
    "duration": 21,
    "start_time": "2022-02-21T08:24:28.257Z"
   },
   {
    "duration": 46,
    "start_time": "2022-02-21T08:24:28.280Z"
   },
   {
    "duration": 15,
    "start_time": "2022-02-21T08:24:28.330Z"
   },
   {
    "duration": 25,
    "start_time": "2022-02-21T08:24:28.348Z"
   },
   {
    "duration": 53,
    "start_time": "2022-02-21T08:24:28.375Z"
   },
   {
    "duration": 14,
    "start_time": "2022-02-21T08:24:28.430Z"
   },
   {
    "duration": 7,
    "start_time": "2022-02-21T08:24:28.446Z"
   },
   {
    "duration": 65,
    "start_time": "2022-02-21T08:24:28.454Z"
   },
   {
    "duration": 503,
    "start_time": "2022-02-21T08:24:28.520Z"
   },
   {
    "duration": 16,
    "start_time": "2022-02-21T08:24:29.025Z"
   },
   {
    "duration": 469,
    "start_time": "2022-02-21T08:24:29.043Z"
   },
   {
    "duration": 156,
    "start_time": "2022-02-21T08:24:29.513Z"
   },
   {
    "duration": 562,
    "start_time": "2022-02-21T08:24:29.671Z"
   },
   {
    "duration": 7,
    "start_time": "2022-02-21T08:24:30.234Z"
   },
   {
    "duration": 730,
    "start_time": "2022-02-21T08:24:30.243Z"
   },
   {
    "duration": 6,
    "start_time": "2022-02-21T08:24:30.975Z"
   },
   {
    "duration": 6,
    "start_time": "2022-02-21T08:24:30.983Z"
   },
   {
    "duration": 6,
    "start_time": "2022-02-21T08:24:30.990Z"
   },
   {
    "duration": 12,
    "start_time": "2022-02-21T08:24:31.019Z"
   },
   {
    "duration": 30,
    "start_time": "2022-02-21T08:24:31.033Z"
   },
   {
    "duration": 54,
    "start_time": "2022-02-21T08:24:31.066Z"
   },
   {
    "duration": 30,
    "start_time": "2022-02-21T08:24:31.122Z"
   },
   {
    "duration": 14,
    "start_time": "2022-02-21T08:24:31.154Z"
   },
   {
    "duration": 5,
    "start_time": "2022-02-21T08:24:31.169Z"
   },
   {
    "duration": 6,
    "start_time": "2022-02-21T08:24:31.176Z"
   },
   {
    "duration": 45,
    "start_time": "2022-02-21T08:24:31.183Z"
   },
   {
    "duration": 6,
    "start_time": "2022-02-21T08:24:31.230Z"
   },
   {
    "duration": 6,
    "start_time": "2022-02-21T08:24:31.238Z"
   },
   {
    "duration": 8,
    "start_time": "2022-02-21T08:41:49.382Z"
   },
   {
    "duration": 375,
    "start_time": "2022-02-21T08:43:19.083Z"
   },
   {
    "duration": 3,
    "start_time": "2022-02-21T12:36:31.094Z"
   },
   {
    "duration": 1192,
    "start_time": "2022-02-21T12:36:31.102Z"
   },
   {
    "duration": 4,
    "start_time": "2022-02-21T12:36:32.295Z"
   },
   {
    "duration": 14,
    "start_time": "2022-02-21T12:36:38.068Z"
   },
   {
    "duration": 9,
    "start_time": "2022-02-21T12:36:47.020Z"
   },
   {
    "duration": 10,
    "start_time": "2022-02-21T12:36:55.984Z"
   },
   {
    "duration": 935,
    "start_time": "2022-02-21T19:53:29.535Z"
   },
   {
    "duration": 192,
    "start_time": "2022-02-21T19:53:30.472Z"
   },
   {
    "duration": 5,
    "start_time": "2022-02-21T19:53:30.666Z"
   },
   {
    "duration": 11,
    "start_time": "2022-02-21T19:53:30.673Z"
   },
   {
    "duration": 34,
    "start_time": "2022-02-21T19:53:30.686Z"
   },
   {
    "duration": 25,
    "start_time": "2022-02-21T19:53:30.722Z"
   },
   {
    "duration": 18,
    "start_time": "2022-02-21T19:53:30.749Z"
   },
   {
    "duration": 15,
    "start_time": "2022-02-21T19:53:30.769Z"
   },
   {
    "duration": 34,
    "start_time": "2022-02-21T19:53:30.786Z"
   },
   {
    "duration": 20,
    "start_time": "2022-02-21T19:53:30.822Z"
   },
   {
    "duration": 16,
    "start_time": "2022-02-21T19:53:30.844Z"
   },
   {
    "duration": 14,
    "start_time": "2022-02-21T19:53:30.862Z"
   },
   {
    "duration": 44,
    "start_time": "2022-02-21T19:53:30.878Z"
   },
   {
    "duration": 43,
    "start_time": "2022-02-21T19:53:30.923Z"
   },
   {
    "duration": 531,
    "start_time": "2022-02-21T19:53:30.968Z"
   },
   {
    "duration": 18,
    "start_time": "2022-02-21T19:53:31.501Z"
   },
   {
    "duration": 396,
    "start_time": "2022-02-21T19:53:31.520Z"
   },
   {
    "duration": 168,
    "start_time": "2022-02-21T19:53:31.918Z"
   },
   {
    "duration": 549,
    "start_time": "2022-02-21T19:53:32.087Z"
   },
   {
    "duration": 8,
    "start_time": "2022-02-21T19:53:32.638Z"
   },
   {
    "duration": 774,
    "start_time": "2022-02-21T19:53:32.648Z"
   },
   {
    "duration": 7,
    "start_time": "2022-02-21T19:53:33.424Z"
   },
   {
    "duration": 22,
    "start_time": "2022-02-21T19:53:33.434Z"
   },
   {
    "duration": 13,
    "start_time": "2022-02-21T19:53:33.458Z"
   },
   {
    "duration": 24,
    "start_time": "2022-02-21T19:53:33.473Z"
   },
   {
    "duration": 41,
    "start_time": "2022-02-21T19:53:33.498Z"
   },
   {
    "duration": 37,
    "start_time": "2022-02-21T19:53:33.541Z"
   },
   {
    "duration": 59,
    "start_time": "2022-02-21T19:53:33.579Z"
   },
   {
    "duration": 18,
    "start_time": "2022-02-21T19:53:33.639Z"
   },
   {
    "duration": 6,
    "start_time": "2022-02-21T19:53:33.659Z"
   },
   {
    "duration": 6,
    "start_time": "2022-02-21T19:53:33.667Z"
   },
   {
    "duration": 48,
    "start_time": "2022-02-21T19:53:33.675Z"
   },
   {
    "duration": 5,
    "start_time": "2022-02-21T19:53:33.725Z"
   },
   {
    "duration": 6,
    "start_time": "2022-02-21T19:53:33.732Z"
   },
   {
    "duration": 7,
    "start_time": "2022-02-21T20:43:33.814Z"
   },
   {
    "duration": 8,
    "start_time": "2022-02-21T20:43:57.263Z"
   },
   {
    "duration": 8,
    "start_time": "2022-02-21T20:45:15.460Z"
   },
   {
    "duration": 8,
    "start_time": "2022-02-21T20:45:56.117Z"
   },
   {
    "duration": 9,
    "start_time": "2022-02-21T21:02:11.381Z"
   },
   {
    "duration": 21,
    "start_time": "2022-02-21T21:02:15.798Z"
   },
   {
    "duration": 10,
    "start_time": "2022-02-21T21:02:25.265Z"
   },
   {
    "duration": 23,
    "start_time": "2022-02-21T21:02:29.237Z"
   },
   {
    "duration": 1217,
    "start_time": "2022-02-22T07:20:36.164Z"
   },
   {
    "duration": 268,
    "start_time": "2022-02-22T07:20:37.384Z"
   },
   {
    "duration": 6,
    "start_time": "2022-02-22T07:20:37.655Z"
   },
   {
    "duration": 16,
    "start_time": "2022-02-22T07:20:37.664Z"
   },
   {
    "duration": 21,
    "start_time": "2022-02-22T07:20:37.683Z"
   },
   {
    "duration": 64,
    "start_time": "2022-02-22T07:20:37.706Z"
   },
   {
    "duration": 27,
    "start_time": "2022-02-22T07:20:37.773Z"
   },
   {
    "duration": 20,
    "start_time": "2022-02-22T07:20:37.804Z"
   },
   {
    "duration": 47,
    "start_time": "2022-02-22T07:20:37.827Z"
   },
   {
    "duration": 30,
    "start_time": "2022-02-22T07:20:37.877Z"
   },
   {
    "duration": 54,
    "start_time": "2022-02-22T07:20:37.909Z"
   },
   {
    "duration": 22,
    "start_time": "2022-02-22T07:20:37.965Z"
   },
   {
    "duration": 9,
    "start_time": "2022-02-22T07:20:37.989Z"
   },
   {
    "duration": 92,
    "start_time": "2022-02-22T07:20:38.000Z"
   },
   {
    "duration": 774,
    "start_time": "2022-02-22T07:20:38.094Z"
   },
   {
    "duration": 14,
    "start_time": "2022-02-22T07:20:38.870Z"
   },
   {
    "duration": 616,
    "start_time": "2022-02-22T07:20:38.887Z"
   },
   {
    "duration": 240,
    "start_time": "2022-02-22T07:20:39.506Z"
   },
   {
    "duration": 925,
    "start_time": "2022-02-22T07:20:39.749Z"
   },
   {
    "duration": 12,
    "start_time": "2022-02-22T07:20:40.677Z"
   },
   {
    "duration": 1119,
    "start_time": "2022-02-22T07:20:40.692Z"
   },
   {
    "duration": 10,
    "start_time": "2022-02-22T07:20:41.813Z"
   },
   {
    "duration": 35,
    "start_time": "2022-02-22T07:20:41.828Z"
   },
   {
    "duration": 3,
    "start_time": "2022-02-22T07:20:41.867Z"
   },
   {
    "duration": 24,
    "start_time": "2022-02-22T07:20:41.872Z"
   },
   {
    "duration": 82,
    "start_time": "2022-02-22T07:20:41.898Z"
   },
   {
    "duration": 79,
    "start_time": "2022-02-22T07:20:41.983Z"
   },
   {
    "duration": 54,
    "start_time": "2022-02-22T07:20:42.065Z"
   },
   {
    "duration": 52,
    "start_time": "2022-02-22T07:20:42.122Z"
   },
   {
    "duration": 11,
    "start_time": "2022-02-22T07:20:42.177Z"
   },
   {
    "duration": 11,
    "start_time": "2022-02-22T07:20:42.191Z"
   },
   {
    "duration": 58,
    "start_time": "2022-02-22T07:20:42.205Z"
   },
   {
    "duration": 9,
    "start_time": "2022-02-22T07:20:42.265Z"
   },
   {
    "duration": 11,
    "start_time": "2022-02-22T07:20:42.277Z"
   },
   {
    "duration": 421,
    "start_time": "2022-02-22T07:25:21.209Z"
   },
   {
    "duration": 92,
    "start_time": "2022-02-22T07:25:53.087Z"
   },
   {
    "duration": 106,
    "start_time": "2022-02-22T07:25:58.866Z"
   },
   {
    "duration": 336,
    "start_time": "2022-02-22T07:26:05.255Z"
   },
   {
    "duration": 11,
    "start_time": "2022-02-22T07:26:14.604Z"
   },
   {
    "duration": 11,
    "start_time": "2022-02-22T07:26:14.834Z"
   },
   {
    "duration": 5,
    "start_time": "2022-02-22T07:31:29.909Z"
   },
   {
    "duration": 15,
    "start_time": "2022-02-22T07:31:42.972Z"
   },
   {
    "duration": 17,
    "start_time": "2022-02-22T07:32:05.429Z"
   },
   {
    "duration": 18,
    "start_time": "2022-02-22T07:46:48.286Z"
   },
   {
    "duration": 8,
    "start_time": "2022-02-22T07:58:12.302Z"
   },
   {
    "duration": 16,
    "start_time": "2022-02-22T07:58:24.451Z"
   },
   {
    "duration": 15,
    "start_time": "2022-02-22T07:58:47.941Z"
   },
   {
    "duration": 13,
    "start_time": "2022-02-22T08:00:12.624Z"
   },
   {
    "duration": 4,
    "start_time": "2022-02-22T08:00:59.257Z"
   },
   {
    "duration": 260,
    "start_time": "2022-02-22T08:00:59.267Z"
   },
   {
    "duration": 7,
    "start_time": "2022-02-22T08:00:59.529Z"
   },
   {
    "duration": 31,
    "start_time": "2022-02-22T08:00:59.539Z"
   },
   {
    "duration": 23,
    "start_time": "2022-02-22T08:00:59.573Z"
   },
   {
    "duration": 35,
    "start_time": "2022-02-22T08:00:59.598Z"
   },
   {
    "duration": 42,
    "start_time": "2022-02-22T08:00:59.674Z"
   },
   {
    "duration": 22,
    "start_time": "2022-02-22T08:00:59.719Z"
   },
   {
    "duration": 35,
    "start_time": "2022-02-22T08:00:59.746Z"
   },
   {
    "duration": 24,
    "start_time": "2022-02-22T08:00:59.784Z"
   },
   {
    "duration": 63,
    "start_time": "2022-02-22T08:00:59.811Z"
   },
   {
    "duration": 15,
    "start_time": "2022-02-22T08:01:02.351Z"
   },
   {
    "duration": 3,
    "start_time": "2022-02-22T08:01:27.793Z"
   },
   {
    "duration": 246,
    "start_time": "2022-02-22T08:01:27.802Z"
   },
   {
    "duration": 7,
    "start_time": "2022-02-22T08:01:28.050Z"
   },
   {
    "duration": 13,
    "start_time": "2022-02-22T08:01:28.060Z"
   },
   {
    "duration": 21,
    "start_time": "2022-02-22T08:01:28.076Z"
   },
   {
    "duration": 70,
    "start_time": "2022-02-22T08:01:28.099Z"
   },
   {
    "duration": 34,
    "start_time": "2022-02-22T08:01:28.172Z"
   },
   {
    "duration": 25,
    "start_time": "2022-02-22T08:01:28.209Z"
   },
   {
    "duration": 24,
    "start_time": "2022-02-22T08:01:28.263Z"
   },
   {
    "duration": 22,
    "start_time": "2022-02-22T08:01:28.289Z"
   },
   {
    "duration": 18,
    "start_time": "2022-02-22T08:01:30.735Z"
   },
   {
    "duration": 18,
    "start_time": "2022-02-22T08:01:38.903Z"
   },
   {
    "duration": 4,
    "start_time": "2022-02-22T08:02:27.223Z"
   },
   {
    "duration": 260,
    "start_time": "2022-02-22T08:02:27.233Z"
   },
   {
    "duration": 9,
    "start_time": "2022-02-22T08:02:27.496Z"
   },
   {
    "duration": 15,
    "start_time": "2022-02-22T08:02:27.509Z"
   },
   {
    "duration": 57,
    "start_time": "2022-02-22T08:02:27.527Z"
   },
   {
    "duration": 38,
    "start_time": "2022-02-22T08:02:27.587Z"
   },
   {
    "duration": 58,
    "start_time": "2022-02-22T08:02:27.628Z"
   },
   {
    "duration": 21,
    "start_time": "2022-02-22T08:02:27.689Z"
   },
   {
    "duration": 48,
    "start_time": "2022-02-22T08:02:27.715Z"
   },
   {
    "duration": 24,
    "start_time": "2022-02-22T08:02:27.765Z"
   },
   {
    "duration": 24,
    "start_time": "2022-02-22T08:02:27.793Z"
   },
   {
    "duration": 42,
    "start_time": "2022-02-22T08:02:27.820Z"
   },
   {
    "duration": 33,
    "start_time": "2022-02-22T08:02:27.866Z"
   },
   {
    "duration": 30,
    "start_time": "2022-02-22T08:02:27.901Z"
   },
   {
    "duration": 33,
    "start_time": "2022-02-22T08:02:27.933Z"
   },
   {
    "duration": 78,
    "start_time": "2022-02-22T08:02:31.033Z"
   },
   {
    "duration": 631,
    "start_time": "2022-02-22T08:02:40.733Z"
   },
   {
    "duration": 22,
    "start_time": "2022-02-22T08:05:26.813Z"
   },
   {
    "duration": 751,
    "start_time": "2022-02-22T08:05:36.318Z"
   },
   {
    "duration": 18,
    "start_time": "2022-02-22T08:05:47.373Z"
   },
   {
    "duration": 926,
    "start_time": "2022-02-22T08:05:52.492Z"
   },
   {
    "duration": 17,
    "start_time": "2022-02-22T08:06:14.141Z"
   },
   {
    "duration": 727,
    "start_time": "2022-02-22T08:06:17.069Z"
   },
   {
    "duration": 16,
    "start_time": "2022-02-22T08:09:29.012Z"
   },
   {
    "duration": 704,
    "start_time": "2022-02-22T08:09:32.771Z"
   },
   {
    "duration": 243,
    "start_time": "2022-02-22T08:11:45.747Z"
   },
   {
    "duration": 247,
    "start_time": "2022-02-22T08:12:11.130Z"
   },
   {
    "duration": 4,
    "start_time": "2022-02-22T08:12:17.276Z"
   },
   {
    "duration": 270,
    "start_time": "2022-02-22T08:12:17.287Z"
   },
   {
    "duration": 9,
    "start_time": "2022-02-22T08:12:17.560Z"
   },
   {
    "duration": 20,
    "start_time": "2022-02-22T08:12:17.573Z"
   },
   {
    "duration": 24,
    "start_time": "2022-02-22T08:12:17.596Z"
   },
   {
    "duration": 59,
    "start_time": "2022-02-22T08:12:17.622Z"
   },
   {
    "duration": 36,
    "start_time": "2022-02-22T08:12:17.684Z"
   },
   {
    "duration": 56,
    "start_time": "2022-02-22T08:12:17.722Z"
   },
   {
    "duration": 25,
    "start_time": "2022-02-22T08:12:17.783Z"
   },
   {
    "duration": 49,
    "start_time": "2022-02-22T08:12:17.811Z"
   },
   {
    "duration": 20,
    "start_time": "2022-02-22T08:12:17.863Z"
   },
   {
    "duration": 17,
    "start_time": "2022-02-22T08:12:17.886Z"
   },
   {
    "duration": 61,
    "start_time": "2022-02-22T08:12:17.905Z"
   },
   {
    "duration": 34,
    "start_time": "2022-02-22T08:12:17.969Z"
   },
   {
    "duration": 12,
    "start_time": "2022-02-22T08:12:18.007Z"
   },
   {
    "duration": 119,
    "start_time": "2022-02-22T08:12:18.021Z"
   },
   {
    "duration": 644,
    "start_time": "2022-02-22T08:12:18.143Z"
   },
   {
    "duration": 18,
    "start_time": "2022-02-22T08:12:18.791Z"
   },
   {
    "duration": 869,
    "start_time": "2022-02-22T08:12:18.812Z"
   },
   {
    "duration": 331,
    "start_time": "2022-02-22T08:12:23.252Z"
   },
   {
    "duration": 895,
    "start_time": "2022-02-22T08:13:00.634Z"
   },
   {
    "duration": 10,
    "start_time": "2022-02-22T08:15:10.401Z"
   },
   {
    "duration": 915,
    "start_time": "2022-02-22T08:17:56.431Z"
   },
   {
    "duration": 4,
    "start_time": "2022-02-22T08:18:47.178Z"
   },
   {
    "duration": 328,
    "start_time": "2022-02-22T08:18:47.189Z"
   },
   {
    "duration": 6,
    "start_time": "2022-02-22T08:18:47.520Z"
   },
   {
    "duration": 32,
    "start_time": "2022-02-22T08:18:47.529Z"
   },
   {
    "duration": 20,
    "start_time": "2022-02-22T08:18:47.564Z"
   },
   {
    "duration": 35,
    "start_time": "2022-02-22T08:18:47.586Z"
   },
   {
    "duration": 49,
    "start_time": "2022-02-22T08:18:47.623Z"
   },
   {
    "duration": 21,
    "start_time": "2022-02-22T08:18:47.674Z"
   },
   {
    "duration": 20,
    "start_time": "2022-02-22T08:18:47.699Z"
   },
   {
    "duration": 58,
    "start_time": "2022-02-22T08:18:47.722Z"
   },
   {
    "duration": 14,
    "start_time": "2022-02-22T08:18:47.783Z"
   },
   {
    "duration": 13,
    "start_time": "2022-02-22T08:18:47.799Z"
   },
   {
    "duration": 63,
    "start_time": "2022-02-22T08:18:47.814Z"
   },
   {
    "duration": 21,
    "start_time": "2022-02-22T08:18:47.879Z"
   },
   {
    "duration": 10,
    "start_time": "2022-02-22T08:18:47.904Z"
   },
   {
    "duration": 98,
    "start_time": "2022-02-22T08:18:47.917Z"
   },
   {
    "duration": 639,
    "start_time": "2022-02-22T08:18:48.017Z"
   },
   {
    "duration": 16,
    "start_time": "2022-02-22T08:18:48.662Z"
   },
   {
    "duration": 686,
    "start_time": "2022-02-22T08:18:48.680Z"
   },
   {
    "duration": 359,
    "start_time": "2022-02-22T08:18:49.369Z"
   },
   {
    "duration": 870,
    "start_time": "2022-02-22T08:18:51.222Z"
   },
   {
    "duration": 3575,
    "start_time": "2022-02-22T08:19:27.466Z"
   },
   {
    "duration": 918,
    "start_time": "2022-02-22T08:19:46.056Z"
   },
   {
    "duration": 306,
    "start_time": "2022-02-22T08:20:07.441Z"
   },
   {
    "duration": 917,
    "start_time": "2022-02-22T08:20:21.591Z"
   },
   {
    "duration": 876,
    "start_time": "2022-02-22T08:20:59.878Z"
   },
   {
    "duration": 11,
    "start_time": "2022-02-22T08:22:58.845Z"
   },
   {
    "duration": 961,
    "start_time": "2022-02-22T08:23:09.869Z"
   },
   {
    "duration": 9,
    "start_time": "2022-02-22T08:23:41.269Z"
   },
   {
    "duration": 10,
    "start_time": "2022-02-22T08:23:55.410Z"
   },
   {
    "duration": 114,
    "start_time": "2022-02-22T08:25:04.604Z"
   },
   {
    "duration": 96,
    "start_time": "2022-02-22T08:25:10.467Z"
   },
   {
    "duration": 87,
    "start_time": "2022-02-22T08:25:48.565Z"
   },
   {
    "duration": 31,
    "start_time": "2022-02-22T08:26:21.506Z"
   },
   {
    "duration": 53,
    "start_time": "2022-02-22T08:26:33.939Z"
   },
   {
    "duration": 54,
    "start_time": "2022-02-22T08:27:32.605Z"
   },
   {
    "duration": 4,
    "start_time": "2022-02-22T08:27:43.593Z"
   },
   {
    "duration": 301,
    "start_time": "2022-02-22T08:27:43.602Z"
   },
   {
    "duration": 8,
    "start_time": "2022-02-22T08:27:43.906Z"
   },
   {
    "duration": 12,
    "start_time": "2022-02-22T08:27:43.917Z"
   },
   {
    "duration": 46,
    "start_time": "2022-02-22T08:27:43.931Z"
   },
   {
    "duration": 34,
    "start_time": "2022-02-22T08:27:43.979Z"
   },
   {
    "duration": 54,
    "start_time": "2022-02-22T08:27:44.015Z"
   },
   {
    "duration": 21,
    "start_time": "2022-02-22T08:27:44.071Z"
   },
   {
    "duration": 18,
    "start_time": "2022-02-22T08:27:44.095Z"
   },
   {
    "duration": 58,
    "start_time": "2022-02-22T08:27:44.116Z"
   },
   {
    "duration": 15,
    "start_time": "2022-02-22T08:27:44.176Z"
   },
   {
    "duration": 13,
    "start_time": "2022-02-22T08:27:44.193Z"
   },
   {
    "duration": 62,
    "start_time": "2022-02-22T08:27:44.209Z"
   },
   {
    "duration": 20,
    "start_time": "2022-02-22T08:27:44.273Z"
   },
   {
    "duration": 13,
    "start_time": "2022-02-22T08:27:44.295Z"
   },
   {
    "duration": 92,
    "start_time": "2022-02-22T08:27:44.310Z"
   },
   {
    "duration": 644,
    "start_time": "2022-02-22T08:27:44.405Z"
   },
   {
    "duration": 21,
    "start_time": "2022-02-22T08:27:45.051Z"
   },
   {
    "duration": 724,
    "start_time": "2022-02-22T08:27:45.074Z"
   },
   {
    "duration": 252,
    "start_time": "2022-02-22T08:27:45.801Z"
   },
   {
    "duration": 788,
    "start_time": "2022-02-22T08:27:46.056Z"
   },
   {
    "duration": 17,
    "start_time": "2022-02-22T08:27:46.847Z"
   },
   {
    "duration": 865,
    "start_time": "2022-02-22T08:27:46.866Z"
   },
   {
    "duration": 26,
    "start_time": "2022-02-22T08:27:47.738Z"
   },
   {
    "duration": 10,
    "start_time": "2022-02-22T08:27:47.767Z"
   },
   {
    "duration": 5,
    "start_time": "2022-02-22T08:27:47.779Z"
   },
   {
    "duration": 5,
    "start_time": "2022-02-22T08:27:47.787Z"
   },
   {
    "duration": 65,
    "start_time": "2022-02-22T08:27:47.795Z"
   },
   {
    "duration": 74,
    "start_time": "2022-02-22T08:27:47.864Z"
   },
   {
    "duration": 140,
    "start_time": "2022-02-22T08:28:16.995Z"
   },
   {
    "duration": 52,
    "start_time": "2022-02-22T08:28:32.443Z"
   },
   {
    "duration": 10,
    "start_time": "2022-02-22T08:31:33.673Z"
   },
   {
    "duration": 10,
    "start_time": "2022-02-22T08:31:42.745Z"
   },
   {
    "duration": 56,
    "start_time": "2022-02-22T09:33:15.004Z"
   },
   {
    "duration": 57,
    "start_time": "2022-02-22T09:33:36.404Z"
   },
   {
    "duration": 54,
    "start_time": "2022-02-22T09:33:53.210Z"
   },
   {
    "duration": 3,
    "start_time": "2022-02-22T09:35:37.342Z"
   },
   {
    "duration": 258,
    "start_time": "2022-02-22T09:35:37.352Z"
   },
   {
    "duration": 6,
    "start_time": "2022-02-22T09:35:37.614Z"
   },
   {
    "duration": 12,
    "start_time": "2022-02-22T09:35:37.624Z"
   },
   {
    "duration": 20,
    "start_time": "2022-02-22T09:35:37.663Z"
   },
   {
    "duration": 34,
    "start_time": "2022-02-22T09:35:37.686Z"
   },
   {
    "duration": 49,
    "start_time": "2022-02-22T09:35:37.723Z"
   },
   {
    "duration": 21,
    "start_time": "2022-02-22T09:35:37.774Z"
   },
   {
    "duration": 17,
    "start_time": "2022-02-22T09:35:37.799Z"
   },
   {
    "duration": 53,
    "start_time": "2022-02-22T09:35:37.819Z"
   },
   {
    "duration": 14,
    "start_time": "2022-02-22T09:35:37.875Z"
   },
   {
    "duration": 11,
    "start_time": "2022-02-22T09:35:37.892Z"
   },
   {
    "duration": 57,
    "start_time": "2022-02-22T09:35:37.906Z"
   },
   {
    "duration": 20,
    "start_time": "2022-02-22T09:35:37.966Z"
   },
   {
    "duration": 12,
    "start_time": "2022-02-22T09:35:37.989Z"
   },
   {
    "duration": 122,
    "start_time": "2022-02-22T09:35:38.004Z"
   },
   {
    "duration": 840,
    "start_time": "2022-02-22T09:35:38.129Z"
   },
   {
    "duration": 14,
    "start_time": "2022-02-22T09:35:38.972Z"
   },
   {
    "duration": 861,
    "start_time": "2022-02-22T09:35:38.989Z"
   },
   {
    "duration": 279,
    "start_time": "2022-02-22T09:35:39.854Z"
   },
   {
    "duration": 949,
    "start_time": "2022-02-22T09:35:40.135Z"
   },
   {
    "duration": 11,
    "start_time": "2022-02-22T09:35:41.087Z"
   },
   {
    "duration": 1254,
    "start_time": "2022-02-22T09:35:41.100Z"
   },
   {
    "duration": 12,
    "start_time": "2022-02-22T09:35:42.364Z"
   },
   {
    "duration": 10,
    "start_time": "2022-02-22T09:35:42.380Z"
   },
   {
    "duration": 7,
    "start_time": "2022-02-22T09:35:42.393Z"
   },
   {
    "duration": 5,
    "start_time": "2022-02-22T09:35:42.403Z"
   },
   {
    "duration": 65,
    "start_time": "2022-02-22T09:35:42.410Z"
   },
   {
    "duration": 49,
    "start_time": "2022-02-22T09:35:42.478Z"
   },
   {
    "duration": 74,
    "start_time": "2022-02-22T09:35:42.530Z"
   },
   {
    "duration": 67,
    "start_time": "2022-02-22T09:35:42.607Z"
   },
   {
    "duration": 27,
    "start_time": "2022-02-22T09:36:06.101Z"
   },
   {
    "duration": 25,
    "start_time": "2022-02-22T09:36:31.380Z"
   },
   {
    "duration": 9,
    "start_time": "2022-02-22T09:36:37.200Z"
   },
   {
    "duration": 14,
    "start_time": "2022-02-22T09:37:56.914Z"
   },
   {
    "duration": 17,
    "start_time": "2022-02-22T09:40:56.344Z"
   },
   {
    "duration": 11,
    "start_time": "2022-02-22T09:40:59.311Z"
   },
   {
    "duration": 9,
    "start_time": "2022-02-22T09:41:06.566Z"
   },
   {
    "duration": 5,
    "start_time": "2022-02-22T09:43:38.760Z"
   },
   {
    "duration": 295,
    "start_time": "2022-02-22T09:43:38.769Z"
   },
   {
    "duration": 7,
    "start_time": "2022-02-22T09:43:39.067Z"
   },
   {
    "duration": 14,
    "start_time": "2022-02-22T09:43:39.078Z"
   },
   {
    "duration": 21,
    "start_time": "2022-02-22T09:43:39.096Z"
   },
   {
    "duration": 72,
    "start_time": "2022-02-22T09:43:39.120Z"
   },
   {
    "duration": 26,
    "start_time": "2022-02-22T09:43:39.195Z"
   },
   {
    "duration": 50,
    "start_time": "2022-02-22T09:43:39.224Z"
   },
   {
    "duration": 20,
    "start_time": "2022-02-22T09:43:39.279Z"
   },
   {
    "duration": 25,
    "start_time": "2022-02-22T09:43:39.302Z"
   },
   {
    "duration": 19,
    "start_time": "2022-02-22T09:43:39.361Z"
   },
   {
    "duration": 14,
    "start_time": "2022-02-22T09:43:39.382Z"
   },
   {
    "duration": 66,
    "start_time": "2022-02-22T09:43:39.399Z"
   },
   {
    "duration": 21,
    "start_time": "2022-02-22T09:43:39.468Z"
   },
   {
    "duration": 13,
    "start_time": "2022-02-22T09:43:39.492Z"
   },
   {
    "duration": 120,
    "start_time": "2022-02-22T09:43:39.507Z"
   },
   {
    "duration": 944,
    "start_time": "2022-02-22T09:43:39.630Z"
   },
   {
    "duration": 16,
    "start_time": "2022-02-22T09:43:40.576Z"
   },
   {
    "duration": 617,
    "start_time": "2022-02-22T09:43:40.595Z"
   },
   {
    "duration": 249,
    "start_time": "2022-02-22T09:43:41.214Z"
   },
   {
    "duration": 918,
    "start_time": "2022-02-22T09:43:41.466Z"
   },
   {
    "duration": 12,
    "start_time": "2022-02-22T09:43:42.387Z"
   },
   {
    "duration": 1034,
    "start_time": "2022-02-22T09:43:42.402Z"
   },
   {
    "duration": 19,
    "start_time": "2022-02-22T09:43:43.443Z"
   },
   {
    "duration": 12,
    "start_time": "2022-02-22T09:43:43.465Z"
   },
   {
    "duration": 6,
    "start_time": "2022-02-22T09:43:43.480Z"
   },
   {
    "duration": 6,
    "start_time": "2022-02-22T09:43:43.490Z"
   },
   {
    "duration": 64,
    "start_time": "2022-02-22T09:43:43.499Z"
   },
   {
    "duration": 58,
    "start_time": "2022-02-22T09:43:43.566Z"
   },
   {
    "duration": 190,
    "start_time": "2022-02-22T09:43:43.626Z"
   },
   {
    "duration": 71,
    "start_time": "2022-02-22T09:43:43.818Z"
   },
   {
    "duration": 28,
    "start_time": "2022-02-22T09:43:43.892Z"
   },
   {
    "duration": 40,
    "start_time": "2022-02-22T09:43:43.923Z"
   },
   {
    "duration": 9,
    "start_time": "2022-02-22T09:43:43.965Z"
   },
   {
    "duration": 18,
    "start_time": "2022-02-22T09:43:43.977Z"
   },
   {
    "duration": 11,
    "start_time": "2022-02-22T09:43:43.998Z"
   },
   {
    "duration": 56,
    "start_time": "2022-02-22T09:43:44.012Z"
   },
   {
    "duration": 1016,
    "start_time": "2022-02-22T14:32:57.620Z"
   },
   {
    "duration": 279,
    "start_time": "2022-02-22T14:32:58.639Z"
   },
   {
    "duration": 5,
    "start_time": "2022-02-22T14:32:58.920Z"
   },
   {
    "duration": 12,
    "start_time": "2022-02-22T14:32:58.927Z"
   },
   {
    "duration": 31,
    "start_time": "2022-02-22T14:32:58.940Z"
   },
   {
    "duration": 27,
    "start_time": "2022-02-22T14:32:58.973Z"
   },
   {
    "duration": 19,
    "start_time": "2022-02-22T14:32:59.002Z"
   },
   {
    "duration": 15,
    "start_time": "2022-02-22T14:32:59.023Z"
   },
   {
    "duration": 39,
    "start_time": "2022-02-22T14:32:59.041Z"
   },
   {
    "duration": 15,
    "start_time": "2022-02-22T14:32:59.082Z"
   },
   {
    "duration": 11,
    "start_time": "2022-02-22T14:32:59.099Z"
   },
   {
    "duration": 10,
    "start_time": "2022-02-22T14:32:59.112Z"
   },
   {
    "duration": 51,
    "start_time": "2022-02-22T14:32:59.123Z"
   },
   {
    "duration": 15,
    "start_time": "2022-02-22T14:32:59.176Z"
   },
   {
    "duration": 11,
    "start_time": "2022-02-22T14:32:59.193Z"
   },
   {
    "duration": 73,
    "start_time": "2022-02-22T14:32:59.206Z"
   },
   {
    "duration": 587,
    "start_time": "2022-02-22T14:32:59.281Z"
   },
   {
    "duration": 11,
    "start_time": "2022-02-22T14:32:59.870Z"
   },
   {
    "duration": 471,
    "start_time": "2022-02-22T14:32:59.883Z"
   },
   {
    "duration": 197,
    "start_time": "2022-02-22T14:33:00.356Z"
   },
   {
    "duration": 670,
    "start_time": "2022-02-22T14:33:00.555Z"
   },
   {
    "duration": 8,
    "start_time": "2022-02-22T14:33:01.227Z"
   },
   {
    "duration": 846,
    "start_time": "2022-02-22T14:33:01.239Z"
   },
   {
    "duration": 8,
    "start_time": "2022-02-22T14:33:02.088Z"
   },
   {
    "duration": 13,
    "start_time": "2022-02-22T14:33:02.098Z"
   },
   {
    "duration": 24,
    "start_time": "2022-02-22T14:33:02.113Z"
   },
   {
    "duration": 21,
    "start_time": "2022-02-22T14:33:02.139Z"
   },
   {
    "duration": 31,
    "start_time": "2022-02-22T14:33:02.162Z"
   },
   {
    "duration": 61,
    "start_time": "2022-02-22T14:33:02.195Z"
   },
   {
    "duration": 37,
    "start_time": "2022-02-22T14:33:02.258Z"
   },
   {
    "duration": 37,
    "start_time": "2022-02-22T14:33:02.296Z"
   },
   {
    "duration": 37,
    "start_time": "2022-02-22T14:33:02.336Z"
   },
   {
    "duration": 19,
    "start_time": "2022-02-22T14:33:02.375Z"
   },
   {
    "duration": 27,
    "start_time": "2022-02-22T14:33:02.395Z"
   },
   {
    "duration": 27,
    "start_time": "2022-02-22T14:33:02.423Z"
   },
   {
    "duration": 15,
    "start_time": "2022-02-22T14:33:02.451Z"
   },
   {
    "duration": 17,
    "start_time": "2022-02-22T14:33:02.468Z"
   },
   {
    "duration": 360,
    "start_time": "2022-02-22T15:08:36.501Z"
   },
   {
    "duration": 383,
    "start_time": "2022-02-22T15:09:52.436Z"
   },
   {
    "duration": 3,
    "start_time": "2022-02-22T15:11:36.038Z"
   },
   {
    "duration": 250,
    "start_time": "2022-02-22T15:11:36.046Z"
   },
   {
    "duration": 6,
    "start_time": "2022-02-22T15:11:36.298Z"
   },
   {
    "duration": 17,
    "start_time": "2022-02-22T15:11:36.306Z"
   },
   {
    "duration": 27,
    "start_time": "2022-02-22T15:11:36.325Z"
   },
   {
    "duration": 31,
    "start_time": "2022-02-22T15:11:36.354Z"
   },
   {
    "duration": 16,
    "start_time": "2022-02-22T15:11:36.387Z"
   },
   {
    "duration": 104,
    "start_time": "2022-02-22T15:11:36.405Z"
   },
   {
    "duration": 14,
    "start_time": "2022-02-22T15:11:36.512Z"
   },
   {
    "duration": 15,
    "start_time": "2022-02-22T15:11:36.528Z"
   },
   {
    "duration": 30,
    "start_time": "2022-02-22T15:11:36.545Z"
   },
   {
    "duration": 10,
    "start_time": "2022-02-22T15:11:36.577Z"
   },
   {
    "duration": 23,
    "start_time": "2022-02-22T15:11:36.589Z"
   },
   {
    "duration": 15,
    "start_time": "2022-02-22T15:11:36.614Z"
   },
   {
    "duration": 9,
    "start_time": "2022-02-22T15:11:36.630Z"
   },
   {
    "duration": 80,
    "start_time": "2022-02-22T15:11:36.641Z"
   },
   {
    "duration": 444,
    "start_time": "2022-02-22T15:11:36.723Z"
   },
   {
    "duration": 10,
    "start_time": "2022-02-22T15:11:37.169Z"
   },
   {
    "duration": 439,
    "start_time": "2022-02-22T15:11:37.181Z"
   },
   {
    "duration": 373,
    "start_time": "2022-02-22T15:11:37.622Z"
   },
   {
    "duration": 616,
    "start_time": "2022-02-22T15:11:37.997Z"
   },
   {
    "duration": 7,
    "start_time": "2022-02-22T15:11:38.615Z"
   },
   {
    "duration": 630,
    "start_time": "2022-02-22T15:11:38.624Z"
   },
   {
    "duration": 15,
    "start_time": "2022-02-22T15:11:39.257Z"
   },
   {
    "duration": 8,
    "start_time": "2022-02-22T15:11:39.274Z"
   },
   {
    "duration": 11,
    "start_time": "2022-02-22T15:11:39.284Z"
   },
   {
    "duration": 11,
    "start_time": "2022-02-22T15:11:39.297Z"
   },
   {
    "duration": 22,
    "start_time": "2022-02-22T15:11:39.309Z"
   },
   {
    "duration": 52,
    "start_time": "2022-02-22T15:11:39.333Z"
   },
   {
    "duration": 36,
    "start_time": "2022-02-22T15:11:39.387Z"
   },
   {
    "duration": 65,
    "start_time": "2022-02-22T15:11:39.424Z"
   },
   {
    "duration": 15,
    "start_time": "2022-02-22T15:11:39.490Z"
   },
   {
    "duration": 6,
    "start_time": "2022-02-22T15:11:39.506Z"
   },
   {
    "duration": 7,
    "start_time": "2022-02-22T15:11:39.514Z"
   },
   {
    "duration": 47,
    "start_time": "2022-02-22T15:11:39.523Z"
   },
   {
    "duration": 8,
    "start_time": "2022-02-22T15:11:39.572Z"
   },
   {
    "duration": 9,
    "start_time": "2022-02-22T15:11:39.582Z"
   },
   {
    "duration": 3,
    "start_time": "2022-02-22T15:14:01.922Z"
   },
   {
    "duration": 256,
    "start_time": "2022-02-22T15:14:01.930Z"
   },
   {
    "duration": 5,
    "start_time": "2022-02-22T15:14:02.188Z"
   },
   {
    "duration": 21,
    "start_time": "2022-02-22T15:14:02.196Z"
   },
   {
    "duration": 18,
    "start_time": "2022-02-22T15:14:02.219Z"
   },
   {
    "duration": 42,
    "start_time": "2022-02-22T15:14:02.239Z"
   },
   {
    "duration": 17,
    "start_time": "2022-02-22T15:14:02.283Z"
   },
   {
    "duration": 16,
    "start_time": "2022-02-22T15:14:02.302Z"
   },
   {
    "duration": 15,
    "start_time": "2022-02-22T15:14:02.321Z"
   },
   {
    "duration": 44,
    "start_time": "2022-02-22T15:14:02.338Z"
   },
   {
    "duration": 12,
    "start_time": "2022-02-22T15:14:02.384Z"
   },
   {
    "duration": 13,
    "start_time": "2022-02-22T15:14:02.397Z"
   },
   {
    "duration": 20,
    "start_time": "2022-02-22T15:14:02.412Z"
   },
   {
    "duration": 47,
    "start_time": "2022-02-22T15:14:02.434Z"
   },
   {
    "duration": 11,
    "start_time": "2022-02-22T15:14:02.483Z"
   },
   {
    "duration": 53,
    "start_time": "2022-02-22T15:14:02.496Z"
   },
   {
    "duration": 447,
    "start_time": "2022-02-22T15:14:02.569Z"
   },
   {
    "duration": 11,
    "start_time": "2022-02-22T15:14:03.018Z"
   },
   {
    "duration": 453,
    "start_time": "2022-02-22T15:14:03.031Z"
   },
   {
    "duration": 384,
    "start_time": "2022-02-22T15:14:03.486Z"
   },
   {
    "duration": 643,
    "start_time": "2022-02-22T15:14:03.872Z"
   },
   {
    "duration": 7,
    "start_time": "2022-02-22T15:14:04.517Z"
   },
   {
    "duration": 752,
    "start_time": "2022-02-22T15:14:04.526Z"
   },
   {
    "duration": 8,
    "start_time": "2022-02-22T15:14:05.282Z"
   },
   {
    "duration": 13,
    "start_time": "2022-02-22T15:14:05.291Z"
   },
   {
    "duration": 11,
    "start_time": "2022-02-22T15:14:05.306Z"
   },
   {
    "duration": 18,
    "start_time": "2022-02-22T15:14:05.319Z"
   },
   {
    "duration": 41,
    "start_time": "2022-02-22T15:14:05.339Z"
   },
   {
    "duration": 43,
    "start_time": "2022-02-22T15:14:05.382Z"
   },
   {
    "duration": 53,
    "start_time": "2022-02-22T15:14:05.427Z"
   },
   {
    "duration": 38,
    "start_time": "2022-02-22T15:14:05.482Z"
   },
   {
    "duration": 48,
    "start_time": "2022-02-22T15:14:05.522Z"
   },
   {
    "duration": 7,
    "start_time": "2022-02-22T15:14:05.572Z"
   },
   {
    "duration": 8,
    "start_time": "2022-02-22T15:14:05.581Z"
   },
   {
    "duration": 16,
    "start_time": "2022-02-22T15:14:05.591Z"
   },
   {
    "duration": 7,
    "start_time": "2022-02-22T15:14:05.609Z"
   },
   {
    "duration": 8,
    "start_time": "2022-02-22T15:14:05.618Z"
   },
   {
    "duration": 3,
    "start_time": "2022-02-22T15:19:45.555Z"
   },
   {
    "duration": 235,
    "start_time": "2022-02-22T15:19:45.562Z"
   },
   {
    "duration": 6,
    "start_time": "2022-02-22T15:19:45.799Z"
   },
   {
    "duration": 11,
    "start_time": "2022-02-22T15:19:45.807Z"
   },
   {
    "duration": 19,
    "start_time": "2022-02-22T15:19:45.821Z"
   },
   {
    "duration": 48,
    "start_time": "2022-02-22T15:19:45.842Z"
   },
   {
    "duration": 26,
    "start_time": "2022-02-22T15:19:45.892Z"
   },
   {
    "duration": 16,
    "start_time": "2022-02-22T15:19:45.919Z"
   },
   {
    "duration": 36,
    "start_time": "2022-02-22T15:19:45.937Z"
   },
   {
    "duration": 14,
    "start_time": "2022-02-22T15:19:45.975Z"
   },
   {
    "duration": 15,
    "start_time": "2022-02-22T15:19:45.991Z"
   },
   {
    "duration": 10,
    "start_time": "2022-02-22T15:19:46.007Z"
   },
   {
    "duration": 51,
    "start_time": "2022-02-22T15:19:46.019Z"
   },
   {
    "duration": 15,
    "start_time": "2022-02-22T15:19:46.072Z"
   },
   {
    "duration": 8,
    "start_time": "2022-02-22T15:19:46.090Z"
   },
   {
    "duration": 76,
    "start_time": "2022-02-22T15:19:46.100Z"
   },
   {
    "duration": 459,
    "start_time": "2022-02-22T15:19:46.178Z"
   },
   {
    "duration": 12,
    "start_time": "2022-02-22T15:19:46.640Z"
   },
   {
    "duration": 463,
    "start_time": "2022-02-22T15:19:46.654Z"
   },
   {
    "duration": 395,
    "start_time": "2022-02-22T15:19:47.119Z"
   },
   {
    "duration": 609,
    "start_time": "2022-02-22T15:19:47.515Z"
   },
   {
    "duration": 8,
    "start_time": "2022-02-22T15:19:48.126Z"
   },
   {
    "duration": 758,
    "start_time": "2022-02-22T15:19:48.136Z"
   },
   {
    "duration": 8,
    "start_time": "2022-02-22T15:19:48.899Z"
   },
   {
    "duration": 9,
    "start_time": "2022-02-22T15:19:48.909Z"
   },
   {
    "duration": 3,
    "start_time": "2022-02-22T15:19:48.920Z"
   },
   {
    "duration": 6,
    "start_time": "2022-02-22T15:19:48.925Z"
   },
   {
    "duration": 43,
    "start_time": "2022-02-22T15:19:48.933Z"
   },
   {
    "duration": 36,
    "start_time": "2022-02-22T15:19:48.978Z"
   },
   {
    "duration": 70,
    "start_time": "2022-02-22T15:19:49.016Z"
   },
   {
    "duration": 37,
    "start_time": "2022-02-22T15:19:49.087Z"
   },
   {
    "duration": 14,
    "start_time": "2022-02-22T15:19:49.126Z"
   },
   {
    "duration": 7,
    "start_time": "2022-02-22T15:19:49.170Z"
   },
   {
    "duration": 11,
    "start_time": "2022-02-22T15:19:49.179Z"
   },
   {
    "duration": 16,
    "start_time": "2022-02-22T15:19:49.192Z"
   },
   {
    "duration": 6,
    "start_time": "2022-02-22T15:19:49.210Z"
   },
   {
    "duration": 7,
    "start_time": "2022-02-22T15:19:49.218Z"
   },
   {
    "duration": 2,
    "start_time": "2022-02-22T15:21:00.574Z"
   },
   {
    "duration": 3,
    "start_time": "2022-02-22T15:21:28.518Z"
   },
   {
    "duration": 241,
    "start_time": "2022-02-22T15:21:28.526Z"
   },
   {
    "duration": 5,
    "start_time": "2022-02-22T15:21:28.769Z"
   },
   {
    "duration": 12,
    "start_time": "2022-02-22T15:21:28.776Z"
   },
   {
    "duration": 13,
    "start_time": "2022-02-22T15:21:28.791Z"
   },
   {
    "duration": 23,
    "start_time": "2022-02-22T15:21:28.806Z"
   },
   {
    "duration": 39,
    "start_time": "2022-02-22T15:21:28.831Z"
   },
   {
    "duration": 16,
    "start_time": "2022-02-22T15:21:28.872Z"
   },
   {
    "duration": 14,
    "start_time": "2022-02-22T15:21:28.891Z"
   },
   {
    "duration": 13,
    "start_time": "2022-02-22T15:21:28.907Z"
   },
   {
    "duration": 4,
    "start_time": "2022-02-22T15:21:28.922Z"
   },
   {
    "duration": 43,
    "start_time": "2022-02-22T15:21:28.928Z"
   },
   {
    "duration": 21,
    "start_time": "2022-02-22T15:21:28.973Z"
   },
   {
    "duration": 18,
    "start_time": "2022-02-22T15:21:28.996Z"
   },
   {
    "duration": 9,
    "start_time": "2022-02-22T15:21:29.016Z"
   },
   {
    "duration": 83,
    "start_time": "2022-02-22T15:21:29.027Z"
   },
   {
    "duration": 465,
    "start_time": "2022-02-22T15:21:29.113Z"
   },
   {
    "duration": 11,
    "start_time": "2022-02-22T15:21:29.580Z"
   },
   {
    "duration": 450,
    "start_time": "2022-02-22T15:21:29.593Z"
   },
   {
    "duration": 463,
    "start_time": "2022-02-22T15:21:30.045Z"
   },
   {
    "duration": 630,
    "start_time": "2022-02-22T15:21:30.510Z"
   },
   {
    "duration": 8,
    "start_time": "2022-02-22T15:21:31.142Z"
   },
   {
    "duration": 689,
    "start_time": "2022-02-22T15:21:31.152Z"
   },
   {
    "duration": 8,
    "start_time": "2022-02-22T15:21:31.844Z"
   },
   {
    "duration": 23,
    "start_time": "2022-02-22T15:21:31.854Z"
   },
   {
    "duration": 17,
    "start_time": "2022-02-22T15:21:31.879Z"
   },
   {
    "duration": 22,
    "start_time": "2022-02-22T15:21:31.898Z"
   },
   {
    "duration": 43,
    "start_time": "2022-02-22T15:21:31.922Z"
   },
   {
    "duration": 60,
    "start_time": "2022-02-22T15:21:31.967Z"
   },
   {
    "duration": 37,
    "start_time": "2022-02-22T15:21:32.028Z"
   },
   {
    "duration": 51,
    "start_time": "2022-02-22T15:21:32.069Z"
   },
   {
    "duration": 17,
    "start_time": "2022-02-22T15:21:32.123Z"
   },
   {
    "duration": 35,
    "start_time": "2022-02-22T15:21:32.142Z"
   },
   {
    "duration": 38,
    "start_time": "2022-02-22T15:21:32.179Z"
   },
   {
    "duration": 52,
    "start_time": "2022-02-22T15:21:32.219Z"
   },
   {
    "duration": 34,
    "start_time": "2022-02-22T15:21:32.273Z"
   },
   {
    "duration": 28,
    "start_time": "2022-02-22T15:21:32.309Z"
   },
   {
    "duration": 911,
    "start_time": "2022-02-23T12:49:21.960Z"
   },
   {
    "duration": 254,
    "start_time": "2022-02-23T12:49:22.872Z"
   },
   {
    "duration": 4,
    "start_time": "2022-02-23T12:49:23.128Z"
   },
   {
    "duration": 10,
    "start_time": "2022-02-23T12:49:23.134Z"
   },
   {
    "duration": 11,
    "start_time": "2022-02-23T12:49:23.146Z"
   },
   {
    "duration": 18,
    "start_time": "2022-02-23T12:49:23.158Z"
   },
   {
    "duration": 17,
    "start_time": "2022-02-23T12:49:23.177Z"
   },
   {
    "duration": 40,
    "start_time": "2022-02-23T12:49:23.196Z"
   },
   {
    "duration": 11,
    "start_time": "2022-02-23T12:49:23.238Z"
   },
   {
    "duration": 11,
    "start_time": "2022-02-23T12:49:23.250Z"
   },
   {
    "duration": 2,
    "start_time": "2022-02-23T12:49:23.262Z"
   },
   {
    "duration": 8,
    "start_time": "2022-02-23T12:49:23.266Z"
   },
   {
    "duration": 17,
    "start_time": "2022-02-23T12:49:23.276Z"
   },
   {
    "duration": 39,
    "start_time": "2022-02-23T12:49:23.294Z"
   },
   {
    "duration": 6,
    "start_time": "2022-02-23T12:49:23.334Z"
   },
   {
    "duration": 34,
    "start_time": "2022-02-23T12:49:23.342Z"
   },
   {
    "duration": 459,
    "start_time": "2022-02-23T12:49:23.378Z"
   },
   {
    "duration": 9,
    "start_time": "2022-02-23T12:49:23.839Z"
   },
   {
    "duration": 338,
    "start_time": "2022-02-23T12:49:23.849Z"
   },
   {
    "duration": 270,
    "start_time": "2022-02-23T12:49:24.189Z"
   },
   {
    "duration": 507,
    "start_time": "2022-02-23T12:49:24.461Z"
   },
   {
    "duration": 7,
    "start_time": "2022-02-23T12:49:24.969Z"
   },
   {
    "duration": 565,
    "start_time": "2022-02-23T12:49:24.980Z"
   },
   {
    "duration": 8,
    "start_time": "2022-02-23T12:49:25.548Z"
   },
   {
    "duration": 8,
    "start_time": "2022-02-23T12:49:25.558Z"
   },
   {
    "duration": 7,
    "start_time": "2022-02-23T12:49:25.568Z"
   },
   {
    "duration": 5,
    "start_time": "2022-02-23T12:49:25.576Z"
   },
   {
    "duration": 15,
    "start_time": "2022-02-23T12:49:25.582Z"
   },
   {
    "duration": 58,
    "start_time": "2022-02-23T12:49:25.599Z"
   },
   {
    "duration": 30,
    "start_time": "2022-02-23T12:49:25.658Z"
   },
   {
    "duration": 55,
    "start_time": "2022-02-23T12:49:25.690Z"
   },
   {
    "duration": 14,
    "start_time": "2022-02-23T12:49:25.747Z"
   },
   {
    "duration": 7,
    "start_time": "2022-02-23T12:49:25.763Z"
   },
   {
    "duration": 7,
    "start_time": "2022-02-23T12:49:25.772Z"
   },
   {
    "duration": 14,
    "start_time": "2022-02-23T12:49:25.780Z"
   },
   {
    "duration": 41,
    "start_time": "2022-02-23T12:49:25.795Z"
   },
   {
    "duration": 6,
    "start_time": "2022-02-23T12:49:25.838Z"
   },
   {
    "duration": 19,
    "start_time": "2022-02-23T13:00:31.543Z"
   },
   {
    "duration": 5,
    "start_time": "2022-02-23T13:03:26.711Z"
   },
   {
    "duration": 5,
    "start_time": "2022-02-23T13:03:37.472Z"
   },
   {
    "duration": 1272,
    "start_time": "2022-02-24T06:28:46.236Z"
   },
   {
    "duration": 272,
    "start_time": "2022-02-24T06:28:47.511Z"
   },
   {
    "duration": 5,
    "start_time": "2022-02-24T06:28:47.786Z"
   },
   {
    "duration": 11,
    "start_time": "2022-02-24T06:28:47.794Z"
   },
   {
    "duration": 19,
    "start_time": "2022-02-24T06:28:47.807Z"
   },
   {
    "duration": 29,
    "start_time": "2022-02-24T06:28:47.828Z"
   },
   {
    "duration": 51,
    "start_time": "2022-02-24T06:28:47.860Z"
   },
   {
    "duration": 19,
    "start_time": "2022-02-24T06:28:47.915Z"
   },
   {
    "duration": 19,
    "start_time": "2022-02-24T06:28:47.938Z"
   },
   {
    "duration": 51,
    "start_time": "2022-02-24T06:28:47.960Z"
   },
   {
    "duration": 3,
    "start_time": "2022-02-24T06:28:48.014Z"
   },
   {
    "duration": 13,
    "start_time": "2022-02-24T06:28:48.019Z"
   },
   {
    "duration": 22,
    "start_time": "2022-02-24T06:28:48.035Z"
   },
   {
    "duration": 49,
    "start_time": "2022-02-24T06:28:48.060Z"
   },
   {
    "duration": 9,
    "start_time": "2022-02-24T06:28:48.111Z"
   },
   {
    "duration": 90,
    "start_time": "2022-02-24T06:28:48.122Z"
   },
   {
    "duration": 730,
    "start_time": "2022-02-24T06:28:48.214Z"
   },
   {
    "duration": 14,
    "start_time": "2022-02-24T06:28:48.946Z"
   },
   {
    "duration": 620,
    "start_time": "2022-02-24T06:28:48.962Z"
   },
   {
    "duration": 497,
    "start_time": "2022-02-24T06:28:49.585Z"
   },
   {
    "duration": 813,
    "start_time": "2022-02-24T06:28:50.084Z"
   },
   {
    "duration": 9,
    "start_time": "2022-02-24T06:28:50.899Z"
   },
   {
    "duration": 939,
    "start_time": "2022-02-24T06:28:50.913Z"
   },
   {
    "duration": 8,
    "start_time": "2022-02-24T06:28:51.856Z"
   },
   {
    "duration": 33,
    "start_time": "2022-02-24T06:28:51.866Z"
   },
   {
    "duration": 5,
    "start_time": "2022-02-24T06:28:51.902Z"
   },
   {
    "duration": 6,
    "start_time": "2022-02-24T06:28:51.910Z"
   },
   {
    "duration": 28,
    "start_time": "2022-02-24T06:28:51.918Z"
   },
   {
    "duration": 81,
    "start_time": "2022-02-24T06:28:51.948Z"
   },
   {
    "duration": 69,
    "start_time": "2022-02-24T06:28:52.031Z"
   },
   {
    "duration": 49,
    "start_time": "2022-02-24T06:28:52.103Z"
   },
   {
    "duration": 54,
    "start_time": "2022-02-24T06:28:52.154Z"
   },
   {
    "duration": 10,
    "start_time": "2022-02-24T06:28:52.211Z"
   },
   {
    "duration": 9,
    "start_time": "2022-02-24T06:28:52.224Z"
   },
   {
    "duration": 63,
    "start_time": "2022-02-24T06:28:52.236Z"
   },
   {
    "duration": 8,
    "start_time": "2022-02-24T06:28:52.302Z"
   },
   {
    "duration": 10,
    "start_time": "2022-02-24T06:28:52.312Z"
   },
   {
    "duration": 15,
    "start_time": "2022-02-24T06:29:41.955Z"
   },
   {
    "duration": 4,
    "start_time": "2022-02-24T06:29:53.226Z"
   },
   {
    "duration": 311,
    "start_time": "2022-02-24T06:29:53.232Z"
   },
   {
    "duration": 7,
    "start_time": "2022-02-24T06:29:53.548Z"
   },
   {
    "duration": 40,
    "start_time": "2022-02-24T06:29:53.559Z"
   },
   {
    "duration": 19,
    "start_time": "2022-02-24T06:29:53.602Z"
   },
   {
    "duration": 35,
    "start_time": "2022-02-24T06:29:53.624Z"
   },
   {
    "duration": 51,
    "start_time": "2022-02-24T06:29:53.661Z"
   },
   {
    "duration": 19,
    "start_time": "2022-02-24T06:29:53.714Z"
   },
   {
    "duration": 14,
    "start_time": "2022-02-24T06:29:57.746Z"
   },
   {
    "duration": 3,
    "start_time": "2022-02-24T06:33:09.187Z"
   },
   {
    "duration": 321,
    "start_time": "2022-02-24T06:33:09.197Z"
   },
   {
    "duration": 7,
    "start_time": "2022-02-24T06:33:09.521Z"
   },
   {
    "duration": 18,
    "start_time": "2022-02-24T06:33:09.531Z"
   },
   {
    "duration": 43,
    "start_time": "2022-02-24T06:33:09.552Z"
   },
   {
    "duration": 33,
    "start_time": "2022-02-24T06:33:09.598Z"
   },
   {
    "duration": 24,
    "start_time": "2022-02-24T06:33:09.634Z"
   },
   {
    "duration": 48,
    "start_time": "2022-02-24T06:33:09.661Z"
   },
   {
    "duration": 14,
    "start_time": "2022-02-24T06:33:09.712Z"
   },
   {
    "duration": 20,
    "start_time": "2022-02-24T06:33:09.730Z"
   },
   {
    "duration": 41,
    "start_time": "2022-02-24T06:33:09.753Z"
   },
   {
    "duration": 14,
    "start_time": "2022-02-24T06:33:09.796Z"
   },
   {
    "duration": 30,
    "start_time": "2022-02-24T06:33:09.813Z"
   },
   {
    "duration": 22,
    "start_time": "2022-02-24T06:33:09.846Z"
   },
   {
    "duration": 31,
    "start_time": "2022-02-24T06:33:09.870Z"
   },
   {
    "duration": 100,
    "start_time": "2022-02-24T06:33:09.904Z"
   },
   {
    "duration": 630,
    "start_time": "2022-02-24T06:33:10.006Z"
   },
   {
    "duration": 16,
    "start_time": "2022-02-24T06:33:10.639Z"
   },
   {
    "duration": 609,
    "start_time": "2022-02-24T06:33:10.658Z"
   },
   {
    "duration": 586,
    "start_time": "2022-02-24T06:33:11.270Z"
   },
   {
    "duration": 940,
    "start_time": "2022-02-24T06:33:11.859Z"
   },
   {
    "duration": 9,
    "start_time": "2022-02-24T06:33:12.802Z"
   },
   {
    "duration": 925,
    "start_time": "2022-02-24T06:33:12.814Z"
   },
   {
    "duration": 12,
    "start_time": "2022-02-24T06:33:13.742Z"
   },
   {
    "duration": 39,
    "start_time": "2022-02-24T06:33:13.757Z"
   },
   {
    "duration": 5,
    "start_time": "2022-02-24T06:33:13.798Z"
   },
   {
    "duration": 5,
    "start_time": "2022-02-24T06:33:13.806Z"
   },
   {
    "duration": 24,
    "start_time": "2022-02-24T06:33:13.815Z"
   },
   {
    "duration": 79,
    "start_time": "2022-02-24T06:33:13.842Z"
   },
   {
    "duration": 78,
    "start_time": "2022-02-24T06:33:13.924Z"
   },
   {
    "duration": 48,
    "start_time": "2022-02-24T06:33:14.005Z"
   },
   {
    "duration": 52,
    "start_time": "2022-02-24T06:33:14.056Z"
   },
   {
    "duration": 9,
    "start_time": "2022-02-24T06:33:14.111Z"
   },
   {
    "duration": 9,
    "start_time": "2022-02-24T06:33:14.123Z"
   },
   {
    "duration": 18,
    "start_time": "2022-02-24T06:33:14.135Z"
   },
   {
    "duration": 10,
    "start_time": "2022-02-24T06:33:14.194Z"
   },
   {
    "duration": 10,
    "start_time": "2022-02-24T06:33:14.206Z"
   },
   {
    "duration": 4,
    "start_time": "2022-02-24T06:42:38.517Z"
   },
   {
    "duration": 247,
    "start_time": "2022-02-24T06:42:38.525Z"
   },
   {
    "duration": 6,
    "start_time": "2022-02-24T06:42:38.775Z"
   },
   {
    "duration": 17,
    "start_time": "2022-02-24T06:42:38.784Z"
   },
   {
    "duration": 20,
    "start_time": "2022-02-24T06:42:38.803Z"
   },
   {
    "duration": 28,
    "start_time": "2022-02-24T06:42:38.826Z"
   },
   {
    "duration": 62,
    "start_time": "2022-02-24T06:42:38.857Z"
   },
   {
    "duration": 21,
    "start_time": "2022-02-24T06:42:38.925Z"
   },
   {
    "duration": 47,
    "start_time": "2022-02-24T06:42:38.950Z"
   },
   {
    "duration": 21,
    "start_time": "2022-02-24T06:42:39.000Z"
   },
   {
    "duration": 3,
    "start_time": "2022-02-24T06:42:39.023Z"
   },
   {
    "duration": 15,
    "start_time": "2022-02-24T06:42:39.029Z"
   },
   {
    "duration": 60,
    "start_time": "2022-02-24T06:42:39.046Z"
   },
   {
    "duration": 26,
    "start_time": "2022-02-24T06:42:39.109Z"
   },
   {
    "duration": 9,
    "start_time": "2022-02-24T06:42:39.137Z"
   },
   {
    "duration": 91,
    "start_time": "2022-02-24T06:42:39.149Z"
   },
   {
    "duration": 621,
    "start_time": "2022-02-24T06:42:39.243Z"
   },
   {
    "duration": 33,
    "start_time": "2022-02-24T06:42:39.867Z"
   },
   {
    "duration": 649,
    "start_time": "2022-02-24T06:42:39.902Z"
   },
   {
    "duration": 498,
    "start_time": "2022-02-24T06:42:40.554Z"
   },
   {
    "duration": 827,
    "start_time": "2022-02-24T06:42:41.054Z"
   },
   {
    "duration": 17,
    "start_time": "2022-02-24T06:42:41.884Z"
   },
   {
    "duration": 1036,
    "start_time": "2022-02-24T06:42:41.907Z"
   },
   {
    "duration": 9,
    "start_time": "2022-02-24T06:42:42.946Z"
   },
   {
    "duration": 16,
    "start_time": "2022-02-24T06:42:42.958Z"
   },
   {
    "duration": 4,
    "start_time": "2022-02-24T06:42:42.993Z"
   },
   {
    "duration": 21,
    "start_time": "2022-02-24T06:42:42.999Z"
   },
   {
    "duration": 24,
    "start_time": "2022-02-24T06:42:43.022Z"
   },
   {
    "duration": 67,
    "start_time": "2022-02-24T06:42:43.048Z"
   },
   {
    "duration": 47,
    "start_time": "2022-02-24T06:42:43.118Z"
   },
   {
    "duration": 68,
    "start_time": "2022-02-24T06:42:43.168Z"
   },
   {
    "duration": 55,
    "start_time": "2022-02-24T06:42:43.239Z"
   },
   {
    "duration": 23,
    "start_time": "2022-02-24T06:42:43.297Z"
   },
   {
    "duration": 13,
    "start_time": "2022-02-24T06:42:43.323Z"
   },
   {
    "duration": 31,
    "start_time": "2022-02-24T06:42:43.338Z"
   },
   {
    "duration": 22,
    "start_time": "2022-02-24T06:42:43.371Z"
   },
   {
    "duration": 10,
    "start_time": "2022-02-24T06:42:43.396Z"
   },
   {
    "duration": 5,
    "start_time": "2022-02-24T07:12:19.944Z"
   },
   {
    "duration": 388,
    "start_time": "2022-02-24T07:12:19.953Z"
   },
   {
    "duration": 5,
    "start_time": "2022-02-24T07:12:20.344Z"
   },
   {
    "duration": 20,
    "start_time": "2022-02-24T07:12:20.352Z"
   },
   {
    "duration": 27,
    "start_time": "2022-02-24T07:12:20.374Z"
   },
   {
    "duration": 33,
    "start_time": "2022-02-24T07:12:20.404Z"
   },
   {
    "duration": 24,
    "start_time": "2022-02-24T07:12:20.440Z"
   },
   {
    "duration": 28,
    "start_time": "2022-02-24T07:12:20.467Z"
   },
   {
    "duration": 16,
    "start_time": "2022-02-24T07:12:20.499Z"
   },
   {
    "duration": 30,
    "start_time": "2022-02-24T07:12:20.518Z"
   },
   {
    "duration": 2,
    "start_time": "2022-02-24T07:12:20.551Z"
   },
   {
    "duration": 21,
    "start_time": "2022-02-24T07:12:20.555Z"
   },
   {
    "duration": 32,
    "start_time": "2022-02-24T07:12:20.578Z"
   },
   {
    "duration": 22,
    "start_time": "2022-02-24T07:12:20.613Z"
   },
   {
    "duration": 17,
    "start_time": "2022-02-24T07:12:20.637Z"
   },
   {
    "duration": 74,
    "start_time": "2022-02-24T07:12:20.656Z"
   },
   {
    "duration": 714,
    "start_time": "2022-02-24T07:12:20.732Z"
   },
   {
    "duration": 16,
    "start_time": "2022-02-24T07:12:21.448Z"
   },
   {
    "duration": 708,
    "start_time": "2022-02-24T07:12:21.466Z"
   },
   {
    "duration": 508,
    "start_time": "2022-02-24T07:12:22.177Z"
   },
   {
    "duration": 898,
    "start_time": "2022-02-24T07:12:22.687Z"
   },
   {
    "duration": 13,
    "start_time": "2022-02-24T07:12:23.588Z"
   },
   {
    "duration": 921,
    "start_time": "2022-02-24T07:12:23.604Z"
   },
   {
    "duration": 9,
    "start_time": "2022-02-24T07:12:24.528Z"
   },
   {
    "duration": 16,
    "start_time": "2022-02-24T07:12:24.540Z"
   },
   {
    "duration": 20,
    "start_time": "2022-02-24T07:12:24.558Z"
   },
   {
    "duration": 3,
    "start_time": "2022-02-24T07:12:24.597Z"
   },
   {
    "duration": 25,
    "start_time": "2022-02-24T07:12:24.603Z"
   },
   {
    "duration": 70,
    "start_time": "2022-02-24T07:12:24.631Z"
   },
   {
    "duration": 50,
    "start_time": "2022-02-24T07:12:24.704Z"
   },
   {
    "duration": 73,
    "start_time": "2022-02-24T07:12:24.757Z"
   },
   {
    "duration": 20,
    "start_time": "2022-02-24T07:12:24.833Z"
   },
   {
    "duration": 40,
    "start_time": "2022-02-24T07:12:24.855Z"
   },
   {
    "duration": 9,
    "start_time": "2022-02-24T07:12:24.897Z"
   },
   {
    "duration": 43,
    "start_time": "2022-02-24T07:12:24.908Z"
   },
   {
    "duration": 38,
    "start_time": "2022-02-24T07:12:24.953Z"
   },
   {
    "duration": 35,
    "start_time": "2022-02-24T07:12:24.994Z"
   },
   {
    "duration": 81,
    "start_time": "2022-02-24T07:14:40.441Z"
   },
   {
    "duration": 78,
    "start_time": "2022-02-24T07:14:46.891Z"
   },
   {
    "duration": 4,
    "start_time": "2022-02-24T07:25:40.257Z"
   },
   {
    "duration": 487,
    "start_time": "2022-02-24T07:26:44.906Z"
   },
   {
    "duration": 531,
    "start_time": "2022-02-24T07:26:57.849Z"
   },
   {
    "duration": 482,
    "start_time": "2022-02-24T07:27:13.120Z"
   },
   {
    "duration": 383,
    "start_time": "2022-02-24T07:27:27.120Z"
   },
   {
    "duration": 488,
    "start_time": "2022-02-24T07:27:34.261Z"
   },
   {
    "duration": 502,
    "start_time": "2022-02-24T07:28:06.412Z"
   },
   {
    "duration": 485,
    "start_time": "2022-02-24T07:32:51.119Z"
   },
   {
    "duration": 537,
    "start_time": "2022-02-24T07:32:59.678Z"
   },
   {
    "duration": 5,
    "start_time": "2022-02-24T07:35:45.033Z"
   },
   {
    "duration": 469,
    "start_time": "2022-02-24T07:35:45.041Z"
   },
   {
    "duration": 6,
    "start_time": "2022-02-24T07:35:45.513Z"
   },
   {
    "duration": 15,
    "start_time": "2022-02-24T07:35:45.522Z"
   },
   {
    "duration": 55,
    "start_time": "2022-02-24T07:35:45.539Z"
   },
   {
    "duration": 30,
    "start_time": "2022-02-24T07:35:45.597Z"
   },
   {
    "duration": 25,
    "start_time": "2022-02-24T07:35:45.630Z"
   },
   {
    "duration": 50,
    "start_time": "2022-02-24T07:35:45.658Z"
   },
   {
    "duration": 13,
    "start_time": "2022-02-24T07:35:45.712Z"
   },
   {
    "duration": 23,
    "start_time": "2022-02-24T07:35:45.728Z"
   },
   {
    "duration": 4,
    "start_time": "2022-02-24T07:35:45.753Z"
   },
   {
    "duration": 13,
    "start_time": "2022-02-24T07:35:45.793Z"
   },
   {
    "duration": 23,
    "start_time": "2022-02-24T07:35:45.808Z"
   },
   {
    "duration": 21,
    "start_time": "2022-02-24T07:35:45.834Z"
   },
   {
    "duration": 37,
    "start_time": "2022-02-24T07:35:45.858Z"
   },
   {
    "duration": 64,
    "start_time": "2022-02-24T07:35:45.898Z"
   },
   {
    "duration": 637,
    "start_time": "2022-02-24T07:35:45.964Z"
   },
   {
    "duration": 14,
    "start_time": "2022-02-24T07:35:46.604Z"
   },
   {
    "duration": 625,
    "start_time": "2022-02-24T07:35:46.620Z"
   },
   {
    "duration": 597,
    "start_time": "2022-02-24T07:35:47.248Z"
   },
   {
    "duration": 852,
    "start_time": "2022-02-24T07:35:47.847Z"
   },
   {
    "duration": 10,
    "start_time": "2022-02-24T07:35:48.702Z"
   },
   {
    "duration": 980,
    "start_time": "2022-02-24T07:35:48.714Z"
   },
   {
    "duration": 12,
    "start_time": "2022-02-24T07:35:49.697Z"
   },
   {
    "duration": 17,
    "start_time": "2022-02-24T07:35:49.712Z"
   },
   {
    "duration": 35,
    "start_time": "2022-02-24T07:35:49.732Z"
   },
   {
    "duration": 72,
    "start_time": "2022-02-24T07:35:49.771Z"
   },
   {
    "duration": 82,
    "start_time": "2022-02-24T07:35:49.845Z"
   },
   {
    "duration": 73,
    "start_time": "2022-02-24T07:35:49.929Z"
   },
   {
    "duration": 20,
    "start_time": "2022-02-24T07:35:50.004Z"
   },
   {
    "duration": 9,
    "start_time": "2022-02-24T07:35:50.026Z"
   },
   {
    "duration": 13,
    "start_time": "2022-02-24T07:35:50.038Z"
   },
   {
    "duration": 53,
    "start_time": "2022-02-24T07:35:50.053Z"
   },
   {
    "duration": 15,
    "start_time": "2022-02-24T07:35:50.108Z"
   },
   {
    "duration": 10,
    "start_time": "2022-02-24T07:35:50.126Z"
   },
   {
    "duration": 81,
    "start_time": "2022-02-24T15:46:27.343Z"
   },
   {
    "duration": 1071,
    "start_time": "2022-06-10T15:02:32.710Z"
   },
   {
    "duration": 234,
    "start_time": "2022-06-10T15:02:33.789Z"
   },
   {
    "duration": 5,
    "start_time": "2022-06-10T15:02:34.025Z"
   },
   {
    "duration": 16,
    "start_time": "2022-06-10T15:02:34.032Z"
   },
   {
    "duration": 27,
    "start_time": "2022-06-10T15:02:34.050Z"
   },
   {
    "duration": 56,
    "start_time": "2022-06-10T15:02:34.079Z"
   },
   {
    "duration": 16,
    "start_time": "2022-06-10T15:02:34.136Z"
   },
   {
    "duration": 22,
    "start_time": "2022-06-10T15:02:34.154Z"
   },
   {
    "duration": 53,
    "start_time": "2022-06-10T15:02:34.178Z"
   },
   {
    "duration": 17,
    "start_time": "2022-06-10T15:02:34.234Z"
   },
   {
    "duration": 11,
    "start_time": "2022-06-10T15:02:34.253Z"
   },
   {
    "duration": 63,
    "start_time": "2022-06-10T15:02:34.266Z"
   },
   {
    "duration": 14,
    "start_time": "2022-06-10T15:02:34.331Z"
   },
   {
    "duration": 10,
    "start_time": "2022-06-10T15:02:34.347Z"
   },
   {
    "duration": 84,
    "start_time": "2022-06-10T15:02:34.361Z"
   },
   {
    "duration": 341,
    "start_time": "2022-06-10T15:02:34.447Z"
   },
   {
    "duration": 25,
    "start_time": "2022-06-10T15:02:34.792Z"
   },
   {
    "duration": 317,
    "start_time": "2022-06-10T15:02:34.819Z"
   },
   {
    "duration": 276,
    "start_time": "2022-06-10T15:02:35.137Z"
   },
   {
    "duration": 321,
    "start_time": "2022-06-10T15:02:35.415Z"
   },
   {
    "duration": 7,
    "start_time": "2022-06-10T15:02:35.738Z"
   },
   {
    "duration": 362,
    "start_time": "2022-06-10T15:02:35.746Z"
   },
   {
    "duration": 10,
    "start_time": "2022-06-10T15:02:36.110Z"
   },
   {
    "duration": 9,
    "start_time": "2022-06-10T15:02:36.122Z"
   },
   {
    "duration": 29,
    "start_time": "2022-06-10T15:02:36.132Z"
   },
   {
    "duration": 37,
    "start_time": "2022-06-10T15:02:36.163Z"
   },
   {
    "duration": 38,
    "start_time": "2022-06-10T15:02:36.205Z"
   },
   {
    "duration": 39,
    "start_time": "2022-06-10T15:02:36.261Z"
   },
   {
    "duration": 18,
    "start_time": "2022-06-10T15:02:36.302Z"
   },
   {
    "duration": 6,
    "start_time": "2022-06-10T15:02:36.322Z"
   },
   {
    "duration": 7,
    "start_time": "2022-06-10T15:02:36.330Z"
   },
   {
    "duration": 49,
    "start_time": "2022-06-10T15:02:36.362Z"
   },
   {
    "duration": 10,
    "start_time": "2022-06-10T15:02:36.413Z"
   },
   {
    "duration": 9,
    "start_time": "2022-06-10T15:02:36.425Z"
   },
   {
    "duration": 3,
    "start_time": "2022-06-10T15:02:48.625Z"
   },
   {
    "duration": 120,
    "start_time": "2022-06-10T15:02:48.631Z"
   },
   {
    "duration": 4,
    "start_time": "2022-06-10T15:02:48.753Z"
   },
   {
    "duration": 67,
    "start_time": "2022-06-10T15:02:48.767Z"
   },
   {
    "duration": 16,
    "start_time": "2022-06-10T15:02:48.836Z"
   },
   {
    "duration": 67,
    "start_time": "2022-06-10T15:02:48.854Z"
   },
   {
    "duration": 19,
    "start_time": "2022-06-10T15:02:48.922Z"
   },
   {
    "duration": 13,
    "start_time": "2022-06-10T15:02:48.942Z"
   },
   {
    "duration": 17,
    "start_time": "2022-06-10T15:02:48.957Z"
   },
   {
    "duration": 40,
    "start_time": "2022-06-10T15:02:48.986Z"
   },
   {
    "duration": 8,
    "start_time": "2022-06-10T15:02:49.029Z"
   },
   {
    "duration": 43,
    "start_time": "2022-06-10T15:02:49.038Z"
   },
   {
    "duration": 19,
    "start_time": "2022-06-10T15:02:49.083Z"
   },
   {
    "duration": 12,
    "start_time": "2022-06-10T15:02:49.104Z"
   },
   {
    "duration": 40,
    "start_time": "2022-06-10T15:02:49.118Z"
   },
   {
    "duration": 336,
    "start_time": "2022-06-10T15:02:49.167Z"
   },
   {
    "duration": 14,
    "start_time": "2022-06-10T15:02:49.505Z"
   },
   {
    "duration": 306,
    "start_time": "2022-06-10T15:02:49.521Z"
   },
   {
    "duration": 287,
    "start_time": "2022-06-10T15:02:49.829Z"
   },
   {
    "duration": 380,
    "start_time": "2022-06-10T15:02:50.118Z"
   },
   {
    "duration": 10,
    "start_time": "2022-06-10T15:02:50.503Z"
   },
   {
    "duration": 328,
    "start_time": "2022-06-10T15:02:50.514Z"
   },
   {
    "duration": 26,
    "start_time": "2022-06-10T15:02:50.843Z"
   },
   {
    "duration": 20,
    "start_time": "2022-06-10T15:02:50.881Z"
   },
   {
    "duration": 20,
    "start_time": "2022-06-10T15:02:50.903Z"
   },
   {
    "duration": 42,
    "start_time": "2022-06-10T15:02:50.925Z"
   },
   {
    "duration": 39,
    "start_time": "2022-06-10T15:02:50.969Z"
   },
   {
    "duration": 32,
    "start_time": "2022-06-10T15:02:51.010Z"
   },
   {
    "duration": 35,
    "start_time": "2022-06-10T15:02:51.063Z"
   },
   {
    "duration": 13,
    "start_time": "2022-06-10T15:02:51.102Z"
   },
   {
    "duration": 9,
    "start_time": "2022-06-10T15:02:51.117Z"
   },
   {
    "duration": 11,
    "start_time": "2022-06-10T15:02:51.127Z"
   },
   {
    "duration": 12,
    "start_time": "2022-06-10T15:02:51.140Z"
   },
   {
    "duration": 16,
    "start_time": "2022-06-10T15:02:51.154Z"
   }
  ],
  "kernelspec": {
   "display_name": "Python 3 (ipykernel)",
   "language": "python",
   "name": "python3"
  },
  "language_info": {
   "codemirror_mode": {
    "name": "ipython",
    "version": 3
   },
   "file_extension": ".py",
   "mimetype": "text/x-python",
   "name": "python",
   "nbconvert_exporter": "python",
   "pygments_lexer": "ipython3",
   "version": "3.7.8"
  },
  "toc": {
   "base_numbering": 1,
   "nav_menu": {},
   "number_sections": true,
   "sideBar": true,
   "skip_h1_title": true,
   "title_cell": "Table of Contents",
   "title_sidebar": "Contents",
   "toc_cell": false,
   "toc_position": {},
   "toc_section_display": true,
   "toc_window_display": false
  }
 },
 "nbformat": 4,
 "nbformat_minor": 5
}
