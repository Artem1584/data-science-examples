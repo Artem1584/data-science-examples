{
 "cells": [
  {
   "cell_type": "markdown",
   "metadata": {},
   "source": [
    "# телеком — задача проекта\n",
    "\n",
    "Оператор связи «Ниединогоразрыва.ком» хочет научиться прогнозировать отток клиентов. Если выяснится, что пользователь планирует уйти, ему будут предложены промокоды и специальные условия. Команда оператора собрала персональные данные о некоторых клиентах, информацию об их тарифах и договорах.\n",
    "\n",
    "# Описание услуг\n",
    "\n",
    "Оператор предоставляет два основных типа услуг: \n",
    "\n",
    "1. Стационарную телефонную связь. Возможно подключение телефонного аппарата к нескольким линиям одновременно.\n",
    "2. Интернет. Подключение может быть двух типов: через телефонную линию (DSL*,* от англ. *digital subscriber line*, «цифровая абонентская линия») или оптоволоконный кабель (*Fiber optic*).  \n",
    "\n",
    "Также доступны такие услуги:\n",
    "\n",
    "- Интернет-безопасность: антивирус (*DeviceProtection*) и блокировка небезопасных сайтов (*OnlineSecurity*);\n",
    "- Выделенная линия технической поддержки (*TechSupport*);\n",
    "- Облачное хранилище файлов для резервного копирования данных (*OnlineBackup*);\n",
    "- Стриминговое телевидение (*StreamingTV*) и каталог фильмов (*StreamingMovies*).\n",
    "\n",
    "За услуги клиенты могут платить каждый месяц или заключить договор на 1–2 года. Доступны различные способы расчёта и возможность получения электронного чека.\n",
    "\n",
    "# Описание данных\n",
    "\n",
    "Данные состоят из файлов, полученных из разных источников:\n",
    "\n",
    "- `contract.csv` — информация о договоре;\n",
    "- `personal.csv` — персональные данные клиента;\n",
    "- `internet.csv` — информация об интернет-услугах;\n",
    "- `phone.csv` — информация об услугах телефонии.\n",
    "\n",
    "Во всех файлах столбец `customerID` содержит код клиента.\n",
    "\n",
    "Информация о договорах актуальна на 1 февраля 2020."
   ]
  },
  {
   "cell_type": "code",
   "execution_count": 159,
   "metadata": {},
   "outputs": [],
   "source": [
    "import pandas as pd\n",
    "import numpy as np\n",
    "from sklearn.model_selection import train_test_split\n",
    "from sklearn.metrics import roc_auc_score\n",
    "from sklearn.linear_model import LogisticRegression\n",
    "from sklearn.tree import DecisionTreeClassifier\n",
    "from sklearn.utils import shuffle\n",
    "from sklearn.ensemble import RandomForestClassifier\n",
    "from sklearn.preprocessing import StandardScaler\n",
    "from sklearn.model_selection import GridSearchCV\n",
    "from sklearn.model_selection import cross_val_score\n",
    "from catboost import CatBoostClassifier\n",
    "from lightgbm import LGBMClassifier\n",
    "import matplotlib.pyplot as plt\n",
    "from sklearn.metrics import roc_curve\n",
    "\n",
    "import warnings\n",
    "warnings.filterwarnings('ignore')"
   ]
  },
  {
   "cell_type": "markdown",
   "metadata": {},
   "source": [
    "## Загрузка и подготовка данных"
   ]
  },
  {
   "cell_type": "markdown",
   "metadata": {},
   "source": [
    "**Информация о договоре**"
   ]
  },
  {
   "cell_type": "code",
   "execution_count": 160,
   "metadata": {},
   "outputs": [],
   "source": [
    "try:\n",
    "    df_contract = pd.read_csv('contract.csv') \n",
    "except:\n",
    "    df_contract = pd.read_csv('/datasets/final_provider/contract.csv') "
   ]
  },
  {
   "cell_type": "code",
   "execution_count": 161,
   "metadata": {},
   "outputs": [
    {
     "data": {
      "text/plain": [
       "0"
      ]
     },
     "metadata": {},
     "output_type": "display_data"
    },
    {
     "name": "stdout",
     "output_type": "stream",
     "text": [
      "<class 'pandas.core.frame.DataFrame'>\n",
      "RangeIndex: 7043 entries, 0 to 7042\n",
      "Data columns (total 8 columns):\n",
      " #   Column            Non-Null Count  Dtype  \n",
      "---  ------            --------------  -----  \n",
      " 0   customerID        7043 non-null   object \n",
      " 1   BeginDate         7043 non-null   object \n",
      " 2   EndDate           7043 non-null   object \n",
      " 3   Type              7043 non-null   object \n",
      " 4   PaperlessBilling  7043 non-null   object \n",
      " 5   PaymentMethod     7043 non-null   object \n",
      " 6   MonthlyCharges    7043 non-null   float64\n",
      " 7   TotalCharges      7043 non-null   object \n",
      "dtypes: float64(1), object(7)\n",
      "memory usage: 440.3+ KB\n"
     ]
    },
    {
     "data": {
      "text/plain": [
       "None"
      ]
     },
     "metadata": {},
     "output_type": "display_data"
    },
    {
     "data": {
      "text/plain": [
       "customerID          0\n",
       "BeginDate           0\n",
       "EndDate             0\n",
       "Type                0\n",
       "PaperlessBilling    0\n",
       "PaymentMethod       0\n",
       "MonthlyCharges      0\n",
       "TotalCharges        0\n",
       "dtype: int64"
      ]
     },
     "metadata": {},
     "output_type": "display_data"
    },
    {
     "data": {
      "text/html": [
       "<div>\n",
       "<style scoped>\n",
       "    .dataframe tbody tr th:only-of-type {\n",
       "        vertical-align: middle;\n",
       "    }\n",
       "\n",
       "    .dataframe tbody tr th {\n",
       "        vertical-align: top;\n",
       "    }\n",
       "\n",
       "    .dataframe thead th {\n",
       "        text-align: right;\n",
       "    }\n",
       "</style>\n",
       "<table border=\"1\" class=\"dataframe\">\n",
       "  <thead>\n",
       "    <tr style=\"text-align: right;\">\n",
       "      <th></th>\n",
       "      <th>customerID</th>\n",
       "      <th>BeginDate</th>\n",
       "      <th>EndDate</th>\n",
       "      <th>Type</th>\n",
       "      <th>PaperlessBilling</th>\n",
       "      <th>PaymentMethod</th>\n",
       "      <th>MonthlyCharges</th>\n",
       "      <th>TotalCharges</th>\n",
       "    </tr>\n",
       "  </thead>\n",
       "  <tbody>\n",
       "    <tr>\n",
       "      <th>0</th>\n",
       "      <td>7590-VHVEG</td>\n",
       "      <td>2020-01-01</td>\n",
       "      <td>No</td>\n",
       "      <td>Month-to-month</td>\n",
       "      <td>Yes</td>\n",
       "      <td>Electronic check</td>\n",
       "      <td>29.85</td>\n",
       "      <td>29.85</td>\n",
       "    </tr>\n",
       "    <tr>\n",
       "      <th>1</th>\n",
       "      <td>5575-GNVDE</td>\n",
       "      <td>2017-04-01</td>\n",
       "      <td>No</td>\n",
       "      <td>One year</td>\n",
       "      <td>No</td>\n",
       "      <td>Mailed check</td>\n",
       "      <td>56.95</td>\n",
       "      <td>1889.5</td>\n",
       "    </tr>\n",
       "    <tr>\n",
       "      <th>2</th>\n",
       "      <td>3668-QPYBK</td>\n",
       "      <td>2019-10-01</td>\n",
       "      <td>2019-12-01 00:00:00</td>\n",
       "      <td>Month-to-month</td>\n",
       "      <td>Yes</td>\n",
       "      <td>Mailed check</td>\n",
       "      <td>53.85</td>\n",
       "      <td>108.15</td>\n",
       "    </tr>\n",
       "    <tr>\n",
       "      <th>3</th>\n",
       "      <td>7795-CFOCW</td>\n",
       "      <td>2016-05-01</td>\n",
       "      <td>No</td>\n",
       "      <td>One year</td>\n",
       "      <td>No</td>\n",
       "      <td>Bank transfer (automatic)</td>\n",
       "      <td>42.30</td>\n",
       "      <td>1840.75</td>\n",
       "    </tr>\n",
       "    <tr>\n",
       "      <th>4</th>\n",
       "      <td>9237-HQITU</td>\n",
       "      <td>2019-09-01</td>\n",
       "      <td>2019-11-01 00:00:00</td>\n",
       "      <td>Month-to-month</td>\n",
       "      <td>Yes</td>\n",
       "      <td>Electronic check</td>\n",
       "      <td>70.70</td>\n",
       "      <td>151.65</td>\n",
       "    </tr>\n",
       "  </tbody>\n",
       "</table>\n",
       "</div>"
      ],
      "text/plain": [
       "   customerID   BeginDate              EndDate            Type  \\\n",
       "0  7590-VHVEG  2020-01-01                   No  Month-to-month   \n",
       "1  5575-GNVDE  2017-04-01                   No        One year   \n",
       "2  3668-QPYBK  2019-10-01  2019-12-01 00:00:00  Month-to-month   \n",
       "3  7795-CFOCW  2016-05-01                   No        One year   \n",
       "4  9237-HQITU  2019-09-01  2019-11-01 00:00:00  Month-to-month   \n",
       "\n",
       "  PaperlessBilling              PaymentMethod  MonthlyCharges TotalCharges  \n",
       "0              Yes           Electronic check           29.85        29.85  \n",
       "1               No               Mailed check           56.95       1889.5  \n",
       "2              Yes               Mailed check           53.85       108.15  \n",
       "3               No  Bank transfer (automatic)           42.30      1840.75  \n",
       "4              Yes           Electronic check           70.70       151.65  "
      ]
     },
     "execution_count": 161,
     "metadata": {},
     "output_type": "execute_result"
    }
   ],
   "source": [
    "display(df_contract.duplicated().sum())\n",
    "display(df_contract.info())\n",
    "display(df_contract.isna().sum())\n",
    "df_contract.head(5)"
   ]
  },
  {
   "cell_type": "markdown",
   "metadata": {},
   "source": [
    "*Добавим сразу столбецс с таргетом, всем ушедшим клиентам присвоим номер 1, оставшимся 0*"
   ]
  },
  {
   "cell_type": "code",
   "execution_count": 162,
   "metadata": {},
   "outputs": [
    {
     "data": {
      "text/html": [
       "<div>\n",
       "<style scoped>\n",
       "    .dataframe tbody tr th:only-of-type {\n",
       "        vertical-align: middle;\n",
       "    }\n",
       "\n",
       "    .dataframe tbody tr th {\n",
       "        vertical-align: top;\n",
       "    }\n",
       "\n",
       "    .dataframe thead th {\n",
       "        text-align: right;\n",
       "    }\n",
       "</style>\n",
       "<table border=\"1\" class=\"dataframe\">\n",
       "  <thead>\n",
       "    <tr style=\"text-align: right;\">\n",
       "      <th></th>\n",
       "      <th>customerID</th>\n",
       "      <th>BeginDate</th>\n",
       "      <th>EndDate</th>\n",
       "      <th>Type</th>\n",
       "      <th>PaperlessBilling</th>\n",
       "      <th>PaymentMethod</th>\n",
       "      <th>MonthlyCharges</th>\n",
       "      <th>TotalCharges</th>\n",
       "      <th>target</th>\n",
       "    </tr>\n",
       "  </thead>\n",
       "  <tbody>\n",
       "    <tr>\n",
       "      <th>0</th>\n",
       "      <td>7590-VHVEG</td>\n",
       "      <td>2020-01-01</td>\n",
       "      <td>No</td>\n",
       "      <td>Month-to-month</td>\n",
       "      <td>Yes</td>\n",
       "      <td>Electronic check</td>\n",
       "      <td>29.85</td>\n",
       "      <td>29.85</td>\n",
       "      <td>0</td>\n",
       "    </tr>\n",
       "    <tr>\n",
       "      <th>1</th>\n",
       "      <td>5575-GNVDE</td>\n",
       "      <td>2017-04-01</td>\n",
       "      <td>No</td>\n",
       "      <td>One year</td>\n",
       "      <td>No</td>\n",
       "      <td>Mailed check</td>\n",
       "      <td>56.95</td>\n",
       "      <td>1889.5</td>\n",
       "      <td>0</td>\n",
       "    </tr>\n",
       "    <tr>\n",
       "      <th>2</th>\n",
       "      <td>3668-QPYBK</td>\n",
       "      <td>2019-10-01</td>\n",
       "      <td>2019-12-01 00:00:00</td>\n",
       "      <td>Month-to-month</td>\n",
       "      <td>Yes</td>\n",
       "      <td>Mailed check</td>\n",
       "      <td>53.85</td>\n",
       "      <td>108.15</td>\n",
       "      <td>1</td>\n",
       "    </tr>\n",
       "    <tr>\n",
       "      <th>3</th>\n",
       "      <td>7795-CFOCW</td>\n",
       "      <td>2016-05-01</td>\n",
       "      <td>No</td>\n",
       "      <td>One year</td>\n",
       "      <td>No</td>\n",
       "      <td>Bank transfer (automatic)</td>\n",
       "      <td>42.30</td>\n",
       "      <td>1840.75</td>\n",
       "      <td>0</td>\n",
       "    </tr>\n",
       "    <tr>\n",
       "      <th>4</th>\n",
       "      <td>9237-HQITU</td>\n",
       "      <td>2019-09-01</td>\n",
       "      <td>2019-11-01 00:00:00</td>\n",
       "      <td>Month-to-month</td>\n",
       "      <td>Yes</td>\n",
       "      <td>Electronic check</td>\n",
       "      <td>70.70</td>\n",
       "      <td>151.65</td>\n",
       "      <td>1</td>\n",
       "    </tr>\n",
       "  </tbody>\n",
       "</table>\n",
       "</div>"
      ],
      "text/plain": [
       "   customerID   BeginDate              EndDate            Type  \\\n",
       "0  7590-VHVEG  2020-01-01                   No  Month-to-month   \n",
       "1  5575-GNVDE  2017-04-01                   No        One year   \n",
       "2  3668-QPYBK  2019-10-01  2019-12-01 00:00:00  Month-to-month   \n",
       "3  7795-CFOCW  2016-05-01                   No        One year   \n",
       "4  9237-HQITU  2019-09-01  2019-11-01 00:00:00  Month-to-month   \n",
       "\n",
       "  PaperlessBilling              PaymentMethod  MonthlyCharges TotalCharges  \\\n",
       "0              Yes           Electronic check           29.85        29.85   \n",
       "1               No               Mailed check           56.95       1889.5   \n",
       "2              Yes               Mailed check           53.85       108.15   \n",
       "3               No  Bank transfer (automatic)           42.30      1840.75   \n",
       "4              Yes           Electronic check           70.70       151.65   \n",
       "\n",
       "   target  \n",
       "0       0  \n",
       "1       0  \n",
       "2       1  \n",
       "3       0  \n",
       "4       1  "
      ]
     },
     "execution_count": 162,
     "metadata": {},
     "output_type": "execute_result"
    }
   ],
   "source": [
    "\n",
    "df_contract['target'] = df_contract['EndDate']\n",
    "def target(target):\n",
    "    if target == 'No':\n",
    "        return 0\n",
    "    else:\n",
    "        return 1\n",
    "df_contract['target'] = df_contract['target'].apply(target)\n",
    "\n",
    "df_contract.head(5)"
   ]
  },
  {
   "cell_type": "markdown",
   "metadata": {},
   "source": [
    "*Посчитаю \"время жизни\" клиента в месяцах и добавлю столбец month. Дата окончания - это дата получения датасета.*"
   ]
  },
  {
   "cell_type": "code",
   "execution_count": 163,
   "metadata": {},
   "outputs": [
    {
     "data": {
      "text/html": [
       "<div>\n",
       "<style scoped>\n",
       "    .dataframe tbody tr th:only-of-type {\n",
       "        vertical-align: middle;\n",
       "    }\n",
       "\n",
       "    .dataframe tbody tr th {\n",
       "        vertical-align: top;\n",
       "    }\n",
       "\n",
       "    .dataframe thead th {\n",
       "        text-align: right;\n",
       "    }\n",
       "</style>\n",
       "<table border=\"1\" class=\"dataframe\">\n",
       "  <thead>\n",
       "    <tr style=\"text-align: right;\">\n",
       "      <th></th>\n",
       "      <th>customerID</th>\n",
       "      <th>BeginDate</th>\n",
       "      <th>EndDate</th>\n",
       "      <th>Type</th>\n",
       "      <th>PaperlessBilling</th>\n",
       "      <th>PaymentMethod</th>\n",
       "      <th>MonthlyCharges</th>\n",
       "      <th>TotalCharges</th>\n",
       "      <th>target</th>\n",
       "      <th>day</th>\n",
       "    </tr>\n",
       "  </thead>\n",
       "  <tbody>\n",
       "    <tr>\n",
       "      <th>0</th>\n",
       "      <td>7590-VHVEG</td>\n",
       "      <td>2020-01-01</td>\n",
       "      <td>2020-02-01</td>\n",
       "      <td>Month-to-month</td>\n",
       "      <td>Yes</td>\n",
       "      <td>Electronic check</td>\n",
       "      <td>29.85</td>\n",
       "      <td>29.85</td>\n",
       "      <td>0</td>\n",
       "      <td>31</td>\n",
       "    </tr>\n",
       "    <tr>\n",
       "      <th>1</th>\n",
       "      <td>5575-GNVDE</td>\n",
       "      <td>2017-04-01</td>\n",
       "      <td>2020-02-01</td>\n",
       "      <td>One year</td>\n",
       "      <td>No</td>\n",
       "      <td>Mailed check</td>\n",
       "      <td>56.95</td>\n",
       "      <td>1889.5</td>\n",
       "      <td>0</td>\n",
       "      <td>1036</td>\n",
       "    </tr>\n",
       "    <tr>\n",
       "      <th>2</th>\n",
       "      <td>3668-QPYBK</td>\n",
       "      <td>2019-10-01</td>\n",
       "      <td>2019-12-01</td>\n",
       "      <td>Month-to-month</td>\n",
       "      <td>Yes</td>\n",
       "      <td>Mailed check</td>\n",
       "      <td>53.85</td>\n",
       "      <td>108.15</td>\n",
       "      <td>1</td>\n",
       "      <td>61</td>\n",
       "    </tr>\n",
       "    <tr>\n",
       "      <th>3</th>\n",
       "      <td>7795-CFOCW</td>\n",
       "      <td>2016-05-01</td>\n",
       "      <td>2020-02-01</td>\n",
       "      <td>One year</td>\n",
       "      <td>No</td>\n",
       "      <td>Bank transfer (automatic)</td>\n",
       "      <td>42.30</td>\n",
       "      <td>1840.75</td>\n",
       "      <td>0</td>\n",
       "      <td>1371</td>\n",
       "    </tr>\n",
       "    <tr>\n",
       "      <th>4</th>\n",
       "      <td>9237-HQITU</td>\n",
       "      <td>2019-09-01</td>\n",
       "      <td>2019-11-01</td>\n",
       "      <td>Month-to-month</td>\n",
       "      <td>Yes</td>\n",
       "      <td>Electronic check</td>\n",
       "      <td>70.70</td>\n",
       "      <td>151.65</td>\n",
       "      <td>1</td>\n",
       "      <td>61</td>\n",
       "    </tr>\n",
       "  </tbody>\n",
       "</table>\n",
       "</div>"
      ],
      "text/plain": [
       "   customerID  BeginDate    EndDate            Type PaperlessBilling  \\\n",
       "0  7590-VHVEG 2020-01-01 2020-02-01  Month-to-month              Yes   \n",
       "1  5575-GNVDE 2017-04-01 2020-02-01        One year               No   \n",
       "2  3668-QPYBK 2019-10-01 2019-12-01  Month-to-month              Yes   \n",
       "3  7795-CFOCW 2016-05-01 2020-02-01        One year               No   \n",
       "4  9237-HQITU 2019-09-01 2019-11-01  Month-to-month              Yes   \n",
       "\n",
       "               PaymentMethod  MonthlyCharges TotalCharges  target   day  \n",
       "0           Electronic check           29.85        29.85       0    31  \n",
       "1               Mailed check           56.95       1889.5       0  1036  \n",
       "2               Mailed check           53.85       108.15       1    61  \n",
       "3  Bank transfer (automatic)           42.30      1840.75       0  1371  \n",
       "4           Electronic check           70.70       151.65       1    61  "
      ]
     },
     "execution_count": 163,
     "metadata": {},
     "output_type": "execute_result"
    }
   ],
   "source": [
    "df_contract.loc[df_contract['EndDate'] == 'No', 'EndDate'] = '2020-02-01'\n",
    "df_contract[['BeginDate', 'EndDate']] = df_contract[['BeginDate', 'EndDate']].astype(\"datetime64\")\n",
    "df_contract[\"day\"] = (df_contract[\"EndDate\"] - df_contract[\"BeginDate\"]).dt.days\n",
    "\n",
    "df_contract.head(5)"
   ]
  },
  {
   "cell_type": "code",
   "execution_count": 164,
   "metadata": {},
   "outputs": [],
   "source": [
    "#df_contract.loc[df_contract['EndDate'] == 'No', 'EndDate'] = '2020-02-01'\n",
    "#df_contract[['BeginDate', 'EndDate']] = df_contract[['BeginDate', 'EndDate']].astype(\"datetime64\")\n",
    "#df_contract[\"month\"] = (((df_contract[\"EndDate\"] - df_contract[\"BeginDate\"])/np.timedelta64(1, 'M'))).astype('int')\n",
    "#df_contract.head(5)"
   ]
  },
  {
   "cell_type": "markdown",
   "metadata": {},
   "source": [
    "*При изменение столбца TotalCharges на float, были найдены пустые значения. Пустые значения у клиентов, которые зарегистрировались в феврале и тип оплаты годовой или двухгодовой. Заменю пустые значения на значения из MonthlyCharges*"
   ]
  },
  {
   "cell_type": "code",
   "execution_count": 165,
   "metadata": {},
   "outputs": [
    {
     "data": {
      "text/html": [
       "<div>\n",
       "<style scoped>\n",
       "    .dataframe tbody tr th:only-of-type {\n",
       "        vertical-align: middle;\n",
       "    }\n",
       "\n",
       "    .dataframe tbody tr th {\n",
       "        vertical-align: top;\n",
       "    }\n",
       "\n",
       "    .dataframe thead th {\n",
       "        text-align: right;\n",
       "    }\n",
       "</style>\n",
       "<table border=\"1\" class=\"dataframe\">\n",
       "  <thead>\n",
       "    <tr style=\"text-align: right;\">\n",
       "      <th></th>\n",
       "      <th>customerID</th>\n",
       "      <th>BeginDate</th>\n",
       "      <th>EndDate</th>\n",
       "      <th>Type</th>\n",
       "      <th>PaperlessBilling</th>\n",
       "      <th>PaymentMethod</th>\n",
       "      <th>MonthlyCharges</th>\n",
       "      <th>TotalCharges</th>\n",
       "      <th>target</th>\n",
       "      <th>day</th>\n",
       "    </tr>\n",
       "  </thead>\n",
       "  <tbody>\n",
       "    <tr>\n",
       "      <th>488</th>\n",
       "      <td>4472-LVYGI</td>\n",
       "      <td>2020-02-01</td>\n",
       "      <td>2020-02-01</td>\n",
       "      <td>Two year</td>\n",
       "      <td>Yes</td>\n",
       "      <td>Bank transfer (automatic)</td>\n",
       "      <td>52.55</td>\n",
       "      <td></td>\n",
       "      <td>0</td>\n",
       "      <td>0</td>\n",
       "    </tr>\n",
       "    <tr>\n",
       "      <th>753</th>\n",
       "      <td>3115-CZMZD</td>\n",
       "      <td>2020-02-01</td>\n",
       "      <td>2020-02-01</td>\n",
       "      <td>Two year</td>\n",
       "      <td>No</td>\n",
       "      <td>Mailed check</td>\n",
       "      <td>20.25</td>\n",
       "      <td></td>\n",
       "      <td>0</td>\n",
       "      <td>0</td>\n",
       "    </tr>\n",
       "    <tr>\n",
       "      <th>936</th>\n",
       "      <td>5709-LVOEQ</td>\n",
       "      <td>2020-02-01</td>\n",
       "      <td>2020-02-01</td>\n",
       "      <td>Two year</td>\n",
       "      <td>No</td>\n",
       "      <td>Mailed check</td>\n",
       "      <td>80.85</td>\n",
       "      <td></td>\n",
       "      <td>0</td>\n",
       "      <td>0</td>\n",
       "    </tr>\n",
       "    <tr>\n",
       "      <th>1082</th>\n",
       "      <td>4367-NUYAO</td>\n",
       "      <td>2020-02-01</td>\n",
       "      <td>2020-02-01</td>\n",
       "      <td>Two year</td>\n",
       "      <td>No</td>\n",
       "      <td>Mailed check</td>\n",
       "      <td>25.75</td>\n",
       "      <td></td>\n",
       "      <td>0</td>\n",
       "      <td>0</td>\n",
       "    </tr>\n",
       "    <tr>\n",
       "      <th>1340</th>\n",
       "      <td>1371-DWPAZ</td>\n",
       "      <td>2020-02-01</td>\n",
       "      <td>2020-02-01</td>\n",
       "      <td>Two year</td>\n",
       "      <td>No</td>\n",
       "      <td>Credit card (automatic)</td>\n",
       "      <td>56.05</td>\n",
       "      <td></td>\n",
       "      <td>0</td>\n",
       "      <td>0</td>\n",
       "    </tr>\n",
       "    <tr>\n",
       "      <th>3331</th>\n",
       "      <td>7644-OMVMY</td>\n",
       "      <td>2020-02-01</td>\n",
       "      <td>2020-02-01</td>\n",
       "      <td>Two year</td>\n",
       "      <td>No</td>\n",
       "      <td>Mailed check</td>\n",
       "      <td>19.85</td>\n",
       "      <td></td>\n",
       "      <td>0</td>\n",
       "      <td>0</td>\n",
       "    </tr>\n",
       "    <tr>\n",
       "      <th>3826</th>\n",
       "      <td>3213-VVOLG</td>\n",
       "      <td>2020-02-01</td>\n",
       "      <td>2020-02-01</td>\n",
       "      <td>Two year</td>\n",
       "      <td>No</td>\n",
       "      <td>Mailed check</td>\n",
       "      <td>25.35</td>\n",
       "      <td></td>\n",
       "      <td>0</td>\n",
       "      <td>0</td>\n",
       "    </tr>\n",
       "    <tr>\n",
       "      <th>4380</th>\n",
       "      <td>2520-SGTTA</td>\n",
       "      <td>2020-02-01</td>\n",
       "      <td>2020-02-01</td>\n",
       "      <td>Two year</td>\n",
       "      <td>No</td>\n",
       "      <td>Mailed check</td>\n",
       "      <td>20.00</td>\n",
       "      <td></td>\n",
       "      <td>0</td>\n",
       "      <td>0</td>\n",
       "    </tr>\n",
       "    <tr>\n",
       "      <th>5218</th>\n",
       "      <td>2923-ARZLG</td>\n",
       "      <td>2020-02-01</td>\n",
       "      <td>2020-02-01</td>\n",
       "      <td>One year</td>\n",
       "      <td>Yes</td>\n",
       "      <td>Mailed check</td>\n",
       "      <td>19.70</td>\n",
       "      <td></td>\n",
       "      <td>0</td>\n",
       "      <td>0</td>\n",
       "    </tr>\n",
       "    <tr>\n",
       "      <th>6670</th>\n",
       "      <td>4075-WKNIU</td>\n",
       "      <td>2020-02-01</td>\n",
       "      <td>2020-02-01</td>\n",
       "      <td>Two year</td>\n",
       "      <td>No</td>\n",
       "      <td>Mailed check</td>\n",
       "      <td>73.35</td>\n",
       "      <td></td>\n",
       "      <td>0</td>\n",
       "      <td>0</td>\n",
       "    </tr>\n",
       "    <tr>\n",
       "      <th>6754</th>\n",
       "      <td>2775-SEFEE</td>\n",
       "      <td>2020-02-01</td>\n",
       "      <td>2020-02-01</td>\n",
       "      <td>Two year</td>\n",
       "      <td>Yes</td>\n",
       "      <td>Bank transfer (automatic)</td>\n",
       "      <td>61.90</td>\n",
       "      <td></td>\n",
       "      <td>0</td>\n",
       "      <td>0</td>\n",
       "    </tr>\n",
       "  </tbody>\n",
       "</table>\n",
       "</div>"
      ],
      "text/plain": [
       "      customerID  BeginDate    EndDate      Type PaperlessBilling  \\\n",
       "488   4472-LVYGI 2020-02-01 2020-02-01  Two year              Yes   \n",
       "753   3115-CZMZD 2020-02-01 2020-02-01  Two year               No   \n",
       "936   5709-LVOEQ 2020-02-01 2020-02-01  Two year               No   \n",
       "1082  4367-NUYAO 2020-02-01 2020-02-01  Two year               No   \n",
       "1340  1371-DWPAZ 2020-02-01 2020-02-01  Two year               No   \n",
       "3331  7644-OMVMY 2020-02-01 2020-02-01  Two year               No   \n",
       "3826  3213-VVOLG 2020-02-01 2020-02-01  Two year               No   \n",
       "4380  2520-SGTTA 2020-02-01 2020-02-01  Two year               No   \n",
       "5218  2923-ARZLG 2020-02-01 2020-02-01  One year              Yes   \n",
       "6670  4075-WKNIU 2020-02-01 2020-02-01  Two year               No   \n",
       "6754  2775-SEFEE 2020-02-01 2020-02-01  Two year              Yes   \n",
       "\n",
       "                  PaymentMethod  MonthlyCharges TotalCharges  target  day  \n",
       "488   Bank transfer (automatic)           52.55                    0    0  \n",
       "753                Mailed check           20.25                    0    0  \n",
       "936                Mailed check           80.85                    0    0  \n",
       "1082               Mailed check           25.75                    0    0  \n",
       "1340    Credit card (automatic)           56.05                    0    0  \n",
       "3331               Mailed check           19.85                    0    0  \n",
       "3826               Mailed check           25.35                    0    0  \n",
       "4380               Mailed check           20.00                    0    0  \n",
       "5218               Mailed check           19.70                    0    0  \n",
       "6670               Mailed check           73.35                    0    0  \n",
       "6754  Bank transfer (automatic)           61.90                    0    0  "
      ]
     },
     "execution_count": 165,
     "metadata": {},
     "output_type": "execute_result"
    }
   ],
   "source": [
    "df_contract[df_contract['TotalCharges'] == ' ']"
   ]
  },
  {
   "cell_type": "code",
   "execution_count": 166,
   "metadata": {},
   "outputs": [],
   "source": [
    "def empty(row):\n",
    "    if row['TotalCharges'] == ' ':\n",
    "        x = row['MonthlyCharges']\n",
    "        return x\n",
    "    else:\n",
    "        y = row['TotalCharges']\n",
    "        return y\n",
    "\n",
    "df_contract['TotalCharges'] = df_contract.apply(empty, axis=1)\n"
   ]
  },
  {
   "cell_type": "code",
   "execution_count": 167,
   "metadata": {},
   "outputs": [
    {
     "data": {
      "text/plain": [
       "customerID                         4472-LVYGI\n",
       "BeginDate                 2020-02-01 00:00:00\n",
       "EndDate                   2020-02-01 00:00:00\n",
       "Type                                 Two year\n",
       "PaperlessBilling                          Yes\n",
       "PaymentMethod       Bank transfer (automatic)\n",
       "MonthlyCharges                          52.55\n",
       "TotalCharges                            52.55\n",
       "target                                      0\n",
       "day                                         0\n",
       "Name: 488, dtype: object"
      ]
     },
     "execution_count": 167,
     "metadata": {},
     "output_type": "execute_result"
    }
   ],
   "source": [
    "df_contract.loc[488]"
   ]
  },
  {
   "cell_type": "code",
   "execution_count": 168,
   "metadata": {},
   "outputs": [],
   "source": [
    "# переведу значения во float\n",
    "df_contract['TotalCharges'] = pd.to_numeric(df_contract['TotalCharges']) "
   ]
  },
  {
   "cell_type": "code",
   "execution_count": 169,
   "metadata": {},
   "outputs": [
    {
     "data": {
      "text/html": [
       "<div>\n",
       "<style scoped>\n",
       "    .dataframe tbody tr th:only-of-type {\n",
       "        vertical-align: middle;\n",
       "    }\n",
       "\n",
       "    .dataframe tbody tr th {\n",
       "        vertical-align: top;\n",
       "    }\n",
       "\n",
       "    .dataframe thead th {\n",
       "        text-align: right;\n",
       "    }\n",
       "</style>\n",
       "<table border=\"1\" class=\"dataframe\">\n",
       "  <thead>\n",
       "    <tr style=\"text-align: right;\">\n",
       "      <th></th>\n",
       "      <th>customerID</th>\n",
       "      <th>BeginDate</th>\n",
       "      <th>EndDate</th>\n",
       "      <th>Type</th>\n",
       "      <th>PaperlessBilling</th>\n",
       "      <th>PaymentMethod</th>\n",
       "      <th>MonthlyCharges</th>\n",
       "      <th>TotalCharges</th>\n",
       "      <th>target</th>\n",
       "      <th>day</th>\n",
       "    </tr>\n",
       "  </thead>\n",
       "  <tbody>\n",
       "    <tr>\n",
       "      <th>0</th>\n",
       "      <td>7590-VHVEG</td>\n",
       "      <td>2020-01-01</td>\n",
       "      <td>2020-02-01</td>\n",
       "      <td>Month-to-month</td>\n",
       "      <td>Yes</td>\n",
       "      <td>Electronic check</td>\n",
       "      <td>29.85</td>\n",
       "      <td>29.85</td>\n",
       "      <td>0</td>\n",
       "      <td>31</td>\n",
       "    </tr>\n",
       "    <tr>\n",
       "      <th>1</th>\n",
       "      <td>5575-GNVDE</td>\n",
       "      <td>2017-04-01</td>\n",
       "      <td>2020-02-01</td>\n",
       "      <td>One year</td>\n",
       "      <td>No</td>\n",
       "      <td>Mailed check</td>\n",
       "      <td>56.95</td>\n",
       "      <td>1889.50</td>\n",
       "      <td>0</td>\n",
       "      <td>1036</td>\n",
       "    </tr>\n",
       "    <tr>\n",
       "      <th>2</th>\n",
       "      <td>3668-QPYBK</td>\n",
       "      <td>2019-10-01</td>\n",
       "      <td>2019-12-01</td>\n",
       "      <td>Month-to-month</td>\n",
       "      <td>Yes</td>\n",
       "      <td>Mailed check</td>\n",
       "      <td>53.85</td>\n",
       "      <td>108.15</td>\n",
       "      <td>1</td>\n",
       "      <td>61</td>\n",
       "    </tr>\n",
       "    <tr>\n",
       "      <th>3</th>\n",
       "      <td>7795-CFOCW</td>\n",
       "      <td>2016-05-01</td>\n",
       "      <td>2020-02-01</td>\n",
       "      <td>One year</td>\n",
       "      <td>No</td>\n",
       "      <td>Bank transfer (automatic)</td>\n",
       "      <td>42.30</td>\n",
       "      <td>1840.75</td>\n",
       "      <td>0</td>\n",
       "      <td>1371</td>\n",
       "    </tr>\n",
       "    <tr>\n",
       "      <th>4</th>\n",
       "      <td>9237-HQITU</td>\n",
       "      <td>2019-09-01</td>\n",
       "      <td>2019-11-01</td>\n",
       "      <td>Month-to-month</td>\n",
       "      <td>Yes</td>\n",
       "      <td>Electronic check</td>\n",
       "      <td>70.70</td>\n",
       "      <td>151.65</td>\n",
       "      <td>1</td>\n",
       "      <td>61</td>\n",
       "    </tr>\n",
       "  </tbody>\n",
       "</table>\n",
       "</div>"
      ],
      "text/plain": [
       "   customerID  BeginDate    EndDate            Type PaperlessBilling  \\\n",
       "0  7590-VHVEG 2020-01-01 2020-02-01  Month-to-month              Yes   \n",
       "1  5575-GNVDE 2017-04-01 2020-02-01        One year               No   \n",
       "2  3668-QPYBK 2019-10-01 2019-12-01  Month-to-month              Yes   \n",
       "3  7795-CFOCW 2016-05-01 2020-02-01        One year               No   \n",
       "4  9237-HQITU 2019-09-01 2019-11-01  Month-to-month              Yes   \n",
       "\n",
       "               PaymentMethod  MonthlyCharges  TotalCharges  target   day  \n",
       "0           Electronic check           29.85         29.85       0    31  \n",
       "1               Mailed check           56.95       1889.50       0  1036  \n",
       "2               Mailed check           53.85        108.15       1    61  \n",
       "3  Bank transfer (automatic)           42.30       1840.75       0  1371  \n",
       "4           Electronic check           70.70        151.65       1    61  "
      ]
     },
     "metadata": {},
     "output_type": "display_data"
    },
    {
     "name": "stdout",
     "output_type": "stream",
     "text": [
      "<class 'pandas.core.frame.DataFrame'>\n",
      "RangeIndex: 7043 entries, 0 to 7042\n",
      "Data columns (total 10 columns):\n",
      " #   Column            Non-Null Count  Dtype         \n",
      "---  ------            --------------  -----         \n",
      " 0   customerID        7043 non-null   object        \n",
      " 1   BeginDate         7043 non-null   datetime64[ns]\n",
      " 2   EndDate           7043 non-null   datetime64[ns]\n",
      " 3   Type              7043 non-null   object        \n",
      " 4   PaperlessBilling  7043 non-null   object        \n",
      " 5   PaymentMethod     7043 non-null   object        \n",
      " 6   MonthlyCharges    7043 non-null   float64       \n",
      " 7   TotalCharges      7043 non-null   float64       \n",
      " 8   target            7043 non-null   int64         \n",
      " 9   day               7043 non-null   int64         \n",
      "dtypes: datetime64[ns](2), float64(2), int64(2), object(4)\n",
      "memory usage: 550.4+ KB\n"
     ]
    }
   ],
   "source": [
    "display(df_contract.head(5))\n",
    "df_contract.info()"
   ]
  },
  {
   "cell_type": "markdown",
   "metadata": {},
   "source": [
    "**Персональные данные клиента**"
   ]
  },
  {
   "cell_type": "code",
   "execution_count": 170,
   "metadata": {},
   "outputs": [],
   "source": [
    "\n",
    "try:\n",
    "    df_personal = pd.read_csv('personal.csv') \n",
    "except:\n",
    "    df_personal = pd.read_csv('/datasets/final_provider/personal.csv') "
   ]
  },
  {
   "cell_type": "code",
   "execution_count": 171,
   "metadata": {},
   "outputs": [
    {
     "data": {
      "text/plain": [
       "0"
      ]
     },
     "metadata": {},
     "output_type": "display_data"
    },
    {
     "name": "stdout",
     "output_type": "stream",
     "text": [
      "<class 'pandas.core.frame.DataFrame'>\n",
      "RangeIndex: 7043 entries, 0 to 7042\n",
      "Data columns (total 5 columns):\n",
      " #   Column         Non-Null Count  Dtype \n",
      "---  ------         --------------  ----- \n",
      " 0   customerID     7043 non-null   object\n",
      " 1   gender         7043 non-null   object\n",
      " 2   SeniorCitizen  7043 non-null   int64 \n",
      " 3   Partner        7043 non-null   object\n",
      " 4   Dependents     7043 non-null   object\n",
      "dtypes: int64(1), object(4)\n",
      "memory usage: 275.2+ KB\n"
     ]
    },
    {
     "data": {
      "text/plain": [
       "None"
      ]
     },
     "metadata": {},
     "output_type": "display_data"
    },
    {
     "data": {
      "text/plain": [
       "customerID       0\n",
       "gender           0\n",
       "SeniorCitizen    0\n",
       "Partner          0\n",
       "Dependents       0\n",
       "dtype: int64"
      ]
     },
     "metadata": {},
     "output_type": "display_data"
    },
    {
     "data": {
      "text/html": [
       "<div>\n",
       "<style scoped>\n",
       "    .dataframe tbody tr th:only-of-type {\n",
       "        vertical-align: middle;\n",
       "    }\n",
       "\n",
       "    .dataframe tbody tr th {\n",
       "        vertical-align: top;\n",
       "    }\n",
       "\n",
       "    .dataframe thead th {\n",
       "        text-align: right;\n",
       "    }\n",
       "</style>\n",
       "<table border=\"1\" class=\"dataframe\">\n",
       "  <thead>\n",
       "    <tr style=\"text-align: right;\">\n",
       "      <th></th>\n",
       "      <th>customerID</th>\n",
       "      <th>gender</th>\n",
       "      <th>SeniorCitizen</th>\n",
       "      <th>Partner</th>\n",
       "      <th>Dependents</th>\n",
       "    </tr>\n",
       "  </thead>\n",
       "  <tbody>\n",
       "    <tr>\n",
       "      <th>0</th>\n",
       "      <td>7590-VHVEG</td>\n",
       "      <td>Female</td>\n",
       "      <td>0</td>\n",
       "      <td>Yes</td>\n",
       "      <td>No</td>\n",
       "    </tr>\n",
       "    <tr>\n",
       "      <th>1</th>\n",
       "      <td>5575-GNVDE</td>\n",
       "      <td>Male</td>\n",
       "      <td>0</td>\n",
       "      <td>No</td>\n",
       "      <td>No</td>\n",
       "    </tr>\n",
       "    <tr>\n",
       "      <th>2</th>\n",
       "      <td>3668-QPYBK</td>\n",
       "      <td>Male</td>\n",
       "      <td>0</td>\n",
       "      <td>No</td>\n",
       "      <td>No</td>\n",
       "    </tr>\n",
       "    <tr>\n",
       "      <th>3</th>\n",
       "      <td>7795-CFOCW</td>\n",
       "      <td>Male</td>\n",
       "      <td>0</td>\n",
       "      <td>No</td>\n",
       "      <td>No</td>\n",
       "    </tr>\n",
       "    <tr>\n",
       "      <th>4</th>\n",
       "      <td>9237-HQITU</td>\n",
       "      <td>Female</td>\n",
       "      <td>0</td>\n",
       "      <td>No</td>\n",
       "      <td>No</td>\n",
       "    </tr>\n",
       "  </tbody>\n",
       "</table>\n",
       "</div>"
      ],
      "text/plain": [
       "   customerID  gender  SeniorCitizen Partner Dependents\n",
       "0  7590-VHVEG  Female              0     Yes         No\n",
       "1  5575-GNVDE    Male              0      No         No\n",
       "2  3668-QPYBK    Male              0      No         No\n",
       "3  7795-CFOCW    Male              0      No         No\n",
       "4  9237-HQITU  Female              0      No         No"
      ]
     },
     "execution_count": 171,
     "metadata": {},
     "output_type": "execute_result"
    }
   ],
   "source": [
    "display(df_personal.duplicated().sum())\n",
    "display(df_personal.info())\n",
    "display(df_personal.isna().sum())\n",
    "df_personal.head(5)"
   ]
  },
  {
   "cell_type": "markdown",
   "metadata": {},
   "source": [
    "**Информация об интернет-услугах**"
   ]
  },
  {
   "cell_type": "code",
   "execution_count": 172,
   "metadata": {},
   "outputs": [],
   "source": [
    "try:\n",
    "    df_internet = pd.read_csv('internet.csv') \n",
    "except:\n",
    "    df_internet = pd.read_csv('/datasets/final_provider/internet.csv') "
   ]
  },
  {
   "cell_type": "code",
   "execution_count": 173,
   "metadata": {},
   "outputs": [
    {
     "data": {
      "text/plain": [
       "0"
      ]
     },
     "metadata": {},
     "output_type": "display_data"
    },
    {
     "name": "stdout",
     "output_type": "stream",
     "text": [
      "<class 'pandas.core.frame.DataFrame'>\n",
      "RangeIndex: 5517 entries, 0 to 5516\n",
      "Data columns (total 8 columns):\n",
      " #   Column            Non-Null Count  Dtype \n",
      "---  ------            --------------  ----- \n",
      " 0   customerID        5517 non-null   object\n",
      " 1   InternetService   5517 non-null   object\n",
      " 2   OnlineSecurity    5517 non-null   object\n",
      " 3   OnlineBackup      5517 non-null   object\n",
      " 4   DeviceProtection  5517 non-null   object\n",
      " 5   TechSupport       5517 non-null   object\n",
      " 6   StreamingTV       5517 non-null   object\n",
      " 7   StreamingMovies   5517 non-null   object\n",
      "dtypes: object(8)\n",
      "memory usage: 344.9+ KB\n"
     ]
    },
    {
     "data": {
      "text/plain": [
       "None"
      ]
     },
     "metadata": {},
     "output_type": "display_data"
    },
    {
     "data": {
      "text/plain": [
       "customerID          0\n",
       "InternetService     0\n",
       "OnlineSecurity      0\n",
       "OnlineBackup        0\n",
       "DeviceProtection    0\n",
       "TechSupport         0\n",
       "StreamingTV         0\n",
       "StreamingMovies     0\n",
       "dtype: int64"
      ]
     },
     "metadata": {},
     "output_type": "display_data"
    },
    {
     "data": {
      "text/html": [
       "<div>\n",
       "<style scoped>\n",
       "    .dataframe tbody tr th:only-of-type {\n",
       "        vertical-align: middle;\n",
       "    }\n",
       "\n",
       "    .dataframe tbody tr th {\n",
       "        vertical-align: top;\n",
       "    }\n",
       "\n",
       "    .dataframe thead th {\n",
       "        text-align: right;\n",
       "    }\n",
       "</style>\n",
       "<table border=\"1\" class=\"dataframe\">\n",
       "  <thead>\n",
       "    <tr style=\"text-align: right;\">\n",
       "      <th></th>\n",
       "      <th>customerID</th>\n",
       "      <th>InternetService</th>\n",
       "      <th>OnlineSecurity</th>\n",
       "      <th>OnlineBackup</th>\n",
       "      <th>DeviceProtection</th>\n",
       "      <th>TechSupport</th>\n",
       "      <th>StreamingTV</th>\n",
       "      <th>StreamingMovies</th>\n",
       "    </tr>\n",
       "  </thead>\n",
       "  <tbody>\n",
       "    <tr>\n",
       "      <th>0</th>\n",
       "      <td>7590-VHVEG</td>\n",
       "      <td>DSL</td>\n",
       "      <td>No</td>\n",
       "      <td>Yes</td>\n",
       "      <td>No</td>\n",
       "      <td>No</td>\n",
       "      <td>No</td>\n",
       "      <td>No</td>\n",
       "    </tr>\n",
       "    <tr>\n",
       "      <th>1</th>\n",
       "      <td>5575-GNVDE</td>\n",
       "      <td>DSL</td>\n",
       "      <td>Yes</td>\n",
       "      <td>No</td>\n",
       "      <td>Yes</td>\n",
       "      <td>No</td>\n",
       "      <td>No</td>\n",
       "      <td>No</td>\n",
       "    </tr>\n",
       "    <tr>\n",
       "      <th>2</th>\n",
       "      <td>3668-QPYBK</td>\n",
       "      <td>DSL</td>\n",
       "      <td>Yes</td>\n",
       "      <td>Yes</td>\n",
       "      <td>No</td>\n",
       "      <td>No</td>\n",
       "      <td>No</td>\n",
       "      <td>No</td>\n",
       "    </tr>\n",
       "    <tr>\n",
       "      <th>3</th>\n",
       "      <td>7795-CFOCW</td>\n",
       "      <td>DSL</td>\n",
       "      <td>Yes</td>\n",
       "      <td>No</td>\n",
       "      <td>Yes</td>\n",
       "      <td>Yes</td>\n",
       "      <td>No</td>\n",
       "      <td>No</td>\n",
       "    </tr>\n",
       "    <tr>\n",
       "      <th>4</th>\n",
       "      <td>9237-HQITU</td>\n",
       "      <td>Fiber optic</td>\n",
       "      <td>No</td>\n",
       "      <td>No</td>\n",
       "      <td>No</td>\n",
       "      <td>No</td>\n",
       "      <td>No</td>\n",
       "      <td>No</td>\n",
       "    </tr>\n",
       "  </tbody>\n",
       "</table>\n",
       "</div>"
      ],
      "text/plain": [
       "   customerID InternetService OnlineSecurity OnlineBackup DeviceProtection  \\\n",
       "0  7590-VHVEG             DSL             No          Yes               No   \n",
       "1  5575-GNVDE             DSL            Yes           No              Yes   \n",
       "2  3668-QPYBK             DSL            Yes          Yes               No   \n",
       "3  7795-CFOCW             DSL            Yes           No              Yes   \n",
       "4  9237-HQITU     Fiber optic             No           No               No   \n",
       "\n",
       "  TechSupport StreamingTV StreamingMovies  \n",
       "0          No          No              No  \n",
       "1          No          No              No  \n",
       "2          No          No              No  \n",
       "3         Yes          No              No  \n",
       "4          No          No              No  "
      ]
     },
     "execution_count": 173,
     "metadata": {},
     "output_type": "execute_result"
    }
   ],
   "source": [
    "display(df_internet.duplicated().sum())\n",
    "display(df_internet.info())\n",
    "display(df_internet.isna().sum())\n",
    "df_internet.head(5)"
   ]
  },
  {
   "cell_type": "markdown",
   "metadata": {},
   "source": [
    "информация об интернет-услугах в норме"
   ]
  },
  {
   "cell_type": "markdown",
   "metadata": {},
   "source": [
    "**Информация об услугах телефонии**"
   ]
  },
  {
   "cell_type": "code",
   "execution_count": 174,
   "metadata": {},
   "outputs": [],
   "source": [
    "try:\n",
    "    df_phone = pd.read_csv('phone.csv') \n",
    "except:\n",
    "    df_phone = pd.read_csv('/datasets/final_provider/phone.csv') "
   ]
  },
  {
   "cell_type": "code",
   "execution_count": 175,
   "metadata": {},
   "outputs": [
    {
     "data": {
      "text/plain": [
       "0"
      ]
     },
     "metadata": {},
     "output_type": "display_data"
    },
    {
     "name": "stdout",
     "output_type": "stream",
     "text": [
      "<class 'pandas.core.frame.DataFrame'>\n",
      "RangeIndex: 6361 entries, 0 to 6360\n",
      "Data columns (total 2 columns):\n",
      " #   Column         Non-Null Count  Dtype \n",
      "---  ------         --------------  ----- \n",
      " 0   customerID     6361 non-null   object\n",
      " 1   MultipleLines  6361 non-null   object\n",
      "dtypes: object(2)\n",
      "memory usage: 99.5+ KB\n"
     ]
    },
    {
     "data": {
      "text/plain": [
       "None"
      ]
     },
     "metadata": {},
     "output_type": "display_data"
    },
    {
     "data": {
      "text/plain": [
       "customerID       0\n",
       "MultipleLines    0\n",
       "dtype: int64"
      ]
     },
     "metadata": {},
     "output_type": "display_data"
    },
    {
     "data": {
      "text/html": [
       "<div>\n",
       "<style scoped>\n",
       "    .dataframe tbody tr th:only-of-type {\n",
       "        vertical-align: middle;\n",
       "    }\n",
       "\n",
       "    .dataframe tbody tr th {\n",
       "        vertical-align: top;\n",
       "    }\n",
       "\n",
       "    .dataframe thead th {\n",
       "        text-align: right;\n",
       "    }\n",
       "</style>\n",
       "<table border=\"1\" class=\"dataframe\">\n",
       "  <thead>\n",
       "    <tr style=\"text-align: right;\">\n",
       "      <th></th>\n",
       "      <th>customerID</th>\n",
       "      <th>MultipleLines</th>\n",
       "    </tr>\n",
       "  </thead>\n",
       "  <tbody>\n",
       "    <tr>\n",
       "      <th>0</th>\n",
       "      <td>5575-GNVDE</td>\n",
       "      <td>No</td>\n",
       "    </tr>\n",
       "    <tr>\n",
       "      <th>1</th>\n",
       "      <td>3668-QPYBK</td>\n",
       "      <td>No</td>\n",
       "    </tr>\n",
       "    <tr>\n",
       "      <th>2</th>\n",
       "      <td>9237-HQITU</td>\n",
       "      <td>No</td>\n",
       "    </tr>\n",
       "    <tr>\n",
       "      <th>3</th>\n",
       "      <td>9305-CDSKC</td>\n",
       "      <td>Yes</td>\n",
       "    </tr>\n",
       "    <tr>\n",
       "      <th>4</th>\n",
       "      <td>1452-KIOVK</td>\n",
       "      <td>Yes</td>\n",
       "    </tr>\n",
       "  </tbody>\n",
       "</table>\n",
       "</div>"
      ],
      "text/plain": [
       "   customerID MultipleLines\n",
       "0  5575-GNVDE            No\n",
       "1  3668-QPYBK            No\n",
       "2  9237-HQITU            No\n",
       "3  9305-CDSKC           Yes\n",
       "4  1452-KIOVK           Yes"
      ]
     },
     "execution_count": 175,
     "metadata": {},
     "output_type": "execute_result"
    }
   ],
   "source": [
    "display(df_phone.duplicated().sum())\n",
    "display(df_phone.info())\n",
    "display(df_phone.isna().sum())\n",
    "df_phone.head(5)"
   ]
  },
  {
   "cell_type": "markdown",
   "metadata": {},
   "source": [
    "*объединим все таблицы в одну*"
   ]
  },
  {
   "cell_type": "code",
   "execution_count": 176,
   "metadata": {},
   "outputs": [],
   "source": [
    "df = df_contract.merge(df_personal, on='customerID', how='left')\n",
    "df = df.merge(df_internet, on='customerID', how='left')\n",
    "df = df.merge(df_phone, on='customerID', how='left')"
   ]
  },
  {
   "cell_type": "code",
   "execution_count": 177,
   "metadata": {},
   "outputs": [
    {
     "data": {
      "text/html": [
       "<div>\n",
       "<style scoped>\n",
       "    .dataframe tbody tr th:only-of-type {\n",
       "        vertical-align: middle;\n",
       "    }\n",
       "\n",
       "    .dataframe tbody tr th {\n",
       "        vertical-align: top;\n",
       "    }\n",
       "\n",
       "    .dataframe thead th {\n",
       "        text-align: right;\n",
       "    }\n",
       "</style>\n",
       "<table border=\"1\" class=\"dataframe\">\n",
       "  <thead>\n",
       "    <tr style=\"text-align: right;\">\n",
       "      <th></th>\n",
       "      <th>customerID</th>\n",
       "      <th>BeginDate</th>\n",
       "      <th>EndDate</th>\n",
       "      <th>Type</th>\n",
       "      <th>PaperlessBilling</th>\n",
       "      <th>PaymentMethod</th>\n",
       "      <th>MonthlyCharges</th>\n",
       "      <th>TotalCharges</th>\n",
       "      <th>target</th>\n",
       "      <th>day</th>\n",
       "      <th>...</th>\n",
       "      <th>Partner</th>\n",
       "      <th>Dependents</th>\n",
       "      <th>InternetService</th>\n",
       "      <th>OnlineSecurity</th>\n",
       "      <th>OnlineBackup</th>\n",
       "      <th>DeviceProtection</th>\n",
       "      <th>TechSupport</th>\n",
       "      <th>StreamingTV</th>\n",
       "      <th>StreamingMovies</th>\n",
       "      <th>MultipleLines</th>\n",
       "    </tr>\n",
       "  </thead>\n",
       "  <tbody>\n",
       "    <tr>\n",
       "      <th>0</th>\n",
       "      <td>7590-VHVEG</td>\n",
       "      <td>2020-01-01</td>\n",
       "      <td>2020-02-01</td>\n",
       "      <td>Month-to-month</td>\n",
       "      <td>Yes</td>\n",
       "      <td>Electronic check</td>\n",
       "      <td>29.85</td>\n",
       "      <td>29.85</td>\n",
       "      <td>0</td>\n",
       "      <td>31</td>\n",
       "      <td>...</td>\n",
       "      <td>Yes</td>\n",
       "      <td>No</td>\n",
       "      <td>DSL</td>\n",
       "      <td>No</td>\n",
       "      <td>Yes</td>\n",
       "      <td>No</td>\n",
       "      <td>No</td>\n",
       "      <td>No</td>\n",
       "      <td>No</td>\n",
       "      <td>NaN</td>\n",
       "    </tr>\n",
       "    <tr>\n",
       "      <th>1</th>\n",
       "      <td>5575-GNVDE</td>\n",
       "      <td>2017-04-01</td>\n",
       "      <td>2020-02-01</td>\n",
       "      <td>One year</td>\n",
       "      <td>No</td>\n",
       "      <td>Mailed check</td>\n",
       "      <td>56.95</td>\n",
       "      <td>1889.50</td>\n",
       "      <td>0</td>\n",
       "      <td>1036</td>\n",
       "      <td>...</td>\n",
       "      <td>No</td>\n",
       "      <td>No</td>\n",
       "      <td>DSL</td>\n",
       "      <td>Yes</td>\n",
       "      <td>No</td>\n",
       "      <td>Yes</td>\n",
       "      <td>No</td>\n",
       "      <td>No</td>\n",
       "      <td>No</td>\n",
       "      <td>No</td>\n",
       "    </tr>\n",
       "    <tr>\n",
       "      <th>2</th>\n",
       "      <td>3668-QPYBK</td>\n",
       "      <td>2019-10-01</td>\n",
       "      <td>2019-12-01</td>\n",
       "      <td>Month-to-month</td>\n",
       "      <td>Yes</td>\n",
       "      <td>Mailed check</td>\n",
       "      <td>53.85</td>\n",
       "      <td>108.15</td>\n",
       "      <td>1</td>\n",
       "      <td>61</td>\n",
       "      <td>...</td>\n",
       "      <td>No</td>\n",
       "      <td>No</td>\n",
       "      <td>DSL</td>\n",
       "      <td>Yes</td>\n",
       "      <td>Yes</td>\n",
       "      <td>No</td>\n",
       "      <td>No</td>\n",
       "      <td>No</td>\n",
       "      <td>No</td>\n",
       "      <td>No</td>\n",
       "    </tr>\n",
       "    <tr>\n",
       "      <th>3</th>\n",
       "      <td>7795-CFOCW</td>\n",
       "      <td>2016-05-01</td>\n",
       "      <td>2020-02-01</td>\n",
       "      <td>One year</td>\n",
       "      <td>No</td>\n",
       "      <td>Bank transfer (automatic)</td>\n",
       "      <td>42.30</td>\n",
       "      <td>1840.75</td>\n",
       "      <td>0</td>\n",
       "      <td>1371</td>\n",
       "      <td>...</td>\n",
       "      <td>No</td>\n",
       "      <td>No</td>\n",
       "      <td>DSL</td>\n",
       "      <td>Yes</td>\n",
       "      <td>No</td>\n",
       "      <td>Yes</td>\n",
       "      <td>Yes</td>\n",
       "      <td>No</td>\n",
       "      <td>No</td>\n",
       "      <td>NaN</td>\n",
       "    </tr>\n",
       "    <tr>\n",
       "      <th>4</th>\n",
       "      <td>9237-HQITU</td>\n",
       "      <td>2019-09-01</td>\n",
       "      <td>2019-11-01</td>\n",
       "      <td>Month-to-month</td>\n",
       "      <td>Yes</td>\n",
       "      <td>Electronic check</td>\n",
       "      <td>70.70</td>\n",
       "      <td>151.65</td>\n",
       "      <td>1</td>\n",
       "      <td>61</td>\n",
       "      <td>...</td>\n",
       "      <td>No</td>\n",
       "      <td>No</td>\n",
       "      <td>Fiber optic</td>\n",
       "      <td>No</td>\n",
       "      <td>No</td>\n",
       "      <td>No</td>\n",
       "      <td>No</td>\n",
       "      <td>No</td>\n",
       "      <td>No</td>\n",
       "      <td>No</td>\n",
       "    </tr>\n",
       "  </tbody>\n",
       "</table>\n",
       "<p>5 rows × 22 columns</p>\n",
       "</div>"
      ],
      "text/plain": [
       "   customerID  BeginDate    EndDate            Type PaperlessBilling  \\\n",
       "0  7590-VHVEG 2020-01-01 2020-02-01  Month-to-month              Yes   \n",
       "1  5575-GNVDE 2017-04-01 2020-02-01        One year               No   \n",
       "2  3668-QPYBK 2019-10-01 2019-12-01  Month-to-month              Yes   \n",
       "3  7795-CFOCW 2016-05-01 2020-02-01        One year               No   \n",
       "4  9237-HQITU 2019-09-01 2019-11-01  Month-to-month              Yes   \n",
       "\n",
       "               PaymentMethod  MonthlyCharges  TotalCharges  target   day  ...  \\\n",
       "0           Electronic check           29.85         29.85       0    31  ...   \n",
       "1               Mailed check           56.95       1889.50       0  1036  ...   \n",
       "2               Mailed check           53.85        108.15       1    61  ...   \n",
       "3  Bank transfer (automatic)           42.30       1840.75       0  1371  ...   \n",
       "4           Electronic check           70.70        151.65       1    61  ...   \n",
       "\n",
       "  Partner  Dependents InternetService OnlineSecurity OnlineBackup  \\\n",
       "0     Yes          No             DSL             No          Yes   \n",
       "1      No          No             DSL            Yes           No   \n",
       "2      No          No             DSL            Yes          Yes   \n",
       "3      No          No             DSL            Yes           No   \n",
       "4      No          No     Fiber optic             No           No   \n",
       "\n",
       "  DeviceProtection TechSupport StreamingTV StreamingMovies MultipleLines  \n",
       "0               No          No          No              No           NaN  \n",
       "1              Yes          No          No              No            No  \n",
       "2               No          No          No              No            No  \n",
       "3              Yes         Yes          No              No           NaN  \n",
       "4               No          No          No              No            No  \n",
       "\n",
       "[5 rows x 22 columns]"
      ]
     },
     "metadata": {},
     "output_type": "display_data"
    },
    {
     "data": {
      "text/plain": [
       "(7043, 22)"
      ]
     },
     "execution_count": 177,
     "metadata": {},
     "output_type": "execute_result"
    }
   ],
   "source": [
    "display(df.head(5))\n",
    "df.shape"
   ]
  },
  {
   "cell_type": "markdown",
   "metadata": {},
   "source": [
    "*После объдинения таблиц, так как некоторые клиенты пользовались не всеми услугами, образовались пропущенные значения. так как клиент не пользовался услцгой, заменю все значения на ноль*"
   ]
  },
  {
   "cell_type": "code",
   "execution_count": 178,
   "metadata": {},
   "outputs": [
    {
     "data": {
      "text/plain": [
       "customerID             0\n",
       "BeginDate              0\n",
       "EndDate                0\n",
       "Type                   0\n",
       "PaperlessBilling       0\n",
       "PaymentMethod          0\n",
       "MonthlyCharges         0\n",
       "TotalCharges           0\n",
       "target                 0\n",
       "day                    0\n",
       "gender                 0\n",
       "SeniorCitizen          0\n",
       "Partner                0\n",
       "Dependents             0\n",
       "InternetService     1526\n",
       "OnlineSecurity      1526\n",
       "OnlineBackup        1526\n",
       "DeviceProtection    1526\n",
       "TechSupport         1526\n",
       "StreamingTV         1526\n",
       "StreamingMovies     1526\n",
       "MultipleLines        682\n",
       "dtype: int64"
      ]
     },
     "metadata": {},
     "output_type": "display_data"
    },
    {
     "data": {
      "text/plain": [
       "customerID          0\n",
       "BeginDate           0\n",
       "EndDate             0\n",
       "Type                0\n",
       "PaperlessBilling    0\n",
       "PaymentMethod       0\n",
       "MonthlyCharges      0\n",
       "TotalCharges        0\n",
       "target              0\n",
       "day                 0\n",
       "gender              0\n",
       "SeniorCitizen       0\n",
       "Partner             0\n",
       "Dependents          0\n",
       "InternetService     0\n",
       "OnlineSecurity      0\n",
       "OnlineBackup        0\n",
       "DeviceProtection    0\n",
       "TechSupport         0\n",
       "StreamingTV         0\n",
       "StreamingMovies     0\n",
       "MultipleLines       0\n",
       "dtype: int64"
      ]
     },
     "execution_count": 178,
     "metadata": {},
     "output_type": "execute_result"
    }
   ],
   "source": [
    "display(df.isna().sum())\n",
    "df = df.fillna('No')\n",
    "df.isna().sum()\n"
   ]
  },
  {
   "cell_type": "markdown",
   "metadata": {},
   "source": [
    "*Удалю столбцы с датами, так как уже подсчитал время \"жизни\" клиента и id клиента.*"
   ]
  },
  {
   "cell_type": "code",
   "execution_count": 179,
   "metadata": {},
   "outputs": [],
   "source": [
    "df = df.drop(['customerID', 'BeginDate', 'EndDate'], axis=1)"
   ]
  },
  {
   "cell_type": "code",
   "execution_count": 180,
   "metadata": {},
   "outputs": [
    {
     "data": {
      "text/html": [
       "<div>\n",
       "<style scoped>\n",
       "    .dataframe tbody tr th:only-of-type {\n",
       "        vertical-align: middle;\n",
       "    }\n",
       "\n",
       "    .dataframe tbody tr th {\n",
       "        vertical-align: top;\n",
       "    }\n",
       "\n",
       "    .dataframe thead th {\n",
       "        text-align: right;\n",
       "    }\n",
       "</style>\n",
       "<table border=\"1\" class=\"dataframe\">\n",
       "  <thead>\n",
       "    <tr style=\"text-align: right;\">\n",
       "      <th></th>\n",
       "      <th>Type</th>\n",
       "      <th>PaperlessBilling</th>\n",
       "      <th>PaymentMethod</th>\n",
       "      <th>MonthlyCharges</th>\n",
       "      <th>TotalCharges</th>\n",
       "      <th>target</th>\n",
       "      <th>day</th>\n",
       "      <th>gender</th>\n",
       "      <th>SeniorCitizen</th>\n",
       "      <th>Partner</th>\n",
       "      <th>Dependents</th>\n",
       "      <th>InternetService</th>\n",
       "      <th>OnlineSecurity</th>\n",
       "      <th>OnlineBackup</th>\n",
       "      <th>DeviceProtection</th>\n",
       "      <th>TechSupport</th>\n",
       "      <th>StreamingTV</th>\n",
       "      <th>StreamingMovies</th>\n",
       "      <th>MultipleLines</th>\n",
       "    </tr>\n",
       "  </thead>\n",
       "  <tbody>\n",
       "    <tr>\n",
       "      <th>0</th>\n",
       "      <td>Month-to-month</td>\n",
       "      <td>Yes</td>\n",
       "      <td>Electronic check</td>\n",
       "      <td>29.85</td>\n",
       "      <td>29.85</td>\n",
       "      <td>0</td>\n",
       "      <td>31</td>\n",
       "      <td>Female</td>\n",
       "      <td>0</td>\n",
       "      <td>Yes</td>\n",
       "      <td>No</td>\n",
       "      <td>DSL</td>\n",
       "      <td>No</td>\n",
       "      <td>Yes</td>\n",
       "      <td>No</td>\n",
       "      <td>No</td>\n",
       "      <td>No</td>\n",
       "      <td>No</td>\n",
       "      <td>No</td>\n",
       "    </tr>\n",
       "    <tr>\n",
       "      <th>1</th>\n",
       "      <td>One year</td>\n",
       "      <td>No</td>\n",
       "      <td>Mailed check</td>\n",
       "      <td>56.95</td>\n",
       "      <td>1889.50</td>\n",
       "      <td>0</td>\n",
       "      <td>1036</td>\n",
       "      <td>Male</td>\n",
       "      <td>0</td>\n",
       "      <td>No</td>\n",
       "      <td>No</td>\n",
       "      <td>DSL</td>\n",
       "      <td>Yes</td>\n",
       "      <td>No</td>\n",
       "      <td>Yes</td>\n",
       "      <td>No</td>\n",
       "      <td>No</td>\n",
       "      <td>No</td>\n",
       "      <td>No</td>\n",
       "    </tr>\n",
       "    <tr>\n",
       "      <th>2</th>\n",
       "      <td>Month-to-month</td>\n",
       "      <td>Yes</td>\n",
       "      <td>Mailed check</td>\n",
       "      <td>53.85</td>\n",
       "      <td>108.15</td>\n",
       "      <td>1</td>\n",
       "      <td>61</td>\n",
       "      <td>Male</td>\n",
       "      <td>0</td>\n",
       "      <td>No</td>\n",
       "      <td>No</td>\n",
       "      <td>DSL</td>\n",
       "      <td>Yes</td>\n",
       "      <td>Yes</td>\n",
       "      <td>No</td>\n",
       "      <td>No</td>\n",
       "      <td>No</td>\n",
       "      <td>No</td>\n",
       "      <td>No</td>\n",
       "    </tr>\n",
       "    <tr>\n",
       "      <th>3</th>\n",
       "      <td>One year</td>\n",
       "      <td>No</td>\n",
       "      <td>Bank transfer (automatic)</td>\n",
       "      <td>42.30</td>\n",
       "      <td>1840.75</td>\n",
       "      <td>0</td>\n",
       "      <td>1371</td>\n",
       "      <td>Male</td>\n",
       "      <td>0</td>\n",
       "      <td>No</td>\n",
       "      <td>No</td>\n",
       "      <td>DSL</td>\n",
       "      <td>Yes</td>\n",
       "      <td>No</td>\n",
       "      <td>Yes</td>\n",
       "      <td>Yes</td>\n",
       "      <td>No</td>\n",
       "      <td>No</td>\n",
       "      <td>No</td>\n",
       "    </tr>\n",
       "    <tr>\n",
       "      <th>4</th>\n",
       "      <td>Month-to-month</td>\n",
       "      <td>Yes</td>\n",
       "      <td>Electronic check</td>\n",
       "      <td>70.70</td>\n",
       "      <td>151.65</td>\n",
       "      <td>1</td>\n",
       "      <td>61</td>\n",
       "      <td>Female</td>\n",
       "      <td>0</td>\n",
       "      <td>No</td>\n",
       "      <td>No</td>\n",
       "      <td>Fiber optic</td>\n",
       "      <td>No</td>\n",
       "      <td>No</td>\n",
       "      <td>No</td>\n",
       "      <td>No</td>\n",
       "      <td>No</td>\n",
       "      <td>No</td>\n",
       "      <td>No</td>\n",
       "    </tr>\n",
       "  </tbody>\n",
       "</table>\n",
       "</div>"
      ],
      "text/plain": [
       "             Type PaperlessBilling              PaymentMethod  MonthlyCharges  \\\n",
       "0  Month-to-month              Yes           Electronic check           29.85   \n",
       "1        One year               No               Mailed check           56.95   \n",
       "2  Month-to-month              Yes               Mailed check           53.85   \n",
       "3        One year               No  Bank transfer (automatic)           42.30   \n",
       "4  Month-to-month              Yes           Electronic check           70.70   \n",
       "\n",
       "   TotalCharges  target   day  gender  SeniorCitizen Partner Dependents  \\\n",
       "0         29.85       0    31  Female              0     Yes         No   \n",
       "1       1889.50       0  1036    Male              0      No         No   \n",
       "2        108.15       1    61    Male              0      No         No   \n",
       "3       1840.75       0  1371    Male              0      No         No   \n",
       "4        151.65       1    61  Female              0      No         No   \n",
       "\n",
       "  InternetService OnlineSecurity OnlineBackup DeviceProtection TechSupport  \\\n",
       "0             DSL             No          Yes               No          No   \n",
       "1             DSL            Yes           No              Yes          No   \n",
       "2             DSL            Yes          Yes               No          No   \n",
       "3             DSL            Yes           No              Yes         Yes   \n",
       "4     Fiber optic             No           No               No          No   \n",
       "\n",
       "  StreamingTV StreamingMovies MultipleLines  \n",
       "0          No              No            No  \n",
       "1          No              No            No  \n",
       "2          No              No            No  \n",
       "3          No              No            No  \n",
       "4          No              No            No  "
      ]
     },
     "execution_count": 180,
     "metadata": {},
     "output_type": "execute_result"
    }
   ],
   "source": [
    "df.head(5)"
   ]
  },
  {
   "cell_type": "code",
   "execution_count": 181,
   "metadata": {},
   "outputs": [
    {
     "name": "stdout",
     "output_type": "stream",
     "text": [
      "<class 'pandas.core.frame.DataFrame'>\n",
      "Int64Index: 7043 entries, 0 to 7042\n",
      "Data columns (total 19 columns):\n",
      " #   Column            Non-Null Count  Dtype  \n",
      "---  ------            --------------  -----  \n",
      " 0   Type              7043 non-null   object \n",
      " 1   PaperlessBilling  7043 non-null   object \n",
      " 2   PaymentMethod     7043 non-null   object \n",
      " 3   MonthlyCharges    7043 non-null   float64\n",
      " 4   TotalCharges      7043 non-null   float64\n",
      " 5   target            7043 non-null   int64  \n",
      " 6   day               7043 non-null   int64  \n",
      " 7   gender            7043 non-null   object \n",
      " 8   SeniorCitizen     7043 non-null   int64  \n",
      " 9   Partner           7043 non-null   object \n",
      " 10  Dependents        7043 non-null   object \n",
      " 11  InternetService   7043 non-null   object \n",
      " 12  OnlineSecurity    7043 non-null   object \n",
      " 13  OnlineBackup      7043 non-null   object \n",
      " 14  DeviceProtection  7043 non-null   object \n",
      " 15  TechSupport       7043 non-null   object \n",
      " 16  StreamingTV       7043 non-null   object \n",
      " 17  StreamingMovies   7043 non-null   object \n",
      " 18  MultipleLines     7043 non-null   object \n",
      "dtypes: float64(2), int64(3), object(14)\n",
      "memory usage: 1.1+ MB\n"
     ]
    }
   ],
   "source": [
    "df.info()"
   ]
  },
  {
   "cell_type": "markdown",
   "metadata": {},
   "source": [
    "*Преобразуем категориальные признаки в численные методом One-hot-encoding для определенных моделей*"
   ]
  },
  {
   "cell_type": "code",
   "execution_count": 182,
   "metadata": {},
   "outputs": [],
   "source": [
    "df_ohe = pd.get_dummies(df, drop_first=True)"
   ]
  },
  {
   "cell_type": "code",
   "execution_count": 183,
   "metadata": {},
   "outputs": [
    {
     "data": {
      "text/html": [
       "<div>\n",
       "<style scoped>\n",
       "    .dataframe tbody tr th:only-of-type {\n",
       "        vertical-align: middle;\n",
       "    }\n",
       "\n",
       "    .dataframe tbody tr th {\n",
       "        vertical-align: top;\n",
       "    }\n",
       "\n",
       "    .dataframe thead th {\n",
       "        text-align: right;\n",
       "    }\n",
       "</style>\n",
       "<table border=\"1\" class=\"dataframe\">\n",
       "  <thead>\n",
       "    <tr style=\"text-align: right;\">\n",
       "      <th></th>\n",
       "      <th>MonthlyCharges</th>\n",
       "      <th>TotalCharges</th>\n",
       "      <th>target</th>\n",
       "      <th>day</th>\n",
       "      <th>SeniorCitizen</th>\n",
       "      <th>Type_One year</th>\n",
       "      <th>Type_Two year</th>\n",
       "      <th>PaperlessBilling_Yes</th>\n",
       "      <th>PaymentMethod_Credit card (automatic)</th>\n",
       "      <th>PaymentMethod_Electronic check</th>\n",
       "      <th>...</th>\n",
       "      <th>Dependents_Yes</th>\n",
       "      <th>InternetService_Fiber optic</th>\n",
       "      <th>InternetService_No</th>\n",
       "      <th>OnlineSecurity_Yes</th>\n",
       "      <th>OnlineBackup_Yes</th>\n",
       "      <th>DeviceProtection_Yes</th>\n",
       "      <th>TechSupport_Yes</th>\n",
       "      <th>StreamingTV_Yes</th>\n",
       "      <th>StreamingMovies_Yes</th>\n",
       "      <th>MultipleLines_Yes</th>\n",
       "    </tr>\n",
       "  </thead>\n",
       "  <tbody>\n",
       "    <tr>\n",
       "      <th>0</th>\n",
       "      <td>29.85</td>\n",
       "      <td>29.85</td>\n",
       "      <td>0</td>\n",
       "      <td>31</td>\n",
       "      <td>0</td>\n",
       "      <td>0</td>\n",
       "      <td>0</td>\n",
       "      <td>1</td>\n",
       "      <td>0</td>\n",
       "      <td>1</td>\n",
       "      <td>...</td>\n",
       "      <td>0</td>\n",
       "      <td>0</td>\n",
       "      <td>0</td>\n",
       "      <td>0</td>\n",
       "      <td>1</td>\n",
       "      <td>0</td>\n",
       "      <td>0</td>\n",
       "      <td>0</td>\n",
       "      <td>0</td>\n",
       "      <td>0</td>\n",
       "    </tr>\n",
       "    <tr>\n",
       "      <th>1</th>\n",
       "      <td>56.95</td>\n",
       "      <td>1889.50</td>\n",
       "      <td>0</td>\n",
       "      <td>1036</td>\n",
       "      <td>0</td>\n",
       "      <td>1</td>\n",
       "      <td>0</td>\n",
       "      <td>0</td>\n",
       "      <td>0</td>\n",
       "      <td>0</td>\n",
       "      <td>...</td>\n",
       "      <td>0</td>\n",
       "      <td>0</td>\n",
       "      <td>0</td>\n",
       "      <td>1</td>\n",
       "      <td>0</td>\n",
       "      <td>1</td>\n",
       "      <td>0</td>\n",
       "      <td>0</td>\n",
       "      <td>0</td>\n",
       "      <td>0</td>\n",
       "    </tr>\n",
       "    <tr>\n",
       "      <th>2</th>\n",
       "      <td>53.85</td>\n",
       "      <td>108.15</td>\n",
       "      <td>1</td>\n",
       "      <td>61</td>\n",
       "      <td>0</td>\n",
       "      <td>0</td>\n",
       "      <td>0</td>\n",
       "      <td>1</td>\n",
       "      <td>0</td>\n",
       "      <td>0</td>\n",
       "      <td>...</td>\n",
       "      <td>0</td>\n",
       "      <td>0</td>\n",
       "      <td>0</td>\n",
       "      <td>1</td>\n",
       "      <td>1</td>\n",
       "      <td>0</td>\n",
       "      <td>0</td>\n",
       "      <td>0</td>\n",
       "      <td>0</td>\n",
       "      <td>0</td>\n",
       "    </tr>\n",
       "    <tr>\n",
       "      <th>3</th>\n",
       "      <td>42.30</td>\n",
       "      <td>1840.75</td>\n",
       "      <td>0</td>\n",
       "      <td>1371</td>\n",
       "      <td>0</td>\n",
       "      <td>1</td>\n",
       "      <td>0</td>\n",
       "      <td>0</td>\n",
       "      <td>0</td>\n",
       "      <td>0</td>\n",
       "      <td>...</td>\n",
       "      <td>0</td>\n",
       "      <td>0</td>\n",
       "      <td>0</td>\n",
       "      <td>1</td>\n",
       "      <td>0</td>\n",
       "      <td>1</td>\n",
       "      <td>1</td>\n",
       "      <td>0</td>\n",
       "      <td>0</td>\n",
       "      <td>0</td>\n",
       "    </tr>\n",
       "    <tr>\n",
       "      <th>4</th>\n",
       "      <td>70.70</td>\n",
       "      <td>151.65</td>\n",
       "      <td>1</td>\n",
       "      <td>61</td>\n",
       "      <td>0</td>\n",
       "      <td>0</td>\n",
       "      <td>0</td>\n",
       "      <td>1</td>\n",
       "      <td>0</td>\n",
       "      <td>1</td>\n",
       "      <td>...</td>\n",
       "      <td>0</td>\n",
       "      <td>1</td>\n",
       "      <td>0</td>\n",
       "      <td>0</td>\n",
       "      <td>0</td>\n",
       "      <td>0</td>\n",
       "      <td>0</td>\n",
       "      <td>0</td>\n",
       "      <td>0</td>\n",
       "      <td>0</td>\n",
       "    </tr>\n",
       "  </tbody>\n",
       "</table>\n",
       "<p>5 rows × 23 columns</p>\n",
       "</div>"
      ],
      "text/plain": [
       "   MonthlyCharges  TotalCharges  target   day  SeniorCitizen  Type_One year  \\\n",
       "0           29.85         29.85       0    31              0              0   \n",
       "1           56.95       1889.50       0  1036              0              1   \n",
       "2           53.85        108.15       1    61              0              0   \n",
       "3           42.30       1840.75       0  1371              0              1   \n",
       "4           70.70        151.65       1    61              0              0   \n",
       "\n",
       "   Type_Two year  PaperlessBilling_Yes  PaymentMethod_Credit card (automatic)  \\\n",
       "0              0                     1                                      0   \n",
       "1              0                     0                                      0   \n",
       "2              0                     1                                      0   \n",
       "3              0                     0                                      0   \n",
       "4              0                     1                                      0   \n",
       "\n",
       "   PaymentMethod_Electronic check  ...  Dependents_Yes  \\\n",
       "0                               1  ...               0   \n",
       "1                               0  ...               0   \n",
       "2                               0  ...               0   \n",
       "3                               0  ...               0   \n",
       "4                               1  ...               0   \n",
       "\n",
       "   InternetService_Fiber optic  InternetService_No  OnlineSecurity_Yes  \\\n",
       "0                            0                   0                   0   \n",
       "1                            0                   0                   1   \n",
       "2                            0                   0                   1   \n",
       "3                            0                   0                   1   \n",
       "4                            1                   0                   0   \n",
       "\n",
       "   OnlineBackup_Yes  DeviceProtection_Yes  TechSupport_Yes  StreamingTV_Yes  \\\n",
       "0                 1                     0                0                0   \n",
       "1                 0                     1                0                0   \n",
       "2                 1                     0                0                0   \n",
       "3                 0                     1                1                0   \n",
       "4                 0                     0                0                0   \n",
       "\n",
       "   StreamingMovies_Yes  MultipleLines_Yes  \n",
       "0                    0                  0  \n",
       "1                    0                  0  \n",
       "2                    0                  0  \n",
       "3                    0                  0  \n",
       "4                    0                  0  \n",
       "\n",
       "[5 rows x 23 columns]"
      ]
     },
     "execution_count": 183,
     "metadata": {},
     "output_type": "execute_result"
    }
   ],
   "source": [
    "df_ohe.head(5)"
   ]
  },
  {
   "cell_type": "code",
   "execution_count": 184,
   "metadata": {},
   "outputs": [
    {
     "name": "stdout",
     "output_type": "stream",
     "text": [
      "<class 'pandas.core.frame.DataFrame'>\n",
      "Int64Index: 7043 entries, 0 to 7042\n",
      "Data columns (total 23 columns):\n",
      " #   Column                                 Non-Null Count  Dtype  \n",
      "---  ------                                 --------------  -----  \n",
      " 0   MonthlyCharges                         7043 non-null   float64\n",
      " 1   TotalCharges                           7043 non-null   float64\n",
      " 2   target                                 7043 non-null   int64  \n",
      " 3   day                                    7043 non-null   int64  \n",
      " 4   SeniorCitizen                          7043 non-null   int64  \n",
      " 5   Type_One year                          7043 non-null   uint8  \n",
      " 6   Type_Two year                          7043 non-null   uint8  \n",
      " 7   PaperlessBilling_Yes                   7043 non-null   uint8  \n",
      " 8   PaymentMethod_Credit card (automatic)  7043 non-null   uint8  \n",
      " 9   PaymentMethod_Electronic check         7043 non-null   uint8  \n",
      " 10  PaymentMethod_Mailed check             7043 non-null   uint8  \n",
      " 11  gender_Male                            7043 non-null   uint8  \n",
      " 12  Partner_Yes                            7043 non-null   uint8  \n",
      " 13  Dependents_Yes                         7043 non-null   uint8  \n",
      " 14  InternetService_Fiber optic            7043 non-null   uint8  \n",
      " 15  InternetService_No                     7043 non-null   uint8  \n",
      " 16  OnlineSecurity_Yes                     7043 non-null   uint8  \n",
      " 17  OnlineBackup_Yes                       7043 non-null   uint8  \n",
      " 18  DeviceProtection_Yes                   7043 non-null   uint8  \n",
      " 19  TechSupport_Yes                        7043 non-null   uint8  \n",
      " 20  StreamingTV_Yes                        7043 non-null   uint8  \n",
      " 21  StreamingMovies_Yes                    7043 non-null   uint8  \n",
      " 22  MultipleLines_Yes                      7043 non-null   uint8  \n",
      "dtypes: float64(2), int64(3), uint8(18)\n",
      "memory usage: 453.9 KB\n"
     ]
    }
   ],
   "source": [
    "df_ohe.info()"
   ]
  },
  {
   "cell_type": "markdown",
   "metadata": {},
   "source": [
    "**Вывод**\n",
    "\n",
    "Загрузил даные по всем таблицам.\n",
    "\n",
    "Провел предобработку данных. Добавил столбец target.\n",
    "\n",
    "Посчитал время \"жизни\" клиента в месяцах. Изменил числовые типы данных на float. \n",
    "\n",
    "Данные в столбцах  Yes и  No заменил на 1 и 0 соответсвенно.\n",
    "\n",
    "После соединения таблиц, заполнил пропуски 0.\n",
    "\n",
    "Провел прямое кодирование признаков с  использованием дамми ловушек"
   ]
  },
  {
   "cell_type": "markdown",
   "metadata": {},
   "source": [
    "*Выделим  target*"
   ]
  },
  {
   "cell_type": "code",
   "execution_count": 185,
   "metadata": {},
   "outputs": [],
   "source": [
    "target = df_ohe['target']\n",
    "features = df_ohe.drop(['target'], axis=1)"
   ]
  },
  {
   "cell_type": "code",
   "execution_count": 187,
   "metadata": {},
   "outputs": [],
   "source": [
    "# отделил обучающаую выборку, взял 80%\n",
    "features_train, features_test, target_train, target_test = train_test_split(features, target, test_size=0.2, random_state=250722)\n"
   ]
  },
  {
   "cell_type": "code",
   "execution_count": 188,
   "metadata": {
    "scrolled": true
   },
   "outputs": [
    {
     "data": {
      "text/plain": [
       "((5634, 22), (1409, 22))"
      ]
     },
     "execution_count": 188,
     "metadata": {},
     "output_type": "execute_result"
    }
   ],
   "source": [
    "features_train.shape, features_test.shape"
   ]
  },
  {
   "cell_type": "markdown",
   "metadata": {},
   "source": [
    "*Отмасштабирую количественные признаки*"
   ]
  },
  {
   "cell_type": "code",
   "execution_count": 189,
   "metadata": {},
   "outputs": [],
   "source": [
    "numeric = ['MonthlyCharges', 'TotalCharges', 'day']\n",
    "scaler = StandardScaler()\n",
    "scaler.fit(features_train[numeric])\n",
    "features_train[numeric] = scaler.transform(features_train[numeric])\n",
    "features_test[numeric] = scaler.transform(features_test[numeric])"
   ]
  },
  {
   "cell_type": "code",
   "execution_count": 190,
   "metadata": {},
   "outputs": [
    {
     "data": {
      "text/html": [
       "<div>\n",
       "<style scoped>\n",
       "    .dataframe tbody tr th:only-of-type {\n",
       "        vertical-align: middle;\n",
       "    }\n",
       "\n",
       "    .dataframe tbody tr th {\n",
       "        vertical-align: top;\n",
       "    }\n",
       "\n",
       "    .dataframe thead th {\n",
       "        text-align: right;\n",
       "    }\n",
       "</style>\n",
       "<table border=\"1\" class=\"dataframe\">\n",
       "  <thead>\n",
       "    <tr style=\"text-align: right;\">\n",
       "      <th></th>\n",
       "      <th>MonthlyCharges</th>\n",
       "      <th>TotalCharges</th>\n",
       "      <th>day</th>\n",
       "      <th>SeniorCitizen</th>\n",
       "      <th>Type_One year</th>\n",
       "      <th>Type_Two year</th>\n",
       "      <th>PaperlessBilling_Yes</th>\n",
       "      <th>PaymentMethod_Credit card (automatic)</th>\n",
       "      <th>PaymentMethod_Electronic check</th>\n",
       "      <th>PaymentMethod_Mailed check</th>\n",
       "      <th>...</th>\n",
       "      <th>Dependents_Yes</th>\n",
       "      <th>InternetService_Fiber optic</th>\n",
       "      <th>InternetService_No</th>\n",
       "      <th>OnlineSecurity_Yes</th>\n",
       "      <th>OnlineBackup_Yes</th>\n",
       "      <th>DeviceProtection_Yes</th>\n",
       "      <th>TechSupport_Yes</th>\n",
       "      <th>StreamingTV_Yes</th>\n",
       "      <th>StreamingMovies_Yes</th>\n",
       "      <th>MultipleLines_Yes</th>\n",
       "    </tr>\n",
       "  </thead>\n",
       "  <tbody>\n",
       "    <tr>\n",
       "      <th>4244</th>\n",
       "      <td>-1.486564</td>\n",
       "      <td>-0.624577</td>\n",
       "      <td>0.560311</td>\n",
       "      <td>0</td>\n",
       "      <td>0</td>\n",
       "      <td>1</td>\n",
       "      <td>0</td>\n",
       "      <td>1</td>\n",
       "      <td>0</td>\n",
       "      <td>0</td>\n",
       "      <td>...</td>\n",
       "      <td>1</td>\n",
       "      <td>0</td>\n",
       "      <td>1</td>\n",
       "      <td>0</td>\n",
       "      <td>0</td>\n",
       "      <td>0</td>\n",
       "      <td>0</td>\n",
       "      <td>0</td>\n",
       "      <td>0</td>\n",
       "      <td>0</td>\n",
       "    </tr>\n",
       "    <tr>\n",
       "      <th>1179</th>\n",
       "      <td>0.987190</td>\n",
       "      <td>0.748224</td>\n",
       "      <td>0.438162</td>\n",
       "      <td>1</td>\n",
       "      <td>0</td>\n",
       "      <td>0</td>\n",
       "      <td>1</td>\n",
       "      <td>0</td>\n",
       "      <td>1</td>\n",
       "      <td>0</td>\n",
       "      <td>...</td>\n",
       "      <td>0</td>\n",
       "      <td>1</td>\n",
       "      <td>0</td>\n",
       "      <td>0</td>\n",
       "      <td>1</td>\n",
       "      <td>0</td>\n",
       "      <td>1</td>\n",
       "      <td>1</td>\n",
       "      <td>0</td>\n",
       "      <td>1</td>\n",
       "    </tr>\n",
       "    <tr>\n",
       "      <th>2621</th>\n",
       "      <td>0.482816</td>\n",
       "      <td>1.462720</td>\n",
       "      <td>1.583147</td>\n",
       "      <td>0</td>\n",
       "      <td>0</td>\n",
       "      <td>1</td>\n",
       "      <td>1</td>\n",
       "      <td>1</td>\n",
       "      <td>0</td>\n",
       "      <td>0</td>\n",
       "      <td>...</td>\n",
       "      <td>0</td>\n",
       "      <td>0</td>\n",
       "      <td>0</td>\n",
       "      <td>0</td>\n",
       "      <td>1</td>\n",
       "      <td>1</td>\n",
       "      <td>1</td>\n",
       "      <td>1</td>\n",
       "      <td>1</td>\n",
       "      <td>0</td>\n",
       "    </tr>\n",
       "    <tr>\n",
       "      <th>2567</th>\n",
       "      <td>1.035304</td>\n",
       "      <td>1.541653</td>\n",
       "      <td>1.130790</td>\n",
       "      <td>0</td>\n",
       "      <td>0</td>\n",
       "      <td>0</td>\n",
       "      <td>1</td>\n",
       "      <td>0</td>\n",
       "      <td>1</td>\n",
       "      <td>0</td>\n",
       "      <td>...</td>\n",
       "      <td>0</td>\n",
       "      <td>1</td>\n",
       "      <td>0</td>\n",
       "      <td>0</td>\n",
       "      <td>1</td>\n",
       "      <td>1</td>\n",
       "      <td>0</td>\n",
       "      <td>1</td>\n",
       "      <td>0</td>\n",
       "      <td>1</td>\n",
       "    </tr>\n",
       "    <tr>\n",
       "      <th>5388</th>\n",
       "      <td>-1.481587</td>\n",
       "      <td>-0.995457</td>\n",
       "      <td>-1.278645</td>\n",
       "      <td>0</td>\n",
       "      <td>0</td>\n",
       "      <td>0</td>\n",
       "      <td>0</td>\n",
       "      <td>0</td>\n",
       "      <td>0</td>\n",
       "      <td>1</td>\n",
       "      <td>...</td>\n",
       "      <td>1</td>\n",
       "      <td>0</td>\n",
       "      <td>1</td>\n",
       "      <td>0</td>\n",
       "      <td>0</td>\n",
       "      <td>0</td>\n",
       "      <td>0</td>\n",
       "      <td>0</td>\n",
       "      <td>0</td>\n",
       "      <td>0</td>\n",
       "    </tr>\n",
       "    <tr>\n",
       "      <th>...</th>\n",
       "      <td>...</td>\n",
       "      <td>...</td>\n",
       "      <td>...</td>\n",
       "      <td>...</td>\n",
       "      <td>...</td>\n",
       "      <td>...</td>\n",
       "      <td>...</td>\n",
       "      <td>...</td>\n",
       "      <td>...</td>\n",
       "      <td>...</td>\n",
       "      <td>...</td>\n",
       "      <td>...</td>\n",
       "      <td>...</td>\n",
       "      <td>...</td>\n",
       "      <td>...</td>\n",
       "      <td>...</td>\n",
       "      <td>...</td>\n",
       "      <td>...</td>\n",
       "      <td>...</td>\n",
       "      <td>...</td>\n",
       "      <td>...</td>\n",
       "    </tr>\n",
       "    <tr>\n",
       "      <th>5638</th>\n",
       "      <td>-1.479928</td>\n",
       "      <td>-0.995435</td>\n",
       "      <td>-1.278645</td>\n",
       "      <td>0</td>\n",
       "      <td>0</td>\n",
       "      <td>0</td>\n",
       "      <td>0</td>\n",
       "      <td>0</td>\n",
       "      <td>1</td>\n",
       "      <td>0</td>\n",
       "      <td>...</td>\n",
       "      <td>0</td>\n",
       "      <td>0</td>\n",
       "      <td>1</td>\n",
       "      <td>0</td>\n",
       "      <td>0</td>\n",
       "      <td>0</td>\n",
       "      <td>0</td>\n",
       "      <td>0</td>\n",
       "      <td>0</td>\n",
       "      <td>0</td>\n",
       "    </tr>\n",
       "    <tr>\n",
       "      <th>461</th>\n",
       "      <td>0.162605</td>\n",
       "      <td>-0.288741</td>\n",
       "      <td>-0.340375</td>\n",
       "      <td>0</td>\n",
       "      <td>0</td>\n",
       "      <td>0</td>\n",
       "      <td>1</td>\n",
       "      <td>0</td>\n",
       "      <td>0</td>\n",
       "      <td>0</td>\n",
       "      <td>...</td>\n",
       "      <td>0</td>\n",
       "      <td>0</td>\n",
       "      <td>0</td>\n",
       "      <td>0</td>\n",
       "      <td>1</td>\n",
       "      <td>0</td>\n",
       "      <td>0</td>\n",
       "      <td>1</td>\n",
       "      <td>1</td>\n",
       "      <td>0</td>\n",
       "    </tr>\n",
       "    <tr>\n",
       "      <th>1032</th>\n",
       "      <td>0.914188</td>\n",
       "      <td>-0.680679</td>\n",
       "      <td>-0.995419</td>\n",
       "      <td>1</td>\n",
       "      <td>0</td>\n",
       "      <td>0</td>\n",
       "      <td>1</td>\n",
       "      <td>0</td>\n",
       "      <td>1</td>\n",
       "      <td>0</td>\n",
       "      <td>...</td>\n",
       "      <td>0</td>\n",
       "      <td>1</td>\n",
       "      <td>0</td>\n",
       "      <td>0</td>\n",
       "      <td>0</td>\n",
       "      <td>1</td>\n",
       "      <td>0</td>\n",
       "      <td>1</td>\n",
       "      <td>1</td>\n",
       "      <td>0</td>\n",
       "    </tr>\n",
       "    <tr>\n",
       "      <th>6269</th>\n",
       "      <td>-1.031964</td>\n",
       "      <td>-0.483003</td>\n",
       "      <td>0.111982</td>\n",
       "      <td>0</td>\n",
       "      <td>0</td>\n",
       "      <td>0</td>\n",
       "      <td>1</td>\n",
       "      <td>0</td>\n",
       "      <td>0</td>\n",
       "      <td>1</td>\n",
       "      <td>...</td>\n",
       "      <td>0</td>\n",
       "      <td>0</td>\n",
       "      <td>0</td>\n",
       "      <td>0</td>\n",
       "      <td>0</td>\n",
       "      <td>1</td>\n",
       "      <td>1</td>\n",
       "      <td>0</td>\n",
       "      <td>0</td>\n",
       "      <td>0</td>\n",
       "    </tr>\n",
       "    <tr>\n",
       "      <th>1653</th>\n",
       "      <td>-1.453382</td>\n",
       "      <td>-0.478526</td>\n",
       "      <td>1.051595</td>\n",
       "      <td>0</td>\n",
       "      <td>0</td>\n",
       "      <td>1</td>\n",
       "      <td>0</td>\n",
       "      <td>0</td>\n",
       "      <td>0</td>\n",
       "      <td>1</td>\n",
       "      <td>...</td>\n",
       "      <td>0</td>\n",
       "      <td>0</td>\n",
       "      <td>1</td>\n",
       "      <td>0</td>\n",
       "      <td>0</td>\n",
       "      <td>0</td>\n",
       "      <td>0</td>\n",
       "      <td>0</td>\n",
       "      <td>0</td>\n",
       "      <td>0</td>\n",
       "    </tr>\n",
       "  </tbody>\n",
       "</table>\n",
       "<p>5634 rows × 22 columns</p>\n",
       "</div>"
      ],
      "text/plain": [
       "      MonthlyCharges  TotalCharges       day  SeniorCitizen  Type_One year  \\\n",
       "4244       -1.486564     -0.624577  0.560311              0              0   \n",
       "1179        0.987190      0.748224  0.438162              1              0   \n",
       "2621        0.482816      1.462720  1.583147              0              0   \n",
       "2567        1.035304      1.541653  1.130790              0              0   \n",
       "5388       -1.481587     -0.995457 -1.278645              0              0   \n",
       "...              ...           ...       ...            ...            ...   \n",
       "5638       -1.479928     -0.995435 -1.278645              0              0   \n",
       "461         0.162605     -0.288741 -0.340375              0              0   \n",
       "1032        0.914188     -0.680679 -0.995419              1              0   \n",
       "6269       -1.031964     -0.483003  0.111982              0              0   \n",
       "1653       -1.453382     -0.478526  1.051595              0              0   \n",
       "\n",
       "      Type_Two year  PaperlessBilling_Yes  \\\n",
       "4244              1                     0   \n",
       "1179              0                     1   \n",
       "2621              1                     1   \n",
       "2567              0                     1   \n",
       "5388              0                     0   \n",
       "...             ...                   ...   \n",
       "5638              0                     0   \n",
       "461               0                     1   \n",
       "1032              0                     1   \n",
       "6269              0                     1   \n",
       "1653              1                     0   \n",
       "\n",
       "      PaymentMethod_Credit card (automatic)  PaymentMethod_Electronic check  \\\n",
       "4244                                      1                               0   \n",
       "1179                                      0                               1   \n",
       "2621                                      1                               0   \n",
       "2567                                      0                               1   \n",
       "5388                                      0                               0   \n",
       "...                                     ...                             ...   \n",
       "5638                                      0                               1   \n",
       "461                                       0                               0   \n",
       "1032                                      0                               1   \n",
       "6269                                      0                               0   \n",
       "1653                                      0                               0   \n",
       "\n",
       "      PaymentMethod_Mailed check  ...  Dependents_Yes  \\\n",
       "4244                           0  ...               1   \n",
       "1179                           0  ...               0   \n",
       "2621                           0  ...               0   \n",
       "2567                           0  ...               0   \n",
       "5388                           1  ...               1   \n",
       "...                          ...  ...             ...   \n",
       "5638                           0  ...               0   \n",
       "461                            0  ...               0   \n",
       "1032                           0  ...               0   \n",
       "6269                           1  ...               0   \n",
       "1653                           1  ...               0   \n",
       "\n",
       "      InternetService_Fiber optic  InternetService_No  OnlineSecurity_Yes  \\\n",
       "4244                            0                   1                   0   \n",
       "1179                            1                   0                   0   \n",
       "2621                            0                   0                   0   \n",
       "2567                            1                   0                   0   \n",
       "5388                            0                   1                   0   \n",
       "...                           ...                 ...                 ...   \n",
       "5638                            0                   1                   0   \n",
       "461                             0                   0                   0   \n",
       "1032                            1                   0                   0   \n",
       "6269                            0                   0                   0   \n",
       "1653                            0                   1                   0   \n",
       "\n",
       "      OnlineBackup_Yes  DeviceProtection_Yes  TechSupport_Yes  \\\n",
       "4244                 0                     0                0   \n",
       "1179                 1                     0                1   \n",
       "2621                 1                     1                1   \n",
       "2567                 1                     1                0   \n",
       "5388                 0                     0                0   \n",
       "...                ...                   ...              ...   \n",
       "5638                 0                     0                0   \n",
       "461                  1                     0                0   \n",
       "1032                 0                     1                0   \n",
       "6269                 0                     1                1   \n",
       "1653                 0                     0                0   \n",
       "\n",
       "      StreamingTV_Yes  StreamingMovies_Yes  MultipleLines_Yes  \n",
       "4244                0                    0                  0  \n",
       "1179                1                    0                  1  \n",
       "2621                1                    1                  0  \n",
       "2567                1                    0                  1  \n",
       "5388                0                    0                  0  \n",
       "...               ...                  ...                ...  \n",
       "5638                0                    0                  0  \n",
       "461                 1                    1                  0  \n",
       "1032                1                    1                  0  \n",
       "6269                0                    0                  0  \n",
       "1653                0                    0                  0  \n",
       "\n",
       "[5634 rows x 22 columns]"
      ]
     },
     "execution_count": 190,
     "metadata": {},
     "output_type": "execute_result"
    }
   ],
   "source": [
    "features_train"
   ]
  },
  {
   "cell_type": "markdown",
   "metadata": {},
   "source": [
    "## Подбор гиперпараметров для моделей"
   ]
  },
  {
   "cell_type": "code",
   "execution_count": 191,
   "metadata": {},
   "outputs": [],
   "source": [
    "# словарь с результатами auc_roc\n",
    "best = {}"
   ]
  },
  {
   "cell_type": "code",
   "execution_count": 192,
   "metadata": {},
   "outputs": [
    {
     "name": "stdout",
     "output_type": "stream",
     "text": [
      "Лучшие  гиперпараметры LogisticRegression: {'class_weight': None, 'multi_class': 'auto', 'penalty': 'l1', 'solver': 'liblinear'} \n",
      "AUC-ROC = 0.8430\n"
     ]
    }
   ],
   "source": [
    "param_grid = {'class_weight':['balanced', None], \n",
    "              'solver': ['liblinear'],\n",
    "             'penalty': ['l1', 'l2', 'elasticnet', None],\n",
    "             'multi_class': ['auto', 'ovr', 'multinomial']\n",
    "             }\n",
    "model = LogisticRegression(random_state=250722)\n",
    "search = GridSearchCV(model, param_grid, cv=5, scoring = 'roc_auc')\n",
    "search.fit(features_train, target_train)\n",
    "print(f'Лучшие  гиперпараметры LogisticRegression: {search.best_params_} \\nAUC-ROC = {search.best_score_:.4f}')\n",
    "\n",
    "best['LinearRegression'] = search.best_score_"
   ]
  },
  {
   "cell_type": "code",
   "execution_count": 193,
   "metadata": {},
   "outputs": [
    {
     "name": "stdout",
     "output_type": "stream",
     "text": [
      "Лучшие  гиперпараметры DecisionTreeClassifier: {'class_weight': None, 'criterion': 'entropy', 'max_depth': 9, 'min_samples_leaf': 19, 'splitter': 'best'} \n",
      "AUC-ROC = 0.8490\n"
     ]
    }
   ],
   "source": [
    "param_grid = {'class_weight':['balanced', None], \n",
    "             'criterion': ['gini', 'entropy', 'log_loss'],\n",
    "             'splitter':['best', 'random'],\n",
    "             'max_depth': range(1, 20),\n",
    "             'min_samples_leaf': range(1, 20, 3)\n",
    "             }\n",
    "model = DecisionTreeClassifier(random_state=250722)\n",
    "search = GridSearchCV(model, param_grid, cv=5, scoring = 'roc_auc')\n",
    "search.fit(features_train, target_train)\n",
    "print(f'Лучшие  гиперпараметры DecisionTreeClassifier: {search.best_params_} \\nAUC-ROC = {search.best_score_:.4f}')\n",
    "\n",
    "best['DecisionTreeClassifier'] = search.best_score_"
   ]
  },
  {
   "cell_type": "code",
   "execution_count": 194,
   "metadata": {},
   "outputs": [
    {
     "name": "stdout",
     "output_type": "stream",
     "text": [
      "Лучшие  гиперпараметры CatBoostRegressor: {'depth': 6, 'iterations': 1000, 'learning_rate': 0.05} \n",
      "AUC-ROC = 0.9098\n"
     ]
    }
   ],
   "source": [
    "param_grid = {'depth' : [6,8,10],\n",
    "             'learning_rate' : [0.01, 0.05],\n",
    "             'iterations'    : [500, 1000]\n",
    "             }\n",
    "model = CatBoostClassifier(random_state=250722)\n",
    "search = GridSearchCV(model, param_grid, cv=5, scoring = 'roc_auc')\n",
    "search.fit(features_train, target_train, verbose=False)\n",
    "print(f'Лучшие  гиперпараметры CatBoostRegressor: {search.best_params_} \\nAUC-ROC = {search.best_score_:.4f}')\n",
    "\n",
    "best['CatBoostRegressor'] = search.best_score_"
   ]
  },
  {
   "cell_type": "code",
   "execution_count": 195,
   "metadata": {},
   "outputs": [
    {
     "name": "stdout",
     "output_type": "stream",
     "text": [
      "Лучшие  гиперпараметры LGBMRegressor: {'learning_rate': 0.1, 'max_depth': 7, 'n_estimators': 20, 'num_leaves': 28} \n",
      "AUC-ROC = 0.8717\n"
     ]
    }
   ],
   "source": [
    "param_grid = {'num_leaves': [7, 14, 21, 28, 31, 50],\n",
    "            'learning_rate': [0.1, 0.03, 0.003],\n",
    "            'max_depth': [3, 5, 7],\n",
    "            'n_estimators': [5, 10, 15, 20]\n",
    "             }\n",
    "model = LGBMClassifier(random_state=250722)\n",
    "search = GridSearchCV(model, param_grid, cv=5, scoring = 'roc_auc')\n",
    "search.fit(features_train, target_train, verbose=100)\n",
    "print(f'Лучшие  гиперпараметры LGBMRegressor: {search.best_params_} \\nAUC-ROC = {search.best_score_:.4f}')\n",
    "\n",
    "best['LGBMRegressor'] = search.best_score_"
   ]
  },
  {
   "cell_type": "code",
   "execution_count": 196,
   "metadata": {},
   "outputs": [
    {
     "name": "stdout",
     "output_type": "stream",
     "text": [
      "Лучшие  гиперпараметры RandomForestClassifier: {'class_weight': None, 'max_depth': 7, 'min_samples_leaf': 4, 'n_estimators': 17}, AUC-ROC = 0.8551\n"
     ]
    }
   ],
   "source": [
    "param_grid = {'class_weight':['balanced', None],           \n",
    "             'max_depth': range(1, 20, 2),\n",
    "              'n_estimators': range(1, 20, 2),\n",
    "              'min_samples_leaf': range(1, 20, 3)\n",
    "             }\n",
    "model = RandomForestClassifier(random_state=250722)\n",
    "search = GridSearchCV(model, param_grid, cv=5, scoring = 'roc_auc')\n",
    "search.fit(features_train, target_train)\n",
    "print(f'Лучшие  гиперпараметры RandomForestClassifier: {search.best_params_}, AUC-ROC = {search.best_score_:.4f}')\n",
    "\n",
    "best['RandomForestClassifier'] = search.best_score_"
   ]
  },
  {
   "cell_type": "code",
   "execution_count": 197,
   "metadata": {},
   "outputs": [
    {
     "name": "stdout",
     "output_type": "stream",
     "text": [
      "Модель CatBoostRegressor - AUC-ROC = 0.9098\n",
      "Модель LGBMRegressor - AUC-ROC = 0.8717\n",
      "Модель RandomForestClassifier - AUC-ROC = 0.8551\n",
      "Модель DecisionTreeClassifier - AUC-ROC = 0.8490\n",
      "Модель LinearRegression - AUC-ROC = 0.8430\n"
     ]
    }
   ],
   "source": [
    "for model, index in sorted(best.items(), key=lambda item: item[1], reverse=True):\n",
    "    print(f'Модель {model} - AUC-ROC = {index:.4f}')"
   ]
  },
  {
   "cell_type": "markdown",
   "metadata": {},
   "source": [
    "**Вывод:**\n",
    "\n",
    "Подобрал лучшие  гиперпараметры с помощью  GridSearchCV. \n",
    "\n",
    "Наилучший показатель показала модель CatBoostRegressor AUC-ROC = 0.9098 на обучающей выборке. "
   ]
  },
  {
   "cell_type": "markdown",
   "metadata": {},
   "source": [
    "## Проверка моделей на тестовой выборки. "
   ]
  },
  {
   "cell_type": "code",
   "execution_count": 198,
   "metadata": {},
   "outputs": [],
   "source": [
    "# словарь с результатами auc_roc на тестовой выборке\n",
    "best_test = {}"
   ]
  },
  {
   "cell_type": "code",
   "execution_count": 199,
   "metadata": {},
   "outputs": [
    {
     "name": "stdout",
     "output_type": "stream",
     "text": [
      "AUC-ROC на тестовой выборке = 0.8563\n"
     ]
    }
   ],
   "source": [
    "model = LogisticRegression(random_state=250722, class_weight=None, multi_class='auto', penalty='l1', solver='liblinear')\n",
    "model.fit(features_train, target_train)\n",
    "probabilities_test = model.predict_proba(features_test)\n",
    "probabilities_one_test = probabilities_test[:, 1]\n",
    "auc_roc = roc_auc_score(target_test, probabilities_one_test)\n",
    "print(f\"AUC-ROC на тестовой выборке = {auc_roc:.4f}\")\n",
    "\n",
    "best_test['LogisticRegression'] = auc_roc"
   ]
  },
  {
   "cell_type": "code",
   "execution_count": 200,
   "metadata": {},
   "outputs": [
    {
     "name": "stdout",
     "output_type": "stream",
     "text": [
      "AUC-ROC на тестовой выборке = 0.8590\n"
     ]
    }
   ],
   "source": [
    "model = DecisionTreeClassifier(random_state=250722,  criterion='entropy', max_depth=9, min_samples_leaf=19, splitter='best')\n",
    "model.fit(features_train, target_train)\n",
    "probabilities_test = model.predict_proba(features_test)\n",
    "probabilities_one_test = probabilities_test[:, 1]\n",
    "auc_roc = roc_auc_score(target_test, probabilities_one_test)\n",
    "print(f\"AUC-ROC на тестовой выборке = {auc_roc:.4f}\")\n",
    "\n",
    "best_test['DecisionTreeClassifier'] = auc_roc"
   ]
  },
  {
   "cell_type": "code",
   "execution_count": 201,
   "metadata": {},
   "outputs": [
    {
     "name": "stdout",
     "output_type": "stream",
     "text": [
      "AUC-ROC на тестовой выборке = 0.8677\n"
     ]
    }
   ],
   "source": [
    "model = RandomForestClassifier(random_state=250722, class_weight=None, max_depth=7, min_samples_leaf=4, n_estimators=17)\n",
    "model.fit(features_train, target_train)\n",
    "probabilities_test = model.predict_proba(features_test)\n",
    "probabilities_one_test = probabilities_test[:, 1]\n",
    "auc_roc = roc_auc_score(target_test, probabilities_one_test)\n",
    "print(f\"AUC-ROC на тестовой выборке = {auc_roc:.4f}\")\n",
    "\n",
    "best_test['RandomForestClassifier'] = auc_roc"
   ]
  },
  {
   "cell_type": "code",
   "execution_count": 202,
   "metadata": {},
   "outputs": [
    {
     "name": "stdout",
     "output_type": "stream",
     "text": [
      "AUC-ROC на тестовой выборке = 0.8835\n"
     ]
    }
   ],
   "source": [
    "model = LGBMClassifier(random_state=250722, learning_rate=0.1, max_depth=7, n_estimators=20, num_leaves=28)\n",
    "model.fit(features_train, target_train)\n",
    "predicted_test = model.predict_proba(features_test)[:,1]\n",
    "auc_roc = roc_auc_score(target_test, predicted_test)\n",
    "print(f\"AUC-ROC на тестовой выборке = {auc_roc:.4f}\")\n",
    "\n",
    "best_test['LGBMRegressor'] = auc_roc"
   ]
  },
  {
   "cell_type": "code",
   "execution_count": 203,
   "metadata": {},
   "outputs": [
    {
     "name": "stdout",
     "output_type": "stream",
     "text": [
      "AUC-ROC на тестовой выборке = 0.9211\n"
     ]
    }
   ],
   "source": [
    "model = CatBoostClassifier(random_state=250722, depth=6, iterations=1000, learning_rate=0.05)\n",
    "model.fit(features_train, target_train, verbose=False)\n",
    "predicted_test = model.predict_proba(features_test)[:,1]\n",
    "auc_roc = roc_auc_score(target_test, predicted_test)\n",
    "print(f\"AUC-ROC на тестовой выборке = {auc_roc:.4f}\")\n",
    "\n",
    "best_test['CatBoostRegressor'] = auc_roc"
   ]
  },
  {
   "cell_type": "code",
   "execution_count": 204,
   "metadata": {},
   "outputs": [
    {
     "name": "stdout",
     "output_type": "stream",
     "text": [
      "Модель CatBoostRegressor - AUC-ROC = 0.9211\n",
      "Модель LGBMRegressor - AUC-ROC = 0.8835\n",
      "Модель RandomForestClassifier - AUC-ROC = 0.8677\n",
      "Модель DecisionTreeClassifier - AUC-ROC = 0.8590\n",
      "Модель LogisticRegression - AUC-ROC = 0.8563\n"
     ]
    }
   ],
   "source": [
    "for model, index in sorted(best_test.items(), key=lambda item: item[1], reverse=True):\n",
    "    print(f'Модель {model} - AUC-ROC = {index:.4f}')"
   ]
  },
  {
   "cell_type": "markdown",
   "metadata": {},
   "source": [
    "### Вывод\n",
    "\n",
    "При проверке результатов на тестовой выборке, лучший результат также у модели CatBoostRegressor - AUC-ROC = 0.9211"
   ]
  },
  {
   "cell_type": "markdown",
   "metadata": {},
   "source": [
    "**Визуализация ROC-кривой** "
   ]
  },
  {
   "cell_type": "code",
   "execution_count": 205,
   "metadata": {},
   "outputs": [
    {
     "data": {
      "image/png": "[encoded data removed]",
      "text/plain": [
       "<Figure size 432x288 with 1 Axes>"
      ]
     },
     "metadata": {
      "needs_background": "light"
     },
     "output_type": "display_data"
    }
   ],
   "source": [
    "model = CatBoostClassifier(random_state=250722, depth=6, iterations=1000, learning_rate=0.05)\n",
    "model.fit(features_train, target_train, verbose=False)\n",
    "predicted_test = model.predict(features_test)\n",
    "fpr, tpr, thresholds = roc_curve(target_test, predicted_test)\n",
    "plt.figure()\n",
    "plt.plot(fpr, tpr, linestyle='--')\n",
    "plt.xlim([0.0, 1.0])\n",
    "plt.ylim([0.0, 1.0])\n",
    "plt.xlabel(\"False Positive Rate\")\n",
    "plt.ylabel(\"True Positive Rate\")\n",
    "plt.title(\"ROC-кривая\")\n",
    "\n",
    "plt.show()"
   ]
  },
  {
   "cell_type": "markdown",
   "metadata": {},
   "source": [
    "**Визуализация важности признаков**"
   ]
  },
  {
   "cell_type": "code",
   "execution_count": 206,
   "metadata": {},
   "outputs": [
    {
     "data": {
      "image/png": "[encoded data removed]",
      "text/plain": [
       "<Figure size 1008x432 with 1 Axes>"
      ]
     },
     "metadata": {
      "needs_background": "light"
     },
     "output_type": "display_data"
    }
   ],
   "source": [
    "model = CatBoostClassifier(random_state=250722, depth=6, iterations=1000, learning_rate=0.05)\n",
    "model.fit(X = df_ohe.drop(['target'], axis=1), y = df_ohe['target'], verbose=False)\n",
    "\n",
    "skl_iris_imp = pd.Series(model.feature_importances_, df_ohe.drop(['target'], axis=1).columns)\n",
    "\n",
    "fig, ax = plt.subplots(figsize=(14, 6))\n",
    "skl_iris_imp.plot.bar(ax=ax)\n",
    "ax.set_title(\"Важность признаков\")\n",
    "ax.set_ylabel('Важность')\n",
    "fig.tight_layout()"
   ]
  },
  {
   "cell_type": "markdown",
   "metadata": {},
   "source": [
    "# Общий вывод\n",
    "\n",
    "Провел исследования по прогнозированию оттока клиентов. Задача стояла разработать модель с AUC-ROC > 0.77.\n",
    "\n",
    "Подготовил данные, удалил лишние критерии,  соединил в одну таблицу и провел исследование.\n",
    "\n",
    "Подобрал лучшие  гиперпараметры с помощью  GridSearchCV и проверил на тестовой выборке\n",
    "\n",
    "Наилучший показатель показала модель CatBoostRegressor AUC-ROC = 0.9211 на обучающей выборке. "
   ]
  },
  {
   "cell_type": "code",
   "execution_count": null,
   "metadata": {},
   "outputs": [],
   "source": []
  }
 ],
 "metadata": {
  "ExecuteTimeLog": [
   {
    "duration": 432,
    "start_time": "2022-07-25T15:28:06.348Z"
   },
   {
    "duration": 108,
    "start_time": "2022-07-25T15:28:06.782Z"
   },
   {
    "duration": 76,
    "start_time": "2022-07-25T15:29:19.154Z"
   },
   {
    "duration": 25,
    "start_time": "2022-07-25T15:29:23.180Z"
   },
   {
    "duration": 2,
    "start_time": "2022-07-25T15:40:23.914Z"
   },
   {
    "duration": 2,
    "start_time": "2022-07-25T15:40:24.336Z"
   },
   {
    "duration": 3,
    "start_time": "2022-07-25T15:41:59.095Z"
   },
   {
    "duration": 6,
    "start_time": "2022-07-25T15:41:59.100Z"
   },
   {
    "duration": 93,
    "start_time": "2022-07-26T15:40:47.097Z"
   },
   {
    "duration": 400,
    "start_time": "2022-07-27T19:07:43.939Z"
   },
   {
    "duration": 180,
    "start_time": "2022-07-27T19:07:45.804Z"
   },
   {
    "duration": 23,
    "start_time": "2022-07-27T19:07:53.021Z"
   },
   {
    "duration": 26,
    "start_time": "2022-07-27T19:09:46.310Z"
   },
   {
    "duration": 72,
    "start_time": "2022-07-27T19:13:11.742Z"
   },
   {
    "duration": 147,
    "start_time": "2022-07-27T19:14:43.910Z"
   },
   {
    "duration": 87,
    "start_time": "2022-07-27T19:14:44.362Z"
   },
   {
    "duration": 19,
    "start_time": "2022-07-27T19:14:53.539Z"
   },
   {
    "duration": 24,
    "start_time": "2022-07-27T19:15:08.604Z"
   },
   {
    "duration": 162,
    "start_time": "2022-07-27T19:17:27.112Z"
   },
   {
    "duration": 26,
    "start_time": "2022-07-27T19:17:27.479Z"
   },
   {
    "duration": 104,
    "start_time": "2022-07-27T19:18:20.207Z"
   },
   {
    "duration": 17,
    "start_time": "2022-07-27T19:18:20.569Z"
   },
   {
    "duration": 28,
    "start_time": "2022-07-27T19:23:10.841Z"
   },
   {
    "duration": 24,
    "start_time": "2022-07-27T19:23:28.686Z"
   },
   {
    "duration": 27,
    "start_time": "2022-07-27T19:23:53.814Z"
   },
   {
    "duration": 21,
    "start_time": "2022-07-27T19:24:25.011Z"
   },
   {
    "duration": 1239,
    "start_time": "2022-07-27T19:42:25.553Z"
   },
   {
    "duration": 13,
    "start_time": "2022-07-27T19:43:00.607Z"
   },
   {
    "duration": 1262,
    "start_time": "2022-07-27T19:43:22.790Z"
   },
   {
    "duration": 1282,
    "start_time": "2022-07-27T19:45:46.389Z"
   },
   {
    "duration": 1258,
    "start_time": "2022-07-27T19:47:08.590Z"
   },
   {
    "duration": 18,
    "start_time": "2022-07-27T19:47:47.044Z"
   },
   {
    "duration": 1347,
    "start_time": "2022-07-27T19:48:01.835Z"
   },
   {
    "duration": 1291,
    "start_time": "2022-07-27T19:48:58.389Z"
   },
   {
    "duration": 19,
    "start_time": "2022-07-27T19:51:02.739Z"
   },
   {
    "duration": 366,
    "start_time": "2022-07-27T19:51:51.271Z"
   },
   {
    "duration": 10,
    "start_time": "2022-07-27T19:52:06.834Z"
   },
   {
    "duration": 18,
    "start_time": "2022-07-27T19:52:17.067Z"
   },
   {
    "duration": 3,
    "start_time": "2022-07-27T19:55:36.226Z"
   },
   {
    "duration": 3,
    "start_time": "2022-07-27T19:55:36.233Z"
   },
   {
    "duration": 6,
    "start_time": "2022-07-27T19:55:36.239Z"
   },
   {
    "duration": 114,
    "start_time": "2022-07-27T19:55:36.247Z"
   },
   {
    "duration": 35,
    "start_time": "2022-07-27T19:55:36.363Z"
   },
   {
    "duration": 18,
    "start_time": "2022-07-27T19:55:53.546Z"
   },
   {
    "duration": 17,
    "start_time": "2022-07-27T19:56:17.627Z"
   },
   {
    "duration": 6,
    "start_time": "2022-07-27T19:57:05.338Z"
   },
   {
    "duration": 9,
    "start_time": "2022-07-27T19:59:49.377Z"
   },
   {
    "duration": 21,
    "start_time": "2022-07-27T19:59:58.207Z"
   },
   {
    "duration": 9,
    "start_time": "2022-07-27T20:00:35.346Z"
   },
   {
    "duration": 17,
    "start_time": "2022-07-27T20:00:36.031Z"
   },
   {
    "duration": 2,
    "start_time": "2022-07-27T20:00:43.045Z"
   },
   {
    "duration": 7,
    "start_time": "2022-07-27T20:00:43.049Z"
   },
   {
    "duration": 5,
    "start_time": "2022-07-27T20:00:43.058Z"
   },
   {
    "duration": 97,
    "start_time": "2022-07-27T20:00:43.065Z"
   },
   {
    "duration": 33,
    "start_time": "2022-07-27T20:00:43.164Z"
   },
   {
    "duration": 27,
    "start_time": "2022-07-27T20:00:43.199Z"
   },
   {
    "duration": 9,
    "start_time": "2022-07-27T20:00:46.289Z"
   },
   {
    "duration": 17,
    "start_time": "2022-07-27T20:00:46.737Z"
   },
   {
    "duration": 3,
    "start_time": "2022-07-27T20:03:26.083Z"
   },
   {
    "duration": 18,
    "start_time": "2022-07-27T20:03:26.089Z"
   },
   {
    "duration": 33,
    "start_time": "2022-07-27T20:03:26.108Z"
   },
   {
    "duration": 109,
    "start_time": "2022-07-27T20:03:26.144Z"
   },
   {
    "duration": 30,
    "start_time": "2022-07-27T20:03:26.255Z"
   },
   {
    "duration": 35,
    "start_time": "2022-07-27T20:03:26.287Z"
   },
   {
    "duration": 79,
    "start_time": "2022-07-27T20:03:45.680Z"
   },
   {
    "duration": 163,
    "start_time": "2022-07-27T20:05:52.110Z"
   },
   {
    "duration": 83,
    "start_time": "2022-07-27T20:05:58.951Z"
   },
   {
    "duration": 5,
    "start_time": "2022-07-27T20:06:38.674Z"
   },
   {
    "duration": 19,
    "start_time": "2022-07-27T20:06:40.080Z"
   },
   {
    "duration": 4,
    "start_time": "2022-07-27T20:07:09.558Z"
   },
   {
    "duration": 5,
    "start_time": "2022-07-27T20:07:27.190Z"
   },
   {
    "duration": 18,
    "start_time": "2022-07-27T20:07:28.886Z"
   },
   {
    "duration": 3,
    "start_time": "2022-07-27T20:07:31.792Z"
   },
   {
    "duration": 12,
    "start_time": "2022-07-27T20:07:31.797Z"
   },
   {
    "duration": 26,
    "start_time": "2022-07-27T20:07:31.817Z"
   },
   {
    "duration": 115,
    "start_time": "2022-07-27T20:07:31.845Z"
   },
   {
    "duration": 37,
    "start_time": "2022-07-27T20:07:31.963Z"
   },
   {
    "duration": 24,
    "start_time": "2022-07-27T20:07:32.002Z"
   },
   {
    "duration": 5,
    "start_time": "2022-07-27T20:07:37.930Z"
   },
   {
    "duration": 18,
    "start_time": "2022-07-27T20:07:38.350Z"
   },
   {
    "duration": 12,
    "start_time": "2022-07-27T20:07:58.512Z"
   },
   {
    "duration": 10,
    "start_time": "2022-07-27T20:08:04.221Z"
   },
   {
    "duration": 8,
    "start_time": "2022-07-27T20:08:07.695Z"
   },
   {
    "duration": 17,
    "start_time": "2022-07-27T20:08:14.909Z"
   },
   {
    "duration": 5,
    "start_time": "2022-07-27T20:14:59.153Z"
   },
   {
    "duration": 18,
    "start_time": "2022-07-27T20:14:59.506Z"
   },
   {
    "duration": 13,
    "start_time": "2022-07-27T20:15:12.877Z"
   },
   {
    "duration": 3,
    "start_time": "2022-07-27T20:16:00.501Z"
   },
   {
    "duration": 26,
    "start_time": "2022-07-27T20:16:00.505Z"
   },
   {
    "duration": 7,
    "start_time": "2022-07-27T20:16:00.534Z"
   },
   {
    "duration": 129,
    "start_time": "2022-07-27T20:16:00.543Z"
   },
   {
    "duration": 32,
    "start_time": "2022-07-27T20:16:00.674Z"
   },
   {
    "duration": 30,
    "start_time": "2022-07-27T20:16:00.708Z"
   },
   {
    "duration": 19,
    "start_time": "2022-07-27T20:16:02.532Z"
   },
   {
    "duration": 4,
    "start_time": "2022-07-27T20:16:03.747Z"
   },
   {
    "duration": 12,
    "start_time": "2022-07-27T20:16:07.388Z"
   },
   {
    "duration": 7,
    "start_time": "2022-07-27T20:17:25.098Z"
   },
   {
    "duration": 13,
    "start_time": "2022-07-27T20:17:26.843Z"
   },
   {
    "duration": 22,
    "start_time": "2022-07-27T20:17:44.770Z"
   },
   {
    "duration": 17,
    "start_time": "2022-07-27T20:17:52.810Z"
   },
   {
    "duration": 8,
    "start_time": "2022-07-27T20:18:37.042Z"
   },
   {
    "duration": 16,
    "start_time": "2022-07-27T20:18:40.554Z"
   },
   {
    "duration": 19,
    "start_time": "2022-07-27T20:18:42.257Z"
   },
   {
    "duration": 6,
    "start_time": "2022-07-27T20:20:26.787Z"
   },
   {
    "duration": 16,
    "start_time": "2022-07-27T20:20:29.851Z"
   },
   {
    "duration": 5,
    "start_time": "2022-07-27T20:20:52.306Z"
   },
   {
    "duration": 22,
    "start_time": "2022-07-27T20:20:52.313Z"
   },
   {
    "duration": 5,
    "start_time": "2022-07-27T20:20:52.337Z"
   },
   {
    "duration": 94,
    "start_time": "2022-07-27T20:20:52.344Z"
   },
   {
    "duration": 30,
    "start_time": "2022-07-27T20:20:52.440Z"
   },
   {
    "duration": 25,
    "start_time": "2022-07-27T20:20:52.472Z"
   },
   {
    "duration": 8,
    "start_time": "2022-07-27T20:20:52.513Z"
   },
   {
    "duration": 20,
    "start_time": "2022-07-27T20:20:52.523Z"
   },
   {
    "duration": 8,
    "start_time": "2022-07-27T20:20:55.410Z"
   },
   {
    "duration": 11,
    "start_time": "2022-07-27T20:20:57.130Z"
   },
   {
    "duration": 5,
    "start_time": "2022-07-27T20:26:02.192Z"
   },
   {
    "duration": 30,
    "start_time": "2022-07-27T20:26:05.097Z"
   },
   {
    "duration": 16,
    "start_time": "2022-07-27T20:28:31.402Z"
   },
   {
    "duration": 3,
    "start_time": "2022-07-27T20:28:47.967Z"
   },
   {
    "duration": 5,
    "start_time": "2022-07-27T20:28:52.886Z"
   },
   {
    "duration": 18,
    "start_time": "2022-07-27T20:28:55.354Z"
   },
   {
    "duration": 3,
    "start_time": "2022-07-27T20:29:06.108Z"
   },
   {
    "duration": 25,
    "start_time": "2022-07-27T20:29:06.113Z"
   },
   {
    "duration": 9,
    "start_time": "2022-07-27T20:29:06.141Z"
   },
   {
    "duration": 97,
    "start_time": "2022-07-27T20:29:06.152Z"
   },
   {
    "duration": 30,
    "start_time": "2022-07-27T20:29:06.251Z"
   },
   {
    "duration": 17,
    "start_time": "2022-07-27T20:29:06.283Z"
   },
   {
    "duration": 17,
    "start_time": "2022-07-27T20:29:06.302Z"
   },
   {
    "duration": 5,
    "start_time": "2022-07-27T20:29:13.086Z"
   },
   {
    "duration": 9,
    "start_time": "2022-07-27T20:29:14.027Z"
   },
   {
    "duration": 6,
    "start_time": "2022-07-27T20:29:15.431Z"
   },
   {
    "duration": 22,
    "start_time": "2022-07-27T20:29:16.694Z"
   },
   {
    "duration": 3,
    "start_time": "2022-07-27T20:29:50.263Z"
   },
   {
    "duration": 9,
    "start_time": "2022-07-27T20:29:50.268Z"
   },
   {
    "duration": 8,
    "start_time": "2022-07-27T20:29:50.280Z"
   },
   {
    "duration": 93,
    "start_time": "2022-07-27T20:29:50.289Z"
   },
   {
    "duration": 47,
    "start_time": "2022-07-27T20:29:50.385Z"
   },
   {
    "duration": 18,
    "start_time": "2022-07-27T20:29:50.434Z"
   },
   {
    "duration": 10,
    "start_time": "2022-07-27T20:29:50.454Z"
   },
   {
    "duration": 14,
    "start_time": "2022-07-27T20:29:50.466Z"
   },
   {
    "duration": 7,
    "start_time": "2022-07-27T20:29:53.694Z"
   },
   {
    "duration": 6,
    "start_time": "2022-07-27T20:29:54.230Z"
   },
   {
    "duration": 16,
    "start_time": "2022-07-27T20:29:57.030Z"
   },
   {
    "duration": 14,
    "start_time": "2022-07-27T20:30:52.271Z"
   },
   {
    "duration": 6,
    "start_time": "2022-07-27T20:31:17.231Z"
   },
   {
    "duration": 4,
    "start_time": "2022-07-27T20:31:27.574Z"
   },
   {
    "duration": 22,
    "start_time": "2022-07-27T20:31:37.781Z"
   },
   {
    "duration": 3,
    "start_time": "2022-07-27T20:32:28.446Z"
   },
   {
    "duration": 5,
    "start_time": "2022-07-27T20:32:28.453Z"
   },
   {
    "duration": 9,
    "start_time": "2022-07-27T20:32:28.460Z"
   },
   {
    "duration": 96,
    "start_time": "2022-07-27T20:32:28.472Z"
   },
   {
    "duration": 30,
    "start_time": "2022-07-27T20:32:28.570Z"
   },
   {
    "duration": 26,
    "start_time": "2022-07-27T20:32:28.601Z"
   },
   {
    "duration": 28,
    "start_time": "2022-07-27T20:32:30.731Z"
   },
   {
    "duration": 18,
    "start_time": "2022-07-27T20:34:21.198Z"
   },
   {
    "duration": 15,
    "start_time": "2022-07-27T20:36:50.899Z"
   },
   {
    "duration": 322,
    "start_time": "2022-07-27T20:38:37.116Z"
   },
   {
    "duration": 491,
    "start_time": "2022-07-27T20:39:42.587Z"
   },
   {
    "duration": 319,
    "start_time": "2022-07-27T20:39:57.452Z"
   },
   {
    "duration": 17,
    "start_time": "2022-07-27T20:40:06.692Z"
   },
   {
    "duration": 711,
    "start_time": "2022-07-27T20:44:34.976Z"
   },
   {
    "duration": 18,
    "start_time": "2022-07-27T20:44:36.257Z"
   },
   {
    "duration": 2,
    "start_time": "2022-07-27T20:45:30.747Z"
   },
   {
    "duration": 19,
    "start_time": "2022-07-27T20:45:30.751Z"
   },
   {
    "duration": 15,
    "start_time": "2022-07-27T20:45:30.772Z"
   },
   {
    "duration": 127,
    "start_time": "2022-07-27T20:45:30.789Z"
   },
   {
    "duration": 35,
    "start_time": "2022-07-27T20:45:30.926Z"
   },
   {
    "duration": 24,
    "start_time": "2022-07-27T20:45:30.963Z"
   },
   {
    "duration": 39,
    "start_time": "2022-07-27T20:45:30.989Z"
   },
   {
    "duration": 616,
    "start_time": "2022-07-27T20:45:33.480Z"
   },
   {
    "duration": 9,
    "start_time": "2022-07-27T20:46:14.807Z"
   },
   {
    "duration": 823,
    "start_time": "2022-07-27T20:47:33.837Z"
   },
   {
    "duration": 286,
    "start_time": "2022-07-27T20:47:49.152Z"
   },
   {
    "duration": 305,
    "start_time": "2022-07-27T20:48:51.383Z"
   },
   {
    "duration": 89515,
    "start_time": "2022-07-27T20:49:01.343Z"
   },
   {
    "duration": 275,
    "start_time": "2022-07-27T20:50:57.222Z"
   },
   {
    "duration": 259,
    "start_time": "2022-07-27T20:51:23.238Z"
   },
   {
    "duration": 134,
    "start_time": "2022-07-27T20:51:32.877Z"
   },
   {
    "duration": 5,
    "start_time": "2022-07-27T20:51:45.660Z"
   },
   {
    "duration": 8,
    "start_time": "2022-07-27T20:52:43.565Z"
   },
   {
    "duration": 11,
    "start_time": "2022-07-27T20:52:59.069Z"
   },
   {
    "duration": 43,
    "start_time": "2022-07-27T20:53:14.421Z"
   },
   {
    "duration": 11,
    "start_time": "2022-07-27T20:53:26.660Z"
   },
   {
    "duration": 6,
    "start_time": "2022-07-27T20:54:47.461Z"
   },
   {
    "duration": 26,
    "start_time": "2022-07-27T20:55:00.996Z"
   },
   {
    "duration": 25,
    "start_time": "2022-07-27T21:06:38.995Z"
   },
   {
    "duration": 81,
    "start_time": "2022-07-27T21:11:18.807Z"
   },
   {
    "duration": 318,
    "start_time": "2022-07-27T21:11:34.752Z"
   },
   {
    "duration": 22,
    "start_time": "2022-07-27T21:11:56.510Z"
   },
   {
    "duration": 18,
    "start_time": "2022-07-27T21:12:34.490Z"
   },
   {
    "duration": 28,
    "start_time": "2022-07-27T21:15:53.293Z"
   },
   {
    "duration": 10,
    "start_time": "2022-07-27T21:16:26.930Z"
   },
   {
    "duration": 18,
    "start_time": "2022-07-27T21:16:41.630Z"
   },
   {
    "duration": 22,
    "start_time": "2022-07-27T21:16:58.128Z"
   },
   {
    "duration": 16,
    "start_time": "2022-07-27T21:18:55.519Z"
   },
   {
    "duration": 14,
    "start_time": "2022-07-27T21:21:13.604Z"
   },
   {
    "duration": 10,
    "start_time": "2022-07-27T21:21:20.344Z"
   },
   {
    "duration": 9,
    "start_time": "2022-07-27T21:21:33.746Z"
   },
   {
    "duration": 15,
    "start_time": "2022-07-27T21:21:41.543Z"
   },
   {
    "duration": 4,
    "start_time": "2022-07-27T21:28:45.431Z"
   },
   {
    "duration": 14,
    "start_time": "2022-07-27T21:29:26.750Z"
   },
   {
    "duration": 45,
    "start_time": "2022-07-27T21:31:35.942Z"
   },
   {
    "duration": 7,
    "start_time": "2022-07-27T21:31:51.570Z"
   },
   {
    "duration": 10,
    "start_time": "2022-07-27T21:32:03.346Z"
   },
   {
    "duration": 20,
    "start_time": "2022-07-27T21:32:14.557Z"
   },
   {
    "duration": 2,
    "start_time": "2022-07-27T21:33:18.160Z"
   },
   {
    "duration": 6,
    "start_time": "2022-07-27T21:33:18.165Z"
   },
   {
    "duration": 5,
    "start_time": "2022-07-27T21:33:18.173Z"
   },
   {
    "duration": 103,
    "start_time": "2022-07-27T21:33:18.180Z"
   },
   {
    "duration": 43,
    "start_time": "2022-07-27T21:33:18.285Z"
   },
   {
    "duration": 18,
    "start_time": "2022-07-27T21:33:18.330Z"
   },
   {
    "duration": 25,
    "start_time": "2022-07-27T21:33:18.350Z"
   },
   {
    "duration": 20,
    "start_time": "2022-07-27T21:33:18.377Z"
   },
   {
    "duration": 13,
    "start_time": "2022-07-27T21:33:25.815Z"
   },
   {
    "duration": 19,
    "start_time": "2022-07-27T21:33:29.765Z"
   },
   {
    "duration": 7,
    "start_time": "2022-07-27T21:34:52.273Z"
   },
   {
    "duration": 6,
    "start_time": "2022-07-27T21:35:06.796Z"
   },
   {
    "duration": 13,
    "start_time": "2022-07-27T21:35:09.068Z"
   },
   {
    "duration": 3,
    "start_time": "2022-07-27T21:35:51.027Z"
   },
   {
    "duration": 7,
    "start_time": "2022-07-27T21:35:51.032Z"
   },
   {
    "duration": 5,
    "start_time": "2022-07-27T21:35:51.041Z"
   },
   {
    "duration": 115,
    "start_time": "2022-07-27T21:35:51.047Z"
   },
   {
    "duration": 29,
    "start_time": "2022-07-27T21:35:51.164Z"
   },
   {
    "duration": 23,
    "start_time": "2022-07-27T21:35:51.195Z"
   },
   {
    "duration": 29,
    "start_time": "2022-07-27T21:35:51.222Z"
   },
   {
    "duration": 16,
    "start_time": "2022-07-27T21:35:51.253Z"
   },
   {
    "duration": 4,
    "start_time": "2022-07-27T21:35:55.748Z"
   },
   {
    "duration": 4,
    "start_time": "2022-07-27T21:36:24.803Z"
   },
   {
    "duration": 4,
    "start_time": "2022-07-27T21:36:30.045Z"
   },
   {
    "duration": 4,
    "start_time": "2022-07-27T21:36:33.923Z"
   },
   {
    "duration": 15,
    "start_time": "2022-07-27T21:36:39.231Z"
   },
   {
    "duration": 14,
    "start_time": "2022-07-27T21:37:14.731Z"
   },
   {
    "duration": 9,
    "start_time": "2022-07-27T21:37:24.922Z"
   },
   {
    "duration": 20,
    "start_time": "2022-07-27T21:37:25.670Z"
   },
   {
    "duration": 16,
    "start_time": "2022-07-27T21:40:34.809Z"
   },
   {
    "duration": 3,
    "start_time": "2022-07-27T21:40:49.321Z"
   },
   {
    "duration": 3,
    "start_time": "2022-07-27T21:40:49.331Z"
   },
   {
    "duration": 7,
    "start_time": "2022-07-27T21:40:49.336Z"
   },
   {
    "duration": 104,
    "start_time": "2022-07-27T21:40:49.345Z"
   },
   {
    "duration": 32,
    "start_time": "2022-07-27T21:40:49.451Z"
   },
   {
    "duration": 18,
    "start_time": "2022-07-27T21:40:49.485Z"
   },
   {
    "duration": 29,
    "start_time": "2022-07-27T21:40:49.505Z"
   },
   {
    "duration": 16,
    "start_time": "2022-07-27T21:40:49.536Z"
   },
   {
    "duration": 3,
    "start_time": "2022-07-27T21:40:49.554Z"
   },
   {
    "duration": 20,
    "start_time": "2022-07-27T21:40:53.330Z"
   },
   {
    "duration": 13,
    "start_time": "2022-07-27T21:41:00.327Z"
   },
   {
    "duration": 14,
    "start_time": "2022-07-27T21:42:55.234Z"
   },
   {
    "duration": 12,
    "start_time": "2022-07-27T21:43:09.430Z"
   },
   {
    "duration": 9,
    "start_time": "2022-07-27T21:43:30.125Z"
   },
   {
    "duration": 14,
    "start_time": "2022-07-27T21:43:45.393Z"
   },
   {
    "duration": 13,
    "start_time": "2022-07-27T21:43:56.337Z"
   },
   {
    "duration": 361,
    "start_time": "2022-07-27T21:44:51.842Z"
   },
   {
    "duration": 340,
    "start_time": "2022-07-27T21:48:53.967Z"
   },
   {
    "duration": 342,
    "start_time": "2022-07-27T21:49:30.038Z"
   },
   {
    "duration": 357,
    "start_time": "2022-07-27T21:49:50.921Z"
   },
   {
    "duration": 3,
    "start_time": "2022-07-27T21:49:57.484Z"
   },
   {
    "duration": 7,
    "start_time": "2022-07-27T21:49:57.489Z"
   },
   {
    "duration": 7,
    "start_time": "2022-07-27T21:49:57.498Z"
   },
   {
    "duration": 115,
    "start_time": "2022-07-27T21:49:57.507Z"
   },
   {
    "duration": 36,
    "start_time": "2022-07-27T21:49:57.625Z"
   },
   {
    "duration": 18,
    "start_time": "2022-07-27T21:49:57.663Z"
   },
   {
    "duration": 49,
    "start_time": "2022-07-27T21:49:57.682Z"
   },
   {
    "duration": 17,
    "start_time": "2022-07-27T21:49:57.733Z"
   },
   {
    "duration": 22,
    "start_time": "2022-07-27T21:49:57.753Z"
   },
   {
    "duration": 36,
    "start_time": "2022-07-27T21:49:57.778Z"
   },
   {
    "duration": 19,
    "start_time": "2022-07-27T21:49:57.815Z"
   },
   {
    "duration": 22,
    "start_time": "2022-07-27T21:49:57.836Z"
   },
   {
    "duration": 318,
    "start_time": "2022-07-27T21:50:11.728Z"
   },
   {
    "duration": 330,
    "start_time": "2022-07-27T21:50:25.891Z"
   },
   {
    "duration": 342,
    "start_time": "2022-07-27T21:51:08.129Z"
   },
   {
    "duration": 62,
    "start_time": "2022-07-27T21:51:27.927Z"
   },
   {
    "duration": 53,
    "start_time": "2022-07-27T21:52:21.134Z"
   },
   {
    "duration": 53,
    "start_time": "2022-07-27T21:54:20.028Z"
   },
   {
    "duration": 78,
    "start_time": "2022-07-27T21:54:49.684Z"
   },
   {
    "duration": 61,
    "start_time": "2022-07-27T21:55:03.405Z"
   },
   {
    "duration": 50,
    "start_time": "2022-07-27T21:56:44.532Z"
   },
   {
    "duration": 61,
    "start_time": "2022-07-27T21:56:52.611Z"
   },
   {
    "duration": 13,
    "start_time": "2022-07-27T21:58:00.630Z"
   },
   {
    "duration": 89,
    "start_time": "2022-07-27T21:59:13.684Z"
   },
   {
    "duration": 58,
    "start_time": "2022-07-27T21:59:36.885Z"
   },
   {
    "duration": 51,
    "start_time": "2022-07-27T21:59:43.426Z"
   },
   {
    "duration": 5,
    "start_time": "2022-07-27T21:59:50.774Z"
   },
   {
    "duration": 21,
    "start_time": "2022-07-27T21:59:54.836Z"
   },
   {
    "duration": 55,
    "start_time": "2022-07-27T22:02:11.027Z"
   },
   {
    "duration": 340,
    "start_time": "2022-07-27T22:03:04.089Z"
   },
   {
    "duration": 93,
    "start_time": "2022-07-27T22:03:30.648Z"
   },
   {
    "duration": 10,
    "start_time": "2022-07-27T22:03:43.312Z"
   },
   {
    "duration": 7,
    "start_time": "2022-07-27T22:04:32.377Z"
   },
   {
    "duration": 2,
    "start_time": "2022-07-27T22:05:10.327Z"
   },
   {
    "duration": 8,
    "start_time": "2022-07-27T22:05:10.331Z"
   },
   {
    "duration": 6,
    "start_time": "2022-07-27T22:05:10.341Z"
   },
   {
    "duration": 104,
    "start_time": "2022-07-27T22:05:10.350Z"
   },
   {
    "duration": 30,
    "start_time": "2022-07-27T22:05:10.456Z"
   },
   {
    "duration": 18,
    "start_time": "2022-07-27T22:05:10.488Z"
   },
   {
    "duration": 30,
    "start_time": "2022-07-27T22:05:10.508Z"
   },
   {
    "duration": 23,
    "start_time": "2022-07-27T22:05:10.539Z"
   },
   {
    "duration": 2,
    "start_time": "2022-07-27T22:05:10.564Z"
   },
   {
    "duration": 7,
    "start_time": "2022-07-27T22:05:10.567Z"
   },
   {
    "duration": 13,
    "start_time": "2022-07-27T22:05:13.281Z"
   },
   {
    "duration": 65,
    "start_time": "2022-07-27T22:05:31.176Z"
   },
   {
    "duration": 122,
    "start_time": "2022-07-27T22:05:42.247Z"
   },
   {
    "duration": 7,
    "start_time": "2022-07-27T22:05:49.294Z"
   },
   {
    "duration": 9,
    "start_time": "2022-07-27T22:06:19.215Z"
   },
   {
    "duration": 28,
    "start_time": "2022-07-27T22:06:19.232Z"
   },
   {
    "duration": 7,
    "start_time": "2022-07-27T22:06:19.262Z"
   },
   {
    "duration": 131,
    "start_time": "2022-07-27T22:06:19.270Z"
   },
   {
    "duration": 52,
    "start_time": "2022-07-27T22:06:19.404Z"
   },
   {
    "duration": 17,
    "start_time": "2022-07-27T22:06:19.458Z"
   },
   {
    "duration": 29,
    "start_time": "2022-07-27T22:06:19.477Z"
   },
   {
    "duration": 26,
    "start_time": "2022-07-27T22:06:19.508Z"
   },
   {
    "duration": 11,
    "start_time": "2022-07-27T22:06:19.537Z"
   },
   {
    "duration": 6,
    "start_time": "2022-07-27T22:06:19.550Z"
   },
   {
    "duration": 18,
    "start_time": "2022-07-27T22:06:19.558Z"
   },
   {
    "duration": 107,
    "start_time": "2022-07-27T22:06:35.502Z"
   },
   {
    "duration": 13,
    "start_time": "2022-07-27T22:06:53.606Z"
   },
   {
    "duration": 10,
    "start_time": "2022-07-27T22:07:02.418Z"
   },
   {
    "duration": 103,
    "start_time": "2022-07-27T22:07:14.488Z"
   },
   {
    "duration": 7,
    "start_time": "2022-07-27T22:07:15.974Z"
   },
   {
    "duration": 753,
    "start_time": "2022-07-27T22:07:39.686Z"
   },
   {
    "duration": 6,
    "start_time": "2022-07-27T22:07:56.862Z"
   },
   {
    "duration": 774,
    "start_time": "2022-07-27T22:08:02.374Z"
   },
   {
    "duration": 125,
    "start_time": "2022-07-27T22:08:28.583Z"
   },
   {
    "duration": 7,
    "start_time": "2022-07-27T22:08:32.250Z"
   },
   {
    "duration": 4,
    "start_time": "2022-07-27T22:08:37.732Z"
   },
   {
    "duration": 7,
    "start_time": "2022-07-27T22:08:37.743Z"
   },
   {
    "duration": 37,
    "start_time": "2022-07-27T22:08:37.752Z"
   },
   {
    "duration": 169,
    "start_time": "2022-07-27T22:08:37.792Z"
   },
   {
    "duration": 30,
    "start_time": "2022-07-27T22:08:37.963Z"
   },
   {
    "duration": 32,
    "start_time": "2022-07-27T22:08:37.994Z"
   },
   {
    "duration": 46,
    "start_time": "2022-07-27T22:08:38.029Z"
   },
   {
    "duration": 18,
    "start_time": "2022-07-27T22:08:38.078Z"
   },
   {
    "duration": 9,
    "start_time": "2022-07-27T22:08:38.099Z"
   },
   {
    "duration": 39,
    "start_time": "2022-07-27T22:08:38.113Z"
   },
   {
    "duration": 28,
    "start_time": "2022-07-27T22:08:38.154Z"
   },
   {
    "duration": 100,
    "start_time": "2022-07-27T22:08:38.183Z"
   },
   {
    "duration": 6,
    "start_time": "2022-07-27T22:08:41.669Z"
   },
   {
    "duration": 4,
    "start_time": "2022-07-27T22:08:43.442Z"
   },
   {
    "duration": 14,
    "start_time": "2022-07-27T22:08:45.243Z"
   },
   {
    "duration": 3,
    "start_time": "2022-07-27T22:10:24.848Z"
   },
   {
    "duration": 6,
    "start_time": "2022-07-27T22:10:24.853Z"
   },
   {
    "duration": 18,
    "start_time": "2022-07-27T22:10:24.861Z"
   },
   {
    "duration": 123,
    "start_time": "2022-07-27T22:10:24.881Z"
   },
   {
    "duration": 42,
    "start_time": "2022-07-27T22:10:25.007Z"
   },
   {
    "duration": 18,
    "start_time": "2022-07-27T22:10:25.052Z"
   },
   {
    "duration": 66,
    "start_time": "2022-07-27T22:10:25.072Z"
   },
   {
    "duration": 18,
    "start_time": "2022-07-27T22:10:25.142Z"
   },
   {
    "duration": 113,
    "start_time": "2022-07-27T22:10:25.162Z"
   },
   {
    "duration": 3,
    "start_time": "2022-07-27T22:10:25.277Z"
   },
   {
    "duration": 3,
    "start_time": "2022-07-27T22:10:29.949Z"
   },
   {
    "duration": 16,
    "start_time": "2022-07-27T22:10:30.234Z"
   },
   {
    "duration": 378,
    "start_time": "2022-07-28T09:57:33.859Z"
   },
   {
    "duration": 175,
    "start_time": "2022-07-28T09:57:34.239Z"
   },
   {
    "duration": 32,
    "start_time": "2022-07-28T09:57:34.416Z"
   },
   {
    "duration": 14,
    "start_time": "2022-07-28T09:57:34.450Z"
   },
   {
    "duration": 20,
    "start_time": "2022-07-28T09:57:34.466Z"
   },
   {
    "duration": 13,
    "start_time": "2022-07-28T09:57:34.488Z"
   },
   {
    "duration": 149,
    "start_time": "2022-07-28T09:57:34.503Z"
   },
   {
    "duration": 3,
    "start_time": "2022-07-28T09:57:34.653Z"
   },
   {
    "duration": 14,
    "start_time": "2022-07-28T09:57:34.658Z"
   },
   {
    "duration": 84,
    "start_time": "2022-07-28T09:57:34.674Z"
   },
   {
    "duration": 37,
    "start_time": "2022-07-28T09:57:34.760Z"
   },
   {
    "duration": 135,
    "start_time": "2022-07-28T09:57:34.798Z"
   },
   {
    "duration": 24,
    "start_time": "2022-07-28T09:57:34.934Z"
   },
   {
    "duration": 80,
    "start_time": "2022-07-28T09:57:34.960Z"
   },
   {
    "duration": 26,
    "start_time": "2022-07-28T09:57:35.042Z"
   },
   {
    "duration": 28,
    "start_time": "2022-07-28T09:58:31.078Z"
   },
   {
    "duration": 7,
    "start_time": "2022-07-28T09:59:14.189Z"
   },
   {
    "duration": 6,
    "start_time": "2022-07-28T09:59:19.043Z"
   },
   {
    "duration": 3,
    "start_time": "2022-07-28T09:59:39.832Z"
   },
   {
    "duration": 95,
    "start_time": "2022-07-28T09:59:39.837Z"
   },
   {
    "duration": 25,
    "start_time": "2022-07-28T09:59:39.935Z"
   },
   {
    "duration": 15,
    "start_time": "2022-07-28T09:59:39.961Z"
   },
   {
    "duration": 24,
    "start_time": "2022-07-28T09:59:39.978Z"
   },
   {
    "duration": 14,
    "start_time": "2022-07-28T09:59:40.004Z"
   },
   {
    "duration": 86,
    "start_time": "2022-07-28T09:59:42.714Z"
   },
   {
    "duration": 7,
    "start_time": "2022-07-28T09:59:45.914Z"
   },
   {
    "duration": 4,
    "start_time": "2022-07-28T09:59:49.890Z"
   },
   {
    "duration": 24,
    "start_time": "2022-07-28T09:59:50.395Z"
   },
   {
    "duration": 3,
    "start_time": "2022-07-28T10:00:37.614Z"
   },
   {
    "duration": 81,
    "start_time": "2022-07-28T10:00:37.619Z"
   },
   {
    "duration": 26,
    "start_time": "2022-07-28T10:00:37.702Z"
   },
   {
    "duration": 18,
    "start_time": "2022-07-28T10:00:37.730Z"
   },
   {
    "duration": 37,
    "start_time": "2022-07-28T10:00:37.750Z"
   },
   {
    "duration": 14,
    "start_time": "2022-07-28T10:00:37.788Z"
   },
   {
    "duration": 123,
    "start_time": "2022-07-28T10:00:44.476Z"
   },
   {
    "duration": 7,
    "start_time": "2022-07-28T10:00:46.602Z"
   },
   {
    "duration": 6,
    "start_time": "2022-07-28T10:00:54.387Z"
   },
   {
    "duration": 23,
    "start_time": "2022-07-28T10:00:55.539Z"
   },
   {
    "duration": 8,
    "start_time": "2022-07-28T10:01:43.329Z"
   },
   {
    "duration": 5,
    "start_time": "2022-07-28T10:01:51.818Z"
   },
   {
    "duration": 5,
    "start_time": "2022-07-28T10:01:58.860Z"
   },
   {
    "duration": 5,
    "start_time": "2022-07-28T10:02:02.787Z"
   },
   {
    "duration": 5,
    "start_time": "2022-07-28T10:02:07.866Z"
   },
   {
    "duration": 3,
    "start_time": "2022-07-28T10:02:14.586Z"
   },
   {
    "duration": 21,
    "start_time": "2022-07-28T10:02:15.234Z"
   },
   {
    "duration": 21,
    "start_time": "2022-07-28T10:03:37.769Z"
   },
   {
    "duration": 36,
    "start_time": "2022-07-28T10:09:06.866Z"
   },
   {
    "duration": 19,
    "start_time": "2022-07-28T10:12:02.791Z"
   },
   {
    "duration": 21,
    "start_time": "2022-07-28T10:15:37.494Z"
   },
   {
    "duration": 71,
    "start_time": "2022-07-28T10:15:38.684Z"
   },
   {
    "duration": 23,
    "start_time": "2022-07-28T10:15:39.862Z"
   },
   {
    "duration": 81,
    "start_time": "2022-07-28T10:16:30.364Z"
   },
   {
    "duration": 2,
    "start_time": "2022-07-28T10:16:37.332Z"
   },
   {
    "duration": 102,
    "start_time": "2022-07-28T10:16:37.336Z"
   },
   {
    "duration": 26,
    "start_time": "2022-07-28T10:16:37.440Z"
   },
   {
    "duration": 15,
    "start_time": "2022-07-28T10:16:37.467Z"
   },
   {
    "duration": 19,
    "start_time": "2022-07-28T10:16:37.484Z"
   },
   {
    "duration": 14,
    "start_time": "2022-07-28T10:16:37.505Z"
   },
   {
    "duration": 122,
    "start_time": "2022-07-28T10:16:37.520Z"
   },
   {
    "duration": 11,
    "start_time": "2022-07-28T10:16:37.643Z"
   },
   {
    "duration": 10,
    "start_time": "2022-07-28T10:16:37.656Z"
   },
   {
    "duration": 23,
    "start_time": "2022-07-28T10:16:37.667Z"
   },
   {
    "duration": 70,
    "start_time": "2022-07-28T10:16:37.692Z"
   },
   {
    "duration": 28,
    "start_time": "2022-07-28T10:16:37.765Z"
   },
   {
    "duration": 83,
    "start_time": "2022-07-28T10:16:37.797Z"
   },
   {
    "duration": 22,
    "start_time": "2022-07-28T10:16:37.882Z"
   },
   {
    "duration": 131,
    "start_time": "2022-07-28T10:16:37.906Z"
   },
   {
    "duration": 0,
    "start_time": "2022-07-28T10:16:38.038Z"
   },
   {
    "duration": 0,
    "start_time": "2022-07-28T10:16:38.040Z"
   },
   {
    "duration": 2,
    "start_time": "2022-07-28T10:16:44.848Z"
   },
   {
    "duration": 191,
    "start_time": "2022-07-28T10:16:44.852Z"
   },
   {
    "duration": 23,
    "start_time": "2022-07-28T10:16:45.046Z"
   },
   {
    "duration": 17,
    "start_time": "2022-07-28T10:16:45.070Z"
   },
   {
    "duration": 33,
    "start_time": "2022-07-28T10:16:45.090Z"
   },
   {
    "duration": 40,
    "start_time": "2022-07-28T10:16:45.125Z"
   },
   {
    "duration": 96,
    "start_time": "2022-07-28T10:16:45.167Z"
   },
   {
    "duration": 5,
    "start_time": "2022-07-28T10:16:45.264Z"
   },
   {
    "duration": 6,
    "start_time": "2022-07-28T10:16:45.271Z"
   },
   {
    "duration": 24,
    "start_time": "2022-07-28T10:16:45.278Z"
   },
   {
    "duration": 109,
    "start_time": "2022-07-28T10:16:45.304Z"
   },
   {
    "duration": 20,
    "start_time": "2022-07-28T10:16:45.415Z"
   },
   {
    "duration": 52,
    "start_time": "2022-07-28T10:16:45.437Z"
   },
   {
    "duration": 22,
    "start_time": "2022-07-28T10:16:45.490Z"
   },
   {
    "duration": 51,
    "start_time": "2022-07-28T10:16:45.514Z"
   },
   {
    "duration": 17,
    "start_time": "2022-07-28T10:16:45.566Z"
   },
   {
    "duration": 401,
    "start_time": "2022-07-28T11:44:07.990Z"
   },
   {
    "duration": 147,
    "start_time": "2022-07-28T11:44:08.394Z"
   },
   {
    "duration": 34,
    "start_time": "2022-07-28T11:44:08.543Z"
   },
   {
    "duration": 17,
    "start_time": "2022-07-28T11:44:08.579Z"
   },
   {
    "duration": 50,
    "start_time": "2022-07-28T11:44:08.598Z"
   },
   {
    "duration": 21,
    "start_time": "2022-07-28T11:44:08.650Z"
   },
   {
    "duration": 185,
    "start_time": "2022-07-28T11:44:08.672Z"
   },
   {
    "duration": 7,
    "start_time": "2022-07-28T11:44:08.858Z"
   },
   {
    "duration": 38,
    "start_time": "2022-07-28T11:44:08.867Z"
   },
   {
    "duration": 35,
    "start_time": "2022-07-28T11:44:08.907Z"
   },
   {
    "duration": 147,
    "start_time": "2022-07-28T11:44:08.944Z"
   },
   {
    "duration": 27,
    "start_time": "2022-07-28T11:44:09.093Z"
   },
   {
    "duration": 80,
    "start_time": "2022-07-28T11:44:09.122Z"
   },
   {
    "duration": 24,
    "start_time": "2022-07-28T11:44:09.205Z"
   },
   {
    "duration": 72,
    "start_time": "2022-07-28T11:44:09.230Z"
   },
   {
    "duration": 19,
    "start_time": "2022-07-28T11:44:09.305Z"
   },
   {
    "duration": 40,
    "start_time": "2022-07-28T11:51:46.576Z"
   },
   {
    "duration": 6,
    "start_time": "2022-07-28T11:52:02.928Z"
   },
   {
    "duration": 75,
    "start_time": "2022-07-28T11:52:34.119Z"
   },
   {
    "duration": 7,
    "start_time": "2022-07-28T11:52:41.180Z"
   },
   {
    "duration": 12,
    "start_time": "2022-07-28T11:52:53.253Z"
   },
   {
    "duration": 9,
    "start_time": "2022-07-28T11:53:05.388Z"
   },
   {
    "duration": 31,
    "start_time": "2022-07-28T11:53:36.619Z"
   },
   {
    "duration": 26,
    "start_time": "2022-07-28T11:53:53.179Z"
   },
   {
    "duration": 33,
    "start_time": "2022-07-28T11:54:07.069Z"
   },
   {
    "duration": 21,
    "start_time": "2022-07-28T11:54:19.712Z"
   },
   {
    "duration": 21,
    "start_time": "2022-07-28T12:00:08.658Z"
   },
   {
    "duration": 12,
    "start_time": "2022-07-28T12:02:44.762Z"
   },
   {
    "duration": 17,
    "start_time": "2022-07-28T12:05:28.065Z"
   },
   {
    "duration": 24,
    "start_time": "2022-07-28T12:05:33.088Z"
   },
   {
    "duration": 43,
    "start_time": "2022-07-28T12:07:25.856Z"
   },
   {
    "duration": 37,
    "start_time": "2022-07-28T12:07:51.497Z"
   },
   {
    "duration": 3,
    "start_time": "2022-07-28T12:08:16.385Z"
   },
   {
    "duration": 180,
    "start_time": "2022-07-28T12:08:16.392Z"
   },
   {
    "duration": 49,
    "start_time": "2022-07-28T12:08:16.575Z"
   },
   {
    "duration": 36,
    "start_time": "2022-07-28T12:08:16.627Z"
   },
   {
    "duration": 47,
    "start_time": "2022-07-28T12:08:16.667Z"
   },
   {
    "duration": 18,
    "start_time": "2022-07-28T12:08:16.716Z"
   },
   {
    "duration": 325,
    "start_time": "2022-07-28T12:08:16.735Z"
   },
   {
    "duration": 5,
    "start_time": "2022-07-28T12:08:17.064Z"
   },
   {
    "duration": 32,
    "start_time": "2022-07-28T12:08:17.071Z"
   },
   {
    "duration": 37,
    "start_time": "2022-07-28T12:08:17.105Z"
   },
   {
    "duration": 98,
    "start_time": "2022-07-28T12:08:17.144Z"
   },
   {
    "duration": 34,
    "start_time": "2022-07-28T12:08:17.244Z"
   },
   {
    "duration": 61,
    "start_time": "2022-07-28T12:08:17.280Z"
   },
   {
    "duration": 40,
    "start_time": "2022-07-28T12:08:17.343Z"
   },
   {
    "duration": 85,
    "start_time": "2022-07-28T12:08:17.385Z"
   },
   {
    "duration": 24,
    "start_time": "2022-07-28T12:08:17.472Z"
   },
   {
    "duration": 6,
    "start_time": "2022-07-28T12:08:44.504Z"
   },
   {
    "duration": 46,
    "start_time": "2022-07-28T12:08:53.321Z"
   },
   {
    "duration": 4,
    "start_time": "2022-07-28T12:08:59.207Z"
   },
   {
    "duration": 3,
    "start_time": "2022-07-28T12:10:13.601Z"
   },
   {
    "duration": 301,
    "start_time": "2022-07-28T12:10:13.606Z"
   },
   {
    "duration": 36,
    "start_time": "2022-07-28T12:10:13.910Z"
   },
   {
    "duration": 18,
    "start_time": "2022-07-28T12:10:13.948Z"
   },
   {
    "duration": 24,
    "start_time": "2022-07-28T12:10:13.969Z"
   },
   {
    "duration": 15,
    "start_time": "2022-07-28T12:10:13.995Z"
   },
   {
    "duration": 113,
    "start_time": "2022-07-28T12:10:14.012Z"
   },
   {
    "duration": 5,
    "start_time": "2022-07-28T12:10:14.127Z"
   },
   {
    "duration": 8,
    "start_time": "2022-07-28T12:10:14.134Z"
   },
   {
    "duration": 36,
    "start_time": "2022-07-28T12:10:14.144Z"
   },
   {
    "duration": 58,
    "start_time": "2022-07-28T12:10:14.182Z"
   },
   {
    "duration": 26,
    "start_time": "2022-07-28T12:10:14.242Z"
   },
   {
    "duration": 54,
    "start_time": "2022-07-28T12:10:14.271Z"
   },
   {
    "duration": 30,
    "start_time": "2022-07-28T12:10:14.326Z"
   },
   {
    "duration": 96,
    "start_time": "2022-07-28T12:10:14.358Z"
   },
   {
    "duration": 22,
    "start_time": "2022-07-28T12:10:14.455Z"
   },
   {
    "duration": 31,
    "start_time": "2022-07-28T12:10:18.890Z"
   },
   {
    "duration": 4,
    "start_time": "2022-07-28T12:10:22.006Z"
   },
   {
    "duration": 24,
    "start_time": "2022-07-28T12:11:21.071Z"
   },
   {
    "duration": 454,
    "start_time": "2022-07-28T12:13:17.628Z"
   },
   {
    "duration": 23,
    "start_time": "2022-07-28T12:13:26.625Z"
   },
   {
    "duration": 4,
    "start_time": "2022-07-28T12:16:00.323Z"
   },
   {
    "duration": 26,
    "start_time": "2022-07-28T12:16:14.044Z"
   },
   {
    "duration": 21,
    "start_time": "2022-07-28T12:17:09.687Z"
   },
   {
    "duration": 3,
    "start_time": "2022-07-28T12:17:53.925Z"
   },
   {
    "duration": 76,
    "start_time": "2022-07-28T12:17:53.930Z"
   },
   {
    "duration": 33,
    "start_time": "2022-07-28T12:17:54.008Z"
   },
   {
    "duration": 14,
    "start_time": "2022-07-28T12:17:54.043Z"
   },
   {
    "duration": 37,
    "start_time": "2022-07-28T12:17:54.059Z"
   },
   {
    "duration": 16,
    "start_time": "2022-07-28T12:17:54.098Z"
   },
   {
    "duration": 103,
    "start_time": "2022-07-28T12:17:54.116Z"
   },
   {
    "duration": 6,
    "start_time": "2022-07-28T12:17:54.220Z"
   },
   {
    "duration": 10,
    "start_time": "2022-07-28T12:17:54.228Z"
   },
   {
    "duration": 40,
    "start_time": "2022-07-28T12:17:54.240Z"
   },
   {
    "duration": 263,
    "start_time": "2022-07-28T12:17:54.284Z"
   },
   {
    "duration": 38,
    "start_time": "2022-07-28T12:17:54.549Z"
   },
   {
    "duration": 51,
    "start_time": "2022-07-28T12:17:54.589Z"
   },
   {
    "duration": 40,
    "start_time": "2022-07-28T12:17:54.642Z"
   },
   {
    "duration": 47,
    "start_time": "2022-07-28T12:17:54.686Z"
   },
   {
    "duration": 21,
    "start_time": "2022-07-28T12:17:54.735Z"
   },
   {
    "duration": 35,
    "start_time": "2022-07-28T12:17:54.757Z"
   },
   {
    "duration": 25,
    "start_time": "2022-07-28T12:17:54.794Z"
   },
   {
    "duration": 6,
    "start_time": "2022-07-28T12:17:54.821Z"
   },
   {
    "duration": 20,
    "start_time": "2022-07-28T12:17:59.042Z"
   },
   {
    "duration": 28,
    "start_time": "2022-07-28T12:18:05.987Z"
   },
   {
    "duration": 23,
    "start_time": "2022-07-28T12:18:20.692Z"
   },
   {
    "duration": 3,
    "start_time": "2022-07-28T12:27:19.136Z"
   },
   {
    "duration": 75,
    "start_time": "2022-07-28T12:27:19.141Z"
   },
   {
    "duration": 31,
    "start_time": "2022-07-28T12:27:19.218Z"
   },
   {
    "duration": 17,
    "start_time": "2022-07-28T12:27:19.251Z"
   },
   {
    "duration": 35,
    "start_time": "2022-07-28T12:27:19.271Z"
   },
   {
    "duration": 15,
    "start_time": "2022-07-28T12:27:19.308Z"
   },
   {
    "duration": 117,
    "start_time": "2022-07-28T12:27:19.324Z"
   },
   {
    "duration": 5,
    "start_time": "2022-07-28T12:27:19.442Z"
   },
   {
    "duration": 6,
    "start_time": "2022-07-28T12:27:19.461Z"
   },
   {
    "duration": 28,
    "start_time": "2022-07-28T12:27:19.469Z"
   },
   {
    "duration": 135,
    "start_time": "2022-07-28T12:27:19.498Z"
   },
   {
    "duration": 29,
    "start_time": "2022-07-28T12:27:19.635Z"
   },
   {
    "duration": 52,
    "start_time": "2022-07-28T12:27:19.666Z"
   },
   {
    "duration": 32,
    "start_time": "2022-07-28T12:27:19.721Z"
   },
   {
    "duration": 66,
    "start_time": "2022-07-28T12:27:19.754Z"
   },
   {
    "duration": 24,
    "start_time": "2022-07-28T12:27:19.822Z"
   },
   {
    "duration": 27,
    "start_time": "2022-07-28T12:27:19.848Z"
   },
   {
    "duration": 24,
    "start_time": "2022-07-28T12:27:19.877Z"
   },
   {
    "duration": 7,
    "start_time": "2022-07-28T12:27:19.903Z"
   },
   {
    "duration": 18,
    "start_time": "2022-07-28T12:27:24.034Z"
   },
   {
    "duration": 18,
    "start_time": "2022-07-28T12:27:26.251Z"
   },
   {
    "duration": 20,
    "start_time": "2022-07-28T12:28:04.139Z"
   },
   {
    "duration": 20,
    "start_time": "2022-07-28T12:28:05.698Z"
   },
   {
    "duration": 12,
    "start_time": "2022-07-28T12:28:17.335Z"
   },
   {
    "duration": 20,
    "start_time": "2022-07-28T12:36:45.529Z"
   },
   {
    "duration": 3,
    "start_time": "2022-07-28T12:53:19.110Z"
   },
   {
    "duration": 116,
    "start_time": "2022-07-28T12:53:19.115Z"
   },
   {
    "duration": 34,
    "start_time": "2022-07-28T12:53:19.233Z"
   },
   {
    "duration": 16,
    "start_time": "2022-07-28T12:53:19.269Z"
   },
   {
    "duration": 28,
    "start_time": "2022-07-28T12:53:19.287Z"
   },
   {
    "duration": 14,
    "start_time": "2022-07-28T12:53:19.316Z"
   },
   {
    "duration": 142,
    "start_time": "2022-07-28T12:53:19.332Z"
   },
   {
    "duration": 7,
    "start_time": "2022-07-28T12:53:19.476Z"
   },
   {
    "duration": 12,
    "start_time": "2022-07-28T12:53:19.486Z"
   },
   {
    "duration": 29,
    "start_time": "2022-07-28T12:53:19.500Z"
   },
   {
    "duration": 50,
    "start_time": "2022-07-28T12:53:19.530Z"
   },
   {
    "duration": 34,
    "start_time": "2022-07-28T12:53:19.583Z"
   },
   {
    "duration": 58,
    "start_time": "2022-07-28T12:53:19.619Z"
   },
   {
    "duration": 40,
    "start_time": "2022-07-28T12:53:19.679Z"
   },
   {
    "duration": 40,
    "start_time": "2022-07-28T12:53:19.721Z"
   },
   {
    "duration": 31,
    "start_time": "2022-07-28T12:53:19.763Z"
   },
   {
    "duration": 28,
    "start_time": "2022-07-28T12:53:19.796Z"
   },
   {
    "duration": 53,
    "start_time": "2022-07-28T12:53:19.826Z"
   },
   {
    "duration": 9,
    "start_time": "2022-07-28T12:53:19.881Z"
   },
   {
    "duration": 17,
    "start_time": "2022-07-28T12:53:19.892Z"
   },
   {
    "duration": 19,
    "start_time": "2022-07-28T12:53:19.911Z"
   },
   {
    "duration": 54,
    "start_time": "2022-07-28T12:53:19.931Z"
   },
   {
    "duration": 28,
    "start_time": "2022-07-28T12:53:19.987Z"
   },
   {
    "duration": 11,
    "start_time": "2022-07-28T12:53:20.019Z"
   },
   {
    "duration": 3,
    "start_time": "2022-07-28T12:54:06.923Z"
   },
   {
    "duration": 82,
    "start_time": "2022-07-28T12:54:06.928Z"
   },
   {
    "duration": 32,
    "start_time": "2022-07-28T12:54:07.012Z"
   },
   {
    "duration": 16,
    "start_time": "2022-07-28T12:54:07.045Z"
   },
   {
    "duration": 26,
    "start_time": "2022-07-28T12:54:07.063Z"
   },
   {
    "duration": 20,
    "start_time": "2022-07-28T12:54:07.091Z"
   },
   {
    "duration": 114,
    "start_time": "2022-07-28T12:54:07.112Z"
   },
   {
    "duration": 5,
    "start_time": "2022-07-28T12:54:07.228Z"
   },
   {
    "duration": 8,
    "start_time": "2022-07-28T12:54:07.234Z"
   },
   {
    "duration": 32,
    "start_time": "2022-07-28T12:54:07.243Z"
   },
   {
    "duration": 72,
    "start_time": "2022-07-28T12:54:07.277Z"
   },
   {
    "duration": 26,
    "start_time": "2022-07-28T12:54:07.351Z"
   },
   {
    "duration": 66,
    "start_time": "2022-07-28T12:54:07.379Z"
   },
   {
    "duration": 33,
    "start_time": "2022-07-28T12:54:07.448Z"
   },
   {
    "duration": 44,
    "start_time": "2022-07-28T12:54:07.483Z"
   },
   {
    "duration": 20,
    "start_time": "2022-07-28T12:54:07.529Z"
   },
   {
    "duration": 29,
    "start_time": "2022-07-28T12:54:07.551Z"
   },
   {
    "duration": 30,
    "start_time": "2022-07-28T12:54:07.582Z"
   },
   {
    "duration": 6,
    "start_time": "2022-07-28T12:54:07.614Z"
   },
   {
    "duration": 16,
    "start_time": "2022-07-28T12:54:07.622Z"
   },
   {
    "duration": 31,
    "start_time": "2022-07-28T12:54:07.640Z"
   },
   {
    "duration": 26,
    "start_time": "2022-07-28T12:54:07.673Z"
   },
   {
    "duration": 22,
    "start_time": "2022-07-28T12:54:07.701Z"
   },
   {
    "duration": 40,
    "start_time": "2022-07-28T12:54:07.724Z"
   },
   {
    "duration": 146,
    "start_time": "2022-07-28T12:56:46.258Z"
   },
   {
    "duration": 15,
    "start_time": "2022-07-28T12:57:43.577Z"
   },
   {
    "duration": 10,
    "start_time": "2022-07-28T12:59:14.641Z"
   },
   {
    "duration": 23,
    "start_time": "2022-07-28T12:59:49.184Z"
   },
   {
    "duration": 2,
    "start_time": "2022-07-28T12:59:53.894Z"
   },
   {
    "duration": 105,
    "start_time": "2022-07-28T12:59:53.911Z"
   },
   {
    "duration": 32,
    "start_time": "2022-07-28T12:59:54.018Z"
   },
   {
    "duration": 14,
    "start_time": "2022-07-28T12:59:54.051Z"
   },
   {
    "duration": 30,
    "start_time": "2022-07-28T12:59:54.067Z"
   },
   {
    "duration": 14,
    "start_time": "2022-07-28T12:59:54.100Z"
   },
   {
    "duration": 113,
    "start_time": "2022-07-28T12:59:54.116Z"
   },
   {
    "duration": 5,
    "start_time": "2022-07-28T12:59:54.231Z"
   },
   {
    "duration": 11,
    "start_time": "2022-07-28T12:59:54.237Z"
   },
   {
    "duration": 28,
    "start_time": "2022-07-28T12:59:54.249Z"
   },
   {
    "duration": 59,
    "start_time": "2022-07-28T12:59:54.279Z"
   },
   {
    "duration": 26,
    "start_time": "2022-07-28T12:59:54.340Z"
   },
   {
    "duration": 45,
    "start_time": "2022-07-28T12:59:54.367Z"
   },
   {
    "duration": 28,
    "start_time": "2022-07-28T12:59:54.414Z"
   },
   {
    "duration": 61,
    "start_time": "2022-07-28T12:59:54.444Z"
   },
   {
    "duration": 22,
    "start_time": "2022-07-28T12:59:54.507Z"
   },
   {
    "duration": 25,
    "start_time": "2022-07-28T12:59:54.530Z"
   },
   {
    "duration": 26,
    "start_time": "2022-07-28T12:59:54.556Z"
   },
   {
    "duration": 38,
    "start_time": "2022-07-28T13:00:01.977Z"
   },
   {
    "duration": 29,
    "start_time": "2022-07-28T13:00:05.367Z"
   },
   {
    "duration": 6,
    "start_time": "2022-07-28T13:00:12.055Z"
   },
   {
    "duration": 17,
    "start_time": "2022-07-28T13:00:12.865Z"
   },
   {
    "duration": 15,
    "start_time": "2022-07-28T13:00:15.319Z"
   },
   {
    "duration": 22,
    "start_time": "2022-07-28T13:00:19.264Z"
   },
   {
    "duration": 20,
    "start_time": "2022-07-28T13:00:22.537Z"
   },
   {
    "duration": 15,
    "start_time": "2022-07-28T13:00:34.985Z"
   },
   {
    "duration": 6,
    "start_time": "2022-07-28T13:02:24.514Z"
   },
   {
    "duration": 7,
    "start_time": "2022-07-28T13:04:43.781Z"
   },
   {
    "duration": 8,
    "start_time": "2022-07-28T13:04:56.828Z"
   },
   {
    "duration": 4,
    "start_time": "2022-07-28T13:05:28.281Z"
   },
   {
    "duration": 94,
    "start_time": "2022-07-28T13:05:28.287Z"
   },
   {
    "duration": 38,
    "start_time": "2022-07-28T13:05:28.383Z"
   },
   {
    "duration": 15,
    "start_time": "2022-07-28T13:05:28.423Z"
   },
   {
    "duration": 45,
    "start_time": "2022-07-28T13:05:28.440Z"
   },
   {
    "duration": 16,
    "start_time": "2022-07-28T13:05:28.488Z"
   },
   {
    "duration": 122,
    "start_time": "2022-07-28T13:05:28.506Z"
   },
   {
    "duration": 6,
    "start_time": "2022-07-28T13:05:28.629Z"
   },
   {
    "duration": 8,
    "start_time": "2022-07-28T13:05:28.637Z"
   },
   {
    "duration": 46,
    "start_time": "2022-07-28T13:05:28.647Z"
   },
   {
    "duration": 48,
    "start_time": "2022-07-28T13:05:28.695Z"
   },
   {
    "duration": 29,
    "start_time": "2022-07-28T13:05:28.745Z"
   },
   {
    "duration": 48,
    "start_time": "2022-07-28T13:05:28.776Z"
   },
   {
    "duration": 35,
    "start_time": "2022-07-28T13:05:28.826Z"
   },
   {
    "duration": 51,
    "start_time": "2022-07-28T13:05:28.863Z"
   },
   {
    "duration": 20,
    "start_time": "2022-07-28T13:05:28.916Z"
   },
   {
    "duration": 4,
    "start_time": "2022-07-28T13:05:28.937Z"
   },
   {
    "duration": 4,
    "start_time": "2022-07-28T13:05:31.853Z"
   },
   {
    "duration": 8,
    "start_time": "2022-07-28T13:05:34.374Z"
   },
   {
    "duration": 6,
    "start_time": "2022-07-28T13:05:56.127Z"
   },
   {
    "duration": 3,
    "start_time": "2022-07-28T13:06:07.144Z"
   },
   {
    "duration": 75,
    "start_time": "2022-07-28T13:06:07.149Z"
   },
   {
    "duration": 32,
    "start_time": "2022-07-28T13:06:07.226Z"
   },
   {
    "duration": 16,
    "start_time": "2022-07-28T13:06:07.260Z"
   },
   {
    "duration": 29,
    "start_time": "2022-07-28T13:06:07.278Z"
   },
   {
    "duration": 15,
    "start_time": "2022-07-28T13:06:07.308Z"
   },
   {
    "duration": 277,
    "start_time": "2022-07-28T13:06:07.325Z"
   },
   {
    "duration": 6,
    "start_time": "2022-07-28T13:06:07.603Z"
   },
   {
    "duration": 9,
    "start_time": "2022-07-28T13:06:07.610Z"
   },
   {
    "duration": 24,
    "start_time": "2022-07-28T13:06:07.621Z"
   },
   {
    "duration": 45,
    "start_time": "2022-07-28T13:06:07.660Z"
   },
   {
    "duration": 32,
    "start_time": "2022-07-28T13:06:07.707Z"
   },
   {
    "duration": 48,
    "start_time": "2022-07-28T13:06:07.741Z"
   },
   {
    "duration": 35,
    "start_time": "2022-07-28T13:06:07.792Z"
   },
   {
    "duration": 48,
    "start_time": "2022-07-28T13:06:07.829Z"
   },
   {
    "duration": 25,
    "start_time": "2022-07-28T13:06:07.879Z"
   },
   {
    "duration": 5,
    "start_time": "2022-07-28T13:06:07.906Z"
   },
   {
    "duration": 5,
    "start_time": "2022-07-28T13:06:10.284Z"
   },
   {
    "duration": 9,
    "start_time": "2022-07-28T13:06:11.660Z"
   },
   {
    "duration": 10,
    "start_time": "2022-07-28T13:06:23.261Z"
   },
   {
    "duration": 5,
    "start_time": "2022-07-28T14:48:49.525Z"
   },
   {
    "duration": 7,
    "start_time": "2022-07-28T14:49:49.523Z"
   },
   {
    "duration": 16,
    "start_time": "2022-07-28T14:50:01.556Z"
   },
   {
    "duration": 8,
    "start_time": "2022-07-28T14:52:07.209Z"
   },
   {
    "duration": 4,
    "start_time": "2022-07-28T14:53:15.395Z"
   },
   {
    "duration": 17,
    "start_time": "2022-07-28T14:53:23.361Z"
   },
   {
    "duration": 6,
    "start_time": "2022-07-28T14:53:36.124Z"
   },
   {
    "duration": 12,
    "start_time": "2022-07-28T14:55:54.641Z"
   },
   {
    "duration": 17,
    "start_time": "2022-07-28T14:56:12.633Z"
   },
   {
    "duration": 2,
    "start_time": "2022-07-28T15:00:10.842Z"
   },
   {
    "duration": 94,
    "start_time": "2022-07-28T15:00:10.846Z"
   },
   {
    "duration": 46,
    "start_time": "2022-07-28T15:00:10.942Z"
   },
   {
    "duration": 20,
    "start_time": "2022-07-28T15:00:10.990Z"
   },
   {
    "duration": 21,
    "start_time": "2022-07-28T15:00:11.012Z"
   },
   {
    "duration": 45,
    "start_time": "2022-07-28T15:00:11.035Z"
   },
   {
    "duration": 110,
    "start_time": "2022-07-28T15:00:11.082Z"
   },
   {
    "duration": 5,
    "start_time": "2022-07-28T15:00:11.194Z"
   },
   {
    "duration": 16,
    "start_time": "2022-07-28T15:00:11.201Z"
   },
   {
    "duration": 30,
    "start_time": "2022-07-28T15:00:11.219Z"
   },
   {
    "duration": 17,
    "start_time": "2022-07-28T15:00:11.251Z"
   },
   {
    "duration": 10,
    "start_time": "2022-07-28T15:00:11.277Z"
   },
   {
    "duration": 47,
    "start_time": "2022-07-28T15:00:11.289Z"
   },
   {
    "duration": 29,
    "start_time": "2022-07-28T15:00:11.338Z"
   },
   {
    "duration": 15,
    "start_time": "2022-07-28T15:00:11.368Z"
   },
   {
    "duration": 28,
    "start_time": "2022-07-28T15:00:11.385Z"
   },
   {
    "duration": 56,
    "start_time": "2022-07-28T15:00:11.415Z"
   },
   {
    "duration": 34,
    "start_time": "2022-07-28T15:00:11.480Z"
   },
   {
    "duration": 53,
    "start_time": "2022-07-28T15:00:11.515Z"
   },
   {
    "duration": 30,
    "start_time": "2022-07-28T15:00:11.570Z"
   },
   {
    "duration": 5,
    "start_time": "2022-07-28T15:00:11.602Z"
   },
   {
    "duration": 10,
    "start_time": "2022-07-28T15:00:11.609Z"
   },
   {
    "duration": 53,
    "start_time": "2022-07-28T15:00:11.621Z"
   },
   {
    "duration": 35,
    "start_time": "2022-07-28T15:00:11.680Z"
   },
   {
    "duration": 43,
    "start_time": "2022-07-28T15:00:27.037Z"
   },
   {
    "duration": 8,
    "start_time": "2022-07-28T15:00:35.653Z"
   },
   {
    "duration": 33,
    "start_time": "2022-07-28T15:00:37.655Z"
   },
   {
    "duration": 14,
    "start_time": "2022-07-28T15:00:58.902Z"
   },
   {
    "duration": 23,
    "start_time": "2022-07-28T15:01:09.378Z"
   },
   {
    "duration": 20,
    "start_time": "2022-07-28T15:01:11.927Z"
   },
   {
    "duration": 13,
    "start_time": "2022-07-28T15:01:19.445Z"
   },
   {
    "duration": 15,
    "start_time": "2022-07-28T15:02:15.053Z"
   },
   {
    "duration": 6,
    "start_time": "2022-07-28T15:03:13.643Z"
   },
   {
    "duration": 5,
    "start_time": "2022-07-28T15:03:18.209Z"
   },
   {
    "duration": 20,
    "start_time": "2022-07-28T15:03:25.222Z"
   },
   {
    "duration": 8,
    "start_time": "2022-07-28T15:04:17.009Z"
   },
   {
    "duration": 659,
    "start_time": "2022-07-28T15:04:41.533Z"
   },
   {
    "duration": 9,
    "start_time": "2022-07-28T15:04:48.996Z"
   },
   {
    "duration": 21,
    "start_time": "2022-07-28T15:05:27.738Z"
   },
   {
    "duration": 49,
    "start_time": "2022-07-28T15:06:55.834Z"
   },
   {
    "duration": 3,
    "start_time": "2022-07-28T15:07:34.637Z"
   },
   {
    "duration": 121,
    "start_time": "2022-07-28T15:07:38.356Z"
   },
   {
    "duration": 205,
    "start_time": "2022-07-28T15:07:53.788Z"
   },
   {
    "duration": 31,
    "start_time": "2022-07-28T15:08:45.532Z"
   },
   {
    "duration": 32,
    "start_time": "2022-07-28T15:08:51.297Z"
   },
   {
    "duration": 114,
    "start_time": "2022-07-28T15:09:23.952Z"
   },
   {
    "duration": 44,
    "start_time": "2022-07-28T15:09:54.258Z"
   },
   {
    "duration": 46,
    "start_time": "2022-07-28T15:09:58.156Z"
   },
   {
    "duration": 3,
    "start_time": "2022-07-28T15:11:47.935Z"
   },
   {
    "duration": 103,
    "start_time": "2022-07-28T15:11:47.940Z"
   },
   {
    "duration": 40,
    "start_time": "2022-07-28T15:11:48.044Z"
   },
   {
    "duration": 23,
    "start_time": "2022-07-28T15:11:48.086Z"
   },
   {
    "duration": 26,
    "start_time": "2022-07-28T15:11:48.112Z"
   },
   {
    "duration": 41,
    "start_time": "2022-07-28T15:11:48.140Z"
   },
   {
    "duration": 124,
    "start_time": "2022-07-28T15:11:48.183Z"
   },
   {
    "duration": 6,
    "start_time": "2022-07-28T15:11:48.309Z"
   },
   {
    "duration": 10,
    "start_time": "2022-07-28T15:11:48.317Z"
   },
   {
    "duration": 37,
    "start_time": "2022-07-28T15:11:48.329Z"
   },
   {
    "duration": 12,
    "start_time": "2022-07-28T15:11:48.368Z"
   },
   {
    "duration": 15,
    "start_time": "2022-07-28T15:11:48.383Z"
   },
   {
    "duration": 45,
    "start_time": "2022-07-28T15:11:48.400Z"
   },
   {
    "duration": 37,
    "start_time": "2022-07-28T15:11:48.448Z"
   },
   {
    "duration": 7,
    "start_time": "2022-07-28T15:11:48.486Z"
   },
   {
    "duration": 22,
    "start_time": "2022-07-28T15:11:48.494Z"
   },
   {
    "duration": 50,
    "start_time": "2022-07-28T15:11:48.517Z"
   },
   {
    "duration": 38,
    "start_time": "2022-07-28T15:11:48.572Z"
   },
   {
    "duration": 41,
    "start_time": "2022-07-28T15:11:48.611Z"
   },
   {
    "duration": 29,
    "start_time": "2022-07-28T15:11:48.654Z"
   },
   {
    "duration": 18,
    "start_time": "2022-07-28T15:11:48.685Z"
   },
   {
    "duration": 19,
    "start_time": "2022-07-28T15:11:48.705Z"
   },
   {
    "duration": 41,
    "start_time": "2022-07-28T15:11:48.726Z"
   },
   {
    "duration": 29,
    "start_time": "2022-07-28T15:11:48.772Z"
   },
   {
    "duration": 39,
    "start_time": "2022-07-28T15:11:48.803Z"
   },
   {
    "duration": 5,
    "start_time": "2022-07-28T15:11:48.844Z"
   },
   {
    "duration": 47,
    "start_time": "2022-07-28T15:11:48.850Z"
   },
   {
    "duration": 26,
    "start_time": "2022-07-28T15:11:48.898Z"
   },
   {
    "duration": 28,
    "start_time": "2022-07-28T15:11:48.925Z"
   },
   {
    "duration": 32,
    "start_time": "2022-07-28T15:11:48.955Z"
   },
   {
    "duration": 19,
    "start_time": "2022-07-28T15:11:48.989Z"
   },
   {
    "duration": 13,
    "start_time": "2022-07-28T15:11:49.011Z"
   },
   {
    "duration": 17,
    "start_time": "2022-07-28T15:11:49.026Z"
   },
   {
    "duration": 10,
    "start_time": "2022-07-28T15:11:57.789Z"
   },
   {
    "duration": 56,
    "start_time": "2022-07-28T15:11:59.857Z"
   },
   {
    "duration": 54,
    "start_time": "2022-07-28T15:12:49.421Z"
   },
   {
    "duration": 14,
    "start_time": "2022-07-28T15:15:49.551Z"
   },
   {
    "duration": 32,
    "start_time": "2022-07-28T15:18:01.162Z"
   },
   {
    "duration": 4,
    "start_time": "2022-07-28T15:18:11.777Z"
   },
   {
    "duration": 84,
    "start_time": "2022-07-28T15:18:11.784Z"
   },
   {
    "duration": 42,
    "start_time": "2022-07-28T15:18:11.873Z"
   },
   {
    "duration": 21,
    "start_time": "2022-07-28T15:18:11.917Z"
   },
   {
    "duration": 41,
    "start_time": "2022-07-28T15:18:11.940Z"
   },
   {
    "duration": 15,
    "start_time": "2022-07-28T15:18:11.983Z"
   },
   {
    "duration": 110,
    "start_time": "2022-07-28T15:18:12.000Z"
   },
   {
    "duration": 5,
    "start_time": "2022-07-28T15:18:12.112Z"
   },
   {
    "duration": 16,
    "start_time": "2022-07-28T15:18:12.118Z"
   },
   {
    "duration": 34,
    "start_time": "2022-07-28T15:18:12.136Z"
   },
   {
    "duration": 13,
    "start_time": "2022-07-28T15:18:12.175Z"
   },
   {
    "duration": 10,
    "start_time": "2022-07-28T15:18:12.190Z"
   },
   {
    "duration": 51,
    "start_time": "2022-07-28T15:18:12.203Z"
   },
   {
    "duration": 39,
    "start_time": "2022-07-28T15:18:12.256Z"
   },
   {
    "duration": 8,
    "start_time": "2022-07-28T15:18:12.297Z"
   },
   {
    "duration": 19,
    "start_time": "2022-07-28T15:18:12.307Z"
   },
   {
    "duration": 57,
    "start_time": "2022-07-28T15:18:12.328Z"
   },
   {
    "duration": 36,
    "start_time": "2022-07-28T15:18:12.387Z"
   },
   {
    "duration": 11,
    "start_time": "2022-07-28T15:18:12.424Z"
   },
   {
    "duration": 50,
    "start_time": "2022-07-28T15:18:12.436Z"
   },
   {
    "duration": 48,
    "start_time": "2022-07-28T15:18:12.488Z"
   },
   {
    "duration": 21,
    "start_time": "2022-07-28T15:18:12.538Z"
   },
   {
    "duration": 5,
    "start_time": "2022-07-28T15:18:12.563Z"
   },
   {
    "duration": 23,
    "start_time": "2022-07-28T15:18:12.570Z"
   },
   {
    "duration": 29,
    "start_time": "2022-07-28T15:18:12.595Z"
   },
   {
    "duration": 25,
    "start_time": "2022-07-28T15:18:12.625Z"
   },
   {
    "duration": 53,
    "start_time": "2022-07-28T15:18:12.661Z"
   },
   {
    "duration": 6,
    "start_time": "2022-07-28T15:18:12.715Z"
   },
   {
    "duration": 24,
    "start_time": "2022-07-28T15:18:12.722Z"
   },
   {
    "duration": 30,
    "start_time": "2022-07-28T15:18:12.748Z"
   },
   {
    "duration": 12,
    "start_time": "2022-07-28T15:18:12.781Z"
   },
   {
    "duration": 25,
    "start_time": "2022-07-28T15:18:12.795Z"
   },
   {
    "duration": 12,
    "start_time": "2022-07-28T15:18:12.821Z"
   },
   {
    "duration": 4,
    "start_time": "2022-07-28T15:18:12.834Z"
   },
   {
    "duration": 14,
    "start_time": "2022-07-28T15:18:12.862Z"
   },
   {
    "duration": 86,
    "start_time": "2022-07-28T15:18:12.877Z"
   },
   {
    "duration": 9,
    "start_time": "2022-07-28T15:19:52.653Z"
   },
   {
    "duration": 2,
    "start_time": "2022-07-28T15:20:25.836Z"
   },
   {
    "duration": 91,
    "start_time": "2022-07-28T15:20:25.840Z"
   },
   {
    "duration": 43,
    "start_time": "2022-07-28T15:20:25.933Z"
   },
   {
    "duration": 17,
    "start_time": "2022-07-28T15:20:25.978Z"
   },
   {
    "duration": 20,
    "start_time": "2022-07-28T15:20:25.996Z"
   },
   {
    "duration": 13,
    "start_time": "2022-07-28T15:20:26.018Z"
   },
   {
    "duration": 138,
    "start_time": "2022-07-28T15:20:26.032Z"
   },
   {
    "duration": 6,
    "start_time": "2022-07-28T15:20:26.172Z"
   },
   {
    "duration": 21,
    "start_time": "2022-07-28T15:20:26.181Z"
   },
   {
    "duration": 65,
    "start_time": "2022-07-28T15:20:26.205Z"
   },
   {
    "duration": 28,
    "start_time": "2022-07-28T15:20:26.272Z"
   },
   {
    "duration": 15,
    "start_time": "2022-07-28T15:20:26.302Z"
   },
   {
    "duration": 62,
    "start_time": "2022-07-28T15:20:26.320Z"
   },
   {
    "duration": 35,
    "start_time": "2022-07-28T15:20:26.384Z"
   },
   {
    "duration": 8,
    "start_time": "2022-07-28T15:20:26.421Z"
   },
   {
    "duration": 49,
    "start_time": "2022-07-28T15:20:26.431Z"
   },
   {
    "duration": 63,
    "start_time": "2022-07-28T15:20:26.482Z"
   },
   {
    "duration": 54,
    "start_time": "2022-07-28T15:20:26.547Z"
   },
   {
    "duration": 16,
    "start_time": "2022-07-28T15:20:26.603Z"
   },
   {
    "duration": 53,
    "start_time": "2022-07-28T15:20:26.621Z"
   },
   {
    "duration": 43,
    "start_time": "2022-07-28T15:20:26.677Z"
   },
   {
    "duration": 20,
    "start_time": "2022-07-28T15:20:26.722Z"
   },
   {
    "duration": 4,
    "start_time": "2022-07-28T15:20:26.744Z"
   },
   {
    "duration": 13,
    "start_time": "2022-07-28T15:20:26.750Z"
   },
   {
    "duration": 52,
    "start_time": "2022-07-28T15:20:26.765Z"
   },
   {
    "duration": 25,
    "start_time": "2022-07-28T15:20:26.819Z"
   },
   {
    "duration": 3,
    "start_time": "2022-07-28T15:20:26.846Z"
   },
   {
    "duration": 22,
    "start_time": "2022-07-28T15:20:26.850Z"
   },
   {
    "duration": 29,
    "start_time": "2022-07-28T15:20:26.874Z"
   },
   {
    "duration": 23,
    "start_time": "2022-07-28T15:20:26.906Z"
   },
   {
    "duration": 24,
    "start_time": "2022-07-28T15:20:26.930Z"
   },
   {
    "duration": 30,
    "start_time": "2022-07-28T15:20:26.956Z"
   },
   {
    "duration": 26,
    "start_time": "2022-07-28T15:20:26.987Z"
   },
   {
    "duration": 5,
    "start_time": "2022-07-28T15:20:27.015Z"
   },
   {
    "duration": 13,
    "start_time": "2022-07-28T15:20:27.022Z"
   },
   {
    "duration": 61,
    "start_time": "2022-07-28T15:20:27.036Z"
   },
   {
    "duration": 171,
    "start_time": "2022-07-28T15:20:27.099Z"
   },
   {
    "duration": 9,
    "start_time": "2022-07-28T15:21:11.006Z"
   },
   {
    "duration": 236,
    "start_time": "2022-07-28T15:22:26.530Z"
   },
   {
    "duration": 14,
    "start_time": "2022-07-28T15:24:01.882Z"
   },
   {
    "duration": 3,
    "start_time": "2022-07-28T15:24:36.546Z"
   },
   {
    "duration": 312,
    "start_time": "2022-07-28T15:24:40.286Z"
   },
   {
    "duration": 306,
    "start_time": "2022-07-28T15:25:07.090Z"
   },
   {
    "duration": 274,
    "start_time": "2022-07-28T15:25:12.007Z"
   },
   {
    "duration": 3,
    "start_time": "2022-07-28T15:26:03.242Z"
   },
   {
    "duration": 94,
    "start_time": "2022-07-28T15:26:03.247Z"
   },
   {
    "duration": 42,
    "start_time": "2022-07-28T15:26:03.343Z"
   },
   {
    "duration": 15,
    "start_time": "2022-07-28T15:26:03.388Z"
   },
   {
    "duration": 19,
    "start_time": "2022-07-28T15:26:03.406Z"
   },
   {
    "duration": 12,
    "start_time": "2022-07-28T15:26:03.427Z"
   },
   {
    "duration": 119,
    "start_time": "2022-07-28T15:26:03.460Z"
   },
   {
    "duration": 9,
    "start_time": "2022-07-28T15:26:03.581Z"
   },
   {
    "duration": 20,
    "start_time": "2022-07-28T15:26:03.593Z"
   },
   {
    "duration": 25,
    "start_time": "2022-07-28T15:26:03.615Z"
   },
   {
    "duration": 14,
    "start_time": "2022-07-28T15:26:03.642Z"
   },
   {
    "duration": 11,
    "start_time": "2022-07-28T15:26:03.657Z"
   },
   {
    "duration": 68,
    "start_time": "2022-07-28T15:26:03.674Z"
   },
   {
    "duration": 35,
    "start_time": "2022-07-28T15:26:03.744Z"
   },
   {
    "duration": 7,
    "start_time": "2022-07-28T15:26:03.781Z"
   },
   {
    "duration": 18,
    "start_time": "2022-07-28T15:26:03.790Z"
   },
   {
    "duration": 59,
    "start_time": "2022-07-28T15:26:03.810Z"
   },
   {
    "duration": 34,
    "start_time": "2022-07-28T15:26:03.874Z"
   },
   {
    "duration": 12,
    "start_time": "2022-07-28T15:26:03.909Z"
   },
   {
    "duration": 64,
    "start_time": "2022-07-28T15:26:03.923Z"
   },
   {
    "duration": 44,
    "start_time": "2022-07-28T15:26:03.989Z"
   },
   {
    "duration": 20,
    "start_time": "2022-07-28T15:26:04.035Z"
   },
   {
    "duration": 6,
    "start_time": "2022-07-28T15:26:04.056Z"
   },
   {
    "duration": 30,
    "start_time": "2022-07-28T15:26:04.065Z"
   },
   {
    "duration": 29,
    "start_time": "2022-07-28T15:26:04.096Z"
   },
   {
    "duration": 24,
    "start_time": "2022-07-28T15:26:04.126Z"
   },
   {
    "duration": 64,
    "start_time": "2022-07-28T15:26:04.151Z"
   },
   {
    "duration": 5,
    "start_time": "2022-07-28T15:26:04.216Z"
   },
   {
    "duration": 17,
    "start_time": "2022-07-28T15:26:04.223Z"
   },
   {
    "duration": 28,
    "start_time": "2022-07-28T15:26:04.242Z"
   },
   {
    "duration": 15,
    "start_time": "2022-07-28T15:26:04.272Z"
   },
   {
    "duration": 28,
    "start_time": "2022-07-28T15:26:04.289Z"
   },
   {
    "duration": 11,
    "start_time": "2022-07-28T15:26:04.319Z"
   },
   {
    "duration": 3,
    "start_time": "2022-07-28T15:26:04.332Z"
   },
   {
    "duration": 6,
    "start_time": "2022-07-28T15:26:04.337Z"
   },
   {
    "duration": 125,
    "start_time": "2022-07-28T15:26:04.345Z"
   },
   {
    "duration": 91,
    "start_time": "2022-07-28T15:26:04.473Z"
   },
   {
    "duration": 134,
    "start_time": "2022-07-28T15:26:04.569Z"
   },
   {
    "duration": 379,
    "start_time": "2022-07-28T15:26:04.705Z"
   },
   {
    "duration": 4,
    "start_time": "2022-07-28T15:27:35.539Z"
   },
   {
    "duration": 10,
    "start_time": "2022-07-28T15:27:56.459Z"
   },
   {
    "duration": 7,
    "start_time": "2022-07-28T15:28:02.737Z"
   },
   {
    "duration": 14,
    "start_time": "2022-07-28T15:28:05.679Z"
   },
   {
    "duration": 6,
    "start_time": "2022-07-28T15:28:07.336Z"
   },
   {
    "duration": 13,
    "start_time": "2022-07-28T15:28:14.534Z"
   },
   {
    "duration": 11,
    "start_time": "2022-07-28T15:28:14.955Z"
   },
   {
    "duration": 28,
    "start_time": "2022-07-28T15:28:40.281Z"
   },
   {
    "duration": 7,
    "start_time": "2022-07-28T15:29:18.717Z"
   },
   {
    "duration": 15,
    "start_time": "2022-07-28T15:29:24.786Z"
   },
   {
    "duration": 12,
    "start_time": "2022-07-28T15:29:25.279Z"
   },
   {
    "duration": 12,
    "start_time": "2022-07-28T15:29:29.854Z"
   },
   {
    "duration": 6,
    "start_time": "2022-07-28T15:29:30.281Z"
   },
   {
    "duration": 33,
    "start_time": "2022-07-28T15:29:37.249Z"
   },
   {
    "duration": 11,
    "start_time": "2022-07-28T15:29:44.948Z"
   },
   {
    "duration": 119,
    "start_time": "2022-07-28T15:30:52.641Z"
   },
   {
    "duration": 4,
    "start_time": "2022-07-28T15:31:06.586Z"
   },
   {
    "duration": 114,
    "start_time": "2022-07-28T15:31:06.593Z"
   },
   {
    "duration": 33,
    "start_time": "2022-07-28T15:31:06.709Z"
   },
   {
    "duration": 15,
    "start_time": "2022-07-28T15:31:06.744Z"
   },
   {
    "duration": 47,
    "start_time": "2022-07-28T15:31:06.761Z"
   },
   {
    "duration": 14,
    "start_time": "2022-07-28T15:31:06.809Z"
   },
   {
    "duration": 98,
    "start_time": "2022-07-28T15:31:06.825Z"
   },
   {
    "duration": 5,
    "start_time": "2022-07-28T15:31:06.925Z"
   },
   {
    "duration": 13,
    "start_time": "2022-07-28T15:31:06.932Z"
   },
   {
    "duration": 36,
    "start_time": "2022-07-28T15:31:06.947Z"
   },
   {
    "duration": 8,
    "start_time": "2022-07-28T15:31:06.986Z"
   },
   {
    "duration": 8,
    "start_time": "2022-07-28T15:31:06.995Z"
   },
   {
    "duration": 56,
    "start_time": "2022-07-28T15:31:07.006Z"
   },
   {
    "duration": 34,
    "start_time": "2022-07-28T15:31:07.063Z"
   },
   {
    "duration": 6,
    "start_time": "2022-07-28T15:31:07.099Z"
   },
   {
    "duration": 23,
    "start_time": "2022-07-28T15:31:07.106Z"
   },
   {
    "duration": 49,
    "start_time": "2022-07-28T15:31:07.131Z"
   },
   {
    "duration": 31,
    "start_time": "2022-07-28T15:31:07.182Z"
   },
   {
    "duration": 14,
    "start_time": "2022-07-28T15:31:07.214Z"
   },
   {
    "duration": 56,
    "start_time": "2022-07-28T15:31:07.230Z"
   },
   {
    "duration": 38,
    "start_time": "2022-07-28T15:31:07.288Z"
   },
   {
    "duration": 20,
    "start_time": "2022-07-28T15:31:07.328Z"
   },
   {
    "duration": 4,
    "start_time": "2022-07-28T15:31:07.349Z"
   },
   {
    "duration": 18,
    "start_time": "2022-07-28T15:31:07.355Z"
   },
   {
    "duration": 37,
    "start_time": "2022-07-28T15:31:07.375Z"
   },
   {
    "duration": 26,
    "start_time": "2022-07-28T15:31:07.414Z"
   },
   {
    "duration": 51,
    "start_time": "2022-07-28T15:31:07.441Z"
   },
   {
    "duration": 7,
    "start_time": "2022-07-28T15:31:07.494Z"
   },
   {
    "duration": 15,
    "start_time": "2022-07-28T15:31:07.503Z"
   },
   {
    "duration": 14,
    "start_time": "2022-07-28T15:31:07.520Z"
   },
   {
    "duration": 38,
    "start_time": "2022-07-28T15:31:07.536Z"
   },
   {
    "duration": 26,
    "start_time": "2022-07-28T15:31:07.579Z"
   },
   {
    "duration": 12,
    "start_time": "2022-07-28T15:31:07.607Z"
   },
   {
    "duration": 5,
    "start_time": "2022-07-28T15:31:07.620Z"
   },
   {
    "duration": 9,
    "start_time": "2022-07-28T15:31:07.626Z"
   },
   {
    "duration": 70,
    "start_time": "2022-07-28T15:31:07.636Z"
   },
   {
    "duration": 70,
    "start_time": "2022-07-28T15:31:07.712Z"
   },
   {
    "duration": 121,
    "start_time": "2022-07-28T15:31:07.861Z"
   },
   {
    "duration": 289,
    "start_time": "2022-07-28T15:31:07.983Z"
   },
   {
    "duration": 8,
    "start_time": "2022-07-28T15:31:08.278Z"
   },
   {
    "duration": 30,
    "start_time": "2022-07-28T15:31:08.287Z"
   },
   {
    "duration": 8,
    "start_time": "2022-07-28T15:31:08.319Z"
   },
   {
    "duration": 85,
    "start_time": "2022-07-28T15:31:08.329Z"
   },
   {
    "duration": 352,
    "start_time": "2022-07-28T15:31:47.884Z"
   },
   {
    "duration": 363,
    "start_time": "2022-07-28T15:32:48.738Z"
   },
   {
    "duration": 3817,
    "start_time": "2022-07-28T15:33:03.696Z"
   },
   {
    "duration": 6,
    "start_time": "2022-07-28T15:37:53.263Z"
   },
   {
    "duration": 82,
    "start_time": "2022-07-28T15:37:53.277Z"
   },
   {
    "duration": 42,
    "start_time": "2022-07-28T15:37:53.363Z"
   },
   {
    "duration": 25,
    "start_time": "2022-07-28T15:37:53.407Z"
   },
   {
    "duration": 49,
    "start_time": "2022-07-28T15:37:53.434Z"
   },
   {
    "duration": 17,
    "start_time": "2022-07-28T15:37:53.485Z"
   },
   {
    "duration": 118,
    "start_time": "2022-07-28T15:37:53.503Z"
   },
   {
    "duration": 5,
    "start_time": "2022-07-28T15:37:53.623Z"
   },
   {
    "duration": 10,
    "start_time": "2022-07-28T15:37:53.629Z"
   },
   {
    "duration": 39,
    "start_time": "2022-07-28T15:37:53.640Z"
   },
   {
    "duration": 8,
    "start_time": "2022-07-28T15:37:53.685Z"
   },
   {
    "duration": 6,
    "start_time": "2022-07-28T15:37:53.695Z"
   },
   {
    "duration": 43,
    "start_time": "2022-07-28T15:37:53.703Z"
   },
   {
    "duration": 33,
    "start_time": "2022-07-28T15:37:53.747Z"
   },
   {
    "duration": 7,
    "start_time": "2022-07-28T15:37:53.781Z"
   },
   {
    "duration": 15,
    "start_time": "2022-07-28T15:37:53.791Z"
   },
   {
    "duration": 44,
    "start_time": "2022-07-28T15:37:53.808Z"
   },
   {
    "duration": 36,
    "start_time": "2022-07-28T15:37:53.853Z"
   },
   {
    "duration": 12,
    "start_time": "2022-07-28T15:37:53.891Z"
   },
   {
    "duration": 12,
    "start_time": "2022-07-28T15:37:53.904Z"
   },
   {
    "duration": 53,
    "start_time": "2022-07-28T15:37:53.917Z"
   },
   {
    "duration": 26,
    "start_time": "2022-07-28T15:37:53.972Z"
   },
   {
    "duration": 5,
    "start_time": "2022-07-28T15:37:54.000Z"
   },
   {
    "duration": 12,
    "start_time": "2022-07-28T15:37:54.007Z"
   },
   {
    "duration": 29,
    "start_time": "2022-07-28T15:37:54.021Z"
   },
   {
    "duration": 37,
    "start_time": "2022-07-28T15:37:54.052Z"
   },
   {
    "duration": 3,
    "start_time": "2022-07-28T15:37:54.091Z"
   },
   {
    "duration": 16,
    "start_time": "2022-07-28T15:37:54.096Z"
   },
   {
    "duration": 16,
    "start_time": "2022-07-28T15:37:54.116Z"
   },
   {
    "duration": 31,
    "start_time": "2022-07-28T15:37:54.133Z"
   },
   {
    "duration": 28,
    "start_time": "2022-07-28T15:37:54.170Z"
   },
   {
    "duration": 22,
    "start_time": "2022-07-28T15:37:54.199Z"
   },
   {
    "duration": 12,
    "start_time": "2022-07-28T15:37:54.222Z"
   },
   {
    "duration": 26,
    "start_time": "2022-07-28T15:37:54.236Z"
   },
   {
    "duration": 13,
    "start_time": "2022-07-28T15:37:54.263Z"
   },
   {
    "duration": 87,
    "start_time": "2022-07-28T15:37:54.279Z"
   },
   {
    "duration": 14,
    "start_time": "2022-07-28T15:37:54.369Z"
   },
   {
    "duration": 206,
    "start_time": "2022-07-28T15:37:54.385Z"
   },
   {
    "duration": 291,
    "start_time": "2022-07-28T15:37:54.593Z"
   },
   {
    "duration": 8,
    "start_time": "2022-07-28T15:37:54.886Z"
   },
   {
    "duration": 13,
    "start_time": "2022-07-28T15:37:54.896Z"
   },
   {
    "duration": 6,
    "start_time": "2022-07-28T15:37:54.911Z"
   },
   {
    "duration": 149,
    "start_time": "2022-07-28T15:37:54.918Z"
   },
   {
    "duration": 454,
    "start_time": "2022-07-28T15:37:55.079Z"
   },
   {
    "duration": 4,
    "start_time": "2022-07-28T15:38:23.196Z"
   },
   {
    "duration": 91,
    "start_time": "2022-07-28T15:38:23.203Z"
   },
   {
    "duration": 34,
    "start_time": "2022-07-28T15:38:23.296Z"
   },
   {
    "duration": 19,
    "start_time": "2022-07-28T15:38:23.332Z"
   },
   {
    "duration": 28,
    "start_time": "2022-07-28T15:38:23.363Z"
   },
   {
    "duration": 15,
    "start_time": "2022-07-28T15:38:23.393Z"
   },
   {
    "duration": 114,
    "start_time": "2022-07-28T15:38:23.410Z"
   },
   {
    "duration": 6,
    "start_time": "2022-07-28T15:38:23.526Z"
   },
   {
    "duration": 6,
    "start_time": "2022-07-28T15:38:23.534Z"
   },
   {
    "duration": 44,
    "start_time": "2022-07-28T15:38:23.541Z"
   },
   {
    "duration": 9,
    "start_time": "2022-07-28T15:38:23.587Z"
   },
   {
    "duration": 6,
    "start_time": "2022-07-28T15:38:23.598Z"
   },
   {
    "duration": 89,
    "start_time": "2022-07-28T15:38:23.605Z"
   },
   {
    "duration": 26,
    "start_time": "2022-07-28T15:38:23.696Z"
   },
   {
    "duration": 6,
    "start_time": "2022-07-28T15:38:23.723Z"
   },
   {
    "duration": 14,
    "start_time": "2022-07-28T15:38:23.730Z"
   },
   {
    "duration": 64,
    "start_time": "2022-07-28T15:38:23.746Z"
   },
   {
    "duration": 27,
    "start_time": "2022-07-28T15:38:23.812Z"
   },
   {
    "duration": 11,
    "start_time": "2022-07-28T15:38:23.841Z"
   },
   {
    "duration": 19,
    "start_time": "2022-07-28T15:38:23.853Z"
   },
   {
    "duration": 56,
    "start_time": "2022-07-28T15:38:23.874Z"
   },
   {
    "duration": 19,
    "start_time": "2022-07-28T15:38:23.932Z"
   },
   {
    "duration": 3,
    "start_time": "2022-07-28T15:38:23.953Z"
   },
   {
    "duration": 23,
    "start_time": "2022-07-28T15:38:23.959Z"
   },
   {
    "duration": 31,
    "start_time": "2022-07-28T15:38:23.984Z"
   },
   {
    "duration": 21,
    "start_time": "2022-07-28T15:38:24.017Z"
   },
   {
    "duration": 3,
    "start_time": "2022-07-28T15:38:24.040Z"
   },
   {
    "duration": 16,
    "start_time": "2022-07-28T15:38:24.045Z"
   },
   {
    "duration": 34,
    "start_time": "2022-07-28T15:38:24.066Z"
   },
   {
    "duration": 15,
    "start_time": "2022-07-28T15:38:24.102Z"
   },
   {
    "duration": 23,
    "start_time": "2022-07-28T15:38:24.119Z"
   },
   {
    "duration": 34,
    "start_time": "2022-07-28T15:38:24.144Z"
   },
   {
    "duration": 13,
    "start_time": "2022-07-28T15:38:24.180Z"
   },
   {
    "duration": 5,
    "start_time": "2022-07-28T15:38:24.194Z"
   },
   {
    "duration": 11,
    "start_time": "2022-07-28T15:38:24.200Z"
   },
   {
    "duration": 67,
    "start_time": "2022-07-28T15:38:24.212Z"
   },
   {
    "duration": 81,
    "start_time": "2022-07-28T15:38:24.280Z"
   },
   {
    "duration": 125,
    "start_time": "2022-07-28T15:38:24.363Z"
   },
   {
    "duration": 297,
    "start_time": "2022-07-28T15:38:24.491Z"
   },
   {
    "duration": 8,
    "start_time": "2022-07-28T15:38:24.790Z"
   },
   {
    "duration": 13,
    "start_time": "2022-07-28T15:38:24.800Z"
   },
   {
    "duration": 5,
    "start_time": "2022-07-28T15:38:24.815Z"
   },
   {
    "duration": 85,
    "start_time": "2022-07-28T15:38:24.822Z"
   },
   {
    "duration": 371,
    "start_time": "2022-07-28T15:38:24.908Z"
   },
   {
    "duration": 24,
    "start_time": "2022-07-28T15:39:05.242Z"
   },
   {
    "duration": 4,
    "start_time": "2022-07-28T15:40:00.124Z"
   },
   {
    "duration": 118,
    "start_time": "2022-07-28T15:40:00.129Z"
   },
   {
    "duration": 46,
    "start_time": "2022-07-28T15:40:00.248Z"
   },
   {
    "duration": 19,
    "start_time": "2022-07-28T15:40:00.296Z"
   },
   {
    "duration": 18,
    "start_time": "2022-07-28T15:40:00.317Z"
   },
   {
    "duration": 41,
    "start_time": "2022-07-28T15:40:00.337Z"
   },
   {
    "duration": 105,
    "start_time": "2022-07-28T15:40:00.380Z"
   },
   {
    "duration": 6,
    "start_time": "2022-07-28T15:40:00.488Z"
   },
   {
    "duration": 20,
    "start_time": "2022-07-28T15:40:00.495Z"
   },
   {
    "duration": 29,
    "start_time": "2022-07-28T15:40:00.517Z"
   },
   {
    "duration": 7,
    "start_time": "2022-07-28T15:40:00.547Z"
   },
   {
    "duration": 28,
    "start_time": "2022-07-28T15:40:00.556Z"
   },
   {
    "duration": 88,
    "start_time": "2022-07-28T15:40:00.586Z"
   },
   {
    "duration": 35,
    "start_time": "2022-07-28T15:40:00.679Z"
   },
   {
    "duration": 6,
    "start_time": "2022-07-28T15:40:00.716Z"
   },
   {
    "duration": 17,
    "start_time": "2022-07-28T15:40:00.724Z"
   },
   {
    "duration": 87,
    "start_time": "2022-07-28T15:40:00.742Z"
   },
   {
    "duration": 28,
    "start_time": "2022-07-28T15:40:00.830Z"
   },
   {
    "duration": 32,
    "start_time": "2022-07-28T15:40:00.860Z"
   },
   {
    "duration": 13,
    "start_time": "2022-07-28T15:40:00.894Z"
   },
   {
    "duration": 62,
    "start_time": "2022-07-28T15:40:00.908Z"
   },
   {
    "duration": 25,
    "start_time": "2022-07-28T15:40:00.972Z"
   },
   {
    "duration": 5,
    "start_time": "2022-07-28T15:40:00.998Z"
   },
   {
    "duration": 18,
    "start_time": "2022-07-28T15:40:01.004Z"
   },
   {
    "duration": 79,
    "start_time": "2022-07-28T15:40:01.024Z"
   },
   {
    "duration": 22,
    "start_time": "2022-07-28T15:40:01.105Z"
   },
   {
    "duration": 20,
    "start_time": "2022-07-28T15:40:01.128Z"
   },
   {
    "duration": 34,
    "start_time": "2022-07-28T15:40:01.149Z"
   },
   {
    "duration": 27,
    "start_time": "2022-07-28T15:40:01.185Z"
   },
   {
    "duration": 45,
    "start_time": "2022-07-28T15:40:01.214Z"
   },
   {
    "duration": 51,
    "start_time": "2022-07-28T15:40:01.260Z"
   },
   {
    "duration": 20,
    "start_time": "2022-07-28T15:40:01.313Z"
   },
   {
    "duration": 33,
    "start_time": "2022-07-28T15:40:01.334Z"
   },
   {
    "duration": 21,
    "start_time": "2022-07-28T15:40:01.369Z"
   },
   {
    "duration": 16,
    "start_time": "2022-07-28T15:40:01.392Z"
   },
   {
    "duration": 22,
    "start_time": "2022-07-28T15:40:01.410Z"
   },
   {
    "duration": 59,
    "start_time": "2022-07-28T15:40:01.433Z"
   },
   {
    "duration": 95,
    "start_time": "2022-07-28T15:40:01.494Z"
   },
   {
    "duration": 30,
    "start_time": "2022-07-28T15:40:01.662Z"
   },
   {
    "duration": 292,
    "start_time": "2022-07-28T15:40:01.694Z"
   },
   {
    "duration": 6,
    "start_time": "2022-07-28T15:40:01.989Z"
   },
   {
    "duration": 35,
    "start_time": "2022-07-28T15:40:01.997Z"
   },
   {
    "duration": 48,
    "start_time": "2022-07-28T15:40:02.034Z"
   },
   {
    "duration": 103,
    "start_time": "2022-07-28T15:40:02.084Z"
   },
   {
    "duration": 531,
    "start_time": "2022-07-28T15:40:02.189Z"
   },
   {
    "duration": 4,
    "start_time": "2022-07-28T15:40:18.196Z"
   },
   {
    "duration": 92,
    "start_time": "2022-07-28T15:40:18.202Z"
   },
   {
    "duration": 45,
    "start_time": "2022-07-28T15:40:18.296Z"
   },
   {
    "duration": 32,
    "start_time": "2022-07-28T15:40:18.343Z"
   },
   {
    "duration": 38,
    "start_time": "2022-07-28T15:40:18.376Z"
   },
   {
    "duration": 14,
    "start_time": "2022-07-28T15:40:18.416Z"
   },
   {
    "duration": 109,
    "start_time": "2022-07-28T15:40:18.431Z"
   },
   {
    "duration": 6,
    "start_time": "2022-07-28T15:40:18.542Z"
   },
   {
    "duration": 17,
    "start_time": "2022-07-28T15:40:18.551Z"
   },
   {
    "duration": 38,
    "start_time": "2022-07-28T15:40:18.570Z"
   },
   {
    "duration": 8,
    "start_time": "2022-07-28T15:40:18.610Z"
   },
   {
    "duration": 4,
    "start_time": "2022-07-28T15:40:18.620Z"
   },
   {
    "duration": 81,
    "start_time": "2022-07-28T15:40:18.625Z"
   },
   {
    "duration": 32,
    "start_time": "2022-07-28T15:40:18.708Z"
   },
   {
    "duration": 7,
    "start_time": "2022-07-28T15:40:18.742Z"
   },
   {
    "duration": 33,
    "start_time": "2022-07-28T15:40:18.750Z"
   },
   {
    "duration": 92,
    "start_time": "2022-07-28T15:40:18.785Z"
   },
   {
    "duration": 34,
    "start_time": "2022-07-28T15:40:18.880Z"
   },
   {
    "duration": 13,
    "start_time": "2022-07-28T15:40:18.916Z"
   },
   {
    "duration": 38,
    "start_time": "2022-07-28T15:40:18.931Z"
   },
   {
    "duration": 47,
    "start_time": "2022-07-28T15:40:18.970Z"
   },
   {
    "duration": 19,
    "start_time": "2022-07-28T15:40:19.019Z"
   },
   {
    "duration": 5,
    "start_time": "2022-07-28T15:40:19.040Z"
   },
   {
    "duration": 5,
    "start_time": "2022-07-28T15:40:19.048Z"
   },
   {
    "duration": 38,
    "start_time": "2022-07-28T15:40:19.055Z"
   },
   {
    "duration": 27,
    "start_time": "2022-07-28T15:40:19.095Z"
   },
   {
    "duration": 15,
    "start_time": "2022-07-28T15:40:19.124Z"
   },
   {
    "duration": 14,
    "start_time": "2022-07-28T15:40:19.141Z"
   },
   {
    "duration": 22,
    "start_time": "2022-07-28T15:40:19.157Z"
   },
   {
    "duration": 21,
    "start_time": "2022-07-28T15:40:19.181Z"
   },
   {
    "duration": 22,
    "start_time": "2022-07-28T15:40:19.204Z"
   },
   {
    "duration": 50,
    "start_time": "2022-07-28T15:40:19.228Z"
   },
   {
    "duration": 17,
    "start_time": "2022-07-28T15:40:19.281Z"
   },
   {
    "duration": 6,
    "start_time": "2022-07-28T15:40:19.300Z"
   },
   {
    "duration": 9,
    "start_time": "2022-07-28T15:40:19.308Z"
   },
   {
    "duration": 20,
    "start_time": "2022-07-28T15:40:19.318Z"
   },
   {
    "duration": 73,
    "start_time": "2022-07-28T15:40:19.340Z"
   },
   {
    "duration": 63,
    "start_time": "2022-07-28T15:40:19.415Z"
   },
   {
    "duration": 179,
    "start_time": "2022-07-28T15:40:19.486Z"
   },
   {
    "duration": 303,
    "start_time": "2022-07-28T15:40:19.667Z"
   },
   {
    "duration": 10,
    "start_time": "2022-07-28T15:40:19.972Z"
   },
   {
    "duration": 35,
    "start_time": "2022-07-28T15:40:19.984Z"
   },
   {
    "duration": 40,
    "start_time": "2022-07-28T15:40:20.021Z"
   },
   {
    "duration": 92,
    "start_time": "2022-07-28T15:40:20.063Z"
   },
   {
    "duration": 537,
    "start_time": "2022-07-28T15:40:20.156Z"
   },
   {
    "duration": 4,
    "start_time": "2022-07-28T15:40:58.103Z"
   },
   {
    "duration": 101,
    "start_time": "2022-07-28T15:40:58.110Z"
   },
   {
    "duration": 36,
    "start_time": "2022-07-28T15:40:58.212Z"
   },
   {
    "duration": 25,
    "start_time": "2022-07-28T15:40:58.250Z"
   },
   {
    "duration": 27,
    "start_time": "2022-07-28T15:40:58.280Z"
   },
   {
    "duration": 14,
    "start_time": "2022-07-28T15:40:58.309Z"
   },
   {
    "duration": 104,
    "start_time": "2022-07-28T15:40:58.324Z"
   },
   {
    "duration": 6,
    "start_time": "2022-07-28T15:40:58.430Z"
   },
   {
    "duration": 6,
    "start_time": "2022-07-28T15:40:58.439Z"
   },
   {
    "duration": 30,
    "start_time": "2022-07-28T15:40:58.463Z"
   },
   {
    "duration": 8,
    "start_time": "2022-07-28T15:40:58.495Z"
   },
   {
    "duration": 7,
    "start_time": "2022-07-28T15:40:58.505Z"
   },
   {
    "duration": 73,
    "start_time": "2022-07-28T15:40:58.514Z"
   },
   {
    "duration": 31,
    "start_time": "2022-07-28T15:40:58.589Z"
   },
   {
    "duration": 6,
    "start_time": "2022-07-28T15:40:58.621Z"
   },
   {
    "duration": 17,
    "start_time": "2022-07-28T15:40:58.628Z"
   },
   {
    "duration": 53,
    "start_time": "2022-07-28T15:40:58.666Z"
   },
   {
    "duration": 32,
    "start_time": "2022-07-28T15:40:58.721Z"
   },
   {
    "duration": 28,
    "start_time": "2022-07-28T15:40:58.755Z"
   },
   {
    "duration": 16,
    "start_time": "2022-07-28T15:40:58.786Z"
   },
   {
    "duration": 78,
    "start_time": "2022-07-28T15:40:58.804Z"
   },
   {
    "duration": 23,
    "start_time": "2022-07-28T15:40:58.883Z"
   },
   {
    "duration": 5,
    "start_time": "2022-07-28T15:40:58.908Z"
   },
   {
    "duration": 4,
    "start_time": "2022-07-28T15:40:58.917Z"
   },
   {
    "duration": 50,
    "start_time": "2022-07-28T15:40:58.923Z"
   },
   {
    "duration": 31,
    "start_time": "2022-07-28T15:40:58.974Z"
   },
   {
    "duration": 5,
    "start_time": "2022-07-28T15:40:59.007Z"
   },
   {
    "duration": 11,
    "start_time": "2022-07-28T15:40:59.013Z"
   },
   {
    "duration": 16,
    "start_time": "2022-07-28T15:40:59.026Z"
   },
   {
    "duration": 34,
    "start_time": "2022-07-28T15:40:59.044Z"
   },
   {
    "duration": 33,
    "start_time": "2022-07-28T15:40:59.081Z"
   },
   {
    "duration": 22,
    "start_time": "2022-07-28T15:40:59.115Z"
   },
   {
    "duration": 39,
    "start_time": "2022-07-28T15:40:59.139Z"
   },
   {
    "duration": 6,
    "start_time": "2022-07-28T15:40:59.180Z"
   },
   {
    "duration": 10,
    "start_time": "2022-07-28T15:40:59.187Z"
   },
   {
    "duration": 22,
    "start_time": "2022-07-28T15:40:59.199Z"
   },
   {
    "duration": 78,
    "start_time": "2022-07-28T15:40:59.223Z"
   },
   {
    "duration": 23,
    "start_time": "2022-07-28T15:40:59.366Z"
   },
   {
    "duration": 122,
    "start_time": "2022-07-28T15:40:59.464Z"
   },
   {
    "duration": 260,
    "start_time": "2022-07-28T15:40:59.588Z"
   },
   {
    "duration": 5,
    "start_time": "2022-07-28T15:40:59.850Z"
   },
   {
    "duration": 20,
    "start_time": "2022-07-28T15:40:59.861Z"
   },
   {
    "duration": 13,
    "start_time": "2022-07-28T15:40:59.883Z"
   },
   {
    "duration": 86,
    "start_time": "2022-07-28T15:40:59.898Z"
   },
   {
    "duration": 555,
    "start_time": "2022-07-28T15:40:59.989Z"
   },
   {
    "duration": 3,
    "start_time": "2022-07-28T15:41:28.028Z"
   },
   {
    "duration": 88,
    "start_time": "2022-07-28T15:41:28.034Z"
   },
   {
    "duration": 49,
    "start_time": "2022-07-28T15:41:28.125Z"
   },
   {
    "duration": 22,
    "start_time": "2022-07-28T15:41:28.183Z"
   },
   {
    "duration": 22,
    "start_time": "2022-07-28T15:41:28.209Z"
   },
   {
    "duration": 14,
    "start_time": "2022-07-28T15:41:28.233Z"
   },
   {
    "duration": 315,
    "start_time": "2022-07-28T15:41:28.263Z"
   },
   {
    "duration": 6,
    "start_time": "2022-07-28T15:41:28.580Z"
   },
   {
    "duration": 12,
    "start_time": "2022-07-28T15:41:28.588Z"
   },
   {
    "duration": 27,
    "start_time": "2022-07-28T15:41:28.602Z"
   },
   {
    "duration": 9,
    "start_time": "2022-07-28T15:41:28.631Z"
   },
   {
    "duration": 36,
    "start_time": "2022-07-28T15:41:28.641Z"
   },
   {
    "duration": 107,
    "start_time": "2022-07-28T15:41:28.679Z"
   },
   {
    "duration": 32,
    "start_time": "2022-07-28T15:41:28.790Z"
   },
   {
    "duration": 5,
    "start_time": "2022-07-28T15:41:28.824Z"
   },
   {
    "duration": 25,
    "start_time": "2022-07-28T15:41:28.831Z"
   },
   {
    "duration": 81,
    "start_time": "2022-07-28T15:41:28.858Z"
   },
   {
    "duration": 40,
    "start_time": "2022-07-28T15:41:28.941Z"
   },
   {
    "duration": 14,
    "start_time": "2022-07-28T15:41:28.983Z"
   },
   {
    "duration": 39,
    "start_time": "2022-07-28T15:41:28.999Z"
   },
   {
    "duration": 113,
    "start_time": "2022-07-28T15:41:29.039Z"
   },
   {
    "duration": 26,
    "start_time": "2022-07-28T15:41:29.154Z"
   },
   {
    "duration": 13,
    "start_time": "2022-07-28T15:41:29.184Z"
   },
   {
    "duration": 36,
    "start_time": "2022-07-28T15:41:29.198Z"
   },
   {
    "duration": 68,
    "start_time": "2022-07-28T15:41:29.235Z"
   },
   {
    "duration": 22,
    "start_time": "2022-07-28T15:41:29.305Z"
   },
   {
    "duration": 16,
    "start_time": "2022-07-28T15:41:29.328Z"
   },
   {
    "duration": 60,
    "start_time": "2022-07-28T15:41:29.345Z"
   },
   {
    "duration": 26,
    "start_time": "2022-07-28T15:41:29.407Z"
   },
   {
    "duration": 31,
    "start_time": "2022-07-28T15:41:29.435Z"
   },
   {
    "duration": 42,
    "start_time": "2022-07-28T15:41:29.473Z"
   },
   {
    "duration": 25,
    "start_time": "2022-07-28T15:41:29.517Z"
   },
   {
    "duration": 31,
    "start_time": "2022-07-28T15:41:29.544Z"
   },
   {
    "duration": 21,
    "start_time": "2022-07-28T15:41:29.579Z"
   },
   {
    "duration": 34,
    "start_time": "2022-07-28T15:41:29.602Z"
   },
   {
    "duration": 40,
    "start_time": "2022-07-28T15:41:29.638Z"
   },
   {
    "duration": 89,
    "start_time": "2022-07-28T15:41:29.680Z"
   },
   {
    "duration": 106,
    "start_time": "2022-07-28T15:41:29.770Z"
   },
   {
    "duration": 106,
    "start_time": "2022-07-28T15:41:29.887Z"
   },
   {
    "duration": 314,
    "start_time": "2022-07-28T15:41:29.995Z"
   },
   {
    "duration": 5,
    "start_time": "2022-07-28T15:41:30.313Z"
   },
   {
    "duration": 29,
    "start_time": "2022-07-28T15:41:30.320Z"
   },
   {
    "duration": 46,
    "start_time": "2022-07-28T15:41:30.350Z"
   },
   {
    "duration": 89,
    "start_time": "2022-07-28T15:41:30.398Z"
   },
   {
    "duration": 535,
    "start_time": "2022-07-28T15:41:30.493Z"
   },
   {
    "duration": 74,
    "start_time": "2022-07-28T15:41:59.390Z"
   },
   {
    "duration": 1113,
    "start_time": "2022-07-28T15:42:08.080Z"
   },
   {
    "duration": 111,
    "start_time": "2022-07-28T15:42:28.949Z"
   },
   {
    "duration": 16,
    "start_time": "2022-07-28T15:42:50.159Z"
   },
   {
    "duration": 6,
    "start_time": "2022-07-28T15:42:50.625Z"
   },
   {
    "duration": 71,
    "start_time": "2022-07-28T15:44:14.253Z"
   },
   {
    "duration": 12,
    "start_time": "2022-07-28T15:45:03.580Z"
   },
   {
    "duration": 19,
    "start_time": "2022-07-28T15:45:41.711Z"
   },
   {
    "duration": 20,
    "start_time": "2022-07-28T15:46:03.478Z"
   },
   {
    "duration": 19,
    "start_time": "2022-07-28T15:46:07.135Z"
   },
   {
    "duration": 29,
    "start_time": "2022-07-28T15:46:10.680Z"
   },
   {
    "duration": 4,
    "start_time": "2022-07-28T15:47:52.078Z"
   },
   {
    "duration": 70,
    "start_time": "2022-07-28T15:47:52.084Z"
   },
   {
    "duration": 62,
    "start_time": "2022-07-28T15:47:52.156Z"
   },
   {
    "duration": 17,
    "start_time": "2022-07-28T15:47:52.220Z"
   },
   {
    "duration": 31,
    "start_time": "2022-07-28T15:47:52.239Z"
   },
   {
    "duration": 18,
    "start_time": "2022-07-28T15:47:52.272Z"
   },
   {
    "duration": 120,
    "start_time": "2022-07-28T15:47:52.292Z"
   },
   {
    "duration": 6,
    "start_time": "2022-07-28T15:47:52.414Z"
   },
   {
    "duration": 6,
    "start_time": "2022-07-28T15:47:52.422Z"
   },
   {
    "duration": 48,
    "start_time": "2022-07-28T15:47:52.430Z"
   },
   {
    "duration": 8,
    "start_time": "2022-07-28T15:47:52.480Z"
   },
   {
    "duration": 10,
    "start_time": "2022-07-28T15:47:52.490Z"
   },
   {
    "duration": 45,
    "start_time": "2022-07-28T15:47:52.501Z"
   },
   {
    "duration": 33,
    "start_time": "2022-07-28T15:47:52.548Z"
   },
   {
    "duration": 7,
    "start_time": "2022-07-28T15:47:52.583Z"
   },
   {
    "duration": 19,
    "start_time": "2022-07-28T15:47:52.592Z"
   },
   {
    "duration": 39,
    "start_time": "2022-07-28T15:47:52.613Z"
   },
   {
    "duration": 51,
    "start_time": "2022-07-28T15:47:52.653Z"
   },
   {
    "duration": 14,
    "start_time": "2022-07-28T15:47:52.707Z"
   },
   {
    "duration": 44,
    "start_time": "2022-07-28T15:47:52.723Z"
   },
   {
    "duration": 49,
    "start_time": "2022-07-28T15:47:52.769Z"
   },
   {
    "duration": 20,
    "start_time": "2022-07-28T15:47:52.819Z"
   },
   {
    "duration": 4,
    "start_time": "2022-07-28T15:47:52.840Z"
   },
   {
    "duration": 7,
    "start_time": "2022-07-28T15:47:52.847Z"
   },
   {
    "duration": 31,
    "start_time": "2022-07-28T15:47:52.855Z"
   },
   {
    "duration": 23,
    "start_time": "2022-07-28T15:47:52.888Z"
   },
   {
    "duration": 57,
    "start_time": "2022-07-28T15:47:52.913Z"
   },
   {
    "duration": 6,
    "start_time": "2022-07-28T15:47:52.977Z"
   },
   {
    "duration": 17,
    "start_time": "2022-07-28T15:47:52.985Z"
   },
   {
    "duration": 17,
    "start_time": "2022-07-28T15:47:53.004Z"
   },
   {
    "duration": 12,
    "start_time": "2022-07-28T15:47:53.022Z"
   },
   {
    "duration": 39,
    "start_time": "2022-07-28T15:47:53.035Z"
   },
   {
    "duration": 13,
    "start_time": "2022-07-28T15:47:53.076Z"
   },
   {
    "duration": 6,
    "start_time": "2022-07-28T15:47:53.091Z"
   },
   {
    "duration": 10,
    "start_time": "2022-07-28T15:47:53.099Z"
   },
   {
    "duration": 20,
    "start_time": "2022-07-28T15:47:53.110Z"
   },
   {
    "duration": 69,
    "start_time": "2022-07-28T15:47:53.132Z"
   },
   {
    "duration": 84,
    "start_time": "2022-07-28T15:47:53.204Z"
   },
   {
    "duration": 125,
    "start_time": "2022-07-28T15:47:53.361Z"
   },
   {
    "duration": 279,
    "start_time": "2022-07-28T15:47:53.489Z"
   },
   {
    "duration": 11,
    "start_time": "2022-07-28T15:47:53.769Z"
   },
   {
    "duration": 16,
    "start_time": "2022-07-28T15:47:53.782Z"
   },
   {
    "duration": 7,
    "start_time": "2022-07-28T15:47:53.800Z"
   },
   {
    "duration": 80,
    "start_time": "2022-07-28T15:47:53.808Z"
   },
   {
    "duration": 522,
    "start_time": "2022-07-28T15:47:53.891Z"
   },
   {
    "duration": 3,
    "start_time": "2022-07-28T15:50:39.333Z"
   },
   {
    "duration": 166,
    "start_time": "2022-07-28T15:50:39.338Z"
   },
   {
    "duration": 31,
    "start_time": "2022-07-28T15:50:39.506Z"
   },
   {
    "duration": 15,
    "start_time": "2022-07-28T15:50:39.538Z"
   },
   {
    "duration": 55,
    "start_time": "2022-07-28T15:50:39.555Z"
   },
   {
    "duration": 31,
    "start_time": "2022-07-28T15:50:39.612Z"
   },
   {
    "duration": 127,
    "start_time": "2022-07-28T15:50:39.644Z"
   },
   {
    "duration": 6,
    "start_time": "2022-07-28T15:50:39.777Z"
   },
   {
    "duration": 22,
    "start_time": "2022-07-28T15:50:39.785Z"
   },
   {
    "duration": 36,
    "start_time": "2022-07-28T15:50:39.809Z"
   },
   {
    "duration": 41,
    "start_time": "2022-07-28T15:50:39.846Z"
   },
   {
    "duration": 19,
    "start_time": "2022-07-28T15:50:39.888Z"
   },
   {
    "duration": 122,
    "start_time": "2022-07-28T15:50:39.909Z"
   },
   {
    "duration": 25,
    "start_time": "2022-07-28T15:50:40.033Z"
   },
   {
    "duration": 24,
    "start_time": "2022-07-28T15:50:40.059Z"
   },
   {
    "duration": 23,
    "start_time": "2022-07-28T15:50:40.084Z"
   },
   {
    "duration": 87,
    "start_time": "2022-07-28T15:50:40.109Z"
   },
   {
    "duration": 31,
    "start_time": "2022-07-28T15:50:40.198Z"
   },
   {
    "duration": 12,
    "start_time": "2022-07-28T15:50:40.231Z"
   },
   {
    "duration": 41,
    "start_time": "2022-07-28T15:50:40.245Z"
   },
   {
    "duration": 41,
    "start_time": "2022-07-28T15:50:40.288Z"
   },
   {
    "duration": 20,
    "start_time": "2022-07-28T15:50:40.331Z"
   },
   {
    "duration": 4,
    "start_time": "2022-07-28T15:50:40.353Z"
   },
   {
    "duration": 27,
    "start_time": "2022-07-28T15:50:40.359Z"
   },
   {
    "duration": 31,
    "start_time": "2022-07-28T15:50:40.388Z"
   },
   {
    "duration": 21,
    "start_time": "2022-07-28T15:50:40.421Z"
   },
   {
    "duration": 44,
    "start_time": "2022-07-28T15:50:40.443Z"
   },
   {
    "duration": 6,
    "start_time": "2022-07-28T15:50:40.488Z"
   },
   {
    "duration": 20,
    "start_time": "2022-07-28T15:50:40.496Z"
   },
   {
    "duration": 18,
    "start_time": "2022-07-28T15:50:40.518Z"
   },
   {
    "duration": 45,
    "start_time": "2022-07-28T15:50:40.537Z"
   },
   {
    "duration": 30,
    "start_time": "2022-07-28T15:50:40.585Z"
   },
   {
    "duration": 11,
    "start_time": "2022-07-28T15:50:40.616Z"
   },
   {
    "duration": 4,
    "start_time": "2022-07-28T15:57:08.182Z"
   },
   {
    "duration": 87,
    "start_time": "2022-07-28T15:57:08.189Z"
   },
   {
    "duration": 43,
    "start_time": "2022-07-28T15:57:08.278Z"
   },
   {
    "duration": 39,
    "start_time": "2022-07-28T15:57:08.323Z"
   },
   {
    "duration": 36,
    "start_time": "2022-07-28T15:57:08.364Z"
   },
   {
    "duration": 17,
    "start_time": "2022-07-28T15:57:08.402Z"
   },
   {
    "duration": 131,
    "start_time": "2022-07-28T15:57:08.421Z"
   },
   {
    "duration": 5,
    "start_time": "2022-07-28T15:57:08.554Z"
   },
   {
    "duration": 17,
    "start_time": "2022-07-28T15:57:08.561Z"
   },
   {
    "duration": 37,
    "start_time": "2022-07-28T15:57:08.581Z"
   },
   {
    "duration": 8,
    "start_time": "2022-07-28T15:57:08.619Z"
   },
   {
    "duration": 11,
    "start_time": "2022-07-28T15:57:08.629Z"
   },
   {
    "duration": 42,
    "start_time": "2022-07-28T15:57:08.642Z"
   },
   {
    "duration": 40,
    "start_time": "2022-07-28T15:57:08.687Z"
   },
   {
    "duration": 7,
    "start_time": "2022-07-28T15:57:08.728Z"
   },
   {
    "duration": 56,
    "start_time": "2022-07-28T15:57:08.737Z"
   },
   {
    "duration": 44,
    "start_time": "2022-07-28T15:57:08.796Z"
   },
   {
    "duration": 35,
    "start_time": "2022-07-28T15:57:08.842Z"
   },
   {
    "duration": 18,
    "start_time": "2022-07-28T15:57:08.880Z"
   },
   {
    "duration": 67,
    "start_time": "2022-07-28T15:57:08.900Z"
   },
   {
    "duration": 55,
    "start_time": "2022-07-28T15:57:08.970Z"
   },
   {
    "duration": 21,
    "start_time": "2022-07-28T15:57:09.027Z"
   },
   {
    "duration": 4,
    "start_time": "2022-07-28T15:57:09.050Z"
   },
   {
    "duration": 23,
    "start_time": "2022-07-28T15:57:09.056Z"
   },
   {
    "duration": 32,
    "start_time": "2022-07-28T15:57:09.081Z"
   },
   {
    "duration": 24,
    "start_time": "2022-07-28T15:57:09.116Z"
   },
   {
    "duration": 45,
    "start_time": "2022-07-28T15:57:09.141Z"
   },
   {
    "duration": 7,
    "start_time": "2022-07-28T15:57:09.189Z"
   },
   {
    "duration": 19,
    "start_time": "2022-07-28T15:57:09.199Z"
   },
   {
    "duration": 18,
    "start_time": "2022-07-28T15:57:09.220Z"
   },
   {
    "duration": 34,
    "start_time": "2022-07-28T15:57:09.240Z"
   },
   {
    "duration": 24,
    "start_time": "2022-07-28T15:57:09.276Z"
   },
   {
    "duration": 20,
    "start_time": "2022-07-28T15:57:09.302Z"
   },
   {
    "duration": 1101,
    "start_time": "2022-07-28T20:18:08.362Z"
   },
   {
    "duration": 109,
    "start_time": "2022-07-28T20:18:11.618Z"
   },
   {
    "duration": 38,
    "start_time": "2022-07-28T20:18:12.272Z"
   },
   {
    "duration": 15,
    "start_time": "2022-07-28T20:18:14.782Z"
   },
   {
    "duration": 23,
    "start_time": "2022-07-28T20:18:18.097Z"
   },
   {
    "duration": 16,
    "start_time": "2022-07-28T20:18:19.021Z"
   },
   {
    "duration": 97,
    "start_time": "2022-07-28T20:18:21.764Z"
   },
   {
    "duration": 5,
    "start_time": "2022-07-28T20:18:22.671Z"
   },
   {
    "duration": 6,
    "start_time": "2022-07-28T20:18:26.586Z"
   },
   {
    "duration": 28,
    "start_time": "2022-07-28T20:18:27.455Z"
   },
   {
    "duration": 8,
    "start_time": "2022-07-28T20:18:28.947Z"
   },
   {
    "duration": 7,
    "start_time": "2022-07-28T20:18:30.929Z"
   },
   {
    "duration": 109,
    "start_time": "2022-07-28T20:18:32.984Z"
   },
   {
    "duration": 24,
    "start_time": "2022-07-28T20:18:33.771Z"
   },
   {
    "duration": 6,
    "start_time": "2022-07-28T20:18:34.058Z"
   },
   {
    "duration": 23,
    "start_time": "2022-07-28T20:18:34.292Z"
   },
   {
    "duration": 110,
    "start_time": "2022-07-28T20:18:35.120Z"
   },
   {
    "duration": 35,
    "start_time": "2022-07-28T20:18:35.704Z"
   },
   {
    "duration": 14,
    "start_time": "2022-07-28T20:18:35.951Z"
   },
   {
    "duration": 38,
    "start_time": "2022-07-28T20:18:36.600Z"
   },
   {
    "duration": 100,
    "start_time": "2022-07-28T20:18:39.891Z"
   },
   {
    "duration": 20,
    "start_time": "2022-07-28T20:18:40.223Z"
   },
   {
    "duration": 5,
    "start_time": "2022-07-28T20:18:40.475Z"
   },
   {
    "duration": 7,
    "start_time": "2022-07-28T20:18:41.164Z"
   },
   {
    "duration": 29,
    "start_time": "2022-07-28T20:18:44.393Z"
   },
   {
    "duration": 33,
    "start_time": "2022-07-28T20:18:45.200Z"
   },
   {
    "duration": 42,
    "start_time": "2022-07-28T20:18:51.472Z"
   },
   {
    "duration": 6,
    "start_time": "2022-07-28T20:18:52.119Z"
   },
   {
    "duration": 13,
    "start_time": "2022-07-28T20:18:52.882Z"
   },
   {
    "duration": 65,
    "start_time": "2022-07-28T20:18:53.800Z"
   },
   {
    "duration": 12,
    "start_time": "2022-07-28T20:18:54.716Z"
   },
   {
    "duration": 27,
    "start_time": "2022-07-28T20:18:55.485Z"
   },
   {
    "duration": 14,
    "start_time": "2022-07-28T20:18:56.227Z"
   },
   {
    "duration": 142,
    "start_time": "2022-07-28T20:21:12.726Z"
   },
   {
    "duration": 1396,
    "start_time": "2022-08-02T11:33:11.351Z"
   },
   {
    "duration": 101,
    "start_time": "2022-08-02T11:33:14.346Z"
   },
   {
    "duration": 44,
    "start_time": "2022-08-02T11:33:14.530Z"
   },
   {
    "duration": 19,
    "start_time": "2022-08-02T11:33:14.709Z"
   },
   {
    "duration": 21,
    "start_time": "2022-08-02T11:33:14.853Z"
   },
   {
    "duration": 14,
    "start_time": "2022-08-02T11:33:15.817Z"
   },
   {
    "duration": 108,
    "start_time": "2022-08-02T11:33:15.833Z"
   },
   {
    "duration": 7,
    "start_time": "2022-08-02T11:33:15.946Z"
   },
   {
    "duration": 8,
    "start_time": "2022-08-02T11:33:15.954Z"
   },
   {
    "duration": 23,
    "start_time": "2022-08-02T11:33:15.963Z"
   },
   {
    "duration": 8,
    "start_time": "2022-08-02T11:33:15.987Z"
   },
   {
    "duration": 49,
    "start_time": "2022-08-02T11:33:15.996Z"
   },
   {
    "duration": 99,
    "start_time": "2022-08-02T11:33:16.237Z"
   },
   {
    "duration": 28,
    "start_time": "2022-08-02T11:33:16.520Z"
   },
   {
    "duration": 5,
    "start_time": "2022-08-02T11:33:16.709Z"
   },
   {
    "duration": 17,
    "start_time": "2022-08-02T11:33:16.876Z"
   },
   {
    "duration": 121,
    "start_time": "2022-08-02T11:33:17.483Z"
   },
   {
    "duration": 39,
    "start_time": "2022-08-02T11:33:17.655Z"
   },
   {
    "duration": 14,
    "start_time": "2022-08-02T11:33:17.854Z"
   },
   {
    "duration": 23,
    "start_time": "2022-08-02T11:33:18.274Z"
   },
   {
    "duration": 120,
    "start_time": "2022-08-02T11:33:18.841Z"
   },
   {
    "duration": 21,
    "start_time": "2022-08-02T11:33:19.053Z"
   },
   {
    "duration": 5,
    "start_time": "2022-08-02T11:33:19.268Z"
   },
   {
    "duration": 6,
    "start_time": "2022-08-02T11:33:19.459Z"
   },
   {
    "duration": 30,
    "start_time": "2022-08-02T11:33:19.852Z"
   },
   {
    "duration": 40,
    "start_time": "2022-08-02T11:33:20.032Z"
   },
   {
    "duration": 49,
    "start_time": "2022-08-02T11:33:20.204Z"
   },
   {
    "duration": 6,
    "start_time": "2022-08-02T11:33:20.576Z"
   },
   {
    "duration": 19,
    "start_time": "2022-08-02T11:33:20.835Z"
   },
   {
    "duration": 59,
    "start_time": "2022-08-02T11:33:21.200Z"
   },
   {
    "duration": 10,
    "start_time": "2022-08-02T11:33:21.561Z"
   },
   {
    "duration": 15,
    "start_time": "2022-08-02T11:33:21.773Z"
   },
   {
    "duration": 11,
    "start_time": "2022-08-02T11:33:21.959Z"
   },
   {
    "duration": 5,
    "start_time": "2022-08-02T11:33:24.009Z"
   },
   {
    "duration": 7,
    "start_time": "2022-08-02T11:33:24.484Z"
   },
   {
    "duration": 6,
    "start_time": "2022-08-02T11:33:24.847Z"
   },
   {
    "duration": 1384,
    "start_time": "2022-08-02T13:25:52.177Z"
   },
   {
    "duration": 301,
    "start_time": "2022-08-02T13:25:53.563Z"
   },
   {
    "duration": 74,
    "start_time": "2022-08-02T13:25:53.866Z"
   },
   {
    "duration": 19,
    "start_time": "2022-08-02T13:25:53.944Z"
   },
   {
    "duration": 49,
    "start_time": "2022-08-02T13:25:53.965Z"
   },
   {
    "duration": 26,
    "start_time": "2022-08-02T13:25:54.017Z"
   },
   {
    "duration": 140,
    "start_time": "2022-08-02T13:25:54.045Z"
   },
   {
    "duration": 7,
    "start_time": "2022-08-02T13:25:54.187Z"
   },
   {
    "duration": 26,
    "start_time": "2022-08-02T13:25:54.196Z"
   },
   {
    "duration": 27,
    "start_time": "2022-08-02T13:25:54.226Z"
   },
   {
    "duration": 8,
    "start_time": "2022-08-02T13:25:54.255Z"
   },
   {
    "duration": 8,
    "start_time": "2022-08-02T13:25:54.265Z"
   },
   {
    "duration": 128,
    "start_time": "2022-08-02T13:25:54.275Z"
   },
   {
    "duration": 32,
    "start_time": "2022-08-02T13:25:54.405Z"
   },
   {
    "duration": 8,
    "start_time": "2022-08-02T13:25:54.439Z"
   },
   {
    "duration": 21,
    "start_time": "2022-08-02T13:25:54.449Z"
   },
   {
    "duration": 167,
    "start_time": "2022-08-02T13:25:54.472Z"
   },
   {
    "duration": 40,
    "start_time": "2022-08-02T13:25:54.641Z"
   },
   {
    "duration": 77,
    "start_time": "2022-08-02T13:25:54.683Z"
   },
   {
    "duration": 50,
    "start_time": "2022-08-02T13:25:54.761Z"
   },
   {
    "duration": 132,
    "start_time": "2022-08-02T13:25:54.813Z"
   },
   {
    "duration": 27,
    "start_time": "2022-08-02T13:25:54.947Z"
   },
   {
    "duration": 5,
    "start_time": "2022-08-02T13:25:54.975Z"
   },
   {
    "duration": 16,
    "start_time": "2022-08-02T13:25:54.982Z"
   },
   {
    "duration": 32,
    "start_time": "2022-08-02T13:25:55.000Z"
   },
   {
    "duration": 27,
    "start_time": "2022-08-02T13:25:55.034Z"
   },
   {
    "duration": 63,
    "start_time": "2022-08-02T13:25:55.063Z"
   },
   {
    "duration": 6,
    "start_time": "2022-08-02T13:25:55.132Z"
   },
   {
    "duration": 22,
    "start_time": "2022-08-02T13:25:55.140Z"
   },
   {
    "duration": 21,
    "start_time": "2022-08-02T13:25:55.163Z"
   },
   {
    "duration": 37,
    "start_time": "2022-08-02T13:25:55.185Z"
   },
   {
    "duration": 28,
    "start_time": "2022-08-02T13:25:55.225Z"
   },
   {
    "duration": 41,
    "start_time": "2022-08-02T13:25:55.255Z"
   },
   {
    "duration": 12,
    "start_time": "2022-08-02T13:25:55.298Z"
   },
   {
    "duration": 13,
    "start_time": "2022-08-02T13:25:55.313Z"
   },
   {
    "duration": 14,
    "start_time": "2022-08-02T13:25:55.329Z"
   },
   {
    "duration": 2,
    "start_time": "2022-08-02T13:25:55.346Z"
   },
   {
    "duration": 83,
    "start_time": "2022-08-02T13:25:55.350Z"
   },
   {
    "duration": 456,
    "start_time": "2022-08-02T13:25:55.436Z"
   },
   {
    "duration": 2035,
    "start_time": "2022-08-02T13:25:55.893Z"
   },
   {
    "duration": 21,
    "start_time": "2022-08-02T13:25:57.930Z"
   },
   {
    "duration": 18,
    "start_time": "2022-08-02T13:25:57.953Z"
   },
   {
    "duration": 6,
    "start_time": "2022-08-02T13:25:57.972Z"
   },
   {
    "duration": 64,
    "start_time": "2022-08-02T13:25:57.979Z"
   },
   {
    "duration": 484,
    "start_time": "2022-08-02T13:25:58.046Z"
   },
   {
    "duration": 2027,
    "start_time": "2022-08-02T13:25:58.532Z"
   },
   {
    "duration": 9,
    "start_time": "2022-08-02T13:26:00.561Z"
   },
   {
    "duration": 14,
    "start_time": "2022-08-02T13:26:00.572Z"
   },
   {
    "duration": 29,
    "start_time": "2022-08-02T13:26:00.588Z"
   },
   {
    "duration": 3,
    "start_time": "2022-08-02T13:26:00.619Z"
   },
   {
    "duration": 87,
    "start_time": "2022-08-02T13:26:00.625Z"
   },
   {
    "duration": 463,
    "start_time": "2022-08-02T13:26:00.714Z"
   },
   {
    "duration": 2635,
    "start_time": "2022-08-02T13:26:01.179Z"
   },
   {
    "duration": 4,
    "start_time": "2022-08-02T13:26:03.816Z"
   },
   {
    "duration": 27,
    "start_time": "2022-08-02T13:26:03.821Z"
   },
   {
    "duration": 5,
    "start_time": "2022-08-02T13:26:03.850Z"
   },
   {
    "duration": 65,
    "start_time": "2022-08-02T13:26:03.856Z"
   },
   {
    "duration": 225,
    "start_time": "2022-08-02T13:26:03.924Z"
   },
   {
    "duration": 152,
    "start_time": "2022-08-02T13:26:49.180Z"
   },
   {
    "duration": 2461,
    "start_time": "2022-08-02T13:33:29.849Z"
   },
   {
    "duration": 2124,
    "start_time": "2022-08-02T13:34:07.212Z"
   },
   {
    "duration": 127,
    "start_time": "2022-08-02T13:35:17.840Z"
   },
   {
    "duration": 42645,
    "start_time": "2022-08-02T13:35:29.184Z"
   },
   {
    "duration": 19355,
    "start_time": "2022-08-02T13:37:15.675Z"
   },
   {
    "duration": 1989,
    "start_time": "2022-08-02T13:37:53.293Z"
   },
   {
    "duration": 4,
    "start_time": "2022-08-02T13:37:58.966Z"
   },
   {
    "duration": 90,
    "start_time": "2022-08-02T13:37:58.972Z"
   },
   {
    "duration": 43,
    "start_time": "2022-08-02T13:37:59.064Z"
   },
   {
    "duration": 18,
    "start_time": "2022-08-02T13:37:59.110Z"
   },
   {
    "duration": 25,
    "start_time": "2022-08-02T13:37:59.131Z"
   },
   {
    "duration": 18,
    "start_time": "2022-08-02T13:37:59.158Z"
   },
   {
    "duration": 167,
    "start_time": "2022-08-02T13:37:59.178Z"
   },
   {
    "duration": 6,
    "start_time": "2022-08-02T13:37:59.346Z"
   },
   {
    "duration": 12,
    "start_time": "2022-08-02T13:37:59.354Z"
   },
   {
    "duration": 42,
    "start_time": "2022-08-02T13:37:59.368Z"
   },
   {
    "duration": 10,
    "start_time": "2022-08-02T13:37:59.413Z"
   },
   {
    "duration": 9,
    "start_time": "2022-08-02T13:37:59.424Z"
   },
   {
    "duration": 65,
    "start_time": "2022-08-02T13:37:59.435Z"
   },
   {
    "duration": 32,
    "start_time": "2022-08-02T13:37:59.502Z"
   },
   {
    "duration": 7,
    "start_time": "2022-08-02T13:37:59.536Z"
   },
   {
    "duration": 21,
    "start_time": "2022-08-02T13:37:59.545Z"
   },
   {
    "duration": 68,
    "start_time": "2022-08-02T13:37:59.568Z"
   },
   {
    "duration": 36,
    "start_time": "2022-08-02T13:37:59.638Z"
   },
   {
    "duration": 15,
    "start_time": "2022-08-02T13:37:59.676Z"
   },
   {
    "duration": 43,
    "start_time": "2022-08-02T13:37:59.693Z"
   },
   {
    "duration": 64,
    "start_time": "2022-08-02T13:37:59.738Z"
   },
   {
    "duration": 24,
    "start_time": "2022-08-02T13:37:59.803Z"
   },
   {
    "duration": 5,
    "start_time": "2022-08-02T13:37:59.829Z"
   },
   {
    "duration": 13,
    "start_time": "2022-08-02T13:37:59.835Z"
   },
   {
    "duration": 36,
    "start_time": "2022-08-02T13:37:59.850Z"
   },
   {
    "duration": 43,
    "start_time": "2022-08-02T13:37:59.888Z"
   },
   {
    "duration": 40,
    "start_time": "2022-08-02T13:37:59.933Z"
   },
   {
    "duration": 6,
    "start_time": "2022-08-02T13:37:59.975Z"
   },
   {
    "duration": 15,
    "start_time": "2022-08-02T13:38:00.011Z"
   },
   {
    "duration": 16,
    "start_time": "2022-08-02T13:38:00.028Z"
   },
   {
    "duration": 13,
    "start_time": "2022-08-02T13:38:00.046Z"
   },
   {
    "duration": 20,
    "start_time": "2022-08-02T13:38:00.061Z"
   },
   {
    "duration": 14,
    "start_time": "2022-08-02T13:38:00.110Z"
   },
   {
    "duration": 6,
    "start_time": "2022-08-02T13:38:00.126Z"
   },
   {
    "duration": 12,
    "start_time": "2022-08-02T13:38:00.134Z"
   },
   {
    "duration": 23,
    "start_time": "2022-08-02T13:38:00.148Z"
   },
   {
    "duration": 6,
    "start_time": "2022-08-02T13:38:00.173Z"
   },
   {
    "duration": 128,
    "start_time": "2022-08-02T13:38:00.181Z"
   },
   {
    "duration": 406,
    "start_time": "2022-08-02T13:38:00.311Z"
   },
   {
    "duration": 2327,
    "start_time": "2022-08-02T13:38:00.719Z"
   },
   {
    "duration": 23,
    "start_time": "2022-08-02T13:38:03.048Z"
   },
   {
    "duration": 18,
    "start_time": "2022-08-02T13:38:03.073Z"
   },
   {
    "duration": 3,
    "start_time": "2022-08-02T13:38:03.110Z"
   },
   {
    "duration": 98,
    "start_time": "2022-08-02T13:38:03.115Z"
   },
   {
    "duration": 398,
    "start_time": "2022-08-02T13:38:03.215Z"
   },
   {
    "duration": 2069,
    "start_time": "2022-08-02T13:38:03.615Z"
   },
   {
    "duration": 8,
    "start_time": "2022-08-02T13:38:05.686Z"
   },
   {
    "duration": 25,
    "start_time": "2022-08-02T13:38:05.696Z"
   },
   {
    "duration": 22,
    "start_time": "2022-08-02T13:38:05.723Z"
   },
   {
    "duration": 20,
    "start_time": "2022-08-02T13:38:05.747Z"
   },
   {
    "duration": 87,
    "start_time": "2022-08-02T13:38:05.769Z"
   },
   {
    "duration": 456,
    "start_time": "2022-08-02T13:38:05.916Z"
   },
   {
    "duration": 2471,
    "start_time": "2022-08-02T13:38:06.374Z"
   },
   {
    "duration": 1918,
    "start_time": "2022-08-02T13:38:08.847Z"
   },
   {
    "duration": 0,
    "start_time": "2022-08-02T13:38:10.767Z"
   },
   {
    "duration": 0,
    "start_time": "2022-08-02T13:38:10.768Z"
   },
   {
    "duration": 0,
    "start_time": "2022-08-02T13:38:10.769Z"
   },
   {
    "duration": 0,
    "start_time": "2022-08-02T13:38:10.772Z"
   },
   {
    "duration": 0,
    "start_time": "2022-08-02T13:38:10.773Z"
   },
   {
    "duration": 0,
    "start_time": "2022-08-02T13:38:10.774Z"
   },
   {
    "duration": 2126,
    "start_time": "2022-08-02T13:39:05.675Z"
   },
   {
    "duration": 2116,
    "start_time": "2022-08-02T13:39:52.386Z"
   },
   {
    "duration": 4216,
    "start_time": "2022-08-02T13:40:16.611Z"
   },
   {
    "duration": 3031,
    "start_time": "2022-08-02T13:40:28.747Z"
   },
   {
    "duration": 286004,
    "start_time": "2022-08-02T13:40:51.908Z"
   },
   {
    "duration": 5,
    "start_time": "2022-08-02T13:46:21.939Z"
   },
   {
    "duration": 4,
    "start_time": "2022-08-02T13:46:23.552Z"
   },
   {
    "duration": 4,
    "start_time": "2022-08-02T13:46:25.141Z"
   },
   {
    "duration": 5,
    "start_time": "2022-08-02T14:50:59.602Z"
   },
   {
    "duration": 100,
    "start_time": "2022-08-02T14:50:59.610Z"
   },
   {
    "duration": 61,
    "start_time": "2022-08-02T14:50:59.713Z"
   },
   {
    "duration": 48,
    "start_time": "2022-08-02T14:50:59.776Z"
   },
   {
    "duration": 55,
    "start_time": "2022-08-02T14:50:59.827Z"
   },
   {
    "duration": 18,
    "start_time": "2022-08-02T14:50:59.884Z"
   },
   {
    "duration": 133,
    "start_time": "2022-08-02T14:50:59.911Z"
   },
   {
    "duration": 6,
    "start_time": "2022-08-02T14:51:00.046Z"
   },
   {
    "duration": 40,
    "start_time": "2022-08-02T14:51:00.053Z"
   },
   {
    "duration": 33,
    "start_time": "2022-08-02T14:51:00.095Z"
   },
   {
    "duration": 10,
    "start_time": "2022-08-02T14:51:00.133Z"
   },
   {
    "duration": 38,
    "start_time": "2022-08-02T14:51:00.145Z"
   },
   {
    "duration": 68,
    "start_time": "2022-08-02T14:51:00.185Z"
   },
   {
    "duration": 37,
    "start_time": "2022-08-02T14:51:00.255Z"
   },
   {
    "duration": 8,
    "start_time": "2022-08-02T14:51:00.294Z"
   },
   {
    "duration": 37,
    "start_time": "2022-08-02T14:51:00.303Z"
   },
   {
    "duration": 60,
    "start_time": "2022-08-02T14:51:00.342Z"
   },
   {
    "duration": 40,
    "start_time": "2022-08-02T14:51:00.404Z"
   },
   {
    "duration": 14,
    "start_time": "2022-08-02T14:51:00.446Z"
   },
   {
    "duration": 62,
    "start_time": "2022-08-02T14:51:00.461Z"
   },
   {
    "duration": 56,
    "start_time": "2022-08-02T14:51:00.525Z"
   },
   {
    "duration": 25,
    "start_time": "2022-08-02T14:51:00.583Z"
   },
   {
    "duration": 5,
    "start_time": "2022-08-02T14:51:00.610Z"
   },
   {
    "duration": 32,
    "start_time": "2022-08-02T14:51:00.617Z"
   },
   {
    "duration": 40,
    "start_time": "2022-08-02T14:51:00.651Z"
   },
   {
    "duration": 29,
    "start_time": "2022-08-02T14:51:00.694Z"
   },
   {
    "duration": 53,
    "start_time": "2022-08-02T14:51:00.725Z"
   },
   {
    "duration": 6,
    "start_time": "2022-08-02T14:51:00.780Z"
   },
   {
    "duration": 16,
    "start_time": "2022-08-02T14:51:00.809Z"
   },
   {
    "duration": 27,
    "start_time": "2022-08-02T14:51:00.827Z"
   },
   {
    "duration": 31,
    "start_time": "2022-08-02T14:51:00.856Z"
   },
   {
    "duration": 36,
    "start_time": "2022-08-02T14:51:00.889Z"
   },
   {
    "duration": 13,
    "start_time": "2022-08-02T14:51:00.928Z"
   },
   {
    "duration": 16,
    "start_time": "2022-08-02T14:51:00.943Z"
   },
   {
    "duration": 23,
    "start_time": "2022-08-02T14:51:00.961Z"
   },
   {
    "duration": 11,
    "start_time": "2022-08-02T14:51:00.986Z"
   },
   {
    "duration": 21,
    "start_time": "2022-08-02T14:51:00.999Z"
   },
   {
    "duration": 92,
    "start_time": "2022-08-02T14:51:01.022Z"
   },
   {
    "duration": 433,
    "start_time": "2022-08-02T14:51:01.120Z"
   },
   {
    "duration": 2162,
    "start_time": "2022-08-02T14:51:01.555Z"
   },
   {
    "duration": 22,
    "start_time": "2022-08-02T14:51:03.719Z"
   },
   {
    "duration": 17,
    "start_time": "2022-08-02T14:51:03.743Z"
   },
   {
    "duration": 3,
    "start_time": "2022-08-02T14:51:03.762Z"
   },
   {
    "duration": 64,
    "start_time": "2022-08-02T14:51:03.767Z"
   },
   {
    "duration": 472,
    "start_time": "2022-08-02T14:51:03.833Z"
   },
   {
    "duration": 2114,
    "start_time": "2022-08-02T14:51:04.306Z"
   },
   {
    "duration": 8,
    "start_time": "2022-08-02T14:51:06.423Z"
   },
   {
    "duration": 103,
    "start_time": "2022-08-02T14:51:06.433Z"
   },
   {
    "duration": 7,
    "start_time": "2022-08-02T14:51:06.538Z"
   },
   {
    "duration": 3,
    "start_time": "2022-08-02T14:51:06.547Z"
   },
   {
    "duration": 71,
    "start_time": "2022-08-02T14:51:06.552Z"
   },
   {
    "duration": 558,
    "start_time": "2022-08-02T14:51:06.626Z"
   },
   {
    "duration": 2534,
    "start_time": "2022-08-02T14:51:07.186Z"
   },
   {
    "duration": 2069,
    "start_time": "2022-08-02T14:51:09.722Z"
   },
   {
    "duration": 58423,
    "start_time": "2022-08-02T14:51:11.794Z"
   },
   {
    "duration": 4,
    "start_time": "2022-08-02T14:52:10.219Z"
   },
   {
    "duration": 15,
    "start_time": "2022-08-02T14:52:10.224Z"
   },
   {
    "duration": 18,
    "start_time": "2022-08-02T14:52:10.241Z"
   },
   {
    "duration": 162,
    "start_time": "2022-08-02T14:52:10.260Z"
   },
   {
    "duration": 147,
    "start_time": "2022-08-02T14:52:10.426Z"
   },
   {
    "duration": 344,
    "start_time": "2022-08-02T14:58:48.600Z"
   },
   {
    "duration": 23,
    "start_time": "2022-08-02T14:59:40.775Z"
   },
   {
    "duration": 5,
    "start_time": "2022-08-02T15:00:17.786Z"
   },
   {
    "duration": 145,
    "start_time": "2022-08-02T15:00:23.840Z"
   },
   {
    "duration": 14,
    "start_time": "2022-08-02T15:05:59.998Z"
   },
   {
    "duration": 650,
    "start_time": "2022-08-02T15:07:31.843Z"
   },
   {
    "duration": 530,
    "start_time": "2022-08-02T15:07:43.762Z"
   },
   {
    "duration": 539,
    "start_time": "2022-08-02T15:07:51.878Z"
   },
   {
    "duration": 610,
    "start_time": "2022-08-02T15:08:05.270Z"
   },
   {
    "duration": 528,
    "start_time": "2022-08-02T15:09:07.532Z"
   },
   {
    "duration": 3,
    "start_time": "2022-08-02T15:10:46.889Z"
   },
   {
    "duration": 5,
    "start_time": "2022-08-02T15:10:57.386Z"
   },
   {
    "duration": 104,
    "start_time": "2022-08-02T15:10:57.393Z"
   },
   {
    "duration": 41,
    "start_time": "2022-08-02T15:10:57.499Z"
   },
   {
    "duration": 20,
    "start_time": "2022-08-02T15:10:57.542Z"
   },
   {
    "duration": 63,
    "start_time": "2022-08-02T15:10:57.565Z"
   },
   {
    "duration": 17,
    "start_time": "2022-08-02T15:10:57.630Z"
   },
   {
    "duration": 128,
    "start_time": "2022-08-02T15:10:57.649Z"
   },
   {
    "duration": 5,
    "start_time": "2022-08-02T15:10:57.779Z"
   },
   {
    "duration": 24,
    "start_time": "2022-08-02T15:10:57.787Z"
   },
   {
    "duration": 29,
    "start_time": "2022-08-02T15:10:57.813Z"
   },
   {
    "duration": 10,
    "start_time": "2022-08-02T15:10:57.845Z"
   },
   {
    "duration": 10,
    "start_time": "2022-08-02T15:10:57.856Z"
   },
   {
    "duration": 58,
    "start_time": "2022-08-02T15:10:57.868Z"
   },
   {
    "duration": 33,
    "start_time": "2022-08-02T15:10:57.928Z"
   },
   {
    "duration": 8,
    "start_time": "2022-08-02T15:10:57.963Z"
   },
   {
    "duration": 43,
    "start_time": "2022-08-02T15:10:57.973Z"
   },
   {
    "duration": 59,
    "start_time": "2022-08-02T15:10:58.018Z"
   },
   {
    "duration": 35,
    "start_time": "2022-08-02T15:10:58.078Z"
   },
   {
    "duration": 13,
    "start_time": "2022-08-02T15:10:58.115Z"
   },
   {
    "duration": 33,
    "start_time": "2022-08-02T15:10:58.130Z"
   },
   {
    "duration": 56,
    "start_time": "2022-08-02T15:10:58.166Z"
   },
   {
    "duration": 34,
    "start_time": "2022-08-02T15:10:58.225Z"
   },
   {
    "duration": 5,
    "start_time": "2022-08-02T15:10:58.261Z"
   },
   {
    "duration": 20,
    "start_time": "2022-08-02T15:10:58.267Z"
   },
   {
    "duration": 47,
    "start_time": "2022-08-02T15:10:58.288Z"
   },
   {
    "duration": 24,
    "start_time": "2022-08-02T15:10:58.336Z"
   },
   {
    "duration": 62,
    "start_time": "2022-08-02T15:10:58.362Z"
   },
   {
    "duration": 9,
    "start_time": "2022-08-02T15:10:58.426Z"
   },
   {
    "duration": 31,
    "start_time": "2022-08-02T15:10:58.441Z"
   },
   {
    "duration": 46,
    "start_time": "2022-08-02T15:10:58.475Z"
   },
   {
    "duration": 17,
    "start_time": "2022-08-02T15:10:58.523Z"
   },
   {
    "duration": 45,
    "start_time": "2022-08-02T15:10:58.542Z"
   },
   {
    "duration": 12,
    "start_time": "2022-08-02T15:10:58.589Z"
   },
   {
    "duration": 23,
    "start_time": "2022-08-02T15:10:58.603Z"
   },
   {
    "duration": 23,
    "start_time": "2022-08-02T15:10:58.628Z"
   },
   {
    "duration": 31,
    "start_time": "2022-08-02T15:10:58.653Z"
   },
   {
    "duration": 33,
    "start_time": "2022-08-02T15:10:58.686Z"
   },
   {
    "duration": 70,
    "start_time": "2022-08-02T15:10:58.720Z"
   },
   {
    "duration": 424,
    "start_time": "2022-08-02T15:10:58.815Z"
   },
   {
    "duration": 2017,
    "start_time": "2022-08-02T15:10:59.241Z"
   },
   {
    "duration": 35,
    "start_time": "2022-08-02T15:11:01.260Z"
   },
   {
    "duration": 94,
    "start_time": "2022-08-02T15:11:01.297Z"
   },
   {
    "duration": 24,
    "start_time": "2022-08-02T15:11:01.393Z"
   },
   {
    "duration": 108,
    "start_time": "2022-08-02T15:11:01.420Z"
   },
   {
    "duration": 539,
    "start_time": "2022-08-02T15:11:01.530Z"
   },
   {
    "duration": 2077,
    "start_time": "2022-08-02T15:11:02.071Z"
   },
   {
    "duration": 8,
    "start_time": "2022-08-02T15:11:04.150Z"
   },
   {
    "duration": 26,
    "start_time": "2022-08-02T15:11:04.160Z"
   },
   {
    "duration": 48,
    "start_time": "2022-08-02T15:11:04.188Z"
   },
   {
    "duration": 17,
    "start_time": "2022-08-02T15:11:04.237Z"
   },
   {
    "duration": 155,
    "start_time": "2022-08-02T15:11:04.256Z"
   },
   {
    "duration": 454,
    "start_time": "2022-08-02T15:11:04.420Z"
   },
   {
    "duration": 2408,
    "start_time": "2022-08-02T15:11:04.876Z"
   },
   {
    "duration": 2089,
    "start_time": "2022-08-02T15:11:07.286Z"
   },
   {
    "duration": 95434,
    "start_time": "2022-08-02T15:11:09.377Z"
   },
   {
    "duration": 4,
    "start_time": "2022-08-02T15:12:44.813Z"
   },
   {
    "duration": 17,
    "start_time": "2022-08-02T15:12:44.819Z"
   },
   {
    "duration": 15,
    "start_time": "2022-08-02T15:12:44.838Z"
   },
   {
    "duration": 59,
    "start_time": "2022-08-02T15:12:44.855Z"
   },
   {
    "duration": 6,
    "start_time": "2022-08-02T15:12:45.009Z"
   },
   {
    "duration": 185,
    "start_time": "2022-08-02T15:12:45.018Z"
   },
   {
    "duration": 76,
    "start_time": "2022-08-02T15:12:45.209Z"
   },
   {
    "duration": 541,
    "start_time": "2022-08-02T15:12:45.287Z"
   },
   {
    "duration": 5,
    "start_time": "2022-08-02T15:24:15.259Z"
   },
   {
    "duration": 7,
    "start_time": "2022-08-02T15:24:44.143Z"
   },
   {
    "duration": 144,
    "start_time": "2022-08-02T15:24:44.152Z"
   },
   {
    "duration": 52,
    "start_time": "2022-08-02T15:24:44.298Z"
   },
   {
    "duration": 27,
    "start_time": "2022-08-02T15:24:44.352Z"
   },
   {
    "duration": 33,
    "start_time": "2022-08-02T15:24:44.411Z"
   },
   {
    "duration": 23,
    "start_time": "2022-08-02T15:24:44.447Z"
   },
   {
    "duration": 168,
    "start_time": "2022-08-02T15:24:44.472Z"
   },
   {
    "duration": 6,
    "start_time": "2022-08-02T15:24:44.642Z"
   },
   {
    "duration": 8,
    "start_time": "2022-08-02T15:24:44.650Z"
   },
   {
    "duration": 30,
    "start_time": "2022-08-02T15:24:44.660Z"
   },
   {
    "duration": 9,
    "start_time": "2022-08-02T15:24:44.712Z"
   },
   {
    "duration": 21,
    "start_time": "2022-08-02T15:24:44.722Z"
   },
   {
    "duration": 63,
    "start_time": "2022-08-02T15:24:44.745Z"
   },
   {
    "duration": 41,
    "start_time": "2022-08-02T15:24:44.810Z"
   },
   {
    "duration": 10,
    "start_time": "2022-08-02T15:24:44.853Z"
   },
   {
    "duration": 60,
    "start_time": "2022-08-02T15:24:44.865Z"
   },
   {
    "duration": 60,
    "start_time": "2022-08-02T15:24:44.927Z"
   },
   {
    "duration": 38,
    "start_time": "2022-08-02T15:24:44.989Z"
   },
   {
    "duration": 15,
    "start_time": "2022-08-02T15:24:45.029Z"
   },
   {
    "duration": 28,
    "start_time": "2022-08-02T15:24:45.047Z"
   },
   {
    "duration": 53,
    "start_time": "2022-08-02T15:24:45.111Z"
   },
   {
    "duration": 33,
    "start_time": "2022-08-02T15:24:45.166Z"
   },
   {
    "duration": 6,
    "start_time": "2022-08-02T15:24:45.201Z"
   },
   {
    "duration": 16,
    "start_time": "2022-08-02T15:24:45.210Z"
   },
   {
    "duration": 53,
    "start_time": "2022-08-02T15:24:45.228Z"
   },
   {
    "duration": 41,
    "start_time": "2022-08-02T15:24:45.282Z"
   },
   {
    "duration": 56,
    "start_time": "2022-08-02T15:24:45.329Z"
   },
   {
    "duration": 23,
    "start_time": "2022-08-02T15:24:45.388Z"
   },
   {
    "duration": 17,
    "start_time": "2022-08-02T15:24:45.415Z"
   },
   {
    "duration": 19,
    "start_time": "2022-08-02T15:24:45.434Z"
   },
   {
    "duration": 15,
    "start_time": "2022-08-02T15:24:45.456Z"
   },
   {
    "duration": 49,
    "start_time": "2022-08-02T15:24:45.474Z"
   },
   {
    "duration": 16,
    "start_time": "2022-08-02T15:24:45.525Z"
   },
   {
    "duration": 7,
    "start_time": "2022-08-02T15:24:45.543Z"
   },
   {
    "duration": 10,
    "start_time": "2022-08-02T15:24:45.552Z"
   },
   {
    "duration": 52,
    "start_time": "2022-08-02T15:24:45.564Z"
   },
   {
    "duration": 4,
    "start_time": "2022-08-02T15:24:45.618Z"
   },
   {
    "duration": 105,
    "start_time": "2022-08-02T15:24:45.624Z"
   },
   {
    "duration": 417,
    "start_time": "2022-08-02T15:24:45.812Z"
   },
   {
    "duration": 2155,
    "start_time": "2022-08-02T15:24:46.231Z"
   },
   {
    "duration": 38,
    "start_time": "2022-08-02T15:24:48.389Z"
   },
   {
    "duration": 19,
    "start_time": "2022-08-02T15:24:48.429Z"
   },
   {
    "duration": 5,
    "start_time": "2022-08-02T15:24:48.450Z"
   },
   {
    "duration": 159,
    "start_time": "2022-08-02T15:24:48.457Z"
   },
   {
    "duration": 387,
    "start_time": "2022-08-02T15:24:48.621Z"
   },
   {
    "duration": 2300,
    "start_time": "2022-08-02T15:24:49.011Z"
   },
   {
    "duration": 10,
    "start_time": "2022-08-02T15:24:51.313Z"
   },
   {
    "duration": 15,
    "start_time": "2022-08-02T15:24:51.326Z"
   },
   {
    "duration": 18,
    "start_time": "2022-08-02T15:24:51.343Z"
   },
   {
    "duration": 11,
    "start_time": "2022-08-02T15:24:51.363Z"
   },
   {
    "duration": 133,
    "start_time": "2022-08-02T15:24:51.377Z"
   },
   {
    "duration": 556,
    "start_time": "2022-08-02T15:24:51.513Z"
   },
   {
    "duration": 2937,
    "start_time": "2022-08-02T15:24:52.074Z"
   },
   {
    "duration": 2458,
    "start_time": "2022-08-02T15:24:55.014Z"
   },
   {
    "duration": 357544,
    "start_time": "2022-08-02T15:24:57.474Z"
   },
   {
    "duration": 5,
    "start_time": "2022-08-02T15:30:55.020Z"
   },
   {
    "duration": 24,
    "start_time": "2022-08-02T15:30:55.027Z"
   },
   {
    "duration": 34,
    "start_time": "2022-08-02T15:30:55.053Z"
   },
   {
    "duration": 129,
    "start_time": "2022-08-02T15:30:55.090Z"
   },
   {
    "duration": 302,
    "start_time": "2022-08-02T15:30:55.222Z"
   },
   {
    "duration": 86,
    "start_time": "2022-08-02T15:30:55.527Z"
   },
   {
    "duration": 529,
    "start_time": "2022-08-02T15:30:55.615Z"
   },
   {
    "duration": 120,
    "start_time": "2022-08-03T20:33:33.573Z"
   },
   {
    "duration": 113,
    "start_time": "2022-08-05T11:28:38.567Z"
   },
   {
    "duration": 2007,
    "start_time": "2022-08-11T15:20:48.223Z"
   },
   {
    "duration": 201,
    "start_time": "2022-08-11T15:20:50.233Z"
   },
   {
    "duration": 43,
    "start_time": "2022-08-11T15:20:50.436Z"
   },
   {
    "duration": 19,
    "start_time": "2022-08-11T15:20:50.482Z"
   },
   {
    "duration": 36,
    "start_time": "2022-08-11T15:20:50.503Z"
   },
   {
    "duration": 18,
    "start_time": "2022-08-11T15:20:50.540Z"
   },
   {
    "duration": 127,
    "start_time": "2022-08-11T15:20:50.560Z"
   },
   {
    "duration": 8,
    "start_time": "2022-08-11T15:20:50.688Z"
   },
   {
    "duration": 18,
    "start_time": "2022-08-11T15:20:50.698Z"
   },
   {
    "duration": 33,
    "start_time": "2022-08-11T15:20:50.719Z"
   },
   {
    "duration": 36,
    "start_time": "2022-08-11T15:20:50.754Z"
   },
   {
    "duration": 16,
    "start_time": "2022-08-11T15:20:50.792Z"
   },
   {
    "duration": 138,
    "start_time": "2022-08-11T15:20:50.809Z"
   },
   {
    "duration": 37,
    "start_time": "2022-08-11T15:20:50.949Z"
   },
   {
    "duration": 7,
    "start_time": "2022-08-11T15:20:50.987Z"
   },
   {
    "duration": 16,
    "start_time": "2022-08-11T15:20:50.996Z"
   },
   {
    "duration": 161,
    "start_time": "2022-08-11T15:20:51.014Z"
   },
   {
    "duration": 37,
    "start_time": "2022-08-11T15:20:51.177Z"
   },
   {
    "duration": 15,
    "start_time": "2022-08-11T15:20:51.216Z"
   },
   {
    "duration": 15,
    "start_time": "2022-08-11T15:20:51.233Z"
   },
   {
    "duration": 80,
    "start_time": "2022-08-11T15:20:51.249Z"
   },
   {
    "duration": 24,
    "start_time": "2022-08-11T15:20:51.331Z"
   },
   {
    "duration": 4,
    "start_time": "2022-08-11T15:20:51.357Z"
   },
   {
    "duration": 8,
    "start_time": "2022-08-11T15:20:51.362Z"
   },
   {
    "duration": 33,
    "start_time": "2022-08-11T15:20:51.372Z"
   },
   {
    "duration": 32,
    "start_time": "2022-08-11T15:20:51.407Z"
   },
   {
    "duration": 34,
    "start_time": "2022-08-11T15:20:51.441Z"
   },
   {
    "duration": 9,
    "start_time": "2022-08-11T15:20:51.495Z"
   },
   {
    "duration": 18,
    "start_time": "2022-08-11T15:20:51.506Z"
   },
   {
    "duration": 28,
    "start_time": "2022-08-11T15:20:51.526Z"
   },
   {
    "duration": 46,
    "start_time": "2022-08-11T15:20:51.556Z"
   },
   {
    "duration": 24,
    "start_time": "2022-08-11T15:20:51.603Z"
   },
   {
    "duration": 18,
    "start_time": "2022-08-11T15:20:51.629Z"
   },
   {
    "duration": 5,
    "start_time": "2022-08-11T15:20:51.650Z"
   },
   {
    "duration": 40,
    "start_time": "2022-08-11T15:20:51.657Z"
   },
   {
    "duration": 7,
    "start_time": "2022-08-11T15:20:51.699Z"
   },
   {
    "duration": 21,
    "start_time": "2022-08-11T15:20:51.708Z"
   },
   {
    "duration": 160,
    "start_time": "2022-08-11T15:20:51.731Z"
   },
   {
    "duration": 390,
    "start_time": "2022-08-11T15:21:16.576Z"
   },
   {
    "duration": 2082,
    "start_time": "2022-08-11T15:21:24.914Z"
   },
   {
    "duration": 5,
    "start_time": "2022-08-11T15:21:43.144Z"
   },
   {
    "duration": 111,
    "start_time": "2022-08-11T15:21:43.155Z"
   },
   {
    "duration": 38,
    "start_time": "2022-08-11T15:21:43.268Z"
   },
   {
    "duration": 18,
    "start_time": "2022-08-11T15:21:43.308Z"
   },
   {
    "duration": 36,
    "start_time": "2022-08-11T15:21:43.328Z"
   },
   {
    "duration": 42,
    "start_time": "2022-08-11T15:21:43.365Z"
   },
   {
    "duration": 212,
    "start_time": "2022-08-11T15:21:43.408Z"
   },
   {
    "duration": 5,
    "start_time": "2022-08-11T15:21:43.622Z"
   },
   {
    "duration": 20,
    "start_time": "2022-08-11T15:21:43.629Z"
   },
   {
    "duration": 38,
    "start_time": "2022-08-11T15:21:43.651Z"
   },
   {
    "duration": 13,
    "start_time": "2022-08-11T15:21:43.693Z"
   },
   {
    "duration": 29,
    "start_time": "2022-08-11T15:21:43.708Z"
   },
   {
    "duration": 85,
    "start_time": "2022-08-11T15:21:43.738Z"
   },
   {
    "duration": 29,
    "start_time": "2022-08-11T15:21:43.825Z"
   },
   {
    "duration": 11,
    "start_time": "2022-08-11T15:21:43.855Z"
   },
   {
    "duration": 36,
    "start_time": "2022-08-11T15:21:43.868Z"
   },
   {
    "duration": 112,
    "start_time": "2022-08-11T15:21:43.906Z"
   },
   {
    "duration": 33,
    "start_time": "2022-08-11T15:21:44.020Z"
   },
   {
    "duration": 15,
    "start_time": "2022-08-11T15:21:44.054Z"
   },
   {
    "duration": 34,
    "start_time": "2022-08-11T15:21:44.071Z"
   },
   {
    "duration": 75,
    "start_time": "2022-08-11T15:21:44.107Z"
   },
   {
    "duration": 24,
    "start_time": "2022-08-11T15:21:44.184Z"
   },
   {
    "duration": 14,
    "start_time": "2022-08-11T15:21:44.210Z"
   },
   {
    "duration": 13,
    "start_time": "2022-08-11T15:21:44.225Z"
   },
   {
    "duration": 47,
    "start_time": "2022-08-11T15:21:44.241Z"
   },
   {
    "duration": 27,
    "start_time": "2022-08-11T15:21:44.290Z"
   },
   {
    "duration": 32,
    "start_time": "2022-08-11T15:21:44.319Z"
   },
   {
    "duration": 6,
    "start_time": "2022-08-11T15:21:44.353Z"
   },
   {
    "duration": 47,
    "start_time": "2022-08-11T15:21:44.363Z"
   },
   {
    "duration": 22,
    "start_time": "2022-08-11T15:21:44.412Z"
   },
   {
    "duration": 24,
    "start_time": "2022-08-11T15:21:44.436Z"
   },
   {
    "duration": 41,
    "start_time": "2022-08-11T15:21:44.462Z"
   },
   {
    "duration": 15,
    "start_time": "2022-08-11T15:21:44.504Z"
   },
   {
    "duration": 5,
    "start_time": "2022-08-11T15:21:44.521Z"
   },
   {
    "duration": 10,
    "start_time": "2022-08-11T15:21:44.528Z"
   },
   {
    "duration": 12,
    "start_time": "2022-08-11T15:21:44.540Z"
   },
   {
    "duration": 5,
    "start_time": "2022-08-11T15:21:44.554Z"
   },
   {
    "duration": 130,
    "start_time": "2022-08-11T15:21:44.561Z"
   },
   {
    "duration": 424,
    "start_time": "2022-08-11T15:21:44.695Z"
   },
   {
    "duration": 2216,
    "start_time": "2022-08-11T15:21:45.121Z"
   },
   {
    "duration": 21,
    "start_time": "2022-08-11T15:21:47.339Z"
   },
   {
    "duration": 16,
    "start_time": "2022-08-11T15:21:47.361Z"
   },
   {
    "duration": 3,
    "start_time": "2022-08-11T15:21:47.393Z"
   },
   {
    "duration": 42,
    "start_time": "2022-08-11T15:21:47.398Z"
   },
   {
    "duration": 440,
    "start_time": "2022-08-11T15:21:47.494Z"
   },
   {
    "duration": 2174,
    "start_time": "2022-08-11T15:21:47.936Z"
   },
   {
    "duration": 10,
    "start_time": "2022-08-11T15:21:50.112Z"
   },
   {
    "duration": 32,
    "start_time": "2022-08-11T15:21:50.123Z"
   },
   {
    "duration": 39,
    "start_time": "2022-08-11T15:21:50.157Z"
   },
   {
    "duration": 22,
    "start_time": "2022-08-11T15:21:50.198Z"
   },
   {
    "duration": 76,
    "start_time": "2022-08-11T15:21:50.222Z"
   },
   {
    "duration": 595,
    "start_time": "2022-08-11T15:21:50.300Z"
   },
   {
    "duration": 2590,
    "start_time": "2022-08-11T15:21:50.897Z"
   },
   {
    "duration": 2461,
    "start_time": "2022-08-11T15:21:53.491Z"
   },
   {
    "duration": 12444,
    "start_time": "2022-08-11T15:21:55.955Z"
   },
   {
    "duration": 4,
    "start_time": "2022-08-11T15:22:08.401Z"
   },
   {
    "duration": 11,
    "start_time": "2022-08-11T15:22:08.407Z"
   },
   {
    "duration": 8,
    "start_time": "2022-08-11T15:22:08.420Z"
   },
   {
    "duration": 85,
    "start_time": "2022-08-11T15:22:08.430Z"
   },
   {
    "duration": 311,
    "start_time": "2022-08-11T15:22:08.517Z"
   },
   {
    "duration": 76,
    "start_time": "2022-08-11T15:22:08.830Z"
   },
   {
    "duration": 587,
    "start_time": "2022-08-11T15:22:08.908Z"
   },
   {
    "duration": 42,
    "start_time": "2022-08-11T18:33:56.454Z"
   },
   {
    "duration": 1512,
    "start_time": "2022-08-11T18:34:04.936Z"
   },
   {
    "duration": 183,
    "start_time": "2022-08-11T18:34:06.450Z"
   },
   {
    "duration": 35,
    "start_time": "2022-08-11T18:34:06.635Z"
   },
   {
    "duration": 14,
    "start_time": "2022-08-11T18:34:06.671Z"
   },
   {
    "duration": 29,
    "start_time": "2022-08-11T18:34:06.687Z"
   },
   {
    "duration": 14,
    "start_time": "2022-08-11T18:34:06.717Z"
   },
   {
    "duration": 100,
    "start_time": "2022-08-11T18:34:06.732Z"
   },
   {
    "duration": 5,
    "start_time": "2022-08-11T18:34:06.834Z"
   },
   {
    "duration": 10,
    "start_time": "2022-08-11T18:34:06.840Z"
   },
   {
    "duration": 22,
    "start_time": "2022-08-11T18:34:06.852Z"
   },
   {
    "duration": 141,
    "start_time": "2022-08-11T18:34:06.875Z"
   },
   {
    "duration": 26,
    "start_time": "2022-08-11T18:34:07.018Z"
   },
   {
    "duration": 142,
    "start_time": "2022-08-11T18:34:07.046Z"
   },
   {
    "duration": 28,
    "start_time": "2022-08-11T18:34:07.191Z"
   },
   {
    "duration": 116,
    "start_time": "2022-08-11T18:34:07.221Z"
   },
   {
    "duration": 20,
    "start_time": "2022-08-11T18:34:07.339Z"
   },
   {
    "duration": 27,
    "start_time": "2022-08-11T18:34:07.360Z"
   },
   {
    "duration": 21,
    "start_time": "2022-08-11T18:34:07.389Z"
   },
   {
    "duration": 30,
    "start_time": "2022-08-11T18:34:19.883Z"
   },
   {
    "duration": 5,
    "start_time": "2022-08-11T18:35:24.719Z"
   },
   {
    "duration": 78,
    "start_time": "2022-08-11T18:35:24.726Z"
   },
   {
    "duration": 32,
    "start_time": "2022-08-11T18:35:24.805Z"
   },
   {
    "duration": 14,
    "start_time": "2022-08-11T18:35:24.839Z"
   },
   {
    "duration": 46,
    "start_time": "2022-08-11T18:35:24.855Z"
   },
   {
    "duration": 14,
    "start_time": "2022-08-11T18:35:24.903Z"
   },
   {
    "duration": 112,
    "start_time": "2022-08-11T18:35:24.919Z"
   },
   {
    "duration": 6,
    "start_time": "2022-08-11T18:35:25.032Z"
   },
   {
    "duration": 18,
    "start_time": "2022-08-11T18:35:25.040Z"
   },
   {
    "duration": 48,
    "start_time": "2022-08-11T18:35:25.060Z"
   },
   {
    "duration": 53,
    "start_time": "2022-08-11T18:35:25.110Z"
   },
   {
    "duration": 25,
    "start_time": "2022-08-11T18:35:25.165Z"
   },
   {
    "duration": 71,
    "start_time": "2022-08-11T18:35:25.192Z"
   },
   {
    "duration": 28,
    "start_time": "2022-08-11T18:35:25.266Z"
   },
   {
    "duration": 47,
    "start_time": "2022-08-11T18:35:25.295Z"
   },
   {
    "duration": 20,
    "start_time": "2022-08-11T18:35:25.344Z"
   },
   {
    "duration": 22,
    "start_time": "2022-08-11T18:35:25.366Z"
   },
   {
    "duration": 40,
    "start_time": "2022-08-11T18:35:25.390Z"
   },
   {
    "duration": 40,
    "start_time": "2022-08-11T18:35:25.431Z"
   },
   {
    "duration": 21,
    "start_time": "2022-08-11T18:35:25.473Z"
   },
   {
    "duration": 41,
    "start_time": "2022-08-11T18:35:25.495Z"
   },
   {
    "duration": 32,
    "start_time": "2022-08-11T18:35:25.538Z"
   },
   {
    "duration": 32,
    "start_time": "2022-08-11T18:35:25.571Z"
   },
   {
    "duration": 25,
    "start_time": "2022-08-11T18:35:25.604Z"
   },
   {
    "duration": 15,
    "start_time": "2022-08-11T18:35:41.804Z"
   },
   {
    "duration": 5,
    "start_time": "2022-08-11T18:35:50.152Z"
   },
   {
    "duration": 7,
    "start_time": "2022-08-11T18:35:50.591Z"
   },
   {
    "duration": 6,
    "start_time": "2022-08-11T18:35:51.746Z"
   },
   {
    "duration": 2,
    "start_time": "2022-08-11T18:35:55.057Z"
   },
   {
    "duration": 58,
    "start_time": "2022-08-11T18:35:58.375Z"
   },
   {
    "duration": 50,
    "start_time": "2022-08-11T18:36:00.990Z"
   },
   {
    "duration": 4,
    "start_time": "2022-08-11T18:36:04.308Z"
   },
   {
    "duration": 87,
    "start_time": "2022-08-11T18:36:04.319Z"
   },
   {
    "duration": 30,
    "start_time": "2022-08-11T18:36:04.408Z"
   },
   {
    "duration": 13,
    "start_time": "2022-08-11T18:36:04.440Z"
   },
   {
    "duration": 48,
    "start_time": "2022-08-11T18:36:04.455Z"
   },
   {
    "duration": 102,
    "start_time": "2022-08-11T18:36:04.506Z"
   },
   {
    "duration": 101,
    "start_time": "2022-08-11T18:36:04.610Z"
   },
   {
    "duration": 6,
    "start_time": "2022-08-11T18:36:04.712Z"
   },
   {
    "duration": 7,
    "start_time": "2022-08-11T18:36:04.720Z"
   },
   {
    "duration": 20,
    "start_time": "2022-08-11T18:36:04.729Z"
   },
   {
    "duration": 57,
    "start_time": "2022-08-11T18:36:04.751Z"
   },
   {
    "duration": 25,
    "start_time": "2022-08-11T18:36:04.809Z"
   },
   {
    "duration": 46,
    "start_time": "2022-08-11T18:36:04.835Z"
   },
   {
    "duration": 26,
    "start_time": "2022-08-11T18:36:04.882Z"
   },
   {
    "duration": 59,
    "start_time": "2022-08-11T18:36:04.911Z"
   },
   {
    "duration": 22,
    "start_time": "2022-08-11T18:36:04.971Z"
   },
   {
    "duration": 24,
    "start_time": "2022-08-11T18:36:04.995Z"
   },
   {
    "duration": 20,
    "start_time": "2022-08-11T18:36:05.021Z"
   },
   {
    "duration": 26,
    "start_time": "2022-08-11T18:36:05.043Z"
   },
   {
    "duration": 7,
    "start_time": "2022-08-11T18:36:05.070Z"
   },
   {
    "duration": 16,
    "start_time": "2022-08-11T18:36:05.099Z"
   },
   {
    "duration": 28,
    "start_time": "2022-08-11T18:36:05.117Z"
   },
   {
    "duration": 31,
    "start_time": "2022-08-11T18:36:05.146Z"
   },
   {
    "duration": 34,
    "start_time": "2022-08-11T18:36:05.178Z"
   },
   {
    "duration": 28,
    "start_time": "2022-08-11T18:36:05.214Z"
   },
   {
    "duration": 8,
    "start_time": "2022-08-11T18:36:05.244Z"
   },
   {
    "duration": 24,
    "start_time": "2022-08-11T18:36:05.253Z"
   },
   {
    "duration": 38,
    "start_time": "2022-08-11T18:36:05.279Z"
   },
   {
    "duration": 15,
    "start_time": "2022-08-11T18:36:05.320Z"
   },
   {
    "duration": 71,
    "start_time": "2022-08-11T18:36:05.337Z"
   },
   {
    "duration": 78,
    "start_time": "2022-08-11T18:42:29.622Z"
   },
   {
    "duration": 11,
    "start_time": "2022-08-11T18:42:54.695Z"
   },
   {
    "duration": 11,
    "start_time": "2022-08-11T18:43:34.404Z"
   },
   {
    "duration": 11,
    "start_time": "2022-08-11T18:43:43.603Z"
   },
   {
    "duration": 20,
    "start_time": "2022-08-11T18:43:58.668Z"
   },
   {
    "duration": 12,
    "start_time": "2022-08-11T18:44:27.155Z"
   },
   {
    "duration": 1004,
    "start_time": "2022-08-11T18:45:02.301Z"
   },
   {
    "duration": 1931,
    "start_time": "2022-08-11T18:46:10.371Z"
   },
   {
    "duration": 1998,
    "start_time": "2022-08-11T18:48:16.619Z"
   },
   {
    "duration": 9,
    "start_time": "2022-08-11T18:53:07.733Z"
   },
   {
    "duration": 2000,
    "start_time": "2022-08-11T18:56:39.118Z"
   },
   {
    "duration": 1948,
    "start_time": "2022-08-11T18:57:12.565Z"
   },
   {
    "duration": 11,
    "start_time": "2022-08-11T18:58:16.219Z"
   },
   {
    "duration": 4,
    "start_time": "2022-08-11T19:00:34.106Z"
   },
   {
    "duration": 5,
    "start_time": "2022-08-11T19:00:45.201Z"
   },
   {
    "duration": 4630,
    "start_time": "2022-08-11T19:01:10.083Z"
   },
   {
    "duration": 1774,
    "start_time": "2022-08-11T19:01:27.336Z"
   },
   {
    "duration": 9112,
    "start_time": "2022-08-11T19:02:47.521Z"
   },
   {
    "duration": 4614,
    "start_time": "2022-08-11T19:03:08.686Z"
   },
   {
    "duration": 9225,
    "start_time": "2022-08-11T19:03:19.825Z"
   },
   {
    "duration": 9390,
    "start_time": "2022-08-11T19:04:21.865Z"
   },
   {
    "duration": 9393,
    "start_time": "2022-08-11T19:04:49.369Z"
   },
   {
    "duration": 44,
    "start_time": "2022-08-11T19:05:06.601Z"
   },
   {
    "duration": 4568,
    "start_time": "2022-08-11T19:05:26.340Z"
   },
   {
    "duration": 118,
    "start_time": "2022-08-11T19:06:21.691Z"
   },
   {
    "duration": 175,
    "start_time": "2022-08-11T19:06:33.466Z"
   },
   {
    "duration": 184,
    "start_time": "2022-08-11T19:06:45.539Z"
   },
   {
    "duration": 4482,
    "start_time": "2022-08-11T19:15:45.324Z"
   },
   {
    "duration": 192,
    "start_time": "2022-08-11T19:15:49.808Z"
   },
   {
    "duration": 116,
    "start_time": "2022-08-11T19:16:02.598Z"
   },
   {
    "duration": 42,
    "start_time": "2022-08-11T19:16:22.481Z"
   },
   {
    "duration": 44,
    "start_time": "2022-08-11T19:16:26.770Z"
   },
   {
    "duration": 1561,
    "start_time": "2022-08-22T14:45:20.325Z"
   },
   {
    "duration": 223,
    "start_time": "2022-08-22T14:45:21.891Z"
   },
   {
    "duration": 39,
    "start_time": "2022-08-22T14:45:22.115Z"
   },
   {
    "duration": 15,
    "start_time": "2022-08-22T14:45:22.156Z"
   },
   {
    "duration": 36,
    "start_time": "2022-08-22T14:45:22.173Z"
   },
   {
    "duration": 14,
    "start_time": "2022-08-22T14:45:22.211Z"
   },
   {
    "duration": 119,
    "start_time": "2022-08-22T14:45:22.227Z"
   },
   {
    "duration": 5,
    "start_time": "2022-08-22T14:45:22.348Z"
   },
   {
    "duration": 11,
    "start_time": "2022-08-22T14:45:22.354Z"
   },
   {
    "duration": 36,
    "start_time": "2022-08-22T14:45:22.368Z"
   },
   {
    "duration": 123,
    "start_time": "2022-08-22T14:45:22.405Z"
   },
   {
    "duration": 26,
    "start_time": "2022-08-22T14:45:22.530Z"
   },
   {
    "duration": 78,
    "start_time": "2022-08-22T14:45:22.557Z"
   },
   {
    "duration": 30,
    "start_time": "2022-08-22T14:45:22.636Z"
   },
   {
    "duration": 75,
    "start_time": "2022-08-22T14:45:22.667Z"
   },
   {
    "duration": 23,
    "start_time": "2022-08-22T14:45:22.744Z"
   },
   {
    "duration": 26,
    "start_time": "2022-08-22T14:45:22.769Z"
   },
   {
    "duration": 23,
    "start_time": "2022-08-22T14:45:22.796Z"
   },
   {
    "duration": 33,
    "start_time": "2022-08-22T14:45:22.820Z"
   },
   {
    "duration": 7,
    "start_time": "2022-08-22T14:45:22.855Z"
   },
   {
    "duration": 36,
    "start_time": "2022-08-22T14:45:22.863Z"
   },
   {
    "duration": 16,
    "start_time": "2022-08-22T14:45:22.901Z"
   },
   {
    "duration": 36,
    "start_time": "2022-08-22T14:45:22.919Z"
   },
   {
    "duration": 20,
    "start_time": "2022-08-22T14:45:22.956Z"
   },
   {
    "duration": 30,
    "start_time": "2022-08-22T14:45:22.978Z"
   },
   {
    "duration": 5,
    "start_time": "2022-08-22T14:45:23.010Z"
   },
   {
    "duration": 10,
    "start_time": "2022-08-22T14:45:23.017Z"
   },
   {
    "duration": 4,
    "start_time": "2022-08-22T14:45:25.571Z"
   },
   {
    "duration": 5,
    "start_time": "2022-08-22T14:46:40.875Z"
   },
   {
    "duration": 19,
    "start_time": "2022-08-22T14:46:42.011Z"
   },
   {
    "duration": 6911,
    "start_time": "2022-08-22T14:46:56.820Z"
   },
   {
    "duration": 94270,
    "start_time": "2022-08-22T14:49:18.107Z"
   },
   {
    "duration": 975194,
    "start_time": "2022-08-22T14:50:52.379Z"
   },
   {
    "duration": 7396,
    "start_time": "2022-08-22T15:50:46.546Z"
   },
   {
    "duration": 7079,
    "start_time": "2022-08-22T15:51:00.347Z"
   },
   {
    "duration": 7121,
    "start_time": "2022-08-22T15:51:14.108Z"
   },
   {
    "duration": 93814,
    "start_time": "2022-08-22T15:51:38.321Z"
   },
   {
    "duration": 1570,
    "start_time": "2022-08-23T07:33:44.612Z"
   },
   {
    "duration": 216,
    "start_time": "2022-08-23T07:33:46.189Z"
   },
   {
    "duration": 47,
    "start_time": "2022-08-23T07:33:46.406Z"
   },
   {
    "duration": 21,
    "start_time": "2022-08-23T07:33:46.455Z"
   },
   {
    "duration": 80,
    "start_time": "2022-08-23T07:33:46.479Z"
   },
   {
    "duration": 20,
    "start_time": "2022-08-23T07:33:46.562Z"
   },
   {
    "duration": 123,
    "start_time": "2022-08-23T07:33:46.585Z"
   },
   {
    "duration": 8,
    "start_time": "2022-08-23T07:33:46.710Z"
   },
   {
    "duration": 24,
    "start_time": "2022-08-23T07:33:46.721Z"
   },
   {
    "duration": 24,
    "start_time": "2022-08-23T07:33:46.747Z"
   },
   {
    "duration": 164,
    "start_time": "2022-08-23T07:33:46.773Z"
   },
   {
    "duration": 25,
    "start_time": "2022-08-23T07:33:46.939Z"
   },
   {
    "duration": 91,
    "start_time": "2022-08-23T07:33:46.965Z"
   },
   {
    "duration": 39,
    "start_time": "2022-08-23T07:33:47.059Z"
   },
   {
    "duration": 98,
    "start_time": "2022-08-23T07:33:47.112Z"
   },
   {
    "duration": 19,
    "start_time": "2022-08-23T07:33:47.212Z"
   },
   {
    "duration": 23,
    "start_time": "2022-08-23T07:33:47.233Z"
   },
   {
    "duration": 25,
    "start_time": "2022-08-23T07:33:47.258Z"
   },
   {
    "duration": 41,
    "start_time": "2022-08-23T07:33:47.284Z"
   },
   {
    "duration": 5,
    "start_time": "2022-08-23T07:33:47.326Z"
   },
   {
    "duration": 18,
    "start_time": "2022-08-23T07:33:47.332Z"
   },
   {
    "duration": 16,
    "start_time": "2022-08-23T07:33:47.352Z"
   },
   {
    "duration": 43,
    "start_time": "2022-08-23T07:33:47.370Z"
   },
   {
    "duration": 16,
    "start_time": "2022-08-23T07:33:47.414Z"
   },
   {
    "duration": 12,
    "start_time": "2022-08-23T07:33:47.432Z"
   },
   {
    "duration": 7,
    "start_time": "2022-08-23T07:33:47.446Z"
   },
   {
    "duration": 10,
    "start_time": "2022-08-23T07:33:47.454Z"
   },
   {
    "duration": 114,
    "start_time": "2022-08-23T07:33:53.571Z"
   },
   {
    "duration": 4,
    "start_time": "2022-08-23T07:34:01.660Z"
   },
   {
    "duration": 93,
    "start_time": "2022-08-23T07:34:42.651Z"
   },
   {
    "duration": 29609,
    "start_time": "2022-08-23T07:46:43.496Z"
   },
   {
    "duration": 60297,
    "start_time": "2022-08-23T07:48:04.533Z"
   },
   {
    "duration": 57393,
    "start_time": "2022-08-23T07:49:51.284Z"
   },
   {
    "duration": 14,
    "start_time": "2022-08-23T07:51:05.935Z"
   },
   {
    "duration": 12,
    "start_time": "2022-08-23T07:51:12.743Z"
   },
   {
    "duration": 55013,
    "start_time": "2022-08-23T08:46:17.765Z"
   },
   {
    "duration": 137986,
    "start_time": "2022-08-23T08:49:52.607Z"
   },
   {
    "duration": 445135,
    "start_time": "2022-08-23T08:53:00.824Z"
   },
   {
    "duration": 54,
    "start_time": "2022-08-23T09:00:25.961Z"
   },
   {
    "duration": 722450,
    "start_time": "2022-08-23T09:03:49.469Z"
   },
   {
    "duration": 86702,
    "start_time": "2022-08-23T09:18:16.624Z"
   },
   {
    "duration": 3,
    "start_time": "2022-08-23T09:19:43.328Z"
   },
   {
    "duration": 5,
    "start_time": "2022-08-23T09:19:47.789Z"
   },
   {
    "duration": 9265,
    "start_time": "2022-08-23T09:20:25.780Z"
   },
   {
    "duration": 3,
    "start_time": "2022-08-23T09:20:35.047Z"
   },
   {
    "duration": 3,
    "start_time": "2022-08-23T09:20:35.644Z"
   },
   {
    "duration": 77,
    "start_time": "2022-08-23T09:20:52.797Z"
   },
   {
    "duration": 2,
    "start_time": "2022-08-23T09:21:01.399Z"
   },
   {
    "duration": 14,
    "start_time": "2022-08-23T09:22:16.555Z"
   },
   {
    "duration": 4,
    "start_time": "2022-08-23T09:23:52.413Z"
   },
   {
    "duration": 3,
    "start_time": "2022-08-23T09:23:55.514Z"
   },
   {
    "duration": 11,
    "start_time": "2022-08-23T09:23:57.199Z"
   },
   {
    "duration": 10146895,
    "start_time": "2022-08-23T09:29:22.814Z"
   },
   {
    "duration": 0,
    "start_time": "2022-08-23T12:18:29.713Z"
   },
   {
    "duration": 0,
    "start_time": "2022-08-23T12:18:29.716Z"
   },
   {
    "duration": 5,
    "start_time": "2022-08-23T12:18:51.148Z"
   },
   {
    "duration": 97,
    "start_time": "2022-08-23T12:18:51.155Z"
   },
   {
    "duration": 42,
    "start_time": "2022-08-23T12:18:51.254Z"
   },
   {
    "duration": 20,
    "start_time": "2022-08-23T12:18:51.301Z"
   },
   {
    "duration": 29,
    "start_time": "2022-08-23T12:18:51.324Z"
   },
   {
    "duration": 32,
    "start_time": "2022-08-23T12:18:51.355Z"
   },
   {
    "duration": 136,
    "start_time": "2022-08-23T12:18:51.389Z"
   },
   {
    "duration": 6,
    "start_time": "2022-08-23T12:18:51.526Z"
   },
   {
    "duration": 12,
    "start_time": "2022-08-23T12:18:51.533Z"
   },
   {
    "duration": 25,
    "start_time": "2022-08-23T12:18:51.547Z"
   },
   {
    "duration": 58,
    "start_time": "2022-08-23T12:18:51.575Z"
   },
   {
    "duration": 28,
    "start_time": "2022-08-23T12:18:51.634Z"
   },
   {
    "duration": 47,
    "start_time": "2022-08-23T12:18:51.664Z"
   },
   {
    "duration": 32,
    "start_time": "2022-08-23T12:18:51.712Z"
   },
   {
    "duration": 55,
    "start_time": "2022-08-23T12:18:51.746Z"
   },
   {
    "duration": 22,
    "start_time": "2022-08-23T12:18:51.802Z"
   },
   {
    "duration": 27,
    "start_time": "2022-08-23T12:18:51.826Z"
   },
   {
    "duration": 41,
    "start_time": "2022-08-23T12:18:51.854Z"
   },
   {
    "duration": 46,
    "start_time": "2022-08-23T12:18:51.897Z"
   },
   {
    "duration": 8,
    "start_time": "2022-08-23T12:18:51.944Z"
   },
   {
    "duration": 23,
    "start_time": "2022-08-23T12:18:51.954Z"
   },
   {
    "duration": 39,
    "start_time": "2022-08-23T12:18:51.979Z"
   },
   {
    "duration": 26,
    "start_time": "2022-08-23T12:18:52.020Z"
   },
   {
    "duration": 19,
    "start_time": "2022-08-23T12:18:52.048Z"
   },
   {
    "duration": 28,
    "start_time": "2022-08-23T12:18:52.069Z"
   },
   {
    "duration": 6,
    "start_time": "2022-08-23T12:18:52.104Z"
   },
   {
    "duration": 30,
    "start_time": "2022-08-23T12:18:52.112Z"
   },
   {
    "duration": 38,
    "start_time": "2022-08-23T12:18:52.144Z"
   },
   {
    "duration": 44,
    "start_time": "2022-08-23T12:18:52.185Z"
   },
   {
    "duration": 0,
    "start_time": "2022-08-23T12:18:52.231Z"
   },
   {
    "duration": 0,
    "start_time": "2022-08-23T12:18:52.232Z"
   },
   {
    "duration": 0,
    "start_time": "2022-08-23T12:18:52.233Z"
   },
   {
    "duration": 0,
    "start_time": "2022-08-23T12:18:52.235Z"
   },
   {
    "duration": 0,
    "start_time": "2022-08-23T12:18:52.237Z"
   },
   {
    "duration": 0,
    "start_time": "2022-08-23T12:18:52.238Z"
   },
   {
    "duration": 0,
    "start_time": "2022-08-23T12:18:52.239Z"
   },
   {
    "duration": 0,
    "start_time": "2022-08-23T12:18:52.240Z"
   },
   {
    "duration": 0,
    "start_time": "2022-08-23T12:18:52.242Z"
   },
   {
    "duration": 4,
    "start_time": "2022-08-23T12:19:14.468Z"
   },
   {
    "duration": 101,
    "start_time": "2022-08-23T12:19:14.474Z"
   },
   {
    "duration": 46,
    "start_time": "2022-08-23T12:19:14.577Z"
   },
   {
    "duration": 15,
    "start_time": "2022-08-23T12:19:14.624Z"
   },
   {
    "duration": 21,
    "start_time": "2022-08-23T12:19:14.642Z"
   },
   {
    "duration": 38,
    "start_time": "2022-08-23T12:19:14.665Z"
   },
   {
    "duration": 109,
    "start_time": "2022-08-23T12:19:14.705Z"
   },
   {
    "duration": 6,
    "start_time": "2022-08-23T12:19:14.815Z"
   },
   {
    "duration": 12,
    "start_time": "2022-08-23T12:19:14.822Z"
   },
   {
    "duration": 31,
    "start_time": "2022-08-23T12:19:14.836Z"
   },
   {
    "duration": 57,
    "start_time": "2022-08-23T12:19:14.870Z"
   },
   {
    "duration": 26,
    "start_time": "2022-08-23T12:19:14.929Z"
   },
   {
    "duration": 67,
    "start_time": "2022-08-23T12:19:14.957Z"
   },
   {
    "duration": 29,
    "start_time": "2022-08-23T12:19:15.026Z"
   },
   {
    "duration": 51,
    "start_time": "2022-08-23T12:19:15.056Z"
   },
   {
    "duration": 29,
    "start_time": "2022-08-23T12:19:15.109Z"
   },
   {
    "duration": 36,
    "start_time": "2022-08-23T12:19:15.140Z"
   },
   {
    "duration": 38,
    "start_time": "2022-08-23T12:19:15.177Z"
   },
   {
    "duration": 30,
    "start_time": "2022-08-23T12:19:15.216Z"
   },
   {
    "duration": 5,
    "start_time": "2022-08-23T12:19:15.248Z"
   },
   {
    "duration": 43,
    "start_time": "2022-08-23T12:19:15.254Z"
   },
   {
    "duration": 35,
    "start_time": "2022-08-23T12:19:15.298Z"
   },
   {
    "duration": 33,
    "start_time": "2022-08-23T12:19:15.335Z"
   },
   {
    "duration": 16,
    "start_time": "2022-08-23T12:19:15.370Z"
   },
   {
    "duration": 22,
    "start_time": "2022-08-23T12:19:15.395Z"
   },
   {
    "duration": 4,
    "start_time": "2022-08-23T12:19:15.419Z"
   },
   {
    "duration": 16,
    "start_time": "2022-08-23T12:19:15.424Z"
   },
   {
    "duration": 8,
    "start_time": "2022-08-23T12:19:15.442Z"
   },
   {
    "duration": 21,
    "start_time": "2022-08-23T12:19:19.382Z"
   },
   {
    "duration": 7289,
    "start_time": "2022-08-23T12:19:24.410Z"
   },
   {
    "duration": 4,
    "start_time": "2022-08-23T12:19:31.700Z"
   },
   {
    "duration": 8,
    "start_time": "2022-08-23T12:19:31.705Z"
   },
   {
    "duration": 8,
    "start_time": "2022-08-23T12:19:31.715Z"
   },
   {
    "duration": 94245,
    "start_time": "2022-08-23T12:19:32.518Z"
   },
   {
    "duration": 711820,
    "start_time": "2022-08-23T12:21:06.764Z"
   },
   {
    "duration": 1026752,
    "start_time": "2022-08-23T12:34:14.239Z"
   },
   {
    "duration": 9,
    "start_time": "2022-08-23T13:29:42.167Z"
   },
   {
    "duration": 20,
    "start_time": "2022-08-23T13:29:56.774Z"
   },
   {
    "duration": 14,
    "start_time": "2022-08-23T13:33:25.106Z"
   },
   {
    "duration": 15,
    "start_time": "2022-08-23T13:33:55.699Z"
   },
   {
    "duration": 3,
    "start_time": "2022-08-23T13:34:10.636Z"
   },
   {
    "duration": 8,
    "start_time": "2022-08-23T13:34:18.137Z"
   },
   {
    "duration": 7691,
    "start_time": "2022-08-23T13:34:31.620Z"
   },
   {
    "duration": 4,
    "start_time": "2022-08-23T13:34:39.313Z"
   },
   {
    "duration": 12,
    "start_time": "2022-08-23T13:34:39.318Z"
   },
   {
    "duration": 15,
    "start_time": "2022-08-23T13:35:41.208Z"
   },
   {
    "duration": 4,
    "start_time": "2022-08-23T13:35:47.986Z"
   },
   {
    "duration": 5,
    "start_time": "2022-08-23T13:39:00.114Z"
   },
   {
    "duration": 6,
    "start_time": "2022-08-23T13:39:01.279Z"
   },
   {
    "duration": 5,
    "start_time": "2022-08-23T13:39:59.001Z"
   },
   {
    "duration": 5,
    "start_time": "2022-08-23T13:39:59.854Z"
   },
   {
    "duration": 5,
    "start_time": "2022-08-23T13:40:08.926Z"
   },
   {
    "duration": 7,
    "start_time": "2022-08-23T13:40:09.479Z"
   },
   {
    "duration": 6,
    "start_time": "2022-08-23T13:45:18.101Z"
   },
   {
    "duration": 2,
    "start_time": "2022-08-23T13:45:19.083Z"
   },
   {
    "duration": 7,
    "start_time": "2022-08-23T13:45:27.252Z"
   },
   {
    "duration": 5,
    "start_time": "2022-08-23T13:45:40.676Z"
   },
   {
    "duration": 5,
    "start_time": "2022-08-23T13:45:41.900Z"
   },
   {
    "duration": 7,
    "start_time": "2022-08-23T13:45:42.461Z"
   },
   {
    "duration": 2,
    "start_time": "2022-08-23T14:23:13.468Z"
   },
   {
    "duration": 8016,
    "start_time": "2022-08-23T14:23:58.799Z"
   },
   {
    "duration": 4,
    "start_time": "2022-08-23T14:24:11.865Z"
   },
   {
    "duration": 68,
    "start_time": "2022-08-23T14:24:28.691Z"
   },
   {
    "duration": 7882,
    "start_time": "2022-08-23T14:24:44.525Z"
   },
   {
    "duration": 4,
    "start_time": "2022-08-23T14:39:29.133Z"
   },
   {
    "duration": 83,
    "start_time": "2022-08-23T14:39:29.140Z"
   },
   {
    "duration": 35,
    "start_time": "2022-08-23T14:39:29.225Z"
   },
   {
    "duration": 24,
    "start_time": "2022-08-23T14:39:29.262Z"
   },
   {
    "duration": 19,
    "start_time": "2022-08-23T14:39:29.288Z"
   },
   {
    "duration": 14,
    "start_time": "2022-08-23T14:39:29.309Z"
   },
   {
    "duration": 109,
    "start_time": "2022-08-23T14:39:29.325Z"
   },
   {
    "duration": 5,
    "start_time": "2022-08-23T14:39:29.436Z"
   },
   {
    "duration": 8,
    "start_time": "2022-08-23T14:39:29.443Z"
   },
   {
    "duration": 35,
    "start_time": "2022-08-23T14:39:29.452Z"
   },
   {
    "duration": 49,
    "start_time": "2022-08-23T14:39:29.489Z"
   },
   {
    "duration": 24,
    "start_time": "2022-08-23T14:39:29.540Z"
   },
   {
    "duration": 42,
    "start_time": "2022-08-23T14:39:29.566Z"
   },
   {
    "duration": 31,
    "start_time": "2022-08-23T14:39:29.610Z"
   },
   {
    "duration": 42,
    "start_time": "2022-08-23T14:39:29.643Z"
   },
   {
    "duration": 21,
    "start_time": "2022-08-23T14:39:29.686Z"
   },
   {
    "duration": 24,
    "start_time": "2022-08-23T14:39:29.708Z"
   },
   {
    "duration": 23,
    "start_time": "2022-08-23T14:39:29.733Z"
   },
   {
    "duration": 54,
    "start_time": "2022-08-23T14:39:29.758Z"
   },
   {
    "duration": 5,
    "start_time": "2022-08-23T14:39:29.813Z"
   },
   {
    "duration": 17,
    "start_time": "2022-08-23T14:39:29.820Z"
   },
   {
    "duration": 16,
    "start_time": "2022-08-23T14:39:29.839Z"
   },
   {
    "duration": 43,
    "start_time": "2022-08-23T14:39:29.856Z"
   },
   {
    "duration": 16,
    "start_time": "2022-08-23T14:39:29.900Z"
   },
   {
    "duration": 12,
    "start_time": "2022-08-23T14:39:29.917Z"
   },
   {
    "duration": 4,
    "start_time": "2022-08-23T14:39:29.930Z"
   },
   {
    "duration": 8,
    "start_time": "2022-08-23T14:39:29.936Z"
   },
   {
    "duration": 6,
    "start_time": "2022-08-23T14:39:29.945Z"
   },
   {
    "duration": 45,
    "start_time": "2022-08-23T14:39:29.952Z"
   },
   {
    "duration": 3,
    "start_time": "2022-08-23T14:39:29.998Z"
   },
   {
    "duration": 8211,
    "start_time": "2022-08-23T14:39:30.003Z"
   },
   {
    "duration": 88861,
    "start_time": "2022-08-23T14:39:38.216Z"
   },
   {
    "duration": 418762,
    "start_time": "2022-08-23T14:41:07.078Z"
   },
   {
    "duration": 465952,
    "start_time": "2022-08-23T14:48:05.842Z"
   },
   {
    "duration": 260705,
    "start_time": "2022-08-23T14:55:51.795Z"
   },
   {
    "duration": 4,
    "start_time": "2022-08-23T15:15:55.278Z"
   },
   {
    "duration": 52,
    "start_time": "2022-08-23T15:24:26.676Z"
   },
   {
    "duration": 10,
    "start_time": "2022-08-23T15:25:17.306Z"
   },
   {
    "duration": 115,
    "start_time": "2022-08-23T15:25:31.175Z"
   },
   {
    "duration": 106,
    "start_time": "2022-08-23T15:26:40.088Z"
   },
   {
    "duration": 3,
    "start_time": "2022-08-23T15:26:44.622Z"
   },
   {
    "duration": 78,
    "start_time": "2022-08-23T15:26:45.026Z"
   },
   {
    "duration": 25,
    "start_time": "2022-08-23T15:29:18.766Z"
   },
   {
    "duration": 77,
    "start_time": "2022-08-23T15:30:49.393Z"
   },
   {
    "duration": 4,
    "start_time": "2022-08-23T15:41:04.020Z"
   },
   {
    "duration": 2838,
    "start_time": "2022-08-23T15:55:17.869Z"
   },
   {
    "duration": 1633,
    "start_time": "2022-08-23T15:57:03.362Z"
   },
   {
    "duration": 1672,
    "start_time": "2022-08-23T15:59:52.635Z"
   },
   {
    "duration": 680,
    "start_time": "2022-08-23T16:01:15.017Z"
   },
   {
    "duration": 4,
    "start_time": "2022-08-23T16:01:55.986Z"
   },
   {
    "duration": 6,
    "start_time": "2022-08-23T16:03:48.496Z"
   },
   {
    "duration": 3,
    "start_time": "2022-08-23T16:03:55.617Z"
   },
   {
    "duration": 136,
    "start_time": "2022-08-23T16:03:55.992Z"
   },
   {
    "duration": 32,
    "start_time": "2022-08-23T16:03:56.405Z"
   },
   {
    "duration": 88,
    "start_time": "2022-08-23T16:03:56.835Z"
   },
   {
    "duration": 61,
    "start_time": "2022-08-23T16:03:57.243Z"
   },
   {
    "duration": 1646,
    "start_time": "2022-08-23T16:03:57.639Z"
   },
   {
    "duration": 5,
    "start_time": "2022-08-23T16:03:59.286Z"
   },
   {
    "duration": 7,
    "start_time": "2022-08-23T16:04:17.376Z"
   },
   {
    "duration": 3,
    "start_time": "2022-08-23T16:04:26.344Z"
   },
   {
    "duration": 122,
    "start_time": "2022-08-23T16:04:26.991Z"
   },
   {
    "duration": 28,
    "start_time": "2022-08-23T16:04:28.010Z"
   },
   {
    "duration": 83,
    "start_time": "2022-08-23T16:04:28.696Z"
   },
   {
    "duration": 31267,
    "start_time": "2022-08-23T16:04:29.428Z"
   },
   {
    "duration": 1702,
    "start_time": "2022-08-23T16:05:00.697Z"
   },
   {
    "duration": 3,
    "start_time": "2022-08-23T16:05:02.401Z"
   },
   {
    "duration": 1604,
    "start_time": "2022-08-23T16:05:53.000Z"
   },
   {
    "duration": 1881,
    "start_time": "2022-08-23T16:06:04.896Z"
   },
   {
    "duration": 11,
    "start_time": "2022-08-23T16:06:23.873Z"
   },
   {
    "duration": 2113,
    "start_time": "2022-08-23T16:07:00.523Z"
   },
   {
    "duration": 529,
    "start_time": "2022-08-23T16:07:30.511Z"
   },
   {
    "duration": 187,
    "start_time": "2022-08-23T16:13:24.303Z"
   },
   {
    "duration": 205,
    "start_time": "2022-08-23T16:13:29.388Z"
   },
   {
    "duration": 1940,
    "start_time": "2022-08-24T10:01:16.709Z"
   },
   {
    "duration": 6,
    "start_time": "2022-08-24T10:05:25.615Z"
   },
   {
    "duration": 239,
    "start_time": "2022-08-24T10:05:25.623Z"
   },
   {
    "duration": 66,
    "start_time": "2022-08-24T10:05:25.865Z"
   },
   {
    "duration": 37,
    "start_time": "2022-08-24T10:05:25.932Z"
   },
   {
    "duration": 31,
    "start_time": "2022-08-24T10:05:25.973Z"
   },
   {
    "duration": 18,
    "start_time": "2022-08-24T10:05:26.007Z"
   },
   {
    "duration": 156,
    "start_time": "2022-08-24T10:05:26.027Z"
   },
   {
    "duration": 7,
    "start_time": "2022-08-24T10:05:26.187Z"
   },
   {
    "duration": 14,
    "start_time": "2022-08-24T10:05:26.196Z"
   },
   {
    "duration": 35,
    "start_time": "2022-08-24T10:05:26.213Z"
   },
   {
    "duration": 104,
    "start_time": "2022-08-24T10:05:26.252Z"
   },
   {
    "duration": 58,
    "start_time": "2022-08-24T10:05:26.359Z"
   },
   {
    "duration": 182,
    "start_time": "2022-08-24T10:05:26.419Z"
   },
   {
    "duration": 51,
    "start_time": "2022-08-24T10:05:26.604Z"
   },
   {
    "duration": 169,
    "start_time": "2022-08-24T10:05:26.657Z"
   },
   {
    "duration": 29,
    "start_time": "2022-08-24T10:05:26.829Z"
   },
   {
    "duration": 69,
    "start_time": "2022-08-24T10:05:26.861Z"
   },
   {
    "duration": 44,
    "start_time": "2022-08-24T10:05:26.933Z"
   },
   {
    "duration": 52,
    "start_time": "2022-08-24T10:05:26.979Z"
   },
   {
    "duration": 8,
    "start_time": "2022-08-24T10:05:27.034Z"
   },
   {
    "duration": 52,
    "start_time": "2022-08-24T10:05:27.045Z"
   },
   {
    "duration": 38,
    "start_time": "2022-08-24T10:05:27.103Z"
   },
   {
    "duration": 43,
    "start_time": "2022-08-24T10:05:27.144Z"
   },
   {
    "duration": 24,
    "start_time": "2022-08-24T10:05:27.190Z"
   },
   {
    "duration": 20,
    "start_time": "2022-08-24T10:05:27.217Z"
   },
   {
    "duration": 5,
    "start_time": "2022-08-24T10:05:27.240Z"
   },
   {
    "duration": 29,
    "start_time": "2022-08-24T10:05:27.268Z"
   },
   {
    "duration": 6,
    "start_time": "2022-08-24T10:05:27.300Z"
   },
   {
    "duration": 31,
    "start_time": "2022-08-24T10:05:27.310Z"
   },
   {
    "duration": 3,
    "start_time": "2022-08-24T10:07:31.303Z"
   },
   {
    "duration": 7388,
    "start_time": "2022-08-24T10:07:36.962Z"
   },
   {
    "duration": 5,
    "start_time": "2022-08-24T10:11:03.159Z"
   },
   {
    "duration": 9,
    "start_time": "2022-08-24T10:11:04.177Z"
   },
   {
    "duration": 5,
    "start_time": "2022-08-24T10:11:07.490Z"
   },
   {
    "duration": 15,
    "start_time": "2022-08-24T10:11:15.911Z"
   },
   {
    "duration": 12,
    "start_time": "2022-08-24T10:11:41.308Z"
   },
   {
    "duration": 7,
    "start_time": "2022-08-24T10:11:46.989Z"
   },
   {
    "duration": 5,
    "start_time": "2022-08-24T10:11:47.658Z"
   },
   {
    "duration": 19,
    "start_time": "2022-08-24T10:11:49.186Z"
   },
   {
    "duration": 4,
    "start_time": "2022-08-24T10:11:52.938Z"
   },
   {
    "duration": 6063,
    "start_time": "2022-08-24T10:11:55.018Z"
   },
   {
    "duration": 99387,
    "start_time": "2022-08-24T10:12:12.938Z"
   },
   {
    "duration": 2109,
    "start_time": "2022-08-24T10:22:44.286Z"
   },
   {
    "duration": 3,
    "start_time": "2022-08-24T10:23:03.378Z"
   },
   {
    "duration": 35049,
    "start_time": "2022-08-24T10:23:52.638Z"
   },
   {
    "duration": 0,
    "start_time": "2022-08-24T10:24:27.689Z"
   },
   {
    "duration": 35202,
    "start_time": "2022-08-24T10:26:19.582Z"
   },
   {
    "duration": 1948,
    "start_time": "2022-08-24T10:27:25.678Z"
   },
   {
    "duration": 6,
    "start_time": "2022-08-24T10:28:36.655Z"
   },
   {
    "duration": 2242,
    "start_time": "2022-08-24T10:29:05.120Z"
   },
   {
    "duration": 2152,
    "start_time": "2022-08-24T10:29:24.024Z"
   },
   {
    "duration": 11,
    "start_time": "2022-08-24T10:30:11.262Z"
   },
   {
    "duration": 40438,
    "start_time": "2022-08-24T10:30:28.549Z"
   },
   {
    "duration": 436317,
    "start_time": "2022-08-24T10:31:11.614Z"
   },
   {
    "duration": 33769,
    "start_time": "2022-08-24T10:38:27.933Z"
   },
   {
    "duration": 2344,
    "start_time": "2022-08-24T10:39:01.770Z"
   },
   {
    "duration": 4330,
    "start_time": "2022-08-24T10:39:23.414Z"
   },
   {
    "duration": 4218,
    "start_time": "2022-08-24T10:39:42.395Z"
   },
   {
    "duration": 5814,
    "start_time": "2022-08-24T10:40:13.566Z"
   },
   {
    "duration": 1715,
    "start_time": "2022-08-24T15:45:50.376Z"
   },
   {
    "duration": 188,
    "start_time": "2022-08-24T15:45:52.094Z"
   },
   {
    "duration": 40,
    "start_time": "2022-08-24T15:45:52.284Z"
   },
   {
    "duration": 15,
    "start_time": "2022-08-24T15:45:52.325Z"
   },
   {
    "duration": 36,
    "start_time": "2022-08-24T15:45:52.342Z"
   },
   {
    "duration": 14,
    "start_time": "2022-08-24T15:45:52.380Z"
   },
   {
    "duration": 113,
    "start_time": "2022-08-24T15:45:52.395Z"
   },
   {
    "duration": 5,
    "start_time": "2022-08-24T15:45:52.510Z"
   },
   {
    "duration": 32,
    "start_time": "2022-08-24T15:45:52.517Z"
   },
   {
    "duration": 37,
    "start_time": "2022-08-24T15:45:52.552Z"
   },
   {
    "duration": 107,
    "start_time": "2022-08-24T15:45:52.590Z"
   },
   {
    "duration": 30,
    "start_time": "2022-08-24T15:45:52.699Z"
   },
   {
    "duration": 148,
    "start_time": "2022-08-24T15:45:52.730Z"
   },
   {
    "duration": 31,
    "start_time": "2022-08-24T15:45:52.880Z"
   },
   {
    "duration": 89,
    "start_time": "2022-08-24T15:45:52.913Z"
   },
   {
    "duration": 24,
    "start_time": "2022-08-24T15:45:53.004Z"
   },
   {
    "duration": 30,
    "start_time": "2022-08-24T15:45:53.030Z"
   },
   {
    "duration": 27,
    "start_time": "2022-08-24T15:45:53.062Z"
   },
   {
    "duration": 30,
    "start_time": "2022-08-24T15:45:53.091Z"
   },
   {
    "duration": 5,
    "start_time": "2022-08-24T15:45:53.123Z"
   },
   {
    "duration": 40,
    "start_time": "2022-08-24T15:45:53.130Z"
   },
   {
    "duration": 16,
    "start_time": "2022-08-24T15:45:53.171Z"
   },
   {
    "duration": 22,
    "start_time": "2022-08-24T15:45:53.189Z"
   },
   {
    "duration": 18,
    "start_time": "2022-08-24T15:45:53.213Z"
   },
   {
    "duration": 42,
    "start_time": "2022-08-24T15:45:53.233Z"
   },
   {
    "duration": 4,
    "start_time": "2022-08-24T15:45:53.277Z"
   },
   {
    "duration": 13,
    "start_time": "2022-08-24T15:45:53.283Z"
   },
   {
    "duration": 5,
    "start_time": "2022-08-24T15:45:53.299Z"
   },
   {
    "duration": 4,
    "start_time": "2022-08-24T15:45:53.306Z"
   },
   {
    "duration": 18,
    "start_time": "2022-08-24T15:45:53.311Z"
   },
   {
    "duration": 2,
    "start_time": "2022-08-24T15:45:53.331Z"
   },
   {
    "duration": 6668,
    "start_time": "2022-08-24T15:45:53.367Z"
   },
   {
    "duration": 86237,
    "start_time": "2022-08-24T15:46:00.038Z"
   },
   {
    "duration": 4,
    "start_time": "2022-08-24T15:47:50.006Z"
   },
   {
    "duration": 15,
    "start_time": "2022-08-24T15:47:51.588Z"
   },
   {
    "duration": 6,
    "start_time": "2022-08-24T15:47:54.302Z"
   },
   {
    "duration": 4,
    "start_time": "2022-08-24T15:47:54.717Z"
   },
   {
    "duration": 15,
    "start_time": "2022-08-24T15:47:56.399Z"
   },
   {
    "duration": 3,
    "start_time": "2022-08-24T15:48:01.868Z"
   },
   {
    "duration": 7736,
    "start_time": "2022-08-24T15:48:04.400Z"
   },
   {
    "duration": 99170,
    "start_time": "2022-08-24T15:48:12.138Z"
   },
   {
    "duration": 4,
    "start_time": "2022-08-24T15:51:29.283Z"
   },
   {
    "duration": 13,
    "start_time": "2022-08-24T15:51:30.594Z"
   },
   {
    "duration": 5,
    "start_time": "2022-08-24T15:51:33.010Z"
   },
   {
    "duration": 4,
    "start_time": "2022-08-24T15:51:33.531Z"
   },
   {
    "duration": 2,
    "start_time": "2022-08-24T15:51:36.083Z"
   },
   {
    "duration": 9534,
    "start_time": "2022-08-24T15:51:36.499Z"
   },
   {
    "duration": 98110,
    "start_time": "2022-08-24T15:51:46.035Z"
   },
   {
    "duration": 22,
    "start_time": "2022-08-24T15:53:24.147Z"
   },
   {
    "duration": 118,
    "start_time": "2022-08-24T15:57:37.033Z"
   },
   {
    "duration": 11,
    "start_time": "2022-08-24T15:57:50.890Z"
   },
   {
    "duration": 5,
    "start_time": "2022-08-24T15:57:56.172Z"
   },
   {
    "duration": 3,
    "start_time": "2022-08-24T15:58:10.012Z"
   },
   {
    "duration": 7993,
    "start_time": "2022-08-24T15:58:10.488Z"
   },
   {
    "duration": 11,
    "start_time": "2022-08-24T15:58:52.048Z"
   },
   {
    "duration": 6,
    "start_time": "2022-08-24T15:58:52.479Z"
   },
   {
    "duration": 4,
    "start_time": "2022-08-24T15:59:08.662Z"
   },
   {
    "duration": 94,
    "start_time": "2022-08-24T15:59:08.668Z"
   },
   {
    "duration": 35,
    "start_time": "2022-08-24T15:59:08.764Z"
   },
   {
    "duration": 16,
    "start_time": "2022-08-24T15:59:08.800Z"
   },
   {
    "duration": 23,
    "start_time": "2022-08-24T15:59:08.818Z"
   },
   {
    "duration": 17,
    "start_time": "2022-08-24T15:59:08.867Z"
   },
   {
    "duration": 108,
    "start_time": "2022-08-24T15:59:08.886Z"
   },
   {
    "duration": 6,
    "start_time": "2022-08-24T15:59:08.996Z"
   },
   {
    "duration": 9,
    "start_time": "2022-08-24T15:59:09.003Z"
   },
   {
    "duration": 24,
    "start_time": "2022-08-24T15:59:09.014Z"
   },
   {
    "duration": 54,
    "start_time": "2022-08-24T15:59:09.041Z"
   },
   {
    "duration": 27,
    "start_time": "2022-08-24T15:59:09.097Z"
   },
   {
    "duration": 58,
    "start_time": "2022-08-24T15:59:09.126Z"
   },
   {
    "duration": 31,
    "start_time": "2022-08-24T15:59:09.186Z"
   },
   {
    "duration": 67,
    "start_time": "2022-08-24T15:59:09.219Z"
   },
   {
    "duration": 23,
    "start_time": "2022-08-24T15:59:09.287Z"
   },
   {
    "duration": 29,
    "start_time": "2022-08-24T15:59:09.312Z"
   },
   {
    "duration": 40,
    "start_time": "2022-08-24T15:59:09.343Z"
   },
   {
    "duration": 29,
    "start_time": "2022-08-24T15:59:09.384Z"
   },
   {
    "duration": 6,
    "start_time": "2022-08-24T15:59:09.415Z"
   },
   {
    "duration": 47,
    "start_time": "2022-08-24T15:59:09.422Z"
   },
   {
    "duration": 16,
    "start_time": "2022-08-24T15:59:09.470Z"
   },
   {
    "duration": 25,
    "start_time": "2022-08-24T15:59:09.488Z"
   },
   {
    "duration": 20,
    "start_time": "2022-08-24T15:59:09.514Z"
   },
   {
    "duration": 44,
    "start_time": "2022-08-24T15:59:09.536Z"
   },
   {
    "duration": 5,
    "start_time": "2022-08-24T15:59:09.582Z"
   },
   {
    "duration": 16,
    "start_time": "2022-08-24T15:59:09.588Z"
   },
   {
    "duration": 6,
    "start_time": "2022-08-24T15:59:09.605Z"
   },
   {
    "duration": 4,
    "start_time": "2022-08-24T15:59:09.614Z"
   },
   {
    "duration": 17,
    "start_time": "2022-08-24T15:59:11.136Z"
   },
   {
    "duration": 17,
    "start_time": "2022-08-24T15:59:34.610Z"
   },
   {
    "duration": 19,
    "start_time": "2022-08-24T15:59:37.266Z"
   },
   {
    "duration": 4,
    "start_time": "2022-08-24T16:00:13.918Z"
   },
   {
    "duration": 106,
    "start_time": "2022-08-24T16:00:13.925Z"
   },
   {
    "duration": 36,
    "start_time": "2022-08-24T16:00:14.033Z"
   },
   {
    "duration": 16,
    "start_time": "2022-08-24T16:00:14.071Z"
   },
   {
    "duration": 23,
    "start_time": "2022-08-24T16:00:14.089Z"
   },
   {
    "duration": 15,
    "start_time": "2022-08-24T16:00:14.113Z"
   },
   {
    "duration": 122,
    "start_time": "2022-08-24T16:00:14.129Z"
   },
   {
    "duration": 6,
    "start_time": "2022-08-24T16:00:14.253Z"
   },
   {
    "duration": 6,
    "start_time": "2022-08-24T16:00:14.268Z"
   },
   {
    "duration": 31,
    "start_time": "2022-08-24T16:00:14.277Z"
   },
   {
    "duration": 57,
    "start_time": "2022-08-24T16:00:14.310Z"
   },
   {
    "duration": 32,
    "start_time": "2022-08-24T16:00:14.369Z"
   },
   {
    "duration": 64,
    "start_time": "2022-08-24T16:00:14.402Z"
   },
   {
    "duration": 37,
    "start_time": "2022-08-24T16:00:14.469Z"
   },
   {
    "duration": 66,
    "start_time": "2022-08-24T16:00:14.508Z"
   },
   {
    "duration": 26,
    "start_time": "2022-08-24T16:00:14.576Z"
   },
   {
    "duration": 76,
    "start_time": "2022-08-24T16:00:14.604Z"
   },
   {
    "duration": 25,
    "start_time": "2022-08-24T16:00:14.682Z"
   },
   {
    "duration": 72,
    "start_time": "2022-08-24T16:00:14.709Z"
   },
   {
    "duration": 20,
    "start_time": "2022-08-24T16:00:14.783Z"
   },
   {
    "duration": 30,
    "start_time": "2022-08-24T16:00:14.805Z"
   },
   {
    "duration": 25,
    "start_time": "2022-08-24T16:00:14.837Z"
   },
   {
    "duration": 29,
    "start_time": "2022-08-24T16:00:14.864Z"
   },
   {
    "duration": 19,
    "start_time": "2022-08-24T16:00:14.895Z"
   },
   {
    "duration": 15,
    "start_time": "2022-08-24T16:00:14.916Z"
   },
   {
    "duration": 7,
    "start_time": "2022-08-24T16:00:14.933Z"
   },
   {
    "duration": 45,
    "start_time": "2022-08-24T16:00:14.942Z"
   },
   {
    "duration": 56,
    "start_time": "2022-08-24T16:00:14.989Z"
   },
   {
    "duration": 91,
    "start_time": "2022-08-24T16:00:15.047Z"
   },
   {
    "duration": 18,
    "start_time": "2022-08-24T16:00:15.633Z"
   },
   {
    "duration": 22,
    "start_time": "2022-08-24T16:00:16.344Z"
   },
   {
    "duration": 5,
    "start_time": "2022-08-24T16:02:56.204Z"
   },
   {
    "duration": 103,
    "start_time": "2022-08-24T16:02:56.211Z"
   },
   {
    "duration": 35,
    "start_time": "2022-08-24T16:02:56.316Z"
   },
   {
    "duration": 17,
    "start_time": "2022-08-24T16:02:56.353Z"
   },
   {
    "duration": 1219,
    "start_time": "2022-08-24T16:02:58.097Z"
   },
   {
    "duration": 1658,
    "start_time": "2022-08-24T16:03:14.680Z"
   },
   {
    "duration": 5,
    "start_time": "2022-08-24T16:03:48.645Z"
   },
   {
    "duration": 107,
    "start_time": "2022-08-24T16:03:48.652Z"
   },
   {
    "duration": 43,
    "start_time": "2022-08-24T16:03:48.761Z"
   },
   {
    "duration": 16,
    "start_time": "2022-08-24T16:03:48.805Z"
   },
   {
    "duration": 1271,
    "start_time": "2022-08-24T16:03:50.583Z"
   },
   {
    "duration": 52,
    "start_time": "2022-08-24T16:04:30.444Z"
   },
   {
    "duration": 45,
    "start_time": "2022-08-24T16:05:34.182Z"
   },
   {
    "duration": 5,
    "start_time": "2022-08-24T16:06:00.564Z"
   },
   {
    "duration": 93,
    "start_time": "2022-08-24T16:06:00.574Z"
   },
   {
    "duration": 39,
    "start_time": "2022-08-24T16:06:00.670Z"
   },
   {
    "duration": 17,
    "start_time": "2022-08-24T16:06:00.711Z"
   },
   {
    "duration": 4,
    "start_time": "2022-08-24T16:06:01.978Z"
   },
   {
    "duration": 21,
    "start_time": "2022-08-24T16:06:10.813Z"
   },
   {
    "duration": 43,
    "start_time": "2022-08-24T16:07:35.981Z"
   },
   {
    "duration": 4,
    "start_time": "2022-08-24T16:07:51.449Z"
   },
   {
    "duration": 117,
    "start_time": "2022-08-24T16:07:51.455Z"
   },
   {
    "duration": 37,
    "start_time": "2022-08-24T16:07:51.573Z"
   },
   {
    "duration": 16,
    "start_time": "2022-08-24T16:07:51.612Z"
   },
   {
    "duration": 22,
    "start_time": "2022-08-24T16:07:53.378Z"
   },
   {
    "duration": 16,
    "start_time": "2022-08-24T16:08:02.997Z"
   },
   {
    "duration": 100,
    "start_time": "2022-08-24T16:08:11.061Z"
   },
   {
    "duration": 6,
    "start_time": "2022-08-24T16:08:11.660Z"
   },
   {
    "duration": 6,
    "start_time": "2022-08-24T16:08:12.189Z"
   },
   {
    "duration": 21,
    "start_time": "2022-08-24T16:08:12.438Z"
   },
   {
    "duration": 76,
    "start_time": "2022-08-24T16:08:12.837Z"
   },
   {
    "duration": 25,
    "start_time": "2022-08-24T16:08:13.029Z"
   },
   {
    "duration": 56,
    "start_time": "2022-08-24T16:08:13.463Z"
   },
   {
    "duration": 30,
    "start_time": "2022-08-24T16:08:13.671Z"
   },
   {
    "duration": 78,
    "start_time": "2022-08-24T16:08:14.687Z"
   },
   {
    "duration": 22,
    "start_time": "2022-08-24T16:08:15.134Z"
   },
   {
    "duration": 27,
    "start_time": "2022-08-24T16:08:16.964Z"
   },
   {
    "duration": 25,
    "start_time": "2022-08-24T16:08:19.386Z"
   },
   {
    "duration": 29,
    "start_time": "2022-08-24T16:08:21.253Z"
   },
   {
    "duration": 6,
    "start_time": "2022-08-24T16:08:25.452Z"
   },
   {
    "duration": 18,
    "start_time": "2022-08-24T16:08:27.572Z"
   },
   {
    "duration": 21,
    "start_time": "2022-08-24T16:08:36.734Z"
   },
   {
    "duration": 24,
    "start_time": "2022-08-24T16:08:41.160Z"
   },
   {
    "duration": 18,
    "start_time": "2022-08-24T16:08:46.878Z"
   },
   {
    "duration": 14,
    "start_time": "2022-08-24T16:08:49.846Z"
   },
   {
    "duration": 5,
    "start_time": "2022-08-24T16:08:55.350Z"
   },
   {
    "duration": 12,
    "start_time": "2022-08-24T16:08:55.893Z"
   },
   {
    "duration": 6,
    "start_time": "2022-08-24T16:08:58.189Z"
   },
   {
    "duration": 6,
    "start_time": "2022-08-24T16:08:58.998Z"
   },
   {
    "duration": 3,
    "start_time": "2022-08-24T16:09:03.685Z"
   },
   {
    "duration": 9162,
    "start_time": "2022-08-24T16:09:04.383Z"
   },
   {
    "duration": 102858,
    "start_time": "2022-08-24T16:09:15.654Z"
   },
   {
    "duration": 519960,
    "start_time": "2022-08-24T16:10:58.514Z"
   },
   {
    "duration": 93,
    "start_time": "2022-08-24T16:34:55.560Z"
   },
   {
    "duration": 5434,
    "start_time": "2022-08-24T16:35:11.957Z"
   },
   {
    "duration": 4747,
    "start_time": "2022-08-24T16:36:18.489Z"
   },
   {
    "duration": 190,
    "start_time": "2022-08-24T16:56:12.389Z"
   },
   {
    "duration": 116,
    "start_time": "2022-08-24T16:59:06.572Z"
   },
   {
    "duration": 2127,
    "start_time": "2022-08-25T08:57:14.913Z"
   },
   {
    "duration": 181,
    "start_time": "2022-08-25T08:57:17.041Z"
   },
   {
    "duration": 34,
    "start_time": "2022-08-25T08:57:17.224Z"
   },
   {
    "duration": 13,
    "start_time": "2022-08-25T08:57:17.259Z"
   },
   {
    "duration": 20,
    "start_time": "2022-08-25T08:57:17.273Z"
   },
   {
    "duration": 3,
    "start_time": "2022-08-25T08:57:26.521Z"
   },
   {
    "duration": 4,
    "start_time": "2022-08-25T08:58:38.191Z"
   },
   {
    "duration": 96,
    "start_time": "2022-08-25T08:58:38.198Z"
   },
   {
    "duration": 36,
    "start_time": "2022-08-25T08:58:38.297Z"
   },
   {
    "duration": 17,
    "start_time": "2022-08-25T08:58:38.335Z"
   },
   {
    "duration": 22,
    "start_time": "2022-08-25T08:58:38.354Z"
   },
   {
    "duration": 2,
    "start_time": "2022-08-25T08:58:38.406Z"
   },
   {
    "duration": 18,
    "start_time": "2022-08-25T08:58:38.409Z"
   },
   {
    "duration": 104,
    "start_time": "2022-08-25T08:58:38.428Z"
   },
   {
    "duration": 5,
    "start_time": "2022-08-25T08:58:38.533Z"
   },
   {
    "duration": 8,
    "start_time": "2022-08-25T08:58:38.540Z"
   },
   {
    "duration": 20,
    "start_time": "2022-08-25T08:58:38.550Z"
   },
   {
    "duration": 89,
    "start_time": "2022-08-25T08:58:38.572Z"
   },
   {
    "duration": 25,
    "start_time": "2022-08-25T08:58:38.663Z"
   },
   {
    "duration": 138,
    "start_time": "2022-08-25T08:58:38.689Z"
   },
   {
    "duration": 25,
    "start_time": "2022-08-25T08:58:38.829Z"
   },
   {
    "duration": 74,
    "start_time": "2022-08-25T08:58:38.855Z"
   },
   {
    "duration": 19,
    "start_time": "2022-08-25T08:58:38.930Z"
   },
   {
    "duration": 21,
    "start_time": "2022-08-25T08:58:38.950Z"
   },
   {
    "duration": 19,
    "start_time": "2022-08-25T08:58:38.972Z"
   },
   {
    "duration": 28,
    "start_time": "2022-08-25T08:58:38.992Z"
   },
   {
    "duration": 5,
    "start_time": "2022-08-25T08:58:39.021Z"
   },
   {
    "duration": 16,
    "start_time": "2022-08-25T08:58:39.027Z"
   },
   {
    "duration": 13,
    "start_time": "2022-08-25T08:58:39.044Z"
   },
   {
    "duration": 18,
    "start_time": "2022-08-25T08:58:39.058Z"
   },
   {
    "duration": 32,
    "start_time": "2022-08-25T08:58:39.077Z"
   },
   {
    "duration": 10,
    "start_time": "2022-08-25T08:58:39.110Z"
   },
   {
    "duration": 4,
    "start_time": "2022-08-25T08:58:39.122Z"
   },
   {
    "duration": 11,
    "start_time": "2022-08-25T08:58:39.128Z"
   },
   {
    "duration": 5,
    "start_time": "2022-08-25T08:58:39.141Z"
   },
   {
    "duration": 5,
    "start_time": "2022-08-25T08:58:39.147Z"
   },
   {
    "duration": 15,
    "start_time": "2022-08-25T08:58:39.153Z"
   },
   {
    "duration": 47,
    "start_time": "2022-08-25T08:58:39.169Z"
   },
   {
    "duration": 3,
    "start_time": "2022-08-25T08:58:39.217Z"
   },
   {
    "duration": 7417,
    "start_time": "2022-08-25T08:58:39.221Z"
   },
   {
    "duration": 83575,
    "start_time": "2022-08-25T08:58:46.640Z"
   },
   {
    "duration": 448595,
    "start_time": "2022-08-25T09:00:10.217Z"
   },
   {
    "duration": 222995,
    "start_time": "2022-08-25T09:07:38.814Z"
   },
   {
    "duration": 255365,
    "start_time": "2022-08-25T09:11:21.811Z"
   },
   {
    "duration": 4,
    "start_time": "2022-08-25T09:15:37.177Z"
   },
   {
    "duration": 3,
    "start_time": "2022-08-25T09:31:37.230Z"
   },
   {
    "duration": 76,
    "start_time": "2022-08-25T09:31:37.742Z"
   },
   {
    "duration": 25,
    "start_time": "2022-08-25T09:31:42.087Z"
   },
   {
    "duration": 82,
    "start_time": "2022-08-25T09:31:45.078Z"
   },
   {
    "duration": 30,
    "start_time": "2022-08-25T09:32:08.188Z"
   },
   {
    "duration": 3380,
    "start_time": "2022-08-25T09:32:10.374Z"
   },
   {
    "duration": 4,
    "start_time": "2022-08-25T09:32:13.755Z"
   },
   {
    "duration": 97,
    "start_time": "2022-08-25T09:32:51.333Z"
   },
   {
    "duration": 3385,
    "start_time": "2022-08-25T09:33:06.176Z"
   },
   {
    "duration": 167,
    "start_time": "2022-08-25T09:33:51.461Z"
   },
   {
    "duration": 170,
    "start_time": "2022-08-25T09:34:01.646Z"
   },
   {
    "duration": 478,
    "start_time": "2022-08-25T09:34:14.652Z"
   },
   {
    "duration": 12,
    "start_time": "2022-08-25T09:34:27.365Z"
   },
   {
    "duration": 1823,
    "start_time": "2022-08-25T09:34:43.025Z"
   },
   {
    "duration": 1950,
    "start_time": "2022-08-25T09:34:51.385Z"
   },
   {
    "duration": 3049,
    "start_time": "2022-08-25T09:35:01.914Z"
   },
   {
    "duration": 4086,
    "start_time": "2022-08-25T09:35:43.679Z"
   },
   {
    "duration": 10,
    "start_time": "2022-08-25T09:52:47.991Z"
   },
   {
    "duration": 3802,
    "start_time": "2022-08-25T09:53:00.885Z"
   },
   {
    "duration": 6,
    "start_time": "2022-08-25T09:54:27.212Z"
   },
   {
    "duration": 104,
    "start_time": "2022-08-25T09:54:27.219Z"
   },
   {
    "duration": 33,
    "start_time": "2022-08-25T09:54:27.325Z"
   },
   {
    "duration": 16,
    "start_time": "2022-08-25T09:54:27.359Z"
   },
   {
    "duration": 47,
    "start_time": "2022-08-25T09:54:27.377Z"
   },
   {
    "duration": 2,
    "start_time": "2022-08-25T09:54:27.426Z"
   },
   {
    "duration": 20,
    "start_time": "2022-08-25T09:54:27.430Z"
   },
   {
    "duration": 119,
    "start_time": "2022-08-25T09:54:27.452Z"
   },
   {
    "duration": 5,
    "start_time": "2022-08-25T09:54:27.573Z"
   },
   {
    "duration": 9,
    "start_time": "2022-08-25T09:54:27.580Z"
   },
   {
    "duration": 32,
    "start_time": "2022-08-25T09:54:27.591Z"
   },
   {
    "duration": 85,
    "start_time": "2022-08-25T09:54:27.625Z"
   },
   {
    "duration": 26,
    "start_time": "2022-08-25T09:54:27.712Z"
   },
   {
    "duration": 107,
    "start_time": "2022-08-25T09:54:27.739Z"
   },
   {
    "duration": 28,
    "start_time": "2022-08-25T09:54:27.847Z"
   },
   {
    "duration": 76,
    "start_time": "2022-08-25T09:54:27.876Z"
   },
   {
    "duration": 22,
    "start_time": "2022-08-25T09:54:27.954Z"
   },
   {
    "duration": 25,
    "start_time": "2022-08-25T09:54:27.978Z"
   },
   {
    "duration": 23,
    "start_time": "2022-08-25T09:54:28.004Z"
   },
   {
    "duration": 31,
    "start_time": "2022-08-25T09:54:28.029Z"
   },
   {
    "duration": 5,
    "start_time": "2022-08-25T09:54:28.062Z"
   },
   {
    "duration": 43,
    "start_time": "2022-08-25T09:54:28.069Z"
   },
   {
    "duration": 15,
    "start_time": "2022-08-25T09:54:28.113Z"
   },
   {
    "duration": 19,
    "start_time": "2022-08-25T09:54:28.130Z"
   },
   {
    "duration": 16,
    "start_time": "2022-08-25T09:54:28.150Z"
   },
   {
    "duration": 11,
    "start_time": "2022-08-25T09:54:28.168Z"
   },
   {
    "duration": 5,
    "start_time": "2022-08-25T09:54:28.206Z"
   },
   {
    "duration": 11,
    "start_time": "2022-08-25T09:54:28.212Z"
   },
   {
    "duration": 5,
    "start_time": "2022-08-25T09:54:28.227Z"
   },
   {
    "duration": 4,
    "start_time": "2022-08-25T09:54:28.233Z"
   },
   {
    "duration": 21,
    "start_time": "2022-08-25T09:54:28.239Z"
   },
   {
    "duration": 17,
    "start_time": "2022-08-25T09:54:28.261Z"
   },
   {
    "duration": 27,
    "start_time": "2022-08-25T09:54:28.279Z"
   },
   {
    "duration": 7438,
    "start_time": "2022-08-25T09:54:28.308Z"
   },
   {
    "duration": 82891,
    "start_time": "2022-08-25T09:54:35.748Z"
   },
   {
    "duration": 458311,
    "start_time": "2022-08-25T09:55:58.641Z"
   },
   {
    "duration": 6308,
    "start_time": "2022-08-25T10:35:10.675Z"
   },
   {
    "duration": 7359,
    "start_time": "2022-08-25T11:06:00.556Z"
   },
   {
    "duration": 89,
    "start_time": "2022-08-25T11:06:07.917Z"
   },
   {
    "duration": 104,
    "start_time": "2022-08-25T11:06:28.603Z"
   },
   {
    "duration": 6988,
    "start_time": "2022-08-25T11:06:32.329Z"
   },
   {
    "duration": 92,
    "start_time": "2022-08-25T11:06:39.318Z"
   },
   {
    "duration": 84013,
    "start_time": "2022-08-25T11:07:36.162Z"
   },
   {
    "duration": 31,
    "start_time": "2022-08-25T11:09:00.177Z"
   },
   {
    "duration": 3,
    "start_time": "2022-08-25T13:15:45.198Z"
   },
   {
    "duration": 144,
    "start_time": "2022-08-25T13:15:45.204Z"
   },
   {
    "duration": 35,
    "start_time": "2022-08-25T13:15:45.351Z"
   },
   {
    "duration": 17,
    "start_time": "2022-08-25T13:15:45.388Z"
   },
   {
    "duration": 32,
    "start_time": "2022-08-25T13:15:45.407Z"
   },
   {
    "duration": 14,
    "start_time": "2022-08-25T13:15:45.441Z"
   },
   {
    "duration": 30,
    "start_time": "2022-08-25T13:15:45.456Z"
   },
   {
    "duration": 115,
    "start_time": "2022-08-25T13:15:45.488Z"
   },
   {
    "duration": 9,
    "start_time": "2022-08-25T13:15:45.605Z"
   },
   {
    "duration": 37,
    "start_time": "2022-08-25T13:15:45.616Z"
   },
   {
    "duration": 43,
    "start_time": "2022-08-25T13:15:45.656Z"
   },
   {
    "duration": 102,
    "start_time": "2022-08-25T13:15:45.701Z"
   },
   {
    "duration": 89,
    "start_time": "2022-08-25T13:15:45.804Z"
   },
   {
    "duration": 91,
    "start_time": "2022-08-25T13:15:45.894Z"
   },
   {
    "duration": 37,
    "start_time": "2022-08-25T13:15:45.986Z"
   },
   {
    "duration": 108,
    "start_time": "2022-08-25T13:15:46.025Z"
   },
   {
    "duration": 29,
    "start_time": "2022-08-25T13:15:46.136Z"
   },
   {
    "duration": 41,
    "start_time": "2022-08-25T13:15:46.167Z"
   },
   {
    "duration": 36,
    "start_time": "2022-08-25T13:15:46.211Z"
   },
   {
    "duration": 48,
    "start_time": "2022-08-25T13:15:46.248Z"
   },
   {
    "duration": 9,
    "start_time": "2022-08-25T13:15:46.298Z"
   },
   {
    "duration": 42,
    "start_time": "2022-08-25T13:15:46.309Z"
   },
   {
    "duration": 48,
    "start_time": "2022-08-25T13:15:46.353Z"
   },
   {
    "duration": 36,
    "start_time": "2022-08-25T13:15:46.403Z"
   },
   {
    "duration": 35,
    "start_time": "2022-08-25T13:15:46.441Z"
   },
   {
    "duration": 40,
    "start_time": "2022-08-25T13:15:46.479Z"
   },
   {
    "duration": 27,
    "start_time": "2022-08-25T13:15:46.521Z"
   },
   {
    "duration": 41,
    "start_time": "2022-08-25T13:15:46.550Z"
   },
   {
    "duration": 19,
    "start_time": "2022-08-25T13:15:46.594Z"
   },
   {
    "duration": 30,
    "start_time": "2022-08-25T13:15:46.615Z"
   },
   {
    "duration": 40,
    "start_time": "2022-08-25T13:15:46.646Z"
   },
   {
    "duration": 47,
    "start_time": "2022-08-25T13:15:46.687Z"
   },
   {
    "duration": 14,
    "start_time": "2022-08-25T13:15:46.736Z"
   },
   {
    "duration": 7160,
    "start_time": "2022-08-25T13:15:46.752Z"
   },
   {
    "duration": 83740,
    "start_time": "2022-08-25T13:15:53.913Z"
   },
   {
    "duration": 448748,
    "start_time": "2022-08-25T13:17:17.655Z"
   },
   {
    "duration": 188910,
    "start_time": "2022-08-25T13:24:46.405Z"
   },
   {
    "duration": 251867,
    "start_time": "2022-08-25T13:27:55.317Z"
   },
   {
    "duration": 4,
    "start_time": "2022-08-25T13:32:07.186Z"
   },
   {
    "duration": 10,
    "start_time": "2022-08-25T13:32:07.191Z"
   },
   {
    "duration": 106,
    "start_time": "2022-08-25T13:32:07.206Z"
   },
   {
    "duration": 112,
    "start_time": "2022-08-25T13:32:07.315Z"
   },
   {
    "duration": 81,
    "start_time": "2022-08-25T13:32:07.429Z"
   },
   {
    "duration": 210,
    "start_time": "2022-08-25T13:32:07.512Z"
   },
   {
    "duration": 3253,
    "start_time": "2022-08-25T13:32:07.723Z"
   },
   {
    "duration": 3,
    "start_time": "2022-08-25T13:32:10.978Z"
   },
   {
    "duration": 3327,
    "start_time": "2022-08-25T13:32:10.983Z"
   },
   {
    "duration": 3952,
    "start_time": "2022-08-25T13:32:14.311Z"
   },
   {
    "duration": 4932,
    "start_time": "2022-08-25T13:35:37.046Z"
   },
   {
    "duration": 4336,
    "start_time": "2022-08-25T13:36:03.037Z"
   },
   {
    "duration": 4,
    "start_time": "2022-08-25T13:43:20.045Z"
   },
   {
    "duration": 108,
    "start_time": "2022-08-25T13:43:20.051Z"
   },
   {
    "duration": 28,
    "start_time": "2022-08-25T13:43:20.161Z"
   },
   {
    "duration": 12,
    "start_time": "2022-08-25T13:43:20.191Z"
   },
   {
    "duration": 18,
    "start_time": "2022-08-25T13:43:20.205Z"
   },
   {
    "duration": 2,
    "start_time": "2022-08-25T13:43:20.224Z"
   },
   {
    "duration": 14,
    "start_time": "2022-08-25T13:43:20.228Z"
   },
   {
    "duration": 177,
    "start_time": "2022-08-25T13:43:20.243Z"
   },
   {
    "duration": 5,
    "start_time": "2022-08-25T13:43:20.422Z"
   },
   {
    "duration": 8,
    "start_time": "2022-08-25T13:43:20.429Z"
   },
   {
    "duration": 21,
    "start_time": "2022-08-25T13:43:20.439Z"
   },
   {
    "duration": 65,
    "start_time": "2022-08-25T13:43:20.461Z"
   },
   {
    "duration": 26,
    "start_time": "2022-08-25T13:43:20.527Z"
   },
   {
    "duration": 60,
    "start_time": "2022-08-25T13:43:20.554Z"
   },
   {
    "duration": 26,
    "start_time": "2022-08-25T13:43:20.616Z"
   },
   {
    "duration": 57,
    "start_time": "2022-08-25T13:43:20.643Z"
   },
   {
    "duration": 20,
    "start_time": "2022-08-25T13:43:20.702Z"
   },
   {
    "duration": 23,
    "start_time": "2022-08-25T13:43:20.724Z"
   },
   {
    "duration": 20,
    "start_time": "2022-08-25T13:43:20.748Z"
   },
   {
    "duration": 46,
    "start_time": "2022-08-25T13:43:20.769Z"
   },
   {
    "duration": 5,
    "start_time": "2022-08-25T13:43:20.817Z"
   },
   {
    "duration": 16,
    "start_time": "2022-08-25T13:43:20.823Z"
   },
   {
    "duration": 14,
    "start_time": "2022-08-25T13:43:20.841Z"
   },
   {
    "duration": 18,
    "start_time": "2022-08-25T13:43:20.856Z"
   },
   {
    "duration": 38,
    "start_time": "2022-08-25T13:43:20.875Z"
   },
   {
    "duration": 11,
    "start_time": "2022-08-25T13:43:20.916Z"
   },
   {
    "duration": 4,
    "start_time": "2022-08-25T13:43:20.929Z"
   },
   {
    "duration": 16,
    "start_time": "2022-08-25T13:43:20.934Z"
   },
   {
    "duration": 5,
    "start_time": "2022-08-25T13:43:20.953Z"
   },
   {
    "duration": 4,
    "start_time": "2022-08-25T13:43:20.960Z"
   },
   {
    "duration": 42,
    "start_time": "2022-08-25T13:43:20.965Z"
   },
   {
    "duration": 19,
    "start_time": "2022-08-25T13:43:21.008Z"
   },
   {
    "duration": 3,
    "start_time": "2022-08-25T13:43:21.028Z"
   },
   {
    "duration": 7487,
    "start_time": "2022-08-25T13:43:21.032Z"
   },
   {
    "duration": 83197,
    "start_time": "2022-08-25T13:43:28.521Z"
   },
   {
    "duration": 450234,
    "start_time": "2022-08-25T13:44:51.719Z"
   },
   {
    "duration": 197557,
    "start_time": "2022-08-25T13:52:21.955Z"
   },
   {
    "duration": 252320,
    "start_time": "2022-08-25T13:55:39.514Z"
   },
   {
    "duration": 4,
    "start_time": "2022-08-25T13:59:51.835Z"
   },
   {
    "duration": 8,
    "start_time": "2022-08-25T13:59:51.840Z"
   },
   {
    "duration": 80,
    "start_time": "2022-08-25T13:59:51.850Z"
   },
   {
    "duration": 182,
    "start_time": "2022-08-25T13:59:51.931Z"
   },
   {
    "duration": 66,
    "start_time": "2022-08-25T13:59:52.115Z"
   },
   {
    "duration": 225,
    "start_time": "2022-08-25T13:59:52.182Z"
   },
   {
    "duration": 3266,
    "start_time": "2022-08-25T13:59:52.409Z"
   },
   {
    "duration": 4,
    "start_time": "2022-08-25T13:59:55.676Z"
   },
   {
    "duration": 3357,
    "start_time": "2022-08-25T13:59:55.682Z"
   },
   {
    "duration": 4003,
    "start_time": "2022-08-25T13:59:59.041Z"
   }
  ],
  "kernelspec": {
   "display_name": "Python 3 (ipykernel)",
   "language": "python",
   "name": "python3"
  },
  "language_info": {
   "codemirror_mode": {
    "name": "ipython",
    "version": 3
   },
   "file_extension": ".py",
   "mimetype": "text/x-python",
   "name": "python",
   "nbconvert_exporter": "python",
   "pygments_lexer": "ipython3",
   "version": "3.9.7"
  },
  "toc": {
   "base_numbering": 1,
   "nav_menu": {},
   "number_sections": true,
   "sideBar": true,
   "skip_h1_title": true,
   "title_cell": "Table of Contents",
   "title_sidebar": "Contents",
   "toc_cell": false,
   "toc_position": {},
   "toc_section_display": true,
   "toc_window_display": false
  }
 },
 "nbformat": 4,
 "nbformat_minor": 2
}
