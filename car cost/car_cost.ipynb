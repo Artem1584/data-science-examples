{
 "cells": [
  {
   "cell_type": "markdown",
   "metadata": {},
   "source": [
    "# Определение стоимости автомобилей"
   ]
  },
  {
   "cell_type": "markdown",
   "metadata": {},
   "source": [
    "Сервис по продаже автомобилей с пробегом «Не бит, не крашен» разрабатывает приложение для привлечения новых клиентов. В нём можно быстро узнать рыночную стоимость своего автомобиля. В вашем распоряжении исторические данные: технические характеристики, комплектации и цены автомобилей. Вам нужно построить модель для определения стоимости. \n",
    "\n",
    "Заказчику важны:\n",
    "\n",
    "- качество предсказания;\n",
    "- скорость предсказания;\n",
    "- время обучения."
   ]
  },
  {
   "cell_type": "markdown",
   "metadata": {},
   "source": [
    "## Подготовка данных"
   ]
  },
  {
   "cell_type": "code",
   "execution_count": 122,
   "metadata": {},
   "outputs": [],
   "source": [
    "import pandas as pd\n",
    "from sklearn.preprocessing import OrdinalEncoder \n",
    "from sklearn.model_selection import train_test_split\n",
    "from sklearn.linear_model import LinearRegression\n",
    "from sklearn.tree import DecisionTreeRegressor\n",
    "from sklearn.ensemble import RandomForestRegressor\n",
    "from sklearn.metrics import mean_squared_error\n",
    "from catboost import CatBoostRegressor\n",
    "from sklearn.model_selection import GridSearchCV\n",
    "from lightgbm import LGBMRegressor\n",
    "import time"
   ]
  },
  {
   "cell_type": "code",
   "execution_count": 123,
   "metadata": {},
   "outputs": [],
   "source": [
    "df = pd.read_csv('/datasets/autos.csv')"
   ]
  },
  {
   "cell_type": "code",
   "execution_count": 124,
   "metadata": {
    "scrolled": true
   },
   "outputs": [
    {
     "data": {
      "text/html": [
       "<div>\n",
       "<style scoped>\n",
       "    .dataframe tbody tr th:only-of-type {\n",
       "        vertical-align: middle;\n",
       "    }\n",
       "\n",
       "    .dataframe tbody tr th {\n",
       "        vertical-align: top;\n",
       "    }\n",
       "\n",
       "    .dataframe thead th {\n",
       "        text-align: right;\n",
       "    }\n",
       "</style>\n",
       "<table border=\"1\" class=\"dataframe\">\n",
       "  <thead>\n",
       "    <tr style=\"text-align: right;\">\n",
       "      <th></th>\n",
       "      <th>DateCrawled</th>\n",
       "      <th>Price</th>\n",
       "      <th>VehicleType</th>\n",
       "      <th>RegistrationYear</th>\n",
       "      <th>Gearbox</th>\n",
       "      <th>Power</th>\n",
       "      <th>Model</th>\n",
       "      <th>Kilometer</th>\n",
       "      <th>RegistrationMonth</th>\n",
       "      <th>FuelType</th>\n",
       "      <th>Brand</th>\n",
       "      <th>NotRepaired</th>\n",
       "      <th>DateCreated</th>\n",
       "      <th>NumberOfPictures</th>\n",
       "      <th>PostalCode</th>\n",
       "      <th>LastSeen</th>\n",
       "    </tr>\n",
       "  </thead>\n",
       "  <tbody>\n",
       "    <tr>\n",
       "      <th>0</th>\n",
       "      <td>2016-03-24 11:52:17</td>\n",
       "      <td>480</td>\n",
       "      <td>NaN</td>\n",
       "      <td>1993</td>\n",
       "      <td>manual</td>\n",
       "      <td>0</td>\n",
       "      <td>golf</td>\n",
       "      <td>150000</td>\n",
       "      <td>0</td>\n",
       "      <td>petrol</td>\n",
       "      <td>volkswagen</td>\n",
       "      <td>NaN</td>\n",
       "      <td>2016-03-24 00:00:00</td>\n",
       "      <td>0</td>\n",
       "      <td>70435</td>\n",
       "      <td>2016-04-07 03:16:57</td>\n",
       "    </tr>\n",
       "    <tr>\n",
       "      <th>1</th>\n",
       "      <td>2016-03-24 10:58:45</td>\n",
       "      <td>18300</td>\n",
       "      <td>coupe</td>\n",
       "      <td>2011</td>\n",
       "      <td>manual</td>\n",
       "      <td>190</td>\n",
       "      <td>NaN</td>\n",
       "      <td>125000</td>\n",
       "      <td>5</td>\n",
       "      <td>gasoline</td>\n",
       "      <td>audi</td>\n",
       "      <td>yes</td>\n",
       "      <td>2016-03-24 00:00:00</td>\n",
       "      <td>0</td>\n",
       "      <td>66954</td>\n",
       "      <td>2016-04-07 01:46:50</td>\n",
       "    </tr>\n",
       "    <tr>\n",
       "      <th>2</th>\n",
       "      <td>2016-03-14 12:52:21</td>\n",
       "      <td>9800</td>\n",
       "      <td>suv</td>\n",
       "      <td>2004</td>\n",
       "      <td>auto</td>\n",
       "      <td>163</td>\n",
       "      <td>grand</td>\n",
       "      <td>125000</td>\n",
       "      <td>8</td>\n",
       "      <td>gasoline</td>\n",
       "      <td>jeep</td>\n",
       "      <td>NaN</td>\n",
       "      <td>2016-03-14 00:00:00</td>\n",
       "      <td>0</td>\n",
       "      <td>90480</td>\n",
       "      <td>2016-04-05 12:47:46</td>\n",
       "    </tr>\n",
       "    <tr>\n",
       "      <th>3</th>\n",
       "      <td>2016-03-17 16:54:04</td>\n",
       "      <td>1500</td>\n",
       "      <td>small</td>\n",
       "      <td>2001</td>\n",
       "      <td>manual</td>\n",
       "      <td>75</td>\n",
       "      <td>golf</td>\n",
       "      <td>150000</td>\n",
       "      <td>6</td>\n",
       "      <td>petrol</td>\n",
       "      <td>volkswagen</td>\n",
       "      <td>no</td>\n",
       "      <td>2016-03-17 00:00:00</td>\n",
       "      <td>0</td>\n",
       "      <td>91074</td>\n",
       "      <td>2016-03-17 17:40:17</td>\n",
       "    </tr>\n",
       "    <tr>\n",
       "      <th>4</th>\n",
       "      <td>2016-03-31 17:25:20</td>\n",
       "      <td>3600</td>\n",
       "      <td>small</td>\n",
       "      <td>2008</td>\n",
       "      <td>manual</td>\n",
       "      <td>69</td>\n",
       "      <td>fabia</td>\n",
       "      <td>90000</td>\n",
       "      <td>7</td>\n",
       "      <td>gasoline</td>\n",
       "      <td>skoda</td>\n",
       "      <td>no</td>\n",
       "      <td>2016-03-31 00:00:00</td>\n",
       "      <td>0</td>\n",
       "      <td>60437</td>\n",
       "      <td>2016-04-06 10:17:21</td>\n",
       "    </tr>\n",
       "    <tr>\n",
       "      <th>5</th>\n",
       "      <td>2016-04-04 17:36:23</td>\n",
       "      <td>650</td>\n",
       "      <td>sedan</td>\n",
       "      <td>1995</td>\n",
       "      <td>manual</td>\n",
       "      <td>102</td>\n",
       "      <td>3er</td>\n",
       "      <td>150000</td>\n",
       "      <td>10</td>\n",
       "      <td>petrol</td>\n",
       "      <td>bmw</td>\n",
       "      <td>yes</td>\n",
       "      <td>2016-04-04 00:00:00</td>\n",
       "      <td>0</td>\n",
       "      <td>33775</td>\n",
       "      <td>2016-04-06 19:17:07</td>\n",
       "    </tr>\n",
       "    <tr>\n",
       "      <th>6</th>\n",
       "      <td>2016-04-01 20:48:51</td>\n",
       "      <td>2200</td>\n",
       "      <td>convertible</td>\n",
       "      <td>2004</td>\n",
       "      <td>manual</td>\n",
       "      <td>109</td>\n",
       "      <td>2_reihe</td>\n",
       "      <td>150000</td>\n",
       "      <td>8</td>\n",
       "      <td>petrol</td>\n",
       "      <td>peugeot</td>\n",
       "      <td>no</td>\n",
       "      <td>2016-04-01 00:00:00</td>\n",
       "      <td>0</td>\n",
       "      <td>67112</td>\n",
       "      <td>2016-04-05 18:18:39</td>\n",
       "    </tr>\n",
       "    <tr>\n",
       "      <th>7</th>\n",
       "      <td>2016-03-21 18:54:38</td>\n",
       "      <td>0</td>\n",
       "      <td>sedan</td>\n",
       "      <td>1980</td>\n",
       "      <td>manual</td>\n",
       "      <td>50</td>\n",
       "      <td>other</td>\n",
       "      <td>40000</td>\n",
       "      <td>7</td>\n",
       "      <td>petrol</td>\n",
       "      <td>volkswagen</td>\n",
       "      <td>no</td>\n",
       "      <td>2016-03-21 00:00:00</td>\n",
       "      <td>0</td>\n",
       "      <td>19348</td>\n",
       "      <td>2016-03-25 16:47:58</td>\n",
       "    </tr>\n",
       "    <tr>\n",
       "      <th>8</th>\n",
       "      <td>2016-04-04 23:42:13</td>\n",
       "      <td>14500</td>\n",
       "      <td>bus</td>\n",
       "      <td>2014</td>\n",
       "      <td>manual</td>\n",
       "      <td>125</td>\n",
       "      <td>c_max</td>\n",
       "      <td>30000</td>\n",
       "      <td>8</td>\n",
       "      <td>petrol</td>\n",
       "      <td>ford</td>\n",
       "      <td>NaN</td>\n",
       "      <td>2016-04-04 00:00:00</td>\n",
       "      <td>0</td>\n",
       "      <td>94505</td>\n",
       "      <td>2016-04-04 23:42:13</td>\n",
       "    </tr>\n",
       "    <tr>\n",
       "      <th>9</th>\n",
       "      <td>2016-03-17 10:53:50</td>\n",
       "      <td>999</td>\n",
       "      <td>small</td>\n",
       "      <td>1998</td>\n",
       "      <td>manual</td>\n",
       "      <td>101</td>\n",
       "      <td>golf</td>\n",
       "      <td>150000</td>\n",
       "      <td>0</td>\n",
       "      <td>NaN</td>\n",
       "      <td>volkswagen</td>\n",
       "      <td>NaN</td>\n",
       "      <td>2016-03-17 00:00:00</td>\n",
       "      <td>0</td>\n",
       "      <td>27472</td>\n",
       "      <td>2016-03-31 17:17:06</td>\n",
       "    </tr>\n",
       "  </tbody>\n",
       "</table>\n",
       "</div>"
      ],
      "text/plain": [
       "           DateCrawled  Price  VehicleType  RegistrationYear Gearbox  Power  \\\n",
       "0  2016-03-24 11:52:17    480          NaN              1993  manual      0   \n",
       "1  2016-03-24 10:58:45  18300        coupe              2011  manual    190   \n",
       "2  2016-03-14 12:52:21   9800          suv              2004    auto    163   \n",
       "3  2016-03-17 16:54:04   1500        small              2001  manual     75   \n",
       "4  2016-03-31 17:25:20   3600        small              2008  manual     69   \n",
       "5  2016-04-04 17:36:23    650        sedan              1995  manual    102   \n",
       "6  2016-04-01 20:48:51   2200  convertible              2004  manual    109   \n",
       "7  2016-03-21 18:54:38      0        sedan              1980  manual     50   \n",
       "8  2016-04-04 23:42:13  14500          bus              2014  manual    125   \n",
       "9  2016-03-17 10:53:50    999        small              1998  manual    101   \n",
       "\n",
       "     Model  Kilometer  RegistrationMonth  FuelType       Brand NotRepaired  \\\n",
       "0     golf     150000                  0    petrol  volkswagen         NaN   \n",
       "1      NaN     125000                  5  gasoline        audi         yes   \n",
       "2    grand     125000                  8  gasoline        jeep         NaN   \n",
       "3     golf     150000                  6    petrol  volkswagen          no   \n",
       "4    fabia      90000                  7  gasoline       skoda          no   \n",
       "5      3er     150000                 10    petrol         bmw         yes   \n",
       "6  2_reihe     150000                  8    petrol     peugeot          no   \n",
       "7    other      40000                  7    petrol  volkswagen          no   \n",
       "8    c_max      30000                  8    petrol        ford         NaN   \n",
       "9     golf     150000                  0       NaN  volkswagen         NaN   \n",
       "\n",
       "           DateCreated  NumberOfPictures  PostalCode             LastSeen  \n",
       "0  2016-03-24 00:00:00                 0       70435  2016-04-07 03:16:57  \n",
       "1  2016-03-24 00:00:00                 0       66954  2016-04-07 01:46:50  \n",
       "2  2016-03-14 00:00:00                 0       90480  2016-04-05 12:47:46  \n",
       "3  2016-03-17 00:00:00                 0       91074  2016-03-17 17:40:17  \n",
       "4  2016-03-31 00:00:00                 0       60437  2016-04-06 10:17:21  \n",
       "5  2016-04-04 00:00:00                 0       33775  2016-04-06 19:17:07  \n",
       "6  2016-04-01 00:00:00                 0       67112  2016-04-05 18:18:39  \n",
       "7  2016-03-21 00:00:00                 0       19348  2016-03-25 16:47:58  \n",
       "8  2016-04-04 00:00:00                 0       94505  2016-04-04 23:42:13  \n",
       "9  2016-03-17 00:00:00                 0       27472  2016-03-31 17:17:06  "
      ]
     },
     "execution_count": 124,
     "metadata": {},
     "output_type": "execute_result"
    }
   ],
   "source": [
    "df.head(10)"
   ]
  },
  {
   "cell_type": "code",
   "execution_count": 125,
   "metadata": {},
   "outputs": [
    {
     "name": "stdout",
     "output_type": "stream",
     "text": [
      "<class 'pandas.core.frame.DataFrame'>\n",
      "RangeIndex: 354369 entries, 0 to 354368\n",
      "Data columns (total 16 columns):\n",
      " #   Column             Non-Null Count   Dtype \n",
      "---  ------             --------------   ----- \n",
      " 0   DateCrawled        354369 non-null  object\n",
      " 1   Price              354369 non-null  int64 \n",
      " 2   VehicleType        316879 non-null  object\n",
      " 3   RegistrationYear   354369 non-null  int64 \n",
      " 4   Gearbox            334536 non-null  object\n",
      " 5   Power              354369 non-null  int64 \n",
      " 6   Model              334664 non-null  object\n",
      " 7   Kilometer          354369 non-null  int64 \n",
      " 8   RegistrationMonth  354369 non-null  int64 \n",
      " 9   FuelType           321474 non-null  object\n",
      " 10  Brand              354369 non-null  object\n",
      " 11  NotRepaired        283215 non-null  object\n",
      " 12  DateCreated        354369 non-null  object\n",
      " 13  NumberOfPictures   354369 non-null  int64 \n",
      " 14  PostalCode         354369 non-null  int64 \n",
      " 15  LastSeen           354369 non-null  object\n",
      "dtypes: int64(7), object(9)\n",
      "memory usage: 43.3+ MB\n"
     ]
    }
   ],
   "source": [
    "df.info()"
   ]
  },
  {
   "cell_type": "code",
   "execution_count": 126,
   "metadata": {},
   "outputs": [
    {
     "data": {
      "text/html": [
       "<div>\n",
       "<style scoped>\n",
       "    .dataframe tbody tr th:only-of-type {\n",
       "        vertical-align: middle;\n",
       "    }\n",
       "\n",
       "    .dataframe tbody tr th {\n",
       "        vertical-align: top;\n",
       "    }\n",
       "\n",
       "    .dataframe thead th {\n",
       "        text-align: right;\n",
       "    }\n",
       "</style>\n",
       "<table border=\"1\" class=\"dataframe\">\n",
       "  <thead>\n",
       "    <tr style=\"text-align: right;\">\n",
       "      <th></th>\n",
       "      <th>Price</th>\n",
       "      <th>RegistrationYear</th>\n",
       "      <th>Power</th>\n",
       "      <th>Kilometer</th>\n",
       "      <th>RegistrationMonth</th>\n",
       "      <th>NumberOfPictures</th>\n",
       "      <th>PostalCode</th>\n",
       "    </tr>\n",
       "  </thead>\n",
       "  <tbody>\n",
       "    <tr>\n",
       "      <th>count</th>\n",
       "      <td>354369.000000</td>\n",
       "      <td>354369.000000</td>\n",
       "      <td>354369.000000</td>\n",
       "      <td>354369.000000</td>\n",
       "      <td>354369.000000</td>\n",
       "      <td>354369.0</td>\n",
       "      <td>354369.000000</td>\n",
       "    </tr>\n",
       "    <tr>\n",
       "      <th>mean</th>\n",
       "      <td>4416.656776</td>\n",
       "      <td>2004.234448</td>\n",
       "      <td>110.094337</td>\n",
       "      <td>128211.172535</td>\n",
       "      <td>5.714645</td>\n",
       "      <td>0.0</td>\n",
       "      <td>50508.689087</td>\n",
       "    </tr>\n",
       "    <tr>\n",
       "      <th>std</th>\n",
       "      <td>4514.158514</td>\n",
       "      <td>90.227958</td>\n",
       "      <td>189.850405</td>\n",
       "      <td>37905.341530</td>\n",
       "      <td>3.726421</td>\n",
       "      <td>0.0</td>\n",
       "      <td>25783.096248</td>\n",
       "    </tr>\n",
       "    <tr>\n",
       "      <th>min</th>\n",
       "      <td>0.000000</td>\n",
       "      <td>1000.000000</td>\n",
       "      <td>0.000000</td>\n",
       "      <td>5000.000000</td>\n",
       "      <td>0.000000</td>\n",
       "      <td>0.0</td>\n",
       "      <td>1067.000000</td>\n",
       "    </tr>\n",
       "    <tr>\n",
       "      <th>25%</th>\n",
       "      <td>1050.000000</td>\n",
       "      <td>1999.000000</td>\n",
       "      <td>69.000000</td>\n",
       "      <td>125000.000000</td>\n",
       "      <td>3.000000</td>\n",
       "      <td>0.0</td>\n",
       "      <td>30165.000000</td>\n",
       "    </tr>\n",
       "    <tr>\n",
       "      <th>50%</th>\n",
       "      <td>2700.000000</td>\n",
       "      <td>2003.000000</td>\n",
       "      <td>105.000000</td>\n",
       "      <td>150000.000000</td>\n",
       "      <td>6.000000</td>\n",
       "      <td>0.0</td>\n",
       "      <td>49413.000000</td>\n",
       "    </tr>\n",
       "    <tr>\n",
       "      <th>75%</th>\n",
       "      <td>6400.000000</td>\n",
       "      <td>2008.000000</td>\n",
       "      <td>143.000000</td>\n",
       "      <td>150000.000000</td>\n",
       "      <td>9.000000</td>\n",
       "      <td>0.0</td>\n",
       "      <td>71083.000000</td>\n",
       "    </tr>\n",
       "    <tr>\n",
       "      <th>max</th>\n",
       "      <td>20000.000000</td>\n",
       "      <td>9999.000000</td>\n",
       "      <td>20000.000000</td>\n",
       "      <td>150000.000000</td>\n",
       "      <td>12.000000</td>\n",
       "      <td>0.0</td>\n",
       "      <td>99998.000000</td>\n",
       "    </tr>\n",
       "  </tbody>\n",
       "</table>\n",
       "</div>"
      ],
      "text/plain": [
       "               Price  RegistrationYear          Power      Kilometer  \\\n",
       "count  354369.000000     354369.000000  354369.000000  354369.000000   \n",
       "mean     4416.656776       2004.234448     110.094337  128211.172535   \n",
       "std      4514.158514         90.227958     189.850405   37905.341530   \n",
       "min         0.000000       1000.000000       0.000000    5000.000000   \n",
       "25%      1050.000000       1999.000000      69.000000  125000.000000   \n",
       "50%      2700.000000       2003.000000     105.000000  150000.000000   \n",
       "75%      6400.000000       2008.000000     143.000000  150000.000000   \n",
       "max     20000.000000       9999.000000   20000.000000  150000.000000   \n",
       "\n",
       "       RegistrationMonth  NumberOfPictures     PostalCode  \n",
       "count      354369.000000          354369.0  354369.000000  \n",
       "mean            5.714645               0.0   50508.689087  \n",
       "std             3.726421               0.0   25783.096248  \n",
       "min             0.000000               0.0    1067.000000  \n",
       "25%             3.000000               0.0   30165.000000  \n",
       "50%             6.000000               0.0   49413.000000  \n",
       "75%             9.000000               0.0   71083.000000  \n",
       "max            12.000000               0.0   99998.000000  "
      ]
     },
     "execution_count": 126,
     "metadata": {},
     "output_type": "execute_result"
    }
   ],
   "source": [
    "df.describe()"
   ]
  },
  {
   "cell_type": "code",
   "execution_count": 127,
   "metadata": {},
   "outputs": [
    {
     "data": {
      "text/plain": [
       "0     37352\n",
       "3     34373\n",
       "6     31508\n",
       "4     29270\n",
       "5     29153\n",
       "7     27213\n",
       "10    26099\n",
       "12    24289\n",
       "11    24186\n",
       "9     23813\n",
       "1     23219\n",
       "8     22627\n",
       "2     21267\n",
       "Name: RegistrationMonth, dtype: int64"
      ]
     },
     "execution_count": 127,
     "metadata": {},
     "output_type": "execute_result"
    }
   ],
   "source": [
    "df['RegistrationMonth'].value_counts()"
   ]
  },
  {
   "cell_type": "markdown",
   "metadata": {},
   "source": [
    "### Проверим дубликаты и лишние столбцы"
   ]
  },
  {
   "cell_type": "code",
   "execution_count": 128,
   "metadata": {},
   "outputs": [
    {
     "data": {
      "text/plain": [
       "4"
      ]
     },
     "metadata": {},
     "output_type": "display_data"
    },
    {
     "data": {
      "text/plain": [
       "0"
      ]
     },
     "execution_count": 128,
     "metadata": {},
     "output_type": "execute_result"
    }
   ],
   "source": [
    "display(df.duplicated().sum())\n",
    "df = df.drop_duplicates().reset_index(drop=True)\n",
    "df.duplicated().sum()\n",
    "# дубликатов всего 4, удалю их"
   ]
  },
  {
   "cell_type": "code",
   "execution_count": 129,
   "metadata": {},
   "outputs": [],
   "source": [
    "df = df.drop(['DateCrawled', 'DateCreated', 'NumberOfPictures', 'PostalCode', 'LastSeen'], axis=1)"
   ]
  },
  {
   "cell_type": "markdown",
   "metadata": {},
   "source": [
    "### Проверим пропуски"
   ]
  },
  {
   "cell_type": "code",
   "execution_count": 130,
   "metadata": {},
   "outputs": [
    {
     "data": {
      "text/plain": [
       "Price                    0\n",
       "VehicleType          37490\n",
       "RegistrationYear         0\n",
       "Gearbox              19833\n",
       "Power                    0\n",
       "Model                19705\n",
       "Kilometer                0\n",
       "RegistrationMonth        0\n",
       "FuelType             32895\n",
       "Brand                    0\n",
       "NotRepaired          71154\n",
       "dtype: int64"
      ]
     },
     "execution_count": 130,
     "metadata": {},
     "output_type": "execute_result"
    }
   ],
   "source": [
    "# проверим все пропуски\n",
    "df.isna().sum()"
   ]
  },
  {
   "cell_type": "code",
   "execution_count": 131,
   "metadata": {},
   "outputs": [
    {
     "data": {
      "text/plain": [
       "array([nan, 'coupe', 'suv', 'small', 'sedan', 'convertible', 'bus',\n",
       "       'wagon', 'other'], dtype=object)"
      ]
     },
     "metadata": {},
     "output_type": "display_data"
    },
    {
     "data": {
      "text/plain": [
       "sedan          91457\n",
       "small          79830\n",
       "wagon          65165\n",
       "bus            28775\n",
       "convertible    20203\n",
       "coupe          16161\n",
       "suv            11996\n",
       "other           3288\n",
       "Name: VehicleType, dtype: int64"
      ]
     },
     "execution_count": 131,
     "metadata": {},
     "output_type": "execute_result"
    }
   ],
   "source": [
    "display(df['VehicleType'].unique())\n",
    "df['VehicleType'].value_counts()"
   ]
  },
  {
   "cell_type": "code",
   "execution_count": 132,
   "metadata": {},
   "outputs": [],
   "source": [
    "# пропуски в VehicleType заменил на other, так как точно восстановить не возможно\n",
    "df['VehicleType'] = df['VehicleType'].fillna('other')"
   ]
  },
  {
   "cell_type": "code",
   "execution_count": 133,
   "metadata": {},
   "outputs": [
    {
     "data": {
      "text/plain": [
       "array(['manual', 'auto', nan], dtype=object)"
      ]
     },
     "metadata": {},
     "output_type": "display_data"
    },
    {
     "data": {
      "text/plain": [
       "manual    268249\n",
       "auto       66283\n",
       "Name: Gearbox, dtype: int64"
      ]
     },
     "execution_count": 133,
     "metadata": {},
     "output_type": "execute_result"
    }
   ],
   "source": [
    "display(df['Gearbox'].unique())\n",
    "df['Gearbox'].value_counts()"
   ]
  },
  {
   "cell_type": "code",
   "execution_count": 134,
   "metadata": {},
   "outputs": [],
   "source": [
    "# пропуски заменил на other, так как точно восстановить не возможно\n",
    "df['Gearbox'] = df['Gearbox'].fillna('other')"
   ]
  },
  {
   "cell_type": "code",
   "execution_count": 135,
   "metadata": {},
   "outputs": [
    {
     "data": {
      "text/plain": [
       "array(['golf', nan, 'grand', 'fabia', '3er', '2_reihe', 'other', 'c_max',\n",
       "       '3_reihe', 'passat', 'navara', 'ka', 'polo', 'twingo', 'a_klasse',\n",
       "       'scirocco', '5er', 'meriva', 'arosa', 'c4', 'civic', 'transporter',\n",
       "       'punto', 'e_klasse', 'clio', 'kadett', 'kangoo', 'corsa', 'one',\n",
       "       'fortwo', '1er', 'b_klasse', 'signum', 'astra', 'a8', 'jetta',\n",
       "       'fiesta', 'c_klasse', 'micra', 'vito', 'sprinter', '156', 'escort',\n",
       "       'forester', 'xc_reihe', 'scenic', 'a4', 'a1', 'insignia', 'combo',\n",
       "       'focus', 'tt', 'a6', 'jazz', 'omega', 'slk', '7er', '80', '147',\n",
       "       '100', 'z_reihe', 'sportage', 'sorento', 'v40', 'ibiza', 'mustang',\n",
       "       'eos', 'touran', 'getz', 'a3', 'almera', 'megane', 'lupo', 'r19',\n",
       "       'zafira', 'caddy', 'mondeo', 'cordoba', 'colt', 'impreza',\n",
       "       'vectra', 'berlingo', 'tiguan', 'i_reihe', 'espace', 'sharan',\n",
       "       '6_reihe', 'panda', 'up', 'seicento', 'ceed', '5_reihe', 'yeti',\n",
       "       'octavia', 'mii', 'rx_reihe', '6er', 'modus', 'fox', 'matiz',\n",
       "       'beetle', 'c1', 'rio', 'touareg', 'logan', 'spider', 'cuore',\n",
       "       's_max', 'a2', 'galaxy', 'c3', 'viano', 's_klasse', '1_reihe',\n",
       "       'avensis', 'roomster', 'sl', 'kaefer', 'santa', 'cooper', 'leon',\n",
       "       '4_reihe', 'a5', '500', 'laguna', 'ptcruiser', 'clk', 'primera',\n",
       "       'x_reihe', 'exeo', '159', 'transit', 'juke', 'qashqai', 'carisma',\n",
       "       'accord', 'corolla', 'lanos', 'phaeton', 'verso', 'swift', 'rav',\n",
       "       'picanto', 'boxster', 'kalos', 'superb', 'stilo', 'alhambra',\n",
       "       'mx_reihe', 'roadster', 'ypsilon', 'cayenne', 'galant', 'justy',\n",
       "       '90', 'sirion', 'crossfire', 'agila', 'duster', 'cr_reihe', 'v50',\n",
       "       'c_reihe', 'v_klasse', 'm_klasse', 'yaris', 'c5', 'aygo', 'cc',\n",
       "       'carnival', 'fusion', '911', 'bora', 'forfour', 'm_reihe', 'cl',\n",
       "       'tigra', '300c', 'spark', 'v70', 'kuga', 'x_type', 'ducato',\n",
       "       's_type', 'x_trail', 'toledo', 'altea', 'voyager', 'calibra',\n",
       "       'bravo', 'antara', 'tucson', 'citigo', 'jimny', 'wrangler',\n",
       "       'lybra', 'q7', 'lancer', 'captiva', 'c2', 'discovery',\n",
       "       'freelander', 'sandero', 'note', '900', 'cherokee', 'clubman',\n",
       "       'samara', 'defender', '601', 'cx_reihe', 'legacy', 'pajero',\n",
       "       'auris', 'niva', 's60', 'nubira', 'vivaro', 'g_klasse', 'lodgy',\n",
       "       '850', 'range_rover', 'q3', 'serie_2', 'glk', 'charade', 'croma',\n",
       "       'outlander', 'doblo', 'musa', 'move', '9000', 'v60', '145', 'aveo',\n",
       "       '200', 'b_max', 'range_rover_sport', 'terios', 'rangerover', 'q5',\n",
       "       'range_rover_evoque', 'materia', 'delta', 'gl', 'kalina', 'amarok',\n",
       "       'elefantino', 'i3', 'kappa', 'serie_3', 'serie_1'], dtype=object)"
      ]
     },
     "metadata": {},
     "output_type": "display_data"
    },
    {
     "data": {
      "text/plain": [
       "golf                  29232\n",
       "other                 24420\n",
       "3er                   19761\n",
       "polo                  13066\n",
       "corsa                 12570\n",
       "                      ...  \n",
       "i3                        8\n",
       "serie_3                   4\n",
       "rangerover                4\n",
       "serie_1                   2\n",
       "range_rover_evoque        2\n",
       "Name: Model, Length: 250, dtype: int64"
      ]
     },
     "execution_count": 135,
     "metadata": {},
     "output_type": "execute_result"
    }
   ],
   "source": [
    "display(df['Model'].unique())\n",
    "df['Model'].value_counts()"
   ]
  },
  {
   "cell_type": "code",
   "execution_count": 136,
   "metadata": {},
   "outputs": [],
   "source": [
    "# пропуски в Model заменил на other, так как точно восстановить не возможно\n",
    "df['Model'] = df['Model'].fillna('other')"
   ]
  },
  {
   "cell_type": "code",
   "execution_count": 137,
   "metadata": {},
   "outputs": [
    {
     "data": {
      "text/plain": [
       "array(['petrol', 'gasoline', nan, 'lpg', 'other', 'hybrid', 'cng',\n",
       "       'electric'], dtype=object)"
      ]
     },
     "metadata": {},
     "output_type": "display_data"
    },
    {
     "data": {
      "text/plain": [
       "petrol      216349\n",
       "gasoline     98719\n",
       "lpg           5310\n",
       "cng            565\n",
       "hybrid         233\n",
       "other          204\n",
       "electric        90\n",
       "Name: FuelType, dtype: int64"
      ]
     },
     "execution_count": 137,
     "metadata": {},
     "output_type": "execute_result"
    }
   ],
   "source": [
    "display(df['FuelType'].unique())\n",
    "df['FuelType'].value_counts()"
   ]
  },
  {
   "cell_type": "code",
   "execution_count": 138,
   "metadata": {},
   "outputs": [],
   "source": [
    "# пропуски в FuelType заменил на other, так как точно восстановить не возможно\n",
    "df['FuelType'] = df['FuelType'].fillna('other')"
   ]
  },
  {
   "cell_type": "code",
   "execution_count": 139,
   "metadata": {},
   "outputs": [
    {
     "data": {
      "text/plain": [
       "array([nan, 'yes', 'no'], dtype=object)"
      ]
     },
     "metadata": {},
     "output_type": "display_data"
    },
    {
     "data": {
      "text/plain": [
       "no     247158\n",
       "yes     36053\n",
       "Name: NotRepaired, dtype: int64"
      ]
     },
     "execution_count": 139,
     "metadata": {},
     "output_type": "execute_result"
    }
   ],
   "source": [
    "display(df['NotRepaired'].unique())\n",
    "df['NotRepaired'].value_counts()"
   ]
  },
  {
   "cell_type": "code",
   "execution_count": 140,
   "metadata": {},
   "outputs": [],
   "source": [
    "# пропуски в FuelType заменил на unknown, так как точно восстановить не возможно\n",
    "df['NotRepaired'] = df['NotRepaired'].fillna('unknown')"
   ]
  },
  {
   "cell_type": "code",
   "execution_count": 141,
   "metadata": {},
   "outputs": [
    {
     "data": {
      "text/plain": [
       "Price                0\n",
       "VehicleType          0\n",
       "RegistrationYear     0\n",
       "Gearbox              0\n",
       "Power                0\n",
       "Model                0\n",
       "Kilometer            0\n",
       "RegistrationMonth    0\n",
       "FuelType             0\n",
       "Brand                0\n",
       "NotRepaired          0\n",
       "dtype: int64"
      ]
     },
     "execution_count": 141,
     "metadata": {},
     "output_type": "execute_result"
    }
   ],
   "source": [
    "# проверим остались ли пропуски\n",
    "df.isna().sum()"
   ]
  },
  {
   "cell_type": "code",
   "execution_count": 142,
   "metadata": {},
   "outputs": [
    {
     "data": {
      "text/plain": [
       "count    354365.000000\n",
       "mean       4416.679830\n",
       "std        4514.176349\n",
       "min           0.000000\n",
       "25%        1050.000000\n",
       "50%        2700.000000\n",
       "75%        6400.000000\n",
       "max       20000.000000\n",
       "Name: Price, dtype: float64"
      ]
     },
     "metadata": {},
     "output_type": "display_data"
    },
    {
     "data": {
      "text/plain": [
       "0        10772\n",
       "500       5670\n",
       "1500      5394\n",
       "1000      4648\n",
       "1200      4594\n",
       "         ...  \n",
       "13180        1\n",
       "10879        1\n",
       "2683         1\n",
       "634          1\n",
       "8188         1\n",
       "Name: Price, Length: 3731, dtype: int64"
      ]
     },
     "metadata": {},
     "output_type": "display_data"
    },
    {
     "data": {
      "image/png": "[encoded data removed]",
      "text/plain": [
       "<Figure size 432x288 with 1 Axes>"
      ]
     },
     "metadata": {
      "needs_background": "light"
     },
     "output_type": "display_data"
    }
   ],
   "source": [
    "# проверим столбец Price на выбросы\n",
    "display(df['Price'].describe())\n",
    "display(df['Price'].value_counts())\n",
    "df['Price'].hist(bins=100);"
   ]
  },
  {
   "cell_type": "code",
   "execution_count": 143,
   "metadata": {},
   "outputs": [],
   "source": [
    "# объявления дешевле 1000 не будем использовать при обучение модели\n",
    "df = df.loc[df['Price']> 1000]"
   ]
  },
  {
   "cell_type": "code",
   "execution_count": 144,
   "metadata": {},
   "outputs": [
    {
     "data": {
      "text/plain": [
       "count    266391.000000\n",
       "mean       2004.785623\n",
       "std          56.597238\n",
       "min        1000.000000\n",
       "25%        2001.000000\n",
       "50%        2005.000000\n",
       "75%        2008.000000\n",
       "max        9999.000000\n",
       "Name: RegistrationYear, dtype: float64"
      ]
     },
     "metadata": {},
     "output_type": "display_data"
    },
    {
     "data": {
      "text/plain": [
       "2005    20315\n",
       "2006    19427\n",
       "2004    18550\n",
       "2003    17742\n",
       "2007    16865\n",
       "        ...  \n",
       "1946        1\n",
       "1949        1\n",
       "8888        1\n",
       "7100        1\n",
       "2800        1\n",
       "Name: RegistrationYear, Length: 122, dtype: int64"
      ]
     },
     "metadata": {},
     "output_type": "display_data"
    },
    {
     "data": {
      "text/plain": [
       "<AxesSubplot:>"
      ]
     },
     "execution_count": 144,
     "metadata": {},
     "output_type": "execute_result"
    },
    {
     "data": {
      "image/png": "[encoded data removed]",
      "text/plain": [
       "<Figure size 432x288 with 1 Axes>"
      ]
     },
     "metadata": {
      "needs_background": "light"
     },
     "output_type": "display_data"
    }
   ],
   "source": [
    "# проверим столбец RegistrationYear на выбросы \n",
    "display(df['RegistrationYear'].describe())\n",
    "display(df['RegistrationYear'].value_counts())\n",
    "df['RegistrationYear'].hist(bins=100, range=(1950, 2022))"
   ]
  },
  {
   "cell_type": "code",
   "execution_count": 145,
   "metadata": {},
   "outputs": [],
   "source": [
    "# удалю год регистрации авто младше 1960 и старше 2020\n",
    "df = df.loc[(df['RegistrationYear'] >= 1960) & (df['RegistrationYear'] <= 2020)]"
   ]
  },
  {
   "cell_type": "code",
   "execution_count": 146,
   "metadata": {},
   "outputs": [
    {
     "data": {
      "text/plain": [
       "count    266116.000000\n",
       "mean        122.111760\n",
       "std         193.772912\n",
       "min           0.000000\n",
       "25%          77.000000\n",
       "50%         116.000000\n",
       "75%         150.000000\n",
       "max       20000.000000\n",
       "Name: Power, dtype: float64"
      ]
     },
     "metadata": {},
     "output_type": "display_data"
    },
    {
     "data": {
      "text/plain": [
       "0        20067\n",
       "75       14592\n",
       "150      12530\n",
       "140      12230\n",
       "116       9778\n",
       "         ...  \n",
       "421          1\n",
       "10912        1\n",
       "1701         1\n",
       "20000        1\n",
       "428          1\n",
       "Name: Power, Length: 622, dtype: int64"
      ]
     },
     "metadata": {},
     "output_type": "display_data"
    },
    {
     "data": {
      "image/png": "[encoded data removed]",
      "text/plain": [
       "<Figure size 432x288 with 1 Axes>"
      ]
     },
     "metadata": {
      "needs_background": "light"
     },
     "output_type": "display_data"
    }
   ],
   "source": [
    "# проверим столбец Price на выбросы\n",
    "display(df['Power'].describe())\n",
    "display(df['Power'].value_counts())\n",
    "df['Power'].hist(bins=100, range=(0, 1000));"
   ]
  },
  {
   "cell_type": "code",
   "execution_count": 147,
   "metadata": {},
   "outputs": [],
   "source": [
    "# удалю мощность авто меньше 20 и больше 600\n",
    "df = df.loc[(df['Power'] >= 20) & (df['Power'] <= 600)]"
   ]
  },
  {
   "cell_type": "markdown",
   "metadata": {},
   "source": [
    "### Вывод:\n",
    "\n",
    "Загрузил данные, удалил дубликаты, заполнил пропуски."
   ]
  },
  {
   "cell_type": "markdown",
   "metadata": {},
   "source": [
    "## Обучение моделей"
   ]
  },
  {
   "cell_type": "code",
   "execution_count": 148,
   "metadata": {},
   "outputs": [],
   "source": [
    "target = df['Price']\n",
    "features = df.drop('Price', axis=1)"
   ]
  },
  {
   "cell_type": "code",
   "execution_count": 149,
   "metadata": {},
   "outputs": [
    {
     "data": {
      "text/plain": [
       "(245500, 308)"
      ]
     },
     "execution_count": 149,
     "metadata": {},
     "output_type": "execute_result"
    }
   ],
   "source": [
    "# преобразуем категориальные признаки в численные методом One-hot-encoding для определенных моделей\n",
    "features_ohe = pd.get_dummies(features, drop_first=True)\n",
    "features_ohe.shape"
   ]
  },
  {
   "cell_type": "code",
   "execution_count": 150,
   "metadata": {},
   "outputs": [],
   "source": [
    "# отделил обучающаую выборку, взял 80%\n",
    "features_train, features_rest, target_train, target_rest = train_test_split(features, target, test_size=0.20, random_state=12345)\n",
    "\n",
    "# отделил валидационную и тестовую выборки 50/50\n",
    "features_test, features_valid, target_test, target_valid = train_test_split(features_rest, target_rest, test_size=0.5, random_state=12345)\n"
   ]
  },
  {
   "cell_type": "code",
   "execution_count": 151,
   "metadata": {},
   "outputs": [
    {
     "data": {
      "text/plain": [
       "(196400, 10)"
      ]
     },
     "metadata": {},
     "output_type": "display_data"
    },
    {
     "data": {
      "text/plain": [
       "(24550, 10)"
      ]
     },
     "metadata": {},
     "output_type": "display_data"
    },
    {
     "data": {
      "text/plain": [
       "(24550, 10)"
      ]
     },
     "metadata": {},
     "output_type": "display_data"
    }
   ],
   "source": [
    "display(features_train.shape)\n",
    "display(features_valid.shape)\n",
    "display(features_test.shape)"
   ]
  },
  {
   "cell_type": "code",
   "execution_count": 152,
   "metadata": {},
   "outputs": [],
   "source": [
    "# отделил обучающаую выборку кодированную, взял 80%\n",
    "features_train_ohe, features_rest_ohe, target_train, target_rest = train_test_split(features_ohe, target, test_size=0.20, random_state=12345)\n",
    "\n",
    "# отделил валидационную и тестовую выборки 50/50\n",
    "features_test_ohe, features_valid_ohe, target_test, target_valid = train_test_split(features_rest_ohe, target_rest, test_size=0.5, random_state=12345)\n"
   ]
  },
  {
   "cell_type": "code",
   "execution_count": 153,
   "metadata": {},
   "outputs": [
    {
     "data": {
      "text/plain": [
       "(196400, 308)"
      ]
     },
     "metadata": {},
     "output_type": "display_data"
    },
    {
     "data": {
      "text/plain": [
       "(24550, 308)"
      ]
     },
     "metadata": {},
     "output_type": "display_data"
    },
    {
     "data": {
      "text/plain": [
       "(24550, 308)"
      ]
     },
     "metadata": {},
     "output_type": "display_data"
    }
   ],
   "source": [
    "display(features_train_ohe.shape)\n",
    "display(features_test_ohe.shape)\n",
    "display(features_valid_ohe.shape)"
   ]
  },
  {
   "cell_type": "code",
   "execution_count": 154,
   "metadata": {},
   "outputs": [],
   "source": [
    "# словари с результатами RMSE и времени выполнения по разным моделям\n",
    "best = {}  # результаты RMSE\n",
    "time_fit_all = {} # результаты обучения\n",
    "time_predict_all = {} # результаты предсказания"
   ]
  },
  {
   "cell_type": "code",
   "execution_count": 155,
   "metadata": {},
   "outputs": [
    {
     "name": "stdout",
     "output_type": "stream",
     "text": [
      "RMSE на валидационной выборке = 2700.44\n",
      "RMSE на тестовой выборке = 2697.25\n",
      "\n",
      "Время выполнения обучения 47.20 секунд\n",
      "Время выполнения предсказания 0.10 секунд\n",
      "CPU times: user 22.8 s, sys: 24.7 s, total: 47.4 s\n",
      "Wall time: 47.5 s\n"
     ]
    }
   ],
   "source": [
    "%%time\n",
    "start = time.time()\n",
    "\n",
    "model = LinearRegression()\n",
    "model.fit(features_train_ohe, target_train)\n",
    "\n",
    "f = time.time()\n",
    "time_fit = f - start\n",
    "\n",
    "predicted_valid = model.predict(features_valid_ohe)\n",
    "\n",
    "p= time.time()\n",
    "time_predict = p - f\n",
    "\n",
    "rmse = mean_squared_error(target_valid, predicted_valid)** 0.5\n",
    "print(f\"RMSE на валидационной выборке = {rmse:.2f}\")\n",
    "predicted_test = model.predict(features_test_ohe)\n",
    "rmse = mean_squared_error(target_test, predicted_test)** 0.5\n",
    "print(f\"RMSE на тестовой выборке = {rmse:.2f}\")\n",
    "\n",
    "print(f'\\nВремя выполнения обучения {time_fit:.2f} секунд')\n",
    "print(f'Время выполнения предсказания {time_predict:.2f} секунд')\n",
    "\n",
    "best['LinearRegression'] = rmse\n",
    "time_fit_all['LinearRegression'] = time_fit\n",
    "time_predict_all['LinearRegression'] = time_predict"
   ]
  },
  {
   "cell_type": "code",
   "execution_count": 156,
   "metadata": {},
   "outputs": [
    {
     "name": "stdout",
     "output_type": "stream",
     "text": [
      "Лучший mse: 2032.2792986648858\n",
      "Лучший n_estimators: 21\n"
     ]
    }
   ],
   "source": [
    "best_rmse = 7000\n",
    "best_n_estimators = 0\n",
    "for i in range(1, 100, 10):\n",
    "    model = DecisionTreeRegressor(random_state=12345, max_depth=i)\n",
    "    model.fit(features_train_ohe, target_train)\n",
    "    predicted_valid = model.predict(features_valid_ohe)\n",
    "    rmse = mean_squared_error(target_valid, predicted_valid)**0.5\n",
    "    if rmse < best_rmse:\n",
    "        best_rmse = rmse\n",
    "        best_n_estimators = i\n",
    "print(\"Лучший mse:\", best_rmse)\n",
    "print(\"Лучший n_estimators:\", best_n_estimators)"
   ]
  },
  {
   "cell_type": "code",
   "execution_count": 157,
   "metadata": {},
   "outputs": [
    {
     "name": "stdout",
     "output_type": "stream",
     "text": [
      "RMSE на валидационной выборке = 2032.28\n",
      "RMSE на тестовой выборке = 1999.62\n",
      "\n",
      "Время выполнения обучения 6.52 секунд\n",
      "Время выполнения предсказания 0.04 секунд\n"
     ]
    }
   ],
   "source": [
    "# Лучший показатель был при max_depth=21, его буду использовать дальше\n",
    "\n",
    "start = time.time()\n",
    "\n",
    "model = DecisionTreeRegressor(random_state=12345, max_depth=21)\n",
    "model.fit(features_train_ohe, target_train)\n",
    "\n",
    "f = time.time()\n",
    "time_fit = f - start\n",
    "\n",
    "predicted_valid = model.predict(features_valid_ohe)\n",
    "\n",
    "p= time.time()\n",
    "time_predict = p - f\n",
    "\n",
    "rmse = mean_squared_error(target_valid, predicted_valid)** 0.5\n",
    "print(f\"RMSE на валидационной выборке = {rmse:.2f}\")\n",
    "predicted_test = model.predict(features_test_ohe)\n",
    "rmse = mean_squared_error(target_test, predicted_test)** 0.5\n",
    "print(f\"RMSE на тестовой выборке = {rmse:.2f}\")\n",
    "\n",
    "print(f'\\nВремя выполнения обучения {time_fit:.2f} секунд')\n",
    "print(f'Время выполнения предсказания {time_predict:.2f} секунд')\n",
    "\n",
    "best['DecisionTreeRegressor'] = rmse\n",
    "time_fit_all['DecisionTreeRegressor'] = time_fit\n",
    "time_predict_all['DecisionTreeRegressor'] = time_predict"
   ]
  },
  {
   "cell_type": "code",
   "execution_count": 158,
   "metadata": {},
   "outputs": [
    {
     "name": "stdout",
     "output_type": "stream",
     "text": [
      "RMSE на валидационной выборке = 1677.18\n",
      "RMSE на тестовой выборке = 1642.14\n",
      "\n",
      "Время выполнения обучения 469.51 секунд\n",
      "Время выполнения предсказания 1.67 секунд\n"
     ]
    }
   ],
   "source": [
    "# RandomForestRegressor работает очень долго\n",
    "start = time.time()\n",
    "model = RandomForestRegressor(random_state=12345)\n",
    "model.fit(features_train_ohe, target_train)\n",
    "\n",
    "f = time.time()\n",
    "time_fit = f - start\n",
    "\n",
    "predicted_valid = model.predict(features_valid_ohe)\n",
    "\n",
    "p= time.time()\n",
    "time_predict = p - f\n",
    "\n",
    "rmse = mean_squared_error(target_valid, predicted_valid)** 0.5\n",
    "print(f\"RMSE на валидационной выборке = {rmse:.2f}\")\n",
    "predicted_test = model.predict(features_test_ohe)\n",
    "rmse = mean_squared_error(target_test, predicted_test)** 0.5\n",
    "print(f\"RMSE на тестовой выборке = {rmse:.2f}\")\n",
    "\n",
    "print(f'\\nВремя выполнения обучения {time_fit:.2f} секунд')\n",
    "print(f'Время выполнения предсказания {time_predict:.2f} секунд')\n",
    "\n",
    "best['RandomForestRegressor'] = rmse\n",
    "time_fit_all['RandomForestRegressor'] = time_fit\n",
    "time_predict_all['RandomForestRegressor'] = time_predict"
   ]
  },
  {
   "cell_type": "code",
   "execution_count": 159,
   "metadata": {},
   "outputs": [
    {
     "name": "stdout",
     "output_type": "stream",
     "text": [
      "Learning rate set to 0.165666\n",
      "0:\tlearn: 4104.1212760\ttotal: 300ms\tremaining: 2m 29s\n",
      "50:\tlearn: 1879.7777450\ttotal: 12.3s\tremaining: 1m 48s\n",
      "100:\tlearn: 1788.6433520\ttotal: 24.9s\tremaining: 1m 38s\n",
      "150:\tlearn: 1746.9366705\ttotal: 36.6s\tremaining: 1m 24s\n",
      "200:\tlearn: 1720.8892114\ttotal: 48.8s\tremaining: 1m 12s\n",
      "250:\tlearn: 1701.0029628\ttotal: 1m 1s\tremaining: 1m\n",
      "300:\tlearn: 1685.2072455\ttotal: 1m 15s\tremaining: 49.8s\n",
      "350:\tlearn: 1671.2055345\ttotal: 1m 29s\tremaining: 38.2s\n",
      "400:\tlearn: 1660.0325091\ttotal: 1m 44s\tremaining: 25.7s\n",
      "450:\tlearn: 1649.4977138\ttotal: 1m 59s\tremaining: 13s\n",
      "499:\tlearn: 1639.8021603\ttotal: 2m 13s\tremaining: 0us\n",
      "RMSE на валидационной выборке = 1708.83\n",
      "RMSE на тестовой выборке = 1697.33\n",
      "\n",
      "Время выполнения обучения 136.22 секунд\n",
      "Время выполнения предсказания 0.17 секунд\n",
      "CPU times: user 2min 14s, sys: 687 ms, total: 2min 15s\n",
      "Wall time: 2min 16s\n"
     ]
    }
   ],
   "source": [
    "%%time\n",
    "start = time.time()\n",
    "\n",
    "cat_features = ['VehicleType', 'Gearbox', 'Model', 'FuelType', 'Brand', 'NotRepaired']\n",
    " \n",
    "model = CatBoostRegressor(cat_features = cat_features, iterations=500)\n",
    "model.fit(features_train, target_train, cat_features=cat_features, verbose=50)\n",
    "\n",
    "f = time.time()\n",
    "time_fit = f - start\n",
    "\n",
    "predicted_valid = model.predict(features_valid)\n",
    "\n",
    "p= time.time()\n",
    "time_predict = p - f\n",
    "\n",
    "rmse = mean_squared_error(target_valid, predicted_valid)** 0.5\n",
    "print(f\"RMSE на валидационной выборке = {rmse:.2f}\")\n",
    "predicted_test = model.predict(features_test)\n",
    "rmse = mean_squared_error(target_test, predicted_test)** 0.5\n",
    "print(f\"RMSE на тестовой выборке = {rmse:.2f}\")\n",
    "\n",
    "print(f'\\nВремя выполнения обучения {time_fit:.2f} секунд')\n",
    "print(f'Время выполнения предсказания {time_predict:.2f} секунд')\n",
    "\n",
    "best['CatBoostRegressor'] = rmse\n",
    "time_fit_all['CatBoostRegressor'] = time_fit\n",
    "time_predict_all['CatBoostRegressor'] = time_predict"
   ]
  },
  {
   "cell_type": "code",
   "execution_count": 160,
   "metadata": {},
   "outputs": [
    {
     "name": "stdout",
     "output_type": "stream",
     "text": [
      "RMSE на валидационной выборке = 1708.83\n",
      "RMSE на тестовой выборке = 1780.26\n",
      "\n",
      "Время выполнения обучения 385.97 секунд\n",
      "Время выполнения предсказания 0.33 секунд\n",
      "CPU times: user 6min 21s, sys: 2.95 s, total: 6min 24s\n",
      "Wall time: 6min 26s\n"
     ]
    }
   ],
   "source": [
    "%%time\n",
    "start = time.time()\n",
    "\n",
    "model = LGBMRegressor()\n",
    "model.fit(features_train_ohe, target_train)\n",
    "\n",
    "f = time.time()\n",
    "time_fit = f - start\n",
    "\n",
    "probabilities_valid = model.predict(features_valid_ohe)\n",
    "\n",
    "p= time.time()\n",
    "time_predict = p - f\n",
    "\n",
    "rmse = mean_squared_error(target_valid, predicted_valid)** 0.5\n",
    "print(f\"RMSE на валидационной выборке = {rmse:.2f}\")\n",
    "predicted_test = model.predict(features_test_ohe)\n",
    "rmse = mean_squared_error(target_test, predicted_test)** 0.5\n",
    "print(f\"RMSE на тестовой выборке = {rmse:.2f}\")\n",
    "\n",
    "print(f'\\nВремя выполнения обучения {time_fit:.2f} секунд')\n",
    "print(f'Время выполнения предсказания {time_predict:.2f} секунд')\n",
    "\n",
    "best['LGBMRegressor'] = rmse\n",
    "time_fit_all['LGBMRegressor'] = time_fit\n",
    "time_predict_all['LGBMRegressor'] = time_predict"
   ]
  },
  {
   "cell_type": "markdown",
   "metadata": {},
   "source": [
    "### Вывод\n",
    "\n",
    "После исследования моделей наилучший показатель у модели RandomForestRegressor RMSE = 1642.14"
   ]
  },
  {
   "cell_type": "markdown",
   "metadata": {},
   "source": [
    "## Анализ моделей"
   ]
  },
  {
   "cell_type": "code",
   "execution_count": 161,
   "metadata": {
    "scrolled": true
   },
   "outputs": [
    {
     "name": "stdout",
     "output_type": "stream",
     "text": [
      "Модель RandomForestRegressor - RMSE = 1642.14\n",
      "Модель CatBoostRegressor - RMSE = 1697.33\n",
      "Модель LGBMRegressor - RMSE = 1780.26\n",
      "Модель DecisionTreeRegressor - RMSE = 1999.62\n",
      "Модель LinearRegression - RMSE = 2697.25\n"
     ]
    }
   ],
   "source": [
    "for model, index in sorted(best.items(), key=lambda item: item[1]):\n",
    "    print(f'Модель {model} - RMSE = {index:.2f}')"
   ]
  },
  {
   "cell_type": "code",
   "execution_count": 162,
   "metadata": {},
   "outputs": [
    {
     "name": "stdout",
     "output_type": "stream",
     "text": [
      "Модель DecisionTreeRegressor - время выполнения обучения = 6.52 секунд\n",
      "Модель LinearRegression - время выполнения обучения = 47.20 секунд\n",
      "Модель CatBoostRegressor - время выполнения обучения = 136.22 секунд\n",
      "Модель LGBMRegressor - время выполнения обучения = 385.97 секунд\n",
      "Модель RandomForestRegressor - время выполнения обучения = 469.51 секунд\n"
     ]
    }
   ],
   "source": [
    "for model, index in sorted(time_fit_all.items(), key=lambda item: item[1]):\n",
    "    print(f'Модель {model} - время выполнения обучения = {index:.2f} секунд')"
   ]
  },
  {
   "cell_type": "code",
   "execution_count": 163,
   "metadata": {},
   "outputs": [
    {
     "name": "stdout",
     "output_type": "stream",
     "text": [
      "Модель DecisionTreeRegressor - время предсказания = 0.04 секунд\n",
      "Модель LinearRegression - время предсказания = 0.10 секунд\n",
      "Модель CatBoostRegressor - время предсказания = 0.17 секунд\n",
      "Модель LGBMRegressor - время предсказания = 0.33 секунд\n",
      "Модель RandomForestRegressor - время предсказания = 1.67 секунд\n"
     ]
    }
   ],
   "source": [
    "for model, index in sorted(time_predict_all.items(), key=lambda item: item[1]):\n",
    "    print(f'Модель {model} - время предсказания = {index:.2f} секунд')"
   ]
  },
  {
   "cell_type": "markdown",
   "metadata": {},
   "source": [
    "## Вывод\n",
    "\n",
    "Модель RandomForestRegressor показала лучший результат RMSE = 1642.14. Самое быстрое  время обучения у модели DecisionTreeRegressor = 6.52 секунд при max_depth=21. Самое быстрое время предсказания у модели DecisionTreeRegressor 0.04 секунд. \n",
    "На тестовой выборке результаты сравнимы с валидационной. \n",
    " "
   ]
  },
  {
   "cell_type": "code",
   "execution_count": null,
   "metadata": {},
   "outputs": [],
   "source": []
  }
 ],
 "metadata": {
  "ExecuteTimeLog": [
   {
    "duration": 44,
    "start_time": "2022-05-11T13:23:32.163Z"
   },
   {
    "duration": 396,
    "start_time": "2022-05-11T13:23:36.717Z"
   },
   {
    "duration": 787,
    "start_time": "2022-05-11T13:23:37.261Z"
   },
   {
    "duration": 483,
    "start_time": "2022-05-12T12:30:03.432Z"
   },
   {
    "duration": 1476,
    "start_time": "2022-05-12T12:30:03.920Z"
   },
   {
    "duration": 1153,
    "start_time": "2022-05-12T12:30:26.677Z"
   },
   {
    "duration": 1123,
    "start_time": "2022-05-12T12:30:39.092Z"
   },
   {
    "duration": 23,
    "start_time": "2022-05-12T12:30:41.963Z"
   },
   {
    "duration": 208,
    "start_time": "2022-05-12T12:31:00.365Z"
   },
   {
    "duration": 5,
    "start_time": "2022-05-12T12:31:57.605Z"
   },
   {
    "duration": 91,
    "start_time": "2022-05-12T12:32:23.979Z"
   },
   {
    "duration": 12,
    "start_time": "2022-05-12T12:32:30.491Z"
   },
   {
    "duration": 11,
    "start_time": "2022-05-12T12:37:59.569Z"
   },
   {
    "duration": 664,
    "start_time": "2022-05-12T12:38:30.054Z"
   },
   {
    "duration": 617,
    "start_time": "2022-05-12T12:38:40.713Z"
   },
   {
    "duration": 161,
    "start_time": "2022-05-12T12:39:30.288Z"
   },
   {
    "duration": 164,
    "start_time": "2022-05-12T12:39:37.605Z"
   },
   {
    "duration": 156,
    "start_time": "2022-05-12T12:39:58.015Z"
   },
   {
    "duration": 22,
    "start_time": "2022-05-12T12:40:34.198Z"
   },
   {
    "duration": 63,
    "start_time": "2022-05-12T12:41:24.870Z"
   },
   {
    "duration": 2481,
    "start_time": "2022-05-12T13:24:00.844Z"
   },
   {
    "duration": 4,
    "start_time": "2022-05-12T13:24:17.023Z"
   },
   {
    "duration": 1552,
    "start_time": "2022-05-12T13:24:17.030Z"
   },
   {
    "duration": 39,
    "start_time": "2022-05-12T13:24:18.586Z"
   },
   {
    "duration": 323,
    "start_time": "2022-05-12T13:24:18.629Z"
   },
   {
    "duration": 104,
    "start_time": "2022-05-12T13:24:18.954Z"
   },
   {
    "duration": 4,
    "start_time": "2022-05-12T13:24:28.222Z"
   },
   {
    "duration": 1151,
    "start_time": "2022-05-12T13:24:28.229Z"
   },
   {
    "duration": 27,
    "start_time": "2022-05-12T13:24:29.383Z"
   },
   {
    "duration": 240,
    "start_time": "2022-05-12T13:24:29.413Z"
   },
   {
    "duration": 77,
    "start_time": "2022-05-12T13:24:29.656Z"
   },
   {
    "duration": 2206,
    "start_time": "2022-05-12T13:24:33.659Z"
   },
   {
    "duration": 694,
    "start_time": "2022-05-12T13:24:49.323Z"
   },
   {
    "duration": 1553,
    "start_time": "2022-05-12T13:25:20.645Z"
   },
   {
    "duration": 726,
    "start_time": "2022-05-12T13:25:22.205Z"
   },
   {
    "duration": 1660,
    "start_time": "2022-05-12T13:30:01.621Z"
   },
   {
    "duration": 688,
    "start_time": "2022-05-12T13:30:03.422Z"
   },
   {
    "duration": 292,
    "start_time": "2022-05-12T13:30:27.440Z"
   },
   {
    "duration": 1446,
    "start_time": "2022-05-12T13:31:08.405Z"
   },
   {
    "duration": 892,
    "start_time": "2022-05-12T13:31:09.854Z"
   },
   {
    "duration": 2354,
    "start_time": "2022-05-12T13:31:19.464Z"
   },
   {
    "duration": 4,
    "start_time": "2022-05-12T13:31:26.407Z"
   },
   {
    "duration": 1347,
    "start_time": "2022-05-12T13:31:26.415Z"
   },
   {
    "duration": 22,
    "start_time": "2022-05-12T13:31:27.764Z"
   },
   {
    "duration": 220,
    "start_time": "2022-05-12T13:31:27.796Z"
   },
   {
    "duration": 84,
    "start_time": "2022-05-12T13:31:28.020Z"
   },
   {
    "duration": 2136,
    "start_time": "2022-05-12T13:31:38.441Z"
   },
   {
    "duration": 2240,
    "start_time": "2022-05-12T13:32:16.916Z"
   },
   {
    "duration": 238,
    "start_time": "2022-05-12T13:33:04.160Z"
   },
   {
    "duration": 221,
    "start_time": "2022-05-12T13:34:37.735Z"
   },
   {
    "duration": 420,
    "start_time": "2022-05-12T17:03:25.069Z"
   },
   {
    "duration": 780,
    "start_time": "2022-05-12T17:03:25.491Z"
   },
   {
    "duration": 21,
    "start_time": "2022-05-12T17:03:26.273Z"
   },
   {
    "duration": 139,
    "start_time": "2022-05-12T17:03:26.301Z"
   },
   {
    "duration": 1419,
    "start_time": "2022-05-12T17:03:26.442Z"
   },
   {
    "duration": 120,
    "start_time": "2022-05-12T17:03:27.863Z"
   },
   {
    "duration": 19,
    "start_time": "2022-05-12T18:21:59.255Z"
   },
   {
    "duration": 19,
    "start_time": "2022-05-12T18:23:05.060Z"
   },
   {
    "duration": 20,
    "start_time": "2022-05-12T18:23:17.509Z"
   },
   {
    "duration": 19,
    "start_time": "2022-05-12T18:23:33.021Z"
   },
   {
    "duration": 19,
    "start_time": "2022-05-12T18:23:49.580Z"
   },
   {
    "duration": 159,
    "start_time": "2022-05-12T18:50:29.529Z"
   },
   {
    "duration": 214,
    "start_time": "2022-05-12T18:50:38.692Z"
   },
   {
    "duration": 35,
    "start_time": "2022-05-12T18:50:42.146Z"
   },
   {
    "duration": 31,
    "start_time": "2022-05-12T18:50:48.770Z"
   },
   {
    "duration": 23,
    "start_time": "2022-05-12T18:50:53.772Z"
   },
   {
    "duration": 22,
    "start_time": "2022-05-12T18:50:58.426Z"
   },
   {
    "duration": 19,
    "start_time": "2022-05-12T18:51:01.026Z"
   },
   {
    "duration": 2,
    "start_time": "2022-05-12T18:51:48.437Z"
   },
   {
    "duration": 718,
    "start_time": "2022-05-12T18:51:48.444Z"
   },
   {
    "duration": 14,
    "start_time": "2022-05-12T18:51:49.164Z"
   },
   {
    "duration": 132,
    "start_time": "2022-05-12T18:51:49.179Z"
   },
   {
    "duration": 1149,
    "start_time": "2022-05-12T18:51:49.313Z"
   },
   {
    "duration": 1143,
    "start_time": "2022-05-12T18:51:53.258Z"
   },
   {
    "duration": 116,
    "start_time": "2022-05-12T18:51:56.473Z"
   },
   {
    "duration": 19,
    "start_time": "2022-05-12T18:52:03.426Z"
   },
   {
    "duration": 20,
    "start_time": "2022-05-12T18:52:04.700Z"
   },
   {
    "duration": 21,
    "start_time": "2022-05-12T18:52:05.777Z"
   },
   {
    "duration": 45,
    "start_time": "2022-05-12T18:52:41.962Z"
   },
   {
    "duration": 19,
    "start_time": "2022-05-12T18:53:03.323Z"
   },
   {
    "duration": 46,
    "start_time": "2022-05-12T18:53:19.194Z"
   },
   {
    "duration": 49,
    "start_time": "2022-05-12T18:54:15.083Z"
   },
   {
    "duration": 47,
    "start_time": "2022-05-12T18:54:31.260Z"
   },
   {
    "duration": 44,
    "start_time": "2022-05-12T18:54:45.964Z"
   },
   {
    "duration": 114,
    "start_time": "2022-05-12T19:24:40.337Z"
   },
   {
    "duration": 107,
    "start_time": "2022-05-12T19:24:52.235Z"
   },
   {
    "duration": 62,
    "start_time": "2022-05-12T19:25:27.026Z"
   },
   {
    "duration": 120,
    "start_time": "2022-05-12T19:25:30.316Z"
   },
   {
    "duration": 2,
    "start_time": "2022-05-12T19:25:35.727Z"
   },
   {
    "duration": 1016,
    "start_time": "2022-05-12T19:25:35.733Z"
   },
   {
    "duration": 19,
    "start_time": "2022-05-12T19:25:36.751Z"
   },
   {
    "duration": 228,
    "start_time": "2022-05-12T19:25:36.772Z"
   },
   {
    "duration": 2217,
    "start_time": "2022-05-12T19:25:37.003Z"
   },
   {
    "duration": 212,
    "start_time": "2022-05-12T19:25:39.222Z"
   },
   {
    "duration": 211,
    "start_time": "2022-05-12T19:25:42.278Z"
   },
   {
    "duration": 3,
    "start_time": "2022-05-12T19:26:16.568Z"
   },
   {
    "duration": 696,
    "start_time": "2022-05-12T19:26:16.572Z"
   },
   {
    "duration": 16,
    "start_time": "2022-05-12T19:26:17.269Z"
   },
   {
    "duration": 139,
    "start_time": "2022-05-12T19:26:17.287Z"
   },
   {
    "duration": 1191,
    "start_time": "2022-05-12T19:26:17.427Z"
   },
   {
    "duration": 117,
    "start_time": "2022-05-12T19:26:18.620Z"
   },
   {
    "duration": 113,
    "start_time": "2022-05-12T19:26:26.419Z"
   },
   {
    "duration": 48,
    "start_time": "2022-05-12T19:26:29.948Z"
   },
   {
    "duration": 49,
    "start_time": "2022-05-12T19:27:00.564Z"
   },
   {
    "duration": 51,
    "start_time": "2022-05-12T19:27:38.850Z"
   },
   {
    "duration": 33,
    "start_time": "2022-05-12T19:29:13.988Z"
   },
   {
    "duration": 91,
    "start_time": "2022-05-12T19:29:16.628Z"
   },
   {
    "duration": 98,
    "start_time": "2022-05-12T19:29:45.728Z"
   },
   {
    "duration": 19,
    "start_time": "2022-05-12T19:30:18.643Z"
   },
   {
    "duration": 97,
    "start_time": "2022-05-12T19:30:21.091Z"
   },
   {
    "duration": 31,
    "start_time": "2022-05-12T19:31:42.386Z"
   },
   {
    "duration": 54,
    "start_time": "2022-05-12T19:31:44.809Z"
   },
   {
    "duration": 47,
    "start_time": "2022-05-12T19:32:15.303Z"
   },
   {
    "duration": 21,
    "start_time": "2022-05-12T19:32:42.521Z"
   },
   {
    "duration": 47,
    "start_time": "2022-05-12T19:32:45.655Z"
   },
   {
    "duration": 116,
    "start_time": "2022-05-12T19:33:02.722Z"
   },
   {
    "duration": 21,
    "start_time": "2022-05-12T19:33:16.729Z"
   },
   {
    "duration": 48,
    "start_time": "2022-05-12T19:33:18.400Z"
   },
   {
    "duration": 215,
    "start_time": "2022-05-12T19:33:23.729Z"
   },
   {
    "duration": 214,
    "start_time": "2022-05-12T19:33:41.000Z"
   },
   {
    "duration": 3,
    "start_time": "2022-05-12T19:33:53.171Z"
   },
   {
    "duration": 712,
    "start_time": "2022-05-12T19:33:53.176Z"
   },
   {
    "duration": 22,
    "start_time": "2022-05-12T19:33:53.890Z"
   },
   {
    "duration": 231,
    "start_time": "2022-05-12T19:33:53.914Z"
   },
   {
    "duration": 1140,
    "start_time": "2022-05-12T19:33:54.148Z"
   },
   {
    "duration": 120,
    "start_time": "2022-05-12T19:33:55.289Z"
   },
   {
    "duration": 70,
    "start_time": "2022-05-12T19:33:55.411Z"
   },
   {
    "duration": 42,
    "start_time": "2022-05-12T19:33:55.483Z"
   },
   {
    "duration": 99,
    "start_time": "2022-05-12T19:33:55.527Z"
   },
   {
    "duration": 30,
    "start_time": "2022-05-12T19:33:55.628Z"
   },
   {
    "duration": 99,
    "start_time": "2022-05-12T19:33:55.660Z"
   },
   {
    "duration": 43,
    "start_time": "2022-05-12T19:33:55.761Z"
   },
   {
    "duration": 94,
    "start_time": "2022-05-12T19:33:55.807Z"
   },
   {
    "duration": 32,
    "start_time": "2022-05-12T19:33:55.902Z"
   },
   {
    "duration": 45,
    "start_time": "2022-05-12T19:33:55.936Z"
   },
   {
    "duration": 32,
    "start_time": "2022-05-12T19:33:55.983Z"
   },
   {
    "duration": 122,
    "start_time": "2022-05-12T19:33:56.017Z"
   },
   {
    "duration": 1148,
    "start_time": "2022-05-12T19:35:09.015Z"
   },
   {
    "duration": 117,
    "start_time": "2022-05-12T19:36:08.359Z"
   },
   {
    "duration": 13,
    "start_time": "2022-05-12T20:36:22.479Z"
   },
   {
    "duration": 80,
    "start_time": "2022-05-12T20:36:27.936Z"
   },
   {
    "duration": 880,
    "start_time": "2022-05-12T20:37:36.032Z"
   },
   {
    "duration": 148,
    "start_time": "2022-05-12T20:37:48.415Z"
   },
   {
    "duration": 390,
    "start_time": "2022-05-12T20:38:00.379Z"
   },
   {
    "duration": 176,
    "start_time": "2022-05-12T20:38:14.107Z"
   },
   {
    "duration": 8,
    "start_time": "2022-05-12T20:39:43.919Z"
   },
   {
    "duration": 9,
    "start_time": "2022-05-12T20:40:04.477Z"
   },
   {
    "duration": 8,
    "start_time": "2022-05-12T20:40:15.000Z"
   },
   {
    "duration": 389,
    "start_time": "2022-05-13T08:28:19.416Z"
   },
   {
    "duration": 781,
    "start_time": "2022-05-13T08:28:19.808Z"
   },
   {
    "duration": 21,
    "start_time": "2022-05-13T08:28:20.590Z"
   },
   {
    "duration": 140,
    "start_time": "2022-05-13T08:28:20.614Z"
   },
   {
    "duration": 98,
    "start_time": "2022-05-13T08:28:20.756Z"
   },
   {
    "duration": 8,
    "start_time": "2022-05-13T08:28:20.856Z"
   },
   {
    "duration": 1412,
    "start_time": "2022-05-13T08:28:20.866Z"
   },
   {
    "duration": 120,
    "start_time": "2022-05-13T08:28:22.280Z"
   },
   {
    "duration": 50,
    "start_time": "2022-05-13T08:28:22.402Z"
   },
   {
    "duration": 41,
    "start_time": "2022-05-13T08:28:22.455Z"
   },
   {
    "duration": 52,
    "start_time": "2022-05-13T08:28:22.497Z"
   },
   {
    "duration": 44,
    "start_time": "2022-05-13T08:28:22.551Z"
   },
   {
    "duration": 54,
    "start_time": "2022-05-13T08:28:22.597Z"
   },
   {
    "duration": 41,
    "start_time": "2022-05-13T08:28:22.653Z"
   },
   {
    "duration": 49,
    "start_time": "2022-05-13T08:28:22.696Z"
   },
   {
    "duration": 40,
    "start_time": "2022-05-13T08:28:22.748Z"
   },
   {
    "duration": 50,
    "start_time": "2022-05-13T08:28:22.790Z"
   },
   {
    "duration": 19,
    "start_time": "2022-05-13T08:28:22.842Z"
   },
   {
    "duration": 136,
    "start_time": "2022-05-13T08:28:22.863Z"
   },
   {
    "duration": 1004,
    "start_time": "2022-05-13T08:29:50.361Z"
   },
   {
    "duration": 87,
    "start_time": "2022-05-13T08:32:55.270Z"
   },
   {
    "duration": 3087,
    "start_time": "2022-05-13T08:33:03.209Z"
   },
   {
    "duration": 22,
    "start_time": "2022-05-13T08:33:16.686Z"
   },
   {
    "duration": 2,
    "start_time": "2022-05-13T08:33:53.632Z"
   },
   {
    "duration": 729,
    "start_time": "2022-05-13T08:33:53.636Z"
   },
   {
    "duration": 13,
    "start_time": "2022-05-13T08:33:54.367Z"
   },
   {
    "duration": 135,
    "start_time": "2022-05-13T08:33:54.382Z"
   },
   {
    "duration": 96,
    "start_time": "2022-05-13T08:33:54.519Z"
   },
   {
    "duration": 7,
    "start_time": "2022-05-13T08:33:54.617Z"
   },
   {
    "duration": 1290,
    "start_time": "2022-05-13T08:33:54.625Z"
   },
   {
    "duration": 120,
    "start_time": "2022-05-13T08:33:55.917Z"
   },
   {
    "duration": 62,
    "start_time": "2022-05-13T08:33:56.039Z"
   },
   {
    "duration": 25,
    "start_time": "2022-05-13T08:33:56.102Z"
   },
   {
    "duration": 60,
    "start_time": "2022-05-13T08:33:56.130Z"
   },
   {
    "duration": 20,
    "start_time": "2022-05-13T08:33:56.192Z"
   },
   {
    "duration": 53,
    "start_time": "2022-05-13T08:33:56.214Z"
   },
   {
    "duration": 35,
    "start_time": "2022-05-13T08:33:56.268Z"
   },
   {
    "duration": 49,
    "start_time": "2022-05-13T08:33:56.305Z"
   },
   {
    "duration": 36,
    "start_time": "2022-05-13T08:33:56.356Z"
   },
   {
    "duration": 55,
    "start_time": "2022-05-13T08:33:56.395Z"
   },
   {
    "duration": 39,
    "start_time": "2022-05-13T08:33:56.451Z"
   },
   {
    "duration": 124,
    "start_time": "2022-05-13T08:33:56.491Z"
   },
   {
    "duration": 12,
    "start_time": "2022-05-13T08:33:56.616Z"
   },
   {
    "duration": 3099,
    "start_time": "2022-05-13T08:33:56.630Z"
   },
   {
    "duration": 22,
    "start_time": "2022-05-13T08:33:59.731Z"
   },
   {
    "duration": 3,
    "start_time": "2022-05-13T08:35:53.688Z"
   },
   {
    "duration": 1343,
    "start_time": "2022-05-13T08:35:53.692Z"
   },
   {
    "duration": 14,
    "start_time": "2022-05-13T08:35:55.037Z"
   },
   {
    "duration": 139,
    "start_time": "2022-05-13T08:35:55.052Z"
   },
   {
    "duration": 82,
    "start_time": "2022-05-13T08:35:55.193Z"
   },
   {
    "duration": 15,
    "start_time": "2022-05-13T08:35:55.277Z"
   },
   {
    "duration": 1273,
    "start_time": "2022-05-13T08:35:55.294Z"
   },
   {
    "duration": 122,
    "start_time": "2022-05-13T08:35:56.568Z"
   },
   {
    "duration": 47,
    "start_time": "2022-05-13T08:35:56.692Z"
   },
   {
    "duration": 19,
    "start_time": "2022-05-13T08:35:56.741Z"
   },
   {
    "duration": 64,
    "start_time": "2022-05-13T08:35:56.762Z"
   },
   {
    "duration": 19,
    "start_time": "2022-05-13T08:35:56.828Z"
   },
   {
    "duration": 68,
    "start_time": "2022-05-13T08:35:56.849Z"
   },
   {
    "duration": 18,
    "start_time": "2022-05-13T08:35:56.919Z"
   },
   {
    "duration": 66,
    "start_time": "2022-05-13T08:35:56.939Z"
   },
   {
    "duration": 18,
    "start_time": "2022-05-13T08:35:57.007Z"
   },
   {
    "duration": 63,
    "start_time": "2022-05-13T08:35:57.027Z"
   },
   {
    "duration": 20,
    "start_time": "2022-05-13T08:35:57.091Z"
   },
   {
    "duration": 125,
    "start_time": "2022-05-13T08:35:57.113Z"
   },
   {
    "duration": 13,
    "start_time": "2022-05-13T08:35:57.239Z"
   },
   {
    "duration": 14,
    "start_time": "2022-05-13T08:36:01.127Z"
   },
   {
    "duration": 5323,
    "start_time": "2022-05-13T08:36:06.796Z"
   },
   {
    "duration": 5171,
    "start_time": "2022-05-13T08:36:31.261Z"
   },
   {
    "duration": 3767,
    "start_time": "2022-05-13T08:36:51.318Z"
   },
   {
    "duration": 18,
    "start_time": "2022-05-13T08:39:36.387Z"
   },
   {
    "duration": 103,
    "start_time": "2022-05-13T08:39:48.166Z"
   },
   {
    "duration": 12,
    "start_time": "2022-05-13T08:39:57.995Z"
   },
   {
    "duration": 15,
    "start_time": "2022-05-13T08:39:59.999Z"
   },
   {
    "duration": 196,
    "start_time": "2022-05-13T08:40:41.386Z"
   },
   {
    "duration": 6,
    "start_time": "2022-05-13T08:40:50.891Z"
   },
   {
    "duration": 21,
    "start_time": "2022-05-13T08:40:57.610Z"
   },
   {
    "duration": 795,
    "start_time": "2022-05-13T08:44:44.050Z"
   },
   {
    "duration": 2,
    "start_time": "2022-05-13T08:45:35.081Z"
   },
   {
    "duration": 32,
    "start_time": "2022-05-13T09:00:34.900Z"
   },
   {
    "duration": 182,
    "start_time": "2022-05-13T09:01:14.811Z"
   },
   {
    "duration": 3647,
    "start_time": "2022-05-13T09:01:27.274Z"
   },
   {
    "duration": 3812,
    "start_time": "2022-05-13T09:01:50.827Z"
   },
   {
    "duration": 3054,
    "start_time": "2022-05-13T09:02:44.300Z"
   },
   {
    "duration": 24,
    "start_time": "2022-05-13T09:02:50.779Z"
   },
   {
    "duration": 89,
    "start_time": "2022-05-13T09:02:58.700Z"
   },
   {
    "duration": 315,
    "start_time": "2022-05-13T09:03:01.374Z"
   },
   {
    "duration": 3,
    "start_time": "2022-05-13T09:05:07.686Z"
   },
   {
    "duration": 751,
    "start_time": "2022-05-13T09:05:07.691Z"
   },
   {
    "duration": 13,
    "start_time": "2022-05-13T09:05:08.444Z"
   },
   {
    "duration": 135,
    "start_time": "2022-05-13T09:05:08.459Z"
   },
   {
    "duration": 83,
    "start_time": "2022-05-13T09:05:08.596Z"
   },
   {
    "duration": 8,
    "start_time": "2022-05-13T09:05:08.688Z"
   },
   {
    "duration": 1345,
    "start_time": "2022-05-13T09:05:08.698Z"
   },
   {
    "duration": 122,
    "start_time": "2022-05-13T09:05:10.045Z"
   },
   {
    "duration": 61,
    "start_time": "2022-05-13T09:05:10.169Z"
   },
   {
    "duration": 20,
    "start_time": "2022-05-13T09:05:10.232Z"
   },
   {
    "duration": 72,
    "start_time": "2022-05-13T09:05:10.254Z"
   },
   {
    "duration": 19,
    "start_time": "2022-05-13T09:05:10.327Z"
   },
   {
    "duration": 72,
    "start_time": "2022-05-13T09:05:10.348Z"
   },
   {
    "duration": 18,
    "start_time": "2022-05-13T09:05:10.422Z"
   },
   {
    "duration": 67,
    "start_time": "2022-05-13T09:05:10.442Z"
   },
   {
    "duration": 18,
    "start_time": "2022-05-13T09:05:10.511Z"
   },
   {
    "duration": 46,
    "start_time": "2022-05-13T09:05:10.531Z"
   },
   {
    "duration": 20,
    "start_time": "2022-05-13T09:05:10.588Z"
   },
   {
    "duration": 124,
    "start_time": "2022-05-13T09:05:10.610Z"
   },
   {
    "duration": 12,
    "start_time": "2022-05-13T09:05:10.736Z"
   },
   {
    "duration": 13,
    "start_time": "2022-05-13T09:05:13.461Z"
   },
   {
    "duration": 1844,
    "start_time": "2022-05-13T09:05:17.546Z"
   },
   {
    "duration": 481,
    "start_time": "2022-05-13T09:05:35.611Z"
   },
   {
    "duration": 914,
    "start_time": "2022-05-13T09:06:00.422Z"
   },
   {
    "duration": 2968,
    "start_time": "2022-05-13T09:06:11.379Z"
   },
   {
    "duration": 9,
    "start_time": "2022-05-13T09:06:33.522Z"
   },
   {
    "duration": 3212,
    "start_time": "2022-05-13T09:06:43.402Z"
   },
   {
    "duration": 22,
    "start_time": "2022-05-13T09:06:50.571Z"
   },
   {
    "duration": 3,
    "start_time": "2022-05-13T09:15:49.199Z"
   },
   {
    "duration": 279,
    "start_time": "2022-05-13T09:15:54.528Z"
   },
   {
    "duration": 978,
    "start_time": "2022-05-13T12:05:37.237Z"
   },
   {
    "duration": 147,
    "start_time": "2022-05-13T12:05:44.999Z"
   },
   {
    "duration": 366,
    "start_time": "2022-05-13T12:13:13.524Z"
   },
   {
    "duration": 3,
    "start_time": "2022-05-13T12:14:14.148Z"
   },
   {
    "duration": 747,
    "start_time": "2022-05-13T12:14:14.153Z"
   },
   {
    "duration": 15,
    "start_time": "2022-05-13T12:14:14.902Z"
   },
   {
    "duration": 139,
    "start_time": "2022-05-13T12:14:14.918Z"
   },
   {
    "duration": 93,
    "start_time": "2022-05-13T12:14:15.059Z"
   },
   {
    "duration": 7,
    "start_time": "2022-05-13T12:14:15.154Z"
   },
   {
    "duration": 1306,
    "start_time": "2022-05-13T12:14:15.163Z"
   },
   {
    "duration": 122,
    "start_time": "2022-05-13T12:14:16.471Z"
   },
   {
    "duration": 47,
    "start_time": "2022-05-13T12:14:16.595Z"
   },
   {
    "duration": 47,
    "start_time": "2022-05-13T12:14:16.644Z"
   },
   {
    "duration": 47,
    "start_time": "2022-05-13T12:14:16.694Z"
   },
   {
    "duration": 20,
    "start_time": "2022-05-13T12:14:16.743Z"
   },
   {
    "duration": 69,
    "start_time": "2022-05-13T12:14:16.764Z"
   },
   {
    "duration": 19,
    "start_time": "2022-05-13T12:14:16.835Z"
   },
   {
    "duration": 69,
    "start_time": "2022-05-13T12:14:16.855Z"
   },
   {
    "duration": 18,
    "start_time": "2022-05-13T12:14:16.926Z"
   },
   {
    "duration": 72,
    "start_time": "2022-05-13T12:14:16.945Z"
   },
   {
    "duration": 22,
    "start_time": "2022-05-13T12:14:17.019Z"
   },
   {
    "duration": 129,
    "start_time": "2022-05-13T12:14:17.043Z"
   },
   {
    "duration": 22,
    "start_time": "2022-05-13T12:14:17.174Z"
   },
   {
    "duration": 7,
    "start_time": "2022-05-13T12:14:17.198Z"
   },
   {
    "duration": 6,
    "start_time": "2022-05-13T12:14:17.206Z"
   },
   {
    "duration": 8,
    "start_time": "2022-05-13T12:14:17.214Z"
   },
   {
    "duration": 216,
    "start_time": "2022-05-13T12:14:17.223Z"
   },
   {
    "duration": 283,
    "start_time": "2022-05-13T12:14:17.441Z"
   },
   {
    "duration": 3,
    "start_time": "2022-05-13T12:15:19.547Z"
   },
   {
    "duration": 10,
    "start_time": "2022-05-13T12:15:59.475Z"
   },
   {
    "duration": 49,
    "start_time": "2022-05-13T13:45:27.472Z"
   },
   {
    "duration": 22,
    "start_time": "2022-05-13T13:49:47.979Z"
   },
   {
    "duration": 17,
    "start_time": "2022-05-13T13:51:11.718Z"
   },
   {
    "duration": 4393,
    "start_time": "2022-05-13T13:51:50.949Z"
   },
   {
    "duration": 110,
    "start_time": "2022-05-13T13:52:55.676Z"
   },
   {
    "duration": 17,
    "start_time": "2022-05-13T13:53:06.261Z"
   },
   {
    "duration": 2,
    "start_time": "2022-05-13T13:53:16.945Z"
   },
   {
    "duration": 2092,
    "start_time": "2022-05-13T13:53:19.404Z"
   },
   {
    "duration": 3,
    "start_time": "2022-05-13T13:54:43.268Z"
   },
   {
    "duration": 12,
    "start_time": "2022-05-13T13:54:51.134Z"
   },
   {
    "duration": 219855,
    "start_time": "2022-05-13T13:57:16.780Z"
   },
   {
    "duration": 116,
    "start_time": "2022-05-13T14:01:14.633Z"
   },
   {
    "duration": 3,
    "start_time": "2022-05-13T14:01:16.848Z"
   },
   {
    "duration": 3,
    "start_time": "2022-05-13T14:01:17.144Z"
   },
   {
    "duration": 2412,
    "start_time": "2022-05-13T14:42:32.146Z"
   },
   {
    "duration": 2637,
    "start_time": "2022-05-13T14:43:44.279Z"
   },
   {
    "duration": 2364,
    "start_time": "2022-05-13T14:43:56.655Z"
   },
   {
    "duration": 10897,
    "start_time": "2022-05-13T14:44:07.007Z"
   },
   {
    "duration": 11017,
    "start_time": "2022-05-13T16:01:39.067Z"
   },
   {
    "duration": 11074,
    "start_time": "2022-05-13T16:02:56.104Z"
   },
   {
    "duration": 4,
    "start_time": "2022-05-13T16:03:25.839Z"
   },
   {
    "duration": 9,
    "start_time": "2022-05-13T16:03:45.054Z"
   },
   {
    "duration": 4,
    "start_time": "2022-05-13T16:03:55.862Z"
   },
   {
    "duration": 9,
    "start_time": "2022-05-13T16:04:55.424Z"
   },
   {
    "duration": 5,
    "start_time": "2022-05-13T16:05:01.046Z"
   },
   {
    "duration": 8,
    "start_time": "2022-05-13T16:05:11.133Z"
   },
   {
    "duration": 2126,
    "start_time": "2022-05-15T12:13:11.285Z"
   },
   {
    "duration": 1134,
    "start_time": "2022-05-15T12:13:13.413Z"
   },
   {
    "duration": 37,
    "start_time": "2022-05-15T12:13:14.549Z"
   },
   {
    "duration": 172,
    "start_time": "2022-05-15T12:13:14.590Z"
   },
   {
    "duration": 190,
    "start_time": "2022-05-15T12:13:14.764Z"
   },
   {
    "duration": 10,
    "start_time": "2022-05-15T12:13:14.956Z"
   },
   {
    "duration": 2225,
    "start_time": "2022-05-15T12:13:14.982Z"
   },
   {
    "duration": 261,
    "start_time": "2022-05-15T12:13:17.209Z"
   },
   {
    "duration": 129,
    "start_time": "2022-05-15T12:13:17.481Z"
   },
   {
    "duration": 43,
    "start_time": "2022-05-15T12:13:17.615Z"
   },
   {
    "duration": 81,
    "start_time": "2022-05-15T12:13:17.660Z"
   },
   {
    "duration": 44,
    "start_time": "2022-05-15T12:13:17.743Z"
   },
   {
    "duration": 73,
    "start_time": "2022-05-15T12:13:17.789Z"
   },
   {
    "duration": 28,
    "start_time": "2022-05-15T12:13:17.881Z"
   },
   {
    "duration": 89,
    "start_time": "2022-05-15T12:13:17.912Z"
   },
   {
    "duration": 29,
    "start_time": "2022-05-15T12:13:18.003Z"
   },
   {
    "duration": 89,
    "start_time": "2022-05-15T12:13:18.034Z"
   },
   {
    "duration": 29,
    "start_time": "2022-05-15T12:13:18.125Z"
   },
   {
    "duration": 174,
    "start_time": "2022-05-15T12:13:18.157Z"
   },
   {
    "duration": 27,
    "start_time": "2022-05-15T12:13:18.333Z"
   },
   {
    "duration": 3,
    "start_time": "2022-05-15T12:13:18.381Z"
   },
   {
    "duration": 14,
    "start_time": "2022-05-15T12:13:18.387Z"
   },
   {
    "duration": 7,
    "start_time": "2022-05-15T12:13:18.403Z"
   },
   {
    "duration": 216,
    "start_time": "2022-05-15T12:13:18.413Z"
   },
   {
    "duration": 3,
    "start_time": "2022-05-15T12:13:18.632Z"
   },
   {
    "duration": 9,
    "start_time": "2022-05-15T12:13:18.638Z"
   },
   {
    "duration": 29617,
    "start_time": "2022-05-15T12:13:18.649Z"
   },
   {
    "duration": 12,
    "start_time": "2022-05-15T12:13:48.272Z"
   },
   {
    "duration": 268,
    "start_time": "2022-05-15T12:13:48.287Z"
   },
   {
    "duration": 300,
    "start_time": "2022-05-15T12:17:39.443Z"
   },
   {
    "duration": 4330,
    "start_time": "2022-05-15T12:17:43.743Z"
   },
   {
    "duration": 210,
    "start_time": "2022-05-15T12:17:59.719Z"
   },
   {
    "duration": 3,
    "start_time": "2022-05-15T12:18:00.336Z"
   },
   {
    "duration": 4,
    "start_time": "2022-05-15T12:20:40.734Z"
   },
   {
    "duration": 410,
    "start_time": "2022-05-15T12:21:02.846Z"
   },
   {
    "duration": 29571,
    "start_time": "2022-05-15T12:23:26.237Z"
   },
   {
    "duration": 6,
    "start_time": "2022-05-15T12:23:55.812Z"
   },
   {
    "duration": 72,
    "start_time": "2022-05-15T20:00:26.181Z"
   },
   {
    "duration": 1514,
    "start_time": "2022-05-15T20:00:35.004Z"
   },
   {
    "duration": 1120,
    "start_time": "2022-05-15T20:00:36.521Z"
   },
   {
    "duration": 39,
    "start_time": "2022-05-15T20:00:37.644Z"
   },
   {
    "duration": 303,
    "start_time": "2022-05-15T20:00:37.687Z"
   },
   {
    "duration": 179,
    "start_time": "2022-05-15T20:00:37.993Z"
   },
   {
    "duration": 16,
    "start_time": "2022-05-15T20:00:38.176Z"
   },
   {
    "duration": 2320,
    "start_time": "2022-05-15T20:00:38.194Z"
   },
   {
    "duration": 161,
    "start_time": "2022-05-15T20:00:40.516Z"
   },
   {
    "duration": 89,
    "start_time": "2022-05-15T20:00:40.680Z"
   },
   {
    "duration": 29,
    "start_time": "2022-05-15T20:00:40.773Z"
   },
   {
    "duration": 126,
    "start_time": "2022-05-15T20:00:40.804Z"
   },
   {
    "duration": 52,
    "start_time": "2022-05-15T20:00:40.933Z"
   },
   {
    "duration": 85,
    "start_time": "2022-05-15T20:00:40.987Z"
   },
   {
    "duration": 42,
    "start_time": "2022-05-15T20:00:41.075Z"
   },
   {
    "duration": 149,
    "start_time": "2022-05-15T20:00:41.120Z"
   },
   {
    "duration": 28,
    "start_time": "2022-05-15T20:00:41.272Z"
   },
   {
    "duration": 91,
    "start_time": "2022-05-15T20:00:41.303Z"
   },
   {
    "duration": 32,
    "start_time": "2022-05-15T20:00:41.397Z"
   },
   {
    "duration": 332,
    "start_time": "2022-05-15T20:00:41.432Z"
   },
   {
    "duration": 32,
    "start_time": "2022-05-15T20:00:41.767Z"
   },
   {
    "duration": 11,
    "start_time": "2022-05-15T20:00:41.802Z"
   },
   {
    "duration": 7,
    "start_time": "2022-05-15T20:00:41.816Z"
   },
   {
    "duration": 6,
    "start_time": "2022-05-15T20:00:41.825Z"
   },
   {
    "duration": 201,
    "start_time": "2022-05-15T20:00:41.857Z"
   },
   {
    "duration": 4,
    "start_time": "2022-05-15T20:00:42.060Z"
   },
   {
    "duration": 10,
    "start_time": "2022-05-15T20:00:42.066Z"
   },
   {
    "duration": 209012,
    "start_time": "2022-05-15T20:00:44.971Z"
   },
   {
    "duration": 4509,
    "start_time": "2022-05-15T20:04:35.647Z"
   },
   {
    "duration": 97,
    "start_time": "2022-05-15T20:05:55.500Z"
   },
   {
    "duration": 1563,
    "start_time": "2022-05-15T20:10:20.243Z"
   },
   {
    "duration": 1082,
    "start_time": "2022-05-15T20:10:21.808Z"
   },
   {
    "duration": 32,
    "start_time": "2022-05-15T20:10:22.892Z"
   },
   {
    "duration": 191,
    "start_time": "2022-05-15T20:10:22.927Z"
   },
   {
    "duration": 125,
    "start_time": "2022-05-15T20:10:23.120Z"
   },
   {
    "duration": 14,
    "start_time": "2022-05-15T20:10:23.247Z"
   },
   {
    "duration": 2103,
    "start_time": "2022-05-15T20:10:23.264Z"
   },
   {
    "duration": 160,
    "start_time": "2022-05-15T20:10:25.369Z"
   },
   {
    "duration": 85,
    "start_time": "2022-05-15T20:10:25.531Z"
   },
   {
    "duration": 45,
    "start_time": "2022-05-15T20:10:25.620Z"
   },
   {
    "duration": 68,
    "start_time": "2022-05-15T20:10:25.667Z"
   },
   {
    "duration": 44,
    "start_time": "2022-05-15T20:10:25.737Z"
   },
   {
    "duration": 90,
    "start_time": "2022-05-15T20:10:25.783Z"
   },
   {
    "duration": 29,
    "start_time": "2022-05-15T20:10:25.876Z"
   },
   {
    "duration": 93,
    "start_time": "2022-05-15T20:10:25.907Z"
   },
   {
    "duration": 29,
    "start_time": "2022-05-15T20:10:26.003Z"
   },
   {
    "duration": 91,
    "start_time": "2022-05-15T20:10:26.034Z"
   },
   {
    "duration": 52,
    "start_time": "2022-05-15T20:10:26.127Z"
   },
   {
    "duration": 166,
    "start_time": "2022-05-15T20:10:26.181Z"
   },
   {
    "duration": 23,
    "start_time": "2022-05-15T20:10:26.357Z"
   },
   {
    "duration": 4,
    "start_time": "2022-05-15T20:10:26.383Z"
   },
   {
    "duration": 6,
    "start_time": "2022-05-15T20:10:26.389Z"
   },
   {
    "duration": 11,
    "start_time": "2022-05-15T20:10:26.397Z"
   },
   {
    "duration": 216,
    "start_time": "2022-05-15T20:10:26.410Z"
   },
   {
    "duration": 946,
    "start_time": "2022-05-15T20:10:26.628Z"
   },
   {
    "duration": 0,
    "start_time": "2022-05-15T20:10:27.577Z"
   },
   {
    "duration": 0,
    "start_time": "2022-05-15T20:10:27.580Z"
   },
   {
    "duration": 0,
    "start_time": "2022-05-15T20:10:27.582Z"
   },
   {
    "duration": 4828,
    "start_time": "2022-05-15T20:10:56.296Z"
   },
   {
    "duration": 204349,
    "start_time": "2022-05-15T20:11:14.406Z"
   },
   {
    "duration": 2373,
    "start_time": "2022-05-15T20:14:42.132Z"
   },
   {
    "duration": 15462,
    "start_time": "2022-05-15T20:15:17.444Z"
   },
   {
    "duration": 772,
    "start_time": "2022-05-15T20:16:37.101Z"
   },
   {
    "duration": 1027,
    "start_time": "2022-05-15T20:17:05.775Z"
   },
   {
    "duration": 32,
    "start_time": "2022-05-15T20:17:12.027Z"
   },
   {
    "duration": 224,
    "start_time": "2022-05-15T20:17:39.939Z"
   },
   {
    "duration": 201,
    "start_time": "2022-05-15T20:17:48.765Z"
   },
   {
    "duration": 38,
    "start_time": "2022-05-15T20:20:33.818Z"
   },
   {
    "duration": 2614,
    "start_time": "2022-05-15T20:25:19.114Z"
   },
   {
    "duration": 169919,
    "start_time": "2022-05-15T20:25:51.665Z"
   },
   {
    "duration": 18,
    "start_time": "2022-05-15T20:28:50.521Z"
   },
   {
    "duration": 710,
    "start_time": "2022-05-15T20:29:02.768Z"
   },
   {
    "duration": 1188,
    "start_time": "2022-05-15T20:29:08.881Z"
   },
   {
    "duration": 14,
    "start_time": "2022-05-15T20:32:09.472Z"
   },
   {
    "duration": 64845,
    "start_time": "2022-05-15T20:32:16.335Z"
   },
   {
    "duration": 230613,
    "start_time": "2022-05-15T20:33:25.773Z"
   },
   {
    "duration": 7779,
    "start_time": "2022-05-15T20:38:49.496Z"
   },
   {
    "duration": 9738,
    "start_time": "2022-05-15T20:39:42.603Z"
   },
   {
    "duration": 3,
    "start_time": "2022-05-15T20:40:24.849Z"
   },
   {
    "duration": 137,
    "start_time": "2022-05-15T20:41:39.401Z"
   },
   {
    "duration": 152,
    "start_time": "2022-05-15T20:41:49.025Z"
   },
   {
    "duration": 134,
    "start_time": "2022-05-15T20:42:22.232Z"
   },
   {
    "duration": 251,
    "start_time": "2022-05-15T20:42:29.508Z"
   },
   {
    "duration": 5,
    "start_time": "2022-05-15T20:42:44.120Z"
   },
   {
    "duration": 7952,
    "start_time": "2022-05-15T20:43:10.560Z"
   },
   {
    "duration": 7666,
    "start_time": "2022-05-15T20:44:06.770Z"
   },
   {
    "duration": 103050,
    "start_time": "2022-05-15T20:45:01.335Z"
   },
   {
    "duration": 4,
    "start_time": "2022-05-15T20:46:55.129Z"
   },
   {
    "duration": 14855,
    "start_time": "2022-05-15T20:46:58.999Z"
   },
   {
    "duration": 6,
    "start_time": "2022-05-15T20:47:19.407Z"
   },
   {
    "duration": 119,
    "start_time": "2022-05-15T20:52:39.156Z"
   },
   {
    "duration": 5,
    "start_time": "2022-05-15T20:53:02.959Z"
   },
   {
    "duration": 1006,
    "start_time": "2022-05-15T20:53:02.967Z"
   },
   {
    "duration": 22,
    "start_time": "2022-05-15T20:53:03.975Z"
   },
   {
    "duration": 181,
    "start_time": "2022-05-15T20:53:04.000Z"
   },
   {
    "duration": 122,
    "start_time": "2022-05-15T20:53:04.183Z"
   },
   {
    "duration": 14,
    "start_time": "2022-05-15T20:53:04.308Z"
   },
   {
    "duration": 1890,
    "start_time": "2022-05-15T20:53:04.324Z"
   },
   {
    "duration": 158,
    "start_time": "2022-05-15T20:53:06.216Z"
   },
   {
    "duration": 84,
    "start_time": "2022-05-15T20:53:06.376Z"
   },
   {
    "duration": 27,
    "start_time": "2022-05-15T20:53:06.464Z"
   },
   {
    "duration": 87,
    "start_time": "2022-05-15T20:53:06.494Z"
   },
   {
    "duration": 27,
    "start_time": "2022-05-15T20:53:06.583Z"
   },
   {
    "duration": 91,
    "start_time": "2022-05-15T20:53:06.612Z"
   },
   {
    "duration": 27,
    "start_time": "2022-05-15T20:53:06.705Z"
   },
   {
    "duration": 93,
    "start_time": "2022-05-15T20:53:06.734Z"
   },
   {
    "duration": 40,
    "start_time": "2022-05-15T20:53:06.830Z"
   },
   {
    "duration": 90,
    "start_time": "2022-05-15T20:53:06.872Z"
   },
   {
    "duration": 30,
    "start_time": "2022-05-15T20:53:06.964Z"
   },
   {
    "duration": 175,
    "start_time": "2022-05-15T20:53:06.996Z"
   },
   {
    "duration": 23,
    "start_time": "2022-05-15T20:53:07.173Z"
   },
   {
    "duration": 3,
    "start_time": "2022-05-15T20:53:07.199Z"
   },
   {
    "duration": 4,
    "start_time": "2022-05-15T20:53:07.205Z"
   },
   {
    "duration": 43,
    "start_time": "2022-05-15T20:53:07.212Z"
   },
   {
    "duration": 193,
    "start_time": "2022-05-15T20:53:07.258Z"
   },
   {
    "duration": 988,
    "start_time": "2022-05-15T20:53:07.454Z"
   },
   {
    "duration": 11,
    "start_time": "2022-05-15T20:53:08.445Z"
   },
   {
    "duration": 300,
    "start_time": "2022-05-15T20:53:08.458Z"
   },
   {
    "duration": 7798,
    "start_time": "2022-05-15T20:53:08.762Z"
   },
   {
    "duration": 4,
    "start_time": "2022-05-15T20:53:16.563Z"
   },
   {
    "duration": 14705,
    "start_time": "2022-05-15T20:53:16.570Z"
   },
   {
    "duration": 6,
    "start_time": "2022-05-15T20:53:31.277Z"
   },
   {
    "duration": 125,
    "start_time": "2022-05-15T20:53:33.674Z"
   },
   {
    "duration": 6,
    "start_time": "2022-05-15T20:53:55.243Z"
   },
   {
    "duration": 5,
    "start_time": "2022-05-15T20:54:22.570Z"
   },
   {
    "duration": 5,
    "start_time": "2022-05-15T20:54:31.865Z"
   },
   {
    "duration": 12,
    "start_time": "2022-05-15T20:54:47.529Z"
   },
   {
    "duration": 5,
    "start_time": "2022-05-15T20:59:40.088Z"
   },
   {
    "duration": 5,
    "start_time": "2022-05-15T20:59:46.789Z"
   },
   {
    "duration": 5,
    "start_time": "2022-05-15T21:02:50.406Z"
   },
   {
    "duration": 5,
    "start_time": "2022-05-15T21:03:04.266Z"
   },
   {
    "duration": 6,
    "start_time": "2022-05-15T21:04:44.881Z"
   },
   {
    "duration": 5,
    "start_time": "2022-05-15T21:04:50.498Z"
   },
   {
    "duration": 142,
    "start_time": "2022-05-15T21:05:40.419Z"
   },
   {
    "duration": 262,
    "start_time": "2022-05-15T21:05:42.896Z"
   },
   {
    "duration": 6,
    "start_time": "2022-05-15T21:05:47.753Z"
   },
   {
    "duration": 5,
    "start_time": "2022-05-15T21:07:41.088Z"
   },
   {
    "duration": 205,
    "start_time": "2022-05-15T21:07:51.857Z"
   },
   {
    "duration": 12,
    "start_time": "2022-05-15T21:14:23.125Z"
   },
   {
    "duration": 12,
    "start_time": "2022-05-15T21:16:22.086Z"
   },
   {
    "duration": 116,
    "start_time": "2022-05-15T21:17:14.059Z"
   },
   {
    "duration": 7295,
    "start_time": "2022-05-15T21:17:25.468Z"
   },
   {
    "duration": 14198,
    "start_time": "2022-05-15T21:17:47.088Z"
   },
   {
    "duration": 1683,
    "start_time": "2022-05-16T07:16:52.987Z"
   },
   {
    "duration": 1132,
    "start_time": "2022-05-16T07:16:54.673Z"
   },
   {
    "duration": 35,
    "start_time": "2022-05-16T07:16:55.807Z"
   },
   {
    "duration": 187,
    "start_time": "2022-05-16T07:16:55.845Z"
   },
   {
    "duration": 138,
    "start_time": "2022-05-16T07:16:56.036Z"
   },
   {
    "duration": 15,
    "start_time": "2022-05-16T07:16:56.176Z"
   },
   {
    "duration": 2248,
    "start_time": "2022-05-16T07:16:56.193Z"
   },
   {
    "duration": 167,
    "start_time": "2022-05-16T07:16:58.443Z"
   },
   {
    "duration": 84,
    "start_time": "2022-05-16T07:16:58.612Z"
   },
   {
    "duration": 27,
    "start_time": "2022-05-16T07:16:58.698Z"
   },
   {
    "duration": 87,
    "start_time": "2022-05-16T07:16:58.727Z"
   },
   {
    "duration": 28,
    "start_time": "2022-05-16T07:16:58.816Z"
   },
   {
    "duration": 89,
    "start_time": "2022-05-16T07:16:58.847Z"
   },
   {
    "duration": 49,
    "start_time": "2022-05-16T07:16:58.940Z"
   },
   {
    "duration": 74,
    "start_time": "2022-05-16T07:16:58.992Z"
   },
   {
    "duration": 28,
    "start_time": "2022-05-16T07:16:59.082Z"
   },
   {
    "duration": 87,
    "start_time": "2022-05-16T07:16:59.112Z"
   },
   {
    "duration": 31,
    "start_time": "2022-05-16T07:16:59.201Z"
   },
   {
    "duration": 175,
    "start_time": "2022-05-16T07:16:59.234Z"
   },
   {
    "duration": 22,
    "start_time": "2022-05-16T07:16:59.411Z"
   },
   {
    "duration": 8,
    "start_time": "2022-05-16T07:16:59.435Z"
   },
   {
    "duration": 15,
    "start_time": "2022-05-16T07:16:59.445Z"
   },
   {
    "duration": 20,
    "start_time": "2022-05-16T07:16:59.462Z"
   },
   {
    "duration": 216,
    "start_time": "2022-05-16T07:16:59.485Z"
   },
   {
    "duration": 1056,
    "start_time": "2022-05-16T07:16:59.703Z"
   },
   {
    "duration": 3,
    "start_time": "2022-05-16T07:17:00.761Z"
   },
   {
    "duration": 218,
    "start_time": "2022-05-16T07:17:00.766Z"
   },
   {
    "duration": 8537,
    "start_time": "2022-05-16T07:17:00.990Z"
   },
   {
    "duration": 3,
    "start_time": "2022-05-16T07:17:09.530Z"
   },
   {
    "duration": 16247,
    "start_time": "2022-05-16T07:17:09.535Z"
   },
   {
    "duration": 5,
    "start_time": "2022-05-16T07:17:25.785Z"
   },
   {
    "duration": 5,
    "start_time": "2022-05-16T09:06:06.868Z"
   },
   {
    "duration": 1223,
    "start_time": "2022-05-16T09:06:06.876Z"
   },
   {
    "duration": 22,
    "start_time": "2022-05-16T09:06:08.102Z"
   },
   {
    "duration": 182,
    "start_time": "2022-05-16T09:06:08.126Z"
   },
   {
    "duration": 122,
    "start_time": "2022-05-16T09:06:08.311Z"
   },
   {
    "duration": 11,
    "start_time": "2022-05-16T09:06:08.435Z"
   },
   {
    "duration": 2092,
    "start_time": "2022-05-16T09:06:08.448Z"
   },
   {
    "duration": 173,
    "start_time": "2022-05-16T09:06:10.542Z"
   },
   {
    "duration": 85,
    "start_time": "2022-05-16T09:06:10.717Z"
   },
   {
    "duration": 29,
    "start_time": "2022-05-16T09:06:10.805Z"
   },
   {
    "duration": 89,
    "start_time": "2022-05-16T09:06:10.838Z"
   },
   {
    "duration": 53,
    "start_time": "2022-05-16T09:06:10.929Z"
   },
   {
    "duration": 74,
    "start_time": "2022-05-16T09:06:10.984Z"
   },
   {
    "duration": 41,
    "start_time": "2022-05-16T09:06:11.060Z"
   },
   {
    "duration": 99,
    "start_time": "2022-05-16T09:06:11.103Z"
   },
   {
    "duration": 29,
    "start_time": "2022-05-16T09:06:11.204Z"
   },
   {
    "duration": 88,
    "start_time": "2022-05-16T09:06:11.235Z"
   },
   {
    "duration": 30,
    "start_time": "2022-05-16T09:06:11.325Z"
   },
   {
    "duration": 173,
    "start_time": "2022-05-16T09:06:11.357Z"
   },
   {
    "duration": 22,
    "start_time": "2022-05-16T09:06:11.532Z"
   },
   {
    "duration": 5,
    "start_time": "2022-05-16T09:06:11.556Z"
   },
   {
    "duration": 3,
    "start_time": "2022-05-16T09:06:11.582Z"
   },
   {
    "duration": 8,
    "start_time": "2022-05-16T09:06:11.587Z"
   },
   {
    "duration": 213,
    "start_time": "2022-05-16T09:06:11.597Z"
   },
   {
    "duration": 1067,
    "start_time": "2022-05-16T09:06:11.812Z"
   },
   {
    "duration": 3,
    "start_time": "2022-05-16T09:06:12.881Z"
   },
   {
    "duration": 298,
    "start_time": "2022-05-16T09:06:12.886Z"
   },
   {
    "duration": 9027,
    "start_time": "2022-05-16T09:06:13.187Z"
   },
   {
    "duration": 3,
    "start_time": "2022-05-16T09:06:22.219Z"
   },
   {
    "duration": 15585,
    "start_time": "2022-05-16T09:06:22.224Z"
   },
   {
    "duration": 6,
    "start_time": "2022-05-16T09:06:37.812Z"
   },
   {
    "duration": 210,
    "start_time": "2022-05-16T09:07:02.285Z"
   },
   {
    "duration": 1030,
    "start_time": "2022-05-16T09:07:02.498Z"
   },
   {
    "duration": 5,
    "start_time": "2022-05-16T09:07:07.997Z"
   },
   {
    "duration": 1070,
    "start_time": "2022-05-16T09:07:08.006Z"
   },
   {
    "duration": 1915,
    "start_time": "2022-05-16T13:56:54.945Z"
   },
   {
    "duration": 1061,
    "start_time": "2022-05-16T13:56:56.863Z"
   },
   {
    "duration": 32,
    "start_time": "2022-05-16T13:56:57.926Z"
   },
   {
    "duration": 688,
    "start_time": "2022-05-16T13:56:57.961Z"
   },
   {
    "duration": 155,
    "start_time": "2022-05-16T13:56:58.653Z"
   },
   {
    "duration": 12,
    "start_time": "2022-05-16T13:56:58.811Z"
   },
   {
    "duration": 2243,
    "start_time": "2022-05-16T13:56:58.826Z"
   },
   {
    "duration": 183,
    "start_time": "2022-05-16T13:57:01.072Z"
   },
   {
    "duration": 86,
    "start_time": "2022-05-16T13:57:01.256Z"
   },
   {
    "duration": 40,
    "start_time": "2022-05-16T13:57:01.344Z"
   },
   {
    "duration": 141,
    "start_time": "2022-05-16T13:57:01.387Z"
   },
   {
    "duration": 57,
    "start_time": "2022-05-16T13:57:01.531Z"
   },
   {
    "duration": 92,
    "start_time": "2022-05-16T13:57:01.590Z"
   },
   {
    "duration": 26,
    "start_time": "2022-05-16T13:57:01.688Z"
   },
   {
    "duration": 131,
    "start_time": "2022-05-16T13:57:01.717Z"
   },
   {
    "duration": 49,
    "start_time": "2022-05-16T13:57:01.851Z"
   },
   {
    "duration": 128,
    "start_time": "2022-05-16T13:57:01.903Z"
   },
   {
    "duration": 51,
    "start_time": "2022-05-16T13:57:02.033Z"
   },
   {
    "duration": 283,
    "start_time": "2022-05-16T13:57:02.086Z"
   },
   {
    "duration": 42,
    "start_time": "2022-05-16T13:57:02.372Z"
   },
   {
    "duration": 9,
    "start_time": "2022-05-16T13:57:02.417Z"
   },
   {
    "duration": 15,
    "start_time": "2022-05-16T13:57:02.428Z"
   },
   {
    "duration": 11,
    "start_time": "2022-05-16T13:57:02.445Z"
   },
   {
    "duration": 212,
    "start_time": "2022-05-16T13:57:02.459Z"
   },
   {
    "duration": 1139,
    "start_time": "2022-05-16T13:57:02.673Z"
   },
   {
    "duration": 4,
    "start_time": "2022-05-16T13:57:03.814Z"
   },
   {
    "duration": 263,
    "start_time": "2022-05-16T13:57:03.820Z"
   },
   {
    "duration": 13640,
    "start_time": "2022-05-16T13:57:04.086Z"
   },
   {
    "duration": 4,
    "start_time": "2022-05-16T13:57:17.728Z"
   },
   {
    "duration": 15300,
    "start_time": "2022-05-16T13:57:17.734Z"
   },
   {
    "duration": 6,
    "start_time": "2022-05-16T13:57:33.037Z"
   },
   {
    "duration": 5,
    "start_time": "2022-05-16T14:22:41.959Z"
   },
   {
    "duration": 175,
    "start_time": "2022-05-16T14:25:19.604Z"
   },
   {
    "duration": 9523,
    "start_time": "2022-05-16T14:25:58.985Z"
   },
   {
    "duration": 5,
    "start_time": "2022-05-16T14:26:18.988Z"
   },
   {
    "duration": 73,
    "start_time": "2022-05-16T14:26:48.709Z"
   },
   {
    "duration": 1034,
    "start_time": "2022-05-16T14:26:48.784Z"
   },
   {
    "duration": 22,
    "start_time": "2022-05-16T14:26:49.821Z"
   },
   {
    "duration": 187,
    "start_time": "2022-05-16T14:26:49.845Z"
   },
   {
    "duration": 115,
    "start_time": "2022-05-16T14:26:50.034Z"
   },
   {
    "duration": 30,
    "start_time": "2022-05-16T14:26:50.152Z"
   },
   {
    "duration": 2004,
    "start_time": "2022-05-16T14:26:50.185Z"
   },
   {
    "duration": 169,
    "start_time": "2022-05-16T14:26:52.190Z"
   },
   {
    "duration": 78,
    "start_time": "2022-05-16T14:26:52.363Z"
   },
   {
    "duration": 44,
    "start_time": "2022-05-16T14:26:52.443Z"
   },
   {
    "duration": 67,
    "start_time": "2022-05-16T14:26:52.490Z"
   },
   {
    "duration": 48,
    "start_time": "2022-05-16T14:26:52.559Z"
   },
   {
    "duration": 88,
    "start_time": "2022-05-16T14:26:52.609Z"
   },
   {
    "duration": 27,
    "start_time": "2022-05-16T14:26:52.699Z"
   },
   {
    "duration": 92,
    "start_time": "2022-05-16T14:26:52.729Z"
   },
   {
    "duration": 28,
    "start_time": "2022-05-16T14:26:52.823Z"
   },
   {
    "duration": 86,
    "start_time": "2022-05-16T14:26:52.854Z"
   },
   {
    "duration": 47,
    "start_time": "2022-05-16T14:26:52.943Z"
   },
   {
    "duration": 168,
    "start_time": "2022-05-16T14:26:52.992Z"
   },
   {
    "duration": 35,
    "start_time": "2022-05-16T14:26:53.162Z"
   },
   {
    "duration": 4,
    "start_time": "2022-05-16T14:26:53.200Z"
   },
   {
    "duration": 5,
    "start_time": "2022-05-16T14:26:53.207Z"
   },
   {
    "duration": 6,
    "start_time": "2022-05-16T14:26:53.214Z"
   },
   {
    "duration": 209,
    "start_time": "2022-05-16T14:26:53.222Z"
   },
   {
    "duration": 1144,
    "start_time": "2022-05-16T14:26:53.433Z"
   },
   {
    "duration": 4,
    "start_time": "2022-05-16T14:26:54.582Z"
   },
   {
    "duration": 293,
    "start_time": "2022-05-16T14:26:54.590Z"
   },
   {
    "duration": 9088,
    "start_time": "2022-05-16T14:26:54.888Z"
   },
   {
    "duration": 4,
    "start_time": "2022-05-16T14:27:03.982Z"
   },
   {
    "duration": 15897,
    "start_time": "2022-05-16T14:27:03.989Z"
   },
   {
    "duration": 10515,
    "start_time": "2022-05-16T14:27:19.889Z"
   },
   {
    "duration": 6,
    "start_time": "2022-05-16T14:27:30.482Z"
   },
   {
    "duration": 69860,
    "start_time": "2022-05-16T14:34:43.435Z"
   },
   {
    "duration": 12365,
    "start_time": "2022-05-16T14:36:32.518Z"
   },
   {
    "duration": 2077,
    "start_time": "2022-05-16T19:37:21.637Z"
   },
   {
    "duration": 1248,
    "start_time": "2022-05-16T19:37:23.717Z"
   },
   {
    "duration": 42,
    "start_time": "2022-05-16T19:37:24.968Z"
   },
   {
    "duration": 265,
    "start_time": "2022-05-16T19:37:25.013Z"
   },
   {
    "duration": 143,
    "start_time": "2022-05-16T19:37:25.285Z"
   },
   {
    "duration": 16,
    "start_time": "2022-05-16T19:37:25.431Z"
   },
   {
    "duration": 2382,
    "start_time": "2022-05-16T19:37:25.450Z"
   },
   {
    "duration": 198,
    "start_time": "2022-05-16T19:37:27.834Z"
   },
   {
    "duration": 104,
    "start_time": "2022-05-16T19:37:28.034Z"
   },
   {
    "duration": 48,
    "start_time": "2022-05-16T19:37:28.144Z"
   },
   {
    "duration": 94,
    "start_time": "2022-05-16T19:37:28.197Z"
   },
   {
    "duration": 37,
    "start_time": "2022-05-16T19:37:28.296Z"
   },
   {
    "duration": 108,
    "start_time": "2022-05-16T19:37:28.335Z"
   },
   {
    "duration": 54,
    "start_time": "2022-05-16T19:37:28.446Z"
   },
   {
    "duration": 109,
    "start_time": "2022-05-16T19:37:28.502Z"
   },
   {
    "duration": 31,
    "start_time": "2022-05-16T19:37:28.614Z"
   },
   {
    "duration": 95,
    "start_time": "2022-05-16T19:37:28.648Z"
   },
   {
    "duration": 57,
    "start_time": "2022-05-16T19:37:28.746Z"
   },
   {
    "duration": 207,
    "start_time": "2022-05-16T19:37:28.809Z"
   },
   {
    "duration": 202,
    "start_time": "2022-05-16T19:37:29.019Z"
   },
   {
    "duration": 1220,
    "start_time": "2022-05-16T19:37:29.224Z"
   },
   {
    "duration": 3,
    "start_time": "2022-05-16T19:37:30.447Z"
   },
   {
    "duration": 239,
    "start_time": "2022-05-16T19:37:30.452Z"
   },
   {
    "duration": 9716,
    "start_time": "2022-05-16T19:37:30.698Z"
   },
   {
    "duration": 3,
    "start_time": "2022-05-16T19:37:40.417Z"
   },
   {
    "duration": 2803,
    "start_time": "2022-05-16T19:37:40.424Z"
   },
   {
    "duration": 402968,
    "start_time": "2022-05-16T19:37:59.849Z"
   },
   {
    "duration": 114434,
    "start_time": "2022-05-16T19:44:54.613Z"
   },
   {
    "duration": 346,
    "start_time": "2022-05-16T19:46:56.078Z"
   },
   {
    "duration": 210,
    "start_time": "2022-05-16T19:47:22.682Z"
   },
   {
    "duration": 252,
    "start_time": "2022-05-16T19:47:51.165Z"
   },
   {
    "duration": 231,
    "start_time": "2022-05-16T19:48:29.468Z"
   },
   {
    "duration": 259,
    "start_time": "2022-05-16T19:48:33.052Z"
   },
   {
    "duration": 184,
    "start_time": "2022-05-16T19:49:00.133Z"
   },
   {
    "duration": 213,
    "start_time": "2022-05-16T19:49:05.782Z"
   },
   {
    "duration": 8,
    "start_time": "2022-05-16T19:49:31.460Z"
   },
   {
    "duration": 295,
    "start_time": "2022-05-16T19:50:13.333Z"
   },
   {
    "duration": 167,
    "start_time": "2022-05-16T19:52:19.539Z"
   },
   {
    "duration": 231,
    "start_time": "2022-05-16T19:52:49.377Z"
   },
   {
    "duration": 10042,
    "start_time": "2022-05-16T19:52:49.692Z"
   },
   {
    "duration": 261,
    "start_time": "2022-05-16T19:52:59.737Z"
   },
   {
    "duration": 162,
    "start_time": "2022-05-16T19:53:13.851Z"
   },
   {
    "duration": 9856,
    "start_time": "2022-05-16T19:53:14.099Z"
   },
   {
    "duration": 232,
    "start_time": "2022-05-16T19:53:23.958Z"
   },
   {
    "duration": 215,
    "start_time": "2022-05-16T19:55:42.275Z"
   },
   {
    "duration": 8,
    "start_time": "2022-05-16T19:55:54.005Z"
   },
   {
    "duration": 279,
    "start_time": "2022-05-16T19:56:47.523Z"
   },
   {
    "duration": 6,
    "start_time": "2022-05-16T19:56:48.945Z"
   },
   {
    "duration": 9439,
    "start_time": "2022-05-16T19:56:48.979Z"
   },
   {
    "duration": 381,
    "start_time": "2022-05-16T19:57:23.425Z"
   },
   {
    "duration": 180,
    "start_time": "2022-05-16T19:59:56.011Z"
   },
   {
    "duration": 5,
    "start_time": "2022-05-16T19:59:58.744Z"
   },
   {
    "duration": 19,
    "start_time": "2022-05-16T20:00:11.282Z"
   },
   {
    "duration": 14,
    "start_time": "2022-05-16T20:01:02.663Z"
   },
   {
    "duration": 11,
    "start_time": "2022-05-16T20:01:18.415Z"
   },
   {
    "duration": 12,
    "start_time": "2022-05-16T20:01:30.750Z"
   },
   {
    "duration": 11,
    "start_time": "2022-05-16T20:01:47.815Z"
   },
   {
    "duration": 17,
    "start_time": "2022-05-16T20:05:06.933Z"
   },
   {
    "duration": 16,
    "start_time": "2022-05-16T20:05:29.638Z"
   },
   {
    "duration": 13,
    "start_time": "2022-05-16T20:06:29.164Z"
   },
   {
    "duration": 533,
    "start_time": "2022-05-16T20:07:20.459Z"
   },
   {
    "duration": 4,
    "start_time": "2022-05-16T20:07:26.300Z"
   },
   {
    "duration": 316,
    "start_time": "2022-05-16T20:07:30.675Z"
   },
   {
    "duration": 4,
    "start_time": "2022-05-16T20:08:07.892Z"
   },
   {
    "duration": 266,
    "start_time": "2022-05-16T20:08:10.131Z"
   },
   {
    "duration": 5,
    "start_time": "2022-05-16T20:08:11.763Z"
   },
   {
    "duration": 58,
    "start_time": "2022-05-16T20:09:01.915Z"
   },
   {
    "duration": 207,
    "start_time": "2022-05-16T20:09:13.284Z"
   },
   {
    "duration": 9365,
    "start_time": "2022-05-16T20:10:38.188Z"
   },
   {
    "duration": 8709,
    "start_time": "2022-05-16T20:12:12.953Z"
   },
   {
    "duration": 3,
    "start_time": "2022-05-16T20:12:21.664Z"
   },
   {
    "duration": 9577,
    "start_time": "2022-05-16T20:12:34.467Z"
   },
   {
    "duration": 9005,
    "start_time": "2022-05-16T20:12:58.596Z"
   },
   {
    "duration": 66,
    "start_time": "2022-05-16T20:13:39.669Z"
   },
   {
    "duration": 354,
    "start_time": "2022-05-16T20:13:50.938Z"
   },
   {
    "duration": 2111,
    "start_time": "2022-05-16T20:14:39.496Z"
   },
   {
    "duration": 3333,
    "start_time": "2022-05-16T20:14:57.135Z"
   },
   {
    "duration": 2242,
    "start_time": "2022-05-16T20:15:11.561Z"
   },
   {
    "duration": 2288,
    "start_time": "2022-05-16T20:15:21.890Z"
   },
   {
    "duration": 2110,
    "start_time": "2022-05-16T20:15:27.929Z"
   },
   {
    "duration": 7,
    "start_time": "2022-05-16T20:17:05.023Z"
   },
   {
    "duration": 5,
    "start_time": "2022-05-16T20:18:16.519Z"
   },
   {
    "duration": 217736,
    "start_time": "2022-05-16T20:18:49.994Z"
   },
   {
    "duration": 6,
    "start_time": "2022-05-16T20:22:37.198Z"
   },
   {
    "duration": 5,
    "start_time": "2022-05-16T20:22:38.797Z"
   },
   {
    "duration": 6,
    "start_time": "2022-05-16T20:24:53.771Z"
   },
   {
    "duration": 1135,
    "start_time": "2022-05-16T20:24:53.779Z"
   },
   {
    "duration": 22,
    "start_time": "2022-05-16T20:24:54.916Z"
   },
   {
    "duration": 210,
    "start_time": "2022-05-16T20:24:54.940Z"
   },
   {
    "duration": 134,
    "start_time": "2022-05-16T20:24:55.153Z"
   },
   {
    "duration": 16,
    "start_time": "2022-05-16T20:24:55.290Z"
   },
   {
    "duration": 2739,
    "start_time": "2022-05-16T20:24:55.308Z"
   },
   {
    "duration": 194,
    "start_time": "2022-05-16T20:24:58.050Z"
   },
   {
    "duration": 91,
    "start_time": "2022-05-16T20:24:58.246Z"
   },
   {
    "duration": 45,
    "start_time": "2022-05-16T20:24:58.338Z"
   },
   {
    "duration": 137,
    "start_time": "2022-05-16T20:24:58.386Z"
   },
   {
    "duration": 58,
    "start_time": "2022-05-16T20:24:58.525Z"
   },
   {
    "duration": 148,
    "start_time": "2022-05-16T20:24:58.585Z"
   },
   {
    "duration": 57,
    "start_time": "2022-05-16T20:24:58.739Z"
   },
   {
    "duration": 102,
    "start_time": "2022-05-16T20:24:58.798Z"
   },
   {
    "duration": 28,
    "start_time": "2022-05-16T20:24:58.902Z"
   },
   {
    "duration": 104,
    "start_time": "2022-05-16T20:24:58.933Z"
   },
   {
    "duration": 63,
    "start_time": "2022-05-16T20:24:59.040Z"
   },
   {
    "duration": 298,
    "start_time": "2022-05-16T20:24:59.106Z"
   },
   {
    "duration": 202,
    "start_time": "2022-05-16T20:24:59.406Z"
   },
   {
    "duration": 1124,
    "start_time": "2022-05-16T20:24:59.611Z"
   },
   {
    "duration": 3,
    "start_time": "2022-05-16T20:25:00.738Z"
   },
   {
    "duration": 246,
    "start_time": "2022-05-16T20:25:00.743Z"
   },
   {
    "duration": 10214,
    "start_time": "2022-05-16T20:25:00.992Z"
   },
   {
    "duration": 4,
    "start_time": "2022-05-16T20:25:11.209Z"
   },
   {
    "duration": 12744,
    "start_time": "2022-05-16T20:25:11.215Z"
   },
   {
    "duration": 1208,
    "start_time": "2022-05-16T20:25:53.362Z"
   },
   {
    "duration": 30,
    "start_time": "2022-05-16T20:25:54.572Z"
   },
   {
    "duration": 231,
    "start_time": "2022-05-16T20:25:54.605Z"
   },
   {
    "duration": 120,
    "start_time": "2022-05-16T20:25:54.838Z"
   },
   {
    "duration": 13,
    "start_time": "2022-05-16T20:25:54.961Z"
   },
   {
    "duration": 2263,
    "start_time": "2022-05-16T20:25:54.976Z"
   },
   {
    "duration": 200,
    "start_time": "2022-05-16T20:25:57.241Z"
   },
   {
    "duration": 109,
    "start_time": "2022-05-16T20:25:57.444Z"
   },
   {
    "duration": 40,
    "start_time": "2022-05-16T20:25:57.556Z"
   },
   {
    "duration": 94,
    "start_time": "2022-05-16T20:25:57.599Z"
   },
   {
    "duration": 46,
    "start_time": "2022-05-16T20:25:57.700Z"
   },
   {
    "duration": 158,
    "start_time": "2022-05-16T20:25:57.749Z"
   },
   {
    "duration": 45,
    "start_time": "2022-05-16T20:25:57.910Z"
   },
   {
    "duration": 157,
    "start_time": "2022-05-16T20:25:57.958Z"
   },
   {
    "duration": 64,
    "start_time": "2022-05-16T20:25:58.118Z"
   },
   {
    "duration": 92,
    "start_time": "2022-05-16T20:25:58.197Z"
   },
   {
    "duration": 41,
    "start_time": "2022-05-16T20:25:58.295Z"
   },
   {
    "duration": 199,
    "start_time": "2022-05-16T20:25:58.338Z"
   },
   {
    "duration": 231,
    "start_time": "2022-05-16T20:25:58.540Z"
   },
   {
    "duration": 1277,
    "start_time": "2022-05-16T20:25:58.773Z"
   },
   {
    "duration": 4,
    "start_time": "2022-05-16T20:26:00.052Z"
   },
   {
    "duration": 324,
    "start_time": "2022-05-16T20:26:00.058Z"
   },
   {
    "duration": 1065,
    "start_time": "2022-05-16T20:32:25.185Z"
   },
   {
    "duration": 25,
    "start_time": "2022-05-16T20:32:26.593Z"
   },
   {
    "duration": 185,
    "start_time": "2022-05-16T20:32:28.831Z"
   },
   {
    "duration": 138,
    "start_time": "2022-05-16T20:32:29.241Z"
   },
   {
    "duration": 12,
    "start_time": "2022-05-16T20:32:32.522Z"
   },
   {
    "duration": 2089,
    "start_time": "2022-05-16T20:32:32.785Z"
   },
   {
    "duration": 184,
    "start_time": "2022-05-16T20:32:35.052Z"
   },
   {
    "duration": 127,
    "start_time": "2022-05-16T20:32:35.322Z"
   },
   {
    "duration": 29,
    "start_time": "2022-05-16T20:32:35.701Z"
   },
   {
    "duration": 103,
    "start_time": "2022-05-16T20:32:35.828Z"
   },
   {
    "duration": 45,
    "start_time": "2022-05-16T20:32:36.141Z"
   },
   {
    "duration": 91,
    "start_time": "2022-05-16T20:32:36.292Z"
   },
   {
    "duration": 54,
    "start_time": "2022-05-16T20:32:36.560Z"
   },
   {
    "duration": 95,
    "start_time": "2022-05-16T20:32:36.698Z"
   },
   {
    "duration": 48,
    "start_time": "2022-05-16T20:32:37.067Z"
   },
   {
    "duration": 83,
    "start_time": "2022-05-16T20:32:37.404Z"
   },
   {
    "duration": 41,
    "start_time": "2022-05-16T20:32:39.554Z"
   },
   {
    "duration": 177,
    "start_time": "2022-05-16T20:32:39.813Z"
   },
   {
    "duration": 225,
    "start_time": "2022-05-16T20:32:41.589Z"
   },
   {
    "duration": 7,
    "start_time": "2022-05-16T20:33:08.697Z"
   },
   {
    "duration": 5,
    "start_time": "2022-05-16T20:44:30.311Z"
   },
   {
    "duration": 1230,
    "start_time": "2022-05-16T20:44:30.321Z"
   },
   {
    "duration": 7,
    "start_time": "2022-05-16T20:44:39.838Z"
   },
   {
    "duration": 1205,
    "start_time": "2022-05-16T20:44:39.848Z"
   },
   {
    "duration": 30,
    "start_time": "2022-05-16T20:44:41.055Z"
   },
   {
    "duration": 208,
    "start_time": "2022-05-16T20:44:41.089Z"
   },
   {
    "duration": 130,
    "start_time": "2022-05-16T20:44:41.300Z"
   },
   {
    "duration": 12,
    "start_time": "2022-05-16T20:44:41.432Z"
   },
   {
    "duration": 2314,
    "start_time": "2022-05-16T20:44:41.447Z"
   },
   {
    "duration": 236,
    "start_time": "2022-05-16T20:44:43.763Z"
   },
   {
    "duration": 95,
    "start_time": "2022-05-16T20:44:44.002Z"
   },
   {
    "duration": 28,
    "start_time": "2022-05-16T20:44:44.102Z"
   },
   {
    "duration": 93,
    "start_time": "2022-05-16T20:44:44.132Z"
   },
   {
    "duration": 28,
    "start_time": "2022-05-16T20:44:44.227Z"
   },
   {
    "duration": 106,
    "start_time": "2022-05-16T20:44:44.258Z"
   },
   {
    "duration": 44,
    "start_time": "2022-05-16T20:44:44.366Z"
   },
   {
    "duration": 98,
    "start_time": "2022-05-16T20:44:44.413Z"
   },
   {
    "duration": 28,
    "start_time": "2022-05-16T20:44:44.514Z"
   },
   {
    "duration": 96,
    "start_time": "2022-05-16T20:44:44.544Z"
   },
   {
    "duration": 50,
    "start_time": "2022-05-16T20:44:44.643Z"
   },
   {
    "duration": 236,
    "start_time": "2022-05-16T20:44:44.697Z"
   },
   {
    "duration": 229,
    "start_time": "2022-05-16T20:44:44.935Z"
   },
   {
    "duration": 1247,
    "start_time": "2022-05-16T20:44:45.167Z"
   },
   {
    "duration": 3,
    "start_time": "2022-05-16T20:44:46.417Z"
   },
   {
    "duration": 262,
    "start_time": "2022-05-16T20:44:46.423Z"
   },
   {
    "duration": 22948,
    "start_time": "2022-05-16T20:44:46.689Z"
   },
   {
    "duration": 3,
    "start_time": "2022-05-16T20:45:09.640Z"
   },
   {
    "duration": 216409,
    "start_time": "2022-05-16T20:45:09.645Z"
   },
   {
    "duration": 35450,
    "start_time": "2022-05-16T20:48:46.056Z"
   },
   {
    "duration": 6,
    "start_time": "2022-05-16T20:49:21.512Z"
   },
   {
    "duration": 68,
    "start_time": "2022-05-16T20:49:21.520Z"
   },
   {
    "duration": 64389,
    "start_time": "2022-05-16T20:50:41.302Z"
   },
   {
    "duration": 5,
    "start_time": "2022-05-16T20:51:56.356Z"
   },
   {
    "duration": 5,
    "start_time": "2022-05-16T20:52:14.325Z"
   },
   {
    "duration": 1059,
    "start_time": "2022-05-16T20:52:14.333Z"
   },
   {
    "duration": 24,
    "start_time": "2022-05-16T20:52:15.395Z"
   },
   {
    "duration": 203,
    "start_time": "2022-05-16T20:52:15.422Z"
   },
   {
    "duration": 120,
    "start_time": "2022-05-16T20:52:15.627Z"
   },
   {
    "duration": 11,
    "start_time": "2022-05-16T20:52:15.749Z"
   },
   {
    "duration": 2139,
    "start_time": "2022-05-16T20:52:15.762Z"
   },
   {
    "duration": 186,
    "start_time": "2022-05-16T20:52:17.903Z"
   },
   {
    "duration": 73,
    "start_time": "2022-05-16T20:52:18.092Z"
   },
   {
    "duration": 33,
    "start_time": "2022-05-16T20:52:18.181Z"
   },
   {
    "duration": 94,
    "start_time": "2022-05-16T20:52:18.216Z"
   },
   {
    "duration": 27,
    "start_time": "2022-05-16T20:52:18.313Z"
   },
   {
    "duration": 97,
    "start_time": "2022-05-16T20:52:18.343Z"
   },
   {
    "duration": 50,
    "start_time": "2022-05-16T20:52:18.443Z"
   },
   {
    "duration": 73,
    "start_time": "2022-05-16T20:52:18.496Z"
   },
   {
    "duration": 40,
    "start_time": "2022-05-16T20:52:18.572Z"
   },
   {
    "duration": 87,
    "start_time": "2022-05-16T20:52:18.615Z"
   },
   {
    "duration": 30,
    "start_time": "2022-05-16T20:52:18.704Z"
   },
   {
    "duration": 191,
    "start_time": "2022-05-16T20:52:18.736Z"
   },
   {
    "duration": 202,
    "start_time": "2022-05-16T20:52:18.929Z"
   },
   {
    "duration": 1129,
    "start_time": "2022-05-16T20:52:19.133Z"
   },
   {
    "duration": 3,
    "start_time": "2022-05-16T20:52:20.265Z"
   },
   {
    "duration": 203,
    "start_time": "2022-05-16T20:52:20.284Z"
   },
   {
    "duration": 21825,
    "start_time": "2022-05-16T20:52:20.490Z"
   },
   {
    "duration": 3,
    "start_time": "2022-05-16T20:52:42.318Z"
   },
   {
    "duration": 213261,
    "start_time": "2022-05-16T20:52:42.324Z"
   },
   {
    "duration": 56814,
    "start_time": "2022-05-16T20:56:15.587Z"
   },
   {
    "duration": 5,
    "start_time": "2022-05-16T20:57:12.406Z"
   },
   {
    "duration": 12,
    "start_time": "2022-05-16T20:57:12.482Z"
   },
   {
    "duration": 1353,
    "start_time": "2022-05-17T19:39:22.096Z"
   },
   {
    "duration": 1226,
    "start_time": "2022-05-17T19:39:23.451Z"
   },
   {
    "duration": 20,
    "start_time": "2022-05-17T19:39:24.679Z"
   },
   {
    "duration": 141,
    "start_time": "2022-05-17T19:39:35.001Z"
   },
   {
    "duration": 113,
    "start_time": "2022-05-17T19:39:36.111Z"
   },
   {
    "duration": 8,
    "start_time": "2022-05-17T19:39:37.193Z"
   },
   {
    "duration": 1527,
    "start_time": "2022-05-17T19:39:41.119Z"
   },
   {
    "duration": 126,
    "start_time": "2022-05-17T19:39:45.143Z"
   },
   {
    "duration": 317,
    "start_time": "2022-05-17T19:39:46.423Z"
   },
   {
    "duration": 21,
    "start_time": "2022-05-17T19:39:47.081Z"
   },
   {
    "duration": 53,
    "start_time": "2022-05-17T19:39:47.858Z"
   },
   {
    "duration": 20,
    "start_time": "2022-05-17T19:39:48.465Z"
   },
   {
    "duration": 90,
    "start_time": "2022-05-17T19:39:49.243Z"
   },
   {
    "duration": 20,
    "start_time": "2022-05-17T19:39:50.060Z"
   },
   {
    "duration": 51,
    "start_time": "2022-05-17T19:39:51.130Z"
   },
   {
    "duration": 19,
    "start_time": "2022-05-17T19:39:52.102Z"
   },
   {
    "duration": 1229,
    "start_time": "2022-05-17T19:39:52.555Z"
   },
   {
    "duration": 23,
    "start_time": "2022-05-17T19:39:56.355Z"
   },
   {
    "duration": 127,
    "start_time": "2022-05-17T19:39:56.616Z"
   },
   {
    "duration": 106,
    "start_time": "2022-05-17T19:46:44.396Z"
   },
   {
    "duration": 747,
    "start_time": "2022-05-17T19:46:45.140Z"
   },
   {
    "duration": 33,
    "start_time": "2022-05-17T19:46:53.743Z"
   },
   {
    "duration": 27,
    "start_time": "2022-05-17T19:54:22.473Z"
   },
   {
    "duration": 16849,
    "start_time": "2022-05-17T19:56:47.709Z"
   },
   {
    "duration": 3,
    "start_time": "2022-05-17T19:57:38.086Z"
   },
   {
    "duration": 269,
    "start_time": "2022-05-17T19:57:38.556Z"
   },
   {
    "duration": 2113,
    "start_time": "2022-05-17T19:58:16.814Z"
   },
   {
    "duration": 4,
    "start_time": "2022-05-17T19:58:57.979Z"
   },
   {
    "duration": 101860,
    "start_time": "2022-05-17T20:09:10.888Z"
   },
   {
    "duration": 397077,
    "start_time": "2022-05-17T20:10:52.751Z"
   },
   {
    "duration": 4,
    "start_time": "2022-05-17T20:17:29.831Z"
   },
   {
    "duration": 25,
    "start_time": "2022-05-17T20:17:29.837Z"
   },
   {
    "duration": 1205,
    "start_time": "2022-05-18T15:32:55.231Z"
   },
   {
    "duration": 2802,
    "start_time": "2022-05-18T15:32:56.438Z"
   },
   {
    "duration": 24,
    "start_time": "2022-05-18T15:32:59.241Z"
   },
   {
    "duration": 145,
    "start_time": "2022-05-18T15:32:59.267Z"
   },
   {
    "duration": 117,
    "start_time": "2022-05-18T15:32:59.414Z"
   },
   {
    "duration": 7,
    "start_time": "2022-05-18T15:32:59.533Z"
   },
   {
    "duration": 1485,
    "start_time": "2022-05-18T15:32:59.542Z"
   },
   {
    "duration": 150,
    "start_time": "2022-05-18T15:33:01.029Z"
   },
   {
    "duration": 91,
    "start_time": "2022-05-18T15:33:01.181Z"
   },
   {
    "duration": 57,
    "start_time": "2022-05-18T15:33:01.276Z"
   },
   {
    "duration": 61,
    "start_time": "2022-05-18T15:33:01.335Z"
   },
   {
    "duration": 19,
    "start_time": "2022-05-18T15:33:01.398Z"
   },
   {
    "duration": 67,
    "start_time": "2022-05-18T15:33:01.419Z"
   },
   {
    "duration": 20,
    "start_time": "2022-05-18T15:33:01.487Z"
   },
   {
    "duration": 62,
    "start_time": "2022-05-18T15:33:01.509Z"
   },
   {
    "duration": 19,
    "start_time": "2022-05-18T15:33:01.572Z"
   },
   {
    "duration": 48,
    "start_time": "2022-05-18T15:33:01.602Z"
   },
   {
    "duration": 20,
    "start_time": "2022-05-18T15:33:01.651Z"
   },
   {
    "duration": 139,
    "start_time": "2022-05-18T15:33:01.673Z"
   },
   {
    "duration": 1165,
    "start_time": "2022-05-18T18:42:03.820Z"
   },
   {
    "duration": 1174,
    "start_time": "2022-05-18T18:42:04.986Z"
   },
   {
    "duration": 23,
    "start_time": "2022-05-18T18:42:06.162Z"
   },
   {
    "duration": 137,
    "start_time": "2022-05-18T18:42:06.187Z"
   },
   {
    "duration": 146,
    "start_time": "2022-05-18T18:42:06.325Z"
   },
   {
    "duration": 8,
    "start_time": "2022-05-18T18:42:06.473Z"
   },
   {
    "duration": 1489,
    "start_time": "2022-05-18T18:42:06.482Z"
   },
   {
    "duration": 241,
    "start_time": "2022-05-18T18:42:07.973Z"
   },
   {
    "duration": 57,
    "start_time": "2022-05-18T18:42:08.216Z"
   },
   {
    "duration": 19,
    "start_time": "2022-05-18T18:42:08.276Z"
   },
   {
    "duration": 97,
    "start_time": "2022-05-18T18:42:08.297Z"
   },
   {
    "duration": 32,
    "start_time": "2022-05-18T18:42:08.395Z"
   },
   {
    "duration": 67,
    "start_time": "2022-05-18T18:42:08.429Z"
   },
   {
    "duration": 32,
    "start_time": "2022-05-18T18:42:08.498Z"
   },
   {
    "duration": 53,
    "start_time": "2022-05-18T18:42:08.531Z"
   },
   {
    "duration": 41,
    "start_time": "2022-05-18T18:42:08.586Z"
   },
   {
    "duration": 51,
    "start_time": "2022-05-18T18:42:08.628Z"
   },
   {
    "duration": 48,
    "start_time": "2022-05-18T18:42:08.680Z"
   },
   {
    "duration": 150,
    "start_time": "2022-05-18T18:42:08.730Z"
   },
   {
    "duration": 999,
    "start_time": "2022-05-18T18:42:34.406Z"
   },
   {
    "duration": 273,
    "start_time": "2022-05-18T18:42:45.154Z"
   },
   {
    "duration": 202,
    "start_time": "2022-05-18T19:35:19.622Z"
   },
   {
    "duration": 375,
    "start_time": "2022-05-18T19:35:27.705Z"
   },
   {
    "duration": 193,
    "start_time": "2022-05-18T19:36:22.449Z"
   },
   {
    "duration": 170,
    "start_time": "2022-05-18T19:37:18.841Z"
   },
   {
    "duration": 61,
    "start_time": "2022-05-18T19:40:41.198Z"
   },
   {
    "duration": 8,
    "start_time": "2022-05-18T19:40:50.084Z"
   },
   {
    "duration": 8,
    "start_time": "2022-05-18T19:40:56.042Z"
   },
   {
    "duration": 0,
    "start_time": "2022-05-18T19:40:56.052Z"
   },
   {
    "duration": 8,
    "start_time": "2022-05-18T19:40:56.054Z"
   },
   {
    "duration": 0,
    "start_time": "2022-05-18T19:40:56.064Z"
   },
   {
    "duration": 0,
    "start_time": "2022-05-18T19:40:56.065Z"
   },
   {
    "duration": 9,
    "start_time": "2022-05-18T19:40:56.072Z"
   },
   {
    "duration": 2,
    "start_time": "2022-05-18T19:40:56.083Z"
   },
   {
    "duration": 10,
    "start_time": "2022-05-18T19:40:56.087Z"
   },
   {
    "duration": 29,
    "start_time": "2022-05-18T19:40:56.099Z"
   },
   {
    "duration": 8,
    "start_time": "2022-05-18T19:40:56.130Z"
   },
   {
    "duration": 0,
    "start_time": "2022-05-18T19:40:56.139Z"
   },
   {
    "duration": 1072,
    "start_time": "2022-05-18T19:41:08.052Z"
   },
   {
    "duration": 1153,
    "start_time": "2022-05-18T19:41:09.127Z"
   },
   {
    "duration": 21,
    "start_time": "2022-05-18T19:41:10.282Z"
   },
   {
    "duration": 133,
    "start_time": "2022-05-18T19:41:10.305Z"
   },
   {
    "duration": 104,
    "start_time": "2022-05-18T19:41:10.440Z"
   },
   {
    "duration": 6,
    "start_time": "2022-05-18T19:41:10.546Z"
   },
   {
    "duration": 1480,
    "start_time": "2022-05-18T19:41:10.554Z"
   },
   {
    "duration": 125,
    "start_time": "2022-05-18T19:41:12.036Z"
   },
   {
    "duration": 64,
    "start_time": "2022-05-18T19:41:12.162Z"
   },
   {
    "duration": 19,
    "start_time": "2022-05-18T19:41:12.228Z"
   },
   {
    "duration": 50,
    "start_time": "2022-05-18T19:41:12.248Z"
   },
   {
    "duration": 37,
    "start_time": "2022-05-18T19:41:12.300Z"
   },
   {
    "duration": 62,
    "start_time": "2022-05-18T19:41:12.339Z"
   },
   {
    "duration": 31,
    "start_time": "2022-05-18T19:41:12.405Z"
   },
   {
    "duration": 50,
    "start_time": "2022-05-18T19:41:12.438Z"
   },
   {
    "duration": 41,
    "start_time": "2022-05-18T19:41:12.490Z"
   },
   {
    "duration": 60,
    "start_time": "2022-05-18T19:41:12.533Z"
   },
   {
    "duration": 38,
    "start_time": "2022-05-18T19:41:12.595Z"
   },
   {
    "duration": 231,
    "start_time": "2022-05-18T19:41:12.636Z"
   },
   {
    "duration": 116,
    "start_time": "2022-05-18T19:41:14.797Z"
   },
   {
    "duration": 455,
    "start_time": "2022-05-18T19:41:15.812Z"
   },
   {
    "duration": 125,
    "start_time": "2022-05-18T19:41:58.765Z"
   },
   {
    "duration": 202,
    "start_time": "2022-05-18T19:44:13.102Z"
   },
   {
    "duration": 268,
    "start_time": "2022-05-18T19:44:23.988Z"
   },
   {
    "duration": 161,
    "start_time": "2022-05-18T19:44:30.436Z"
   },
   {
    "duration": 196,
    "start_time": "2022-05-18T19:44:50.551Z"
   },
   {
    "duration": 39,
    "start_time": "2022-05-18T19:55:24.627Z"
   },
   {
    "duration": 107,
    "start_time": "2022-05-18T19:55:30.566Z"
   },
   {
    "duration": 7,
    "start_time": "2022-05-18T19:56:12.043Z"
   },
   {
    "duration": 1176,
    "start_time": "2022-05-18T19:56:12.053Z"
   },
   {
    "duration": 25,
    "start_time": "2022-05-18T19:56:13.232Z"
   },
   {
    "duration": 213,
    "start_time": "2022-05-18T19:56:13.260Z"
   },
   {
    "duration": 125,
    "start_time": "2022-05-18T19:56:13.476Z"
   },
   {
    "duration": 8,
    "start_time": "2022-05-18T19:56:13.603Z"
   },
   {
    "duration": 1713,
    "start_time": "2022-05-18T19:56:13.623Z"
   },
   {
    "duration": 38,
    "start_time": "2022-05-18T19:56:15.338Z"
   },
   {
    "duration": 127,
    "start_time": "2022-05-18T19:56:15.378Z"
   },
   {
    "duration": 89,
    "start_time": "2022-05-18T19:56:15.507Z"
   },
   {
    "duration": 28,
    "start_time": "2022-05-18T19:56:15.598Z"
   },
   {
    "duration": 78,
    "start_time": "2022-05-18T19:56:15.627Z"
   },
   {
    "duration": 32,
    "start_time": "2022-05-18T19:56:15.707Z"
   },
   {
    "duration": 68,
    "start_time": "2022-05-18T19:56:15.741Z"
   },
   {
    "duration": 35,
    "start_time": "2022-05-18T19:56:15.811Z"
   },
   {
    "duration": 103,
    "start_time": "2022-05-18T19:56:15.851Z"
   },
   {
    "duration": 33,
    "start_time": "2022-05-18T19:56:15.956Z"
   },
   {
    "duration": 69,
    "start_time": "2022-05-18T19:56:15.991Z"
   },
   {
    "duration": 26,
    "start_time": "2022-05-18T19:56:16.066Z"
   },
   {
    "duration": 111,
    "start_time": "2022-05-18T19:56:16.094Z"
   },
   {
    "duration": 26,
    "start_time": "2022-05-18T19:57:51.858Z"
   },
   {
    "duration": 266,
    "start_time": "2022-05-18T19:57:51.918Z"
   },
   {
    "duration": 13,
    "start_time": "2022-05-18T19:58:13.183Z"
   },
   {
    "duration": 34,
    "start_time": "2022-05-18T19:59:33.461Z"
   },
   {
    "duration": 487,
    "start_time": "2022-05-18T20:04:11.425Z"
   },
   {
    "duration": 302,
    "start_time": "2022-05-18T20:04:26.098Z"
   },
   {
    "duration": 1809,
    "start_time": "2022-05-18T20:04:33.045Z"
   },
   {
    "duration": 199,
    "start_time": "2022-05-18T20:04:48.563Z"
   },
   {
    "duration": 271,
    "start_time": "2022-05-18T20:06:20.244Z"
   },
   {
    "duration": 30,
    "start_time": "2022-05-18T20:07:38.360Z"
   },
   {
    "duration": 459,
    "start_time": "2022-05-18T20:08:31.960Z"
   },
   {
    "duration": 487,
    "start_time": "2022-05-18T20:08:46.408Z"
   },
   {
    "duration": 313,
    "start_time": "2022-05-18T20:09:23.641Z"
   },
   {
    "duration": 302,
    "start_time": "2022-05-18T20:09:46.895Z"
   },
   {
    "duration": 17,
    "start_time": "2022-05-18T20:12:31.309Z"
   },
   {
    "duration": 37,
    "start_time": "2022-05-18T20:12:36.767Z"
   },
   {
    "duration": 4,
    "start_time": "2022-05-18T20:12:59.275Z"
   },
   {
    "duration": 832,
    "start_time": "2022-05-18T20:12:59.282Z"
   },
   {
    "duration": 27,
    "start_time": "2022-05-18T20:13:00.116Z"
   },
   {
    "duration": 137,
    "start_time": "2022-05-18T20:13:00.145Z"
   },
   {
    "duration": 102,
    "start_time": "2022-05-18T20:13:00.284Z"
   },
   {
    "duration": 7,
    "start_time": "2022-05-18T20:13:00.388Z"
   },
   {
    "duration": 1593,
    "start_time": "2022-05-18T20:13:00.397Z"
   },
   {
    "duration": 47,
    "start_time": "2022-05-18T20:13:01.992Z"
   },
   {
    "duration": 109,
    "start_time": "2022-05-18T20:13:02.043Z"
   },
   {
    "duration": 78,
    "start_time": "2022-05-18T20:13:02.154Z"
   },
   {
    "duration": 30,
    "start_time": "2022-05-18T20:13:02.240Z"
   },
   {
    "duration": 73,
    "start_time": "2022-05-18T20:13:02.272Z"
   },
   {
    "duration": 33,
    "start_time": "2022-05-18T20:13:02.347Z"
   },
   {
    "duration": 76,
    "start_time": "2022-05-18T20:13:02.382Z"
   },
   {
    "duration": 20,
    "start_time": "2022-05-18T20:13:02.460Z"
   },
   {
    "duration": 84,
    "start_time": "2022-05-18T20:13:02.482Z"
   },
   {
    "duration": 37,
    "start_time": "2022-05-18T20:13:02.567Z"
   },
   {
    "duration": 89,
    "start_time": "2022-05-18T20:13:02.606Z"
   },
   {
    "duration": 32,
    "start_time": "2022-05-18T20:13:02.697Z"
   },
   {
    "duration": 133,
    "start_time": "2022-05-18T20:13:02.732Z"
   },
   {
    "duration": 42,
    "start_time": "2022-05-18T20:13:02.867Z"
   },
   {
    "duration": 349,
    "start_time": "2022-05-18T20:13:02.911Z"
   },
   {
    "duration": 296,
    "start_time": "2022-05-18T20:13:47.531Z"
   },
   {
    "duration": 30,
    "start_time": "2022-05-18T20:13:58.070Z"
   },
   {
    "duration": 321,
    "start_time": "2022-05-18T20:14:02.520Z"
   },
   {
    "duration": 4,
    "start_time": "2022-05-18T20:15:41.100Z"
   },
   {
    "duration": 1060,
    "start_time": "2022-05-18T20:15:41.106Z"
   },
   {
    "duration": 61,
    "start_time": "2022-05-18T20:15:42.169Z"
   },
   {
    "duration": 157,
    "start_time": "2022-05-18T20:15:42.236Z"
   },
   {
    "duration": 314,
    "start_time": "2022-05-18T20:15:42.395Z"
   },
   {
    "duration": 18,
    "start_time": "2022-05-18T20:15:42.714Z"
   },
   {
    "duration": 1449,
    "start_time": "2022-05-18T20:15:42.733Z"
   },
   {
    "duration": 28,
    "start_time": "2022-05-18T20:15:44.184Z"
   },
   {
    "duration": 101,
    "start_time": "2022-05-18T20:15:44.214Z"
   },
   {
    "duration": 59,
    "start_time": "2022-05-18T20:15:44.324Z"
   },
   {
    "duration": 20,
    "start_time": "2022-05-18T20:15:44.385Z"
   },
   {
    "duration": 79,
    "start_time": "2022-05-18T20:15:44.407Z"
   },
   {
    "duration": 43,
    "start_time": "2022-05-18T20:15:44.488Z"
   },
   {
    "duration": 67,
    "start_time": "2022-05-18T20:15:44.536Z"
   },
   {
    "duration": 41,
    "start_time": "2022-05-18T20:15:44.605Z"
   },
   {
    "duration": 53,
    "start_time": "2022-05-18T20:15:44.648Z"
   },
   {
    "duration": 43,
    "start_time": "2022-05-18T20:15:44.703Z"
   },
   {
    "duration": 54,
    "start_time": "2022-05-18T20:15:44.748Z"
   },
   {
    "duration": 31,
    "start_time": "2022-05-18T20:15:44.804Z"
   },
   {
    "duration": 81,
    "start_time": "2022-05-18T20:15:44.840Z"
   },
   {
    "duration": 26,
    "start_time": "2022-05-18T20:15:44.924Z"
   },
   {
    "duration": 369,
    "start_time": "2022-05-18T20:15:44.952Z"
   },
   {
    "duration": 295,
    "start_time": "2022-05-18T20:16:16.197Z"
   },
   {
    "duration": 23,
    "start_time": "2022-05-18T20:16:24.213Z"
   },
   {
    "duration": 272,
    "start_time": "2022-05-18T20:17:24.595Z"
   },
   {
    "duration": 175,
    "start_time": "2022-05-18T20:17:38.830Z"
   },
   {
    "duration": 140,
    "start_time": "2022-05-18T20:17:46.245Z"
   },
   {
    "duration": 175,
    "start_time": "2022-05-18T20:17:51.418Z"
   },
   {
    "duration": 160,
    "start_time": "2022-05-18T20:18:13.099Z"
   },
   {
    "duration": 210,
    "start_time": "2022-05-18T20:19:24.571Z"
   },
   {
    "duration": 281,
    "start_time": "2022-05-18T20:19:36.698Z"
   },
   {
    "duration": 175,
    "start_time": "2022-05-18T20:19:44.506Z"
   },
   {
    "duration": 266,
    "start_time": "2022-05-18T20:21:38.156Z"
   },
   {
    "duration": 158,
    "start_time": "2022-05-18T20:24:04.952Z"
   },
   {
    "duration": 4,
    "start_time": "2022-05-18T20:28:32.956Z"
   },
   {
    "duration": 871,
    "start_time": "2022-05-18T20:28:32.963Z"
   },
   {
    "duration": 15,
    "start_time": "2022-05-18T20:28:33.837Z"
   },
   {
    "duration": 189,
    "start_time": "2022-05-18T20:28:33.854Z"
   },
   {
    "duration": 95,
    "start_time": "2022-05-18T20:28:34.045Z"
   },
   {
    "duration": 9,
    "start_time": "2022-05-18T20:28:34.142Z"
   },
   {
    "duration": 1353,
    "start_time": "2022-05-18T20:28:34.152Z"
   },
   {
    "duration": 35,
    "start_time": "2022-05-18T20:28:35.506Z"
   },
   {
    "duration": 97,
    "start_time": "2022-05-18T20:28:35.543Z"
   },
   {
    "duration": 51,
    "start_time": "2022-05-18T20:28:35.642Z"
   },
   {
    "duration": 40,
    "start_time": "2022-05-18T20:28:35.694Z"
   },
   {
    "duration": 48,
    "start_time": "2022-05-18T20:28:35.736Z"
   },
   {
    "duration": 19,
    "start_time": "2022-05-18T20:28:35.786Z"
   },
   {
    "duration": 75,
    "start_time": "2022-05-18T20:28:35.809Z"
   },
   {
    "duration": 44,
    "start_time": "2022-05-18T20:28:35.886Z"
   },
   {
    "duration": 73,
    "start_time": "2022-05-18T20:28:35.934Z"
   },
   {
    "duration": 33,
    "start_time": "2022-05-18T20:28:36.022Z"
   },
   {
    "duration": 48,
    "start_time": "2022-05-18T20:28:36.058Z"
   },
   {
    "duration": 21,
    "start_time": "2022-05-18T20:28:36.134Z"
   },
   {
    "duration": 82,
    "start_time": "2022-05-18T20:28:36.156Z"
   },
   {
    "duration": 412,
    "start_time": "2022-05-18T20:28:41.381Z"
   },
   {
    "duration": 621,
    "start_time": "2022-05-18T20:28:59.767Z"
   },
   {
    "duration": 278,
    "start_time": "2022-05-18T20:31:43.352Z"
   },
   {
    "duration": 25,
    "start_time": "2022-05-18T20:32:21.709Z"
   },
   {
    "duration": 176,
    "start_time": "2022-05-18T20:32:23.340Z"
   },
   {
    "duration": 31,
    "start_time": "2022-05-18T20:32:33.309Z"
   },
   {
    "duration": 145,
    "start_time": "2022-05-18T20:33:06.884Z"
   },
   {
    "duration": 1295,
    "start_time": "2022-05-18T20:38:56.810Z"
   },
   {
    "duration": 1106,
    "start_time": "2022-05-18T20:38:58.107Z"
   },
   {
    "duration": 24,
    "start_time": "2022-05-18T20:38:59.215Z"
   },
   {
    "duration": 133,
    "start_time": "2022-05-18T20:38:59.242Z"
   },
   {
    "duration": 140,
    "start_time": "2022-05-18T20:38:59.376Z"
   },
   {
    "duration": 7,
    "start_time": "2022-05-18T20:38:59.522Z"
   },
   {
    "duration": 1517,
    "start_time": "2022-05-18T20:38:59.531Z"
   },
   {
    "duration": 32,
    "start_time": "2022-05-18T20:39:01.050Z"
   },
   {
    "duration": 89,
    "start_time": "2022-05-18T20:39:01.084Z"
   },
   {
    "duration": 63,
    "start_time": "2022-05-18T20:39:01.175Z"
   },
   {
    "duration": 20,
    "start_time": "2022-05-18T20:39:01.239Z"
   },
   {
    "duration": 63,
    "start_time": "2022-05-18T20:39:01.261Z"
   },
   {
    "duration": 20,
    "start_time": "2022-05-18T20:39:01.325Z"
   },
   {
    "duration": 61,
    "start_time": "2022-05-18T20:39:01.347Z"
   },
   {
    "duration": 27,
    "start_time": "2022-05-18T20:39:01.409Z"
   },
   {
    "duration": 52,
    "start_time": "2022-05-18T20:39:01.438Z"
   },
   {
    "duration": 37,
    "start_time": "2022-05-18T20:39:01.492Z"
   },
   {
    "duration": 50,
    "start_time": "2022-05-18T20:39:01.531Z"
   },
   {
    "duration": 43,
    "start_time": "2022-05-18T20:39:01.583Z"
   },
   {
    "duration": 78,
    "start_time": "2022-05-18T20:39:01.628Z"
   },
   {
    "duration": 584,
    "start_time": "2022-05-18T20:39:01.708Z"
   },
   {
    "duration": 60,
    "start_time": "2022-05-18T20:39:02.294Z"
   },
   {
    "duration": 42,
    "start_time": "2022-05-18T20:39:12.660Z"
   },
   {
    "duration": 142,
    "start_time": "2022-05-18T20:39:14.215Z"
   },
   {
    "duration": 3472,
    "start_time": "2022-05-18T20:39:31.574Z"
   },
   {
    "duration": 29,
    "start_time": "2022-05-18T20:40:16.636Z"
   },
   {
    "duration": 251,
    "start_time": "2022-05-18T20:41:16.813Z"
   },
   {
    "duration": 325,
    "start_time": "2022-05-18T20:42:42.545Z"
   },
   {
    "duration": 139,
    "start_time": "2022-05-18T20:43:00.808Z"
   },
   {
    "duration": 355,
    "start_time": "2022-05-18T20:43:57.381Z"
   },
   {
    "duration": 262,
    "start_time": "2022-05-18T20:44:08.093Z"
   },
   {
    "duration": 242,
    "start_time": "2022-05-18T20:44:13.981Z"
   },
   {
    "duration": 215,
    "start_time": "2022-05-18T20:44:19.940Z"
   },
   {
    "duration": 232,
    "start_time": "2022-05-18T20:44:29.681Z"
   },
   {
    "duration": 12,
    "start_time": "2022-05-18T20:48:45.955Z"
   },
   {
    "duration": 9,
    "start_time": "2022-05-18T20:48:52.457Z"
   },
   {
    "duration": 9,
    "start_time": "2022-05-18T20:48:57.264Z"
   },
   {
    "duration": 11,
    "start_time": "2022-05-18T20:49:00.673Z"
   },
   {
    "duration": 28,
    "start_time": "2022-05-18T20:49:06.164Z"
   },
   {
    "duration": 16,
    "start_time": "2022-05-18T20:49:21.657Z"
   },
   {
    "duration": 19,
    "start_time": "2022-05-18T20:49:42.979Z"
   },
   {
    "duration": 19,
    "start_time": "2022-05-18T20:49:58.668Z"
   },
   {
    "duration": 18,
    "start_time": "2022-05-18T20:50:26.090Z"
   },
   {
    "duration": 13,
    "start_time": "2022-05-18T20:50:48.040Z"
   },
   {
    "duration": 11,
    "start_time": "2022-05-18T20:51:02.154Z"
   },
   {
    "duration": 12,
    "start_time": "2022-05-18T20:52:13.079Z"
   },
   {
    "duration": 33,
    "start_time": "2022-05-18T20:52:47.897Z"
   },
   {
    "duration": 21,
    "start_time": "2022-05-18T20:53:46.308Z"
   },
   {
    "duration": 234,
    "start_time": "2022-05-18T20:53:54.487Z"
   },
   {
    "duration": 23,
    "start_time": "2022-05-18T20:54:00.944Z"
   },
   {
    "duration": 26,
    "start_time": "2022-05-18T20:54:12.793Z"
   },
   {
    "duration": 23,
    "start_time": "2022-05-18T20:54:16.128Z"
   },
   {
    "duration": 396,
    "start_time": "2022-05-18T20:55:14.896Z"
   },
   {
    "duration": 186,
    "start_time": "2022-05-18T20:55:52.834Z"
   },
   {
    "duration": 162,
    "start_time": "2022-05-18T20:57:03.191Z"
   },
   {
    "duration": 271,
    "start_time": "2022-05-18T20:57:23.081Z"
   },
   {
    "duration": 1528,
    "start_time": "2022-05-18T20:57:31.015Z"
   },
   {
    "duration": 159,
    "start_time": "2022-05-18T20:57:38.663Z"
   },
   {
    "duration": 21,
    "start_time": "2022-05-18T20:57:53.441Z"
   },
   {
    "duration": 160,
    "start_time": "2022-05-18T20:58:41.437Z"
   },
   {
    "duration": 265,
    "start_time": "2022-05-18T20:58:50.932Z"
   },
   {
    "duration": 409,
    "start_time": "2022-05-18T20:59:06.254Z"
   },
   {
    "duration": 261,
    "start_time": "2022-05-18T20:59:33.574Z"
   },
   {
    "duration": 255,
    "start_time": "2022-05-18T20:59:43.983Z"
   },
   {
    "duration": 4,
    "start_time": "2022-05-18T20:59:58.703Z"
   },
   {
    "duration": 859,
    "start_time": "2022-05-18T20:59:58.709Z"
   },
   {
    "duration": 16,
    "start_time": "2022-05-18T20:59:59.570Z"
   },
   {
    "duration": 139,
    "start_time": "2022-05-18T20:59:59.588Z"
   },
   {
    "duration": 116,
    "start_time": "2022-05-18T20:59:59.730Z"
   },
   {
    "duration": 8,
    "start_time": "2022-05-18T20:59:59.848Z"
   },
   {
    "duration": 1384,
    "start_time": "2022-05-18T20:59:59.858Z"
   },
   {
    "duration": 27,
    "start_time": "2022-05-18T21:00:01.244Z"
   },
   {
    "duration": 109,
    "start_time": "2022-05-18T21:00:01.273Z"
   },
   {
    "duration": 64,
    "start_time": "2022-05-18T21:00:01.384Z"
   },
   {
    "duration": 76,
    "start_time": "2022-05-18T21:00:01.450Z"
   },
   {
    "duration": 73,
    "start_time": "2022-05-18T21:00:01.528Z"
   },
   {
    "duration": 21,
    "start_time": "2022-05-18T21:00:01.603Z"
   },
   {
    "duration": 74,
    "start_time": "2022-05-18T21:00:01.629Z"
   },
   {
    "duration": 22,
    "start_time": "2022-05-18T21:00:01.704Z"
   },
   {
    "duration": 79,
    "start_time": "2022-05-18T21:00:01.732Z"
   },
   {
    "duration": 30,
    "start_time": "2022-05-18T21:00:01.813Z"
   },
   {
    "duration": 73,
    "start_time": "2022-05-18T21:00:01.845Z"
   },
   {
    "duration": 27,
    "start_time": "2022-05-18T21:00:01.921Z"
   },
   {
    "duration": 138,
    "start_time": "2022-05-18T21:00:01.950Z"
   },
   {
    "duration": 311,
    "start_time": "2022-05-18T21:00:02.090Z"
   },
   {
    "duration": 45,
    "start_time": "2022-05-18T21:00:02.403Z"
   },
   {
    "duration": 333,
    "start_time": "2022-05-18T21:00:22.412Z"
   },
   {
    "duration": 36,
    "start_time": "2022-05-18T21:00:23.965Z"
   },
   {
    "duration": 478,
    "start_time": "2022-05-18T21:00:32.484Z"
   },
   {
    "duration": 276,
    "start_time": "2022-05-18T21:00:46.900Z"
   },
   {
    "duration": 269,
    "start_time": "2022-05-18T21:01:04.924Z"
   },
   {
    "duration": 251,
    "start_time": "2022-05-18T21:01:24.460Z"
   },
   {
    "duration": 305,
    "start_time": "2022-05-18T21:01:31.034Z"
   },
   {
    "duration": 269,
    "start_time": "2022-05-18T21:01:56.030Z"
   },
   {
    "duration": 416,
    "start_time": "2022-05-18T21:02:05.380Z"
   },
   {
    "duration": 284,
    "start_time": "2022-05-18T21:02:25.747Z"
   },
   {
    "duration": 18,
    "start_time": "2022-05-18T21:02:29.660Z"
   },
   {
    "duration": 265,
    "start_time": "2022-05-18T21:02:38.500Z"
   },
   {
    "duration": 268,
    "start_time": "2022-05-18T21:03:28.077Z"
   },
   {
    "duration": 260,
    "start_time": "2022-05-18T21:03:35.328Z"
   },
   {
    "duration": 417,
    "start_time": "2022-05-18T21:03:41.040Z"
   },
   {
    "duration": 244,
    "start_time": "2022-05-18T21:03:56.020Z"
   },
   {
    "duration": 18,
    "start_time": "2022-05-18T21:04:48.314Z"
   },
   {
    "duration": 16,
    "start_time": "2022-05-18T21:04:53.290Z"
   },
   {
    "duration": 18,
    "start_time": "2022-05-18T21:04:54.457Z"
   },
   {
    "duration": 3,
    "start_time": "2022-05-18T21:07:46.456Z"
   },
   {
    "duration": 749,
    "start_time": "2022-05-18T21:07:46.461Z"
   },
   {
    "duration": 15,
    "start_time": "2022-05-18T21:07:47.212Z"
   },
   {
    "duration": 138,
    "start_time": "2022-05-18T21:07:47.228Z"
   },
   {
    "duration": 95,
    "start_time": "2022-05-18T21:07:47.368Z"
   },
   {
    "duration": 7,
    "start_time": "2022-05-18T21:07:47.465Z"
   },
   {
    "duration": 1303,
    "start_time": "2022-05-18T21:07:47.474Z"
   },
   {
    "duration": 32,
    "start_time": "2022-05-18T21:07:48.779Z"
   },
   {
    "duration": 83,
    "start_time": "2022-05-18T21:07:48.813Z"
   },
   {
    "duration": 60,
    "start_time": "2022-05-18T21:07:48.903Z"
   },
   {
    "duration": 19,
    "start_time": "2022-05-18T21:07:48.966Z"
   },
   {
    "duration": 64,
    "start_time": "2022-05-18T21:07:48.986Z"
   },
   {
    "duration": 20,
    "start_time": "2022-05-18T21:07:49.051Z"
   },
   {
    "duration": 70,
    "start_time": "2022-05-18T21:07:49.073Z"
   },
   {
    "duration": 18,
    "start_time": "2022-05-18T21:07:49.145Z"
   },
   {
    "duration": 68,
    "start_time": "2022-05-18T21:07:49.165Z"
   },
   {
    "duration": 19,
    "start_time": "2022-05-18T21:07:49.236Z"
   },
   {
    "duration": 69,
    "start_time": "2022-05-18T21:07:49.257Z"
   },
   {
    "duration": 20,
    "start_time": "2022-05-18T21:07:49.328Z"
   },
   {
    "duration": 93,
    "start_time": "2022-05-18T21:07:49.349Z"
   },
   {
    "duration": 279,
    "start_time": "2022-05-18T21:07:49.444Z"
   },
   {
    "duration": 21,
    "start_time": "2022-05-18T21:07:49.724Z"
   },
   {
    "duration": 290,
    "start_time": "2022-05-18T21:07:49.747Z"
   },
   {
    "duration": 21,
    "start_time": "2022-05-18T21:07:50.039Z"
   },
   {
    "duration": 269,
    "start_time": "2022-05-18T21:07:50.062Z"
   },
   {
    "duration": 19,
    "start_time": "2022-05-18T21:07:50.333Z"
   },
   {
    "duration": 66,
    "start_time": "2022-05-18T21:08:12.130Z"
   },
   {
    "duration": 1224,
    "start_time": "2022-05-19T05:36:52.693Z"
   },
   {
    "duration": 1130,
    "start_time": "2022-05-19T05:36:53.919Z"
   },
   {
    "duration": 20,
    "start_time": "2022-05-19T05:36:55.050Z"
   },
   {
    "duration": 131,
    "start_time": "2022-05-19T05:36:55.072Z"
   },
   {
    "duration": 130,
    "start_time": "2022-05-19T05:36:55.205Z"
   },
   {
    "duration": 8,
    "start_time": "2022-05-19T05:36:55.339Z"
   },
   {
    "duration": 1357,
    "start_time": "2022-05-19T05:36:55.349Z"
   },
   {
    "duration": 35,
    "start_time": "2022-05-19T05:36:56.708Z"
   },
   {
    "duration": 90,
    "start_time": "2022-05-19T05:36:56.745Z"
   },
   {
    "duration": 48,
    "start_time": "2022-05-19T05:36:56.838Z"
   },
   {
    "duration": 18,
    "start_time": "2022-05-19T05:36:56.887Z"
   },
   {
    "duration": 66,
    "start_time": "2022-05-19T05:36:56.906Z"
   },
   {
    "duration": 17,
    "start_time": "2022-05-19T05:36:56.973Z"
   },
   {
    "duration": 74,
    "start_time": "2022-05-19T05:36:56.992Z"
   },
   {
    "duration": 21,
    "start_time": "2022-05-19T05:36:57.068Z"
   },
   {
    "duration": 65,
    "start_time": "2022-05-19T05:36:57.093Z"
   },
   {
    "duration": 17,
    "start_time": "2022-05-19T05:36:57.160Z"
   },
   {
    "duration": 73,
    "start_time": "2022-05-19T05:36:57.179Z"
   },
   {
    "duration": 20,
    "start_time": "2022-05-19T05:36:57.253Z"
   },
   {
    "duration": 104,
    "start_time": "2022-05-19T05:36:57.275Z"
   },
   {
    "duration": 683,
    "start_time": "2022-05-19T05:36:57.380Z"
   },
   {
    "duration": 28,
    "start_time": "2022-05-19T05:36:58.065Z"
   },
   {
    "duration": 273,
    "start_time": "2022-05-19T05:36:58.094Z"
   },
   {
    "duration": 24,
    "start_time": "2022-05-19T05:36:58.368Z"
   },
   {
    "duration": 264,
    "start_time": "2022-05-19T05:36:58.393Z"
   },
   {
    "duration": 17,
    "start_time": "2022-05-19T05:36:58.659Z"
   },
   {
    "duration": 75,
    "start_time": "2022-05-19T05:36:58.678Z"
   },
   {
    "duration": 10,
    "start_time": "2022-05-19T05:36:58.756Z"
   },
   {
    "duration": 64,
    "start_time": "2022-05-19T05:37:09.650Z"
   },
   {
    "duration": 409,
    "start_time": "2022-05-19T05:37:09.727Z"
   },
   {
    "duration": 16,
    "start_time": "2022-05-19T05:37:42.544Z"
   },
   {
    "duration": 15,
    "start_time": "2022-05-19T05:37:57.772Z"
   },
   {
    "duration": 20,
    "start_time": "2022-05-19T05:38:03.844Z"
   },
   {
    "duration": 26,
    "start_time": "2022-05-19T05:38:10.362Z"
   },
   {
    "duration": 25,
    "start_time": "2022-05-19T05:38:20.178Z"
   },
   {
    "duration": 6,
    "start_time": "2022-05-19T05:38:45.075Z"
   },
   {
    "duration": 6,
    "start_time": "2022-05-19T05:39:17.194Z"
   },
   {
    "duration": 18,
    "start_time": "2022-05-19T05:39:51.323Z"
   },
   {
    "duration": 823,
    "start_time": "2022-05-19T05:51:08.194Z"
   },
   {
    "duration": 478,
    "start_time": "2022-05-19T05:51:25.356Z"
   },
   {
    "duration": 23,
    "start_time": "2022-05-19T05:51:39.557Z"
   },
   {
    "duration": 714,
    "start_time": "2022-05-19T05:52:20.481Z"
   },
   {
    "duration": 4,
    "start_time": "2022-05-19T05:53:12.873Z"
   },
   {
    "duration": 834,
    "start_time": "2022-05-19T05:53:12.879Z"
   },
   {
    "duration": 22,
    "start_time": "2022-05-19T05:53:13.715Z"
   },
   {
    "duration": 172,
    "start_time": "2022-05-19T05:53:13.738Z"
   },
   {
    "duration": 98,
    "start_time": "2022-05-19T05:53:13.912Z"
   },
   {
    "duration": 19,
    "start_time": "2022-05-19T05:53:14.011Z"
   },
   {
    "duration": 1446,
    "start_time": "2022-05-19T05:53:14.036Z"
   },
   {
    "duration": 24,
    "start_time": "2022-05-19T05:53:15.484Z"
   },
   {
    "duration": 107,
    "start_time": "2022-05-19T05:53:15.510Z"
   },
   {
    "duration": 68,
    "start_time": "2022-05-19T05:53:15.618Z"
   },
   {
    "duration": 25,
    "start_time": "2022-05-19T05:53:15.689Z"
   },
   {
    "duration": 74,
    "start_time": "2022-05-19T05:53:15.730Z"
   },
   {
    "duration": 29,
    "start_time": "2022-05-19T05:53:15.806Z"
   },
   {
    "duration": 78,
    "start_time": "2022-05-19T05:53:15.837Z"
   },
   {
    "duration": 31,
    "start_time": "2022-05-19T05:53:15.917Z"
   },
   {
    "duration": 63,
    "start_time": "2022-05-19T05:53:15.949Z"
   },
   {
    "duration": 31,
    "start_time": "2022-05-19T05:53:16.013Z"
   },
   {
    "duration": 64,
    "start_time": "2022-05-19T05:53:16.050Z"
   },
   {
    "duration": 32,
    "start_time": "2022-05-19T05:53:16.116Z"
   },
   {
    "duration": 128,
    "start_time": "2022-05-19T05:53:16.159Z"
   },
   {
    "duration": 357,
    "start_time": "2022-05-19T05:53:16.289Z"
   },
   {
    "duration": 28,
    "start_time": "2022-05-19T05:53:16.656Z"
   },
   {
    "duration": 414,
    "start_time": "2022-05-19T05:53:16.687Z"
   },
   {
    "duration": 31,
    "start_time": "2022-05-19T05:53:17.103Z"
   },
   {
    "duration": 267,
    "start_time": "2022-05-19T05:53:17.135Z"
   },
   {
    "duration": 35,
    "start_time": "2022-05-19T05:53:17.403Z"
   },
   {
    "duration": 83,
    "start_time": "2022-05-19T05:53:17.440Z"
   },
   {
    "duration": 22,
    "start_time": "2022-05-19T05:53:17.524Z"
   },
   {
    "duration": 80,
    "start_time": "2022-05-19T05:53:17.553Z"
   },
   {
    "duration": 6,
    "start_time": "2022-05-19T05:53:17.634Z"
   },
   {
    "duration": 352,
    "start_time": "2022-05-19T05:53:23.773Z"
   },
   {
    "duration": 645,
    "start_time": "2022-05-19T05:53:26.268Z"
   },
   {
    "duration": 551,
    "start_time": "2022-05-19T05:57:12.112Z"
   },
   {
    "duration": 3,
    "start_time": "2022-05-19T05:58:16.021Z"
   },
   {
    "duration": 821,
    "start_time": "2022-05-19T05:58:16.027Z"
   },
   {
    "duration": 14,
    "start_time": "2022-05-19T05:58:16.851Z"
   },
   {
    "duration": 132,
    "start_time": "2022-05-19T05:58:16.867Z"
   },
   {
    "duration": 100,
    "start_time": "2022-05-19T05:58:17.002Z"
   },
   {
    "duration": 6,
    "start_time": "2022-05-19T05:58:17.104Z"
   },
   {
    "duration": 1278,
    "start_time": "2022-05-19T05:58:17.111Z"
   },
   {
    "duration": 26,
    "start_time": "2022-05-19T05:58:18.391Z"
   },
   {
    "duration": 86,
    "start_time": "2022-05-19T05:58:18.419Z"
   },
   {
    "duration": 61,
    "start_time": "2022-05-19T05:58:18.507Z"
   },
   {
    "duration": 19,
    "start_time": "2022-05-19T05:58:18.571Z"
   },
   {
    "duration": 76,
    "start_time": "2022-05-19T05:58:18.591Z"
   },
   {
    "duration": 28,
    "start_time": "2022-05-19T05:58:18.669Z"
   },
   {
    "duration": 59,
    "start_time": "2022-05-19T05:58:18.699Z"
   },
   {
    "duration": 17,
    "start_time": "2022-05-19T05:58:18.760Z"
   },
   {
    "duration": 72,
    "start_time": "2022-05-19T05:58:18.778Z"
   },
   {
    "duration": 19,
    "start_time": "2022-05-19T05:58:18.851Z"
   },
   {
    "duration": 61,
    "start_time": "2022-05-19T05:58:18.872Z"
   },
   {
    "duration": 22,
    "start_time": "2022-05-19T05:58:18.934Z"
   },
   {
    "duration": 91,
    "start_time": "2022-05-19T05:58:18.958Z"
   },
   {
    "duration": 285,
    "start_time": "2022-05-19T05:58:19.052Z"
   },
   {
    "duration": 20,
    "start_time": "2022-05-19T05:58:19.340Z"
   },
   {
    "duration": 277,
    "start_time": "2022-05-19T05:58:19.362Z"
   },
   {
    "duration": 19,
    "start_time": "2022-05-19T05:58:19.640Z"
   },
   {
    "duration": 256,
    "start_time": "2022-05-19T05:58:19.660Z"
   },
   {
    "duration": 23,
    "start_time": "2022-05-19T05:58:19.917Z"
   },
   {
    "duration": 59,
    "start_time": "2022-05-19T05:58:19.942Z"
   },
   {
    "duration": 25,
    "start_time": "2022-05-19T05:58:20.003Z"
   },
   {
    "duration": 60,
    "start_time": "2022-05-19T05:58:20.032Z"
   },
   {
    "duration": 6,
    "start_time": "2022-05-19T05:58:20.094Z"
   },
   {
    "duration": 15,
    "start_time": "2022-05-19T05:58:29.151Z"
   },
   {
    "duration": 520,
    "start_time": "2022-05-19T05:58:32.185Z"
   },
   {
    "duration": 3,
    "start_time": "2022-05-19T05:58:40.897Z"
   },
   {
    "duration": 806,
    "start_time": "2022-05-19T05:58:40.902Z"
   },
   {
    "duration": 28,
    "start_time": "2022-05-19T05:58:41.709Z"
   },
   {
    "duration": 144,
    "start_time": "2022-05-19T05:58:41.738Z"
   },
   {
    "duration": 93,
    "start_time": "2022-05-19T05:58:41.885Z"
   },
   {
    "duration": 7,
    "start_time": "2022-05-19T05:58:41.980Z"
   },
   {
    "duration": 1232,
    "start_time": "2022-05-19T05:58:41.988Z"
   },
   {
    "duration": 31,
    "start_time": "2022-05-19T05:58:43.221Z"
   },
   {
    "duration": 97,
    "start_time": "2022-05-19T05:58:43.254Z"
   },
   {
    "duration": 47,
    "start_time": "2022-05-19T05:58:43.353Z"
   },
   {
    "duration": 48,
    "start_time": "2022-05-19T05:58:43.402Z"
   },
   {
    "duration": 48,
    "start_time": "2022-05-19T05:58:43.452Z"
   },
   {
    "duration": 37,
    "start_time": "2022-05-19T05:58:43.501Z"
   },
   {
    "duration": 59,
    "start_time": "2022-05-19T05:58:43.542Z"
   },
   {
    "duration": 38,
    "start_time": "2022-05-19T05:58:43.603Z"
   },
   {
    "duration": 51,
    "start_time": "2022-05-19T05:58:43.643Z"
   },
   {
    "duration": 18,
    "start_time": "2022-05-19T05:58:43.695Z"
   },
   {
    "duration": 63,
    "start_time": "2022-05-19T05:58:43.715Z"
   },
   {
    "duration": 19,
    "start_time": "2022-05-19T05:58:43.779Z"
   },
   {
    "duration": 107,
    "start_time": "2022-05-19T05:58:43.800Z"
   },
   {
    "duration": 307,
    "start_time": "2022-05-19T05:58:43.908Z"
   },
   {
    "duration": 27,
    "start_time": "2022-05-19T05:58:44.217Z"
   },
   {
    "duration": 371,
    "start_time": "2022-05-19T05:58:44.246Z"
   },
   {
    "duration": 25,
    "start_time": "2022-05-19T05:58:44.619Z"
   },
   {
    "duration": 269,
    "start_time": "2022-05-19T05:58:44.646Z"
   },
   {
    "duration": 26,
    "start_time": "2022-05-19T05:58:44.917Z"
   },
   {
    "duration": 58,
    "start_time": "2022-05-19T05:58:44.944Z"
   },
   {
    "duration": 33,
    "start_time": "2022-05-19T05:58:45.004Z"
   },
   {
    "duration": 56,
    "start_time": "2022-05-19T05:58:45.038Z"
   },
   {
    "duration": 6,
    "start_time": "2022-05-19T05:58:45.095Z"
   },
   {
    "duration": 352,
    "start_time": "2022-05-19T05:59:00.954Z"
   },
   {
    "duration": 651,
    "start_time": "2022-05-19T05:59:05.327Z"
   },
   {
    "duration": 4,
    "start_time": "2022-05-19T05:59:36.013Z"
   },
   {
    "duration": 764,
    "start_time": "2022-05-19T05:59:36.018Z"
   },
   {
    "duration": 13,
    "start_time": "2022-05-19T05:59:36.784Z"
   },
   {
    "duration": 141,
    "start_time": "2022-05-19T05:59:36.799Z"
   },
   {
    "duration": 97,
    "start_time": "2022-05-19T05:59:36.942Z"
   },
   {
    "duration": 8,
    "start_time": "2022-05-19T05:59:37.041Z"
   },
   {
    "duration": 1231,
    "start_time": "2022-05-19T05:59:37.051Z"
   },
   {
    "duration": 25,
    "start_time": "2022-05-19T05:59:38.283Z"
   },
   {
    "duration": 88,
    "start_time": "2022-05-19T05:59:38.310Z"
   },
   {
    "duration": 61,
    "start_time": "2022-05-19T05:59:38.399Z"
   },
   {
    "duration": 17,
    "start_time": "2022-05-19T05:59:38.462Z"
   },
   {
    "duration": 73,
    "start_time": "2022-05-19T05:59:38.480Z"
   },
   {
    "duration": 18,
    "start_time": "2022-05-19T05:59:38.555Z"
   },
   {
    "duration": 62,
    "start_time": "2022-05-19T05:59:38.574Z"
   },
   {
    "duration": 25,
    "start_time": "2022-05-19T05:59:38.638Z"
   },
   {
    "duration": 64,
    "start_time": "2022-05-19T05:59:38.665Z"
   },
   {
    "duration": 21,
    "start_time": "2022-05-19T05:59:38.730Z"
   },
   {
    "duration": 45,
    "start_time": "2022-05-19T05:59:38.753Z"
   },
   {
    "duration": 42,
    "start_time": "2022-05-19T05:59:38.799Z"
   },
   {
    "duration": 71,
    "start_time": "2022-05-19T05:59:38.843Z"
   },
   {
    "duration": 261,
    "start_time": "2022-05-19T05:59:38.916Z"
   },
   {
    "duration": 19,
    "start_time": "2022-05-19T05:59:39.179Z"
   },
   {
    "duration": 292,
    "start_time": "2022-05-19T05:59:39.199Z"
   },
   {
    "duration": 18,
    "start_time": "2022-05-19T05:59:39.493Z"
   },
   {
    "duration": 257,
    "start_time": "2022-05-19T05:59:39.513Z"
   },
   {
    "duration": 16,
    "start_time": "2022-05-19T05:59:39.771Z"
   },
   {
    "duration": 70,
    "start_time": "2022-05-19T05:59:39.789Z"
   },
   {
    "duration": 12,
    "start_time": "2022-05-19T05:59:39.861Z"
   },
   {
    "duration": 73,
    "start_time": "2022-05-19T05:59:39.874Z"
   },
   {
    "duration": 5,
    "start_time": "2022-05-19T05:59:39.949Z"
   },
   {
    "duration": 357,
    "start_time": "2022-05-19T06:00:43.669Z"
   },
   {
    "duration": 5,
    "start_time": "2022-05-19T06:00:52.591Z"
   },
   {
    "duration": 832,
    "start_time": "2022-05-19T06:01:07.710Z"
   },
   {
    "duration": 16,
    "start_time": "2022-05-19T06:01:29.678Z"
   },
   {
    "duration": 4,
    "start_time": "2022-05-19T06:56:09.043Z"
   },
   {
    "duration": 732,
    "start_time": "2022-05-19T06:56:09.049Z"
   },
   {
    "duration": 15,
    "start_time": "2022-05-19T06:56:09.783Z"
   },
   {
    "duration": 135,
    "start_time": "2022-05-19T06:56:09.799Z"
   },
   {
    "duration": 113,
    "start_time": "2022-05-19T06:56:09.937Z"
   },
   {
    "duration": 11,
    "start_time": "2022-05-19T06:56:10.052Z"
   },
   {
    "duration": 1295,
    "start_time": "2022-05-19T06:56:10.064Z"
   },
   {
    "duration": 30,
    "start_time": "2022-05-19T06:56:11.361Z"
   },
   {
    "duration": 89,
    "start_time": "2022-05-19T06:56:11.393Z"
   },
   {
    "duration": 58,
    "start_time": "2022-05-19T06:56:11.484Z"
   },
   {
    "duration": 19,
    "start_time": "2022-05-19T06:56:11.544Z"
   },
   {
    "duration": 69,
    "start_time": "2022-05-19T06:56:11.565Z"
   },
   {
    "duration": 20,
    "start_time": "2022-05-19T06:56:11.635Z"
   },
   {
    "duration": 55,
    "start_time": "2022-05-19T06:56:11.658Z"
   },
   {
    "duration": 20,
    "start_time": "2022-05-19T06:56:11.728Z"
   },
   {
    "duration": 50,
    "start_time": "2022-05-19T06:56:11.749Z"
   },
   {
    "duration": 36,
    "start_time": "2022-05-19T06:56:11.801Z"
   },
   {
    "duration": 48,
    "start_time": "2022-05-19T06:56:11.838Z"
   },
   {
    "duration": 39,
    "start_time": "2022-05-19T06:56:11.888Z"
   },
   {
    "duration": 75,
    "start_time": "2022-05-19T06:56:11.929Z"
   },
   {
    "duration": 408,
    "start_time": "2022-05-19T06:56:12.005Z"
   },
   {
    "duration": 25,
    "start_time": "2022-05-19T06:56:12.415Z"
   },
   {
    "duration": 287,
    "start_time": "2022-05-19T06:56:12.442Z"
   },
   {
    "duration": 20,
    "start_time": "2022-05-19T06:56:12.731Z"
   },
   {
    "duration": 260,
    "start_time": "2022-05-19T06:56:12.753Z"
   },
   {
    "duration": 23,
    "start_time": "2022-05-19T06:56:13.015Z"
   },
   {
    "duration": 60,
    "start_time": "2022-05-19T06:56:13.040Z"
   },
   {
    "duration": 30,
    "start_time": "2022-05-19T06:56:13.102Z"
   },
   {
    "duration": 51,
    "start_time": "2022-05-19T06:56:13.134Z"
   },
   {
    "duration": 6,
    "start_time": "2022-05-19T06:56:13.187Z"
   },
   {
    "duration": 363,
    "start_time": "2022-05-19T07:00:53.982Z"
   },
   {
    "duration": 28,
    "start_time": "2022-05-19T07:00:58.681Z"
   },
   {
    "duration": 4,
    "start_time": "2022-05-19T07:03:13.671Z"
   },
   {
    "duration": 738,
    "start_time": "2022-05-19T07:03:13.677Z"
   },
   {
    "duration": 15,
    "start_time": "2022-05-19T07:03:14.417Z"
   },
   {
    "duration": 140,
    "start_time": "2022-05-19T07:03:14.434Z"
   },
   {
    "duration": 101,
    "start_time": "2022-05-19T07:03:14.576Z"
   },
   {
    "duration": 8,
    "start_time": "2022-05-19T07:03:14.679Z"
   },
   {
    "duration": 1302,
    "start_time": "2022-05-19T07:03:14.689Z"
   },
   {
    "duration": 38,
    "start_time": "2022-05-19T07:03:15.992Z"
   },
   {
    "duration": 78,
    "start_time": "2022-05-19T07:03:16.032Z"
   },
   {
    "duration": 61,
    "start_time": "2022-05-19T07:03:16.112Z"
   },
   {
    "duration": 19,
    "start_time": "2022-05-19T07:03:16.175Z"
   },
   {
    "duration": 77,
    "start_time": "2022-05-19T07:03:16.197Z"
   },
   {
    "duration": 27,
    "start_time": "2022-05-19T07:03:16.276Z"
   },
   {
    "duration": 78,
    "start_time": "2022-05-19T07:03:16.307Z"
   },
   {
    "duration": 22,
    "start_time": "2022-05-19T07:03:16.387Z"
   },
   {
    "duration": 56,
    "start_time": "2022-05-19T07:03:16.428Z"
   },
   {
    "duration": 24,
    "start_time": "2022-05-19T07:03:16.486Z"
   },
   {
    "duration": 54,
    "start_time": "2022-05-19T07:03:16.526Z"
   },
   {
    "duration": 21,
    "start_time": "2022-05-19T07:03:16.581Z"
   },
   {
    "duration": 92,
    "start_time": "2022-05-19T07:03:16.603Z"
   },
   {
    "duration": 292,
    "start_time": "2022-05-19T07:03:16.697Z"
   },
   {
    "duration": 21,
    "start_time": "2022-05-19T07:03:16.990Z"
   },
   {
    "duration": 288,
    "start_time": "2022-05-19T07:03:17.012Z"
   },
   {
    "duration": 25,
    "start_time": "2022-05-19T07:03:17.302Z"
   },
   {
    "duration": 252,
    "start_time": "2022-05-19T07:03:17.329Z"
   },
   {
    "duration": 18,
    "start_time": "2022-05-19T07:03:17.583Z"
   },
   {
    "duration": 78,
    "start_time": "2022-05-19T07:03:17.603Z"
   },
   {
    "duration": 26,
    "start_time": "2022-05-19T07:03:17.682Z"
   },
   {
    "duration": 56,
    "start_time": "2022-05-19T07:03:17.710Z"
   },
   {
    "duration": 6,
    "start_time": "2022-05-19T07:03:17.768Z"
   },
   {
    "duration": 363,
    "start_time": "2022-05-19T07:03:17.775Z"
   },
   {
    "duration": 27,
    "start_time": "2022-05-19T07:03:21.561Z"
   },
   {
    "duration": 413,
    "start_time": "2022-05-19T07:04:20.755Z"
   },
   {
    "duration": 9,
    "start_time": "2022-05-19T07:04:21.170Z"
   },
   {
    "duration": 28,
    "start_time": "2022-05-19T07:04:40.222Z"
   },
   {
    "duration": 18,
    "start_time": "2022-05-19T07:04:49.089Z"
   },
   {
    "duration": 26134,
    "start_time": "2022-05-19T07:12:11.969Z"
   },
   {
    "duration": 3,
    "start_time": "2022-05-19T07:13:12.233Z"
   },
   {
    "duration": 744,
    "start_time": "2022-05-19T07:13:12.238Z"
   },
   {
    "duration": 13,
    "start_time": "2022-05-19T07:13:12.984Z"
   },
   {
    "duration": 134,
    "start_time": "2022-05-19T07:13:12.998Z"
   },
   {
    "duration": 97,
    "start_time": "2022-05-19T07:13:13.134Z"
   },
   {
    "duration": 7,
    "start_time": "2022-05-19T07:13:13.233Z"
   },
   {
    "duration": 1243,
    "start_time": "2022-05-19T07:13:13.241Z"
   },
   {
    "duration": 24,
    "start_time": "2022-05-19T07:13:14.486Z"
   },
   {
    "duration": 86,
    "start_time": "2022-05-19T07:13:14.512Z"
   },
   {
    "duration": 61,
    "start_time": "2022-05-19T07:13:14.600Z"
   },
   {
    "duration": 18,
    "start_time": "2022-05-19T07:13:14.663Z"
   },
   {
    "duration": 66,
    "start_time": "2022-05-19T07:13:14.683Z"
   },
   {
    "duration": 17,
    "start_time": "2022-05-19T07:13:14.751Z"
   },
   {
    "duration": 71,
    "start_time": "2022-05-19T07:13:14.771Z"
   },
   {
    "duration": 28,
    "start_time": "2022-05-19T07:13:14.843Z"
   },
   {
    "duration": 67,
    "start_time": "2022-05-19T07:13:14.874Z"
   },
   {
    "duration": 19,
    "start_time": "2022-05-19T07:13:14.943Z"
   },
   {
    "duration": 56,
    "start_time": "2022-05-19T07:13:14.964Z"
   },
   {
    "duration": 20,
    "start_time": "2022-05-19T07:13:15.028Z"
   },
   {
    "duration": 92,
    "start_time": "2022-05-19T07:13:15.050Z"
   },
   {
    "duration": 287,
    "start_time": "2022-05-19T07:13:15.144Z"
   },
   {
    "duration": 20,
    "start_time": "2022-05-19T07:13:15.433Z"
   },
   {
    "duration": 288,
    "start_time": "2022-05-19T07:13:15.454Z"
   },
   {
    "duration": 19,
    "start_time": "2022-05-19T07:13:15.744Z"
   },
   {
    "duration": 287,
    "start_time": "2022-05-19T07:13:15.765Z"
   },
   {
    "duration": 21,
    "start_time": "2022-05-19T07:13:16.053Z"
   },
   {
    "duration": 74,
    "start_time": "2022-05-19T07:13:16.076Z"
   },
   {
    "duration": 36,
    "start_time": "2022-05-19T07:13:16.152Z"
   },
   {
    "duration": 89,
    "start_time": "2022-05-19T07:13:16.191Z"
   },
   {
    "duration": 8,
    "start_time": "2022-05-19T07:13:16.283Z"
   },
   {
    "duration": 481,
    "start_time": "2022-05-19T07:13:16.294Z"
   },
   {
    "duration": 2,
    "start_time": "2022-05-19T07:13:16.777Z"
   },
   {
    "duration": 18548,
    "start_time": "2022-05-19T07:13:20.162Z"
   },
   {
    "duration": 17940,
    "start_time": "2022-05-19T07:23:33.493Z"
   },
   {
    "duration": 17805,
    "start_time": "2022-05-19T07:24:27.090Z"
   },
   {
    "duration": 7,
    "start_time": "2022-05-19T07:25:22.330Z"
   },
   {
    "duration": 727,
    "start_time": "2022-05-19T07:27:16.570Z"
   },
   {
    "duration": 3,
    "start_time": "2022-05-19T07:29:40.372Z"
   },
   {
    "duration": 695,
    "start_time": "2022-05-19T07:29:40.377Z"
   },
   {
    "duration": 13,
    "start_time": "2022-05-19T07:29:41.074Z"
   },
   {
    "duration": 129,
    "start_time": "2022-05-19T07:29:41.090Z"
   },
   {
    "duration": 94,
    "start_time": "2022-05-19T07:29:41.221Z"
   },
   {
    "duration": 12,
    "start_time": "2022-05-19T07:29:41.316Z"
   },
   {
    "duration": 1259,
    "start_time": "2022-05-19T07:29:41.330Z"
   },
   {
    "duration": 37,
    "start_time": "2022-05-19T07:29:42.591Z"
   },
   {
    "duration": 77,
    "start_time": "2022-05-19T07:29:42.630Z"
   },
   {
    "duration": 57,
    "start_time": "2022-05-19T07:29:42.709Z"
   },
   {
    "duration": 18,
    "start_time": "2022-05-19T07:29:42.768Z"
   },
   {
    "duration": 63,
    "start_time": "2022-05-19T07:29:42.788Z"
   },
   {
    "duration": 17,
    "start_time": "2022-05-19T07:29:42.853Z"
   },
   {
    "duration": 65,
    "start_time": "2022-05-19T07:29:42.873Z"
   },
   {
    "duration": 18,
    "start_time": "2022-05-19T07:29:42.939Z"
   },
   {
    "duration": 50,
    "start_time": "2022-05-19T07:29:42.958Z"
   },
   {
    "duration": 35,
    "start_time": "2022-05-19T07:29:43.010Z"
   },
   {
    "duration": 53,
    "start_time": "2022-05-19T07:29:43.047Z"
   },
   {
    "duration": 34,
    "start_time": "2022-05-19T07:29:43.102Z"
   },
   {
    "duration": 74,
    "start_time": "2022-05-19T07:29:43.137Z"
   },
   {
    "duration": 299,
    "start_time": "2022-05-19T07:29:43.213Z"
   },
   {
    "duration": 35,
    "start_time": "2022-05-19T07:29:43.514Z"
   },
   {
    "duration": 288,
    "start_time": "2022-05-19T07:29:43.551Z"
   },
   {
    "duration": 19,
    "start_time": "2022-05-19T07:29:43.840Z"
   },
   {
    "duration": 403,
    "start_time": "2022-05-19T07:29:43.861Z"
   },
   {
    "duration": 19,
    "start_time": "2022-05-19T07:29:44.265Z"
   },
   {
    "duration": 472,
    "start_time": "2022-05-19T07:30:32.530Z"
   },
   {
    "duration": 448,
    "start_time": "2022-05-19T07:31:27.451Z"
   },
   {
    "duration": 430,
    "start_time": "2022-05-19T07:31:39.470Z"
   },
   {
    "duration": 323,
    "start_time": "2022-05-19T07:34:29.290Z"
   },
   {
    "duration": 7,
    "start_time": "2022-05-19T07:34:54.330Z"
   },
   {
    "duration": 4,
    "start_time": "2022-05-19T08:30:09.402Z"
   },
   {
    "duration": 767,
    "start_time": "2022-05-19T08:30:09.408Z"
   },
   {
    "duration": 15,
    "start_time": "2022-05-19T08:30:10.176Z"
   },
   {
    "duration": 138,
    "start_time": "2022-05-19T08:30:10.193Z"
   },
   {
    "duration": 99,
    "start_time": "2022-05-19T08:30:10.333Z"
   },
   {
    "duration": 8,
    "start_time": "2022-05-19T08:30:10.433Z"
   },
   {
    "duration": 1275,
    "start_time": "2022-05-19T08:30:10.443Z"
   },
   {
    "duration": 30,
    "start_time": "2022-05-19T08:30:11.720Z"
   },
   {
    "duration": 96,
    "start_time": "2022-05-19T08:30:11.752Z"
   },
   {
    "duration": 60,
    "start_time": "2022-05-19T08:30:11.850Z"
   },
   {
    "duration": 41,
    "start_time": "2022-05-19T08:30:11.912Z"
   },
   {
    "duration": 84,
    "start_time": "2022-05-19T08:30:11.955Z"
   },
   {
    "duration": 21,
    "start_time": "2022-05-19T08:30:12.041Z"
   },
   {
    "duration": 77,
    "start_time": "2022-05-19T08:30:12.065Z"
   },
   {
    "duration": 20,
    "start_time": "2022-05-19T08:30:12.143Z"
   },
   {
    "duration": 66,
    "start_time": "2022-05-19T08:30:12.165Z"
   },
   {
    "duration": 20,
    "start_time": "2022-05-19T08:30:12.233Z"
   },
   {
    "duration": 72,
    "start_time": "2022-05-19T08:30:12.255Z"
   },
   {
    "duration": 23,
    "start_time": "2022-05-19T08:30:12.328Z"
   },
   {
    "duration": 89,
    "start_time": "2022-05-19T08:30:12.352Z"
   },
   {
    "duration": 311,
    "start_time": "2022-05-19T08:30:12.443Z"
   },
   {
    "duration": 25,
    "start_time": "2022-05-19T08:30:12.756Z"
   },
   {
    "duration": 314,
    "start_time": "2022-05-19T08:30:12.783Z"
   },
   {
    "duration": 29,
    "start_time": "2022-05-19T08:30:13.099Z"
   },
   {
    "duration": 269,
    "start_time": "2022-05-19T08:30:13.130Z"
   },
   {
    "duration": 26,
    "start_time": "2022-05-19T08:30:13.401Z"
   },
   {
    "duration": 14,
    "start_time": "2022-05-19T08:30:13.429Z"
   },
   {
    "duration": 483,
    "start_time": "2022-05-19T08:30:13.444Z"
   },
   {
    "duration": 60,
    "start_time": "2022-05-19T08:30:13.929Z"
   },
   {
    "duration": 7,
    "start_time": "2022-05-19T08:30:13.991Z"
   },
   {
    "duration": 348,
    "start_time": "2022-05-19T08:30:14.000Z"
   },
   {
    "duration": 5,
    "start_time": "2022-05-19T08:30:14.350Z"
   },
   {
    "duration": 7,
    "start_time": "2022-05-19T08:30:14.357Z"
   },
   {
    "duration": 3,
    "start_time": "2022-05-19T08:30:18.729Z"
   },
   {
    "duration": 20509,
    "start_time": "2022-05-19T08:30:19.329Z"
   },
   {
    "duration": 16468,
    "start_time": "2022-05-19T08:47:42.058Z"
   },
   {
    "duration": 20989,
    "start_time": "2022-05-19T08:48:29.438Z"
   },
   {
    "duration": 5,
    "start_time": "2022-05-19T08:49:16.358Z"
   },
   {
    "duration": 739,
    "start_time": "2022-05-19T08:49:16.370Z"
   },
   {
    "duration": 16,
    "start_time": "2022-05-19T08:49:17.111Z"
   },
   {
    "duration": 136,
    "start_time": "2022-05-19T08:49:17.129Z"
   },
   {
    "duration": 101,
    "start_time": "2022-05-19T08:49:17.267Z"
   },
   {
    "duration": 6,
    "start_time": "2022-05-19T08:49:17.370Z"
   },
   {
    "duration": 1227,
    "start_time": "2022-05-19T08:49:17.378Z"
   },
   {
    "duration": 28,
    "start_time": "2022-05-19T08:49:18.607Z"
   },
   {
    "duration": 75,
    "start_time": "2022-05-19T08:49:18.637Z"
   },
   {
    "duration": 61,
    "start_time": "2022-05-19T08:49:18.713Z"
   },
   {
    "duration": 20,
    "start_time": "2022-05-19T08:49:18.775Z"
   },
   {
    "duration": 72,
    "start_time": "2022-05-19T08:49:18.797Z"
   },
   {
    "duration": 19,
    "start_time": "2022-05-19T08:49:18.871Z"
   },
   {
    "duration": 66,
    "start_time": "2022-05-19T08:49:18.892Z"
   },
   {
    "duration": 18,
    "start_time": "2022-05-19T08:49:18.961Z"
   },
   {
    "duration": 68,
    "start_time": "2022-05-19T08:49:18.981Z"
   },
   {
    "duration": 19,
    "start_time": "2022-05-19T08:49:19.051Z"
   },
   {
    "duration": 68,
    "start_time": "2022-05-19T08:49:19.072Z"
   },
   {
    "duration": 20,
    "start_time": "2022-05-19T08:49:19.142Z"
   },
   {
    "duration": 92,
    "start_time": "2022-05-19T08:49:19.163Z"
   },
   {
    "duration": 302,
    "start_time": "2022-05-19T08:49:19.257Z"
   },
   {
    "duration": 24,
    "start_time": "2022-05-19T08:49:19.561Z"
   },
   {
    "duration": 310,
    "start_time": "2022-05-19T08:49:19.586Z"
   },
   {
    "duration": 30,
    "start_time": "2022-05-19T08:49:19.898Z"
   },
   {
    "duration": 420,
    "start_time": "2022-05-19T08:49:19.930Z"
   },
   {
    "duration": 19,
    "start_time": "2022-05-19T08:49:20.353Z"
   },
   {
    "duration": 13,
    "start_time": "2022-05-19T08:49:20.374Z"
   },
   {
    "duration": 481,
    "start_time": "2022-05-19T08:49:20.389Z"
   },
   {
    "duration": 65,
    "start_time": "2022-05-19T08:49:20.872Z"
   },
   {
    "duration": 7,
    "start_time": "2022-05-19T08:49:20.938Z"
   },
   {
    "duration": 358,
    "start_time": "2022-05-19T08:49:20.947Z"
   },
   {
    "duration": 20,
    "start_time": "2022-05-19T08:49:21.307Z"
   },
   {
    "duration": 3,
    "start_time": "2022-05-19T08:49:21.329Z"
   },
   {
    "duration": 17326,
    "start_time": "2022-05-19T08:49:25.501Z"
   },
   {
    "duration": 21426,
    "start_time": "2022-05-19T08:50:20.500Z"
   },
   {
    "duration": 4,
    "start_time": "2022-05-19T08:52:46.521Z"
   },
   {
    "duration": 743,
    "start_time": "2022-05-19T08:52:46.528Z"
   },
   {
    "duration": 18,
    "start_time": "2022-05-19T08:52:47.276Z"
   },
   {
    "duration": 163,
    "start_time": "2022-05-19T08:52:47.296Z"
   },
   {
    "duration": 105,
    "start_time": "2022-05-19T08:52:47.462Z"
   },
   {
    "duration": 8,
    "start_time": "2022-05-19T08:52:47.569Z"
   },
   {
    "duration": 1310,
    "start_time": "2022-05-19T08:52:47.579Z"
   },
   {
    "duration": 36,
    "start_time": "2022-05-19T08:52:48.891Z"
   },
   {
    "duration": 75,
    "start_time": "2022-05-19T08:52:48.929Z"
   },
   {
    "duration": 61,
    "start_time": "2022-05-19T08:52:49.006Z"
   },
   {
    "duration": 18,
    "start_time": "2022-05-19T08:52:49.069Z"
   },
   {
    "duration": 64,
    "start_time": "2022-05-19T08:52:49.088Z"
   },
   {
    "duration": 18,
    "start_time": "2022-05-19T08:52:49.154Z"
   },
   {
    "duration": 70,
    "start_time": "2022-05-19T08:52:49.175Z"
   },
   {
    "duration": 19,
    "start_time": "2022-05-19T08:52:49.246Z"
   },
   {
    "duration": 80,
    "start_time": "2022-05-19T08:52:49.267Z"
   },
   {
    "duration": 26,
    "start_time": "2022-05-19T08:52:49.348Z"
   },
   {
    "duration": 67,
    "start_time": "2022-05-19T08:52:49.376Z"
   },
   {
    "duration": 21,
    "start_time": "2022-05-19T08:52:49.445Z"
   },
   {
    "duration": 94,
    "start_time": "2022-05-19T08:52:49.468Z"
   },
   {
    "duration": 311,
    "start_time": "2022-05-19T08:52:49.564Z"
   },
   {
    "duration": 20,
    "start_time": "2022-05-19T08:52:49.877Z"
   },
   {
    "duration": 296,
    "start_time": "2022-05-19T08:52:49.899Z"
   },
   {
    "duration": 34,
    "start_time": "2022-05-19T08:52:50.197Z"
   },
   {
    "duration": 266,
    "start_time": "2022-05-19T08:52:50.233Z"
   },
   {
    "duration": 26,
    "start_time": "2022-05-19T08:52:50.501Z"
   },
   {
    "duration": 14,
    "start_time": "2022-05-19T08:52:50.529Z"
   },
   {
    "duration": 483,
    "start_time": "2022-05-19T08:52:50.545Z"
   },
   {
    "duration": 55,
    "start_time": "2022-05-19T08:52:51.030Z"
   },
   {
    "duration": 6,
    "start_time": "2022-05-19T08:52:51.087Z"
   },
   {
    "duration": 342,
    "start_time": "2022-05-19T08:52:51.095Z"
   },
   {
    "duration": 8,
    "start_time": "2022-05-19T08:52:51.438Z"
   },
   {
    "duration": 5,
    "start_time": "2022-05-19T08:52:51.447Z"
   },
   {
    "duration": 28839,
    "start_time": "2022-05-19T08:52:54.619Z"
   },
   {
    "duration": 56794,
    "start_time": "2022-05-19T08:53:29.366Z"
   },
   {
    "duration": 54603,
    "start_time": "2022-05-19T08:54:53.459Z"
   },
   {
    "duration": 14,
    "start_time": "2022-05-19T08:57:55.217Z"
   },
   {
    "duration": 5696,
    "start_time": "2022-05-19T08:58:21.725Z"
   },
   {
    "duration": 6526,
    "start_time": "2022-05-19T08:59:03.978Z"
   },
   {
    "duration": 5558,
    "start_time": "2022-05-19T08:59:30.546Z"
   },
   {
    "duration": 5654,
    "start_time": "2022-05-19T09:00:01.305Z"
   },
   {
    "duration": 45,
    "start_time": "2022-05-19T09:00:51.279Z"
   },
   {
    "duration": 127215,
    "start_time": "2022-05-19T09:01:24.618Z"
   },
   {
    "duration": 303,
    "start_time": "2022-05-19T09:04:19.538Z"
   },
   {
    "duration": 6,
    "start_time": "2022-05-19T09:04:57.124Z"
   },
   {
    "duration": 6,
    "start_time": "2022-05-19T09:04:57.158Z"
   },
   {
    "duration": 58419,
    "start_time": "2022-05-19T11:20:36.886Z"
   },
   {
    "duration": 438,
    "start_time": "2022-05-19T11:21:51.744Z"
   },
   {
    "duration": 13,
    "start_time": "2022-05-19T11:21:52.733Z"
   },
   {
    "duration": 3,
    "start_time": "2022-05-19T11:21:56.317Z"
   },
   {
    "duration": 33180,
    "start_time": "2022-05-19T11:21:56.359Z"
   },
   {
    "duration": 296,
    "start_time": "2022-05-19T11:22:45.621Z"
   },
   {
    "duration": 13,
    "start_time": "2022-05-19T11:22:45.919Z"
   },
   {
    "duration": 3,
    "start_time": "2022-05-19T11:22:46.772Z"
   },
   {
    "duration": 60317,
    "start_time": "2022-05-19T11:22:47.012Z"
   },
   {
    "duration": 5,
    "start_time": "2022-05-19T11:42:36.712Z"
   },
   {
    "duration": 1380,
    "start_time": "2022-05-19T11:42:36.720Z"
   },
   {
    "duration": 22,
    "start_time": "2022-05-19T11:42:38.102Z"
   },
   {
    "duration": 238,
    "start_time": "2022-05-19T11:42:38.127Z"
   },
   {
    "duration": 125,
    "start_time": "2022-05-19T11:42:38.368Z"
   },
   {
    "duration": 9,
    "start_time": "2022-05-19T11:42:38.496Z"
   },
   {
    "duration": 1565,
    "start_time": "2022-05-19T11:42:38.507Z"
   },
   {
    "duration": 31,
    "start_time": "2022-05-19T11:42:40.073Z"
   },
   {
    "duration": 166,
    "start_time": "2022-05-19T11:42:40.110Z"
   },
   {
    "duration": 97,
    "start_time": "2022-05-19T11:42:40.279Z"
   },
   {
    "duration": 33,
    "start_time": "2022-05-19T11:42:40.380Z"
   },
   {
    "duration": 99,
    "start_time": "2022-05-19T11:42:40.415Z"
   },
   {
    "duration": 38,
    "start_time": "2022-05-19T11:42:40.516Z"
   },
   {
    "duration": 119,
    "start_time": "2022-05-19T11:42:40.556Z"
   },
   {
    "duration": 20,
    "start_time": "2022-05-19T11:42:40.677Z"
   },
   {
    "duration": 92,
    "start_time": "2022-05-19T11:42:40.699Z"
   },
   {
    "duration": 40,
    "start_time": "2022-05-19T11:42:40.794Z"
   },
   {
    "duration": 100,
    "start_time": "2022-05-19T11:42:40.837Z"
   },
   {
    "duration": 33,
    "start_time": "2022-05-19T11:42:40.939Z"
   },
   {
    "duration": 160,
    "start_time": "2022-05-19T11:42:40.975Z"
   },
   {
    "duration": 419,
    "start_time": "2022-05-19T11:42:41.137Z"
   },
   {
    "duration": 24,
    "start_time": "2022-05-19T11:42:41.559Z"
   },
   {
    "duration": 661,
    "start_time": "2022-05-19T11:42:41.586Z"
   },
   {
    "duration": 23,
    "start_time": "2022-05-19T11:42:42.250Z"
   },
   {
    "duration": 403,
    "start_time": "2022-05-19T11:42:42.276Z"
   },
   {
    "duration": 19,
    "start_time": "2022-05-19T11:42:42.681Z"
   },
   {
    "duration": 41,
    "start_time": "2022-05-19T11:42:42.702Z"
   },
   {
    "duration": 607,
    "start_time": "2022-05-19T11:42:42.746Z"
   },
   {
    "duration": 75,
    "start_time": "2022-05-19T11:42:43.358Z"
   },
   {
    "duration": 11,
    "start_time": "2022-05-19T11:42:43.436Z"
   },
   {
    "duration": 363,
    "start_time": "2022-05-19T11:42:43.453Z"
   },
   {
    "duration": 21,
    "start_time": "2022-05-19T11:42:43.818Z"
   },
   {
    "duration": 61338,
    "start_time": "2022-05-19T11:50:52.792Z"
   },
   {
    "duration": 51,
    "start_time": "2022-05-19T11:52:52.694Z"
   },
   {
    "duration": 28873,
    "start_time": "2022-05-19T11:54:52.401Z"
   },
   {
    "duration": 4,
    "start_time": "2022-05-19T12:02:15.016Z"
   },
   {
    "duration": 780,
    "start_time": "2022-05-19T12:02:15.023Z"
   },
   {
    "duration": 16,
    "start_time": "2022-05-19T12:02:15.805Z"
   },
   {
    "duration": 148,
    "start_time": "2022-05-19T12:02:15.827Z"
   },
   {
    "duration": 115,
    "start_time": "2022-05-19T12:02:15.977Z"
   },
   {
    "duration": 7,
    "start_time": "2022-05-19T12:02:16.094Z"
   },
   {
    "duration": 1415,
    "start_time": "2022-05-19T12:02:16.103Z"
   },
   {
    "duration": 32,
    "start_time": "2022-05-19T12:02:17.520Z"
   },
   {
    "duration": 89,
    "start_time": "2022-05-19T12:02:17.554Z"
   },
   {
    "duration": 51,
    "start_time": "2022-05-19T12:02:17.645Z"
   },
   {
    "duration": 36,
    "start_time": "2022-05-19T12:02:17.698Z"
   },
   {
    "duration": 50,
    "start_time": "2022-05-19T12:02:17.737Z"
   },
   {
    "duration": 20,
    "start_time": "2022-05-19T12:02:17.789Z"
   },
   {
    "duration": 58,
    "start_time": "2022-05-19T12:02:17.828Z"
   },
   {
    "duration": 43,
    "start_time": "2022-05-19T12:02:17.888Z"
   },
   {
    "duration": 67,
    "start_time": "2022-05-19T12:02:17.932Z"
   },
   {
    "duration": 42,
    "start_time": "2022-05-19T12:02:18.001Z"
   },
   {
    "duration": 47,
    "start_time": "2022-05-19T12:02:18.046Z"
   },
   {
    "duration": 39,
    "start_time": "2022-05-19T12:02:18.095Z"
   },
   {
    "duration": 93,
    "start_time": "2022-05-19T12:02:18.136Z"
   },
   {
    "duration": 299,
    "start_time": "2022-05-19T12:02:18.231Z"
   },
   {
    "duration": 33,
    "start_time": "2022-05-19T12:02:18.532Z"
   },
   {
    "duration": 312,
    "start_time": "2022-05-19T12:02:18.567Z"
   },
   {
    "duration": 23,
    "start_time": "2022-05-19T12:02:18.880Z"
   },
   {
    "duration": 322,
    "start_time": "2022-05-19T12:02:18.905Z"
   },
   {
    "duration": 19,
    "start_time": "2022-05-19T12:02:19.229Z"
   },
   {
    "duration": 14,
    "start_time": "2022-05-19T12:02:19.250Z"
   },
   {
    "duration": 498,
    "start_time": "2022-05-19T12:02:19.266Z"
   },
   {
    "duration": 64,
    "start_time": "2022-05-19T12:02:19.767Z"
   },
   {
    "duration": 7,
    "start_time": "2022-05-19T12:02:19.833Z"
   },
   {
    "duration": 353,
    "start_time": "2022-05-19T12:02:19.842Z"
   },
   {
    "duration": 7,
    "start_time": "2022-05-19T12:02:20.197Z"
   },
   {
    "duration": 21,
    "start_time": "2022-05-19T12:02:20.206Z"
   },
   {
    "duration": 27401,
    "start_time": "2022-05-19T12:02:20.229Z"
   },
   {
    "duration": 63662,
    "start_time": "2022-05-19T13:23:42.769Z"
   },
   {
    "duration": 30179,
    "start_time": "2022-05-19T13:25:54.048Z"
   },
   {
    "duration": 22885,
    "start_time": "2022-05-19T13:26:32.943Z"
   },
   {
    "duration": 3,
    "start_time": "2022-05-19T13:28:12.069Z"
   },
   {
    "duration": 802,
    "start_time": "2022-05-19T13:28:12.075Z"
   },
   {
    "duration": 20,
    "start_time": "2022-05-19T13:28:12.881Z"
   },
   {
    "duration": 147,
    "start_time": "2022-05-19T13:28:12.903Z"
   },
   {
    "duration": 110,
    "start_time": "2022-05-19T13:28:13.053Z"
   },
   {
    "duration": 9,
    "start_time": "2022-05-19T13:28:13.164Z"
   },
   {
    "duration": 1310,
    "start_time": "2022-05-19T13:28:13.174Z"
   },
   {
    "duration": 27,
    "start_time": "2022-05-19T13:28:14.486Z"
   },
   {
    "duration": 88,
    "start_time": "2022-05-19T13:28:14.515Z"
   },
   {
    "duration": 63,
    "start_time": "2022-05-19T13:28:14.604Z"
   },
   {
    "duration": 20,
    "start_time": "2022-05-19T13:28:14.670Z"
   },
   {
    "duration": 68,
    "start_time": "2022-05-19T13:28:14.691Z"
   },
   {
    "duration": 21,
    "start_time": "2022-05-19T13:28:14.761Z"
   },
   {
    "duration": 91,
    "start_time": "2022-05-19T13:28:14.784Z"
   },
   {
    "duration": 20,
    "start_time": "2022-05-19T13:28:14.877Z"
   },
   {
    "duration": 71,
    "start_time": "2022-05-19T13:28:14.900Z"
   },
   {
    "duration": 21,
    "start_time": "2022-05-19T13:28:14.973Z"
   },
   {
    "duration": 68,
    "start_time": "2022-05-19T13:28:14.997Z"
   },
   {
    "duration": 22,
    "start_time": "2022-05-19T13:28:15.067Z"
   },
   {
    "duration": 107,
    "start_time": "2022-05-19T13:28:15.091Z"
   },
   {
    "duration": 336,
    "start_time": "2022-05-19T13:28:15.199Z"
   },
   {
    "duration": 19,
    "start_time": "2022-05-19T13:28:15.538Z"
   },
   {
    "duration": 470,
    "start_time": "2022-05-19T13:28:15.559Z"
   },
   {
    "duration": 16,
    "start_time": "2022-05-19T13:28:16.030Z"
   },
   {
    "duration": 314,
    "start_time": "2022-05-19T13:28:16.048Z"
   },
   {
    "duration": 20,
    "start_time": "2022-05-19T13:28:16.363Z"
   },
   {
    "duration": 14,
    "start_time": "2022-05-19T13:28:16.384Z"
   },
   {
    "duration": 388,
    "start_time": "2022-05-19T13:28:16.400Z"
   },
   {
    "duration": 55,
    "start_time": "2022-05-19T13:28:16.792Z"
   },
   {
    "duration": 6,
    "start_time": "2022-05-19T13:28:16.849Z"
   },
   {
    "duration": 263,
    "start_time": "2022-05-19T13:28:16.857Z"
   },
   {
    "duration": 7,
    "start_time": "2022-05-19T13:28:17.122Z"
   },
   {
    "duration": 7,
    "start_time": "2022-05-19T13:28:17.131Z"
   },
   {
    "duration": 22285,
    "start_time": "2022-05-19T13:28:20.942Z"
   },
   {
    "duration": 58,
    "start_time": "2022-05-19T13:30:07.589Z"
   },
   {
    "duration": 7,
    "start_time": "2022-05-19T13:30:08.309Z"
   },
   {
    "duration": 225,
    "start_time": "2022-05-19T13:30:08.622Z"
   },
   {
    "duration": 10,
    "start_time": "2022-05-19T13:30:09.244Z"
   },
   {
    "duration": 3,
    "start_time": "2022-05-19T13:30:20.246Z"
   },
   {
    "duration": 39177,
    "start_time": "2022-05-19T13:30:21.397Z"
   },
   {
    "duration": 235,
    "start_time": "2022-05-19T13:32:20.133Z"
   },
   {
    "duration": 7,
    "start_time": "2022-05-19T13:32:20.716Z"
   },
   {
    "duration": 3,
    "start_time": "2022-05-19T13:32:22.053Z"
   },
   {
    "duration": 26037,
    "start_time": "2022-05-19T13:32:22.624Z"
   },
   {
    "duration": 25282,
    "start_time": "2022-05-19T13:37:39.656Z"
   },
   {
    "duration": 42562,
    "start_time": "2022-05-19T13:38:04.941Z"
   },
   {
    "duration": 4166,
    "start_time": "2022-05-19T13:38:47.505Z"
   },
   {
    "duration": 2,
    "start_time": "2022-05-19T13:38:51.673Z"
   },
   {
    "duration": 3778,
    "start_time": "2022-05-19T13:38:51.678Z"
   },
   {
    "duration": 30,
    "start_time": "2022-05-19T13:38:55.457Z"
   },
   {
    "duration": 1484,
    "start_time": "2022-05-19T17:22:38.963Z"
   },
   {
    "duration": 1234,
    "start_time": "2022-05-19T17:22:40.449Z"
   },
   {
    "duration": 22,
    "start_time": "2022-05-19T17:22:41.685Z"
   },
   {
    "duration": 137,
    "start_time": "2022-05-19T17:22:41.710Z"
   },
   {
    "duration": 146,
    "start_time": "2022-05-19T17:22:41.849Z"
   },
   {
    "duration": 7,
    "start_time": "2022-05-19T17:22:41.997Z"
   },
   {
    "duration": 1557,
    "start_time": "2022-05-19T17:22:42.005Z"
   },
   {
    "duration": 30,
    "start_time": "2022-05-19T17:22:43.563Z"
   },
   {
    "duration": 110,
    "start_time": "2022-05-19T17:22:43.595Z"
   },
   {
    "duration": 76,
    "start_time": "2022-05-19T17:22:43.708Z"
   },
   {
    "duration": 19,
    "start_time": "2022-05-19T17:22:43.786Z"
   },
   {
    "duration": 77,
    "start_time": "2022-05-19T17:22:43.807Z"
   },
   {
    "duration": 19,
    "start_time": "2022-05-19T17:22:43.886Z"
   },
   {
    "duration": 81,
    "start_time": "2022-05-19T17:22:43.907Z"
   },
   {
    "duration": 21,
    "start_time": "2022-05-19T17:22:43.990Z"
   },
   {
    "duration": 78,
    "start_time": "2022-05-19T17:22:44.013Z"
   },
   {
    "duration": 21,
    "start_time": "2022-05-19T17:22:44.093Z"
   },
   {
    "duration": 76,
    "start_time": "2022-05-19T17:22:44.116Z"
   },
   {
    "duration": 21,
    "start_time": "2022-05-19T17:22:44.194Z"
   },
   {
    "duration": 113,
    "start_time": "2022-05-19T17:22:44.217Z"
   },
   {
    "duration": 770,
    "start_time": "2022-05-19T17:22:44.332Z"
   },
   {
    "duration": 32,
    "start_time": "2022-05-19T17:22:45.103Z"
   },
   {
    "duration": 335,
    "start_time": "2022-05-19T17:22:45.137Z"
   },
   {
    "duration": 29,
    "start_time": "2022-05-19T17:22:45.479Z"
   },
   {
    "duration": 285,
    "start_time": "2022-05-19T17:22:45.510Z"
   },
   {
    "duration": 19,
    "start_time": "2022-05-19T17:22:45.797Z"
   },
   {
    "duration": 12,
    "start_time": "2022-05-19T17:22:45.818Z"
   },
   {
    "duration": 529,
    "start_time": "2022-05-19T17:22:45.833Z"
   },
   {
    "duration": 73,
    "start_time": "2022-05-19T17:22:46.364Z"
   },
   {
    "duration": 7,
    "start_time": "2022-05-19T17:22:46.438Z"
   },
   {
    "duration": 377,
    "start_time": "2022-05-19T17:22:46.465Z"
   },
   {
    "duration": 7,
    "start_time": "2022-05-19T17:22:46.844Z"
   },
   {
    "duration": 20,
    "start_time": "2022-05-19T17:22:46.852Z"
   },
   {
    "duration": 28386,
    "start_time": "2022-05-19T17:22:46.881Z"
   },
   {
    "duration": 58638,
    "start_time": "2022-05-19T17:24:04.189Z"
   },
   {
    "duration": 4,
    "start_time": "2022-05-19T17:30:53.697Z"
   },
   {
    "duration": 869,
    "start_time": "2022-05-19T17:30:53.704Z"
   },
   {
    "duration": 17,
    "start_time": "2022-05-19T17:30:54.576Z"
   },
   {
    "duration": 146,
    "start_time": "2022-05-19T17:30:54.595Z"
   },
   {
    "duration": 105,
    "start_time": "2022-05-19T17:30:54.743Z"
   },
   {
    "duration": 14,
    "start_time": "2022-05-19T17:30:54.850Z"
   },
   {
    "duration": 1554,
    "start_time": "2022-05-19T17:30:54.866Z"
   },
   {
    "duration": 26,
    "start_time": "2022-05-19T17:30:56.423Z"
   },
   {
    "duration": 103,
    "start_time": "2022-05-19T17:30:56.450Z"
   },
   {
    "duration": 70,
    "start_time": "2022-05-19T17:30:56.565Z"
   },
   {
    "duration": 35,
    "start_time": "2022-05-19T17:30:56.639Z"
   },
   {
    "duration": 53,
    "start_time": "2022-05-19T17:30:56.676Z"
   },
   {
    "duration": 41,
    "start_time": "2022-05-19T17:30:56.730Z"
   },
   {
    "duration": 71,
    "start_time": "2022-05-19T17:30:56.773Z"
   },
   {
    "duration": 35,
    "start_time": "2022-05-19T17:30:56.846Z"
   },
   {
    "duration": 74,
    "start_time": "2022-05-19T17:30:56.883Z"
   },
   {
    "duration": 21,
    "start_time": "2022-05-19T17:30:56.959Z"
   },
   {
    "duration": 56,
    "start_time": "2022-05-19T17:30:56.982Z"
   },
   {
    "duration": 38,
    "start_time": "2022-05-19T17:30:57.040Z"
   },
   {
    "duration": 93,
    "start_time": "2022-05-19T17:30:57.080Z"
   },
   {
    "duration": 372,
    "start_time": "2022-05-19T17:30:57.175Z"
   },
   {
    "duration": 31,
    "start_time": "2022-05-19T17:30:57.550Z"
   },
   {
    "duration": 437,
    "start_time": "2022-05-19T17:30:57.583Z"
   },
   {
    "duration": 21,
    "start_time": "2022-05-19T17:30:58.022Z"
   },
   {
    "duration": 311,
    "start_time": "2022-05-19T17:30:58.045Z"
   },
   {
    "duration": 20,
    "start_time": "2022-05-19T17:30:58.364Z"
   },
   {
    "duration": 15,
    "start_time": "2022-05-19T17:30:58.386Z"
   },
   {
    "duration": 564,
    "start_time": "2022-05-19T17:30:58.402Z"
   },
   {
    "duration": 98,
    "start_time": "2022-05-19T17:30:58.971Z"
   },
   {
    "duration": 13,
    "start_time": "2022-05-19T17:30:59.071Z"
   },
   {
    "duration": 385,
    "start_time": "2022-05-19T17:30:59.088Z"
   },
   {
    "duration": 7,
    "start_time": "2022-05-19T17:30:59.475Z"
   },
   {
    "duration": 11,
    "start_time": "2022-05-19T17:30:59.484Z"
   },
   {
    "duration": 26695,
    "start_time": "2022-05-19T17:31:02.970Z"
   },
   {
    "duration": 61486,
    "start_time": "2022-05-19T17:31:48.662Z"
   },
   {
    "duration": 6207,
    "start_time": "2022-05-19T17:32:50.150Z"
   },
   {
    "duration": 146,
    "start_time": "2022-05-19T17:41:37.859Z"
   },
   {
    "duration": 451492,
    "start_time": "2022-05-19T17:41:58.268Z"
   },
   {
    "duration": 4,
    "start_time": "2022-05-19T18:32:01.355Z"
   },
   {
    "duration": 825,
    "start_time": "2022-05-19T18:32:01.360Z"
   },
   {
    "duration": 16,
    "start_time": "2022-05-19T18:32:02.187Z"
   },
   {
    "duration": 144,
    "start_time": "2022-05-19T18:32:02.205Z"
   },
   {
    "duration": 101,
    "start_time": "2022-05-19T18:32:02.351Z"
   },
   {
    "duration": 14,
    "start_time": "2022-05-19T18:32:02.455Z"
   },
   {
    "duration": 1427,
    "start_time": "2022-05-19T18:32:02.471Z"
   },
   {
    "duration": 28,
    "start_time": "2022-05-19T18:32:03.900Z"
   },
   {
    "duration": 96,
    "start_time": "2022-05-19T18:32:03.930Z"
   },
   {
    "duration": 68,
    "start_time": "2022-05-19T18:32:04.028Z"
   },
   {
    "duration": 23,
    "start_time": "2022-05-19T18:32:04.100Z"
   },
   {
    "duration": 79,
    "start_time": "2022-05-19T18:32:04.126Z"
   },
   {
    "duration": 21,
    "start_time": "2022-05-19T18:32:04.206Z"
   },
   {
    "duration": 81,
    "start_time": "2022-05-19T18:32:04.229Z"
   },
   {
    "duration": 21,
    "start_time": "2022-05-19T18:32:04.312Z"
   },
   {
    "duration": 74,
    "start_time": "2022-05-19T18:32:04.335Z"
   },
   {
    "duration": 21,
    "start_time": "2022-05-19T18:32:04.411Z"
   },
   {
    "duration": 75,
    "start_time": "2022-05-19T18:32:04.434Z"
   },
   {
    "duration": 23,
    "start_time": "2022-05-19T18:32:04.510Z"
   },
   {
    "duration": 114,
    "start_time": "2022-05-19T18:32:04.534Z"
   },
   {
    "duration": 331,
    "start_time": "2022-05-19T18:32:04.650Z"
   },
   {
    "duration": 25,
    "start_time": "2022-05-19T18:32:04.983Z"
   },
   {
    "duration": 318,
    "start_time": "2022-05-19T18:32:05.010Z"
   },
   {
    "duration": 20,
    "start_time": "2022-05-19T18:32:05.329Z"
   },
   {
    "duration": 289,
    "start_time": "2022-05-19T18:32:05.352Z"
   },
   {
    "duration": 25,
    "start_time": "2022-05-19T18:32:05.643Z"
   },
   {
    "duration": 15,
    "start_time": "2022-05-19T18:32:05.670Z"
   },
   {
    "duration": 501,
    "start_time": "2022-05-19T18:32:05.686Z"
   },
   {
    "duration": 62,
    "start_time": "2022-05-19T18:32:06.191Z"
   },
   {
    "duration": 6,
    "start_time": "2022-05-19T18:32:06.264Z"
   },
   {
    "duration": 368,
    "start_time": "2022-05-19T18:32:06.272Z"
   },
   {
    "duration": 8,
    "start_time": "2022-05-19T18:32:06.642Z"
   },
   {
    "duration": 15,
    "start_time": "2022-05-19T18:32:06.651Z"
   },
   {
    "duration": 26818,
    "start_time": "2022-05-19T18:32:06.668Z"
   },
   {
    "duration": 61393,
    "start_time": "2022-05-19T18:32:33.488Z"
   },
   {
    "duration": 6193,
    "start_time": "2022-05-19T18:33:34.882Z"
   },
   {
    "duration": 469361,
    "start_time": "2022-05-19T18:33:41.077Z"
   },
   {
    "duration": 73680,
    "start_time": "2022-05-19T18:41:30.440Z"
   },
   {
    "duration": 141253,
    "start_time": "2022-05-19T18:42:44.122Z"
   },
   {
    "duration": 7,
    "start_time": "2022-05-19T18:45:05.378Z"
   },
   {
    "duration": 8,
    "start_time": "2022-05-19T18:45:05.387Z"
   },
   {
    "duration": 6,
    "start_time": "2022-05-19T18:45:05.397Z"
   },
   {
    "duration": 73897,
    "start_time": "2022-05-19T18:45:52.747Z"
   },
   {
    "duration": 138093,
    "start_time": "2022-05-19T18:47:32.461Z"
   },
   {
    "duration": 419842,
    "start_time": "2022-05-19T18:49:50.556Z"
   },
   {
    "duration": 5,
    "start_time": "2022-05-19T18:56:50.402Z"
   },
   {
    "duration": 32,
    "start_time": "2022-05-19T18:56:50.410Z"
   },
   {
    "duration": 14,
    "start_time": "2022-05-19T18:56:50.444Z"
   },
   {
    "duration": 6,
    "start_time": "2022-05-19T19:14:47.948Z"
   },
   {
    "duration": 1563,
    "start_time": "2022-05-19T19:14:47.961Z"
   },
   {
    "duration": 18,
    "start_time": "2022-05-19T19:14:49.526Z"
   },
   {
    "duration": 252,
    "start_time": "2022-05-19T19:14:49.546Z"
   },
   {
    "duration": 124,
    "start_time": "2022-05-19T19:14:49.801Z"
   },
   {
    "duration": 9,
    "start_time": "2022-05-19T19:14:49.926Z"
   },
   {
    "duration": 1560,
    "start_time": "2022-05-19T19:14:49.937Z"
   },
   {
    "duration": 26,
    "start_time": "2022-05-19T19:14:51.499Z"
   },
   {
    "duration": 106,
    "start_time": "2022-05-19T19:14:51.527Z"
   },
   {
    "duration": 108,
    "start_time": "2022-05-19T19:14:51.635Z"
   },
   {
    "duration": 36,
    "start_time": "2022-05-19T19:14:51.745Z"
   },
   {
    "duration": 75,
    "start_time": "2022-05-19T19:14:51.783Z"
   },
   {
    "duration": 24,
    "start_time": "2022-05-19T19:14:51.861Z"
   },
   {
    "duration": 103,
    "start_time": "2022-05-19T19:14:51.887Z"
   },
   {
    "duration": 32,
    "start_time": "2022-05-19T19:14:51.995Z"
   },
   {
    "duration": 93,
    "start_time": "2022-05-19T19:14:52.029Z"
   },
   {
    "duration": 41,
    "start_time": "2022-05-19T19:14:52.125Z"
   },
   {
    "duration": 105,
    "start_time": "2022-05-19T19:14:52.168Z"
   },
   {
    "duration": 39,
    "start_time": "2022-05-19T19:14:52.275Z"
   },
   {
    "duration": 171,
    "start_time": "2022-05-19T19:14:52.316Z"
   },
   {
    "duration": 607,
    "start_time": "2022-05-19T19:14:52.490Z"
   },
   {
    "duration": 24,
    "start_time": "2022-05-19T19:14:53.100Z"
   },
   {
    "duration": 353,
    "start_time": "2022-05-19T19:14:53.127Z"
   },
   {
    "duration": 25,
    "start_time": "2022-05-19T19:14:53.482Z"
   },
   {
    "duration": 403,
    "start_time": "2022-05-19T19:14:53.510Z"
   },
   {
    "duration": 24,
    "start_time": "2022-05-19T19:14:53.915Z"
   },
   {
    "duration": 33,
    "start_time": "2022-05-19T19:14:53.941Z"
   },
   {
    "duration": 558,
    "start_time": "2022-05-19T19:14:53.977Z"
   },
   {
    "duration": 111,
    "start_time": "2022-05-19T19:14:54.538Z"
   },
   {
    "duration": 13,
    "start_time": "2022-05-19T19:14:54.652Z"
   },
   {
    "duration": 440,
    "start_time": "2022-05-19T19:14:54.672Z"
   },
   {
    "duration": 8,
    "start_time": "2022-05-19T19:14:55.114Z"
   },
   {
    "duration": 18,
    "start_time": "2022-05-19T19:14:55.124Z"
   },
   {
    "duration": 47525,
    "start_time": "2022-05-19T19:14:55.144Z"
   },
   {
    "duration": 62951,
    "start_time": "2022-05-19T19:15:42.675Z"
   },
   {
    "duration": 6604,
    "start_time": "2022-05-19T19:16:45.628Z"
   },
   {
    "duration": 472864,
    "start_time": "2022-05-19T19:16:52.237Z"
   },
   {
    "duration": 136587,
    "start_time": "2022-05-19T19:24:45.103Z"
   },
   {
    "duration": 386714,
    "start_time": "2022-05-19T19:27:01.692Z"
   },
   {
    "duration": 7,
    "start_time": "2022-05-19T19:33:28.409Z"
   },
   {
    "duration": 53,
    "start_time": "2022-05-19T19:33:28.418Z"
   },
   {
    "duration": 5,
    "start_time": "2022-05-19T19:33:28.474Z"
   },
   {
    "duration": 1193,
    "start_time": "2022-05-20T11:16:39.640Z"
   },
   {
    "duration": 32,
    "start_time": "2022-05-20T11:25:37.684Z"
   }
  ],
  "kernelspec": {
   "display_name": "Python 3 (ipykernel)",
   "language": "python",
   "name": "python3"
  },
  "language_info": {
   "codemirror_mode": {
    "name": "ipython",
    "version": 3
   },
   "file_extension": ".py",
   "mimetype": "text/x-python",
   "name": "python",
   "nbconvert_exporter": "python",
   "pygments_lexer": "ipython3",
   "version": "3.9.7"
  },
  "toc": {
   "base_numbering": 1,
   "nav_menu": {},
   "number_sections": true,
   "sideBar": true,
   "skip_h1_title": true,
   "title_cell": "Table of Contents",
   "title_sidebar": "Contents",
   "toc_cell": false,
   "toc_position": {},
   "toc_section_display": true,
   "toc_window_display": true
  }
 },
 "nbformat": 4,
 "nbformat_minor": 2
}
