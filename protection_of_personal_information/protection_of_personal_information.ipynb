{
 "cells": [
  {
   "cell_type": "markdown",
   "metadata": {},
   "source": [
    "# Защита персональных данных клиентов"
   ]
  },
  {
   "cell_type": "markdown",
   "metadata": {},
   "source": [
    "Вам нужно защитить данные клиентов страховой компании «Хоть потоп». Разработайте такой метод преобразования данных, чтобы по ним было сложно восстановить персональную информацию. Обоснуйте корректность его работы.\n",
    "\n",
    "Нужно защитить данные, чтобы при преобразовании качество моделей машинного обучения не ухудшилось. Подбирать наилучшую модель не требуется."
   ]
  },
  {
   "cell_type": "markdown",
   "metadata": {},
   "source": [
    "## Загрузка данных"
   ]
  },
  {
   "cell_type": "code",
   "execution_count": 62,
   "metadata": {},
   "outputs": [],
   "source": [
    "import pandas as pd\n",
    "import numpy as np\n",
    "from sklearn.model_selection import train_test_split\n",
    "from sklearn.preprocessing import StandardScaler\n",
    "from sklearn.pipeline import Pipeline\n",
    "from sklearn.linear_model import LinearRegression\n",
    "from sklearn.metrics import r2_score"
   ]
  },
  {
   "cell_type": "code",
   "execution_count": 63,
   "metadata": {},
   "outputs": [],
   "source": [
    "df = pd.read_csv('/datasets/insurance.csv')"
   ]
  },
  {
   "cell_type": "code",
   "execution_count": 64,
   "metadata": {},
   "outputs": [
    {
     "name": "stdout",
     "output_type": "stream",
     "text": [
      "<class 'pandas.core.frame.DataFrame'>\n",
      "RangeIndex: 5000 entries, 0 to 4999\n",
      "Data columns (total 5 columns):\n",
      " #   Column             Non-Null Count  Dtype  \n",
      "---  ------             --------------  -----  \n",
      " 0   Пол                5000 non-null   int64  \n",
      " 1   Возраст            5000 non-null   float64\n",
      " 2   Зарплата           5000 non-null   float64\n",
      " 3   Члены семьи        5000 non-null   int64  \n",
      " 4   Страховые выплаты  5000 non-null   int64  \n",
      "dtypes: float64(2), int64(3)\n",
      "memory usage: 195.4 KB\n"
     ]
    },
    {
     "data": {
      "text/plain": [
       "None"
      ]
     },
     "metadata": {},
     "output_type": "display_data"
    },
    {
     "data": {
      "text/html": [
       "<div>\n",
       "<style scoped>\n",
       "    .dataframe tbody tr th:only-of-type {\n",
       "        vertical-align: middle;\n",
       "    }\n",
       "\n",
       "    .dataframe tbody tr th {\n",
       "        vertical-align: top;\n",
       "    }\n",
       "\n",
       "    .dataframe thead th {\n",
       "        text-align: right;\n",
       "    }\n",
       "</style>\n",
       "<table border=\"1\" class=\"dataframe\">\n",
       "  <thead>\n",
       "    <tr style=\"text-align: right;\">\n",
       "      <th></th>\n",
       "      <th>Пол</th>\n",
       "      <th>Возраст</th>\n",
       "      <th>Зарплата</th>\n",
       "      <th>Члены семьи</th>\n",
       "      <th>Страховые выплаты</th>\n",
       "    </tr>\n",
       "  </thead>\n",
       "  <tbody>\n",
       "    <tr>\n",
       "      <th>0</th>\n",
       "      <td>1</td>\n",
       "      <td>41.0</td>\n",
       "      <td>49600.0</td>\n",
       "      <td>1</td>\n",
       "      <td>0</td>\n",
       "    </tr>\n",
       "    <tr>\n",
       "      <th>1</th>\n",
       "      <td>0</td>\n",
       "      <td>46.0</td>\n",
       "      <td>38000.0</td>\n",
       "      <td>1</td>\n",
       "      <td>1</td>\n",
       "    </tr>\n",
       "    <tr>\n",
       "      <th>2</th>\n",
       "      <td>0</td>\n",
       "      <td>29.0</td>\n",
       "      <td>21000.0</td>\n",
       "      <td>0</td>\n",
       "      <td>0</td>\n",
       "    </tr>\n",
       "    <tr>\n",
       "      <th>3</th>\n",
       "      <td>0</td>\n",
       "      <td>21.0</td>\n",
       "      <td>41700.0</td>\n",
       "      <td>2</td>\n",
       "      <td>0</td>\n",
       "    </tr>\n",
       "    <tr>\n",
       "      <th>4</th>\n",
       "      <td>1</td>\n",
       "      <td>28.0</td>\n",
       "      <td>26100.0</td>\n",
       "      <td>0</td>\n",
       "      <td>0</td>\n",
       "    </tr>\n",
       "    <tr>\n",
       "      <th>5</th>\n",
       "      <td>1</td>\n",
       "      <td>43.0</td>\n",
       "      <td>41000.0</td>\n",
       "      <td>2</td>\n",
       "      <td>1</td>\n",
       "    </tr>\n",
       "    <tr>\n",
       "      <th>6</th>\n",
       "      <td>1</td>\n",
       "      <td>39.0</td>\n",
       "      <td>39700.0</td>\n",
       "      <td>2</td>\n",
       "      <td>0</td>\n",
       "    </tr>\n",
       "    <tr>\n",
       "      <th>7</th>\n",
       "      <td>1</td>\n",
       "      <td>25.0</td>\n",
       "      <td>38600.0</td>\n",
       "      <td>4</td>\n",
       "      <td>0</td>\n",
       "    </tr>\n",
       "    <tr>\n",
       "      <th>8</th>\n",
       "      <td>1</td>\n",
       "      <td>36.0</td>\n",
       "      <td>49700.0</td>\n",
       "      <td>1</td>\n",
       "      <td>0</td>\n",
       "    </tr>\n",
       "    <tr>\n",
       "      <th>9</th>\n",
       "      <td>1</td>\n",
       "      <td>32.0</td>\n",
       "      <td>51700.0</td>\n",
       "      <td>1</td>\n",
       "      <td>0</td>\n",
       "    </tr>\n",
       "  </tbody>\n",
       "</table>\n",
       "</div>"
      ],
      "text/plain": [
       "   Пол  Возраст  Зарплата  Члены семьи  Страховые выплаты\n",
       "0    1     41.0   49600.0            1                  0\n",
       "1    0     46.0   38000.0            1                  1\n",
       "2    0     29.0   21000.0            0                  0\n",
       "3    0     21.0   41700.0            2                  0\n",
       "4    1     28.0   26100.0            0                  0\n",
       "5    1     43.0   41000.0            2                  1\n",
       "6    1     39.0   39700.0            2                  0\n",
       "7    1     25.0   38600.0            4                  0\n",
       "8    1     36.0   49700.0            1                  0\n",
       "9    1     32.0   51700.0            1                  0"
      ]
     },
     "metadata": {},
     "output_type": "display_data"
    },
    {
     "data": {
      "text/plain": [
       "(5000, 5)"
      ]
     },
     "metadata": {},
     "output_type": "display_data"
    }
   ],
   "source": [
    "display(df.info())\n",
    "display(df.head(10))\n",
    "display(df.shape)"
   ]
  },
  {
   "cell_type": "markdown",
   "metadata": {},
   "source": [
    "### Вывод:\n",
    "\n",
    "Пропусков нет, данные записанны в верном типе"
   ]
  },
  {
   "cell_type": "markdown",
   "metadata": {},
   "source": [
    "## Умножение матриц"
   ]
  },
  {
   "cell_type": "code",
   "execution_count": null,
   "metadata": {},
   "outputs": [],
   "source": []
  },
  {
   "cell_type": "markdown",
   "metadata": {},
   "source": [
    "В этом задании вы можете записывать формулы в *Jupyter Notebook.*\n",
    "\n",
    "Чтобы записать формулу внутри текста, окружите её символами доллара \\\\$; если снаружи —  двойными символами \\\\$\\\\$. Эти формулы записываются на языке вёрстки *LaTeX.* \n",
    "\n",
    "Для примера мы записали формулы линейной регрессии. Можете их скопировать и отредактировать, чтобы решить задачу.\n",
    "\n",
    "Работать в *LaTeX* необязательно."
   ]
  },
  {
   "cell_type": "markdown",
   "metadata": {},
   "source": [
    "Обозначения:\n",
    "\n",
    "- $X$ — матрица признаков (нулевой столбец состоит из единиц)\n",
    "\n",
    "- $y$ — вектор целевого признака\n",
    "\n",
    "- $P$ — матрица, на которую умножаются признаки\n",
    "\n",
    "- $w$ — вектор весов линейной регрессии (нулевой элемент равен сдвигу)"
   ]
  },
  {
   "cell_type": "markdown",
   "metadata": {},
   "source": [
    "Предсказания:\n",
    "\n",
    "$$\n",
    "a = Xw\n",
    "$$\n",
    "\n",
    "Задача обучения:\n",
    "\n",
    "$$\n",
    "w = \\arg\\min_w MSE(Xw, y)\n",
    "$$\n",
    "\n",
    "Формула обучения:\n",
    "\n",
    "$$\n",
    "w = (X^T X)^{-1} X^T y\n",
    "$$"
   ]
  },
  {
   "cell_type": "markdown",
   "metadata": {},
   "source": [
    "**Вопрос:** Признаки умножают на обратимую матрицу. Изменится ли качество линейной регрессии?\n",
    "\n",
    "**Ответ:** не изменится\n",
    "\n",
    "**Обоснование:** $$\n",
    "a = X_1w\n",
    "$$\n",
    "$\n",
    "a = X_1(X^TX)^{-1}X^Ty=X_1X^{-1}(X^T)^{-1}X^Ty=X_1X^{-1}y\n",
    "$\n",
    "$\n",
    "a_1 = (X_1A)((XA)^TXA)^{-1}(XA)^Ty=(X_1A)(XA)^{-1}((XA)^T)^{-1}(XA)^Ty=(X_1A)A^{-1}X^{-1}(X^T)^{-1}(A^T)^{-1}A^TX^Ty=X_1AA^{-1}X^{-1}(X^T)^{-1}(A^T)^{-1}A^TX^Ty=X_1X^{-1}y\n",
    "$"
   ]
  },
  {
   "cell_type": "markdown",
   "metadata": {},
   "source": [
    "$$\n",
    "a = Xw = XEw = XPP^{-1}w = (XP)P^{-1}w = (XP)w'\n",
    "$$\n",
    "\n",
    "$$\n",
    "w' = ((XP)^T XP)^{-1} (XP)^T y\n",
    "$$\n",
    "$$\n",
    "w' = (P^T (X^T X) P)^{-1} (XP)^T y\n",
    "$$\n",
    "$$\n",
    "w' = (P^T (X^T X) P)^{-1} P^T X^T y\n",
    "$$"
   ]
  },
  {
   "cell_type": "markdown",
   "metadata": {},
   "source": [
    "$$\n",
    "w' = P^{-1}(X^TX)^{-1}(P^T)^{-1}P^TX^Ty\n",
    "$$\n",
    "$$\n",
    "w' = P^{-1}(X^T X)^{-1} X^T y\n",
    "$$"
   ]
  },
  {
   "cell_type": "markdown",
   "metadata": {},
   "source": [
    "## Алгоритм преобразования"
   ]
  },
  {
   "cell_type": "markdown",
   "metadata": {},
   "source": [
    "**Алгоритм**\n",
    "\n",
    "Преобразуем исходные данные с помощью умножения на рандомную матрицу и проверим показатель R2"
   ]
  },
  {
   "cell_type": "markdown",
   "metadata": {},
   "source": [
    "**Обоснование**\n",
    "\n",
    "1. Ищем метрики качества на исходных данных\n",
    "2. Создаём рандомную матрицу и проверяем её на обратимость\n",
    "3. Ищем метрики качества на преобразованных данных\n",
    "4. Сравниваем результаты\n"
   ]
  },
  {
   "cell_type": "markdown",
   "metadata": {},
   "source": [
    "## Проверка алгоритма"
   ]
  },
  {
   "cell_type": "code",
   "execution_count": 65,
   "metadata": {},
   "outputs": [],
   "source": [
    "features = df.drop('Страховые выплаты',axis=1)\n",
    "target = df['Страховые выплаты']\n",
    "\n",
    "features_train, features_test, target_train, target_test = train_test_split(\n",
    "    features, target, test_size=0.25, random_state=123)"
   ]
  },
  {
   "cell_type": "code",
   "execution_count": 66,
   "metadata": {},
   "outputs": [
    {
     "name": "stdout",
     "output_type": "stream",
     "text": [
      "R2 = 0.43018469990932917\n"
     ]
    }
   ],
   "source": [
    "model = LinearRegression()\n",
    "model.fit(features_train, target_train)\n",
    "predictions = model.predict(features_test)\n",
    "print(\"R2 =\", r2_score(target_test, predictions))"
   ]
  },
  {
   "cell_type": "code",
   "execution_count": 67,
   "metadata": {},
   "outputs": [],
   "source": [
    "# Функция для создания рандомной матрицы\n",
    "def generate_invertible_matrix(size):\n",
    "    try:\n",
    "        matrix = np.random.normal(size=(size, size))\n",
    "        # проверим матрицу на обратимость, если нет, пробуем сгенерировать еще раз\n",
    "        # таким образом гарантируем, что матрица стопроцентно будет обратимой\n",
    "        np.linalg.inv(matrix)\n",
    "    except np.linalg.LinAlgError:\n",
    "        matrix = generate_invertible_matrix()\n",
    "    \n",
    "    return matrix"
   ]
  },
  {
   "cell_type": "code",
   "execution_count": 68,
   "metadata": {},
   "outputs": [
    {
     "data": {
      "text/plain": [
       "array([[-0.23306492, -1.82688085, -0.25079012, -0.84715159],\n",
       "       [-0.35777034, -0.47156139,  0.13550397, -0.46403923],\n",
       "       [ 0.39164912,  0.14727591, -0.32701937, -0.35219358],\n",
       "       [ 0.76806697,  0.88269302, -0.37557001,  0.10709493]])"
      ]
     },
     "metadata": {},
     "output_type": "display_data"
    },
    {
     "data": {
      "text/plain": [
       "(4, 4)"
      ]
     },
     "execution_count": 68,
     "metadata": {},
     "output_type": "execute_result"
    }
   ],
   "source": [
    "# создадим рандомную матрицу\n",
    "random_matrix = generate_invertible_matrix(4)\n",
    "display(random_matrix)\n",
    "random_matrix.shape"
   ]
  },
  {
   "cell_type": "markdown",
   "metadata": {},
   "source": [
    "Функцию использовал для создания рандомной матрицы выше. Спасибо за помощь"
   ]
  },
  {
   "cell_type": "code",
   "execution_count": 69,
   "metadata": {},
   "outputs": [
    {
     "data": {
      "text/plain": [
       "(3750, 4)"
      ]
     },
     "metadata": {},
     "output_type": "display_data"
    },
    {
     "data": {
      "text/plain": [
       "(1250, 4)"
      ]
     },
     "metadata": {},
     "output_type": "display_data"
    },
    {
     "data": {
      "text/html": [
       "<div>\n",
       "<style scoped>\n",
       "    .dataframe tbody tr th:only-of-type {\n",
       "        vertical-align: middle;\n",
       "    }\n",
       "\n",
       "    .dataframe tbody tr th {\n",
       "        vertical-align: top;\n",
       "    }\n",
       "\n",
       "    .dataframe thead th {\n",
       "        text-align: right;\n",
       "    }\n",
       "</style>\n",
       "<table border=\"1\" class=\"dataframe\">\n",
       "  <thead>\n",
       "    <tr style=\"text-align: right;\">\n",
       "      <th></th>\n",
       "      <th>0</th>\n",
       "      <th>1</th>\n",
       "      <th>2</th>\n",
       "      <th>3</th>\n",
       "    </tr>\n",
       "  </thead>\n",
       "  <tbody>\n",
       "    <tr>\n",
       "      <th>2648</th>\n",
       "      <td>15381.201916</td>\n",
       "      <td>5772.441000</td>\n",
       "      <td>-12848.182612</td>\n",
       "      <td>-13855.511803</td>\n",
       "    </tr>\n",
       "    <tr>\n",
       "      <th>2456</th>\n",
       "      <td>14793.422996</td>\n",
       "      <td>5550.995147</td>\n",
       "      <td>-12357.622608</td>\n",
       "      <td>-13328.506463</td>\n",
       "    </tr>\n",
       "    <tr>\n",
       "      <th>4557</th>\n",
       "      <td>21137.222969</td>\n",
       "      <td>7935.268874</td>\n",
       "      <td>-17655.243657</td>\n",
       "      <td>-19037.897453</td>\n",
       "    </tr>\n",
       "    <tr>\n",
       "      <th>4884</th>\n",
       "      <td>15732.130335</td>\n",
       "      <td>5904.458390</td>\n",
       "      <td>-13141.571740</td>\n",
       "      <td>-14173.959065</td>\n",
       "    </tr>\n",
       "    <tr>\n",
       "      <th>92</th>\n",
       "      <td>10448.622183</td>\n",
       "      <td>3919.533505</td>\n",
       "      <td>-8728.656073</td>\n",
       "      <td>-9415.909501</td>\n",
       "    </tr>\n",
       "  </tbody>\n",
       "</table>\n",
       "</div>"
      ],
      "text/plain": [
       "                 0            1             2             3\n",
       "2648  15381.201916  5772.441000 -12848.182612 -13855.511803\n",
       "2456  14793.422996  5550.995147 -12357.622608 -13328.506463\n",
       "4557  21137.222969  7935.268874 -17655.243657 -19037.897453\n",
       "4884  15732.130335  5904.458390 -13141.571740 -14173.959065\n",
       "92    10448.622183  3919.533505  -8728.656073  -9415.909501"
      ]
     },
     "metadata": {},
     "output_type": "display_data"
    },
    {
     "data": {
      "text/html": [
       "<div>\n",
       "<style scoped>\n",
       "    .dataframe tbody tr th:only-of-type {\n",
       "        vertical-align: middle;\n",
       "    }\n",
       "\n",
       "    .dataframe tbody tr th {\n",
       "        vertical-align: top;\n",
       "    }\n",
       "\n",
       "    .dataframe thead th {\n",
       "        text-align: right;\n",
       "    }\n",
       "</style>\n",
       "<table border=\"1\" class=\"dataframe\">\n",
       "  <thead>\n",
       "    <tr style=\"text-align: right;\">\n",
       "      <th></th>\n",
       "      <th>0</th>\n",
       "      <th>1</th>\n",
       "      <th>2</th>\n",
       "      <th>3</th>\n",
       "    </tr>\n",
       "  </thead>\n",
       "  <tbody>\n",
       "    <tr>\n",
       "      <th>2413</th>\n",
       "      <td>16674.822368</td>\n",
       "      <td>6259.745319</td>\n",
       "      <td>-13927.962186</td>\n",
       "      <td>-15018.000451</td>\n",
       "    </tr>\n",
       "    <tr>\n",
       "      <th>1471</th>\n",
       "      <td>9741.864920</td>\n",
       "      <td>3652.079065</td>\n",
       "      <td>-8139.343678</td>\n",
       "      <td>-8784.281261</td>\n",
       "    </tr>\n",
       "    <tr>\n",
       "      <th>1196</th>\n",
       "      <td>17850.613274</td>\n",
       "      <td>6704.463904</td>\n",
       "      <td>-14908.831404</td>\n",
       "      <td>-16071.163980</td>\n",
       "    </tr>\n",
       "    <tr>\n",
       "      <th>1509</th>\n",
       "      <td>13808.451171</td>\n",
       "      <td>5176.615716</td>\n",
       "      <td>-11537.519813</td>\n",
       "      <td>-12455.064039</td>\n",
       "    </tr>\n",
       "    <tr>\n",
       "      <th>4110</th>\n",
       "      <td>14636.710823</td>\n",
       "      <td>5492.145214</td>\n",
       "      <td>-12226.710296</td>\n",
       "      <td>-13186.808049</td>\n",
       "    </tr>\n",
       "  </tbody>\n",
       "</table>\n",
       "</div>"
      ],
      "text/plain": [
       "                 0            1             2             3\n",
       "2413  16674.822368  6259.745319 -13927.962186 -15018.000451\n",
       "1471   9741.864920  3652.079065  -8139.343678  -8784.281261\n",
       "1196  17850.613274  6704.463904 -14908.831404 -16071.163980\n",
       "1509  13808.451171  5176.615716 -11537.519813 -12455.064039\n",
       "4110  14636.710823  5492.145214 -12226.710296 -13186.808049"
      ]
     },
     "execution_count": 69,
     "metadata": {},
     "output_type": "execute_result"
    }
   ],
   "source": [
    "# перемножим тестовые и тренировочную выборку на рандомную матрицу\n",
    "features_train_new = features_train @ random_matrix\n",
    "features_test_new = features_test @ random_matrix\n",
    "display(features_train_new.shape)\n",
    "display(features_test_new.shape)\n",
    "display(features_test_new.head(5))\n",
    "features_train_new.head(5)"
   ]
  },
  {
   "cell_type": "code",
   "execution_count": 70,
   "metadata": {},
   "outputs": [
    {
     "name": "stdout",
     "output_type": "stream",
     "text": [
      "R2 = 0.4301846999089898\n"
     ]
    }
   ],
   "source": [
    "model = LinearRegression()\n",
    "model.fit(features_train_new, target_train)\n",
    "predictions = model.predict(features_test_new)\n",
    "print(\"R2 =\", r2_score(target_test, predictions))"
   ]
  },
  {
   "cell_type": "markdown",
   "metadata": {},
   "source": [
    "### Вывод:\n",
    "\n",
    "После умножения данных на рандомную матрицу, показатель R2 не поменялся."
   ]
  },
  {
   "cell_type": "markdown",
   "metadata": {},
   "source": [
    "## Общий вывод:\n",
    "\n",
    "Разработал метод преобразования данных, путем умножения на рандомную матрицу. Данные получились \"не читаемы\", показатель качества R2 показал такой же результат как и на не измененных данных."
   ]
  },
  {
   "cell_type": "code",
   "execution_count": null,
   "metadata": {},
   "outputs": [],
   "source": []
  }
 ],
 "metadata": {
  "ExecuteTimeLog": [
   {
    "duration": 368,
    "start_time": "2022-04-26T18:18:08.278Z"
   },
   {
    "duration": 17,
    "start_time": "2022-04-26T18:18:12.434Z"
   },
   {
    "duration": 11,
    "start_time": "2022-04-26T18:18:30.145Z"
   },
   {
    "duration": 25,
    "start_time": "2022-04-26T18:19:10.531Z"
   },
   {
    "duration": 105,
    "start_time": "2022-04-26T19:33:46.516Z"
   },
   {
    "duration": 405,
    "start_time": "2022-04-27T07:18:56.911Z"
   },
   {
    "duration": 29,
    "start_time": "2022-04-27T07:18:57.318Z"
   },
   {
    "duration": 26,
    "start_time": "2022-04-27T07:18:57.349Z"
   },
   {
    "duration": 418,
    "start_time": "2022-04-27T17:37:42.797Z"
   },
   {
    "duration": 12,
    "start_time": "2022-04-27T17:37:43.217Z"
   },
   {
    "duration": 29,
    "start_time": "2022-04-27T17:37:43.230Z"
   },
   {
    "duration": 517,
    "start_time": "2022-04-28T18:55:54.125Z"
   },
   {
    "duration": 80,
    "start_time": "2022-04-28T18:55:54.644Z"
   },
   {
    "duration": 41,
    "start_time": "2022-04-28T18:55:54.726Z"
   },
   {
    "duration": 3,
    "start_time": "2022-04-28T19:32:57.515Z"
   },
   {
    "duration": 36,
    "start_time": "2022-04-28T19:32:57.522Z"
   },
   {
    "duration": 40,
    "start_time": "2022-04-28T19:32:57.561Z"
   },
   {
    "duration": 1193,
    "start_time": "2022-04-28T19:37:17.434Z"
   },
   {
    "duration": 20,
    "start_time": "2022-04-28T19:37:18.630Z"
   },
   {
    "duration": 143,
    "start_time": "2022-04-28T19:38:23.599Z"
   },
   {
    "duration": 11,
    "start_time": "2022-04-28T19:39:45.459Z"
   },
   {
    "duration": 16,
    "start_time": "2022-04-28T19:40:09.701Z"
   },
   {
    "duration": 12,
    "start_time": "2022-04-28T19:40:26.184Z"
   },
   {
    "duration": 9,
    "start_time": "2022-04-28T19:40:43.453Z"
   },
   {
    "duration": 16,
    "start_time": "2022-04-28T19:40:48.951Z"
   },
   {
    "duration": 14,
    "start_time": "2022-04-28T19:45:50.700Z"
   },
   {
    "duration": 17,
    "start_time": "2022-04-28T19:47:14.007Z"
   },
   {
    "duration": 12,
    "start_time": "2022-04-28T19:48:25.101Z"
   },
   {
    "duration": 11,
    "start_time": "2022-04-28T19:54:24.213Z"
   },
   {
    "duration": 15,
    "start_time": "2022-04-28T19:55:35.529Z"
   },
   {
    "duration": 7,
    "start_time": "2022-04-28T19:56:18.628Z"
   },
   {
    "duration": 10,
    "start_time": "2022-04-28T19:56:27.709Z"
   },
   {
    "duration": 6,
    "start_time": "2022-04-28T19:56:34.481Z"
   },
   {
    "duration": 9,
    "start_time": "2022-04-28T19:57:19.219Z"
   },
   {
    "duration": 25,
    "start_time": "2022-04-28T19:57:36.472Z"
   },
   {
    "duration": 6,
    "start_time": "2022-04-28T19:58:39.257Z"
   },
   {
    "duration": 17,
    "start_time": "2022-04-28T19:58:44.223Z"
   },
   {
    "duration": 7,
    "start_time": "2022-04-28T19:58:51.120Z"
   },
   {
    "duration": 17,
    "start_time": "2022-04-28T19:58:57.132Z"
   },
   {
    "duration": 13,
    "start_time": "2022-04-28T19:59:17.641Z"
   },
   {
    "duration": 1566,
    "start_time": "2022-04-29T11:59:35.927Z"
   },
   {
    "duration": 14,
    "start_time": "2022-04-29T11:59:37.497Z"
   },
   {
    "duration": 49,
    "start_time": "2022-04-29T11:59:37.514Z"
   },
   {
    "duration": 9,
    "start_time": "2022-04-29T11:59:37.566Z"
   },
   {
    "duration": 17,
    "start_time": "2022-04-29T11:59:37.577Z"
   },
   {
    "duration": 17,
    "start_time": "2022-04-29T11:59:37.626Z"
   },
   {
    "duration": 13,
    "start_time": "2022-04-29T11:59:37.646Z"
   },
   {
    "duration": 8,
    "start_time": "2022-04-29T11:59:37.662Z"
   },
   {
    "duration": 69,
    "start_time": "2022-04-29T11:59:37.672Z"
   },
   {
    "duration": 6,
    "start_time": "2022-04-29T11:59:37.744Z"
   },
   {
    "duration": 17,
    "start_time": "2022-04-29T11:59:37.753Z"
   },
   {
    "duration": 1604,
    "start_time": "2022-04-29T14:26:03.880Z"
   },
   {
    "duration": 16,
    "start_time": "2022-04-29T14:26:05.486Z"
   },
   {
    "duration": 46,
    "start_time": "2022-04-29T14:26:05.504Z"
   },
   {
    "duration": 9,
    "start_time": "2022-04-29T14:26:05.553Z"
   },
   {
    "duration": 22,
    "start_time": "2022-04-29T14:26:05.564Z"
   },
   {
    "duration": 42,
    "start_time": "2022-04-29T14:26:05.588Z"
   },
   {
    "duration": 11,
    "start_time": "2022-04-29T14:26:05.632Z"
   },
   {
    "duration": 20,
    "start_time": "2022-04-29T14:26:05.645Z"
   },
   {
    "duration": 43,
    "start_time": "2022-04-29T14:26:05.668Z"
   },
   {
    "duration": 6,
    "start_time": "2022-04-29T14:26:05.724Z"
   },
   {
    "duration": 15,
    "start_time": "2022-04-29T14:26:05.733Z"
   },
   {
    "duration": 1127,
    "start_time": "2022-04-29T17:19:25.659Z"
   },
   {
    "duration": 17,
    "start_time": "2022-04-29T17:19:26.788Z"
   },
   {
    "duration": 25,
    "start_time": "2022-04-29T17:19:26.806Z"
   },
   {
    "duration": 6,
    "start_time": "2022-04-29T17:19:26.832Z"
   },
   {
    "duration": 13,
    "start_time": "2022-04-29T17:19:26.839Z"
   },
   {
    "duration": 18,
    "start_time": "2022-04-29T17:19:26.853Z"
   },
   {
    "duration": 7,
    "start_time": "2022-04-29T17:19:26.873Z"
   },
   {
    "duration": 4,
    "start_time": "2022-04-29T17:19:26.881Z"
   },
   {
    "duration": 37,
    "start_time": "2022-04-29T17:19:26.886Z"
   },
   {
    "duration": 4,
    "start_time": "2022-04-29T17:19:26.925Z"
   },
   {
    "duration": 9,
    "start_time": "2022-04-29T17:19:26.931Z"
   },
   {
    "duration": 8,
    "start_time": "2022-04-29T17:23:08.591Z"
   },
   {
    "duration": 7,
    "start_time": "2022-04-29T17:24:28.164Z"
   },
   {
    "duration": 9,
    "start_time": "2022-04-29T17:24:28.172Z"
   },
   {
    "duration": 2,
    "start_time": "2022-04-29T17:24:37.588Z"
   },
   {
    "duration": 20,
    "start_time": "2022-04-29T17:24:37.592Z"
   },
   {
    "duration": 18,
    "start_time": "2022-04-29T17:24:37.613Z"
   },
   {
    "duration": 6,
    "start_time": "2022-04-29T17:24:37.633Z"
   },
   {
    "duration": 11,
    "start_time": "2022-04-29T17:24:37.640Z"
   },
   {
    "duration": 7,
    "start_time": "2022-04-29T17:24:39.774Z"
   },
   {
    "duration": 12,
    "start_time": "2022-04-29T17:25:44.816Z"
   },
   {
    "duration": 4,
    "start_time": "2022-04-29T17:25:51.688Z"
   },
   {
    "duration": 86,
    "start_time": "2022-04-29T17:28:39.342Z"
   },
   {
    "duration": 3,
    "start_time": "2022-04-29T17:31:11.440Z"
   },
   {
    "duration": 25,
    "start_time": "2022-04-29T17:31:11.445Z"
   },
   {
    "duration": 18,
    "start_time": "2022-04-29T17:31:11.471Z"
   },
   {
    "duration": 6,
    "start_time": "2022-04-29T17:31:11.490Z"
   },
   {
    "duration": 7,
    "start_time": "2022-04-29T17:31:11.498Z"
   },
   {
    "duration": 2,
    "start_time": "2022-04-29T17:31:11.507Z"
   },
   {
    "duration": 10,
    "start_time": "2022-04-29T17:31:15.405Z"
   },
   {
    "duration": 2,
    "start_time": "2022-04-29T17:31:16.850Z"
   },
   {
    "duration": 3,
    "start_time": "2022-04-29T17:46:29.006Z"
   },
   {
    "duration": 11,
    "start_time": "2022-04-29T17:47:36.583Z"
   },
   {
    "duration": 3,
    "start_time": "2022-04-29T17:47:51.813Z"
   },
   {
    "duration": 3,
    "start_time": "2022-04-29T17:47:52.278Z"
   },
   {
    "duration": 4,
    "start_time": "2022-04-29T17:48:00.734Z"
   },
   {
    "duration": 4,
    "start_time": "2022-04-29T17:48:07.861Z"
   },
   {
    "duration": 4,
    "start_time": "2022-04-29T17:48:15.061Z"
   },
   {
    "duration": 3,
    "start_time": "2022-04-29T17:48:24.511Z"
   },
   {
    "duration": 3,
    "start_time": "2022-04-29T17:48:28.397Z"
   },
   {
    "duration": 4,
    "start_time": "2022-04-29T17:48:37.279Z"
   },
   {
    "duration": 3,
    "start_time": "2022-04-29T17:48:40.635Z"
   },
   {
    "duration": 26,
    "start_time": "2022-04-29T17:48:40.640Z"
   },
   {
    "duration": 18,
    "start_time": "2022-04-29T17:48:40.667Z"
   },
   {
    "duration": 5,
    "start_time": "2022-04-29T17:48:40.687Z"
   },
   {
    "duration": 11,
    "start_time": "2022-04-29T17:48:40.694Z"
   },
   {
    "duration": 2,
    "start_time": "2022-04-29T17:48:40.707Z"
   },
   {
    "duration": 7,
    "start_time": "2022-04-29T17:48:40.711Z"
   },
   {
    "duration": 10,
    "start_time": "2022-04-29T17:48:40.719Z"
   },
   {
    "duration": 3,
    "start_time": "2022-04-29T17:48:44.789Z"
   },
   {
    "duration": 4,
    "start_time": "2022-04-29T17:48:46.286Z"
   },
   {
    "duration": 144,
    "start_time": "2022-04-29T17:50:03.980Z"
   },
   {
    "duration": 4,
    "start_time": "2022-04-29T17:53:03.132Z"
   },
   {
    "duration": 3,
    "start_time": "2022-04-29T17:53:10.803Z"
   },
   {
    "duration": 6,
    "start_time": "2022-04-29T17:58:17.866Z"
   },
   {
    "duration": 3,
    "start_time": "2022-04-29T18:01:24.521Z"
   },
   {
    "duration": 4,
    "start_time": "2022-04-29T18:01:28.439Z"
   },
   {
    "duration": 21,
    "start_time": "2022-04-29T18:01:28.445Z"
   },
   {
    "duration": 19,
    "start_time": "2022-04-29T18:01:28.467Z"
   },
   {
    "duration": 7,
    "start_time": "2022-04-29T18:01:28.488Z"
   },
   {
    "duration": 9,
    "start_time": "2022-04-29T18:01:28.497Z"
   },
   {
    "duration": 2,
    "start_time": "2022-04-29T18:01:28.508Z"
   },
   {
    "duration": 3,
    "start_time": "2022-04-29T18:01:31.160Z"
   },
   {
    "duration": 4,
    "start_time": "2022-04-29T18:01:32.554Z"
   },
   {
    "duration": 3,
    "start_time": "2022-04-29T18:01:34.208Z"
   },
   {
    "duration": 5,
    "start_time": "2022-04-29T18:01:35.864Z"
   },
   {
    "duration": 3,
    "start_time": "2022-04-29T18:01:36.898Z"
   },
   {
    "duration": 12,
    "start_time": "2022-04-29T18:02:04.633Z"
   },
   {
    "duration": 12,
    "start_time": "2022-04-29T18:02:11.104Z"
   },
   {
    "duration": 4,
    "start_time": "2022-04-29T18:02:23.823Z"
   },
   {
    "duration": 3,
    "start_time": "2022-04-29T18:03:44.810Z"
   },
   {
    "duration": 3,
    "start_time": "2022-04-29T18:03:46.127Z"
   },
   {
    "duration": 3,
    "start_time": "2022-04-29T18:03:47.518Z"
   },
   {
    "duration": 4,
    "start_time": "2022-04-29T18:03:48.190Z"
   },
   {
    "duration": 6,
    "start_time": "2022-04-29T18:04:09.198Z"
   },
   {
    "duration": 9,
    "start_time": "2022-04-29T18:04:09.543Z"
   },
   {
    "duration": 11,
    "start_time": "2022-04-29T18:04:13.462Z"
   },
   {
    "duration": 3,
    "start_time": "2022-04-29T18:04:14.630Z"
   },
   {
    "duration": 4,
    "start_time": "2022-04-29T18:04:15.693Z"
   },
   {
    "duration": 4,
    "start_time": "2022-04-29T18:04:22.014Z"
   },
   {
    "duration": 4,
    "start_time": "2022-04-29T18:04:23.062Z"
   },
   {
    "duration": 4,
    "start_time": "2022-04-29T18:04:30.566Z"
   },
   {
    "duration": 9,
    "start_time": "2022-04-29T18:04:39.982Z"
   },
   {
    "duration": 9,
    "start_time": "2022-04-29T18:04:53.979Z"
   },
   {
    "duration": 3,
    "start_time": "2022-04-29T18:05:08.934Z"
   },
   {
    "duration": 4,
    "start_time": "2022-04-29T18:05:11.639Z"
   },
   {
    "duration": 9,
    "start_time": "2022-04-29T18:05:38.407Z"
   },
   {
    "duration": 10,
    "start_time": "2022-04-29T18:05:42.558Z"
   },
   {
    "duration": 4,
    "start_time": "2022-04-29T18:05:49.661Z"
   },
   {
    "duration": 3,
    "start_time": "2022-04-29T18:05:51.925Z"
   },
   {
    "duration": 3,
    "start_time": "2022-04-29T18:07:08.397Z"
   },
   {
    "duration": 10,
    "start_time": "2022-04-29T18:07:12.068Z"
   },
   {
    "duration": 10,
    "start_time": "2022-04-29T18:07:17.644Z"
   },
   {
    "duration": 3,
    "start_time": "2022-04-29T18:07:34.480Z"
   },
   {
    "duration": 4,
    "start_time": "2022-04-29T18:07:36.677Z"
   },
   {
    "duration": 3,
    "start_time": "2022-04-29T18:08:04.679Z"
   },
   {
    "duration": 36,
    "start_time": "2022-04-29T18:08:04.685Z"
   },
   {
    "duration": 19,
    "start_time": "2022-04-29T18:08:04.722Z"
   },
   {
    "duration": 6,
    "start_time": "2022-04-29T18:08:04.742Z"
   },
   {
    "duration": 11,
    "start_time": "2022-04-29T18:08:04.750Z"
   },
   {
    "duration": 11,
    "start_time": "2022-04-29T18:08:04.763Z"
   },
   {
    "duration": 12,
    "start_time": "2022-04-29T18:08:07.832Z"
   },
   {
    "duration": 4,
    "start_time": "2022-04-29T18:08:13.322Z"
   },
   {
    "duration": 5,
    "start_time": "2022-04-29T18:08:18.547Z"
   },
   {
    "duration": 4,
    "start_time": "2022-04-29T18:08:29.040Z"
   },
   {
    "duration": 4,
    "start_time": "2022-04-29T18:08:48.459Z"
   },
   {
    "duration": 4,
    "start_time": "2022-04-29T18:08:55.863Z"
   },
   {
    "duration": 13,
    "start_time": "2022-04-29T18:10:23.110Z"
   },
   {
    "duration": 10,
    "start_time": "2022-04-29T18:10:43.671Z"
   },
   {
    "duration": 11,
    "start_time": "2022-04-29T18:11:12.980Z"
   },
   {
    "duration": 11,
    "start_time": "2022-04-29T18:11:33.532Z"
   },
   {
    "duration": 11,
    "start_time": "2022-04-29T18:11:44.251Z"
   },
   {
    "duration": 17,
    "start_time": "2022-04-29T18:12:13.714Z"
   },
   {
    "duration": 7,
    "start_time": "2022-04-29T18:13:22.827Z"
   },
   {
    "duration": 6,
    "start_time": "2022-04-29T18:13:31.178Z"
   },
   {
    "duration": 3,
    "start_time": "2022-04-29T18:13:33.350Z"
   },
   {
    "duration": 28,
    "start_time": "2022-04-29T18:13:33.355Z"
   },
   {
    "duration": 18,
    "start_time": "2022-04-29T18:13:33.385Z"
   },
   {
    "duration": 6,
    "start_time": "2022-04-29T18:13:33.405Z"
   },
   {
    "duration": 12,
    "start_time": "2022-04-29T18:13:33.413Z"
   },
   {
    "duration": 10,
    "start_time": "2022-04-29T18:13:33.427Z"
   },
   {
    "duration": 4,
    "start_time": "2022-04-29T18:13:33.439Z"
   },
   {
    "duration": 7,
    "start_time": "2022-04-29T18:13:33.445Z"
   },
   {
    "duration": 4,
    "start_time": "2022-04-29T18:13:33.454Z"
   },
   {
    "duration": 9,
    "start_time": "2022-04-29T18:13:33.459Z"
   },
   {
    "duration": 20,
    "start_time": "2022-04-29T18:13:33.470Z"
   },
   {
    "duration": 19,
    "start_time": "2022-04-29T18:13:33.492Z"
   },
   {
    "duration": 15,
    "start_time": "2022-04-29T18:13:33.513Z"
   },
   {
    "duration": 7,
    "start_time": "2022-04-29T18:13:39.219Z"
   },
   {
    "duration": 16,
    "start_time": "2022-04-29T18:26:37.772Z"
   },
   {
    "duration": 10,
    "start_time": "2022-04-29T18:27:36.048Z"
   },
   {
    "duration": 9,
    "start_time": "2022-04-29T18:28:22.851Z"
   },
   {
    "duration": 3,
    "start_time": "2022-04-29T18:28:39.659Z"
   },
   {
    "duration": 4,
    "start_time": "2022-04-29T18:28:45.808Z"
   },
   {
    "duration": 4,
    "start_time": "2022-04-29T18:28:46.747Z"
   },
   {
    "duration": 4,
    "start_time": "2022-04-29T18:28:47.644Z"
   },
   {
    "duration": 20,
    "start_time": "2022-04-29T18:28:52.331Z"
   },
   {
    "duration": 4,
    "start_time": "2022-04-29T18:29:02.005Z"
   },
   {
    "duration": 4,
    "start_time": "2022-04-29T18:29:02.948Z"
   },
   {
    "duration": 3,
    "start_time": "2022-04-29T18:29:03.396Z"
   },
   {
    "duration": 3,
    "start_time": "2022-04-29T18:29:03.852Z"
   },
   {
    "duration": 12,
    "start_time": "2022-04-29T18:29:42.498Z"
   },
   {
    "duration": 3,
    "start_time": "2022-04-29T18:30:13.973Z"
   },
   {
    "duration": 30,
    "start_time": "2022-04-29T18:30:13.978Z"
   },
   {
    "duration": 19,
    "start_time": "2022-04-29T18:30:14.009Z"
   },
   {
    "duration": 6,
    "start_time": "2022-04-29T18:30:14.029Z"
   },
   {
    "duration": 16,
    "start_time": "2022-04-29T18:30:14.037Z"
   },
   {
    "duration": 11,
    "start_time": "2022-04-29T18:30:14.054Z"
   },
   {
    "duration": 12,
    "start_time": "2022-04-29T18:30:16.603Z"
   },
   {
    "duration": 2,
    "start_time": "2022-04-29T18:30:25.231Z"
   },
   {
    "duration": 3,
    "start_time": "2022-04-29T18:30:26.379Z"
   },
   {
    "duration": 2,
    "start_time": "2022-04-29T18:30:30.083Z"
   },
   {
    "duration": 4,
    "start_time": "2022-04-29T18:30:35.388Z"
   },
   {
    "duration": 3,
    "start_time": "2022-04-29T18:30:52.260Z"
   },
   {
    "duration": 10,
    "start_time": "2022-04-29T18:30:53.739Z"
   },
   {
    "duration": 9,
    "start_time": "2022-04-29T18:30:57.875Z"
   },
   {
    "duration": 7,
    "start_time": "2022-04-29T18:31:02.691Z"
   },
   {
    "duration": 11,
    "start_time": "2022-04-29T18:31:36.851Z"
   },
   {
    "duration": 10,
    "start_time": "2022-04-29T18:31:54.001Z"
   },
   {
    "duration": 4,
    "start_time": "2022-04-29T18:32:03.487Z"
   },
   {
    "duration": 17,
    "start_time": "2022-04-29T18:32:11.970Z"
   },
   {
    "duration": 6,
    "start_time": "2022-04-29T18:32:23.587Z"
   },
   {
    "duration": 8,
    "start_time": "2022-04-29T18:32:25.897Z"
   },
   {
    "duration": 8,
    "start_time": "2022-04-29T18:34:26.416Z"
   },
   {
    "duration": 3,
    "start_time": "2022-04-29T18:34:37.392Z"
   },
   {
    "duration": 4,
    "start_time": "2022-04-29T18:34:38.530Z"
   },
   {
    "duration": 8,
    "start_time": "2022-04-29T18:34:40.417Z"
   },
   {
    "duration": 6,
    "start_time": "2022-04-29T18:34:49.561Z"
   },
   {
    "duration": 8,
    "start_time": "2022-04-29T18:34:55.929Z"
   },
   {
    "duration": 7,
    "start_time": "2022-04-29T18:35:03.563Z"
   },
   {
    "duration": 15,
    "start_time": "2022-04-29T18:35:07.694Z"
   },
   {
    "duration": 13,
    "start_time": "2022-04-29T18:35:24.873Z"
   },
   {
    "duration": 1202,
    "start_time": "2022-05-04T12:57:39.655Z"
   },
   {
    "duration": 17,
    "start_time": "2022-05-04T12:57:40.861Z"
   },
   {
    "duration": 26,
    "start_time": "2022-05-04T12:57:40.880Z"
   },
   {
    "duration": 7,
    "start_time": "2022-05-04T12:57:40.907Z"
   },
   {
    "duration": 28,
    "start_time": "2022-05-04T12:57:40.916Z"
   },
   {
    "duration": 22,
    "start_time": "2022-05-04T12:57:40.949Z"
   },
   {
    "duration": 4,
    "start_time": "2022-05-04T12:57:40.973Z"
   },
   {
    "duration": 7,
    "start_time": "2022-05-04T12:57:40.979Z"
   },
   {
    "duration": 4,
    "start_time": "2022-05-04T12:57:40.988Z"
   },
   {
    "duration": 7,
    "start_time": "2022-05-04T12:57:40.994Z"
   },
   {
    "duration": 12,
    "start_time": "2022-05-04T12:57:41.002Z"
   },
   {
    "duration": 27,
    "start_time": "2022-05-04T12:57:41.016Z"
   },
   {
    "duration": 21,
    "start_time": "2022-05-04T12:57:41.051Z"
   },
   {
    "duration": 12,
    "start_time": "2022-05-04T12:57:41.075Z"
   },
   {
    "duration": 4,
    "start_time": "2022-05-04T12:57:41.088Z"
   },
   {
    "duration": 6,
    "start_time": "2022-05-04T12:57:41.094Z"
   },
   {
    "duration": 8,
    "start_time": "2022-05-04T12:57:41.101Z"
   },
   {
    "duration": 10,
    "start_time": "2022-05-04T12:57:41.110Z"
   },
   {
    "duration": 146,
    "start_time": "2022-05-04T12:57:41.121Z"
   },
   {
    "duration": 0,
    "start_time": "2022-05-04T12:57:41.269Z"
   },
   {
    "duration": 0,
    "start_time": "2022-05-04T12:57:41.270Z"
   },
   {
    "duration": 0,
    "start_time": "2022-05-04T12:57:41.272Z"
   },
   {
    "duration": 0,
    "start_time": "2022-05-04T12:57:41.273Z"
   },
   {
    "duration": 0,
    "start_time": "2022-05-04T12:57:41.273Z"
   },
   {
    "duration": 0,
    "start_time": "2022-05-04T12:57:41.274Z"
   },
   {
    "duration": 7,
    "start_time": "2022-05-04T13:02:25.383Z"
   },
   {
    "duration": 9,
    "start_time": "2022-05-04T13:02:25.887Z"
   },
   {
    "duration": 4,
    "start_time": "2022-05-04T13:05:29.806Z"
   },
   {
    "duration": 7,
    "start_time": "2022-05-04T13:06:01.727Z"
   },
   {
    "duration": 12,
    "start_time": "2022-05-04T13:07:14.042Z"
   },
   {
    "duration": 21,
    "start_time": "2022-05-04T13:07:24.984Z"
   },
   {
    "duration": 16,
    "start_time": "2022-05-04T13:07:32.786Z"
   },
   {
    "duration": 29,
    "start_time": "2022-05-04T13:08:09.203Z"
   },
   {
    "duration": 10,
    "start_time": "2022-05-04T13:08:20.316Z"
   },
   {
    "duration": 3,
    "start_time": "2022-05-04T13:08:46.129Z"
   },
   {
    "duration": 49,
    "start_time": "2022-05-04T13:08:46.135Z"
   },
   {
    "duration": 25,
    "start_time": "2022-05-04T13:08:46.186Z"
   },
   {
    "duration": 8,
    "start_time": "2022-05-04T13:08:46.213Z"
   },
   {
    "duration": 52,
    "start_time": "2022-05-04T13:08:46.223Z"
   },
   {
    "duration": 18,
    "start_time": "2022-05-04T13:08:46.277Z"
   },
   {
    "duration": 11,
    "start_time": "2022-05-04T13:08:46.297Z"
   },
   {
    "duration": 34,
    "start_time": "2022-05-04T13:08:46.310Z"
   },
   {
    "duration": 10,
    "start_time": "2022-05-04T13:08:46.346Z"
   },
   {
    "duration": 8,
    "start_time": "2022-05-04T13:11:16.298Z"
   },
   {
    "duration": 8,
    "start_time": "2022-05-04T13:11:18.699Z"
   },
   {
    "duration": 22,
    "start_time": "2022-05-04T13:11:22.438Z"
   },
   {
    "duration": 11,
    "start_time": "2022-05-04T13:11:23.158Z"
   },
   {
    "duration": 1227,
    "start_time": "2022-05-04T15:44:19.849Z"
   },
   {
    "duration": 28,
    "start_time": "2022-05-04T15:44:21.078Z"
   },
   {
    "duration": 27,
    "start_time": "2022-05-04T15:44:21.108Z"
   },
   {
    "duration": 7,
    "start_time": "2022-05-04T15:44:21.137Z"
   },
   {
    "duration": 29,
    "start_time": "2022-05-04T15:44:21.145Z"
   },
   {
    "duration": 11,
    "start_time": "2022-05-04T15:44:21.177Z"
   },
   {
    "duration": 33,
    "start_time": "2022-05-04T15:44:21.189Z"
   },
   {
    "duration": 13,
    "start_time": "2022-05-04T15:44:21.224Z"
   },
   {
    "duration": 1580,
    "start_time": "2022-05-05T08:08:31.144Z"
   },
   {
    "duration": 18,
    "start_time": "2022-05-05T08:08:32.727Z"
   },
   {
    "duration": 39,
    "start_time": "2022-05-05T08:08:32.747Z"
   },
   {
    "duration": 8,
    "start_time": "2022-05-05T08:08:32.789Z"
   },
   {
    "duration": 13,
    "start_time": "2022-05-05T08:08:32.799Z"
   },
   {
    "duration": 43,
    "start_time": "2022-05-05T08:08:32.815Z"
   },
   {
    "duration": 26,
    "start_time": "2022-05-05T08:08:32.862Z"
   },
   {
    "duration": 11,
    "start_time": "2022-05-05T08:08:32.891Z"
   },
   {
    "duration": 5,
    "start_time": "2022-05-05T08:19:40.641Z"
   },
   {
    "duration": 28,
    "start_time": "2022-05-05T08:19:40.648Z"
   },
   {
    "duration": 35,
    "start_time": "2022-05-05T08:19:40.680Z"
   },
   {
    "duration": 9,
    "start_time": "2022-05-05T08:19:40.796Z"
   },
   {
    "duration": 12,
    "start_time": "2022-05-05T08:19:40.812Z"
   },
   {
    "duration": 8,
    "start_time": "2022-05-05T08:19:40.826Z"
   },
   {
    "duration": 37,
    "start_time": "2022-05-05T08:19:40.836Z"
   },
   {
    "duration": 14,
    "start_time": "2022-05-05T08:19:40.876Z"
   },
   {
    "duration": 84625,
    "start_time": "2022-05-06T05:29:47.311Z"
   },
   {
    "duration": 15,
    "start_time": "2022-05-06T05:31:11.938Z"
   },
   {
    "duration": 40,
    "start_time": "2022-05-06T05:31:11.955Z"
   },
   {
    "duration": 12,
    "start_time": "2022-05-06T10:22:31.057Z"
   },
   {
    "duration": 4,
    "start_time": "2022-05-06T10:35:16.543Z"
   },
   {
    "duration": 122,
    "start_time": "2022-05-06T10:35:43.474Z"
   },
   {
    "duration": 2149,
    "start_time": "2022-05-06T10:35:56.861Z"
   },
   {
    "duration": 21,
    "start_time": "2022-05-06T10:35:59.014Z"
   },
   {
    "duration": 88,
    "start_time": "2022-05-06T10:35:59.038Z"
   },
   {
    "duration": 13,
    "start_time": "2022-05-06T10:35:59.130Z"
   },
   {
    "duration": 21,
    "start_time": "2022-05-06T10:35:59.146Z"
   },
   {
    "duration": 10,
    "start_time": "2022-05-06T10:35:59.170Z"
   },
   {
    "duration": 42,
    "start_time": "2022-05-06T10:35:59.183Z"
   },
   {
    "duration": 12,
    "start_time": "2022-05-06T10:35:59.228Z"
   },
   {
    "duration": 199,
    "start_time": "2022-05-06T10:35:59.243Z"
   },
   {
    "duration": 15,
    "start_time": "2022-05-06T10:35:59.445Z"
   },
   {
    "duration": 11,
    "start_time": "2022-05-06T11:10:03.821Z"
   },
   {
    "duration": 11,
    "start_time": "2022-05-06T11:10:11.353Z"
   },
   {
    "duration": 5,
    "start_time": "2022-05-06T11:11:25.763Z"
   },
   {
    "duration": 27,
    "start_time": "2022-05-06T11:11:25.771Z"
   },
   {
    "duration": 36,
    "start_time": "2022-05-06T11:11:25.801Z"
   },
   {
    "duration": 10,
    "start_time": "2022-05-06T11:11:25.839Z"
   },
   {
    "duration": 14,
    "start_time": "2022-05-06T11:11:25.853Z"
   },
   {
    "duration": 98,
    "start_time": "2022-05-06T11:11:25.870Z"
   },
   {
    "duration": 0,
    "start_time": "2022-05-06T11:11:25.972Z"
   },
   {
    "duration": 0,
    "start_time": "2022-05-06T11:11:25.973Z"
   },
   {
    "duration": 1,
    "start_time": "2022-05-06T11:11:25.975Z"
   },
   {
    "duration": 0,
    "start_time": "2022-05-06T11:11:25.977Z"
   },
   {
    "duration": 0,
    "start_time": "2022-05-06T11:11:25.980Z"
   },
   {
    "duration": 1177,
    "start_time": "2022-05-06T13:59:39.088Z"
   },
   {
    "duration": 38,
    "start_time": "2022-05-06T13:59:40.267Z"
   },
   {
    "duration": 33,
    "start_time": "2022-05-06T13:59:40.307Z"
   },
   {
    "duration": 7,
    "start_time": "2022-05-06T13:59:40.341Z"
   },
   {
    "duration": 11,
    "start_time": "2022-05-06T13:59:40.350Z"
   },
   {
    "duration": 136,
    "start_time": "2022-05-06T13:59:40.363Z"
   },
   {
    "duration": 0,
    "start_time": "2022-05-06T13:59:40.502Z"
   },
   {
    "duration": 0,
    "start_time": "2022-05-06T13:59:40.503Z"
   },
   {
    "duration": 0,
    "start_time": "2022-05-06T13:59:40.504Z"
   },
   {
    "duration": 0,
    "start_time": "2022-05-06T13:59:40.505Z"
   },
   {
    "duration": 0,
    "start_time": "2022-05-06T13:59:40.506Z"
   },
   {
    "duration": 3,
    "start_time": "2022-05-06T14:00:26.217Z"
   },
   {
    "duration": 5,
    "start_time": "2022-05-06T14:00:28.983Z"
   },
   {
    "duration": 36,
    "start_time": "2022-05-06T14:00:28.990Z"
   },
   {
    "duration": 18,
    "start_time": "2022-05-06T14:00:29.027Z"
   },
   {
    "duration": 6,
    "start_time": "2022-05-06T14:00:29.047Z"
   },
   {
    "duration": 9,
    "start_time": "2022-05-06T14:00:29.054Z"
   },
   {
    "duration": 4,
    "start_time": "2022-05-06T14:00:29.065Z"
   },
   {
    "duration": 34,
    "start_time": "2022-05-06T14:00:29.070Z"
   },
   {
    "duration": 14,
    "start_time": "2022-05-06T14:00:29.105Z"
   },
   {
    "duration": 62,
    "start_time": "2022-05-06T14:00:29.122Z"
   },
   {
    "duration": 107,
    "start_time": "2022-05-06T14:00:29.185Z"
   },
   {
    "duration": 25,
    "start_time": "2022-05-06T14:00:29.294Z"
   },
   {
    "duration": 3,
    "start_time": "2022-05-06T14:00:33.885Z"
   },
   {
    "duration": 31,
    "start_time": "2022-05-06T14:00:33.890Z"
   },
   {
    "duration": 18,
    "start_time": "2022-05-06T14:00:33.923Z"
   },
   {
    "duration": 6,
    "start_time": "2022-05-06T14:00:33.942Z"
   },
   {
    "duration": 10,
    "start_time": "2022-05-06T14:00:33.950Z"
   },
   {
    "duration": 10,
    "start_time": "2022-05-06T14:00:33.962Z"
   },
   {
    "duration": 30,
    "start_time": "2022-05-06T14:00:33.977Z"
   },
   {
    "duration": 9,
    "start_time": "2022-05-06T14:00:34.010Z"
   },
   {
    "duration": 4,
    "start_time": "2022-05-06T14:00:34.022Z"
   },
   {
    "duration": 111,
    "start_time": "2022-05-06T14:00:34.083Z"
   },
   {
    "duration": 22,
    "start_time": "2022-05-06T14:00:34.195Z"
   },
   {
    "duration": 3,
    "start_time": "2022-05-06T14:00:37.931Z"
   },
   {
    "duration": 25,
    "start_time": "2022-05-06T14:00:37.936Z"
   },
   {
    "duration": 28,
    "start_time": "2022-05-06T14:00:37.963Z"
   },
   {
    "duration": 28,
    "start_time": "2022-05-06T14:00:37.993Z"
   },
   {
    "duration": 11,
    "start_time": "2022-05-06T14:00:38.023Z"
   },
   {
    "duration": 16,
    "start_time": "2022-05-06T14:00:38.035Z"
   },
   {
    "duration": 11,
    "start_time": "2022-05-06T14:00:38.053Z"
   },
   {
    "duration": 116,
    "start_time": "2022-05-06T14:00:38.067Z"
   },
   {
    "duration": 91,
    "start_time": "2022-05-06T14:00:38.186Z"
   },
   {
    "duration": 48,
    "start_time": "2022-05-06T14:00:38.279Z"
   },
   {
    "duration": 9,
    "start_time": "2022-05-06T14:00:38.328Z"
   },
   {
    "duration": 3,
    "start_time": "2022-05-06T14:00:41.449Z"
   },
   {
    "duration": 15,
    "start_time": "2022-05-06T14:00:41.454Z"
   },
   {
    "duration": 27,
    "start_time": "2022-05-06T14:00:41.471Z"
   },
   {
    "duration": 15,
    "start_time": "2022-05-06T14:00:41.500Z"
   },
   {
    "duration": 11,
    "start_time": "2022-05-06T14:00:41.517Z"
   },
   {
    "duration": 3,
    "start_time": "2022-05-06T14:00:41.530Z"
   },
   {
    "duration": 17,
    "start_time": "2022-05-06T14:00:41.535Z"
   },
   {
    "duration": 129,
    "start_time": "2022-05-06T14:00:41.553Z"
   },
   {
    "duration": 8,
    "start_time": "2022-05-06T14:00:41.689Z"
   },
   {
    "duration": 106,
    "start_time": "2022-05-06T14:00:41.704Z"
   },
   {
    "duration": 11,
    "start_time": "2022-05-06T14:00:41.812Z"
   },
   {
    "duration": 11,
    "start_time": "2022-05-06T14:00:47.298Z"
   },
   {
    "duration": 3,
    "start_time": "2022-05-06T14:02:14.237Z"
   },
   {
    "duration": 20,
    "start_time": "2022-05-06T14:02:14.241Z"
   },
   {
    "duration": 35,
    "start_time": "2022-05-06T14:02:14.262Z"
   },
   {
    "duration": 12,
    "start_time": "2022-05-06T14:02:14.301Z"
   },
   {
    "duration": 10,
    "start_time": "2022-05-06T14:02:14.315Z"
   },
   {
    "duration": 3,
    "start_time": "2022-05-06T14:02:14.327Z"
   },
   {
    "duration": 15,
    "start_time": "2022-05-06T14:02:14.331Z"
   },
   {
    "duration": 146,
    "start_time": "2022-05-06T14:02:14.347Z"
   },
   {
    "duration": 18,
    "start_time": "2022-05-06T14:02:14.500Z"
   },
   {
    "duration": 3,
    "start_time": "2022-05-06T14:22:09.998Z"
   },
   {
    "duration": 20,
    "start_time": "2022-05-06T14:22:10.004Z"
   },
   {
    "duration": 20,
    "start_time": "2022-05-06T14:22:10.025Z"
   },
   {
    "duration": 6,
    "start_time": "2022-05-06T14:22:10.099Z"
   },
   {
    "duration": 13,
    "start_time": "2022-05-06T14:22:10.107Z"
   },
   {
    "duration": 4,
    "start_time": "2022-05-06T14:22:10.122Z"
   },
   {
    "duration": 10,
    "start_time": "2022-05-06T14:22:10.128Z"
   },
   {
    "duration": 56,
    "start_time": "2022-05-06T14:22:10.141Z"
   },
   {
    "duration": 9,
    "start_time": "2022-05-06T14:22:10.274Z"
   }
  ],
  "kernelspec": {
   "display_name": "Python 3 (ipykernel)",
   "language": "python",
   "name": "python3"
  },
  "language_info": {
   "codemirror_mode": {
    "name": "ipython",
    "version": 3
   },
   "file_extension": ".py",
   "mimetype": "text/x-python",
   "name": "python",
   "nbconvert_exporter": "python",
   "pygments_lexer": "ipython3",
   "version": "3.9.7"
  },
  "toc": {
   "base_numbering": 1,
   "nav_menu": {},
   "number_sections": true,
   "sideBar": true,
   "skip_h1_title": true,
   "title_cell": "Содержание",
   "title_sidebar": "Contents",
   "toc_cell": true,
   "toc_position": {},
   "toc_section_display": true,
   "toc_window_display": true
  }
 },
 "nbformat": 4,
 "nbformat_minor": 2
}
