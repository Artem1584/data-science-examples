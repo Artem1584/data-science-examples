{
 "cells": [
  {
   "cell_type": "markdown",
   "metadata": {},
   "source": [
    "# Определение перспективного тарифа для телеком-компании\n",
    "Вы аналитик компании «Мегалайн» — федерального оператора сотовой связи. Клиентам предлагают два тарифных плана: «Смарт» и «Ультра». Чтобы скорректировать рекламный бюджет, коммерческий департамент хочет понять, какой тариф приносит больше денег.\n",
    "Вам предстоит сделать предварительный анализ тарифов на небольшой выборке клиентов. \n",
    "\n",
    "В вашем распоряжении данные 500 пользователей «Мегалайна»: кто они, откуда, каким тарифом пользуются, сколько звонков и сообщений каждый отправил за 2018 год. Нужно проанализировать поведение клиентов и сделать вывод — какой тариф лучше."
   ]
  },
  {
   "cell_type": "markdown",
   "metadata": {},
   "source": [
    "# Изучение данных из файла"
   ]
  },
  {
   "cell_type": "markdown",
   "metadata": {},
   "source": [
    "Шаг 1. Откройте файл с данными и изучите общую информацию"
   ]
  },
  {
   "cell_type": "code",
   "execution_count": 1,
   "metadata": {},
   "outputs": [],
   "source": [
    "import pandas as pd\n",
    "import math\n",
    "import numpy as np\n",
    "from scipy import stats as st"
   ]
  },
  {
   "cell_type": "code",
   "execution_count": 2,
   "metadata": {},
   "outputs": [
    {
     "name": "stdout",
     "output_type": "stream",
     "text": [
      "<class 'pandas.core.frame.DataFrame'>\n",
      "RangeIndex: 202607 entries, 0 to 202606\n",
      "Data columns (total 4 columns):\n",
      " #   Column     Non-Null Count   Dtype  \n",
      "---  ------     --------------   -----  \n",
      " 0   id         202607 non-null  object \n",
      " 1   call_date  202607 non-null  object \n",
      " 2   duration   202607 non-null  float64\n",
      " 3   user_id    202607 non-null  int64  \n",
      "dtypes: float64(1), int64(1), object(2)\n",
      "memory usage: 6.2+ MB\n"
     ]
    },
    {
     "data": {
      "text/html": [
       "<div>\n",
       "<style scoped>\n",
       "    .dataframe tbody tr th:only-of-type {\n",
       "        vertical-align: middle;\n",
       "    }\n",
       "\n",
       "    .dataframe tbody tr th {\n",
       "        vertical-align: top;\n",
       "    }\n",
       "\n",
       "    .dataframe thead th {\n",
       "        text-align: right;\n",
       "    }\n",
       "</style>\n",
       "<table border=\"1\" class=\"dataframe\">\n",
       "  <thead>\n",
       "    <tr style=\"text-align: right;\">\n",
       "      <th></th>\n",
       "      <th>id</th>\n",
       "      <th>call_date</th>\n",
       "      <th>duration</th>\n",
       "      <th>user_id</th>\n",
       "    </tr>\n",
       "  </thead>\n",
       "  <tbody>\n",
       "    <tr>\n",
       "      <th>0</th>\n",
       "      <td>1000_0</td>\n",
       "      <td>2018-07-25</td>\n",
       "      <td>0.00</td>\n",
       "      <td>1000</td>\n",
       "    </tr>\n",
       "    <tr>\n",
       "      <th>1</th>\n",
       "      <td>1000_1</td>\n",
       "      <td>2018-08-17</td>\n",
       "      <td>0.00</td>\n",
       "      <td>1000</td>\n",
       "    </tr>\n",
       "    <tr>\n",
       "      <th>2</th>\n",
       "      <td>1000_2</td>\n",
       "      <td>2018-06-11</td>\n",
       "      <td>2.85</td>\n",
       "      <td>1000</td>\n",
       "    </tr>\n",
       "    <tr>\n",
       "      <th>3</th>\n",
       "      <td>1000_3</td>\n",
       "      <td>2018-09-21</td>\n",
       "      <td>13.80</td>\n",
       "      <td>1000</td>\n",
       "    </tr>\n",
       "    <tr>\n",
       "      <th>4</th>\n",
       "      <td>1000_4</td>\n",
       "      <td>2018-12-15</td>\n",
       "      <td>5.18</td>\n",
       "      <td>1000</td>\n",
       "    </tr>\n",
       "    <tr>\n",
       "      <th>5</th>\n",
       "      <td>1000_5</td>\n",
       "      <td>2018-11-02</td>\n",
       "      <td>0.00</td>\n",
       "      <td>1000</td>\n",
       "    </tr>\n",
       "    <tr>\n",
       "      <th>6</th>\n",
       "      <td>1000_6</td>\n",
       "      <td>2018-10-18</td>\n",
       "      <td>0.00</td>\n",
       "      <td>1000</td>\n",
       "    </tr>\n",
       "    <tr>\n",
       "      <th>7</th>\n",
       "      <td>1000_7</td>\n",
       "      <td>2018-08-22</td>\n",
       "      <td>18.31</td>\n",
       "      <td>1000</td>\n",
       "    </tr>\n",
       "    <tr>\n",
       "      <th>8</th>\n",
       "      <td>1000_8</td>\n",
       "      <td>2018-09-15</td>\n",
       "      <td>18.44</td>\n",
       "      <td>1000</td>\n",
       "    </tr>\n",
       "    <tr>\n",
       "      <th>9</th>\n",
       "      <td>1000_9</td>\n",
       "      <td>2018-08-15</td>\n",
       "      <td>0.00</td>\n",
       "      <td>1000</td>\n",
       "    </tr>\n",
       "  </tbody>\n",
       "</table>\n",
       "</div>"
      ],
      "text/plain": [
       "       id   call_date  duration  user_id\n",
       "0  1000_0  2018-07-25      0.00     1000\n",
       "1  1000_1  2018-08-17      0.00     1000\n",
       "2  1000_2  2018-06-11      2.85     1000\n",
       "3  1000_3  2018-09-21     13.80     1000\n",
       "4  1000_4  2018-12-15      5.18     1000\n",
       "5  1000_5  2018-11-02      0.00     1000\n",
       "6  1000_6  2018-10-18      0.00     1000\n",
       "7  1000_7  2018-08-22     18.31     1000\n",
       "8  1000_8  2018-09-15     18.44     1000\n",
       "9  1000_9  2018-08-15      0.00     1000"
      ]
     },
     "execution_count": 2,
     "metadata": {},
     "output_type": "execute_result"
    }
   ],
   "source": [
    "df_calls = pd.read_csv('/datasets/calls.csv')\n",
    "df_calls.info()\n",
    "df_calls.head(10)"
   ]
  },
  {
   "cell_type": "code",
   "execution_count": 3,
   "metadata": {},
   "outputs": [
    {
     "name": "stdout",
     "output_type": "stream",
     "text": [
      "<class 'pandas.core.frame.DataFrame'>\n",
      "RangeIndex: 149396 entries, 0 to 149395\n",
      "Data columns (total 5 columns):\n",
      " #   Column        Non-Null Count   Dtype  \n",
      "---  ------        --------------   -----  \n",
      " 0   Unnamed: 0    149396 non-null  int64  \n",
      " 1   id            149396 non-null  object \n",
      " 2   mb_used       149396 non-null  float64\n",
      " 3   session_date  149396 non-null  object \n",
      " 4   user_id       149396 non-null  int64  \n",
      "dtypes: float64(1), int64(2), object(2)\n",
      "memory usage: 5.7+ MB\n"
     ]
    },
    {
     "data": {
      "text/html": [
       "<div>\n",
       "<style scoped>\n",
       "    .dataframe tbody tr th:only-of-type {\n",
       "        vertical-align: middle;\n",
       "    }\n",
       "\n",
       "    .dataframe tbody tr th {\n",
       "        vertical-align: top;\n",
       "    }\n",
       "\n",
       "    .dataframe thead th {\n",
       "        text-align: right;\n",
       "    }\n",
       "</style>\n",
       "<table border=\"1\" class=\"dataframe\">\n",
       "  <thead>\n",
       "    <tr style=\"text-align: right;\">\n",
       "      <th></th>\n",
       "      <th>Unnamed: 0</th>\n",
       "      <th>id</th>\n",
       "      <th>mb_used</th>\n",
       "      <th>session_date</th>\n",
       "      <th>user_id</th>\n",
       "    </tr>\n",
       "  </thead>\n",
       "  <tbody>\n",
       "    <tr>\n",
       "      <th>0</th>\n",
       "      <td>0</td>\n",
       "      <td>1000_0</td>\n",
       "      <td>112.95</td>\n",
       "      <td>2018-11-25</td>\n",
       "      <td>1000</td>\n",
       "    </tr>\n",
       "    <tr>\n",
       "      <th>1</th>\n",
       "      <td>1</td>\n",
       "      <td>1000_1</td>\n",
       "      <td>1052.81</td>\n",
       "      <td>2018-09-07</td>\n",
       "      <td>1000</td>\n",
       "    </tr>\n",
       "    <tr>\n",
       "      <th>2</th>\n",
       "      <td>2</td>\n",
       "      <td>1000_2</td>\n",
       "      <td>1197.26</td>\n",
       "      <td>2018-06-25</td>\n",
       "      <td>1000</td>\n",
       "    </tr>\n",
       "    <tr>\n",
       "      <th>3</th>\n",
       "      <td>3</td>\n",
       "      <td>1000_3</td>\n",
       "      <td>550.27</td>\n",
       "      <td>2018-08-22</td>\n",
       "      <td>1000</td>\n",
       "    </tr>\n",
       "    <tr>\n",
       "      <th>4</th>\n",
       "      <td>4</td>\n",
       "      <td>1000_4</td>\n",
       "      <td>302.56</td>\n",
       "      <td>2018-09-24</td>\n",
       "      <td>1000</td>\n",
       "    </tr>\n",
       "  </tbody>\n",
       "</table>\n",
       "</div>"
      ],
      "text/plain": [
       "   Unnamed: 0      id  mb_used session_date  user_id\n",
       "0           0  1000_0   112.95   2018-11-25     1000\n",
       "1           1  1000_1  1052.81   2018-09-07     1000\n",
       "2           2  1000_2  1197.26   2018-06-25     1000\n",
       "3           3  1000_3   550.27   2018-08-22     1000\n",
       "4           4  1000_4   302.56   2018-09-24     1000"
      ]
     },
     "execution_count": 3,
     "metadata": {},
     "output_type": "execute_result"
    }
   ],
   "source": [
    "df_internet = pd.read_csv('/datasets/internet.csv')\n",
    "df_internet.info()\n",
    "df_internet.head(5)\n"
   ]
  },
  {
   "cell_type": "code",
   "execution_count": 4,
   "metadata": {},
   "outputs": [
    {
     "name": "stdout",
     "output_type": "stream",
     "text": [
      "<class 'pandas.core.frame.DataFrame'>\n",
      "RangeIndex: 123036 entries, 0 to 123035\n",
      "Data columns (total 3 columns):\n",
      " #   Column        Non-Null Count   Dtype \n",
      "---  ------        --------------   ----- \n",
      " 0   id            123036 non-null  object\n",
      " 1   message_date  123036 non-null  object\n",
      " 2   user_id       123036 non-null  int64 \n",
      "dtypes: int64(1), object(2)\n",
      "memory usage: 2.8+ MB\n"
     ]
    },
    {
     "data": {
      "text/html": [
       "<div>\n",
       "<style scoped>\n",
       "    .dataframe tbody tr th:only-of-type {\n",
       "        vertical-align: middle;\n",
       "    }\n",
       "\n",
       "    .dataframe tbody tr th {\n",
       "        vertical-align: top;\n",
       "    }\n",
       "\n",
       "    .dataframe thead th {\n",
       "        text-align: right;\n",
       "    }\n",
       "</style>\n",
       "<table border=\"1\" class=\"dataframe\">\n",
       "  <thead>\n",
       "    <tr style=\"text-align: right;\">\n",
       "      <th></th>\n",
       "      <th>id</th>\n",
       "      <th>message_date</th>\n",
       "      <th>user_id</th>\n",
       "    </tr>\n",
       "  </thead>\n",
       "  <tbody>\n",
       "    <tr>\n",
       "      <th>0</th>\n",
       "      <td>1000_0</td>\n",
       "      <td>2018-06-27</td>\n",
       "      <td>1000</td>\n",
       "    </tr>\n",
       "    <tr>\n",
       "      <th>1</th>\n",
       "      <td>1000_1</td>\n",
       "      <td>2018-10-08</td>\n",
       "      <td>1000</td>\n",
       "    </tr>\n",
       "    <tr>\n",
       "      <th>2</th>\n",
       "      <td>1000_2</td>\n",
       "      <td>2018-08-04</td>\n",
       "      <td>1000</td>\n",
       "    </tr>\n",
       "    <tr>\n",
       "      <th>3</th>\n",
       "      <td>1000_3</td>\n",
       "      <td>2018-06-16</td>\n",
       "      <td>1000</td>\n",
       "    </tr>\n",
       "    <tr>\n",
       "      <th>4</th>\n",
       "      <td>1000_4</td>\n",
       "      <td>2018-12-05</td>\n",
       "      <td>1000</td>\n",
       "    </tr>\n",
       "  </tbody>\n",
       "</table>\n",
       "</div>"
      ],
      "text/plain": [
       "       id message_date  user_id\n",
       "0  1000_0   2018-06-27     1000\n",
       "1  1000_1   2018-10-08     1000\n",
       "2  1000_2   2018-08-04     1000\n",
       "3  1000_3   2018-06-16     1000\n",
       "4  1000_4   2018-12-05     1000"
      ]
     },
     "execution_count": 4,
     "metadata": {},
     "output_type": "execute_result"
    }
   ],
   "source": [
    "df_messages = pd.read_csv('/datasets/messages.csv')\n",
    "df_messages.info()\n",
    "df_messages.head(5)"
   ]
  },
  {
   "cell_type": "code",
   "execution_count": 5,
   "metadata": {},
   "outputs": [
    {
     "name": "stdout",
     "output_type": "stream",
     "text": [
      "<class 'pandas.core.frame.DataFrame'>\n",
      "RangeIndex: 2 entries, 0 to 1\n",
      "Data columns (total 8 columns):\n",
      " #   Column                 Non-Null Count  Dtype \n",
      "---  ------                 --------------  ----- \n",
      " 0   messages_included      2 non-null      int64 \n",
      " 1   mb_per_month_included  2 non-null      int64 \n",
      " 2   minutes_included       2 non-null      int64 \n",
      " 3   rub_monthly_fee        2 non-null      int64 \n",
      " 4   rub_per_gb             2 non-null      int64 \n",
      " 5   rub_per_message        2 non-null      int64 \n",
      " 6   rub_per_minute         2 non-null      int64 \n",
      " 7   tariff_name            2 non-null      object\n",
      "dtypes: int64(7), object(1)\n",
      "memory usage: 256.0+ bytes\n"
     ]
    },
    {
     "data": {
      "text/html": [
       "<div>\n",
       "<style scoped>\n",
       "    .dataframe tbody tr th:only-of-type {\n",
       "        vertical-align: middle;\n",
       "    }\n",
       "\n",
       "    .dataframe tbody tr th {\n",
       "        vertical-align: top;\n",
       "    }\n",
       "\n",
       "    .dataframe thead th {\n",
       "        text-align: right;\n",
       "    }\n",
       "</style>\n",
       "<table border=\"1\" class=\"dataframe\">\n",
       "  <thead>\n",
       "    <tr style=\"text-align: right;\">\n",
       "      <th></th>\n",
       "      <th>messages_included</th>\n",
       "      <th>gb_per_month_included</th>\n",
       "      <th>minutes_included</th>\n",
       "      <th>rub_monthly_fee</th>\n",
       "      <th>rub_per_gb</th>\n",
       "      <th>rub_per_message</th>\n",
       "      <th>rub_per_minute</th>\n",
       "      <th>tariff</th>\n",
       "    </tr>\n",
       "  </thead>\n",
       "  <tbody>\n",
       "    <tr>\n",
       "      <th>0</th>\n",
       "      <td>50</td>\n",
       "      <td>15.0</td>\n",
       "      <td>500</td>\n",
       "      <td>550</td>\n",
       "      <td>200</td>\n",
       "      <td>3</td>\n",
       "      <td>3</td>\n",
       "      <td>smart</td>\n",
       "    </tr>\n",
       "    <tr>\n",
       "      <th>1</th>\n",
       "      <td>1000</td>\n",
       "      <td>30.0</td>\n",
       "      <td>3000</td>\n",
       "      <td>1950</td>\n",
       "      <td>150</td>\n",
       "      <td>1</td>\n",
       "      <td>1</td>\n",
       "      <td>ultra</td>\n",
       "    </tr>\n",
       "  </tbody>\n",
       "</table>\n",
       "</div>"
      ],
      "text/plain": [
       "   messages_included  gb_per_month_included  minutes_included  \\\n",
       "0                 50                   15.0               500   \n",
       "1               1000                   30.0              3000   \n",
       "\n",
       "   rub_monthly_fee  rub_per_gb  rub_per_message  rub_per_minute tariff  \n",
       "0              550         200                3               3  smart  \n",
       "1             1950         150                1               1  ultra  "
      ]
     },
     "execution_count": 5,
     "metadata": {},
     "output_type": "execute_result"
    }
   ],
   "source": [
    "df_tarrifs = pd.read_csv('/datasets/tariffs.csv')\n",
    "df_tarrifs.info()\n",
    "df_tarrifs['mb_per_month_included'] = df_tarrifs['mb_per_month_included'] / 1024 \n",
    "df_tarrifs = df_tarrifs.rename(columns={'mb_per_month_included':'gb_per_month_included', 'tariff_name':'tariff'})\n",
    "df_tarrifs.head(5)"
   ]
  },
  {
   "cell_type": "code",
   "execution_count": 6,
   "metadata": {},
   "outputs": [
    {
     "name": "stdout",
     "output_type": "stream",
     "text": [
      "<class 'pandas.core.frame.DataFrame'>\n",
      "RangeIndex: 500 entries, 0 to 499\n",
      "Data columns (total 8 columns):\n",
      " #   Column      Non-Null Count  Dtype \n",
      "---  ------      --------------  ----- \n",
      " 0   user_id     500 non-null    int64 \n",
      " 1   age         500 non-null    int64 \n",
      " 2   churn_date  38 non-null     object\n",
      " 3   city        500 non-null    object\n",
      " 4   first_name  500 non-null    object\n",
      " 5   last_name   500 non-null    object\n",
      " 6   reg_date    500 non-null    object\n",
      " 7   tariff      500 non-null    object\n",
      "dtypes: int64(2), object(6)\n",
      "memory usage: 31.4+ KB\n"
     ]
    },
    {
     "data": {
      "text/html": [
       "<div>\n",
       "<style scoped>\n",
       "    .dataframe tbody tr th:only-of-type {\n",
       "        vertical-align: middle;\n",
       "    }\n",
       "\n",
       "    .dataframe tbody tr th {\n",
       "        vertical-align: top;\n",
       "    }\n",
       "\n",
       "    .dataframe thead th {\n",
       "        text-align: right;\n",
       "    }\n",
       "</style>\n",
       "<table border=\"1\" class=\"dataframe\">\n",
       "  <thead>\n",
       "    <tr style=\"text-align: right;\">\n",
       "      <th></th>\n",
       "      <th>user_id</th>\n",
       "      <th>age</th>\n",
       "      <th>churn_date</th>\n",
       "      <th>city</th>\n",
       "      <th>first_name</th>\n",
       "      <th>last_name</th>\n",
       "      <th>reg_date</th>\n",
       "      <th>tariff</th>\n",
       "    </tr>\n",
       "  </thead>\n",
       "  <tbody>\n",
       "    <tr>\n",
       "      <th>0</th>\n",
       "      <td>1000</td>\n",
       "      <td>52</td>\n",
       "      <td>NaN</td>\n",
       "      <td>Краснодар</td>\n",
       "      <td>Рафаил</td>\n",
       "      <td>Верещагин</td>\n",
       "      <td>2018-05-25</td>\n",
       "      <td>ultra</td>\n",
       "    </tr>\n",
       "    <tr>\n",
       "      <th>1</th>\n",
       "      <td>1001</td>\n",
       "      <td>41</td>\n",
       "      <td>NaN</td>\n",
       "      <td>Москва</td>\n",
       "      <td>Иван</td>\n",
       "      <td>Ежов</td>\n",
       "      <td>2018-11-01</td>\n",
       "      <td>smart</td>\n",
       "    </tr>\n",
       "    <tr>\n",
       "      <th>2</th>\n",
       "      <td>1002</td>\n",
       "      <td>59</td>\n",
       "      <td>NaN</td>\n",
       "      <td>Стерлитамак</td>\n",
       "      <td>Евгений</td>\n",
       "      <td>Абрамович</td>\n",
       "      <td>2018-06-17</td>\n",
       "      <td>smart</td>\n",
       "    </tr>\n",
       "    <tr>\n",
       "      <th>3</th>\n",
       "      <td>1003</td>\n",
       "      <td>23</td>\n",
       "      <td>NaN</td>\n",
       "      <td>Москва</td>\n",
       "      <td>Белла</td>\n",
       "      <td>Белякова</td>\n",
       "      <td>2018-08-17</td>\n",
       "      <td>ultra</td>\n",
       "    </tr>\n",
       "    <tr>\n",
       "      <th>4</th>\n",
       "      <td>1004</td>\n",
       "      <td>68</td>\n",
       "      <td>NaN</td>\n",
       "      <td>Новокузнецк</td>\n",
       "      <td>Татьяна</td>\n",
       "      <td>Авдеенко</td>\n",
       "      <td>2018-05-14</td>\n",
       "      <td>ultra</td>\n",
       "    </tr>\n",
       "  </tbody>\n",
       "</table>\n",
       "</div>"
      ],
      "text/plain": [
       "   user_id  age churn_date         city first_name  last_name    reg_date  \\\n",
       "0     1000   52        NaN    Краснодар     Рафаил  Верещагин  2018-05-25   \n",
       "1     1001   41        NaN       Москва       Иван       Ежов  2018-11-01   \n",
       "2     1002   59        NaN  Стерлитамак    Евгений  Абрамович  2018-06-17   \n",
       "3     1003   23        NaN       Москва      Белла   Белякова  2018-08-17   \n",
       "4     1004   68        NaN  Новокузнецк    Татьяна   Авдеенко  2018-05-14   \n",
       "\n",
       "  tariff  \n",
       "0  ultra  \n",
       "1  smart  \n",
       "2  smart  \n",
       "3  ultra  \n",
       "4  ultra  "
      ]
     },
     "execution_count": 6,
     "metadata": {},
     "output_type": "execute_result"
    }
   ],
   "source": [
    "df_users = pd.read_csv('/datasets/users.csv')\n",
    "df_users.info()\n",
    "df_users.head(5)"
   ]
  },
  {
   "cell_type": "markdown",
   "metadata": {},
   "source": [
    "### Вывод"
   ]
  },
  {
   "cell_type": "markdown",
   "metadata": {},
   "source": [
    "Название столбцов в таблицах записаны в верном формате. Тип данных дат записан в формате object. В файле с тарифом поменял название столбца 'tariff_name ' на  'tariff'"
   ]
  },
  {
   "cell_type": "markdown",
   "metadata": {},
   "source": [
    "# Подготовка данных"
   ]
  },
  {
   "cell_type": "markdown",
   "metadata": {},
   "source": [
    "Шаг 2. Подготовьте данные\n",
    "Приведите данные к нужным типам;\n",
    "\n",
    "Найдите и исправьте ошибки в данных, если они есть.\n",
    "\n",
    "Поясните, какие ошибки вы нашли и как их исправили. В данных вы найдёте звонки с нулевой продолжительностью. Это не ошибка: нулями обозначены пропущенные звонки, поэтому их не нужно удалять.\n",
    "\n",
    "Посчитайте для каждого пользователя:\n",
    "\n",
    "количество сделанных звонков и израсходованных минут разговора по месяцам;\n",
    "\n",
    "количество отправленных сообщений по месяцам;\n",
    "\n",
    "объем израсходованного интернет-трафика по месяцам;\n",
    "\n",
    "помесячную выручку с каждого пользователя (вычтите бесплатный лимит из суммарного количества звонков, сообщений и интернет-трафика; остаток умножьте на значение из тарифного плана; прибавьте абонентскую плату, соответствующую тарифному плану)."
   ]
  },
  {
   "cell_type": "code",
   "execution_count": 7,
   "metadata": {},
   "outputs": [
    {
     "name": "stdout",
     "output_type": "stream",
     "text": [
      "<class 'pandas.core.frame.DataFrame'>\n",
      "RangeIndex: 3174 entries, 0 to 3173\n",
      "Data columns (total 4 columns):\n",
      " #   Column       Non-Null Count  Dtype\n",
      "---  ------       --------------  -----\n",
      " 0   user_id      3174 non-null   int64\n",
      " 1   month        3174 non-null   int64\n",
      " 2   count_minut  3174 non-null   int64\n",
      " 3   sum_minut    3174 non-null   int64\n",
      "dtypes: int64(4)\n",
      "memory usage: 99.3 KB\n"
     ]
    }
   ],
   "source": [
    "df_calls['call_date'] = pd.to_datetime(df_calls['call_date'], format='%Y-%m-%d %H:%M')\n",
    "df_calls['month'] = df_calls['call_date'].dt.month\n",
    "df_calls['duration'] = df_calls['duration'].apply(math.ceil)\n",
    "df_calls = df_calls.pivot_table(index = ['user_id', 'month'], values = 'duration', aggfunc = ['count', 'sum']).reset_index()\n",
    "df_calls.columns = ['user_id', 'month', 'count_minut', 'sum_minut']\n",
    "df_calls.head(5)\n",
    "df_calls.info()"
   ]
  },
  {
   "cell_type": "markdown",
   "metadata": {},
   "source": [
    "Исправил тип данных даты на datetime64. Время разговора округлил до полных минут, согласно тарифу. Сделал сводную таблицу по user_id и месяцу. Посчитал количество звонков и минут разговора. Исправил название столбцов."
   ]
  },
  {
   "cell_type": "code",
   "execution_count": 8,
   "metadata": {},
   "outputs": [
    {
     "name": "stdout",
     "output_type": "stream",
     "text": [
      "<class 'pandas.core.frame.DataFrame'>\n",
      "RangeIndex: 2717 entries, 0 to 2716\n",
      "Data columns (total 3 columns):\n",
      " #   Column          Non-Null Count  Dtype\n",
      "---  ------          --------------  -----\n",
      " 0   user_id         2717 non-null   int64\n",
      " 1   month           2717 non-null   int64\n",
      " 2   count_messages  2717 non-null   int64\n",
      "dtypes: int64(3)\n",
      "memory usage: 63.8 KB\n"
     ]
    }
   ],
   "source": [
    "df_messages['message_date'] = pd.to_datetime(df_messages['message_date'], format='%Y-%m-%d %H:%M')\n",
    "df_messages['month'] = df_messages['message_date'].dt.month\n",
    "df_messages = df_messages.pivot_table(index = ['user_id', 'month'], values = 'id', aggfunc = 'count').reset_index()\n",
    "df_messages.columns = ['user_id', 'month', 'count_messages']\n",
    "\n",
    "df_messages.head(5)\n",
    "df_messages.info()"
   ]
  },
  {
   "cell_type": "markdown",
   "metadata": {},
   "source": [
    "Исправил тип данных даты на datetime64. Подсчитал количество сообщений по месяцам. Сделал сводную таблицу по user_id и месяцу.  Исправил название столбцов."
   ]
  },
  {
   "cell_type": "code",
   "execution_count": 9,
   "metadata": {},
   "outputs": [
    {
     "name": "stdout",
     "output_type": "stream",
     "text": [
      "<class 'pandas.core.frame.DataFrame'>\n",
      "RangeIndex: 3203 entries, 0 to 3202\n",
      "Data columns (total 3 columns):\n",
      " #   Column   Non-Null Count  Dtype\n",
      "---  ------   --------------  -----\n",
      " 0   user_id  3203 non-null   int64\n",
      " 1   month    3203 non-null   int64\n",
      " 2   gb_used  3203 non-null   int64\n",
      "dtypes: int64(3)\n",
      "memory usage: 75.2 KB\n"
     ]
    }
   ],
   "source": [
    "df_internet['session_date'] = pd.to_datetime(df_internet['session_date'], format='%Y-%m-%d %H:%M')\n",
    "df_internet['month'] = df_internet['session_date'].dt.month\n",
    "df_internet = df_internet.pivot_table(index = ['user_id', 'month'], values = 'mb_used', aggfunc = 'sum').reset_index()\n",
    "df_internet['mb_used'] = (df_internet['mb_used'] / 1024).apply(math.ceil)\n",
    "df_internet.columns = ['user_id', 'month', 'gb_used']\n",
    "\n",
    "df_internet.head(5)\n",
    "df_internet.info()"
   ]
  },
  {
   "cell_type": "markdown",
   "metadata": {},
   "source": [
    "Исправил тип данных даты на datetime64. Объем интернет-траффика округлил до полного гигабайта, согласно тарифу. Сделал сводную таблицу по user_id и месяцу."
   ]
  },
  {
   "cell_type": "code",
   "execution_count": 10,
   "metadata": {},
   "outputs": [
    {
     "name": "stdout",
     "output_type": "stream",
     "text": [
      "<class 'pandas.core.frame.DataFrame'>\n",
      "Int64Index: 3214 entries, 0 to 3213\n",
      "Data columns (total 6 columns):\n",
      " #   Column          Non-Null Count  Dtype  \n",
      "---  ------          --------------  -----  \n",
      " 0   user_id         3214 non-null   int64  \n",
      " 1   month           3214 non-null   int64  \n",
      " 2   count_minut     3174 non-null   float64\n",
      " 3   sum_minut       3174 non-null   float64\n",
      " 4   count_messages  2717 non-null   float64\n",
      " 5   gb_used         3203 non-null   float64\n",
      "dtypes: float64(4), int64(2)\n",
      "memory usage: 175.8 KB\n"
     ]
    }
   ],
   "source": [
    "df = df_calls.merge(df_messages, on=['user_id', 'month'], how='outer')\n",
    "df = df.merge(df_internet, on=['user_id', 'month'], how='outer')\n",
    "#df = df_internet.merge(df_calls, on=['user_id', 'month'], how='left')\n",
    "#df = df.merge(df_messages, on=['user_id', 'month'], how='left')\n",
    "df.info()"
   ]
  },
  {
   "cell_type": "code",
   "execution_count": 11,
   "metadata": {},
   "outputs": [
    {
     "data": {
      "text/html": [
       "<div>\n",
       "<style scoped>\n",
       "    .dataframe tbody tr th:only-of-type {\n",
       "        vertical-align: middle;\n",
       "    }\n",
       "\n",
       "    .dataframe tbody tr th {\n",
       "        vertical-align: top;\n",
       "    }\n",
       "\n",
       "    .dataframe thead th {\n",
       "        text-align: right;\n",
       "    }\n",
       "</style>\n",
       "<table border=\"1\" class=\"dataframe\">\n",
       "  <thead>\n",
       "    <tr style=\"text-align: right;\">\n",
       "      <th></th>\n",
       "      <th>user_id</th>\n",
       "      <th>month</th>\n",
       "      <th>count_minut</th>\n",
       "      <th>sum_minut</th>\n",
       "      <th>count_messages</th>\n",
       "      <th>gb_used</th>\n",
       "      <th>age</th>\n",
       "      <th>churn_date</th>\n",
       "      <th>city</th>\n",
       "      <th>first_name</th>\n",
       "      <th>last_name</th>\n",
       "      <th>reg_date</th>\n",
       "      <th>tariff</th>\n",
       "    </tr>\n",
       "  </thead>\n",
       "  <tbody>\n",
       "    <tr>\n",
       "      <th>0</th>\n",
       "      <td>1000</td>\n",
       "      <td>5</td>\n",
       "      <td>22.0</td>\n",
       "      <td>159.0</td>\n",
       "      <td>22.0</td>\n",
       "      <td>3.0</td>\n",
       "      <td>52</td>\n",
       "      <td>NaN</td>\n",
       "      <td>Краснодар</td>\n",
       "      <td>Рафаил</td>\n",
       "      <td>Верещагин</td>\n",
       "      <td>2018-05-25</td>\n",
       "      <td>ultra</td>\n",
       "    </tr>\n",
       "    <tr>\n",
       "      <th>1</th>\n",
       "      <td>1000</td>\n",
       "      <td>6</td>\n",
       "      <td>43.0</td>\n",
       "      <td>172.0</td>\n",
       "      <td>60.0</td>\n",
       "      <td>23.0</td>\n",
       "      <td>52</td>\n",
       "      <td>NaN</td>\n",
       "      <td>Краснодар</td>\n",
       "      <td>Рафаил</td>\n",
       "      <td>Верещагин</td>\n",
       "      <td>2018-05-25</td>\n",
       "      <td>ultra</td>\n",
       "    </tr>\n",
       "    <tr>\n",
       "      <th>2</th>\n",
       "      <td>1000</td>\n",
       "      <td>7</td>\n",
       "      <td>47.0</td>\n",
       "      <td>340.0</td>\n",
       "      <td>75.0</td>\n",
       "      <td>14.0</td>\n",
       "      <td>52</td>\n",
       "      <td>NaN</td>\n",
       "      <td>Краснодар</td>\n",
       "      <td>Рафаил</td>\n",
       "      <td>Верещагин</td>\n",
       "      <td>2018-05-25</td>\n",
       "      <td>ultra</td>\n",
       "    </tr>\n",
       "    <tr>\n",
       "      <th>3</th>\n",
       "      <td>1000</td>\n",
       "      <td>8</td>\n",
       "      <td>52.0</td>\n",
       "      <td>408.0</td>\n",
       "      <td>81.0</td>\n",
       "      <td>14.0</td>\n",
       "      <td>52</td>\n",
       "      <td>NaN</td>\n",
       "      <td>Краснодар</td>\n",
       "      <td>Рафаил</td>\n",
       "      <td>Верещагин</td>\n",
       "      <td>2018-05-25</td>\n",
       "      <td>ultra</td>\n",
       "    </tr>\n",
       "    <tr>\n",
       "      <th>4</th>\n",
       "      <td>1000</td>\n",
       "      <td>9</td>\n",
       "      <td>58.0</td>\n",
       "      <td>466.0</td>\n",
       "      <td>57.0</td>\n",
       "      <td>15.0</td>\n",
       "      <td>52</td>\n",
       "      <td>NaN</td>\n",
       "      <td>Краснодар</td>\n",
       "      <td>Рафаил</td>\n",
       "      <td>Верещагин</td>\n",
       "      <td>2018-05-25</td>\n",
       "      <td>ultra</td>\n",
       "    </tr>\n",
       "  </tbody>\n",
       "</table>\n",
       "</div>"
      ],
      "text/plain": [
       "   user_id  month  count_minut  sum_minut  count_messages  gb_used  age  \\\n",
       "0     1000      5         22.0      159.0            22.0      3.0   52   \n",
       "1     1000      6         43.0      172.0            60.0     23.0   52   \n",
       "2     1000      7         47.0      340.0            75.0     14.0   52   \n",
       "3     1000      8         52.0      408.0            81.0     14.0   52   \n",
       "4     1000      9         58.0      466.0            57.0     15.0   52   \n",
       "\n",
       "  churn_date       city first_name  last_name    reg_date tariff  \n",
       "0        NaN  Краснодар     Рафаил  Верещагин  2018-05-25  ultra  \n",
       "1        NaN  Краснодар     Рафаил  Верещагин  2018-05-25  ultra  \n",
       "2        NaN  Краснодар     Рафаил  Верещагин  2018-05-25  ultra  \n",
       "3        NaN  Краснодар     Рафаил  Верещагин  2018-05-25  ultra  \n",
       "4        NaN  Краснодар     Рафаил  Верещагин  2018-05-25  ultra  "
      ]
     },
     "execution_count": 11,
     "metadata": {},
     "output_type": "execute_result"
    }
   ],
   "source": [
    "df = df.merge(df_users, on='user_id', how='left')\n",
    "df.head(5)"
   ]
  },
  {
   "cell_type": "markdown",
   "metadata": {},
   "source": [
    "Объединил таблицы в одну df"
   ]
  },
  {
   "cell_type": "code",
   "execution_count": 12,
   "metadata": {
    "scrolled": true
   },
   "outputs": [
    {
     "data": {
      "text/html": [
       "<div>\n",
       "<style scoped>\n",
       "    .dataframe tbody tr th:only-of-type {\n",
       "        vertical-align: middle;\n",
       "    }\n",
       "\n",
       "    .dataframe tbody tr th {\n",
       "        vertical-align: top;\n",
       "    }\n",
       "\n",
       "    .dataframe thead th {\n",
       "        text-align: right;\n",
       "    }\n",
       "</style>\n",
       "<table border=\"1\" class=\"dataframe\">\n",
       "  <thead>\n",
       "    <tr style=\"text-align: right;\">\n",
       "      <th></th>\n",
       "      <th>user_id</th>\n",
       "      <th>month</th>\n",
       "      <th>count_minut</th>\n",
       "      <th>sum_minut</th>\n",
       "      <th>count_messages</th>\n",
       "      <th>gb_used</th>\n",
       "      <th>age</th>\n",
       "      <th>churn_date</th>\n",
       "      <th>city</th>\n",
       "      <th>first_name</th>\n",
       "      <th>last_name</th>\n",
       "      <th>reg_date</th>\n",
       "      <th>tariff</th>\n",
       "      <th>messages_included</th>\n",
       "      <th>gb_per_month_included</th>\n",
       "      <th>minutes_included</th>\n",
       "      <th>rub_monthly_fee</th>\n",
       "      <th>rub_per_gb</th>\n",
       "      <th>rub_per_message</th>\n",
       "      <th>rub_per_minute</th>\n",
       "    </tr>\n",
       "  </thead>\n",
       "  <tbody>\n",
       "    <tr>\n",
       "      <th>0</th>\n",
       "      <td>1000</td>\n",
       "      <td>5</td>\n",
       "      <td>22.0</td>\n",
       "      <td>159.0</td>\n",
       "      <td>22.0</td>\n",
       "      <td>3.0</td>\n",
       "      <td>52</td>\n",
       "      <td>NaN</td>\n",
       "      <td>Краснодар</td>\n",
       "      <td>Рафаил</td>\n",
       "      <td>Верещагин</td>\n",
       "      <td>2018-05-25</td>\n",
       "      <td>ultra</td>\n",
       "      <td>1000</td>\n",
       "      <td>30.0</td>\n",
       "      <td>3000</td>\n",
       "      <td>1950</td>\n",
       "      <td>150</td>\n",
       "      <td>1</td>\n",
       "      <td>1</td>\n",
       "    </tr>\n",
       "    <tr>\n",
       "      <th>1</th>\n",
       "      <td>1000</td>\n",
       "      <td>6</td>\n",
       "      <td>43.0</td>\n",
       "      <td>172.0</td>\n",
       "      <td>60.0</td>\n",
       "      <td>23.0</td>\n",
       "      <td>52</td>\n",
       "      <td>NaN</td>\n",
       "      <td>Краснодар</td>\n",
       "      <td>Рафаил</td>\n",
       "      <td>Верещагин</td>\n",
       "      <td>2018-05-25</td>\n",
       "      <td>ultra</td>\n",
       "      <td>1000</td>\n",
       "      <td>30.0</td>\n",
       "      <td>3000</td>\n",
       "      <td>1950</td>\n",
       "      <td>150</td>\n",
       "      <td>1</td>\n",
       "      <td>1</td>\n",
       "    </tr>\n",
       "    <tr>\n",
       "      <th>2</th>\n",
       "      <td>1000</td>\n",
       "      <td>7</td>\n",
       "      <td>47.0</td>\n",
       "      <td>340.0</td>\n",
       "      <td>75.0</td>\n",
       "      <td>14.0</td>\n",
       "      <td>52</td>\n",
       "      <td>NaN</td>\n",
       "      <td>Краснодар</td>\n",
       "      <td>Рафаил</td>\n",
       "      <td>Верещагин</td>\n",
       "      <td>2018-05-25</td>\n",
       "      <td>ultra</td>\n",
       "      <td>1000</td>\n",
       "      <td>30.0</td>\n",
       "      <td>3000</td>\n",
       "      <td>1950</td>\n",
       "      <td>150</td>\n",
       "      <td>1</td>\n",
       "      <td>1</td>\n",
       "    </tr>\n",
       "    <tr>\n",
       "      <th>3</th>\n",
       "      <td>1000</td>\n",
       "      <td>8</td>\n",
       "      <td>52.0</td>\n",
       "      <td>408.0</td>\n",
       "      <td>81.0</td>\n",
       "      <td>14.0</td>\n",
       "      <td>52</td>\n",
       "      <td>NaN</td>\n",
       "      <td>Краснодар</td>\n",
       "      <td>Рафаил</td>\n",
       "      <td>Верещагин</td>\n",
       "      <td>2018-05-25</td>\n",
       "      <td>ultra</td>\n",
       "      <td>1000</td>\n",
       "      <td>30.0</td>\n",
       "      <td>3000</td>\n",
       "      <td>1950</td>\n",
       "      <td>150</td>\n",
       "      <td>1</td>\n",
       "      <td>1</td>\n",
       "    </tr>\n",
       "    <tr>\n",
       "      <th>4</th>\n",
       "      <td>1000</td>\n",
       "      <td>9</td>\n",
       "      <td>58.0</td>\n",
       "      <td>466.0</td>\n",
       "      <td>57.0</td>\n",
       "      <td>15.0</td>\n",
       "      <td>52</td>\n",
       "      <td>NaN</td>\n",
       "      <td>Краснодар</td>\n",
       "      <td>Рафаил</td>\n",
       "      <td>Верещагин</td>\n",
       "      <td>2018-05-25</td>\n",
       "      <td>ultra</td>\n",
       "      <td>1000</td>\n",
       "      <td>30.0</td>\n",
       "      <td>3000</td>\n",
       "      <td>1950</td>\n",
       "      <td>150</td>\n",
       "      <td>1</td>\n",
       "      <td>1</td>\n",
       "    </tr>\n",
       "  </tbody>\n",
       "</table>\n",
       "</div>"
      ],
      "text/plain": [
       "   user_id  month  count_minut  sum_minut  count_messages  gb_used  age  \\\n",
       "0     1000      5         22.0      159.0            22.0      3.0   52   \n",
       "1     1000      6         43.0      172.0            60.0     23.0   52   \n",
       "2     1000      7         47.0      340.0            75.0     14.0   52   \n",
       "3     1000      8         52.0      408.0            81.0     14.0   52   \n",
       "4     1000      9         58.0      466.0            57.0     15.0   52   \n",
       "\n",
       "  churn_date       city first_name  last_name    reg_date tariff  \\\n",
       "0        NaN  Краснодар     Рафаил  Верещагин  2018-05-25  ultra   \n",
       "1        NaN  Краснодар     Рафаил  Верещагин  2018-05-25  ultra   \n",
       "2        NaN  Краснодар     Рафаил  Верещагин  2018-05-25  ultra   \n",
       "3        NaN  Краснодар     Рафаил  Верещагин  2018-05-25  ultra   \n",
       "4        NaN  Краснодар     Рафаил  Верещагин  2018-05-25  ultra   \n",
       "\n",
       "   messages_included  gb_per_month_included  minutes_included  \\\n",
       "0               1000                   30.0              3000   \n",
       "1               1000                   30.0              3000   \n",
       "2               1000                   30.0              3000   \n",
       "3               1000                   30.0              3000   \n",
       "4               1000                   30.0              3000   \n",
       "\n",
       "   rub_monthly_fee  rub_per_gb  rub_per_message  rub_per_minute  \n",
       "0             1950         150                1               1  \n",
       "1             1950         150                1               1  \n",
       "2             1950         150                1               1  \n",
       "3             1950         150                1               1  \n",
       "4             1950         150                1               1  "
      ]
     },
     "execution_count": 12,
     "metadata": {},
     "output_type": "execute_result"
    }
   ],
   "source": [
    "df = df.merge(df_tarrifs, on='tariff', how='left')\n",
    "df.head(5)"
   ]
  },
  {
   "cell_type": "markdown",
   "metadata": {},
   "source": [
    "Все файлы объединил в одну таблицу с тарифом и условия по нему."
   ]
  },
  {
   "cell_type": "code",
   "execution_count": 13,
   "metadata": {},
   "outputs": [
    {
     "data": {
      "text/plain": [
       "user_id                     0\n",
       "month                       0\n",
       "count_minut                40\n",
       "sum_minut                  40\n",
       "count_messages            497\n",
       "gb_used                    11\n",
       "age                         0\n",
       "churn_date               3027\n",
       "city                        0\n",
       "first_name                  0\n",
       "last_name                   0\n",
       "reg_date                    0\n",
       "tariff                      0\n",
       "messages_included           0\n",
       "gb_per_month_included       0\n",
       "minutes_included            0\n",
       "rub_monthly_fee             0\n",
       "rub_per_gb                  0\n",
       "rub_per_message             0\n",
       "rub_per_minute              0\n",
       "dtype: int64"
      ]
     },
     "metadata": {},
     "output_type": "display_data"
    },
    {
     "data": {
      "text/plain": [
       "user_id                     0\n",
       "month                       0\n",
       "count_minut                 0\n",
       "sum_minut                   0\n",
       "count_messages              0\n",
       "gb_used                     0\n",
       "age                         0\n",
       "churn_date               3027\n",
       "city                        0\n",
       "first_name                  0\n",
       "last_name                   0\n",
       "reg_date                    0\n",
       "tariff                      0\n",
       "messages_included           0\n",
       "gb_per_month_included       0\n",
       "minutes_included            0\n",
       "rub_monthly_fee             0\n",
       "rub_per_gb                  0\n",
       "rub_per_message             0\n",
       "rub_per_minute              0\n",
       "dtype: int64"
      ]
     },
     "execution_count": 13,
     "metadata": {},
     "output_type": "execute_result"
    }
   ],
   "source": [
    "display(df.isna().sum())\n",
    "df['count_messages'] = df['count_messages'].fillna(0)\n",
    "df['gb_used'] = df['gb_used'].fillna(0)\n",
    "df['count_minut'] = df['count_minut'].fillna(0)\n",
    "df['sum_minut'] = df['sum_minut'].fillna(0)\n",
    "df.isna().sum()"
   ]
  },
  {
   "cell_type": "markdown",
   "metadata": {},
   "source": [
    "После объединения проверил нужные столбцы на пропущенные значения. В столбцах интернета и сообщений вместо пропущенных значений поставил 0, так как думаю клиент не пользовался данной услугой."
   ]
  },
  {
   "cell_type": "code",
   "execution_count": 14,
   "metadata": {},
   "outputs": [],
   "source": [
    "def total(row):\n",
    "    minute = (row['sum_minut'] - row['minutes_included']) * row['rub_per_minute']\n",
    "    if minute < 0:\n",
    "        minute = 0\n",
    "    sms = (row['count_messages'] - row['messages_included']) * row['rub_per_message']\n",
    "    if sms < 0:\n",
    "        sms = 0\n",
    "    gb = (row['gb_used'] - row['gb_per_month_included']) * row['rub_per_gb']\n",
    "    if gb < 0:\n",
    "        gb = 0\n",
    "\n",
    "    total = minute + sms + gb + row['rub_monthly_fee']\n",
    "    return total"
   ]
  },
  {
   "cell_type": "code",
   "execution_count": 15,
   "metadata": {},
   "outputs": [
    {
     "data": {
      "text/html": [
       "<div>\n",
       "<style scoped>\n",
       "    .dataframe tbody tr th:only-of-type {\n",
       "        vertical-align: middle;\n",
       "    }\n",
       "\n",
       "    .dataframe tbody tr th {\n",
       "        vertical-align: top;\n",
       "    }\n",
       "\n",
       "    .dataframe thead th {\n",
       "        text-align: right;\n",
       "    }\n",
       "</style>\n",
       "<table border=\"1\" class=\"dataframe\">\n",
       "  <thead>\n",
       "    <tr style=\"text-align: right;\">\n",
       "      <th></th>\n",
       "      <th>user_id</th>\n",
       "      <th>month</th>\n",
       "      <th>count_minut</th>\n",
       "      <th>sum_minut</th>\n",
       "      <th>count_messages</th>\n",
       "      <th>gb_used</th>\n",
       "      <th>age</th>\n",
       "      <th>churn_date</th>\n",
       "      <th>city</th>\n",
       "      <th>first_name</th>\n",
       "      <th>...</th>\n",
       "      <th>reg_date</th>\n",
       "      <th>tariff</th>\n",
       "      <th>messages_included</th>\n",
       "      <th>gb_per_month_included</th>\n",
       "      <th>minutes_included</th>\n",
       "      <th>rub_monthly_fee</th>\n",
       "      <th>rub_per_gb</th>\n",
       "      <th>rub_per_message</th>\n",
       "      <th>rub_per_minute</th>\n",
       "      <th>total</th>\n",
       "    </tr>\n",
       "  </thead>\n",
       "  <tbody>\n",
       "    <tr>\n",
       "      <th>0</th>\n",
       "      <td>1000</td>\n",
       "      <td>5</td>\n",
       "      <td>22.0</td>\n",
       "      <td>159.0</td>\n",
       "      <td>22.0</td>\n",
       "      <td>3.0</td>\n",
       "      <td>52</td>\n",
       "      <td>NaN</td>\n",
       "      <td>Краснодар</td>\n",
       "      <td>Рафаил</td>\n",
       "      <td>...</td>\n",
       "      <td>2018-05-25</td>\n",
       "      <td>ultra</td>\n",
       "      <td>1000</td>\n",
       "      <td>30.0</td>\n",
       "      <td>3000</td>\n",
       "      <td>1950</td>\n",
       "      <td>150</td>\n",
       "      <td>1</td>\n",
       "      <td>1</td>\n",
       "      <td>1950.0</td>\n",
       "    </tr>\n",
       "    <tr>\n",
       "      <th>1</th>\n",
       "      <td>1000</td>\n",
       "      <td>6</td>\n",
       "      <td>43.0</td>\n",
       "      <td>172.0</td>\n",
       "      <td>60.0</td>\n",
       "      <td>23.0</td>\n",
       "      <td>52</td>\n",
       "      <td>NaN</td>\n",
       "      <td>Краснодар</td>\n",
       "      <td>Рафаил</td>\n",
       "      <td>...</td>\n",
       "      <td>2018-05-25</td>\n",
       "      <td>ultra</td>\n",
       "      <td>1000</td>\n",
       "      <td>30.0</td>\n",
       "      <td>3000</td>\n",
       "      <td>1950</td>\n",
       "      <td>150</td>\n",
       "      <td>1</td>\n",
       "      <td>1</td>\n",
       "      <td>1950.0</td>\n",
       "    </tr>\n",
       "    <tr>\n",
       "      <th>2</th>\n",
       "      <td>1000</td>\n",
       "      <td>7</td>\n",
       "      <td>47.0</td>\n",
       "      <td>340.0</td>\n",
       "      <td>75.0</td>\n",
       "      <td>14.0</td>\n",
       "      <td>52</td>\n",
       "      <td>NaN</td>\n",
       "      <td>Краснодар</td>\n",
       "      <td>Рафаил</td>\n",
       "      <td>...</td>\n",
       "      <td>2018-05-25</td>\n",
       "      <td>ultra</td>\n",
       "      <td>1000</td>\n",
       "      <td>30.0</td>\n",
       "      <td>3000</td>\n",
       "      <td>1950</td>\n",
       "      <td>150</td>\n",
       "      <td>1</td>\n",
       "      <td>1</td>\n",
       "      <td>1950.0</td>\n",
       "    </tr>\n",
       "    <tr>\n",
       "      <th>3</th>\n",
       "      <td>1000</td>\n",
       "      <td>8</td>\n",
       "      <td>52.0</td>\n",
       "      <td>408.0</td>\n",
       "      <td>81.0</td>\n",
       "      <td>14.0</td>\n",
       "      <td>52</td>\n",
       "      <td>NaN</td>\n",
       "      <td>Краснодар</td>\n",
       "      <td>Рафаил</td>\n",
       "      <td>...</td>\n",
       "      <td>2018-05-25</td>\n",
       "      <td>ultra</td>\n",
       "      <td>1000</td>\n",
       "      <td>30.0</td>\n",
       "      <td>3000</td>\n",
       "      <td>1950</td>\n",
       "      <td>150</td>\n",
       "      <td>1</td>\n",
       "      <td>1</td>\n",
       "      <td>1950.0</td>\n",
       "    </tr>\n",
       "    <tr>\n",
       "      <th>4</th>\n",
       "      <td>1000</td>\n",
       "      <td>9</td>\n",
       "      <td>58.0</td>\n",
       "      <td>466.0</td>\n",
       "      <td>57.0</td>\n",
       "      <td>15.0</td>\n",
       "      <td>52</td>\n",
       "      <td>NaN</td>\n",
       "      <td>Краснодар</td>\n",
       "      <td>Рафаил</td>\n",
       "      <td>...</td>\n",
       "      <td>2018-05-25</td>\n",
       "      <td>ultra</td>\n",
       "      <td>1000</td>\n",
       "      <td>30.0</td>\n",
       "      <td>3000</td>\n",
       "      <td>1950</td>\n",
       "      <td>150</td>\n",
       "      <td>1</td>\n",
       "      <td>1</td>\n",
       "      <td>1950.0</td>\n",
       "    </tr>\n",
       "  </tbody>\n",
       "</table>\n",
       "<p>5 rows × 21 columns</p>\n",
       "</div>"
      ],
      "text/plain": [
       "   user_id  month  count_minut  sum_minut  count_messages  gb_used  age  \\\n",
       "0     1000      5         22.0      159.0            22.0      3.0   52   \n",
       "1     1000      6         43.0      172.0            60.0     23.0   52   \n",
       "2     1000      7         47.0      340.0            75.0     14.0   52   \n",
       "3     1000      8         52.0      408.0            81.0     14.0   52   \n",
       "4     1000      9         58.0      466.0            57.0     15.0   52   \n",
       "\n",
       "  churn_date       city first_name  ...    reg_date tariff messages_included  \\\n",
       "0        NaN  Краснодар     Рафаил  ...  2018-05-25  ultra              1000   \n",
       "1        NaN  Краснодар     Рафаил  ...  2018-05-25  ultra              1000   \n",
       "2        NaN  Краснодар     Рафаил  ...  2018-05-25  ultra              1000   \n",
       "3        NaN  Краснодар     Рафаил  ...  2018-05-25  ultra              1000   \n",
       "4        NaN  Краснодар     Рафаил  ...  2018-05-25  ultra              1000   \n",
       "\n",
       "   gb_per_month_included  minutes_included  rub_monthly_fee  rub_per_gb  \\\n",
       "0                   30.0              3000             1950         150   \n",
       "1                   30.0              3000             1950         150   \n",
       "2                   30.0              3000             1950         150   \n",
       "3                   30.0              3000             1950         150   \n",
       "4                   30.0              3000             1950         150   \n",
       "\n",
       "   rub_per_message  rub_per_minute   total  \n",
       "0                1               1  1950.0  \n",
       "1                1               1  1950.0  \n",
       "2                1               1  1950.0  \n",
       "3                1               1  1950.0  \n",
       "4                1               1  1950.0  \n",
       "\n",
       "[5 rows x 21 columns]"
      ]
     },
     "execution_count": 15,
     "metadata": {},
     "output_type": "execute_result"
    }
   ],
   "source": [
    "df['total'] = df.apply(total, axis=1)\n",
    "df.head(5)"
   ]
  },
  {
   "cell_type": "markdown",
   "metadata": {},
   "source": [
    "Посчитал прибыль каждого месяца для каждого клиента"
   ]
  },
  {
   "cell_type": "markdown",
   "metadata": {},
   "source": [
    "### Вывод"
   ]
  },
  {
   "cell_type": "markdown",
   "metadata": {},
   "source": [
    "Привел даты к типу datetime64. Минуты каждого разговора округлил до полных минут согласно тарифам. \n",
    "\n",
    "Объем интернета пересчитал в GB и округлил. \n",
    "\n",
    "Посчитал для каждого пользователя:\n",
    "\n",
    "количество сделанных звонков и израсходованных минут разговора по месяцам;\n",
    "\n",
    "количество отправленных сообщений по месяцам;\n",
    "\n",
    "объем израсходованного интернет-трафика по месяцам;\n",
    "\n",
    "Посчитал помесячную выручку с каждого пользователя."
   ]
  },
  {
   "cell_type": "markdown",
   "metadata": {},
   "source": [
    "# Анализ данных"
   ]
  },
  {
   "cell_type": "markdown",
   "metadata": {},
   "source": [
    "Шаг 3. Проанализируйте данные\n",
    "\n",
    "Опишите поведение клиентов оператора, исходя из выборки. Сколько минут разговора, сколько сообщений и какой объём интернет-трафика требуется пользователям каждого тарифа в месяц? Посчитайте среднее количество, дисперсию и стандартное отклонение.\n",
    "\n",
    "Постройте гистограммы. Опишите распределения."
   ]
  },
  {
   "cell_type": "code",
   "execution_count": 16,
   "metadata": {},
   "outputs": [
    {
     "data": {
      "image/png": "[encoded data removed]",
      "text/plain": [
       "<Figure size 432x288 with 1 Axes>"
      ]
     },
     "metadata": {
      "needs_background": "light"
     },
     "output_type": "display_data"
    }
   ],
   "source": [
    "df_ultra = df[df['tariff'] == 'ultra']\n",
    "df_smart = df[df['tariff'] == 'smart']\n",
    "df_ultra['sum_minut'].hist(bins=50, alpha=0.5);\n",
    "df_smart['sum_minut'].hist(bins=50, alpha=0.5);\n"
   ]
  },
  {
   "cell_type": "markdown",
   "metadata": {},
   "source": [
    "В обоих тарифах в среднем клиенты тратят около 500 минут в месяц"
   ]
  },
  {
   "cell_type": "code",
   "execution_count": 17,
   "metadata": {},
   "outputs": [
    {
     "data": {
      "image/png": "[encoded data removed]",
      "text/plain": [
       "<Figure size 432x288 with 1 Axes>"
      ]
     },
     "metadata": {
      "needs_background": "light"
     },
     "output_type": "display_data"
    }
   ],
   "source": [
    "df_ultra = df_ultra.query('count_messages > 0')\n",
    "df_smart = df_smart.query('count_messages > 0')\n",
    "df_ultra['count_messages'].hist(bins=20, alpha=0.5);\n",
    "df_smart['count_messages'].hist(bins=20, alpha=0.5);"
   ]
  },
  {
   "cell_type": "markdown",
   "metadata": {},
   "source": [
    "Так как в первой части заменял пропуски в сообщениях на 0, то в этой гистограмме исключил эти данные. \n",
    "\n",
    "В обоих тарифах сообщения в среднем отправляют до 50 шт."
   ]
  },
  {
   "cell_type": "code",
   "execution_count": 18,
   "metadata": {},
   "outputs": [
    {
     "data": {
      "image/png": "[encoded data removed]",
      "text/plain": [
       "<Figure size 432x288 with 1 Axes>"
      ]
     },
     "metadata": {
      "needs_background": "light"
     },
     "output_type": "display_data"
    }
   ],
   "source": [
    "df_ultra['gb_used'].hist(bins=20, alpha=0.5);\n",
    "df_smart['gb_used'].hist(bins=20, alpha=0.5);"
   ]
  },
  {
   "cell_type": "markdown",
   "metadata": {},
   "source": [
    "В среднем в тарифах расходуют от 10 до 23 Гб интернета"
   ]
  },
  {
   "cell_type": "code",
   "execution_count": 19,
   "metadata": {},
   "outputs": [
    {
     "data": {
      "text/html": [
       "<div>\n",
       "<style scoped>\n",
       "    .dataframe tbody tr th:only-of-type {\n",
       "        vertical-align: middle;\n",
       "    }\n",
       "\n",
       "    .dataframe tbody tr th {\n",
       "        vertical-align: top;\n",
       "    }\n",
       "\n",
       "    .dataframe thead tr th {\n",
       "        text-align: left;\n",
       "    }\n",
       "\n",
       "    .dataframe thead tr:last-of-type th {\n",
       "        text-align: right;\n",
       "    }\n",
       "</style>\n",
       "<table border=\"1\" class=\"dataframe\">\n",
       "  <thead>\n",
       "    <tr>\n",
       "      <th></th>\n",
       "      <th>mean</th>\n",
       "      <th>var</th>\n",
       "      <th>std</th>\n",
       "    </tr>\n",
       "    <tr>\n",
       "      <th></th>\n",
       "      <th>sum_minut</th>\n",
       "      <th>sum_minut</th>\n",
       "      <th>sum_minut</th>\n",
       "    </tr>\n",
       "    <tr>\n",
       "      <th>tariff</th>\n",
       "      <th></th>\n",
       "      <th></th>\n",
       "      <th></th>\n",
       "    </tr>\n",
       "  </thead>\n",
       "  <tbody>\n",
       "    <tr>\n",
       "      <th>smart</th>\n",
       "      <td>417.934948</td>\n",
       "      <td>36219.315784</td>\n",
       "      <td>190.313730</td>\n",
       "    </tr>\n",
       "    <tr>\n",
       "      <th>ultra</th>\n",
       "      <td>526.623350</td>\n",
       "      <td>100873.633397</td>\n",
       "      <td>317.606098</td>\n",
       "    </tr>\n",
       "  </tbody>\n",
       "</table>\n",
       "</div>"
      ],
      "text/plain": [
       "              mean            var         std\n",
       "         sum_minut      sum_minut   sum_minut\n",
       "tariff                                       \n",
       "smart   417.934948   36219.315784  190.313730\n",
       "ultra   526.623350  100873.633397  317.606098"
      ]
     },
     "execution_count": 19,
     "metadata": {},
     "output_type": "execute_result"
    }
   ],
   "source": [
    "df_min = df.pivot_table(index='tariff', values='sum_minut', aggfunc=['mean', 'var', 'std'])\n",
    "df_min"
   ]
  },
  {
   "cell_type": "markdown",
   "metadata": {},
   "source": [
    "В тарифе Ультра клиенты в среднем больше тратят минут"
   ]
  },
  {
   "cell_type": "code",
   "execution_count": 20,
   "metadata": {},
   "outputs": [
    {
     "data": {
      "text/html": [
       "<div>\n",
       "<style scoped>\n",
       "    .dataframe tbody tr th:only-of-type {\n",
       "        vertical-align: middle;\n",
       "    }\n",
       "\n",
       "    .dataframe tbody tr th {\n",
       "        vertical-align: top;\n",
       "    }\n",
       "\n",
       "    .dataframe thead tr th {\n",
       "        text-align: left;\n",
       "    }\n",
       "\n",
       "    .dataframe thead tr:last-of-type th {\n",
       "        text-align: right;\n",
       "    }\n",
       "</style>\n",
       "<table border=\"1\" class=\"dataframe\">\n",
       "  <thead>\n",
       "    <tr>\n",
       "      <th></th>\n",
       "      <th>mean</th>\n",
       "      <th>var</th>\n",
       "      <th>std</th>\n",
       "    </tr>\n",
       "    <tr>\n",
       "      <th></th>\n",
       "      <th>count_messages</th>\n",
       "      <th>count_messages</th>\n",
       "      <th>count_messages</th>\n",
       "    </tr>\n",
       "    <tr>\n",
       "      <th>tariff</th>\n",
       "      <th></th>\n",
       "      <th></th>\n",
       "      <th></th>\n",
       "    </tr>\n",
       "  </thead>\n",
       "  <tbody>\n",
       "    <tr>\n",
       "      <th>smart</th>\n",
       "      <td>33.384029</td>\n",
       "      <td>796.812958</td>\n",
       "      <td>28.227876</td>\n",
       "    </tr>\n",
       "    <tr>\n",
       "      <th>ultra</th>\n",
       "      <td>49.363452</td>\n",
       "      <td>2285.266143</td>\n",
       "      <td>47.804457</td>\n",
       "    </tr>\n",
       "  </tbody>\n",
       "</table>\n",
       "</div>"
      ],
      "text/plain": [
       "                 mean            var            std\n",
       "       count_messages count_messages count_messages\n",
       "tariff                                             \n",
       "smart       33.384029     796.812958      28.227876\n",
       "ultra       49.363452    2285.266143      47.804457"
      ]
     },
     "execution_count": 20,
     "metadata": {},
     "output_type": "execute_result"
    }
   ],
   "source": [
    "df_mes = df.pivot_table(index='tariff', values='count_messages', aggfunc=['mean', 'var', 'std'])\n",
    "df_mes"
   ]
  },
  {
   "cell_type": "markdown",
   "metadata": {},
   "source": [
    "В тарифе Ультра клиенты чаще отправляют сообщения"
   ]
  },
  {
   "cell_type": "code",
   "execution_count": 21,
   "metadata": {},
   "outputs": [
    {
     "data": {
      "text/html": [
       "<div>\n",
       "<style scoped>\n",
       "    .dataframe tbody tr th:only-of-type {\n",
       "        vertical-align: middle;\n",
       "    }\n",
       "\n",
       "    .dataframe tbody tr th {\n",
       "        vertical-align: top;\n",
       "    }\n",
       "\n",
       "    .dataframe thead tr th {\n",
       "        text-align: left;\n",
       "    }\n",
       "\n",
       "    .dataframe thead tr:last-of-type th {\n",
       "        text-align: right;\n",
       "    }\n",
       "</style>\n",
       "<table border=\"1\" class=\"dataframe\">\n",
       "  <thead>\n",
       "    <tr>\n",
       "      <th></th>\n",
       "      <th>mean</th>\n",
       "      <th>var</th>\n",
       "      <th>std</th>\n",
       "    </tr>\n",
       "    <tr>\n",
       "      <th></th>\n",
       "      <th>gb_used</th>\n",
       "      <th>gb_used</th>\n",
       "      <th>gb_used</th>\n",
       "    </tr>\n",
       "    <tr>\n",
       "      <th>tariff</th>\n",
       "      <th></th>\n",
       "      <th></th>\n",
       "      <th></th>\n",
       "    </tr>\n",
       "  </thead>\n",
       "  <tbody>\n",
       "    <tr>\n",
       "      <th>smart</th>\n",
       "      <td>16.328847</td>\n",
       "      <td>33.028705</td>\n",
       "      <td>5.747061</td>\n",
       "    </tr>\n",
       "    <tr>\n",
       "      <th>ultra</th>\n",
       "      <td>19.494416</td>\n",
       "      <td>97.091686</td>\n",
       "      <td>9.853511</td>\n",
       "    </tr>\n",
       "  </tbody>\n",
       "</table>\n",
       "</div>"
      ],
      "text/plain": [
       "             mean        var       std\n",
       "          gb_used    gb_used   gb_used\n",
       "tariff                                \n",
       "smart   16.328847  33.028705  5.747061\n",
       "ultra   19.494416  97.091686  9.853511"
      ]
     },
     "execution_count": 21,
     "metadata": {},
     "output_type": "execute_result"
    }
   ],
   "source": [
    "df_gb = df.pivot_table(index='tariff', values='gb_used', aggfunc=['mean', 'var', 'std'])\n",
    "df_gb"
   ]
  },
  {
   "cell_type": "markdown",
   "metadata": {},
   "source": [
    "В тарифе Ультра клиенты в среднем больше расходуют интернета"
   ]
  },
  {
   "cell_type": "markdown",
   "metadata": {},
   "source": [
    "### Вывод"
   ]
  },
  {
   "cell_type": "markdown",
   "metadata": {},
   "source": [
    "Провел анализ сколько требуется минут, сообщений и интернета пользователям двух тарифов в месяц. \n",
    "\n",
    "Клиенты тарифа Ультра тратять больше услуг."
   ]
  },
  {
   "cell_type": "markdown",
   "metadata": {},
   "source": [
    "# Проверка гипотез"
   ]
  },
  {
   "cell_type": "markdown",
   "metadata": {},
   "source": [
    "Шаг 4. Проверьте гипотезы\n",
    "\n",
    "средняя выручка пользователей тарифов «Ультра» и «Смарт» различаются;\n",
    "\n",
    "средняя выручка пользователей из Москвы отличается от выручки пользователей из других регионов.\n",
    "\n",
    "Пороговое значение alpha задайте самостоятельно.\n",
    "\n",
    "Поясните:\n",
    "\n",
    "как вы формулировали нулевую и альтернативную гипотезы;\n",
    "\n",
    "какой критерий использовали для проверки гипотез и почему."
   ]
  },
  {
   "cell_type": "markdown",
   "metadata": {},
   "source": [
    "Проверим гипотезу\n",
    "\n",
    "Нулевая гипотеза: средняя выручка пользователей тарифов «Ультра» и «Смарт» равны\n",
    "\n",
    "Альтернативная гипотеза: средняя выручка пользователей тарифов «Ультра» и «Смарт» не равны"
   ]
  },
  {
   "cell_type": "code",
   "execution_count": 22,
   "metadata": {},
   "outputs": [
    {
     "name": "stdout",
     "output_type": "stream",
     "text": [
      "cредняя выручка тарифа Ультра:  2047.7358490566037\n",
      "cреднее выручка тарифа Смарт:  1289.2289281997919\n",
      "p-значение:  4.4011742211120964e-215\n",
      "Отвергаем нулевую гипотезу\n"
     ]
    }
   ],
   "source": [
    "print('cредняя выручка тарифа Ультра: ',df_ultra['total'].mean())\n",
    "print('cреднее выручка тарифа Смарт: ',df_smart['total'].mean())\n",
    "\n",
    "alpha = 0.05 # критический уровень статистической значимости\n",
    "# если p-value окажется меньше него - отвегнем гипотезу\n",
    "\n",
    "results = st.ttest_ind(\n",
    "    df_ultra['total'], \n",
    "    df_smart['total'], \n",
    "    equal_var = False)\n",
    "# так как выборки по тарифам разные, то и дисперсия разная. Буду использовать equal_var = False\n",
    "print('p-значение: ', results.pvalue)\n",
    "\n",
    "if results.pvalue < alpha:\n",
    "    print(\"Отвергаем нулевую гипотезу\")\n",
    "else:\n",
    "    print(\"Не получилось отвергнуть нулевую гипотезу\") "
   ]
  },
  {
   "cell_type": "markdown",
   "metadata": {},
   "source": [
    "После проверки была отвергнута нулева гипотеза. \n",
    "\n",
    "Вывод: Выручка двух тарифов между собой отличается."
   ]
  },
  {
   "cell_type": "markdown",
   "metadata": {},
   "source": [
    "Проверим гипотезу\n",
    "\n",
    "Нулевая гипотеза: средняя выручка пользователей из Москвы равна выручке пользователей из других регионов\n",
    "\n",
    "Альтернативная гипотеза: средняя выручка пользователей из Москвы не равна выручки пользователей из других регионов"
   ]
  },
  {
   "cell_type": "code",
   "execution_count": 23,
   "metadata": {},
   "outputs": [],
   "source": [
    "df_moscow =df[df['city'] == 'Москва']\n",
    "df_region = df[df['city'] != 'Москва']"
   ]
  },
  {
   "cell_type": "code",
   "execution_count": 24,
   "metadata": {},
   "outputs": [
    {
     "name": "stdout",
     "output_type": "stream",
     "text": [
      "cредняя выручка в Москве:  1546.7135842880523\n",
      "cреднее выручка в регионе:  1524.9362274298885\n",
      "p-значение:  0.5257376663729298\n",
      "Не получилось отвергнуть нулевую гипотезу\n"
     ]
    }
   ],
   "source": [
    "print('cредняя выручка в Москве: ',df_moscow['total'].mean())\n",
    "print('cреднее выручка в регионе: ',df_region['total'].mean())\n",
    "\n",
    "alpha = 0.05 # критический уровень статистической значимости\n",
    "# если p-value окажется меньше него - отвегнем гипотезу\n",
    "\n",
    "results = st.ttest_ind(\n",
    "    df_moscow['total'], \n",
    "    df_region['total'], \n",
    "    equal_var = False)\n",
    "# так как выборки разные, то и дисперсия разная. Буду использовать equal_var = False\n",
    "print('p-значение: ', results.pvalue)\n",
    "\n",
    "if results.pvalue < alpha:\n",
    "    print(\"Отвергаем нулевую гипотезу\")\n",
    "else:\n",
    "    print(\"Не получилось отвергнуть нулевую гипотезу\") "
   ]
  },
  {
   "cell_type": "markdown",
   "metadata": {},
   "source": [
    "После проверки, нулевая гипотеза не была опровергнута.\n",
    "\n",
    "Вывод: средняя выручка пользователей из Москвы практически равна выручке пользователей из других регионов."
   ]
  },
  {
   "cell_type": "markdown",
   "metadata": {},
   "source": [
    "### Вывод"
   ]
  },
  {
   "cell_type": "markdown",
   "metadata": {},
   "source": [
    "Построил гистограммы использования минут, сообщений и интернета по двум тарифам. Показатели потребления в тарифе Ультра больше.\n",
    "\n",
    "Проверил гипотезу о равенстве средней выручки тарифов. Гипотеза была отвергнута, выручка по тарифам различается.\n",
    "\n",
    "Проверил гипотезу о равенстве средней выручки в Москве и регионах. Гипотеза была подтверждена, средние выручки практически одинаковые."
   ]
  },
  {
   "cell_type": "markdown",
   "metadata": {},
   "source": [
    "# Общий вывод"
   ]
  },
  {
   "cell_type": "markdown",
   "metadata": {},
   "source": [
    "Провел анализ тарифов для телеком-компании.\n",
    "\n",
    "Посчитал количество использованных минут, сообщений и интернет-трафика для каждого пользователя по месяцам и прибыль с каждого клиента компании.\n",
    "\n",
    "По построенным гистограммам было определено, что клиенты с тарифом ь тратят больше минут, сообщений и интернет-трафика.\n",
    "\n",
    "Проверил гипотезу о равенстве прибыли по тарифам. В результате исследования оказалось, что клиенты с тарифом Ультра приносят больше прибыли. \n",
    "\n",
    "Проверил гипотезу о равенстве прибыли клиентов из Москвы по сравнению с регионами. В результате исследования оказалось, что прибыль практически одинаковая. "
   ]
  }
 ],
 "metadata": {
  "ExecuteTimeLog": [
   {
    "duration": 300,
    "start_time": "2022-01-28T09:31:35.364Z"
   },
   {
    "duration": 642,
    "start_time": "2022-01-28T09:31:41.991Z"
   },
   {
    "duration": 182,
    "start_time": "2022-01-28T09:31:44.498Z"
   },
   {
    "duration": 206,
    "start_time": "2022-01-28T09:32:01.841Z"
   },
   {
    "duration": 171,
    "start_time": "2022-01-28T09:32:12.527Z"
   },
   {
    "duration": 202,
    "start_time": "2022-01-28T09:43:10.122Z"
   },
   {
    "duration": 183,
    "start_time": "2022-01-28T09:43:33.284Z"
   },
   {
    "duration": 175,
    "start_time": "2022-01-28T09:43:44.802Z"
   },
   {
    "duration": 209,
    "start_time": "2022-01-28T09:44:49.542Z"
   },
   {
    "duration": 421,
    "start_time": "2022-01-28T09:45:05.250Z"
   },
   {
    "duration": 185,
    "start_time": "2022-01-28T09:45:28.570Z"
   },
   {
    "duration": 166,
    "start_time": "2022-01-28T09:45:45.881Z"
   },
   {
    "duration": 298,
    "start_time": "2022-01-28T15:51:58.118Z"
   },
   {
    "duration": 775,
    "start_time": "2022-01-28T15:52:04.643Z"
   },
   {
    "duration": 235,
    "start_time": "2022-01-28T15:52:05.420Z"
   },
   {
    "duration": 187,
    "start_time": "2022-01-28T15:52:08.072Z"
   },
   {
    "duration": 190,
    "start_time": "2022-01-28T15:52:36.153Z"
   },
   {
    "duration": 179,
    "start_time": "2022-01-28T15:52:42.752Z"
   },
   {
    "duration": 505,
    "start_time": "2022-01-28T15:52:55.335Z"
   },
   {
    "duration": 177,
    "start_time": "2022-01-28T15:53:03.920Z"
   },
   {
    "duration": 229,
    "start_time": "2022-01-28T15:53:09.736Z"
   },
   {
    "duration": 213,
    "start_time": "2022-01-28T15:53:21.543Z"
   },
   {
    "duration": 4,
    "start_time": "2022-01-28T15:53:24.830Z"
   },
   {
    "duration": 4,
    "start_time": "2022-01-28T15:53:28.604Z"
   },
   {
    "duration": 208,
    "start_time": "2022-01-28T15:53:28.611Z"
   },
   {
    "duration": 174,
    "start_time": "2022-01-28T15:53:28.822Z"
   },
   {
    "duration": 109,
    "start_time": "2022-01-28T15:55:00.326Z"
   },
   {
    "duration": 127,
    "start_time": "2022-01-28T15:55:07.850Z"
   },
   {
    "duration": 25,
    "start_time": "2022-01-28T15:56:00.670Z"
   },
   {
    "duration": 40,
    "start_time": "2022-01-28T15:57:02.403Z"
   },
   {
    "duration": 334,
    "start_time": "2022-01-28T16:07:17.139Z"
   },
   {
    "duration": 189,
    "start_time": "2022-01-28T16:07:38.768Z"
   },
   {
    "duration": 134,
    "start_time": "2022-01-28T16:08:02.313Z"
   },
   {
    "duration": 31,
    "start_time": "2022-01-28T16:08:36.129Z"
   },
   {
    "duration": 42,
    "start_time": "2022-01-28T16:08:56.528Z"
   },
   {
    "duration": 546,
    "start_time": "2022-01-28T16:25:37.216Z"
   },
   {
    "duration": 250,
    "start_time": "2022-01-28T16:26:32.047Z"
   },
   {
    "duration": 251,
    "start_time": "2022-01-28T16:26:57.760Z"
   },
   {
    "duration": 238,
    "start_time": "2022-01-28T16:28:03.350Z"
   },
   {
    "duration": 197,
    "start_time": "2022-01-28T16:28:19.238Z"
   },
   {
    "duration": 823,
    "start_time": "2022-01-30T19:08:52.409Z"
   },
   {
    "duration": 243,
    "start_time": "2022-01-30T19:08:53.235Z"
   },
   {
    "duration": 201,
    "start_time": "2022-01-30T19:08:53.481Z"
   },
   {
    "duration": 138,
    "start_time": "2022-01-30T19:08:53.685Z"
   },
   {
    "duration": 33,
    "start_time": "2022-01-30T19:08:53.826Z"
   },
   {
    "duration": 59,
    "start_time": "2022-01-30T19:08:53.861Z"
   },
   {
    "duration": 226,
    "start_time": "2022-01-30T19:09:02.404Z"
   },
   {
    "duration": 3,
    "start_time": "2022-01-30T19:12:37.652Z"
   },
   {
    "duration": 233,
    "start_time": "2022-01-30T19:12:37.658Z"
   },
   {
    "duration": 200,
    "start_time": "2022-01-30T19:12:37.894Z"
   },
   {
    "duration": 139,
    "start_time": "2022-01-30T19:12:38.096Z"
   },
   {
    "duration": 32,
    "start_time": "2022-01-30T19:12:38.237Z"
   },
   {
    "duration": 51,
    "start_time": "2022-01-30T19:12:38.271Z"
   },
   {
    "duration": 305,
    "start_time": "2022-01-30T19:31:06.102Z"
   },
   {
    "duration": 234,
    "start_time": "2022-01-30T19:32:06.530Z"
   },
   {
    "duration": 236,
    "start_time": "2022-01-30T19:32:22.171Z"
   },
   {
    "duration": 239,
    "start_time": "2022-01-30T19:32:31.044Z"
   },
   {
    "duration": 248,
    "start_time": "2022-01-30T19:33:03.611Z"
   },
   {
    "duration": 480,
    "start_time": "2022-01-30T19:37:20.766Z"
   },
   {
    "duration": 66,
    "start_time": "2022-01-30T19:37:48.418Z"
   },
   {
    "duration": 56,
    "start_time": "2022-01-30T19:38:01.632Z"
   },
   {
    "duration": 46,
    "start_time": "2022-01-30T19:38:10.790Z"
   },
   {
    "duration": 71,
    "start_time": "2022-01-30T19:46:51.592Z"
   },
   {
    "duration": 367,
    "start_time": "2022-01-30T19:47:01.452Z"
   },
   {
    "duration": 369,
    "start_time": "2022-01-30T19:48:07.526Z"
   },
   {
    "duration": 359,
    "start_time": "2022-01-30T19:48:15.364Z"
   },
   {
    "duration": 3,
    "start_time": "2022-01-30T19:48:32.745Z"
   },
   {
    "duration": 235,
    "start_time": "2022-01-30T19:48:32.751Z"
   },
   {
    "duration": 201,
    "start_time": "2022-01-30T19:48:32.989Z"
   },
   {
    "duration": 140,
    "start_time": "2022-01-30T19:48:33.193Z"
   },
   {
    "duration": 34,
    "start_time": "2022-01-30T19:48:33.336Z"
   },
   {
    "duration": 57,
    "start_time": "2022-01-30T19:48:33.373Z"
   },
   {
    "duration": 74,
    "start_time": "2022-01-30T19:48:33.433Z"
   },
   {
    "duration": 99,
    "start_time": "2022-01-30T19:48:33.509Z"
   },
   {
    "duration": 4,
    "start_time": "2022-01-30T19:50:54.712Z"
   },
   {
    "duration": 226,
    "start_time": "2022-01-30T19:50:54.718Z"
   },
   {
    "duration": 190,
    "start_time": "2022-01-30T19:50:54.947Z"
   },
   {
    "duration": 142,
    "start_time": "2022-01-30T19:50:55.140Z"
   },
   {
    "duration": 32,
    "start_time": "2022-01-30T19:50:55.285Z"
   },
   {
    "duration": 55,
    "start_time": "2022-01-30T19:50:55.319Z"
   },
   {
    "duration": 84,
    "start_time": "2022-01-30T19:50:55.376Z"
   },
   {
    "duration": 82,
    "start_time": "2022-01-30T19:50:58.946Z"
   },
   {
    "duration": 16,
    "start_time": "2022-01-30T19:51:10.468Z"
   },
   {
    "duration": 30,
    "start_time": "2022-01-30T19:54:34.371Z"
   },
   {
    "duration": 131,
    "start_time": "2022-01-30T19:55:00.248Z"
   },
   {
    "duration": 23,
    "start_time": "2022-01-30T19:55:18.407Z"
   },
   {
    "duration": 1075,
    "start_time": "2022-01-30T19:58:50.957Z"
   },
   {
    "duration": 81,
    "start_time": "2022-01-30T19:59:35.112Z"
   },
   {
    "duration": 79,
    "start_time": "2022-01-30T20:00:09.486Z"
   },
   {
    "duration": 76,
    "start_time": "2022-01-30T20:01:40.703Z"
   },
   {
    "duration": 74,
    "start_time": "2022-01-30T20:01:53.278Z"
   },
   {
    "duration": 78,
    "start_time": "2022-01-30T20:02:01.940Z"
   },
   {
    "duration": 74,
    "start_time": "2022-01-30T20:02:14.768Z"
   },
   {
    "duration": 79,
    "start_time": "2022-01-30T20:02:21.135Z"
   },
   {
    "duration": 47,
    "start_time": "2022-01-30T20:10:36.836Z"
   },
   {
    "duration": 82,
    "start_time": "2022-01-30T20:10:53.459Z"
   },
   {
    "duration": -97,
    "start_time": "2022-01-30T20:18:46.350Z"
   },
   {
    "duration": 4,
    "start_time": "2022-01-30T20:18:57.960Z"
   },
   {
    "duration": 221,
    "start_time": "2022-01-30T20:18:57.973Z"
   },
   {
    "duration": 202,
    "start_time": "2022-01-30T20:18:58.197Z"
   },
   {
    "duration": 138,
    "start_time": "2022-01-30T20:18:58.402Z"
   },
   {
    "duration": 32,
    "start_time": "2022-01-30T20:18:58.543Z"
   },
   {
    "duration": 49,
    "start_time": "2022-01-30T20:18:58.578Z"
   },
   {
    "duration": 447,
    "start_time": "2022-01-30T20:19:05.390Z"
   },
   {
    "duration": 391,
    "start_time": "2022-01-30T20:19:18.222Z"
   },
   {
    "duration": 47,
    "start_time": "2022-01-30T20:19:29.839Z"
   },
   {
    "duration": 50,
    "start_time": "2022-01-30T20:19:55.582Z"
   },
   {
    "duration": 2384,
    "start_time": "2022-01-30T20:20:15.973Z"
   },
   {
    "duration": 464,
    "start_time": "2022-01-30T20:21:48.676Z"
   },
   {
    "duration": 407,
    "start_time": "2022-01-30T20:22:05.805Z"
   },
   {
    "duration": 428,
    "start_time": "2022-01-30T20:24:59.172Z"
   },
   {
    "duration": 4,
    "start_time": "2022-01-30T20:25:15.732Z"
   },
   {
    "duration": 233,
    "start_time": "2022-01-30T20:25:15.739Z"
   },
   {
    "duration": 208,
    "start_time": "2022-01-30T20:25:15.975Z"
   },
   {
    "duration": 142,
    "start_time": "2022-01-30T20:25:16.186Z"
   },
   {
    "duration": 42,
    "start_time": "2022-01-30T20:25:16.330Z"
   },
   {
    "duration": 51,
    "start_time": "2022-01-30T20:25:16.374Z"
   },
   {
    "duration": 480,
    "start_time": "2022-01-30T20:25:20.474Z"
   },
   {
    "duration": 399,
    "start_time": "2022-01-30T20:26:08.010Z"
   },
   {
    "duration": 413,
    "start_time": "2022-01-30T20:33:40.077Z"
   },
   {
    "duration": 892,
    "start_time": "2022-01-30T20:36:10.302Z"
   },
   {
    "duration": 413,
    "start_time": "2022-01-30T20:36:28.054Z"
   },
   {
    "duration": 397,
    "start_time": "2022-01-30T20:36:41.549Z"
   },
   {
    "duration": 413,
    "start_time": "2022-01-30T20:36:44.848Z"
   },
   {
    "duration": 409,
    "start_time": "2022-01-30T20:37:27.190Z"
   },
   {
    "duration": 449,
    "start_time": "2022-01-30T20:37:38.916Z"
   },
   {
    "duration": 1513,
    "start_time": "2022-01-30T20:39:35.509Z"
   },
   {
    "duration": 1499,
    "start_time": "2022-01-30T20:42:03.949Z"
   },
   {
    "duration": 152,
    "start_time": "2022-01-30T20:42:16.826Z"
   },
   {
    "duration": 154,
    "start_time": "2022-01-30T20:42:37.059Z"
   },
   {
    "duration": 129,
    "start_time": "2022-01-30T20:43:15.411Z"
   },
   {
    "duration": 3,
    "start_time": "2022-01-30T20:43:22.269Z"
   },
   {
    "duration": 242,
    "start_time": "2022-01-30T20:43:22.275Z"
   },
   {
    "duration": 202,
    "start_time": "2022-01-30T20:43:22.522Z"
   },
   {
    "duration": 149,
    "start_time": "2022-01-30T20:43:22.727Z"
   },
   {
    "duration": 34,
    "start_time": "2022-01-30T20:43:22.879Z"
   },
   {
    "duration": 52,
    "start_time": "2022-01-30T20:43:22.915Z"
   },
   {
    "duration": 188,
    "start_time": "2022-01-30T20:43:25.355Z"
   },
   {
    "duration": 148,
    "start_time": "2022-01-30T20:45:36.066Z"
   },
   {
    "duration": 3,
    "start_time": "2022-01-30T20:45:47.075Z"
   },
   {
    "duration": 231,
    "start_time": "2022-01-30T20:45:47.081Z"
   },
   {
    "duration": 195,
    "start_time": "2022-01-30T20:45:47.315Z"
   },
   {
    "duration": 140,
    "start_time": "2022-01-30T20:45:47.512Z"
   },
   {
    "duration": 32,
    "start_time": "2022-01-30T20:45:47.654Z"
   },
   {
    "duration": 50,
    "start_time": "2022-01-30T20:45:47.689Z"
   },
   {
    "duration": 174,
    "start_time": "2022-01-30T20:45:47.743Z"
   },
   {
    "duration": 3,
    "start_time": "2022-01-30T20:45:55.500Z"
   },
   {
    "duration": 234,
    "start_time": "2022-01-30T20:45:55.505Z"
   },
   {
    "duration": 194,
    "start_time": "2022-01-30T20:45:55.742Z"
   },
   {
    "duration": 143,
    "start_time": "2022-01-30T20:45:55.938Z"
   },
   {
    "duration": 34,
    "start_time": "2022-01-30T20:45:56.083Z"
   },
   {
    "duration": 51,
    "start_time": "2022-01-30T20:45:56.119Z"
   },
   {
    "duration": 167,
    "start_time": "2022-01-30T20:45:59.696Z"
   },
   {
    "duration": 139,
    "start_time": "2022-01-30T20:46:06.393Z"
   },
   {
    "duration": 158,
    "start_time": "2022-01-30T20:47:49.832Z"
   },
   {
    "duration": 144,
    "start_time": "2022-01-30T20:49:34.743Z"
   },
   {
    "duration": 118,
    "start_time": "2022-01-30T20:49:40.080Z"
   },
   {
    "duration": 3,
    "start_time": "2022-01-30T20:49:46.747Z"
   },
   {
    "duration": 228,
    "start_time": "2022-01-30T20:49:46.753Z"
   },
   {
    "duration": 208,
    "start_time": "2022-01-30T20:49:46.984Z"
   },
   {
    "duration": 131,
    "start_time": "2022-01-30T20:49:47.195Z"
   },
   {
    "duration": 37,
    "start_time": "2022-01-30T20:49:47.329Z"
   },
   {
    "duration": 70,
    "start_time": "2022-01-30T20:49:47.370Z"
   },
   {
    "duration": 162,
    "start_time": "2022-01-30T20:49:50.303Z"
   },
   {
    "duration": 117,
    "start_time": "2022-01-30T20:51:20.695Z"
   },
   {
    "duration": 1494,
    "start_time": "2022-01-30T20:51:26.647Z"
   },
   {
    "duration": 342,
    "start_time": "2022-01-30T20:51:39.654Z"
   },
   {
    "duration": 4,
    "start_time": "2022-01-30T20:51:55.834Z"
   },
   {
    "duration": 228,
    "start_time": "2022-01-30T20:51:55.840Z"
   },
   {
    "duration": 1930,
    "start_time": "2022-01-30T20:51:56.072Z"
   },
   {
    "duration": 340,
    "start_time": "2022-01-30T20:51:58.005Z"
   },
   {
    "duration": 33,
    "start_time": "2022-01-30T20:51:58.347Z"
   },
   {
    "duration": 79,
    "start_time": "2022-01-30T20:51:58.382Z"
   },
   {
    "duration": 167,
    "start_time": "2022-01-30T20:51:58.463Z"
   },
   {
    "duration": 62,
    "start_time": "2022-01-30T20:52:01.317Z"
   },
   {
    "duration": 358,
    "start_time": "2022-01-30T20:52:09.776Z"
   },
   {
    "duration": -61,
    "start_time": "2022-01-30T20:52:41.801Z"
   },
   {
    "duration": 4,
    "start_time": "2022-01-30T20:53:04.921Z"
   },
   {
    "duration": 220,
    "start_time": "2022-01-30T20:53:04.928Z"
   },
   {
    "duration": 213,
    "start_time": "2022-01-30T20:53:05.151Z"
   },
   {
    "duration": 130,
    "start_time": "2022-01-30T20:53:05.367Z"
   },
   {
    "duration": 31,
    "start_time": "2022-01-30T20:53:05.499Z"
   },
   {
    "duration": 58,
    "start_time": "2022-01-30T20:53:05.532Z"
   },
   {
    "duration": 158,
    "start_time": "2022-01-30T20:53:05.592Z"
   },
   {
    "duration": 60,
    "start_time": "2022-01-30T20:53:05.752Z"
   },
   {
    "duration": 5,
    "start_time": "2022-01-30T20:53:43.017Z"
   },
   {
    "duration": 424,
    "start_time": "2022-01-30T20:53:43.026Z"
   },
   {
    "duration": 203,
    "start_time": "2022-01-30T20:53:43.461Z"
   },
   {
    "duration": 131,
    "start_time": "2022-01-30T20:53:43.667Z"
   },
   {
    "duration": 30,
    "start_time": "2022-01-30T20:53:43.800Z"
   },
   {
    "duration": 54,
    "start_time": "2022-01-30T20:53:43.833Z"
   },
   {
    "duration": 201,
    "start_time": "2022-01-30T20:53:43.889Z"
   },
   {
    "duration": 71,
    "start_time": "2022-01-30T20:53:44.092Z"
   },
   {
    "duration": 374,
    "start_time": "2022-01-30T20:54:03.409Z"
   },
   {
    "duration": 348,
    "start_time": "2022-01-30T20:54:19.796Z"
   },
   {
    "duration": 10915,
    "start_time": "2022-01-30T20:54:22.764Z"
   },
   {
    "duration": 4,
    "start_time": "2022-01-30T20:54:50.291Z"
   },
   {
    "duration": 223,
    "start_time": "2022-01-30T20:54:50.297Z"
   },
   {
    "duration": 209,
    "start_time": "2022-01-30T20:54:50.524Z"
   },
   {
    "duration": 134,
    "start_time": "2022-01-30T20:54:50.735Z"
   },
   {
    "duration": 32,
    "start_time": "2022-01-30T20:54:50.872Z"
   },
   {
    "duration": 61,
    "start_time": "2022-01-30T20:54:50.907Z"
   },
   {
    "duration": 156,
    "start_time": "2022-01-30T20:54:58.069Z"
   },
   {
    "duration": 58,
    "start_time": "2022-01-30T20:55:02.148Z"
   },
   {
    "duration": 382,
    "start_time": "2022-01-30T20:55:18.309Z"
   },
   {
    "duration": 8876,
    "start_time": "2022-01-30T20:55:34.844Z"
   },
   {
    "duration": 3,
    "start_time": "2022-01-30T20:56:07.551Z"
   },
   {
    "duration": 224,
    "start_time": "2022-01-30T20:56:07.557Z"
   },
   {
    "duration": 200,
    "start_time": "2022-01-30T20:56:07.784Z"
   },
   {
    "duration": 140,
    "start_time": "2022-01-30T20:56:07.987Z"
   },
   {
    "duration": 32,
    "start_time": "2022-01-30T20:56:08.129Z"
   },
   {
    "duration": 57,
    "start_time": "2022-01-30T20:56:08.163Z"
   },
   {
    "duration": 171,
    "start_time": "2022-01-30T20:56:17.948Z"
   },
   {
    "duration": 65,
    "start_time": "2022-01-30T20:56:36.580Z"
   },
   {
    "duration": 376,
    "start_time": "2022-01-30T20:57:57.763Z"
   },
   {
    "duration": 4,
    "start_time": "2022-01-30T20:58:06.341Z"
   },
   {
    "duration": 224,
    "start_time": "2022-01-30T20:58:06.348Z"
   },
   {
    "duration": 215,
    "start_time": "2022-01-30T20:58:06.576Z"
   },
   {
    "duration": 137,
    "start_time": "2022-01-30T20:58:06.795Z"
   },
   {
    "duration": 33,
    "start_time": "2022-01-30T20:58:06.935Z"
   },
   {
    "duration": 55,
    "start_time": "2022-01-30T20:58:06.970Z"
   },
   {
    "duration": 170,
    "start_time": "2022-01-30T20:58:07.027Z"
   },
   {
    "duration": 66,
    "start_time": "2022-01-30T20:58:09.738Z"
   },
   {
    "duration": 9322,
    "start_time": "2022-01-30T21:01:25.385Z"
   },
   {
    "duration": -97,
    "start_time": "2022-01-30T21:01:34.807Z"
   },
   {
    "duration": 4,
    "start_time": "2022-01-30T21:01:41.755Z"
   },
   {
    "duration": 218,
    "start_time": "2022-01-30T21:01:41.761Z"
   },
   {
    "duration": 205,
    "start_time": "2022-01-30T21:01:41.981Z"
   },
   {
    "duration": 135,
    "start_time": "2022-01-30T21:01:42.189Z"
   },
   {
    "duration": 34,
    "start_time": "2022-01-30T21:01:42.327Z"
   },
   {
    "duration": 54,
    "start_time": "2022-01-30T21:01:42.363Z"
   },
   {
    "duration": 220,
    "start_time": "2022-01-30T21:01:45.065Z"
   },
   {
    "duration": 67,
    "start_time": "2022-01-30T21:01:50.745Z"
   },
   {
    "duration": 9137,
    "start_time": "2022-01-30T21:02:37.528Z"
   },
   {
    "duration": -87,
    "start_time": "2022-01-30T21:02:46.755Z"
   },
   {
    "duration": -89,
    "start_time": "2022-01-30T21:02:46.758Z"
   },
   {
    "duration": -90,
    "start_time": "2022-01-30T21:02:46.761Z"
   },
   {
    "duration": -90,
    "start_time": "2022-01-30T21:02:46.763Z"
   },
   {
    "duration": -90,
    "start_time": "2022-01-30T21:02:46.764Z"
   },
   {
    "duration": -90,
    "start_time": "2022-01-30T21:02:46.766Z"
   },
   {
    "duration": 9123,
    "start_time": "2022-01-30T21:02:47.785Z"
   },
   {
    "duration": 4,
    "start_time": "2022-01-30T21:03:04.001Z"
   },
   {
    "duration": 230,
    "start_time": "2022-01-30T21:03:04.008Z"
   },
   {
    "duration": 208,
    "start_time": "2022-01-30T21:03:04.242Z"
   },
   {
    "duration": 134,
    "start_time": "2022-01-30T21:03:04.459Z"
   },
   {
    "duration": 33,
    "start_time": "2022-01-30T21:03:04.595Z"
   },
   {
    "duration": 56,
    "start_time": "2022-01-30T21:03:04.631Z"
   },
   {
    "duration": 223,
    "start_time": "2022-01-30T21:03:08.959Z"
   },
   {
    "duration": 20,
    "start_time": "2022-01-30T21:04:17.076Z"
   },
   {
    "duration": 41,
    "start_time": "2022-01-30T21:04:51.960Z"
   },
   {
    "duration": 29,
    "start_time": "2022-01-30T21:07:52.863Z"
   },
   {
    "duration": 45,
    "start_time": "2022-01-30T21:08:06.807Z"
   },
   {
    "duration": 63,
    "start_time": "2022-01-30T21:09:50.503Z"
   },
   {
    "duration": 9805,
    "start_time": "2022-01-30T21:12:14.893Z"
   },
   {
    "duration": 9153,
    "start_time": "2022-01-30T21:12:44.912Z"
   },
   {
    "duration": 4,
    "start_time": "2022-01-30T21:13:06.575Z"
   },
   {
    "duration": 216,
    "start_time": "2022-01-30T21:13:06.581Z"
   },
   {
    "duration": 201,
    "start_time": "2022-01-30T21:13:06.800Z"
   },
   {
    "duration": 137,
    "start_time": "2022-01-30T21:13:07.004Z"
   },
   {
    "duration": 31,
    "start_time": "2022-01-30T21:13:07.143Z"
   },
   {
    "duration": 76,
    "start_time": "2022-01-30T21:13:07.176Z"
   },
   {
    "duration": 225,
    "start_time": "2022-01-30T21:13:07.255Z"
   },
   {
    "duration": 92,
    "start_time": "2022-01-30T21:13:15.828Z"
   },
   {
    "duration": 9626,
    "start_time": "2022-01-30T21:14:10.461Z"
   },
   {
    "duration": 5,
    "start_time": "2022-01-30T21:14:26.278Z"
   },
   {
    "duration": 310,
    "start_time": "2022-01-30T21:14:26.286Z"
   },
   {
    "duration": 205,
    "start_time": "2022-01-30T21:14:26.599Z"
   },
   {
    "duration": 129,
    "start_time": "2022-01-30T21:14:26.807Z"
   },
   {
    "duration": 31,
    "start_time": "2022-01-30T21:14:26.938Z"
   },
   {
    "duration": 54,
    "start_time": "2022-01-30T21:14:26.972Z"
   },
   {
    "duration": 218,
    "start_time": "2022-01-30T21:14:27.028Z"
   },
   {
    "duration": 99,
    "start_time": "2022-01-30T21:14:30.261Z"
   },
   {
    "duration": 4,
    "start_time": "2022-01-30T21:15:44.191Z"
   },
   {
    "duration": 222,
    "start_time": "2022-01-30T21:15:44.199Z"
   },
   {
    "duration": 211,
    "start_time": "2022-01-30T21:15:44.426Z"
   },
   {
    "duration": 133,
    "start_time": "2022-01-30T21:15:44.640Z"
   },
   {
    "duration": 32,
    "start_time": "2022-01-30T21:15:44.776Z"
   },
   {
    "duration": 56,
    "start_time": "2022-01-30T21:15:44.810Z"
   },
   {
    "duration": 223,
    "start_time": "2022-01-30T21:15:44.868Z"
   },
   {
    "duration": 88,
    "start_time": "2022-01-30T21:15:47.150Z"
   },
   {
    "duration": -67,
    "start_time": "2022-01-30T21:17:11.976Z"
   },
   {
    "duration": -72,
    "start_time": "2022-01-30T21:17:11.983Z"
   },
   {
    "duration": -86,
    "start_time": "2022-01-30T21:17:11.999Z"
   },
   {
    "duration": -85,
    "start_time": "2022-01-30T21:17:12.001Z"
   },
   {
    "duration": -85,
    "start_time": "2022-01-30T21:17:12.003Z"
   },
   {
    "duration": -86,
    "start_time": "2022-01-30T21:17:12.006Z"
   },
   {
    "duration": -85,
    "start_time": "2022-01-30T21:17:12.007Z"
   },
   {
    "duration": -84,
    "start_time": "2022-01-30T21:17:12.009Z"
   },
   {
    "duration": 5,
    "start_time": "2022-01-30T21:17:21.376Z"
   },
   {
    "duration": 293,
    "start_time": "2022-01-30T21:17:21.383Z"
   },
   {
    "duration": 210,
    "start_time": "2022-01-30T21:17:21.680Z"
   },
   {
    "duration": 150,
    "start_time": "2022-01-30T21:17:21.894Z"
   },
   {
    "duration": 1733,
    "start_time": "2022-01-30T21:17:22.058Z"
   },
   {
    "duration": 531,
    "start_time": "2022-01-30T21:17:23.793Z"
   },
   {
    "duration": 216,
    "start_time": "2022-01-30T21:17:24.327Z"
   },
   {
    "duration": 93,
    "start_time": "2022-01-30T21:17:24.546Z"
   },
   {
    "duration": 601,
    "start_time": "2022-01-31T06:31:14.585Z"
   },
   {
    "duration": 177,
    "start_time": "2022-01-31T06:31:15.188Z"
   },
   {
    "duration": 147,
    "start_time": "2022-01-31T06:31:15.366Z"
   },
   {
    "duration": 107,
    "start_time": "2022-01-31T06:31:15.515Z"
   },
   {
    "duration": 22,
    "start_time": "2022-01-31T06:31:15.623Z"
   },
   {
    "duration": 31,
    "start_time": "2022-01-31T06:31:15.647Z"
   },
   {
    "duration": 176,
    "start_time": "2022-01-31T06:31:15.680Z"
   },
   {
    "duration": 79,
    "start_time": "2022-01-31T06:31:15.858Z"
   },
   {
    "duration": 9,
    "start_time": "2022-01-31T06:34:06.586Z"
   },
   {
    "duration": 56,
    "start_time": "2022-01-31T06:37:10.333Z"
   },
   {
    "duration": 17,
    "start_time": "2022-01-31T06:38:14.814Z"
   },
   {
    "duration": 19,
    "start_time": "2022-01-31T06:38:37.113Z"
   },
   {
    "duration": 17,
    "start_time": "2022-01-31T06:38:41.173Z"
   },
   {
    "duration": 3,
    "start_time": "2022-01-31T06:38:45.063Z"
   },
   {
    "duration": 157,
    "start_time": "2022-01-31T06:38:45.067Z"
   },
   {
    "duration": 134,
    "start_time": "2022-01-31T06:38:45.226Z"
   },
   {
    "duration": 95,
    "start_time": "2022-01-31T06:38:45.362Z"
   },
   {
    "duration": 21,
    "start_time": "2022-01-31T06:38:45.458Z"
   },
   {
    "duration": 30,
    "start_time": "2022-01-31T06:38:45.481Z"
   },
   {
    "duration": 163,
    "start_time": "2022-01-31T06:38:45.512Z"
   },
   {
    "duration": 57,
    "start_time": "2022-01-31T06:38:45.677Z"
   },
   {
    "duration": 61,
    "start_time": "2022-01-31T06:38:45.736Z"
   },
   {
    "duration": 3,
    "start_time": "2022-01-31T06:39:02.996Z"
   },
   {
    "duration": 161,
    "start_time": "2022-01-31T06:39:03.001Z"
   },
   {
    "duration": 143,
    "start_time": "2022-01-31T06:39:03.165Z"
   },
   {
    "duration": 99,
    "start_time": "2022-01-31T06:39:03.313Z"
   },
   {
    "duration": 23,
    "start_time": "2022-01-31T06:39:03.413Z"
   },
   {
    "duration": 34,
    "start_time": "2022-01-31T06:39:03.437Z"
   },
   {
    "duration": 150,
    "start_time": "2022-01-31T06:39:03.473Z"
   },
   {
    "duration": 36,
    "start_time": "2022-01-31T06:39:03.625Z"
   },
   {
    "duration": 75,
    "start_time": "2022-01-31T06:39:03.662Z"
   },
   {
    "duration": 3,
    "start_time": "2022-01-31T06:39:58.695Z"
   },
   {
    "duration": 156,
    "start_time": "2022-01-31T06:39:58.699Z"
   },
   {
    "duration": 137,
    "start_time": "2022-01-31T06:39:58.856Z"
   },
   {
    "duration": 109,
    "start_time": "2022-01-31T06:39:58.995Z"
   },
   {
    "duration": 22,
    "start_time": "2022-01-31T06:39:59.105Z"
   },
   {
    "duration": 36,
    "start_time": "2022-01-31T06:39:59.128Z"
   },
   {
    "duration": 154,
    "start_time": "2022-01-31T06:39:59.166Z"
   },
   {
    "duration": 10,
    "start_time": "2022-01-31T06:39:59.321Z"
   },
   {
    "duration": 39,
    "start_time": "2022-01-31T06:39:59.333Z"
   },
   {
    "duration": 77,
    "start_time": "2022-01-31T06:39:59.374Z"
   },
   {
    "duration": 24,
    "start_time": "2022-01-31T06:40:58.175Z"
   },
   {
    "duration": 45,
    "start_time": "2022-01-31T06:41:26.033Z"
   },
   {
    "duration": 7,
    "start_time": "2022-01-31T06:41:43.213Z"
   },
   {
    "duration": 2,
    "start_time": "2022-01-31T06:41:47.815Z"
   },
   {
    "duration": 156,
    "start_time": "2022-01-31T06:41:47.819Z"
   },
   {
    "duration": 135,
    "start_time": "2022-01-31T06:41:47.977Z"
   },
   {
    "duration": 96,
    "start_time": "2022-01-31T06:41:48.114Z"
   },
   {
    "duration": 21,
    "start_time": "2022-01-31T06:41:48.212Z"
   },
   {
    "duration": 31,
    "start_time": "2022-01-31T06:41:48.234Z"
   },
   {
    "duration": 151,
    "start_time": "2022-01-31T06:41:48.267Z"
   },
   {
    "duration": 7,
    "start_time": "2022-01-31T06:41:48.419Z"
   },
   {
    "duration": 58,
    "start_time": "2022-01-31T06:41:48.428Z"
   },
   {
    "duration": 74,
    "start_time": "2022-01-31T06:41:48.488Z"
   },
   {
    "duration": 64,
    "start_time": "2022-01-31T06:43:48.013Z"
   },
   {
    "duration": 3,
    "start_time": "2022-01-31T06:43:59.303Z"
   },
   {
    "duration": 160,
    "start_time": "2022-01-31T06:43:59.308Z"
   },
   {
    "duration": 133,
    "start_time": "2022-01-31T06:43:59.469Z"
   },
   {
    "duration": 96,
    "start_time": "2022-01-31T06:43:59.604Z"
   },
   {
    "duration": 23,
    "start_time": "2022-01-31T06:43:59.702Z"
   },
   {
    "duration": 32,
    "start_time": "2022-01-31T06:43:59.727Z"
   },
   {
    "duration": 155,
    "start_time": "2022-01-31T06:43:59.761Z"
   },
   {
    "duration": 7,
    "start_time": "2022-01-31T06:43:59.918Z"
   },
   {
    "duration": 57,
    "start_time": "2022-01-31T06:43:59.928Z"
   },
   {
    "duration": 86,
    "start_time": "2022-01-31T06:43:59.987Z"
   },
   {
    "duration": 14,
    "start_time": "2022-01-31T06:56:53.406Z"
   },
   {
    "duration": 2,
    "start_time": "2022-01-31T06:58:04.731Z"
   },
   {
    "duration": 159,
    "start_time": "2022-01-31T06:58:04.735Z"
   },
   {
    "duration": 135,
    "start_time": "2022-01-31T06:58:04.896Z"
   },
   {
    "duration": 94,
    "start_time": "2022-01-31T06:58:05.033Z"
   },
   {
    "duration": 21,
    "start_time": "2022-01-31T06:58:05.128Z"
   },
   {
    "duration": 34,
    "start_time": "2022-01-31T06:58:05.150Z"
   },
   {
    "duration": 158,
    "start_time": "2022-01-31T06:58:05.185Z"
   },
   {
    "duration": 55,
    "start_time": "2022-01-31T06:58:05.344Z"
   },
   {
    "duration": 65,
    "start_time": "2022-01-31T06:58:05.413Z"
   },
   {
    "duration": 13,
    "start_time": "2022-01-31T06:58:05.479Z"
   },
   {
    "duration": 18,
    "start_time": "2022-01-31T06:58:46.350Z"
   },
   {
    "duration": -1961,
    "start_time": "2022-01-31T07:01:42.018Z"
   },
   {
    "duration": -1970,
    "start_time": "2022-01-31T07:01:42.028Z"
   },
   {
    "duration": -1976,
    "start_time": "2022-01-31T07:01:42.035Z"
   },
   {
    "duration": -1985,
    "start_time": "2022-01-31T07:01:42.046Z"
   },
   {
    "duration": -1991,
    "start_time": "2022-01-31T07:01:42.053Z"
   },
   {
    "duration": -2002,
    "start_time": "2022-01-31T07:01:42.065Z"
   },
   {
    "duration": -2016,
    "start_time": "2022-01-31T07:01:42.081Z"
   },
   {
    "duration": -2029,
    "start_time": "2022-01-31T07:01:42.095Z"
   },
   {
    "duration": -2034,
    "start_time": "2022-01-31T07:01:42.101Z"
   },
   {
    "duration": -2043,
    "start_time": "2022-01-31T07:01:42.112Z"
   },
   {
    "duration": 3,
    "start_time": "2022-01-31T07:01:59.711Z"
   },
   {
    "duration": 155,
    "start_time": "2022-01-31T07:01:59.716Z"
   },
   {
    "duration": 135,
    "start_time": "2022-01-31T07:01:59.874Z"
   },
   {
    "duration": 97,
    "start_time": "2022-01-31T07:02:00.011Z"
   },
   {
    "duration": 22,
    "start_time": "2022-01-31T07:02:00.109Z"
   },
   {
    "duration": 42,
    "start_time": "2022-01-31T07:02:00.132Z"
   },
   {
    "duration": 152,
    "start_time": "2022-01-31T07:02:00.175Z"
   },
   {
    "duration": 53,
    "start_time": "2022-01-31T07:02:00.329Z"
   },
   {
    "duration": 76,
    "start_time": "2022-01-31T07:02:00.384Z"
   },
   {
    "duration": 16,
    "start_time": "2022-01-31T07:02:00.462Z"
   },
   {
    "duration": 5966,
    "start_time": "2022-01-31T07:06:29.989Z"
   },
   {
    "duration": 3,
    "start_time": "2022-01-31T07:06:37.330Z"
   },
   {
    "duration": 150,
    "start_time": "2022-01-31T07:06:37.334Z"
   },
   {
    "duration": 132,
    "start_time": "2022-01-31T07:06:37.486Z"
   },
   {
    "duration": 119,
    "start_time": "2022-01-31T07:06:37.621Z"
   },
   {
    "duration": 22,
    "start_time": "2022-01-31T07:06:37.742Z"
   },
   {
    "duration": 32,
    "start_time": "2022-01-31T07:06:37.765Z"
   },
   {
    "duration": 146,
    "start_time": "2022-01-31T07:06:37.799Z"
   },
   {
    "duration": 52,
    "start_time": "2022-01-31T07:06:37.947Z"
   },
   {
    "duration": 68,
    "start_time": "2022-01-31T07:06:38.002Z"
   },
   {
    "duration": 17,
    "start_time": "2022-01-31T07:06:38.072Z"
   },
   {
    "duration": 3,
    "start_time": "2022-01-31T07:06:59.670Z"
   },
   {
    "duration": 155,
    "start_time": "2022-01-31T07:06:59.674Z"
   },
   {
    "duration": 130,
    "start_time": "2022-01-31T07:06:59.831Z"
   },
   {
    "duration": 96,
    "start_time": "2022-01-31T07:06:59.963Z"
   },
   {
    "duration": 21,
    "start_time": "2022-01-31T07:07:00.060Z"
   },
   {
    "duration": 37,
    "start_time": "2022-01-31T07:07:00.082Z"
   },
   {
    "duration": 149,
    "start_time": "2022-01-31T07:07:00.121Z"
   },
   {
    "duration": 56,
    "start_time": "2022-01-31T07:07:00.272Z"
   },
   {
    "duration": 59,
    "start_time": "2022-01-31T07:07:00.330Z"
   },
   {
    "duration": 35,
    "start_time": "2022-01-31T07:07:00.391Z"
   },
   {
    "duration": 2,
    "start_time": "2022-01-31T07:07:29.091Z"
   },
   {
    "duration": 156,
    "start_time": "2022-01-31T07:07:29.095Z"
   },
   {
    "duration": 132,
    "start_time": "2022-01-31T07:07:29.253Z"
   },
   {
    "duration": 100,
    "start_time": "2022-01-31T07:07:29.387Z"
   },
   {
    "duration": 20,
    "start_time": "2022-01-31T07:07:29.488Z"
   },
   {
    "duration": 31,
    "start_time": "2022-01-31T07:07:29.512Z"
   },
   {
    "duration": 146,
    "start_time": "2022-01-31T07:07:29.544Z"
   },
   {
    "duration": 57,
    "start_time": "2022-01-31T07:07:29.692Z"
   },
   {
    "duration": 68,
    "start_time": "2022-01-31T07:07:29.751Z"
   },
   {
    "duration": 16,
    "start_time": "2022-01-31T07:07:29.821Z"
   },
   {
    "duration": 2,
    "start_time": "2022-01-31T07:08:11.071Z"
   },
   {
    "duration": 170,
    "start_time": "2022-01-31T07:08:11.075Z"
   },
   {
    "duration": 173,
    "start_time": "2022-01-31T07:08:11.247Z"
   },
   {
    "duration": 99,
    "start_time": "2022-01-31T07:08:11.422Z"
   },
   {
    "duration": 20,
    "start_time": "2022-01-31T07:08:11.523Z"
   },
   {
    "duration": 31,
    "start_time": "2022-01-31T07:08:11.545Z"
   },
   {
    "duration": 146,
    "start_time": "2022-01-31T07:08:11.578Z"
   },
   {
    "duration": 56,
    "start_time": "2022-01-31T07:08:11.726Z"
   },
   {
    "duration": 77,
    "start_time": "2022-01-31T07:08:11.783Z"
   },
   {
    "duration": 16,
    "start_time": "2022-01-31T07:08:11.861Z"
   },
   {
    "duration": 4978,
    "start_time": "2022-01-31T07:08:32.189Z"
   },
   {
    "duration": 3,
    "start_time": "2022-01-31T07:08:40.270Z"
   },
   {
    "duration": 153,
    "start_time": "2022-01-31T07:08:40.275Z"
   },
   {
    "duration": 133,
    "start_time": "2022-01-31T07:08:40.430Z"
   },
   {
    "duration": 94,
    "start_time": "2022-01-31T07:08:40.564Z"
   },
   {
    "duration": 20,
    "start_time": "2022-01-31T07:08:40.660Z"
   },
   {
    "duration": 30,
    "start_time": "2022-01-31T07:08:40.681Z"
   },
   {
    "duration": 149,
    "start_time": "2022-01-31T07:08:40.712Z"
   },
   {
    "duration": 62,
    "start_time": "2022-01-31T07:08:40.863Z"
   },
   {
    "duration": 59,
    "start_time": "2022-01-31T07:08:40.926Z"
   },
   {
    "duration": 27,
    "start_time": "2022-01-31T07:08:40.986Z"
   },
   {
    "duration": 3,
    "start_time": "2022-01-31T07:09:13.979Z"
   },
   {
    "duration": 163,
    "start_time": "2022-01-31T07:09:13.984Z"
   },
   {
    "duration": 141,
    "start_time": "2022-01-31T07:09:14.150Z"
   },
   {
    "duration": 101,
    "start_time": "2022-01-31T07:09:14.294Z"
   },
   {
    "duration": 32,
    "start_time": "2022-01-31T07:09:14.397Z"
   },
   {
    "duration": 30,
    "start_time": "2022-01-31T07:09:14.430Z"
   },
   {
    "duration": 181,
    "start_time": "2022-01-31T07:09:14.462Z"
   },
   {
    "duration": 55,
    "start_time": "2022-01-31T07:09:14.644Z"
   },
   {
    "duration": 80,
    "start_time": "2022-01-31T07:09:14.714Z"
   },
   {
    "duration": 36,
    "start_time": "2022-01-31T07:09:14.795Z"
   },
   {
    "duration": 2,
    "start_time": "2022-01-31T07:09:24.709Z"
   },
   {
    "duration": 159,
    "start_time": "2022-01-31T07:09:28.389Z"
   },
   {
    "duration": 3,
    "start_time": "2022-01-31T07:09:34.350Z"
   },
   {
    "duration": 158,
    "start_time": "2022-01-31T07:09:34.355Z"
   },
   {
    "duration": 131,
    "start_time": "2022-01-31T07:09:34.515Z"
   },
   {
    "duration": 94,
    "start_time": "2022-01-31T07:09:34.648Z"
   },
   {
    "duration": 22,
    "start_time": "2022-01-31T07:09:34.743Z"
   },
   {
    "duration": 30,
    "start_time": "2022-01-31T07:09:34.767Z"
   },
   {
    "duration": 156,
    "start_time": "2022-01-31T07:09:34.798Z"
   },
   {
    "duration": 73,
    "start_time": "2022-01-31T07:09:34.956Z"
   },
   {
    "duration": 71,
    "start_time": "2022-01-31T07:09:35.031Z"
   },
   {
    "duration": 18,
    "start_time": "2022-01-31T07:09:35.112Z"
   },
   {
    "duration": 3,
    "start_time": "2022-01-31T07:09:44.789Z"
   },
   {
    "duration": 148,
    "start_time": "2022-01-31T07:09:46.390Z"
   },
   {
    "duration": 131,
    "start_time": "2022-01-31T07:09:49.037Z"
   },
   {
    "duration": 92,
    "start_time": "2022-01-31T07:09:50.188Z"
   },
   {
    "duration": 22,
    "start_time": "2022-01-31T07:09:52.189Z"
   },
   {
    "duration": 30,
    "start_time": "2022-01-31T07:09:53.209Z"
   },
   {
    "duration": 151,
    "start_time": "2022-01-31T07:10:02.510Z"
   },
   {
    "duration": 58,
    "start_time": "2022-01-31T07:10:08.793Z"
   },
   {
    "duration": 63,
    "start_time": "2022-01-31T07:10:13.829Z"
   },
   {
    "duration": 2,
    "start_time": "2022-01-31T07:10:33.413Z"
   },
   {
    "duration": 160,
    "start_time": "2022-01-31T07:10:33.417Z"
   },
   {
    "duration": 136,
    "start_time": "2022-01-31T07:10:33.579Z"
   },
   {
    "duration": 102,
    "start_time": "2022-01-31T07:10:33.717Z"
   },
   {
    "duration": 22,
    "start_time": "2022-01-31T07:10:33.820Z"
   },
   {
    "duration": 31,
    "start_time": "2022-01-31T07:10:33.844Z"
   },
   {
    "duration": 162,
    "start_time": "2022-01-31T07:10:33.876Z"
   },
   {
    "duration": 55,
    "start_time": "2022-01-31T07:10:34.040Z"
   },
   {
    "duration": 72,
    "start_time": "2022-01-31T07:10:34.097Z"
   },
   {
    "duration": 16,
    "start_time": "2022-01-31T07:10:34.171Z"
   },
   {
    "duration": 19,
    "start_time": "2022-01-31T07:11:23.569Z"
   },
   {
    "duration": 14,
    "start_time": "2022-01-31T07:11:29.530Z"
   },
   {
    "duration": 7,
    "start_time": "2022-01-31T07:11:52.170Z"
   },
   {
    "duration": 14,
    "start_time": "2022-01-31T07:12:01.291Z"
   },
   {
    "duration": 19,
    "start_time": "2022-01-31T07:12:21.750Z"
   },
   {
    "duration": 13,
    "start_time": "2022-01-31T07:12:53.770Z"
   },
   {
    "duration": 18,
    "start_time": "2022-01-31T07:13:07.970Z"
   },
   {
    "duration": 2,
    "start_time": "2022-01-31T07:13:09.651Z"
   },
   {
    "duration": 154,
    "start_time": "2022-01-31T07:13:09.655Z"
   },
   {
    "duration": 131,
    "start_time": "2022-01-31T07:13:09.812Z"
   },
   {
    "duration": 99,
    "start_time": "2022-01-31T07:13:09.945Z"
   },
   {
    "duration": 20,
    "start_time": "2022-01-31T07:13:10.045Z"
   },
   {
    "duration": 35,
    "start_time": "2022-01-31T07:13:10.067Z"
   },
   {
    "duration": 144,
    "start_time": "2022-01-31T07:13:10.103Z"
   },
   {
    "duration": 54,
    "start_time": "2022-01-31T07:13:10.249Z"
   },
   {
    "duration": 60,
    "start_time": "2022-01-31T07:13:10.312Z"
   },
   {
    "duration": 16,
    "start_time": "2022-01-31T07:13:10.374Z"
   },
   {
    "duration": 3,
    "start_time": "2022-01-31T08:09:57.014Z"
   },
   {
    "duration": 157,
    "start_time": "2022-01-31T08:09:57.019Z"
   },
   {
    "duration": 136,
    "start_time": "2022-01-31T08:09:57.178Z"
   },
   {
    "duration": 93,
    "start_time": "2022-01-31T08:09:57.316Z"
   },
   {
    "duration": 20,
    "start_time": "2022-01-31T08:09:57.412Z"
   },
   {
    "duration": 39,
    "start_time": "2022-01-31T08:09:57.433Z"
   },
   {
    "duration": 153,
    "start_time": "2022-01-31T08:09:57.473Z"
   },
   {
    "duration": 57,
    "start_time": "2022-01-31T08:09:57.628Z"
   },
   {
    "duration": 73,
    "start_time": "2022-01-31T08:09:57.687Z"
   },
   {
    "duration": 18,
    "start_time": "2022-01-31T08:09:57.762Z"
   },
   {
    "duration": 7,
    "start_time": "2022-01-31T08:12:16.705Z"
   },
   {
    "duration": 27,
    "start_time": "2022-01-31T08:12:26.075Z"
   },
   {
    "duration": 34,
    "start_time": "2022-01-31T08:13:15.485Z"
   },
   {
    "duration": 2,
    "start_time": "2022-01-31T08:13:31.857Z"
   },
   {
    "duration": 169,
    "start_time": "2022-01-31T08:13:31.861Z"
   },
   {
    "duration": 136,
    "start_time": "2022-01-31T08:13:32.032Z"
   },
   {
    "duration": 94,
    "start_time": "2022-01-31T08:13:32.169Z"
   },
   {
    "duration": 20,
    "start_time": "2022-01-31T08:13:32.266Z"
   },
   {
    "duration": 42,
    "start_time": "2022-01-31T08:13:32.288Z"
   },
   {
    "duration": 142,
    "start_time": "2022-01-31T08:13:32.331Z"
   },
   {
    "duration": 61,
    "start_time": "2022-01-31T08:13:32.475Z"
   },
   {
    "duration": 59,
    "start_time": "2022-01-31T08:13:32.537Z"
   },
   {
    "duration": 31,
    "start_time": "2022-01-31T08:13:32.598Z"
   },
   {
    "duration": 21,
    "start_time": "2022-01-31T08:13:32.630Z"
   },
   {
    "duration": 27,
    "start_time": "2022-01-31T08:13:42.366Z"
   },
   {
    "duration": 3,
    "start_time": "2022-01-31T08:23:42.747Z"
   },
   {
    "duration": 157,
    "start_time": "2022-01-31T08:23:42.751Z"
   },
   {
    "duration": 130,
    "start_time": "2022-01-31T08:23:42.913Z"
   },
   {
    "duration": 92,
    "start_time": "2022-01-31T08:23:43.045Z"
   },
   {
    "duration": 22,
    "start_time": "2022-01-31T08:23:43.138Z"
   },
   {
    "duration": 47,
    "start_time": "2022-01-31T08:23:43.162Z"
   },
   {
    "duration": 155,
    "start_time": "2022-01-31T08:23:43.211Z"
   },
   {
    "duration": 62,
    "start_time": "2022-01-31T08:23:43.367Z"
   },
   {
    "duration": 59,
    "start_time": "2022-01-31T08:23:43.431Z"
   },
   {
    "duration": 31,
    "start_time": "2022-01-31T08:23:43.491Z"
   },
   {
    "duration": 18,
    "start_time": "2022-01-31T08:23:49.166Z"
   },
   {
    "duration": 22,
    "start_time": "2022-01-31T08:23:55.448Z"
   },
   {
    "duration": 21,
    "start_time": "2022-01-31T08:24:26.134Z"
   },
   {
    "duration": 3,
    "start_time": "2022-01-31T08:24:33.846Z"
   },
   {
    "duration": 150,
    "start_time": "2022-01-31T08:24:33.850Z"
   },
   {
    "duration": 141,
    "start_time": "2022-01-31T08:24:34.002Z"
   },
   {
    "duration": 91,
    "start_time": "2022-01-31T08:24:34.144Z"
   },
   {
    "duration": 19,
    "start_time": "2022-01-31T08:24:34.237Z"
   },
   {
    "duration": 44,
    "start_time": "2022-01-31T08:24:34.258Z"
   },
   {
    "duration": 148,
    "start_time": "2022-01-31T08:24:34.304Z"
   },
   {
    "duration": 62,
    "start_time": "2022-01-31T08:24:34.454Z"
   },
   {
    "duration": 60,
    "start_time": "2022-01-31T08:24:34.518Z"
   },
   {
    "duration": 35,
    "start_time": "2022-01-31T08:24:34.580Z"
   },
   {
    "duration": 16,
    "start_time": "2022-01-31T08:24:36.896Z"
   },
   {
    "duration": 8,
    "start_time": "2022-01-31T08:26:50.198Z"
   },
   {
    "duration": 538,
    "start_time": "2022-01-31T19:13:45.321Z"
   },
   {
    "duration": 161,
    "start_time": "2022-01-31T19:13:45.861Z"
   },
   {
    "duration": 136,
    "start_time": "2022-01-31T19:13:46.024Z"
   },
   {
    "duration": 91,
    "start_time": "2022-01-31T19:13:46.162Z"
   },
   {
    "duration": 23,
    "start_time": "2022-01-31T19:13:46.254Z"
   },
   {
    "duration": 81,
    "start_time": "2022-01-31T19:13:46.279Z"
   },
   {
    "duration": 163,
    "start_time": "2022-01-31T19:13:46.361Z"
   },
   {
    "duration": 59,
    "start_time": "2022-01-31T19:13:46.526Z"
   },
   {
    "duration": 68,
    "start_time": "2022-01-31T19:13:46.587Z"
   },
   {
    "duration": 28,
    "start_time": "2022-01-31T19:13:46.657Z"
   },
   {
    "duration": 14,
    "start_time": "2022-01-31T19:13:46.687Z"
   },
   {
    "duration": 6,
    "start_time": "2022-01-31T19:13:46.703Z"
   },
   {
    "duration": 372,
    "start_time": "2022-01-31T19:44:43.134Z"
   },
   {
    "duration": 2,
    "start_time": "2022-01-31T19:45:07.153Z"
   },
   {
    "duration": 174,
    "start_time": "2022-01-31T19:45:07.159Z"
   },
   {
    "duration": 133,
    "start_time": "2022-01-31T19:45:07.335Z"
   },
   {
    "duration": 93,
    "start_time": "2022-01-31T19:45:07.470Z"
   },
   {
    "duration": 26,
    "start_time": "2022-01-31T19:45:07.565Z"
   },
   {
    "duration": 84,
    "start_time": "2022-01-31T19:45:07.593Z"
   },
   {
    "duration": 152,
    "start_time": "2022-01-31T19:45:07.679Z"
   },
   {
    "duration": 63,
    "start_time": "2022-01-31T19:45:07.833Z"
   },
   {
    "duration": 59,
    "start_time": "2022-01-31T19:45:07.899Z"
   },
   {
    "duration": 19,
    "start_time": "2022-01-31T19:45:07.972Z"
   },
   {
    "duration": 15,
    "start_time": "2022-01-31T19:45:07.992Z"
   },
   {
    "duration": 306,
    "start_time": "2022-01-31T19:45:25.060Z"
   },
   {
    "duration": 289,
    "start_time": "2022-01-31T19:45:53.899Z"
   },
   {
    "duration": 2,
    "start_time": "2022-01-31T20:05:47.126Z"
   },
   {
    "duration": 152,
    "start_time": "2022-01-31T20:05:47.132Z"
   },
   {
    "duration": 129,
    "start_time": "2022-01-31T20:05:47.286Z"
   },
   {
    "duration": 94,
    "start_time": "2022-01-31T20:05:47.417Z"
   },
   {
    "duration": 299,
    "start_time": "2022-01-31T20:05:53.763Z"
   },
   {
    "duration": 26,
    "start_time": "2022-01-31T20:08:05.289Z"
   },
   {
    "duration": 101,
    "start_time": "2022-01-31T20:08:33.954Z"
   },
   {
    "duration": 27,
    "start_time": "2022-01-31T20:09:00.786Z"
   },
   {
    "duration": 2,
    "start_time": "2022-01-31T20:09:22.202Z"
   },
   {
    "duration": 158,
    "start_time": "2022-01-31T20:09:22.206Z"
   },
   {
    "duration": 134,
    "start_time": "2022-01-31T20:09:22.365Z"
   },
   {
    "duration": 95,
    "start_time": "2022-01-31T20:09:22.501Z"
   },
   {
    "duration": 26,
    "start_time": "2022-01-31T20:09:22.597Z"
   },
   {
    "duration": 63,
    "start_time": "2022-01-31T20:09:22.625Z"
   },
   {
    "duration": 170,
    "start_time": "2022-01-31T20:09:22.690Z"
   },
   {
    "duration": 59,
    "start_time": "2022-01-31T20:09:22.862Z"
   },
   {
    "duration": 71,
    "start_time": "2022-01-31T20:09:22.923Z"
   },
   {
    "duration": 18,
    "start_time": "2022-01-31T20:09:22.996Z"
   },
   {
    "duration": 14,
    "start_time": "2022-01-31T20:09:23.015Z"
   },
   {
    "duration": 22,
    "start_time": "2022-01-31T20:09:31.744Z"
   },
   {
    "duration": 2,
    "start_time": "2022-01-31T20:10:55.314Z"
   },
   {
    "duration": 145,
    "start_time": "2022-01-31T20:10:55.320Z"
   },
   {
    "duration": 126,
    "start_time": "2022-01-31T20:10:55.467Z"
   },
   {
    "duration": 96,
    "start_time": "2022-01-31T20:10:55.595Z"
   },
   {
    "duration": 31,
    "start_time": "2022-01-31T20:10:55.693Z"
   },
   {
    "duration": 54,
    "start_time": "2022-01-31T20:10:55.726Z"
   },
   {
    "duration": 248,
    "start_time": "2022-01-31T20:10:55.782Z"
   },
   {
    "duration": 82,
    "start_time": "2022-01-31T20:10:56.032Z"
   },
   {
    "duration": 68,
    "start_time": "2022-01-31T20:10:56.116Z"
   },
   {
    "duration": 16,
    "start_time": "2022-01-31T20:10:56.186Z"
   },
   {
    "duration": 14,
    "start_time": "2022-01-31T20:10:56.204Z"
   },
   {
    "duration": 16,
    "start_time": "2022-01-31T20:10:56.219Z"
   },
   {
    "duration": 774,
    "start_time": "2022-02-01T06:45:54.744Z"
   },
   {
    "duration": 232,
    "start_time": "2022-02-01T06:45:55.521Z"
   },
   {
    "duration": 206,
    "start_time": "2022-02-01T06:45:55.757Z"
   },
   {
    "duration": 138,
    "start_time": "2022-02-01T06:45:55.966Z"
   },
   {
    "duration": 35,
    "start_time": "2022-02-01T06:45:56.106Z"
   },
   {
    "duration": 67,
    "start_time": "2022-02-01T06:45:56.143Z"
   },
   {
    "duration": 393,
    "start_time": "2022-02-01T06:45:56.212Z"
   },
   {
    "duration": 157,
    "start_time": "2022-02-01T06:45:56.608Z"
   },
   {
    "duration": 184,
    "start_time": "2022-02-01T06:45:56.770Z"
   },
   {
    "duration": 29,
    "start_time": "2022-02-01T06:45:56.956Z"
   },
   {
    "duration": 27,
    "start_time": "2022-02-01T06:45:56.988Z"
   },
   {
    "duration": 56,
    "start_time": "2022-02-01T06:45:57.017Z"
   },
   {
    "duration": 5,
    "start_time": "2022-02-01T07:14:17.784Z"
   },
   {
    "duration": 338,
    "start_time": "2022-02-01T07:15:13.167Z"
   },
   {
    "duration": 40,
    "start_time": "2022-02-01T07:15:26.508Z"
   },
   {
    "duration": 5,
    "start_time": "2022-02-01T07:16:42.828Z"
   },
   {
    "duration": 324,
    "start_time": "2022-02-01T07:16:49.407Z"
   },
   {
    "duration": 39,
    "start_time": "2022-02-01T07:16:52.727Z"
   },
   {
    "duration": 4,
    "start_time": "2022-02-01T07:21:26.480Z"
   },
   {
    "duration": 245,
    "start_time": "2022-02-01T07:21:26.488Z"
   },
   {
    "duration": 210,
    "start_time": "2022-02-01T07:21:26.738Z"
   },
   {
    "duration": 163,
    "start_time": "2022-02-01T07:21:26.951Z"
   },
   {
    "duration": 36,
    "start_time": "2022-02-01T07:21:27.117Z"
   },
   {
    "duration": 59,
    "start_time": "2022-02-01T07:21:27.157Z"
   },
   {
    "duration": 232,
    "start_time": "2022-02-01T07:21:27.218Z"
   },
   {
    "duration": 97,
    "start_time": "2022-02-01T07:21:27.453Z"
   },
   {
    "duration": 107,
    "start_time": "2022-02-01T07:21:27.553Z"
   },
   {
    "duration": 29,
    "start_time": "2022-02-01T07:21:27.663Z"
   },
   {
    "duration": 26,
    "start_time": "2022-02-01T07:21:27.694Z"
   },
   {
    "duration": 31,
    "start_time": "2022-02-01T07:21:45.588Z"
   },
   {
    "duration": 3,
    "start_time": "2022-02-01T07:22:20.663Z"
   },
   {
    "duration": 235,
    "start_time": "2022-02-01T07:22:20.669Z"
   },
   {
    "duration": 206,
    "start_time": "2022-02-01T07:22:20.907Z"
   },
   {
    "duration": 140,
    "start_time": "2022-02-01T07:22:21.116Z"
   },
   {
    "duration": 35,
    "start_time": "2022-02-01T07:22:21.259Z"
   },
   {
    "duration": 54,
    "start_time": "2022-02-01T07:22:21.297Z"
   },
   {
    "duration": 229,
    "start_time": "2022-02-01T07:22:21.354Z"
   },
   {
    "duration": 93,
    "start_time": "2022-02-01T07:22:21.586Z"
   },
   {
    "duration": 105,
    "start_time": "2022-02-01T07:22:21.682Z"
   },
   {
    "duration": 29,
    "start_time": "2022-02-01T07:22:21.789Z"
   },
   {
    "duration": 44,
    "start_time": "2022-02-01T07:22:21.820Z"
   },
   {
    "duration": 37,
    "start_time": "2022-02-01T07:22:21.866Z"
   },
   {
    "duration": 5,
    "start_time": "2022-02-01T07:22:21.905Z"
   },
   {
    "duration": 380,
    "start_time": "2022-02-01T07:22:21.913Z"
   },
   {
    "duration": 55,
    "start_time": "2022-02-01T07:22:22.295Z"
   },
   {
    "duration": 4,
    "start_time": "2022-02-01T07:24:57.159Z"
   },
   {
    "duration": 234,
    "start_time": "2022-02-01T07:24:57.166Z"
   },
   {
    "duration": 197,
    "start_time": "2022-02-01T07:24:57.403Z"
   },
   {
    "duration": 140,
    "start_time": "2022-02-01T07:24:57.603Z"
   },
   {
    "duration": 37,
    "start_time": "2022-02-01T07:25:02.988Z"
   },
   {
    "duration": 374,
    "start_time": "2022-02-01T07:25:19.474Z"
   },
   {
    "duration": 4,
    "start_time": "2022-02-01T07:25:37.519Z"
   },
   {
    "duration": 246,
    "start_time": "2022-02-01T07:25:37.526Z"
   },
   {
    "duration": 229,
    "start_time": "2022-02-01T07:25:37.775Z"
   },
   {
    "duration": 144,
    "start_time": "2022-02-01T07:25:38.007Z"
   },
   {
    "duration": 35,
    "start_time": "2022-02-01T07:25:38.153Z"
   },
   {
    "duration": 72,
    "start_time": "2022-02-01T07:25:38.190Z"
   },
   {
    "duration": 236,
    "start_time": "2022-02-01T07:25:38.264Z"
   },
   {
    "duration": 95,
    "start_time": "2022-02-01T07:25:38.502Z"
   },
   {
    "duration": 99,
    "start_time": "2022-02-01T07:25:38.601Z"
   },
   {
    "duration": 45,
    "start_time": "2022-02-01T07:25:38.703Z"
   },
   {
    "duration": 27,
    "start_time": "2022-02-01T07:25:38.751Z"
   },
   {
    "duration": 30,
    "start_time": "2022-02-01T07:25:38.781Z"
   },
   {
    "duration": 5,
    "start_time": "2022-02-01T07:25:38.814Z"
   },
   {
    "duration": 378,
    "start_time": "2022-02-01T07:25:38.848Z"
   },
   {
    "duration": 57,
    "start_time": "2022-02-01T07:25:39.229Z"
   },
   {
    "duration": 3,
    "start_time": "2022-02-01T07:41:42.126Z"
   },
   {
    "duration": 316,
    "start_time": "2022-02-01T07:41:42.614Z"
   },
   {
    "duration": 3,
    "start_time": "2022-02-01T07:41:45.960Z"
   },
   {
    "duration": 221,
    "start_time": "2022-02-01T07:41:45.967Z"
   },
   {
    "duration": 194,
    "start_time": "2022-02-01T07:41:46.191Z"
   },
   {
    "duration": 144,
    "start_time": "2022-02-01T07:41:46.387Z"
   },
   {
    "duration": 35,
    "start_time": "2022-02-01T07:41:46.534Z"
   },
   {
    "duration": 56,
    "start_time": "2022-02-01T07:41:46.571Z"
   },
   {
    "duration": 224,
    "start_time": "2022-02-01T07:41:46.630Z"
   },
   {
    "duration": 93,
    "start_time": "2022-02-01T07:41:46.857Z"
   },
   {
    "duration": 101,
    "start_time": "2022-02-01T07:41:46.954Z"
   },
   {
    "duration": 29,
    "start_time": "2022-02-01T07:41:47.057Z"
   },
   {
    "duration": 25,
    "start_time": "2022-02-01T07:41:47.088Z"
   },
   {
    "duration": 58,
    "start_time": "2022-02-01T07:41:47.115Z"
   },
   {
    "duration": 6,
    "start_time": "2022-02-01T07:41:47.176Z"
   },
   {
    "duration": 369,
    "start_time": "2022-02-01T07:41:47.186Z"
   },
   {
    "duration": 44,
    "start_time": "2022-02-01T07:41:47.558Z"
   },
   {
    "duration": 5,
    "start_time": "2022-02-01T07:42:21.205Z"
   },
   {
    "duration": 847,
    "start_time": "2022-02-01T07:42:22.493Z"
   },
   {
    "duration": 47,
    "start_time": "2022-02-01T07:42:23.626Z"
   },
   {
    "duration": 4,
    "start_time": "2022-02-01T07:42:34.913Z"
   },
   {
    "duration": 217,
    "start_time": "2022-02-01T07:42:34.927Z"
   },
   {
    "duration": 202,
    "start_time": "2022-02-01T07:42:35.150Z"
   },
   {
    "duration": 130,
    "start_time": "2022-02-01T07:42:35.355Z"
   },
   {
    "duration": 36,
    "start_time": "2022-02-01T07:42:35.489Z"
   },
   {
    "duration": 49,
    "start_time": "2022-02-01T07:42:35.528Z"
   },
   {
    "duration": 221,
    "start_time": "2022-02-01T07:42:35.579Z"
   },
   {
    "duration": 91,
    "start_time": "2022-02-01T07:42:35.803Z"
   },
   {
    "duration": 105,
    "start_time": "2022-02-01T07:42:35.897Z"
   },
   {
    "duration": 42,
    "start_time": "2022-02-01T07:42:36.006Z"
   },
   {
    "duration": 23,
    "start_time": "2022-02-01T07:42:36.051Z"
   },
   {
    "duration": 28,
    "start_time": "2022-02-01T07:42:36.077Z"
   },
   {
    "duration": 5,
    "start_time": "2022-02-01T07:42:36.108Z"
   },
   {
    "duration": 1396,
    "start_time": "2022-02-01T07:42:36.115Z"
   },
   {
    "duration": -2082,
    "start_time": "2022-02-01T07:42:39.595Z"
   },
   {
    "duration": 6,
    "start_time": "2022-02-01T07:45:15.459Z"
   },
   {
    "duration": 343,
    "start_time": "2022-02-01T07:45:16.454Z"
   },
   {
    "duration": 46,
    "start_time": "2022-02-01T07:45:18.393Z"
   },
   {
    "duration": 6,
    "start_time": "2022-02-01T07:47:40.014Z"
   },
   {
    "duration": 578,
    "start_time": "2022-02-01T07:47:41.750Z"
   },
   {
    "duration": 6,
    "start_time": "2022-02-01T07:48:39.373Z"
   },
   {
    "duration": 372,
    "start_time": "2022-02-01T07:48:40.476Z"
   },
   {
    "duration": 55,
    "start_time": "2022-02-01T07:48:47.004Z"
   },
   {
    "duration": 4,
    "start_time": "2022-02-01T07:48:59.617Z"
   },
   {
    "duration": 220,
    "start_time": "2022-02-01T07:48:59.624Z"
   },
   {
    "duration": 197,
    "start_time": "2022-02-01T07:48:59.851Z"
   },
   {
    "duration": 136,
    "start_time": "2022-02-01T07:49:00.052Z"
   },
   {
    "duration": 37,
    "start_time": "2022-02-01T07:49:00.191Z"
   },
   {
    "duration": 71,
    "start_time": "2022-02-01T07:49:00.231Z"
   },
   {
    "duration": 217,
    "start_time": "2022-02-01T07:49:00.305Z"
   },
   {
    "duration": 90,
    "start_time": "2022-02-01T07:49:00.524Z"
   },
   {
    "duration": 110,
    "start_time": "2022-02-01T07:49:00.618Z"
   },
   {
    "duration": 37,
    "start_time": "2022-02-01T07:49:00.731Z"
   },
   {
    "duration": 54,
    "start_time": "2022-02-01T07:49:00.770Z"
   },
   {
    "duration": 30,
    "start_time": "2022-02-01T07:49:00.827Z"
   },
   {
    "duration": 6,
    "start_time": "2022-02-01T07:49:00.859Z"
   },
   {
    "duration": 371,
    "start_time": "2022-02-01T07:49:00.868Z"
   },
   {
    "duration": 51,
    "start_time": "2022-02-01T07:49:01.241Z"
   },
   {
    "duration": 44,
    "start_time": "2022-02-01T07:49:09.541Z"
   },
   {
    "duration": 5,
    "start_time": "2022-02-01T07:50:38.341Z"
   },
   {
    "duration": 345,
    "start_time": "2022-02-01T07:50:39.514Z"
   },
   {
    "duration": 46,
    "start_time": "2022-02-01T07:50:39.861Z"
   },
   {
    "duration": 7,
    "start_time": "2022-02-01T07:51:17.209Z"
   },
   {
    "duration": 311,
    "start_time": "2022-02-01T07:51:18.441Z"
   },
   {
    "duration": 45,
    "start_time": "2022-02-01T07:51:19.274Z"
   },
   {
    "duration": 6,
    "start_time": "2022-02-01T07:52:47.840Z"
   },
   {
    "duration": 310,
    "start_time": "2022-02-01T07:52:48.203Z"
   },
   {
    "duration": 42,
    "start_time": "2022-02-01T07:52:48.714Z"
   },
   {
    "duration": 5,
    "start_time": "2022-02-01T07:55:02.682Z"
   },
   {
    "duration": 346,
    "start_time": "2022-02-01T07:55:03.609Z"
   },
   {
    "duration": 46,
    "start_time": "2022-02-01T07:55:04.432Z"
   },
   {
    "duration": 6,
    "start_time": "2022-02-01T07:55:57.533Z"
   },
   {
    "duration": 308,
    "start_time": "2022-02-01T07:55:58.163Z"
   },
   {
    "duration": 47,
    "start_time": "2022-02-01T07:55:58.552Z"
   },
   {
    "duration": 4,
    "start_time": "2022-02-01T07:57:40.553Z"
   },
   {
    "duration": 240,
    "start_time": "2022-02-01T07:57:40.571Z"
   },
   {
    "duration": 286,
    "start_time": "2022-02-01T07:57:40.813Z"
   },
   {
    "duration": 203,
    "start_time": "2022-02-01T07:57:41.104Z"
   },
   {
    "duration": 44,
    "start_time": "2022-02-01T07:57:41.311Z"
   },
   {
    "duration": 47,
    "start_time": "2022-02-01T07:57:41.358Z"
   },
   {
    "duration": 243,
    "start_time": "2022-02-01T07:57:41.407Z"
   },
   {
    "duration": 125,
    "start_time": "2022-02-01T07:57:41.653Z"
   },
   {
    "duration": 118,
    "start_time": "2022-02-01T07:57:41.780Z"
   },
   {
    "duration": 46,
    "start_time": "2022-02-01T07:57:41.902Z"
   },
   {
    "duration": 26,
    "start_time": "2022-02-01T07:57:41.951Z"
   },
   {
    "duration": 87,
    "start_time": "2022-02-01T07:57:41.979Z"
   },
   {
    "duration": 9,
    "start_time": "2022-02-01T07:57:42.070Z"
   },
   {
    "duration": 532,
    "start_time": "2022-02-01T07:57:42.082Z"
   },
   {
    "duration": 58,
    "start_time": "2022-02-01T07:57:42.617Z"
   },
   {
    "duration": 4,
    "start_time": "2022-02-01T07:58:23.393Z"
   },
   {
    "duration": 315,
    "start_time": "2022-02-01T07:58:23.405Z"
   },
   {
    "duration": 276,
    "start_time": "2022-02-01T07:58:23.723Z"
   },
   {
    "duration": 154,
    "start_time": "2022-02-01T07:58:24.003Z"
   },
   {
    "duration": 36,
    "start_time": "2022-02-01T07:58:24.160Z"
   },
   {
    "duration": 52,
    "start_time": "2022-02-01T07:58:24.198Z"
   },
   {
    "duration": 241,
    "start_time": "2022-02-01T07:58:24.253Z"
   },
   {
    "duration": 94,
    "start_time": "2022-02-01T07:58:24.497Z"
   },
   {
    "duration": 131,
    "start_time": "2022-02-01T07:58:24.593Z"
   },
   {
    "duration": 45,
    "start_time": "2022-02-01T07:58:24.729Z"
   },
   {
    "duration": 33,
    "start_time": "2022-02-01T07:58:24.777Z"
   },
   {
    "duration": 69,
    "start_time": "2022-02-01T07:58:24.813Z"
   },
   {
    "duration": 6,
    "start_time": "2022-02-01T07:58:24.885Z"
   },
   {
    "duration": 581,
    "start_time": "2022-02-01T07:58:24.894Z"
   },
   {
    "duration": 313,
    "start_time": "2022-02-01T08:14:46.305Z"
   },
   {
    "duration": 327,
    "start_time": "2022-02-01T08:15:09.358Z"
   },
   {
    "duration": 307,
    "start_time": "2022-02-01T08:16:18.310Z"
   },
   {
    "duration": 326,
    "start_time": "2022-02-01T08:16:30.304Z"
   },
   {
    "duration": 5,
    "start_time": "2022-02-01T08:16:52.541Z"
   },
   {
    "duration": 318,
    "start_time": "2022-02-01T08:16:52.549Z"
   },
   {
    "duration": 257,
    "start_time": "2022-02-01T08:16:52.871Z"
   },
   {
    "duration": 149,
    "start_time": "2022-02-01T08:16:53.133Z"
   },
   {
    "duration": 36,
    "start_time": "2022-02-01T08:16:53.286Z"
   },
   {
    "duration": 55,
    "start_time": "2022-02-01T08:16:53.324Z"
   },
   {
    "duration": 231,
    "start_time": "2022-02-01T08:16:53.381Z"
   },
   {
    "duration": 95,
    "start_time": "2022-02-01T08:16:53.616Z"
   },
   {
    "duration": 119,
    "start_time": "2022-02-01T08:16:53.714Z"
   },
   {
    "duration": 39,
    "start_time": "2022-02-01T08:16:53.836Z"
   },
   {
    "duration": 28,
    "start_time": "2022-02-01T08:16:53.878Z"
   },
   {
    "duration": 63,
    "start_time": "2022-02-01T08:16:53.908Z"
   },
   {
    "duration": 8,
    "start_time": "2022-02-01T08:16:53.975Z"
   },
   {
    "duration": 714,
    "start_time": "2022-02-01T08:16:53.986Z"
   },
   {
    "duration": 362,
    "start_time": "2022-02-01T08:17:00.966Z"
   },
   {
    "duration": 316,
    "start_time": "2022-02-01T08:18:05.754Z"
   },
   {
    "duration": 330,
    "start_time": "2022-02-01T08:18:38.838Z"
   },
   {
    "duration": 50,
    "start_time": "2022-02-01T08:18:50.173Z"
   },
   {
    "duration": 64,
    "start_time": "2022-02-01T08:20:23.548Z"
   },
   {
    "duration": 336,
    "start_time": "2022-02-01T08:20:50.280Z"
   },
   {
    "duration": 5598,
    "start_time": "2022-02-01T08:21:25.951Z"
   },
   {
    "duration": 4,
    "start_time": "2022-02-01T08:21:42.163Z"
   },
   {
    "duration": 291,
    "start_time": "2022-02-01T08:21:42.171Z"
   },
   {
    "duration": 193,
    "start_time": "2022-02-01T08:21:42.465Z"
   },
   {
    "duration": 141,
    "start_time": "2022-02-01T08:21:42.661Z"
   },
   {
    "duration": 43,
    "start_time": "2022-02-01T08:21:42.805Z"
   },
   {
    "duration": 48,
    "start_time": "2022-02-01T08:21:42.851Z"
   },
   {
    "duration": 222,
    "start_time": "2022-02-01T08:21:42.902Z"
   },
   {
    "duration": 94,
    "start_time": "2022-02-01T08:21:43.126Z"
   },
   {
    "duration": 103,
    "start_time": "2022-02-01T08:21:43.224Z"
   },
   {
    "duration": 44,
    "start_time": "2022-02-01T08:21:43.330Z"
   },
   {
    "duration": 27,
    "start_time": "2022-02-01T08:21:43.377Z"
   },
   {
    "duration": 59,
    "start_time": "2022-02-01T08:21:43.407Z"
   },
   {
    "duration": 6,
    "start_time": "2022-02-01T08:21:43.468Z"
   },
   {
    "duration": 401,
    "start_time": "2022-02-01T08:21:43.476Z"
   },
   {
    "duration": 5589,
    "start_time": "2022-02-01T08:21:49.927Z"
   },
   {
    "duration": 74,
    "start_time": "2022-02-01T08:25:20.720Z"
   },
   {
    "duration": 60,
    "start_time": "2022-02-01T08:25:41.327Z"
   },
   {
    "duration": 49,
    "start_time": "2022-02-01T08:26:05.983Z"
   },
   {
    "duration": 45,
    "start_time": "2022-02-01T08:26:16.467Z"
   },
   {
    "duration": 55,
    "start_time": "2022-02-01T08:26:42.839Z"
   },
   {
    "duration": 997,
    "start_time": "2022-02-01T13:22:31.415Z"
   },
   {
    "duration": 1114,
    "start_time": "2022-02-01T13:22:32.415Z"
   },
   {
    "duration": 1062,
    "start_time": "2022-02-01T13:22:33.533Z"
   },
   {
    "duration": 580,
    "start_time": "2022-02-01T13:22:34.597Z"
   },
   {
    "duration": 44,
    "start_time": "2022-02-01T13:22:35.180Z"
   },
   {
    "duration": 86,
    "start_time": "2022-02-01T13:22:35.227Z"
   },
   {
    "duration": 275,
    "start_time": "2022-02-01T13:22:35.316Z"
   },
   {
    "duration": 121,
    "start_time": "2022-02-01T13:22:35.595Z"
   },
   {
    "duration": 121,
    "start_time": "2022-02-01T13:22:35.719Z"
   },
   {
    "duration": 58,
    "start_time": "2022-02-01T13:22:35.843Z"
   },
   {
    "duration": 32,
    "start_time": "2022-02-01T13:22:35.904Z"
   },
   {
    "duration": 61,
    "start_time": "2022-02-01T13:22:35.939Z"
   },
   {
    "duration": 7,
    "start_time": "2022-02-01T13:22:36.003Z"
   },
   {
    "duration": 454,
    "start_time": "2022-02-01T13:22:36.013Z"
   },
   {
    "duration": 52,
    "start_time": "2022-02-01T13:22:36.470Z"
   },
   {
    "duration": 48,
    "start_time": "2022-02-01T13:22:54.698Z"
   },
   {
    "duration": 9,
    "start_time": "2022-02-01T13:24:17.999Z"
   },
   {
    "duration": 10,
    "start_time": "2022-02-01T13:25:16.745Z"
   },
   {
    "duration": 508,
    "start_time": "2022-02-01T13:26:12.641Z"
   },
   {
    "duration": 382,
    "start_time": "2022-02-01T13:26:36.590Z"
   },
   {
    "duration": 11,
    "start_time": "2022-02-01T13:29:13.761Z"
   },
   {
    "duration": 17,
    "start_time": "2022-02-01T13:29:20.886Z"
   },
   {
    "duration": 16,
    "start_time": "2022-02-01T13:29:50.280Z"
   },
   {
    "duration": 19,
    "start_time": "2022-02-01T13:30:27.863Z"
   },
   {
    "duration": 3,
    "start_time": "2022-02-01T13:30:34.624Z"
   },
   {
    "duration": 703,
    "start_time": "2022-02-01T13:30:34.630Z"
   },
   {
    "duration": 227,
    "start_time": "2022-02-01T13:30:35.336Z"
   },
   {
    "duration": 226,
    "start_time": "2022-02-01T13:30:35.567Z"
   },
   {
    "duration": 47,
    "start_time": "2022-02-01T13:30:35.797Z"
   },
   {
    "duration": 119,
    "start_time": "2022-02-01T13:30:35.847Z"
   },
   {
    "duration": 342,
    "start_time": "2022-02-01T13:30:35.972Z"
   },
   {
    "duration": 110,
    "start_time": "2022-02-01T13:30:36.317Z"
   },
   {
    "duration": 144,
    "start_time": "2022-02-01T13:30:36.431Z"
   },
   {
    "duration": 36,
    "start_time": "2022-02-01T13:30:36.578Z"
   },
   {
    "duration": 61,
    "start_time": "2022-02-01T13:30:36.617Z"
   },
   {
    "duration": 49,
    "start_time": "2022-02-01T13:30:36.680Z"
   },
   {
    "duration": 43,
    "start_time": "2022-02-01T13:30:36.733Z"
   },
   {
    "duration": 9,
    "start_time": "2022-02-01T13:30:36.780Z"
   },
   {
    "duration": 733,
    "start_time": "2022-02-01T13:30:36.792Z"
   },
   {
    "duration": 13,
    "start_time": "2022-02-01T13:30:37.529Z"
   },
   {
    "duration": 204,
    "start_time": "2022-02-01T13:30:37.561Z"
   },
   {
    "duration": 53,
    "start_time": "2022-02-01T13:34:10.676Z"
   },
   {
    "duration": 4,
    "start_time": "2022-02-01T13:34:13.823Z"
   },
   {
    "duration": 268,
    "start_time": "2022-02-01T13:34:13.830Z"
   },
   {
    "duration": 237,
    "start_time": "2022-02-01T13:34:14.102Z"
   },
   {
    "duration": 167,
    "start_time": "2022-02-01T13:34:14.342Z"
   },
   {
    "duration": 40,
    "start_time": "2022-02-01T13:34:14.513Z"
   },
   {
    "duration": 85,
    "start_time": "2022-02-01T13:34:14.559Z"
   },
   {
    "duration": 302,
    "start_time": "2022-02-01T13:34:14.647Z"
   },
   {
    "duration": 137,
    "start_time": "2022-02-01T13:34:14.952Z"
   },
   {
    "duration": 132,
    "start_time": "2022-02-01T13:34:15.092Z"
   },
   {
    "duration": 47,
    "start_time": "2022-02-01T13:34:15.226Z"
   },
   {
    "duration": 27,
    "start_time": "2022-02-01T13:34:15.276Z"
   },
   {
    "duration": 69,
    "start_time": "2022-02-01T13:34:15.305Z"
   },
   {
    "duration": 13,
    "start_time": "2022-02-01T13:34:15.377Z"
   },
   {
    "duration": 5,
    "start_time": "2022-02-01T13:34:15.392Z"
   },
   {
    "duration": 480,
    "start_time": "2022-02-01T13:34:15.400Z"
   },
   {
    "duration": 51,
    "start_time": "2022-02-01T13:34:15.882Z"
   },
   {
    "duration": 71,
    "start_time": "2022-02-01T13:37:40.857Z"
   },
   {
    "duration": 59,
    "start_time": "2022-02-01T13:37:54.857Z"
   },
   {
    "duration": 9,
    "start_time": "2022-02-01T13:38:05.338Z"
   },
   {
    "duration": 507,
    "start_time": "2022-02-01T13:42:15.910Z"
   },
   {
    "duration": 1412,
    "start_time": "2022-02-01T13:45:00.998Z"
   },
   {
    "duration": 1168,
    "start_time": "2022-02-01T13:45:08.147Z"
   },
   {
    "duration": 804,
    "start_time": "2022-02-01T15:51:54.575Z"
   },
   {
    "duration": 244,
    "start_time": "2022-02-01T15:51:55.381Z"
   },
   {
    "duration": 200,
    "start_time": "2022-02-01T15:51:55.628Z"
   },
   {
    "duration": 133,
    "start_time": "2022-02-01T15:51:55.831Z"
   },
   {
    "duration": 38,
    "start_time": "2022-02-01T15:51:55.967Z"
   },
   {
    "duration": 42,
    "start_time": "2022-02-01T15:51:56.008Z"
   },
   {
    "duration": 255,
    "start_time": "2022-02-01T15:51:56.052Z"
   },
   {
    "duration": 94,
    "start_time": "2022-02-01T15:51:56.310Z"
   },
   {
    "duration": 127,
    "start_time": "2022-02-01T15:51:56.407Z"
   },
   {
    "duration": 31,
    "start_time": "2022-02-01T15:51:56.537Z"
   },
   {
    "duration": 53,
    "start_time": "2022-02-01T15:51:56.572Z"
   },
   {
    "duration": 31,
    "start_time": "2022-02-01T15:51:56.628Z"
   },
   {
    "duration": 13,
    "start_time": "2022-02-01T15:51:56.661Z"
   },
   {
    "duration": 48,
    "start_time": "2022-02-01T15:51:56.677Z"
   },
   {
    "duration": 394,
    "start_time": "2022-02-01T15:51:56.728Z"
   },
   {
    "duration": 1111,
    "start_time": "2022-02-01T15:51:57.125Z"
   },
   {
    "duration": 677,
    "start_time": "2022-02-01T15:52:09.832Z"
   },
   {
    "duration": 570,
    "start_time": "2022-02-01T18:51:36.141Z"
   },
   {
    "duration": 163,
    "start_time": "2022-02-01T18:51:36.713Z"
   },
   {
    "duration": 130,
    "start_time": "2022-02-01T18:51:36.878Z"
   },
   {
    "duration": 91,
    "start_time": "2022-02-01T18:51:37.010Z"
   },
   {
    "duration": 27,
    "start_time": "2022-02-01T18:51:37.102Z"
   },
   {
    "duration": 69,
    "start_time": "2022-02-01T18:51:37.130Z"
   },
   {
    "duration": 153,
    "start_time": "2022-02-01T18:51:37.200Z"
   },
   {
    "duration": 64,
    "start_time": "2022-02-01T18:51:37.355Z"
   },
   {
    "duration": 73,
    "start_time": "2022-02-01T18:51:37.421Z"
   },
   {
    "duration": 17,
    "start_time": "2022-02-01T18:51:37.496Z"
   },
   {
    "duration": 14,
    "start_time": "2022-02-01T18:51:37.515Z"
   },
   {
    "duration": 42,
    "start_time": "2022-02-01T18:51:37.531Z"
   },
   {
    "duration": 8,
    "start_time": "2022-02-01T18:51:37.574Z"
   },
   {
    "duration": 4,
    "start_time": "2022-02-01T18:51:37.583Z"
   },
   {
    "duration": 222,
    "start_time": "2022-02-01T18:51:37.589Z"
   },
   {
    "duration": 393,
    "start_time": "2022-02-01T18:51:37.812Z"
   },
   {
    "duration": 39,
    "start_time": "2022-02-01T18:55:29.231Z"
   },
   {
    "duration": 24,
    "start_time": "2022-02-01T18:57:39.739Z"
   },
   {
    "duration": 160,
    "start_time": "2022-02-01T19:03:37.417Z"
   },
   {
    "duration": 322,
    "start_time": "2022-02-01T19:03:58.084Z"
   },
   {
    "duration": 227,
    "start_time": "2022-02-01T19:04:10.175Z"
   },
   {
    "duration": 212,
    "start_time": "2022-02-01T19:04:32.842Z"
   },
   {
    "duration": 23,
    "start_time": "2022-02-01T19:07:41.301Z"
   },
   {
    "duration": 22,
    "start_time": "2022-02-01T19:09:01.096Z"
   },
   {
    "duration": 23,
    "start_time": "2022-02-01T19:09:45.334Z"
   },
   {
    "duration": 396,
    "start_time": "2022-02-01T19:13:44.732Z"
   },
   {
    "duration": 24,
    "start_time": "2022-02-01T19:13:52.426Z"
   },
   {
    "duration": 278,
    "start_time": "2022-02-01T19:19:03.914Z"
   },
   {
    "duration": 172,
    "start_time": "2022-02-01T19:19:12.063Z"
   },
   {
    "duration": 218,
    "start_time": "2022-02-01T19:19:22.240Z"
   },
   {
    "duration": 229,
    "start_time": "2022-02-01T19:21:20.826Z"
   },
   {
    "duration": 218,
    "start_time": "2022-02-01T19:21:31.247Z"
   },
   {
    "duration": 523,
    "start_time": "2022-02-01T19:21:51.654Z"
   },
   {
    "duration": 300,
    "start_time": "2022-02-01T19:22:00.190Z"
   },
   {
    "duration": 289,
    "start_time": "2022-02-01T19:23:11.175Z"
   },
   {
    "duration": 426,
    "start_time": "2022-02-01T19:23:36.390Z"
   },
   {
    "duration": 363,
    "start_time": "2022-02-01T19:24:47.214Z"
   },
   {
    "duration": 626,
    "start_time": "2022-02-01T19:28:11.745Z"
   },
   {
    "duration": 315,
    "start_time": "2022-02-01T19:28:34.420Z"
   },
   {
    "duration": 277,
    "start_time": "2022-02-01T19:28:45.306Z"
   },
   {
    "duration": 284,
    "start_time": "2022-02-01T19:29:02.253Z"
   },
   {
    "duration": 171,
    "start_time": "2022-02-01T19:29:09.261Z"
   },
   {
    "duration": 198,
    "start_time": "2022-02-01T19:29:30.171Z"
   },
   {
    "duration": 11,
    "start_time": "2022-02-01T19:32:30.059Z"
   },
   {
    "duration": 3,
    "start_time": "2022-02-01T19:32:34.598Z"
   },
   {
    "duration": 163,
    "start_time": "2022-02-01T19:32:34.603Z"
   },
   {
    "duration": 134,
    "start_time": "2022-02-01T19:32:34.772Z"
   },
   {
    "duration": 100,
    "start_time": "2022-02-01T19:32:34.908Z"
   },
   {
    "duration": 27,
    "start_time": "2022-02-01T19:32:35.010Z"
   },
   {
    "duration": 43,
    "start_time": "2022-02-01T19:32:35.039Z"
   },
   {
    "duration": 145,
    "start_time": "2022-02-01T19:32:35.084Z"
   },
   {
    "duration": 63,
    "start_time": "2022-02-01T19:32:35.231Z"
   },
   {
    "duration": 59,
    "start_time": "2022-02-01T19:32:35.297Z"
   },
   {
    "duration": 30,
    "start_time": "2022-02-01T19:32:35.358Z"
   },
   {
    "duration": 14,
    "start_time": "2022-02-01T19:32:35.390Z"
   },
   {
    "duration": 17,
    "start_time": "2022-02-01T19:32:35.406Z"
   },
   {
    "duration": 10,
    "start_time": "2022-02-01T19:32:35.425Z"
   },
   {
    "duration": 3,
    "start_time": "2022-02-01T19:32:35.436Z"
   },
   {
    "duration": 312,
    "start_time": "2022-02-01T19:32:35.472Z"
   },
   {
    "duration": 375,
    "start_time": "2022-02-01T19:32:35.786Z"
   },
   {
    "duration": 305,
    "start_time": "2022-02-01T19:32:36.162Z"
   },
   {
    "duration": 216,
    "start_time": "2022-02-01T19:32:36.469Z"
   },
   {
    "duration": 25,
    "start_time": "2022-02-01T19:32:36.687Z"
   },
   {
    "duration": 24,
    "start_time": "2022-02-01T19:32:36.713Z"
   },
   {
    "duration": 50,
    "start_time": "2022-02-01T19:32:36.739Z"
   },
   {
    "duration": 99,
    "start_time": "2022-02-01T19:32:36.791Z"
   },
   {
    "duration": 7882,
    "start_time": "2022-02-01T19:33:40.734Z"
   },
   {
    "duration": 212,
    "start_time": "2022-02-01T19:34:07.250Z"
   },
   {
    "duration": 3,
    "start_time": "2022-02-01T19:35:49.091Z"
   },
   {
    "duration": 155,
    "start_time": "2022-02-01T19:35:49.095Z"
   },
   {
    "duration": 139,
    "start_time": "2022-02-01T19:35:49.251Z"
   },
   {
    "duration": 91,
    "start_time": "2022-02-01T19:35:49.392Z"
   },
   {
    "duration": 25,
    "start_time": "2022-02-01T19:35:49.485Z"
   },
   {
    "duration": 50,
    "start_time": "2022-02-01T19:35:49.512Z"
   },
   {
    "duration": 139,
    "start_time": "2022-02-01T19:35:49.564Z"
   },
   {
    "duration": 83,
    "start_time": "2022-02-01T19:35:49.705Z"
   },
   {
    "duration": 96,
    "start_time": "2022-02-01T19:35:49.790Z"
   },
   {
    "duration": 26,
    "start_time": "2022-02-01T19:35:49.888Z"
   },
   {
    "duration": 20,
    "start_time": "2022-02-01T19:35:49.916Z"
   },
   {
    "duration": 42,
    "start_time": "2022-02-01T19:35:49.938Z"
   },
   {
    "duration": 15,
    "start_time": "2022-02-01T19:35:49.982Z"
   },
   {
    "duration": 4,
    "start_time": "2022-02-01T19:35:49.999Z"
   },
   {
    "duration": 382,
    "start_time": "2022-02-01T19:35:50.005Z"
   },
   {
    "duration": 535,
    "start_time": "2022-02-01T19:35:50.389Z"
   },
   {
    "duration": 370,
    "start_time": "2022-02-01T19:35:50.926Z"
   },
   {
    "duration": 343,
    "start_time": "2022-02-01T19:35:51.298Z"
   },
   {
    "duration": 39,
    "start_time": "2022-02-01T19:35:51.644Z"
   },
   {
    "duration": 30,
    "start_time": "2022-02-01T19:35:51.685Z"
   },
   {
    "duration": 33,
    "start_time": "2022-02-01T19:35:51.717Z"
   },
   {
    "duration": 2,
    "start_time": "2022-02-01T19:39:12.506Z"
   },
   {
    "duration": 155,
    "start_time": "2022-02-01T19:39:12.510Z"
   },
   {
    "duration": 132,
    "start_time": "2022-02-01T19:39:12.667Z"
   },
   {
    "duration": 93,
    "start_time": "2022-02-01T19:39:12.802Z"
   },
   {
    "duration": 26,
    "start_time": "2022-02-01T19:39:12.897Z"
   },
   {
    "duration": 37,
    "start_time": "2022-02-01T19:39:12.924Z"
   },
   {
    "duration": 156,
    "start_time": "2022-02-01T19:39:12.964Z"
   },
   {
    "duration": 63,
    "start_time": "2022-02-01T19:39:13.122Z"
   },
   {
    "duration": 58,
    "start_time": "2022-02-01T19:39:13.188Z"
   },
   {
    "duration": 33,
    "start_time": "2022-02-01T19:39:13.248Z"
   },
   {
    "duration": 16,
    "start_time": "2022-02-01T19:39:13.282Z"
   },
   {
    "duration": 24,
    "start_time": "2022-02-01T19:39:13.300Z"
   },
   {
    "duration": 11,
    "start_time": "2022-02-01T19:39:13.326Z"
   },
   {
    "duration": 3,
    "start_time": "2022-02-01T19:39:13.338Z"
   },
   {
    "duration": 234,
    "start_time": "2022-02-01T19:39:13.343Z"
   },
   {
    "duration": 308,
    "start_time": "2022-02-01T19:39:13.579Z"
   },
   {
    "duration": 213,
    "start_time": "2022-02-01T19:39:13.889Z"
   },
   {
    "duration": 207,
    "start_time": "2022-02-01T19:39:14.103Z"
   },
   {
    "duration": 22,
    "start_time": "2022-02-01T19:39:14.313Z"
   },
   {
    "duration": 38,
    "start_time": "2022-02-01T19:39:14.337Z"
   },
   {
    "duration": 22,
    "start_time": "2022-02-01T19:39:14.376Z"
   },
   {
    "duration": 3,
    "start_time": "2022-02-01T19:39:52.769Z"
   },
   {
    "duration": 157,
    "start_time": "2022-02-01T19:39:52.773Z"
   },
   {
    "duration": 132,
    "start_time": "2022-02-01T19:39:52.932Z"
   },
   {
    "duration": 92,
    "start_time": "2022-02-01T19:39:53.065Z"
   },
   {
    "duration": 26,
    "start_time": "2022-02-01T19:39:53.158Z"
   },
   {
    "duration": 38,
    "start_time": "2022-02-01T19:39:53.185Z"
   },
   {
    "duration": 149,
    "start_time": "2022-02-01T19:39:53.225Z"
   },
   {
    "duration": 55,
    "start_time": "2022-02-01T19:39:53.377Z"
   },
   {
    "duration": 72,
    "start_time": "2022-02-01T19:39:53.434Z"
   },
   {
    "duration": 18,
    "start_time": "2022-02-01T19:39:53.508Z"
   },
   {
    "duration": 15,
    "start_time": "2022-02-01T19:39:53.527Z"
   },
   {
    "duration": 36,
    "start_time": "2022-02-01T19:39:53.544Z"
   },
   {
    "duration": 10,
    "start_time": "2022-02-01T19:39:53.581Z"
   },
   {
    "duration": 9,
    "start_time": "2022-02-01T19:39:53.592Z"
   },
   {
    "duration": 217,
    "start_time": "2022-02-01T19:39:53.602Z"
   },
   {
    "duration": 409,
    "start_time": "2022-02-01T19:39:53.820Z"
   },
   {
    "duration": 210,
    "start_time": "2022-02-01T19:39:54.231Z"
   },
   {
    "duration": 199,
    "start_time": "2022-02-01T19:39:54.443Z"
   },
   {
    "duration": 30,
    "start_time": "2022-02-01T19:39:54.645Z"
   },
   {
    "duration": 20,
    "start_time": "2022-02-01T19:39:54.677Z"
   },
   {
    "duration": 19,
    "start_time": "2022-02-01T19:39:54.699Z"
   },
   {
    "duration": 44,
    "start_time": "2022-02-01T20:45:00.600Z"
   },
   {
    "duration": 347,
    "start_time": "2022-02-01T20:51:52.140Z"
   },
   {
    "duration": 5,
    "start_time": "2022-02-01T20:54:49.461Z"
   },
   {
    "duration": 6,
    "start_time": "2022-02-01T20:55:56.826Z"
   },
   {
    "duration": 5,
    "start_time": "2022-02-01T20:56:51.403Z"
   },
   {
    "duration": 3,
    "start_time": "2022-02-01T20:58:17.325Z"
   },
   {
    "duration": 155,
    "start_time": "2022-02-01T20:58:17.330Z"
   },
   {
    "duration": 134,
    "start_time": "2022-02-01T20:58:17.488Z"
   },
   {
    "duration": 97,
    "start_time": "2022-02-01T20:58:17.624Z"
   },
   {
    "duration": 26,
    "start_time": "2022-02-01T20:58:17.723Z"
   },
   {
    "duration": 38,
    "start_time": "2022-02-01T20:58:17.751Z"
   },
   {
    "duration": 140,
    "start_time": "2022-02-01T20:58:17.791Z"
   },
   {
    "duration": 55,
    "start_time": "2022-02-01T20:58:17.933Z"
   },
   {
    "duration": 58,
    "start_time": "2022-02-01T20:58:17.990Z"
   },
   {
    "duration": 29,
    "start_time": "2022-02-01T20:58:18.049Z"
   },
   {
    "duration": 14,
    "start_time": "2022-02-01T20:58:18.079Z"
   },
   {
    "duration": 16,
    "start_time": "2022-02-01T20:58:18.094Z"
   },
   {
    "duration": 9,
    "start_time": "2022-02-01T20:58:18.111Z"
   },
   {
    "duration": 3,
    "start_time": "2022-02-01T20:58:18.122Z"
   },
   {
    "duration": 234,
    "start_time": "2022-02-01T20:58:18.126Z"
   },
   {
    "duration": 290,
    "start_time": "2022-02-01T20:58:18.362Z"
   },
   {
    "duration": 208,
    "start_time": "2022-02-01T20:58:18.653Z"
   },
   {
    "duration": 200,
    "start_time": "2022-02-01T20:58:18.863Z"
   },
   {
    "duration": 26,
    "start_time": "2022-02-01T20:58:19.065Z"
   },
   {
    "duration": 19,
    "start_time": "2022-02-01T20:58:19.093Z"
   },
   {
    "duration": 20,
    "start_time": "2022-02-01T20:58:19.114Z"
   },
   {
    "duration": 4,
    "start_time": "2022-02-01T20:58:19.135Z"
   },
   {
    "duration": 923,
    "start_time": "2022-02-02T07:16:57.473Z"
   },
   {
    "duration": 183,
    "start_time": "2022-02-02T07:16:58.397Z"
   },
   {
    "duration": 155,
    "start_time": "2022-02-02T07:16:58.582Z"
   },
   {
    "duration": 105,
    "start_time": "2022-02-02T07:16:58.739Z"
   },
   {
    "duration": 29,
    "start_time": "2022-02-02T07:16:58.846Z"
   },
   {
    "duration": 49,
    "start_time": "2022-02-02T07:16:58.876Z"
   },
   {
    "duration": 174,
    "start_time": "2022-02-02T07:16:58.926Z"
   },
   {
    "duration": 77,
    "start_time": "2022-02-02T07:16:59.102Z"
   },
   {
    "duration": 77,
    "start_time": "2022-02-02T07:16:59.182Z"
   },
   {
    "duration": 19,
    "start_time": "2022-02-02T07:16:59.261Z"
   },
   {
    "duration": 15,
    "start_time": "2022-02-02T07:16:59.281Z"
   },
   {
    "duration": 17,
    "start_time": "2022-02-02T07:16:59.298Z"
   },
   {
    "duration": 11,
    "start_time": "2022-02-02T07:16:59.316Z"
   },
   {
    "duration": 4,
    "start_time": "2022-02-02T07:16:59.359Z"
   },
   {
    "duration": 221,
    "start_time": "2022-02-02T07:16:59.365Z"
   },
   {
    "duration": 460,
    "start_time": "2022-02-02T07:16:59.588Z"
   },
   {
    "duration": 249,
    "start_time": "2022-02-02T07:17:00.050Z"
   },
   {
    "duration": 252,
    "start_time": "2022-02-02T07:17:00.301Z"
   },
   {
    "duration": 28,
    "start_time": "2022-02-02T07:17:00.559Z"
   },
   {
    "duration": 27,
    "start_time": "2022-02-02T07:17:00.589Z"
   },
   {
    "duration": 50,
    "start_time": "2022-02-02T07:17:00.618Z"
   },
   {
    "duration": 7,
    "start_time": "2022-02-02T07:17:00.671Z"
   },
   {
    "duration": 36,
    "start_time": "2022-02-02T07:17:00.680Z"
   },
   {
    "duration": 28,
    "start_time": "2022-02-02T07:20:49.973Z"
   },
   {
    "duration": 5,
    "start_time": "2022-02-02T07:21:30.013Z"
   },
   {
    "duration": 31,
    "start_time": "2022-02-02T07:22:27.713Z"
   },
   {
    "duration": 31,
    "start_time": "2022-02-02T07:22:40.814Z"
   },
   {
    "duration": 6,
    "start_time": "2022-02-02T07:23:18.653Z"
   },
   {
    "duration": 280,
    "start_time": "2022-02-02T07:35:15.653Z"
   },
   {
    "duration": 266,
    "start_time": "2022-02-02T07:35:33.292Z"
   },
   {
    "duration": 210,
    "start_time": "2022-02-02T07:35:52.381Z"
   },
   {
    "duration": 3,
    "start_time": "2022-02-02T08:36:01.164Z"
   },
   {
    "duration": 205,
    "start_time": "2022-02-02T08:36:01.169Z"
   },
   {
    "duration": 157,
    "start_time": "2022-02-02T08:36:01.376Z"
   },
   {
    "duration": 112,
    "start_time": "2022-02-02T08:36:01.535Z"
   },
   {
    "duration": 40,
    "start_time": "2022-02-02T08:36:01.649Z"
   },
   {
    "duration": 70,
    "start_time": "2022-02-02T08:36:01.691Z"
   },
   {
    "duration": 161,
    "start_time": "2022-02-02T08:36:01.763Z"
   },
   {
    "duration": 73,
    "start_time": "2022-02-02T08:36:01.926Z"
   },
   {
    "duration": 70,
    "start_time": "2022-02-02T08:36:02.001Z"
   },
   {
    "duration": 20,
    "start_time": "2022-02-02T08:36:02.074Z"
   },
   {
    "duration": 15,
    "start_time": "2022-02-02T08:36:02.096Z"
   },
   {
    "duration": 18,
    "start_time": "2022-02-02T08:36:02.113Z"
   },
   {
    "duration": 12,
    "start_time": "2022-02-02T08:36:02.159Z"
   },
   {
    "duration": 3,
    "start_time": "2022-02-02T08:36:02.173Z"
   },
   {
    "duration": 227,
    "start_time": "2022-02-02T08:36:02.178Z"
   },
   {
    "duration": 352,
    "start_time": "2022-02-02T08:36:02.407Z"
   },
   {
    "duration": 250,
    "start_time": "2022-02-02T08:36:02.760Z"
   },
   {
    "duration": 263,
    "start_time": "2022-02-02T08:36:03.012Z"
   },
   {
    "duration": 29,
    "start_time": "2022-02-02T08:36:03.277Z"
   },
   {
    "duration": 26,
    "start_time": "2022-02-02T08:36:03.308Z"
   },
   {
    "duration": 23,
    "start_time": "2022-02-02T08:36:03.359Z"
   },
   {
    "duration": 6,
    "start_time": "2022-02-02T08:36:03.384Z"
   },
   {
    "duration": 8,
    "start_time": "2022-02-02T08:36:03.392Z"
   },
   {
    "duration": 187,
    "start_time": "2022-02-02T08:36:03.402Z"
   },
   {
    "duration": 6,
    "start_time": "2022-02-02T08:46:53.836Z"
   },
   {
    "duration": 5,
    "start_time": "2022-02-02T08:47:06.312Z"
   },
   {
    "duration": 188,
    "start_time": "2022-02-02T08:48:33.879Z"
   },
   {
    "duration": 7,
    "start_time": "2022-02-02T08:49:03.976Z"
   },
   {
    "duration": 7,
    "start_time": "2022-02-02T08:52:13.586Z"
   },
   {
    "duration": 8,
    "start_time": "2022-02-02T08:53:18.446Z"
   },
   {
    "duration": 8,
    "start_time": "2022-02-02T08:53:41.637Z"
   },
   {
    "duration": 6,
    "start_time": "2022-02-02T08:55:58.076Z"
   },
   {
    "duration": 7,
    "start_time": "2022-02-02T08:56:26.187Z"
   },
   {
    "duration": 3,
    "start_time": "2022-02-02T08:59:03.487Z"
   },
   {
    "duration": 182,
    "start_time": "2022-02-02T08:59:03.492Z"
   },
   {
    "duration": 153,
    "start_time": "2022-02-02T08:59:03.676Z"
   },
   {
    "duration": 108,
    "start_time": "2022-02-02T08:59:03.831Z"
   },
   {
    "duration": 28,
    "start_time": "2022-02-02T08:59:03.941Z"
   },
   {
    "duration": 49,
    "start_time": "2022-02-02T08:59:03.971Z"
   },
   {
    "duration": 171,
    "start_time": "2022-02-02T08:59:04.022Z"
   },
   {
    "duration": 69,
    "start_time": "2022-02-02T08:59:04.196Z"
   },
   {
    "duration": 62,
    "start_time": "2022-02-02T08:59:04.267Z"
   },
   {
    "duration": 38,
    "start_time": "2022-02-02T08:59:04.331Z"
   },
   {
    "duration": 15,
    "start_time": "2022-02-02T08:59:04.371Z"
   },
   {
    "duration": 19,
    "start_time": "2022-02-02T08:59:04.388Z"
   },
   {
    "duration": 10,
    "start_time": "2022-02-02T08:59:04.409Z"
   },
   {
    "duration": 4,
    "start_time": "2022-02-02T08:59:04.421Z"
   },
   {
    "duration": 221,
    "start_time": "2022-02-02T08:59:04.459Z"
   },
   {
    "duration": 425,
    "start_time": "2022-02-02T08:59:04.682Z"
   },
   {
    "duration": 276,
    "start_time": "2022-02-02T08:59:05.109Z"
   },
   {
    "duration": 253,
    "start_time": "2022-02-02T08:59:05.388Z"
   },
   {
    "duration": 37,
    "start_time": "2022-02-02T08:59:05.643Z"
   },
   {
    "duration": 26,
    "start_time": "2022-02-02T08:59:05.682Z"
   },
   {
    "duration": 26,
    "start_time": "2022-02-02T08:59:05.710Z"
   },
   {
    "duration": 7,
    "start_time": "2022-02-02T08:59:05.760Z"
   },
   {
    "duration": 7,
    "start_time": "2022-02-02T08:59:05.769Z"
   },
   {
    "duration": 9,
    "start_time": "2022-02-02T08:59:05.777Z"
   },
   {
    "duration": 9,
    "start_time": "2022-02-02T08:59:40.483Z"
   },
   {
    "duration": 3,
    "start_time": "2022-02-02T09:00:44.197Z"
   },
   {
    "duration": 188,
    "start_time": "2022-02-02T09:00:44.202Z"
   },
   {
    "duration": 149,
    "start_time": "2022-02-02T09:00:44.392Z"
   },
   {
    "duration": 108,
    "start_time": "2022-02-02T09:00:44.543Z"
   },
   {
    "duration": 36,
    "start_time": "2022-02-02T09:00:44.653Z"
   },
   {
    "duration": 52,
    "start_time": "2022-02-02T09:00:44.692Z"
   },
   {
    "duration": 161,
    "start_time": "2022-02-02T09:00:44.745Z"
   },
   {
    "duration": 74,
    "start_time": "2022-02-02T09:00:44.908Z"
   },
   {
    "duration": 77,
    "start_time": "2022-02-02T09:00:44.984Z"
   },
   {
    "duration": 19,
    "start_time": "2022-02-02T09:00:45.063Z"
   },
   {
    "duration": 16,
    "start_time": "2022-02-02T09:00:45.084Z"
   },
   {
    "duration": 20,
    "start_time": "2022-02-02T09:00:45.101Z"
   },
   {
    "duration": 42,
    "start_time": "2022-02-02T09:00:45.123Z"
   },
   {
    "duration": 3,
    "start_time": "2022-02-02T09:00:45.167Z"
   },
   {
    "duration": 231,
    "start_time": "2022-02-02T09:00:45.172Z"
   },
   {
    "duration": 368,
    "start_time": "2022-02-02T09:00:45.405Z"
   },
   {
    "duration": 258,
    "start_time": "2022-02-02T09:00:45.774Z"
   },
   {
    "duration": 256,
    "start_time": "2022-02-02T09:00:46.034Z"
   },
   {
    "duration": 27,
    "start_time": "2022-02-02T09:00:46.292Z"
   },
   {
    "duration": 44,
    "start_time": "2022-02-02T09:00:46.321Z"
   },
   {
    "duration": 35,
    "start_time": "2022-02-02T09:00:46.366Z"
   },
   {
    "duration": 7,
    "start_time": "2022-02-02T09:00:46.403Z"
   },
   {
    "duration": 12,
    "start_time": "2022-02-02T09:00:46.413Z"
   },
   {
    "duration": 33,
    "start_time": "2022-02-02T09:00:46.427Z"
   },
   {
    "duration": 3,
    "start_time": "2022-02-02T09:03:10.462Z"
   },
   {
    "duration": 171,
    "start_time": "2022-02-02T09:03:10.467Z"
   },
   {
    "duration": 148,
    "start_time": "2022-02-02T09:03:10.640Z"
   },
   {
    "duration": 103,
    "start_time": "2022-02-02T09:03:10.789Z"
   },
   {
    "duration": 29,
    "start_time": "2022-02-02T09:03:10.893Z"
   },
   {
    "duration": 40,
    "start_time": "2022-02-02T09:03:10.923Z"
   },
   {
    "duration": 161,
    "start_time": "2022-02-02T09:03:10.965Z"
   },
   {
    "duration": 66,
    "start_time": "2022-02-02T09:03:11.128Z"
   },
   {
    "duration": 71,
    "start_time": "2022-02-02T09:03:11.196Z"
   },
   {
    "duration": 19,
    "start_time": "2022-02-02T09:03:11.269Z"
   },
   {
    "duration": 15,
    "start_time": "2022-02-02T09:03:11.290Z"
   },
   {
    "duration": 20,
    "start_time": "2022-02-02T09:03:11.307Z"
   },
   {
    "duration": 14,
    "start_time": "2022-02-02T09:03:11.359Z"
   },
   {
    "duration": 5,
    "start_time": "2022-02-02T09:03:11.375Z"
   },
   {
    "duration": 237,
    "start_time": "2022-02-02T09:03:11.381Z"
   },
   {
    "duration": 377,
    "start_time": "2022-02-02T09:03:11.620Z"
   },
   {
    "duration": 261,
    "start_time": "2022-02-02T09:03:12.000Z"
   },
   {
    "duration": 246,
    "start_time": "2022-02-02T09:03:12.263Z"
   },
   {
    "duration": 27,
    "start_time": "2022-02-02T09:03:12.511Z"
   },
   {
    "duration": 42,
    "start_time": "2022-02-02T09:03:12.540Z"
   },
   {
    "duration": 145,
    "start_time": "2022-02-02T09:03:12.584Z"
   },
   {
    "duration": 7,
    "start_time": "2022-02-02T09:03:12.731Z"
   },
   {
    "duration": 23,
    "start_time": "2022-02-02T09:03:12.740Z"
   },
   {
    "duration": 14,
    "start_time": "2022-02-02T09:03:12.765Z"
   },
   {
    "duration": 4,
    "start_time": "2022-02-02T09:08:43.146Z"
   },
   {
    "duration": 173,
    "start_time": "2022-02-02T09:08:43.152Z"
   },
   {
    "duration": 144,
    "start_time": "2022-02-02T09:08:43.327Z"
   },
   {
    "duration": 100,
    "start_time": "2022-02-02T09:08:43.473Z"
   },
   {
    "duration": 28,
    "start_time": "2022-02-02T09:08:43.575Z"
   },
   {
    "duration": 49,
    "start_time": "2022-02-02T09:08:43.605Z"
   },
   {
    "duration": 169,
    "start_time": "2022-02-02T09:08:43.656Z"
   },
   {
    "duration": 68,
    "start_time": "2022-02-02T09:08:43.827Z"
   },
   {
    "duration": 78,
    "start_time": "2022-02-02T09:08:43.896Z"
   },
   {
    "duration": 19,
    "start_time": "2022-02-02T09:08:43.976Z"
   },
   {
    "duration": 16,
    "start_time": "2022-02-02T09:08:43.996Z"
   },
   {
    "duration": 20,
    "start_time": "2022-02-02T09:08:44.014Z"
   },
   {
    "duration": 12,
    "start_time": "2022-02-02T09:08:44.060Z"
   },
   {
    "duration": 3,
    "start_time": "2022-02-02T09:08:44.074Z"
   },
   {
    "duration": 230,
    "start_time": "2022-02-02T09:08:44.079Z"
   },
   {
    "duration": 343,
    "start_time": "2022-02-02T09:08:44.311Z"
   },
   {
    "duration": 235,
    "start_time": "2022-02-02T09:08:44.658Z"
   },
   {
    "duration": 236,
    "start_time": "2022-02-02T09:08:44.895Z"
   },
   {
    "duration": 40,
    "start_time": "2022-02-02T09:08:45.134Z"
   },
   {
    "duration": 23,
    "start_time": "2022-02-02T09:08:45.176Z"
   },
   {
    "duration": 23,
    "start_time": "2022-02-02T09:08:45.200Z"
   },
   {
    "duration": 6,
    "start_time": "2022-02-02T09:08:45.224Z"
   },
   {
    "duration": 6,
    "start_time": "2022-02-02T09:08:45.260Z"
   },
   {
    "duration": 7,
    "start_time": "2022-02-02T09:08:45.268Z"
   },
   {
    "duration": 1252,
    "start_time": "2022-02-02T11:06:27.190Z"
   },
   {
    "duration": 238,
    "start_time": "2022-02-02T11:06:28.445Z"
   },
   {
    "duration": 207,
    "start_time": "2022-02-02T11:06:28.688Z"
   },
   {
    "duration": 146,
    "start_time": "2022-02-02T11:06:28.899Z"
   },
   {
    "duration": 36,
    "start_time": "2022-02-02T11:06:29.048Z"
   },
   {
    "duration": 60,
    "start_time": "2022-02-02T11:06:29.087Z"
   },
   {
    "duration": 259,
    "start_time": "2022-02-02T11:06:29.149Z"
   },
   {
    "duration": 87,
    "start_time": "2022-02-02T11:06:29.414Z"
   },
   {
    "duration": 119,
    "start_time": "2022-02-02T11:06:29.505Z"
   },
   {
    "duration": 31,
    "start_time": "2022-02-02T11:06:29.627Z"
   },
   {
    "duration": 30,
    "start_time": "2022-02-02T11:06:29.661Z"
   },
   {
    "duration": 33,
    "start_time": "2022-02-02T11:06:29.722Z"
   },
   {
    "duration": 19,
    "start_time": "2022-02-02T11:06:29.758Z"
   },
   {
    "duration": 5,
    "start_time": "2022-02-02T11:06:29.780Z"
   },
   {
    "duration": 378,
    "start_time": "2022-02-02T11:06:29.824Z"
   },
   {
    "duration": 733,
    "start_time": "2022-02-02T11:06:30.204Z"
   },
   {
    "duration": 409,
    "start_time": "2022-02-02T11:06:30.939Z"
   },
   {
    "duration": 394,
    "start_time": "2022-02-02T11:06:31.350Z"
   },
   {
    "duration": 46,
    "start_time": "2022-02-02T11:06:31.746Z"
   },
   {
    "duration": 64,
    "start_time": "2022-02-02T11:06:31.795Z"
   },
   {
    "duration": 64,
    "start_time": "2022-02-02T11:06:31.862Z"
   },
   {
    "duration": 10,
    "start_time": "2022-02-02T11:06:31.929Z"
   },
   {
    "duration": 11,
    "start_time": "2022-02-02T11:06:31.945Z"
   },
   {
    "duration": 9,
    "start_time": "2022-02-02T11:06:31.959Z"
   },
   {
    "duration": 4,
    "start_time": "2022-02-02T11:07:56.621Z"
   },
   {
    "duration": 249,
    "start_time": "2022-02-02T11:07:56.627Z"
   },
   {
    "duration": 205,
    "start_time": "2022-02-02T11:07:56.879Z"
   },
   {
    "duration": 136,
    "start_time": "2022-02-02T11:07:57.087Z"
   },
   {
    "duration": 34,
    "start_time": "2022-02-02T11:07:57.225Z"
   },
   {
    "duration": 58,
    "start_time": "2022-02-02T11:07:57.261Z"
   },
   {
    "duration": 225,
    "start_time": "2022-02-02T11:07:57.324Z"
   },
   {
    "duration": 140,
    "start_time": "2022-02-02T11:07:57.554Z"
   },
   {
    "duration": 146,
    "start_time": "2022-02-02T11:07:57.697Z"
   },
   {
    "duration": 47,
    "start_time": "2022-02-02T11:07:57.846Z"
   },
   {
    "duration": 62,
    "start_time": "2022-02-02T11:07:57.896Z"
   },
   {
    "duration": 68,
    "start_time": "2022-02-02T11:07:57.961Z"
   },
   {
    "duration": 25,
    "start_time": "2022-02-02T11:07:58.032Z"
   },
   {
    "duration": 8,
    "start_time": "2022-02-02T11:07:58.060Z"
   },
   {
    "duration": 408,
    "start_time": "2022-02-02T11:07:58.071Z"
   },
   {
    "duration": 570,
    "start_time": "2022-02-02T11:07:58.482Z"
   },
   {
    "duration": 416,
    "start_time": "2022-02-02T11:07:59.055Z"
   },
   {
    "duration": 397,
    "start_time": "2022-02-02T11:07:59.473Z"
   },
   {
    "duration": 54,
    "start_time": "2022-02-02T11:07:59.874Z"
   },
   {
    "duration": 40,
    "start_time": "2022-02-02T11:07:59.931Z"
   },
   {
    "duration": 69,
    "start_time": "2022-02-02T11:07:59.974Z"
   },
   {
    "duration": 10,
    "start_time": "2022-02-02T11:08:00.045Z"
   },
   {
    "duration": 13,
    "start_time": "2022-02-02T11:08:00.058Z"
   },
   {
    "duration": 12,
    "start_time": "2022-02-02T11:08:00.075Z"
   },
   {
    "duration": 4,
    "start_time": "2022-02-02T11:17:41.720Z"
   },
   {
    "duration": 248,
    "start_time": "2022-02-02T11:17:41.727Z"
   },
   {
    "duration": 190,
    "start_time": "2022-02-02T11:17:41.978Z"
   },
   {
    "duration": 131,
    "start_time": "2022-02-02T11:17:42.171Z"
   },
   {
    "duration": 50,
    "start_time": "2022-02-02T11:17:42.304Z"
   },
   {
    "duration": 73,
    "start_time": "2022-02-02T11:17:42.356Z"
   },
   {
    "duration": 237,
    "start_time": "2022-02-02T11:17:42.433Z"
   },
   {
    "duration": 95,
    "start_time": "2022-02-02T11:17:42.673Z"
   },
   {
    "duration": 101,
    "start_time": "2022-02-02T11:17:42.770Z"
   },
   {
    "duration": 29,
    "start_time": "2022-02-02T11:17:42.873Z"
   },
   {
    "duration": 40,
    "start_time": "2022-02-02T11:17:42.904Z"
   },
   {
    "duration": 30,
    "start_time": "2022-02-02T11:17:42.947Z"
   },
   {
    "duration": 45,
    "start_time": "2022-02-02T11:17:42.979Z"
   },
   {
    "duration": 7,
    "start_time": "2022-02-02T11:17:43.027Z"
   },
   {
    "duration": 377,
    "start_time": "2022-02-02T11:17:43.036Z"
   },
   {
    "duration": 621,
    "start_time": "2022-02-02T11:17:43.415Z"
   },
   {
    "duration": 389,
    "start_time": "2022-02-02T11:17:44.039Z"
   },
   {
    "duration": 381,
    "start_time": "2022-02-02T11:17:44.431Z"
   },
   {
    "duration": 44,
    "start_time": "2022-02-02T11:17:44.816Z"
   },
   {
    "duration": 63,
    "start_time": "2022-02-02T11:17:44.862Z"
   },
   {
    "duration": 41,
    "start_time": "2022-02-02T11:17:44.927Z"
   },
   {
    "duration": 10,
    "start_time": "2022-02-02T11:17:44.971Z"
   },
   {
    "duration": 9,
    "start_time": "2022-02-02T11:17:44.983Z"
   },
   {
    "duration": 10,
    "start_time": "2022-02-02T11:17:45.025Z"
   },
   {
    "duration": 4,
    "start_time": "2022-02-02T11:19:22.672Z"
   },
   {
    "duration": 229,
    "start_time": "2022-02-02T11:19:22.678Z"
   },
   {
    "duration": 190,
    "start_time": "2022-02-02T11:19:22.909Z"
   },
   {
    "duration": 136,
    "start_time": "2022-02-02T11:19:23.102Z"
   },
   {
    "duration": 33,
    "start_time": "2022-02-02T11:19:23.240Z"
   },
   {
    "duration": 76,
    "start_time": "2022-02-02T11:19:23.276Z"
   },
   {
    "duration": 235,
    "start_time": "2022-02-02T11:19:23.354Z"
   },
   {
    "duration": 97,
    "start_time": "2022-02-02T11:19:23.593Z"
   },
   {
    "duration": 105,
    "start_time": "2022-02-02T11:19:23.693Z"
   },
   {
    "duration": 38,
    "start_time": "2022-02-02T11:19:23.801Z"
   },
   {
    "duration": 25,
    "start_time": "2022-02-02T11:19:23.841Z"
   },
   {
    "duration": 28,
    "start_time": "2022-02-02T11:19:23.868Z"
   },
   {
    "duration": 16,
    "start_time": "2022-02-02T11:19:23.923Z"
   },
   {
    "duration": 8,
    "start_time": "2022-02-02T11:19:23.941Z"
   },
   {
    "duration": 389,
    "start_time": "2022-02-02T11:19:23.952Z"
   },
   {
    "duration": 573,
    "start_time": "2022-02-02T11:19:24.344Z"
   },
   {
    "duration": 389,
    "start_time": "2022-02-02T11:19:24.923Z"
   },
   {
    "duration": 390,
    "start_time": "2022-02-02T11:19:25.315Z"
   },
   {
    "duration": 55,
    "start_time": "2022-02-02T11:19:25.708Z"
   },
   {
    "duration": 63,
    "start_time": "2022-02-02T11:19:25.766Z"
   },
   {
    "duration": 40,
    "start_time": "2022-02-02T11:19:25.832Z"
   },
   {
    "duration": 8,
    "start_time": "2022-02-02T11:19:25.875Z"
   },
   {
    "duration": 36,
    "start_time": "2022-02-02T11:19:25.887Z"
   },
   {
    "duration": 13,
    "start_time": "2022-02-02T11:19:25.925Z"
   },
   {
    "duration": 1231,
    "start_time": "2022-02-11T22:14:36.499Z"
   },
   {
    "duration": 243,
    "start_time": "2022-02-11T22:14:37.733Z"
   },
   {
    "duration": 197,
    "start_time": "2022-02-11T22:14:37.979Z"
   },
   {
    "duration": 141,
    "start_time": "2022-02-11T22:14:38.179Z"
   },
   {
    "duration": 34,
    "start_time": "2022-02-11T22:14:38.324Z"
   },
   {
    "duration": 34,
    "start_time": "2022-02-11T22:14:38.361Z"
   },
   {
    "duration": 257,
    "start_time": "2022-02-11T22:14:38.397Z"
   },
   {
    "duration": 106,
    "start_time": "2022-02-11T22:14:38.657Z"
   },
   {
    "duration": 112,
    "start_time": "2022-02-11T22:14:38.766Z"
   },
   {
    "duration": 44,
    "start_time": "2022-02-11T22:14:38.880Z"
   },
   {
    "duration": 25,
    "start_time": "2022-02-11T22:14:38.927Z"
   },
   {
    "duration": 32,
    "start_time": "2022-02-11T22:14:38.955Z"
   },
   {
    "duration": 47,
    "start_time": "2022-02-11T22:14:38.990Z"
   },
   {
    "duration": 5,
    "start_time": "2022-02-11T22:14:39.040Z"
   },
   {
    "duration": 407,
    "start_time": "2022-02-11T22:14:39.048Z"
   },
   {
    "duration": 775,
    "start_time": "2022-02-11T22:14:39.457Z"
   },
   {
    "duration": 408,
    "start_time": "2022-02-11T22:14:40.235Z"
   },
   {
    "duration": 396,
    "start_time": "2022-02-11T22:14:40.646Z"
   },
   {
    "duration": 45,
    "start_time": "2022-02-11T22:14:41.044Z"
   },
   {
    "duration": 65,
    "start_time": "2022-02-11T22:14:41.091Z"
   },
   {
    "duration": 41,
    "start_time": "2022-02-11T22:14:41.159Z"
   },
   {
    "duration": 11,
    "start_time": "2022-02-11T22:14:41.224Z"
   },
   {
    "duration": 13,
    "start_time": "2022-02-11T22:14:41.240Z"
   },
   {
    "duration": 11,
    "start_time": "2022-02-11T22:14:41.256Z"
   },
   {
    "duration": 34,
    "start_time": "2022-02-11T22:18:27.498Z"
   },
   {
    "duration": 46,
    "start_time": "2022-02-11T22:22:10.109Z"
   },
   {
    "duration": 1190,
    "start_time": "2022-02-12T10:16:12.230Z"
   },
   {
    "duration": 237,
    "start_time": "2022-02-12T10:16:13.423Z"
   },
   {
    "duration": 195,
    "start_time": "2022-02-12T10:16:13.663Z"
   },
   {
    "duration": 141,
    "start_time": "2022-02-12T10:16:13.861Z"
   },
   {
    "duration": 38,
    "start_time": "2022-02-12T10:16:14.004Z"
   },
   {
    "duration": 35,
    "start_time": "2022-02-12T10:16:14.045Z"
   },
   {
    "duration": 253,
    "start_time": "2022-02-12T10:16:14.083Z"
   },
   {
    "duration": 98,
    "start_time": "2022-02-12T10:16:14.339Z"
   },
   {
    "duration": 106,
    "start_time": "2022-02-12T10:16:14.440Z"
   },
   {
    "duration": 31,
    "start_time": "2022-02-12T10:16:14.548Z"
   },
   {
    "duration": 26,
    "start_time": "2022-02-12T10:16:14.581Z"
   },
   {
    "duration": 31,
    "start_time": "2022-02-12T10:16:14.632Z"
   },
   {
    "duration": 15,
    "start_time": "2022-02-12T10:16:14.666Z"
   },
   {
    "duration": 5,
    "start_time": "2022-02-12T10:16:14.683Z"
   },
   {
    "duration": 405,
    "start_time": "2022-02-12T10:16:14.690Z"
   },
   {
    "duration": 714,
    "start_time": "2022-02-12T10:16:15.098Z"
   },
   {
    "duration": 388,
    "start_time": "2022-02-12T10:16:15.814Z"
   },
   {
    "duration": 380,
    "start_time": "2022-02-12T10:16:16.205Z"
   },
   {
    "duration": 57,
    "start_time": "2022-02-12T10:16:16.587Z"
   },
   {
    "duration": 40,
    "start_time": "2022-02-12T10:16:16.646Z"
   },
   {
    "duration": 64,
    "start_time": "2022-02-12T10:16:16.688Z"
   },
   {
    "duration": 9,
    "start_time": "2022-02-12T10:16:16.755Z"
   },
   {
    "duration": 12,
    "start_time": "2022-02-12T10:16:16.768Z"
   },
   {
    "duration": 11,
    "start_time": "2022-02-12T10:16:16.782Z"
   },
   {
    "duration": 886,
    "start_time": "2022-02-12T10:18:03.302Z"
   },
   {
    "duration": 549,
    "start_time": "2022-02-12T10:18:40.044Z"
   },
   {
    "duration": 367,
    "start_time": "2022-02-12T10:25:55.742Z"
   },
   {
    "duration": 429,
    "start_time": "2022-02-12T10:26:04.085Z"
   },
   {
    "duration": 370,
    "start_time": "2022-02-12T10:26:21.848Z"
   },
   {
    "duration": 25,
    "start_time": "2022-02-12T10:26:49.542Z"
   },
   {
    "duration": 4,
    "start_time": "2022-02-12T10:27:25.871Z"
   },
   {
    "duration": 226,
    "start_time": "2022-02-12T10:27:25.878Z"
   },
   {
    "duration": 193,
    "start_time": "2022-02-12T10:27:26.107Z"
   },
   {
    "duration": 140,
    "start_time": "2022-02-12T10:27:26.303Z"
   },
   {
    "duration": 30,
    "start_time": "2022-02-12T10:27:26.445Z"
   },
   {
    "duration": 38,
    "start_time": "2022-02-12T10:27:26.477Z"
   },
   {
    "duration": 253,
    "start_time": "2022-02-12T10:27:26.517Z"
   },
   {
    "duration": 103,
    "start_time": "2022-02-12T10:27:26.774Z"
   },
   {
    "duration": 98,
    "start_time": "2022-02-12T10:27:26.880Z"
   },
   {
    "duration": 28,
    "start_time": "2022-02-12T10:27:26.980Z"
   },
   {
    "duration": 54,
    "start_time": "2022-02-12T10:27:27.010Z"
   },
   {
    "duration": 31,
    "start_time": "2022-02-12T10:27:27.067Z"
   },
   {
    "duration": 42,
    "start_time": "2022-02-12T10:27:27.105Z"
   },
   {
    "duration": 7,
    "start_time": "2022-02-12T10:27:27.150Z"
   },
   {
    "duration": 386,
    "start_time": "2022-02-12T10:27:27.160Z"
   },
   {
    "duration": 558,
    "start_time": "2022-02-12T10:27:27.549Z"
   },
   {
    "duration": 382,
    "start_time": "2022-02-12T10:27:28.110Z"
   },
   {
    "duration": 377,
    "start_time": "2022-02-12T10:27:28.496Z"
   },
   {
    "duration": 56,
    "start_time": "2022-02-12T10:27:28.876Z"
   },
   {
    "duration": 39,
    "start_time": "2022-02-12T10:27:28.935Z"
   },
   {
    "duration": 63,
    "start_time": "2022-02-12T10:27:28.977Z"
   },
   {
    "duration": 9,
    "start_time": "2022-02-12T10:27:29.042Z"
   },
   {
    "duration": 8,
    "start_time": "2022-02-12T10:27:29.055Z"
   },
   {
    "duration": 8,
    "start_time": "2022-02-12T10:27:29.066Z"
   },
   {
    "duration": 4,
    "start_time": "2022-02-12T10:34:32.834Z"
   },
   {
    "duration": 319,
    "start_time": "2022-02-12T10:34:32.841Z"
   },
   {
    "duration": 251,
    "start_time": "2022-02-12T10:34:33.165Z"
   },
   {
    "duration": 213,
    "start_time": "2022-02-12T10:34:33.419Z"
   },
   {
    "duration": 41,
    "start_time": "2022-02-12T10:34:33.636Z"
   },
   {
    "duration": 53,
    "start_time": "2022-02-12T10:34:33.680Z"
   },
   {
    "duration": 244,
    "start_time": "2022-02-12T10:34:33.736Z"
   },
   {
    "duration": 95,
    "start_time": "2022-02-12T10:34:33.984Z"
   },
   {
    "duration": 104,
    "start_time": "2022-02-12T10:34:34.082Z"
   },
   {
    "duration": 24,
    "start_time": "2022-02-12T10:34:34.189Z"
   },
   {
    "duration": 40,
    "start_time": "2022-02-12T10:34:34.215Z"
   },
   {
    "duration": 34,
    "start_time": "2022-02-12T10:34:34.258Z"
   },
   {
    "duration": 58,
    "start_time": "2022-02-12T10:34:34.295Z"
   },
   {
    "duration": 8,
    "start_time": "2022-02-12T10:34:34.357Z"
   },
   {
    "duration": 548,
    "start_time": "2022-02-12T10:34:34.368Z"
   },
   {
    "duration": 661,
    "start_time": "2022-02-12T10:34:34.918Z"
   },
   {
    "duration": 388,
    "start_time": "2022-02-12T10:34:35.581Z"
   },
   {
    "duration": 397,
    "start_time": "2022-02-12T10:34:35.972Z"
   },
   {
    "duration": 42,
    "start_time": "2022-02-12T10:34:36.371Z"
   },
   {
    "duration": 39,
    "start_time": "2022-02-12T10:34:36.433Z"
   },
   {
    "duration": 65,
    "start_time": "2022-02-12T10:34:36.475Z"
   },
   {
    "duration": 12,
    "start_time": "2022-02-12T10:34:36.543Z"
   },
   {
    "duration": 12,
    "start_time": "2022-02-12T10:34:36.559Z"
   },
   {
    "duration": 16,
    "start_time": "2022-02-12T10:34:36.573Z"
   },
   {
    "duration": 89,
    "start_time": "2022-02-12T10:48:10.649Z"
   },
   {
    "duration": 4,
    "start_time": "2022-02-12T10:48:40.187Z"
   },
   {
    "duration": 232,
    "start_time": "2022-02-12T10:48:40.193Z"
   },
   {
    "duration": 195,
    "start_time": "2022-02-12T10:48:40.432Z"
   },
   {
    "duration": 133,
    "start_time": "2022-02-12T10:48:40.634Z"
   },
   {
    "duration": 30,
    "start_time": "2022-02-12T10:48:40.770Z"
   },
   {
    "duration": 46,
    "start_time": "2022-02-12T10:48:40.803Z"
   },
   {
    "duration": 386,
    "start_time": "2022-02-12T10:48:40.852Z"
   },
   {
    "duration": 99,
    "start_time": "2022-02-12T10:48:41.243Z"
   },
   {
    "duration": 103,
    "start_time": "2022-02-12T10:48:41.346Z"
   },
   {
    "duration": 26,
    "start_time": "2022-02-12T10:48:41.453Z"
   },
   {
    "duration": 50,
    "start_time": "2022-02-12T10:48:41.482Z"
   },
   {
    "duration": 31,
    "start_time": "2022-02-12T10:48:41.535Z"
   },
   {
    "duration": 18,
    "start_time": "2022-02-12T10:48:41.569Z"
   },
   {
    "duration": 6,
    "start_time": "2022-02-12T10:48:41.589Z"
   },
   {
    "duration": 399,
    "start_time": "2022-02-12T10:48:41.633Z"
   },
   {
    "duration": 573,
    "start_time": "2022-02-12T10:48:42.035Z"
   },
   {
    "duration": 394,
    "start_time": "2022-02-12T10:48:42.610Z"
   },
   {
    "duration": 402,
    "start_time": "2022-02-12T10:48:43.007Z"
   },
   {
    "duration": 49,
    "start_time": "2022-02-12T10:48:43.411Z"
   },
   {
    "duration": 39,
    "start_time": "2022-02-12T10:48:43.463Z"
   },
   {
    "duration": 42,
    "start_time": "2022-02-12T10:48:43.531Z"
   },
   {
    "duration": 11,
    "start_time": "2022-02-12T10:48:43.576Z"
   },
   {
    "duration": 42,
    "start_time": "2022-02-12T10:48:43.593Z"
   },
   {
    "duration": 12,
    "start_time": "2022-02-12T10:48:43.638Z"
   },
   {
    "duration": 935,
    "start_time": "2022-02-12T19:20:40.711Z"
   },
   {
    "duration": 153,
    "start_time": "2022-02-12T19:20:41.648Z"
   },
   {
    "duration": 129,
    "start_time": "2022-02-12T19:20:41.803Z"
   },
   {
    "duration": 92,
    "start_time": "2022-02-12T19:20:41.934Z"
   },
   {
    "duration": 30,
    "start_time": "2022-02-12T19:20:42.028Z"
   },
   {
    "duration": 35,
    "start_time": "2022-02-12T19:20:42.059Z"
   },
   {
    "duration": 150,
    "start_time": "2022-02-12T19:20:42.096Z"
   },
   {
    "duration": 51,
    "start_time": "2022-02-12T19:20:42.248Z"
   },
   {
    "duration": 69,
    "start_time": "2022-02-12T19:20:42.301Z"
   },
   {
    "duration": 16,
    "start_time": "2022-02-12T19:20:48.358Z"
   },
   {
    "duration": 16,
    "start_time": "2022-02-12T19:24:51.679Z"
   },
   {
    "duration": 15,
    "start_time": "2022-02-12T19:27:17.005Z"
   },
   {
    "duration": 13,
    "start_time": "2022-02-12T19:27:21.259Z"
   },
   {
    "duration": 379,
    "start_time": "2022-02-12T19:27:52.116Z"
   },
   {
    "duration": 42,
    "start_time": "2022-02-12T19:28:26.320Z"
   },
   {
    "duration": 38,
    "start_time": "2022-02-12T19:29:00.131Z"
   },
   {
    "duration": 15,
    "start_time": "2022-02-12T19:29:38.444Z"
   },
   {
    "duration": 2,
    "start_time": "2022-02-12T19:29:44.391Z"
   },
   {
    "duration": 151,
    "start_time": "2022-02-12T19:29:44.396Z"
   },
   {
    "duration": 134,
    "start_time": "2022-02-12T19:29:44.549Z"
   },
   {
    "duration": 91,
    "start_time": "2022-02-12T19:29:44.685Z"
   },
   {
    "duration": 26,
    "start_time": "2022-02-12T19:29:44.777Z"
   },
   {
    "duration": 35,
    "start_time": "2022-02-12T19:29:44.805Z"
   },
   {
    "duration": 141,
    "start_time": "2022-02-12T19:29:44.842Z"
   },
   {
    "duration": 63,
    "start_time": "2022-02-12T19:29:44.985Z"
   },
   {
    "duration": 52,
    "start_time": "2022-02-12T19:29:45.050Z"
   },
   {
    "duration": 35,
    "start_time": "2022-02-12T19:30:00.715Z"
   },
   {
    "duration": 11,
    "start_time": "2022-02-12T19:30:23.980Z"
   },
   {
    "duration": 2,
    "start_time": "2022-02-12T19:30:34.442Z"
   },
   {
    "duration": 1000,
    "start_time": "2022-02-12T19:30:34.446Z"
   },
   {
    "duration": 1005,
    "start_time": "2022-02-12T19:30:35.448Z"
   },
   {
    "duration": 87,
    "start_time": "2022-02-12T19:30:36.455Z"
   },
   {
    "duration": 26,
    "start_time": "2022-02-12T19:30:36.544Z"
   },
   {
    "duration": 68,
    "start_time": "2022-02-12T19:30:36.571Z"
   },
   {
    "duration": 139,
    "start_time": "2022-02-12T19:30:36.641Z"
   },
   {
    "duration": 57,
    "start_time": "2022-02-12T19:30:36.781Z"
   },
   {
    "duration": 51,
    "start_time": "2022-02-12T19:30:36.840Z"
   },
   {
    "duration": 45,
    "start_time": "2022-02-12T19:30:36.893Z"
   },
   {
    "duration": 35,
    "start_time": "2022-02-12T19:30:40.253Z"
   },
   {
    "duration": 11,
    "start_time": "2022-02-12T19:30:43.925Z"
   },
   {
    "duration": 16,
    "start_time": "2022-02-12T19:31:34.924Z"
   },
   {
    "duration": 10,
    "start_time": "2022-02-12T19:31:41.658Z"
   },
   {
    "duration": 16,
    "start_time": "2022-02-12T19:32:48.675Z"
   },
   {
    "duration": 13,
    "start_time": "2022-02-12T19:32:54.553Z"
   },
   {
    "duration": -57,
    "start_time": "2022-02-12T19:36:09.333Z"
   },
   {
    "duration": 2,
    "start_time": "2022-02-12T19:36:16.054Z"
   },
   {
    "duration": 215,
    "start_time": "2022-02-12T19:36:16.058Z"
   },
   {
    "duration": 138,
    "start_time": "2022-02-12T19:36:16.276Z"
   },
   {
    "duration": 87,
    "start_time": "2022-02-12T19:36:16.416Z"
   },
   {
    "duration": 27,
    "start_time": "2022-02-12T19:36:16.505Z"
   },
   {
    "duration": 52,
    "start_time": "2022-02-12T19:36:16.533Z"
   },
   {
    "duration": 133,
    "start_time": "2022-02-12T19:36:21.959Z"
   },
   {
    "duration": 48,
    "start_time": "2022-02-12T19:36:46.896Z"
   },
   {
    "duration": 52,
    "start_time": "2022-02-12T19:37:02.167Z"
   },
   {
    "duration": 13,
    "start_time": "2022-02-12T19:37:28.711Z"
   },
   {
    "duration": 12,
    "start_time": "2022-02-12T19:41:19.822Z"
   },
   {
    "duration": 2,
    "start_time": "2022-02-12T19:41:45.583Z"
   },
   {
    "duration": 148,
    "start_time": "2022-02-12T19:41:45.587Z"
   },
   {
    "duration": 130,
    "start_time": "2022-02-12T19:41:45.736Z"
   },
   {
    "duration": 87,
    "start_time": "2022-02-12T19:41:45.867Z"
   },
   {
    "duration": 26,
    "start_time": "2022-02-12T19:41:45.955Z"
   },
   {
    "duration": 46,
    "start_time": "2022-02-12T19:41:45.982Z"
   },
   {
    "duration": 135,
    "start_time": "2022-02-12T19:41:46.030Z"
   },
   {
    "duration": 47,
    "start_time": "2022-02-12T19:41:46.167Z"
   },
   {
    "duration": 58,
    "start_time": "2022-02-12T19:41:46.216Z"
   },
   {
    "duration": 11,
    "start_time": "2022-02-12T19:41:46.275Z"
   },
   {
    "duration": 13,
    "start_time": "2022-02-12T19:41:46.287Z"
   },
   {
    "duration": 35,
    "start_time": "2022-02-12T19:41:46.301Z"
   },
   {
    "duration": 9,
    "start_time": "2022-02-12T19:41:46.338Z"
   },
   {
    "duration": 3,
    "start_time": "2022-02-12T19:41:46.349Z"
   },
   {
    "duration": 217,
    "start_time": "2022-02-12T19:41:46.353Z"
   },
   {
    "duration": 356,
    "start_time": "2022-02-12T19:41:46.572Z"
   },
   {
    "duration": 203,
    "start_time": "2022-02-12T19:41:46.930Z"
   },
   {
    "duration": 194,
    "start_time": "2022-02-12T19:41:47.135Z"
   },
   {
    "duration": 21,
    "start_time": "2022-02-12T19:41:47.331Z"
   },
   {
    "duration": 20,
    "start_time": "2022-02-12T19:41:47.353Z"
   },
   {
    "duration": 21,
    "start_time": "2022-02-12T19:41:47.375Z"
   },
   {
    "duration": 5,
    "start_time": "2022-02-12T19:41:47.398Z"
   },
   {
    "duration": 5,
    "start_time": "2022-02-12T19:41:47.427Z"
   },
   {
    "duration": 6,
    "start_time": "2022-02-12T19:41:47.433Z"
   },
   {
    "duration": 3,
    "start_time": "2022-02-12T19:43:47.850Z"
   },
   {
    "duration": 143,
    "start_time": "2022-02-12T19:43:47.854Z"
   },
   {
    "duration": 129,
    "start_time": "2022-02-12T19:43:47.999Z"
   },
   {
    "duration": 87,
    "start_time": "2022-02-12T19:43:48.130Z"
   },
   {
    "duration": 25,
    "start_time": "2022-02-12T19:43:48.218Z"
   },
   {
    "duration": 47,
    "start_time": "2022-02-12T19:43:48.244Z"
   },
   {
    "duration": 127,
    "start_time": "2022-02-12T19:43:48.293Z"
   },
   {
    "duration": 46,
    "start_time": "2022-02-12T19:43:48.422Z"
   },
   {
    "duration": 58,
    "start_time": "2022-02-12T19:43:48.470Z"
   },
   {
    "duration": 11,
    "start_time": "2022-02-12T19:43:48.530Z"
   },
   {
    "duration": 13,
    "start_time": "2022-02-12T19:43:48.543Z"
   },
   {
    "duration": 16,
    "start_time": "2022-02-12T19:43:48.558Z"
   },
   {
    "duration": 10,
    "start_time": "2022-02-12T19:43:48.575Z"
   },
   {
    "duration": 3,
    "start_time": "2022-02-12T19:43:48.587Z"
   },
   {
    "duration": 237,
    "start_time": "2022-02-12T19:43:48.591Z"
   },
   {
    "duration": 366,
    "start_time": "2022-02-12T19:43:48.829Z"
   },
   {
    "duration": 199,
    "start_time": "2022-02-12T19:43:49.196Z"
   },
   {
    "duration": 197,
    "start_time": "2022-02-12T19:43:49.396Z"
   },
   {
    "duration": 23,
    "start_time": "2022-02-12T19:43:49.595Z"
   },
   {
    "duration": 26,
    "start_time": "2022-02-12T19:43:49.619Z"
   },
   {
    "duration": 21,
    "start_time": "2022-02-12T19:43:49.646Z"
   },
   {
    "duration": 6,
    "start_time": "2022-02-12T19:43:49.668Z"
   },
   {
    "duration": 10,
    "start_time": "2022-02-12T19:43:49.675Z"
   },
   {
    "duration": 5,
    "start_time": "2022-02-12T19:43:49.687Z"
   },
   {
    "duration": 12,
    "start_time": "2022-02-12T19:46:23.907Z"
   },
   {
    "duration": 15,
    "start_time": "2022-02-12T19:46:30.636Z"
   },
   {
    "duration": 17,
    "start_time": "2022-02-12T19:46:41.714Z"
   },
   {
    "duration": 15,
    "start_time": "2022-02-12T19:47:08.555Z"
   },
   {
    "duration": 15,
    "start_time": "2022-02-12T19:47:20.371Z"
   },
   {
    "duration": 18,
    "start_time": "2022-02-12T19:47:29.828Z"
   },
   {
    "duration": 11,
    "start_time": "2022-02-12T19:47:38.514Z"
   },
   {
    "duration": 12,
    "start_time": "2022-02-12T19:48:51.354Z"
   },
   {
    "duration": 4,
    "start_time": "2022-02-12T19:48:56.018Z"
   },
   {
    "duration": 204,
    "start_time": "2022-02-12T19:48:57.195Z"
   },
   {
    "duration": 307,
    "start_time": "2022-02-12T19:49:05.985Z"
   },
   {
    "duration": 203,
    "start_time": "2022-02-12T19:49:14.601Z"
   },
   {
    "duration": 247,
    "start_time": "2022-02-12T19:49:18.002Z"
   },
   {
    "duration": 25,
    "start_time": "2022-02-12T19:49:26.297Z"
   },
   {
    "duration": 22,
    "start_time": "2022-02-12T19:49:51.243Z"
   },
   {
    "duration": 23,
    "start_time": "2022-02-12T19:49:57.842Z"
   },
   {
    "duration": 7,
    "start_time": "2022-02-12T19:50:11.488Z"
   },
   {
    "duration": 6,
    "start_time": "2022-02-12T19:50:16.728Z"
   },
   {
    "duration": 6,
    "start_time": "2022-02-12T19:50:22.769Z"
   },
   {
    "duration": 2,
    "start_time": "2022-02-12T19:50:51.394Z"
   },
   {
    "duration": 153,
    "start_time": "2022-02-12T19:50:51.398Z"
   },
   {
    "duration": 130,
    "start_time": "2022-02-12T19:50:51.552Z"
   },
   {
    "duration": 90,
    "start_time": "2022-02-12T19:50:51.683Z"
   },
   {
    "duration": 24,
    "start_time": "2022-02-12T19:50:51.774Z"
   },
   {
    "duration": 44,
    "start_time": "2022-02-12T19:50:51.800Z"
   },
   {
    "duration": 134,
    "start_time": "2022-02-12T19:50:51.846Z"
   },
   {
    "duration": 57,
    "start_time": "2022-02-12T19:50:51.982Z"
   },
   {
    "duration": 50,
    "start_time": "2022-02-12T19:50:52.041Z"
   },
   {
    "duration": 16,
    "start_time": "2022-02-12T19:50:52.092Z"
   },
   {
    "duration": 29,
    "start_time": "2022-02-12T19:50:52.109Z"
   },
   {
    "duration": 16,
    "start_time": "2022-02-12T19:50:52.140Z"
   },
   {
    "duration": 14,
    "start_time": "2022-02-12T19:50:52.158Z"
   },
   {
    "duration": 4,
    "start_time": "2022-02-12T19:50:52.173Z"
   },
   {
    "duration": 328,
    "start_time": "2022-02-12T19:50:52.179Z"
   },
   {
    "duration": 288,
    "start_time": "2022-02-12T19:50:52.508Z"
   },
   {
    "duration": 205,
    "start_time": "2022-02-12T19:50:52.797Z"
   },
   {
    "duration": 194,
    "start_time": "2022-02-12T19:50:53.003Z"
   },
   {
    "duration": 30,
    "start_time": "2022-02-12T19:50:53.199Z"
   },
   {
    "duration": 21,
    "start_time": "2022-02-12T19:50:53.231Z"
   },
   {
    "duration": 136,
    "start_time": "2022-02-12T19:50:53.253Z"
   },
   {
    "duration": 6,
    "start_time": "2022-02-12T19:50:53.391Z"
   },
   {
    "duration": 10,
    "start_time": "2022-02-12T19:50:53.398Z"
   },
   {
    "duration": 18,
    "start_time": "2022-02-12T19:50:53.409Z"
   },
   {
    "duration": 15,
    "start_time": "2022-02-12T19:51:25.409Z"
   },
   {
    "duration": 99,
    "start_time": "2022-02-12T19:52:02.761Z"
   },
   {
    "duration": 11,
    "start_time": "2022-02-12T19:55:35.935Z"
   },
   {
    "duration": 3,
    "start_time": "2022-02-12T19:55:43.270Z"
   },
   {
    "duration": 140,
    "start_time": "2022-02-12T19:55:43.274Z"
   },
   {
    "duration": 131,
    "start_time": "2022-02-12T19:55:43.415Z"
   },
   {
    "duration": 86,
    "start_time": "2022-02-12T19:55:43.548Z"
   },
   {
    "duration": 24,
    "start_time": "2022-02-12T19:55:43.635Z"
   },
   {
    "duration": 41,
    "start_time": "2022-02-12T19:55:43.661Z"
   },
   {
    "duration": 127,
    "start_time": "2022-02-12T19:55:43.704Z"
   },
   {
    "duration": 49,
    "start_time": "2022-02-12T19:55:43.833Z"
   },
   {
    "duration": 64,
    "start_time": "2022-02-12T19:55:43.884Z"
   },
   {
    "duration": 11,
    "start_time": "2022-02-12T19:55:43.949Z"
   },
   {
    "duration": 13,
    "start_time": "2022-02-12T19:55:43.961Z"
   },
   {
    "duration": 16,
    "start_time": "2022-02-12T19:55:43.975Z"
   },
   {
    "duration": 38,
    "start_time": "2022-02-12T19:55:43.992Z"
   },
   {
    "duration": 3,
    "start_time": "2022-02-12T19:55:44.031Z"
   },
   {
    "duration": 300,
    "start_time": "2022-02-12T19:55:44.036Z"
   },
   {
    "duration": 291,
    "start_time": "2022-02-12T19:55:44.338Z"
   },
   {
    "duration": 209,
    "start_time": "2022-02-12T19:55:44.630Z"
   },
   {
    "duration": 194,
    "start_time": "2022-02-12T19:55:44.840Z"
   },
   {
    "duration": 23,
    "start_time": "2022-02-12T19:55:45.036Z"
   },
   {
    "duration": 22,
    "start_time": "2022-02-12T19:55:45.060Z"
   },
   {
    "duration": 47,
    "start_time": "2022-02-12T19:55:45.083Z"
   },
   {
    "duration": 6,
    "start_time": "2022-02-12T19:55:45.131Z"
   },
   {
    "duration": 8,
    "start_time": "2022-02-12T19:55:45.138Z"
   },
   {
    "duration": 5,
    "start_time": "2022-02-12T19:55:45.148Z"
   },
   {
    "duration": 2,
    "start_time": "2022-02-12T19:57:39.492Z"
   },
   {
    "duration": 144,
    "start_time": "2022-02-12T19:57:39.496Z"
   },
   {
    "duration": 133,
    "start_time": "2022-02-12T19:57:39.642Z"
   },
   {
    "duration": 98,
    "start_time": "2022-02-12T19:57:39.777Z"
   },
   {
    "duration": 25,
    "start_time": "2022-02-12T19:57:39.877Z"
   },
   {
    "duration": 35,
    "start_time": "2022-02-12T19:57:39.904Z"
   },
   {
    "duration": 136,
    "start_time": "2022-02-12T19:57:39.941Z"
   },
   {
    "duration": 51,
    "start_time": "2022-02-12T19:57:40.079Z"
   },
   {
    "duration": 49,
    "start_time": "2022-02-12T19:57:40.132Z"
   },
   {
    "duration": 11,
    "start_time": "2022-02-12T19:57:40.182Z"
   },
   {
    "duration": 34,
    "start_time": "2022-02-12T19:57:40.194Z"
   },
   {
    "duration": 17,
    "start_time": "2022-02-12T19:57:40.229Z"
   },
   {
    "duration": 13,
    "start_time": "2022-02-12T19:57:40.248Z"
   },
   {
    "duration": 4,
    "start_time": "2022-02-12T19:57:40.262Z"
   },
   {
    "duration": 230,
    "start_time": "2022-02-12T19:57:40.268Z"
   },
   {
    "duration": 389,
    "start_time": "2022-02-12T19:57:40.500Z"
   },
   {
    "duration": 310,
    "start_time": "2022-02-12T19:57:40.890Z"
   },
   {
    "duration": 201,
    "start_time": "2022-02-12T19:57:41.202Z"
   },
   {
    "duration": 27,
    "start_time": "2022-02-12T19:57:41.405Z"
   },
   {
    "duration": 22,
    "start_time": "2022-02-12T19:57:41.433Z"
   },
   {
    "duration": 21,
    "start_time": "2022-02-12T19:57:41.456Z"
   },
   {
    "duration": 6,
    "start_time": "2022-02-12T19:57:41.478Z"
   },
   {
    "duration": 8,
    "start_time": "2022-02-12T19:57:41.485Z"
   },
   {
    "duration": 35,
    "start_time": "2022-02-12T19:57:41.494Z"
   },
   {
    "duration": 916,
    "start_time": "2022-02-13T16:37:11.847Z"
   },
   {
    "duration": 193,
    "start_time": "2022-02-13T16:37:12.765Z"
   },
   {
    "duration": 166,
    "start_time": "2022-02-13T16:37:12.961Z"
   },
   {
    "duration": 114,
    "start_time": "2022-02-13T16:37:13.129Z"
   },
   {
    "duration": 26,
    "start_time": "2022-02-13T16:37:13.245Z"
   },
   {
    "duration": 41,
    "start_time": "2022-02-13T16:37:13.272Z"
   },
   {
    "duration": 202,
    "start_time": "2022-02-13T16:37:13.314Z"
   },
   {
    "duration": 65,
    "start_time": "2022-02-13T16:37:13.519Z"
   },
   {
    "duration": 95,
    "start_time": "2022-02-13T16:37:13.586Z"
   },
   {
    "duration": 15,
    "start_time": "2022-02-13T16:37:32.899Z"
   },
   {
    "duration": 3,
    "start_time": "2022-02-13T16:37:40.248Z"
   },
   {
    "duration": 171,
    "start_time": "2022-02-13T16:37:40.258Z"
   },
   {
    "duration": 149,
    "start_time": "2022-02-13T16:37:40.432Z"
   },
   {
    "duration": 96,
    "start_time": "2022-02-13T16:37:40.583Z"
   },
   {
    "duration": 24,
    "start_time": "2022-02-13T16:37:40.680Z"
   },
   {
    "duration": 28,
    "start_time": "2022-02-13T16:37:40.712Z"
   },
   {
    "duration": 168,
    "start_time": "2022-02-13T16:37:40.742Z"
   },
   {
    "duration": 57,
    "start_time": "2022-02-13T16:37:40.912Z"
   },
   {
    "duration": 80,
    "start_time": "2022-02-13T16:37:40.971Z"
   },
   {
    "duration": 16,
    "start_time": "2022-02-13T16:37:41.055Z"
   },
   {
    "duration": 17,
    "start_time": "2022-02-13T16:37:41.073Z"
   },
   {
    "duration": 21,
    "start_time": "2022-02-13T16:37:41.112Z"
   },
   {
    "duration": 14,
    "start_time": "2022-02-13T16:37:41.135Z"
   },
   {
    "duration": 5,
    "start_time": "2022-02-13T16:37:41.151Z"
   },
   {
    "duration": 318,
    "start_time": "2022-02-13T16:37:41.157Z"
   },
   {
    "duration": 491,
    "start_time": "2022-02-13T16:37:41.477Z"
   },
   {
    "duration": 270,
    "start_time": "2022-02-13T16:37:41.970Z"
   },
   {
    "duration": 260,
    "start_time": "2022-02-13T16:37:42.242Z"
   },
   {
    "duration": 31,
    "start_time": "2022-02-13T16:37:42.504Z"
   },
   {
    "duration": 26,
    "start_time": "2022-02-13T16:37:42.537Z"
   },
   {
    "duration": 25,
    "start_time": "2022-02-13T16:37:42.564Z"
   },
   {
    "duration": 27,
    "start_time": "2022-02-13T16:37:42.591Z"
   },
   {
    "duration": 6,
    "start_time": "2022-02-13T16:37:42.620Z"
   },
   {
    "duration": 6,
    "start_time": "2022-02-13T16:37:42.628Z"
   },
   {
    "duration": 4,
    "start_time": "2022-02-13T18:47:42.103Z"
   },
   {
    "duration": 907,
    "start_time": "2022-06-10T14:42:12.419Z"
   },
   {
    "duration": 317,
    "start_time": "2022-06-10T14:42:13.328Z"
   },
   {
    "duration": 643,
    "start_time": "2022-06-10T14:42:13.647Z"
   },
   {
    "duration": 366,
    "start_time": "2022-06-10T14:42:14.292Z"
   },
   {
    "duration": 116,
    "start_time": "2022-06-10T14:42:14.660Z"
   },
   {
    "duration": 79,
    "start_time": "2022-06-10T14:42:14.778Z"
   },
   {
    "duration": 241,
    "start_time": "2022-06-10T14:42:14.858Z"
   },
   {
    "duration": 87,
    "start_time": "2022-06-10T14:42:15.104Z"
   },
   {
    "duration": 84,
    "start_time": "2022-06-10T14:42:15.196Z"
   },
   {
    "duration": 24,
    "start_time": "2022-06-10T14:42:15.292Z"
   },
   {
    "duration": 19,
    "start_time": "2022-06-10T14:42:15.318Z"
   },
   {
    "duration": 37,
    "start_time": "2022-06-10T14:42:15.339Z"
   },
   {
    "duration": 22,
    "start_time": "2022-06-10T14:42:15.379Z"
   },
   {
    "duration": 13,
    "start_time": "2022-06-10T14:42:15.403Z"
   },
   {
    "duration": 186,
    "start_time": "2022-06-10T14:42:15.417Z"
   },
   {
    "duration": 597,
    "start_time": "2022-06-10T14:42:15.604Z"
   },
   {
    "duration": 216,
    "start_time": "2022-06-10T14:42:16.207Z"
   },
   {
    "duration": 198,
    "start_time": "2022-06-10T14:42:16.425Z"
   },
   {
    "duration": 27,
    "start_time": "2022-06-10T14:42:16.625Z"
   },
   {
    "duration": 43,
    "start_time": "2022-06-10T14:42:16.660Z"
   },
   {
    "duration": 44,
    "start_time": "2022-06-10T14:42:16.708Z"
   },
   {
    "duration": 15,
    "start_time": "2022-06-10T14:42:16.754Z"
   },
   {
    "duration": 73,
    "start_time": "2022-06-10T14:42:16.770Z"
   },
   {
    "duration": 18,
    "start_time": "2022-06-10T14:42:16.845Z"
   }
  ],
  "kernelspec": {
   "display_name": "Python 3 (ipykernel)",
   "language": "python",
   "name": "python3"
  },
  "language_info": {
   "codemirror_mode": {
    "name": "ipython",
    "version": 3
   },
   "file_extension": ".py",
   "mimetype": "text/x-python",
   "name": "python",
   "nbconvert_exporter": "python",
   "pygments_lexer": "ipython3",
   "version": "3.7.8"
  },
  "toc": {
   "base_numbering": 1,
   "nav_menu": {},
   "number_sections": true,
   "sideBar": true,
   "skip_h1_title": true,
   "title_cell": "Table of Contents",
   "title_sidebar": "Contents",
   "toc_cell": false,
   "toc_position": {
    "height": "calc(100% - 180px)",
    "left": "10px",
    "top": "150px",
    "width": "290.075px"
   },
   "toc_section_display": true,
   "toc_window_display": false
  }
 },
 "nbformat": 4,
 "nbformat_minor": 2
}
