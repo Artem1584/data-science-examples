{
 "cells": [
  {
   "cell_type": "markdown",
   "metadata": {},
   "source": [
    "# Рекомендация тарифов"
   ]
  },
  {
   "cell_type": "markdown",
   "metadata": {},
   "source": [
    "В вашем распоряжении данные о поведении клиентов, которые уже перешли на эти тарифы (из проекта курса «Статистический анализ данных»). Нужно построить модель для задачи классификации, которая выберет подходящий тариф. Предобработка данных не понадобится — вы её уже сделали.\n",
    "\n",
    "Постройте модель с максимально большим значением *accuracy*."
   ]
  },
  {
   "cell_type": "markdown",
   "metadata": {},
   "source": [
    "## Откройте и изучите файл"
   ]
  },
  {
   "cell_type": "code",
   "execution_count": 1,
   "metadata": {},
   "outputs": [],
   "source": [
    "import pandas as pd\n",
    "from sklearn.model_selection import train_test_split\n",
    "from sklearn.tree import DecisionTreeClassifier\n",
    "from sklearn.metrics import accuracy_score\n",
    "from sklearn.ensemble import RandomForestClassifier\n",
    "from sklearn.linear_model import LogisticRegression\n",
    "from sklearn.dummy import DummyClassifier"
   ]
  },
  {
   "cell_type": "code",
   "execution_count": 2,
   "metadata": {},
   "outputs": [
    {
     "data": {
      "text/html": [
       "<div>\n",
       "<style scoped>\n",
       "    .dataframe tbody tr th:only-of-type {\n",
       "        vertical-align: middle;\n",
       "    }\n",
       "\n",
       "    .dataframe tbody tr th {\n",
       "        vertical-align: top;\n",
       "    }\n",
       "\n",
       "    .dataframe thead th {\n",
       "        text-align: right;\n",
       "    }\n",
       "</style>\n",
       "<table border=\"1\" class=\"dataframe\">\n",
       "  <thead>\n",
       "    <tr style=\"text-align: right;\">\n",
       "      <th></th>\n",
       "      <th>calls</th>\n",
       "      <th>minutes</th>\n",
       "      <th>messages</th>\n",
       "      <th>mb_used</th>\n",
       "      <th>is_ultra</th>\n",
       "    </tr>\n",
       "  </thead>\n",
       "  <tbody>\n",
       "    <tr>\n",
       "      <th>0</th>\n",
       "      <td>40.0</td>\n",
       "      <td>311.90</td>\n",
       "      <td>83.0</td>\n",
       "      <td>19915.42</td>\n",
       "      <td>0</td>\n",
       "    </tr>\n",
       "    <tr>\n",
       "      <th>1</th>\n",
       "      <td>85.0</td>\n",
       "      <td>516.75</td>\n",
       "      <td>56.0</td>\n",
       "      <td>22696.96</td>\n",
       "      <td>0</td>\n",
       "    </tr>\n",
       "    <tr>\n",
       "      <th>2</th>\n",
       "      <td>77.0</td>\n",
       "      <td>467.66</td>\n",
       "      <td>86.0</td>\n",
       "      <td>21060.45</td>\n",
       "      <td>0</td>\n",
       "    </tr>\n",
       "    <tr>\n",
       "      <th>3</th>\n",
       "      <td>106.0</td>\n",
       "      <td>745.53</td>\n",
       "      <td>81.0</td>\n",
       "      <td>8437.39</td>\n",
       "      <td>1</td>\n",
       "    </tr>\n",
       "    <tr>\n",
       "      <th>4</th>\n",
       "      <td>66.0</td>\n",
       "      <td>418.74</td>\n",
       "      <td>1.0</td>\n",
       "      <td>14502.75</td>\n",
       "      <td>0</td>\n",
       "    </tr>\n",
       "    <tr>\n",
       "      <th>5</th>\n",
       "      <td>58.0</td>\n",
       "      <td>344.56</td>\n",
       "      <td>21.0</td>\n",
       "      <td>15823.37</td>\n",
       "      <td>0</td>\n",
       "    </tr>\n",
       "    <tr>\n",
       "      <th>6</th>\n",
       "      <td>57.0</td>\n",
       "      <td>431.64</td>\n",
       "      <td>20.0</td>\n",
       "      <td>3738.90</td>\n",
       "      <td>1</td>\n",
       "    </tr>\n",
       "    <tr>\n",
       "      <th>7</th>\n",
       "      <td>15.0</td>\n",
       "      <td>132.40</td>\n",
       "      <td>6.0</td>\n",
       "      <td>21911.60</td>\n",
       "      <td>0</td>\n",
       "    </tr>\n",
       "    <tr>\n",
       "      <th>8</th>\n",
       "      <td>7.0</td>\n",
       "      <td>43.39</td>\n",
       "      <td>3.0</td>\n",
       "      <td>2538.67</td>\n",
       "      <td>1</td>\n",
       "    </tr>\n",
       "    <tr>\n",
       "      <th>9</th>\n",
       "      <td>90.0</td>\n",
       "      <td>665.41</td>\n",
       "      <td>38.0</td>\n",
       "      <td>17358.61</td>\n",
       "      <td>0</td>\n",
       "    </tr>\n",
       "  </tbody>\n",
       "</table>\n",
       "</div>"
      ],
      "text/plain": [
       "   calls  minutes  messages   mb_used  is_ultra\n",
       "0   40.0   311.90      83.0  19915.42         0\n",
       "1   85.0   516.75      56.0  22696.96         0\n",
       "2   77.0   467.66      86.0  21060.45         0\n",
       "3  106.0   745.53      81.0   8437.39         1\n",
       "4   66.0   418.74       1.0  14502.75         0\n",
       "5   58.0   344.56      21.0  15823.37         0\n",
       "6   57.0   431.64      20.0   3738.90         1\n",
       "7   15.0   132.40       6.0  21911.60         0\n",
       "8    7.0    43.39       3.0   2538.67         1\n",
       "9   90.0   665.41      38.0  17358.61         0"
      ]
     },
     "metadata": {},
     "output_type": "display_data"
    },
    {
     "name": "stdout",
     "output_type": "stream",
     "text": [
      "<class 'pandas.core.frame.DataFrame'>\n",
      "RangeIndex: 3214 entries, 0 to 3213\n",
      "Data columns (total 5 columns):\n",
      " #   Column    Non-Null Count  Dtype  \n",
      "---  ------    --------------  -----  \n",
      " 0   calls     3214 non-null   float64\n",
      " 1   minutes   3214 non-null   float64\n",
      " 2   messages  3214 non-null   float64\n",
      " 3   mb_used   3214 non-null   float64\n",
      " 4   is_ultra  3214 non-null   int64  \n",
      "dtypes: float64(4), int64(1)\n",
      "memory usage: 125.7 KB\n"
     ]
    }
   ],
   "source": [
    "df = pd.read_csv('/datasets/users_behavior.csv')\n",
    "display(df.head(10))\n",
    "df.info()"
   ]
  },
  {
   "cell_type": "markdown",
   "metadata": {},
   "source": [
    "Вывод: пропусков нет."
   ]
  },
  {
   "cell_type": "markdown",
   "metadata": {},
   "source": [
    "## Разбейте данные на выборки\n",
    "\n",
    "Разделите исходные данные на обучающую, валидационную и тестовую выборки."
   ]
  },
  {
   "cell_type": "code",
   "execution_count": 3,
   "metadata": {},
   "outputs": [],
   "source": [
    "features = df.drop(['is_ultra'], axis=1)\n",
    "target = df['is_ultra']"
   ]
  },
  {
   "cell_type": "code",
   "execution_count": 4,
   "metadata": {},
   "outputs": [],
   "source": [
    "# отделил обучающаую выборку, взял 60%\n",
    "features_train, features_rest, target_train, target_rest = train_test_split(features, target, test_size=0.40, random_state=12345)\n",
    "\n",
    "# отделил валидационную и тестовую выборки 50/50\n",
    "features_test, features_valid, target_test, target_valid = train_test_split(features_rest, target_rest, test_size=0.5, random_state=12345)\n"
   ]
  },
  {
   "cell_type": "markdown",
   "metadata": {},
   "source": [
    "### Вывод\n",
    "\n",
    "Разделил данные на три выборки: обучающую, валидационную и тестовую (60 %, 20%, 20%)"
   ]
  },
  {
   "cell_type": "markdown",
   "metadata": {},
   "source": [
    "## Исследуйте модели"
   ]
  },
  {
   "cell_type": "code",
   "execution_count": 5,
   "metadata": {},
   "outputs": [
    {
     "name": "stdout",
     "output_type": "stream",
     "text": [
      "Наилучший Accuracy в модели 'Дерево решений'на валидационной выборке: 0.7993779160186625\n",
      "depth: 7\n"
     ]
    }
   ],
   "source": [
    "best_result = 0\n",
    "best_depth = 0\n",
    "for depth in range(1, 11):\n",
    "    model = DecisionTreeClassifier(random_state=12345, max_depth=depth)\n",
    "    model.fit(features_train, target_train) #  обучил модель \n",
    "\n",
    "    predictions_valid = model.predict(features_valid) # предсказания на валидационной выборке \n",
    "    result = model.score(features_valid, target_valid) #  качество модели на валидационной выборке\n",
    "    if result > best_result:\n",
    "        best_result = result\n",
    "        best_depth = depth\n",
    "print(\"Наилучший Accuracy в модели 'Дерево решений'на валидационной выборке:\", best_result)\n",
    "print(\"depth:\", best_depth)"
   ]
  },
  {
   "cell_type": "code",
   "execution_count": 7,
   "metadata": {},
   "outputs": [
    {
     "name": "stdout",
     "output_type": "stream",
     "text": [
      "n_estimators = 10\n",
      "Наилучший Accuracy в модели 'Случайный лес'на валидационной выборке: 0.7993779160186625\n"
     ]
    }
   ],
   "source": [
    "best_model = None\n",
    "best_est = 0\n",
    "for est in range(1, 11):\n",
    "    model = RandomForestClassifier(random_state=12345, n_estimators=est) # модель с заданным количеством деревьев\n",
    "    model.fit(features_train, target_train) # обучил модель на тренировочной выборке\n",
    "    result = model.score(features_valid, target_valid) # качество модели на валидационной выборке\n",
    "    if result > best_result:\n",
    "        best_est = est# сохраните наилучшую модель\n",
    "        best_result = result#  сохраните наилучшее значение метрики accuracy на валидационных данных\n",
    "print(\"n_estimators =\", est)\n",
    "print(\"Наилучший Accuracy в модели 'Случайный лес'на валидационной выборке:\", best_result)"
   ]
  },
  {
   "cell_type": "code",
   "execution_count": 27,
   "metadata": {},
   "outputs": [
    {
     "name": "stdout",
     "output_type": "stream",
     "text": [
      "Accuracy модели логистической регрессии на валидационной выборке: 0.7402799377916018\n"
     ]
    },
    {
     "name": "stderr",
     "output_type": "stream",
     "text": [
      "/opt/conda/lib/python3.7/site-packages/sklearn/linear_model/logistic.py:432: FutureWarning: Default solver will be changed to 'lbfgs' in 0.22. Specify a solver to silence this warning.\n",
      "  FutureWarning)\n"
     ]
    }
   ],
   "source": [
    "model = LogisticRegression(random_state=12345) # модель логистической регрессии с параметром random_state=12345\n",
    "model.fit(features_train, target_train) # обучите модель на тренировочной выборке\n",
    "result = model.score(features_valid, target_valid) # получите метрику качества модели на валидационной выборке\n",
    "\n",
    "print(\"Accuracy модели логистической регрессии на валидационной выборке:\", result)"
   ]
  },
  {
   "cell_type": "markdown",
   "metadata": {},
   "source": [
    "### Вывод\n",
    "\n",
    "Наилучший Accuracy показала модель 'Дерево решений' и 'Случайный лес' на валидационной выборке с показателем 0.799.\n",
    "\n",
    "Почему то одинаковый показатель, если расчеты верно, просьба прокомментировать ревьюера возможно ли такое?"
   ]
  },
  {
   "cell_type": "markdown",
   "metadata": {},
   "source": [
    "## Проверьте модель на тестовой выборке"
   ]
  },
  {
   "cell_type": "markdown",
   "metadata": {},
   "source": [
    "Проверять буду модель 'Дерево решений'с показателем depth: 7, которые на валидационной выборке дали лучшие результаты.\n"
   ]
  },
  {
   "cell_type": "code",
   "execution_count": 28,
   "metadata": {},
   "outputs": [
    {
     "name": "stdout",
     "output_type": "stream",
     "text": [
      "Модель 'Дерево решений'на тестовой выборке показало качество: 0.7822706065318819\n"
     ]
    }
   ],
   "source": [
    "model = DecisionTreeClassifier(random_state=12345, max_depth=7)\n",
    "model.fit(features_train, target_train) #  обучил модель \n",
    "result = model.score(features_test, target_test) #  качество модели на тестовой выборке\n",
    "\n",
    "print(\"Модель 'Дерево решений'на тестовой выборке показало качество:\", result)"
   ]
  },
  {
   "cell_type": "markdown",
   "metadata": {},
   "source": [
    "На тестовой выборке показатель качества составил 0,782"
   ]
  },
  {
   "cell_type": "markdown",
   "metadata": {},
   "source": [
    "## (бонус) Проверьте модели на адекватность"
   ]
  },
  {
   "cell_type": "code",
   "execution_count": 29,
   "metadata": {},
   "outputs": [
    {
     "data": {
      "text/plain": [
       "0.6924273858921162"
      ]
     },
     "execution_count": 29,
     "metadata": {},
     "output_type": "execute_result"
    }
   ],
   "source": [
    "model = DummyClassifier(strategy=\"most_frequent\")\n",
    "model.fit(features_train, target_train)\n",
    "model.predict(features_train)\n",
    "model.score(features_train, target_train)"
   ]
  },
  {
   "cell_type": "markdown",
   "metadata": {},
   "source": [
    "### Общий вывод:\n",
    "\n",
    "Построил несколько моделей для выявления лучший показателей. Наилучший Accuracy показала модель 'Дерево решений' с показателем depth = 7 на валидационной выборке с показателем 0,799. Проверил модель на тестовой выборке, показатель 0,78."
   ]
  },
  {
   "cell_type": "code",
   "execution_count": null,
   "metadata": {},
   "outputs": [],
   "source": []
  }
 ],
 "metadata": {
  "ExecuteTimeLog": [
   {
    "duration": 351,
    "start_time": "2022-03-02T19:47:25.845Z"
   },
   {
    "duration": 541,
    "start_time": "2022-03-02T19:47:32.019Z"
   },
   {
    "duration": 322,
    "start_time": "2022-03-02T19:47:32.562Z"
   },
   {
    "duration": 28,
    "start_time": "2022-03-02T19:47:40.834Z"
   },
   {
    "duration": 20,
    "start_time": "2022-03-02T19:48:08.100Z"
   },
   {
    "duration": 25,
    "start_time": "2022-03-02T19:48:30.506Z"
   },
   {
    "duration": 1004,
    "start_time": "2022-03-03T16:33:12.161Z"
   },
   {
    "duration": 32,
    "start_time": "2022-03-03T16:33:13.167Z"
   },
   {
    "duration": 355,
    "start_time": "2022-03-03T16:33:13.201Z"
   },
   {
    "duration": 6,
    "start_time": "2022-03-03T16:36:45.933Z"
   },
   {
    "duration": 9,
    "start_time": "2022-03-03T16:36:57.890Z"
   },
   {
    "duration": 14,
    "start_time": "2022-03-03T16:37:24.628Z"
   },
   {
    "duration": 14,
    "start_time": "2022-03-03T16:38:00.851Z"
   },
   {
    "duration": 14,
    "start_time": "2022-03-03T16:43:20.958Z"
   },
   {
    "duration": 22,
    "start_time": "2022-03-03T16:44:41.295Z"
   },
   {
    "duration": 24,
    "start_time": "2022-03-03T16:48:12.162Z"
   },
   {
    "duration": 3,
    "start_time": "2022-03-03T16:51:31.802Z"
   },
   {
    "duration": 74,
    "start_time": "2022-03-03T16:54:55.306Z"
   },
   {
    "duration": 218,
    "start_time": "2022-03-03T16:55:05.404Z"
   },
   {
    "duration": 1807,
    "start_time": "2022-03-03T16:55:34.122Z"
   },
   {
    "duration": 27,
    "start_time": "2022-03-03T16:55:43.893Z"
   },
   {
    "duration": 203,
    "start_time": "2022-03-03T16:57:26.843Z"
   },
   {
    "duration": 31,
    "start_time": "2022-03-03T16:58:12.689Z"
   },
   {
    "duration": 30,
    "start_time": "2022-03-03T16:58:40.442Z"
   },
   {
    "duration": 40,
    "start_time": "2022-03-03T16:59:00.497Z"
   },
   {
    "duration": 2,
    "start_time": "2022-03-03T18:14:26.382Z"
   },
   {
    "duration": 27,
    "start_time": "2022-03-03T18:14:26.386Z"
   },
   {
    "duration": 3,
    "start_time": "2022-03-03T18:14:26.415Z"
   },
   {
    "duration": 40,
    "start_time": "2022-03-03T18:14:26.420Z"
   },
   {
    "duration": 27,
    "start_time": "2022-03-03T18:14:34.367Z"
   },
   {
    "duration": 3,
    "start_time": "2022-03-03T20:06:00.705Z"
   },
   {
    "duration": 40,
    "start_time": "2022-03-03T20:06:00.710Z"
   },
   {
    "duration": 6,
    "start_time": "2022-03-03T20:06:00.752Z"
   },
   {
    "duration": 55,
    "start_time": "2022-03-03T20:06:00.760Z"
   },
   {
    "duration": 7,
    "start_time": "2022-03-03T20:06:17.640Z"
   },
   {
    "duration": 30,
    "start_time": "2022-03-03T20:09:31.157Z"
   },
   {
    "duration": 3,
    "start_time": "2022-03-03T20:10:09.656Z"
   },
   {
    "duration": 15,
    "start_time": "2022-03-03T20:10:16.141Z"
   },
   {
    "duration": 13,
    "start_time": "2022-03-03T20:12:06.532Z"
   },
   {
    "duration": 17,
    "start_time": "2022-03-03T20:12:47.299Z"
   },
   {
    "duration": 11,
    "start_time": "2022-03-03T20:17:18.482Z"
   },
   {
    "duration": 9,
    "start_time": "2022-03-03T20:17:26.703Z"
   },
   {
    "duration": 9,
    "start_time": "2022-03-03T20:17:30.912Z"
   },
   {
    "duration": 13,
    "start_time": "2022-03-03T20:17:35.058Z"
   },
   {
    "duration": 15,
    "start_time": "2022-03-03T20:17:39.714Z"
   },
   {
    "duration": 14,
    "start_time": "2022-03-03T20:17:48.934Z"
   },
   {
    "duration": 14,
    "start_time": "2022-03-03T20:17:56.626Z"
   },
   {
    "duration": 15,
    "start_time": "2022-03-03T20:18:41.337Z"
   },
   {
    "duration": 3,
    "start_time": "2022-03-03T20:18:59.178Z"
   },
   {
    "duration": 24,
    "start_time": "2022-03-03T20:18:59.183Z"
   },
   {
    "duration": 3,
    "start_time": "2022-03-03T20:18:59.208Z"
   },
   {
    "duration": 7,
    "start_time": "2022-03-03T20:18:59.213Z"
   },
   {
    "duration": 9,
    "start_time": "2022-03-03T20:18:59.222Z"
   },
   {
    "duration": 7,
    "start_time": "2022-03-03T20:19:10.313Z"
   },
   {
    "duration": 21,
    "start_time": "2022-03-03T20:19:13.104Z"
   },
   {
    "duration": 10,
    "start_time": "2022-03-03T20:29:29.229Z"
   },
   {
    "duration": 4,
    "start_time": "2022-03-03T20:29:35.166Z"
   },
   {
    "duration": 32,
    "start_time": "2022-03-03T20:29:35.172Z"
   },
   {
    "duration": 4,
    "start_time": "2022-03-03T20:29:35.207Z"
   },
   {
    "duration": 8,
    "start_time": "2022-03-03T20:29:35.213Z"
   },
   {
    "duration": 13,
    "start_time": "2022-03-03T20:29:35.223Z"
   },
   {
    "duration": 12,
    "start_time": "2022-03-03T20:29:37.588Z"
   },
   {
    "duration": 243,
    "start_time": "2022-03-03T20:35:13.738Z"
   },
   {
    "duration": 3,
    "start_time": "2022-03-03T20:35:27.938Z"
   },
   {
    "duration": 28,
    "start_time": "2022-03-03T20:35:27.943Z"
   },
   {
    "duration": 4,
    "start_time": "2022-03-03T20:35:27.972Z"
   },
   {
    "duration": 8,
    "start_time": "2022-03-03T20:35:27.978Z"
   },
   {
    "duration": 16,
    "start_time": "2022-03-03T20:36:09.214Z"
   },
   {
    "duration": 15,
    "start_time": "2022-03-03T20:37:46.969Z"
   },
   {
    "duration": 10,
    "start_time": "2022-03-03T20:38:10.528Z"
   },
   {
    "duration": 9,
    "start_time": "2022-03-03T20:38:15.608Z"
   },
   {
    "duration": 12,
    "start_time": "2022-03-03T20:38:21.200Z"
   },
   {
    "duration": 15,
    "start_time": "2022-03-03T20:38:25.912Z"
   },
   {
    "duration": 18,
    "start_time": "2022-03-03T20:38:29.975Z"
   },
   {
    "duration": 64,
    "start_time": "2022-03-03T20:41:28.271Z"
   },
   {
    "duration": 65,
    "start_time": "2022-03-03T20:47:43.166Z"
   },
   {
    "duration": 65,
    "start_time": "2022-03-03T20:48:23.939Z"
   },
   {
    "duration": 60,
    "start_time": "2022-03-03T20:48:35.028Z"
   },
   {
    "duration": 237,
    "start_time": "2022-03-03T20:51:29.563Z"
   },
   {
    "duration": 58,
    "start_time": "2022-03-03T20:51:47.358Z"
   },
   {
    "duration": 10,
    "start_time": "2022-03-03T20:55:03.267Z"
   },
   {
    "duration": 235,
    "start_time": "2022-03-03T20:55:09.466Z"
   },
   {
    "duration": 734,
    "start_time": "2022-03-03T20:55:54.312Z"
   },
   {
    "duration": 146,
    "start_time": "2022-03-03T20:56:03.352Z"
   },
   {
    "duration": 766,
    "start_time": "2022-03-03T20:56:07.481Z"
   },
   {
    "duration": 745,
    "start_time": "2022-03-03T20:58:05.487Z"
   },
   {
    "duration": 228,
    "start_time": "2022-03-03T20:58:12.408Z"
   },
   {
    "duration": 268,
    "start_time": "2022-03-03T20:58:22.679Z"
   },
   {
    "duration": 143,
    "start_time": "2022-03-03T20:59:31.089Z"
   },
   {
    "duration": 4,
    "start_time": "2022-03-03T21:00:01.046Z"
   },
   {
    "duration": 14,
    "start_time": "2022-03-03T21:01:00.262Z"
   },
   {
    "duration": 4,
    "start_time": "2022-03-03T21:07:01.477Z"
   },
   {
    "duration": 36,
    "start_time": "2022-03-03T21:07:01.483Z"
   },
   {
    "duration": 4,
    "start_time": "2022-03-03T21:07:01.521Z"
   },
   {
    "duration": 16,
    "start_time": "2022-03-03T21:07:01.527Z"
   },
   {
    "duration": 15,
    "start_time": "2022-03-03T21:07:01.545Z"
   },
   {
    "duration": 147,
    "start_time": "2022-03-03T21:07:01.561Z"
   },
   {
    "duration": 251,
    "start_time": "2022-03-03T21:07:01.710Z"
   },
   {
    "duration": 14,
    "start_time": "2022-03-03T21:07:01.964Z"
   },
   {
    "duration": 61,
    "start_time": "2022-03-03T21:10:55.002Z"
   },
   {
    "duration": 246,
    "start_time": "2022-03-03T21:10:55.065Z"
   },
   {
    "duration": 203,
    "start_time": "2022-03-03T21:13:18.274Z"
   },
   {
    "duration": 56,
    "start_time": "2022-03-03T21:16:13.544Z"
   },
   {
    "duration": 220,
    "start_time": "2022-03-03T21:17:16.272Z"
   },
   {
    "duration": 66,
    "start_time": "2022-03-03T21:17:37.567Z"
   },
   {
    "duration": 27,
    "start_time": "2022-03-03T21:17:48.967Z"
   },
   {
    "duration": 60,
    "start_time": "2022-03-03T21:17:54.416Z"
   },
   {
    "duration": 228,
    "start_time": "2022-03-03T21:18:02.135Z"
   },
   {
    "duration": 13,
    "start_time": "2022-03-03T21:22:39.856Z"
   },
   {
    "duration": 12,
    "start_time": "2022-03-03T21:23:50.084Z"
   },
   {
    "duration": 12,
    "start_time": "2022-03-03T21:24:04.244Z"
   },
   {
    "duration": 3,
    "start_time": "2022-03-03T21:24:08.109Z"
   },
   {
    "duration": 29,
    "start_time": "2022-03-03T21:24:08.113Z"
   },
   {
    "duration": 3,
    "start_time": "2022-03-03T21:24:08.144Z"
   },
   {
    "duration": 7,
    "start_time": "2022-03-03T21:24:08.149Z"
   },
   {
    "duration": 12,
    "start_time": "2022-03-03T21:24:08.158Z"
   },
   {
    "duration": 59,
    "start_time": "2022-03-03T21:24:08.172Z"
   },
   {
    "duration": 256,
    "start_time": "2022-03-03T21:24:08.233Z"
   },
   {
    "duration": 13,
    "start_time": "2022-03-03T21:24:08.491Z"
   },
   {
    "duration": 11,
    "start_time": "2022-03-03T21:24:11.478Z"
   },
   {
    "duration": 12,
    "start_time": "2022-03-03T21:27:45.634Z"
   },
   {
    "duration": 1386,
    "start_time": "2022-03-04T07:46:40.575Z"
   },
   {
    "duration": 45,
    "start_time": "2022-03-04T07:46:41.964Z"
   },
   {
    "duration": 5,
    "start_time": "2022-03-04T07:46:42.012Z"
   },
   {
    "duration": 12,
    "start_time": "2022-03-04T07:46:42.019Z"
   },
   {
    "duration": 16,
    "start_time": "2022-03-04T07:46:42.034Z"
   },
   {
    "duration": 112,
    "start_time": "2022-03-04T07:46:42.053Z"
   },
   {
    "duration": 341,
    "start_time": "2022-03-04T07:46:42.168Z"
   },
   {
    "duration": 27,
    "start_time": "2022-03-04T07:46:42.512Z"
   },
   {
    "duration": 45,
    "start_time": "2022-03-04T07:46:42.542Z"
   },
   {
    "duration": 345,
    "start_time": "2022-03-04T07:47:10.067Z"
   },
   {
    "duration": 341,
    "start_time": "2022-03-04T07:47:28.270Z"
   },
   {
    "duration": 91,
    "start_time": "2022-03-04T07:47:59.250Z"
   },
   {
    "duration": 482,
    "start_time": "2022-03-04T07:49:11.660Z"
   },
   {
    "duration": 364,
    "start_time": "2022-03-04T07:49:24.795Z"
   },
   {
    "duration": 5,
    "start_time": "2022-03-04T07:49:36.573Z"
   },
   {
    "duration": 38,
    "start_time": "2022-03-04T07:49:36.580Z"
   },
   {
    "duration": 5,
    "start_time": "2022-03-04T07:49:36.621Z"
   },
   {
    "duration": 19,
    "start_time": "2022-03-04T07:49:36.628Z"
   },
   {
    "duration": 19,
    "start_time": "2022-03-04T07:49:36.649Z"
   },
   {
    "duration": 103,
    "start_time": "2022-03-04T07:49:36.671Z"
   },
   {
    "duration": 365,
    "start_time": "2022-03-04T07:49:36.788Z"
   },
   {
    "duration": 341,
    "start_time": "2022-03-04T07:49:43.205Z"
   },
   {
    "duration": 94,
    "start_time": "2022-03-04T07:51:08.146Z"
   },
   {
    "duration": 135,
    "start_time": "2022-03-04T08:02:15.089Z"
   },
   {
    "duration": 82,
    "start_time": "2022-03-04T08:02:23.358Z"
   },
   {
    "duration": 4,
    "start_time": "2022-03-04T08:02:44.933Z"
   },
   {
    "duration": 4,
    "start_time": "2022-03-04T08:02:48.024Z"
   },
   {
    "duration": 35,
    "start_time": "2022-03-04T08:02:48.031Z"
   },
   {
    "duration": 4,
    "start_time": "2022-03-04T08:02:48.069Z"
   },
   {
    "duration": 12,
    "start_time": "2022-03-04T08:02:48.076Z"
   },
   {
    "duration": 4,
    "start_time": "2022-03-04T08:02:48.090Z"
   },
   {
    "duration": 3,
    "start_time": "2022-03-04T08:02:51.045Z"
   },
   {
    "duration": 85,
    "start_time": "2022-03-04T08:02:53.739Z"
   },
   {
    "duration": 80,
    "start_time": "2022-03-04T08:03:20.204Z"
   },
   {
    "duration": 84,
    "start_time": "2022-03-04T08:03:36.869Z"
   },
   {
    "duration": 85,
    "start_time": "2022-03-04T08:03:50.711Z"
   },
   {
    "duration": 86,
    "start_time": "2022-03-04T08:04:05.691Z"
   },
   {
    "duration": 100,
    "start_time": "2022-03-04T08:05:03.260Z"
   },
   {
    "duration": 84,
    "start_time": "2022-03-04T08:36:57.495Z"
   },
   {
    "duration": 455,
    "start_time": "2022-03-04T08:37:06.021Z"
   },
   {
    "duration": 88,
    "start_time": "2022-03-04T08:37:30.910Z"
   },
   {
    "duration": 84,
    "start_time": "2022-03-04T08:37:42.421Z"
   },
   {
    "duration": 94,
    "start_time": "2022-03-04T08:38:38.957Z"
   },
   {
    "duration": 88,
    "start_time": "2022-03-04T08:38:51.563Z"
   },
   {
    "duration": 364,
    "start_time": "2022-03-04T08:40:06.579Z"
   },
   {
    "duration": 376,
    "start_time": "2022-03-04T08:40:30.085Z"
   },
   {
    "duration": 368,
    "start_time": "2022-03-04T08:40:37.235Z"
   },
   {
    "duration": 28,
    "start_time": "2022-03-04T08:40:54.387Z"
   },
   {
    "duration": 4,
    "start_time": "2022-03-04T08:41:27.997Z"
   },
   {
    "duration": 37,
    "start_time": "2022-03-04T08:41:28.004Z"
   },
   {
    "duration": 5,
    "start_time": "2022-03-04T08:41:28.043Z"
   },
   {
    "duration": 13,
    "start_time": "2022-03-04T08:41:28.051Z"
   },
   {
    "duration": 101,
    "start_time": "2022-03-04T08:41:28.067Z"
   },
   {
    "duration": 375,
    "start_time": "2022-03-04T08:41:28.170Z"
   },
   {
    "duration": 24,
    "start_time": "2022-03-04T08:41:28.548Z"
   },
   {
    "duration": 14,
    "start_time": "2022-03-04T08:41:28.588Z"
   },
   {
    "duration": 13,
    "start_time": "2022-03-04T08:41:40.149Z"
   },
   {
    "duration": 5,
    "start_time": "2022-03-04T10:15:39.733Z"
   },
   {
    "duration": 44,
    "start_time": "2022-03-04T10:15:39.741Z"
   },
   {
    "duration": 7,
    "start_time": "2022-03-04T10:15:39.788Z"
   },
   {
    "duration": 19,
    "start_time": "2022-03-04T10:15:39.798Z"
   },
   {
    "duration": 104,
    "start_time": "2022-03-04T10:15:39.819Z"
   },
   {
    "duration": 378,
    "start_time": "2022-03-04T10:15:39.925Z"
   },
   {
    "duration": 27,
    "start_time": "2022-03-04T10:15:40.306Z"
   },
   {
    "duration": 14,
    "start_time": "2022-03-04T10:15:40.337Z"
   },
   {
    "duration": 340,
    "start_time": "2022-03-04T10:15:54.580Z"
   },
   {
    "duration": 356,
    "start_time": "2022-03-04T10:16:04.242Z"
   },
   {
    "duration": 365,
    "start_time": "2022-03-04T10:16:25.658Z"
   },
   {
    "duration": 12,
    "start_time": "2022-03-04T11:08:38.312Z"
   },
   {
    "duration": 6,
    "start_time": "2022-03-04T13:22:08.261Z"
   },
   {
    "duration": 34,
    "start_time": "2022-03-04T13:22:08.269Z"
   },
   {
    "duration": 5,
    "start_time": "2022-03-04T13:22:08.306Z"
   },
   {
    "duration": 13,
    "start_time": "2022-03-04T13:22:08.314Z"
   },
   {
    "duration": 111,
    "start_time": "2022-03-04T13:22:08.329Z"
   },
   {
    "duration": 348,
    "start_time": "2022-03-04T13:22:08.443Z"
   },
   {
    "duration": 28,
    "start_time": "2022-03-04T13:22:08.794Z"
   },
   {
    "duration": 15,
    "start_time": "2022-03-04T13:22:08.826Z"
   },
   {
    "duration": 46,
    "start_time": "2022-03-04T13:22:08.844Z"
   },
   {
    "duration": 3,
    "start_time": "2022-03-04T13:23:32.799Z"
   },
   {
    "duration": 7,
    "start_time": "2022-03-04T13:24:59.169Z"
   },
   {
    "duration": 9,
    "start_time": "2022-03-04T13:25:48.695Z"
   },
   {
    "duration": 5,
    "start_time": "2022-03-04T13:26:00.383Z"
   },
   {
    "duration": 8,
    "start_time": "2022-03-04T13:26:11.768Z"
   },
   {
    "duration": 213,
    "start_time": "2022-03-04T13:26:25.471Z"
   },
   {
    "duration": 219,
    "start_time": "2022-03-04T13:26:32.279Z"
   },
   {
    "duration": 254,
    "start_time": "2022-03-04T13:26:38.647Z"
   },
   {
    "duration": 8,
    "start_time": "2022-03-04T13:28:13.072Z"
   },
   {
    "duration": 283,
    "start_time": "2022-03-04T13:46:54.537Z"
   },
   {
    "duration": 8,
    "start_time": "2022-03-04T13:47:02.758Z"
   },
   {
    "duration": 10,
    "start_time": "2022-03-04T16:07:05.732Z"
   },
   {
    "duration": 7,
    "start_time": "2022-03-04T16:07:09.859Z"
   },
   {
    "duration": 254,
    "start_time": "2022-03-04T16:07:23.422Z"
   },
   {
    "duration": 10,
    "start_time": "2022-03-04T16:07:30.860Z"
   },
   {
    "duration": 10,
    "start_time": "2022-03-04T16:07:37.164Z"
   },
   {
    "duration": 6,
    "start_time": "2022-03-04T16:09:25.174Z"
   },
   {
    "duration": 36,
    "start_time": "2022-03-04T16:09:25.183Z"
   },
   {
    "duration": 5,
    "start_time": "2022-03-04T16:09:25.222Z"
   },
   {
    "duration": 17,
    "start_time": "2022-03-04T16:09:25.229Z"
   },
   {
    "duration": 99,
    "start_time": "2022-03-04T16:09:25.248Z"
   },
   {
    "duration": 354,
    "start_time": "2022-03-04T16:09:25.349Z"
   },
   {
    "duration": 25,
    "start_time": "2022-03-04T16:09:25.705Z"
   },
   {
    "duration": 13,
    "start_time": "2022-03-04T16:09:25.733Z"
   },
   {
    "duration": 39,
    "start_time": "2022-03-04T16:09:25.749Z"
   },
   {
    "duration": 10,
    "start_time": "2022-03-04T16:09:42.924Z"
   },
   {
    "duration": 8,
    "start_time": "2022-03-04T16:09:48.123Z"
   },
   {
    "duration": 9,
    "start_time": "2022-03-04T16:09:55.321Z"
   },
   {
    "duration": 9,
    "start_time": "2022-03-04T16:10:01.003Z"
   },
   {
    "duration": 10,
    "start_time": "2022-03-04T16:10:06.362Z"
   },
   {
    "duration": 14,
    "start_time": "2022-03-04T16:11:41.817Z"
   },
   {
    "duration": 9,
    "start_time": "2022-03-04T16:12:27.562Z"
   },
   {
    "duration": 4,
    "start_time": "2022-03-04T16:13:24.819Z"
   },
   {
    "duration": 40,
    "start_time": "2022-03-04T16:13:24.825Z"
   },
   {
    "duration": 82,
    "start_time": "2022-03-04T16:13:24.868Z"
   },
   {
    "duration": -2596,
    "start_time": "2022-03-04T16:13:27.549Z"
   },
   {
    "duration": -2597,
    "start_time": "2022-03-04T16:13:27.552Z"
   },
   {
    "duration": -2597,
    "start_time": "2022-03-04T16:13:27.553Z"
   },
   {
    "duration": -2599,
    "start_time": "2022-03-04T16:13:27.557Z"
   },
   {
    "duration": -2604,
    "start_time": "2022-03-04T16:13:27.563Z"
   },
   {
    "duration": -2605,
    "start_time": "2022-03-04T16:13:27.566Z"
   },
   {
    "duration": -2606,
    "start_time": "2022-03-04T16:13:27.568Z"
   },
   {
    "duration": 5,
    "start_time": "2022-03-04T16:13:35.252Z"
   },
   {
    "duration": 34,
    "start_time": "2022-03-04T16:13:35.260Z"
   },
   {
    "duration": 5,
    "start_time": "2022-03-04T16:13:35.298Z"
   },
   {
    "duration": 11,
    "start_time": "2022-03-04T16:13:35.307Z"
   },
   {
    "duration": 124,
    "start_time": "2022-03-04T16:13:35.320Z"
   },
   {
    "duration": 363,
    "start_time": "2022-03-04T16:13:35.447Z"
   },
   {
    "duration": 27,
    "start_time": "2022-03-04T16:13:35.813Z"
   },
   {
    "duration": 41,
    "start_time": "2022-03-04T16:13:35.846Z"
   },
   {
    "duration": 8,
    "start_time": "2022-03-04T16:13:35.890Z"
   },
   {
    "duration": 5,
    "start_time": "2022-03-04T16:14:40.626Z"
   },
   {
    "duration": 37,
    "start_time": "2022-03-04T16:14:40.633Z"
   },
   {
    "duration": 5,
    "start_time": "2022-03-04T16:14:40.673Z"
   },
   {
    "duration": 20,
    "start_time": "2022-03-04T16:14:40.680Z"
   },
   {
    "duration": 104,
    "start_time": "2022-03-04T16:14:40.703Z"
   },
   {
    "duration": 471,
    "start_time": "2022-03-04T16:14:40.810Z"
   },
   {
    "duration": 25,
    "start_time": "2022-03-04T16:14:41.287Z"
   },
   {
    "duration": 12,
    "start_time": "2022-03-04T16:14:41.315Z"
   },
   {
    "duration": 7,
    "start_time": "2022-03-04T16:14:41.330Z"
   },
   {
    "duration": 1274,
    "start_time": "2022-03-05T07:25:49.335Z"
   },
   {
    "duration": 40,
    "start_time": "2022-03-05T07:25:50.612Z"
   },
   {
    "duration": 5,
    "start_time": "2022-03-05T07:25:50.654Z"
   },
   {
    "duration": 26,
    "start_time": "2022-03-05T07:25:50.662Z"
   },
   {
    "duration": 93,
    "start_time": "2022-03-05T07:25:50.691Z"
   },
   {
    "duration": 323,
    "start_time": "2022-03-05T07:25:50.786Z"
   },
   {
    "duration": 28,
    "start_time": "2022-03-05T07:25:51.111Z"
   },
   {
    "duration": 43,
    "start_time": "2022-03-05T07:25:51.144Z"
   },
   {
    "duration": 9,
    "start_time": "2022-03-05T07:25:51.190Z"
   },
   {
    "duration": 5,
    "start_time": "2022-03-05T07:27:16.099Z"
   },
   {
    "duration": 38,
    "start_time": "2022-03-05T07:27:16.107Z"
   },
   {
    "duration": 5,
    "start_time": "2022-03-05T07:27:16.148Z"
   },
   {
    "duration": 25,
    "start_time": "2022-03-05T07:27:16.157Z"
   },
   {
    "duration": 99,
    "start_time": "2022-03-05T07:27:16.185Z"
   },
   {
    "duration": 336,
    "start_time": "2022-03-05T07:27:16.287Z"
   },
   {
    "duration": 27,
    "start_time": "2022-03-05T07:27:16.627Z"
   },
   {
    "duration": 37,
    "start_time": "2022-03-05T07:27:16.657Z"
   },
   {
    "duration": 1131,
    "start_time": "2022-03-05T10:05:35.518Z"
   },
   {
    "duration": 37,
    "start_time": "2022-03-05T10:05:36.652Z"
   },
   {
    "duration": 10,
    "start_time": "2022-03-05T10:05:36.691Z"
   },
   {
    "duration": 32,
    "start_time": "2022-03-05T10:05:36.703Z"
   },
   {
    "duration": 86,
    "start_time": "2022-03-05T10:05:36.737Z"
   },
   {
    "duration": 260,
    "start_time": "2022-03-05T10:05:36.825Z"
   },
   {
    "duration": 25,
    "start_time": "2022-03-05T10:05:37.087Z"
   },
   {
    "duration": 13,
    "start_time": "2022-03-05T10:05:37.114Z"
   },
   {
    "duration": 17,
    "start_time": "2022-03-05T10:05:37.129Z"
   },
   {
    "duration": 12,
    "start_time": "2022-03-05T10:05:48.156Z"
   },
   {
    "duration": 12,
    "start_time": "2022-03-05T10:05:52.482Z"
   },
   {
    "duration": 4,
    "start_time": "2022-03-05T11:36:45.017Z"
   },
   {
    "duration": 58,
    "start_time": "2022-03-05T11:36:45.023Z"
   },
   {
    "duration": 4,
    "start_time": "2022-03-05T11:36:45.084Z"
   },
   {
    "duration": 37,
    "start_time": "2022-03-05T11:36:45.090Z"
   },
   {
    "duration": 89,
    "start_time": "2022-03-05T11:36:45.129Z"
   },
   {
    "duration": 255,
    "start_time": "2022-03-05T11:36:45.220Z"
   },
   {
    "duration": 23,
    "start_time": "2022-03-05T11:36:45.478Z"
   },
   {
    "duration": 19,
    "start_time": "2022-03-05T11:36:45.503Z"
   },
   {
    "duration": 14,
    "start_time": "2022-03-05T11:36:45.524Z"
   },
   {
    "duration": 3,
    "start_time": "2022-03-05T14:31:23.126Z"
   },
   {
    "duration": 34,
    "start_time": "2022-03-05T14:31:23.131Z"
   },
   {
    "duration": 4,
    "start_time": "2022-03-05T14:31:23.167Z"
   },
   {
    "duration": 9,
    "start_time": "2022-03-05T14:31:23.173Z"
   },
   {
    "duration": 62,
    "start_time": "2022-03-05T14:31:23.184Z"
   },
   {
    "duration": 254,
    "start_time": "2022-03-05T14:31:23.248Z"
   },
   {
    "duration": 15,
    "start_time": "2022-03-05T14:31:23.504Z"
   },
   {
    "duration": 24,
    "start_time": "2022-03-05T14:31:23.521Z"
   },
   {
    "duration": 14,
    "start_time": "2022-03-05T14:31:23.547Z"
   },
   {
    "duration": 1298,
    "start_time": "2022-03-17T19:22:57.241Z"
   },
   {
    "duration": 41,
    "start_time": "2022-03-17T19:22:58.541Z"
   },
   {
    "duration": 3,
    "start_time": "2022-03-17T19:22:58.584Z"
   },
   {
    "duration": 7,
    "start_time": "2022-03-17T19:22:58.589Z"
   },
   {
    "duration": 77,
    "start_time": "2022-03-17T19:23:11.619Z"
   },
   {
    "duration": 233,
    "start_time": "2022-03-17T19:28:32.868Z"
   },
   {
    "duration": 238,
    "start_time": "2022-03-17T19:46:59.230Z"
   }
  ],
  "kernelspec": {
   "display_name": "Python 3 (ipykernel)",
   "language": "python",
   "name": "python3"
  },
  "language_info": {
   "codemirror_mode": {
    "name": "ipython",
    "version": 3
   },
   "file_extension": ".py",
   "mimetype": "text/x-python",
   "name": "python",
   "nbconvert_exporter": "python",
   "pygments_lexer": "ipython3",
   "version": "3.7.8"
  },
  "toc": {
   "base_numbering": 1,
   "nav_menu": {},
   "number_sections": true,
   "sideBar": true,
   "skip_h1_title": true,
   "title_cell": "Table of Contents",
   "title_sidebar": "Contents",
   "toc_cell": false,
   "toc_position": {},
   "toc_section_display": true,
   "toc_window_display": false
  }
 },
 "nbformat": 4,
 "nbformat_minor": 2
}
