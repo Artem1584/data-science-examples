{
 "cells": [
  {
   "cell_type": "markdown",
   "metadata": {},
   "source": [
    "# Исследование объявлений о продаже квартир\n",
    "\n",
    "В вашем распоряжении данные сервиса Яндекс.Недвижимость — архив объявлений о продаже квартир в Санкт-Петербурге и соседних населённых пунктах за несколько лет. Нужно научиться определять рыночную стоимость объектов недвижимости. Ваша задача — установить параметры. Это позволит построить автоматизированную систему: она отследит аномалии и мошенническую деятельность. \n",
    "\n",
    "По каждой квартире на продажу доступны два вида данных. Первые вписаны пользователем, вторые получены автоматически на основе картографических данных. Например, расстояние до центра, аэропорта, ближайшего парка и водоёма. "
   ]
  },
  {
   "cell_type": "markdown",
   "metadata": {},
   "source": [
    "## Изучение данных из файла"
   ]
  },
  {
   "cell_type": "code",
   "execution_count": 97,
   "metadata": {},
   "outputs": [],
   "source": [
    "import pandas as pd\n",
    "import matplotlib.pyplot as plt\n",
    "import seaborn as sns"
   ]
  },
  {
   "cell_type": "code",
   "execution_count": 98,
   "metadata": {
    "scrolled": true
   },
   "outputs": [
    {
     "name": "stdout",
     "output_type": "stream",
     "text": [
      "<class 'pandas.core.frame.DataFrame'>\n",
      "RangeIndex: 23699 entries, 0 to 23698\n",
      "Data columns (total 22 columns):\n",
      " #   Column                Non-Null Count  Dtype  \n",
      "---  ------                --------------  -----  \n",
      " 0   total_images          23699 non-null  int64  \n",
      " 1   last_price            23699 non-null  float64\n",
      " 2   total_area            23699 non-null  float64\n",
      " 3   first_day_exposition  23699 non-null  object \n",
      " 4   rooms                 23699 non-null  int64  \n",
      " 5   ceiling_height        14504 non-null  float64\n",
      " 6   floors_total          23613 non-null  float64\n",
      " 7   living_area           21796 non-null  float64\n",
      " 8   floor                 23699 non-null  int64  \n",
      " 9   is_apartment          2775 non-null   object \n",
      " 10  studio                23699 non-null  bool   \n",
      " 11  open_plan             23699 non-null  bool   \n",
      " 12  kitchen_area          21421 non-null  float64\n",
      " 13  balcony               12180 non-null  float64\n",
      " 14  locality_name         23650 non-null  object \n",
      " 15  airports_nearest      18157 non-null  float64\n",
      " 16  cityCenters_nearest   18180 non-null  float64\n",
      " 17  parks_around3000      18181 non-null  float64\n",
      " 18  parks_nearest         8079 non-null   float64\n",
      " 19  ponds_around3000      18181 non-null  float64\n",
      " 20  ponds_nearest         9110 non-null   float64\n",
      " 21  days_exposition       20518 non-null  float64\n",
      "dtypes: bool(2), float64(14), int64(3), object(3)\n",
      "memory usage: 3.7+ MB\n"
     ]
    },
    {
     "data": {
      "text/html": [
       "<div>\n",
       "<style scoped>\n",
       "    .dataframe tbody tr th:only-of-type {\n",
       "        vertical-align: middle;\n",
       "    }\n",
       "\n",
       "    .dataframe tbody tr th {\n",
       "        vertical-align: top;\n",
       "    }\n",
       "\n",
       "    .dataframe thead th {\n",
       "        text-align: right;\n",
       "    }\n",
       "</style>\n",
       "<table border=\"1\" class=\"dataframe\">\n",
       "  <thead>\n",
       "    <tr style=\"text-align: right;\">\n",
       "      <th></th>\n",
       "      <th>total_images</th>\n",
       "      <th>last_price</th>\n",
       "      <th>total_area</th>\n",
       "      <th>first_day_exposition</th>\n",
       "      <th>rooms</th>\n",
       "      <th>ceiling_height</th>\n",
       "      <th>floors_total</th>\n",
       "      <th>living_area</th>\n",
       "      <th>floor</th>\n",
       "      <th>is_apartment</th>\n",
       "      <th>...</th>\n",
       "      <th>kitchen_area</th>\n",
       "      <th>balcony</th>\n",
       "      <th>locality_name</th>\n",
       "      <th>airports_nearest</th>\n",
       "      <th>cityCenters_nearest</th>\n",
       "      <th>parks_around3000</th>\n",
       "      <th>parks_nearest</th>\n",
       "      <th>ponds_around3000</th>\n",
       "      <th>ponds_nearest</th>\n",
       "      <th>days_exposition</th>\n",
       "    </tr>\n",
       "  </thead>\n",
       "  <tbody>\n",
       "    <tr>\n",
       "      <th>0</th>\n",
       "      <td>20</td>\n",
       "      <td>13,000,000.0</td>\n",
       "      <td>108.0</td>\n",
       "      <td>2019-03-07T00:00:00</td>\n",
       "      <td>3</td>\n",
       "      <td>2.7</td>\n",
       "      <td>16.0</td>\n",
       "      <td>51.0</td>\n",
       "      <td>8</td>\n",
       "      <td>NaN</td>\n",
       "      <td>...</td>\n",
       "      <td>25.0</td>\n",
       "      <td>NaN</td>\n",
       "      <td>Санкт-Петербург</td>\n",
       "      <td>18,863.0</td>\n",
       "      <td>16,028.0</td>\n",
       "      <td>1.0</td>\n",
       "      <td>482.0</td>\n",
       "      <td>2.0</td>\n",
       "      <td>755.0</td>\n",
       "      <td>NaN</td>\n",
       "    </tr>\n",
       "    <tr>\n",
       "      <th>1</th>\n",
       "      <td>7</td>\n",
       "      <td>3,350,000.0</td>\n",
       "      <td>40.4</td>\n",
       "      <td>2018-12-04T00:00:00</td>\n",
       "      <td>1</td>\n",
       "      <td>NaN</td>\n",
       "      <td>11.0</td>\n",
       "      <td>18.6</td>\n",
       "      <td>1</td>\n",
       "      <td>NaN</td>\n",
       "      <td>...</td>\n",
       "      <td>11.0</td>\n",
       "      <td>2.0</td>\n",
       "      <td>посёлок Шушары</td>\n",
       "      <td>12,817.0</td>\n",
       "      <td>18,603.0</td>\n",
       "      <td>0.0</td>\n",
       "      <td>NaN</td>\n",
       "      <td>0.0</td>\n",
       "      <td>NaN</td>\n",
       "      <td>81.0</td>\n",
       "    </tr>\n",
       "    <tr>\n",
       "      <th>2</th>\n",
       "      <td>10</td>\n",
       "      <td>5,196,000.0</td>\n",
       "      <td>56.0</td>\n",
       "      <td>2015-08-20T00:00:00</td>\n",
       "      <td>2</td>\n",
       "      <td>NaN</td>\n",
       "      <td>5.0</td>\n",
       "      <td>34.3</td>\n",
       "      <td>4</td>\n",
       "      <td>NaN</td>\n",
       "      <td>...</td>\n",
       "      <td>8.3</td>\n",
       "      <td>0.0</td>\n",
       "      <td>Санкт-Петербург</td>\n",
       "      <td>21,741.0</td>\n",
       "      <td>13,933.0</td>\n",
       "      <td>1.0</td>\n",
       "      <td>90.0</td>\n",
       "      <td>2.0</td>\n",
       "      <td>574.0</td>\n",
       "      <td>558.0</td>\n",
       "    </tr>\n",
       "    <tr>\n",
       "      <th>3</th>\n",
       "      <td>0</td>\n",
       "      <td>64,900,000.0</td>\n",
       "      <td>159.0</td>\n",
       "      <td>2015-07-24T00:00:00</td>\n",
       "      <td>3</td>\n",
       "      <td>NaN</td>\n",
       "      <td>14.0</td>\n",
       "      <td>NaN</td>\n",
       "      <td>9</td>\n",
       "      <td>NaN</td>\n",
       "      <td>...</td>\n",
       "      <td>NaN</td>\n",
       "      <td>0.0</td>\n",
       "      <td>Санкт-Петербург</td>\n",
       "      <td>28,098.0</td>\n",
       "      <td>6,800.0</td>\n",
       "      <td>2.0</td>\n",
       "      <td>84.0</td>\n",
       "      <td>3.0</td>\n",
       "      <td>234.0</td>\n",
       "      <td>424.0</td>\n",
       "    </tr>\n",
       "    <tr>\n",
       "      <th>4</th>\n",
       "      <td>2</td>\n",
       "      <td>10,000,000.0</td>\n",
       "      <td>100.0</td>\n",
       "      <td>2018-06-19T00:00:00</td>\n",
       "      <td>2</td>\n",
       "      <td>3.0</td>\n",
       "      <td>14.0</td>\n",
       "      <td>32.0</td>\n",
       "      <td>13</td>\n",
       "      <td>NaN</td>\n",
       "      <td>...</td>\n",
       "      <td>41.0</td>\n",
       "      <td>NaN</td>\n",
       "      <td>Санкт-Петербург</td>\n",
       "      <td>31,856.0</td>\n",
       "      <td>8,098.0</td>\n",
       "      <td>2.0</td>\n",
       "      <td>112.0</td>\n",
       "      <td>1.0</td>\n",
       "      <td>48.0</td>\n",
       "      <td>121.0</td>\n",
       "    </tr>\n",
       "  </tbody>\n",
       "</table>\n",
       "<p>5 rows × 22 columns</p>\n",
       "</div>"
      ],
      "text/plain": [
       "   total_images   last_price  total_area first_day_exposition  rooms  \\\n",
       "0            20 13,000,000.0       108.0  2019-03-07T00:00:00      3   \n",
       "1             7  3,350,000.0        40.4  2018-12-04T00:00:00      1   \n",
       "2            10  5,196,000.0        56.0  2015-08-20T00:00:00      2   \n",
       "3             0 64,900,000.0       159.0  2015-07-24T00:00:00      3   \n",
       "4             2 10,000,000.0       100.0  2018-06-19T00:00:00      2   \n",
       "\n",
       "   ceiling_height  floors_total  living_area  floor is_apartment  ...  \\\n",
       "0             2.7          16.0         51.0      8          NaN  ...   \n",
       "1             NaN          11.0         18.6      1          NaN  ...   \n",
       "2             NaN           5.0         34.3      4          NaN  ...   \n",
       "3             NaN          14.0          NaN      9          NaN  ...   \n",
       "4             3.0          14.0         32.0     13          NaN  ...   \n",
       "\n",
       "   kitchen_area  balcony    locality_name  airports_nearest  \\\n",
       "0          25.0      NaN  Санкт-Петербург          18,863.0   \n",
       "1          11.0      2.0   посёлок Шушары          12,817.0   \n",
       "2           8.3      0.0  Санкт-Петербург          21,741.0   \n",
       "3           NaN      0.0  Санкт-Петербург          28,098.0   \n",
       "4          41.0      NaN  Санкт-Петербург          31,856.0   \n",
       "\n",
       "  cityCenters_nearest  parks_around3000  parks_nearest  ponds_around3000  \\\n",
       "0            16,028.0               1.0          482.0               2.0   \n",
       "1            18,603.0               0.0            NaN               0.0   \n",
       "2            13,933.0               1.0           90.0               2.0   \n",
       "3             6,800.0               2.0           84.0               3.0   \n",
       "4             8,098.0               2.0          112.0               1.0   \n",
       "\n",
       "   ponds_nearest  days_exposition  \n",
       "0          755.0              NaN  \n",
       "1            NaN             81.0  \n",
       "2          574.0            558.0  \n",
       "3          234.0            424.0  \n",
       "4           48.0            121.0  \n",
       "\n",
       "[5 rows x 22 columns]"
      ]
     },
     "execution_count": 98,
     "metadata": {},
     "output_type": "execute_result"
    }
   ],
   "source": [
    "df = pd.read_csv('/datasets/real_estate_data.csv', sep='\\t')\n",
    "df.to_csv('real_estate_data.csv', index=False)\n",
    "df.info()\n",
    "df.head(5)\n"
   ]
  },
  {
   "cell_type": "markdown",
   "metadata": {},
   "source": [
    "### Вывод"
   ]
  },
  {
   "cell_type": "markdown",
   "metadata": {},
   "source": [
    "Название столбцов записаны в верном формате. Разное количество пропусков в разных столбцах."
   ]
  },
  {
   "cell_type": "markdown",
   "metadata": {},
   "source": [
    "## Предобработка данных"
   ]
  },
  {
   "cell_type": "code",
   "execution_count": 99,
   "metadata": {},
   "outputs": [
    {
     "data": {
      "text/plain": [
       "0"
      ]
     },
     "execution_count": 99,
     "metadata": {},
     "output_type": "execute_result"
    }
   ],
   "source": [
    "df.duplicated().sum()# дубликатов нет"
   ]
  },
  {
   "cell_type": "code",
   "execution_count": 100,
   "metadata": {},
   "outputs": [
    {
     "data": {
      "text/plain": [
       "\"Пропущенных значений в 'total_images'-0 шт.\""
      ]
     },
     "metadata": {},
     "output_type": "display_data"
    },
    {
     "data": {
      "text/plain": [
       "\"Пропущенных значений в 'last_price'-0 шт.\""
      ]
     },
     "metadata": {},
     "output_type": "display_data"
    },
    {
     "data": {
      "text/plain": [
       "\"Пропущенных значений в 'total_area'-0 шт.\""
      ]
     },
     "metadata": {},
     "output_type": "display_data"
    },
    {
     "data": {
      "text/plain": [
       "\"Пропущенных значений в 'first_day_exposition'-0 шт.\""
      ]
     },
     "metadata": {},
     "output_type": "display_data"
    },
    {
     "data": {
      "text/plain": [
       "\"Пропущенных значений в 'rooms'-0 шт.\""
      ]
     },
     "metadata": {},
     "output_type": "display_data"
    },
    {
     "data": {
      "text/plain": [
       "\"Пропущенных значений в 'ceiling_height'-9195 шт.\""
      ]
     },
     "metadata": {},
     "output_type": "display_data"
    },
    {
     "data": {
      "text/plain": [
       "\"Пропущенных значений в 'floors_total'-86 шт.\""
      ]
     },
     "metadata": {},
     "output_type": "display_data"
    },
    {
     "data": {
      "text/plain": [
       "\"Пропущенных значений в 'living_area'-1903 шт.\""
      ]
     },
     "metadata": {},
     "output_type": "display_data"
    },
    {
     "data": {
      "text/plain": [
       "\"Пропущенных значений в 'floor'-0 шт.\""
      ]
     },
     "metadata": {},
     "output_type": "display_data"
    },
    {
     "data": {
      "text/plain": [
       "\"Пропущенных значений в 'is_apartment'-20924 шт.\""
      ]
     },
     "metadata": {},
     "output_type": "display_data"
    },
    {
     "data": {
      "text/plain": [
       "\"Пропущенных значений в 'studio'-0 шт.\""
      ]
     },
     "metadata": {},
     "output_type": "display_data"
    },
    {
     "data": {
      "text/plain": [
       "\"Пропущенных значений в 'open_plan'-0 шт.\""
      ]
     },
     "metadata": {},
     "output_type": "display_data"
    },
    {
     "data": {
      "text/plain": [
       "\"Пропущенных значений в 'kitchen_area'-2278 шт.\""
      ]
     },
     "metadata": {},
     "output_type": "display_data"
    },
    {
     "data": {
      "text/plain": [
       "\"Пропущенных значений в 'balcony'-11519 шт.\""
      ]
     },
     "metadata": {},
     "output_type": "display_data"
    },
    {
     "data": {
      "text/plain": [
       "\"Пропущенных значений в 'locality_name'-49 шт.\""
      ]
     },
     "metadata": {},
     "output_type": "display_data"
    },
    {
     "data": {
      "text/plain": [
       "\"Пропущенных значений в 'airports_nearest'-5542 шт.\""
      ]
     },
     "metadata": {},
     "output_type": "display_data"
    },
    {
     "data": {
      "text/plain": [
       "\"Пропущенных значений в 'cityCenters_nearest'-5519 шт.\""
      ]
     },
     "metadata": {},
     "output_type": "display_data"
    },
    {
     "data": {
      "text/plain": [
       "\"Пропущенных значений в 'parks_around3000'-5518 шт.\""
      ]
     },
     "metadata": {},
     "output_type": "display_data"
    },
    {
     "data": {
      "text/plain": [
       "\"Пропущенных значений в 'parks_nearest'-15620 шт.\""
      ]
     },
     "metadata": {},
     "output_type": "display_data"
    },
    {
     "data": {
      "text/plain": [
       "\"Пропущенных значений в 'ponds_around3000'-5518 шт.\""
      ]
     },
     "metadata": {},
     "output_type": "display_data"
    },
    {
     "data": {
      "text/plain": [
       "\"Пропущенных значений в 'ponds_nearest'-14589 шт.\""
      ]
     },
     "metadata": {},
     "output_type": "display_data"
    },
    {
     "data": {
      "text/plain": [
       "\"Пропущенных значений в 'days_exposition'-3181 шт.\""
      ]
     },
     "metadata": {},
     "output_type": "display_data"
    }
   ],
   "source": [
    "# подсчитаем пропущенные значения в каждом столбце\n",
    "for name in df.columns:\n",
    "    display(f\"Пропущенных значений в '{name}'-{df[name].isna().sum()} шт.\")"
   ]
  },
  {
   "cell_type": "markdown",
   "metadata": {},
   "source": [
    "Пропуски буду заменять только в столбце по количеству балконов. \n",
    "Остальные пропуски средним или медианным значением считаю нельзя заменять, расчеты будут не верные."
   ]
  },
  {
   "cell_type": "code",
   "execution_count": 101,
   "metadata": {},
   "outputs": [],
   "source": [
    "#пропущенные значения в столбце количество балконов изменяю на 0, тип данных на int\n",
    "df['balcony'] = df['balcony'].fillna(0)\n",
    "df['balcony'].isna().sum()\n",
    "df['balcony'] = df['balcony'].astype('int')"
   ]
  },
  {
   "cell_type": "markdown",
   "metadata": {},
   "source": [
    "пропущенные значения в столбце количество балконов изменил на 0, тип данных на \"int\""
   ]
  },
  {
   "cell_type": "markdown",
   "metadata": {},
   "source": [
    "### Вывод"
   ]
  },
  {
   "cell_type": "markdown",
   "metadata": {},
   "source": [
    "Провел предобработку данных. В большинстве столбцов не хватает числовых значений. Заменять их средними или медианными значениями не буду, так как это может повлиять на исследование. В столбце с количеством балконов, заменил пропущенные значения на 0 (отсутствует балкон)"
   ]
  },
  {
   "cell_type": "markdown",
   "metadata": {},
   "source": [
    "## Расчёты и добавление результатов в таблицу"
   ]
  },
  {
   "cell_type": "code",
   "execution_count": 102,
   "metadata": {},
   "outputs": [
    {
     "data": {
      "text/html": [
       "<div>\n",
       "<style scoped>\n",
       "    .dataframe tbody tr th:only-of-type {\n",
       "        vertical-align: middle;\n",
       "    }\n",
       "\n",
       "    .dataframe tbody tr th {\n",
       "        vertical-align: top;\n",
       "    }\n",
       "\n",
       "    .dataframe thead th {\n",
       "        text-align: right;\n",
       "    }\n",
       "</style>\n",
       "<table border=\"1\" class=\"dataframe\">\n",
       "  <thead>\n",
       "    <tr style=\"text-align: right;\">\n",
       "      <th></th>\n",
       "      <th>total_images</th>\n",
       "      <th>last_price</th>\n",
       "      <th>total_area</th>\n",
       "      <th>first_day_exposition</th>\n",
       "      <th>rooms</th>\n",
       "      <th>ceiling_height</th>\n",
       "      <th>floors_total</th>\n",
       "      <th>living_area</th>\n",
       "      <th>floor</th>\n",
       "      <th>is_apartment</th>\n",
       "      <th>...</th>\n",
       "      <th>balcony</th>\n",
       "      <th>locality_name</th>\n",
       "      <th>airports_nearest</th>\n",
       "      <th>cityCenters_nearest</th>\n",
       "      <th>parks_around3000</th>\n",
       "      <th>parks_nearest</th>\n",
       "      <th>ponds_around3000</th>\n",
       "      <th>ponds_nearest</th>\n",
       "      <th>days_exposition</th>\n",
       "      <th>metr_price</th>\n",
       "    </tr>\n",
       "  </thead>\n",
       "  <tbody>\n",
       "    <tr>\n",
       "      <th>0</th>\n",
       "      <td>20</td>\n",
       "      <td>13,000,000.0</td>\n",
       "      <td>108.0</td>\n",
       "      <td>2019-03-07T00:00:00</td>\n",
       "      <td>3</td>\n",
       "      <td>2.7</td>\n",
       "      <td>16.0</td>\n",
       "      <td>51.0</td>\n",
       "      <td>8</td>\n",
       "      <td>NaN</td>\n",
       "      <td>...</td>\n",
       "      <td>0</td>\n",
       "      <td>Санкт-Петербург</td>\n",
       "      <td>18,863.0</td>\n",
       "      <td>16,028.0</td>\n",
       "      <td>1.0</td>\n",
       "      <td>482.0</td>\n",
       "      <td>2.0</td>\n",
       "      <td>755.0</td>\n",
       "      <td>NaN</td>\n",
       "      <td>120370</td>\n",
       "    </tr>\n",
       "    <tr>\n",
       "      <th>1</th>\n",
       "      <td>7</td>\n",
       "      <td>3,350,000.0</td>\n",
       "      <td>40.4</td>\n",
       "      <td>2018-12-04T00:00:00</td>\n",
       "      <td>1</td>\n",
       "      <td>NaN</td>\n",
       "      <td>11.0</td>\n",
       "      <td>18.6</td>\n",
       "      <td>1</td>\n",
       "      <td>NaN</td>\n",
       "      <td>...</td>\n",
       "      <td>2</td>\n",
       "      <td>посёлок Шушары</td>\n",
       "      <td>12,817.0</td>\n",
       "      <td>18,603.0</td>\n",
       "      <td>0.0</td>\n",
       "      <td>NaN</td>\n",
       "      <td>0.0</td>\n",
       "      <td>NaN</td>\n",
       "      <td>81.0</td>\n",
       "      <td>82920</td>\n",
       "    </tr>\n",
       "    <tr>\n",
       "      <th>2</th>\n",
       "      <td>10</td>\n",
       "      <td>5,196,000.0</td>\n",
       "      <td>56.0</td>\n",
       "      <td>2015-08-20T00:00:00</td>\n",
       "      <td>2</td>\n",
       "      <td>NaN</td>\n",
       "      <td>5.0</td>\n",
       "      <td>34.3</td>\n",
       "      <td>4</td>\n",
       "      <td>NaN</td>\n",
       "      <td>...</td>\n",
       "      <td>0</td>\n",
       "      <td>Санкт-Петербург</td>\n",
       "      <td>21,741.0</td>\n",
       "      <td>13,933.0</td>\n",
       "      <td>1.0</td>\n",
       "      <td>90.0</td>\n",
       "      <td>2.0</td>\n",
       "      <td>574.0</td>\n",
       "      <td>558.0</td>\n",
       "      <td>92785</td>\n",
       "    </tr>\n",
       "    <tr>\n",
       "      <th>3</th>\n",
       "      <td>0</td>\n",
       "      <td>64,900,000.0</td>\n",
       "      <td>159.0</td>\n",
       "      <td>2015-07-24T00:00:00</td>\n",
       "      <td>3</td>\n",
       "      <td>NaN</td>\n",
       "      <td>14.0</td>\n",
       "      <td>NaN</td>\n",
       "      <td>9</td>\n",
       "      <td>NaN</td>\n",
       "      <td>...</td>\n",
       "      <td>0</td>\n",
       "      <td>Санкт-Петербург</td>\n",
       "      <td>28,098.0</td>\n",
       "      <td>6,800.0</td>\n",
       "      <td>2.0</td>\n",
       "      <td>84.0</td>\n",
       "      <td>3.0</td>\n",
       "      <td>234.0</td>\n",
       "      <td>424.0</td>\n",
       "      <td>408176</td>\n",
       "    </tr>\n",
       "    <tr>\n",
       "      <th>4</th>\n",
       "      <td>2</td>\n",
       "      <td>10,000,000.0</td>\n",
       "      <td>100.0</td>\n",
       "      <td>2018-06-19T00:00:00</td>\n",
       "      <td>2</td>\n",
       "      <td>3.0</td>\n",
       "      <td>14.0</td>\n",
       "      <td>32.0</td>\n",
       "      <td>13</td>\n",
       "      <td>NaN</td>\n",
       "      <td>...</td>\n",
       "      <td>0</td>\n",
       "      <td>Санкт-Петербург</td>\n",
       "      <td>31,856.0</td>\n",
       "      <td>8,098.0</td>\n",
       "      <td>2.0</td>\n",
       "      <td>112.0</td>\n",
       "      <td>1.0</td>\n",
       "      <td>48.0</td>\n",
       "      <td>121.0</td>\n",
       "      <td>100000</td>\n",
       "    </tr>\n",
       "  </tbody>\n",
       "</table>\n",
       "<p>5 rows × 23 columns</p>\n",
       "</div>"
      ],
      "text/plain": [
       "   total_images   last_price  total_area first_day_exposition  rooms  \\\n",
       "0            20 13,000,000.0       108.0  2019-03-07T00:00:00      3   \n",
       "1             7  3,350,000.0        40.4  2018-12-04T00:00:00      1   \n",
       "2            10  5,196,000.0        56.0  2015-08-20T00:00:00      2   \n",
       "3             0 64,900,000.0       159.0  2015-07-24T00:00:00      3   \n",
       "4             2 10,000,000.0       100.0  2018-06-19T00:00:00      2   \n",
       "\n",
       "   ceiling_height  floors_total  living_area  floor is_apartment  ...  \\\n",
       "0             2.7          16.0         51.0      8          NaN  ...   \n",
       "1             NaN          11.0         18.6      1          NaN  ...   \n",
       "2             NaN           5.0         34.3      4          NaN  ...   \n",
       "3             NaN          14.0          NaN      9          NaN  ...   \n",
       "4             3.0          14.0         32.0     13          NaN  ...   \n",
       "\n",
       "   balcony    locality_name  airports_nearest  cityCenters_nearest  \\\n",
       "0        0  Санкт-Петербург          18,863.0             16,028.0   \n",
       "1        2   посёлок Шушары          12,817.0             18,603.0   \n",
       "2        0  Санкт-Петербург          21,741.0             13,933.0   \n",
       "3        0  Санкт-Петербург          28,098.0              6,800.0   \n",
       "4        0  Санкт-Петербург          31,856.0              8,098.0   \n",
       "\n",
       "  parks_around3000  parks_nearest  ponds_around3000  ponds_nearest  \\\n",
       "0              1.0          482.0               2.0          755.0   \n",
       "1              0.0            NaN               0.0            NaN   \n",
       "2              1.0           90.0               2.0          574.0   \n",
       "3              2.0           84.0               3.0          234.0   \n",
       "4              2.0          112.0               1.0           48.0   \n",
       "\n",
       "   days_exposition  metr_price  \n",
       "0              NaN      120370  \n",
       "1             81.0       82920  \n",
       "2            558.0       92785  \n",
       "3            424.0      408176  \n",
       "4            121.0      100000  \n",
       "\n",
       "[5 rows x 23 columns]"
      ]
     },
     "execution_count": 102,
     "metadata": {},
     "output_type": "execute_result"
    }
   ],
   "source": [
    "#добавил цену квадратного метра\n",
    "df['metr_price'] = df['last_price'] / df['total_area']\n",
    "df['metr_price'] = df['metr_price'].astype('int')\n",
    "df.head(5)"
   ]
  },
  {
   "cell_type": "code",
   "execution_count": 103,
   "metadata": {},
   "outputs": [
    {
     "data": {
      "text/html": [
       "<div>\n",
       "<style scoped>\n",
       "    .dataframe tbody tr th:only-of-type {\n",
       "        vertical-align: middle;\n",
       "    }\n",
       "\n",
       "    .dataframe tbody tr th {\n",
       "        vertical-align: top;\n",
       "    }\n",
       "\n",
       "    .dataframe thead th {\n",
       "        text-align: right;\n",
       "    }\n",
       "</style>\n",
       "<table border=\"1\" class=\"dataframe\">\n",
       "  <thead>\n",
       "    <tr style=\"text-align: right;\">\n",
       "      <th></th>\n",
       "      <th>total_images</th>\n",
       "      <th>last_price</th>\n",
       "      <th>total_area</th>\n",
       "      <th>first_day_exposition</th>\n",
       "      <th>rooms</th>\n",
       "      <th>ceiling_height</th>\n",
       "      <th>floors_total</th>\n",
       "      <th>living_area</th>\n",
       "      <th>floor</th>\n",
       "      <th>is_apartment</th>\n",
       "      <th>...</th>\n",
       "      <th>cityCenters_nearest</th>\n",
       "      <th>parks_around3000</th>\n",
       "      <th>parks_nearest</th>\n",
       "      <th>ponds_around3000</th>\n",
       "      <th>ponds_nearest</th>\n",
       "      <th>days_exposition</th>\n",
       "      <th>metr_price</th>\n",
       "      <th>day</th>\n",
       "      <th>month</th>\n",
       "      <th>year</th>\n",
       "    </tr>\n",
       "  </thead>\n",
       "  <tbody>\n",
       "    <tr>\n",
       "      <th>0</th>\n",
       "      <td>20</td>\n",
       "      <td>13,000,000.0</td>\n",
       "      <td>108.0</td>\n",
       "      <td>2019-03-07</td>\n",
       "      <td>3</td>\n",
       "      <td>2.7</td>\n",
       "      <td>16.0</td>\n",
       "      <td>51.0</td>\n",
       "      <td>8</td>\n",
       "      <td>NaN</td>\n",
       "      <td>...</td>\n",
       "      <td>16,028.0</td>\n",
       "      <td>1.0</td>\n",
       "      <td>482.0</td>\n",
       "      <td>2.0</td>\n",
       "      <td>755.0</td>\n",
       "      <td>NaN</td>\n",
       "      <td>120370</td>\n",
       "      <td>3</td>\n",
       "      <td>3</td>\n",
       "      <td>2019</td>\n",
       "    </tr>\n",
       "    <tr>\n",
       "      <th>1</th>\n",
       "      <td>7</td>\n",
       "      <td>3,350,000.0</td>\n",
       "      <td>40.4</td>\n",
       "      <td>2018-12-04</td>\n",
       "      <td>1</td>\n",
       "      <td>NaN</td>\n",
       "      <td>11.0</td>\n",
       "      <td>18.6</td>\n",
       "      <td>1</td>\n",
       "      <td>NaN</td>\n",
       "      <td>...</td>\n",
       "      <td>18,603.0</td>\n",
       "      <td>0.0</td>\n",
       "      <td>NaN</td>\n",
       "      <td>0.0</td>\n",
       "      <td>NaN</td>\n",
       "      <td>81.0</td>\n",
       "      <td>82920</td>\n",
       "      <td>1</td>\n",
       "      <td>12</td>\n",
       "      <td>2018</td>\n",
       "    </tr>\n",
       "    <tr>\n",
       "      <th>2</th>\n",
       "      <td>10</td>\n",
       "      <td>5,196,000.0</td>\n",
       "      <td>56.0</td>\n",
       "      <td>2015-08-20</td>\n",
       "      <td>2</td>\n",
       "      <td>NaN</td>\n",
       "      <td>5.0</td>\n",
       "      <td>34.3</td>\n",
       "      <td>4</td>\n",
       "      <td>NaN</td>\n",
       "      <td>...</td>\n",
       "      <td>13,933.0</td>\n",
       "      <td>1.0</td>\n",
       "      <td>90.0</td>\n",
       "      <td>2.0</td>\n",
       "      <td>574.0</td>\n",
       "      <td>558.0</td>\n",
       "      <td>92785</td>\n",
       "      <td>3</td>\n",
       "      <td>8</td>\n",
       "      <td>2015</td>\n",
       "    </tr>\n",
       "    <tr>\n",
       "      <th>3</th>\n",
       "      <td>0</td>\n",
       "      <td>64,900,000.0</td>\n",
       "      <td>159.0</td>\n",
       "      <td>2015-07-24</td>\n",
       "      <td>3</td>\n",
       "      <td>NaN</td>\n",
       "      <td>14.0</td>\n",
       "      <td>NaN</td>\n",
       "      <td>9</td>\n",
       "      <td>NaN</td>\n",
       "      <td>...</td>\n",
       "      <td>6,800.0</td>\n",
       "      <td>2.0</td>\n",
       "      <td>84.0</td>\n",
       "      <td>3.0</td>\n",
       "      <td>234.0</td>\n",
       "      <td>424.0</td>\n",
       "      <td>408176</td>\n",
       "      <td>4</td>\n",
       "      <td>7</td>\n",
       "      <td>2015</td>\n",
       "    </tr>\n",
       "    <tr>\n",
       "      <th>4</th>\n",
       "      <td>2</td>\n",
       "      <td>10,000,000.0</td>\n",
       "      <td>100.0</td>\n",
       "      <td>2018-06-19</td>\n",
       "      <td>2</td>\n",
       "      <td>3.0</td>\n",
       "      <td>14.0</td>\n",
       "      <td>32.0</td>\n",
       "      <td>13</td>\n",
       "      <td>NaN</td>\n",
       "      <td>...</td>\n",
       "      <td>8,098.0</td>\n",
       "      <td>2.0</td>\n",
       "      <td>112.0</td>\n",
       "      <td>1.0</td>\n",
       "      <td>48.0</td>\n",
       "      <td>121.0</td>\n",
       "      <td>100000</td>\n",
       "      <td>1</td>\n",
       "      <td>6</td>\n",
       "      <td>2018</td>\n",
       "    </tr>\n",
       "  </tbody>\n",
       "</table>\n",
       "<p>5 rows × 26 columns</p>\n",
       "</div>"
      ],
      "text/plain": [
       "   total_images   last_price  total_area first_day_exposition  rooms  \\\n",
       "0            20 13,000,000.0       108.0           2019-03-07      3   \n",
       "1             7  3,350,000.0        40.4           2018-12-04      1   \n",
       "2            10  5,196,000.0        56.0           2015-08-20      2   \n",
       "3             0 64,900,000.0       159.0           2015-07-24      3   \n",
       "4             2 10,000,000.0       100.0           2018-06-19      2   \n",
       "\n",
       "   ceiling_height  floors_total  living_area  floor is_apartment  ...  \\\n",
       "0             2.7          16.0         51.0      8          NaN  ...   \n",
       "1             NaN          11.0         18.6      1          NaN  ...   \n",
       "2             NaN           5.0         34.3      4          NaN  ...   \n",
       "3             NaN          14.0          NaN      9          NaN  ...   \n",
       "4             3.0          14.0         32.0     13          NaN  ...   \n",
       "\n",
       "   cityCenters_nearest  parks_around3000  parks_nearest  ponds_around3000  \\\n",
       "0             16,028.0               1.0          482.0               2.0   \n",
       "1             18,603.0               0.0            NaN               0.0   \n",
       "2             13,933.0               1.0           90.0               2.0   \n",
       "3              6,800.0               2.0           84.0               3.0   \n",
       "4              8,098.0               2.0          112.0               1.0   \n",
       "\n",
       "  ponds_nearest  days_exposition  metr_price  day  month  year  \n",
       "0         755.0              NaN      120370    3      3  2019  \n",
       "1           NaN             81.0       82920    1     12  2018  \n",
       "2         574.0            558.0       92785    3      8  2015  \n",
       "3         234.0            424.0      408176    4      7  2015  \n",
       "4          48.0            121.0      100000    1      6  2018  \n",
       "\n",
       "[5 rows x 26 columns]"
      ]
     },
     "execution_count": 103,
     "metadata": {},
     "output_type": "execute_result"
    }
   ],
   "source": [
    "df['first_day_exposition'] = pd.to_datetime(df['first_day_exposition'], format='%Y-%m-%d %H:%M')\n",
    "df['day'] = df['first_day_exposition'].dt.weekday\n",
    "df['month'] = df['first_day_exposition'].dt.month\n",
    "df['year'] = df['first_day_exposition'].dt.year\n",
    "df.head(5)"
   ]
  },
  {
   "cell_type": "markdown",
   "metadata": {},
   "source": [
    "добавил день недели, месяц и год публикации объявления"
   ]
  },
  {
   "cell_type": "code",
   "execution_count": 104,
   "metadata": {},
   "outputs": [
    {
     "data": {
      "text/html": [
       "<div>\n",
       "<style scoped>\n",
       "    .dataframe tbody tr th:only-of-type {\n",
       "        vertical-align: middle;\n",
       "    }\n",
       "\n",
       "    .dataframe tbody tr th {\n",
       "        vertical-align: top;\n",
       "    }\n",
       "\n",
       "    .dataframe thead th {\n",
       "        text-align: right;\n",
       "    }\n",
       "</style>\n",
       "<table border=\"1\" class=\"dataframe\">\n",
       "  <thead>\n",
       "    <tr style=\"text-align: right;\">\n",
       "      <th></th>\n",
       "      <th>total_images</th>\n",
       "      <th>last_price</th>\n",
       "      <th>total_area</th>\n",
       "      <th>first_day_exposition</th>\n",
       "      <th>rooms</th>\n",
       "      <th>ceiling_height</th>\n",
       "      <th>floors_total</th>\n",
       "      <th>living_area</th>\n",
       "      <th>floor</th>\n",
       "      <th>is_apartment</th>\n",
       "      <th>...</th>\n",
       "      <th>parks_around3000</th>\n",
       "      <th>parks_nearest</th>\n",
       "      <th>ponds_around3000</th>\n",
       "      <th>ponds_nearest</th>\n",
       "      <th>days_exposition</th>\n",
       "      <th>metr_price</th>\n",
       "      <th>day</th>\n",
       "      <th>month</th>\n",
       "      <th>year</th>\n",
       "      <th>type_floor</th>\n",
       "    </tr>\n",
       "  </thead>\n",
       "  <tbody>\n",
       "    <tr>\n",
       "      <th>0</th>\n",
       "      <td>20</td>\n",
       "      <td>13,000,000.0</td>\n",
       "      <td>108.0</td>\n",
       "      <td>2019-03-07</td>\n",
       "      <td>3</td>\n",
       "      <td>2.7</td>\n",
       "      <td>16.0</td>\n",
       "      <td>51.0</td>\n",
       "      <td>8</td>\n",
       "      <td>NaN</td>\n",
       "      <td>...</td>\n",
       "      <td>1.0</td>\n",
       "      <td>482.0</td>\n",
       "      <td>2.0</td>\n",
       "      <td>755.0</td>\n",
       "      <td>NaN</td>\n",
       "      <td>120370</td>\n",
       "      <td>3</td>\n",
       "      <td>3</td>\n",
       "      <td>2019</td>\n",
       "      <td>другой</td>\n",
       "    </tr>\n",
       "    <tr>\n",
       "      <th>1</th>\n",
       "      <td>7</td>\n",
       "      <td>3,350,000.0</td>\n",
       "      <td>40.4</td>\n",
       "      <td>2018-12-04</td>\n",
       "      <td>1</td>\n",
       "      <td>NaN</td>\n",
       "      <td>11.0</td>\n",
       "      <td>18.6</td>\n",
       "      <td>1</td>\n",
       "      <td>NaN</td>\n",
       "      <td>...</td>\n",
       "      <td>0.0</td>\n",
       "      <td>NaN</td>\n",
       "      <td>0.0</td>\n",
       "      <td>NaN</td>\n",
       "      <td>81.0</td>\n",
       "      <td>82920</td>\n",
       "      <td>1</td>\n",
       "      <td>12</td>\n",
       "      <td>2018</td>\n",
       "      <td>первый</td>\n",
       "    </tr>\n",
       "    <tr>\n",
       "      <th>2</th>\n",
       "      <td>10</td>\n",
       "      <td>5,196,000.0</td>\n",
       "      <td>56.0</td>\n",
       "      <td>2015-08-20</td>\n",
       "      <td>2</td>\n",
       "      <td>NaN</td>\n",
       "      <td>5.0</td>\n",
       "      <td>34.3</td>\n",
       "      <td>4</td>\n",
       "      <td>NaN</td>\n",
       "      <td>...</td>\n",
       "      <td>1.0</td>\n",
       "      <td>90.0</td>\n",
       "      <td>2.0</td>\n",
       "      <td>574.0</td>\n",
       "      <td>558.0</td>\n",
       "      <td>92785</td>\n",
       "      <td>3</td>\n",
       "      <td>8</td>\n",
       "      <td>2015</td>\n",
       "      <td>другой</td>\n",
       "    </tr>\n",
       "    <tr>\n",
       "      <th>3</th>\n",
       "      <td>0</td>\n",
       "      <td>64,900,000.0</td>\n",
       "      <td>159.0</td>\n",
       "      <td>2015-07-24</td>\n",
       "      <td>3</td>\n",
       "      <td>NaN</td>\n",
       "      <td>14.0</td>\n",
       "      <td>NaN</td>\n",
       "      <td>9</td>\n",
       "      <td>NaN</td>\n",
       "      <td>...</td>\n",
       "      <td>2.0</td>\n",
       "      <td>84.0</td>\n",
       "      <td>3.0</td>\n",
       "      <td>234.0</td>\n",
       "      <td>424.0</td>\n",
       "      <td>408176</td>\n",
       "      <td>4</td>\n",
       "      <td>7</td>\n",
       "      <td>2015</td>\n",
       "      <td>другой</td>\n",
       "    </tr>\n",
       "    <tr>\n",
       "      <th>4</th>\n",
       "      <td>2</td>\n",
       "      <td>10,000,000.0</td>\n",
       "      <td>100.0</td>\n",
       "      <td>2018-06-19</td>\n",
       "      <td>2</td>\n",
       "      <td>3.0</td>\n",
       "      <td>14.0</td>\n",
       "      <td>32.0</td>\n",
       "      <td>13</td>\n",
       "      <td>NaN</td>\n",
       "      <td>...</td>\n",
       "      <td>2.0</td>\n",
       "      <td>112.0</td>\n",
       "      <td>1.0</td>\n",
       "      <td>48.0</td>\n",
       "      <td>121.0</td>\n",
       "      <td>100000</td>\n",
       "      <td>1</td>\n",
       "      <td>6</td>\n",
       "      <td>2018</td>\n",
       "      <td>другой</td>\n",
       "    </tr>\n",
       "  </tbody>\n",
       "</table>\n",
       "<p>5 rows × 27 columns</p>\n",
       "</div>"
      ],
      "text/plain": [
       "   total_images   last_price  total_area first_day_exposition  rooms  \\\n",
       "0            20 13,000,000.0       108.0           2019-03-07      3   \n",
       "1             7  3,350,000.0        40.4           2018-12-04      1   \n",
       "2            10  5,196,000.0        56.0           2015-08-20      2   \n",
       "3             0 64,900,000.0       159.0           2015-07-24      3   \n",
       "4             2 10,000,000.0       100.0           2018-06-19      2   \n",
       "\n",
       "   ceiling_height  floors_total  living_area  floor is_apartment  ...  \\\n",
       "0             2.7          16.0         51.0      8          NaN  ...   \n",
       "1             NaN          11.0         18.6      1          NaN  ...   \n",
       "2             NaN           5.0         34.3      4          NaN  ...   \n",
       "3             NaN          14.0          NaN      9          NaN  ...   \n",
       "4             3.0          14.0         32.0     13          NaN  ...   \n",
       "\n",
       "   parks_around3000  parks_nearest  ponds_around3000  ponds_nearest  \\\n",
       "0               1.0          482.0               2.0          755.0   \n",
       "1               0.0            NaN               0.0            NaN   \n",
       "2               1.0           90.0               2.0          574.0   \n",
       "3               2.0           84.0               3.0          234.0   \n",
       "4               2.0          112.0               1.0           48.0   \n",
       "\n",
       "  days_exposition  metr_price  day  month  year  type_floor  \n",
       "0             NaN      120370    3      3  2019      другой  \n",
       "1            81.0       82920    1     12  2018      первый  \n",
       "2           558.0       92785    3      8  2015      другой  \n",
       "3           424.0      408176    4      7  2015      другой  \n",
       "4           121.0      100000    1      6  2018      другой  \n",
       "\n",
       "[5 rows x 27 columns]"
      ]
     },
     "execution_count": 104,
     "metadata": {},
     "output_type": "execute_result"
    }
   ],
   "source": [
    "#добавил этаж квартиры; варианты — первый, последний, другой\n",
    "\n",
    "# варианты где не указано количество этажей в доме, будет принадлежать к типу другой. \n",
    "#Погрешность получится только для типа последний, так как первый сразу вылетит.\n",
    "\n",
    "def floors(df):\n",
    "    if df['floor'] == 1:\n",
    "        return 'первый'\n",
    "    elif df['floor'] == df['floors_total']:\n",
    "        return 'последний'\n",
    "    elif df['floor'] != df['floors_total']:\n",
    "        return 'другой'\n",
    "    \n",
    "df['type_floor'] = df.apply(floors, axis=1)\n",
    "df.head()\n"
   ]
  },
  {
   "cell_type": "code",
   "execution_count": 105,
   "metadata": {},
   "outputs": [],
   "source": [
    "#добавил соотношение жилой и общей площади\n",
    "df['ratio_living'] = df['living_area'] / df['total_area']"
   ]
  },
  {
   "cell_type": "code",
   "execution_count": 106,
   "metadata": {},
   "outputs": [
    {
     "data": {
      "text/html": [
       "<div>\n",
       "<style scoped>\n",
       "    .dataframe tbody tr th:only-of-type {\n",
       "        vertical-align: middle;\n",
       "    }\n",
       "\n",
       "    .dataframe tbody tr th {\n",
       "        vertical-align: top;\n",
       "    }\n",
       "\n",
       "    .dataframe thead th {\n",
       "        text-align: right;\n",
       "    }\n",
       "</style>\n",
       "<table border=\"1\" class=\"dataframe\">\n",
       "  <thead>\n",
       "    <tr style=\"text-align: right;\">\n",
       "      <th></th>\n",
       "      <th>total_images</th>\n",
       "      <th>last_price</th>\n",
       "      <th>total_area</th>\n",
       "      <th>first_day_exposition</th>\n",
       "      <th>rooms</th>\n",
       "      <th>ceiling_height</th>\n",
       "      <th>floors_total</th>\n",
       "      <th>living_area</th>\n",
       "      <th>floor</th>\n",
       "      <th>is_apartment</th>\n",
       "      <th>...</th>\n",
       "      <th>ponds_around3000</th>\n",
       "      <th>ponds_nearest</th>\n",
       "      <th>days_exposition</th>\n",
       "      <th>metr_price</th>\n",
       "      <th>day</th>\n",
       "      <th>month</th>\n",
       "      <th>year</th>\n",
       "      <th>type_floor</th>\n",
       "      <th>ratio_living</th>\n",
       "      <th>ratio_kitchen</th>\n",
       "    </tr>\n",
       "  </thead>\n",
       "  <tbody>\n",
       "    <tr>\n",
       "      <th>0</th>\n",
       "      <td>20</td>\n",
       "      <td>13,000,000.0</td>\n",
       "      <td>108.0</td>\n",
       "      <td>2019-03-07</td>\n",
       "      <td>3</td>\n",
       "      <td>2.7</td>\n",
       "      <td>16.0</td>\n",
       "      <td>51.0</td>\n",
       "      <td>8</td>\n",
       "      <td>NaN</td>\n",
       "      <td>...</td>\n",
       "      <td>2.0</td>\n",
       "      <td>755.0</td>\n",
       "      <td>NaN</td>\n",
       "      <td>120370</td>\n",
       "      <td>3</td>\n",
       "      <td>3</td>\n",
       "      <td>2019</td>\n",
       "      <td>другой</td>\n",
       "      <td>0.5</td>\n",
       "      <td>0.2</td>\n",
       "    </tr>\n",
       "    <tr>\n",
       "      <th>1</th>\n",
       "      <td>7</td>\n",
       "      <td>3,350,000.0</td>\n",
       "      <td>40.4</td>\n",
       "      <td>2018-12-04</td>\n",
       "      <td>1</td>\n",
       "      <td>NaN</td>\n",
       "      <td>11.0</td>\n",
       "      <td>18.6</td>\n",
       "      <td>1</td>\n",
       "      <td>NaN</td>\n",
       "      <td>...</td>\n",
       "      <td>0.0</td>\n",
       "      <td>NaN</td>\n",
       "      <td>81.0</td>\n",
       "      <td>82920</td>\n",
       "      <td>1</td>\n",
       "      <td>12</td>\n",
       "      <td>2018</td>\n",
       "      <td>первый</td>\n",
       "      <td>0.5</td>\n",
       "      <td>0.3</td>\n",
       "    </tr>\n",
       "    <tr>\n",
       "      <th>2</th>\n",
       "      <td>10</td>\n",
       "      <td>5,196,000.0</td>\n",
       "      <td>56.0</td>\n",
       "      <td>2015-08-20</td>\n",
       "      <td>2</td>\n",
       "      <td>NaN</td>\n",
       "      <td>5.0</td>\n",
       "      <td>34.3</td>\n",
       "      <td>4</td>\n",
       "      <td>NaN</td>\n",
       "      <td>...</td>\n",
       "      <td>2.0</td>\n",
       "      <td>574.0</td>\n",
       "      <td>558.0</td>\n",
       "      <td>92785</td>\n",
       "      <td>3</td>\n",
       "      <td>8</td>\n",
       "      <td>2015</td>\n",
       "      <td>другой</td>\n",
       "      <td>0.6</td>\n",
       "      <td>0.1</td>\n",
       "    </tr>\n",
       "    <tr>\n",
       "      <th>3</th>\n",
       "      <td>0</td>\n",
       "      <td>64,900,000.0</td>\n",
       "      <td>159.0</td>\n",
       "      <td>2015-07-24</td>\n",
       "      <td>3</td>\n",
       "      <td>NaN</td>\n",
       "      <td>14.0</td>\n",
       "      <td>NaN</td>\n",
       "      <td>9</td>\n",
       "      <td>NaN</td>\n",
       "      <td>...</td>\n",
       "      <td>3.0</td>\n",
       "      <td>234.0</td>\n",
       "      <td>424.0</td>\n",
       "      <td>408176</td>\n",
       "      <td>4</td>\n",
       "      <td>7</td>\n",
       "      <td>2015</td>\n",
       "      <td>другой</td>\n",
       "      <td>NaN</td>\n",
       "      <td>NaN</td>\n",
       "    </tr>\n",
       "    <tr>\n",
       "      <th>4</th>\n",
       "      <td>2</td>\n",
       "      <td>10,000,000.0</td>\n",
       "      <td>100.0</td>\n",
       "      <td>2018-06-19</td>\n",
       "      <td>2</td>\n",
       "      <td>3.0</td>\n",
       "      <td>14.0</td>\n",
       "      <td>32.0</td>\n",
       "      <td>13</td>\n",
       "      <td>NaN</td>\n",
       "      <td>...</td>\n",
       "      <td>1.0</td>\n",
       "      <td>48.0</td>\n",
       "      <td>121.0</td>\n",
       "      <td>100000</td>\n",
       "      <td>1</td>\n",
       "      <td>6</td>\n",
       "      <td>2018</td>\n",
       "      <td>другой</td>\n",
       "      <td>0.3</td>\n",
       "      <td>0.4</td>\n",
       "    </tr>\n",
       "  </tbody>\n",
       "</table>\n",
       "<p>5 rows × 29 columns</p>\n",
       "</div>"
      ],
      "text/plain": [
       "   total_images   last_price  total_area first_day_exposition  rooms  \\\n",
       "0            20 13,000,000.0       108.0           2019-03-07      3   \n",
       "1             7  3,350,000.0        40.4           2018-12-04      1   \n",
       "2            10  5,196,000.0        56.0           2015-08-20      2   \n",
       "3             0 64,900,000.0       159.0           2015-07-24      3   \n",
       "4             2 10,000,000.0       100.0           2018-06-19      2   \n",
       "\n",
       "   ceiling_height  floors_total  living_area  floor is_apartment  ...  \\\n",
       "0             2.7          16.0         51.0      8          NaN  ...   \n",
       "1             NaN          11.0         18.6      1          NaN  ...   \n",
       "2             NaN           5.0         34.3      4          NaN  ...   \n",
       "3             NaN          14.0          NaN      9          NaN  ...   \n",
       "4             3.0          14.0         32.0     13          NaN  ...   \n",
       "\n",
       "   ponds_around3000  ponds_nearest  days_exposition  metr_price day  month  \\\n",
       "0               2.0          755.0              NaN      120370   3      3   \n",
       "1               0.0            NaN             81.0       82920   1     12   \n",
       "2               2.0          574.0            558.0       92785   3      8   \n",
       "3               3.0          234.0            424.0      408176   4      7   \n",
       "4               1.0           48.0            121.0      100000   1      6   \n",
       "\n",
       "   year  type_floor  ratio_living  ratio_kitchen  \n",
       "0  2019      другой           0.5            0.2  \n",
       "1  2018      первый           0.5            0.3  \n",
       "2  2015      другой           0.6            0.1  \n",
       "3  2015      другой           NaN            NaN  \n",
       "4  2018      другой           0.3            0.4  \n",
       "\n",
       "[5 rows x 29 columns]"
      ]
     },
     "execution_count": 106,
     "metadata": {},
     "output_type": "execute_result"
    }
   ],
   "source": [
    "#добавил отношение площади кухни к общей площади\n",
    "df['ratio_kitchen'] = df['kitchen_area'] / df['total_area']\n",
    "df.head(5)\n"
   ]
  },
  {
   "cell_type": "markdown",
   "metadata": {},
   "source": [
    "## Исследовательский анализ данных"
   ]
  },
  {
   "cell_type": "code",
   "execution_count": 107,
   "metadata": {},
   "outputs": [
    {
     "data": {
      "text/plain": [
       "count   23,699.0\n",
       "mean        60.3\n",
       "std         35.7\n",
       "min         12.0\n",
       "25%         40.0\n",
       "50%         52.0\n",
       "75%         69.9\n",
       "max        900.0\n",
       "Name: total_area, dtype: float64"
      ]
     },
     "metadata": {},
     "output_type": "display_data"
    },
    {
     "data": {
      "text/plain": [
       "<AxesSubplot:>"
      ]
     },
     "execution_count": 107,
     "metadata": {},
     "output_type": "execute_result"
    },
    {
     "data": {
      "image/png": "[encoded data removed]",
      "text/plain": [
       "<Figure size 432x288 with 1 Axes>"
      ]
     },
     "metadata": {
      "needs_background": "light"
     },
     "output_type": "display_data"
    }
   ],
   "source": [
    "display(df['total_area'].describe())\n",
    "pd.options.display.float_format = '{:,.1f}'.format\n",
    "#гистограмму общей площади строю выбрав диапазон значений от 20 до 150\n",
    "df['total_area'].hist(range=(20, 150),bins=100)"
   ]
  },
  {
   "cell_type": "markdown",
   "metadata": {},
   "source": [
    "Из гистограммы видно что наибольшее число объявлений с площадью от 30 до 80 кв. м."
   ]
  },
  {
   "cell_type": "code",
   "execution_count": 108,
   "metadata": {},
   "outputs": [
    {
     "data": {
      "text/plain": [
       "count        23,699.0\n",
       "mean      6,541,548.8\n",
       "std      10,887,013.3\n",
       "min          12,190.0\n",
       "25%       3,400,000.0\n",
       "50%       4,650,000.0\n",
       "75%       6,800,000.0\n",
       "max     763,000,000.0\n",
       "Name: last_price, dtype: float64"
      ]
     },
     "metadata": {},
     "output_type": "display_data"
    },
    {
     "data": {
      "text/plain": [
       "<AxesSubplot:>"
      ]
     },
     "execution_count": 108,
     "metadata": {},
     "output_type": "execute_result"
    },
    {
     "data": {
      "image/png": "[encoded data removed]",
      "text/plain": [
       "<Figure size 432x288 with 1 Axes>"
      ]
     },
     "metadata": {
      "needs_background": "light"
     },
     "output_type": "display_data"
    }
   ],
   "source": [
    "display(df['last_price'].describe())\n",
    "pd.options.display.float_format = '{:,.1f}'.format\n",
    "#гистраграмму цены строю в диапозоне от минимального значения до 20 000 000\n",
    "df['last_price'].hist(range=(1219000, 20000000),bins=100)"
   ]
  },
  {
   "cell_type": "markdown",
   "metadata": {},
   "source": [
    "С помощью гистрограммы видно что большая часть квартир, находится в диапозоне от 2 до 7 млн. рублей."
   ]
  },
  {
   "cell_type": "code",
   "execution_count": 109,
   "metadata": {
    "scrolled": true
   },
   "outputs": [
    {
     "data": {
      "text/plain": [
       "count   23,699.0\n",
       "mean         2.1\n",
       "std          1.1\n",
       "min          0.0\n",
       "25%          1.0\n",
       "50%          2.0\n",
       "75%          3.0\n",
       "max         19.0\n",
       "Name: rooms, dtype: float64"
      ]
     },
     "metadata": {},
     "output_type": "display_data"
    },
    {
     "data": {
      "text/plain": [
       "<AxesSubplot:>"
      ]
     },
     "execution_count": 109,
     "metadata": {},
     "output_type": "execute_result"
    },
    {
     "data": {
      "image/png": "[encoded data removed]",
      "text/plain": [
       "<Figure size 432x288 with 1 Axes>"
      ]
     },
     "metadata": {
      "needs_background": "light"
     },
     "output_type": "display_data"
    }
   ],
   "source": [
    "display(df['rooms'].describe())\n",
    "pd.options.display.float_format = '{:,.1f}'.format\n",
    "# гистограмму количество комнат строю в диапозоне от 0 до 8\n",
    "df['rooms'].hist(range=(0, 8), bins=20)"
   ]
  },
  {
   "cell_type": "markdown",
   "metadata": {},
   "source": [
    "Большая часть квартир это 1 -2 -3 комнатные."
   ]
  },
  {
   "cell_type": "code",
   "execution_count": 110,
   "metadata": {},
   "outputs": [
    {
     "data": {
      "text/plain": [
       "count   14,504.0\n",
       "mean         2.8\n",
       "std          1.3\n",
       "min          1.0\n",
       "25%          2.5\n",
       "50%          2.6\n",
       "75%          2.8\n",
       "max        100.0\n",
       "Name: ceiling_height, dtype: float64"
      ]
     },
     "metadata": {},
     "output_type": "display_data"
    },
    {
     "data": {
      "text/plain": [
       "<AxesSubplot:>"
      ]
     },
     "execution_count": 110,
     "metadata": {},
     "output_type": "execute_result"
    },
    {
     "data": {
      "image/png": "[encoded data removed]",
      "text/plain": [
       "<Figure size 432x288 with 1 Axes>"
      ]
     },
     "metadata": {
      "needs_background": "light"
     },
     "output_type": "display_data"
    }
   ],
   "source": [
    "display(df['ceiling_height'].describe())\n",
    "pd.options.display.float_format = '{:,.1f}'.format\n",
    "# гистограмму высоты потолков буду строить по данным между 1 и 3 квартилем. \n",
    "df['ceiling_height'].hist(range=(2.52, 3.20),bins=50)"
   ]
  },
  {
   "cell_type": "markdown",
   "metadata": {},
   "source": [
    "Наибольшее число объявлений с высотой 2.60 и 2.70 метров"
   ]
  },
  {
   "cell_type": "markdown",
   "metadata": {},
   "source": [
    "задание: \"Изучите время продажи квартиры. Постройте гистограмму. \n",
    "Посчитайте среднее и медиану. Опишите, сколько обычно занимает продажа. \n",
    "Когда можно считать, что продажи прошли очень быстро, а когда необычно долго?\""
   ]
  },
  {
   "cell_type": "code",
   "execution_count": 111,
   "metadata": {},
   "outputs": [
    {
     "data": {
      "text/plain": [
       "count   20,518.0\n",
       "mean       180.9\n",
       "std        219.7\n",
       "min          1.0\n",
       "25%         45.0\n",
       "50%         95.0\n",
       "75%        232.0\n",
       "max      1,580.0\n",
       "Name: days_exposition, dtype: float64"
      ]
     },
     "metadata": {},
     "output_type": "display_data"
    },
    {
     "data": {
      "text/plain": [
       "<AxesSubplot:>"
      ]
     },
     "execution_count": 111,
     "metadata": {},
     "output_type": "execute_result"
    },
    {
     "data": {
      "image/png": "[encoded data removed]",
      "text/plain": [
       "<Figure size 432x288 with 1 Axes>"
      ]
     },
     "metadata": {
      "needs_background": "light"
     },
     "output_type": "display_data"
    }
   ],
   "source": [
    "display(df['days_exposition'].describe())\n",
    "pd.options.display.float_format = '{:,.1f}'.format\n",
    "df['days_exposition'].hist( bins=100)"
   ]
  },
  {
   "cell_type": "markdown",
   "metadata": {},
   "source": [
    "Вывод: Среднее значение продажи квартиры 180 дней. Медианное значение продажи квартиры 95 дней.\n",
    "Из-за нескольких больших значений продажи квартиры, среднее время продажи отражает не верную картину происходящего. \n",
    "Продажи до 100 дней считаю быстрыми, свыше 400 дней необычно долгими"
   ]
  },
  {
   "cell_type": "markdown",
   "metadata": {},
   "source": [
    "Задание: \"Уберите редкие и выбивающиеся значения. Опишите, какие особенности обнаружили.\""
   ]
  },
  {
   "cell_type": "code",
   "execution_count": 112,
   "metadata": {},
   "outputs": [
    {
     "data": {
      "text/plain": [
       "<AxesSubplot:>"
      ]
     },
     "execution_count": 112,
     "metadata": {},
     "output_type": "execute_result"
    },
    {
     "data": {
      "image/png": "[encoded data removed]",
      "text/plain": [
       "<Figure size 432x288 with 1 Axes>"
      ]
     },
     "metadata": {
      "needs_background": "light"
     },
     "output_type": "display_data"
    }
   ],
   "source": [
    "df_days_exposition = df.query('days_exposition < 500') #убрал дни продажи более 500\n",
    "df_days_exposition['days_exposition'].hist(bins=100)"
   ]
  },
  {
   "cell_type": "markdown",
   "metadata": {},
   "source": [
    "Вывод: Подтвердилось, что продажи до 100 дней считаю быстрыми, а необычно долгими стали свыше 250 дней"
   ]
  },
  {
   "cell_type": "markdown",
   "metadata": {},
   "source": [
    "Выбивающие значения (площади, цены, числа комнат и высота потолков) буду убирать методом query в ходе определения зависимости от этих показателей ниже, в ходе исследования."
   ]
  },
  {
   "cell_type": "markdown",
   "metadata": {},
   "source": [
    "Задание: \n",
    "\"Какие факторы больше всего влияют на стоимость квартиры? \n",
    "Изучите, зависит ли цена от квадратного метра, числа комнат, этажа (первого или последнего), удалённости от центра. \n",
    "Также изучите зависимость от даты размещения: дня недели, месяца и года. \n",
    "\"Выберите 10 населённых пунктов с наибольшим числом объявлений. \n",
    "Посчитайте среднюю цену квадратного метра в этих населённых пунктах. \n",
    "Выделите населённые пункты с самой высокой и низкой стоимостью жилья. \n",
    "Эти данные можно найти по имени в столбце 'locality_name'. \""
   ]
  },
  {
   "cell_type": "code",
   "execution_count": 113,
   "metadata": {},
   "outputs": [
    {
     "data": {
      "text/plain": [
       "0.6536750579657242"
      ]
     },
     "execution_count": 113,
     "metadata": {},
     "output_type": "execute_result"
    },
    {
     "data": {
      "image/png": "[encoded data removed]",
      "text/plain": [
       "<Figure size 432x288 with 1 Axes>"
      ]
     },
     "metadata": {
      "needs_background": "light"
     },
     "output_type": "display_data"
    }
   ],
   "source": [
    "# проверим зависит ли цена от площади\n",
    "\n",
    "df_price = df.query('last_price < 40000000 & total_area < 300')\n",
    "df_price = df_price.pivot_table(index='total_area', values=['last_price'], aggfunc='mean')\n",
    "df_price.plot()\n",
    "df['total_area'].corr(df['last_price'])"
   ]
  },
  {
   "cell_type": "markdown",
   "metadata": {},
   "source": [
    "Вывод: чем больше площадь квартиры, тем выше цена\n"
   ]
  },
  {
   "cell_type": "code",
   "execution_count": 114,
   "metadata": {},
   "outputs": [
    {
     "data": {
      "text/plain": [
       "0.3633428499648948"
      ]
     },
     "execution_count": 114,
     "metadata": {},
     "output_type": "execute_result"
    },
    {
     "data": {
      "image/png": "[encoded data removed]",
      "text/plain": [
       "<Figure size 432x288 with 1 Axes>"
      ]
     },
     "metadata": {
      "needs_background": "light"
     },
     "output_type": "display_data"
    }
   ],
   "source": [
    "# проверим зависит ли цена от числа комнат\n",
    "\n",
    "df_rooms = df.query('last_price < 20000000 & rooms < 10')\n",
    "df_rooms = df_rooms.pivot_table(index='rooms', values=['last_price'], aggfunc='median')\n",
    "df_rooms.plot(kind='bar')\n",
    "df['last_price'].corr(df['rooms'])"
   ]
  },
  {
   "cell_type": "markdown",
   "metadata": {},
   "source": [
    "Вывод: Стоимость квартиры напрямую зависит от количества комнат исходя из графика.\n",
    "Хотя коэффициент корреляции показывает не сильную связь"
   ]
  },
  {
   "cell_type": "code",
   "execution_count": 115,
   "metadata": {},
   "outputs": [
    {
     "data": {
      "text/plain": [
       "<AxesSubplot:xlabel='type_floor'>"
      ]
     },
     "execution_count": 115,
     "metadata": {},
     "output_type": "execute_result"
    },
    {
     "data": {
      "image/png": "[encoded data removed]",
      "text/plain": [
       "<Figure size 432x288 with 1 Axes>"
      ]
     },
     "metadata": {
      "needs_background": "light"
     },
     "output_type": "display_data"
    }
   ],
   "source": [
    "# проверим зависит ли цена от этажа\n",
    "\n",
    "df_floor = (df.query('last_price < 30000000').\n",
    "            pivot_table(index='type_floor', values=['last_price'], aggfunc='mean'))\n",
    "df_floor.plot(kind='bar')"
   ]
  },
  {
   "cell_type": "markdown",
   "metadata": {},
   "source": [
    "Вывод: стоимость первого этажа дешевле, но разница не большая"
   ]
  },
  {
   "cell_type": "code",
   "execution_count": 116,
   "metadata": {},
   "outputs": [
    {
     "data": {
      "text/plain": [
       "<AxesSubplot:xlabel='cityCenters_nearest'>"
      ]
     },
     "execution_count": 116,
     "metadata": {},
     "output_type": "execute_result"
    },
    {
     "data": {
      "image/png": "[encoded data removed]",
      "text/plain": [
       "<Figure size 432x288 with 1 Axes>"
      ]
     },
     "metadata": {
      "needs_background": "light"
     },
     "output_type": "display_data"
    }
   ],
   "source": [
    "# проверим зависит ли цена от удалённости от центра\n",
    "\n",
    "df_rest = (df.query('last_price < 40000000 & cityCenters_nearest < 30000').\n",
    "           pivot_table(index='cityCenters_nearest', values='last_price', aggfunc='mean'))\n",
    "df_rest.plot()"
   ]
  },
  {
   "cell_type": "markdown",
   "metadata": {},
   "source": [
    " Вывод: чем дальше от центра, тем меньше дорогих квартир"
   ]
  },
  {
   "cell_type": "code",
   "execution_count": 117,
   "metadata": {},
   "outputs": [
    {
     "data": {
      "text/plain": [
       "<AxesSubplot:xlabel='day'>"
      ]
     },
     "execution_count": 117,
     "metadata": {},
     "output_type": "execute_result"
    },
    {
     "data": {
      "image/png": "[encoded data removed]",
      "text/plain": [
       "<Figure size 432x288 with 1 Axes>"
      ]
     },
     "metadata": {
      "needs_background": "light"
     },
     "output_type": "display_data"
    }
   ],
   "source": [
    "# изучим зависимость цены от даты размещения: дня недели, месяца и года.\n",
    "df_day = (df.query('last_price < 40000000 & last_price > 400000').\n",
    "           pivot_table(index='day', values=['last_price'], aggfunc='mean'))\n",
    "df_day.plot()"
   ]
  },
  {
   "cell_type": "markdown",
   "metadata": {},
   "source": [
    "Вывод: цена c понедельника по четверг самая высокая"
   ]
  },
  {
   "cell_type": "code",
   "execution_count": 118,
   "metadata": {},
   "outputs": [
    {
     "data": {
      "text/plain": [
       "<AxesSubplot:xlabel='month'>"
      ]
     },
     "execution_count": 118,
     "metadata": {},
     "output_type": "execute_result"
    },
    {
     "data": {
      "image/png": "[encoded data removed]",
      "text/plain": [
       "<Figure size 432x288 with 1 Axes>"
      ]
     },
     "metadata": {
      "needs_background": "light"
     },
     "output_type": "display_data"
    }
   ],
   "source": [
    "df_month = (df.query('last_price < 40000000 & last_price > 400000').\n",
    "           pivot_table(index='month', values=['last_price'], aggfunc='mean'))\n",
    "df_month.plot()"
   ]
  },
  {
   "cell_type": "markdown",
   "metadata": {},
   "source": [
    "Вывод: В июне выставляется на продажа самая низкая стоимость недвижимости"
   ]
  },
  {
   "cell_type": "code",
   "execution_count": 119,
   "metadata": {},
   "outputs": [
    {
     "data": {
      "text/plain": [
       "<AxesSubplot:title={'center':'year'}, xlabel='year'>"
      ]
     },
     "execution_count": 119,
     "metadata": {},
     "output_type": "execute_result"
    },
    {
     "data": {
      "image/png": "[encoded data removed]",
      "text/plain": [
       "<Figure size 432x288 with 1 Axes>"
      ]
     },
     "metadata": {
      "needs_background": "light"
     },
     "output_type": "display_data"
    }
   ],
   "source": [
    "df_year = (df.query('last_price < 40000000 & last_price > 400000').\n",
    "           pivot_table(index='year', values=['last_price'], aggfunc='mean'))\n",
    "df_year.plot(title='year')"
   ]
  },
  {
   "cell_type": "markdown",
   "metadata": {},
   "source": [
    "Вывод: Стоимость недвижимости опускалась до 2018 года, затем пошла вверх"
   ]
  },
  {
   "cell_type": "code",
   "execution_count": 120,
   "metadata": {},
   "outputs": [
    {
     "data": {
      "text/html": [
       "<div>\n",
       "<style scoped>\n",
       "    .dataframe tbody tr th:only-of-type {\n",
       "        vertical-align: middle;\n",
       "    }\n",
       "\n",
       "    .dataframe tbody tr th {\n",
       "        vertical-align: top;\n",
       "    }\n",
       "\n",
       "    .dataframe thead th {\n",
       "        text-align: right;\n",
       "    }\n",
       "</style>\n",
       "<table border=\"1\" class=\"dataframe\">\n",
       "  <thead>\n",
       "    <tr style=\"text-align: right;\">\n",
       "      <th></th>\n",
       "      <th>count</th>\n",
       "      <th>mean_metr_price</th>\n",
       "    </tr>\n",
       "    <tr>\n",
       "      <th>locality_name</th>\n",
       "      <th></th>\n",
       "      <th></th>\n",
       "    </tr>\n",
       "  </thead>\n",
       "  <tbody>\n",
       "    <tr>\n",
       "      <th>Санкт-Петербург</th>\n",
       "      <td>15721</td>\n",
       "      <td>114,848.6</td>\n",
       "    </tr>\n",
       "    <tr>\n",
       "      <th>посёлок Мурино</th>\n",
       "      <td>522</td>\n",
       "      <td>85,751.7</td>\n",
       "    </tr>\n",
       "    <tr>\n",
       "      <th>посёлок Шушары</th>\n",
       "      <td>440</td>\n",
       "      <td>78,676.9</td>\n",
       "    </tr>\n",
       "    <tr>\n",
       "      <th>Всеволожск</th>\n",
       "      <td>398</td>\n",
       "      <td>68,654.0</td>\n",
       "    </tr>\n",
       "    <tr>\n",
       "      <th>Пушкин</th>\n",
       "      <td>369</td>\n",
       "      <td>103,125.4</td>\n",
       "    </tr>\n",
       "    <tr>\n",
       "      <th>Колпино</th>\n",
       "      <td>338</td>\n",
       "      <td>75,424.2</td>\n",
       "    </tr>\n",
       "    <tr>\n",
       "      <th>посёлок Парголово</th>\n",
       "      <td>327</td>\n",
       "      <td>90,175.5</td>\n",
       "    </tr>\n",
       "    <tr>\n",
       "      <th>Гатчина</th>\n",
       "      <td>307</td>\n",
       "      <td>68,745.7</td>\n",
       "    </tr>\n",
       "    <tr>\n",
       "      <th>деревня Кудрово</th>\n",
       "      <td>299</td>\n",
       "      <td>92,473.1</td>\n",
       "    </tr>\n",
       "    <tr>\n",
       "      <th>Выборг</th>\n",
       "      <td>237</td>\n",
       "      <td>58,141.5</td>\n",
       "    </tr>\n",
       "  </tbody>\n",
       "</table>\n",
       "</div>"
      ],
      "text/plain": [
       "                   count  mean_metr_price\n",
       "locality_name                            \n",
       "Санкт-Петербург    15721        114,848.6\n",
       "посёлок Мурино       522         85,751.7\n",
       "посёлок Шушары       440         78,676.9\n",
       "Всеволожск           398         68,654.0\n",
       "Пушкин               369        103,125.4\n",
       "Колпино              338         75,424.2\n",
       "посёлок Парголово    327         90,175.5\n",
       "Гатчина              307         68,745.7\n",
       "деревня Кудрово      299         92,473.1\n",
       "Выборг               237         58,141.5"
      ]
     },
     "execution_count": 120,
     "metadata": {},
     "output_type": "execute_result"
    }
   ],
   "source": [
    "#\"Выберите 10 населённых пунктов с наибольшим числом объявлений. \n",
    "#Посчитайте среднюю цену квадратного метра в этих населённых пунктах. \n",
    "df_top = df.pivot_table(index='locality_name', values='metr_price', aggfunc=['count', 'mean'])\n",
    "df_top.columns = ['count', 'mean_metr_price']\n",
    "df_top = df_top.sort_values(by='count', ascending=False)\n",
    "df_top.head(10)"
   ]
  },
  {
   "cell_type": "markdown",
   "metadata": {},
   "source": [
    "Вывод: выделил 10 пунктов с наибольшим числом объявлений и нашел среднюю цену квадратного метра"
   ]
  },
  {
   "cell_type": "code",
   "execution_count": 121,
   "metadata": {},
   "outputs": [
    {
     "data": {
      "text/html": [
       "<div>\n",
       "<style scoped>\n",
       "    .dataframe tbody tr th:only-of-type {\n",
       "        vertical-align: middle;\n",
       "    }\n",
       "\n",
       "    .dataframe tbody tr th {\n",
       "        vertical-align: top;\n",
       "    }\n",
       "\n",
       "    .dataframe thead th {\n",
       "        text-align: right;\n",
       "    }\n",
       "</style>\n",
       "<table border=\"1\" class=\"dataframe\">\n",
       "  <thead>\n",
       "    <tr style=\"text-align: right;\">\n",
       "      <th></th>\n",
       "      <th>count</th>\n",
       "      <th>mean_metr_price</th>\n",
       "    </tr>\n",
       "    <tr>\n",
       "      <th>locality_name</th>\n",
       "      <th></th>\n",
       "      <th></th>\n",
       "    </tr>\n",
       "  </thead>\n",
       "  <tbody>\n",
       "    <tr>\n",
       "      <th>посёлок Лисий Нос</th>\n",
       "      <td>2</td>\n",
       "      <td>121,615.5</td>\n",
       "    </tr>\n",
       "  </tbody>\n",
       "</table>\n",
       "</div>"
      ],
      "text/plain": [
       "                   count  mean_metr_price\n",
       "locality_name                            \n",
       "посёлок Лисий Нос      2        121,615.5"
      ]
     },
     "metadata": {},
     "output_type": "display_data"
    },
    {
     "data": {
      "text/html": [
       "<div>\n",
       "<style scoped>\n",
       "    .dataframe tbody tr th:only-of-type {\n",
       "        vertical-align: middle;\n",
       "    }\n",
       "\n",
       "    .dataframe tbody tr th {\n",
       "        vertical-align: top;\n",
       "    }\n",
       "\n",
       "    .dataframe thead th {\n",
       "        text-align: right;\n",
       "    }\n",
       "</style>\n",
       "<table border=\"1\" class=\"dataframe\">\n",
       "  <thead>\n",
       "    <tr style=\"text-align: right;\">\n",
       "      <th></th>\n",
       "      <th>count</th>\n",
       "      <th>mean_metr_price</th>\n",
       "    </tr>\n",
       "    <tr>\n",
       "      <th>locality_name</th>\n",
       "      <th></th>\n",
       "      <th></th>\n",
       "    </tr>\n",
       "  </thead>\n",
       "  <tbody>\n",
       "    <tr>\n",
       "      <th>деревня Старополье</th>\n",
       "      <td>3</td>\n",
       "      <td>11,206.0</td>\n",
       "    </tr>\n",
       "  </tbody>\n",
       "</table>\n",
       "</div>"
      ],
      "text/plain": [
       "                    count  mean_metr_price\n",
       "locality_name                             \n",
       "деревня Старополье      3         11,206.0"
      ]
     },
     "execution_count": 121,
     "metadata": {},
     "output_type": "execute_result"
    }
   ],
   "source": [
    "#Выделите населённые пункты с самой высокой и низкой стоимостью жилья. \n",
    "city_max = df_top.loc[df_top['mean_metr_price'] == df_top['mean_metr_price'].max()]\n",
    "display(city_max)\n",
    "city_min = df_top.loc[df_top['mean_metr_price'] == df_top['mean_metr_price'].min()]\n",
    "city_min"
   ]
  },
  {
   "cell_type": "markdown",
   "metadata": {},
   "source": [
    "Вывод: Самая высокая стоимость жилья в посёлок Лисий Нос. Самая низкая в деревня Старополье."
   ]
  },
  {
   "cell_type": "code",
   "execution_count": 122,
   "metadata": {},
   "outputs": [],
   "source": [
    "#выполнено задание: \"Изучите предложения квартир: для каждой квартиры есть информация о расстоянии до центра. \n",
    "#Выделите квартиры в Санкт-Петербурге ('locality_name'). \n",
    "#Ваша задача — выяснить, какая область входит в центр. \n",
    "#Создайте столбец с расстоянием до центра в километрах: округлите до целых значений. \n",
    "#После этого посчитайте среднюю цену для каждого километра. \n",
    "#Постройте график: он должен показывать, как цена зависит от удалённости от центра. \n",
    "#Определите границу, где график сильно меняется — это и будет центральная зона. \""
   ]
  },
  {
   "cell_type": "code",
   "execution_count": 123,
   "metadata": {},
   "outputs": [
    {
     "name": "stderr",
     "output_type": "stream",
     "text": [
      "/tmp/ipykernel_58/1231499175.py:2: SettingWithCopyWarning: \n",
      "A value is trying to be set on a copy of a slice from a DataFrame\n",
      "\n",
      "See the caveats in the documentation: https://pandas.pydata.org/pandas-docs/stable/user_guide/indexing.html#returning-a-view-versus-a-copy\n",
      "  df_km.dropna(subset=['cityCenters_nearest'], inplace=True) # удалил пропущенные значения в столбце расстояние до центра\n",
      "/tmp/ipykernel_58/1231499175.py:3: SettingWithCopyWarning: \n",
      "A value is trying to be set on a copy of a slice from a DataFrame.\n",
      "Try using .loc[row_indexer,col_indexer] = value instead\n",
      "\n",
      "See the caveats in the documentation: https://pandas.pydata.org/pandas-docs/stable/user_guide/indexing.html#returning-a-view-versus-a-copy\n",
      "  df_km['km'] = (df_km['cityCenters_nearest'] / 1000).astype('int')\n"
     ]
    },
    {
     "data": {
      "text/html": [
       "<div>\n",
       "<style scoped>\n",
       "    .dataframe tbody tr th:only-of-type {\n",
       "        vertical-align: middle;\n",
       "    }\n",
       "\n",
       "    .dataframe tbody tr th {\n",
       "        vertical-align: top;\n",
       "    }\n",
       "\n",
       "    .dataframe thead th {\n",
       "        text-align: right;\n",
       "    }\n",
       "</style>\n",
       "<table border=\"1\" class=\"dataframe\">\n",
       "  <thead>\n",
       "    <tr style=\"text-align: right;\">\n",
       "      <th></th>\n",
       "      <th>total_images</th>\n",
       "      <th>last_price</th>\n",
       "      <th>total_area</th>\n",
       "      <th>first_day_exposition</th>\n",
       "      <th>rooms</th>\n",
       "      <th>ceiling_height</th>\n",
       "      <th>floors_total</th>\n",
       "      <th>living_area</th>\n",
       "      <th>floor</th>\n",
       "      <th>is_apartment</th>\n",
       "      <th>...</th>\n",
       "      <th>ponds_nearest</th>\n",
       "      <th>days_exposition</th>\n",
       "      <th>metr_price</th>\n",
       "      <th>day</th>\n",
       "      <th>month</th>\n",
       "      <th>year</th>\n",
       "      <th>type_floor</th>\n",
       "      <th>ratio_living</th>\n",
       "      <th>ratio_kitchen</th>\n",
       "      <th>km</th>\n",
       "    </tr>\n",
       "  </thead>\n",
       "  <tbody>\n",
       "    <tr>\n",
       "      <th>0</th>\n",
       "      <td>20</td>\n",
       "      <td>13,000,000.0</td>\n",
       "      <td>108.0</td>\n",
       "      <td>2019-03-07</td>\n",
       "      <td>3</td>\n",
       "      <td>2.7</td>\n",
       "      <td>16.0</td>\n",
       "      <td>51.0</td>\n",
       "      <td>8</td>\n",
       "      <td>NaN</td>\n",
       "      <td>...</td>\n",
       "      <td>755.0</td>\n",
       "      <td>NaN</td>\n",
       "      <td>120370</td>\n",
       "      <td>3</td>\n",
       "      <td>3</td>\n",
       "      <td>2019</td>\n",
       "      <td>другой</td>\n",
       "      <td>0.5</td>\n",
       "      <td>0.2</td>\n",
       "      <td>16</td>\n",
       "    </tr>\n",
       "    <tr>\n",
       "      <th>2</th>\n",
       "      <td>10</td>\n",
       "      <td>5,196,000.0</td>\n",
       "      <td>56.0</td>\n",
       "      <td>2015-08-20</td>\n",
       "      <td>2</td>\n",
       "      <td>NaN</td>\n",
       "      <td>5.0</td>\n",
       "      <td>34.3</td>\n",
       "      <td>4</td>\n",
       "      <td>NaN</td>\n",
       "      <td>...</td>\n",
       "      <td>574.0</td>\n",
       "      <td>558.0</td>\n",
       "      <td>92785</td>\n",
       "      <td>3</td>\n",
       "      <td>8</td>\n",
       "      <td>2015</td>\n",
       "      <td>другой</td>\n",
       "      <td>0.6</td>\n",
       "      <td>0.1</td>\n",
       "      <td>13</td>\n",
       "    </tr>\n",
       "    <tr>\n",
       "      <th>3</th>\n",
       "      <td>0</td>\n",
       "      <td>64,900,000.0</td>\n",
       "      <td>159.0</td>\n",
       "      <td>2015-07-24</td>\n",
       "      <td>3</td>\n",
       "      <td>NaN</td>\n",
       "      <td>14.0</td>\n",
       "      <td>NaN</td>\n",
       "      <td>9</td>\n",
       "      <td>NaN</td>\n",
       "      <td>...</td>\n",
       "      <td>234.0</td>\n",
       "      <td>424.0</td>\n",
       "      <td>408176</td>\n",
       "      <td>4</td>\n",
       "      <td>7</td>\n",
       "      <td>2015</td>\n",
       "      <td>другой</td>\n",
       "      <td>NaN</td>\n",
       "      <td>NaN</td>\n",
       "      <td>6</td>\n",
       "    </tr>\n",
       "    <tr>\n",
       "      <th>4</th>\n",
       "      <td>2</td>\n",
       "      <td>10,000,000.0</td>\n",
       "      <td>100.0</td>\n",
       "      <td>2018-06-19</td>\n",
       "      <td>2</td>\n",
       "      <td>3.0</td>\n",
       "      <td>14.0</td>\n",
       "      <td>32.0</td>\n",
       "      <td>13</td>\n",
       "      <td>NaN</td>\n",
       "      <td>...</td>\n",
       "      <td>48.0</td>\n",
       "      <td>121.0</td>\n",
       "      <td>100000</td>\n",
       "      <td>1</td>\n",
       "      <td>6</td>\n",
       "      <td>2018</td>\n",
       "      <td>другой</td>\n",
       "      <td>0.3</td>\n",
       "      <td>0.4</td>\n",
       "      <td>8</td>\n",
       "    </tr>\n",
       "    <tr>\n",
       "      <th>7</th>\n",
       "      <td>5</td>\n",
       "      <td>7,915,000.0</td>\n",
       "      <td>71.6</td>\n",
       "      <td>2019-04-18</td>\n",
       "      <td>2</td>\n",
       "      <td>NaN</td>\n",
       "      <td>24.0</td>\n",
       "      <td>NaN</td>\n",
       "      <td>22</td>\n",
       "      <td>NaN</td>\n",
       "      <td>...</td>\n",
       "      <td>NaN</td>\n",
       "      <td>NaN</td>\n",
       "      <td>110544</td>\n",
       "      <td>3</td>\n",
       "      <td>4</td>\n",
       "      <td>2019</td>\n",
       "      <td>другой</td>\n",
       "      <td>NaN</td>\n",
       "      <td>0.3</td>\n",
       "      <td>11</td>\n",
       "    </tr>\n",
       "    <tr>\n",
       "      <th>9</th>\n",
       "      <td>18</td>\n",
       "      <td>5,400,000.0</td>\n",
       "      <td>61.0</td>\n",
       "      <td>2017-02-26</td>\n",
       "      <td>3</td>\n",
       "      <td>2.5</td>\n",
       "      <td>9.0</td>\n",
       "      <td>43.6</td>\n",
       "      <td>7</td>\n",
       "      <td>NaN</td>\n",
       "      <td>...</td>\n",
       "      <td>NaN</td>\n",
       "      <td>289.0</td>\n",
       "      <td>88524</td>\n",
       "      <td>6</td>\n",
       "      <td>2</td>\n",
       "      <td>2017</td>\n",
       "      <td>другой</td>\n",
       "      <td>0.7</td>\n",
       "      <td>0.1</td>\n",
       "      <td>15</td>\n",
       "    </tr>\n",
       "    <tr>\n",
       "      <th>10</th>\n",
       "      <td>5</td>\n",
       "      <td>5,050,000.0</td>\n",
       "      <td>39.6</td>\n",
       "      <td>2017-11-16</td>\n",
       "      <td>1</td>\n",
       "      <td>2.7</td>\n",
       "      <td>12.0</td>\n",
       "      <td>20.3</td>\n",
       "      <td>3</td>\n",
       "      <td>NaN</td>\n",
       "      <td>...</td>\n",
       "      <td>553.0</td>\n",
       "      <td>137.0</td>\n",
       "      <td>127525</td>\n",
       "      <td>3</td>\n",
       "      <td>11</td>\n",
       "      <td>2017</td>\n",
       "      <td>другой</td>\n",
       "      <td>0.5</td>\n",
       "      <td>0.2</td>\n",
       "      <td>13</td>\n",
       "    </tr>\n",
       "    <tr>\n",
       "      <th>15</th>\n",
       "      <td>16</td>\n",
       "      <td>4,650,000.0</td>\n",
       "      <td>39.0</td>\n",
       "      <td>2017-11-18</td>\n",
       "      <td>1</td>\n",
       "      <td>NaN</td>\n",
       "      <td>14.0</td>\n",
       "      <td>20.5</td>\n",
       "      <td>5</td>\n",
       "      <td>NaN</td>\n",
       "      <td>...</td>\n",
       "      <td>296.0</td>\n",
       "      <td>19.0</td>\n",
       "      <td>119230</td>\n",
       "      <td>5</td>\n",
       "      <td>11</td>\n",
       "      <td>2017</td>\n",
       "      <td>другой</td>\n",
       "      <td>0.5</td>\n",
       "      <td>0.2</td>\n",
       "      <td>14</td>\n",
       "    </tr>\n",
       "    <tr>\n",
       "      <th>16</th>\n",
       "      <td>11</td>\n",
       "      <td>6,700,000.0</td>\n",
       "      <td>82.0</td>\n",
       "      <td>2017-11-23</td>\n",
       "      <td>3</td>\n",
       "      <td>3.0</td>\n",
       "      <td>5.0</td>\n",
       "      <td>55.6</td>\n",
       "      <td>1</td>\n",
       "      <td>NaN</td>\n",
       "      <td>...</td>\n",
       "      <td>NaN</td>\n",
       "      <td>397.0</td>\n",
       "      <td>81707</td>\n",
       "      <td>3</td>\n",
       "      <td>11</td>\n",
       "      <td>2017</td>\n",
       "      <td>первый</td>\n",
       "      <td>0.7</td>\n",
       "      <td>0.1</td>\n",
       "      <td>10</td>\n",
       "    </tr>\n",
       "    <tr>\n",
       "      <th>17</th>\n",
       "      <td>6</td>\n",
       "      <td>4,180,000.0</td>\n",
       "      <td>36.0</td>\n",
       "      <td>2016-09-09</td>\n",
       "      <td>1</td>\n",
       "      <td>NaN</td>\n",
       "      <td>17.0</td>\n",
       "      <td>16.5</td>\n",
       "      <td>7</td>\n",
       "      <td>NaN</td>\n",
       "      <td>...</td>\n",
       "      <td>859.0</td>\n",
       "      <td>571.0</td>\n",
       "      <td>116111</td>\n",
       "      <td>4</td>\n",
       "      <td>9</td>\n",
       "      <td>2016</td>\n",
       "      <td>другой</td>\n",
       "      <td>0.5</td>\n",
       "      <td>0.3</td>\n",
       "      <td>14</td>\n",
       "    </tr>\n",
       "  </tbody>\n",
       "</table>\n",
       "<p>10 rows × 30 columns</p>\n",
       "</div>"
      ],
      "text/plain": [
       "    total_images   last_price  total_area first_day_exposition  rooms  \\\n",
       "0             20 13,000,000.0       108.0           2019-03-07      3   \n",
       "2             10  5,196,000.0        56.0           2015-08-20      2   \n",
       "3              0 64,900,000.0       159.0           2015-07-24      3   \n",
       "4              2 10,000,000.0       100.0           2018-06-19      2   \n",
       "7              5  7,915,000.0        71.6           2019-04-18      2   \n",
       "9             18  5,400,000.0        61.0           2017-02-26      3   \n",
       "10             5  5,050,000.0        39.6           2017-11-16      1   \n",
       "15            16  4,650,000.0        39.0           2017-11-18      1   \n",
       "16            11  6,700,000.0        82.0           2017-11-23      3   \n",
       "17             6  4,180,000.0        36.0           2016-09-09      1   \n",
       "\n",
       "    ceiling_height  floors_total  living_area  floor is_apartment  ...  \\\n",
       "0              2.7          16.0         51.0      8          NaN  ...   \n",
       "2              NaN           5.0         34.3      4          NaN  ...   \n",
       "3              NaN          14.0          NaN      9          NaN  ...   \n",
       "4              3.0          14.0         32.0     13          NaN  ...   \n",
       "7              NaN          24.0          NaN     22          NaN  ...   \n",
       "9              2.5           9.0         43.6      7          NaN  ...   \n",
       "10             2.7          12.0         20.3      3          NaN  ...   \n",
       "15             NaN          14.0         20.5      5          NaN  ...   \n",
       "16             3.0           5.0         55.6      1          NaN  ...   \n",
       "17             NaN          17.0         16.5      7          NaN  ...   \n",
       "\n",
       "    ponds_nearest  days_exposition  metr_price  day month  year  type_floor  \\\n",
       "0           755.0              NaN      120370    3     3  2019      другой   \n",
       "2           574.0            558.0       92785    3     8  2015      другой   \n",
       "3           234.0            424.0      408176    4     7  2015      другой   \n",
       "4            48.0            121.0      100000    1     6  2018      другой   \n",
       "7             NaN              NaN      110544    3     4  2019      другой   \n",
       "9             NaN            289.0       88524    6     2  2017      другой   \n",
       "10          553.0            137.0      127525    3    11  2017      другой   \n",
       "15          296.0             19.0      119230    5    11  2017      другой   \n",
       "16            NaN            397.0       81707    3    11  2017      первый   \n",
       "17          859.0            571.0      116111    4     9  2016      другой   \n",
       "\n",
       "    ratio_living  ratio_kitchen  km  \n",
       "0            0.5            0.2  16  \n",
       "2            0.6            0.1  13  \n",
       "3            NaN            NaN   6  \n",
       "4            0.3            0.4   8  \n",
       "7            NaN            0.3  11  \n",
       "9            0.7            0.1  15  \n",
       "10           0.5            0.2  13  \n",
       "15           0.5            0.2  14  \n",
       "16           0.7            0.1  10  \n",
       "17           0.5            0.3  14  \n",
       "\n",
       "[10 rows x 30 columns]"
      ]
     },
     "execution_count": 123,
     "metadata": {},
     "output_type": "execute_result"
    }
   ],
   "source": [
    "df_km = df[df['locality_name'] == 'Санкт-Петербург']\n",
    "df_km.dropna(subset=['cityCenters_nearest'], inplace=True) # удалил пропущенные значения в столбце расстояние до центра\n",
    "df_km['km'] = (df_km['cityCenters_nearest'] / 1000).astype('int')\n",
    "df_km.head(10)"
   ]
  },
  {
   "cell_type": "code",
   "execution_count": 124,
   "metadata": {
    "scrolled": true
   },
   "outputs": [
    {
     "data": {
      "text/plain": [
       "<AxesSubplot:xlabel='km'>"
      ]
     },
     "execution_count": 124,
     "metadata": {},
     "output_type": "execute_result"
    },
    {
     "data": {
      "image/png": "[encoded data removed]",
      "text/plain": [
       "<Figure size 720x360 with 1 Axes>"
      ]
     },
     "metadata": {
      "needs_background": "light"
     },
     "output_type": "display_data"
    }
   ],
   "source": [
    "#После этого посчитайте среднюю цену для каждого километра. \n",
    "#Постройте график: он должен показывать, как цена зависит от удалённости от центра. \n",
    "#Определите границу, где график сильно меняется — это и будет центральная зона. \"\n",
    "df_km_table = df_km.pivot_table(index='km', values='last_price', aggfunc='mean')\n",
    "df_km_table.plot(style='o-', grid=True, figsize=(10,5))"
   ]
  },
  {
   "cell_type": "markdown",
   "metadata": {},
   "source": [
    "Вывод: по графику опредилил центральную зону равную 7 км."
   ]
  },
  {
   "cell_type": "markdown",
   "metadata": {},
   "source": [
    "задание: \"Выделите сегмент квартир в центре. \n",
    "Проанализируйте эту территорию и изучите следующие параметры: площадь, цена, число комнат, высота потолков. \n",
    "Также выделите факторы, которые влияют на стоимость квартиры (число комнат, этаж, удалённость от центра, дата размещения объявления). \n",
    "Сделайте выводы. Отличаются ли они от общих выводов по всему городу?\""
   ]
  },
  {
   "cell_type": "code",
   "execution_count": 125,
   "metadata": {},
   "outputs": [
    {
     "data": {
      "text/html": [
       "<div>\n",
       "<style scoped>\n",
       "    .dataframe tbody tr th:only-of-type {\n",
       "        vertical-align: middle;\n",
       "    }\n",
       "\n",
       "    .dataframe tbody tr th {\n",
       "        vertical-align: top;\n",
       "    }\n",
       "\n",
       "    .dataframe thead th {\n",
       "        text-align: right;\n",
       "    }\n",
       "</style>\n",
       "<table border=\"1\" class=\"dataframe\">\n",
       "  <thead>\n",
       "    <tr style=\"text-align: right;\">\n",
       "      <th></th>\n",
       "      <th>total_images</th>\n",
       "      <th>last_price</th>\n",
       "      <th>total_area</th>\n",
       "      <th>rooms</th>\n",
       "      <th>ceiling_height</th>\n",
       "      <th>floors_total</th>\n",
       "      <th>living_area</th>\n",
       "      <th>floor</th>\n",
       "      <th>kitchen_area</th>\n",
       "      <th>balcony</th>\n",
       "      <th>...</th>\n",
       "      <th>ponds_around3000</th>\n",
       "      <th>ponds_nearest</th>\n",
       "      <th>days_exposition</th>\n",
       "      <th>metr_price</th>\n",
       "      <th>day</th>\n",
       "      <th>month</th>\n",
       "      <th>year</th>\n",
       "      <th>ratio_living</th>\n",
       "      <th>ratio_kitchen</th>\n",
       "      <th>km</th>\n",
       "    </tr>\n",
       "  </thead>\n",
       "  <tbody>\n",
       "    <tr>\n",
       "      <th>count</th>\n",
       "      <td>3,712.0</td>\n",
       "      <td>3,712.0</td>\n",
       "      <td>3,712.0</td>\n",
       "      <td>3,712.0</td>\n",
       "      <td>2,408.0</td>\n",
       "      <td>3,705.0</td>\n",
       "      <td>3,406.0</td>\n",
       "      <td>3,712.0</td>\n",
       "      <td>3,362.0</td>\n",
       "      <td>3,712.0</td>\n",
       "      <td>...</td>\n",
       "      <td>3,712.0</td>\n",
       "      <td>2,660.0</td>\n",
       "      <td>3,104.0</td>\n",
       "      <td>3,712.0</td>\n",
       "      <td>3,712.0</td>\n",
       "      <td>3,712.0</td>\n",
       "      <td>3,712.0</td>\n",
       "      <td>3,406.0</td>\n",
       "      <td>3,362.0</td>\n",
       "      <td>3,712.0</td>\n",
       "    </tr>\n",
       "    <tr>\n",
       "      <th>mean</th>\n",
       "      <td>10.3</td>\n",
       "      <td>14,729,617.5</td>\n",
       "      <td>92.3</td>\n",
       "      <td>2.8</td>\n",
       "      <td>3.1</td>\n",
       "      <td>7.2</td>\n",
       "      <td>53.9</td>\n",
       "      <td>4.3</td>\n",
       "      <td>14.4</td>\n",
       "      <td>0.3</td>\n",
       "      <td>...</td>\n",
       "      <td>1.3</td>\n",
       "      <td>464.5</td>\n",
       "      <td>245.1</td>\n",
       "      <td>144,404.4</td>\n",
       "      <td>2.5</td>\n",
       "      <td>6.4</td>\n",
       "      <td>2,017.2</td>\n",
       "      <td>0.6</td>\n",
       "      <td>0.2</td>\n",
       "      <td>4.2</td>\n",
       "    </tr>\n",
       "    <tr>\n",
       "      <th>std</th>\n",
       "      <td>6.0</td>\n",
       "      <td>24,704,514.2</td>\n",
       "      <td>60.5</td>\n",
       "      <td>1.5</td>\n",
       "      <td>0.9</td>\n",
       "      <td>4.0</td>\n",
       "      <td>37.4</td>\n",
       "      <td>3.1</td>\n",
       "      <td>9.3</td>\n",
       "      <td>0.8</td>\n",
       "      <td>...</td>\n",
       "      <td>1.1</td>\n",
       "      <td>270.3</td>\n",
       "      <td>271.4</td>\n",
       "      <td>91,844.6</td>\n",
       "      <td>1.7</td>\n",
       "      <td>3.5</td>\n",
       "      <td>1.1</td>\n",
       "      <td>0.1</td>\n",
       "      <td>0.1</td>\n",
       "      <td>1.8</td>\n",
       "    </tr>\n",
       "    <tr>\n",
       "      <th>min</th>\n",
       "      <td>0.0</td>\n",
       "      <td>1,600,000.0</td>\n",
       "      <td>12.0</td>\n",
       "      <td>0.0</td>\n",
       "      <td>2.0</td>\n",
       "      <td>2.0</td>\n",
       "      <td>2.0</td>\n",
       "      <td>1.0</td>\n",
       "      <td>2.0</td>\n",
       "      <td>0.0</td>\n",
       "      <td>...</td>\n",
       "      <td>0.0</td>\n",
       "      <td>22.0</td>\n",
       "      <td>3.0</td>\n",
       "      <td>15,345.0</td>\n",
       "      <td>0.0</td>\n",
       "      <td>1.0</td>\n",
       "      <td>2,014.0</td>\n",
       "      <td>0.0</td>\n",
       "      <td>0.0</td>\n",
       "      <td>0.0</td>\n",
       "    </tr>\n",
       "    <tr>\n",
       "      <th>25%</th>\n",
       "      <td>6.0</td>\n",
       "      <td>6,590,000.0</td>\n",
       "      <td>56.0</td>\n",
       "      <td>2.0</td>\n",
       "      <td>2.8</td>\n",
       "      <td>5.0</td>\n",
       "      <td>31.0</td>\n",
       "      <td>2.0</td>\n",
       "      <td>9.0</td>\n",
       "      <td>0.0</td>\n",
       "      <td>...</td>\n",
       "      <td>0.0</td>\n",
       "      <td>227.0</td>\n",
       "      <td>60.0</td>\n",
       "      <td>100,000.0</td>\n",
       "      <td>1.0</td>\n",
       "      <td>3.0</td>\n",
       "      <td>2,017.0</td>\n",
       "      <td>0.5</td>\n",
       "      <td>0.1</td>\n",
       "      <td>3.0</td>\n",
       "    </tr>\n",
       "    <tr>\n",
       "      <th>50%</th>\n",
       "      <td>10.0</td>\n",
       "      <td>9,000,000.0</td>\n",
       "      <td>77.8</td>\n",
       "      <td>3.0</td>\n",
       "      <td>3.0</td>\n",
       "      <td>6.0</td>\n",
       "      <td>45.0</td>\n",
       "      <td>4.0</td>\n",
       "      <td>12.0</td>\n",
       "      <td>0.0</td>\n",
       "      <td>...</td>\n",
       "      <td>1.0</td>\n",
       "      <td>450.5</td>\n",
       "      <td>139.5</td>\n",
       "      <td>123,629.0</td>\n",
       "      <td>3.0</td>\n",
       "      <td>6.0</td>\n",
       "      <td>2,017.0</td>\n",
       "      <td>0.6</td>\n",
       "      <td>0.2</td>\n",
       "      <td>4.0</td>\n",
       "    </tr>\n",
       "    <tr>\n",
       "      <th>75%</th>\n",
       "      <td>15.0</td>\n",
       "      <td>14,131,375.0</td>\n",
       "      <td>108.7</td>\n",
       "      <td>3.0</td>\n",
       "      <td>3.3</td>\n",
       "      <td>9.0</td>\n",
       "      <td>65.0</td>\n",
       "      <td>5.0</td>\n",
       "      <td>16.8</td>\n",
       "      <td>0.0</td>\n",
       "      <td>...</td>\n",
       "      <td>2.0</td>\n",
       "      <td>667.0</td>\n",
       "      <td>342.0</td>\n",
       "      <td>154,965.5</td>\n",
       "      <td>4.0</td>\n",
       "      <td>10.0</td>\n",
       "      <td>2,018.0</td>\n",
       "      <td>0.7</td>\n",
       "      <td>0.2</td>\n",
       "      <td>5.0</td>\n",
       "    </tr>\n",
       "    <tr>\n",
       "      <th>max</th>\n",
       "      <td>50.0</td>\n",
       "      <td>763,000,000.0</td>\n",
       "      <td>900.0</td>\n",
       "      <td>19.0</td>\n",
       "      <td>32.0</td>\n",
       "      <td>27.0</td>\n",
       "      <td>409.7</td>\n",
       "      <td>25.0</td>\n",
       "      <td>112.0</td>\n",
       "      <td>5.0</td>\n",
       "      <td>...</td>\n",
       "      <td>3.0</td>\n",
       "      <td>1,293.0</td>\n",
       "      <td>1,572.0</td>\n",
       "      <td>1,907,500.0</td>\n",
       "      <td>6.0</td>\n",
       "      <td>12.0</td>\n",
       "      <td>2,019.0</td>\n",
       "      <td>1.0</td>\n",
       "      <td>0.6</td>\n",
       "      <td>7.0</td>\n",
       "    </tr>\n",
       "  </tbody>\n",
       "</table>\n",
       "<p>8 rows × 24 columns</p>\n",
       "</div>"
      ],
      "text/plain": [
       "       total_images    last_price  total_area   rooms  ceiling_height  \\\n",
       "count       3,712.0       3,712.0     3,712.0 3,712.0         2,408.0   \n",
       "mean           10.3  14,729,617.5        92.3     2.8             3.1   \n",
       "std             6.0  24,704,514.2        60.5     1.5             0.9   \n",
       "min             0.0   1,600,000.0        12.0     0.0             2.0   \n",
       "25%             6.0   6,590,000.0        56.0     2.0             2.8   \n",
       "50%            10.0   9,000,000.0        77.8     3.0             3.0   \n",
       "75%            15.0  14,131,375.0       108.7     3.0             3.3   \n",
       "max            50.0 763,000,000.0       900.0    19.0            32.0   \n",
       "\n",
       "       floors_total  living_area   floor  kitchen_area  balcony  ...  \\\n",
       "count       3,705.0      3,406.0 3,712.0       3,362.0  3,712.0  ...   \n",
       "mean            7.2         53.9     4.3          14.4      0.3  ...   \n",
       "std             4.0         37.4     3.1           9.3      0.8  ...   \n",
       "min             2.0          2.0     1.0           2.0      0.0  ...   \n",
       "25%             5.0         31.0     2.0           9.0      0.0  ...   \n",
       "50%             6.0         45.0     4.0          12.0      0.0  ...   \n",
       "75%             9.0         65.0     5.0          16.8      0.0  ...   \n",
       "max            27.0        409.7    25.0         112.0      5.0  ...   \n",
       "\n",
       "       ponds_around3000  ponds_nearest  days_exposition  metr_price     day  \\\n",
       "count           3,712.0        2,660.0          3,104.0     3,712.0 3,712.0   \n",
       "mean                1.3          464.5            245.1   144,404.4     2.5   \n",
       "std                 1.1          270.3            271.4    91,844.6     1.7   \n",
       "min                 0.0           22.0              3.0    15,345.0     0.0   \n",
       "25%                 0.0          227.0             60.0   100,000.0     1.0   \n",
       "50%                 1.0          450.5            139.5   123,629.0     3.0   \n",
       "75%                 2.0          667.0            342.0   154,965.5     4.0   \n",
       "max                 3.0        1,293.0          1,572.0 1,907,500.0     6.0   \n",
       "\n",
       "        month    year  ratio_living  ratio_kitchen      km  \n",
       "count 3,712.0 3,712.0       3,406.0        3,362.0 3,712.0  \n",
       "mean      6.4 2,017.2           0.6            0.2     4.2  \n",
       "std       3.5     1.1           0.1            0.1     1.8  \n",
       "min       1.0 2,014.0           0.0            0.0     0.0  \n",
       "25%       3.0 2,017.0           0.5            0.1     3.0  \n",
       "50%       6.0 2,017.0           0.6            0.2     4.0  \n",
       "75%      10.0 2,018.0           0.7            0.2     5.0  \n",
       "max      12.0 2,019.0           1.0            0.6     7.0  \n",
       "\n",
       "[8 rows x 24 columns]"
      ]
     },
     "execution_count": 125,
     "metadata": {},
     "output_type": "execute_result"
    }
   ],
   "source": [
    "#Выделил сегмент квартир в центре. \n",
    "df_centr = df_km[df_km['km'] <= 7]\n",
    "df_centr.describe()"
   ]
  },
  {
   "cell_type": "code",
   "execution_count": 126,
   "metadata": {},
   "outputs": [
    {
     "data": {
      "text/plain": [
       "<AxesSubplot:>"
      ]
     },
     "execution_count": 126,
     "metadata": {},
     "output_type": "execute_result"
    },
    {
     "data": {
      "image/png": "[encoded data removed]",
      "text/plain": [
       "<Figure size 864x360 with 1 Axes>"
      ]
     },
     "metadata": {
      "needs_background": "light"
     },
     "output_type": "display_data"
    }
   ],
   "source": [
    "#Проанализируйте эту территорию и изучите следующие параметры: площадь, цена, число комнат, высота потолков.\n",
    "\n",
    "df_centr.query('total_area < 400')['total_area'].hist(bins=50, figsize=(12,5))\n"
   ]
  },
  {
   "cell_type": "markdown",
   "metadata": {},
   "source": [
    "Вывод: основная часть квартир в центре площадью от 30 до 120 квадратных метров"
   ]
  },
  {
   "cell_type": "code",
   "execution_count": 127,
   "metadata": {},
   "outputs": [
    {
     "data": {
      "text/plain": [
       "<AxesSubplot:>"
      ]
     },
     "execution_count": 127,
     "metadata": {},
     "output_type": "execute_result"
    },
    {
     "data": {
      "image/png": "[encoded data removed]",
      "text/plain": [
       "<Figure size 432x288 with 1 Axes>"
      ]
     },
     "metadata": {
      "needs_background": "light"
     },
     "output_type": "display_data"
    }
   ],
   "source": [
    "df_centr.query('last_price < 30000000')['last_price'].hist(bins=100)"
   ]
  },
  {
   "cell_type": "markdown",
   "metadata": {},
   "source": [
    "Вывод: основная часть недвижимость стоимостью от 5 до 14 млн."
   ]
  },
  {
   "cell_type": "code",
   "execution_count": 128,
   "metadata": {},
   "outputs": [
    {
     "data": {
      "text/plain": [
       "<AxesSubplot:>"
      ]
     },
     "execution_count": 128,
     "metadata": {},
     "output_type": "execute_result"
    },
    {
     "data": {
      "image/png": "[encoded data removed]",
      "text/plain": [
       "<Figure size 432x288 with 1 Axes>"
      ]
     },
     "metadata": {
      "needs_background": "light"
     },
     "output_type": "display_data"
    }
   ],
   "source": [
    "df_centr.query('rooms < 10')['rooms'].hist(bins=10)"
   ]
  },
  {
   "cell_type": "markdown",
   "metadata": {},
   "source": [
    "Вывод: больше всего двух и трехкомнатных квартир"
   ]
  },
  {
   "cell_type": "code",
   "execution_count": 129,
   "metadata": {},
   "outputs": [
    {
     "data": {
      "text/plain": [
       "<AxesSubplot:>"
      ]
     },
     "execution_count": 129,
     "metadata": {},
     "output_type": "execute_result"
    },
    {
     "data": {
      "image/png": "[encoded data removed]",
      "text/plain": [
       "<Figure size 432x288 with 1 Axes>"
      ]
     },
     "metadata": {
      "needs_background": "light"
     },
     "output_type": "display_data"
    }
   ],
   "source": [
    "df_centr.query('ceiling_height < 4')['ceiling_height'].hist(bins=10)"
   ]
  },
  {
   "cell_type": "markdown",
   "metadata": {},
   "source": [
    "Вывод: в среднем высота потолко от 2,7 до 3,5 м."
   ]
  },
  {
   "cell_type": "markdown",
   "metadata": {},
   "source": [
    "выделите факторы, которые влияют на стоимость квартиры (число комнат, этаж, удалённость от центра, дата размещения объявления). "
   ]
  },
  {
   "cell_type": "code",
   "execution_count": 130,
   "metadata": {},
   "outputs": [
    {
     "data": {
      "text/plain": [
       "<AxesSubplot:xlabel='rooms'>"
      ]
     },
     "execution_count": 130,
     "metadata": {},
     "output_type": "execute_result"
    },
    {
     "data": {
      "image/png": "[encoded data removed]",
      "text/plain": [
       "<Figure size 432x288 with 1 Axes>"
      ]
     },
     "metadata": {
      "needs_background": "light"
     },
     "output_type": "display_data"
    }
   ],
   "source": [
    "#число комнат\n",
    "df_room = (df_centr.query('last_price < 40000000 & last_price > 1000000').\n",
    "           pivot_table(index='rooms', values=['last_price'], aggfunc='mean'))\n",
    "df_room.plot()"
   ]
  },
  {
   "cell_type": "markdown",
   "metadata": {},
   "source": [
    "Вывод: чем больше комнат, тем больше цена квартир"
   ]
  },
  {
   "cell_type": "code",
   "execution_count": 131,
   "metadata": {},
   "outputs": [
    {
     "data": {
      "text/plain": [
       "<AxesSubplot:xlabel='floor'>"
      ]
     },
     "execution_count": 131,
     "metadata": {},
     "output_type": "execute_result"
    },
    {
     "data": {
      "image/png": "[encoded data removed]",
      "text/plain": [
       "<Figure size 432x288 with 1 Axes>"
      ]
     },
     "metadata": {
      "needs_background": "light"
     },
     "output_type": "display_data"
    },
    {
     "data": {
      "image/png": "[encoded data removed]",
      "text/plain": [
       "<Figure size 432x288 with 1 Axes>"
      ]
     },
     "metadata": {
      "needs_background": "light"
     },
     "output_type": "display_data"
    }
   ],
   "source": [
    "# этаж\n",
    "df_floor = (df_centr.query('last_price < 40000000 & last_price > 1000000').\n",
    "           pivot_table(index='type_floor', values=['last_price'], aggfunc='mean'))\n",
    "df_floor.plot(kind='bar')\n",
    "df_floor_1 = (df_centr.query('last_price < 300000000').\n",
    "           pivot_table(index='floor', values=['last_price'], aggfunc='mean'))\n",
    "df_floor_1.plot(kind='bar')"
   ]
  },
  {
   "cell_type": "markdown",
   "metadata": {},
   "source": [
    "вывод: первый этаж дешевле других, но разница не большая"
   ]
  },
  {
   "cell_type": "code",
   "execution_count": 132,
   "metadata": {},
   "outputs": [
    {
     "data": {
      "text/plain": [
       "<AxesSubplot:xlabel='km'>"
      ]
     },
     "execution_count": 132,
     "metadata": {},
     "output_type": "execute_result"
    },
    {
     "data": {
      "image/png": "[encoded data removed]",
      "text/plain": [
       "<Figure size 432x288 with 1 Axes>"
      ]
     },
     "metadata": {
      "needs_background": "light"
     },
     "output_type": "display_data"
    }
   ],
   "source": [
    "#удалённость от центра\n",
    "df_distance = (df_centr.query('last_price < 40000000 & last_price > 1000000').\n",
    "           pivot_table(index='km', values=['last_price'], aggfunc='mean'))\n",
    "df_distance.plot()"
   ]
  },
  {
   "cell_type": "markdown",
   "metadata": {},
   "source": [
    "вывод: в самом центре стоимость жилья самая высокая"
   ]
  },
  {
   "cell_type": "code",
   "execution_count": 133,
   "metadata": {
    "scrolled": true
   },
   "outputs": [
    {
     "data": {
      "text/plain": [
       "<AxesSubplot:xlabel='day'>"
      ]
     },
     "execution_count": 133,
     "metadata": {},
     "output_type": "execute_result"
    },
    {
     "data": {
      "image/png": "[encoded data removed]",
      "text/plain": [
       "<Figure size 432x288 with 1 Axes>"
      ]
     },
     "metadata": {
      "needs_background": "light"
     },
     "output_type": "display_data"
    }
   ],
   "source": [
    "#день размещения объявления\n",
    "df_day = (df_centr.query('last_price > 100000').\n",
    "           pivot_table(index='day', values=['last_price'], aggfunc='mean'))\n",
    "df_day.plot()"
   ]
  },
  {
   "cell_type": "markdown",
   "metadata": {},
   "source": [
    "вывод: в выходные выставляют на продажу самую дорогую недвижимость"
   ]
  },
  {
   "cell_type": "code",
   "execution_count": 134,
   "metadata": {},
   "outputs": [
    {
     "data": {
      "text/plain": [
       "<AxesSubplot:xlabel='month'>"
      ]
     },
     "execution_count": 134,
     "metadata": {},
     "output_type": "execute_result"
    },
    {
     "data": {
      "image/png": "[encoded data removed]",
      "text/plain": [
       "<Figure size 432x288 with 1 Axes>"
      ]
     },
     "metadata": {
      "needs_background": "light"
     },
     "output_type": "display_data"
    }
   ],
   "source": [
    "#месяц размещения объявления\n",
    "df_month = (df_centr.query('last_price > 100000').\n",
    "           pivot_table(index='month', values=['last_price'], aggfunc='mean'))\n",
    "df_month.plot()"
   ]
  },
  {
   "cell_type": "markdown",
   "metadata": {},
   "source": [
    "вывод: сильной зависимости размещения объявления по месяцам нет"
   ]
  },
  {
   "cell_type": "code",
   "execution_count": 135,
   "metadata": {},
   "outputs": [
    {
     "data": {
      "text/plain": [
       "<AxesSubplot:xlabel='year'>"
      ]
     },
     "execution_count": 135,
     "metadata": {},
     "output_type": "execute_result"
    },
    {
     "data": {
      "image/png": "[encoded data removed]",
      "text/plain": [
       "<Figure size 432x288 with 1 Axes>"
      ]
     },
     "metadata": {
      "needs_background": "light"
     },
     "output_type": "display_data"
    }
   ],
   "source": [
    "#год размещения объявления\n",
    "df_year = (df_centr.query('last_price > 100000').\n",
    "           pivot_table(index='year', values=['last_price'], aggfunc='mean'))\n",
    "df_year.plot()"
   ]
  },
  {
   "cell_type": "markdown",
   "metadata": {},
   "source": [
    "Вывод: стоимость жилья до 2018 года опускалась, после пошла вверх"
   ]
  },
  {
   "cell_type": "markdown",
   "metadata": {},
   "source": [
    "## Общий вывод"
   ]
  },
  {
   "cell_type": "markdown",
   "metadata": {},
   "source": [
    "Сравнил стоимость недвижимости в центре и за ее пределами. \n",
    "Стоимость недвижимости в центре и за ее пределами до 2018 года опускалась, после пошла вверх.\n",
    "По таким характеристикам как число комнат, этаж, высота потолков показатели схожи.\n",
    "В центре самая дорогая недвижимость выставляется на продажу в выходные, а за пределами центра наоборот. \n",
    "Самая высокая стоимость жилья оказалась в посёлки Лисий Нос, самая низкая в деревне Старополье."
   ]
  },
  {
   "cell_type": "code",
   "execution_count": null,
   "metadata": {},
   "outputs": [],
   "source": []
  }
 ],
 "metadata": {
  "ExecuteTimeLog": [
   {
    "duration": 1356,
    "start_time": "2022-01-14T08:02:42.944Z"
   },
   {
    "duration": 85,
    "start_time": "2022-01-14T08:03:11.625Z"
   },
   {
    "duration": 90,
    "start_time": "2022-01-14T08:03:26.655Z"
   },
   {
    "duration": 162,
    "start_time": "2022-01-14T08:03:40.583Z"
   },
   {
    "duration": 134,
    "start_time": "2022-01-14T08:05:21.704Z"
   },
   {
    "duration": 81,
    "start_time": "2022-01-14T08:05:40.547Z"
   },
   {
    "duration": 87,
    "start_time": "2022-01-14T08:05:59.838Z"
   },
   {
    "duration": 143,
    "start_time": "2022-01-14T08:06:50.806Z"
   },
   {
    "duration": 86,
    "start_time": "2022-01-14T08:06:58.507Z"
   },
   {
    "duration": 208,
    "start_time": "2022-01-14T08:08:00.283Z"
   },
   {
    "duration": 226,
    "start_time": "2022-01-14T08:08:57.731Z"
   },
   {
    "duration": 198,
    "start_time": "2022-01-14T08:09:08.699Z"
   },
   {
    "duration": 206,
    "start_time": "2022-01-14T08:09:31.058Z"
   },
   {
    "duration": 131,
    "start_time": "2022-01-14T09:33:08.812Z"
   },
   {
    "duration": 399,
    "start_time": "2022-01-14T13:27:38.179Z"
   },
   {
    "duration": 1038,
    "start_time": "2022-01-14T13:27:52.731Z"
   },
   {
    "duration": 15,
    "start_time": "2022-01-14T13:27:58.335Z"
   },
   {
    "duration": 9,
    "start_time": "2022-01-14T13:29:09.518Z"
   },
   {
    "duration": 10,
    "start_time": "2022-01-14T13:30:14.262Z"
   },
   {
    "duration": 12,
    "start_time": "2022-01-14T13:30:54.906Z"
   },
   {
    "duration": 9,
    "start_time": "2022-01-14T13:31:15.620Z"
   },
   {
    "duration": 10,
    "start_time": "2022-01-14T13:31:34.973Z"
   },
   {
    "duration": 10,
    "start_time": "2022-01-14T13:32:38.043Z"
   },
   {
    "duration": 16,
    "start_time": "2022-01-14T13:33:07.433Z"
   },
   {
    "duration": 8,
    "start_time": "2022-01-14T13:33:30.349Z"
   },
   {
    "duration": 10,
    "start_time": "2022-01-14T13:34:01.204Z"
   },
   {
    "duration": 345,
    "start_time": "2022-01-14T13:36:41.135Z"
   },
   {
    "duration": 160,
    "start_time": "2022-01-14T13:36:51.501Z"
   },
   {
    "duration": 261,
    "start_time": "2022-01-14T13:37:38.498Z"
   },
   {
    "duration": 399,
    "start_time": "2022-01-14T13:38:40.378Z"
   },
   {
    "duration": 388,
    "start_time": "2022-01-14T14:02:42.898Z"
   },
   {
    "duration": -397,
    "start_time": "2022-01-14T14:02:43.687Z"
   },
   {
    "duration": 387,
    "start_time": "2022-01-14T14:03:51.337Z"
   },
   {
    "duration": 407,
    "start_time": "2022-01-14T14:04:09.035Z"
   },
   {
    "duration": 359,
    "start_time": "2022-01-14T14:04:31.718Z"
   },
   {
    "duration": 365,
    "start_time": "2022-01-14T14:04:45.484Z"
   },
   {
    "duration": 116,
    "start_time": "2022-01-14T14:06:11.508Z"
   },
   {
    "duration": 34,
    "start_time": "2022-01-14T14:06:26.603Z"
   },
   {
    "duration": 25,
    "start_time": "2022-01-14T14:06:44.819Z"
   },
   {
    "duration": 286,
    "start_time": "2022-01-14T14:06:51.981Z"
   },
   {
    "duration": 285,
    "start_time": "2022-01-14T14:07:03.439Z"
   },
   {
    "duration": 28,
    "start_time": "2022-01-14T14:07:11.867Z"
   },
   {
    "duration": 7,
    "start_time": "2022-01-14T14:08:04.595Z"
   },
   {
    "duration": 153,
    "start_time": "2022-01-14T14:08:19.686Z"
   },
   {
    "duration": 8,
    "start_time": "2022-01-14T14:08:24.339Z"
   },
   {
    "duration": 6,
    "start_time": "2022-01-14T14:08:36.403Z"
   },
   {
    "duration": 496,
    "start_time": "2022-01-14T14:13:30.683Z"
   },
   {
    "duration": 134,
    "start_time": "2022-01-14T14:32:22.335Z"
   },
   {
    "duration": 157,
    "start_time": "2022-01-14T14:38:54.999Z"
   },
   {
    "duration": 131,
    "start_time": "2022-01-14T14:41:44.334Z"
   },
   {
    "duration": 288,
    "start_time": "2022-01-14T14:42:51.636Z"
   },
   {
    "duration": 190,
    "start_time": "2022-01-14T14:43:20.347Z"
   },
   {
    "duration": 284,
    "start_time": "2022-01-14T14:43:36.674Z"
   },
   {
    "duration": 292,
    "start_time": "2022-01-14T14:45:11.218Z"
   },
   {
    "duration": 200,
    "start_time": "2022-01-14T14:45:23.159Z"
   },
   {
    "duration": 296,
    "start_time": "2022-01-14T14:47:09.778Z"
   },
   {
    "duration": 414,
    "start_time": "2022-01-14T14:47:40.328Z"
   },
   {
    "duration": 146,
    "start_time": "2022-01-14T15:57:27.668Z"
   },
   {
    "duration": 54,
    "start_time": "2022-01-14T16:19:58.772Z"
   },
   {
    "duration": 50,
    "start_time": "2022-01-14T16:20:07.667Z"
   },
   {
    "duration": 50,
    "start_time": "2022-01-14T16:20:47.602Z"
   },
   {
    "duration": 70,
    "start_time": "2022-01-14T16:21:12.457Z"
   },
   {
    "duration": 15,
    "start_time": "2022-01-14T16:23:22.073Z"
   },
   {
    "duration": 16,
    "start_time": "2022-01-14T16:23:25.032Z"
   },
   {
    "duration": 52,
    "start_time": "2022-01-14T16:23:36.579Z"
   },
   {
    "duration": 46,
    "start_time": "2022-01-14T16:23:52.648Z"
   },
   {
    "duration": 686,
    "start_time": "2022-01-14T18:19:38.048Z"
   },
   {
    "duration": 35,
    "start_time": "2022-01-14T18:19:38.736Z"
   },
   {
    "duration": 34,
    "start_time": "2022-01-14T18:21:58.849Z"
   },
   {
    "duration": 5,
    "start_time": "2022-01-14T18:32:52.871Z"
   },
   {
    "duration": 4,
    "start_time": "2022-01-14T18:33:18.091Z"
   },
   {
    "duration": 7,
    "start_time": "2022-01-14T18:33:36.754Z"
   },
   {
    "duration": 6,
    "start_time": "2022-01-14T18:33:45.468Z"
   },
   {
    "duration": 95,
    "start_time": "2022-01-14T18:34:37.998Z"
   },
   {
    "duration": 65,
    "start_time": "2022-01-14T18:34:38.095Z"
   },
   {
    "duration": 5,
    "start_time": "2022-01-14T18:34:38.162Z"
   },
   {
    "duration": 6,
    "start_time": "2022-01-14T18:34:42.799Z"
   },
   {
    "duration": 8,
    "start_time": "2022-01-14T18:36:43.082Z"
   },
   {
    "duration": 6,
    "start_time": "2022-01-14T18:38:20.441Z"
   },
   {
    "duration": 8,
    "start_time": "2022-01-14T18:45:24.211Z"
   },
   {
    "duration": 27,
    "start_time": "2022-01-14T18:45:56.085Z"
   },
   {
    "duration": 4,
    "start_time": "2022-01-14T18:48:48.323Z"
   },
   {
    "duration": 2,
    "start_time": "2022-01-14T18:50:25.329Z"
   },
   {
    "duration": 318,
    "start_time": "2022-01-14T19:44:57.536Z"
   },
   {
    "duration": 12,
    "start_time": "2022-01-14T19:47:08.688Z"
   },
   {
    "duration": 19,
    "start_time": "2022-01-14T19:47:30.108Z"
   },
   {
    "duration": 24,
    "start_time": "2022-01-14T19:47:52.572Z"
   },
   {
    "duration": 24,
    "start_time": "2022-01-14T19:48:37.892Z"
   },
   {
    "duration": 86,
    "start_time": "2022-01-14T19:48:49.173Z"
   },
   {
    "duration": 87,
    "start_time": "2022-01-14T19:48:49.261Z"
   },
   {
    "duration": 6,
    "start_time": "2022-01-14T19:48:49.350Z"
   },
   {
    "duration": 5,
    "start_time": "2022-01-14T19:48:49.357Z"
   },
   {
    "duration": 5,
    "start_time": "2022-01-14T19:48:49.364Z"
   },
   {
    "duration": 29,
    "start_time": "2022-01-14T19:48:49.370Z"
   },
   {
    "duration": 41,
    "start_time": "2022-01-14T19:48:49.401Z"
   },
   {
    "duration": 4,
    "start_time": "2022-01-14T19:48:49.444Z"
   },
   {
    "duration": 5,
    "start_time": "2022-01-14T19:48:49.450Z"
   },
   {
    "duration": 3,
    "start_time": "2022-01-14T19:48:56.627Z"
   },
   {
    "duration": 26,
    "start_time": "2022-01-14T19:49:00.397Z"
   },
   {
    "duration": 4,
    "start_time": "2022-01-14T19:49:41.233Z"
   },
   {
    "duration": 8,
    "start_time": "2022-01-14T19:49:42.999Z"
   },
   {
    "duration": 25,
    "start_time": "2022-01-14T19:49:47.098Z"
   },
   {
    "duration": 20,
    "start_time": "2022-01-14T19:52:27.568Z"
   },
   {
    "duration": 27,
    "start_time": "2022-01-14T19:52:53.921Z"
   },
   {
    "duration": 685,
    "start_time": "2022-01-16T19:07:36.111Z"
   },
   {
    "duration": 73,
    "start_time": "2022-01-16T19:07:36.799Z"
   },
   {
    "duration": 6,
    "start_time": "2022-01-16T19:07:36.875Z"
   },
   {
    "duration": 9,
    "start_time": "2022-01-16T19:07:36.883Z"
   },
   {
    "duration": 8,
    "start_time": "2022-01-16T19:07:36.894Z"
   },
   {
    "duration": 80,
    "start_time": "2022-01-16T19:07:36.903Z"
   },
   {
    "duration": 2,
    "start_time": "2022-01-16T19:07:36.985Z"
   },
   {
    "duration": 5,
    "start_time": "2022-01-16T19:07:36.989Z"
   },
   {
    "duration": 4,
    "start_time": "2022-01-16T19:07:36.996Z"
   },
   {
    "duration": 27,
    "start_time": "2022-01-16T19:08:06.295Z"
   },
   {
    "duration": 7,
    "start_time": "2022-01-16T19:10:54.822Z"
   },
   {
    "duration": 26,
    "start_time": "2022-01-16T19:11:03.627Z"
   },
   {
    "duration": 23,
    "start_time": "2022-01-16T19:11:12.011Z"
   },
   {
    "duration": 93,
    "start_time": "2022-01-16T19:11:29.657Z"
   },
   {
    "duration": 55,
    "start_time": "2022-01-16T19:11:29.752Z"
   },
   {
    "duration": 4,
    "start_time": "2022-01-16T19:11:29.810Z"
   },
   {
    "duration": 14,
    "start_time": "2022-01-16T19:11:29.816Z"
   },
   {
    "duration": 23,
    "start_time": "2022-01-16T19:11:34.822Z"
   },
   {
    "duration": 22,
    "start_time": "2022-01-16T19:11:57.517Z"
   },
   {
    "duration": 28,
    "start_time": "2022-01-16T19:12:14.803Z"
   },
   {
    "duration": 6,
    "start_time": "2022-01-16T19:14:30.955Z"
   },
   {
    "duration": 1301,
    "start_time": "2022-01-16T19:29:27.258Z"
   },
   {
    "duration": 269,
    "start_time": "2022-01-16T19:32:13.099Z"
   },
   {
    "duration": 264,
    "start_time": "2022-01-16T19:33:18.043Z"
   },
   {
    "duration": 101,
    "start_time": "2022-01-16T19:33:35.089Z"
   },
   {
    "duration": 70,
    "start_time": "2022-01-16T19:33:35.193Z"
   },
   {
    "duration": 5,
    "start_time": "2022-01-16T19:33:35.266Z"
   },
   {
    "duration": 33,
    "start_time": "2022-01-16T19:33:35.273Z"
   },
   {
    "duration": 29,
    "start_time": "2022-01-16T19:33:35.308Z"
   },
   {
    "duration": 280,
    "start_time": "2022-01-16T19:33:42.698Z"
   },
   {
    "duration": 273,
    "start_time": "2022-01-16T19:34:10.508Z"
   },
   {
    "duration": 250,
    "start_time": "2022-01-16T19:34:45.663Z"
   },
   {
    "duration": 267,
    "start_time": "2022-01-16T19:35:05.292Z"
   },
   {
    "duration": 349,
    "start_time": "2022-01-16T19:35:18.585Z"
   },
   {
    "duration": 2033,
    "start_time": "2022-01-16T19:35:47.593Z"
   },
   {
    "duration": 29,
    "start_time": "2022-01-16T19:38:08.880Z"
   },
   {
    "duration": 5,
    "start_time": "2022-01-16T19:39:23.767Z"
   },
   {
    "duration": 7,
    "start_time": "2022-01-16T19:46:16.933Z"
   },
   {
    "duration": 9,
    "start_time": "2022-01-16T19:47:07.665Z"
   },
   {
    "duration": 5,
    "start_time": "2022-01-16T19:47:15.040Z"
   },
   {
    "duration": 23,
    "start_time": "2022-01-16T19:49:50.357Z"
   },
   {
    "duration": 5,
    "start_time": "2022-01-16T19:52:18.814Z"
   },
   {
    "duration": 4,
    "start_time": "2022-01-16T19:52:29.035Z"
   },
   {
    "duration": 34,
    "start_time": "2022-01-16T19:53:42.373Z"
   },
   {
    "duration": 247,
    "start_time": "2022-01-16T19:54:07.773Z"
   },
   {
    "duration": 249,
    "start_time": "2022-01-16T19:54:35.884Z"
   },
   {
    "duration": 6838,
    "start_time": "2022-01-16T19:54:42.650Z"
   },
   {
    "duration": 15,
    "start_time": "2022-01-16T19:55:09.226Z"
   },
   {
    "duration": 86,
    "start_time": "2022-01-16T19:56:22.562Z"
   },
   {
    "duration": 271,
    "start_time": "2022-01-16T19:56:31.897Z"
   },
   {
    "duration": 9,
    "start_time": "2022-01-16T19:58:25.761Z"
   },
   {
    "duration": 275,
    "start_time": "2022-01-16T19:59:52.687Z"
   },
   {
    "duration": 6,
    "start_time": "2022-01-16T20:00:49.092Z"
   },
   {
    "duration": 6,
    "start_time": "2022-01-16T20:02:02.830Z"
   },
   {
    "duration": 5,
    "start_time": "2022-01-16T20:02:14.462Z"
   },
   {
    "duration": 6,
    "start_time": "2022-01-16T20:02:33.246Z"
   },
   {
    "duration": 7,
    "start_time": "2022-01-16T20:03:24.917Z"
   },
   {
    "duration": 7,
    "start_time": "2022-01-16T20:11:51.152Z"
   },
   {
    "duration": 7,
    "start_time": "2022-01-16T20:20:16.974Z"
   },
   {
    "duration": 34,
    "start_time": "2022-01-16T20:20:56.117Z"
   },
   {
    "duration": 31,
    "start_time": "2022-01-16T20:21:23.051Z"
   },
   {
    "duration": 5,
    "start_time": "2022-01-16T20:23:39.013Z"
   },
   {
    "duration": 36,
    "start_time": "2022-01-16T20:23:48.155Z"
   },
   {
    "duration": 7,
    "start_time": "2022-01-16T20:24:07.548Z"
   },
   {
    "duration": 7,
    "start_time": "2022-01-16T20:24:49.307Z"
   },
   {
    "duration": 6,
    "start_time": "2022-01-16T20:25:36.075Z"
   },
   {
    "duration": 8,
    "start_time": "2022-01-16T20:25:54.136Z"
   },
   {
    "duration": 13,
    "start_time": "2022-01-16T20:26:16.908Z"
   },
   {
    "duration": 12,
    "start_time": "2022-01-16T20:26:31.045Z"
   },
   {
    "duration": 8,
    "start_time": "2022-01-16T20:28:10.525Z"
   },
   {
    "duration": 18,
    "start_time": "2022-01-16T20:28:31.362Z"
   },
   {
    "duration": 1283,
    "start_time": "2022-01-16T20:29:55.070Z"
   },
   {
    "duration": 1270,
    "start_time": "2022-01-16T20:30:26.938Z"
   },
   {
    "duration": 1630,
    "start_time": "2022-01-16T20:30:59.034Z"
   },
   {
    "duration": 30,
    "start_time": "2022-01-16T20:31:23.961Z"
   },
   {
    "duration": 1288,
    "start_time": "2022-01-16T20:32:31.761Z"
   },
   {
    "duration": 96,
    "start_time": "2022-01-16T20:32:43.410Z"
   },
   {
    "duration": 29,
    "start_time": "2022-01-16T20:32:43.508Z"
   },
   {
    "duration": 59,
    "start_time": "2022-01-16T20:32:43.539Z"
   },
   {
    "duration": 5,
    "start_time": "2022-01-16T20:32:43.600Z"
   },
   {
    "duration": 81,
    "start_time": "2022-01-16T20:32:43.606Z"
   },
   {
    "duration": 27,
    "start_time": "2022-01-16T20:32:43.689Z"
   },
   {
    "duration": 11,
    "start_time": "2022-01-16T20:32:43.718Z"
   },
   {
    "duration": 1206,
    "start_time": "2022-01-16T20:32:52.676Z"
   },
   {
    "duration": 1261,
    "start_time": "2022-01-16T20:33:50.880Z"
   },
   {
    "duration": 98,
    "start_time": "2022-01-16T20:34:24.574Z"
   },
   {
    "duration": 24,
    "start_time": "2022-01-16T20:34:24.674Z"
   },
   {
    "duration": 80,
    "start_time": "2022-01-16T20:34:24.700Z"
   },
   {
    "duration": 6,
    "start_time": "2022-01-16T20:34:24.782Z"
   },
   {
    "duration": 23,
    "start_time": "2022-01-16T20:34:24.790Z"
   },
   {
    "duration": 62,
    "start_time": "2022-01-16T20:34:24.815Z"
   },
   {
    "duration": 10,
    "start_time": "2022-01-16T20:34:24.879Z"
   },
   {
    "duration": 1205,
    "start_time": "2022-01-16T20:34:28.107Z"
   },
   {
    "duration": 96,
    "start_time": "2022-01-16T20:38:45.153Z"
   },
   {
    "duration": 30,
    "start_time": "2022-01-16T20:38:45.251Z"
   },
   {
    "duration": 78,
    "start_time": "2022-01-16T20:38:45.284Z"
   },
   {
    "duration": 5,
    "start_time": "2022-01-16T20:38:45.364Z"
   },
   {
    "duration": 26,
    "start_time": "2022-01-16T20:38:45.371Z"
   },
   {
    "duration": 26,
    "start_time": "2022-01-16T20:38:45.399Z"
   },
   {
    "duration": 40,
    "start_time": "2022-01-16T20:38:45.427Z"
   },
   {
    "duration": 1070,
    "start_time": "2022-01-16T20:39:39.453Z"
   },
   {
    "duration": 1026,
    "start_time": "2022-01-16T20:41:04.406Z"
   },
   {
    "duration": 550,
    "start_time": "2022-01-16T20:44:04.884Z"
   },
   {
    "duration": 426,
    "start_time": "2022-01-16T20:44:19.476Z"
   },
   {
    "duration": 441,
    "start_time": "2022-01-16T20:44:30.578Z"
   },
   {
    "duration": 20,
    "start_time": "2022-01-16T20:46:48.709Z"
   },
   {
    "duration": 93,
    "start_time": "2022-01-16T20:46:52.733Z"
   },
   {
    "duration": 24,
    "start_time": "2022-01-16T20:46:52.828Z"
   },
   {
    "duration": 38,
    "start_time": "2022-01-16T20:46:52.861Z"
   },
   {
    "duration": 6,
    "start_time": "2022-01-16T20:46:52.901Z"
   },
   {
    "duration": 25,
    "start_time": "2022-01-16T20:46:52.962Z"
   },
   {
    "duration": 28,
    "start_time": "2022-01-16T20:46:52.990Z"
   },
   {
    "duration": 62,
    "start_time": "2022-01-16T20:46:53.021Z"
   },
   {
    "duration": 5,
    "start_time": "2022-01-16T20:47:22.929Z"
   },
   {
    "duration": 7,
    "start_time": "2022-01-16T20:47:42.033Z"
   },
   {
    "duration": 6,
    "start_time": "2022-01-16T20:48:30.574Z"
   },
   {
    "duration": 14,
    "start_time": "2022-01-16T20:48:41.457Z"
   },
   {
    "duration": 491,
    "start_time": "2022-01-16T20:49:03.468Z"
   },
   {
    "duration": 252,
    "start_time": "2022-01-16T20:49:41.801Z"
   },
   {
    "duration": 1203,
    "start_time": "2022-01-16T20:50:21.179Z"
   },
   {
    "duration": 253,
    "start_time": "2022-01-16T20:53:23.704Z"
   },
   {
    "duration": 8,
    "start_time": "2022-01-16T20:53:36.928Z"
   },
   {
    "duration": 32,
    "start_time": "2022-01-16T20:54:04.231Z"
   },
   {
    "duration": 1122,
    "start_time": "2022-01-16T20:54:24.545Z"
   },
   {
    "duration": 1110,
    "start_time": "2022-01-16T20:54:48.974Z"
   },
   {
    "duration": 1525,
    "start_time": "2022-01-16T21:06:15.250Z"
   },
   {
    "duration": 1952,
    "start_time": "2022-01-16T21:09:12.512Z"
   },
   {
    "duration": 1057,
    "start_time": "2022-01-16T21:09:41.143Z"
   },
   {
    "duration": 913,
    "start_time": "2022-01-16T21:10:16.200Z"
   },
   {
    "duration": 149,
    "start_time": "2022-01-16T21:10:40.379Z"
   },
   {
    "duration": 772,
    "start_time": "2022-01-16T21:10:49.664Z"
   },
   {
    "duration": 96,
    "start_time": "2022-01-16T21:11:25.791Z"
   },
   {
    "duration": 23,
    "start_time": "2022-01-16T21:11:25.889Z"
   },
   {
    "duration": 61,
    "start_time": "2022-01-16T21:11:25.914Z"
   },
   {
    "duration": 5,
    "start_time": "2022-01-16T21:11:25.977Z"
   },
   {
    "duration": 26,
    "start_time": "2022-01-16T21:11:25.984Z"
   },
   {
    "duration": 61,
    "start_time": "2022-01-16T21:11:26.012Z"
   },
   {
    "duration": 32,
    "start_time": "2022-01-16T21:11:26.075Z"
   },
   {
    "duration": 2,
    "start_time": "2022-01-16T21:11:26.108Z"
   },
   {
    "duration": 797,
    "start_time": "2022-01-16T21:11:35.999Z"
   },
   {
    "duration": 780,
    "start_time": "2022-01-16T21:12:37.919Z"
   },
   {
    "duration": 829,
    "start_time": "2022-01-16T21:12:45.999Z"
   },
   {
    "duration": 847,
    "start_time": "2022-01-16T21:13:59.927Z"
   },
   {
    "duration": 97,
    "start_time": "2022-01-16T21:14:13.993Z"
   },
   {
    "duration": 24,
    "start_time": "2022-01-16T21:14:14.092Z"
   },
   {
    "duration": 58,
    "start_time": "2022-01-16T21:14:14.118Z"
   },
   {
    "duration": 5,
    "start_time": "2022-01-16T21:14:14.178Z"
   },
   {
    "duration": 25,
    "start_time": "2022-01-16T21:14:14.184Z"
   },
   {
    "duration": 65,
    "start_time": "2022-01-16T21:14:14.211Z"
   },
   {
    "duration": 31,
    "start_time": "2022-01-16T21:14:14.278Z"
   },
   {
    "duration": 2,
    "start_time": "2022-01-16T21:14:14.311Z"
   },
   {
    "duration": 775,
    "start_time": "2022-01-16T21:14:16.247Z"
   },
   {
    "duration": 524,
    "start_time": "2022-01-16T21:15:02.765Z"
   },
   {
    "duration": 819,
    "start_time": "2022-01-16T21:16:34.060Z"
   },
   {
    "duration": 2,
    "start_time": "2022-01-16T21:17:58.412Z"
   },
   {
    "duration": 984,
    "start_time": "2022-01-16T21:18:24.518Z"
   },
   {
    "duration": 98,
    "start_time": "2022-01-16T21:21:47.843Z"
   },
   {
    "duration": 530,
    "start_time": "2022-01-16T21:22:12.778Z"
   },
   {
    "duration": 8384,
    "start_time": "2022-01-16T21:22:28.146Z"
   },
   {
    "duration": 103,
    "start_time": "2022-01-16T21:23:31.080Z"
   },
   {
    "duration": 25,
    "start_time": "2022-01-16T21:23:31.185Z"
   },
   {
    "duration": 70,
    "start_time": "2022-01-16T21:23:31.212Z"
   },
   {
    "duration": 5,
    "start_time": "2022-01-16T21:23:31.284Z"
   },
   {
    "duration": 31,
    "start_time": "2022-01-16T21:23:31.290Z"
   },
   {
    "duration": 70,
    "start_time": "2022-01-16T21:23:31.322Z"
   },
   {
    "duration": 30,
    "start_time": "2022-01-16T21:23:31.394Z"
   },
   {
    "duration": 37,
    "start_time": "2022-01-16T21:23:31.426Z"
   },
   {
    "duration": 8943,
    "start_time": "2022-01-16T21:23:32.947Z"
   },
   {
    "duration": 1119,
    "start_time": "2022-01-16T21:23:53.972Z"
   },
   {
    "duration": 17,
    "start_time": "2022-01-16T21:24:54.642Z"
   },
   {
    "duration": 16,
    "start_time": "2022-01-16T21:25:04.392Z"
   },
   {
    "duration": 264,
    "start_time": "2022-01-16T21:25:45.944Z"
   },
   {
    "duration": 103,
    "start_time": "2022-01-16T21:26:02.958Z"
   },
   {
    "duration": 31,
    "start_time": "2022-01-16T21:26:03.063Z"
   },
   {
    "duration": 76,
    "start_time": "2022-01-16T21:26:03.097Z"
   },
   {
    "duration": 6,
    "start_time": "2022-01-16T21:26:03.175Z"
   },
   {
    "duration": 31,
    "start_time": "2022-01-16T21:26:03.183Z"
   },
   {
    "duration": 65,
    "start_time": "2022-01-16T21:26:03.216Z"
   },
   {
    "duration": 2,
    "start_time": "2022-01-16T21:26:03.283Z"
   },
   {
    "duration": 8,
    "start_time": "2022-01-16T21:26:03.286Z"
   },
   {
    "duration": 1034,
    "start_time": "2022-01-16T21:26:03.296Z"
   },
   {
    "duration": 9,
    "start_time": "2022-01-16T21:26:14.497Z"
   },
   {
    "duration": 8,
    "start_time": "2022-01-16T21:26:57.120Z"
   },
   {
    "duration": 838,
    "start_time": "2022-01-16T21:28:20.588Z"
   },
   {
    "duration": 9,
    "start_time": "2022-01-16T21:28:26.335Z"
   },
   {
    "duration": 9,
    "start_time": "2022-01-16T21:29:49.839Z"
   },
   {
    "duration": 856,
    "start_time": "2022-01-16T21:31:09.007Z"
   },
   {
    "duration": 8,
    "start_time": "2022-01-16T21:31:16.182Z"
   },
   {
    "duration": 7,
    "start_time": "2022-01-16T21:31:21.286Z"
   },
   {
    "duration": 844,
    "start_time": "2022-01-16T21:33:10.277Z"
   },
   {
    "duration": 8,
    "start_time": "2022-01-16T21:33:15.231Z"
   },
   {
    "duration": 13,
    "start_time": "2022-01-16T21:33:18.463Z"
   },
   {
    "duration": 766,
    "start_time": "2022-01-16T21:36:13.325Z"
   },
   {
    "duration": 8,
    "start_time": "2022-01-16T21:36:18.756Z"
   },
   {
    "duration": 7,
    "start_time": "2022-01-16T21:36:27.124Z"
   },
   {
    "duration": 101,
    "start_time": "2022-01-16T21:39:38.015Z"
   },
   {
    "duration": 8,
    "start_time": "2022-01-16T21:39:40.850Z"
   },
   {
    "duration": 8,
    "start_time": "2022-01-16T21:39:42.322Z"
   },
   {
    "duration": 903,
    "start_time": "2022-01-16T21:41:46.521Z"
   },
   {
    "duration": 8,
    "start_time": "2022-01-16T21:41:53.701Z"
   },
   {
    "duration": 8,
    "start_time": "2022-01-16T21:42:09.946Z"
   },
   {
    "duration": 881,
    "start_time": "2022-01-17T06:47:39.899Z"
   },
   {
    "duration": 37,
    "start_time": "2022-01-17T06:47:40.783Z"
   },
   {
    "duration": 79,
    "start_time": "2022-01-17T06:47:40.823Z"
   },
   {
    "duration": 60,
    "start_time": "2022-01-17T06:47:40.905Z"
   },
   {
    "duration": 42,
    "start_time": "2022-01-17T06:47:40.968Z"
   },
   {
    "duration": 69,
    "start_time": "2022-01-17T06:47:41.013Z"
   },
   {
    "duration": 4,
    "start_time": "2022-01-17T06:47:41.085Z"
   },
   {
    "duration": 4,
    "start_time": "2022-01-17T06:47:41.092Z"
   },
   {
    "duration": 1444,
    "start_time": "2022-01-17T06:47:41.100Z"
   },
   {
    "duration": 10,
    "start_time": "2022-01-17T06:47:47.703Z"
   },
   {
    "duration": 131,
    "start_time": "2022-01-17T06:52:43.332Z"
   },
   {
    "duration": 37,
    "start_time": "2022-01-17T06:52:43.465Z"
   },
   {
    "duration": 82,
    "start_time": "2022-01-17T06:52:43.505Z"
   },
   {
    "duration": 6,
    "start_time": "2022-01-17T06:52:43.590Z"
   },
   {
    "duration": 84,
    "start_time": "2022-01-17T06:52:43.598Z"
   },
   {
    "duration": 43,
    "start_time": "2022-01-17T06:52:43.685Z"
   },
   {
    "duration": 1429,
    "start_time": "2022-01-17T06:52:43.730Z"
   },
   {
    "duration": 9,
    "start_time": "2022-01-17T06:52:45.161Z"
   },
   {
    "duration": 4,
    "start_time": "2022-01-17T06:52:45.173Z"
   },
   {
    "duration": 6,
    "start_time": "2022-01-17T06:52:45.179Z"
   },
   {
    "duration": 9,
    "start_time": "2022-01-17T06:55:03.112Z"
   },
   {
    "duration": 793,
    "start_time": "2022-01-17T07:05:00.806Z"
   },
   {
    "duration": 282,
    "start_time": "2022-01-17T07:05:41.306Z"
   },
   {
    "duration": 520,
    "start_time": "2022-01-17T07:05:58.606Z"
   },
   {
    "duration": 541,
    "start_time": "2022-01-17T07:06:28.897Z"
   },
   {
    "duration": 528,
    "start_time": "2022-01-17T07:12:30.498Z"
   },
   {
    "duration": 381,
    "start_time": "2022-01-17T07:12:48.107Z"
   },
   {
    "duration": 2964,
    "start_time": "2022-01-17T07:12:58.112Z"
   },
   {
    "duration": 606,
    "start_time": "2022-01-17T07:13:11.956Z"
   },
   {
    "duration": 271,
    "start_time": "2022-01-17T07:13:36.505Z"
   },
   {
    "duration": 516,
    "start_time": "2022-01-17T07:13:44.053Z"
   },
   {
    "duration": 563,
    "start_time": "2022-01-17T07:14:24.353Z"
   },
   {
    "duration": 3494,
    "start_time": "2022-01-17T07:14:55.678Z"
   },
   {
    "duration": 551,
    "start_time": "2022-01-17T07:15:28.604Z"
   },
   {
    "duration": 545,
    "start_time": "2022-01-17T07:16:36.347Z"
   },
   {
    "duration": 346,
    "start_time": "2022-01-17T07:16:44.859Z"
   },
   {
    "duration": 530,
    "start_time": "2022-01-17T07:16:53.573Z"
   },
   {
    "duration": 401,
    "start_time": "2022-01-17T07:17:12.826Z"
   },
   {
    "duration": 338,
    "start_time": "2022-01-17T07:17:30.213Z"
   },
   {
    "duration": 700,
    "start_time": "2022-01-17T07:18:10.114Z"
   },
   {
    "duration": 338,
    "start_time": "2022-01-17T07:18:21.573Z"
   },
   {
    "duration": 7,
    "start_time": "2022-01-17T07:18:45.629Z"
   },
   {
    "duration": 6,
    "start_time": "2022-01-17T07:18:53.153Z"
   },
   {
    "duration": 13,
    "start_time": "2022-01-17T07:20:36.153Z"
   },
   {
    "duration": 378,
    "start_time": "2022-01-17T07:22:30.267Z"
   },
   {
    "duration": 346,
    "start_time": "2022-01-17T07:22:40.546Z"
   },
   {
    "duration": 361,
    "start_time": "2022-01-17T07:22:46.473Z"
   },
   {
    "duration": 12,
    "start_time": "2022-01-17T07:23:10.486Z"
   },
   {
    "duration": 343,
    "start_time": "2022-01-17T07:29:21.593Z"
   },
   {
    "duration": 521,
    "start_time": "2022-01-17T07:29:47.775Z"
   },
   {
    "duration": 282,
    "start_time": "2022-01-17T07:29:54.674Z"
   },
   {
    "duration": 538,
    "start_time": "2022-01-17T07:30:02.200Z"
   },
   {
    "duration": 437,
    "start_time": "2022-01-17T07:32:18.894Z"
   },
   {
    "duration": 357,
    "start_time": "2022-01-17T07:32:28.333Z"
   },
   {
    "duration": 13,
    "start_time": "2022-01-17T07:32:48.493Z"
   },
   {
    "duration": 550,
    "start_time": "2022-01-17T07:33:37.117Z"
   },
   {
    "duration": 719,
    "start_time": "2022-01-17T07:35:03.802Z"
   },
   {
    "duration": 14,
    "start_time": "2022-01-17T07:36:30.753Z"
   },
   {
    "duration": 559,
    "start_time": "2022-01-17T07:37:29.527Z"
   },
   {
    "duration": 14,
    "start_time": "2022-01-17T07:37:51.353Z"
   },
   {
    "duration": 554,
    "start_time": "2022-01-17T07:38:05.323Z"
   },
   {
    "duration": 3133,
    "start_time": "2022-01-17T07:38:20.284Z"
   },
   {
    "duration": 564,
    "start_time": "2022-01-17T07:38:33.424Z"
   },
   {
    "duration": 11,
    "start_time": "2022-01-17T07:38:57.055Z"
   },
   {
    "duration": 582,
    "start_time": "2022-01-17T07:38:57.069Z"
   },
   {
    "duration": 12,
    "start_time": "2022-01-17T07:39:30.067Z"
   },
   {
    "duration": 515,
    "start_time": "2022-01-17T07:39:58.737Z"
   },
   {
    "duration": 548,
    "start_time": "2022-01-17T07:40:24.075Z"
   },
   {
    "duration": 528,
    "start_time": "2022-01-17T07:40:42.024Z"
   },
   {
    "duration": 528,
    "start_time": "2022-01-17T07:40:54.353Z"
   },
   {
    "duration": 3312,
    "start_time": "2022-01-17T07:41:06.927Z"
   },
   {
    "duration": 550,
    "start_time": "2022-01-17T07:41:20.452Z"
   },
   {
    "duration": 862,
    "start_time": "2022-01-17T07:41:32.273Z"
   },
   {
    "duration": 543,
    "start_time": "2022-01-17T07:41:51.653Z"
   },
   {
    "duration": 598,
    "start_time": "2022-01-17T07:42:06.734Z"
   },
   {
    "duration": 433,
    "start_time": "2022-01-17T07:42:29.473Z"
   },
   {
    "duration": 11,
    "start_time": "2022-01-17T07:42:38.905Z"
   },
   {
    "duration": 318,
    "start_time": "2022-01-17T07:43:09.912Z"
   },
   {
    "duration": 315,
    "start_time": "2022-01-17T07:43:20.010Z"
   },
   {
    "duration": 347,
    "start_time": "2022-01-17T07:43:30.833Z"
   },
   {
    "duration": 5,
    "start_time": "2022-01-17T07:50:49.745Z"
   },
   {
    "duration": 37,
    "start_time": "2022-01-17T07:51:40.397Z"
   },
   {
    "duration": 13,
    "start_time": "2022-01-17T07:52:16.719Z"
   },
   {
    "duration": 37,
    "start_time": "2022-01-17T07:56:12.631Z"
   },
   {
    "duration": 13,
    "start_time": "2022-01-17T07:56:30.669Z"
   },
   {
    "duration": 9,
    "start_time": "2022-01-17T07:56:52.430Z"
   },
   {
    "duration": 10,
    "start_time": "2022-01-17T07:56:59.382Z"
   },
   {
    "duration": 39,
    "start_time": "2022-01-17T07:57:11.175Z"
   },
   {
    "duration": 718,
    "start_time": "2022-01-17T12:17:00.671Z"
   },
   {
    "duration": 32,
    "start_time": "2022-01-17T12:17:01.392Z"
   },
   {
    "duration": 77,
    "start_time": "2022-01-17T12:17:01.427Z"
   },
   {
    "duration": 6,
    "start_time": "2022-01-17T12:17:01.506Z"
   },
   {
    "duration": 26,
    "start_time": "2022-01-17T12:17:01.514Z"
   },
   {
    "duration": 66,
    "start_time": "2022-01-17T12:17:01.542Z"
   },
   {
    "duration": 854,
    "start_time": "2022-01-17T12:17:01.609Z"
   },
   {
    "duration": 4,
    "start_time": "2022-01-17T12:17:02.466Z"
   },
   {
    "duration": 37,
    "start_time": "2022-01-17T12:17:02.471Z"
   },
   {
    "duration": 9,
    "start_time": "2022-01-17T12:17:02.509Z"
   },
   {
    "duration": 491,
    "start_time": "2022-01-17T12:17:02.519Z"
   },
   {
    "duration": 8,
    "start_time": "2022-01-17T12:17:03.012Z"
   },
   {
    "duration": 390,
    "start_time": "2022-01-17T12:17:03.021Z"
   },
   {
    "duration": 8,
    "start_time": "2022-01-17T12:17:03.413Z"
   },
   {
    "duration": 239,
    "start_time": "2022-01-17T12:17:03.423Z"
   },
   {
    "duration": 9,
    "start_time": "2022-01-17T12:17:03.664Z"
   },
   {
    "duration": 298,
    "start_time": "2022-01-17T12:17:03.675Z"
   },
   {
    "duration": 248,
    "start_time": "2022-01-17T12:22:06.352Z"
   },
   {
    "duration": 4,
    "start_time": "2022-01-17T12:23:11.721Z"
   },
   {
    "duration": 25,
    "start_time": "2022-01-17T12:23:20.287Z"
   },
   {
    "duration": 175,
    "start_time": "2022-01-17T12:25:05.013Z"
   },
   {
    "duration": 182,
    "start_time": "2022-01-17T12:33:02.140Z"
   },
   {
    "duration": 4,
    "start_time": "2022-01-17T12:33:18.779Z"
   },
   {
    "duration": 171,
    "start_time": "2022-01-17T12:37:50.628Z"
   },
   {
    "duration": 9,
    "start_time": "2022-01-17T12:42:18.591Z"
   },
   {
    "duration": 41,
    "start_time": "2022-01-17T12:42:21.224Z"
   },
   {
    "duration": 103,
    "start_time": "2022-01-17T12:42:23.713Z"
   },
   {
    "duration": 25,
    "start_time": "2022-01-17T12:42:23.817Z"
   },
   {
    "duration": 66,
    "start_time": "2022-01-17T12:42:23.844Z"
   },
   {
    "duration": 5,
    "start_time": "2022-01-17T12:42:23.913Z"
   },
   {
    "duration": 24,
    "start_time": "2022-01-17T12:42:23.920Z"
   },
   {
    "duration": 75,
    "start_time": "2022-01-17T12:42:23.946Z"
   },
   {
    "duration": 825,
    "start_time": "2022-01-17T12:42:24.023Z"
   },
   {
    "duration": 4,
    "start_time": "2022-01-17T12:42:24.850Z"
   },
   {
    "duration": 41,
    "start_time": "2022-01-17T12:42:24.856Z"
   },
   {
    "duration": 11,
    "start_time": "2022-01-17T12:42:24.899Z"
   },
   {
    "duration": 381,
    "start_time": "2022-01-17T12:42:24.912Z"
   },
   {
    "duration": 9,
    "start_time": "2022-01-17T12:42:25.294Z"
   },
   {
    "duration": 424,
    "start_time": "2022-01-17T12:42:25.305Z"
   },
   {
    "duration": 8,
    "start_time": "2022-01-17T12:42:25.731Z"
   },
   {
    "duration": 233,
    "start_time": "2022-01-17T12:42:25.741Z"
   },
   {
    "duration": 19,
    "start_time": "2022-01-17T12:42:25.977Z"
   },
   {
    "duration": 290,
    "start_time": "2022-01-17T12:42:25.998Z"
   },
   {
    "duration": 690,
    "start_time": "2022-01-17T17:03:36.602Z"
   },
   {
    "duration": 32,
    "start_time": "2022-01-17T17:03:37.294Z"
   },
   {
    "duration": 80,
    "start_time": "2022-01-17T17:03:37.328Z"
   },
   {
    "duration": 6,
    "start_time": "2022-01-17T17:03:37.409Z"
   },
   {
    "duration": 24,
    "start_time": "2022-01-17T17:03:37.416Z"
   },
   {
    "duration": 55,
    "start_time": "2022-01-17T17:03:37.442Z"
   },
   {
    "duration": 832,
    "start_time": "2022-01-17T17:03:37.499Z"
   },
   {
    "duration": 3,
    "start_time": "2022-01-17T17:03:38.334Z"
   },
   {
    "duration": 25,
    "start_time": "2022-01-17T17:03:38.339Z"
   },
   {
    "duration": 26,
    "start_time": "2022-01-17T17:03:38.366Z"
   },
   {
    "duration": 501,
    "start_time": "2022-01-17T17:03:38.394Z"
   },
   {
    "duration": 11,
    "start_time": "2022-01-17T17:03:38.898Z"
   },
   {
    "duration": 373,
    "start_time": "2022-01-17T17:03:38.911Z"
   },
   {
    "duration": 12,
    "start_time": "2022-01-17T17:03:39.286Z"
   },
   {
    "duration": 245,
    "start_time": "2022-01-17T17:03:39.300Z"
   },
   {
    "duration": 9,
    "start_time": "2022-01-17T17:03:39.547Z"
   },
   {
    "duration": 289,
    "start_time": "2022-01-17T17:03:39.558Z"
   },
   {
    "duration": 281,
    "start_time": "2022-01-17T17:23:36.192Z"
   },
   {
    "duration": 283,
    "start_time": "2022-01-17T17:23:58.863Z"
   },
   {
    "duration": 216,
    "start_time": "2022-01-17T17:24:43.719Z"
   },
   {
    "duration": 366,
    "start_time": "2022-01-17T17:25:19.472Z"
   },
   {
    "duration": 423,
    "start_time": "2022-01-17T17:25:45.344Z"
   },
   {
    "duration": 106,
    "start_time": "2022-01-17T17:28:21.122Z"
   },
   {
    "duration": 26,
    "start_time": "2022-01-17T17:28:21.230Z"
   },
   {
    "duration": 57,
    "start_time": "2022-01-17T17:28:21.258Z"
   },
   {
    "duration": 5,
    "start_time": "2022-01-17T17:28:21.317Z"
   },
   {
    "duration": 29,
    "start_time": "2022-01-17T17:28:21.324Z"
   },
   {
    "duration": 63,
    "start_time": "2022-01-17T17:28:21.354Z"
   },
   {
    "duration": 830,
    "start_time": "2022-01-17T17:28:21.418Z"
   },
   {
    "duration": 3,
    "start_time": "2022-01-17T17:28:22.251Z"
   },
   {
    "duration": 36,
    "start_time": "2022-01-17T17:28:22.256Z"
   },
   {
    "duration": 357,
    "start_time": "2022-01-17T17:28:22.294Z"
   },
   {
    "duration": 367,
    "start_time": "2022-01-17T17:28:22.653Z"
   },
   {
    "duration": 240,
    "start_time": "2022-01-17T17:28:23.022Z"
   },
   {
    "duration": 286,
    "start_time": "2022-01-17T17:28:23.264Z"
   },
   {
    "duration": 26,
    "start_time": "2022-01-17T17:30:08.397Z"
   },
   {
    "duration": 9,
    "start_time": "2022-01-17T17:32:09.148Z"
   },
   {
    "duration": 468,
    "start_time": "2022-01-17T17:33:12.223Z"
   },
   {
    "duration": 334,
    "start_time": "2022-01-17T17:34:14.114Z"
   },
   {
    "duration": 344,
    "start_time": "2022-01-17T17:34:31.026Z"
   },
   {
    "duration": 355,
    "start_time": "2022-01-17T17:34:44.585Z"
   },
   {
    "duration": 62,
    "start_time": "2022-01-17T17:43:29.045Z"
   },
   {
    "duration": 360,
    "start_time": "2022-01-17T17:43:34.709Z"
   },
   {
    "duration": 371,
    "start_time": "2022-01-17T17:43:49.317Z"
   },
   {
    "duration": 482,
    "start_time": "2022-01-17T17:47:36.852Z"
   },
   {
    "duration": 360,
    "start_time": "2022-01-17T17:47:57.364Z"
   },
   {
    "duration": 393,
    "start_time": "2022-01-17T17:51:21.622Z"
   },
   {
    "duration": 376,
    "start_time": "2022-01-17T17:55:49.886Z"
   },
   {
    "duration": 230,
    "start_time": "2022-01-17T18:21:23.326Z"
   },
   {
    "duration": 4433,
    "start_time": "2022-01-17T18:21:34.880Z"
   },
   {
    "duration": 10,
    "start_time": "2022-01-17T18:22:18.466Z"
   },
   {
    "duration": 4799,
    "start_time": "2022-01-17T18:22:38.161Z"
   },
   {
    "duration": 668,
    "start_time": "2022-01-17T18:22:58.836Z"
   },
   {
    "duration": 344,
    "start_time": "2022-01-17T18:23:24.281Z"
   },
   {
    "duration": 339,
    "start_time": "2022-01-17T18:25:40.193Z"
   },
   {
    "duration": 39,
    "start_time": "2022-01-17T18:27:21.498Z"
   },
   {
    "duration": 25,
    "start_time": "2022-01-17T19:02:49.783Z"
   },
   {
    "duration": 41652,
    "start_time": "2022-01-17T19:04:06.786Z"
   },
   {
    "duration": 207,
    "start_time": "2022-01-17T19:06:39.715Z"
   },
   {
    "duration": 25,
    "start_time": "2022-01-17T19:06:52.686Z"
   },
   {
    "duration": 245,
    "start_time": "2022-01-17T19:09:37.414Z"
   },
   {
    "duration": 17,
    "start_time": "2022-01-17T19:09:45.853Z"
   },
   {
    "duration": 17,
    "start_time": "2022-01-17T19:10:46.805Z"
   },
   {
    "duration": 15,
    "start_time": "2022-01-17T19:10:56.085Z"
   },
   {
    "duration": 23,
    "start_time": "2022-01-17T19:11:07.236Z"
   },
   {
    "duration": 1115,
    "start_time": "2022-01-17T19:12:08.212Z"
   },
   {
    "duration": 278,
    "start_time": "2022-01-17T19:12:49.084Z"
   },
   {
    "duration": 13,
    "start_time": "2022-01-17T19:18:19.794Z"
   },
   {
    "duration": 217,
    "start_time": "2022-01-17T19:18:31.097Z"
   },
   {
    "duration": 253,
    "start_time": "2022-01-17T19:37:17.491Z"
   },
   {
    "duration": 206,
    "start_time": "2022-01-17T19:38:17.571Z"
   },
   {
    "duration": 192,
    "start_time": "2022-01-17T19:38:40.312Z"
   },
   {
    "duration": 203,
    "start_time": "2022-01-17T19:39:12.625Z"
   },
   {
    "duration": 269,
    "start_time": "2022-01-17T19:39:41.280Z"
   },
   {
    "duration": 442,
    "start_time": "2022-01-17T19:41:27.486Z"
   },
   {
    "duration": 193,
    "start_time": "2022-01-17T19:41:52.384Z"
   },
   {
    "duration": 211,
    "start_time": "2022-01-17T19:42:04.497Z"
   },
   {
    "duration": 9,
    "start_time": "2022-01-17T19:43:05.544Z"
   },
   {
    "duration": 169,
    "start_time": "2022-01-17T19:43:38.688Z"
   },
   {
    "duration": 8,
    "start_time": "2022-01-17T19:43:43.102Z"
   },
   {
    "duration": 55,
    "start_time": "2022-01-17T19:48:18.005Z"
   },
   {
    "duration": 867,
    "start_time": "2022-01-17T19:48:33.651Z"
   },
   {
    "duration": 354,
    "start_time": "2022-01-17T19:48:53.139Z"
   },
   {
    "duration": 5,
    "start_time": "2022-01-17T19:52:56.827Z"
   },
   {
    "duration": 5,
    "start_time": "2022-01-17T19:53:18.874Z"
   },
   {
    "duration": 223,
    "start_time": "2022-01-17T19:53:55.507Z"
   },
   {
    "duration": 8,
    "start_time": "2022-01-17T19:54:49.723Z"
   },
   {
    "duration": 7,
    "start_time": "2022-01-17T19:55:05.834Z"
   },
   {
    "duration": 55,
    "start_time": "2022-01-17T19:56:02.178Z"
   },
   {
    "duration": 229,
    "start_time": "2022-01-17T19:56:15.792Z"
   },
   {
    "duration": 181,
    "start_time": "2022-01-17T19:58:20.999Z"
   },
   {
    "duration": 9,
    "start_time": "2022-01-17T20:00:18.215Z"
   },
   {
    "duration": 5,
    "start_time": "2022-01-17T20:03:13.146Z"
   },
   {
    "duration": 5,
    "start_time": "2022-01-17T20:03:22.420Z"
   },
   {
    "duration": 11,
    "start_time": "2022-01-17T20:03:40.022Z"
   },
   {
    "duration": 219,
    "start_time": "2022-01-17T20:04:33.326Z"
   },
   {
    "duration": 221,
    "start_time": "2022-01-17T20:05:15.302Z"
   },
   {
    "duration": 272,
    "start_time": "2022-01-17T20:05:29.997Z"
   },
   {
    "duration": 222,
    "start_time": "2022-01-17T20:06:01.884Z"
   },
   {
    "duration": 216,
    "start_time": "2022-01-17T20:06:20.252Z"
   },
   {
    "duration": 241,
    "start_time": "2022-01-17T20:06:37.470Z"
   },
   {
    "duration": 217,
    "start_time": "2022-01-17T20:08:03.125Z"
   },
   {
    "duration": 6,
    "start_time": "2022-01-17T20:08:37.723Z"
   },
   {
    "duration": 186,
    "start_time": "2022-01-17T20:14:39.312Z"
   },
   {
    "duration": 222,
    "start_time": "2022-01-17T20:14:50.848Z"
   },
   {
    "duration": 206,
    "start_time": "2022-01-17T20:15:17.784Z"
   },
   {
    "duration": 226,
    "start_time": "2022-01-17T20:16:09.249Z"
   },
   {
    "duration": 1203,
    "start_time": "2022-01-17T20:24:01.245Z"
   },
   {
    "duration": 50,
    "start_time": "2022-01-17T20:25:13.172Z"
   },
   {
    "duration": 115,
    "start_time": "2022-01-17T20:25:37.987Z"
   },
   {
    "duration": 201,
    "start_time": "2022-01-17T20:25:42.315Z"
   },
   {
    "duration": 165,
    "start_time": "2022-01-17T20:26:02.467Z"
   },
   {
    "duration": 243,
    "start_time": "2022-01-17T20:26:18.596Z"
   },
   {
    "duration": 226,
    "start_time": "2022-01-17T20:27:20.082Z"
   },
   {
    "duration": 184,
    "start_time": "2022-01-17T20:28:11.298Z"
   },
   {
    "duration": 240,
    "start_time": "2022-01-17T20:29:24.392Z"
   },
   {
    "duration": 228,
    "start_time": "2022-01-17T20:30:07.522Z"
   },
   {
    "duration": 99,
    "start_time": "2022-01-17T20:30:51.146Z"
   },
   {
    "duration": 43,
    "start_time": "2022-01-17T20:30:51.248Z"
   },
   {
    "duration": 32,
    "start_time": "2022-01-17T20:30:51.294Z"
   },
   {
    "duration": 6,
    "start_time": "2022-01-17T20:30:51.327Z"
   },
   {
    "duration": 71,
    "start_time": "2022-01-17T20:30:51.335Z"
   },
   {
    "duration": 28,
    "start_time": "2022-01-17T20:30:51.407Z"
   },
   {
    "duration": 785,
    "start_time": "2022-01-17T20:30:51.444Z"
   },
   {
    "duration": 4,
    "start_time": "2022-01-17T20:30:52.231Z"
   },
   {
    "duration": 25,
    "start_time": "2022-01-17T20:30:52.237Z"
   },
   {
    "duration": 359,
    "start_time": "2022-01-17T20:30:52.264Z"
   },
   {
    "duration": 362,
    "start_time": "2022-01-17T20:30:52.625Z"
   },
   {
    "duration": 231,
    "start_time": "2022-01-17T20:30:52.989Z"
   },
   {
    "duration": 264,
    "start_time": "2022-01-17T20:30:53.222Z"
   },
   {
    "duration": 354,
    "start_time": "2022-01-17T20:30:53.487Z"
   },
   {
    "duration": 350,
    "start_time": "2022-01-17T20:30:53.842Z"
   },
   {
    "duration": 3,
    "start_time": "2022-01-17T20:30:54.193Z"
   },
   {
    "duration": 234,
    "start_time": "2022-01-17T20:30:54.197Z"
   },
   {
    "duration": 5,
    "start_time": "2022-01-17T20:30:54.432Z"
   },
   {
    "duration": 6,
    "start_time": "2022-01-17T20:30:54.438Z"
   },
   {
    "duration": 9,
    "start_time": "2022-01-17T20:30:54.445Z"
   },
   {
    "duration": 188,
    "start_time": "2022-01-17T20:31:22.753Z"
   },
   {
    "duration": 206,
    "start_time": "2022-01-17T20:31:33.857Z"
   },
   {
    "duration": 213,
    "start_time": "2022-01-17T20:31:41.440Z"
   },
   {
    "duration": 212,
    "start_time": "2022-01-17T20:31:47.785Z"
   },
   {
    "duration": 210,
    "start_time": "2022-01-17T20:32:51.864Z"
   },
   {
    "duration": 202,
    "start_time": "2022-01-17T20:33:22.971Z"
   },
   {
    "duration": 228,
    "start_time": "2022-01-17T20:33:35.598Z"
   },
   {
    "duration": 250,
    "start_time": "2022-01-17T20:33:49.646Z"
   },
   {
    "duration": 219,
    "start_time": "2022-01-17T20:34:47.375Z"
   },
   {
    "duration": 239,
    "start_time": "2022-01-17T20:37:32.694Z"
   },
   {
    "duration": 223,
    "start_time": "2022-01-17T20:37:41.070Z"
   },
   {
    "duration": 162,
    "start_time": "2022-01-17T20:39:27.244Z"
   },
   {
    "duration": 230,
    "start_time": "2022-01-17T20:39:47.525Z"
   },
   {
    "duration": 214,
    "start_time": "2022-01-17T20:40:40.077Z"
   },
   {
    "duration": 201,
    "start_time": "2022-01-17T20:41:13.252Z"
   },
   {
    "duration": 292,
    "start_time": "2022-01-17T20:41:47.428Z"
   },
   {
    "duration": 288,
    "start_time": "2022-01-17T20:42:19.812Z"
   },
   {
    "duration": 218,
    "start_time": "2022-01-17T20:42:54.339Z"
   },
   {
    "duration": 189,
    "start_time": "2022-01-17T20:43:32.234Z"
   },
   {
    "duration": 193,
    "start_time": "2022-01-17T20:43:38.914Z"
   },
   {
    "duration": 202,
    "start_time": "2022-01-17T20:43:48.049Z"
   },
   {
    "duration": 204,
    "start_time": "2022-01-17T20:44:09.689Z"
   },
   {
    "duration": 192,
    "start_time": "2022-01-17T20:44:27.764Z"
   },
   {
    "duration": 209,
    "start_time": "2022-01-17T20:47:05.684Z"
   },
   {
    "duration": 189,
    "start_time": "2022-01-17T20:47:23.457Z"
   },
   {
    "duration": 195,
    "start_time": "2022-01-17T20:47:31.121Z"
   },
   {
    "duration": 219,
    "start_time": "2022-01-17T20:47:35.408Z"
   },
   {
    "duration": 193,
    "start_time": "2022-01-17T20:47:42.464Z"
   },
   {
    "duration": 179,
    "start_time": "2022-01-17T20:50:07.016Z"
   },
   {
    "duration": 174,
    "start_time": "2022-01-17T20:50:44.927Z"
   },
   {
    "duration": 817,
    "start_time": "2022-01-17T20:51:14.055Z"
   },
   {
    "duration": 170,
    "start_time": "2022-01-17T20:51:46.759Z"
   },
   {
    "duration": 174,
    "start_time": "2022-01-17T20:52:16.837Z"
   },
   {
    "duration": 200,
    "start_time": "2022-01-17T20:52:21.534Z"
   },
   {
    "duration": 177,
    "start_time": "2022-01-17T20:52:37.774Z"
   },
   {
    "duration": 167,
    "start_time": "2022-01-17T20:52:54.124Z"
   },
   {
    "duration": 173,
    "start_time": "2022-01-17T20:53:11.758Z"
   },
   {
    "duration": 176,
    "start_time": "2022-01-17T20:53:45.206Z"
   },
   {
    "duration": 262,
    "start_time": "2022-01-17T20:56:15.220Z"
   },
   {
    "duration": 261,
    "start_time": "2022-01-17T20:56:25.198Z"
   },
   {
    "duration": 252,
    "start_time": "2022-01-17T20:57:23.349Z"
   },
   {
    "duration": 262,
    "start_time": "2022-01-17T20:58:01.133Z"
   },
   {
    "duration": 98,
    "start_time": "2022-01-17T20:59:06.145Z"
   },
   {
    "duration": 25,
    "start_time": "2022-01-17T20:59:06.245Z"
   },
   {
    "duration": 54,
    "start_time": "2022-01-17T20:59:06.272Z"
   },
   {
    "duration": 5,
    "start_time": "2022-01-17T20:59:06.328Z"
   },
   {
    "duration": 74,
    "start_time": "2022-01-17T20:59:06.334Z"
   },
   {
    "duration": 30,
    "start_time": "2022-01-17T20:59:06.410Z"
   },
   {
    "duration": 823,
    "start_time": "2022-01-17T20:59:06.442Z"
   },
   {
    "duration": 4,
    "start_time": "2022-01-17T20:59:07.267Z"
   },
   {
    "duration": 36,
    "start_time": "2022-01-17T20:59:07.273Z"
   },
   {
    "duration": 371,
    "start_time": "2022-01-17T20:59:07.311Z"
   },
   {
    "duration": 389,
    "start_time": "2022-01-17T20:59:07.684Z"
   },
   {
    "duration": 1293,
    "start_time": "2022-01-17T20:59:08.075Z"
   },
   {
    "duration": 284,
    "start_time": "2022-01-17T20:59:09.370Z"
   },
   {
    "duration": 370,
    "start_time": "2022-01-17T20:59:09.656Z"
   },
   {
    "duration": 369,
    "start_time": "2022-01-17T20:59:10.028Z"
   },
   {
    "duration": 2,
    "start_time": "2022-01-17T20:59:10.399Z"
   },
   {
    "duration": 234,
    "start_time": "2022-01-17T20:59:10.403Z"
   },
   {
    "duration": 213,
    "start_time": "2022-01-17T20:59:10.638Z"
   },
   {
    "duration": 190,
    "start_time": "2022-01-17T20:59:10.852Z"
   },
   {
    "duration": 258,
    "start_time": "2022-01-17T20:59:11.044Z"
   },
   {
    "duration": 231,
    "start_time": "2022-01-17T21:00:15.621Z"
   },
   {
    "duration": 259,
    "start_time": "2022-01-17T21:00:22.219Z"
   },
   {
    "duration": 671,
    "start_time": "2022-01-18T08:13:13.062Z"
   },
   {
    "duration": 26,
    "start_time": "2022-01-18T08:13:13.735Z"
   },
   {
    "duration": 30,
    "start_time": "2022-01-18T08:13:13.762Z"
   },
   {
    "duration": 47,
    "start_time": "2022-01-18T08:13:13.794Z"
   },
   {
    "duration": 23,
    "start_time": "2022-01-18T08:13:13.843Z"
   },
   {
    "duration": 26,
    "start_time": "2022-01-18T08:13:13.867Z"
   },
   {
    "duration": 751,
    "start_time": "2022-01-18T08:13:13.894Z"
   },
   {
    "duration": 3,
    "start_time": "2022-01-18T08:13:14.648Z"
   },
   {
    "duration": 25,
    "start_time": "2022-01-18T08:13:14.653Z"
   },
   {
    "duration": 432,
    "start_time": "2022-01-18T08:13:14.680Z"
   },
   {
    "duration": 314,
    "start_time": "2022-01-18T08:13:15.113Z"
   },
   {
    "duration": 215,
    "start_time": "2022-01-18T08:13:15.429Z"
   },
   {
    "duration": 245,
    "start_time": "2022-01-18T08:13:15.646Z"
   },
   {
    "duration": 314,
    "start_time": "2022-01-18T08:13:15.893Z"
   },
   {
    "duration": 309,
    "start_time": "2022-01-18T08:13:16.209Z"
   },
   {
    "duration": 2,
    "start_time": "2022-01-18T08:13:16.519Z"
   },
   {
    "duration": 212,
    "start_time": "2022-01-18T08:13:16.523Z"
   },
   {
    "duration": 182,
    "start_time": "2022-01-18T08:13:16.736Z"
   },
   {
    "duration": 244,
    "start_time": "2022-01-18T08:13:16.920Z"
   },
   {
    "duration": 239,
    "start_time": "2022-01-18T08:13:17.166Z"
   },
   {
    "duration": 26,
    "start_time": "2022-01-18T08:31:49.795Z"
   },
   {
    "duration": 26,
    "start_time": "2022-01-18T08:33:22.044Z"
   },
   {
    "duration": 32,
    "start_time": "2022-01-18T08:33:36.207Z"
   },
   {
    "duration": 80,
    "start_time": "2022-01-18T08:35:30.824Z"
   },
   {
    "duration": 32,
    "start_time": "2022-01-18T08:35:55.846Z"
   },
   {
    "duration": 39,
    "start_time": "2022-01-18T08:37:02.487Z"
   },
   {
    "duration": 29,
    "start_time": "2022-01-18T08:37:20.687Z"
   },
   {
    "duration": 91,
    "start_time": "2022-01-18T09:11:54.307Z"
   },
   {
    "duration": 24,
    "start_time": "2022-01-18T09:11:54.400Z"
   },
   {
    "duration": 46,
    "start_time": "2022-01-18T09:11:54.426Z"
   },
   {
    "duration": 16,
    "start_time": "2022-01-18T09:11:54.474Z"
   },
   {
    "duration": 169,
    "start_time": "2022-01-18T09:11:54.492Z"
   },
   {
    "duration": 33,
    "start_time": "2022-01-18T09:11:54.663Z"
   },
   {
    "duration": 744,
    "start_time": "2022-01-18T09:11:54.698Z"
   },
   {
    "duration": 4,
    "start_time": "2022-01-18T09:11:55.443Z"
   },
   {
    "duration": 44,
    "start_time": "2022-01-18T09:11:55.449Z"
   },
   {
    "duration": 317,
    "start_time": "2022-01-18T09:11:55.494Z"
   },
   {
    "duration": 328,
    "start_time": "2022-01-18T09:11:55.813Z"
   },
   {
    "duration": 218,
    "start_time": "2022-01-18T09:11:56.143Z"
   },
   {
    "duration": 539,
    "start_time": "2022-01-18T09:11:56.364Z"
   },
   {
    "duration": 752,
    "start_time": "2022-01-18T09:11:56.906Z"
   },
   {
    "duration": 635,
    "start_time": "2022-01-18T09:11:57.660Z"
   },
   {
    "duration": 4,
    "start_time": "2022-01-18T09:11:58.298Z"
   },
   {
    "duration": 378,
    "start_time": "2022-01-18T09:11:58.305Z"
   },
   {
    "duration": 295,
    "start_time": "2022-01-18T09:11:58.685Z"
   },
   {
    "duration": 291,
    "start_time": "2022-01-18T09:11:58.983Z"
   },
   {
    "duration": 243,
    "start_time": "2022-01-18T09:11:59.276Z"
   },
   {
    "duration": 3,
    "start_time": "2022-01-18T09:11:59.521Z"
   },
   {
    "duration": 223,
    "start_time": "2022-01-18T09:13:12.177Z"
   },
   {
    "duration": 236,
    "start_time": "2022-01-18T09:14:03.846Z"
   },
   {
    "duration": 171,
    "start_time": "2022-01-18T09:14:09.156Z"
   },
   {
    "duration": 259,
    "start_time": "2022-01-18T09:14:24.826Z"
   },
   {
    "duration": 364,
    "start_time": "2022-01-18T09:14:46.098Z"
   },
   {
    "duration": 168,
    "start_time": "2022-01-18T09:17:02.137Z"
   },
   {
    "duration": 158,
    "start_time": "2022-01-18T09:17:29.894Z"
   },
   {
    "duration": 216,
    "start_time": "2022-01-18T09:17:36.588Z"
   },
   {
    "duration": 229,
    "start_time": "2022-01-18T09:17:44.519Z"
   },
   {
    "duration": 226,
    "start_time": "2022-01-18T09:17:55.367Z"
   },
   {
    "duration": 220,
    "start_time": "2022-01-18T09:18:20.847Z"
   },
   {
    "duration": 150,
    "start_time": "2022-01-18T09:18:36.720Z"
   },
   {
    "duration": 157,
    "start_time": "2022-01-18T09:18:41.106Z"
   },
   {
    "duration": 152,
    "start_time": "2022-01-18T09:18:55.347Z"
   },
   {
    "duration": 166,
    "start_time": "2022-01-18T09:19:05.607Z"
   },
   {
    "duration": 152,
    "start_time": "2022-01-18T09:19:12.276Z"
   },
   {
    "duration": 152,
    "start_time": "2022-01-18T09:19:21.537Z"
   },
   {
    "duration": 147,
    "start_time": "2022-01-18T09:21:10.456Z"
   },
   {
    "duration": 160,
    "start_time": "2022-01-18T09:21:16.129Z"
   },
   {
    "duration": 160,
    "start_time": "2022-01-18T09:22:39.987Z"
   },
   {
    "duration": 683,
    "start_time": "2022-01-18T09:22:45.051Z"
   },
   {
    "duration": 168,
    "start_time": "2022-01-18T09:22:45.736Z"
   },
   {
    "duration": 166,
    "start_time": "2022-01-18T09:26:50.772Z"
   },
   {
    "duration": 7,
    "start_time": "2022-01-18T09:28:45.361Z"
   },
   {
    "duration": 92,
    "start_time": "2022-01-18T11:28:10.195Z"
   },
   {
    "duration": 22,
    "start_time": "2022-01-18T11:28:10.289Z"
   },
   {
    "duration": 49,
    "start_time": "2022-01-18T11:28:10.313Z"
   },
   {
    "duration": 5,
    "start_time": "2022-01-18T11:28:10.364Z"
   },
   {
    "duration": 28,
    "start_time": "2022-01-18T11:28:10.370Z"
   },
   {
    "duration": 72,
    "start_time": "2022-01-18T11:28:10.401Z"
   },
   {
    "duration": 735,
    "start_time": "2022-01-18T11:28:10.475Z"
   },
   {
    "duration": 3,
    "start_time": "2022-01-18T11:28:11.213Z"
   },
   {
    "duration": 35,
    "start_time": "2022-01-18T11:28:11.218Z"
   },
   {
    "duration": 304,
    "start_time": "2022-01-18T11:28:11.254Z"
   },
   {
    "duration": 327,
    "start_time": "2022-01-18T11:28:11.559Z"
   },
   {
    "duration": 213,
    "start_time": "2022-01-18T11:28:11.888Z"
   },
   {
    "duration": 250,
    "start_time": "2022-01-18T11:28:12.103Z"
   },
   {
    "duration": 455,
    "start_time": "2022-01-18T11:28:12.355Z"
   },
   {
    "duration": 315,
    "start_time": "2022-01-18T11:28:12.813Z"
   },
   {
    "duration": 2,
    "start_time": "2022-01-18T11:28:13.130Z"
   },
   {
    "duration": 203,
    "start_time": "2022-01-18T11:28:13.133Z"
   },
   {
    "duration": 194,
    "start_time": "2022-01-18T11:28:13.337Z"
   },
   {
    "duration": 178,
    "start_time": "2022-01-18T11:28:13.533Z"
   },
   {
    "duration": 243,
    "start_time": "2022-01-18T11:28:13.713Z"
   },
   {
    "duration": 179,
    "start_time": "2022-01-18T11:28:13.957Z"
   },
   {
    "duration": 616,
    "start_time": "2022-01-18T11:28:14.137Z"
   },
   {
    "duration": 189,
    "start_time": "2022-01-18T11:28:14.756Z"
   },
   {
    "duration": 2,
    "start_time": "2022-01-18T11:28:14.948Z"
   },
   {
    "duration": 11,
    "start_time": "2022-01-18T11:28:14.952Z"
   },
   {
    "duration": 43,
    "start_time": "2022-01-18T11:41:15.936Z"
   },
   {
    "duration": 87,
    "start_time": "2022-01-18T11:41:41.890Z"
   },
   {
    "duration": 295,
    "start_time": "2022-01-18T11:41:48.719Z"
   },
   {
    "duration": 16,
    "start_time": "2022-01-18T11:42:34.965Z"
   },
   {
    "duration": 16,
    "start_time": "2022-01-18T11:42:45.247Z"
   },
   {
    "duration": 17,
    "start_time": "2022-01-18T11:44:02.992Z"
   },
   {
    "duration": 22,
    "start_time": "2022-01-18T11:44:26.606Z"
   },
   {
    "duration": 321,
    "start_time": "2022-01-18T11:45:21.920Z"
   },
   {
    "duration": 268,
    "start_time": "2022-01-18T11:46:01.824Z"
   },
   {
    "duration": 616,
    "start_time": "2022-01-18T11:46:45.375Z"
   },
   {
    "duration": 251,
    "start_time": "2022-01-18T11:48:27.309Z"
   },
   {
    "duration": 299,
    "start_time": "2022-01-18T11:48:33.447Z"
   },
   {
    "duration": 227,
    "start_time": "2022-01-18T11:48:39.365Z"
   },
   {
    "duration": 264,
    "start_time": "2022-01-18T11:49:50.303Z"
   },
   {
    "duration": 15,
    "start_time": "2022-01-18T11:50:07.565Z"
   },
   {
    "duration": 268,
    "start_time": "2022-01-18T11:50:34.798Z"
   },
   {
    "duration": -233,
    "start_time": "2022-01-18T11:51:56.785Z"
   },
   {
    "duration": 311,
    "start_time": "2022-01-18T11:52:02.202Z"
   },
   {
    "duration": 14,
    "start_time": "2022-01-18T11:53:53.594Z"
   },
   {
    "duration": 631,
    "start_time": "2022-01-18T11:55:23.538Z"
   },
   {
    "duration": 247,
    "start_time": "2022-01-18T11:57:13.656Z"
   },
   {
    "duration": 97,
    "start_time": "2022-01-18T11:57:24.738Z"
   },
   {
    "duration": 31,
    "start_time": "2022-01-18T11:57:24.837Z"
   },
   {
    "duration": 34,
    "start_time": "2022-01-18T11:57:24.870Z"
   },
   {
    "duration": 7,
    "start_time": "2022-01-18T11:57:24.943Z"
   },
   {
    "duration": 36,
    "start_time": "2022-01-18T11:57:24.952Z"
   },
   {
    "duration": 39,
    "start_time": "2022-01-18T11:57:24.990Z"
   },
   {
    "duration": 768,
    "start_time": "2022-01-18T11:57:25.031Z"
   },
   {
    "duration": 4,
    "start_time": "2022-01-18T11:57:25.801Z"
   },
   {
    "duration": 35,
    "start_time": "2022-01-18T11:57:25.807Z"
   },
   {
    "duration": 325,
    "start_time": "2022-01-18T11:57:25.844Z"
   },
   {
    "duration": 552,
    "start_time": "2022-01-18T11:57:26.170Z"
   },
   {
    "duration": 280,
    "start_time": "2022-01-18T11:57:26.724Z"
   },
   {
    "duration": 292,
    "start_time": "2022-01-18T11:57:27.006Z"
   },
   {
    "duration": 375,
    "start_time": "2022-01-18T11:57:27.300Z"
   },
   {
    "duration": 333,
    "start_time": "2022-01-18T11:57:27.678Z"
   },
   {
    "duration": 3,
    "start_time": "2022-01-18T11:57:28.013Z"
   },
   {
    "duration": 253,
    "start_time": "2022-01-18T11:57:28.018Z"
   },
   {
    "duration": 185,
    "start_time": "2022-01-18T11:57:28.273Z"
   },
   {
    "duration": 197,
    "start_time": "2022-01-18T11:57:28.460Z"
   },
   {
    "duration": 251,
    "start_time": "2022-01-18T11:57:28.658Z"
   },
   {
    "duration": 180,
    "start_time": "2022-01-18T11:57:28.911Z"
   },
   {
    "duration": 665,
    "start_time": "2022-01-18T11:57:29.093Z"
   },
   {
    "duration": 186,
    "start_time": "2022-01-18T11:57:29.760Z"
   },
   {
    "duration": -211,
    "start_time": "2022-01-18T11:57:30.425Z"
   },
   {
    "duration": 256,
    "start_time": "2022-01-18T11:57:36.899Z"
   },
   {
    "duration": 9,
    "start_time": "2022-01-18T11:57:50.640Z"
   },
   {
    "duration": 14,
    "start_time": "2022-01-18T11:58:33.342Z"
   },
   {
    "duration": 246,
    "start_time": "2022-01-18T11:58:41.250Z"
   },
   {
    "duration": 277,
    "start_time": "2022-01-18T11:59:16.785Z"
   },
   {
    "duration": 25,
    "start_time": "2022-01-18T11:59:28.174Z"
   },
   {
    "duration": 269,
    "start_time": "2022-01-18T12:00:01.240Z"
   },
   {
    "duration": 16,
    "start_time": "2022-01-18T12:00:13.375Z"
   },
   {
    "duration": 24,
    "start_time": "2022-01-18T12:01:46.287Z"
   },
   {
    "duration": 308,
    "start_time": "2022-01-18T12:02:03.455Z"
   },
   {
    "duration": 265,
    "start_time": "2022-01-18T12:02:14.182Z"
   },
   {
    "duration": 24,
    "start_time": "2022-01-18T12:02:39.158Z"
   },
   {
    "duration": 23,
    "start_time": "2022-01-18T12:03:37.853Z"
   },
   {
    "duration": 387,
    "start_time": "2022-01-18T12:04:02.397Z"
   },
   {
    "duration": 24,
    "start_time": "2022-01-18T12:04:10.782Z"
   },
   {
    "duration": 269,
    "start_time": "2022-01-18T12:04:36.773Z"
   },
   {
    "duration": 24,
    "start_time": "2022-01-18T12:04:57.444Z"
   },
   {
    "duration": 256,
    "start_time": "2022-01-18T12:05:20.436Z"
   },
   {
    "duration": 254,
    "start_time": "2022-01-18T12:05:25.556Z"
   },
   {
    "duration": 300,
    "start_time": "2022-01-18T12:05:36.747Z"
   },
   {
    "duration": 57,
    "start_time": "2022-01-18T12:06:45.303Z"
   },
   {
    "duration": 23,
    "start_time": "2022-01-18T12:07:14.403Z"
   },
   {
    "duration": 24,
    "start_time": "2022-01-18T12:07:20.499Z"
   },
   {
    "duration": 6110,
    "start_time": "2022-01-18T12:09:53.274Z"
   },
   {
    "duration": 23,
    "start_time": "2022-01-18T12:10:20.404Z"
   },
   {
    "duration": 6855,
    "start_time": "2022-01-18T12:10:46.103Z"
   },
   {
    "duration": 3900,
    "start_time": "2022-01-18T12:11:10.402Z"
   },
   {
    "duration": 24,
    "start_time": "2022-01-18T12:11:36.097Z"
   },
   {
    "duration": 22,
    "start_time": "2022-01-18T12:12:03.882Z"
   },
   {
    "duration": 87,
    "start_time": "2022-01-18T12:13:05.329Z"
   },
   {
    "duration": 24,
    "start_time": "2022-01-18T12:13:10.753Z"
   },
   {
    "duration": 239,
    "start_time": "2022-01-18T13:11:01.325Z"
   },
   {
    "duration": 31,
    "start_time": "2022-01-18T13:11:11.549Z"
   },
   {
    "duration": 243,
    "start_time": "2022-01-18T13:11:54.303Z"
   },
   {
    "duration": 27,
    "start_time": "2022-01-18T13:12:06.559Z"
   },
   {
    "duration": 22,
    "start_time": "2022-01-18T13:12:25.517Z"
   },
   {
    "duration": 291,
    "start_time": "2022-01-18T13:13:06.583Z"
   },
   {
    "duration": 24,
    "start_time": "2022-01-18T13:13:20.245Z"
   },
   {
    "duration": 24,
    "start_time": "2022-01-18T13:14:20.953Z"
   },
   {
    "duration": 30,
    "start_time": "2022-01-18T13:14:36.236Z"
   },
   {
    "duration": 35,
    "start_time": "2022-01-18T13:14:53.067Z"
   },
   {
    "duration": 29,
    "start_time": "2022-01-18T13:19:53.613Z"
   },
   {
    "duration": 29,
    "start_time": "2022-01-18T13:20:06.352Z"
   },
   {
    "duration": 30,
    "start_time": "2022-01-18T13:20:13.393Z"
   },
   {
    "duration": 23,
    "start_time": "2022-01-18T13:23:06.521Z"
   },
   {
    "duration": 103,
    "start_time": "2022-01-18T13:23:13.599Z"
   },
   {
    "duration": 51,
    "start_time": "2022-01-18T13:23:13.704Z"
   },
   {
    "duration": 87,
    "start_time": "2022-01-18T13:23:13.758Z"
   },
   {
    "duration": 6,
    "start_time": "2022-01-18T13:23:13.847Z"
   },
   {
    "duration": 26,
    "start_time": "2022-01-18T13:23:13.855Z"
   },
   {
    "duration": 34,
    "start_time": "2022-01-18T13:23:13.883Z"
   },
   {
    "duration": 778,
    "start_time": "2022-01-18T13:23:13.919Z"
   },
   {
    "duration": 4,
    "start_time": "2022-01-18T13:23:14.700Z"
   },
   {
    "duration": 36,
    "start_time": "2022-01-18T13:23:14.706Z"
   },
   {
    "duration": 328,
    "start_time": "2022-01-18T13:23:14.744Z"
   },
   {
    "duration": 544,
    "start_time": "2022-01-18T13:23:15.074Z"
   },
   {
    "duration": 221,
    "start_time": "2022-01-18T13:23:15.620Z"
   },
   {
    "duration": 247,
    "start_time": "2022-01-18T13:23:15.843Z"
   },
   {
    "duration": 316,
    "start_time": "2022-01-18T13:23:16.092Z"
   },
   {
    "duration": 362,
    "start_time": "2022-01-18T13:23:16.410Z"
   },
   {
    "duration": 3,
    "start_time": "2022-01-18T13:23:16.773Z"
   },
   {
    "duration": 206,
    "start_time": "2022-01-18T13:23:16.777Z"
   },
   {
    "duration": 185,
    "start_time": "2022-01-18T13:23:16.984Z"
   },
   {
    "duration": 221,
    "start_time": "2022-01-18T13:23:17.171Z"
   },
   {
    "duration": 259,
    "start_time": "2022-01-18T13:23:17.393Z"
   },
   {
    "duration": 170,
    "start_time": "2022-01-18T13:23:17.653Z"
   },
   {
    "duration": 573,
    "start_time": "2022-01-18T13:23:17.825Z"
   },
   {
    "duration": 175,
    "start_time": "2022-01-18T13:23:18.401Z"
   },
   {
    "duration": 22,
    "start_time": "2022-01-18T13:23:18.578Z"
   },
   {
    "duration": 41,
    "start_time": "2022-01-18T13:23:18.601Z"
   },
   {
    "duration": 2,
    "start_time": "2022-01-18T13:23:18.644Z"
   },
   {
    "duration": 115,
    "start_time": "2022-01-18T13:27:07.885Z"
   },
   {
    "duration": 43,
    "start_time": "2022-01-18T13:27:08.002Z"
   },
   {
    "duration": 33,
    "start_time": "2022-01-18T13:27:08.047Z"
   },
   {
    "duration": 6,
    "start_time": "2022-01-18T13:27:08.082Z"
   },
   {
    "duration": 69,
    "start_time": "2022-01-18T13:27:08.090Z"
   },
   {
    "duration": 33,
    "start_time": "2022-01-18T13:27:08.161Z"
   },
   {
    "duration": 753,
    "start_time": "2022-01-18T13:27:08.196Z"
   },
   {
    "duration": 5,
    "start_time": "2022-01-18T13:27:08.951Z"
   },
   {
    "duration": 26,
    "start_time": "2022-01-18T13:27:08.959Z"
   },
   {
    "duration": 315,
    "start_time": "2022-01-18T13:27:08.988Z"
   },
   {
    "duration": 315,
    "start_time": "2022-01-18T13:27:09.304Z"
   },
   {
    "duration": 215,
    "start_time": "2022-01-18T13:27:09.621Z"
   },
   {
    "duration": 275,
    "start_time": "2022-01-18T13:27:09.841Z"
   },
   {
    "duration": 572,
    "start_time": "2022-01-18T13:27:10.117Z"
   },
   {
    "duration": 2,
    "start_time": "2022-01-18T13:27:10.691Z"
   },
   {
    "duration": 313,
    "start_time": "2022-01-18T13:27:10.694Z"
   },
   {
    "duration": 2,
    "start_time": "2022-01-18T13:27:11.009Z"
   },
   {
    "duration": 10,
    "start_time": "2022-01-18T13:27:11.012Z"
   },
   {
    "duration": 204,
    "start_time": "2022-01-18T13:27:11.024Z"
   },
   {
    "duration": 2,
    "start_time": "2022-01-18T13:27:11.231Z"
   },
   {
    "duration": 191,
    "start_time": "2022-01-18T13:27:11.235Z"
   },
   {
    "duration": 3,
    "start_time": "2022-01-18T13:27:11.427Z"
   },
   {
    "duration": 174,
    "start_time": "2022-01-18T13:27:11.431Z"
   },
   {
    "duration": 3,
    "start_time": "2022-01-18T13:27:11.606Z"
   },
   {
    "duration": 247,
    "start_time": "2022-01-18T13:27:11.610Z"
   },
   {
    "duration": 2,
    "start_time": "2022-01-18T13:27:11.859Z"
   },
   {
    "duration": 190,
    "start_time": "2022-01-18T13:27:11.864Z"
   },
   {
    "duration": 2,
    "start_time": "2022-01-18T13:27:12.056Z"
   },
   {
    "duration": 577,
    "start_time": "2022-01-18T13:27:12.059Z"
   },
   {
    "duration": 2,
    "start_time": "2022-01-18T13:27:12.641Z"
   },
   {
    "duration": 176,
    "start_time": "2022-01-18T13:27:12.645Z"
   },
   {
    "duration": 2,
    "start_time": "2022-01-18T13:27:12.822Z"
   },
   {
    "duration": 34,
    "start_time": "2022-01-18T13:27:12.826Z"
   },
   {
    "duration": 2,
    "start_time": "2022-01-18T13:27:12.861Z"
   },
   {
    "duration": 28,
    "start_time": "2022-01-18T13:27:12.865Z"
   },
   {
    "duration": 2,
    "start_time": "2022-01-18T13:27:12.894Z"
   },
   {
    "duration": 12,
    "start_time": "2022-01-18T13:27:12.898Z"
   },
   {
    "duration": 103,
    "start_time": "2022-01-18T13:27:17.948Z"
   },
   {
    "duration": 23,
    "start_time": "2022-01-18T13:27:18.053Z"
   },
   {
    "duration": 69,
    "start_time": "2022-01-18T13:27:18.078Z"
   },
   {
    "duration": 5,
    "start_time": "2022-01-18T13:27:18.149Z"
   },
   {
    "duration": 26,
    "start_time": "2022-01-18T13:27:18.155Z"
   },
   {
    "duration": 41,
    "start_time": "2022-01-18T13:27:18.183Z"
   },
   {
    "duration": 756,
    "start_time": "2022-01-18T13:27:18.225Z"
   },
   {
    "duration": 4,
    "start_time": "2022-01-18T13:27:18.983Z"
   },
   {
    "duration": 28,
    "start_time": "2022-01-18T13:27:18.989Z"
   },
   {
    "duration": 311,
    "start_time": "2022-01-18T13:27:19.019Z"
   },
   {
    "duration": 317,
    "start_time": "2022-01-18T13:27:19.332Z"
   },
   {
    "duration": 209,
    "start_time": "2022-01-18T13:27:19.651Z"
   },
   {
    "duration": 249,
    "start_time": "2022-01-18T13:27:19.861Z"
   },
   {
    "duration": 308,
    "start_time": "2022-01-18T13:27:20.111Z"
   },
   {
    "duration": 3,
    "start_time": "2022-01-18T13:27:20.421Z"
   },
   {
    "duration": 322,
    "start_time": "2022-01-18T13:27:20.425Z"
   },
   {
    "duration": 2,
    "start_time": "2022-01-18T13:27:20.748Z"
   },
   {
    "duration": 10,
    "start_time": "2022-01-18T13:27:20.752Z"
   },
   {
    "duration": 200,
    "start_time": "2022-01-18T13:27:20.763Z"
   },
   {
    "duration": 2,
    "start_time": "2022-01-18T13:27:20.965Z"
   },
   {
    "duration": 189,
    "start_time": "2022-01-18T13:27:20.969Z"
   },
   {
    "duration": 2,
    "start_time": "2022-01-18T13:27:21.160Z"
   },
   {
    "duration": 179,
    "start_time": "2022-01-18T13:27:21.164Z"
   },
   {
    "duration": 2,
    "start_time": "2022-01-18T13:27:21.344Z"
   },
   {
    "duration": 539,
    "start_time": "2022-01-18T13:27:21.348Z"
   },
   {
    "duration": 2,
    "start_time": "2022-01-18T13:27:21.888Z"
   },
   {
    "duration": 186,
    "start_time": "2022-01-18T13:27:21.893Z"
   },
   {
    "duration": 2,
    "start_time": "2022-01-18T13:27:22.082Z"
   },
   {
    "duration": 607,
    "start_time": "2022-01-18T13:27:22.086Z"
   },
   {
    "duration": 2,
    "start_time": "2022-01-18T13:27:22.695Z"
   },
   {
    "duration": 180,
    "start_time": "2022-01-18T13:27:22.699Z"
   },
   {
    "duration": 3,
    "start_time": "2022-01-18T13:27:22.880Z"
   },
   {
    "duration": 29,
    "start_time": "2022-01-18T13:27:22.884Z"
   },
   {
    "duration": 3,
    "start_time": "2022-01-18T13:27:22.915Z"
   },
   {
    "duration": 50,
    "start_time": "2022-01-18T13:27:22.920Z"
   },
   {
    "duration": 3,
    "start_time": "2022-01-18T13:27:22.972Z"
   },
   {
    "duration": 4,
    "start_time": "2022-01-18T13:27:22.977Z"
   },
   {
    "duration": 167,
    "start_time": "2022-01-18T13:28:45.694Z"
   },
   {
    "duration": 169,
    "start_time": "2022-01-18T13:29:00.909Z"
   },
   {
    "duration": 178,
    "start_time": "2022-01-18T13:29:18.401Z"
   },
   {
    "duration": 189,
    "start_time": "2022-01-18T13:29:29.973Z"
   },
   {
    "duration": 192,
    "start_time": "2022-01-18T13:29:44.837Z"
   },
   {
    "duration": 275,
    "start_time": "2022-01-18T13:30:12.533Z"
   },
   {
    "duration": 266,
    "start_time": "2022-01-18T13:30:47.357Z"
   },
   {
    "duration": 260,
    "start_time": "2022-01-18T13:30:52.395Z"
   },
   {
    "duration": 97,
    "start_time": "2022-01-18T13:31:04.592Z"
   },
   {
    "duration": 24,
    "start_time": "2022-01-18T13:31:04.691Z"
   },
   {
    "duration": 57,
    "start_time": "2022-01-18T13:31:04.718Z"
   },
   {
    "duration": 7,
    "start_time": "2022-01-18T13:31:04.777Z"
   },
   {
    "duration": 75,
    "start_time": "2022-01-18T13:31:04.785Z"
   },
   {
    "duration": 38,
    "start_time": "2022-01-18T13:31:04.862Z"
   },
   {
    "duration": 813,
    "start_time": "2022-01-18T13:31:04.902Z"
   },
   {
    "duration": 4,
    "start_time": "2022-01-18T13:31:05.718Z"
   },
   {
    "duration": 42,
    "start_time": "2022-01-18T13:31:05.724Z"
   },
   {
    "duration": 342,
    "start_time": "2022-01-18T13:31:05.768Z"
   },
   {
    "duration": 328,
    "start_time": "2022-01-18T13:31:06.113Z"
   },
   {
    "duration": 334,
    "start_time": "2022-01-18T13:31:06.443Z"
   },
   {
    "duration": 400,
    "start_time": "2022-01-18T13:31:06.779Z"
   },
   {
    "duration": 530,
    "start_time": "2022-01-18T13:31:07.182Z"
   },
   {
    "duration": 3,
    "start_time": "2022-01-18T13:31:07.714Z"
   },
   {
    "duration": 366,
    "start_time": "2022-01-18T13:31:07.719Z"
   },
   {
    "duration": 2,
    "start_time": "2022-01-18T13:31:08.086Z"
   },
   {
    "duration": 6,
    "start_time": "2022-01-18T13:31:08.090Z"
   },
   {
    "duration": 279,
    "start_time": "2022-01-18T13:31:08.098Z"
   },
   {
    "duration": 2,
    "start_time": "2022-01-18T13:31:08.379Z"
   },
   {
    "duration": 323,
    "start_time": "2022-01-18T13:31:08.382Z"
   },
   {
    "duration": 2,
    "start_time": "2022-01-18T13:31:08.708Z"
   },
   {
    "duration": 261,
    "start_time": "2022-01-18T13:31:08.715Z"
   },
   {
    "duration": 2,
    "start_time": "2022-01-18T13:31:08.978Z"
   },
   {
    "duration": 254,
    "start_time": "2022-01-18T13:31:08.982Z"
   },
   {
    "duration": 4,
    "start_time": "2022-01-18T13:31:09.237Z"
   },
   {
    "duration": 267,
    "start_time": "2022-01-18T13:31:09.243Z"
   },
   {
    "duration": 3,
    "start_time": "2022-01-18T13:31:09.512Z"
   },
   {
    "duration": 986,
    "start_time": "2022-01-18T13:31:09.517Z"
   },
   {
    "duration": 3,
    "start_time": "2022-01-18T13:31:10.505Z"
   },
   {
    "duration": 175,
    "start_time": "2022-01-18T13:31:10.509Z"
   },
   {
    "duration": 3,
    "start_time": "2022-01-18T13:31:10.686Z"
   },
   {
    "duration": 24,
    "start_time": "2022-01-18T13:31:10.691Z"
   },
   {
    "duration": 24,
    "start_time": "2022-01-18T13:31:10.717Z"
   },
   {
    "duration": 26,
    "start_time": "2022-01-18T13:31:10.744Z"
   },
   {
    "duration": 2,
    "start_time": "2022-01-18T13:31:10.773Z"
   },
   {
    "duration": 6,
    "start_time": "2022-01-18T13:31:10.777Z"
   },
   {
    "duration": 297,
    "start_time": "2022-01-18T19:24:59.591Z"
   },
   {
    "duration": 767,
    "start_time": "2022-01-18T19:25:17.478Z"
   },
   {
    "duration": 32,
    "start_time": "2022-01-18T19:25:18.247Z"
   },
   {
    "duration": 51,
    "start_time": "2022-01-18T19:25:18.281Z"
   },
   {
    "duration": 6,
    "start_time": "2022-01-18T19:25:18.334Z"
   },
   {
    "duration": 72,
    "start_time": "2022-01-18T19:25:18.344Z"
   },
   {
    "duration": 38,
    "start_time": "2022-01-18T19:25:18.417Z"
   },
   {
    "duration": 833,
    "start_time": "2022-01-18T19:25:18.457Z"
   },
   {
    "duration": 7,
    "start_time": "2022-01-18T19:25:19.293Z"
   },
   {
    "duration": 27,
    "start_time": "2022-01-18T19:25:19.303Z"
   },
   {
    "duration": 503,
    "start_time": "2022-01-18T19:25:19.332Z"
   },
   {
    "duration": 417,
    "start_time": "2022-01-18T19:25:19.836Z"
   },
   {
    "duration": 248,
    "start_time": "2022-01-18T19:25:20.254Z"
   },
   {
    "duration": 317,
    "start_time": "2022-01-18T19:25:20.505Z"
   },
   {
    "duration": 417,
    "start_time": "2022-01-18T19:25:20.823Z"
   },
   {
    "duration": 2,
    "start_time": "2022-01-18T19:25:21.242Z"
   },
   {
    "duration": 417,
    "start_time": "2022-01-18T19:25:21.246Z"
   },
   {
    "duration": 2,
    "start_time": "2022-01-18T19:25:21.665Z"
   },
   {
    "duration": 9,
    "start_time": "2022-01-18T19:25:21.669Z"
   },
   {
    "duration": 362,
    "start_time": "2022-01-18T19:25:21.679Z"
   },
   {
    "duration": 2,
    "start_time": "2022-01-18T19:25:22.044Z"
   },
   {
    "duration": 284,
    "start_time": "2022-01-18T19:25:22.048Z"
   },
   {
    "duration": 5,
    "start_time": "2022-01-18T19:25:22.334Z"
   },
   {
    "duration": 275,
    "start_time": "2022-01-18T19:25:22.343Z"
   },
   {
    "duration": 2,
    "start_time": "2022-01-18T19:25:22.620Z"
   },
   {
    "duration": 301,
    "start_time": "2022-01-18T19:25:22.624Z"
   },
   {
    "duration": 3,
    "start_time": "2022-01-18T19:25:22.927Z"
   },
   {
    "duration": 254,
    "start_time": "2022-01-18T19:25:22.932Z"
   },
   {
    "duration": 2,
    "start_time": "2022-01-18T19:25:23.188Z"
   },
   {
    "duration": 753,
    "start_time": "2022-01-18T19:25:23.192Z"
   },
   {
    "duration": 3,
    "start_time": "2022-01-18T19:25:23.947Z"
   },
   {
    "duration": 232,
    "start_time": "2022-01-18T19:25:23.951Z"
   },
   {
    "duration": 2,
    "start_time": "2022-01-18T19:25:24.184Z"
   },
   {
    "duration": 17,
    "start_time": "2022-01-18T19:25:30.590Z"
   },
   {
    "duration": 16,
    "start_time": "2022-01-18T19:25:36.554Z"
   },
   {
    "duration": 281,
    "start_time": "2022-01-18T19:26:21.857Z"
   },
   {
    "duration": 22592,
    "start_time": "2022-01-18T19:26:43.286Z"
   },
   {
    "duration": 118,
    "start_time": "2022-01-18T19:27:29.758Z"
   },
   {
    "duration": 48,
    "start_time": "2022-01-18T19:27:29.878Z"
   },
   {
    "duration": 89,
    "start_time": "2022-01-18T19:27:29.928Z"
   },
   {
    "duration": 6,
    "start_time": "2022-01-18T19:27:30.019Z"
   },
   {
    "duration": 30,
    "start_time": "2022-01-18T19:27:30.027Z"
   },
   {
    "duration": 64,
    "start_time": "2022-01-18T19:27:30.058Z"
   },
   {
    "duration": 884,
    "start_time": "2022-01-18T19:27:30.124Z"
   },
   {
    "duration": 5,
    "start_time": "2022-01-18T19:27:31.011Z"
   },
   {
    "duration": 54,
    "start_time": "2022-01-18T19:27:31.019Z"
   },
   {
    "duration": 431,
    "start_time": "2022-01-18T19:27:31.075Z"
   },
   {
    "duration": 414,
    "start_time": "2022-01-18T19:27:31.508Z"
   },
   {
    "duration": 268,
    "start_time": "2022-01-18T19:27:31.924Z"
   },
   {
    "duration": 548,
    "start_time": "2022-01-18T19:27:32.193Z"
   },
   {
    "duration": 411,
    "start_time": "2022-01-18T19:27:32.743Z"
   },
   {
    "duration": 2,
    "start_time": "2022-01-18T19:27:33.156Z"
   },
   {
    "duration": 417,
    "start_time": "2022-01-18T19:27:33.160Z"
   },
   {
    "duration": 3,
    "start_time": "2022-01-18T19:27:33.579Z"
   },
   {
    "duration": 5,
    "start_time": "2022-01-18T19:27:33.584Z"
   },
   {
    "duration": 330,
    "start_time": "2022-01-18T19:27:33.599Z"
   },
   {
    "duration": 3,
    "start_time": "2022-01-18T19:27:33.930Z"
   },
   {
    "duration": 240,
    "start_time": "2022-01-18T19:27:33.934Z"
   },
   {
    "duration": 2,
    "start_time": "2022-01-18T19:27:34.176Z"
   },
   {
    "duration": 239,
    "start_time": "2022-01-18T19:27:34.182Z"
   },
   {
    "duration": 3,
    "start_time": "2022-01-18T19:27:34.424Z"
   },
   {
    "duration": 306,
    "start_time": "2022-01-18T19:27:34.430Z"
   },
   {
    "duration": 3,
    "start_time": "2022-01-18T19:27:34.737Z"
   },
   {
    "duration": 222,
    "start_time": "2022-01-18T19:27:34.741Z"
   },
   {
    "duration": 3,
    "start_time": "2022-01-18T19:27:34.964Z"
   },
   {
    "duration": 736,
    "start_time": "2022-01-18T19:27:34.968Z"
   },
   {
    "duration": 2,
    "start_time": "2022-01-18T19:27:35.706Z"
   },
   {
    "duration": 244,
    "start_time": "2022-01-18T19:27:35.710Z"
   },
   {
    "duration": 2,
    "start_time": "2022-01-18T19:27:35.956Z"
   },
   {
    "duration": 31,
    "start_time": "2022-01-18T19:27:35.960Z"
   },
   {
    "duration": 3,
    "start_time": "2022-01-18T19:27:35.998Z"
   },
   {
    "duration": 40,
    "start_time": "2022-01-18T19:27:36.003Z"
   },
   {
    "duration": 3,
    "start_time": "2022-01-18T19:27:36.045Z"
   },
   {
    "duration": 11,
    "start_time": "2022-01-18T19:27:36.049Z"
   },
   {
    "duration": 7,
    "start_time": "2022-01-18T19:32:25.721Z"
   },
   {
    "duration": 42,
    "start_time": "2022-01-18T19:32:34.736Z"
   },
   {
    "duration": 15,
    "start_time": "2022-01-18T19:33:21.698Z"
   },
   {
    "duration": 13,
    "start_time": "2022-01-18T19:35:19.545Z"
   },
   {
    "duration": 28,
    "start_time": "2022-01-18T19:35:43.744Z"
   },
   {
    "duration": 41,
    "start_time": "2022-01-18T19:36:42.973Z"
   },
   {
    "duration": 339,
    "start_time": "2022-01-18T19:37:25.673Z"
   },
   {
    "duration": 273,
    "start_time": "2022-01-18T19:38:20.463Z"
   },
   {
    "duration": 47,
    "start_time": "2022-01-18T19:38:34.131Z"
   },
   {
    "duration": 103,
    "start_time": "2022-01-18T19:39:00.268Z"
   },
   {
    "duration": 29,
    "start_time": "2022-01-18T19:39:00.373Z"
   },
   {
    "duration": 37,
    "start_time": "2022-01-18T19:39:00.405Z"
   },
   {
    "duration": 58,
    "start_time": "2022-01-18T19:39:00.443Z"
   },
   {
    "duration": 33,
    "start_time": "2022-01-18T19:39:00.503Z"
   },
   {
    "duration": 38,
    "start_time": "2022-01-18T19:39:00.537Z"
   },
   {
    "duration": 883,
    "start_time": "2022-01-18T19:39:00.577Z"
   },
   {
    "duration": 4,
    "start_time": "2022-01-18T19:39:01.463Z"
   },
   {
    "duration": 35,
    "start_time": "2022-01-18T19:39:01.470Z"
   },
   {
    "duration": 413,
    "start_time": "2022-01-18T19:39:01.507Z"
   },
   {
    "duration": 434,
    "start_time": "2022-01-18T19:39:01.922Z"
   },
   {
    "duration": 281,
    "start_time": "2022-01-18T19:39:02.358Z"
   },
   {
    "duration": 342,
    "start_time": "2022-01-18T19:39:02.641Z"
   },
   {
    "duration": 459,
    "start_time": "2022-01-18T19:39:02.985Z"
   },
   {
    "duration": 3,
    "start_time": "2022-01-18T19:39:03.447Z"
   },
   {
    "duration": 419,
    "start_time": "2022-01-18T19:39:03.452Z"
   },
   {
    "duration": 2,
    "start_time": "2022-01-18T19:39:03.873Z"
   },
   {
    "duration": 9,
    "start_time": "2022-01-18T19:39:03.877Z"
   },
   {
    "duration": 321,
    "start_time": "2022-01-18T19:39:03.888Z"
   },
   {
    "duration": 3,
    "start_time": "2022-01-18T19:39:04.211Z"
   },
   {
    "duration": 537,
    "start_time": "2022-01-18T19:39:04.215Z"
   },
   {
    "duration": 2,
    "start_time": "2022-01-18T19:39:04.754Z"
   },
   {
    "duration": 219,
    "start_time": "2022-01-18T19:39:04.759Z"
   },
   {
    "duration": 3,
    "start_time": "2022-01-18T19:39:04.980Z"
   },
   {
    "duration": 314,
    "start_time": "2022-01-18T19:39:04.985Z"
   },
   {
    "duration": 2,
    "start_time": "2022-01-18T19:39:05.301Z"
   },
   {
    "duration": 235,
    "start_time": "2022-01-18T19:39:05.305Z"
   },
   {
    "duration": 3,
    "start_time": "2022-01-18T19:39:05.542Z"
   },
   {
    "duration": 796,
    "start_time": "2022-01-18T19:39:05.547Z"
   },
   {
    "duration": 3,
    "start_time": "2022-01-18T19:39:06.345Z"
   },
   {
    "duration": 223,
    "start_time": "2022-01-18T19:39:06.350Z"
   },
   {
    "duration": 3,
    "start_time": "2022-01-18T19:39:06.575Z"
   },
   {
    "duration": 45,
    "start_time": "2022-01-18T19:39:06.580Z"
   },
   {
    "duration": 2,
    "start_time": "2022-01-18T19:39:06.626Z"
   },
   {
    "duration": 33,
    "start_time": "2022-01-18T19:39:06.630Z"
   },
   {
    "duration": 2,
    "start_time": "2022-01-18T19:39:06.665Z"
   },
   {
    "duration": 31,
    "start_time": "2022-01-18T19:39:06.668Z"
   },
   {
    "duration": 53,
    "start_time": "2022-01-18T19:39:06.701Z"
   },
   {
    "duration": 11,
    "start_time": "2022-01-18T19:39:44.704Z"
   },
   {
    "duration": 94,
    "start_time": "2022-01-18T19:42:15.890Z"
   },
   {
    "duration": 34,
    "start_time": "2022-01-18T19:42:15.986Z"
   },
   {
    "duration": 81,
    "start_time": "2022-01-18T19:42:16.022Z"
   },
   {
    "duration": 6,
    "start_time": "2022-01-18T19:42:16.106Z"
   },
   {
    "duration": 30,
    "start_time": "2022-01-18T19:42:16.113Z"
   },
   {
    "duration": 65,
    "start_time": "2022-01-18T19:42:16.145Z"
   },
   {
    "duration": 860,
    "start_time": "2022-01-18T19:42:16.212Z"
   },
   {
    "duration": 3,
    "start_time": "2022-01-18T19:42:17.074Z"
   },
   {
    "duration": 38,
    "start_time": "2022-01-18T19:42:17.080Z"
   },
   {
    "duration": 393,
    "start_time": "2022-01-18T19:42:17.120Z"
   },
   {
    "duration": 404,
    "start_time": "2022-01-18T19:42:17.516Z"
   },
   {
    "duration": 258,
    "start_time": "2022-01-18T19:42:17.922Z"
   },
   {
    "duration": 330,
    "start_time": "2022-01-18T19:42:18.182Z"
   },
   {
    "duration": 416,
    "start_time": "2022-01-18T19:42:18.515Z"
   },
   {
    "duration": 2,
    "start_time": "2022-01-18T19:42:18.933Z"
   },
   {
    "duration": 398,
    "start_time": "2022-01-18T19:42:18.937Z"
   },
   {
    "duration": 3,
    "start_time": "2022-01-18T19:42:19.337Z"
   },
   {
    "duration": 8,
    "start_time": "2022-01-18T19:42:19.342Z"
   },
   {
    "duration": 337,
    "start_time": "2022-01-18T19:42:19.352Z"
   },
   {
    "duration": 3,
    "start_time": "2022-01-18T19:42:19.691Z"
   },
   {
    "duration": 262,
    "start_time": "2022-01-18T19:42:19.696Z"
   },
   {
    "duration": 3,
    "start_time": "2022-01-18T19:42:19.960Z"
   },
   {
    "duration": 236,
    "start_time": "2022-01-18T19:42:19.965Z"
   },
   {
    "duration": 2,
    "start_time": "2022-01-18T19:42:20.204Z"
   },
   {
    "duration": 296,
    "start_time": "2022-01-18T19:42:20.209Z"
   },
   {
    "duration": 3,
    "start_time": "2022-01-18T19:42:20.508Z"
   },
   {
    "duration": 215,
    "start_time": "2022-01-18T19:42:20.515Z"
   },
   {
    "duration": 3,
    "start_time": "2022-01-18T19:42:20.731Z"
   },
   {
    "duration": 763,
    "start_time": "2022-01-18T19:42:20.735Z"
   },
   {
    "duration": 3,
    "start_time": "2022-01-18T19:42:21.501Z"
   },
   {
    "duration": 217,
    "start_time": "2022-01-18T19:42:21.506Z"
   },
   {
    "duration": 3,
    "start_time": "2022-01-18T19:42:21.725Z"
   },
   {
    "duration": 26,
    "start_time": "2022-01-18T19:42:21.730Z"
   },
   {
    "duration": 3,
    "start_time": "2022-01-18T19:42:21.758Z"
   },
   {
    "duration": 61,
    "start_time": "2022-01-18T19:42:21.763Z"
   },
   {
    "duration": 3,
    "start_time": "2022-01-18T19:42:21.826Z"
   },
   {
    "duration": 8,
    "start_time": "2022-01-18T19:42:21.831Z"
   },
   {
    "duration": 14,
    "start_time": "2022-01-18T19:42:27.105Z"
   },
   {
    "duration": 12,
    "start_time": "2022-01-18T19:44:03.259Z"
   },
   {
    "duration": 15,
    "start_time": "2022-01-18T19:44:10.228Z"
   },
   {
    "duration": 13,
    "start_time": "2022-01-18T19:44:14.173Z"
   },
   {
    "duration": 14,
    "start_time": "2022-01-18T19:44:29.711Z"
   },
   {
    "duration": 13,
    "start_time": "2022-01-18T19:45:39.109Z"
   },
   {
    "duration": 96,
    "start_time": "2022-01-18T19:45:43.850Z"
   },
   {
    "duration": 49,
    "start_time": "2022-01-18T19:45:43.949Z"
   },
   {
    "duration": 39,
    "start_time": "2022-01-18T19:45:44.001Z"
   },
   {
    "duration": 58,
    "start_time": "2022-01-18T19:45:44.041Z"
   },
   {
    "duration": 25,
    "start_time": "2022-01-18T19:45:44.100Z"
   },
   {
    "duration": 34,
    "start_time": "2022-01-18T19:45:44.127Z"
   },
   {
    "duration": 793,
    "start_time": "2022-01-18T19:45:44.162Z"
   },
   {
    "duration": 4,
    "start_time": "2022-01-18T19:45:44.958Z"
   },
   {
    "duration": 35,
    "start_time": "2022-01-18T19:45:44.964Z"
   },
   {
    "duration": 670,
    "start_time": "2022-01-18T19:45:45.001Z"
   },
   {
    "duration": 386,
    "start_time": "2022-01-18T19:45:45.673Z"
   },
   {
    "duration": 244,
    "start_time": "2022-01-18T19:45:46.061Z"
   },
   {
    "duration": 294,
    "start_time": "2022-01-18T19:45:46.307Z"
   },
   {
    "duration": 385,
    "start_time": "2022-01-18T19:45:46.602Z"
   },
   {
    "duration": 9,
    "start_time": "2022-01-18T19:45:46.989Z"
   },
   {
    "duration": 364,
    "start_time": "2022-01-18T19:45:47.000Z"
   },
   {
    "duration": 3,
    "start_time": "2022-01-18T19:45:47.365Z"
   },
   {
    "duration": 5,
    "start_time": "2022-01-18T19:45:47.369Z"
   },
   {
    "duration": 303,
    "start_time": "2022-01-18T19:45:47.376Z"
   },
   {
    "duration": 2,
    "start_time": "2022-01-18T19:45:47.681Z"
   },
   {
    "duration": 242,
    "start_time": "2022-01-18T19:45:47.685Z"
   },
   {
    "duration": 2,
    "start_time": "2022-01-18T19:45:47.929Z"
   },
   {
    "duration": 192,
    "start_time": "2022-01-18T19:45:47.935Z"
   },
   {
    "duration": 2,
    "start_time": "2022-01-18T19:45:48.129Z"
   },
   {
    "duration": 282,
    "start_time": "2022-01-18T19:45:48.133Z"
   },
   {
    "duration": 2,
    "start_time": "2022-01-18T19:45:48.418Z"
   },
   {
    "duration": 202,
    "start_time": "2022-01-18T19:45:48.422Z"
   },
   {
    "duration": 2,
    "start_time": "2022-01-18T19:45:48.626Z"
   },
   {
    "duration": 692,
    "start_time": "2022-01-18T19:45:48.630Z"
   },
   {
    "duration": 3,
    "start_time": "2022-01-18T19:45:49.323Z"
   },
   {
    "duration": 201,
    "start_time": "2022-01-18T19:45:49.327Z"
   },
   {
    "duration": 3,
    "start_time": "2022-01-18T19:45:49.530Z"
   },
   {
    "duration": 36,
    "start_time": "2022-01-18T19:45:49.534Z"
   },
   {
    "duration": 11,
    "start_time": "2022-01-18T19:45:49.572Z"
   },
   {
    "duration": 41,
    "start_time": "2022-01-18T19:45:49.585Z"
   },
   {
    "duration": 13,
    "start_time": "2022-01-18T19:45:49.627Z"
   },
   {
    "duration": 21,
    "start_time": "2022-01-18T19:45:49.642Z"
   },
   {
    "duration": 26,
    "start_time": "2022-01-18T19:45:49.665Z"
   },
   {
    "duration": 16,
    "start_time": "2022-01-18T19:46:17.164Z"
   },
   {
    "duration": 17,
    "start_time": "2022-01-18T19:46:38.299Z"
   },
   {
    "duration": 38,
    "start_time": "2022-01-18T19:46:48.092Z"
   },
   {
    "duration": 289,
    "start_time": "2022-01-18T19:47:08.767Z"
   },
   {
    "duration": 42,
    "start_time": "2022-01-18T19:47:36.981Z"
   },
   {
    "duration": 32,
    "start_time": "2022-01-18T19:48:02.873Z"
   },
   {
    "duration": 4963,
    "start_time": "2022-01-18T19:49:10.397Z"
   },
   {
    "duration": 33,
    "start_time": "2022-01-18T19:49:48.674Z"
   },
   {
    "duration": 80,
    "start_time": "2022-01-18T19:50:13.643Z"
   },
   {
    "duration": 267,
    "start_time": "2022-01-18T19:50:17.697Z"
   },
   {
    "duration": 3858,
    "start_time": "2022-01-18T19:51:04.530Z"
   },
   {
    "duration": 38,
    "start_time": "2022-01-18T19:51:45.540Z"
   },
   {
    "duration": 255,
    "start_time": "2022-01-18T19:52:11.642Z"
   },
   {
    "duration": 35,
    "start_time": "2022-01-18T19:52:36.489Z"
   },
   {
    "duration": 88,
    "start_time": "2022-01-18T19:53:23.737Z"
   },
   {
    "duration": 92,
    "start_time": "2022-01-18T19:53:46.546Z"
   },
   {
    "duration": 14,
    "start_time": "2022-01-18T19:54:07.841Z"
   },
   {
    "duration": 31,
    "start_time": "2022-01-18T19:54:12.825Z"
   },
   {
    "duration": 13,
    "start_time": "2022-01-18T19:56:21.915Z"
   },
   {
    "duration": 198,
    "start_time": "2022-01-18T19:57:03.435Z"
   },
   {
    "duration": 470,
    "start_time": "2022-01-18T19:57:17.807Z"
   },
   {
    "duration": 204,
    "start_time": "2022-01-18T19:59:17.777Z"
   },
   {
    "duration": 199,
    "start_time": "2022-01-18T20:00:48.455Z"
   },
   {
    "duration": 197,
    "start_time": "2022-01-18T20:01:20.879Z"
   },
   {
    "duration": 199,
    "start_time": "2022-01-18T20:04:35.125Z"
   },
   {
    "duration": 192,
    "start_time": "2022-01-18T20:04:58.973Z"
   },
   {
    "duration": 236,
    "start_time": "2022-01-18T20:05:12.656Z"
   },
   {
    "duration": 233,
    "start_time": "2022-01-18T20:05:22.565Z"
   },
   {
    "duration": 279,
    "start_time": "2022-01-18T20:06:01.304Z"
   },
   {
    "duration": 957,
    "start_time": "2022-01-18T20:06:07.156Z"
   },
   {
    "duration": 6398,
    "start_time": "2022-01-18T20:06:14.421Z"
   },
   {
    "duration": 265,
    "start_time": "2022-01-18T20:06:37.740Z"
   },
   {
    "duration": 277,
    "start_time": "2022-01-18T20:07:06.688Z"
   },
   {
    "duration": 254,
    "start_time": "2022-01-18T20:07:15.203Z"
   },
   {
    "duration": 99,
    "start_time": "2022-01-18T20:10:04.223Z"
   },
   {
    "duration": 24,
    "start_time": "2022-01-18T20:10:04.324Z"
   },
   {
    "duration": 60,
    "start_time": "2022-01-18T20:10:04.350Z"
   },
   {
    "duration": 5,
    "start_time": "2022-01-18T20:10:04.412Z"
   },
   {
    "duration": 25,
    "start_time": "2022-01-18T20:10:04.419Z"
   },
   {
    "duration": 66,
    "start_time": "2022-01-18T20:10:04.446Z"
   },
   {
    "duration": 802,
    "start_time": "2022-01-18T20:10:04.514Z"
   },
   {
    "duration": 4,
    "start_time": "2022-01-18T20:10:05.319Z"
   },
   {
    "duration": 33,
    "start_time": "2022-01-18T20:10:05.324Z"
   },
   {
    "duration": 386,
    "start_time": "2022-01-18T20:10:05.360Z"
   },
   {
    "duration": 391,
    "start_time": "2022-01-18T20:10:05.748Z"
   },
   {
    "duration": 253,
    "start_time": "2022-01-18T20:10:06.141Z"
   },
   {
    "duration": 297,
    "start_time": "2022-01-18T20:10:06.398Z"
   },
   {
    "duration": 381,
    "start_time": "2022-01-18T20:10:06.696Z"
   },
   {
    "duration": 3,
    "start_time": "2022-01-18T20:10:07.079Z"
   },
   {
    "duration": 738,
    "start_time": "2022-01-18T20:10:07.084Z"
   },
   {
    "duration": 3,
    "start_time": "2022-01-18T20:10:07.825Z"
   },
   {
    "duration": 7,
    "start_time": "2022-01-18T20:10:07.829Z"
   },
   {
    "duration": 309,
    "start_time": "2022-01-18T20:10:07.838Z"
   },
   {
    "duration": 2,
    "start_time": "2022-01-18T20:10:08.148Z"
   },
   {
    "duration": 222,
    "start_time": "2022-01-18T20:10:08.152Z"
   },
   {
    "duration": 2,
    "start_time": "2022-01-18T20:10:08.375Z"
   },
   {
    "duration": 192,
    "start_time": "2022-01-18T20:10:08.380Z"
   },
   {
    "duration": 2,
    "start_time": "2022-01-18T20:10:08.574Z"
   },
   {
    "duration": 273,
    "start_time": "2022-01-18T20:10:08.577Z"
   },
   {
    "duration": 2,
    "start_time": "2022-01-18T20:10:08.852Z"
   },
   {
    "duration": 205,
    "start_time": "2022-01-18T20:10:08.855Z"
   },
   {
    "duration": 2,
    "start_time": "2022-01-18T20:10:09.061Z"
   },
   {
    "duration": 682,
    "start_time": "2022-01-18T20:10:09.065Z"
   },
   {
    "duration": 2,
    "start_time": "2022-01-18T20:10:09.748Z"
   },
   {
    "duration": 194,
    "start_time": "2022-01-18T20:10:09.752Z"
   },
   {
    "duration": 3,
    "start_time": "2022-01-18T20:10:09.947Z"
   },
   {
    "duration": 25,
    "start_time": "2022-01-18T20:10:09.951Z"
   },
   {
    "duration": 2,
    "start_time": "2022-01-18T20:10:09.978Z"
   },
   {
    "duration": 25,
    "start_time": "2022-01-18T20:10:09.998Z"
   },
   {
    "duration": 2,
    "start_time": "2022-01-18T20:10:10.025Z"
   },
   {
    "duration": 8,
    "start_time": "2022-01-18T20:10:10.029Z"
   },
   {
    "duration": 37,
    "start_time": "2022-01-18T20:10:10.039Z"
   },
   {
    "duration": 259,
    "start_time": "2022-01-18T20:10:10.078Z"
   },
   {
    "duration": 3,
    "start_time": "2022-01-18T20:10:10.338Z"
   },
   {
    "duration": 258,
    "start_time": "2022-01-18T20:13:31.027Z"
   },
   {
    "duration": 227,
    "start_time": "2022-01-18T20:13:44.410Z"
   },
   {
    "duration": 7,
    "start_time": "2022-01-18T20:14:02.921Z"
   },
   {
    "duration": 101,
    "start_time": "2022-01-18T20:14:30.734Z"
   },
   {
    "duration": 24,
    "start_time": "2022-01-18T20:14:30.837Z"
   },
   {
    "duration": 62,
    "start_time": "2022-01-18T20:14:30.862Z"
   },
   {
    "duration": 6,
    "start_time": "2022-01-18T20:14:30.925Z"
   },
   {
    "duration": 43,
    "start_time": "2022-01-18T20:14:30.932Z"
   },
   {
    "duration": 40,
    "start_time": "2022-01-18T20:14:30.999Z"
   },
   {
    "duration": 781,
    "start_time": "2022-01-18T20:14:31.041Z"
   },
   {
    "duration": 4,
    "start_time": "2022-01-18T20:14:31.826Z"
   },
   {
    "duration": 27,
    "start_time": "2022-01-18T20:14:31.832Z"
   },
   {
    "duration": 391,
    "start_time": "2022-01-18T20:14:31.861Z"
   },
   {
    "duration": 389,
    "start_time": "2022-01-18T20:14:32.253Z"
   },
   {
    "duration": 255,
    "start_time": "2022-01-18T20:14:32.643Z"
   },
   {
    "duration": 301,
    "start_time": "2022-01-18T20:14:32.900Z"
   },
   {
    "duration": 377,
    "start_time": "2022-01-18T20:14:33.202Z"
   },
   {
    "duration": 2,
    "start_time": "2022-01-18T20:14:33.581Z"
   },
   {
    "duration": 385,
    "start_time": "2022-01-18T20:14:33.585Z"
   },
   {
    "duration": 2,
    "start_time": "2022-01-18T20:14:33.972Z"
   },
   {
    "duration": 5,
    "start_time": "2022-01-18T20:14:33.976Z"
   },
   {
    "duration": 315,
    "start_time": "2022-01-18T20:14:33.983Z"
   },
   {
    "duration": 2,
    "start_time": "2022-01-18T20:14:34.300Z"
   },
   {
    "duration": 240,
    "start_time": "2022-01-18T20:14:34.304Z"
   },
   {
    "duration": 2,
    "start_time": "2022-01-18T20:14:34.546Z"
   },
   {
    "duration": 198,
    "start_time": "2022-01-18T20:14:34.551Z"
   },
   {
    "duration": 2,
    "start_time": "2022-01-18T20:14:34.752Z"
   },
   {
    "duration": 276,
    "start_time": "2022-01-18T20:14:34.755Z"
   },
   {
    "duration": 2,
    "start_time": "2022-01-18T20:14:35.033Z"
   },
   {
    "duration": 208,
    "start_time": "2022-01-18T20:14:35.036Z"
   },
   {
    "duration": 2,
    "start_time": "2022-01-18T20:14:35.246Z"
   },
   {
    "duration": 690,
    "start_time": "2022-01-18T20:14:35.250Z"
   },
   {
    "duration": 2,
    "start_time": "2022-01-18T20:14:35.942Z"
   },
   {
    "duration": 206,
    "start_time": "2022-01-18T20:14:35.946Z"
   },
   {
    "duration": 2,
    "start_time": "2022-01-18T20:14:36.153Z"
   },
   {
    "duration": 25,
    "start_time": "2022-01-18T20:14:36.157Z"
   },
   {
    "duration": 15,
    "start_time": "2022-01-18T20:14:36.184Z"
   },
   {
    "duration": 28,
    "start_time": "2022-01-18T20:14:36.200Z"
   },
   {
    "duration": 2,
    "start_time": "2022-01-18T20:14:36.230Z"
   },
   {
    "duration": 9,
    "start_time": "2022-01-18T20:14:36.234Z"
   },
   {
    "duration": 55,
    "start_time": "2022-01-18T20:14:36.244Z"
   },
   {
    "duration": 238,
    "start_time": "2022-01-18T20:14:36.301Z"
   },
   {
    "duration": 3,
    "start_time": "2022-01-18T20:14:36.540Z"
   },
   {
    "duration": 18,
    "start_time": "2022-01-18T20:14:36.544Z"
   },
   {
    "duration": 37,
    "start_time": "2022-01-18T20:14:36.563Z"
   },
   {
    "duration": 100,
    "start_time": "2022-01-18T20:16:17.830Z"
   },
   {
    "duration": 23,
    "start_time": "2022-01-18T20:16:17.932Z"
   },
   {
    "duration": 79,
    "start_time": "2022-01-18T20:16:17.957Z"
   },
   {
    "duration": 6,
    "start_time": "2022-01-18T20:16:18.039Z"
   },
   {
    "duration": 75,
    "start_time": "2022-01-18T20:16:18.047Z"
   },
   {
    "duration": 39,
    "start_time": "2022-01-18T20:16:18.124Z"
   },
   {
    "duration": 817,
    "start_time": "2022-01-18T20:16:18.165Z"
   },
   {
    "duration": 3,
    "start_time": "2022-01-18T20:16:18.985Z"
   },
   {
    "duration": 51,
    "start_time": "2022-01-18T20:16:18.998Z"
   },
   {
    "duration": 364,
    "start_time": "2022-01-18T20:16:19.051Z"
   },
   {
    "duration": 386,
    "start_time": "2022-01-18T20:16:19.416Z"
   },
   {
    "duration": 262,
    "start_time": "2022-01-18T20:16:19.804Z"
   },
   {
    "duration": 319,
    "start_time": "2022-01-18T20:16:20.068Z"
   },
   {
    "duration": 381,
    "start_time": "2022-01-18T20:16:20.389Z"
   },
   {
    "duration": 2,
    "start_time": "2022-01-18T20:16:20.772Z"
   },
   {
    "duration": 801,
    "start_time": "2022-01-18T20:16:20.775Z"
   },
   {
    "duration": 2,
    "start_time": "2022-01-18T20:16:21.578Z"
   },
   {
    "duration": 20,
    "start_time": "2022-01-18T20:16:21.581Z"
   },
   {
    "duration": 314,
    "start_time": "2022-01-18T20:16:21.603Z"
   },
   {
    "duration": 2,
    "start_time": "2022-01-18T20:16:21.919Z"
   },
   {
    "duration": 264,
    "start_time": "2022-01-18T20:16:21.923Z"
   },
   {
    "duration": 11,
    "start_time": "2022-01-18T20:16:22.189Z"
   },
   {
    "duration": 222,
    "start_time": "2022-01-18T20:16:22.204Z"
   },
   {
    "duration": 3,
    "start_time": "2022-01-18T20:16:22.428Z"
   },
   {
    "duration": 283,
    "start_time": "2022-01-18T20:16:22.432Z"
   },
   {
    "duration": 3,
    "start_time": "2022-01-18T20:16:22.716Z"
   },
   {
    "duration": 216,
    "start_time": "2022-01-18T20:16:22.721Z"
   },
   {
    "duration": 2,
    "start_time": "2022-01-18T20:16:22.939Z"
   },
   {
    "duration": 744,
    "start_time": "2022-01-18T20:16:22.942Z"
   },
   {
    "duration": 2,
    "start_time": "2022-01-18T20:16:23.687Z"
   },
   {
    "duration": 218,
    "start_time": "2022-01-18T20:16:23.691Z"
   },
   {
    "duration": 3,
    "start_time": "2022-01-18T20:16:23.910Z"
   },
   {
    "duration": 27,
    "start_time": "2022-01-18T20:16:23.914Z"
   },
   {
    "duration": 2,
    "start_time": "2022-01-18T20:16:23.943Z"
   },
   {
    "duration": 55,
    "start_time": "2022-01-18T20:16:23.947Z"
   },
   {
    "duration": 2,
    "start_time": "2022-01-18T20:16:24.004Z"
   },
   {
    "duration": 5,
    "start_time": "2022-01-18T20:16:24.008Z"
   },
   {
    "duration": 38,
    "start_time": "2022-01-18T20:16:24.015Z"
   },
   {
    "duration": 270,
    "start_time": "2022-01-18T20:16:24.055Z"
   },
   {
    "duration": 2,
    "start_time": "2022-01-18T20:16:24.328Z"
   },
   {
    "duration": 6,
    "start_time": "2022-01-18T20:16:24.332Z"
   },
   {
    "duration": 30,
    "start_time": "2022-01-18T20:16:24.340Z"
   },
   {
    "duration": 36,
    "start_time": "2022-01-18T20:18:06.738Z"
   },
   {
    "duration": 8,
    "start_time": "2022-01-18T20:18:30.908Z"
   },
   {
    "duration": 72,
    "start_time": "2022-01-18T20:25:35.308Z"
   },
   {
    "duration": 738,
    "start_time": "2022-01-19T10:59:47.121Z"
   },
   {
    "duration": 27,
    "start_time": "2022-01-19T10:59:47.862Z"
   },
   {
    "duration": 75,
    "start_time": "2022-01-19T10:59:47.892Z"
   },
   {
    "duration": 5,
    "start_time": "2022-01-19T10:59:47.969Z"
   },
   {
    "duration": 25,
    "start_time": "2022-01-19T10:59:47.976Z"
   },
   {
    "duration": 34,
    "start_time": "2022-01-19T10:59:48.003Z"
   },
   {
    "duration": 800,
    "start_time": "2022-01-19T10:59:48.061Z"
   },
   {
    "duration": 4,
    "start_time": "2022-01-19T10:59:48.864Z"
   },
   {
    "duration": 23,
    "start_time": "2022-01-19T10:59:48.870Z"
   },
   {
    "duration": 466,
    "start_time": "2022-01-19T10:59:48.895Z"
   },
   {
    "duration": 352,
    "start_time": "2022-01-19T10:59:49.363Z"
   },
   {
    "duration": 221,
    "start_time": "2022-01-19T10:59:49.717Z"
   },
   {
    "duration": 261,
    "start_time": "2022-01-19T10:59:49.940Z"
   },
   {
    "duration": 345,
    "start_time": "2022-01-19T10:59:50.203Z"
   },
   {
    "duration": 3,
    "start_time": "2022-01-19T10:59:50.550Z"
   },
   {
    "duration": 343,
    "start_time": "2022-01-19T10:59:50.554Z"
   },
   {
    "duration": 3,
    "start_time": "2022-01-19T10:59:50.899Z"
   },
   {
    "duration": 19,
    "start_time": "2022-01-19T10:59:50.903Z"
   },
   {
    "duration": 300,
    "start_time": "2022-01-19T10:59:50.923Z"
   },
   {
    "duration": 2,
    "start_time": "2022-01-19T10:59:51.225Z"
   },
   {
    "duration": 213,
    "start_time": "2022-01-19T10:59:51.229Z"
   },
   {
    "duration": 2,
    "start_time": "2022-01-19T10:59:51.444Z"
   },
   {
    "duration": 293,
    "start_time": "2022-01-19T10:59:51.449Z"
   },
   {
    "duration": 3,
    "start_time": "2022-01-19T10:59:51.745Z"
   },
   {
    "duration": 303,
    "start_time": "2022-01-19T10:59:51.750Z"
   },
   {
    "duration": 2,
    "start_time": "2022-01-19T10:59:52.055Z"
   },
   {
    "duration": 188,
    "start_time": "2022-01-19T10:59:52.059Z"
   },
   {
    "duration": 11,
    "start_time": "2022-01-19T10:59:52.249Z"
   },
   {
    "duration": 608,
    "start_time": "2022-01-19T10:59:52.262Z"
   },
   {
    "duration": 3,
    "start_time": "2022-01-19T10:59:52.872Z"
   },
   {
    "duration": 191,
    "start_time": "2022-01-19T10:59:52.876Z"
   },
   {
    "duration": 2,
    "start_time": "2022-01-19T10:59:53.069Z"
   },
   {
    "duration": 31,
    "start_time": "2022-01-19T10:59:53.073Z"
   },
   {
    "duration": 2,
    "start_time": "2022-01-19T10:59:53.106Z"
   },
   {
    "duration": 29,
    "start_time": "2022-01-19T10:59:53.110Z"
   },
   {
    "duration": 19,
    "start_time": "2022-01-19T10:59:53.141Z"
   },
   {
    "duration": 4,
    "start_time": "2022-01-19T10:59:53.163Z"
   },
   {
    "duration": 40,
    "start_time": "2022-01-19T10:59:53.169Z"
   },
   {
    "duration": 220,
    "start_time": "2022-01-19T10:59:53.211Z"
   },
   {
    "duration": 2,
    "start_time": "2022-01-19T10:59:53.434Z"
   },
   {
    "duration": 8,
    "start_time": "2022-01-19T10:59:53.438Z"
   },
   {
    "duration": 126,
    "start_time": "2022-01-19T10:59:53.448Z"
   },
   {
    "duration": 346,
    "start_time": "2022-01-19T11:04:05.167Z"
   },
   {
    "duration": 256,
    "start_time": "2022-01-19T11:04:33.592Z"
   },
   {
    "duration": 166,
    "start_time": "2022-01-19T11:05:39.471Z"
   },
   {
    "duration": 167,
    "start_time": "2022-01-19T11:06:04.814Z"
   },
   {
    "duration": 182,
    "start_time": "2022-01-19T11:06:19.390Z"
   },
   {
    "duration": 169,
    "start_time": "2022-01-19T11:06:29.642Z"
   },
   {
    "duration": 283,
    "start_time": "2022-01-19T11:07:03.266Z"
   },
   {
    "duration": 928,
    "start_time": "2022-01-19T18:13:11.337Z"
   },
   {
    "duration": 38,
    "start_time": "2022-01-19T18:13:12.268Z"
   },
   {
    "duration": 87,
    "start_time": "2022-01-19T18:13:12.309Z"
   },
   {
    "duration": 60,
    "start_time": "2022-01-19T18:13:12.399Z"
   },
   {
    "duration": 41,
    "start_time": "2022-01-19T18:13:12.462Z"
   },
   {
    "duration": 71,
    "start_time": "2022-01-19T18:13:12.505Z"
   },
   {
    "duration": 1308,
    "start_time": "2022-01-19T18:13:12.579Z"
   },
   {
    "duration": 5,
    "start_time": "2022-01-19T18:13:13.892Z"
   },
   {
    "duration": 61,
    "start_time": "2022-01-19T18:13:13.900Z"
   },
   {
    "duration": 690,
    "start_time": "2022-01-19T18:13:13.964Z"
   },
   {
    "duration": 605,
    "start_time": "2022-01-19T18:13:14.660Z"
   },
   {
    "duration": 455,
    "start_time": "2022-01-19T18:13:15.268Z"
   },
   {
    "duration": 439,
    "start_time": "2022-01-19T18:13:15.726Z"
   },
   {
    "duration": 576,
    "start_time": "2022-01-19T18:13:16.167Z"
   },
   {
    "duration": 2,
    "start_time": "2022-01-19T18:13:16.746Z"
   },
   {
    "duration": 585,
    "start_time": "2022-01-19T18:13:16.758Z"
   },
   {
    "duration": 4,
    "start_time": "2022-01-19T18:13:17.345Z"
   },
   {
    "duration": 3,
    "start_time": "2022-01-19T18:13:17.359Z"
   },
   {
    "duration": 448,
    "start_time": "2022-01-19T18:13:17.364Z"
   },
   {
    "duration": 3,
    "start_time": "2022-01-19T18:13:17.814Z"
   },
   {
    "duration": 339,
    "start_time": "2022-01-19T18:13:17.820Z"
   },
   {
    "duration": 3,
    "start_time": "2022-01-19T18:13:18.161Z"
   },
   {
    "duration": 343,
    "start_time": "2022-01-19T18:13:18.169Z"
   },
   {
    "duration": 3,
    "start_time": "2022-01-19T18:13:18.515Z"
   },
   {
    "duration": 401,
    "start_time": "2022-01-19T18:13:18.520Z"
   },
   {
    "duration": 3,
    "start_time": "2022-01-19T18:13:18.924Z"
   },
   {
    "duration": 291,
    "start_time": "2022-01-19T18:13:18.929Z"
   },
   {
    "duration": 4,
    "start_time": "2022-01-19T18:13:19.222Z"
   },
   {
    "duration": 1109,
    "start_time": "2022-01-19T18:13:19.228Z"
   },
   {
    "duration": 2,
    "start_time": "2022-01-19T18:13:20.340Z"
   },
   {
    "duration": 303,
    "start_time": "2022-01-19T18:13:20.345Z"
   },
   {
    "duration": 10,
    "start_time": "2022-01-19T18:13:20.651Z"
   },
   {
    "duration": 34,
    "start_time": "2022-01-19T18:13:20.664Z"
   },
   {
    "duration": 3,
    "start_time": "2022-01-19T18:13:20.701Z"
   },
   {
    "duration": 70,
    "start_time": "2022-01-19T18:13:20.706Z"
   },
   {
    "duration": 3,
    "start_time": "2022-01-19T18:13:20.779Z"
   },
   {
    "duration": 6,
    "start_time": "2022-01-19T18:13:20.784Z"
   },
   {
    "duration": 72,
    "start_time": "2022-01-19T18:13:20.792Z"
   },
   {
    "duration": 366,
    "start_time": "2022-01-19T18:13:20.866Z"
   },
   {
    "duration": 3,
    "start_time": "2022-01-19T18:13:21.235Z"
   },
   {
    "duration": 5,
    "start_time": "2022-01-19T18:13:21.241Z"
   },
   {
    "duration": 121,
    "start_time": "2022-01-19T18:13:21.260Z"
   },
   {
    "duration": 3,
    "start_time": "2022-01-19T18:13:21.383Z"
   },
   {
    "duration": 339,
    "start_time": "2022-01-19T18:13:21.389Z"
   },
   {
    "duration": 3,
    "start_time": "2022-01-19T18:13:21.731Z"
   },
   {
    "duration": 467,
    "start_time": "2022-01-19T18:14:29.461Z"
   },
   {
    "duration": 423,
    "start_time": "2022-01-19T18:14:38.962Z"
   },
   {
    "duration": 421,
    "start_time": "2022-01-19T18:14:49.970Z"
   },
   {
    "duration": 33,
    "start_time": "2022-01-19T18:15:34.138Z"
   },
   {
    "duration": 377,
    "start_time": "2022-01-19T18:15:49.842Z"
   },
   {
    "duration": 276,
    "start_time": "2022-01-19T18:15:55.035Z"
   },
   {
    "duration": 314,
    "start_time": "2022-01-19T18:16:02.267Z"
   },
   {
    "duration": 277,
    "start_time": "2022-01-19T18:16:33.153Z"
   },
   {
    "duration": 263,
    "start_time": "2022-01-19T18:16:54.226Z"
   },
   {
    "duration": 266,
    "start_time": "2022-01-19T18:17:09.553Z"
   },
   {
    "duration": 240,
    "start_time": "2022-01-19T18:17:22.352Z"
   },
   {
    "duration": 251,
    "start_time": "2022-01-19T18:17:52.857Z"
   },
   {
    "duration": 249,
    "start_time": "2022-01-19T18:18:04.632Z"
   },
   {
    "duration": 318,
    "start_time": "2022-01-19T18:18:35.264Z"
   },
   {
    "duration": 892,
    "start_time": "2022-01-19T18:20:44.520Z"
   },
   {
    "duration": 46,
    "start_time": "2022-01-19T18:20:45.415Z"
   },
   {
    "duration": 101,
    "start_time": "2022-01-19T18:20:45.464Z"
   },
   {
    "duration": 7,
    "start_time": "2022-01-19T18:20:45.567Z"
   },
   {
    "duration": 41,
    "start_time": "2022-01-19T18:20:45.577Z"
   },
   {
    "duration": 90,
    "start_time": "2022-01-19T18:20:45.621Z"
   },
   {
    "duration": 1366,
    "start_time": "2022-01-19T18:20:45.714Z"
   },
   {
    "duration": 5,
    "start_time": "2022-01-19T18:20:47.086Z"
   },
   {
    "duration": 36,
    "start_time": "2022-01-19T18:20:47.095Z"
   },
   {
    "duration": 702,
    "start_time": "2022-01-19T18:20:47.160Z"
   },
   {
    "duration": 668,
    "start_time": "2022-01-19T18:20:47.865Z"
   },
   {
    "duration": 381,
    "start_time": "2022-01-19T18:20:48.535Z"
   },
   {
    "duration": 546,
    "start_time": "2022-01-19T18:20:48.918Z"
   },
   {
    "duration": 592,
    "start_time": "2022-01-19T18:20:49.467Z"
   },
   {
    "duration": 4,
    "start_time": "2022-01-19T18:20:50.062Z"
   },
   {
    "duration": 673,
    "start_time": "2022-01-19T18:20:50.069Z"
   },
   {
    "duration": 3,
    "start_time": "2022-01-19T18:20:50.745Z"
   },
   {
    "duration": 4,
    "start_time": "2022-01-19T18:20:50.759Z"
   },
   {
    "duration": 3,
    "start_time": "2022-01-19T18:21:36.418Z"
   },
   {
    "duration": 443,
    "start_time": "2022-01-19T18:21:36.423Z"
   },
   {
    "duration": 4,
    "start_time": "2022-01-19T18:21:36.869Z"
   },
   {
    "duration": 421,
    "start_time": "2022-01-19T18:21:36.881Z"
   },
   {
    "duration": 3,
    "start_time": "2022-01-19T18:21:37.305Z"
   },
   {
    "duration": 398,
    "start_time": "2022-01-19T18:21:37.310Z"
   },
   {
    "duration": 4,
    "start_time": "2022-01-19T18:21:37.711Z"
   },
   {
    "duration": 306,
    "start_time": "2022-01-19T18:21:37.718Z"
   },
   {
    "duration": 3,
    "start_time": "2022-01-19T18:21:38.027Z"
   },
   {
    "duration": 1016,
    "start_time": "2022-01-19T18:21:38.032Z"
   },
   {
    "duration": 8,
    "start_time": "2022-01-19T18:21:39.051Z"
   },
   {
    "duration": 299,
    "start_time": "2022-01-19T18:21:39.061Z"
   },
   {
    "duration": 3,
    "start_time": "2022-01-19T18:21:39.362Z"
   },
   {
    "duration": 35,
    "start_time": "2022-01-19T18:21:39.368Z"
   },
   {
    "duration": 3,
    "start_time": "2022-01-19T18:21:39.405Z"
   },
   {
    "duration": 69,
    "start_time": "2022-01-19T18:21:39.410Z"
   },
   {
    "duration": 3,
    "start_time": "2022-01-19T18:21:39.482Z"
   },
   {
    "duration": 5,
    "start_time": "2022-01-19T18:21:39.487Z"
   },
   {
    "duration": 68,
    "start_time": "2022-01-19T18:21:39.495Z"
   },
   {
    "duration": 351,
    "start_time": "2022-01-19T18:21:39.565Z"
   },
   {
    "duration": 3,
    "start_time": "2022-01-19T18:21:39.919Z"
   },
   {
    "duration": 6,
    "start_time": "2022-01-19T18:21:39.924Z"
   },
   {
    "duration": 133,
    "start_time": "2022-01-19T18:21:39.932Z"
   },
   {
    "duration": 2,
    "start_time": "2022-01-19T18:21:40.068Z"
   },
   {
    "duration": 338,
    "start_time": "2022-01-19T18:21:40.072Z"
   },
   {
    "duration": 4,
    "start_time": "2022-01-19T18:21:40.413Z"
   },
   {
    "duration": 254,
    "start_time": "2022-01-19T18:21:40.420Z"
   },
   {
    "duration": 36,
    "start_time": "2022-01-19T18:21:40.677Z"
   },
   {
    "duration": 124,
    "start_time": "2022-01-19T18:22:10.573Z"
   },
   {
    "duration": 35,
    "start_time": "2022-01-19T18:22:10.700Z"
   },
   {
    "duration": 65,
    "start_time": "2022-01-19T18:22:10.738Z"
   },
   {
    "duration": 60,
    "start_time": "2022-01-19T18:22:10.805Z"
   },
   {
    "duration": 37,
    "start_time": "2022-01-19T18:22:10.868Z"
   },
   {
    "duration": 82,
    "start_time": "2022-01-19T18:22:10.907Z"
   },
   {
    "duration": 1334,
    "start_time": "2022-01-19T18:22:10.991Z"
   },
   {
    "duration": 5,
    "start_time": "2022-01-19T18:22:12.328Z"
   },
   {
    "duration": 54,
    "start_time": "2022-01-19T18:22:12.335Z"
   },
   {
    "duration": 561,
    "start_time": "2022-01-19T18:22:12.392Z"
   },
   {
    "duration": 542,
    "start_time": "2022-01-19T18:22:12.959Z"
   },
   {
    "duration": 349,
    "start_time": "2022-01-19T18:22:13.503Z"
   },
   {
    "duration": 419,
    "start_time": "2022-01-19T18:22:13.859Z"
   },
   {
    "duration": 559,
    "start_time": "2022-01-19T18:22:14.280Z"
   },
   {
    "duration": 3,
    "start_time": "2022-01-19T18:22:14.841Z"
   },
   {
    "duration": 546,
    "start_time": "2022-01-19T18:22:14.846Z"
   },
   {
    "duration": 3,
    "start_time": "2022-01-19T18:22:15.395Z"
   },
   {
    "duration": 6,
    "start_time": "2022-01-19T18:22:15.400Z"
   },
   {
    "duration": -1135,
    "start_time": "2022-01-19T18:23:07.296Z"
   },
   {
    "duration": -1138,
    "start_time": "2022-01-19T18:23:07.301Z"
   },
   {
    "duration": -1140,
    "start_time": "2022-01-19T18:23:07.304Z"
   },
   {
    "duration": -1141,
    "start_time": "2022-01-19T18:23:07.307Z"
   },
   {
    "duration": -1143,
    "start_time": "2022-01-19T18:23:07.311Z"
   },
   {
    "duration": -1149,
    "start_time": "2022-01-19T18:23:07.318Z"
   },
   {
    "duration": -1150,
    "start_time": "2022-01-19T18:23:07.321Z"
   },
   {
    "duration": -1198,
    "start_time": "2022-01-19T18:23:07.370Z"
   },
   {
    "duration": -1207,
    "start_time": "2022-01-19T18:23:07.381Z"
   },
   {
    "duration": -1210,
    "start_time": "2022-01-19T18:23:07.385Z"
   },
   {
    "duration": -1210,
    "start_time": "2022-01-19T18:23:07.387Z"
   },
   {
    "duration": -1215,
    "start_time": "2022-01-19T18:23:07.393Z"
   },
   {
    "duration": -1215,
    "start_time": "2022-01-19T18:23:07.395Z"
   },
   {
    "duration": -1216,
    "start_time": "2022-01-19T18:23:07.398Z"
   },
   {
    "duration": -1217,
    "start_time": "2022-01-19T18:23:07.400Z"
   },
   {
    "duration": -1218,
    "start_time": "2022-01-19T18:23:07.403Z"
   },
   {
    "duration": -1218,
    "start_time": "2022-01-19T18:23:07.405Z"
   },
   {
    "duration": -1226,
    "start_time": "2022-01-19T18:23:07.414Z"
   },
   {
    "duration": -1227,
    "start_time": "2022-01-19T18:23:07.417Z"
   },
   {
    "duration": -1236,
    "start_time": "2022-01-19T18:23:07.428Z"
   },
   {
    "duration": -1236,
    "start_time": "2022-01-19T18:23:07.430Z"
   },
   {
    "duration": -1237,
    "start_time": "2022-01-19T18:23:07.433Z"
   },
   {
    "duration": -1185,
    "start_time": "2022-01-19T18:23:07.444Z"
   },
   {
    "duration": -1318,
    "start_time": "2022-01-19T18:23:07.578Z"
   },
   {
    "duration": -1337,
    "start_time": "2022-01-19T18:23:07.599Z"
   },
   {
    "duration": -1341,
    "start_time": "2022-01-19T18:23:07.604Z"
   },
   {
    "duration": -1345,
    "start_time": "2022-01-19T18:23:07.610Z"
   },
   {
    "duration": -1350,
    "start_time": "2022-01-19T18:23:07.616Z"
   },
   {
    "duration": -1352,
    "start_time": "2022-01-19T18:23:07.620Z"
   },
   {
    "duration": -1363,
    "start_time": "2022-01-19T18:23:07.632Z"
   },
   {
    "duration": -1364,
    "start_time": "2022-01-19T18:23:07.635Z"
   },
   {
    "duration": -1365,
    "start_time": "2022-01-19T18:23:07.637Z"
   },
   {
    "duration": -1366,
    "start_time": "2022-01-19T18:23:07.640Z"
   },
   {
    "duration": -1370,
    "start_time": "2022-01-19T18:23:07.645Z"
   },
   {
    "duration": -1371,
    "start_time": "2022-01-19T18:23:07.648Z"
   },
   {
    "duration": -1372,
    "start_time": "2022-01-19T18:23:07.650Z"
   },
   {
    "duration": -1405,
    "start_time": "2022-01-19T18:23:07.685Z"
   },
   {
    "duration": -1410,
    "start_time": "2022-01-19T18:23:07.691Z"
   },
   {
    "duration": -1410,
    "start_time": "2022-01-19T18:23:07.693Z"
   },
   {
    "duration": -1412,
    "start_time": "2022-01-19T18:23:07.696Z"
   },
   {
    "duration": -1412,
    "start_time": "2022-01-19T18:23:07.698Z"
   },
   {
    "duration": -1414,
    "start_time": "2022-01-19T18:23:07.701Z"
   },
   {
    "duration": -1414,
    "start_time": "2022-01-19T18:23:07.703Z"
   },
   {
    "duration": -1416,
    "start_time": "2022-01-19T18:23:07.706Z"
   },
   {
    "duration": -1417,
    "start_time": "2022-01-19T18:23:07.708Z"
   },
   {
    "duration": -1418,
    "start_time": "2022-01-19T18:23:07.711Z"
   },
   {
    "duration": -1354,
    "start_time": "2022-01-19T18:23:07.714Z"
   },
   {
    "duration": 145,
    "start_time": "2022-01-19T18:23:08.861Z"
   },
   {
    "duration": 60,
    "start_time": "2022-01-19T18:23:09.009Z"
   },
   {
    "duration": 91,
    "start_time": "2022-01-19T18:23:09.073Z"
   },
   {
    "duration": 6,
    "start_time": "2022-01-19T18:23:09.167Z"
   },
   {
    "duration": 39,
    "start_time": "2022-01-19T18:23:09.176Z"
   },
   {
    "duration": 88,
    "start_time": "2022-01-19T18:23:09.217Z"
   },
   {
    "duration": 1315,
    "start_time": "2022-01-19T18:23:09.307Z"
   },
   {
    "duration": 5,
    "start_time": "2022-01-19T18:23:10.625Z"
   },
   {
    "duration": 56,
    "start_time": "2022-01-19T18:23:10.634Z"
   },
   {
    "duration": 3411,
    "start_time": "2022-01-19T18:23:10.693Z"
   },
   {
    "duration": 582,
    "start_time": "2022-01-19T18:23:14.107Z"
   },
   {
    "duration": 370,
    "start_time": "2022-01-19T18:23:14.691Z"
   },
   {
    "duration": 442,
    "start_time": "2022-01-19T18:23:15.064Z"
   },
   {
    "duration": 616,
    "start_time": "2022-01-19T18:23:15.508Z"
   },
   {
    "duration": 4,
    "start_time": "2022-01-19T18:23:16.128Z"
   },
   {
    "duration": 770,
    "start_time": "2022-01-19T18:23:16.135Z"
   },
   {
    "duration": 3,
    "start_time": "2022-01-19T18:23:16.908Z"
   },
   {
    "duration": 5,
    "start_time": "2022-01-19T18:23:16.914Z"
   },
   {
    "duration": 446,
    "start_time": "2022-01-19T18:23:16.922Z"
   },
   {
    "duration": 3,
    "start_time": "2022-01-19T18:23:17.371Z"
   },
   {
    "duration": 331,
    "start_time": "2022-01-19T18:23:17.376Z"
   },
   {
    "duration": 3,
    "start_time": "2022-01-19T18:23:17.710Z"
   },
   {
    "duration": 256,
    "start_time": "2022-01-19T18:23:17.715Z"
   },
   {
    "duration": 4,
    "start_time": "2022-01-19T18:23:17.974Z"
   },
   {
    "duration": 404,
    "start_time": "2022-01-19T18:23:17.980Z"
   },
   {
    "duration": 3,
    "start_time": "2022-01-19T18:23:18.387Z"
   },
   {
    "duration": 299,
    "start_time": "2022-01-19T18:23:18.396Z"
   },
   {
    "duration": 3,
    "start_time": "2022-01-19T18:23:18.698Z"
   },
   {
    "duration": 1071,
    "start_time": "2022-01-19T18:23:18.703Z"
   },
   {
    "duration": 3,
    "start_time": "2022-01-19T18:23:19.777Z"
   },
   {
    "duration": 299,
    "start_time": "2022-01-19T18:23:19.782Z"
   },
   {
    "duration": 3,
    "start_time": "2022-01-19T18:23:20.083Z"
   },
   {
    "duration": 35,
    "start_time": "2022-01-19T18:23:20.089Z"
   },
   {
    "duration": 3,
    "start_time": "2022-01-19T18:23:20.126Z"
   },
   {
    "duration": 38,
    "start_time": "2022-01-19T18:23:20.159Z"
   },
   {
    "duration": 3,
    "start_time": "2022-01-19T18:23:20.199Z"
   },
   {
    "duration": 5,
    "start_time": "2022-01-19T18:23:20.204Z"
   },
   {
    "duration": 82,
    "start_time": "2022-01-19T18:23:20.211Z"
   },
   {
    "duration": 354,
    "start_time": "2022-01-19T18:23:20.295Z"
   },
   {
    "duration": 7,
    "start_time": "2022-01-19T18:23:20.652Z"
   },
   {
    "duration": 6,
    "start_time": "2022-01-19T18:23:20.661Z"
   },
   {
    "duration": 139,
    "start_time": "2022-01-19T18:23:20.669Z"
   },
   {
    "duration": 3,
    "start_time": "2022-01-19T18:23:20.810Z"
   },
   {
    "duration": 347,
    "start_time": "2022-01-19T18:23:20.815Z"
   },
   {
    "duration": 4,
    "start_time": "2022-01-19T18:23:21.165Z"
   },
   {
    "duration": 260,
    "start_time": "2022-01-19T18:23:21.172Z"
   },
   {
    "duration": 47,
    "start_time": "2022-01-19T18:23:21.435Z"
   },
   {
    "duration": -1141,
    "start_time": "2022-01-19T18:27:21.117Z"
   },
   {
    "duration": -1144,
    "start_time": "2022-01-19T18:27:21.121Z"
   },
   {
    "duration": -1145,
    "start_time": "2022-01-19T18:27:21.124Z"
   },
   {
    "duration": -1150,
    "start_time": "2022-01-19T18:27:21.130Z"
   },
   {
    "duration": -1156,
    "start_time": "2022-01-19T18:27:21.138Z"
   },
   {
    "duration": -1158,
    "start_time": "2022-01-19T18:27:21.141Z"
   },
   {
    "duration": -1161,
    "start_time": "2022-01-19T18:27:21.146Z"
   },
   {
    "duration": -1164,
    "start_time": "2022-01-19T18:27:21.150Z"
   },
   {
    "duration": -1166,
    "start_time": "2022-01-19T18:27:21.154Z"
   },
   {
    "duration": -1170,
    "start_time": "2022-01-19T18:27:21.159Z"
   },
   {
    "duration": -1170,
    "start_time": "2022-01-19T18:27:21.161Z"
   },
   {
    "duration": -1178,
    "start_time": "2022-01-19T18:27:21.170Z"
   },
   {
    "duration": -1180,
    "start_time": "2022-01-19T18:27:21.173Z"
   },
   {
    "duration": -1182,
    "start_time": "2022-01-19T18:27:21.177Z"
   },
   {
    "duration": -1190,
    "start_time": "2022-01-19T18:27:21.186Z"
   },
   {
    "duration": -1192,
    "start_time": "2022-01-19T18:27:21.189Z"
   },
   {
    "duration": -1194,
    "start_time": "2022-01-19T18:27:21.193Z"
   },
   {
    "duration": -1196,
    "start_time": "2022-01-19T18:27:21.197Z"
   },
   {
    "duration": -1198,
    "start_time": "2022-01-19T18:27:21.200Z"
   },
   {
    "duration": -1201,
    "start_time": "2022-01-19T18:27:21.205Z"
   },
   {
    "duration": -1204,
    "start_time": "2022-01-19T18:27:21.209Z"
   },
   {
    "duration": -1205,
    "start_time": "2022-01-19T18:27:21.212Z"
   },
   {
    "duration": -1212,
    "start_time": "2022-01-19T18:27:21.220Z"
   },
   {
    "duration": -1214,
    "start_time": "2022-01-19T18:27:21.223Z"
   },
   {
    "duration": -1167,
    "start_time": "2022-01-19T18:27:21.226Z"
   },
   {
    "duration": -1169,
    "start_time": "2022-01-19T18:27:21.229Z"
   },
   {
    "duration": -1169,
    "start_time": "2022-01-19T18:27:21.231Z"
   },
   {
    "duration": -1170,
    "start_time": "2022-01-19T18:27:21.233Z"
   },
   {
    "duration": -1171,
    "start_time": "2022-01-19T18:27:21.236Z"
   },
   {
    "duration": -1337,
    "start_time": "2022-01-19T18:27:21.403Z"
   },
   {
    "duration": -1338,
    "start_time": "2022-01-19T18:27:21.405Z"
   },
   {
    "duration": -1339,
    "start_time": "2022-01-19T18:27:21.408Z"
   },
   {
    "duration": -1340,
    "start_time": "2022-01-19T18:27:21.410Z"
   },
   {
    "duration": -1341,
    "start_time": "2022-01-19T18:27:21.413Z"
   },
   {
    "duration": -1342,
    "start_time": "2022-01-19T18:27:21.415Z"
   },
   {
    "duration": -1344,
    "start_time": "2022-01-19T18:27:21.418Z"
   },
   {
    "duration": -1346,
    "start_time": "2022-01-19T18:27:21.422Z"
   },
   {
    "duration": -1350,
    "start_time": "2022-01-19T18:27:21.427Z"
   },
   {
    "duration": -1351,
    "start_time": "2022-01-19T18:27:21.430Z"
   },
   {
    "duration": -1355,
    "start_time": "2022-01-19T18:27:21.435Z"
   },
   {
    "duration": -1357,
    "start_time": "2022-01-19T18:27:21.439Z"
   },
   {
    "duration": -1360,
    "start_time": "2022-01-19T18:27:21.443Z"
   },
   {
    "duration": -1362,
    "start_time": "2022-01-19T18:27:21.447Z"
   },
   {
    "duration": -1365,
    "start_time": "2022-01-19T18:27:21.452Z"
   },
   {
    "duration": -1367,
    "start_time": "2022-01-19T18:27:21.455Z"
   },
   {
    "duration": -1368,
    "start_time": "2022-01-19T18:27:21.458Z"
   },
   {
    "duration": -1372,
    "start_time": "2022-01-19T18:27:21.463Z"
   },
   {
    "duration": 436,
    "start_time": "2022-01-19T19:09:13.743Z"
   },
   {
    "duration": 132,
    "start_time": "2022-01-19T19:09:17.503Z"
   },
   {
    "duration": 40,
    "start_time": "2022-01-19T19:09:17.660Z"
   },
   {
    "duration": 86,
    "start_time": "2022-01-19T19:09:17.703Z"
   },
   {
    "duration": 8,
    "start_time": "2022-01-19T19:09:17.792Z"
   },
   {
    "duration": 91,
    "start_time": "2022-01-19T19:09:17.802Z"
   },
   {
    "duration": 72,
    "start_time": "2022-01-19T19:09:17.897Z"
   },
   {
    "duration": 2180,
    "start_time": "2022-01-19T19:09:17.971Z"
   },
   {
    "duration": 9,
    "start_time": "2022-01-19T19:09:20.153Z"
   },
   {
    "duration": 39,
    "start_time": "2022-01-19T19:09:20.167Z"
   },
   {
    "duration": 591,
    "start_time": "2022-01-19T19:09:20.210Z"
   },
   {
    "duration": 600,
    "start_time": "2022-01-19T19:09:20.804Z"
   },
   {
    "duration": 382,
    "start_time": "2022-01-19T19:09:21.407Z"
   },
   {
    "duration": 454,
    "start_time": "2022-01-19T19:09:21.791Z"
   },
   {
    "duration": 825,
    "start_time": "2022-01-19T19:09:22.248Z"
   },
   {
    "duration": 4,
    "start_time": "2022-01-19T19:09:23.076Z"
   },
   {
    "duration": 582,
    "start_time": "2022-01-19T19:09:23.083Z"
   },
   {
    "duration": 3,
    "start_time": "2022-01-19T19:09:23.668Z"
   },
   {
    "duration": 21,
    "start_time": "2022-01-19T19:09:23.675Z"
   },
   {
    "duration": 466,
    "start_time": "2022-01-19T19:09:23.698Z"
   },
   {
    "duration": 3,
    "start_time": "2022-01-19T19:09:24.167Z"
   },
   {
    "duration": 336,
    "start_time": "2022-01-19T19:09:24.172Z"
   },
   {
    "duration": 3,
    "start_time": "2022-01-19T19:09:24.510Z"
   },
   {
    "duration": 282,
    "start_time": "2022-01-19T19:09:24.515Z"
   },
   {
    "duration": 3,
    "start_time": "2022-01-19T19:09:24.800Z"
   },
   {
    "duration": 415,
    "start_time": "2022-01-19T19:09:24.806Z"
   },
   {
    "duration": 3,
    "start_time": "2022-01-19T19:09:25.223Z"
   },
   {
    "duration": 324,
    "start_time": "2022-01-19T19:09:25.232Z"
   },
   {
    "duration": 3,
    "start_time": "2022-01-19T19:09:25.559Z"
   },
   {
    "duration": 1097,
    "start_time": "2022-01-19T19:09:25.565Z"
   },
   {
    "duration": 3,
    "start_time": "2022-01-19T19:09:26.665Z"
   },
   {
    "duration": 300,
    "start_time": "2022-01-19T19:09:26.670Z"
   },
   {
    "duration": 3,
    "start_time": "2022-01-19T19:09:26.973Z"
   },
   {
    "duration": 37,
    "start_time": "2022-01-19T19:09:26.978Z"
   },
   {
    "duration": 3,
    "start_time": "2022-01-19T19:09:27.017Z"
   },
   {
    "duration": 75,
    "start_time": "2022-01-19T19:09:27.022Z"
   },
   {
    "duration": 4,
    "start_time": "2022-01-19T19:09:27.100Z"
   },
   {
    "duration": 7,
    "start_time": "2022-01-19T19:09:27.106Z"
   },
   {
    "duration": 75,
    "start_time": "2022-01-19T19:09:27.116Z"
   },
   {
    "duration": 362,
    "start_time": "2022-01-19T19:09:27.194Z"
   },
   {
    "duration": 4,
    "start_time": "2022-01-19T19:09:27.561Z"
   },
   {
    "duration": 5,
    "start_time": "2022-01-19T19:09:27.568Z"
   },
   {
    "duration": 189,
    "start_time": "2022-01-19T19:09:27.576Z"
   },
   {
    "duration": 4,
    "start_time": "2022-01-19T19:09:27.768Z"
   },
   {
    "duration": 378,
    "start_time": "2022-01-19T19:09:27.775Z"
   },
   {
    "duration": 5,
    "start_time": "2022-01-19T19:09:28.160Z"
   },
   {
    "duration": 279,
    "start_time": "2022-01-19T19:09:28.167Z"
   },
   {
    "duration": 43,
    "start_time": "2022-01-19T19:09:28.448Z"
   },
   {
    "duration": 302,
    "start_time": "2022-01-19T19:10:14.521Z"
   },
   {
    "duration": 1048,
    "start_time": "2022-01-19T19:10:19.943Z"
   },
   {
    "duration": 414,
    "start_time": "2022-01-19T19:10:38.070Z"
   },
   {
    "duration": 273,
    "start_time": "2022-01-19T19:11:57.786Z"
   },
   {
    "duration": 366,
    "start_time": "2022-01-19T19:12:15.798Z"
   },
   {
    "duration": 272,
    "start_time": "2022-01-19T19:12:27.559Z"
   },
   {
    "duration": 235,
    "start_time": "2022-01-19T19:12:42.382Z"
   },
   {
    "duration": 286,
    "start_time": "2022-01-19T19:12:53.157Z"
   },
   {
    "duration": 672,
    "start_time": "2022-01-19T19:13:57.701Z"
   },
   {
    "duration": 116,
    "start_time": "2022-01-19T19:14:41.493Z"
   },
   {
    "duration": 393,
    "start_time": "2022-01-19T19:14:47.612Z"
   },
   {
    "duration": 664,
    "start_time": "2022-01-19T19:15:13.613Z"
   },
   {
    "duration": 654,
    "start_time": "2022-01-19T19:15:22.724Z"
   },
   {
    "duration": 733,
    "start_time": "2022-01-19T19:15:33.782Z"
   },
   {
    "duration": 262,
    "start_time": "2022-01-19T19:16:58.660Z"
   },
   {
    "duration": 265,
    "start_time": "2022-01-19T19:17:07.357Z"
   },
   {
    "duration": 132,
    "start_time": "2022-01-19T19:17:34.620Z"
   },
   {
    "duration": 421,
    "start_time": "2022-01-19T19:18:11.651Z"
   },
   {
    "duration": 401,
    "start_time": "2022-01-19T19:18:31.787Z"
   },
   {
    "duration": 417,
    "start_time": "2022-01-19T19:18:54.149Z"
   },
   {
    "duration": 373,
    "start_time": "2022-01-19T19:19:12.531Z"
   },
   {
    "duration": 391,
    "start_time": "2022-01-19T19:19:19.277Z"
   },
   {
    "duration": 383,
    "start_time": "2022-01-19T19:19:23.547Z"
   },
   {
    "duration": 371,
    "start_time": "2022-01-19T19:19:26.796Z"
   },
   {
    "duration": 345,
    "start_time": "2022-01-19T19:19:31.603Z"
   },
   {
    "duration": 370,
    "start_time": "2022-01-19T19:19:39.435Z"
   },
   {
    "duration": 417,
    "start_time": "2022-01-19T19:19:45.906Z"
   },
   {
    "duration": 728,
    "start_time": "2022-01-20T06:41:00.135Z"
   },
   {
    "duration": 28,
    "start_time": "2022-01-20T06:41:00.865Z"
   },
   {
    "duration": 63,
    "start_time": "2022-01-20T06:41:00.895Z"
   },
   {
    "duration": 6,
    "start_time": "2022-01-20T06:41:00.959Z"
   },
   {
    "duration": 26,
    "start_time": "2022-01-20T06:41:00.966Z"
   },
   {
    "duration": 72,
    "start_time": "2022-01-20T06:41:00.994Z"
   },
   {
    "duration": 894,
    "start_time": "2022-01-20T06:41:01.067Z"
   },
   {
    "duration": 3,
    "start_time": "2022-01-20T06:41:01.964Z"
   },
   {
    "duration": 29,
    "start_time": "2022-01-20T06:41:01.969Z"
   },
   {
    "duration": 620,
    "start_time": "2022-01-20T06:41:02.000Z"
   },
   {
    "duration": 314,
    "start_time": "2022-01-20T06:41:02.622Z"
   },
   {
    "duration": 208,
    "start_time": "2022-01-20T06:41:02.940Z"
   },
   {
    "duration": 244,
    "start_time": "2022-01-20T06:41:03.150Z"
   },
   {
    "duration": 304,
    "start_time": "2022-01-20T06:41:03.396Z"
   },
   {
    "duration": 3,
    "start_time": "2022-01-20T06:41:03.702Z"
   },
   {
    "duration": 309,
    "start_time": "2022-01-20T06:41:03.706Z"
   },
   {
    "duration": 2,
    "start_time": "2022-01-20T06:41:04.016Z"
   },
   {
    "duration": 21,
    "start_time": "2022-01-20T06:41:04.020Z"
   },
   {
    "duration": 279,
    "start_time": "2022-01-20T06:41:04.042Z"
   },
   {
    "duration": 2,
    "start_time": "2022-01-20T06:41:04.323Z"
   },
   {
    "duration": 207,
    "start_time": "2022-01-20T06:41:04.327Z"
   },
   {
    "duration": 5,
    "start_time": "2022-01-20T06:41:04.536Z"
   },
   {
    "duration": 256,
    "start_time": "2022-01-20T06:41:04.545Z"
   },
   {
    "duration": 2,
    "start_time": "2022-01-20T06:41:04.803Z"
   },
   {
    "duration": 267,
    "start_time": "2022-01-20T06:41:04.807Z"
   },
   {
    "duration": 2,
    "start_time": "2022-01-20T06:41:05.076Z"
   },
   {
    "duration": 185,
    "start_time": "2022-01-20T06:41:05.080Z"
   },
   {
    "duration": 3,
    "start_time": "2022-01-20T06:41:05.266Z"
   },
   {
    "duration": 605,
    "start_time": "2022-01-20T06:41:05.270Z"
   },
   {
    "duration": 2,
    "start_time": "2022-01-20T06:41:05.877Z"
   },
   {
    "duration": 193,
    "start_time": "2022-01-20T06:41:05.880Z"
   },
   {
    "duration": 3,
    "start_time": "2022-01-20T06:41:06.074Z"
   },
   {
    "duration": 25,
    "start_time": "2022-01-20T06:41:06.078Z"
   },
   {
    "duration": 2,
    "start_time": "2022-01-20T06:41:06.105Z"
   },
   {
    "duration": 45,
    "start_time": "2022-01-20T06:41:06.108Z"
   },
   {
    "duration": 2,
    "start_time": "2022-01-20T06:41:06.155Z"
   },
   {
    "duration": 7,
    "start_time": "2022-01-20T06:41:06.158Z"
   },
   {
    "duration": 36,
    "start_time": "2022-01-20T06:41:06.166Z"
   },
   {
    "duration": 218,
    "start_time": "2022-01-20T06:41:06.203Z"
   },
   {
    "duration": 2,
    "start_time": "2022-01-20T06:41:06.423Z"
   },
   {
    "duration": 15,
    "start_time": "2022-01-20T06:41:06.426Z"
   },
   {
    "duration": 110,
    "start_time": "2022-01-20T06:41:06.443Z"
   },
   {
    "duration": 2,
    "start_time": "2022-01-20T06:41:06.554Z"
   },
   {
    "duration": 203,
    "start_time": "2022-01-20T06:41:06.558Z"
   },
   {
    "duration": 2,
    "start_time": "2022-01-20T06:41:06.762Z"
   },
   {
    "duration": 414,
    "start_time": "2022-01-20T06:41:06.766Z"
   },
   {
    "duration": 3,
    "start_time": "2022-01-20T06:41:07.181Z"
   },
   {
    "duration": 34,
    "start_time": "2022-01-20T06:41:07.185Z"
   },
   {
    "duration": 66,
    "start_time": "2022-01-20T06:45:31.938Z"
   },
   {
    "duration": 23,
    "start_time": "2022-01-20T06:46:30.628Z"
   },
   {
    "duration": 169,
    "start_time": "2022-01-20T06:46:48.098Z"
   },
   {
    "duration": 261,
    "start_time": "2022-01-20T06:47:02.854Z"
   },
   {
    "duration": 397,
    "start_time": "2022-01-20T06:47:25.099Z"
   },
   {
    "duration": 150,
    "start_time": "2022-01-20T06:48:35.778Z"
   },
   {
    "duration": 366,
    "start_time": "2022-01-20T06:48:54.438Z"
   },
   {
    "duration": 360,
    "start_time": "2022-01-20T06:49:10.098Z"
   },
   {
    "duration": 154,
    "start_time": "2022-01-20T06:49:18.258Z"
   },
   {
    "duration": 204,
    "start_time": "2022-01-20T06:49:35.398Z"
   },
   {
    "duration": 227,
    "start_time": "2022-01-20T06:50:49.408Z"
   },
   {
    "duration": 268,
    "start_time": "2022-01-20T06:51:16.866Z"
   },
   {
    "duration": 335,
    "start_time": "2022-01-20T06:51:26.099Z"
   },
   {
    "duration": 227,
    "start_time": "2022-01-20T06:51:47.457Z"
   },
   {
    "duration": 208,
    "start_time": "2022-01-20T06:52:41.742Z"
   },
   {
    "duration": 238,
    "start_time": "2022-01-20T06:53:01.699Z"
   },
   {
    "duration": 155,
    "start_time": "2022-01-20T06:53:15.777Z"
   },
   {
    "duration": 570,
    "start_time": "2022-01-20T06:53:21.798Z"
   },
   {
    "duration": 155,
    "start_time": "2022-01-20T06:53:30.488Z"
   },
   {
    "duration": 162,
    "start_time": "2022-01-20T06:54:16.016Z"
   },
   {
    "duration": 221,
    "start_time": "2022-01-20T06:57:39.729Z"
   },
   {
    "duration": 423,
    "start_time": "2022-01-20T07:07:45.961Z"
   },
   {
    "duration": 243,
    "start_time": "2022-01-20T07:08:04.739Z"
   },
   {
    "duration": 255,
    "start_time": "2022-01-20T07:08:23.358Z"
   },
   {
    "duration": 745,
    "start_time": "2022-01-20T09:13:32.194Z"
   },
   {
    "duration": 22,
    "start_time": "2022-01-20T09:13:32.941Z"
   },
   {
    "duration": 67,
    "start_time": "2022-01-20T09:13:32.965Z"
   },
   {
    "duration": 5,
    "start_time": "2022-01-20T09:13:33.034Z"
   },
   {
    "duration": 22,
    "start_time": "2022-01-20T09:13:33.040Z"
   },
   {
    "duration": 32,
    "start_time": "2022-01-20T09:13:33.063Z"
   },
   {
    "duration": 755,
    "start_time": "2022-01-20T09:13:33.096Z"
   },
   {
    "duration": 3,
    "start_time": "2022-01-20T09:13:33.853Z"
   },
   {
    "duration": 22,
    "start_time": "2022-01-20T09:13:33.858Z"
   },
   {
    "duration": 402,
    "start_time": "2022-01-20T09:13:33.881Z"
   },
   {
    "duration": 302,
    "start_time": "2022-01-20T09:13:34.285Z"
   },
   {
    "duration": 204,
    "start_time": "2022-01-20T09:13:34.589Z"
   },
   {
    "duration": 240,
    "start_time": "2022-01-20T09:13:34.795Z"
   },
   {
    "duration": 291,
    "start_time": "2022-01-20T09:13:35.037Z"
   },
   {
    "duration": 2,
    "start_time": "2022-01-20T09:13:35.330Z"
   },
   {
    "duration": 309,
    "start_time": "2022-01-20T09:13:35.333Z"
   },
   {
    "duration": 2,
    "start_time": "2022-01-20T09:13:35.644Z"
   },
   {
    "duration": 4,
    "start_time": "2022-01-20T09:13:35.648Z"
   },
   {
    "duration": 236,
    "start_time": "2022-01-20T09:13:35.654Z"
   },
   {
    "duration": 2,
    "start_time": "2022-01-20T09:13:35.891Z"
   },
   {
    "duration": 178,
    "start_time": "2022-01-20T09:13:35.895Z"
   },
   {
    "duration": 2,
    "start_time": "2022-01-20T09:13:36.074Z"
   },
   {
    "duration": 206,
    "start_time": "2022-01-20T09:13:36.079Z"
   },
   {
    "duration": 2,
    "start_time": "2022-01-20T09:13:36.287Z"
   },
   {
    "duration": 211,
    "start_time": "2022-01-20T09:13:36.290Z"
   },
   {
    "duration": 2,
    "start_time": "2022-01-20T09:13:36.502Z"
   },
   {
    "duration": 158,
    "start_time": "2022-01-20T09:13:36.506Z"
   },
   {
    "duration": 2,
    "start_time": "2022-01-20T09:13:36.666Z"
   },
   {
    "duration": 538,
    "start_time": "2022-01-20T09:13:36.669Z"
   },
   {
    "duration": 2,
    "start_time": "2022-01-20T09:13:37.208Z"
   },
   {
    "duration": 159,
    "start_time": "2022-01-20T09:13:37.212Z"
   },
   {
    "duration": 2,
    "start_time": "2022-01-20T09:13:37.373Z"
   },
   {
    "duration": 23,
    "start_time": "2022-01-20T09:13:37.377Z"
   },
   {
    "duration": 2,
    "start_time": "2022-01-20T09:13:37.402Z"
   },
   {
    "duration": 43,
    "start_time": "2022-01-20T09:13:37.406Z"
   },
   {
    "duration": 3,
    "start_time": "2022-01-20T09:13:37.451Z"
   },
   {
    "duration": 4,
    "start_time": "2022-01-20T09:13:37.455Z"
   },
   {
    "duration": 32,
    "start_time": "2022-01-20T09:13:37.460Z"
   },
   {
    "duration": 223,
    "start_time": "2022-01-20T09:13:37.494Z"
   },
   {
    "duration": 2,
    "start_time": "2022-01-20T09:13:37.718Z"
   },
   {
    "duration": 6,
    "start_time": "2022-01-20T09:13:37.722Z"
   },
   {
    "duration": 116,
    "start_time": "2022-01-20T09:13:37.729Z"
   },
   {
    "duration": -1828,
    "start_time": "2022-01-20T09:13:39.675Z"
   },
   {
    "duration": -1834,
    "start_time": "2022-01-20T09:13:39.682Z"
   },
   {
    "duration": -1841,
    "start_time": "2022-01-20T09:13:39.689Z"
   },
   {
    "duration": -1846,
    "start_time": "2022-01-20T09:13:39.695Z"
   },
   {
    "duration": -1870,
    "start_time": "2022-01-20T09:13:39.720Z"
   },
   {
    "duration": -1878,
    "start_time": "2022-01-20T09:13:39.729Z"
   },
   {
    "duration": -1887,
    "start_time": "2022-01-20T09:13:39.738Z"
   },
   {
    "duration": -1896,
    "start_time": "2022-01-20T09:13:39.748Z"
   },
   {
    "duration": -1903,
    "start_time": "2022-01-20T09:13:39.756Z"
   },
   {
    "duration": -1908,
    "start_time": "2022-01-20T09:13:39.762Z"
   },
   {
    "duration": -1915,
    "start_time": "2022-01-20T09:13:39.770Z"
   },
   {
    "duration": 106,
    "start_time": "2022-01-20T09:14:05.234Z"
   },
   {
    "duration": 119,
    "start_time": "2022-01-20T09:14:26.354Z"
   },
   {
    "duration": 90,
    "start_time": "2022-01-20T09:14:54.162Z"
   },
   {
    "duration": 95,
    "start_time": "2022-01-20T09:14:57.932Z"
   },
   {
    "duration": 20,
    "start_time": "2022-01-20T09:14:58.028Z"
   },
   {
    "duration": 77,
    "start_time": "2022-01-20T09:14:58.050Z"
   },
   {
    "duration": 5,
    "start_time": "2022-01-20T09:14:58.129Z"
   },
   {
    "duration": 23,
    "start_time": "2022-01-20T09:14:58.135Z"
   },
   {
    "duration": 32,
    "start_time": "2022-01-20T09:14:58.159Z"
   },
   {
    "duration": 740,
    "start_time": "2022-01-20T09:14:58.192Z"
   },
   {
    "duration": 4,
    "start_time": "2022-01-20T09:14:58.934Z"
   },
   {
    "duration": 20,
    "start_time": "2022-01-20T09:14:58.940Z"
   },
   {
    "duration": 368,
    "start_time": "2022-01-20T09:14:58.962Z"
   },
   {
    "duration": 297,
    "start_time": "2022-01-20T09:14:59.332Z"
   },
   {
    "duration": 197,
    "start_time": "2022-01-20T09:14:59.630Z"
   },
   {
    "duration": 225,
    "start_time": "2022-01-20T09:14:59.828Z"
   },
   {
    "duration": 347,
    "start_time": "2022-01-20T09:15:00.055Z"
   },
   {
    "duration": 2,
    "start_time": "2022-01-20T09:15:00.404Z"
   },
   {
    "duration": 304,
    "start_time": "2022-01-20T09:15:00.407Z"
   },
   {
    "duration": 2,
    "start_time": "2022-01-20T09:15:00.712Z"
   },
   {
    "duration": 12,
    "start_time": "2022-01-20T09:15:00.716Z"
   },
   {
    "duration": 235,
    "start_time": "2022-01-20T09:15:00.729Z"
   },
   {
    "duration": 2,
    "start_time": "2022-01-20T09:15:00.966Z"
   },
   {
    "duration": 185,
    "start_time": "2022-01-20T09:15:00.970Z"
   },
   {
    "duration": 2,
    "start_time": "2022-01-20T09:15:01.157Z"
   },
   {
    "duration": 261,
    "start_time": "2022-01-20T09:15:01.161Z"
   },
   {
    "duration": 4,
    "start_time": "2022-01-20T09:15:01.423Z"
   },
   {
    "duration": 231,
    "start_time": "2022-01-20T09:15:01.429Z"
   },
   {
    "duration": 2,
    "start_time": "2022-01-20T09:15:01.662Z"
   },
   {
    "duration": 174,
    "start_time": "2022-01-20T09:15:01.668Z"
   },
   {
    "duration": 3,
    "start_time": "2022-01-20T09:15:01.845Z"
   },
   {
    "duration": 571,
    "start_time": "2022-01-20T09:15:01.849Z"
   },
   {
    "duration": 6,
    "start_time": "2022-01-20T09:15:02.421Z"
   },
   {
    "duration": 162,
    "start_time": "2022-01-20T09:15:02.429Z"
   },
   {
    "duration": 2,
    "start_time": "2022-01-20T09:15:02.593Z"
   },
   {
    "duration": 32,
    "start_time": "2022-01-20T09:15:02.596Z"
   },
   {
    "duration": 2,
    "start_time": "2022-01-20T09:15:02.629Z"
   },
   {
    "duration": 26,
    "start_time": "2022-01-20T09:15:02.633Z"
   },
   {
    "duration": 2,
    "start_time": "2022-01-20T09:15:02.661Z"
   },
   {
    "duration": 5,
    "start_time": "2022-01-20T09:15:02.664Z"
   },
   {
    "duration": 36,
    "start_time": "2022-01-20T09:15:02.671Z"
   },
   {
    "duration": 219,
    "start_time": "2022-01-20T09:15:02.708Z"
   },
   {
    "duration": 2,
    "start_time": "2022-01-20T09:15:02.929Z"
   },
   {
    "duration": 11,
    "start_time": "2022-01-20T09:15:02.933Z"
   },
   {
    "duration": 75,
    "start_time": "2022-01-20T09:15:02.945Z"
   },
   {
    "duration": 2,
    "start_time": "2022-01-20T09:15:03.021Z"
   },
   {
    "duration": 199,
    "start_time": "2022-01-20T09:15:03.025Z"
   },
   {
    "duration": 2,
    "start_time": "2022-01-20T09:15:03.225Z"
   },
   {
    "duration": 375,
    "start_time": "2022-01-20T09:15:03.229Z"
   },
   {
    "duration": 2,
    "start_time": "2022-01-20T09:15:03.606Z"
   },
   {
    "duration": 170,
    "start_time": "2022-01-20T09:15:03.609Z"
   },
   {
    "duration": 3,
    "start_time": "2022-01-20T09:15:03.780Z"
   },
   {
    "duration": 235,
    "start_time": "2022-01-20T09:15:03.784Z"
   },
   {
    "duration": 6,
    "start_time": "2022-01-20T09:15:04.021Z"
   },
   {
    "duration": 28,
    "start_time": "2022-01-20T09:15:04.029Z"
   },
   {
    "duration": 362,
    "start_time": "2022-01-20T09:19:49.210Z"
   },
   {
    "duration": 288,
    "start_time": "2022-01-20T09:20:31.554Z"
   },
   {
    "duration": 292,
    "start_time": "2022-01-20T09:21:13.850Z"
   },
   {
    "duration": 717,
    "start_time": "2022-01-20T09:22:38.330Z"
   },
   {
    "duration": 841,
    "start_time": "2022-01-20T09:23:01.875Z"
   },
   {
    "duration": 717,
    "start_time": "2022-01-20T09:23:22.122Z"
   },
   {
    "duration": 311,
    "start_time": "2022-01-20T09:24:04.058Z"
   },
   {
    "duration": 427,
    "start_time": "2022-01-20T09:24:05.125Z"
   },
   {
    "duration": 279,
    "start_time": "2022-01-20T09:24:06.307Z"
   },
   {
    "duration": 291,
    "start_time": "2022-01-20T09:24:07.586Z"
   },
   {
    "duration": 150,
    "start_time": "2022-01-20T09:24:20.770Z"
   },
   {
    "duration": 290,
    "start_time": "2022-01-20T09:24:36.146Z"
   },
   {
    "duration": 156,
    "start_time": "2022-01-20T09:24:57.755Z"
   },
   {
    "duration": 408,
    "start_time": "2022-01-20T09:26:18.370Z"
   },
   {
    "duration": 306,
    "start_time": "2022-01-20T09:26:53.794Z"
   },
   {
    "duration": 175,
    "start_time": "2022-01-20T09:27:09.601Z"
   },
   {
    "duration": 223,
    "start_time": "2022-01-20T09:27:20.085Z"
   },
   {
    "duration": 199,
    "start_time": "2022-01-20T09:27:46.866Z"
   },
   {
    "duration": 271,
    "start_time": "2022-01-20T09:27:55.298Z"
   },
   {
    "duration": 270,
    "start_time": "2022-01-20T09:28:05.634Z"
   },
   {
    "duration": 423,
    "start_time": "2022-01-20T09:28:15.227Z"
   },
   {
    "duration": 307,
    "start_time": "2022-01-20T09:31:08.930Z"
   },
   {
    "duration": 153,
    "start_time": "2022-01-20T09:34:49.650Z"
   },
   {
    "duration": 314,
    "start_time": "2022-01-20T09:35:50.970Z"
   },
   {
    "duration": 164,
    "start_time": "2022-01-20T09:36:01.354Z"
   },
   {
    "duration": 169,
    "start_time": "2022-01-20T09:36:09.370Z"
   },
   {
    "duration": 92,
    "start_time": "2022-01-20T09:37:07.579Z"
   },
   {
    "duration": 22,
    "start_time": "2022-01-20T09:37:07.673Z"
   },
   {
    "duration": 47,
    "start_time": "2022-01-20T09:37:07.697Z"
   },
   {
    "duration": 4,
    "start_time": "2022-01-20T09:37:07.746Z"
   },
   {
    "duration": 50,
    "start_time": "2022-01-20T09:37:07.751Z"
   },
   {
    "duration": 38,
    "start_time": "2022-01-20T09:37:07.802Z"
   },
   {
    "duration": 726,
    "start_time": "2022-01-20T09:37:07.841Z"
   },
   {
    "duration": 3,
    "start_time": "2022-01-20T09:37:08.569Z"
   },
   {
    "duration": 34,
    "start_time": "2022-01-20T09:37:08.574Z"
   },
   {
    "duration": 297,
    "start_time": "2022-01-20T09:37:08.610Z"
   },
   {
    "duration": 322,
    "start_time": "2022-01-20T09:37:08.908Z"
   },
   {
    "duration": 235,
    "start_time": "2022-01-20T09:37:09.232Z"
   },
   {
    "duration": 254,
    "start_time": "2022-01-20T09:37:09.468Z"
   },
   {
    "duration": 322,
    "start_time": "2022-01-20T09:37:09.723Z"
   },
   {
    "duration": 2,
    "start_time": "2022-01-20T09:37:10.046Z"
   },
   {
    "duration": 300,
    "start_time": "2022-01-20T09:37:10.050Z"
   },
   {
    "duration": 3,
    "start_time": "2022-01-20T09:37:10.351Z"
   },
   {
    "duration": 8,
    "start_time": "2022-01-20T09:37:10.355Z"
   },
   {
    "duration": 444,
    "start_time": "2022-01-20T09:37:10.365Z"
   },
   {
    "duration": 2,
    "start_time": "2022-01-20T09:37:10.811Z"
   },
   {
    "duration": 192,
    "start_time": "2022-01-20T09:37:10.815Z"
   },
   {
    "duration": 2,
    "start_time": "2022-01-20T09:37:11.009Z"
   },
   {
    "duration": 183,
    "start_time": "2022-01-20T09:37:11.012Z"
   },
   {
    "duration": 3,
    "start_time": "2022-01-20T09:37:11.197Z"
   },
   {
    "duration": 241,
    "start_time": "2022-01-20T09:37:11.202Z"
   },
   {
    "duration": 2,
    "start_time": "2022-01-20T09:37:11.444Z"
   },
   {
    "duration": 164,
    "start_time": "2022-01-20T09:37:11.450Z"
   },
   {
    "duration": 2,
    "start_time": "2022-01-20T09:37:11.616Z"
   },
   {
    "duration": 555,
    "start_time": "2022-01-20T09:37:11.619Z"
   },
   {
    "duration": 2,
    "start_time": "2022-01-20T09:37:12.176Z"
   },
   {
    "duration": 166,
    "start_time": "2022-01-20T09:37:12.179Z"
   },
   {
    "duration": 2,
    "start_time": "2022-01-20T09:37:12.346Z"
   },
   {
    "duration": 28,
    "start_time": "2022-01-20T09:37:12.350Z"
   },
   {
    "duration": 2,
    "start_time": "2022-01-20T09:37:12.380Z"
   },
   {
    "duration": 24,
    "start_time": "2022-01-20T09:37:12.383Z"
   },
   {
    "duration": 18,
    "start_time": "2022-01-20T09:37:12.409Z"
   },
   {
    "duration": 3,
    "start_time": "2022-01-20T09:37:12.428Z"
   },
   {
    "duration": 33,
    "start_time": "2022-01-20T09:37:12.433Z"
   },
   {
    "duration": 207,
    "start_time": "2022-01-20T09:37:12.467Z"
   },
   {
    "duration": 2,
    "start_time": "2022-01-20T09:37:12.676Z"
   },
   {
    "duration": 4,
    "start_time": "2022-01-20T09:37:12.680Z"
   },
   {
    "duration": 77,
    "start_time": "2022-01-20T09:37:12.686Z"
   },
   {
    "duration": 264,
    "start_time": "2022-01-20T09:37:12.764Z"
   },
   {
    "duration": 2,
    "start_time": "2022-01-20T09:37:13.030Z"
   },
   {
    "duration": 297,
    "start_time": "2022-01-20T09:37:13.033Z"
   },
   {
    "duration": 2,
    "start_time": "2022-01-20T09:37:13.331Z"
   },
   {
    "duration": 157,
    "start_time": "2022-01-20T09:37:13.335Z"
   },
   {
    "duration": 2,
    "start_time": "2022-01-20T09:37:13.493Z"
   },
   {
    "duration": 175,
    "start_time": "2022-01-20T09:37:13.497Z"
   },
   {
    "duration": 2,
    "start_time": "2022-01-20T09:37:13.673Z"
   },
   {
    "duration": 5,
    "start_time": "2022-01-20T09:37:13.677Z"
   },
   {
    "duration": 196,
    "start_time": "2022-01-20T09:37:13.683Z"
   },
   {
    "duration": 2,
    "start_time": "2022-01-20T09:37:13.881Z"
   },
   {
    "duration": 367,
    "start_time": "2022-01-20T09:37:13.884Z"
   },
   {
    "duration": 2,
    "start_time": "2022-01-20T09:37:14.252Z"
   },
   {
    "duration": 185,
    "start_time": "2022-01-20T09:37:14.256Z"
   },
   {
    "duration": 2,
    "start_time": "2022-01-20T09:37:14.442Z"
   },
   {
    "duration": 226,
    "start_time": "2022-01-20T09:37:14.445Z"
   },
   {
    "duration": 2,
    "start_time": "2022-01-20T09:37:14.672Z"
   },
   {
    "duration": 22,
    "start_time": "2022-01-20T09:37:14.676Z"
   },
   {
    "duration": 638,
    "start_time": "2022-01-24T15:23:06.475Z"
   },
   {
    "duration": 26,
    "start_time": "2022-01-24T15:23:07.116Z"
   },
   {
    "duration": 77,
    "start_time": "2022-01-24T15:23:07.145Z"
   },
   {
    "duration": 5,
    "start_time": "2022-01-24T15:23:07.223Z"
   },
   {
    "duration": 23,
    "start_time": "2022-01-24T15:23:07.230Z"
   },
   {
    "duration": 65,
    "start_time": "2022-01-24T15:23:07.255Z"
   },
   {
    "duration": 796,
    "start_time": "2022-01-24T15:23:07.322Z"
   },
   {
    "duration": 4,
    "start_time": "2022-01-24T15:23:08.119Z"
   },
   {
    "duration": 23,
    "start_time": "2022-01-24T15:23:08.125Z"
   },
   {
    "duration": 478,
    "start_time": "2022-01-24T15:23:08.150Z"
   },
   {
    "duration": 382,
    "start_time": "2022-01-24T15:23:08.630Z"
   },
   {
    "duration": 242,
    "start_time": "2022-01-24T15:23:09.014Z"
   },
   {
    "duration": 295,
    "start_time": "2022-01-24T15:23:09.257Z"
   },
   {
    "duration": 350,
    "start_time": "2022-01-24T15:23:09.553Z"
   },
   {
    "duration": 9,
    "start_time": "2022-01-24T15:23:09.904Z"
   },
   {
    "duration": 361,
    "start_time": "2022-01-24T15:23:09.914Z"
   },
   {
    "duration": 2,
    "start_time": "2022-01-24T15:23:10.276Z"
   },
   {
    "duration": 5,
    "start_time": "2022-01-24T15:23:10.280Z"
   },
   {
    "duration": 288,
    "start_time": "2022-01-24T15:23:10.286Z"
   },
   {
    "duration": 2,
    "start_time": "2022-01-24T15:23:10.577Z"
   },
   {
    "duration": 228,
    "start_time": "2022-01-24T15:23:10.582Z"
   },
   {
    "duration": 3,
    "start_time": "2022-01-24T15:23:10.812Z"
   },
   {
    "duration": 249,
    "start_time": "2022-01-24T15:23:10.817Z"
   },
   {
    "duration": 2,
    "start_time": "2022-01-24T15:23:11.068Z"
   },
   {
    "duration": 265,
    "start_time": "2022-01-24T15:23:11.073Z"
   },
   {
    "duration": 2,
    "start_time": "2022-01-24T15:23:11.340Z"
   },
   {
    "duration": 195,
    "start_time": "2022-01-24T15:23:11.347Z"
   },
   {
    "duration": 2,
    "start_time": "2022-01-24T15:23:11.545Z"
   },
   {
    "duration": 648,
    "start_time": "2022-01-24T15:23:11.549Z"
   },
   {
    "duration": 3,
    "start_time": "2022-01-24T15:23:12.199Z"
   },
   {
    "duration": 191,
    "start_time": "2022-01-24T15:23:12.204Z"
   },
   {
    "duration": 3,
    "start_time": "2022-01-24T15:23:12.397Z"
   },
   {
    "duration": 35,
    "start_time": "2022-01-24T15:23:12.402Z"
   },
   {
    "duration": 2,
    "start_time": "2022-01-24T15:23:12.439Z"
   },
   {
    "duration": 26,
    "start_time": "2022-01-24T15:23:12.443Z"
   },
   {
    "duration": 2,
    "start_time": "2022-01-24T15:23:12.472Z"
   },
   {
    "duration": 4,
    "start_time": "2022-01-24T15:23:12.476Z"
   },
   {
    "duration": 63,
    "start_time": "2022-01-24T15:23:12.482Z"
   },
   {
    "duration": 241,
    "start_time": "2022-01-24T15:23:12.547Z"
   },
   {
    "duration": 3,
    "start_time": "2022-01-24T15:23:12.791Z"
   },
   {
    "duration": 16,
    "start_time": "2022-01-24T15:23:12.796Z"
   },
   {
    "duration": 75,
    "start_time": "2022-01-24T15:23:12.814Z"
   },
   {
    "duration": 326,
    "start_time": "2022-01-24T15:23:12.891Z"
   },
   {
    "duration": 2,
    "start_time": "2022-01-24T15:23:13.219Z"
   },
   {
    "duration": 356,
    "start_time": "2022-01-24T15:23:13.223Z"
   },
   {
    "duration": 2,
    "start_time": "2022-01-24T15:23:13.581Z"
   },
   {
    "duration": 272,
    "start_time": "2022-01-24T15:23:13.585Z"
   },
   {
    "duration": 3,
    "start_time": "2022-01-24T15:23:13.858Z"
   },
   {
    "duration": 224,
    "start_time": "2022-01-24T15:23:13.863Z"
   },
   {
    "duration": 2,
    "start_time": "2022-01-24T15:23:14.089Z"
   },
   {
    "duration": 5,
    "start_time": "2022-01-24T15:23:14.092Z"
   },
   {
    "duration": 247,
    "start_time": "2022-01-24T15:23:14.099Z"
   },
   {
    "duration": 3,
    "start_time": "2022-01-24T15:23:14.347Z"
   },
   {
    "duration": 439,
    "start_time": "2022-01-24T15:23:14.351Z"
   },
   {
    "duration": 3,
    "start_time": "2022-01-24T15:23:14.792Z"
   },
   {
    "duration": 202,
    "start_time": "2022-01-24T15:23:14.797Z"
   },
   {
    "duration": 10,
    "start_time": "2022-01-24T15:23:15.002Z"
   },
   {
    "duration": 261,
    "start_time": "2022-01-24T15:23:15.014Z"
   },
   {
    "duration": 2,
    "start_time": "2022-01-24T15:23:15.277Z"
   },
   {
    "duration": 789,
    "start_time": "2022-01-24T18:25:03.480Z"
   },
   {
    "duration": 137,
    "start_time": "2022-01-24T18:25:04.272Z"
   },
   {
    "duration": 4,
    "start_time": "2022-01-24T18:25:14.635Z"
   },
   {
    "duration": 135,
    "start_time": "2022-01-24T18:25:14.641Z"
   },
   {
    "duration": 70,
    "start_time": "2022-01-24T18:25:14.779Z"
   },
   {
    "duration": 95,
    "start_time": "2022-01-24T18:25:14.852Z"
   },
   {
    "duration": 8,
    "start_time": "2022-01-24T18:25:14.949Z"
   },
   {
    "duration": 79,
    "start_time": "2022-01-24T18:25:14.959Z"
   },
   {
    "duration": 52,
    "start_time": "2022-01-24T18:25:15.041Z"
   },
   {
    "duration": 1274,
    "start_time": "2022-01-24T18:25:15.097Z"
   },
   {
    "duration": 4,
    "start_time": "2022-01-24T18:25:16.374Z"
   },
   {
    "duration": 56,
    "start_time": "2022-01-24T18:25:16.380Z"
   },
   {
    "duration": 574,
    "start_time": "2022-01-24T18:25:16.439Z"
   },
   {
    "duration": 542,
    "start_time": "2022-01-24T18:25:17.025Z"
   },
   {
    "duration": 334,
    "start_time": "2022-01-24T18:25:17.570Z"
   },
   {
    "duration": 448,
    "start_time": "2022-01-24T18:25:17.907Z"
   },
   {
    "duration": 559,
    "start_time": "2022-01-24T18:25:18.357Z"
   },
   {
    "duration": 4,
    "start_time": "2022-01-24T18:25:18.923Z"
   },
   {
    "duration": 589,
    "start_time": "2022-01-24T18:25:18.929Z"
   },
   {
    "duration": 3,
    "start_time": "2022-01-24T18:25:19.523Z"
   },
   {
    "duration": 14,
    "start_time": "2022-01-24T18:25:19.529Z"
   },
   {
    "duration": 392,
    "start_time": "2022-01-24T18:25:19.546Z"
   },
   {
    "duration": 3,
    "start_time": "2022-01-24T18:25:19.941Z"
   },
   {
    "duration": 328,
    "start_time": "2022-01-24T18:25:19.947Z"
   },
   {
    "duration": 3,
    "start_time": "2022-01-24T18:25:20.280Z"
   },
   {
    "duration": 354,
    "start_time": "2022-01-24T18:25:20.288Z"
   },
   {
    "duration": 4,
    "start_time": "2022-01-24T18:25:20.646Z"
   },
   {
    "duration": 433,
    "start_time": "2022-01-24T18:25:20.653Z"
   },
   {
    "duration": 4,
    "start_time": "2022-01-24T18:25:21.089Z"
   },
   {
    "duration": 339,
    "start_time": "2022-01-24T18:25:21.095Z"
   },
   {
    "duration": 3,
    "start_time": "2022-01-24T18:25:21.437Z"
   },
   {
    "duration": 982,
    "start_time": "2022-01-24T18:25:21.444Z"
   },
   {
    "duration": 4,
    "start_time": "2022-01-24T18:25:22.429Z"
   },
   {
    "duration": 273,
    "start_time": "2022-01-24T18:25:22.436Z"
   },
   {
    "duration": 14,
    "start_time": "2022-01-24T18:25:22.711Z"
   },
   {
    "duration": 36,
    "start_time": "2022-01-24T18:25:22.729Z"
   },
   {
    "duration": 3,
    "start_time": "2022-01-24T18:25:22.767Z"
   },
   {
    "duration": 71,
    "start_time": "2022-01-24T18:25:22.773Z"
   },
   {
    "duration": 3,
    "start_time": "2022-01-24T18:25:22.847Z"
   },
   {
    "duration": 9,
    "start_time": "2022-01-24T18:25:22.852Z"
   },
   {
    "duration": 64,
    "start_time": "2022-01-24T18:25:22.863Z"
   },
   {
    "duration": 358,
    "start_time": "2022-01-24T18:25:22.930Z"
   },
   {
    "duration": 3,
    "start_time": "2022-01-24T18:25:23.291Z"
   },
   {
    "duration": 4,
    "start_time": "2022-01-24T18:25:23.297Z"
   },
   {
    "duration": 143,
    "start_time": "2022-01-24T18:25:23.303Z"
   },
   {
    "duration": 484,
    "start_time": "2022-01-24T18:25:23.449Z"
   },
   {
    "duration": 4,
    "start_time": "2022-01-24T18:25:23.941Z"
   },
   {
    "duration": 544,
    "start_time": "2022-01-24T18:25:23.947Z"
   },
   {
    "duration": 3,
    "start_time": "2022-01-24T18:25:24.494Z"
   },
   {
    "duration": 456,
    "start_time": "2022-01-24T18:25:24.499Z"
   },
   {
    "duration": 3,
    "start_time": "2022-01-24T18:25:24.957Z"
   },
   {
    "duration": 323,
    "start_time": "2022-01-24T18:25:24.962Z"
   },
   {
    "duration": 4,
    "start_time": "2022-01-24T18:25:25.287Z"
   },
   {
    "duration": 5,
    "start_time": "2022-01-24T18:25:25.293Z"
   },
   {
    "duration": 360,
    "start_time": "2022-01-24T18:25:25.300Z"
   },
   {
    "duration": 3,
    "start_time": "2022-01-24T18:25:25.663Z"
   },
   {
    "duration": 646,
    "start_time": "2022-01-24T18:25:25.668Z"
   },
   {
    "duration": 8,
    "start_time": "2022-01-24T18:25:26.316Z"
   },
   {
    "duration": 296,
    "start_time": "2022-01-24T18:25:26.327Z"
   },
   {
    "duration": 4,
    "start_time": "2022-01-24T18:25:26.626Z"
   },
   {
    "duration": 449,
    "start_time": "2022-01-24T18:25:26.633Z"
   },
   {
    "duration": 4,
    "start_time": "2022-01-24T18:25:27.084Z"
   },
   {
    "duration": 8,
    "start_time": "2022-01-24T18:32:07.740Z"
   },
   {
    "duration": 46,
    "start_time": "2022-01-24T18:48:50.437Z"
   },
   {
    "duration": 4,
    "start_time": "2022-01-24T18:56:42.013Z"
   },
   {
    "duration": 184,
    "start_time": "2022-01-24T18:56:42.019Z"
   },
   {
    "duration": 60,
    "start_time": "2022-01-24T18:56:42.207Z"
   },
   {
    "duration": 92,
    "start_time": "2022-01-24T18:56:42.270Z"
   },
   {
    "duration": 7,
    "start_time": "2022-01-24T18:56:42.400Z"
   },
   {
    "duration": 35,
    "start_time": "2022-01-24T18:56:42.854Z"
   },
   {
    "duration": 58,
    "start_time": "2022-01-24T18:56:42.892Z"
   },
   {
    "duration": 1324,
    "start_time": "2022-01-24T18:56:43.048Z"
   },
   {
    "duration": 5,
    "start_time": "2022-01-24T18:56:44.375Z"
   },
   {
    "duration": 61,
    "start_time": "2022-01-24T18:56:44.383Z"
   },
   {
    "duration": 577,
    "start_time": "2022-01-24T18:58:35.972Z"
   },
   {
    "duration": 489,
    "start_time": "2022-01-24T18:58:45.394Z"
   },
   {
    "duration": 520,
    "start_time": "2022-01-24T18:58:57.834Z"
   },
   {
    "duration": 490,
    "start_time": "2022-01-24T18:59:33.450Z"
   },
   {
    "duration": 527,
    "start_time": "2022-01-24T18:59:41.009Z"
   },
   {
    "duration": 489,
    "start_time": "2022-01-24T18:59:56.427Z"
   },
   {
    "duration": 581,
    "start_time": "2022-01-24T19:00:25.580Z"
   },
   {
    "duration": 548,
    "start_time": "2022-01-24T19:00:35.426Z"
   },
   {
    "duration": 496,
    "start_time": "2022-01-24T19:00:42.258Z"
   },
   {
    "duration": 506,
    "start_time": "2022-01-24T19:00:54.049Z"
   },
   {
    "duration": 3,
    "start_time": "2022-01-24T19:01:28.171Z"
   },
   {
    "duration": 115,
    "start_time": "2022-01-24T19:01:28.177Z"
   },
   {
    "duration": 48,
    "start_time": "2022-01-24T19:01:28.295Z"
   },
   {
    "duration": 102,
    "start_time": "2022-01-24T19:01:28.346Z"
   },
   {
    "duration": 7,
    "start_time": "2022-01-24T19:01:28.451Z"
   },
   {
    "duration": 76,
    "start_time": "2022-01-24T19:01:28.461Z"
   },
   {
    "duration": 45,
    "start_time": "2022-01-24T19:01:28.539Z"
   },
   {
    "duration": 1184,
    "start_time": "2022-01-24T19:01:28.586Z"
   },
   {
    "duration": 5,
    "start_time": "2022-01-24T19:01:29.775Z"
   },
   {
    "duration": 49,
    "start_time": "2022-01-24T19:01:29.783Z"
   },
   {
    "duration": 634,
    "start_time": "2022-01-24T19:01:29.834Z"
   },
   {
    "duration": 527,
    "start_time": "2022-01-24T19:01:30.471Z"
   },
   {
    "duration": 336,
    "start_time": "2022-01-24T19:01:31.000Z"
   },
   {
    "duration": 394,
    "start_time": "2022-01-24T19:01:31.338Z"
   },
   {
    "duration": 376,
    "start_time": "2022-01-24T19:07:59.536Z"
   },
   {
    "duration": 405,
    "start_time": "2022-01-24T19:08:11.957Z"
   },
   {
    "duration": 4,
    "start_time": "2022-01-24T19:09:17.630Z"
   },
   {
    "duration": 122,
    "start_time": "2022-01-24T19:09:17.636Z"
   },
   {
    "duration": 35,
    "start_time": "2022-01-24T19:09:17.760Z"
   },
   {
    "duration": 65,
    "start_time": "2022-01-24T19:09:17.797Z"
   },
   {
    "duration": 62,
    "start_time": "2022-01-24T19:09:17.864Z"
   },
   {
    "duration": 32,
    "start_time": "2022-01-24T19:09:17.929Z"
   },
   {
    "duration": 88,
    "start_time": "2022-01-24T19:09:17.964Z"
   },
   {
    "duration": 1259,
    "start_time": "2022-01-24T19:09:18.055Z"
   },
   {
    "duration": 6,
    "start_time": "2022-01-24T19:09:19.324Z"
   },
   {
    "duration": 32,
    "start_time": "2022-01-24T19:09:19.333Z"
   },
   {
    "duration": 515,
    "start_time": "2022-01-24T19:09:19.368Z"
   },
   {
    "duration": 555,
    "start_time": "2022-01-24T19:09:19.885Z"
   },
   {
    "duration": 514,
    "start_time": "2022-01-24T19:09:20.444Z"
   },
   {
    "duration": 130,
    "start_time": "2022-01-24T19:09:20.961Z"
   },
   {
    "duration": -71,
    "start_time": "2022-01-24T19:09:21.164Z"
   },
   {
    "duration": 601,
    "start_time": "2022-01-24T19:10:58.253Z"
   },
   {
    "duration": 375,
    "start_time": "2022-01-24T19:23:49.889Z"
   },
   {
    "duration": 244,
    "start_time": "2022-01-24T20:16:58.993Z"
   },
   {
    "duration": 323,
    "start_time": "2022-01-24T20:34:15.047Z"
   },
   {
    "duration": 288,
    "start_time": "2022-01-24T20:35:30.853Z"
   },
   {
    "duration": 303,
    "start_time": "2022-01-24T20:36:14.220Z"
   },
   {
    "duration": 297,
    "start_time": "2022-01-24T20:37:30.516Z"
   },
   {
    "duration": 285,
    "start_time": "2022-01-24T20:38:07.813Z"
   },
   {
    "duration": 286,
    "start_time": "2022-01-24T20:38:15.139Z"
   },
   {
    "duration": 7272,
    "start_time": "2022-01-24T20:41:04.123Z"
   },
   {
    "duration": 8173,
    "start_time": "2022-01-24T20:41:21.770Z"
   },
   {
    "duration": 313,
    "start_time": "2022-01-24T20:41:55.435Z"
   },
   {
    "duration": 6889,
    "start_time": "2022-01-24T20:42:23.089Z"
   },
   {
    "duration": 4,
    "start_time": "2022-01-24T20:42:39.802Z"
   },
   {
    "duration": 129,
    "start_time": "2022-01-24T20:42:39.808Z"
   },
   {
    "duration": 43,
    "start_time": "2022-01-24T20:42:39.940Z"
   },
   {
    "duration": 82,
    "start_time": "2022-01-24T20:42:39.987Z"
   },
   {
    "duration": 7,
    "start_time": "2022-01-24T20:42:40.124Z"
   },
   {
    "duration": 31,
    "start_time": "2022-01-24T20:42:40.133Z"
   },
   {
    "duration": 72,
    "start_time": "2022-01-24T20:42:40.167Z"
   },
   {
    "duration": 1188,
    "start_time": "2022-01-24T20:42:40.242Z"
   },
   {
    "duration": 5,
    "start_time": "2022-01-24T20:42:41.433Z"
   },
   {
    "duration": 29,
    "start_time": "2022-01-24T20:42:41.440Z"
   },
   {
    "duration": 516,
    "start_time": "2022-01-24T20:42:41.472Z"
   },
   {
    "duration": 520,
    "start_time": "2022-01-24T20:42:41.991Z"
   },
   {
    "duration": 350,
    "start_time": "2022-01-24T20:42:42.514Z"
   },
   {
    "duration": 599,
    "start_time": "2022-01-24T20:42:42.867Z"
   },
   {
    "duration": 90,
    "start_time": "2022-01-24T20:42:43.469Z"
   },
   {
    "duration": -108,
    "start_time": "2022-01-24T20:42:43.670Z"
   },
   {
    "duration": -112,
    "start_time": "2022-01-24T20:42:43.675Z"
   },
   {
    "duration": -115,
    "start_time": "2022-01-24T20:42:43.679Z"
   },
   {
    "duration": -120,
    "start_time": "2022-01-24T20:42:43.685Z"
   },
   {
    "duration": -129,
    "start_time": "2022-01-24T20:42:43.696Z"
   },
   {
    "duration": 4,
    "start_time": "2022-01-24T20:43:43.521Z"
   },
   {
    "duration": 128,
    "start_time": "2022-01-24T20:43:43.527Z"
   },
   {
    "duration": 32,
    "start_time": "2022-01-24T20:43:43.659Z"
   },
   {
    "duration": 138,
    "start_time": "2022-01-24T20:43:43.694Z"
   },
   {
    "duration": 8,
    "start_time": "2022-01-24T20:43:43.835Z"
   },
   {
    "duration": 28,
    "start_time": "2022-01-24T20:43:43.846Z"
   },
   {
    "duration": 75,
    "start_time": "2022-01-24T20:43:43.878Z"
   },
   {
    "duration": 1207,
    "start_time": "2022-01-24T20:43:43.956Z"
   },
   {
    "duration": 6,
    "start_time": "2022-01-24T20:43:45.166Z"
   },
   {
    "duration": 48,
    "start_time": "2022-01-24T20:43:45.175Z"
   },
   {
    "duration": 488,
    "start_time": "2022-01-24T20:43:45.225Z"
   },
   {
    "duration": 623,
    "start_time": "2022-01-24T20:43:45.716Z"
   },
   {
    "duration": 329,
    "start_time": "2022-01-24T20:43:46.341Z"
   },
   {
    "duration": 395,
    "start_time": "2022-01-24T20:43:46.672Z"
   },
   {
    "duration": 598,
    "start_time": "2022-01-24T20:43:47.070Z"
   },
   {
    "duration": 497,
    "start_time": "2022-01-24T20:43:47.671Z"
   },
   {
    "duration": 324,
    "start_time": "2022-01-24T20:43:48.171Z"
   },
   {
    "duration": 295,
    "start_time": "2022-01-24T20:43:48.497Z"
   },
   {
    "duration": 246,
    "start_time": "2022-01-24T20:43:48.795Z"
   },
   {
    "duration": 6870,
    "start_time": "2022-01-24T20:43:54.687Z"
   },
   {
    "duration": 24,
    "start_time": "2022-01-24T20:44:44.656Z"
   },
   {
    "duration": 242,
    "start_time": "2022-01-24T20:45:22.434Z"
   },
   {
    "duration": 257,
    "start_time": "2022-01-24T20:45:49.574Z"
   },
   {
    "duration": 282,
    "start_time": "2022-01-24T20:48:26.583Z"
   },
   {
    "duration": 457,
    "start_time": "2022-01-24T20:50:15.029Z"
   },
   {
    "duration": 282,
    "start_time": "2022-01-24T20:50:44.413Z"
   },
   {
    "duration": 25,
    "start_time": "2022-01-24T20:51:05.835Z"
   },
   {
    "duration": 219,
    "start_time": "2022-01-24T20:51:14.829Z"
   },
   {
    "duration": 7647,
    "start_time": "2022-01-24T20:51:41.511Z"
   },
   {
    "duration": 310,
    "start_time": "2022-01-24T20:51:59.870Z"
   },
   {
    "duration": 324,
    "start_time": "2022-01-24T20:52:11.068Z"
   },
   {
    "duration": 296,
    "start_time": "2022-01-24T20:55:51.164Z"
   },
   {
    "duration": 4,
    "start_time": "2022-01-24T20:56:15.293Z"
   },
   {
    "duration": 121,
    "start_time": "2022-01-24T20:56:15.303Z"
   },
   {
    "duration": 31,
    "start_time": "2022-01-24T20:56:15.427Z"
   },
   {
    "duration": 83,
    "start_time": "2022-01-24T20:56:15.460Z"
   },
   {
    "duration": 6,
    "start_time": "2022-01-24T20:56:15.546Z"
   },
   {
    "duration": 75,
    "start_time": "2022-01-24T20:56:15.555Z"
   },
   {
    "duration": 42,
    "start_time": "2022-01-24T20:56:15.632Z"
   },
   {
    "duration": 1270,
    "start_time": "2022-01-24T20:56:15.677Z"
   },
   {
    "duration": 5,
    "start_time": "2022-01-24T20:56:16.950Z"
   },
   {
    "duration": 28,
    "start_time": "2022-01-24T20:56:16.958Z"
   },
   {
    "duration": 528,
    "start_time": "2022-01-24T20:56:16.988Z"
   },
   {
    "duration": 513,
    "start_time": "2022-01-24T20:56:17.519Z"
   },
   {
    "duration": 326,
    "start_time": "2022-01-24T20:56:18.034Z"
   },
   {
    "duration": 402,
    "start_time": "2022-01-24T20:56:18.363Z"
   },
   {
    "duration": 499,
    "start_time": "2022-01-24T20:56:18.767Z"
   },
   {
    "duration": 528,
    "start_time": "2022-01-24T20:56:19.269Z"
   },
   {
    "duration": 431,
    "start_time": "2022-01-24T20:56:19.799Z"
   },
   {
    "duration": 369,
    "start_time": "2022-01-24T20:56:20.233Z"
   },
   {
    "duration": 258,
    "start_time": "2022-01-24T20:56:20.604Z"
   },
   {
    "duration": 436,
    "start_time": "2022-01-24T20:56:20.864Z"
   },
   {
    "duration": 271,
    "start_time": "2022-01-24T20:56:21.303Z"
   },
   {
    "duration": 296,
    "start_time": "2022-01-24T20:56:21.576Z"
   },
   {
    "duration": 254,
    "start_time": "2022-01-24T20:56:21.875Z"
   },
   {
    "duration": 261,
    "start_time": "2022-01-24T20:57:10.021Z"
   },
   {
    "duration": 282,
    "start_time": "2022-01-24T21:01:25.816Z"
   },
   {
    "duration": 264,
    "start_time": "2022-01-24T21:01:36.167Z"
   },
   {
    "duration": 514,
    "start_time": "2022-01-24T21:02:06.711Z"
   },
   {
    "duration": 285,
    "start_time": "2022-01-24T21:03:38.845Z"
   },
   {
    "duration": 266,
    "start_time": "2022-01-24T21:03:51.966Z"
   },
   {
    "duration": 312,
    "start_time": "2022-01-24T21:04:00.591Z"
   },
   {
    "duration": 260,
    "start_time": "2022-01-24T21:04:14.821Z"
   },
   {
    "duration": 241,
    "start_time": "2022-01-24T21:05:41.733Z"
   },
   {
    "duration": 250,
    "start_time": "2022-01-24T21:05:55.879Z"
   },
   {
    "duration": 7,
    "start_time": "2022-01-24T21:13:17.036Z"
   },
   {
    "duration": 6,
    "start_time": "2022-01-24T21:13:36.602Z"
   },
   {
    "duration": 10,
    "start_time": "2022-01-24T21:15:43.243Z"
   },
   {
    "duration": 12,
    "start_time": "2022-01-24T21:16:43.643Z"
   },
   {
    "duration": 17,
    "start_time": "2022-01-24T21:17:01.778Z"
   },
   {
    "duration": 253,
    "start_time": "2022-01-24T21:20:11.541Z"
   },
   {
    "duration": 258,
    "start_time": "2022-01-24T21:20:48.789Z"
   },
   {
    "duration": 250,
    "start_time": "2022-01-24T21:21:01.102Z"
   },
   {
    "duration": 273,
    "start_time": "2022-01-24T21:22:32.388Z"
   },
   {
    "duration": 265,
    "start_time": "2022-01-24T21:26:19.807Z"
   },
   {
    "duration": 271,
    "start_time": "2022-01-24T21:28:56.733Z"
   },
   {
    "duration": 3,
    "start_time": "2022-01-24T21:29:51.789Z"
   },
   {
    "duration": 114,
    "start_time": "2022-01-24T21:29:51.795Z"
   },
   {
    "duration": 32,
    "start_time": "2022-01-24T21:29:51.924Z"
   },
   {
    "duration": 89,
    "start_time": "2022-01-24T21:29:51.958Z"
   },
   {
    "duration": 7,
    "start_time": "2022-01-24T21:29:52.050Z"
   },
   {
    "duration": 67,
    "start_time": "2022-01-24T21:29:52.059Z"
   },
   {
    "duration": 44,
    "start_time": "2022-01-24T21:29:52.129Z"
   },
   {
    "duration": 1207,
    "start_time": "2022-01-24T21:29:52.176Z"
   },
   {
    "duration": 5,
    "start_time": "2022-01-24T21:29:53.386Z"
   },
   {
    "duration": 46,
    "start_time": "2022-01-24T21:29:53.393Z"
   },
   {
    "duration": 516,
    "start_time": "2022-01-24T21:29:53.441Z"
   },
   {
    "duration": 501,
    "start_time": "2022-01-24T21:29:53.959Z"
   },
   {
    "duration": 324,
    "start_time": "2022-01-24T21:29:54.462Z"
   },
   {
    "duration": 407,
    "start_time": "2022-01-24T21:29:54.788Z"
   },
   {
    "duration": 488,
    "start_time": "2022-01-24T21:29:55.198Z"
   },
   {
    "duration": 484,
    "start_time": "2022-01-24T21:29:55.688Z"
   },
   {
    "duration": 295,
    "start_time": "2022-01-24T21:29:56.174Z"
   },
   {
    "duration": 287,
    "start_time": "2022-01-24T21:29:56.471Z"
   },
   {
    "duration": 238,
    "start_time": "2022-01-24T21:29:56.762Z"
   },
   {
    "duration": 325,
    "start_time": "2022-01-24T21:29:57.003Z"
   },
   {
    "duration": 264,
    "start_time": "2022-01-24T21:29:57.330Z"
   },
   {
    "duration": 280,
    "start_time": "2022-01-24T21:29:57.596Z"
   },
   {
    "duration": 257,
    "start_time": "2022-01-24T21:29:57.878Z"
   },
   {
    "duration": 34,
    "start_time": "2022-01-24T21:29:58.137Z"
   },
   {
    "duration": 17,
    "start_time": "2022-01-24T21:29:58.173Z"
   },
   {
    "duration": 4,
    "start_time": "2022-01-24T21:29:58.224Z"
   },
   {
    "duration": 420,
    "start_time": "2022-01-24T21:29:58.230Z"
   },
   {
    "duration": 308,
    "start_time": "2022-01-24T21:29:58.652Z"
   },
   {
    "duration": 117,
    "start_time": "2022-01-24T21:29:58.963Z"
   },
   {
    "duration": 465,
    "start_time": "2022-01-24T21:29:59.083Z"
   },
   {
    "duration": 511,
    "start_time": "2022-01-24T21:29:59.550Z"
   },
   {
    "duration": 277,
    "start_time": "2022-01-24T21:30:00.064Z"
   },
   {
    "duration": 300,
    "start_time": "2022-01-24T21:30:00.343Z"
   },
   {
    "duration": 291,
    "start_time": "2022-01-24T21:30:00.645Z"
   },
   {
    "duration": 619,
    "start_time": "2022-01-24T21:30:00.938Z"
   },
   {
    "duration": 269,
    "start_time": "2022-01-24T21:30:01.560Z"
   },
   {
    "duration": 268,
    "start_time": "2022-01-24T21:30:01.831Z"
   },
   {
    "duration": 91,
    "start_time": "2022-01-24T21:30:02.102Z"
   },
   {
    "duration": 273,
    "start_time": "2022-01-24T21:30:17.042Z"
   },
   {
    "duration": 263,
    "start_time": "2022-01-24T21:31:49.899Z"
   },
   {
    "duration": 4,
    "start_time": "2022-01-24T21:38:53.403Z"
   },
   {
    "duration": 131,
    "start_time": "2022-01-24T21:38:53.409Z"
   },
   {
    "duration": 33,
    "start_time": "2022-01-24T21:38:53.543Z"
   },
   {
    "duration": 87,
    "start_time": "2022-01-24T21:38:53.578Z"
   },
   {
    "duration": 60,
    "start_time": "2022-01-24T21:38:53.667Z"
   },
   {
    "duration": 29,
    "start_time": "2022-01-24T21:38:53.729Z"
   },
   {
    "duration": 67,
    "start_time": "2022-01-24T21:38:53.762Z"
   },
   {
    "duration": 1203,
    "start_time": "2022-01-24T21:38:53.831Z"
   },
   {
    "duration": 4,
    "start_time": "2022-01-24T21:38:55.036Z"
   },
   {
    "duration": 36,
    "start_time": "2022-01-24T21:38:55.042Z"
   },
   {
    "duration": 521,
    "start_time": "2022-01-24T21:38:55.081Z"
   },
   {
    "duration": 527,
    "start_time": "2022-01-24T21:38:55.604Z"
   },
   {
    "duration": 356,
    "start_time": "2022-01-24T21:38:56.133Z"
   },
   {
    "duration": 419,
    "start_time": "2022-01-24T21:38:56.491Z"
   },
   {
    "duration": 532,
    "start_time": "2022-01-24T21:38:56.912Z"
   },
   {
    "duration": 550,
    "start_time": "2022-01-24T21:38:57.446Z"
   },
   {
    "duration": 331,
    "start_time": "2022-01-24T21:38:57.998Z"
   },
   {
    "duration": 308,
    "start_time": "2022-01-24T21:38:58.332Z"
   },
   {
    "duration": 238,
    "start_time": "2022-01-24T21:38:58.645Z"
   },
   {
    "duration": 363,
    "start_time": "2022-01-24T21:38:58.886Z"
   },
   {
    "duration": 277,
    "start_time": "2022-01-24T21:38:59.251Z"
   },
   {
    "duration": 295,
    "start_time": "2022-01-24T21:38:59.530Z"
   },
   {
    "duration": 280,
    "start_time": "2022-01-24T21:38:59.827Z"
   },
   {
    "duration": 42,
    "start_time": "2022-01-24T21:39:00.110Z"
   },
   {
    "duration": 15,
    "start_time": "2022-01-24T21:39:00.154Z"
   },
   {
    "duration": 2,
    "start_time": "2022-01-24T21:39:00.172Z"
   },
   {
    "duration": 95,
    "start_time": "2022-01-24T21:39:00.176Z"
   },
   {
    "duration": 342,
    "start_time": "2022-01-24T21:39:00.274Z"
   },
   {
    "duration": 440,
    "start_time": "2022-01-24T21:39:00.618Z"
   },
   {
    "duration": 452,
    "start_time": "2022-01-24T21:39:01.060Z"
   },
   {
    "duration": 495,
    "start_time": "2022-01-24T21:39:01.514Z"
   },
   {
    "duration": 272,
    "start_time": "2022-01-24T21:39:02.011Z"
   },
   {
    "duration": 299,
    "start_time": "2022-01-24T21:39:02.285Z"
   },
   {
    "duration": 297,
    "start_time": "2022-01-24T21:39:02.587Z"
   },
   {
    "duration": 646,
    "start_time": "2022-01-24T21:39:02.886Z"
   },
   {
    "duration": 266,
    "start_time": "2022-01-24T21:39:03.535Z"
   },
   {
    "duration": 272,
    "start_time": "2022-01-24T21:39:03.804Z"
   },
   {
    "duration": 294,
    "start_time": "2022-01-24T21:39:04.079Z"
   },
   {
    "duration": 273,
    "start_time": "2022-01-24T21:39:04.375Z"
   },
   {
    "duration": 599,
    "start_time": "2022-01-26T05:49:48.630Z"
   },
   {
    "duration": 89,
    "start_time": "2022-01-26T05:49:49.231Z"
   },
   {
    "duration": 24,
    "start_time": "2022-01-26T05:49:49.322Z"
   },
   {
    "duration": 67,
    "start_time": "2022-01-26T05:49:49.348Z"
   },
   {
    "duration": 5,
    "start_time": "2022-01-26T05:49:49.416Z"
   },
   {
    "duration": 26,
    "start_time": "2022-01-26T05:49:49.422Z"
   },
   {
    "duration": 33,
    "start_time": "2022-01-26T05:49:49.449Z"
   },
   {
    "duration": 767,
    "start_time": "2022-01-26T05:49:49.485Z"
   },
   {
    "duration": 3,
    "start_time": "2022-01-26T05:49:50.254Z"
   },
   {
    "duration": 49,
    "start_time": "2022-01-26T05:49:50.259Z"
   },
   {
    "duration": 352,
    "start_time": "2022-01-26T05:49:50.310Z"
   },
   {
    "duration": 348,
    "start_time": "2022-01-26T05:49:50.664Z"
   },
   {
    "duration": 234,
    "start_time": "2022-01-26T05:49:51.013Z"
   },
   {
    "duration": 267,
    "start_time": "2022-01-26T05:49:51.249Z"
   },
   {
    "duration": 334,
    "start_time": "2022-01-26T05:49:51.518Z"
   },
   {
    "duration": 344,
    "start_time": "2022-01-26T05:49:51.853Z"
   },
   {
    "duration": 207,
    "start_time": "2022-01-26T05:49:52.198Z"
   },
   {
    "duration": 255,
    "start_time": "2022-01-26T05:49:52.407Z"
   },
   {
    "duration": 158,
    "start_time": "2022-01-26T05:49:52.664Z"
   },
   {
    "duration": 231,
    "start_time": "2022-01-26T05:49:52.824Z"
   },
   {
    "duration": 174,
    "start_time": "2022-01-26T05:49:53.056Z"
   },
   {
    "duration": 198,
    "start_time": "2022-01-26T05:49:53.231Z"
   },
   {
    "duration": 182,
    "start_time": "2022-01-26T05:49:53.432Z"
   },
   {
    "duration": 22,
    "start_time": "2022-01-26T05:49:53.616Z"
   },
   {
    "duration": 10,
    "start_time": "2022-01-26T05:49:53.640Z"
   },
   {
    "duration": 2,
    "start_time": "2022-01-26T05:49:53.652Z"
   },
   {
    "duration": 28,
    "start_time": "2022-01-26T05:49:53.655Z"
   },
   {
    "duration": 223,
    "start_time": "2022-01-26T05:49:53.712Z"
   },
   {
    "duration": 62,
    "start_time": "2022-01-26T05:49:53.937Z"
   },
   {
    "duration": 296,
    "start_time": "2022-01-26T05:49:54.000Z"
   },
   {
    "duration": 332,
    "start_time": "2022-01-26T05:49:54.297Z"
   },
   {
    "duration": 235,
    "start_time": "2022-01-26T05:49:54.630Z"
   },
   {
    "duration": 209,
    "start_time": "2022-01-26T05:49:54.866Z"
   },
   {
    "duration": 190,
    "start_time": "2022-01-26T05:49:55.076Z"
   },
   {
    "duration": 424,
    "start_time": "2022-01-26T05:49:55.268Z"
   },
   {
    "duration": 180,
    "start_time": "2022-01-26T05:49:55.693Z"
   },
   {
    "duration": 201,
    "start_time": "2022-01-26T05:49:55.874Z"
   },
   {
    "duration": 214,
    "start_time": "2022-01-26T05:49:56.077Z"
   },
   {
    "duration": 203,
    "start_time": "2022-01-26T05:49:56.293Z"
   },
   {
    "duration": 1125,
    "start_time": "2022-02-07T18:09:33.101Z"
   },
   {
    "duration": 281,
    "start_time": "2022-02-07T18:09:34.229Z"
   },
   {
    "duration": 55,
    "start_time": "2022-02-07T18:09:34.514Z"
   },
   {
    "duration": 87,
    "start_time": "2022-02-07T18:09:34.573Z"
   },
   {
    "duration": 62,
    "start_time": "2022-02-07T18:09:34.663Z"
   },
   {
    "duration": 43,
    "start_time": "2022-02-07T18:09:34.727Z"
   },
   {
    "duration": 84,
    "start_time": "2022-02-07T18:09:34.772Z"
   },
   {
    "duration": 1369,
    "start_time": "2022-02-07T18:09:34.861Z"
   },
   {
    "duration": 5,
    "start_time": "2022-02-07T18:09:36.233Z"
   },
   {
    "duration": 35,
    "start_time": "2022-02-07T18:09:36.240Z"
   },
   {
    "duration": 590,
    "start_time": "2022-02-07T18:09:36.277Z"
   },
   {
    "duration": 559,
    "start_time": "2022-02-07T18:09:36.869Z"
   },
   {
    "duration": 359,
    "start_time": "2022-02-07T18:09:37.431Z"
   },
   {
    "duration": 838,
    "start_time": "2022-02-07T18:09:37.793Z"
   },
   {
    "duration": 821,
    "start_time": "2022-02-07T18:09:38.634Z"
   },
   {
    "duration": 559,
    "start_time": "2022-02-07T18:09:39.458Z"
   },
   {
    "duration": 350,
    "start_time": "2022-02-07T18:09:40.020Z"
   },
   {
    "duration": 461,
    "start_time": "2022-02-07T18:09:40.373Z"
   },
   {
    "duration": 267,
    "start_time": "2022-02-07T18:09:40.837Z"
   },
   {
    "duration": 722,
    "start_time": "2022-02-07T18:09:41.107Z"
   },
   {
    "duration": 866,
    "start_time": "2022-02-07T18:09:40.967Z"
   },
   {
    "duration": 852,
    "start_time": "2022-02-07T18:09:40.983Z"
   },
   {
    "duration": 849,
    "start_time": "2022-02-07T18:09:40.988Z"
   },
   {
    "duration": 838,
    "start_time": "2022-02-07T18:09:41.001Z"
   },
   {
    "duration": 832,
    "start_time": "2022-02-07T18:09:41.009Z"
   },
   {
    "duration": 823,
    "start_time": "2022-02-07T18:09:41.020Z"
   },
   {
    "duration": 815,
    "start_time": "2022-02-07T18:09:41.030Z"
   },
   {
    "duration": 802,
    "start_time": "2022-02-07T18:09:41.045Z"
   },
   {
    "duration": 793,
    "start_time": "2022-02-07T18:09:41.056Z"
   },
   {
    "duration": 781,
    "start_time": "2022-02-07T18:09:41.070Z"
   },
   {
    "duration": 769,
    "start_time": "2022-02-07T18:09:41.084Z"
   },
   {
    "duration": 764,
    "start_time": "2022-02-07T18:09:41.092Z"
   },
   {
    "duration": 756,
    "start_time": "2022-02-07T18:09:41.102Z"
   },
   {
    "duration": 751,
    "start_time": "2022-02-07T18:09:41.109Z"
   },
   {
    "duration": 743,
    "start_time": "2022-02-07T18:09:41.119Z"
   },
   {
    "duration": 739,
    "start_time": "2022-02-07T18:09:41.125Z"
   },
   {
    "duration": 731,
    "start_time": "2022-02-07T18:09:41.135Z"
   },
   {
    "duration": 781,
    "start_time": "2022-02-07T18:09:41.142Z"
   },
   {
    "duration": 771,
    "start_time": "2022-02-07T18:09:41.154Z"
   },
   {
    "duration": 4,
    "start_time": "2022-02-07T18:10:03.682Z"
   },
   {
    "duration": 112,
    "start_time": "2022-02-07T18:10:05.372Z"
   },
   {
    "duration": 1486,
    "start_time": "2022-02-07T18:11:32.800Z"
   },
   {
    "duration": 3,
    "start_time": "2022-02-07T18:39:20.551Z"
   },
   {
    "duration": 1245,
    "start_time": "2022-02-07T18:39:20.560Z"
   },
   {
    "duration": 35,
    "start_time": "2022-02-07T18:39:21.808Z"
   },
   {
    "duration": 95,
    "start_time": "2022-02-07T18:39:21.846Z"
   },
   {
    "duration": 9,
    "start_time": "2022-02-07T18:39:21.945Z"
   },
   {
    "duration": 70,
    "start_time": "2022-02-07T18:39:21.957Z"
   },
   {
    "duration": 55,
    "start_time": "2022-02-07T18:39:22.030Z"
   },
   {
    "duration": 1755,
    "start_time": "2022-02-07T18:39:22.087Z"
   },
   {
    "duration": 5,
    "start_time": "2022-02-07T18:39:23.845Z"
   },
   {
    "duration": 31,
    "start_time": "2022-02-07T18:39:23.853Z"
   },
   {
    "duration": 597,
    "start_time": "2022-02-07T18:39:23.886Z"
   },
   {
    "duration": 556,
    "start_time": "2022-02-07T18:39:24.487Z"
   },
   {
    "duration": 343,
    "start_time": "2022-02-07T18:39:25.045Z"
   },
   {
    "duration": 505,
    "start_time": "2022-02-07T18:39:25.390Z"
   },
   {
    "duration": 579,
    "start_time": "2022-02-07T18:39:25.898Z"
   },
   {
    "duration": 567,
    "start_time": "2022-02-07T18:39:26.479Z"
   },
   {
    "duration": 330,
    "start_time": "2022-02-07T18:39:27.049Z"
   },
   {
    "duration": 312,
    "start_time": "2022-02-07T18:39:27.381Z"
   },
   {
    "duration": 258,
    "start_time": "2022-02-07T18:39:27.696Z"
   },
   {
    "duration": 736,
    "start_time": "2022-02-07T18:39:27.957Z"
   },
   {
    "duration": 861,
    "start_time": "2022-02-07T18:39:27.836Z"
   },
   {
    "duration": 855,
    "start_time": "2022-02-07T18:39:27.844Z"
   },
   {
    "duration": 839,
    "start_time": "2022-02-07T18:39:27.862Z"
   },
   {
    "duration": 835,
    "start_time": "2022-02-07T18:39:27.868Z"
   },
   {
    "duration": 829,
    "start_time": "2022-02-07T18:39:27.875Z"
   },
   {
    "duration": 823,
    "start_time": "2022-02-07T18:39:27.883Z"
   },
   {
    "duration": 833,
    "start_time": "2022-02-07T18:39:27.891Z"
   },
   {
    "duration": 829,
    "start_time": "2022-02-07T18:39:27.896Z"
   },
   {
    "duration": 824,
    "start_time": "2022-02-07T18:39:27.903Z"
   },
   {
    "duration": 818,
    "start_time": "2022-02-07T18:39:27.911Z"
   },
   {
    "duration": 813,
    "start_time": "2022-02-07T18:39:27.917Z"
   },
   {
    "duration": 808,
    "start_time": "2022-02-07T18:39:27.924Z"
   },
   {
    "duration": 805,
    "start_time": "2022-02-07T18:39:27.929Z"
   },
   {
    "duration": 802,
    "start_time": "2022-02-07T18:39:27.934Z"
   },
   {
    "duration": 796,
    "start_time": "2022-02-07T18:39:27.942Z"
   },
   {
    "duration": 789,
    "start_time": "2022-02-07T18:39:27.950Z"
   },
   {
    "duration": 783,
    "start_time": "2022-02-07T18:39:27.958Z"
   },
   {
    "duration": 766,
    "start_time": "2022-02-07T18:39:27.977Z"
   },
   {
    "duration": 763,
    "start_time": "2022-02-07T18:39:27.981Z"
   },
   {
    "duration": 297,
    "start_time": "2022-02-07T18:39:48.609Z"
   },
   {
    "duration": 916,
    "start_time": "2022-06-10T12:51:01.502Z"
   },
   {
    "duration": 1033,
    "start_time": "2022-06-10T12:51:02.420Z"
   },
   {
    "duration": 28,
    "start_time": "2022-06-10T12:51:03.455Z"
   },
   {
    "duration": 82,
    "start_time": "2022-06-10T12:51:03.486Z"
   },
   {
    "duration": 10,
    "start_time": "2022-06-10T12:51:03.570Z"
   },
   {
    "duration": 47,
    "start_time": "2022-06-10T12:51:03.589Z"
   },
   {
    "duration": 54,
    "start_time": "2022-06-10T12:51:03.638Z"
   },
   {
    "duration": 548,
    "start_time": "2022-06-10T12:51:03.704Z"
   },
   {
    "duration": 11,
    "start_time": "2022-06-10T12:51:04.253Z"
   },
   {
    "duration": 57,
    "start_time": "2022-06-10T12:51:04.272Z"
   },
   {
    "duration": 346,
    "start_time": "2022-06-10T12:51:04.331Z"
   },
   {
    "duration": 311,
    "start_time": "2022-06-10T12:51:04.682Z"
   },
   {
    "duration": 196,
    "start_time": "2022-06-10T12:51:04.996Z"
   },
   {
    "duration": 251,
    "start_time": "2022-06-10T12:51:05.194Z"
   },
   {
    "duration": 293,
    "start_time": "2022-06-10T12:51:05.447Z"
   },
   {
    "duration": 270,
    "start_time": "2022-06-10T12:51:05.742Z"
   },
   {
    "duration": 207,
    "start_time": "2022-06-10T12:51:06.013Z"
   },
   {
    "duration": 263,
    "start_time": "2022-06-10T12:51:06.221Z"
   },
   {
    "duration": 147,
    "start_time": "2022-06-10T12:51:06.486Z"
   },
   {
    "duration": 277,
    "start_time": "2022-06-10T12:51:06.635Z"
   },
   {
    "duration": 0,
    "start_time": "2022-06-10T12:51:06.914Z"
   },
   {
    "duration": 0,
    "start_time": "2022-06-10T12:51:06.915Z"
   },
   {
    "duration": 0,
    "start_time": "2022-06-10T12:51:06.916Z"
   },
   {
    "duration": 0,
    "start_time": "2022-06-10T12:51:06.917Z"
   },
   {
    "duration": 0,
    "start_time": "2022-06-10T12:51:06.918Z"
   },
   {
    "duration": 0,
    "start_time": "2022-06-10T12:51:06.919Z"
   },
   {
    "duration": 1,
    "start_time": "2022-06-10T12:51:06.920Z"
   },
   {
    "duration": 0,
    "start_time": "2022-06-10T12:51:06.922Z"
   },
   {
    "duration": 0,
    "start_time": "2022-06-10T12:51:06.923Z"
   },
   {
    "duration": 0,
    "start_time": "2022-06-10T12:51:06.924Z"
   },
   {
    "duration": 0,
    "start_time": "2022-06-10T12:51:06.925Z"
   },
   {
    "duration": 0,
    "start_time": "2022-06-10T12:51:06.926Z"
   },
   {
    "duration": 0,
    "start_time": "2022-06-10T12:51:06.927Z"
   },
   {
    "duration": 0,
    "start_time": "2022-06-10T12:51:06.928Z"
   },
   {
    "duration": 0,
    "start_time": "2022-06-10T12:51:06.929Z"
   },
   {
    "duration": 0,
    "start_time": "2022-06-10T12:51:06.930Z"
   },
   {
    "duration": 0,
    "start_time": "2022-06-10T12:51:06.932Z"
   },
   {
    "duration": 0,
    "start_time": "2022-06-10T12:51:06.962Z"
   },
   {
    "duration": 0,
    "start_time": "2022-06-10T12:51:06.967Z"
   },
   {
    "duration": 339,
    "start_time": "2022-06-10T12:51:40.014Z"
   },
   {
    "duration": 792,
    "start_time": "2022-06-10T12:52:52.558Z"
   },
   {
    "duration": 4,
    "start_time": "2022-06-10T12:52:56.491Z"
   },
   {
    "duration": 627,
    "start_time": "2022-06-10T12:52:56.498Z"
   },
   {
    "duration": 20,
    "start_time": "2022-06-10T12:52:57.127Z"
   },
   {
    "duration": 62,
    "start_time": "2022-06-10T12:52:57.149Z"
   },
   {
    "duration": 13,
    "start_time": "2022-06-10T12:52:57.214Z"
   },
   {
    "duration": 57,
    "start_time": "2022-06-10T12:52:57.229Z"
   },
   {
    "duration": 41,
    "start_time": "2022-06-10T12:52:57.291Z"
   },
   {
    "duration": 522,
    "start_time": "2022-06-10T12:52:57.334Z"
   },
   {
    "duration": 9,
    "start_time": "2022-06-10T12:52:57.866Z"
   },
   {
    "duration": 41,
    "start_time": "2022-06-10T12:52:57.877Z"
   },
   {
    "duration": 263,
    "start_time": "2022-06-10T12:52:57.920Z"
   },
   {
    "duration": 347,
    "start_time": "2022-06-10T12:52:58.190Z"
   },
   {
    "duration": 186,
    "start_time": "2022-06-10T12:52:58.539Z"
   },
   {
    "duration": 220,
    "start_time": "2022-06-10T12:52:58.728Z"
   },
   {
    "duration": 283,
    "start_time": "2022-06-10T12:52:58.950Z"
   },
   {
    "duration": 270,
    "start_time": "2022-06-10T12:52:59.235Z"
   },
   {
    "duration": 194,
    "start_time": "2022-06-10T12:52:59.507Z"
   },
   {
    "duration": 184,
    "start_time": "2022-06-10T12:52:59.703Z"
   },
   {
    "duration": 147,
    "start_time": "2022-06-10T12:52:59.889Z"
   },
   {
    "duration": 1008,
    "start_time": "2022-06-10T12:53:08.887Z"
   },
   {
    "duration": 212,
    "start_time": "2022-06-10T12:53:55.175Z"
   },
   {
    "duration": 790,
    "start_time": "2022-06-10T12:54:07.591Z"
   },
   {
    "duration": 569,
    "start_time": "2022-06-10T12:54:34.584Z"
   },
   {
    "duration": 633,
    "start_time": "2022-06-10T12:54:54.984Z"
   },
   {
    "duration": 24,
    "start_time": "2022-06-10T12:56:33.598Z"
   },
   {
    "duration": 28,
    "start_time": "2022-06-10T12:58:10.581Z"
   },
   {
    "duration": 677,
    "start_time": "2022-06-10T12:58:22.526Z"
   },
   {
    "duration": 205,
    "start_time": "2022-06-10T12:58:45.894Z"
   },
   {
    "duration": 205,
    "start_time": "2022-06-10T12:59:50.042Z"
   },
   {
    "duration": 26,
    "start_time": "2022-06-10T13:00:03.227Z"
   },
   {
    "duration": 653,
    "start_time": "2022-06-10T13:00:22.284Z"
   },
   {
    "duration": 18,
    "start_time": "2022-06-10T13:00:34.098Z"
   },
   {
    "duration": 38,
    "start_time": "2022-06-10T13:00:48.251Z"
   },
   {
    "duration": 211,
    "start_time": "2022-06-10T13:02:24.953Z"
   },
   {
    "duration": 3,
    "start_time": "2022-06-10T13:02:35.078Z"
   },
   {
    "duration": 987,
    "start_time": "2022-06-10T13:02:35.082Z"
   },
   {
    "duration": 32,
    "start_time": "2022-06-10T13:02:36.071Z"
   },
   {
    "duration": 66,
    "start_time": "2022-06-10T13:02:36.106Z"
   },
   {
    "duration": 38,
    "start_time": "2022-06-10T13:02:36.174Z"
   },
   {
    "duration": 35,
    "start_time": "2022-06-10T13:02:36.213Z"
   },
   {
    "duration": 52,
    "start_time": "2022-06-10T13:02:36.249Z"
   },
   {
    "duration": 503,
    "start_time": "2022-06-10T13:02:36.302Z"
   },
   {
    "duration": 5,
    "start_time": "2022-06-10T13:02:36.807Z"
   },
   {
    "duration": 28,
    "start_time": "2022-06-10T13:02:36.814Z"
   },
   {
    "duration": 414,
    "start_time": "2022-06-10T13:02:36.844Z"
   },
   {
    "duration": 333,
    "start_time": "2022-06-10T13:02:37.261Z"
   },
   {
    "duration": 209,
    "start_time": "2022-06-10T13:02:37.600Z"
   },
   {
    "duration": 236,
    "start_time": "2022-06-10T13:02:37.811Z"
   },
   {
    "duration": 261,
    "start_time": "2022-06-10T13:02:38.048Z"
   },
   {
    "duration": 276,
    "start_time": "2022-06-10T13:02:38.310Z"
   },
   {
    "duration": 210,
    "start_time": "2022-06-10T13:02:38.587Z"
   },
   {
    "duration": 207,
    "start_time": "2022-06-10T13:02:38.803Z"
   },
   {
    "duration": 160,
    "start_time": "2022-06-10T13:02:39.012Z"
   },
   {
    "duration": 361,
    "start_time": "2022-06-10T13:02:39.174Z"
   },
   {
    "duration": 167,
    "start_time": "2022-06-10T13:02:39.536Z"
   },
   {
    "duration": 166,
    "start_time": "2022-06-10T13:02:39.705Z"
   },
   {
    "duration": 145,
    "start_time": "2022-06-10T13:02:39.873Z"
   },
   {
    "duration": 25,
    "start_time": "2022-06-10T13:02:40.020Z"
   },
   {
    "duration": 53,
    "start_time": "2022-06-10T13:02:40.046Z"
   },
   {
    "duration": 13,
    "start_time": "2022-06-10T13:02:40.101Z"
   },
   {
    "duration": 62,
    "start_time": "2022-06-10T13:02:40.116Z"
   },
   {
    "duration": 183,
    "start_time": "2022-06-10T13:02:40.190Z"
   },
   {
    "duration": 71,
    "start_time": "2022-06-10T13:02:40.378Z"
   },
   {
    "duration": 246,
    "start_time": "2022-06-10T13:02:40.459Z"
   },
   {
    "duration": 289,
    "start_time": "2022-06-10T13:02:40.707Z"
   },
   {
    "duration": 137,
    "start_time": "2022-06-10T13:02:40.999Z"
   },
   {
    "duration": 168,
    "start_time": "2022-06-10T13:02:41.138Z"
   },
   {
    "duration": 161,
    "start_time": "2022-06-10T13:02:41.308Z"
   },
   {
    "duration": 380,
    "start_time": "2022-06-10T13:02:41.470Z"
   },
   {
    "duration": 164,
    "start_time": "2022-06-10T13:02:41.851Z"
   },
   {
    "duration": 180,
    "start_time": "2022-06-10T13:02:42.017Z"
   },
   {
    "duration": 158,
    "start_time": "2022-06-10T13:02:42.199Z"
   },
   {
    "duration": 166,
    "start_time": "2022-06-10T13:02:42.358Z"
   },
   {
    "duration": 31,
    "start_time": "2022-06-10T13:03:35.817Z"
   },
   {
    "duration": 3,
    "start_time": "2022-06-10T13:04:35.990Z"
   },
   {
    "duration": 662,
    "start_time": "2022-06-10T13:04:35.995Z"
   },
   {
    "duration": 34,
    "start_time": "2022-06-10T13:04:36.663Z"
   },
   {
    "duration": 67,
    "start_time": "2022-06-10T13:04:36.699Z"
   },
   {
    "duration": 11,
    "start_time": "2022-06-10T13:04:36.773Z"
   },
   {
    "duration": 36,
    "start_time": "2022-06-10T13:04:36.790Z"
   },
   {
    "duration": 29,
    "start_time": "2022-06-10T13:04:36.827Z"
   },
   {
    "duration": 715,
    "start_time": "2022-06-10T13:04:36.858Z"
   },
   {
    "duration": 12,
    "start_time": "2022-06-10T13:04:37.587Z"
   },
   {
    "duration": 41,
    "start_time": "2022-06-10T13:04:37.601Z"
   },
   {
    "duration": 287,
    "start_time": "2022-06-10T13:04:37.646Z"
   },
   {
    "duration": 276,
    "start_time": "2022-06-10T13:04:37.935Z"
   },
   {
    "duration": 185,
    "start_time": "2022-06-10T13:04:38.213Z"
   },
   {
    "duration": 216,
    "start_time": "2022-06-10T13:04:38.403Z"
   },
   {
    "duration": 292,
    "start_time": "2022-06-10T13:04:38.621Z"
   },
   {
    "duration": 290,
    "start_time": "2022-06-10T13:04:38.915Z"
   },
   {
    "duration": 198,
    "start_time": "2022-06-10T13:04:39.207Z"
   },
   {
    "duration": 196,
    "start_time": "2022-06-10T13:04:39.407Z"
   },
   {
    "duration": 153,
    "start_time": "2022-06-10T13:04:39.605Z"
   },
   {
    "duration": 208,
    "start_time": "2022-06-10T13:04:39.767Z"
   },
   {
    "duration": 174,
    "start_time": "2022-06-10T13:04:39.978Z"
   },
   {
    "duration": 368,
    "start_time": "2022-06-10T13:04:40.154Z"
   },
   {
    "duration": 147,
    "start_time": "2022-06-10T13:04:40.524Z"
   },
   {
    "duration": 30,
    "start_time": "2022-06-10T13:04:40.677Z"
   },
   {
    "duration": 12,
    "start_time": "2022-06-10T13:04:40.709Z"
   },
   {
    "duration": 56,
    "start_time": "2022-06-10T13:04:40.723Z"
   },
   {
    "duration": 85,
    "start_time": "2022-06-10T13:04:40.781Z"
   },
   {
    "duration": 185,
    "start_time": "2022-06-10T13:04:40.868Z"
   },
   {
    "duration": 85,
    "start_time": "2022-06-10T13:04:41.057Z"
   },
   {
    "duration": 258,
    "start_time": "2022-06-10T13:04:41.144Z"
   },
   {
    "duration": 292,
    "start_time": "2022-06-10T13:04:41.404Z"
   },
   {
    "duration": 135,
    "start_time": "2022-06-10T13:04:41.700Z"
   },
   {
    "duration": 185,
    "start_time": "2022-06-10T13:04:41.837Z"
   },
   {
    "duration": 184,
    "start_time": "2022-06-10T13:04:42.023Z"
   },
   {
    "duration": 396,
    "start_time": "2022-06-10T13:04:42.210Z"
   },
   {
    "duration": 149,
    "start_time": "2022-06-10T13:04:42.608Z"
   },
   {
    "duration": 178,
    "start_time": "2022-06-10T13:04:42.758Z"
   },
   {
    "duration": 239,
    "start_time": "2022-06-10T13:04:42.938Z"
   },
   {
    "duration": 165,
    "start_time": "2022-06-10T13:04:43.179Z"
   }
  ],
  "kernelspec": {
   "display_name": "Python 3 (ipykernel)",
   "language": "python",
   "name": "python3"
  },
  "language_info": {
   "codemirror_mode": {
    "name": "ipython",
    "version": 3
   },
   "file_extension": ".py",
   "mimetype": "text/x-python",
   "name": "python",
   "nbconvert_exporter": "python",
   "pygments_lexer": "ipython3",
   "version": "3.7.8"
  },
  "toc": {
   "base_numbering": 1,
   "nav_menu": {},
   "number_sections": false,
   "sideBar": true,
   "skip_h1_title": false,
   "title_cell": "Содержание",
   "title_sidebar": "Contents",
   "toc_cell": true,
   "toc_position": {
    "height": "calc(100% - 180px)",
    "left": "10px",
    "top": "150px",
    "width": "372.003px"
   },
   "toc_section_display": true,
   "toc_window_display": false
  }
 },
 "nbformat": 4,
 "nbformat_minor": 2
}
