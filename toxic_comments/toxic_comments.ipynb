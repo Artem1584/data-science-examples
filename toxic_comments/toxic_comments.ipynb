{
 "cells": [
  {
   "cell_type": "markdown",
   "metadata": {},
   "source": [
    "# Проект для «Викишоп»"
   ]
  },
  {
   "cell_type": "markdown",
   "metadata": {},
   "source": [
    "Интернет-магазин «Викишоп» запускает новый сервис. Теперь пользователи могут редактировать и дополнять описания товаров, как в вики-сообществах. То есть клиенты предлагают свои правки и комментируют изменения других. Магазину нужен инструмент, который будет искать токсичные комментарии и отправлять их на модерацию. \n",
    "\n",
    "Обучите модель классифицировать комментарии на позитивные и негативные. В вашем распоряжении набор данных с разметкой о токсичности правок.\n",
    "\n",
    "Постройте модель со значением метрики качества *F1* не меньше 0.75. \n",
    "\n",
    "**Инструкция по выполнению проекта**\n",
    "\n",
    "1. Загрузите и подготовьте данные.\n",
    "2. Обучите разные модели. \n",
    "3. Сделайте выводы.\n",
    "\n",
    "\n",
    "**Описание данных**\n",
    "\n",
    "Столбец *text* в нём содержит текст комментария, а *toxic* — целевой признак."
   ]
  },
  {
   "cell_type": "markdown",
   "metadata": {},
   "source": [
    "## Подготовка"
   ]
  },
  {
   "cell_type": "code",
   "execution_count": 109,
   "metadata": {},
   "outputs": [],
   "source": [
    "import pandas as pd\n",
    "import re\n",
    "import nltk\n",
    "from nltk.corpus import stopwords as nltk_stopwords\n",
    "import spacy\n",
    "import sys\n",
    "\n",
    "\n",
    "from sklearn.feature_extraction.text import TfidfVectorizer\n",
    "from sklearn.linear_model import LogisticRegression\n",
    "from sklearn.tree import DecisionTreeClassifier\n",
    "from sklearn.ensemble import RandomForestClassifier \n",
    "from sklearn.model_selection import cross_val_score\n",
    "from sklearn.model_selection import train_test_split\n",
    "from sklearn.metrics import f1_score,  make_scorer\n",
    "from sklearn.model_selection import GridSearchCV"
   ]
  },
  {
   "cell_type": "code",
   "execution_count": 110,
   "metadata": {},
   "outputs": [],
   "source": [
    "df = pd.read_csv('/datasets/toxic_comments.csv')"
   ]
  },
  {
   "cell_type": "code",
   "execution_count": 111,
   "metadata": {
    "scrolled": true
   },
   "outputs": [
    {
     "data": {
      "text/html": [
       "<div>\n",
       "<style scoped>\n",
       "    .dataframe tbody tr th:only-of-type {\n",
       "        vertical-align: middle;\n",
       "    }\n",
       "\n",
       "    .dataframe tbody tr th {\n",
       "        vertical-align: top;\n",
       "    }\n",
       "\n",
       "    .dataframe thead th {\n",
       "        text-align: right;\n",
       "    }\n",
       "</style>\n",
       "<table border=\"1\" class=\"dataframe\">\n",
       "  <thead>\n",
       "    <tr style=\"text-align: right;\">\n",
       "      <th></th>\n",
       "      <th>text</th>\n",
       "      <th>toxic</th>\n",
       "    </tr>\n",
       "  </thead>\n",
       "  <tbody>\n",
       "    <tr>\n",
       "      <th>0</th>\n",
       "      <td>Explanation\\nWhy the edits made under my usern...</td>\n",
       "      <td>0</td>\n",
       "    </tr>\n",
       "    <tr>\n",
       "      <th>1</th>\n",
       "      <td>D'aww! He matches this background colour I'm s...</td>\n",
       "      <td>0</td>\n",
       "    </tr>\n",
       "    <tr>\n",
       "      <th>2</th>\n",
       "      <td>Hey man, I'm really not trying to edit war. It...</td>\n",
       "      <td>0</td>\n",
       "    </tr>\n",
       "    <tr>\n",
       "      <th>3</th>\n",
       "      <td>\"\\nMore\\nI can't make any real suggestions on ...</td>\n",
       "      <td>0</td>\n",
       "    </tr>\n",
       "    <tr>\n",
       "      <th>4</th>\n",
       "      <td>You, sir, are my hero. Any chance you remember...</td>\n",
       "      <td>0</td>\n",
       "    </tr>\n",
       "    <tr>\n",
       "      <th>5</th>\n",
       "      <td>\"\\n\\nCongratulations from me as well, use the ...</td>\n",
       "      <td>0</td>\n",
       "    </tr>\n",
       "    <tr>\n",
       "      <th>6</th>\n",
       "      <td>COCKSUCKER BEFORE YOU PISS AROUND ON MY WORK</td>\n",
       "      <td>1</td>\n",
       "    </tr>\n",
       "    <tr>\n",
       "      <th>7</th>\n",
       "      <td>Your vandalism to the Matt Shirvington article...</td>\n",
       "      <td>0</td>\n",
       "    </tr>\n",
       "    <tr>\n",
       "      <th>8</th>\n",
       "      <td>Sorry if the word 'nonsense' was offensive to ...</td>\n",
       "      <td>0</td>\n",
       "    </tr>\n",
       "    <tr>\n",
       "      <th>9</th>\n",
       "      <td>alignment on this subject and which are contra...</td>\n",
       "      <td>0</td>\n",
       "    </tr>\n",
       "  </tbody>\n",
       "</table>\n",
       "</div>"
      ],
      "text/plain": [
       "                                                text  toxic\n",
       "0  Explanation\\nWhy the edits made under my usern...      0\n",
       "1  D'aww! He matches this background colour I'm s...      0\n",
       "2  Hey man, I'm really not trying to edit war. It...      0\n",
       "3  \"\\nMore\\nI can't make any real suggestions on ...      0\n",
       "4  You, sir, are my hero. Any chance you remember...      0\n",
       "5  \"\\n\\nCongratulations from me as well, use the ...      0\n",
       "6       COCKSUCKER BEFORE YOU PISS AROUND ON MY WORK      1\n",
       "7  Your vandalism to the Matt Shirvington article...      0\n",
       "8  Sorry if the word 'nonsense' was offensive to ...      0\n",
       "9  alignment on this subject and which are contra...      0"
      ]
     },
     "metadata": {},
     "output_type": "display_data"
    },
    {
     "data": {
      "text/plain": [
       "text     0\n",
       "toxic    0\n",
       "dtype: int64"
      ]
     },
     "metadata": {},
     "output_type": "display_data"
    },
    {
     "data": {
      "text/plain": [
       "(159571, 2)"
      ]
     },
     "metadata": {},
     "output_type": "display_data"
    },
    {
     "name": "stdout",
     "output_type": "stream",
     "text": [
      "<class 'pandas.core.frame.DataFrame'>\n",
      "RangeIndex: 159571 entries, 0 to 159570\n",
      "Data columns (total 2 columns):\n",
      " #   Column  Non-Null Count   Dtype \n",
      "---  ------  --------------   ----- \n",
      " 0   text    159571 non-null  object\n",
      " 1   toxic   159571 non-null  int64 \n",
      "dtypes: int64(1), object(1)\n",
      "memory usage: 2.4+ MB\n"
     ]
    }
   ],
   "source": [
    "display(df.head(10))\n",
    "display(df.isna().sum())\n",
    "display(df.shape)\n",
    "df.info()"
   ]
  },
  {
   "cell_type": "code",
   "execution_count": 112,
   "metadata": {},
   "outputs": [
    {
     "name": "stdout",
     "output_type": "stream",
     "text": [
      "<class 'pandas.core.frame.DataFrame'>\n",
      "Int64Index: 20000 entries, 146790 to 2449\n",
      "Data columns (total 2 columns):\n",
      " #   Column  Non-Null Count  Dtype \n",
      "---  ------  --------------  ----- \n",
      " 0   text    20000 non-null  object\n",
      " 1   toxic   20000 non-null  int64 \n",
      "dtypes: int64(1), object(1)\n",
      "memory usage: 468.8+ KB\n"
     ]
    }
   ],
   "source": [
    "# взял из выборки только часть, для ускорения обучения\n",
    "df = df.sample(n=20000, random_state=12345)\n",
    "df.info()"
   ]
  },
  {
   "cell_type": "code",
   "execution_count": 113,
   "metadata": {},
   "outputs": [
    {
     "data": {
      "text/html": [
       "<div>\n",
       "<style scoped>\n",
       "    .dataframe tbody tr th:only-of-type {\n",
       "        vertical-align: middle;\n",
       "    }\n",
       "\n",
       "    .dataframe tbody tr th {\n",
       "        vertical-align: top;\n",
       "    }\n",
       "\n",
       "    .dataframe thead th {\n",
       "        text-align: right;\n",
       "    }\n",
       "</style>\n",
       "<table border=\"1\" class=\"dataframe\">\n",
       "  <thead>\n",
       "    <tr style=\"text-align: right;\">\n",
       "      <th></th>\n",
       "      <th>text</th>\n",
       "      <th>toxic</th>\n",
       "    </tr>\n",
       "  </thead>\n",
       "  <tbody>\n",
       "    <tr>\n",
       "      <th>146790</th>\n",
       "      <td>Ahh shut the fuck up you douchebag sand nigger...</td>\n",
       "      <td>1</td>\n",
       "    </tr>\n",
       "    <tr>\n",
       "      <th>2941</th>\n",
       "      <td>\"\\n\\nREPLY: There is no such thing as Texas Co...</td>\n",
       "      <td>0</td>\n",
       "    </tr>\n",
       "    <tr>\n",
       "      <th>115087</th>\n",
       "      <td>Reply\\nHey, you could at least mention Jasenov...</td>\n",
       "      <td>0</td>\n",
       "    </tr>\n",
       "    <tr>\n",
       "      <th>48830</th>\n",
       "      <td>Thats fine, there is no deadline )   chi?</td>\n",
       "      <td>0</td>\n",
       "    </tr>\n",
       "    <tr>\n",
       "      <th>136034</th>\n",
       "      <td>\"\\n\\nDYK nomination of Mustarabim\\n Hello! You...</td>\n",
       "      <td>0</td>\n",
       "    </tr>\n",
       "    <tr>\n",
       "      <th>121992</th>\n",
       "      <td>\"\\n\\nSockpuppetry case\\n \\nYou have been accus...</td>\n",
       "      <td>0</td>\n",
       "    </tr>\n",
       "    <tr>\n",
       "      <th>37282</th>\n",
       "      <td>Judging by what I've just read in an article, ...</td>\n",
       "      <td>0</td>\n",
       "    </tr>\n",
       "    <tr>\n",
       "      <th>64488</th>\n",
       "      <td>Todd and Copper\\nIn the first film they were l...</td>\n",
       "      <td>0</td>\n",
       "    </tr>\n",
       "    <tr>\n",
       "      <th>16992</th>\n",
       "      <td>\"\\n\\n \\nYou have been blocked from editing for...</td>\n",
       "      <td>0</td>\n",
       "    </tr>\n",
       "    <tr>\n",
       "      <th>138230</th>\n",
       "      <td>| decline=Can't find evidence of block either ...</td>\n",
       "      <td>0</td>\n",
       "    </tr>\n",
       "  </tbody>\n",
       "</table>\n",
       "</div>"
      ],
      "text/plain": [
       "                                                     text  toxic\n",
       "146790  Ahh shut the fuck up you douchebag sand nigger...      1\n",
       "2941    \"\\n\\nREPLY: There is no such thing as Texas Co...      0\n",
       "115087  Reply\\nHey, you could at least mention Jasenov...      0\n",
       "48830           Thats fine, there is no deadline )   chi?      0\n",
       "136034  \"\\n\\nDYK nomination of Mustarabim\\n Hello! You...      0\n",
       "121992  \"\\n\\nSockpuppetry case\\n \\nYou have been accus...      0\n",
       "37282   Judging by what I've just read in an article, ...      0\n",
       "64488   Todd and Copper\\nIn the first film they were l...      0\n",
       "16992   \"\\n\\n \\nYou have been blocked from editing for...      0\n",
       "138230  | decline=Can't find evidence of block either ...      0"
      ]
     },
     "execution_count": 113,
     "metadata": {},
     "output_type": "execute_result"
    }
   ],
   "source": [
    "df.head(10)"
   ]
  },
  {
   "cell_type": "code",
   "execution_count": 114,
   "metadata": {},
   "outputs": [],
   "source": [
    "# лемматизируем и очистим текст\n",
    "nlp = spacy.load (\"en_core_web_sm\")\n",
    "\n",
    "def lemmatize_text(text):    \n",
    "    text = text.lower()\n",
    "    doc = nlp(text)\n",
    "    lemm_text = \" \".join([token.lemma_ for token in doc])\n",
    "    cleared_text = re.sub(r'[^a-zA-Z]', ' ', lemm_text) \n",
    "    return \" \".join(cleared_text.split())\n",
    "\n",
    "df['text'] = df['text'].apply(lemmatize_text)"
   ]
  },
  {
   "cell_type": "code",
   "execution_count": 115,
   "metadata": {
    "scrolled": true
   },
   "outputs": [
    {
     "data": {
      "text/html": [
       "<div>\n",
       "<style scoped>\n",
       "    .dataframe tbody tr th:only-of-type {\n",
       "        vertical-align: middle;\n",
       "    }\n",
       "\n",
       "    .dataframe tbody tr th {\n",
       "        vertical-align: top;\n",
       "    }\n",
       "\n",
       "    .dataframe thead th {\n",
       "        text-align: right;\n",
       "    }\n",
       "</style>\n",
       "<table border=\"1\" class=\"dataframe\">\n",
       "  <thead>\n",
       "    <tr style=\"text-align: right;\">\n",
       "      <th></th>\n",
       "      <th>text</th>\n",
       "      <th>toxic</th>\n",
       "    </tr>\n",
       "  </thead>\n",
       "  <tbody>\n",
       "    <tr>\n",
       "      <th>146790</th>\n",
       "      <td>ahh shut the fuck up you douchebag sand nigger...</td>\n",
       "      <td>1</td>\n",
       "    </tr>\n",
       "    <tr>\n",
       "      <th>2941</th>\n",
       "      <td>reply there be no such thing as texas commerce...</td>\n",
       "      <td>0</td>\n",
       "    </tr>\n",
       "    <tr>\n",
       "      <th>115087</th>\n",
       "      <td>reply hey you could at least mention jasenovac...</td>\n",
       "      <td>0</td>\n",
       "    </tr>\n",
       "    <tr>\n",
       "      <th>48830</th>\n",
       "      <td>that s fine there be no deadline chi</td>\n",
       "      <td>0</td>\n",
       "    </tr>\n",
       "    <tr>\n",
       "      <th>136034</th>\n",
       "      <td>dyk nomination of mustarabim hello your submis...</td>\n",
       "      <td>0</td>\n",
       "    </tr>\n",
       "    <tr>\n",
       "      <th>121992</th>\n",
       "      <td>sockpuppetry case you have be accuse of sockpu...</td>\n",
       "      <td>0</td>\n",
       "    </tr>\n",
       "    <tr>\n",
       "      <th>37282</th>\n",
       "      <td>judge by what I ve just read in an article the...</td>\n",
       "      <td>0</td>\n",
       "    </tr>\n",
       "    <tr>\n",
       "      <th>64488</th>\n",
       "      <td>todd and copper in the first film they be litt...</td>\n",
       "      <td>0</td>\n",
       "    </tr>\n",
       "    <tr>\n",
       "      <th>16992</th>\n",
       "      <td>you have be block from edit for a period of we...</td>\n",
       "      <td>0</td>\n",
       "    </tr>\n",
       "    <tr>\n",
       "      <th>138230</th>\n",
       "      <td>decline can t find evidence of block either as...</td>\n",
       "      <td>0</td>\n",
       "    </tr>\n",
       "  </tbody>\n",
       "</table>\n",
       "</div>"
      ],
      "text/plain": [
       "                                                     text  toxic\n",
       "146790  ahh shut the fuck up you douchebag sand nigger...      1\n",
       "2941    reply there be no such thing as texas commerce...      0\n",
       "115087  reply hey you could at least mention jasenovac...      0\n",
       "48830                that s fine there be no deadline chi      0\n",
       "136034  dyk nomination of mustarabim hello your submis...      0\n",
       "121992  sockpuppetry case you have be accuse of sockpu...      0\n",
       "37282   judge by what I ve just read in an article the...      0\n",
       "64488   todd and copper in the first film they be litt...      0\n",
       "16992   you have be block from edit for a period of we...      0\n",
       "138230  decline can t find evidence of block either as...      0"
      ]
     },
     "execution_count": 115,
     "metadata": {},
     "output_type": "execute_result"
    }
   ],
   "source": [
    "df.head(10)"
   ]
  },
  {
   "cell_type": "code",
   "execution_count": 116,
   "metadata": {},
   "outputs": [],
   "source": [
    "target = df['toxic']\n",
    "features = df.drop(['toxic'], axis=1)"
   ]
  },
  {
   "cell_type": "code",
   "execution_count": 117,
   "metadata": {},
   "outputs": [],
   "source": [
    "features_train, features_test, target_train, target_test = train_test_split(features, target, test_size=0.1, random_state=12345)"
   ]
  },
  {
   "cell_type": "code",
   "execution_count": 118,
   "metadata": {},
   "outputs": [
    {
     "name": "stderr",
     "output_type": "stream",
     "text": [
      "[nltk_data] Downloading package stopwords to /home/jovyan/nltk_data...\n",
      "[nltk_data]   Package stopwords is already up-to-date!\n"
     ]
    }
   ],
   "source": [
    "# вычислим TF-IDF для текстов\n",
    "nltk.download('stopwords')\n",
    "stopwords = set(nltk_stopwords.words('english'))\n",
    "\n",
    "count_tf_idf = TfidfVectorizer(stop_words=stopwords)\n",
    "\n",
    "features_train = count_tf_idf.fit_transform(features_train['text'])\n",
    "\n",
    "features_test = count_tf_idf.transform(features_test['text'])"
   ]
  },
  {
   "cell_type": "code",
   "execution_count": 119,
   "metadata": {
    "scrolled": true
   },
   "outputs": [
    {
     "data": {
      "text/plain": [
       "0    0.898222\n",
       "1    0.101778\n",
       "Name: toxic, dtype: float64"
      ]
     },
     "execution_count": 119,
     "metadata": {},
     "output_type": "execute_result"
    }
   ],
   "source": [
    "target_train.value_counts(normalize=True)"
   ]
  },
  {
   "cell_type": "markdown",
   "metadata": {},
   "source": [
    "### Вывод\n",
    "\n",
    "Провел предобработку данных, лемматизировал и очистил текст. Вычислил TF-IDF для текстов"
   ]
  },
  {
   "cell_type": "markdown",
   "metadata": {},
   "source": [
    "## Обучение"
   ]
  },
  {
   "cell_type": "code",
   "execution_count": 120,
   "metadata": {},
   "outputs": [],
   "source": [
    "# словарь с результатами\n",
    "best = {}  # результаты F1"
   ]
  },
  {
   "cell_type": "code",
   "execution_count": 121,
   "metadata": {},
   "outputs": [
    {
     "name": "stdout",
     "output_type": "stream",
     "text": [
      "F1: 0.75\n"
     ]
    }
   ],
   "source": [
    "model = LogisticRegression(random_state=12345, class_weight='balanced')\n",
    "model.fit(features_train, target_train)\n",
    "predicted_test = model.predict(features_test)\n",
    "f_1 = f1_score(target_test, predicted_test)\n",
    "print(\"F1:\", f_1)\n",
    "best['LogisticRegression'] = f_1"
   ]
  },
  {
   "cell_type": "code",
   "execution_count": 122,
   "metadata": {},
   "outputs": [
    {
     "name": "stdout",
     "output_type": "stream",
     "text": [
      "Лучшее значение smape для дерева решений: 0.6986409391330228 при значениях гиперпараметров: {'max_depth': 61}\n"
     ]
    }
   ],
   "source": [
    "model = DecisionTreeClassifier(random_state=12345)\n",
    "params = {'max_depth':list(range(1,101,20))}\n",
    "tree_gs = GridSearchCV(model, params, cv=5, scoring='f1').fit(features_train, target_train)\n",
    "print(f'Лучшее значение smape для дерева решений: {tree_gs.best_score_} при значениях гиперпараметров: {tree_gs.best_params_}')"
   ]
  },
  {
   "cell_type": "code",
   "execution_count": 123,
   "metadata": {},
   "outputs": [
    {
     "name": "stdout",
     "output_type": "stream",
     "text": [
      "F1: 0.7180722891566266\n"
     ]
    }
   ],
   "source": [
    "# проверим на тестовой выборке\n",
    "model = DecisionTreeClassifier(random_state=12345, max_depth=61)\n",
    "model.fit(features_train, target_train)\n",
    "predicted_test = model.predict(features_test)\n",
    "f_1 = f1_score(target_test, predicted_test)\n",
    "print(\"F1:\", f_1)\n",
    "\n",
    "best['DecisionTreeClassifier'] = f_1"
   ]
  },
  {
   "cell_type": "code",
   "execution_count": 124,
   "metadata": {},
   "outputs": [
    {
     "name": "stdout",
     "output_type": "stream",
     "text": [
      "Лучшее значение smape для дерева решений: 0.6641575707747658 при значениях гиперпараметров: {'n_estimators': 90}\n"
     ]
    }
   ],
   "source": [
    "model = RandomForestClassifier(random_state=12345)\n",
    "params = {'n_estimators': range(10, 101, 20)}\n",
    "tree_gs = GridSearchCV(model, params, cv=5, scoring='f1').fit(features_train, target_train)\n",
    "print(f'Лучшее значение smape для дерева решений: {tree_gs.best_score_} при значениях гиперпараметров: {tree_gs.best_params_}')"
   ]
  },
  {
   "cell_type": "code",
   "execution_count": 127,
   "metadata": {},
   "outputs": [
    {
     "name": "stdout",
     "output_type": "stream",
     "text": [
      "F1: 0.7184986595174263\n"
     ]
    }
   ],
   "source": [
    "# проверим на тестовой выборке\n",
    "model = RandomForestClassifier(random_state=12345, n_estimators=90)\n",
    "model.fit(features_train, target_train)\n",
    "predicted_test = model.predict(features_test)\n",
    "f_1 = f1_score(target_test, predicted_test)\n",
    "print(\"F1:\", f_1)\n",
    "\n",
    "best['RandomForestClassifier'] = f_1"
   ]
  },
  {
   "cell_type": "markdown",
   "metadata": {},
   "source": [
    "## Выводы"
   ]
  },
  {
   "cell_type": "code",
   "execution_count": 128,
   "metadata": {
    "scrolled": false
   },
   "outputs": [
    {
     "data": {
      "text/html": [
       "<div>\n",
       "<style scoped>\n",
       "    .dataframe tbody tr th:only-of-type {\n",
       "        vertical-align: middle;\n",
       "    }\n",
       "\n",
       "    .dataframe tbody tr th {\n",
       "        vertical-align: top;\n",
       "    }\n",
       "\n",
       "    .dataframe thead th {\n",
       "        text-align: right;\n",
       "    }\n",
       "</style>\n",
       "<table border=\"1\" class=\"dataframe\">\n",
       "  <thead>\n",
       "    <tr style=\"text-align: right;\">\n",
       "      <th></th>\n",
       "      <th>model</th>\n",
       "      <th>f1</th>\n",
       "    </tr>\n",
       "  </thead>\n",
       "  <tbody>\n",
       "    <tr>\n",
       "      <th>0</th>\n",
       "      <td>LogisticRegression</td>\n",
       "      <td>0.750000</td>\n",
       "    </tr>\n",
       "    <tr>\n",
       "      <th>2</th>\n",
       "      <td>RandomForestClassifier</td>\n",
       "      <td>0.718499</td>\n",
       "    </tr>\n",
       "    <tr>\n",
       "      <th>1</th>\n",
       "      <td>DecisionTreeClassifier</td>\n",
       "      <td>0.718072</td>\n",
       "    </tr>\n",
       "  </tbody>\n",
       "</table>\n",
       "</div>"
      ],
      "text/plain": [
       "                    model        f1\n",
       "0      LogisticRegression  0.750000\n",
       "2  RandomForestClassifier  0.718499\n",
       "1  DecisionTreeClassifier  0.718072"
      ]
     },
     "execution_count": 128,
     "metadata": {},
     "output_type": "execute_result"
    }
   ],
   "source": [
    "pd.DataFrame(list(best.items()), columns=['model', 'f1']).sort_values(by='f1', ascending=False)"
   ]
  },
  {
   "cell_type": "markdown",
   "metadata": {},
   "source": [
    "Провел предобработку данных, лемматизировал и очистил текст, вычислил TF-IDF для текстов.\n",
    "Построил модели и подобрал лучшие параметры. Лучший результат F1 показала модель LogisticRegression = 0,75."
   ]
  }
 ],
 "metadata": {
  "ExecuteTimeLog": [
   {
    "duration": 810,
    "start_time": "2022-05-27T15:23:13.921Z"
   },
   {
    "duration": 2632,
    "start_time": "2022-05-27T15:23:16.159Z"
   },
   {
    "duration": 675,
    "start_time": "2022-05-27T18:24:15.282Z"
   },
   {
    "duration": 3528,
    "start_time": "2022-05-27T18:24:18.796Z"
   },
   {
    "duration": 1099,
    "start_time": "2022-05-27T18:24:34.795Z"
   },
   {
    "duration": 1146,
    "start_time": "2022-05-27T18:24:43.079Z"
   },
   {
    "duration": 29,
    "start_time": "2022-05-27T18:25:41.075Z"
   },
   {
    "duration": 25,
    "start_time": "2022-05-27T18:25:55.350Z"
   },
   {
    "duration": 73,
    "start_time": "2022-05-27T18:26:13.016Z"
   },
   {
    "duration": 1120,
    "start_time": "2022-05-27T18:45:56.591Z"
   },
   {
    "duration": 1037,
    "start_time": "2022-05-27T18:46:03.067Z"
   },
   {
    "duration": 76,
    "start_time": "2022-05-27T18:46:04.107Z"
   },
   {
    "duration": 857,
    "start_time": "2022-05-31T11:56:09.609Z"
   },
   {
    "duration": 2338,
    "start_time": "2022-05-31T11:56:10.468Z"
   },
   {
    "duration": 50,
    "start_time": "2022-05-31T11:56:12.807Z"
   },
   {
    "duration": 536,
    "start_time": "2022-05-31T13:08:18.265Z"
   },
   {
    "duration": 1105,
    "start_time": "2022-05-31T13:10:01.916Z"
   },
   {
    "duration": 5,
    "start_time": "2022-05-31T13:11:12.145Z"
   },
   {
    "duration": 107818,
    "start_time": "2022-05-31T13:11:14.372Z"
   },
   {
    "duration": 16,
    "start_time": "2022-05-31T13:13:15.950Z"
   },
   {
    "duration": 4,
    "start_time": "2022-05-31T13:13:58.623Z"
   },
   {
    "duration": 981,
    "start_time": "2022-05-31T13:13:58.629Z"
   },
   {
    "duration": 81,
    "start_time": "2022-05-31T13:13:59.611Z"
   },
   {
    "duration": 104365,
    "start_time": "2022-05-31T13:13:59.694Z"
   },
   {
    "duration": 27,
    "start_time": "2022-05-31T13:15:44.061Z"
   },
   {
    "duration": 16,
    "start_time": "2022-05-31T13:15:44.090Z"
   },
   {
    "duration": 8,
    "start_time": "2022-05-31T13:22:20.403Z"
   },
   {
    "duration": 8,
    "start_time": "2022-05-31T13:22:31.613Z"
   },
   {
    "duration": 8,
    "start_time": "2022-05-31T13:22:37.447Z"
   },
   {
    "duration": 216,
    "start_time": "2022-05-31T13:25:43.694Z"
   },
   {
    "duration": 31,
    "start_time": "2022-05-31T13:26:21.755Z"
   },
   {
    "duration": 8,
    "start_time": "2022-05-31T13:26:29.908Z"
   },
   {
    "duration": 8709,
    "start_time": "2022-05-31T13:33:33.158Z"
   },
   {
    "duration": 1628,
    "start_time": "2022-05-31T19:13:59.288Z"
   },
   {
    "duration": 2868,
    "start_time": "2022-05-31T19:14:00.920Z"
   },
   {
    "duration": 73,
    "start_time": "2022-05-31T19:14:03.790Z"
   },
   {
    "duration": 107338,
    "start_time": "2022-05-31T19:14:03.865Z"
   },
   {
    "duration": 8,
    "start_time": "2022-05-31T19:15:51.206Z"
   },
   {
    "duration": 21,
    "start_time": "2022-05-31T19:15:51.215Z"
   },
   {
    "duration": 42,
    "start_time": "2022-05-31T19:15:51.238Z"
   },
   {
    "duration": 10,
    "start_time": "2022-05-31T19:15:51.282Z"
   },
   {
    "duration": 6993,
    "start_time": "2022-05-31T19:15:51.294Z"
   },
   {
    "duration": 26,
    "start_time": "2022-05-31T19:16:40.445Z"
   },
   {
    "duration": 4,
    "start_time": "2022-05-31T19:16:56.143Z"
   },
   {
    "duration": 792,
    "start_time": "2022-05-31T19:16:56.149Z"
   },
   {
    "duration": 52,
    "start_time": "2022-05-31T19:16:56.942Z"
   },
   {
    "duration": 98151,
    "start_time": "2022-05-31T19:16:56.995Z"
   },
   {
    "duration": 7,
    "start_time": "2022-05-31T19:18:35.149Z"
   },
   {
    "duration": 40,
    "start_time": "2022-05-31T19:18:35.157Z"
   },
   {
    "duration": 29,
    "start_time": "2022-05-31T19:18:35.198Z"
   },
   {
    "duration": 9,
    "start_time": "2022-05-31T19:18:35.228Z"
   },
   {
    "duration": 3990,
    "start_time": "2022-05-31T19:18:35.239Z"
   },
   {
    "duration": 37,
    "start_time": "2022-05-31T19:23:38.747Z"
   },
   {
    "duration": 4,
    "start_time": "2022-05-31T19:47:56.132Z"
   },
   {
    "duration": 823,
    "start_time": "2022-05-31T19:47:56.138Z"
   },
   {
    "duration": 72,
    "start_time": "2022-05-31T19:47:56.962Z"
   },
   {
    "duration": 106044,
    "start_time": "2022-05-31T19:47:57.036Z"
   },
   {
    "duration": 8,
    "start_time": "2022-05-31T19:49:43.082Z"
   },
   {
    "duration": 38,
    "start_time": "2022-05-31T19:49:43.092Z"
   },
   {
    "duration": 31,
    "start_time": "2022-05-31T19:49:43.132Z"
   },
   {
    "duration": 8,
    "start_time": "2022-05-31T19:49:43.165Z"
   },
   {
    "duration": 8062,
    "start_time": "2022-05-31T19:49:43.175Z"
   },
   {
    "duration": 9,
    "start_time": "2022-05-31T19:50:03.536Z"
   },
   {
    "duration": 4,
    "start_time": "2022-05-31T19:50:12.184Z"
   },
   {
    "duration": 277370,
    "start_time": "2022-05-31T19:50:42.795Z"
   },
   {
    "duration": 12,
    "start_time": "2022-05-31T20:21:54.350Z"
   },
   {
    "duration": 4,
    "start_time": "2022-05-31T20:22:27.908Z"
   },
   {
    "duration": 116939,
    "start_time": "2022-05-31T20:22:33.880Z"
   },
   {
    "duration": 107977,
    "start_time": "2022-05-31T20:30:36.720Z"
   },
   {
    "duration": 12,
    "start_time": "2022-05-31T20:41:11.010Z"
   },
   {
    "duration": 10039,
    "start_time": "2022-05-31T20:41:28.919Z"
   },
   {
    "duration": 5,
    "start_time": "2022-05-31T20:41:46.836Z"
   },
   {
    "duration": 955,
    "start_time": "2022-05-31T20:41:46.844Z"
   },
   {
    "duration": 79,
    "start_time": "2022-05-31T20:41:47.802Z"
   },
   {
    "duration": 103151,
    "start_time": "2022-05-31T20:41:47.883Z"
   },
   {
    "duration": 10,
    "start_time": "2022-05-31T20:43:31.037Z"
   },
   {
    "duration": 29,
    "start_time": "2022-05-31T20:43:31.050Z"
   },
   {
    "duration": 31,
    "start_time": "2022-05-31T20:43:31.081Z"
   },
   {
    "duration": 20,
    "start_time": "2022-05-31T20:43:31.114Z"
   },
   {
    "duration": 7465,
    "start_time": "2022-05-31T20:43:31.135Z"
   },
   {
    "duration": 5,
    "start_time": "2022-05-31T20:43:38.601Z"
   },
   {
    "duration": 268754,
    "start_time": "2022-05-31T20:43:38.608Z"
   },
   {
    "duration": 58837,
    "start_time": "2022-05-31T20:48:07.364Z"
   },
   {
    "duration": 9885,
    "start_time": "2022-05-31T20:49:06.206Z"
   },
   {
    "duration": 3,
    "start_time": "2022-05-31T20:49:16.093Z"
   },
   {
    "duration": 5,
    "start_time": "2022-05-31T20:51:48.563Z"
   },
   {
    "duration": 1717,
    "start_time": "2022-05-31T20:51:48.570Z"
   },
   {
    "duration": 67,
    "start_time": "2022-05-31T20:51:50.289Z"
   },
   {
    "duration": 117452,
    "start_time": "2022-05-31T20:51:50.359Z"
   },
   {
    "duration": 8,
    "start_time": "2022-05-31T20:53:47.814Z"
   },
   {
    "duration": 42,
    "start_time": "2022-05-31T20:53:47.827Z"
   },
   {
    "duration": 25,
    "start_time": "2022-05-31T20:53:47.871Z"
   },
   {
    "duration": 8,
    "start_time": "2022-05-31T20:53:47.898Z"
   },
   {
    "duration": 7559,
    "start_time": "2022-05-31T20:53:47.908Z"
   },
   {
    "duration": 4,
    "start_time": "2022-05-31T20:53:55.470Z"
   },
   {
    "duration": 269049,
    "start_time": "2022-05-31T20:53:55.476Z"
   },
   {
    "duration": 53990,
    "start_time": "2022-05-31T20:58:24.527Z"
   },
   {
    "duration": 47940,
    "start_time": "2022-05-31T20:59:18.519Z"
   },
   {
    "duration": 3,
    "start_time": "2022-05-31T21:00:06.460Z"
   },
   {
    "duration": 5,
    "start_time": "2022-05-31T21:20:00.937Z"
   },
   {
    "duration": 1089,
    "start_time": "2022-05-31T21:20:00.946Z"
   },
   {
    "duration": 76,
    "start_time": "2022-05-31T21:20:02.037Z"
   },
   {
    "duration": 116774,
    "start_time": "2022-05-31T21:20:02.115Z"
   },
   {
    "duration": 8,
    "start_time": "2022-05-31T21:21:58.893Z"
   },
   {
    "duration": 43,
    "start_time": "2022-05-31T21:21:58.903Z"
   },
   {
    "duration": 51,
    "start_time": "2022-05-31T21:21:58.948Z"
   },
   {
    "duration": 10,
    "start_time": "2022-05-31T21:21:59.002Z"
   },
   {
    "duration": 7506,
    "start_time": "2022-05-31T21:21:59.014Z"
   },
   {
    "duration": 6,
    "start_time": "2022-05-31T21:22:06.521Z"
   },
   {
    "duration": 48799,
    "start_time": "2022-05-31T21:22:06.538Z"
   },
   {
    "duration": 303354,
    "start_time": "2022-05-31T21:22:55.342Z"
   },
   {
    "duration": 43,
    "start_time": "2022-05-31T21:32:43.518Z"
   },
   {
    "duration": 1108563,
    "start_time": "2022-05-31T21:34:17.680Z"
   },
   {
    "duration": 50,
    "start_time": "2022-06-01T07:08:31.320Z"
   },
   {
    "duration": 1468,
    "start_time": "2022-06-01T07:08:40.321Z"
   },
   {
    "duration": 2216,
    "start_time": "2022-06-01T07:08:41.791Z"
   },
   {
    "duration": 45,
    "start_time": "2022-06-01T07:08:44.009Z"
   },
   {
    "duration": 85456,
    "start_time": "2022-06-01T07:08:44.056Z"
   },
   {
    "duration": 7,
    "start_time": "2022-06-01T07:10:09.514Z"
   },
   {
    "duration": 9,
    "start_time": "2022-06-01T07:10:09.522Z"
   },
   {
    "duration": 19,
    "start_time": "2022-06-01T07:10:09.532Z"
   },
   {
    "duration": 22,
    "start_time": "2022-06-01T07:10:09.553Z"
   },
   {
    "duration": 5874,
    "start_time": "2022-06-01T07:10:09.577Z"
   },
   {
    "duration": 3,
    "start_time": "2022-06-01T07:10:15.452Z"
   },
   {
    "duration": 113,
    "start_time": "2022-06-01T07:10:45.562Z"
   },
   {
    "duration": 5,
    "start_time": "2022-06-01T07:11:21.113Z"
   },
   {
    "duration": 101,
    "start_time": "2022-06-01T07:13:51.222Z"
   },
   {
    "duration": 43423,
    "start_time": "2022-06-01T07:23:35.960Z"
   },
   {
    "duration": 41660,
    "start_time": "2022-06-01T07:24:49.920Z"
   },
   {
    "duration": 234111,
    "start_time": "2022-06-01T07:29:28.687Z"
   },
   {
    "duration": 2491,
    "start_time": "2022-06-01T07:34:54.222Z"
   },
   {
    "duration": 12337,
    "start_time": "2022-06-01T07:35:05.721Z"
   },
   {
    "duration": 4,
    "start_time": "2022-06-01T07:35:36.301Z"
   },
   {
    "duration": 659,
    "start_time": "2022-06-01T07:35:36.306Z"
   },
   {
    "duration": 35,
    "start_time": "2022-06-01T07:35:36.966Z"
   },
   {
    "duration": 79492,
    "start_time": "2022-06-01T07:35:37.002Z"
   },
   {
    "duration": 7,
    "start_time": "2022-06-01T07:36:56.496Z"
   },
   {
    "duration": 31,
    "start_time": "2022-06-01T07:36:56.504Z"
   },
   {
    "duration": 20,
    "start_time": "2022-06-01T07:36:56.536Z"
   },
   {
    "duration": 21,
    "start_time": "2022-06-01T07:36:56.558Z"
   },
   {
    "duration": 5640,
    "start_time": "2022-06-01T07:36:56.580Z"
   },
   {
    "duration": 5,
    "start_time": "2022-06-01T07:37:02.221Z"
   },
   {
    "duration": 43050,
    "start_time": "2022-06-01T07:37:02.227Z"
   },
   {
    "duration": 2532,
    "start_time": "2022-06-01T07:37:45.279Z"
   },
   {
    "duration": 2,
    "start_time": "2022-06-01T07:37:47.813Z"
   },
   {
    "duration": 11905,
    "start_time": "2022-06-01T07:37:47.816Z"
   },
   {
    "duration": 41182,
    "start_time": "2022-06-01T07:39:40.301Z"
   },
   {
    "duration": 2,
    "start_time": "2022-06-01T07:40:21.485Z"
   },
   {
    "duration": 4,
    "start_time": "2022-06-01T07:43:42.269Z"
   },
   {
    "duration": 826,
    "start_time": "2022-06-01T07:43:42.276Z"
   },
   {
    "duration": 40,
    "start_time": "2022-06-01T07:43:43.103Z"
   },
   {
    "duration": 79488,
    "start_time": "2022-06-01T07:43:43.144Z"
   },
   {
    "duration": 7,
    "start_time": "2022-06-01T07:45:02.634Z"
   },
   {
    "duration": 31,
    "start_time": "2022-06-01T07:45:02.642Z"
   },
   {
    "duration": 33,
    "start_time": "2022-06-01T07:45:02.674Z"
   },
   {
    "duration": 8,
    "start_time": "2022-06-01T07:45:02.708Z"
   },
   {
    "duration": 6030,
    "start_time": "2022-06-01T07:45:02.717Z"
   },
   {
    "duration": 6,
    "start_time": "2022-06-01T07:45:08.748Z"
   },
   {
    "duration": 43337,
    "start_time": "2022-06-01T07:45:08.755Z"
   },
   {
    "duration": 40579,
    "start_time": "2022-06-01T07:45:52.094Z"
   },
   {
    "duration": 207370,
    "start_time": "2022-06-01T07:46:32.675Z"
   },
   {
    "duration": 11879,
    "start_time": "2022-06-01T07:50:00.047Z"
   },
   {
    "duration": 556688,
    "start_time": "2022-06-01T07:53:03.095Z"
   },
   {
    "duration": 4,
    "start_time": "2022-06-01T08:03:52.715Z"
   },
   {
    "duration": 663,
    "start_time": "2022-06-01T08:03:52.723Z"
   },
   {
    "duration": 34,
    "start_time": "2022-06-01T08:03:53.388Z"
   },
   {
    "duration": 80592,
    "start_time": "2022-06-01T08:03:53.423Z"
   },
   {
    "duration": 7,
    "start_time": "2022-06-01T08:05:14.018Z"
   },
   {
    "duration": 24,
    "start_time": "2022-06-01T08:05:14.028Z"
   },
   {
    "duration": 28,
    "start_time": "2022-06-01T08:05:14.054Z"
   },
   {
    "duration": 7,
    "start_time": "2022-06-01T08:05:14.083Z"
   },
   {
    "duration": 5577,
    "start_time": "2022-06-01T08:05:14.091Z"
   },
   {
    "duration": 8,
    "start_time": "2022-06-01T08:05:19.670Z"
   },
   {
    "duration": 41311,
    "start_time": "2022-06-01T08:05:19.679Z"
   },
   {
    "duration": 41089,
    "start_time": "2022-06-01T08:06:00.992Z"
   },
   {
    "duration": 1763002,
    "start_time": "2022-06-01T08:06:42.082Z"
   },
   {
    "duration": 5397,
    "start_time": "2022-06-02T12:06:28.492Z"
   },
   {
    "duration": 4,
    "start_time": "2022-06-02T12:06:46.729Z"
   },
   {
    "duration": 2502,
    "start_time": "2022-06-02T12:06:46.735Z"
   },
   {
    "duration": 64,
    "start_time": "2022-06-02T12:06:49.239Z"
   },
   {
    "duration": 437,
    "start_time": "2022-06-02T12:07:41.647Z"
   },
   {
    "duration": 4,
    "start_time": "2022-06-02T12:08:26.283Z"
   },
   {
    "duration": 23,
    "start_time": "2022-06-02T12:08:30.849Z"
   },
   {
    "duration": 861,
    "start_time": "2022-06-02T12:09:30.150Z"
   },
   {
    "duration": 95666,
    "start_time": "2022-06-02T12:09:31.013Z"
   },
   {
    "duration": 1284438,
    "start_time": "2022-06-02T12:11:12.312Z"
   },
   {
    "duration": 4,
    "start_time": "2022-06-02T12:32:56.014Z"
   },
   {
    "duration": 764,
    "start_time": "2022-06-02T12:32:56.020Z"
   },
   {
    "duration": 73,
    "start_time": "2022-06-02T12:32:56.786Z"
   },
   {
    "duration": 849,
    "start_time": "2022-06-02T12:32:56.860Z"
   },
   {
    "duration": 11,
    "start_time": "2022-06-02T12:34:55.388Z"
   },
   {
    "duration": 9,
    "start_time": "2022-06-02T12:35:05.037Z"
   },
   {
    "duration": 19,
    "start_time": "2022-06-02T12:35:40.179Z"
   },
   {
    "duration": 7,
    "start_time": "2022-06-02T12:36:23.952Z"
   },
   {
    "duration": 20,
    "start_time": "2022-06-02T12:36:39.384Z"
   },
   {
    "duration": 5,
    "start_time": "2022-06-02T12:37:18.128Z"
   },
   {
    "duration": 7,
    "start_time": "2022-06-02T12:37:26.112Z"
   },
   {
    "duration": 83,
    "start_time": "2022-06-02T12:38:08.087Z"
   },
   {
    "duration": 7,
    "start_time": "2022-06-02T12:38:25.647Z"
   },
   {
    "duration": 3,
    "start_time": "2022-06-02T12:38:36.919Z"
   },
   {
    "duration": 14,
    "start_time": "2022-06-02T12:38:36.983Z"
   },
   {
    "duration": 12,
    "start_time": "2022-06-02T12:38:45.580Z"
   },
   {
    "duration": 3,
    "start_time": "2022-06-02T12:38:57.084Z"
   },
   {
    "duration": 13,
    "start_time": "2022-06-02T12:39:32.794Z"
   },
   {
    "duration": 3,
    "start_time": "2022-06-02T12:39:37.888Z"
   },
   {
    "duration": 4,
    "start_time": "2022-06-02T12:40:20.150Z"
   },
   {
    "duration": 5,
    "start_time": "2022-06-02T12:40:26.328Z"
   },
   {
    "duration": 38,
    "start_time": "2022-06-02T12:40:30.593Z"
   },
   {
    "duration": 4,
    "start_time": "2022-06-02T12:40:32.998Z"
   },
   {
    "duration": 9,
    "start_time": "2022-06-02T12:49:47.082Z"
   },
   {
    "duration": 14,
    "start_time": "2022-06-02T12:49:54.277Z"
   },
   {
    "duration": 235,
    "start_time": "2022-06-02T12:52:08.410Z"
   },
   {
    "duration": 6,
    "start_time": "2022-06-02T12:52:38.245Z"
   },
   {
    "duration": 4,
    "start_time": "2022-06-02T12:53:23.080Z"
   },
   {
    "duration": 775,
    "start_time": "2022-06-02T12:53:23.086Z"
   },
   {
    "duration": 66,
    "start_time": "2022-06-02T12:53:23.864Z"
   },
   {
    "duration": 18,
    "start_time": "2022-06-02T12:53:28.373Z"
   },
   {
    "duration": 14,
    "start_time": "2022-06-02T12:53:29.835Z"
   },
   {
    "duration": 671,
    "start_time": "2022-06-02T12:54:21.132Z"
   },
   {
    "duration": 4,
    "start_time": "2022-06-02T12:54:32.461Z"
   },
   {
    "duration": 758,
    "start_time": "2022-06-02T12:54:32.466Z"
   },
   {
    "duration": 52,
    "start_time": "2022-06-02T12:54:33.226Z"
   },
   {
    "duration": 20,
    "start_time": "2022-06-02T12:54:34.513Z"
   },
   {
    "duration": 10,
    "start_time": "2022-06-02T12:54:34.976Z"
   },
   {
    "duration": 392,
    "start_time": "2022-06-02T12:54:36.363Z"
   },
   {
    "duration": 421,
    "start_time": "2022-06-02T12:54:37.132Z"
   },
   {
    "duration": 7,
    "start_time": "2022-06-02T12:54:41.371Z"
   },
   {
    "duration": 8,
    "start_time": "2022-06-02T12:55:20.976Z"
   },
   {
    "duration": 4,
    "start_time": "2022-06-02T12:55:25.796Z"
   },
   {
    "duration": 762,
    "start_time": "2022-06-02T12:55:25.802Z"
   },
   {
    "duration": 76,
    "start_time": "2022-06-02T12:55:26.566Z"
   },
   {
    "duration": 18,
    "start_time": "2022-06-02T12:55:26.643Z"
   },
   {
    "duration": 12,
    "start_time": "2022-06-02T12:55:26.663Z"
   },
   {
    "duration": 3,
    "start_time": "2022-06-02T12:55:33.880Z"
   },
   {
    "duration": 10,
    "start_time": "2022-06-02T12:55:34.426Z"
   },
   {
    "duration": 7,
    "start_time": "2022-06-02T12:55:35.976Z"
   },
   {
    "duration": 565,
    "start_time": "2022-06-02T12:55:45.448Z"
   },
   {
    "duration": 454,
    "start_time": "2022-06-02T12:55:49.814Z"
   },
   {
    "duration": 7,
    "start_time": "2022-06-02T12:55:52.276Z"
   },
   {
    "duration": 385,
    "start_time": "2022-06-02T12:56:25.208Z"
   },
   {
    "duration": 7,
    "start_time": "2022-06-02T12:56:26.928Z"
   },
   {
    "duration": 3,
    "start_time": "2022-06-02T12:56:31.752Z"
   },
   {
    "duration": 818,
    "start_time": "2022-06-02T12:56:31.758Z"
   },
   {
    "duration": 71,
    "start_time": "2022-06-02T12:56:32.577Z"
   },
   {
    "duration": 23,
    "start_time": "2022-06-02T12:56:32.650Z"
   },
   {
    "duration": 19,
    "start_time": "2022-06-02T12:56:32.675Z"
   },
   {
    "duration": 13,
    "start_time": "2022-06-02T12:56:32.696Z"
   },
   {
    "duration": 442,
    "start_time": "2022-06-02T12:56:32.711Z"
   },
   {
    "duration": 436,
    "start_time": "2022-06-02T12:56:36.546Z"
   },
   {
    "duration": 261,
    "start_time": "2022-06-02T12:56:37.649Z"
   },
   {
    "duration": 8,
    "start_time": "2022-06-02T12:56:41.907Z"
   },
   {
    "duration": 4,
    "start_time": "2022-06-02T13:02:12.076Z"
   },
   {
    "duration": 737,
    "start_time": "2022-06-02T13:02:12.082Z"
   },
   {
    "duration": 53,
    "start_time": "2022-06-02T13:02:12.820Z"
   },
   {
    "duration": 30,
    "start_time": "2022-06-02T13:02:12.875Z"
   },
   {
    "duration": 26,
    "start_time": "2022-06-02T13:02:12.907Z"
   },
   {
    "duration": 129,
    "start_time": "2022-06-02T17:48:59.829Z"
   },
   {
    "duration": 6524,
    "start_time": "2022-06-02T17:49:04.198Z"
   },
   {
    "duration": 4897,
    "start_time": "2022-06-02T17:49:10.725Z"
   },
   {
    "duration": 145,
    "start_time": "2022-06-02T17:49:15.624Z"
   },
   {
    "duration": 54,
    "start_time": "2022-06-02T17:49:15.771Z"
   },
   {
    "duration": 41,
    "start_time": "2022-06-02T17:49:15.828Z"
   },
   {
    "duration": 518762,
    "start_time": "2022-06-02T17:49:15.871Z"
   },
   {
    "duration": 20,
    "start_time": "2022-06-02T17:57:54.640Z"
   },
   {
    "duration": 48,
    "start_time": "2022-06-02T17:57:54.666Z"
   },
   {
    "duration": 13,
    "start_time": "2022-06-02T17:57:54.717Z"
   },
   {
    "duration": 53,
    "start_time": "2022-06-02T17:57:54.733Z"
   },
   {
    "duration": 1682,
    "start_time": "2022-06-02T17:57:54.788Z"
   },
   {
    "duration": 262,
    "start_time": "2022-06-02T17:57:56.473Z"
   },
   {
    "duration": 9407,
    "start_time": "2022-06-02T17:58:43.843Z"
   },
   {
    "duration": 21,
    "start_time": "2022-06-02T17:59:15.353Z"
   },
   {
    "duration": 7,
    "start_time": "2022-06-02T17:59:19.586Z"
   },
   {
    "duration": 18,
    "start_time": "2022-06-02T17:59:20.052Z"
   },
   {
    "duration": 1549,
    "start_time": "2022-06-02T17:59:21.715Z"
   },
   {
    "duration": 7,
    "start_time": "2022-06-02T17:59:26.698Z"
   },
   {
    "duration": 11694,
    "start_time": "2022-06-02T17:59:30.578Z"
   },
   {
    "duration": 10,
    "start_time": "2022-06-02T17:59:54.394Z"
   },
   {
    "duration": 17,
    "start_time": "2022-06-02T17:59:55.359Z"
   },
   {
    "duration": 1413,
    "start_time": "2022-06-02T17:59:56.072Z"
   },
   {
    "duration": 17,
    "start_time": "2022-06-02T17:59:57.649Z"
   },
   {
    "duration": 10842,
    "start_time": "2022-06-02T18:00:00.389Z"
   },
   {
    "duration": 13,
    "start_time": "2022-06-02T18:00:26.244Z"
   },
   {
    "duration": 11,
    "start_time": "2022-06-02T18:00:26.898Z"
   },
   {
    "duration": 1461,
    "start_time": "2022-06-02T18:00:27.797Z"
   },
   {
    "duration": 18,
    "start_time": "2022-06-02T18:00:29.485Z"
   },
   {
    "duration": 12389,
    "start_time": "2022-06-02T18:00:33.288Z"
   },
   {
    "duration": 474,
    "start_time": "2022-06-02T18:01:35.322Z"
   },
   {
    "duration": 153890,
    "start_time": "2022-06-02T18:01:48.592Z"
   },
   {
    "duration": 28,
    "start_time": "2022-06-02T18:06:21.086Z"
   },
   {
    "duration": 25,
    "start_time": "2022-06-02T18:08:35.781Z"
   },
   {
    "duration": 41,
    "start_time": "2022-06-02T18:08:57.268Z"
   },
   {
    "duration": 0,
    "start_time": "2022-06-02T18:08:57.312Z"
   },
   {
    "duration": 28137,
    "start_time": "2022-06-02T18:09:10.888Z"
   },
   {
    "duration": 13237,
    "start_time": "2022-06-02T18:10:57.180Z"
   },
   {
    "duration": 15022,
    "start_time": "2022-06-02T18:11:29.906Z"
   },
   {
    "duration": 13022,
    "start_time": "2022-06-02T18:12:05.620Z"
   },
   {
    "duration": 14092,
    "start_time": "2022-06-02T18:12:56.570Z"
   },
   {
    "duration": 6196,
    "start_time": "2022-06-02T18:13:39.572Z"
   },
   {
    "duration": 6951,
    "start_time": "2022-06-02T18:14:28.817Z"
   },
   {
    "duration": 6541,
    "start_time": "2022-06-02T18:14:50.705Z"
   },
   {
    "duration": 6016,
    "start_time": "2022-06-02T18:16:07.119Z"
   },
   {
    "duration": 7830,
    "start_time": "2022-06-02T18:17:31.820Z"
   },
   {
    "duration": 13808,
    "start_time": "2022-06-02T18:17:44.634Z"
   },
   {
    "duration": 23428,
    "start_time": "2022-06-02T18:21:22.820Z"
   },
   {
    "duration": 1243092,
    "start_time": "2022-06-02T18:22:16.791Z"
   },
   {
    "duration": 9947,
    "start_time": "2022-06-02T18:45:22.608Z"
   },
   {
    "duration": 3,
    "start_time": "2022-06-02T18:45:49.464Z"
   },
   {
    "duration": 11988,
    "start_time": "2022-06-02T18:45:50.570Z"
   },
   {
    "duration": 812,
    "start_time": "2022-06-02T18:46:11.250Z"
   },
   {
    "duration": 6,
    "start_time": "2022-06-02T18:46:57.701Z"
   },
   {
    "duration": 7,
    "start_time": "2022-06-02T18:46:58.576Z"
   },
   {
    "duration": 1024,
    "start_time": "2022-06-02T18:47:00.686Z"
   },
   {
    "duration": 39,
    "start_time": "2022-06-02T18:47:10.014Z"
   },
   {
    "duration": 6,
    "start_time": "2022-06-02T18:47:18.782Z"
   },
   {
    "duration": 9,
    "start_time": "2022-06-02T18:47:19.269Z"
   },
   {
    "duration": 1019,
    "start_time": "2022-06-02T18:47:20.471Z"
   },
   {
    "duration": 6,
    "start_time": "2022-06-02T18:47:22.493Z"
   },
   {
    "duration": 3,
    "start_time": "2022-06-02T18:47:25.692Z"
   },
   {
    "duration": 12782,
    "start_time": "2022-06-02T18:47:41.072Z"
   },
   {
    "duration": 11339,
    "start_time": "2022-06-02T18:48:06.817Z"
   },
   {
    "duration": 6,
    "start_time": "2022-06-02T18:49:13.610Z"
   },
   {
    "duration": 13,
    "start_time": "2022-06-02T18:49:14.021Z"
   },
   {
    "duration": 1097,
    "start_time": "2022-06-02T18:49:15.153Z"
   },
   {
    "duration": 11,
    "start_time": "2022-06-02T18:49:17.586Z"
   },
   {
    "duration": 4,
    "start_time": "2022-06-02T18:49:20.350Z"
   },
   {
    "duration": 12214,
    "start_time": "2022-06-02T18:49:20.635Z"
   },
   {
    "duration": 717,
    "start_time": "2022-06-02T18:49:34.721Z"
   },
   {
    "duration": 17160,
    "start_time": "2022-06-02T18:49:43.148Z"
   },
   {
    "duration": 5,
    "start_time": "2022-06-02T18:50:11.604Z"
   },
   {
    "duration": 12,
    "start_time": "2022-06-02T18:50:31.125Z"
   },
   {
    "duration": 5,
    "start_time": "2022-06-02T18:50:37.668Z"
   },
   {
    "duration": 869,
    "start_time": "2022-06-02T18:52:12.678Z"
   },
   {
    "duration": 771,
    "start_time": "2022-06-02T18:52:21.949Z"
   },
   {
    "duration": 19155,
    "start_time": "2022-06-02T18:54:54.545Z"
   },
   {
    "duration": 474,
    "start_time": "2022-06-02T18:55:37.345Z"
   },
   {
    "duration": 94,
    "start_time": "2022-06-02T18:55:51.094Z"
   },
   {
    "duration": 486,
    "start_time": "2022-06-02T18:55:56.126Z"
   },
   {
    "duration": 469,
    "start_time": "2022-06-02T18:56:01.152Z"
   },
   {
    "duration": 19063,
    "start_time": "2022-06-02T18:56:11.471Z"
   },
   {
    "duration": 21364,
    "start_time": "2022-06-02T18:56:59.951Z"
   },
   {
    "duration": 18915,
    "start_time": "2022-06-02T18:58:49.851Z"
   },
   {
    "duration": 64122,
    "start_time": "2022-06-02T18:59:31.195Z"
   },
   {
    "duration": 4011,
    "start_time": "2022-06-02T19:01:04.464Z"
   },
   {
    "duration": 4,
    "start_time": "2022-06-02T19:01:17.417Z"
   },
   {
    "duration": 12,
    "start_time": "2022-06-02T19:01:45.296Z"
   },
   {
    "duration": 18,
    "start_time": "2022-06-02T19:02:31.434Z"
   },
   {
    "duration": 24,
    "start_time": "2022-06-02T19:02:46.480Z"
   },
   {
    "duration": 9,
    "start_time": "2022-06-02T19:02:51.368Z"
   },
   {
    "duration": 15,
    "start_time": "2022-06-02T19:03:15.359Z"
   },
   {
    "duration": 20,
    "start_time": "2022-06-02T19:08:33.902Z"
   },
   {
    "duration": 11,
    "start_time": "2022-06-02T19:09:26.473Z"
   },
   {
    "duration": 30,
    "start_time": "2022-06-02T19:09:40.315Z"
   },
   {
    "duration": 36,
    "start_time": "2022-06-02T19:10:02.626Z"
   },
   {
    "duration": 15,
    "start_time": "2022-06-02T19:11:02.937Z"
   },
   {
    "duration": 8,
    "start_time": "2022-06-02T19:13:30.259Z"
   },
   {
    "duration": 69,
    "start_time": "2022-06-02T19:14:58.422Z"
   },
   {
    "duration": 8,
    "start_time": "2022-06-02T19:15:02.878Z"
   },
   {
    "duration": 22,
    "start_time": "2022-06-02T19:15:33.989Z"
   },
   {
    "duration": 8,
    "start_time": "2022-06-02T19:15:57.643Z"
   },
   {
    "duration": 8,
    "start_time": "2022-06-02T19:16:17.741Z"
   },
   {
    "duration": 10,
    "start_time": "2022-06-02T19:16:31.673Z"
   },
   {
    "duration": 216892,
    "start_time": "2022-06-02T19:19:10.374Z"
   },
   {
    "duration": 581,
    "start_time": "2022-06-02T19:23:23.202Z"
   },
   {
    "duration": 14704,
    "start_time": "2022-06-02T19:23:57.001Z"
   },
   {
    "duration": 12,
    "start_time": "2022-06-02T19:25:18.296Z"
   },
   {
    "duration": 3,
    "start_time": "2022-06-02T19:26:19.983Z"
   },
   {
    "duration": 885,
    "start_time": "2022-06-02T19:26:19.989Z"
   },
   {
    "duration": 65,
    "start_time": "2022-06-02T19:26:20.876Z"
   },
   {
    "duration": 36,
    "start_time": "2022-06-02T19:26:20.943Z"
   },
   {
    "duration": 7,
    "start_time": "2022-06-02T19:26:20.981Z"
   },
   {
    "duration": 333117,
    "start_time": "2022-06-02T19:26:20.990Z"
   },
   {
    "duration": 7,
    "start_time": "2022-06-02T19:31:54.109Z"
   },
   {
    "duration": 4,
    "start_time": "2022-06-02T19:31:54.127Z"
   },
   {
    "duration": 9,
    "start_time": "2022-06-02T19:31:54.133Z"
   },
   {
    "duration": 1019,
    "start_time": "2022-06-02T19:31:54.144Z"
   },
   {
    "duration": 7,
    "start_time": "2022-06-02T19:31:55.166Z"
   },
   {
    "duration": 5,
    "start_time": "2022-06-02T19:31:55.175Z"
   },
   {
    "duration": 7445,
    "start_time": "2022-06-02T19:31:55.182Z"
   },
   {
    "duration": 53158,
    "start_time": "2022-06-02T19:32:02.631Z"
   },
   {
    "duration": 2958,
    "start_time": "2022-06-02T19:32:55.791Z"
   },
   {
    "duration": 560713,
    "start_time": "2022-06-02T19:32:58.750Z"
   },
   {
    "duration": 12796,
    "start_time": "2022-06-02T19:42:19.465Z"
   },
   {
    "duration": 9,
    "start_time": "2022-06-02T19:42:32.263Z"
   },
   {
    "duration": 14101,
    "start_time": "2022-06-02T20:02:15.272Z"
   },
   {
    "duration": 9,
    "start_time": "2022-06-02T20:02:40.854Z"
   }
  ],
  "kernelspec": {
   "display_name": "Python 3 (ipykernel)",
   "language": "python",
   "name": "python3"
  },
  "language_info": {
   "codemirror_mode": {
    "name": "ipython",
    "version": 3
   },
   "file_extension": ".py",
   "mimetype": "text/x-python",
   "name": "python",
   "nbconvert_exporter": "python",
   "pygments_lexer": "ipython3",
   "version": "3.9.7"
  },
  "toc": {
   "base_numbering": 1,
   "nav_menu": {},
   "number_sections": true,
   "sideBar": true,
   "skip_h1_title": true,
   "title_cell": "Содержание",
   "title_sidebar": "Contents",
   "toc_cell": true,
   "toc_position": {
    "height": "calc(100% - 180px)",
    "left": "10px",
    "top": "150px",
    "width": "165px"
   },
   "toc_section_display": true,
   "toc_window_display": true
  }
 },
 "nbformat": 4,
 "nbformat_minor": 2
}
