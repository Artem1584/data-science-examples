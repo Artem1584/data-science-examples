{
 "cells": [
  {
   "cell_type": "markdown",
   "metadata": {
    "id": "E0vqbgi9ay0H"
   },
   "source": [
    "# Яндекс.Музыка"
   ]
  },
  {
   "cell_type": "markdown",
   "metadata": {
    "id": "VUC88oWjTJw2"
   },
   "source": [
    "Сравнение Москвы и Петербурга окружено мифами. Например:\n",
    " * Москва — мегаполис, подчинённый жёсткому ритму рабочей недели;\n",
    " * Петербург — культурная столица, со своими вкусами.\n",
    "\n",
    "На данных Яндекс.Музыки вы сравните поведение пользователей двух столиц.\n",
    "\n",
    "**Цель исследования** — проверьте три гипотезы:\n",
    "1. Активность пользователей зависит от дня недели. Причём в Москве и Петербурге это проявляется по-разному.\n",
    "2. В понедельник утром в Москве преобладают одни жанры, а в Петербурге — другие. Так же и вечером пятницы преобладают разные жанры — в зависимости от города. \n",
    "3. Москва и Петербург предпочитают разные жанры музыки. В Москве чаще слушают поп-музыку, в Петербурге — русский рэп.\n",
    "\n",
    "**Ход исследования**\n",
    "\n",
    "Данные о поведении пользователей вы получите из файла `yandex_music_project.csv`. О качестве данных ничего не известно. Поэтому перед проверкой гипотез понадобится обзор данных. \n",
    "\n",
    "Вы проверите данные на ошибки и оцените их влияние на исследование. Затем, на этапе предобработки вы поищете возможность исправить самые критичные ошибки данных.\n",
    " \n",
    "Таким образом, исследование пройдёт в три этапа:\n",
    " 1. Обзор данных.\n",
    " 2. Предобработка данных.\n",
    " 3. Проверка гипотез.\n",
    "\n"
   ]
  },
  {
   "cell_type": "markdown",
   "metadata": {
    "id": "Ml1hmfXC_Zcs"
   },
   "source": [
    "## Обзор данных\n",
    "\n",
    "Составьте первое представление о данных Яндекс.Музыки.\n",
    "\n",
    "\n"
   ]
  },
  {
   "cell_type": "markdown",
   "metadata": {
    "id": "57eAOGIz_Zcs"
   },
   "source": [
    "Основной инструмент аналитика — `pandas`. Импортируйте эту библиотеку."
   ]
  },
  {
   "cell_type": "code",
   "execution_count": 39,
   "metadata": {
    "id": "AXN7PHPN_Zcs"
   },
   "outputs": [],
   "source": [
    "import pandas as pd"
   ]
  },
  {
   "cell_type": "markdown",
   "metadata": {
    "id": "SG23P8tt_Zcs"
   },
   "source": [
    "Прочитайте файл `yandex_music_project.csv` из папки `/datasets` и сохраните его в переменной `df`:"
   ]
  },
  {
   "cell_type": "code",
   "execution_count": 40,
   "metadata": {
    "id": "fFVu7vqh_Zct"
   },
   "outputs": [],
   "source": [
    "df = pd.read_csv('yandex_music_project.csv')"
   ]
  },
  {
   "cell_type": "markdown",
   "metadata": {
    "id": "rDoOMd3uTqnZ"
   },
   "source": [
    "Выведите на экран первые десять строк таблицы:"
   ]
  },
  {
   "cell_type": "code",
   "execution_count": 41,
   "metadata": {
    "id": "oWTVX3gW_Zct"
   },
   "outputs": [
    {
     "data": {
      "text/html": [
       "<div>\n",
       "<style scoped>\n",
       "    .dataframe tbody tr th:only-of-type {\n",
       "        vertical-align: middle;\n",
       "    }\n",
       "\n",
       "    .dataframe tbody tr th {\n",
       "        vertical-align: top;\n",
       "    }\n",
       "\n",
       "    .dataframe thead th {\n",
       "        text-align: right;\n",
       "    }\n",
       "</style>\n",
       "<table border=\"1\" class=\"dataframe\">\n",
       "  <thead>\n",
       "    <tr style=\"text-align: right;\">\n",
       "      <th></th>\n",
       "      <th>userID</th>\n",
       "      <th>Track</th>\n",
       "      <th>artist</th>\n",
       "      <th>genre</th>\n",
       "      <th>City</th>\n",
       "      <th>time</th>\n",
       "      <th>Day</th>\n",
       "    </tr>\n",
       "  </thead>\n",
       "  <tbody>\n",
       "    <tr>\n",
       "      <th>0</th>\n",
       "      <td>FFB692EC</td>\n",
       "      <td>Kamigata To Boots</td>\n",
       "      <td>The Mass Missile</td>\n",
       "      <td>rock</td>\n",
       "      <td>Saint-Petersburg</td>\n",
       "      <td>20:28:33</td>\n",
       "      <td>Wednesday</td>\n",
       "    </tr>\n",
       "    <tr>\n",
       "      <th>1</th>\n",
       "      <td>55204538</td>\n",
       "      <td>Delayed Because of Accident</td>\n",
       "      <td>Andreas Rönnberg</td>\n",
       "      <td>rock</td>\n",
       "      <td>Moscow</td>\n",
       "      <td>14:07:09</td>\n",
       "      <td>Friday</td>\n",
       "    </tr>\n",
       "    <tr>\n",
       "      <th>2</th>\n",
       "      <td>20EC38</td>\n",
       "      <td>Funiculì funiculà</td>\n",
       "      <td>Mario Lanza</td>\n",
       "      <td>pop</td>\n",
       "      <td>Saint-Petersburg</td>\n",
       "      <td>20:58:07</td>\n",
       "      <td>Wednesday</td>\n",
       "    </tr>\n",
       "    <tr>\n",
       "      <th>3</th>\n",
       "      <td>A3DD03C9</td>\n",
       "      <td>Dragons in the Sunset</td>\n",
       "      <td>Fire + Ice</td>\n",
       "      <td>folk</td>\n",
       "      <td>Saint-Petersburg</td>\n",
       "      <td>08:37:09</td>\n",
       "      <td>Monday</td>\n",
       "    </tr>\n",
       "    <tr>\n",
       "      <th>4</th>\n",
       "      <td>E2DC1FAE</td>\n",
       "      <td>Soul People</td>\n",
       "      <td>Space Echo</td>\n",
       "      <td>dance</td>\n",
       "      <td>Moscow</td>\n",
       "      <td>08:34:34</td>\n",
       "      <td>Monday</td>\n",
       "    </tr>\n",
       "    <tr>\n",
       "      <th>5</th>\n",
       "      <td>842029A1</td>\n",
       "      <td>Преданная</td>\n",
       "      <td>IMPERVTOR</td>\n",
       "      <td>rusrap</td>\n",
       "      <td>Saint-Petersburg</td>\n",
       "      <td>13:09:41</td>\n",
       "      <td>Friday</td>\n",
       "    </tr>\n",
       "    <tr>\n",
       "      <th>6</th>\n",
       "      <td>4CB90AA5</td>\n",
       "      <td>True</td>\n",
       "      <td>Roman Messer</td>\n",
       "      <td>dance</td>\n",
       "      <td>Moscow</td>\n",
       "      <td>13:00:07</td>\n",
       "      <td>Wednesday</td>\n",
       "    </tr>\n",
       "    <tr>\n",
       "      <th>7</th>\n",
       "      <td>F03E1C1F</td>\n",
       "      <td>Feeling This Way</td>\n",
       "      <td>Polina Griffith</td>\n",
       "      <td>dance</td>\n",
       "      <td>Moscow</td>\n",
       "      <td>20:47:49</td>\n",
       "      <td>Wednesday</td>\n",
       "    </tr>\n",
       "    <tr>\n",
       "      <th>8</th>\n",
       "      <td>8FA1D3BE</td>\n",
       "      <td>И вновь продолжается бой</td>\n",
       "      <td>NaN</td>\n",
       "      <td>ruspop</td>\n",
       "      <td>Moscow</td>\n",
       "      <td>09:17:40</td>\n",
       "      <td>Friday</td>\n",
       "    </tr>\n",
       "    <tr>\n",
       "      <th>9</th>\n",
       "      <td>E772D5C0</td>\n",
       "      <td>Pessimist</td>\n",
       "      <td>NaN</td>\n",
       "      <td>dance</td>\n",
       "      <td>Saint-Petersburg</td>\n",
       "      <td>21:20:49</td>\n",
       "      <td>Wednesday</td>\n",
       "    </tr>\n",
       "  </tbody>\n",
       "</table>\n",
       "</div>"
      ],
      "text/plain": [
       "     userID                        Track            artist   genre  \\\n",
       "0  FFB692EC            Kamigata To Boots  The Mass Missile    rock   \n",
       "1  55204538  Delayed Because of Accident  Andreas Rönnberg    rock   \n",
       "2    20EC38            Funiculì funiculà       Mario Lanza     pop   \n",
       "3  A3DD03C9        Dragons in the Sunset        Fire + Ice    folk   \n",
       "4  E2DC1FAE                  Soul People        Space Echo   dance   \n",
       "5  842029A1                    Преданная         IMPERVTOR  rusrap   \n",
       "6  4CB90AA5                         True      Roman Messer   dance   \n",
       "7  F03E1C1F             Feeling This Way   Polina Griffith   dance   \n",
       "8  8FA1D3BE     И вновь продолжается бой               NaN  ruspop   \n",
       "9  E772D5C0                    Pessimist               NaN   dance   \n",
       "\n",
       "             City        time        Day  \n",
       "0  Saint-Petersburg  20:28:33  Wednesday  \n",
       "1            Moscow  14:07:09     Friday  \n",
       "2  Saint-Petersburg  20:58:07  Wednesday  \n",
       "3  Saint-Petersburg  08:37:09     Monday  \n",
       "4            Moscow  08:34:34     Monday  \n",
       "5  Saint-Petersburg  13:09:41     Friday  \n",
       "6            Moscow  13:00:07  Wednesday  \n",
       "7            Moscow  20:47:49  Wednesday  \n",
       "8            Moscow  09:17:40     Friday  \n",
       "9  Saint-Petersburg  21:20:49  Wednesday  "
      ]
     },
     "metadata": {},
     "output_type": "display_data"
    }
   ],
   "source": [
    "display(df.head(10))"
   ]
  },
  {
   "cell_type": "markdown",
   "metadata": {
    "id": "EO73Kwic_Zct"
   },
   "source": [
    "Одной командой получить общую информацию о таблице:"
   ]
  },
  {
   "cell_type": "code",
   "execution_count": 42,
   "metadata": {
    "id": "DSf2kIb-_Zct"
   },
   "outputs": [
    {
     "name": "stdout",
     "output_type": "stream",
     "text": [
      "<class 'pandas.core.frame.DataFrame'>\n",
      "RangeIndex: 65079 entries, 0 to 65078\n",
      "Data columns (total 7 columns):\n",
      " #   Column    Non-Null Count  Dtype \n",
      "---  ------    --------------  ----- \n",
      " 0     userID  65079 non-null  object\n",
      " 1   Track     63848 non-null  object\n",
      " 2   artist    57876 non-null  object\n",
      " 3   genre     63881 non-null  object\n",
      " 4     City    65079 non-null  object\n",
      " 5   time      65079 non-null  object\n",
      " 6   Day       65079 non-null  object\n",
      "dtypes: object(7)\n",
      "memory usage: 3.5+ MB\n"
     ]
    }
   ],
   "source": [
    "df.info()"
   ]
  },
  {
   "cell_type": "markdown",
   "metadata": {
    "id": "TaQ2Iwbr_Zct"
   },
   "source": [
    "Итак, в таблице семь столбцов. Тип данных во всех столбцах — `object`.\n",
    "\n",
    "Согласно документации к данным:\n",
    "* `userID` — идентификатор пользователя;\n",
    "* `Track` — название трека;  \n",
    "* `artist` — имя исполнителя;\n",
    "* `genre` — название жанра;\n",
    "* `City` — город пользователя;\n",
    "* `time` — время начала прослушивания;\n",
    "* `Day` — день недели.\n",
    "\n",
    "В названиях колонок видны три нарушения стиля:\n",
    "1. Строчные буквы сочетаются с прописными.\n",
    "2. Встречаются пробелы.\n",
    "3. \"userID нужно записать с помощью змеиного регистра user_id\" Найдите ещё одну проблему в названии колонок и опишите её в этом пункте.\n",
    "\n",
    "\n",
    "\n",
    "Количество значений в столбцах различается. Значит, в данных есть пропущенные значения.\n"
   ]
  },
  {
   "cell_type": "markdown",
   "metadata": {
    "id": "MCB6-dXG_Zct"
   },
   "source": [
    "**Выводы**\n",
    "\n",
    "В каждой строке таблицы — данные о прослушанном треке. Часть колонок описывает саму композицию: название, исполнителя и жанр. Остальные данные рассказывают о пользователе: из какого он города, когда он слушал музыку. \n",
    "\n",
    "Предварительно можно утверждать, что, данных достаточно для проверки гипотез. Но встречаются пропуски в данных, а в названиях колонок — расхождения с хорошим стилем.\n",
    "\n",
    "Чтобы двигаться дальше, нужно устранить проблемы в данных."
   ]
  },
  {
   "cell_type": "markdown",
   "metadata": {
    "id": "SjYF6Ub9_Zct"
   },
   "source": [
    "## Предобработка данных\n",
    "Исправьте стиль в заголовках столбцов, исключите пропуски. Затем проверьте данные на дубликаты."
   ]
  },
  {
   "cell_type": "markdown",
   "metadata": {
    "id": "dIaKXr29_Zct"
   },
   "source": [
    "### Стиль заголовков\n",
    "Выведите на экран названия столбцов:"
   ]
  },
  {
   "cell_type": "code",
   "execution_count": 43,
   "metadata": {
    "id": "oKOTdF_Q_Zct"
   },
   "outputs": [
    {
     "data": {
      "text/plain": [
       "Index(['  userID', 'Track', 'artist', 'genre', '  City  ', 'time', 'Day'], dtype='object')"
      ]
     },
     "execution_count": 43,
     "metadata": {},
     "output_type": "execute_result"
    }
   ],
   "source": [
    "df.columns"
   ]
  },
  {
   "cell_type": "markdown",
   "metadata": {
    "id": "zj5534cv_Zct"
   },
   "source": [
    "Приведите названия в соответствие с хорошим стилем:\n",
    "* несколько слов в названии запишите в «змеином_регистре»,\n",
    "* все символы сделайте строчными,\n",
    "* устраните пробелы.\n",
    "\n",
    "Для этого переименуйте колонки так:\n",
    "* `'  userID'` → `'user_id'`;\n",
    "* `'Track'` → `'track'`;\n",
    "* `'  City  '` → `'city'`;\n",
    "* `'Day'` → `'day'`."
   ]
  },
  {
   "cell_type": "code",
   "execution_count": 44,
   "metadata": {
    "id": "ISlFqs5y_Zct"
   },
   "outputs": [],
   "source": [
    "df = df.rename(columns={'  userID':'user_id', 'Track':'track', '  City  ':'city', 'Day':'day'})"
   ]
  },
  {
   "cell_type": "markdown",
   "metadata": {
    "id": "1dqbh00J_Zct"
   },
   "source": [
    "Проверьте результат. Для этого ещё раз выведите на экран названия столбцов:"
   ]
  },
  {
   "cell_type": "code",
   "execution_count": 45,
   "metadata": {
    "id": "d4NOAmTW_Zct"
   },
   "outputs": [
    {
     "data": {
      "text/plain": [
       "Index(['user_id', 'track', 'artist', 'genre', 'city', 'time', 'day'], dtype='object')"
      ]
     },
     "execution_count": 45,
     "metadata": {},
     "output_type": "execute_result"
    }
   ],
   "source": [
    "df.columns"
   ]
  },
  {
   "cell_type": "markdown",
   "metadata": {
    "id": "5ISfbcfY_Zct"
   },
   "source": [
    "### Пропуски значений\n",
    "Сначала посчитайте, сколько в таблице пропущенных значений. Для этого достаточно двух методов `pandas`:"
   ]
  },
  {
   "cell_type": "code",
   "execution_count": 46,
   "metadata": {
    "id": "RskX29qr_Zct"
   },
   "outputs": [
    {
     "data": {
      "text/plain": [
       "user_id       0\n",
       "track      1231\n",
       "artist     7203\n",
       "genre      1198\n",
       "city          0\n",
       "time          0\n",
       "day           0\n",
       "dtype: int64"
      ]
     },
     "execution_count": 46,
     "metadata": {},
     "output_type": "execute_result"
    }
   ],
   "source": [
    "# подсчёт пропусков\n",
    "df.isna().sum()"
   ]
  },
  {
   "cell_type": "markdown",
   "metadata": {
    "id": "qubhgnlO_Zct"
   },
   "source": [
    "Не все пропущенные значения влияют на исследование. Так в `track` и `artist` пропуски не важны для вашей работы. Достаточно заменить их явными обозначениями.\n",
    "\n",
    "Но пропуски в `genre` могут помешать сравнению музыкальных вкусов в Москве и Санкт-Петербурге. На практике было бы правильно установить причину пропусков и восстановить данные. Такой возможности нет в учебном проекте. Придётся:\n",
    "* заполнить и эти пропуски явными обозначениями,\n",
    "* оценить, насколько они повредят расчётам. "
   ]
  },
  {
   "cell_type": "markdown",
   "metadata": {
    "id": "fSv2laPA_Zct"
   },
   "source": [
    "Замените пропущенные значения в столбцах `track`, `artist` и `genre` на строку `'unknown'`. Для этого создайте список `columns_to_replace`, переберите его элементы циклом `for` и для каждого столбца выполните замену пропущенных значений:"
   ]
  },
  {
   "cell_type": "code",
   "execution_count": 47,
   "metadata": {
    "id": "KplB5qWs_Zct"
   },
   "outputs": [],
   "source": [
    "# перебор названий столбцов в цикле и замена пропущенных значений на 'unknown'\n",
    "columns_to_replace = ['track', 'artist', 'genre']\n",
    "for column in columns_to_replace:\n",
    "    df[column] = df[column].fillna('unknown')"
   ]
  },
  {
   "cell_type": "markdown",
   "metadata": {
    "id": "Ilsm-MZo_Zct"
   },
   "source": [
    "Убедитесь, что в таблице не осталось пропусков. Для этого ещё раз посчитайте пропущенные значения."
   ]
  },
  {
   "cell_type": "code",
   "execution_count": 48,
   "metadata": {
    "id": "Tq4nYRX4_Zct"
   },
   "outputs": [
    {
     "data": {
      "text/plain": [
       "user_id    0\n",
       "track      0\n",
       "artist     0\n",
       "genre      0\n",
       "city       0\n",
       "time       0\n",
       "day        0\n",
       "dtype: int64"
      ]
     },
     "execution_count": 48,
     "metadata": {},
     "output_type": "execute_result"
    }
   ],
   "source": [
    "# подсчёт пропусков\n",
    "df.isna().sum()"
   ]
  },
  {
   "cell_type": "markdown",
   "metadata": {
    "id": "BWKRtBJ3_Zct"
   },
   "source": [
    "### Дубликаты\n",
    "Посчитайте явные дубликаты в таблице одной командой:"
   ]
  },
  {
   "cell_type": "code",
   "execution_count": 49,
   "metadata": {
    "id": "36eES_S0_Zct"
   },
   "outputs": [
    {
     "data": {
      "text/plain": [
       "3826"
      ]
     },
     "execution_count": 49,
     "metadata": {},
     "output_type": "execute_result"
    }
   ],
   "source": [
    "df.duplicated().sum()"
   ]
  },
  {
   "cell_type": "markdown",
   "metadata": {
    "id": "Ot25h6XR_Zct"
   },
   "source": [
    "Вызовите специальный метод `pandas`, чтобы удалить явные дубликаты:"
   ]
  },
  {
   "cell_type": "code",
   "execution_count": 50,
   "metadata": {
    "id": "exFHq6tt_Zct"
   },
   "outputs": [],
   "source": [
    "# удаление явных дубликатов (с удалением старых индексов и формированием новых)\n",
    "df = df.drop_duplicates().reset_index(drop=True)"
   ]
  },
  {
   "cell_type": "markdown",
   "metadata": {
    "id": "Im2YwBEG_Zct"
   },
   "source": [
    "Ещё раз посчитайте явные дубликаты в таблице — убедитесь, что полностью от них избавились:"
   ]
  },
  {
   "cell_type": "code",
   "execution_count": 51,
   "metadata": {
    "id": "-8PuNWQ0_Zct"
   },
   "outputs": [
    {
     "data": {
      "text/plain": [
       "0"
      ]
     },
     "execution_count": 51,
     "metadata": {},
     "output_type": "execute_result"
    }
   ],
   "source": [
    "# проверка на отсутствие дубликатов\n",
    "df.duplicated().sum()"
   ]
  },
  {
   "cell_type": "markdown",
   "metadata": {
    "id": "QlFBsxAr_Zct"
   },
   "source": [
    "Теперь избавьтесь от неявных дубликатов в колонке `genre`. Например, название одного и того же жанра может быть записано немного по-разному. Такие ошибки тоже повлияют на результат исследования."
   ]
  },
  {
   "cell_type": "markdown",
   "metadata": {
    "id": "eSjWwsOh_Zct"
   },
   "source": [
    "Выведите на экран список уникальных названий жанров, отсортированный в алфавитном порядке. Для этого:\n",
    "* извлеките нужный столбец датафрейма, \n",
    "* примените к нему метод сортировки,\n",
    "* для отсортированного столбца вызовите метод, который вернёт уникальные значения из столбца."
   ]
  },
  {
   "cell_type": "code",
   "execution_count": 52,
   "metadata": {
    "id": "JIUcqzZN_Zct"
   },
   "outputs": [
    {
     "data": {
      "text/plain": [
       "array(['acid', 'acoustic', 'action', 'adult', 'africa', 'afrikaans',\n",
       "       'alternative', 'alternativepunk', 'ambient', 'americana',\n",
       "       'animated', 'anime', 'arabesk', 'arabic', 'arena',\n",
       "       'argentinetango', 'art', 'audiobook', 'author', 'avantgarde',\n",
       "       'axé', 'baile', 'balkan', 'beats', 'bigroom', 'black', 'bluegrass',\n",
       "       'blues', 'bollywood', 'bossa', 'brazilian', 'breakbeat', 'breaks',\n",
       "       'broadway', 'cantautori', 'cantopop', 'canzone', 'caribbean',\n",
       "       'caucasian', 'celtic', 'chamber', 'chanson', 'children', 'chill',\n",
       "       'chinese', 'choral', 'christian', 'christmas', 'classical',\n",
       "       'classicmetal', 'club', 'colombian', 'comedy', 'conjazz',\n",
       "       'contemporary', 'country', 'cuban', 'dance', 'dancehall',\n",
       "       'dancepop', 'dark', 'death', 'deep', 'deutschrock', 'deutschspr',\n",
       "       'dirty', 'disco', 'dnb', 'documentary', 'downbeat', 'downtempo',\n",
       "       'drum', 'dub', 'dubstep', 'eastern', 'easy', 'electronic',\n",
       "       'electropop', 'emo', 'entehno', 'epicmetal', 'estrada', 'ethnic',\n",
       "       'eurofolk', 'european', 'experimental', 'extrememetal', 'fado',\n",
       "       'fairytail', 'film', 'fitness', 'flamenco', 'folk', 'folklore',\n",
       "       'folkmetal', 'folkrock', 'folktronica', 'forró', 'frankreich',\n",
       "       'französisch', 'french', 'funk', 'future', 'gangsta', 'garage',\n",
       "       'german', 'ghazal', 'gitarre', 'glitch', 'gospel', 'gothic',\n",
       "       'grime', 'grunge', 'gypsy', 'handsup', \"hard'n'heavy\", 'hardcore',\n",
       "       'hardstyle', 'hardtechno', 'hip', 'hip-hop', 'hiphop',\n",
       "       'historisch', 'holiday', 'hop', 'horror', 'house', 'hymn', 'idm',\n",
       "       'independent', 'indian', 'indie', 'indipop', 'industrial',\n",
       "       'inspirational', 'instrumental', 'international', 'irish', 'jam',\n",
       "       'japanese', 'jazz', 'jewish', 'jpop', 'jungle', 'k-pop',\n",
       "       'karadeniz', 'karaoke', 'kayokyoku', 'korean', 'laiko', 'latin',\n",
       "       'latino', 'leftfield', 'local', 'lounge', 'loungeelectronic',\n",
       "       'lovers', 'malaysian', 'mandopop', 'marschmusik', 'meditative',\n",
       "       'mediterranean', 'melodic', 'metal', 'metalcore', 'mexican',\n",
       "       'middle', 'minimal', 'miscellaneous', 'modern', 'mood', 'mpb',\n",
       "       'muslim', 'native', 'neoklassik', 'neue', 'new', 'newage',\n",
       "       'newwave', 'nu', 'nujazz', 'numetal', 'oceania', 'old', 'opera',\n",
       "       'orchestral', 'other', 'piano', 'podcasts', 'pop', 'popdance',\n",
       "       'popelectronic', 'popeurodance', 'poprussian', 'post',\n",
       "       'posthardcore', 'postrock', 'power', 'progmetal', 'progressive',\n",
       "       'psychedelic', 'punjabi', 'punk', 'quebecois', 'ragga', 'ram',\n",
       "       'rancheras', 'rap', 'rave', 'reggae', 'reggaeton', 'regional',\n",
       "       'relax', 'religious', 'retro', 'rhythm', 'rnb', 'rnr', 'rock',\n",
       "       'rockabilly', 'rockalternative', 'rockindie', 'rockother',\n",
       "       'romance', 'roots', 'ruspop', 'rusrap', 'rusrock', 'russian',\n",
       "       'salsa', 'samba', 'scenic', 'schlager', 'self', 'sertanejo',\n",
       "       'shanson', 'shoegazing', 'showtunes', 'singer', 'ska', 'skarock',\n",
       "       'slow', 'smooth', 'soft', 'soul', 'soulful', 'sound', 'soundtrack',\n",
       "       'southern', 'specialty', 'speech', 'spiritual', 'sport',\n",
       "       'stonerrock', 'surf', 'swing', 'synthpop', 'synthrock',\n",
       "       'sängerportrait', 'tango', 'tanzorchester', 'taraftar', 'tatar',\n",
       "       'tech', 'techno', 'teen', 'thrash', 'top', 'traditional',\n",
       "       'tradjazz', 'trance', 'tribal', 'trip', 'triphop', 'tropical',\n",
       "       'türk', 'türkçe', 'ukrrock', 'unknown', 'urban', 'uzbek',\n",
       "       'variété', 'vi', 'videogame', 'vocal', 'western', 'world',\n",
       "       'worldbeat', 'ïîï', 'электроника'], dtype=object)"
      ]
     },
     "metadata": {},
     "output_type": "display_data"
    }
   ],
   "source": [
    "# Просмотр уникальных названий жанров\n",
    "df = df.sort_values(by='genre')\n",
    "display(df['genre'].unique())"
   ]
  },
  {
   "cell_type": "markdown",
   "metadata": {
    "id": "qej-Qmuo_Zct"
   },
   "source": [
    "Просмотрите список и найдите неявные дубликаты названия `hiphop`. Это могут быть названия с ошибками или альтернативные названия того же жанра.\n",
    "\n",
    "Вы увидите следующие неявные дубликаты:\n",
    "* *hip*,\n",
    "* *hop*,\n",
    "* *hip-hop*.\n",
    "\n",
    "Чтобы очистить от них таблицу, напишите функцию `replace_wrong_genres()` с двумя параметрами: \n",
    "* `wrong_genres` — список дубликатов,\n",
    "* `correct_genre` — строка с правильным значением.\n",
    "\n",
    "Функция должна исправить колонку `genre` в таблице `df`: заменить каждое значение из списка `wrong_genres` на значение из `correct_genre`."
   ]
  },
  {
   "cell_type": "code",
   "execution_count": 53,
   "metadata": {
    "id": "ErNDkmns_Zct"
   },
   "outputs": [],
   "source": [
    "# Функция для замены неявных дубликатов\n",
    "def replace_wrong_genres(wrong_genres, correct_genre):\n",
    "    for wrong_genre in wrong_genres:\n",
    "        df['genre'] = df['genre'].replace(wrong_genre, correct_genre)"
   ]
  },
  {
   "cell_type": "markdown",
   "metadata": {
    "id": "aDoBJxbA_Zct"
   },
   "source": [
    "Вызовите `replace_wrong_genres()` и передайте ей такие аргументы, чтобы она устранила неявные дубликаты: вместо `hip`, `hop` и `hip-hop` в таблице должно быть значение `hiphop`:"
   ]
  },
  {
   "cell_type": "code",
   "execution_count": 54,
   "metadata": {
    "id": "YN5i2hpmSo09"
   },
   "outputs": [],
   "source": [
    "dublicates = ['hip', 'hop', 'hip-hop']\n",
    "correct_genre = 'hiphop'\n",
    "replace_wrong_genres(dublicates, correct_genre)# Устранение неявных дубликатов"
   ]
  },
  {
   "cell_type": "markdown",
   "metadata": {
    "id": "zQKF16_RG15m"
   },
   "source": [
    "Проверьте, что заменили неправильные названия:\n",
    "\n",
    "*   hip\n",
    "*   hop\n",
    "*   hip-hop\n",
    "\n",
    "Выведите отсортированный список уникальных значений столбца `genre`:"
   ]
  },
  {
   "cell_type": "code",
   "execution_count": 55,
   "metadata": {
    "id": "wvixALnFG15m"
   },
   "outputs": [
    {
     "data": {
      "text/plain": [
       "array(['acid', 'acoustic', 'action', 'adult', 'africa', 'afrikaans',\n",
       "       'alternative', 'alternativepunk', 'ambient', 'americana',\n",
       "       'animated', 'anime', 'arabesk', 'arabic', 'arena',\n",
       "       'argentinetango', 'art', 'audiobook', 'author', 'avantgarde',\n",
       "       'axé', 'baile', 'balkan', 'beats', 'bigroom', 'black', 'bluegrass',\n",
       "       'blues', 'bollywood', 'bossa', 'brazilian', 'breakbeat', 'breaks',\n",
       "       'broadway', 'cantautori', 'cantopop', 'canzone', 'caribbean',\n",
       "       'caucasian', 'celtic', 'chamber', 'chanson', 'children', 'chill',\n",
       "       'chinese', 'choral', 'christian', 'christmas', 'classical',\n",
       "       'classicmetal', 'club', 'colombian', 'comedy', 'conjazz',\n",
       "       'contemporary', 'country', 'cuban', 'dance', 'dancehall',\n",
       "       'dancepop', 'dark', 'death', 'deep', 'deutschrock', 'deutschspr',\n",
       "       'dirty', 'disco', 'dnb', 'documentary', 'downbeat', 'downtempo',\n",
       "       'drum', 'dub', 'dubstep', 'eastern', 'easy', 'electronic',\n",
       "       'electropop', 'emo', 'entehno', 'epicmetal', 'estrada', 'ethnic',\n",
       "       'eurofolk', 'european', 'experimental', 'extrememetal', 'fado',\n",
       "       'fairytail', 'film', 'fitness', 'flamenco', 'folk', 'folklore',\n",
       "       'folkmetal', 'folkrock', 'folktronica', 'forró', 'frankreich',\n",
       "       'französisch', 'french', 'funk', 'future', 'gangsta', 'garage',\n",
       "       'german', 'ghazal', 'gitarre', 'glitch', 'gospel', 'gothic',\n",
       "       'grime', 'grunge', 'gypsy', 'handsup', \"hard'n'heavy\", 'hardcore',\n",
       "       'hardstyle', 'hardtechno', 'hiphop', 'historisch', 'holiday',\n",
       "       'horror', 'house', 'hymn', 'idm', 'independent', 'indian', 'indie',\n",
       "       'indipop', 'industrial', 'inspirational', 'instrumental',\n",
       "       'international', 'irish', 'jam', 'japanese', 'jazz', 'jewish',\n",
       "       'jpop', 'jungle', 'k-pop', 'karadeniz', 'karaoke', 'kayokyoku',\n",
       "       'korean', 'laiko', 'latin', 'latino', 'leftfield', 'local',\n",
       "       'lounge', 'loungeelectronic', 'lovers', 'malaysian', 'mandopop',\n",
       "       'marschmusik', 'meditative', 'mediterranean', 'melodic', 'metal',\n",
       "       'metalcore', 'mexican', 'middle', 'minimal', 'miscellaneous',\n",
       "       'modern', 'mood', 'mpb', 'muslim', 'native', 'neoklassik', 'neue',\n",
       "       'new', 'newage', 'newwave', 'nu', 'nujazz', 'numetal', 'oceania',\n",
       "       'old', 'opera', 'orchestral', 'other', 'piano', 'podcasts', 'pop',\n",
       "       'popdance', 'popelectronic', 'popeurodance', 'poprussian', 'post',\n",
       "       'posthardcore', 'postrock', 'power', 'progmetal', 'progressive',\n",
       "       'psychedelic', 'punjabi', 'punk', 'quebecois', 'ragga', 'ram',\n",
       "       'rancheras', 'rap', 'rave', 'reggae', 'reggaeton', 'regional',\n",
       "       'relax', 'religious', 'retro', 'rhythm', 'rnb', 'rnr', 'rock',\n",
       "       'rockabilly', 'rockalternative', 'rockindie', 'rockother',\n",
       "       'romance', 'roots', 'ruspop', 'rusrap', 'rusrock', 'russian',\n",
       "       'salsa', 'samba', 'scenic', 'schlager', 'self', 'sertanejo',\n",
       "       'shanson', 'shoegazing', 'showtunes', 'singer', 'ska', 'skarock',\n",
       "       'slow', 'smooth', 'soft', 'soul', 'soulful', 'sound', 'soundtrack',\n",
       "       'southern', 'specialty', 'speech', 'spiritual', 'sport',\n",
       "       'stonerrock', 'surf', 'swing', 'synthpop', 'synthrock',\n",
       "       'sängerportrait', 'tango', 'tanzorchester', 'taraftar', 'tatar',\n",
       "       'tech', 'techno', 'teen', 'thrash', 'top', 'traditional',\n",
       "       'tradjazz', 'trance', 'tribal', 'trip', 'triphop', 'tropical',\n",
       "       'türk', 'türkçe', 'ukrrock', 'unknown', 'urban', 'uzbek',\n",
       "       'variété', 'vi', 'videogame', 'vocal', 'western', 'world',\n",
       "       'worldbeat', 'ïîï', 'электроника'], dtype=object)"
      ]
     },
     "metadata": {},
     "output_type": "display_data"
    }
   ],
   "source": [
    "display(df['genre'].unique())# Проверка на неявные дубликаты"
   ]
  },
  {
   "cell_type": "markdown",
   "metadata": {
    "id": "jz6a9-7HQUDd"
   },
   "source": [
    "**Выводы**\n",
    "\n",
    "Предобработка обнаружила три проблемы в данных:\n",
    "\n",
    "- нарушения в стиле заголовков,\n",
    "- пропущенные значения,\n",
    "- дубликаты — явные и неявные.\n",
    "\n",
    "Вы исправили заголовки, чтобы упростить работу с таблицей. Без дубликатов исследование станет более точным.\n",
    "\n",
    "Пропущенные значения вы заменили на `'unknown'`. Ещё предстоит увидеть, не повредят ли исследованию пропуски в колонке `genre`.\n",
    "\n",
    "Теперь можно перейти к проверке гипотез. "
   ]
  },
  {
   "cell_type": "markdown",
   "metadata": {
    "id": "WttZHXH0SqKk"
   },
   "source": [
    "## Проверка гипотез"
   ]
  },
  {
   "cell_type": "markdown",
   "metadata": {
    "id": "Im936VVi_Zcu"
   },
   "source": [
    "### Сравнение поведения пользователей двух столиц"
   ]
  },
  {
   "cell_type": "markdown",
   "metadata": {
    "id": "nwt_MuaL_Zcu"
   },
   "source": [
    "Первая гипотеза утверждает, что пользователи по-разному слушают музыку в Москве и Санкт-Петербурге. Проверьте это предположение по данным о трёх днях недели — понедельнике, среде и пятнице. Для этого:\n",
    "\n",
    "* Разделите пользователей Москвы и Санкт-Петербурга\n",
    "* Сравните, сколько треков послушала каждая группа пользователей в понедельник, среду и пятницу.\n"
   ]
  },
  {
   "cell_type": "markdown",
   "metadata": {
    "id": "8Dw_YMmT_Zcu"
   },
   "source": [
    "Для тренировки сначала выполните каждый из расчётов по отдельности. \n",
    "\n",
    "Оцените активность пользователей в каждом городе. Сгруппируйте данные по городу и посчитайте прослушивания в каждой группе.\n",
    "\n"
   ]
  },
  {
   "cell_type": "code",
   "execution_count": 56,
   "metadata": {
    "id": "0_Qs96oh_Zcu"
   },
   "outputs": [
    {
     "data": {
      "text/html": [
       "<div>\n",
       "<style scoped>\n",
       "    .dataframe tbody tr th:only-of-type {\n",
       "        vertical-align: middle;\n",
       "    }\n",
       "\n",
       "    .dataframe tbody tr th {\n",
       "        vertical-align: top;\n",
       "    }\n",
       "\n",
       "    .dataframe thead th {\n",
       "        text-align: right;\n",
       "    }\n",
       "</style>\n",
       "<table border=\"1\" class=\"dataframe\">\n",
       "  <thead>\n",
       "    <tr style=\"text-align: right;\">\n",
       "      <th></th>\n",
       "      <th>user_id</th>\n",
       "      <th>track</th>\n",
       "      <th>artist</th>\n",
       "      <th>genre</th>\n",
       "      <th>time</th>\n",
       "      <th>day</th>\n",
       "    </tr>\n",
       "    <tr>\n",
       "      <th>city</th>\n",
       "      <th></th>\n",
       "      <th></th>\n",
       "      <th></th>\n",
       "      <th></th>\n",
       "      <th></th>\n",
       "      <th></th>\n",
       "    </tr>\n",
       "  </thead>\n",
       "  <tbody>\n",
       "    <tr>\n",
       "      <th>Moscow</th>\n",
       "      <td>42741</td>\n",
       "      <td>42741</td>\n",
       "      <td>42741</td>\n",
       "      <td>42741</td>\n",
       "      <td>42741</td>\n",
       "      <td>42741</td>\n",
       "    </tr>\n",
       "    <tr>\n",
       "      <th>Saint-Petersburg</th>\n",
       "      <td>18512</td>\n",
       "      <td>18512</td>\n",
       "      <td>18512</td>\n",
       "      <td>18512</td>\n",
       "      <td>18512</td>\n",
       "      <td>18512</td>\n",
       "    </tr>\n",
       "  </tbody>\n",
       "</table>\n",
       "</div>"
      ],
      "text/plain": [
       "                  user_id  track  artist  genre   time    day\n",
       "city                                                         \n",
       "Moscow              42741  42741   42741  42741  42741  42741\n",
       "Saint-Petersburg    18512  18512   18512  18512  18512  18512"
      ]
     },
     "execution_count": 56,
     "metadata": {},
     "output_type": "execute_result"
    }
   ],
   "source": [
    "# Подсчёт прослушиваний в каждом городе\n",
    "listen_city = df.groupby('city').count()\n",
    "listen_city"
   ]
  },
  {
   "cell_type": "markdown",
   "metadata": {
    "id": "dzli3w8o_Zcu"
   },
   "source": [
    "В Москве прослушиваний больше, чем в Петербурге. Из этого не следует, что московские пользователи чаще слушают музыку. Просто самих пользователей в Москве больше.\n",
    "\n",
    "Теперь сгруппируйте данные по дню недели и подсчитайте прослушивания в понедельник, среду и пятницу. Учтите, что в данных есть информация только о прослушиваниях только за эти дни.\n"
   ]
  },
  {
   "cell_type": "code",
   "execution_count": 57,
   "metadata": {
    "id": "uZMKjiJz_Zcu"
   },
   "outputs": [],
   "source": [
    "# Подсчёт прослушиваний в каждый из трёх дней\n",
    "listen_moscow = df[df['city'] == 'Moscow']\n",
    "m_listen_monday = listen_moscow[listen_moscow['day'] == 'Monday'].count()\n",
    "m_listen_wednesday = listen_moscow[listen_moscow['day'] == 'Wednesday'].count()\n",
    "m_listen_friday = listen_moscow[listen_moscow['day'] == 'Friday'].count()\n",
    "\n",
    "listen_petersburg = df[df['city'] == 'Saint-Petersburg']\n",
    "p_listen_monday = listen_petersburg[listen_petersburg['day'] == 'Monday'].count()\n",
    "p_listen_wednesday = listen_petersburg[listen_petersburg['day'] == 'Wednesday'].count()\n",
    "p_listen_friday = listen_petersburg[listen_petersburg['day'] == 'Friday'].count()"
   ]
  },
  {
   "cell_type": "markdown",
   "metadata": {
    "id": "cC2tNrlL_Zcu"
   },
   "source": [
    "В среднем пользователи из двух городов менее активны по средам. Но картина может измениться, если рассмотреть каждый город в отдельности."
   ]
  },
  {
   "cell_type": "markdown",
   "metadata": {
    "id": "POzs8bGa_Zcu"
   },
   "source": [
    "Вы видели, как работает группировка по городу и по дням недели. Теперь напишите функцию, которая объединит два эти расчёта.\n",
    "\n",
    "Создайте функцию `number_tracks()`, которая посчитает прослушивания для заданного дня и города. Ей понадобятся два параметра:\n",
    "* день недели,\n",
    "* название города.\n",
    "\n",
    "В функции сохраните в переменную строки исходной таблицы, у которых значение:\n",
    "  * в колонке `day` равно параметру `day`,\n",
    "  * в колонке `city` равно параметру `city`.\n",
    "\n",
    "Для этого примените последовательную фильтрацию с логической индексацией.\n",
    "\n",
    "Затем посчитайте значения в столбце `user_id` получившейся таблицы. Результат сохраните в новую переменную. Верните эту переменную из функции."
   ]
  },
  {
   "cell_type": "code",
   "execution_count": 58,
   "metadata": {
    "id": "Nz3GdQB1_Zcu"
   },
   "outputs": [],
   "source": [
    "# создание функции number_tracks()\n",
    "def number_tracks(day, city):\n",
    "    # Объявляется функция с двумя параметрами: day, city.\n",
    "    track_list = df[df['day'] == day]\n",
    "    track_list = track_list[track_list['city'] == city]\n",
    "    track_list_count = track_list['user_id'].count()\n",
    "    return track_list_count\n",
    "    \n",
    "# В переменной track_list сохраняются те строки таблицы df, для которых \n",
    "# значение в столбце 'day' равно параметру day и одновременно значение\n",
    "# в столбце 'city' равно параметру city (используйте последовательную фильтрацию\n",
    "# с помощью логической индексации).    \n",
    "# В переменной track_list_count сохраняется число значений столбца 'user_id',\n",
    "# рассчитанное методом count() для таблицы track_list.\n",
    "# Функция возвращает число - значение track_list_count.\n",
    "\n",
    "# Функция для подсчёта прослушиваний для конкретного города и дня.\n",
    "# С помощью последовательной фильтрации с логической индексацией она \n",
    "# сначала получит из исходной таблицы строки с нужным днём,\n",
    "# затем из результата отфильтрует строки с нужным городом,\n",
    "# методом count() посчитает количество значений в колонке user_id. \n",
    "# Это количество функция вернёт в качестве результата"
   ]
  },
  {
   "cell_type": "markdown",
   "metadata": {
    "id": "ytf7xFrFJQ2r"
   },
   "source": [
    "Вызовите `number_tracks()` шесть раз, меняя значение параметров — так, чтобы получить данные для каждого города в каждый из трёх дней."
   ]
  },
  {
   "cell_type": "code",
   "execution_count": 59,
   "metadata": {
    "id": "rJcRATNQ_Zcu"
   },
   "outputs": [
    {
     "data": {
      "text/plain": [
       "15740"
      ]
     },
     "execution_count": 59,
     "metadata": {},
     "output_type": "execute_result"
    }
   ],
   "source": [
    "number_tracks('Monday', 'Moscow')# количество прослушиваний в Москве по понедельникам"
   ]
  },
  {
   "cell_type": "code",
   "execution_count": 60,
   "metadata": {
    "id": "hq_ncZ5T_Zcu"
   },
   "outputs": [
    {
     "data": {
      "text/plain": [
       "5614"
      ]
     },
     "execution_count": 60,
     "metadata": {},
     "output_type": "execute_result"
    }
   ],
   "source": [
    "number_tracks('Monday', 'Saint-Petersburg')# количество прослушиваний в Санкт-Петербурге по понедельникам"
   ]
  },
  {
   "cell_type": "code",
   "execution_count": 61,
   "metadata": {
    "id": "_NTy2VPU_Zcu"
   },
   "outputs": [
    {
     "data": {
      "text/plain": [
       "11056"
      ]
     },
     "execution_count": 61,
     "metadata": {},
     "output_type": "execute_result"
    }
   ],
   "source": [
    "number_tracks('Wednesday', 'Moscow')# количество прослушиваний в Москве по средам"
   ]
  },
  {
   "cell_type": "code",
   "execution_count": 62,
   "metadata": {
    "id": "j2y3TAwo_Zcu"
   },
   "outputs": [
    {
     "data": {
      "text/plain": [
       "7003"
      ]
     },
     "execution_count": 62,
     "metadata": {},
     "output_type": "execute_result"
    }
   ],
   "source": [
    "number_tracks('Wednesday', 'Saint-Petersburg')# количество прослушиваний в Санкт-Петербурге по средам"
   ]
  },
  {
   "cell_type": "code",
   "execution_count": 63,
   "metadata": {
    "id": "vYDw5u_K_Zcu"
   },
   "outputs": [
    {
     "data": {
      "text/plain": [
       "15945"
      ]
     },
     "execution_count": 63,
     "metadata": {},
     "output_type": "execute_result"
    }
   ],
   "source": [
    "number_tracks('Friday', 'Moscow')# количество прослушиваний в Москве по пятницам"
   ]
  },
  {
   "cell_type": "code",
   "execution_count": 64,
   "metadata": {
    "id": "8_yzFtW3_Zcu"
   },
   "outputs": [
    {
     "data": {
      "text/plain": [
       "5895"
      ]
     },
     "execution_count": 64,
     "metadata": {},
     "output_type": "execute_result"
    }
   ],
   "source": [
    "number_tracks('Friday', 'Saint-Petersburg')# количество прослушиваний в Санкт-Петербурге по пятницам"
   ]
  },
  {
   "cell_type": "markdown",
   "metadata": {
    "id": "7QXffbO-_Zcu"
   },
   "source": [
    "Создайте c помощью конструктора `pd.DataFrame` таблицу, где\n",
    "* названия колонок — `['city', 'monday', 'wednesday', 'friday']`;\n",
    "* данные — результаты, которые вы получили с помощью `number_tracks`."
   ]
  },
  {
   "cell_type": "code",
   "execution_count": 65,
   "metadata": {
    "id": "APAcLpOr_Zcu"
   },
   "outputs": [
    {
     "data": {
      "text/html": [
       "<div>\n",
       "<style scoped>\n",
       "    .dataframe tbody tr th:only-of-type {\n",
       "        vertical-align: middle;\n",
       "    }\n",
       "\n",
       "    .dataframe tbody tr th {\n",
       "        vertical-align: top;\n",
       "    }\n",
       "\n",
       "    .dataframe thead th {\n",
       "        text-align: right;\n",
       "    }\n",
       "</style>\n",
       "<table border=\"1\" class=\"dataframe\">\n",
       "  <thead>\n",
       "    <tr style=\"text-align: right;\">\n",
       "      <th></th>\n",
       "      <th>city</th>\n",
       "      <th>monday</th>\n",
       "      <th>wednesday</th>\n",
       "      <th>friday</th>\n",
       "    </tr>\n",
       "  </thead>\n",
       "  <tbody>\n",
       "    <tr>\n",
       "      <th>0</th>\n",
       "      <td>Moscow</td>\n",
       "      <td>15740</td>\n",
       "      <td>11056</td>\n",
       "      <td>15945</td>\n",
       "    </tr>\n",
       "    <tr>\n",
       "      <th>1</th>\n",
       "      <td>Saint-Petersburg</td>\n",
       "      <td>5614</td>\n",
       "      <td>7003</td>\n",
       "      <td>5895</td>\n",
       "    </tr>\n",
       "  </tbody>\n",
       "</table>\n",
       "</div>"
      ],
      "text/plain": [
       "               city  monday  wednesday  friday\n",
       "0            Moscow   15740      11056   15945\n",
       "1  Saint-Petersburg    5614       7003    5895"
      ]
     },
     "execution_count": 65,
     "metadata": {},
     "output_type": "execute_result"
    }
   ],
   "source": [
    "# Таблица с результатами\n",
    "data = [['Moscow', 15740, 11056, 15945], ['Saint-Petersburg', 5614, 7003, 5895]]\n",
    "columns = ['city', 'monday', 'wednesday', 'friday']\n",
    "pd.DataFrame(data = data, columns = columns)"
   ]
  },
  {
   "cell_type": "markdown",
   "metadata": {
    "id": "-EgPIHYu_Zcu"
   },
   "source": [
    "**Выводы**\n",
    "\n",
    "Данные показывают разницу поведения пользователей:\n",
    "\n",
    "- В Москве пик прослушиваний приходится на понедельник и пятницу, а в среду заметен спад.\n",
    "- В Петербурге, наоборот, больше слушают музыку по средам. Активность в понедельник и пятницу здесь почти в равной мере уступает среде.\n",
    "\n",
    "Значит, данные говорят в пользу первой гипотезы."
   ]
  },
  {
   "cell_type": "markdown",
   "metadata": {
    "id": "atZAxtq4_Zcu"
   },
   "source": [
    "### Музыка в начале и в конце недели"
   ]
  },
  {
   "cell_type": "markdown",
   "metadata": {
    "id": "eXrQqXFH_Zcu"
   },
   "source": [
    "Согласно второй гипотезе, утром в понедельник в Москве преобладают одни жанры, а в Петербурге — другие. Так же и вечером пятницы преобладают разные жанры — в зависимости от города."
   ]
  },
  {
   "cell_type": "markdown",
   "metadata": {
    "id": "S8UcW6Hw_Zcu"
   },
   "source": [
    "Сохраните таблицы с данными в две переменные:\n",
    "* по Москве — в `moscow_general`;\n",
    "* по Санкт-Петербургу — в `spb_general`."
   ]
  },
  {
   "cell_type": "code",
   "execution_count": 66,
   "metadata": {
    "id": "qeaFfM_P_Zcu"
   },
   "outputs": [
    {
     "data": {
      "text/html": [
       "<div>\n",
       "<style scoped>\n",
       "    .dataframe tbody tr th:only-of-type {\n",
       "        vertical-align: middle;\n",
       "    }\n",
       "\n",
       "    .dataframe tbody tr th {\n",
       "        vertical-align: top;\n",
       "    }\n",
       "\n",
       "    .dataframe thead th {\n",
       "        text-align: right;\n",
       "    }\n",
       "</style>\n",
       "<table border=\"1\" class=\"dataframe\">\n",
       "  <thead>\n",
       "    <tr style=\"text-align: right;\">\n",
       "      <th></th>\n",
       "      <th>user_id</th>\n",
       "      <th>track</th>\n",
       "      <th>artist</th>\n",
       "      <th>genre</th>\n",
       "      <th>city</th>\n",
       "      <th>time</th>\n",
       "      <th>day</th>\n",
       "    </tr>\n",
       "  </thead>\n",
       "  <tbody>\n",
       "    <tr>\n",
       "      <th>31916</th>\n",
       "      <td>C40BC5DF</td>\n",
       "      <td>Shot in the Dark</td>\n",
       "      <td>Four80East</td>\n",
       "      <td>acid</td>\n",
       "      <td>Moscow</td>\n",
       "      <td>09:44:12</td>\n",
       "      <td>Friday</td>\n",
       "    </tr>\n",
       "    <tr>\n",
       "      <th>57580</th>\n",
       "      <td>23C64044</td>\n",
       "      <td>Don't Stop Me Now</td>\n",
       "      <td>Acoustic Heartstrings</td>\n",
       "      <td>acoustic</td>\n",
       "      <td>Moscow</td>\n",
       "      <td>13:30:01</td>\n",
       "      <td>Wednesday</td>\n",
       "    </tr>\n",
       "    <tr>\n",
       "      <th>20264</th>\n",
       "      <td>B02ED3AB</td>\n",
       "      <td>Ой да</td>\n",
       "      <td>unknown</td>\n",
       "      <td>acoustic</td>\n",
       "      <td>Moscow</td>\n",
       "      <td>13:31:03</td>\n",
       "      <td>Wednesday</td>\n",
       "    </tr>\n",
       "    <tr>\n",
       "      <th>37784</th>\n",
       "      <td>77D3A7D9</td>\n",
       "      <td>Ой да</td>\n",
       "      <td>unknown</td>\n",
       "      <td>acoustic</td>\n",
       "      <td>Moscow</td>\n",
       "      <td>14:27:34</td>\n",
       "      <td>Monday</td>\n",
       "    </tr>\n",
       "    <tr>\n",
       "      <th>26378</th>\n",
       "      <td>4D96EB78</td>\n",
       "      <td>Eventuality</td>\n",
       "      <td>Jack Trammell</td>\n",
       "      <td>action</td>\n",
       "      <td>Moscow</td>\n",
       "      <td>21:22:51</td>\n",
       "      <td>Monday</td>\n",
       "    </tr>\n",
       "    <tr>\n",
       "      <th>...</th>\n",
       "      <td>...</td>\n",
       "      <td>...</td>\n",
       "      <td>...</td>\n",
       "      <td>...</td>\n",
       "      <td>...</td>\n",
       "      <td>...</td>\n",
       "      <td>...</td>\n",
       "    </tr>\n",
       "    <tr>\n",
       "      <th>22265</th>\n",
       "      <td>9E13CAB3</td>\n",
       "      <td>Caravana</td>\n",
       "      <td>Orchestra Baobab</td>\n",
       "      <td>world</td>\n",
       "      <td>Moscow</td>\n",
       "      <td>08:47:38</td>\n",
       "      <td>Friday</td>\n",
       "    </tr>\n",
       "    <tr>\n",
       "      <th>7581</th>\n",
       "      <td>E9537159</td>\n",
       "      <td>Back To Black</td>\n",
       "      <td>Simone Mazzer</td>\n",
       "      <td>world</td>\n",
       "      <td>Moscow</td>\n",
       "      <td>20:24:22</td>\n",
       "      <td>Wednesday</td>\n",
       "    </tr>\n",
       "    <tr>\n",
       "      <th>41879</th>\n",
       "      <td>613C79DF</td>\n",
       "      <td>Rani Mrid</td>\n",
       "      <td>Nemri</td>\n",
       "      <td>world</td>\n",
       "      <td>Moscow</td>\n",
       "      <td>21:59:01</td>\n",
       "      <td>Monday</td>\n",
       "    </tr>\n",
       "    <tr>\n",
       "      <th>27939</th>\n",
       "      <td>D7FB50DA</td>\n",
       "      <td>Drumming Circle</td>\n",
       "      <td>Professor Trance</td>\n",
       "      <td>worldbeat</td>\n",
       "      <td>Moscow</td>\n",
       "      <td>09:30:47</td>\n",
       "      <td>Monday</td>\n",
       "    </tr>\n",
       "    <tr>\n",
       "      <th>8448</th>\n",
       "      <td>A439123F</td>\n",
       "      <td>Flip It</td>\n",
       "      <td>unknown</td>\n",
       "      <td>ïîï</td>\n",
       "      <td>Moscow</td>\n",
       "      <td>09:08:51</td>\n",
       "      <td>Friday</td>\n",
       "    </tr>\n",
       "  </tbody>\n",
       "</table>\n",
       "<p>42741 rows × 7 columns</p>\n",
       "</div>"
      ],
      "text/plain": [
       "        user_id              track                 artist      genre    city  \\\n",
       "31916  C40BC5DF   Shot in the Dark             Four80East       acid  Moscow   \n",
       "57580  23C64044  Don't Stop Me Now  Acoustic Heartstrings   acoustic  Moscow   \n",
       "20264  B02ED3AB              Ой да                unknown   acoustic  Moscow   \n",
       "37784  77D3A7D9              Ой да                unknown   acoustic  Moscow   \n",
       "26378  4D96EB78        Eventuality          Jack Trammell     action  Moscow   \n",
       "...         ...                ...                    ...        ...     ...   \n",
       "22265  9E13CAB3           Caravana       Orchestra Baobab      world  Moscow   \n",
       "7581   E9537159      Back To Black          Simone Mazzer      world  Moscow   \n",
       "41879  613C79DF          Rani Mrid                  Nemri      world  Moscow   \n",
       "27939  D7FB50DA    Drumming Circle       Professor Trance  worldbeat  Moscow   \n",
       "8448   A439123F            Flip It                unknown        ïîï  Moscow   \n",
       "\n",
       "           time        day  \n",
       "31916  09:44:12     Friday  \n",
       "57580  13:30:01  Wednesday  \n",
       "20264  13:31:03  Wednesday  \n",
       "37784  14:27:34     Monday  \n",
       "26378  21:22:51     Monday  \n",
       "...         ...        ...  \n",
       "22265  08:47:38     Friday  \n",
       "7581   20:24:22  Wednesday  \n",
       "41879  21:59:01     Monday  \n",
       "27939  09:30:47     Monday  \n",
       "8448   09:08:51     Friday  \n",
       "\n",
       "[42741 rows x 7 columns]"
      ]
     },
     "execution_count": 66,
     "metadata": {},
     "output_type": "execute_result"
    }
   ],
   "source": [
    "# получение таблицы moscow_general из тех строк таблицы df, \n",
    "# для которых значение в столбце 'city' равно 'Moscow'\n",
    "moscow_general = df[df['city'] == 'Moscow']\n",
    "moscow_general"
   ]
  },
  {
   "cell_type": "code",
   "execution_count": 67,
   "metadata": {
    "id": "ORaVRKto_Zcu"
   },
   "outputs": [
    {
     "data": {
      "text/html": [
       "<div>\n",
       "<style scoped>\n",
       "    .dataframe tbody tr th:only-of-type {\n",
       "        vertical-align: middle;\n",
       "    }\n",
       "\n",
       "    .dataframe tbody tr th {\n",
       "        vertical-align: top;\n",
       "    }\n",
       "\n",
       "    .dataframe thead th {\n",
       "        text-align: right;\n",
       "    }\n",
       "</style>\n",
       "<table border=\"1\" class=\"dataframe\">\n",
       "  <thead>\n",
       "    <tr style=\"text-align: right;\">\n",
       "      <th></th>\n",
       "      <th>user_id</th>\n",
       "      <th>track</th>\n",
       "      <th>artist</th>\n",
       "      <th>genre</th>\n",
       "      <th>city</th>\n",
       "      <th>time</th>\n",
       "      <th>day</th>\n",
       "    </tr>\n",
       "  </thead>\n",
       "  <tbody>\n",
       "    <tr>\n",
       "      <th>3636</th>\n",
       "      <td>F10919ED</td>\n",
       "      <td>Ready For The Fire</td>\n",
       "      <td>Valley Of Wolves</td>\n",
       "      <td>acoustic</td>\n",
       "      <td>Saint-Petersburg</td>\n",
       "      <td>21:33:18</td>\n",
       "      <td>Monday</td>\n",
       "    </tr>\n",
       "    <tr>\n",
       "      <th>14611</th>\n",
       "      <td>1C7D9E90</td>\n",
       "      <td>Prelude – Ne Me Qui Te Pas</td>\n",
       "      <td>unknown</td>\n",
       "      <td>acoustic</td>\n",
       "      <td>Saint-Petersburg</td>\n",
       "      <td>21:47:42</td>\n",
       "      <td>Friday</td>\n",
       "    </tr>\n",
       "    <tr>\n",
       "      <th>9393</th>\n",
       "      <td>B24158ED</td>\n",
       "      <td>Cellophane</td>\n",
       "      <td>Sara Jackson-Holman</td>\n",
       "      <td>adult</td>\n",
       "      <td>Saint-Petersburg</td>\n",
       "      <td>14:18:42</td>\n",
       "      <td>Monday</td>\n",
       "    </tr>\n",
       "    <tr>\n",
       "      <th>13408</th>\n",
       "      <td>BF3BEA4</td>\n",
       "      <td>Sweet Love</td>\n",
       "      <td>Anita Baker</td>\n",
       "      <td>adult</td>\n",
       "      <td>Saint-Petersburg</td>\n",
       "      <td>14:56:07</td>\n",
       "      <td>Monday</td>\n",
       "    </tr>\n",
       "    <tr>\n",
       "      <th>34021</th>\n",
       "      <td>4DCD818F</td>\n",
       "      <td>Blue Skies Again</td>\n",
       "      <td>Jessica Lea Mayfield</td>\n",
       "      <td>adult</td>\n",
       "      <td>Saint-Petersburg</td>\n",
       "      <td>09:05:48</td>\n",
       "      <td>Wednesday</td>\n",
       "    </tr>\n",
       "    <tr>\n",
       "      <th>...</th>\n",
       "      <td>...</td>\n",
       "      <td>...</td>\n",
       "      <td>...</td>\n",
       "      <td>...</td>\n",
       "      <td>...</td>\n",
       "      <td>...</td>\n",
       "      <td>...</td>\n",
       "    </tr>\n",
       "    <tr>\n",
       "      <th>33671</th>\n",
       "      <td>CB06B200</td>\n",
       "      <td>Sapashini</td>\n",
       "      <td>Stonebwoy</td>\n",
       "      <td>world</td>\n",
       "      <td>Saint-Petersburg</td>\n",
       "      <td>21:50:13</td>\n",
       "      <td>Wednesday</td>\n",
       "    </tr>\n",
       "    <tr>\n",
       "      <th>7465</th>\n",
       "      <td>CCC16A51</td>\n",
       "      <td>Toccata Aal Lebnene Remix</td>\n",
       "      <td>Michel Fadel</td>\n",
       "      <td>world</td>\n",
       "      <td>Saint-Petersburg</td>\n",
       "      <td>21:30:41</td>\n",
       "      <td>Friday</td>\n",
       "    </tr>\n",
       "    <tr>\n",
       "      <th>7576</th>\n",
       "      <td>5E9261F4</td>\n",
       "      <td>Wah Yantee</td>\n",
       "      <td>Simrit</td>\n",
       "      <td>world</td>\n",
       "      <td>Saint-Petersburg</td>\n",
       "      <td>20:25:57</td>\n",
       "      <td>Wednesday</td>\n",
       "    </tr>\n",
       "    <tr>\n",
       "      <th>39063</th>\n",
       "      <td>AA1730E8</td>\n",
       "      <td>Anu</td>\n",
       "      <td>Kailash Kokopelli</td>\n",
       "      <td>worldbeat</td>\n",
       "      <td>Saint-Petersburg</td>\n",
       "      <td>20:16:34</td>\n",
       "      <td>Wednesday</td>\n",
       "    </tr>\n",
       "    <tr>\n",
       "      <th>6465</th>\n",
       "      <td>1D4661</td>\n",
       "      <td>Раз два три</td>\n",
       "      <td>Какао</td>\n",
       "      <td>электроника</td>\n",
       "      <td>Saint-Petersburg</td>\n",
       "      <td>08:54:15</td>\n",
       "      <td>Wednesday</td>\n",
       "    </tr>\n",
       "  </tbody>\n",
       "</table>\n",
       "<p>18512 rows × 7 columns</p>\n",
       "</div>"
      ],
      "text/plain": [
       "        user_id                       track                artist  \\\n",
       "3636   F10919ED          Ready For The Fire      Valley Of Wolves   \n",
       "14611  1C7D9E90  Prelude – Ne Me Qui Te Pas               unknown   \n",
       "9393   B24158ED                  Cellophane   Sara Jackson-Holman   \n",
       "13408   BF3BEA4                  Sweet Love           Anita Baker   \n",
       "34021  4DCD818F            Blue Skies Again  Jessica Lea Mayfield   \n",
       "...         ...                         ...                   ...   \n",
       "33671  CB06B200                   Sapashini             Stonebwoy   \n",
       "7465   CCC16A51   Toccata Aal Lebnene Remix         Michel Fadel    \n",
       "7576   5E9261F4                  Wah Yantee                Simrit   \n",
       "39063  AA1730E8                         Anu     Kailash Kokopelli   \n",
       "6465     1D4661                 Раз два три                 Какао   \n",
       "\n",
       "             genre              city      time        day  \n",
       "3636      acoustic  Saint-Petersburg  21:33:18     Monday  \n",
       "14611     acoustic  Saint-Petersburg  21:47:42     Friday  \n",
       "9393         adult  Saint-Petersburg  14:18:42     Monday  \n",
       "13408        adult  Saint-Petersburg  14:56:07     Monday  \n",
       "34021        adult  Saint-Petersburg  09:05:48  Wednesday  \n",
       "...            ...               ...       ...        ...  \n",
       "33671        world  Saint-Petersburg  21:50:13  Wednesday  \n",
       "7465         world  Saint-Petersburg  21:30:41     Friday  \n",
       "7576         world  Saint-Petersburg  20:25:57  Wednesday  \n",
       "39063    worldbeat  Saint-Petersburg  20:16:34  Wednesday  \n",
       "6465   электроника  Saint-Petersburg  08:54:15  Wednesday  \n",
       "\n",
       "[18512 rows x 7 columns]"
      ]
     },
     "execution_count": 67,
     "metadata": {},
     "output_type": "execute_result"
    }
   ],
   "source": [
    "# получение таблицы spb_general из тех строк таблицы df,\n",
    "# для которых значение в столбце 'city' равно 'Saint-Petersburg'\n",
    "spb_general = df[df['city'] == 'Saint-Petersburg']\n",
    "spb_general"
   ]
  },
  {
   "cell_type": "markdown",
   "metadata": {
    "id": "MEJV-CX2_Zcu"
   },
   "source": [
    "Создайте функцию `genre_weekday()` с четырьмя параметрами:\n",
    "* таблица (датафрейм) с данными,\n",
    "* день недели,\n",
    "* начальная временная метка в формате 'hh:mm', \n",
    "* последняя временная метка в формате 'hh:mm'.\n",
    "\n",
    "Функция должна вернуть информацию о топ-10 жанров тех треков, которые прослушивали в указанный день, в промежутке между двумя отметками времени."
   ]
  },
  {
   "cell_type": "code",
   "execution_count": 68,
   "metadata": {
    "id": "laJT9BYl_Zcu"
   },
   "outputs": [],
   "source": [
    "def genre_weekday(table, day, time1, time2):\n",
    "    genre_df = table[table['day'] == day]\n",
    "    genre_df = genre_df[genre_df['time'] > time1]\n",
    "    genre_df = genre_df[genre_df['time'] < time2]\n",
    "    genre_df_count = genre_df.groupby('genre')['user_id'].count()\n",
    "    genre_df_sorted = genre_df_count.sort_values(ascending = False)\n",
    "    return genre_df_sorted.head(10)\n",
    "\n",
    "    \n",
    "# Объявление функции genre_weekday() с параметрами table, day, time1, time2,\n",
    "# которая возвращает информацию о самых популярных жанрах в указанный день в\n",
    "# заданное время:\n",
    "# 1) в переменную genre_df сохраняются те строки переданного датафрейма table, для\n",
    "#    которых одновременно:\n",
    "#    - значение в столбце day равно значению аргумента day\n",
    "#    - значение в столбце time больше значения аргумента time1\n",
    "#    - значение в столбце time меньше значения аргумента time2\n",
    "#    Используйте последовательную фильтрацию с помощью логической индексации.\n",
    "# 2) сгруппировать датафрейм genre_df по столбцу genre, взять один из его\n",
    "#    столбцов и посчитать методом count() количество записей для каждого из\n",
    "#    присутствующих жанров, получившийся Series записать в переменную\n",
    "#    genre_df_count\n",
    "# 3) отсортировать genre_df_count по убыванию встречаемости и сохранить\n",
    "#    в переменную genre_df_sorted\n",
    "# 4) вернуть Series из 10 первых значений genre_df_sorted, это будут топ-10\n",
    "#    популярных жанров (в указанный день, в заданное время)"
   ]
  },
  {
   "cell_type": "markdown",
   "metadata": {
    "id": "la2s2_PF_Zcu"
   },
   "source": [
    "Cравните результаты функции `genre_weekday()` для Москвы и Санкт-Петербурга в понедельник утром (с 7:00 до 11:00) и в пятницу вечером (с 17:00 до 23:00):"
   ]
  },
  {
   "cell_type": "code",
   "execution_count": 69,
   "metadata": {
    "id": "yz7itPUQ_Zcu"
   },
   "outputs": [
    {
     "data": {
      "text/plain": [
       "genre\n",
       "pop            781\n",
       "dance          549\n",
       "electronic     480\n",
       "rock           474\n",
       "hiphop         286\n",
       "ruspop         186\n",
       "world          181\n",
       "rusrap         175\n",
       "alternative    164\n",
       "unknown        161\n",
       "Name: user_id, dtype: int64"
      ]
     },
     "execution_count": 69,
     "metadata": {},
     "output_type": "execute_result"
    }
   ],
   "source": [
    "genre_weekday(moscow_general, 'Monday', '07:00', '11:00')\n",
    "# вызов функции для утра понедельника в Москве (вместо df — таблица moscow_general)\n",
    "# объекты, хранящие время, являются строками и сравниваются как строки\n",
    "# пример вызова: genre_weekday(moscow_general, 'Monday', '07:00', '11:00')"
   ]
  },
  {
   "cell_type": "code",
   "execution_count": 70,
   "metadata": {
    "id": "kwUcHPdy_Zcu"
   },
   "outputs": [
    {
     "data": {
      "text/plain": [
       "genre\n",
       "pop            218\n",
       "dance          182\n",
       "rock           162\n",
       "electronic     147\n",
       "hiphop          80\n",
       "ruspop          64\n",
       "alternative     58\n",
       "rusrap          55\n",
       "jazz            44\n",
       "classical       40\n",
       "Name: user_id, dtype: int64"
      ]
     },
     "execution_count": 70,
     "metadata": {},
     "output_type": "execute_result"
    }
   ],
   "source": [
    "genre_weekday(spb_general, 'Monday', '07:00', '11:00')\n",
    "# вызов функции для утра понедельника в Петербурге (вместо df — таблица spb_general)"
   ]
  },
  {
   "cell_type": "code",
   "execution_count": 71,
   "metadata": {
    "id": "EzXVRE1o_Zcu"
   },
   "outputs": [
    {
     "data": {
      "text/plain": [
       "genre\n",
       "pop            717\n",
       "dance          524\n",
       "rock           518\n",
       "electronic     485\n",
       "hiphop         238\n",
       "alternative    182\n",
       "classical      172\n",
       "world          172\n",
       "ruspop         149\n",
       "rusrap         133\n",
       "Name: user_id, dtype: int64"
      ]
     },
     "execution_count": 71,
     "metadata": {},
     "output_type": "execute_result"
    }
   ],
   "source": [
    "genre_weekday(moscow_general, 'Monday', '17:00', '23:00')\n",
    "#вызов функции для вечера пятницы в Москве"
   ]
  },
  {
   "cell_type": "code",
   "execution_count": 72,
   "metadata": {
    "id": "JZaEKu5v_Zcu"
   },
   "outputs": [
    {
     "data": {
      "text/plain": [
       "genre\n",
       "pop            263\n",
       "rock           208\n",
       "electronic     192\n",
       "dance          191\n",
       "hiphop         104\n",
       "alternative     72\n",
       "classical       71\n",
       "jazz            57\n",
       "rusrap          54\n",
       "ruspop          53\n",
       "Name: user_id, dtype: int64"
      ]
     },
     "execution_count": 72,
     "metadata": {},
     "output_type": "execute_result"
    }
   ],
   "source": [
    "genre_weekday(spb_general, 'Monday', '17:00', '23:00')\n",
    "# вызов функции для вечера пятницы в Петербурге"
   ]
  },
  {
   "cell_type": "markdown",
   "metadata": {
    "id": "wrCe4MNX_Zcu"
   },
   "source": [
    "**Выводы**\n",
    "\n",
    "Если сравнить топ-10 жанров в понедельник утром, можно сделать такие выводы:\n",
    "\n",
    "1. В Москве и Петербурге слушают похожую музыку. Единственное отличие — в московский рейтинг вошёл жанр “world”, а в петербургский — джаз и классика.\n",
    "\n",
    "2. В Москве пропущенных значений оказалось так много, что значение `'unknown'` заняло десятое место среди самых популярных жанров. Значит, пропущенные значения занимают существенную долю в данных и угрожают достоверности исследования.\n",
    "\n",
    "Вечер пятницы не меняет эту картину. Некоторые жанры поднимаются немного выше, другие спускаются, но в целом топ-10 остаётся тем же самым.\n",
    "\n",
    "Таким образом, вторая гипотеза подтвердилась лишь частично:\n",
    "* Пользователи слушают похожую музыку в начале недели и в конце.\n",
    "* Разница между Москвой и Петербургом не слишком выражена. В Москве чаще слушают русскую популярную музыку, в Петербурге — джаз.\n",
    "\n",
    "Однако пропуски в данных ставят под сомнение этот результат. В Москве их так много, что рейтинг топ-10 мог бы выглядеть иначе, если бы не утерянные  данные о жанрах."
   ]
  },
  {
   "cell_type": "markdown",
   "metadata": {
    "id": "JolODAqr_Zcu"
   },
   "source": [
    "### Жанровые предпочтения в Москве и Петербурге\n",
    "\n",
    "Гипотеза: Петербург — столица рэпа, музыку этого жанра там слушают чаще, чем в Москве.  А Москва — город контрастов, в котором, тем не менее, преобладает поп-музыка."
   ]
  },
  {
   "cell_type": "markdown",
   "metadata": {
    "id": "DlegSvaT_Zcu"
   },
   "source": [
    "Сгруппируйте таблицу `moscow_general` по жанру и посчитайте прослушивания треков каждого жанра методом `count()`. Затем отсортируйте результат в порядке убывания и сохраните его в таблице `moscow_genres`."
   ]
  },
  {
   "cell_type": "code",
   "execution_count": 73,
   "metadata": {
    "id": "r19lIPke_Zcu"
   },
   "outputs": [],
   "source": [
    "moscow_genres = moscow_general.groupby('genre')['genre'].count().sort_values(ascending = False)\n",
    "\n",
    "# одной строкой: группировка таблицы moscow_general по столбцу 'genre', \n",
    "# подсчёт числа значений 'genre' в этой группировке методом count(), \n",
    "# сортировка получившегося Series в порядке убывания и сохранение в moscow_genres"
   ]
  },
  {
   "cell_type": "markdown",
   "metadata": {
    "id": "6kMuomxTiIr8"
   },
   "source": [
    "Выведите на экран первые десять строк `moscow_genres`:"
   ]
  },
  {
   "cell_type": "code",
   "execution_count": 74,
   "metadata": {
    "id": "WhCSooF8_Zcv"
   },
   "outputs": [
    {
     "data": {
      "text/plain": [
       "genre\n",
       "pop            5892\n",
       "dance          4435\n",
       "rock           3965\n",
       "electronic     3786\n",
       "hiphop         2096\n",
       "classical      1616\n",
       "world          1432\n",
       "alternative    1379\n",
       "ruspop         1372\n",
       "rusrap         1161\n",
       "Name: genre, dtype: int64"
      ]
     },
     "execution_count": 74,
     "metadata": {},
     "output_type": "execute_result"
    }
   ],
   "source": [
    "moscow_genres.head(10)\n",
    "# просмотр первых 10 строк moscow_genres"
   ]
  },
  {
   "cell_type": "markdown",
   "metadata": {
    "id": "cnPG2vnN_Zcv"
   },
   "source": [
    "Теперь повторите то же и для Петербурга.\n",
    "\n",
    "Сгруппируйте таблицу `spb_general` по жанру. Посчитайте прослушивания треков каждого жанра. Результат отсортируйте в порядке убывания и сохраните в таблице `spb_genres`:\n"
   ]
  },
  {
   "cell_type": "code",
   "execution_count": 75,
   "metadata": {
    "id": "gluLIpE7_Zcv"
   },
   "outputs": [],
   "source": [
    "spb_genres = spb_general.groupby('genre')['genre'].count().sort_values(ascending = False)\n",
    "# одной строкой: группировка таблицы spb_general по столбцу 'genre', \n",
    "# подсчёт числа значений 'genre' в этой группировке методом count(), \n",
    "# сортировка получившегося Series в порядке убывания и сохранение в spb_genres"
   ]
  },
  {
   "cell_type": "markdown",
   "metadata": {
    "id": "5Doha_ODgyQ8"
   },
   "source": [
    "Выведите на экран первые десять строк `spb_genres`:"
   ]
  },
  {
   "cell_type": "code",
   "execution_count": 76,
   "metadata": {
    "id": "uaGJHjVU_Zcv"
   },
   "outputs": [
    {
     "data": {
      "text/plain": [
       "genre\n",
       "pop            2431\n",
       "dance          1932\n",
       "rock           1879\n",
       "electronic     1736\n",
       "hiphop          960\n",
       "alternative     649\n",
       "classical       646\n",
       "rusrap          564\n",
       "ruspop          538\n",
       "world           515\n",
       "Name: genre, dtype: int64"
      ]
     },
     "execution_count": 76,
     "metadata": {},
     "output_type": "execute_result"
    }
   ],
   "source": [
    "spb_genres.head(10)"
   ]
  },
  {
   "cell_type": "markdown",
   "metadata": {
    "id": "RY51YJYu_Zcv"
   },
   "source": [
    "**Выводы**"
   ]
  },
  {
   "cell_type": "markdown",
   "metadata": {
    "id": "nVhnJEm__Zcv"
   },
   "source": [
    "Гипотеза частично подтвердилась:\n",
    "* Поп-музыка — самый популярный жанр в Москве, как и предполагала гипотеза. Более того, в топ-10 жанров встречается близкий жанр — русская популярная музыка.\n",
    "* Вопреки ожиданиям, рэп одинаково популярен в Москве и Петербурге. \n"
   ]
  },
  {
   "cell_type": "markdown",
   "metadata": {
    "id": "ykKQ0N65_Zcv"
   },
   "source": [
    "## Итоги исследования"
   ]
  },
  {
   "cell_type": "markdown",
   "metadata": {
    "id": "tjUwbHb3_Zcv"
   },
   "source": [
    "Вы проверили три гипотезы и установили:\n",
    "\n",
    "1. День недели по-разному влияет на активность пользователей в Москве и Петербурге. \n",
    "\n",
    "Первая гипотеза полностью подтвердилась.\n",
    "\n",
    "2. Музыкальные предпочтения не сильно меняются в течение недели — будь то Москва или Петербург. Небольшие различия заметны в начале недели, по понедельникам:\n",
    "* в Москве слушают музыку жанра “world”,\n",
    "* в Петербурге — джаз и классику.\n",
    "\n",
    "Таким образом, вторая гипотеза подтвердилась лишь отчасти. Этот результат мог оказаться иным, если бы не пропуски в данных.\n",
    "\n",
    "3. Во вкусах пользователей Москвы и Петербурга больше общего чем различий. Вопреки ожиданиям, предпочтения жанров в Петербурге напоминают московские.\n",
    "\n",
    "Третья гипотеза не подтвердилась. Если различия в предпочтениях и существуют, на основной массе пользователей они незаметны.\n",
    "\n",
    "**На практике исследования содержат проверки статистических гипотез.**\n",
    "Из данных одного сервиса не всегда можно сделать вывод о всех жителях города.\n",
    "Проверки статистических гипотез покажут, насколько они достоверны, исходя из имеющихся данных. \n",
    "С методами проверок гипотез вы ещё познакомитесь в следующих темах."
   ]
  },
  {
   "cell_type": "code",
   "execution_count": null,
   "metadata": {},
   "outputs": [],
   "source": []
  }
 ],
 "metadata": {
  "ExecuteTimeLog": [
   {
    "duration": 564,
    "start_time": "2021-12-14T13:05:28.519Z"
   },
   {
    "duration": 137,
    "start_time": "2021-12-14T13:07:12.374Z"
   },
   {
    "duration": 19,
    "start_time": "2021-12-14T13:09:33.068Z"
   },
   {
    "duration": 24,
    "start_time": "2021-12-14T13:10:35.109Z"
   },
   {
    "duration": 302,
    "start_time": "2021-12-14T13:18:23.421Z"
   },
   {
    "duration": 4,
    "start_time": "2021-12-14T13:18:59.675Z"
   },
   {
    "duration": 5,
    "start_time": "2021-12-14T13:24:01.798Z"
   },
   {
    "duration": 22,
    "start_time": "2021-12-14T13:24:12.854Z"
   },
   {
    "duration": 4,
    "start_time": "2021-12-14T13:24:15.686Z"
   },
   {
    "duration": 288,
    "start_time": "2021-12-14T13:26:12.725Z"
   },
   {
    "duration": 28,
    "start_time": "2021-12-14T13:26:31.997Z"
   },
   {
    "duration": 22,
    "start_time": "2021-12-14T13:27:06.487Z"
   },
   {
    "duration": 7225,
    "start_time": "2021-12-14T13:34:21.385Z"
   },
   {
    "duration": 17,
    "start_time": "2021-12-14T13:35:58.873Z"
   },
   {
    "duration": 32,
    "start_time": "2021-12-14T13:36:16.672Z"
   },
   {
    "duration": 55,
    "start_time": "2021-12-14T13:37:11.295Z"
   },
   {
    "duration": 72,
    "start_time": "2021-12-14T13:40:55.750Z"
   },
   {
    "duration": 55,
    "start_time": "2021-12-14T13:41:16.853Z"
   },
   {
    "duration": 65,
    "start_time": "2021-12-14T13:41:31.961Z"
   },
   {
    "duration": 50,
    "start_time": "2021-12-14T13:41:38.533Z"
   },
   {
    "duration": 69,
    "start_time": "2021-12-14T13:42:53.782Z"
   },
   {
    "duration": 52,
    "start_time": "2021-12-14T13:43:01.935Z"
   },
   {
    "duration": 404,
    "start_time": "2021-12-14T18:09:50.618Z"
   },
   {
    "duration": 347,
    "start_time": "2021-12-14T18:10:55.145Z"
   },
   {
    "duration": 628,
    "start_time": "2021-12-14T18:12:09.954Z"
   },
   {
    "duration": 158,
    "start_time": "2021-12-14T18:12:10.584Z"
   },
   {
    "duration": 19,
    "start_time": "2021-12-14T18:12:10.744Z"
   },
   {
    "duration": 45,
    "start_time": "2021-12-14T18:12:10.766Z"
   },
   {
    "duration": 4,
    "start_time": "2021-12-14T18:12:10.813Z"
   },
   {
    "duration": 28,
    "start_time": "2021-12-14T18:12:10.819Z"
   },
   {
    "duration": 6,
    "start_time": "2021-12-14T18:12:10.848Z"
   },
   {
    "duration": 51,
    "start_time": "2021-12-14T18:12:10.857Z"
   },
   {
    "duration": 17,
    "start_time": "2021-12-14T18:12:10.910Z"
   },
   {
    "duration": 24,
    "start_time": "2021-12-14T18:12:10.929Z"
   },
   {
    "duration": 78,
    "start_time": "2021-12-14T18:12:10.955Z"
   },
   {
    "duration": 97,
    "start_time": "2021-12-14T18:12:11.035Z"
   },
   {
    "duration": 63,
    "start_time": "2021-12-14T18:12:38.824Z"
   },
   {
    "duration": 50,
    "start_time": "2021-12-14T18:12:48.678Z"
   },
   {
    "duration": 48,
    "start_time": "2021-12-14T18:12:55.199Z"
   },
   {
    "duration": 3,
    "start_time": "2021-12-14T18:13:05.573Z"
   },
   {
    "duration": 159,
    "start_time": "2021-12-14T18:13:05.578Z"
   },
   {
    "duration": 10,
    "start_time": "2021-12-14T18:13:05.739Z"
   },
   {
    "duration": 43,
    "start_time": "2021-12-14T18:13:05.751Z"
   },
   {
    "duration": 3,
    "start_time": "2021-12-14T18:13:05.796Z"
   },
   {
    "duration": 33,
    "start_time": "2021-12-14T18:13:05.801Z"
   },
   {
    "duration": 4,
    "start_time": "2021-12-14T18:13:05.837Z"
   },
   {
    "duration": 25,
    "start_time": "2021-12-14T18:13:05.843Z"
   },
   {
    "duration": 22,
    "start_time": "2021-12-14T18:13:05.869Z"
   },
   {
    "duration": 27,
    "start_time": "2021-12-14T18:13:05.893Z"
   },
   {
    "duration": 55,
    "start_time": "2021-12-14T18:13:05.923Z"
   },
   {
    "duration": 106,
    "start_time": "2021-12-14T18:13:05.979Z"
   },
   {
    "duration": 7,
    "start_time": "2021-12-14T18:21:57.175Z"
   },
   {
    "duration": 414,
    "start_time": "2021-12-14T18:25:09.531Z"
   },
   {
    "duration": 383,
    "start_time": "2021-12-14T18:29:12.598Z"
   },
   {
    "duration": 42,
    "start_time": "2021-12-14T18:30:19.560Z"
   },
   {
    "duration": 395,
    "start_time": "2021-12-14T18:31:03.583Z"
   },
   {
    "duration": 434,
    "start_time": "2021-12-14T18:31:35.583Z"
   },
   {
    "duration": 49,
    "start_time": "2021-12-14T18:32:35.424Z"
   },
   {
    "duration": 49,
    "start_time": "2021-12-14T18:32:54.118Z"
   },
   {
    "duration": 120,
    "start_time": "2021-12-14T19:07:59.197Z"
   },
   {
    "duration": 3,
    "start_time": "2021-12-14T19:08:14.571Z"
   },
   {
    "duration": 3,
    "start_time": "2021-12-14T19:08:48.948Z"
   },
   {
    "duration": 374,
    "start_time": "2021-12-14T19:08:51.496Z"
   },
   {
    "duration": 428,
    "start_time": "2021-12-14T19:09:03.747Z"
   },
   {
    "duration": 11,
    "start_time": "2021-12-14T19:09:16.499Z"
   },
   {
    "duration": 355,
    "start_time": "2021-12-14T19:10:25.970Z"
   },
   {
    "duration": 348,
    "start_time": "2021-12-14T19:10:47.139Z"
   },
   {
    "duration": 2,
    "start_time": "2021-12-14T19:11:15.196Z"
   },
   {
    "duration": 144,
    "start_time": "2021-12-14T19:11:15.210Z"
   },
   {
    "duration": 11,
    "start_time": "2021-12-14T19:11:15.356Z"
   },
   {
    "duration": 38,
    "start_time": "2021-12-14T19:11:15.369Z"
   },
   {
    "duration": 6,
    "start_time": "2021-12-14T19:11:15.408Z"
   },
   {
    "duration": 16,
    "start_time": "2021-12-14T19:11:15.416Z"
   },
   {
    "duration": 5,
    "start_time": "2021-12-14T19:11:15.433Z"
   },
   {
    "duration": 26,
    "start_time": "2021-12-14T19:11:15.440Z"
   },
   {
    "duration": 40,
    "start_time": "2021-12-14T19:11:15.468Z"
   },
   {
    "duration": 24,
    "start_time": "2021-12-14T19:11:15.510Z"
   },
   {
    "duration": 56,
    "start_time": "2021-12-14T19:11:15.536Z"
   },
   {
    "duration": 68,
    "start_time": "2021-12-14T19:11:15.594Z"
   },
   {
    "duration": 67,
    "start_time": "2021-12-14T19:11:15.664Z"
   },
   {
    "duration": 49,
    "start_time": "2021-12-14T19:11:22.011Z"
   },
   {
    "duration": 3,
    "start_time": "2021-12-14T19:11:30.410Z"
   },
   {
    "duration": 6,
    "start_time": "2021-12-14T19:11:49.603Z"
   },
   {
    "duration": 3,
    "start_time": "2021-12-14T19:12:07.441Z"
   },
   {
    "duration": 157,
    "start_time": "2021-12-14T19:12:07.445Z"
   },
   {
    "duration": 11,
    "start_time": "2021-12-14T19:12:07.604Z"
   },
   {
    "duration": 27,
    "start_time": "2021-12-14T19:12:07.616Z"
   },
   {
    "duration": 4,
    "start_time": "2021-12-14T19:12:07.645Z"
   },
   {
    "duration": 15,
    "start_time": "2021-12-14T19:12:07.650Z"
   },
   {
    "duration": 4,
    "start_time": "2021-12-14T19:12:07.667Z"
   },
   {
    "duration": 54,
    "start_time": "2021-12-14T19:12:07.673Z"
   },
   {
    "duration": 18,
    "start_time": "2021-12-14T19:12:07.729Z"
   },
   {
    "duration": 25,
    "start_time": "2021-12-14T19:12:07.748Z"
   },
   {
    "duration": 76,
    "start_time": "2021-12-14T19:12:07.775Z"
   },
   {
    "duration": 69,
    "start_time": "2021-12-14T19:12:07.853Z"
   },
   {
    "duration": 57,
    "start_time": "2021-12-14T19:12:07.924Z"
   },
   {
    "duration": 61,
    "start_time": "2021-12-14T19:12:07.983Z"
   },
   {
    "duration": 2,
    "start_time": "2021-12-14T19:12:08.046Z"
   },
   {
    "duration": 21,
    "start_time": "2021-12-14T19:12:08.050Z"
   },
   {
    "duration": 324,
    "start_time": "2021-12-14T19:12:16.730Z"
   },
   {
    "duration": 705,
    "start_time": "2021-12-14T19:15:04.273Z"
   },
   {
    "duration": 335,
    "start_time": "2021-12-14T19:15:18.720Z"
   },
   {
    "duration": 2,
    "start_time": "2021-12-14T19:15:57.631Z"
   },
   {
    "duration": 132,
    "start_time": "2021-12-14T19:15:57.637Z"
   },
   {
    "duration": 9,
    "start_time": "2021-12-14T19:15:57.771Z"
   },
   {
    "duration": 34,
    "start_time": "2021-12-14T19:15:57.782Z"
   },
   {
    "duration": 3,
    "start_time": "2021-12-14T19:15:57.818Z"
   },
   {
    "duration": 15,
    "start_time": "2021-12-14T19:15:57.822Z"
   },
   {
    "duration": 4,
    "start_time": "2021-12-14T19:15:57.839Z"
   },
   {
    "duration": 24,
    "start_time": "2021-12-14T19:15:57.844Z"
   },
   {
    "duration": 46,
    "start_time": "2021-12-14T19:15:57.871Z"
   },
   {
    "duration": 22,
    "start_time": "2021-12-14T19:15:57.920Z"
   },
   {
    "duration": 66,
    "start_time": "2021-12-14T19:15:57.943Z"
   },
   {
    "duration": 61,
    "start_time": "2021-12-14T19:15:58.010Z"
   },
   {
    "duration": 62,
    "start_time": "2021-12-14T19:15:58.073Z"
   },
   {
    "duration": 47,
    "start_time": "2021-12-14T19:15:58.137Z"
   },
   {
    "duration": 2,
    "start_time": "2021-12-14T19:16:07.103Z"
   },
   {
    "duration": 151,
    "start_time": "2021-12-14T19:16:07.111Z"
   },
   {
    "duration": 11,
    "start_time": "2021-12-14T19:16:07.264Z"
   },
   {
    "duration": 38,
    "start_time": "2021-12-14T19:16:07.278Z"
   },
   {
    "duration": 4,
    "start_time": "2021-12-14T19:16:07.318Z"
   },
   {
    "duration": 20,
    "start_time": "2021-12-14T19:16:07.323Z"
   },
   {
    "duration": 4,
    "start_time": "2021-12-14T19:16:07.344Z"
   },
   {
    "duration": 24,
    "start_time": "2021-12-14T19:16:07.349Z"
   },
   {
    "duration": 43,
    "start_time": "2021-12-14T19:16:07.375Z"
   },
   {
    "duration": 24,
    "start_time": "2021-12-14T19:16:07.419Z"
   },
   {
    "duration": 75,
    "start_time": "2021-12-14T19:16:07.445Z"
   },
   {
    "duration": 63,
    "start_time": "2021-12-14T19:16:07.522Z"
   },
   {
    "duration": 64,
    "start_time": "2021-12-14T19:16:07.587Z"
   },
   {
    "duration": 2,
    "start_time": "2021-12-14T19:16:13.276Z"
   },
   {
    "duration": 159,
    "start_time": "2021-12-14T19:16:13.280Z"
   },
   {
    "duration": 11,
    "start_time": "2021-12-14T19:16:13.441Z"
   },
   {
    "duration": 34,
    "start_time": "2021-12-14T19:16:13.454Z"
   },
   {
    "duration": 16,
    "start_time": "2021-12-14T19:16:13.491Z"
   },
   {
    "duration": 14,
    "start_time": "2021-12-14T19:16:13.509Z"
   },
   {
    "duration": 4,
    "start_time": "2021-12-14T19:16:13.525Z"
   },
   {
    "duration": 28,
    "start_time": "2021-12-14T19:16:13.531Z"
   },
   {
    "duration": 46,
    "start_time": "2021-12-14T19:16:13.560Z"
   },
   {
    "duration": 25,
    "start_time": "2021-12-14T19:16:13.608Z"
   },
   {
    "duration": 72,
    "start_time": "2021-12-14T19:16:13.635Z"
   },
   {
    "duration": 65,
    "start_time": "2021-12-14T19:16:13.709Z"
   },
   {
    "duration": 65,
    "start_time": "2021-12-14T19:16:13.776Z"
   },
   {
    "duration": 805,
    "start_time": "2021-12-15T06:24:08.555Z"
   },
   {
    "duration": 197,
    "start_time": "2021-12-15T06:24:09.363Z"
   },
   {
    "duration": 33,
    "start_time": "2021-12-15T06:24:09.564Z"
   },
   {
    "duration": 44,
    "start_time": "2021-12-15T06:24:09.599Z"
   },
   {
    "duration": 31,
    "start_time": "2021-12-15T06:24:09.646Z"
   },
   {
    "duration": 52,
    "start_time": "2021-12-15T06:24:09.680Z"
   },
   {
    "duration": 15,
    "start_time": "2021-12-15T06:24:09.735Z"
   },
   {
    "duration": 65,
    "start_time": "2021-12-15T06:24:09.753Z"
   },
   {
    "duration": 53,
    "start_time": "2021-12-15T06:24:09.822Z"
   },
   {
    "duration": 36,
    "start_time": "2021-12-15T06:24:09.878Z"
   },
   {
    "duration": 125,
    "start_time": "2021-12-15T06:24:09.916Z"
   },
   {
    "duration": 116,
    "start_time": "2021-12-15T06:24:10.043Z"
   },
   {
    "duration": 88,
    "start_time": "2021-12-15T06:24:10.161Z"
   },
   {
    "duration": 90,
    "start_time": "2021-12-15T06:24:10.252Z"
   },
   {
    "duration": 4,
    "start_time": "2021-12-15T06:24:10.345Z"
   },
   {
    "duration": 21,
    "start_time": "2021-12-15T06:24:10.368Z"
   },
   {
    "duration": 11,
    "start_time": "2021-12-15T06:24:22.058Z"
   },
   {
    "duration": 4,
    "start_time": "2021-12-15T08:03:48.167Z"
   },
   {
    "duration": 8,
    "start_time": "2021-12-15T08:04:15.088Z"
   },
   {
    "duration": 7,
    "start_time": "2021-12-15T08:13:03.276Z"
   },
   {
    "duration": 8250,
    "start_time": "2021-12-15T08:14:24.812Z"
   },
   {
    "duration": 3220,
    "start_time": "2021-12-15T08:16:10.884Z"
   },
   {
    "duration": 725,
    "start_time": "2021-12-15T08:17:04.724Z"
   },
   {
    "duration": 19,
    "start_time": "2021-12-15T08:17:17.204Z"
   },
   {
    "duration": 61,
    "start_time": "2021-12-15T08:17:41.249Z"
   },
   {
    "duration": 53,
    "start_time": "2021-12-15T08:19:20.275Z"
   },
   {
    "duration": 19,
    "start_time": "2021-12-15T08:20:39.464Z"
   },
   {
    "duration": 13,
    "start_time": "2021-12-15T08:24:03.332Z"
   },
   {
    "duration": 15,
    "start_time": "2021-12-15T08:31:30.192Z"
   },
   {
    "duration": 384,
    "start_time": "2021-12-15T08:32:37.281Z"
   },
   {
    "duration": 14,
    "start_time": "2021-12-15T08:32:59.231Z"
   },
   {
    "duration": 277,
    "start_time": "2021-12-15T08:41:27.501Z"
   },
   {
    "duration": 433,
    "start_time": "2021-12-15T08:41:40.271Z"
   },
   {
    "duration": 12,
    "start_time": "2021-12-15T08:46:10.252Z"
   },
   {
    "duration": 59,
    "start_time": "2021-12-15T08:54:09.347Z"
   },
   {
    "duration": 540,
    "start_time": "2021-12-15T08:56:35.794Z"
   },
   {
    "duration": 336,
    "start_time": "2021-12-15T08:56:52.445Z"
   },
   {
    "duration": 333,
    "start_time": "2021-12-15T08:57:09.374Z"
   },
   {
    "duration": 344,
    "start_time": "2021-12-15T08:58:34.544Z"
   },
   {
    "duration": 339,
    "start_time": "2021-12-15T08:58:57.044Z"
   },
   {
    "duration": 340,
    "start_time": "2021-12-15T08:59:23.564Z"
   },
   {
    "duration": 329,
    "start_time": "2021-12-15T09:02:09.523Z"
   },
   {
    "duration": 37,
    "start_time": "2021-12-15T09:02:23.523Z"
   },
   {
    "duration": 59,
    "start_time": "2021-12-15T09:03:41.650Z"
   },
   {
    "duration": 71,
    "start_time": "2021-12-15T09:04:40.218Z"
   },
   {
    "duration": 76,
    "start_time": "2021-12-15T09:05:54.170Z"
   },
   {
    "duration": 136,
    "start_time": "2021-12-15T09:08:17.730Z"
   },
   {
    "duration": 147,
    "start_time": "2021-12-15T09:08:40.170Z"
   },
   {
    "duration": 273,
    "start_time": "2021-12-15T09:09:37.550Z"
   },
   {
    "duration": 159,
    "start_time": "2021-12-15T09:09:53.770Z"
   },
   {
    "duration": 169,
    "start_time": "2021-12-15T09:40:30.055Z"
   },
   {
    "duration": 3,
    "start_time": "2021-12-15T09:40:30.303Z"
   },
   {
    "duration": 34,
    "start_time": "2021-12-15T09:40:30.308Z"
   },
   {
    "duration": 3,
    "start_time": "2021-12-15T09:40:30.484Z"
   },
   {
    "duration": 8,
    "start_time": "2021-12-15T09:40:30.490Z"
   },
   {
    "duration": 21,
    "start_time": "2021-12-15T09:40:30.502Z"
   },
   {
    "duration": 12,
    "start_time": "2021-12-15T09:40:30.526Z"
   },
   {
    "duration": 23,
    "start_time": "2021-12-15T09:40:30.540Z"
   },
   {
    "duration": 19,
    "start_time": "2021-12-15T09:40:30.565Z"
   },
   {
    "duration": 17,
    "start_time": "2021-12-15T09:40:30.586Z"
   },
   {
    "duration": 13,
    "start_time": "2021-12-15T09:40:30.605Z"
   },
   {
    "duration": 3,
    "start_time": "2021-12-15T09:40:30.642Z"
   },
   {
    "duration": 33,
    "start_time": "2021-12-15T09:40:30.648Z"
   },
   {
    "duration": 19,
    "start_time": "2021-12-15T09:40:30.685Z"
   },
   {
    "duration": 15,
    "start_time": "2021-12-15T09:40:30.707Z"
   },
   {
    "duration": 8,
    "start_time": "2021-12-15T09:40:30.724Z"
   },
   {
    "duration": 2,
    "start_time": "2021-12-15T09:40:30.745Z"
   },
   {
    "duration": 25,
    "start_time": "2021-12-15T09:40:30.751Z"
   },
   {
    "duration": 13,
    "start_time": "2021-12-15T09:40:30.779Z"
   },
   {
    "duration": 18,
    "start_time": "2021-12-15T09:40:30.794Z"
   },
   {
    "duration": 112,
    "start_time": "2021-12-15T09:42:37.128Z"
   },
   {
    "duration": 103,
    "start_time": "2021-12-15T09:43:21.824Z"
   },
   {
    "duration": 3,
    "start_time": "2021-12-15T11:42:10.250Z"
   },
   {
    "duration": 199,
    "start_time": "2021-12-15T11:42:10.259Z"
   },
   {
    "duration": 26,
    "start_time": "2021-12-15T11:42:10.461Z"
   },
   {
    "duration": 36,
    "start_time": "2021-12-15T11:42:10.491Z"
   },
   {
    "duration": 38,
    "start_time": "2021-12-15T11:42:10.529Z"
   },
   {
    "duration": 27,
    "start_time": "2021-12-15T11:42:10.576Z"
   },
   {
    "duration": 5,
    "start_time": "2021-12-15T11:42:10.605Z"
   },
   {
    "duration": 62,
    "start_time": "2021-12-15T11:42:10.612Z"
   },
   {
    "duration": 25,
    "start_time": "2021-12-15T11:42:10.681Z"
   },
   {
    "duration": 33,
    "start_time": "2021-12-15T11:42:10.709Z"
   },
   {
    "duration": 109,
    "start_time": "2021-12-15T11:42:10.745Z"
   },
   {
    "duration": 113,
    "start_time": "2021-12-15T11:42:10.867Z"
   },
   {
    "duration": 96,
    "start_time": "2021-12-15T11:42:10.983Z"
   },
   {
    "duration": 76,
    "start_time": "2021-12-15T11:42:11.081Z"
   },
   {
    "duration": 16,
    "start_time": "2021-12-15T11:42:11.160Z"
   },
   {
    "duration": 21,
    "start_time": "2021-12-15T11:42:11.179Z"
   },
   {
    "duration": 10,
    "start_time": "2021-12-15T11:42:11.202Z"
   },
   {
    "duration": 75,
    "start_time": "2021-12-15T11:42:11.214Z"
   },
   {
    "duration": 19,
    "start_time": "2021-12-15T11:43:02.342Z"
   },
   {
    "duration": 55,
    "start_time": "2021-12-15T11:43:13.106Z"
   },
   {
    "duration": 105,
    "start_time": "2021-12-15T11:43:20.146Z"
   },
   {
    "duration": 277,
    "start_time": "2021-12-15T11:47:19.860Z"
   },
   {
    "duration": 6,
    "start_time": "2021-12-15T11:47:43.772Z"
   },
   {
    "duration": 7098,
    "start_time": "2021-12-15T11:47:49.857Z"
   },
   {
    "duration": 6,
    "start_time": "2021-12-15T11:48:17.674Z"
   },
   {
    "duration": 5,
    "start_time": "2021-12-15T11:48:22.426Z"
   },
   {
    "duration": 581,
    "start_time": "2021-12-15T11:48:24.665Z"
   },
   {
    "duration": 4,
    "start_time": "2021-12-15T11:51:37.026Z"
   },
   {
    "duration": 590,
    "start_time": "2021-12-15T11:51:41.593Z"
   },
   {
    "duration": 5,
    "start_time": "2021-12-15T11:53:40.562Z"
   },
   {
    "duration": 560,
    "start_time": "2021-12-15T11:53:49.683Z"
   },
   {
    "duration": 360,
    "start_time": "2021-12-15T11:58:32.576Z"
   },
   {
    "duration": 109,
    "start_time": "2021-12-15T11:59:03.784Z"
   },
   {
    "duration": 93,
    "start_time": "2021-12-15T11:59:38.414Z"
   },
   {
    "duration": 5,
    "start_time": "2021-12-15T11:59:50.527Z"
   },
   {
    "duration": 616,
    "start_time": "2021-12-15T11:59:54.989Z"
   },
   {
    "duration": 4,
    "start_time": "2021-12-15T12:00:09.127Z"
   },
   {
    "duration": 33,
    "start_time": "2021-12-15T12:00:13.350Z"
   },
   {
    "duration": 110,
    "start_time": "2021-12-15T12:00:27.941Z"
   },
   {
    "duration": 5,
    "start_time": "2021-12-15T12:02:15.841Z"
   },
   {
    "duration": 56,
    "start_time": "2021-12-15T12:02:20.588Z"
   },
   {
    "duration": 5,
    "start_time": "2021-12-15T12:07:10.819Z"
   },
   {
    "duration": 856,
    "start_time": "2021-12-15T12:07:15.253Z"
   },
   {
    "duration": 5,
    "start_time": "2021-12-15T12:08:56.985Z"
   },
   {
    "duration": 4572,
    "start_time": "2021-12-15T12:09:01.467Z"
   },
   {
    "duration": 5,
    "start_time": "2021-12-15T12:16:59.262Z"
   },
   {
    "duration": 24,
    "start_time": "2021-12-15T12:17:03.725Z"
   },
   {
    "duration": 106,
    "start_time": "2021-12-15T12:20:24.515Z"
   },
   {
    "duration": 25,
    "start_time": "2021-12-15T12:20:59.730Z"
   },
   {
    "duration": 21,
    "start_time": "2021-12-15T12:21:02.944Z"
   },
   {
    "duration": 4,
    "start_time": "2021-12-15T12:21:07.450Z"
   },
   {
    "duration": 218,
    "start_time": "2021-12-15T12:21:07.457Z"
   },
   {
    "duration": 15,
    "start_time": "2021-12-15T12:21:07.678Z"
   },
   {
    "duration": 35,
    "start_time": "2021-12-15T12:21:07.696Z"
   },
   {
    "duration": 6,
    "start_time": "2021-12-15T12:21:07.733Z"
   },
   {
    "duration": 31,
    "start_time": "2021-12-15T12:21:07.768Z"
   },
   {
    "duration": 7,
    "start_time": "2021-12-15T12:21:07.802Z"
   },
   {
    "duration": 61,
    "start_time": "2021-12-15T12:21:07.812Z"
   },
   {
    "duration": 28,
    "start_time": "2021-12-15T12:21:07.876Z"
   },
   {
    "duration": 63,
    "start_time": "2021-12-15T12:21:07.907Z"
   },
   {
    "duration": 95,
    "start_time": "2021-12-15T12:21:07.973Z"
   },
   {
    "duration": 114,
    "start_time": "2021-12-15T12:21:08.071Z"
   },
   {
    "duration": 100,
    "start_time": "2021-12-15T12:21:08.188Z"
   },
   {
    "duration": 90,
    "start_time": "2021-12-15T12:21:08.290Z"
   },
   {
    "duration": 5,
    "start_time": "2021-12-15T12:21:08.383Z"
   },
   {
    "duration": 18,
    "start_time": "2021-12-15T12:21:08.391Z"
   },
   {
    "duration": 9,
    "start_time": "2021-12-15T12:21:08.412Z"
   },
   {
    "duration": 81,
    "start_time": "2021-12-15T12:21:08.424Z"
   },
   {
    "duration": 113,
    "start_time": "2021-12-15T12:21:08.509Z"
   },
   {
    "duration": 5,
    "start_time": "2021-12-15T12:21:08.625Z"
   },
   {
    "duration": 46,
    "start_time": "2021-12-15T12:21:08.632Z"
   },
   {
    "duration": 24,
    "start_time": "2021-12-15T12:21:08.680Z"
   },
   {
    "duration": 24,
    "start_time": "2021-12-15T12:21:08.707Z"
   },
   {
    "duration": 53,
    "start_time": "2021-12-15T12:21:08.733Z"
   },
   {
    "duration": 25,
    "start_time": "2021-12-15T12:21:08.788Z"
   },
   {
    "duration": 22,
    "start_time": "2021-12-15T12:21:15.874Z"
   },
   {
    "duration": 133,
    "start_time": "2021-12-15T12:21:29.059Z"
   },
   {
    "duration": 296,
    "start_time": "2021-12-15T12:33:36.056Z"
   },
   {
    "duration": 15,
    "start_time": "2021-12-15T12:34:28.592Z"
   },
   {
    "duration": 4,
    "start_time": "2021-12-15T12:35:46.147Z"
   },
   {
    "duration": 224,
    "start_time": "2021-12-15T12:35:46.157Z"
   },
   {
    "duration": 18,
    "start_time": "2021-12-15T12:35:46.384Z"
   },
   {
    "duration": 74,
    "start_time": "2021-12-15T12:35:46.405Z"
   },
   {
    "duration": 6,
    "start_time": "2021-12-15T12:35:46.483Z"
   },
   {
    "duration": 31,
    "start_time": "2021-12-15T12:35:46.492Z"
   },
   {
    "duration": 5,
    "start_time": "2021-12-15T12:35:46.526Z"
   },
   {
    "duration": 73,
    "start_time": "2021-12-15T12:35:46.534Z"
   },
   {
    "duration": 62,
    "start_time": "2021-12-15T12:35:46.611Z"
   },
   {
    "duration": 35,
    "start_time": "2021-12-15T12:35:46.679Z"
   },
   {
    "duration": 109,
    "start_time": "2021-12-15T12:35:46.717Z"
   },
   {
    "duration": 123,
    "start_time": "2021-12-15T12:35:46.828Z"
   },
   {
    "duration": 90,
    "start_time": "2021-12-15T12:35:46.954Z"
   },
   {
    "duration": 94,
    "start_time": "2021-12-15T12:35:47.047Z"
   },
   {
    "duration": 4,
    "start_time": "2021-12-15T12:35:47.143Z"
   },
   {
    "duration": 33,
    "start_time": "2021-12-15T12:35:47.150Z"
   },
   {
    "duration": 15,
    "start_time": "2021-12-15T12:35:47.186Z"
   },
   {
    "duration": 80,
    "start_time": "2021-12-15T12:35:47.203Z"
   },
   {
    "duration": 131,
    "start_time": "2021-12-15T12:35:47.286Z"
   },
   {
    "duration": 5,
    "start_time": "2021-12-15T12:35:47.420Z"
   },
   {
    "duration": 46,
    "start_time": "2021-12-15T12:35:47.428Z"
   },
   {
    "duration": 31,
    "start_time": "2021-12-15T12:35:47.477Z"
   },
   {
    "duration": 63,
    "start_time": "2021-12-15T12:35:47.511Z"
   },
   {
    "duration": 34,
    "start_time": "2021-12-15T12:35:47.577Z"
   },
   {
    "duration": 53,
    "start_time": "2021-12-15T12:35:47.614Z"
   },
   {
    "duration": 32,
    "start_time": "2021-12-15T12:35:47.670Z"
   },
   {
    "duration": 11,
    "start_time": "2021-12-15T12:37:52.300Z"
   },
   {
    "duration": 13,
    "start_time": "2021-12-15T12:38:23.358Z"
   },
   {
    "duration": 18,
    "start_time": "2021-12-15T12:40:01.842Z"
   },
   {
    "duration": 6,
    "start_time": "2021-12-15T12:40:55.377Z"
   },
   {
    "duration": 12,
    "start_time": "2021-12-15T12:41:07.290Z"
   },
   {
    "duration": 4,
    "start_time": "2021-12-15T12:41:37.612Z"
   },
   {
    "duration": 204,
    "start_time": "2021-12-15T12:41:37.622Z"
   },
   {
    "duration": 16,
    "start_time": "2021-12-15T12:41:37.828Z"
   },
   {
    "duration": 56,
    "start_time": "2021-12-15T12:41:37.847Z"
   },
   {
    "duration": 5,
    "start_time": "2021-12-15T12:41:37.905Z"
   },
   {
    "duration": 54,
    "start_time": "2021-12-15T12:41:37.913Z"
   },
   {
    "duration": 7,
    "start_time": "2021-12-15T12:41:37.971Z"
   },
   {
    "duration": 41,
    "start_time": "2021-12-15T12:41:37.980Z"
   },
   {
    "duration": 53,
    "start_time": "2021-12-15T12:41:38.024Z"
   },
   {
    "duration": 38,
    "start_time": "2021-12-15T12:41:38.083Z"
   },
   {
    "duration": 118,
    "start_time": "2021-12-15T12:41:38.125Z"
   },
   {
    "duration": 116,
    "start_time": "2021-12-15T12:41:38.245Z"
   },
   {
    "duration": 89,
    "start_time": "2021-12-15T12:41:38.366Z"
   },
   {
    "duration": 85,
    "start_time": "2021-12-15T12:41:38.466Z"
   },
   {
    "duration": 17,
    "start_time": "2021-12-15T12:41:38.553Z"
   },
   {
    "duration": 17,
    "start_time": "2021-12-15T12:41:38.574Z"
   },
   {
    "duration": 13,
    "start_time": "2021-12-15T12:41:38.593Z"
   },
   {
    "duration": 82,
    "start_time": "2021-12-15T12:41:38.608Z"
   },
   {
    "duration": 119,
    "start_time": "2021-12-15T12:41:38.692Z"
   },
   {
    "duration": 5,
    "start_time": "2021-12-15T12:41:38.813Z"
   },
   {
    "duration": 31,
    "start_time": "2021-12-15T12:41:38.820Z"
   },
   {
    "duration": 34,
    "start_time": "2021-12-15T12:41:38.854Z"
   },
   {
    "duration": 19,
    "start_time": "2021-12-15T12:41:38.891Z"
   },
   {
    "duration": 25,
    "start_time": "2021-12-15T12:41:38.913Z"
   },
   {
    "duration": 49,
    "start_time": "2021-12-15T12:41:38.940Z"
   },
   {
    "duration": 51,
    "start_time": "2021-12-15T12:41:38.991Z"
   },
   {
    "duration": 34,
    "start_time": "2021-12-15T12:41:39.044Z"
   },
   {
    "duration": 33,
    "start_time": "2021-12-15T12:41:41.658Z"
   },
   {
    "duration": 90,
    "start_time": "2021-12-15T12:42:57.225Z"
   },
   {
    "duration": 28,
    "start_time": "2021-12-15T12:43:08.035Z"
   },
   {
    "duration": 764,
    "start_time": "2021-12-16T08:01:26.879Z"
   },
   {
    "duration": 187,
    "start_time": "2021-12-16T08:01:27.645Z"
   },
   {
    "duration": 31,
    "start_time": "2021-12-16T08:01:27.835Z"
   },
   {
    "duration": 33,
    "start_time": "2021-12-16T08:01:27.869Z"
   },
   {
    "duration": 5,
    "start_time": "2021-12-16T08:01:27.905Z"
   },
   {
    "duration": 63,
    "start_time": "2021-12-16T08:01:27.913Z"
   },
   {
    "duration": 6,
    "start_time": "2021-12-16T08:01:27.979Z"
   },
   {
    "duration": 32,
    "start_time": "2021-12-16T08:01:27.988Z"
   },
   {
    "duration": 55,
    "start_time": "2021-12-16T08:01:28.024Z"
   },
   {
    "duration": 30,
    "start_time": "2021-12-16T08:01:28.082Z"
   },
   {
    "duration": 110,
    "start_time": "2021-12-16T08:01:28.115Z"
   },
   {
    "duration": 103,
    "start_time": "2021-12-16T08:01:28.228Z"
   },
   {
    "duration": 89,
    "start_time": "2021-12-16T08:01:28.333Z"
   },
   {
    "duration": 81,
    "start_time": "2021-12-16T08:01:28.425Z"
   },
   {
    "duration": 3,
    "start_time": "2021-12-16T08:01:28.509Z"
   },
   {
    "duration": 15,
    "start_time": "2021-12-16T08:01:28.515Z"
   },
   {
    "duration": 31,
    "start_time": "2021-12-16T08:01:28.532Z"
   },
   {
    "duration": 57,
    "start_time": "2021-12-16T08:01:28.566Z"
   },
   {
    "duration": 115,
    "start_time": "2021-12-16T08:01:28.626Z"
   },
   {
    "duration": 5,
    "start_time": "2021-12-16T08:01:28.744Z"
   },
   {
    "duration": 35,
    "start_time": "2021-12-16T08:01:28.751Z"
   },
   {
    "duration": 20,
    "start_time": "2021-12-16T08:01:28.788Z"
   },
   {
    "duration": 52,
    "start_time": "2021-12-16T08:01:28.810Z"
   },
   {
    "duration": 20,
    "start_time": "2021-12-16T08:01:28.865Z"
   },
   {
    "duration": 24,
    "start_time": "2021-12-16T08:01:28.888Z"
   },
   {
    "duration": 55,
    "start_time": "2021-12-16T08:01:28.915Z"
   },
   {
    "duration": 12,
    "start_time": "2021-12-16T08:01:28.976Z"
   },
   {
    "duration": 68,
    "start_time": "2021-12-16T08:01:28.991Z"
   },
   {
    "duration": 28,
    "start_time": "2021-12-16T08:01:39.460Z"
   },
   {
    "duration": 6,
    "start_time": "2021-12-16T08:19:44.899Z"
   },
   {
    "duration": 5,
    "start_time": "2021-12-16T08:20:28.100Z"
   },
   {
    "duration": 12300,
    "start_time": "2021-12-16T08:20:57.299Z"
   },
   {
    "duration": 4,
    "start_time": "2021-12-16T08:21:50.022Z"
   },
   {
    "duration": 267,
    "start_time": "2021-12-16T08:21:50.029Z"
   },
   {
    "duration": 25,
    "start_time": "2021-12-16T08:21:50.300Z"
   },
   {
    "duration": 68,
    "start_time": "2021-12-16T08:21:50.329Z"
   },
   {
    "duration": 4,
    "start_time": "2021-12-16T08:21:50.400Z"
   },
   {
    "duration": 55,
    "start_time": "2021-12-16T08:21:50.407Z"
   },
   {
    "duration": 6,
    "start_time": "2021-12-16T08:21:50.464Z"
   },
   {
    "duration": 51,
    "start_time": "2021-12-16T08:21:50.473Z"
   },
   {
    "duration": 59,
    "start_time": "2021-12-16T08:21:50.530Z"
   },
   {
    "duration": 50,
    "start_time": "2021-12-16T08:21:50.593Z"
   },
   {
    "duration": 80,
    "start_time": "2021-12-16T08:21:50.660Z"
   },
   {
    "duration": 101,
    "start_time": "2021-12-16T08:21:50.759Z"
   },
   {
    "duration": 75,
    "start_time": "2021-12-16T08:21:50.863Z"
   },
   {
    "duration": 107,
    "start_time": "2021-12-16T08:21:50.940Z"
   },
   {
    "duration": 5,
    "start_time": "2021-12-16T08:21:51.058Z"
   },
   {
    "duration": 19,
    "start_time": "2021-12-16T08:21:51.066Z"
   },
   {
    "duration": 12,
    "start_time": "2021-12-16T08:21:51.088Z"
   },
   {
    "duration": 116,
    "start_time": "2021-12-16T08:21:51.104Z"
   },
   {
    "duration": 126,
    "start_time": "2021-12-16T08:21:51.223Z"
   },
   {
    "duration": 4,
    "start_time": "2021-12-16T08:21:51.351Z"
   },
   {
    "duration": 24,
    "start_time": "2021-12-16T08:21:51.359Z"
   },
   {
    "duration": 20,
    "start_time": "2021-12-16T08:21:51.385Z"
   },
   {
    "duration": 55,
    "start_time": "2021-12-16T08:21:51.408Z"
   },
   {
    "duration": 18,
    "start_time": "2021-12-16T08:21:51.465Z"
   },
   {
    "duration": 22,
    "start_time": "2021-12-16T08:21:51.485Z"
   },
   {
    "duration": 56,
    "start_time": "2021-12-16T08:21:51.510Z"
   },
   {
    "duration": 13,
    "start_time": "2021-12-16T08:21:51.572Z"
   },
   {
    "duration": 35,
    "start_time": "2021-12-16T08:21:51.588Z"
   },
   {
    "duration": 59,
    "start_time": "2021-12-16T08:21:51.626Z"
   },
   {
    "duration": 17837,
    "start_time": "2021-12-16T08:21:59.259Z"
   },
   {
    "duration": 6,
    "start_time": "2021-12-16T08:22:45.587Z"
   },
   {
    "duration": 2130,
    "start_time": "2021-12-16T08:22:51.640Z"
   },
   {
    "duration": -454,
    "start_time": "2021-12-16T08:22:54.226Z"
   },
   {
    "duration": 135,
    "start_time": "2021-12-16T08:23:43.659Z"
   },
   {
    "duration": 13,
    "start_time": "2021-12-16T08:23:55.980Z"
   },
   {
    "duration": 826,
    "start_time": "2021-12-16T08:23:59.739Z"
   },
   {
    "duration": 6,
    "start_time": "2021-12-16T08:24:47.128Z"
   },
   {
    "duration": 39,
    "start_time": "2021-12-16T08:24:52.489Z"
   },
   {
    "duration": 19,
    "start_time": "2021-12-16T08:25:44.768Z"
   },
   {
    "duration": 3,
    "start_time": "2021-12-16T08:25:44.791Z"
   },
   {
    "duration": 7,
    "start_time": "2021-12-16T08:26:10.729Z"
   },
   {
    "duration": 927,
    "start_time": "2021-12-16T08:26:14.656Z"
   },
   {
    "duration": 5,
    "start_time": "2021-12-16T08:26:34.009Z"
   },
   {
    "duration": 927,
    "start_time": "2021-12-16T08:26:36.969Z"
   },
   {
    "duration": 6,
    "start_time": "2021-12-16T08:26:47.528Z"
   },
   {
    "duration": 1360,
    "start_time": "2021-12-16T08:26:53.151Z"
   },
   {
    "duration": 786,
    "start_time": "2021-12-16T08:27:01.776Z"
   },
   {
    "duration": 4,
    "start_time": "2021-12-16T08:27:18.737Z"
   },
   {
    "duration": 202,
    "start_time": "2021-12-16T08:27:18.743Z"
   },
   {
    "duration": 20,
    "start_time": "2021-12-16T08:27:18.948Z"
   },
   {
    "duration": 36,
    "start_time": "2021-12-16T08:27:18.971Z"
   },
   {
    "duration": 6,
    "start_time": "2021-12-16T08:27:19.009Z"
   },
   {
    "duration": 64,
    "start_time": "2021-12-16T08:27:19.017Z"
   },
   {
    "duration": 6,
    "start_time": "2021-12-16T08:27:19.084Z"
   },
   {
    "duration": 39,
    "start_time": "2021-12-16T08:27:19.092Z"
   },
   {
    "duration": 41,
    "start_time": "2021-12-16T08:27:19.137Z"
   },
   {
    "duration": 33,
    "start_time": "2021-12-16T08:27:19.181Z"
   },
   {
    "duration": 113,
    "start_time": "2021-12-16T08:27:19.217Z"
   },
   {
    "duration": 117,
    "start_time": "2021-12-16T08:27:19.333Z"
   },
   {
    "duration": 87,
    "start_time": "2021-12-16T08:27:19.453Z"
   },
   {
    "duration": 90,
    "start_time": "2021-12-16T08:27:19.542Z"
   },
   {
    "duration": 4,
    "start_time": "2021-12-16T08:27:19.634Z"
   },
   {
    "duration": 14,
    "start_time": "2021-12-16T08:27:19.660Z"
   },
   {
    "duration": 11,
    "start_time": "2021-12-16T08:27:19.677Z"
   },
   {
    "duration": 97,
    "start_time": "2021-12-16T08:27:19.691Z"
   },
   {
    "duration": 114,
    "start_time": "2021-12-16T08:27:19.790Z"
   },
   {
    "duration": 6,
    "start_time": "2021-12-16T08:27:19.906Z"
   },
   {
    "duration": 27,
    "start_time": "2021-12-16T08:27:19.914Z"
   },
   {
    "duration": 32,
    "start_time": "2021-12-16T08:27:19.960Z"
   },
   {
    "duration": 39,
    "start_time": "2021-12-16T08:27:19.995Z"
   },
   {
    "duration": 41,
    "start_time": "2021-12-16T08:27:20.036Z"
   },
   {
    "duration": 30,
    "start_time": "2021-12-16T08:27:20.080Z"
   },
   {
    "duration": 58,
    "start_time": "2021-12-16T08:27:20.113Z"
   },
   {
    "duration": 12,
    "start_time": "2021-12-16T08:27:20.175Z"
   },
   {
    "duration": 30,
    "start_time": "2021-12-16T08:27:20.190Z"
   },
   {
    "duration": 57,
    "start_time": "2021-12-16T08:27:20.223Z"
   },
   {
    "duration": 7,
    "start_time": "2021-12-16T08:27:20.283Z"
   },
   {
    "duration": 780,
    "start_time": "2021-12-16T08:27:26.169Z"
   },
   {
    "duration": 4,
    "start_time": "2021-12-16T08:30:31.779Z"
   },
   {
    "duration": 197,
    "start_time": "2021-12-16T08:30:31.785Z"
   },
   {
    "duration": 15,
    "start_time": "2021-12-16T08:30:31.986Z"
   },
   {
    "duration": 34,
    "start_time": "2021-12-16T08:30:32.004Z"
   },
   {
    "duration": 21,
    "start_time": "2021-12-16T08:30:32.040Z"
   },
   {
    "duration": 25,
    "start_time": "2021-12-16T08:30:32.064Z"
   },
   {
    "duration": 6,
    "start_time": "2021-12-16T08:30:32.092Z"
   },
   {
    "duration": 71,
    "start_time": "2021-12-16T08:30:32.100Z"
   },
   {
    "duration": 35,
    "start_time": "2021-12-16T08:30:32.177Z"
   },
   {
    "duration": 66,
    "start_time": "2021-12-16T08:30:32.216Z"
   },
   {
    "duration": 100,
    "start_time": "2021-12-16T08:30:32.285Z"
   },
   {
    "duration": 106,
    "start_time": "2021-12-16T08:30:32.388Z"
   },
   {
    "duration": 88,
    "start_time": "2021-12-16T08:30:32.496Z"
   },
   {
    "duration": 86,
    "start_time": "2021-12-16T08:30:32.587Z"
   },
   {
    "duration": 4,
    "start_time": "2021-12-16T08:30:32.676Z"
   },
   {
    "duration": 15,
    "start_time": "2021-12-16T08:30:32.682Z"
   },
   {
    "duration": 11,
    "start_time": "2021-12-16T08:30:32.699Z"
   },
   {
    "duration": 94,
    "start_time": "2021-12-16T08:30:32.712Z"
   },
   {
    "duration": 111,
    "start_time": "2021-12-16T08:30:32.808Z"
   },
   {
    "duration": 5,
    "start_time": "2021-12-16T08:30:32.921Z"
   },
   {
    "duration": 42,
    "start_time": "2021-12-16T08:30:32.928Z"
   },
   {
    "duration": 21,
    "start_time": "2021-12-16T08:30:32.973Z"
   },
   {
    "duration": 19,
    "start_time": "2021-12-16T08:30:32.997Z"
   },
   {
    "duration": 52,
    "start_time": "2021-12-16T08:30:33.019Z"
   },
   {
    "duration": 22,
    "start_time": "2021-12-16T08:30:33.074Z"
   },
   {
    "duration": 20,
    "start_time": "2021-12-16T08:30:33.098Z"
   },
   {
    "duration": 45,
    "start_time": "2021-12-16T08:30:33.123Z"
   },
   {
    "duration": 33,
    "start_time": "2021-12-16T08:30:33.171Z"
   },
   {
    "duration": 54,
    "start_time": "2021-12-16T08:30:33.207Z"
   },
   {
    "duration": 5,
    "start_time": "2021-12-16T08:30:33.264Z"
   },
   {
    "duration": 30,
    "start_time": "2021-12-16T08:30:33.272Z"
   },
   {
    "duration": 16,
    "start_time": "2021-12-16T08:30:33.304Z"
   },
   {
    "duration": 141,
    "start_time": "2021-12-16T08:31:06.528Z"
   },
   {
    "duration": 24,
    "start_time": "2021-12-16T08:31:14.928Z"
   },
   {
    "duration": 19,
    "start_time": "2021-12-16T08:31:39.209Z"
   },
   {
    "duration": 3,
    "start_time": "2021-12-16T08:38:49.024Z"
   },
   {
    "duration": 219,
    "start_time": "2021-12-16T08:38:49.031Z"
   },
   {
    "duration": 20,
    "start_time": "2021-12-16T08:38:49.253Z"
   },
   {
    "duration": 41,
    "start_time": "2021-12-16T08:38:49.276Z"
   },
   {
    "duration": 6,
    "start_time": "2021-12-16T08:38:49.320Z"
   },
   {
    "duration": 78,
    "start_time": "2021-12-16T08:38:49.328Z"
   },
   {
    "duration": 5,
    "start_time": "2021-12-16T08:38:49.408Z"
   },
   {
    "duration": 54,
    "start_time": "2021-12-16T08:38:49.415Z"
   },
   {
    "duration": 22,
    "start_time": "2021-12-16T08:38:49.473Z"
   },
   {
    "duration": 39,
    "start_time": "2021-12-16T08:38:49.498Z"
   },
   {
    "duration": 108,
    "start_time": "2021-12-16T08:38:49.540Z"
   },
   {
    "duration": 108,
    "start_time": "2021-12-16T08:38:49.659Z"
   },
   {
    "duration": 90,
    "start_time": "2021-12-16T08:38:49.770Z"
   },
   {
    "duration": 75,
    "start_time": "2021-12-16T08:38:49.863Z"
   },
   {
    "duration": 19,
    "start_time": "2021-12-16T08:38:49.940Z"
   },
   {
    "duration": 14,
    "start_time": "2021-12-16T08:38:49.961Z"
   },
   {
    "duration": 11,
    "start_time": "2021-12-16T08:38:49.978Z"
   },
   {
    "duration": 105,
    "start_time": "2021-12-16T08:38:49.992Z"
   },
   {
    "duration": 178,
    "start_time": "2021-12-16T08:38:50.100Z"
   },
   {
    "duration": 6,
    "start_time": "2021-12-16T08:38:50.282Z"
   },
   {
    "duration": 30,
    "start_time": "2021-12-16T08:38:50.290Z"
   },
   {
    "duration": 19,
    "start_time": "2021-12-16T08:38:50.323Z"
   },
   {
    "duration": 21,
    "start_time": "2021-12-16T08:38:50.344Z"
   },
   {
    "duration": 19,
    "start_time": "2021-12-16T08:38:50.367Z"
   },
   {
    "duration": 22,
    "start_time": "2021-12-16T08:38:50.388Z"
   },
   {
    "duration": 20,
    "start_time": "2021-12-16T08:38:50.412Z"
   },
   {
    "duration": 22,
    "start_time": "2021-12-16T08:38:50.437Z"
   },
   {
    "duration": 36,
    "start_time": "2021-12-16T08:38:50.462Z"
   },
   {
    "duration": 32,
    "start_time": "2021-12-16T08:38:50.500Z"
   },
   {
    "duration": 5,
    "start_time": "2021-12-16T08:38:50.534Z"
   },
   {
    "duration": 36,
    "start_time": "2021-12-16T08:38:50.542Z"
   },
   {
    "duration": 17,
    "start_time": "2021-12-16T08:38:50.580Z"
   },
   {
    "duration": 23,
    "start_time": "2021-12-16T08:38:50.599Z"
   },
   {
    "duration": 19,
    "start_time": "2021-12-16T08:38:50.624Z"
   },
   {
    "duration": 573,
    "start_time": "2021-12-16T08:38:50.645Z"
   },
   {
    "duration": 6,
    "start_time": "2021-12-16T08:45:01.378Z"
   },
   {
    "duration": 26,
    "start_time": "2021-12-16T08:45:08.778Z"
   },
   {
    "duration": 18,
    "start_time": "2021-12-16T08:45:08.807Z"
   },
   {
    "duration": 18,
    "start_time": "2021-12-16T08:45:13.650Z"
   },
   {
    "duration": 24,
    "start_time": "2021-12-16T08:45:13.670Z"
   },
   {
    "duration": 3,
    "start_time": "2021-12-16T08:45:37.579Z"
   },
   {
    "duration": 275,
    "start_time": "2021-12-16T08:45:37.585Z"
   },
   {
    "duration": 22,
    "start_time": "2021-12-16T08:45:37.864Z"
   },
   {
    "duration": 43,
    "start_time": "2021-12-16T08:45:37.889Z"
   },
   {
    "duration": 26,
    "start_time": "2021-12-16T08:45:37.935Z"
   },
   {
    "duration": 25,
    "start_time": "2021-12-16T08:45:37.964Z"
   },
   {
    "duration": 5,
    "start_time": "2021-12-16T08:45:37.992Z"
   },
   {
    "duration": 65,
    "start_time": "2021-12-16T08:45:37.999Z"
   },
   {
    "duration": 25,
    "start_time": "2021-12-16T08:45:38.068Z"
   },
   {
    "duration": 34,
    "start_time": "2021-12-16T08:45:38.096Z"
   },
   {
    "duration": 105,
    "start_time": "2021-12-16T08:45:38.133Z"
   },
   {
    "duration": 119,
    "start_time": "2021-12-16T08:45:38.240Z"
   },
   {
    "duration": 81,
    "start_time": "2021-12-16T08:45:38.362Z"
   },
   {
    "duration": 78,
    "start_time": "2021-12-16T08:45:38.460Z"
   },
   {
    "duration": 19,
    "start_time": "2021-12-16T08:45:38.540Z"
   },
   {
    "duration": 15,
    "start_time": "2021-12-16T08:45:38.562Z"
   },
   {
    "duration": 11,
    "start_time": "2021-12-16T08:45:38.579Z"
   },
   {
    "duration": 91,
    "start_time": "2021-12-16T08:45:38.593Z"
   },
   {
    "duration": 100,
    "start_time": "2021-12-16T08:45:38.686Z"
   },
   {
    "duration": 6,
    "start_time": "2021-12-16T08:45:38.788Z"
   },
   {
    "duration": 28,
    "start_time": "2021-12-16T08:45:38.797Z"
   },
   {
    "duration": 43,
    "start_time": "2021-12-16T08:45:38.827Z"
   },
   {
    "duration": 22,
    "start_time": "2021-12-16T08:45:38.873Z"
   },
   {
    "duration": 21,
    "start_time": "2021-12-16T08:45:38.898Z"
   },
   {
    "duration": 62,
    "start_time": "2021-12-16T08:45:38.921Z"
   },
   {
    "duration": 22,
    "start_time": "2021-12-16T08:45:38.986Z"
   },
   {
    "duration": 12,
    "start_time": "2021-12-16T08:45:39.013Z"
   },
   {
    "duration": 40,
    "start_time": "2021-12-16T08:45:39.061Z"
   },
   {
    "duration": 61,
    "start_time": "2021-12-16T08:45:39.104Z"
   },
   {
    "duration": 5,
    "start_time": "2021-12-16T08:45:39.168Z"
   },
   {
    "duration": 32,
    "start_time": "2021-12-16T08:45:39.176Z"
   },
   {
    "duration": 51,
    "start_time": "2021-12-16T08:45:39.210Z"
   },
   {
    "duration": 25,
    "start_time": "2021-12-16T08:45:39.264Z"
   },
   {
    "duration": 16,
    "start_time": "2021-12-16T08:45:39.292Z"
   },
   {
    "duration": 430,
    "start_time": "2021-12-16T08:47:04.982Z"
   },
   {
    "duration": 27,
    "start_time": "2021-12-16T08:47:31.119Z"
   },
   {
    "duration": 7,
    "start_time": "2021-12-16T08:47:41.165Z"
   },
   {
    "duration": 9,
    "start_time": "2021-12-16T08:49:06.695Z"
   },
   {
    "duration": 7,
    "start_time": "2021-12-16T08:49:09.855Z"
   },
   {
    "duration": 8,
    "start_time": "2021-12-16T08:49:17.325Z"
   },
   {
    "duration": 6,
    "start_time": "2021-12-16T08:49:25.535Z"
   },
   {
    "duration": 4,
    "start_time": "2021-12-16T08:50:23.724Z"
   },
   {
    "duration": 233,
    "start_time": "2021-12-16T08:50:23.731Z"
   },
   {
    "duration": 16,
    "start_time": "2021-12-16T08:50:23.967Z"
   },
   {
    "duration": 40,
    "start_time": "2021-12-16T08:50:23.986Z"
   },
   {
    "duration": 31,
    "start_time": "2021-12-16T08:50:24.029Z"
   },
   {
    "duration": 30,
    "start_time": "2021-12-16T08:50:24.063Z"
   },
   {
    "duration": 5,
    "start_time": "2021-12-16T08:50:24.096Z"
   },
   {
    "duration": 69,
    "start_time": "2021-12-16T08:50:24.104Z"
   },
   {
    "duration": 27,
    "start_time": "2021-12-16T08:50:24.177Z"
   },
   {
    "duration": 61,
    "start_time": "2021-12-16T08:50:24.207Z"
   },
   {
    "duration": 105,
    "start_time": "2021-12-16T08:50:24.271Z"
   },
   {
    "duration": 121,
    "start_time": "2021-12-16T08:50:24.378Z"
   },
   {
    "duration": 103,
    "start_time": "2021-12-16T08:50:24.501Z"
   },
   {
    "duration": 90,
    "start_time": "2021-12-16T08:50:24.606Z"
   },
   {
    "duration": 5,
    "start_time": "2021-12-16T08:50:24.699Z"
   },
   {
    "duration": 33,
    "start_time": "2021-12-16T08:50:24.707Z"
   },
   {
    "duration": 19,
    "start_time": "2021-12-16T08:50:24.743Z"
   },
   {
    "duration": 62,
    "start_time": "2021-12-16T08:50:24.764Z"
   },
   {
    "duration": 136,
    "start_time": "2021-12-16T08:50:24.828Z"
   },
   {
    "duration": 6,
    "start_time": "2021-12-16T08:50:24.967Z"
   },
   {
    "duration": 28,
    "start_time": "2021-12-16T08:50:24.976Z"
   },
   {
    "duration": 57,
    "start_time": "2021-12-16T08:50:25.006Z"
   },
   {
    "duration": 29,
    "start_time": "2021-12-16T08:50:25.067Z"
   },
   {
    "duration": 31,
    "start_time": "2021-12-16T08:50:25.099Z"
   },
   {
    "duration": 53,
    "start_time": "2021-12-16T08:50:25.132Z"
   },
   {
    "duration": 27,
    "start_time": "2021-12-16T08:50:25.187Z"
   },
   {
    "duration": 45,
    "start_time": "2021-12-16T08:50:25.219Z"
   },
   {
    "duration": 38,
    "start_time": "2021-12-16T08:50:25.267Z"
   },
   {
    "duration": 63,
    "start_time": "2021-12-16T08:50:25.308Z"
   },
   {
    "duration": 7,
    "start_time": "2021-12-16T08:50:25.374Z"
   },
   {
    "duration": 35,
    "start_time": "2021-12-16T08:50:25.384Z"
   },
   {
    "duration": 42,
    "start_time": "2021-12-16T08:50:25.422Z"
   },
   {
    "duration": 26,
    "start_time": "2021-12-16T08:50:25.466Z"
   },
   {
    "duration": 23,
    "start_time": "2021-12-16T08:50:25.496Z"
   },
   {
    "duration": 10,
    "start_time": "2021-12-16T08:50:25.560Z"
   },
   {
    "duration": 8,
    "start_time": "2021-12-16T08:50:25.572Z"
   },
   {
    "duration": 11,
    "start_time": "2021-12-16T08:50:25.583Z"
   },
   {
    "duration": 7,
    "start_time": "2021-12-16T08:50:25.599Z"
   },
   {
    "duration": 28,
    "start_time": "2021-12-16T08:50:42.845Z"
   },
   {
    "duration": 13,
    "start_time": "2021-12-16T08:50:57.536Z"
   },
   {
    "duration": 28,
    "start_time": "2021-12-16T08:51:02.875Z"
   },
   {
    "duration": 36,
    "start_time": "2021-12-16T08:51:31.087Z"
   },
   {
    "duration": 58,
    "start_time": "2021-12-16T08:52:13.205Z"
   },
   {
    "duration": 4,
    "start_time": "2021-12-16T08:52:48.406Z"
   },
   {
    "duration": 211,
    "start_time": "2021-12-16T08:52:48.413Z"
   },
   {
    "duration": 17,
    "start_time": "2021-12-16T08:52:48.627Z"
   },
   {
    "duration": 39,
    "start_time": "2021-12-16T08:52:48.659Z"
   },
   {
    "duration": 6,
    "start_time": "2021-12-16T08:52:48.701Z"
   },
   {
    "duration": 70,
    "start_time": "2021-12-16T08:52:48.710Z"
   },
   {
    "duration": 5,
    "start_time": "2021-12-16T08:52:48.782Z"
   },
   {
    "duration": 39,
    "start_time": "2021-12-16T08:52:48.790Z"
   },
   {
    "duration": 35,
    "start_time": "2021-12-16T08:52:48.832Z"
   },
   {
    "duration": 34,
    "start_time": "2021-12-16T08:52:48.870Z"
   },
   {
    "duration": 89,
    "start_time": "2021-12-16T08:52:48.907Z"
   },
   {
    "duration": 101,
    "start_time": "2021-12-16T08:52:48.998Z"
   },
   {
    "duration": 86,
    "start_time": "2021-12-16T08:52:49.101Z"
   },
   {
    "duration": 81,
    "start_time": "2021-12-16T08:52:49.189Z"
   },
   {
    "duration": 4,
    "start_time": "2021-12-16T08:52:49.272Z"
   },
   {
    "duration": 15,
    "start_time": "2021-12-16T08:52:49.278Z"
   },
   {
    "duration": 9,
    "start_time": "2021-12-16T08:52:49.296Z"
   },
   {
    "duration": 65,
    "start_time": "2021-12-16T08:52:49.308Z"
   },
   {
    "duration": 93,
    "start_time": "2021-12-16T08:52:49.375Z"
   },
   {
    "duration": 4,
    "start_time": "2021-12-16T08:52:49.471Z"
   },
   {
    "duration": 27,
    "start_time": "2021-12-16T08:52:49.477Z"
   },
   {
    "duration": 18,
    "start_time": "2021-12-16T08:52:49.506Z"
   },
   {
    "duration": 20,
    "start_time": "2021-12-16T08:52:49.528Z"
   },
   {
    "duration": 22,
    "start_time": "2021-12-16T08:52:49.550Z"
   },
   {
    "duration": 22,
    "start_time": "2021-12-16T08:52:49.574Z"
   },
   {
    "duration": 20,
    "start_time": "2021-12-16T08:52:49.598Z"
   },
   {
    "duration": 11,
    "start_time": "2021-12-16T08:52:49.620Z"
   },
   {
    "duration": 47,
    "start_time": "2021-12-16T08:52:49.633Z"
   },
   {
    "duration": 31,
    "start_time": "2021-12-16T08:52:49.683Z"
   },
   {
    "duration": 5,
    "start_time": "2021-12-16T08:52:49.716Z"
   },
   {
    "duration": 37,
    "start_time": "2021-12-16T08:52:49.723Z"
   },
   {
    "duration": 17,
    "start_time": "2021-12-16T08:52:49.763Z"
   },
   {
    "duration": 21,
    "start_time": "2021-12-16T08:52:49.782Z"
   },
   {
    "duration": 15,
    "start_time": "2021-12-16T08:52:49.805Z"
   },
   {
    "duration": 10,
    "start_time": "2021-12-16T08:52:49.822Z"
   },
   {
    "duration": 9,
    "start_time": "2021-12-16T08:52:49.834Z"
   },
   {
    "duration": 19,
    "start_time": "2021-12-16T08:52:49.846Z"
   },
   {
    "duration": 8,
    "start_time": "2021-12-16T08:52:49.867Z"
   },
   {
    "duration": 5,
    "start_time": "2021-12-16T08:53:49.278Z"
   },
   {
    "duration": 304,
    "start_time": "2021-12-16T08:53:49.286Z"
   },
   {
    "duration": 24,
    "start_time": "2021-12-16T08:53:49.595Z"
   },
   {
    "duration": 59,
    "start_time": "2021-12-16T08:53:49.623Z"
   },
   {
    "duration": 5,
    "start_time": "2021-12-16T08:53:49.685Z"
   },
   {
    "duration": 26,
    "start_time": "2021-12-16T08:53:49.693Z"
   },
   {
    "duration": 39,
    "start_time": "2021-12-16T08:53:49.721Z"
   },
   {
    "duration": 35,
    "start_time": "2021-12-16T08:53:49.764Z"
   },
   {
    "duration": 28,
    "start_time": "2021-12-16T08:53:49.802Z"
   },
   {
    "duration": 60,
    "start_time": "2021-12-16T08:53:49.832Z"
   },
   {
    "duration": 123,
    "start_time": "2021-12-16T08:53:49.894Z"
   },
   {
    "duration": 148,
    "start_time": "2021-12-16T08:53:50.020Z"
   },
   {
    "duration": 99,
    "start_time": "2021-12-16T08:53:50.171Z"
   },
   {
    "duration": 131,
    "start_time": "2021-12-16T08:53:50.274Z"
   },
   {
    "duration": 5,
    "start_time": "2021-12-16T08:53:50.408Z"
   },
   {
    "duration": 22,
    "start_time": "2021-12-16T08:53:50.416Z"
   },
   {
    "duration": 29,
    "start_time": "2021-12-16T08:53:50.441Z"
   },
   {
    "duration": 114,
    "start_time": "2021-12-16T08:53:50.473Z"
   },
   {
    "duration": 170,
    "start_time": "2021-12-16T08:53:50.590Z"
   },
   {
    "duration": 7,
    "start_time": "2021-12-16T08:53:50.763Z"
   },
   {
    "duration": 38,
    "start_time": "2021-12-16T08:53:50.773Z"
   },
   {
    "duration": 58,
    "start_time": "2021-12-16T08:53:50.815Z"
   },
   {
    "duration": 33,
    "start_time": "2021-12-16T08:53:50.881Z"
   },
   {
    "duration": 56,
    "start_time": "2021-12-16T08:53:50.918Z"
   },
   {
    "duration": 37,
    "start_time": "2021-12-16T08:53:50.978Z"
   },
   {
    "duration": 47,
    "start_time": "2021-12-16T08:53:51.018Z"
   },
   {
    "duration": 19,
    "start_time": "2021-12-16T08:53:51.068Z"
   },
   {
    "duration": 72,
    "start_time": "2021-12-16T08:53:51.090Z"
   },
   {
    "duration": 43,
    "start_time": "2021-12-16T08:53:51.165Z"
   },
   {
    "duration": 7,
    "start_time": "2021-12-16T08:53:51.212Z"
   },
   {
    "duration": 74,
    "start_time": "2021-12-16T08:53:51.223Z"
   },
   {
    "duration": 25,
    "start_time": "2021-12-16T08:53:51.301Z"
   },
   {
    "duration": 55,
    "start_time": "2021-12-16T08:53:51.329Z"
   },
   {
    "duration": 24,
    "start_time": "2021-12-16T08:53:51.387Z"
   },
   {
    "duration": 45,
    "start_time": "2021-12-16T08:53:51.414Z"
   },
   {
    "duration": 9,
    "start_time": "2021-12-16T08:53:51.462Z"
   },
   {
    "duration": 12,
    "start_time": "2021-12-16T08:53:51.474Z"
   },
   {
    "duration": 9,
    "start_time": "2021-12-16T08:53:51.489Z"
   }
  ],
  "colab": {
   "collapsed_sections": [
    "E0vqbgi9ay0H",
    "VUC88oWjTJw2"
   ],
   "name": "yandex_music_project_2021.2.ipynb",
   "provenance": []
  },
  "kernelspec": {
   "display_name": "Python 3 (ipykernel)",
   "language": "python",
   "name": "python3"
  },
  "language_info": {
   "codemirror_mode": {
    "name": "ipython",
    "version": 3
   },
   "file_extension": ".py",
   "mimetype": "text/x-python",
   "name": "python",
   "nbconvert_exporter": "python",
   "pygments_lexer": "ipython3",
   "version": "3.9.7"
  },
  "toc": {
   "base_numbering": 1,
   "nav_menu": {},
   "number_sections": true,
   "sideBar": true,
   "skip_h1_title": true,
   "title_cell": "Table of Contents",
   "title_sidebar": "Contents",
   "toc_cell": false,
   "toc_position": {},
   "toc_section_display": true,
   "toc_window_display": true
  }
 },
 "nbformat": 4,
 "nbformat_minor": 1
}
